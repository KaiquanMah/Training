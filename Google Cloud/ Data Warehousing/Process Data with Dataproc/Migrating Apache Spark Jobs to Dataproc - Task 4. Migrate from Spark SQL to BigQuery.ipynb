{
 "cells": [
  {
   "cell_type": "code",
   "execution_count": 1,
   "id": "59ffb5ac-61c6-4500-9a54-0b47ed34426f",
   "metadata": {
    "tags": []
   },
   "outputs": [],
   "source": [
    "# %pip install google-cloud-bigquery==1.25.0\n",
    "# %pip install google-resumable-media==0.6.0\n",
    "# %pip install google-cloud-storage==1.30.0"
   ]
  },
  {
   "cell_type": "code",
   "execution_count": 2,
   "id": "21802408-aac8-4aa8-a6e9-20b0b48ed3b1",
   "metadata": {
    "tags": []
   },
   "outputs": [],
   "source": [
    "# pip install -U google-cloud-bigquery google-api-core==1.33.2"
   ]
  },
  {
   "cell_type": "code",
   "execution_count": 3,
   "id": "7252b6be-228c-4b92-bb0b-fb660888c5f2",
   "metadata": {
    "tags": []
   },
   "outputs": [
    {
     "name": "stdout",
     "output_type": "stream",
     "text": [
      "BigQuery error in mk operation: Dataset 'qwiklabs-gcp-03-1aa4ca09e378:sparktobq'\n",
      "already exists.\n",
      "Waiting on bqjob_r48e8be476e493cb7_0000018d4e422196_1 ... (9s) Current status: DONE   \n"
     ]
    }
   ],
   "source": [
    "BUCKET_list = !gcloud info --format='value(config.project)'\n",
    "BUCKET=BUCKET_list[0]\n",
    "!bq --location=US mk sparktobq\n",
    "!bq --location=US load --autodetect --source_format=CSV sparktobq.kdd_cup_raw gs://$BUCKET/kddcup.data_10_percent.gz"
   ]
  },
  {
   "cell_type": "code",
   "execution_count": 4,
   "id": "06f65160-57e2-4e48-8d7c-96a5e1547e99",
   "metadata": {
    "tags": []
   },
   "outputs": [
    {
     "data": {
      "application/vnd.jupyter.widget-view+json": {
       "model_id": "dc3a54cfbc394a19993d47493155b6f9",
       "version_major": 2,
       "version_minor": 0
      },
      "text/plain": [
       "Query is running:   0%|          |"
      ]
     },
     "metadata": {},
     "output_type": "display_data"
    },
    {
     "data": {
      "application/vnd.jupyter.widget-view+json": {
       "model_id": "11974391388f4d119ee464debc5c1155",
       "version_major": 2,
       "version_minor": 0
      },
      "text/plain": [
       "Downloading:   0%|          |"
      ]
     },
     "metadata": {},
     "output_type": "display_data"
    },
    {
     "data": {
      "text/html": [
       "<div>\n",
       "<style scoped>\n",
       "    .dataframe tbody tr th:only-of-type {\n",
       "        vertical-align: middle;\n",
       "    }\n",
       "\n",
       "    .dataframe tbody tr th {\n",
       "        vertical-align: top;\n",
       "    }\n",
       "\n",
       "    .dataframe thead th {\n",
       "        text-align: right;\n",
       "    }\n",
       "</style>\n",
       "<table border=\"1\" class=\"dataframe\">\n",
       "  <thead>\n",
       "    <tr style=\"text-align: right;\">\n",
       "      <th></th>\n",
       "      <th>int64_field_0</th>\n",
       "      <th>string_field_1</th>\n",
       "      <th>string_field_2</th>\n",
       "      <th>string_field_3</th>\n",
       "      <th>int64_field_4</th>\n",
       "      <th>int64_field_5</th>\n",
       "      <th>int64_field_6</th>\n",
       "      <th>int64_field_7</th>\n",
       "      <th>int64_field_8</th>\n",
       "      <th>int64_field_9</th>\n",
       "      <th>...</th>\n",
       "      <th>int64_field_32</th>\n",
       "      <th>double_field_33</th>\n",
       "      <th>double_field_34</th>\n",
       "      <th>double_field_35</th>\n",
       "      <th>double_field_36</th>\n",
       "      <th>double_field_37</th>\n",
       "      <th>double_field_38</th>\n",
       "      <th>double_field_39</th>\n",
       "      <th>double_field_40</th>\n",
       "      <th>string_field_41</th>\n",
       "    </tr>\n",
       "  </thead>\n",
       "  <tbody>\n",
       "    <tr>\n",
       "      <th>0</th>\n",
       "      <td>25602</td>\n",
       "      <td>tcp</td>\n",
       "      <td>IRC</td>\n",
       "      <td>RSTR</td>\n",
       "      <td>3658</td>\n",
       "      <td>8518</td>\n",
       "      <td>0</td>\n",
       "      <td>0</td>\n",
       "      <td>0</td>\n",
       "      <td>0</td>\n",
       "      <td>...</td>\n",
       "      <td>12</td>\n",
       "      <td>0.31</td>\n",
       "      <td>0.08</td>\n",
       "      <td>0.03</td>\n",
       "      <td>0.0</td>\n",
       "      <td>0.00</td>\n",
       "      <td>0.00</td>\n",
       "      <td>0.31</td>\n",
       "      <td>1.00</td>\n",
       "      <td>normal.</td>\n",
       "    </tr>\n",
       "    <tr>\n",
       "      <th>1</th>\n",
       "      <td>6155</td>\n",
       "      <td>tcp</td>\n",
       "      <td>IRC</td>\n",
       "      <td>RSTO</td>\n",
       "      <td>1112</td>\n",
       "      <td>4968</td>\n",
       "      <td>0</td>\n",
       "      <td>0</td>\n",
       "      <td>0</td>\n",
       "      <td>0</td>\n",
       "      <td>...</td>\n",
       "      <td>8</td>\n",
       "      <td>0.50</td>\n",
       "      <td>0.12</td>\n",
       "      <td>0.06</td>\n",
       "      <td>0.0</td>\n",
       "      <td>0.00</td>\n",
       "      <td>0.00</td>\n",
       "      <td>0.44</td>\n",
       "      <td>0.88</td>\n",
       "      <td>normal.</td>\n",
       "    </tr>\n",
       "    <tr>\n",
       "      <th>2</th>\n",
       "      <td>0</td>\n",
       "      <td>tcp</td>\n",
       "      <td>IRC</td>\n",
       "      <td>SF</td>\n",
       "      <td>81</td>\n",
       "      <td>18</td>\n",
       "      <td>0</td>\n",
       "      <td>0</td>\n",
       "      <td>0</td>\n",
       "      <td>0</td>\n",
       "      <td>...</td>\n",
       "      <td>13</td>\n",
       "      <td>0.28</td>\n",
       "      <td>0.04</td>\n",
       "      <td>0.02</td>\n",
       "      <td>0.0</td>\n",
       "      <td>0.00</td>\n",
       "      <td>0.00</td>\n",
       "      <td>0.24</td>\n",
       "      <td>0.85</td>\n",
       "      <td>normal.</td>\n",
       "    </tr>\n",
       "    <tr>\n",
       "      <th>3</th>\n",
       "      <td>238</td>\n",
       "      <td>tcp</td>\n",
       "      <td>IRC</td>\n",
       "      <td>RSTO</td>\n",
       "      <td>132</td>\n",
       "      <td>1247</td>\n",
       "      <td>0</td>\n",
       "      <td>0</td>\n",
       "      <td>0</td>\n",
       "      <td>0</td>\n",
       "      <td>...</td>\n",
       "      <td>22</td>\n",
       "      <td>0.13</td>\n",
       "      <td>0.01</td>\n",
       "      <td>0.01</td>\n",
       "      <td>0.0</td>\n",
       "      <td>0.01</td>\n",
       "      <td>0.05</td>\n",
       "      <td>0.10</td>\n",
       "      <td>0.73</td>\n",
       "      <td>normal.</td>\n",
       "    </tr>\n",
       "    <tr>\n",
       "      <th>4</th>\n",
       "      <td>0</td>\n",
       "      <td>tcp</td>\n",
       "      <td>IRC</td>\n",
       "      <td>RSTO</td>\n",
       "      <td>0</td>\n",
       "      <td>0</td>\n",
       "      <td>0</td>\n",
       "      <td>0</td>\n",
       "      <td>0</td>\n",
       "      <td>0</td>\n",
       "      <td>...</td>\n",
       "      <td>23</td>\n",
       "      <td>0.13</td>\n",
       "      <td>0.01</td>\n",
       "      <td>0.01</td>\n",
       "      <td>0.0</td>\n",
       "      <td>0.01</td>\n",
       "      <td>0.04</td>\n",
       "      <td>0.10</td>\n",
       "      <td>0.74</td>\n",
       "      <td>normal.</td>\n",
       "    </tr>\n",
       "  </tbody>\n",
       "</table>\n",
       "<p>5 rows × 42 columns</p>\n",
       "</div>"
      ],
      "text/plain": [
       "   int64_field_0 string_field_1 string_field_2 string_field_3  int64_field_4  \\\n",
       "0          25602            tcp            IRC           RSTR           3658   \n",
       "1           6155            tcp            IRC           RSTO           1112   \n",
       "2              0            tcp            IRC             SF             81   \n",
       "3            238            tcp            IRC           RSTO            132   \n",
       "4              0            tcp            IRC           RSTO              0   \n",
       "\n",
       "   int64_field_5  int64_field_6  int64_field_7  int64_field_8  int64_field_9  \\\n",
       "0           8518              0              0              0              0   \n",
       "1           4968              0              0              0              0   \n",
       "2             18              0              0              0              0   \n",
       "3           1247              0              0              0              0   \n",
       "4              0              0              0              0              0   \n",
       "\n",
       "   ...  int64_field_32  double_field_33  double_field_34  double_field_35  \\\n",
       "0  ...              12             0.31             0.08             0.03   \n",
       "1  ...               8             0.50             0.12             0.06   \n",
       "2  ...              13             0.28             0.04             0.02   \n",
       "3  ...              22             0.13             0.01             0.01   \n",
       "4  ...              23             0.13             0.01             0.01   \n",
       "\n",
       "   double_field_36  double_field_37  double_field_38  double_field_39  \\\n",
       "0              0.0             0.00             0.00             0.31   \n",
       "1              0.0             0.00             0.00             0.44   \n",
       "2              0.0             0.00             0.00             0.24   \n",
       "3              0.0             0.01             0.05             0.10   \n",
       "4              0.0             0.01             0.04             0.10   \n",
       "\n",
       "   double_field_40  string_field_41  \n",
       "0             1.00          normal.  \n",
       "1             0.88          normal.  \n",
       "2             0.85          normal.  \n",
       "3             0.73          normal.  \n",
       "4             0.74          normal.  \n",
       "\n",
       "[5 rows x 42 columns]"
      ]
     },
     "execution_count": 4,
     "metadata": {},
     "output_type": "execute_result"
    }
   ],
   "source": [
    "%%bigquery\n",
    "SELECT * FROM sparktobq.kdd_cup_raw LIMIT 5"
   ]
  },
  {
   "cell_type": "code",
   "execution_count": 5,
   "id": "7f58d526-d558-468d-b757-9d6d57072c31",
   "metadata": {
    "tags": []
   },
   "outputs": [
    {
     "data": {
      "application/vnd.jupyter.widget-view+json": {
       "model_id": "12b831df801a468e88815bdae73238d5",
       "version_major": 2,
       "version_minor": 0
      },
      "text/plain": [
       "Query is running:   0%|          |"
      ]
     },
     "metadata": {},
     "output_type": "display_data"
    },
    {
     "data": {
      "text/html": [
       "<div>\n",
       "<style scoped>\n",
       "    .dataframe tbody tr th:only-of-type {\n",
       "        vertical-align: middle;\n",
       "    }\n",
       "\n",
       "    .dataframe tbody tr th {\n",
       "        vertical-align: top;\n",
       "    }\n",
       "\n",
       "    .dataframe thead th {\n",
       "        text-align: right;\n",
       "    }\n",
       "</style>\n",
       "<table border=\"1\" class=\"dataframe\">\n",
       "  <thead>\n",
       "    <tr style=\"text-align: right;\">\n",
       "      <th></th>\n",
       "    </tr>\n",
       "  </thead>\n",
       "  <tbody>\n",
       "  </tbody>\n",
       "</table>\n",
       "</div>"
      ],
      "text/plain": [
       "Empty DataFrame\n",
       "Columns: []\n",
       "Index: []"
      ]
     },
     "execution_count": 5,
     "metadata": {},
     "output_type": "execute_result"
    }
   ],
   "source": [
    "%%bigquery\n",
    "\n",
    "CREATE OR REPLACE TABLE sparktobq.kdd_cup AS\n",
    "\n",
    "SELECT\n",
    "    int64_field_0 AS duration,\n",
    "    string_field_1 AS protocol_type,\n",
    "    string_field_2 AS service,\n",
    "    string_field_3 AS flag,\n",
    "    int64_field_4 AS src_bytes,\n",
    "    int64_field_5 AS dst_bytes,\n",
    "    int64_field_6 AS wrong_fragment,\n",
    "    int64_field_7 AS urgent,\n",
    "    int64_field_8 AS hot,\n",
    "    int64_field_9 AS num_failed_logins,\n",
    "    int64_field_11 AS num_compromised,\n",
    "    int64_field_13 AS su_attempted,\n",
    "    int64_field_14 AS num_root,\n",
    "    int64_field_15 AS num_file_creations,\n",
    "    string_field_41 AS label\n",
    "FROM\n",
    "    sparktobq.kdd_cup_raw"
   ]
  },
  {
   "cell_type": "code",
   "execution_count": 6,
   "id": "c282d229-469f-4e92-819c-3143ceaee6bc",
   "metadata": {
    "tags": []
   },
   "outputs": [
    {
     "data": {
      "application/vnd.jupyter.widget-view+json": {
       "model_id": "480412894d21437f9037377634521439",
       "version_major": 2,
       "version_minor": 0
      },
      "text/plain": [
       "Query is running:   0%|          |"
      ]
     },
     "metadata": {},
     "output_type": "display_data"
    },
    {
     "data": {
      "application/vnd.jupyter.widget-view+json": {
       "model_id": "db6a8d008435434baf7bd2289c09d984",
       "version_major": 2,
       "version_minor": 0
      },
      "text/plain": [
       "Downloading:   0%|          |"
      ]
     },
     "metadata": {},
     "output_type": "display_data"
    },
    {
     "data": {
      "text/html": [
       "<div>\n",
       "<style scoped>\n",
       "    .dataframe tbody tr th:only-of-type {\n",
       "        vertical-align: middle;\n",
       "    }\n",
       "\n",
       "    .dataframe tbody tr th {\n",
       "        vertical-align: top;\n",
       "    }\n",
       "\n",
       "    .dataframe thead th {\n",
       "        text-align: right;\n",
       "    }\n",
       "</style>\n",
       "<table border=\"1\" class=\"dataframe\">\n",
       "  <thead>\n",
       "    <tr style=\"text-align: right;\">\n",
       "      <th></th>\n",
       "      <th>duration</th>\n",
       "      <th>protocol_type</th>\n",
       "      <th>service</th>\n",
       "      <th>flag</th>\n",
       "      <th>src_bytes</th>\n",
       "      <th>dst_bytes</th>\n",
       "      <th>wrong_fragment</th>\n",
       "      <th>urgent</th>\n",
       "      <th>hot</th>\n",
       "      <th>num_failed_logins</th>\n",
       "      <th>num_compromised</th>\n",
       "      <th>su_attempted</th>\n",
       "      <th>num_root</th>\n",
       "      <th>num_file_creations</th>\n",
       "      <th>label</th>\n",
       "    </tr>\n",
       "  </thead>\n",
       "  <tbody>\n",
       "    <tr>\n",
       "      <th>0</th>\n",
       "      <td>0</td>\n",
       "      <td>tcp</td>\n",
       "      <td>bgp</td>\n",
       "      <td>S0</td>\n",
       "      <td>0</td>\n",
       "      <td>0</td>\n",
       "      <td>0</td>\n",
       "      <td>0</td>\n",
       "      <td>0</td>\n",
       "      <td>0</td>\n",
       "      <td>0</td>\n",
       "      <td>0</td>\n",
       "      <td>0</td>\n",
       "      <td>0</td>\n",
       "      <td>neptune.</td>\n",
       "    </tr>\n",
       "    <tr>\n",
       "      <th>1</th>\n",
       "      <td>0</td>\n",
       "      <td>tcp</td>\n",
       "      <td>bgp</td>\n",
       "      <td>S0</td>\n",
       "      <td>0</td>\n",
       "      <td>0</td>\n",
       "      <td>0</td>\n",
       "      <td>0</td>\n",
       "      <td>0</td>\n",
       "      <td>0</td>\n",
       "      <td>0</td>\n",
       "      <td>0</td>\n",
       "      <td>0</td>\n",
       "      <td>0</td>\n",
       "      <td>neptune.</td>\n",
       "    </tr>\n",
       "    <tr>\n",
       "      <th>2</th>\n",
       "      <td>0</td>\n",
       "      <td>tcp</td>\n",
       "      <td>ctf</td>\n",
       "      <td>S0</td>\n",
       "      <td>0</td>\n",
       "      <td>0</td>\n",
       "      <td>0</td>\n",
       "      <td>0</td>\n",
       "      <td>0</td>\n",
       "      <td>0</td>\n",
       "      <td>0</td>\n",
       "      <td>0</td>\n",
       "      <td>0</td>\n",
       "      <td>0</td>\n",
       "      <td>neptune.</td>\n",
       "    </tr>\n",
       "    <tr>\n",
       "      <th>3</th>\n",
       "      <td>0</td>\n",
       "      <td>tcp</td>\n",
       "      <td>ctf</td>\n",
       "      <td>S0</td>\n",
       "      <td>0</td>\n",
       "      <td>0</td>\n",
       "      <td>0</td>\n",
       "      <td>0</td>\n",
       "      <td>0</td>\n",
       "      <td>0</td>\n",
       "      <td>0</td>\n",
       "      <td>0</td>\n",
       "      <td>0</td>\n",
       "      <td>0</td>\n",
       "      <td>neptune.</td>\n",
       "    </tr>\n",
       "    <tr>\n",
       "      <th>4</th>\n",
       "      <td>0</td>\n",
       "      <td>tcp</td>\n",
       "      <td>ctf</td>\n",
       "      <td>S0</td>\n",
       "      <td>0</td>\n",
       "      <td>0</td>\n",
       "      <td>0</td>\n",
       "      <td>0</td>\n",
       "      <td>0</td>\n",
       "      <td>0</td>\n",
       "      <td>0</td>\n",
       "      <td>0</td>\n",
       "      <td>0</td>\n",
       "      <td>0</td>\n",
       "      <td>neptune.</td>\n",
       "    </tr>\n",
       "  </tbody>\n",
       "</table>\n",
       "</div>"
      ],
      "text/plain": [
       "   duration protocol_type service flag  src_bytes  dst_bytes  wrong_fragment  \\\n",
       "0         0           tcp     bgp   S0          0          0               0   \n",
       "1         0           tcp     bgp   S0          0          0               0   \n",
       "2         0           tcp     ctf   S0          0          0               0   \n",
       "3         0           tcp     ctf   S0          0          0               0   \n",
       "4         0           tcp     ctf   S0          0          0               0   \n",
       "\n",
       "   urgent  hot  num_failed_logins  num_compromised  su_attempted  num_root  \\\n",
       "0       0    0                  0                0             0         0   \n",
       "1       0    0                  0                0             0         0   \n",
       "2       0    0                  0                0             0         0   \n",
       "3       0    0                  0                0             0         0   \n",
       "4       0    0                  0                0             0         0   \n",
       "\n",
       "   num_file_creations     label  \n",
       "0                   0  neptune.  \n",
       "1                   0  neptune.  \n",
       "2                   0  neptune.  \n",
       "3                   0  neptune.  \n",
       "4                   0  neptune.  "
      ]
     },
     "execution_count": 6,
     "metadata": {},
     "output_type": "execute_result"
    }
   ],
   "source": [
    "%%bigquery\n",
    "SELECT * FROM sparktobq.kdd_cup LIMIT 5"
   ]
  },
  {
   "cell_type": "code",
   "execution_count": 7,
   "id": "d231d4fe-f903-4bb8-baf0-6073abc14d24",
   "metadata": {
    "tags": []
   },
   "outputs": [
    {
     "data": {
      "application/vnd.jupyter.widget-view+json": {
       "model_id": "6a7b71da6d804f7eb72fbb68312ab374",
       "version_major": 2,
       "version_minor": 0
      },
      "text/plain": [
       "Query is running:   0%|          |"
      ]
     },
     "metadata": {},
     "output_type": "display_data"
    },
    {
     "data": {
      "application/vnd.jupyter.widget-view+json": {
       "model_id": "4fab9dca93d34d36a3bb17a732291da5",
       "version_major": 2,
       "version_minor": 0
      },
      "text/plain": [
       "Downloading:   0%|          |"
      ]
     },
     "metadata": {},
     "output_type": "display_data"
    }
   ],
   "source": [
    "%%bigquery connections_by_protocol\n",
    "SELECT COUNT(*) AS count\n",
    "FROM sparktobq.kdd_cup\n",
    "GROUP BY protocol_type\n",
    "ORDER by count ASC"
   ]
  },
  {
   "cell_type": "code",
   "execution_count": 8,
   "id": "9736040c-705d-4e1a-ab03-da0c9ff970a8",
   "metadata": {
    "tags": []
   },
   "outputs": [
    {
     "data": {
      "application/vnd.jupyter.widget-view+json": {
       "model_id": "142b29f5ed7a4b8ea61b533a2e6acbe9",
       "version_major": 2,
       "version_minor": 0
      },
      "text/plain": [
       "Query is running:   0%|          |"
      ]
     },
     "metadata": {},
     "output_type": "display_data"
    },
    {
     "data": {
      "application/vnd.jupyter.widget-view+json": {
       "model_id": "ac06bf9adab94bd483847acd02a5464c",
       "version_major": 2,
       "version_minor": 0
      },
      "text/plain": [
       "Downloading:   0%|          |"
      ]
     },
     "metadata": {},
     "output_type": "display_data"
    }
   ],
   "source": [
    "%%bigquery attack_stats\n",
    "    SELECT\n",
    "        protocol_type,\n",
    "        CASE label\n",
    "            WHEN 'normal.' THEN 'no attack'\n",
    "            ELSE 'attack'\n",
    "        END AS state,\n",
    "        COUNT(*) as total_freq,\n",
    "        ROUND(AVG(src_bytes), 2) as mean_src_bytes,\n",
    "        ROUND(AVG(dst_bytes), 2) as mean_dst_bytes,\n",
    "        ROUND(AVG(duration), 2) as mean_duration,\n",
    "        SUM(num_failed_logins) as total_failed_logins,\n",
    "        SUM(num_compromised) as total_compromised,\n",
    "        SUM(num_file_creations) as total_file_creations,\n",
    "        SUM(su_attempted) as total_root_attempts,\n",
    "        SUM(num_root) as total_root_acceses\n",
    "    FROM sparktobq.kdd_cup\n",
    "    GROUP BY protocol_type, state\n",
    "    ORDER BY 3 DESC"
   ]
  },
  {
   "cell_type": "code",
   "execution_count": 9,
   "id": "aa7ff34d-40a1-45b7-b2a8-61894ccb5950",
   "metadata": {
    "collapsed": true,
    "jupyter": {
     "outputs_hidden": true
    },
    "tags": []
   },
   "outputs": [
    {
     "data": {
      "image/png": "[encoded data removed]",
      "text/plain": [
       "<Figure size 1000x2500 with 9 Axes>"
      ]
     },
     "metadata": {},
     "output_type": "display_data"
    }
   ],
   "source": [
    "%matplotlib inline\n",
    "ax = attack_stats.plot.bar(x='protocol_type', subplots=True, figsize=(10,25))"
   ]
  },
  {
   "cell_type": "code",
   "execution_count": 10,
   "id": "7238a976-783b-4e66-a37a-0c9f929377ac",
   "metadata": {
    "tags": []
   },
   "outputs": [],
   "source": [
    "import google.cloud.storage as gcs\n",
    "\n",
    "# save locally\n",
    "ax[0].get_figure().savefig('report.png');\n",
    "connections_by_protocol.to_csv(\"connections_by_protocol.csv\")\n",
    "\n",
    "# upload to GCS\n",
    "bucket = gcs.Client().get_bucket(BUCKET)\n",
    "for blob in bucket.list_blobs(prefix='sparktobq/'):\n",
    "    blob.delete()\n",
    "for fname in ['report.png', 'connections_by_protocol.csv']:\n",
    "    bucket.blob('sparktobq/{}'.format(fname)).upload_from_filename(fname)"
   ]
  },
  {
   "cell_type": "code",
   "execution_count": null,
   "id": "2907a41d-9a41-454f-a3ee-7fe915fd8ba1",
   "metadata": {},
   "outputs": [],
   "source": []
  },
  {
   "cell_type": "code",
   "execution_count": null,
   "id": "4cb1a9ff-5813-4565-ad3f-170d9be70305",
   "metadata": {},
   "outputs": [],
   "source": []
  },
  {
   "cell_type": "code",
   "execution_count": null,
   "id": "18b0d28d-8204-4ffe-b25e-05589049ec1d",
   "metadata": {},
   "outputs": [],
   "source": []
  },
  {
   "cell_type": "code",
   "execution_count": null,
   "id": "05f2eb48-6c5e-46b2-9962-d2b376342803",
   "metadata": {},
   "outputs": [],
   "source": []
  },
  {
   "cell_type": "code",
   "execution_count": null,
   "id": "b3570452-f7ba-44d0-aa72-bdbbb0b46b18",
   "metadata": {},
   "outputs": [],
   "source": []
  }
 ],
 "metadata": {
  "environment": {
   "kernel": "python3",
   "name": "common-cpu.m115",
   "type": "gcloud",
   "uri": "gcr.io/deeplearning-platform-release/base-cpu:m115"
  },
  "kernelspec": {
   "display_name": "Python 3 (Local)",
   "language": "python",
   "name": "python3"
  },
  "language_info": {
   "codemirror_mode": {
    "name": "ipython",
    "version": 3
   },
   "file_extension": ".py",
   "mimetype": "text/x-python",
   "name": "python",
   "nbconvert_exporter": "python",
   "pygments_lexer": "ipython3",
   "version": "3.10.13"
  }
 },
 "nbformat": 4,
 "nbformat_minor": 5
}
