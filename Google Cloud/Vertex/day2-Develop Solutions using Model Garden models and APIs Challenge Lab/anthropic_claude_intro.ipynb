{
  "cells": [
    {
      "cell_type": "code",
      "execution_count": 1,
      "metadata": {
        "cellView": "form",
        "id": "9A9NkTRTfo2I"
      },
      "outputs": [],
      "source": [
        "# Copyright 2025 Google LLC\n",
        "#\n",
        "# Licensed under the Apache License, Version 2.0 (the \"License\");\n",
        "# you may not use this file except in compliance with the License.\n",
        "# You may obtain a copy of the License at\n",
        "#\n",
        "#     https://www.apache.org/licenses/LICENSE-2.0\n",
        "#\n",
        "# Unless required by applicable law or agreed to in writing, software\n",
        "# distributed under the License is distributed on an \"AS IS\" BASIS,\n",
        "# WITHOUT WARRANTIES OR CONDITIONS OF ANY KIND, either express or implied.\n",
        "# See the License for the specific language governing permissions and\n",
        "# limitations under the License."
      ]
    },
    {
      "cell_type": "code",
      "source": [
        "# examples of text generation and vision for both unary (meaning non-streaming) and streaming calls"
      ],
      "metadata": {
        "id": "iKAcCU9LZSsf"
      },
      "execution_count": 2,
      "outputs": []
    },
    {
      "cell_type": "markdown",
      "metadata": {
        "id": "IPprg6Oz0QDs"
      },
      "source": [
        "# Getting Started with Claude Models\n",
        "<table align=\"left\">\n",
        "  <td style=\"text-align: center\">\n",
        "    <a href=\"https://colab.research.google.com/github/GoogleCloudPlatform/vertex-ai-samples/blob/main/notebooks/official/generative_ai/anthropic_claude_intro.ipynb\">\n",
        "      <img src=\"https://www.gstatic.com/pantheon/images/bigquery/welcome_page/colab-logo.svg\" alt=\"Google Colaboratory logo\"><br> Open in Colab\n",
        "    </a>\n",
        "  </td>\n",
        "  <td style=\"text-align: center\">\n",
        "    <a href=\"https://console.cloud.google.com/vertex-ai/colab/import/https:%2F%2Fraw.githubusercontent.com%2FGoogleCloudPlatform%2Fvertex-ai-samples%2Fmain%2Fnotebooks%2Fofficial%2Fgenerative_ai%2Fanthropic_claude_intro.ipynb\">\n",
        "      <img width=\"32px\" src=\"https://lh3.googleusercontent.com/JmcxdQi-qOpctIvWKgPtrzZdJJK-J3sWE1RsfjZNwshCFgE_9fULcNpuXYTilIR2hjwN\" alt=\"Google Cloud Colab Enterprise logo\"><br> Open in Colab Enterprise\n",
        "    </a>\n",
        "  </td>\n",
        "  <td style=\"text-align: center\">                                                                             \n",
        "    <a href=\"https://console.cloud.google.com/vertex-ai/notebooks/deploy-notebook?download_url=https://raw.githubusercontent.com/GoogleCloudPlatform/vertex-ai-samples/main/notebooks/official/generative_ai/anthropic_claude_intro.ipynb\">\n",
        "      <img src=\"https://www.gstatic.com/images/branding/gcpiconscolors/vertexai/v1/32px.svg\" alt=\"Vertex AI logo\"><br> Open in Workbench\n",
        "    </a>\n",
        "  </td>\n",
        "  <td style=\"text-align: center\">\n",
        "    <a href=\"https://github.com/GoogleCloudPlatform/vertex-ai-samples/blob/main/notebooks/official/generative_ai/anthropic_claude_intro.ipynb\">\n",
        "      <img width=\"32px\" src=\"https://www.svgrepo.com/download/217753/github.svg\" alt=\"GitHub logo\"><br> View on GitHub\n",
        "    </a>\n",
        "  </td>\n",
        "  \n",
        "</table>"
      ]
    },
    {
      "cell_type": "markdown",
      "metadata": {
        "id": "8fK_rdvvx1iZ"
      },
      "source": [
        "## Overview\n",
        "\n",
        "### Claude on Vertex AI\n",
        "\n",
        "Anthropic Claude models on Vertex AI offer fully managed and serverless models are offered as managed APIs. To use a Claude model on Vertex AI, send a request directly to the Vertex AI API endpoint.\n",
        "\n",
        "You can stream your Claude responses to reduce the end-user latency perception. A streamed response uses server-sent events (SSE) to incrementally stream the response.\n",
        "\n",
        "### Available Anthropic Claude models\n",
        "\n",
        "#### Claude Sonnet 4.5\n",
        "Anthropic's most powerful model for powering real-world agents, with industry leading capabilities around coding, computer use, cybersecurity, and working with office files like spreadsheets.\n",
        "\n",
        "#### Claude Opus 4.1\n",
        "\n",
        "The next generation of Anthropic’s most powerful model yet, Claude Opus 4.1 is an industry leader for coding. It delivers sustained performance on long-running tasks that require focused effort and thousands of steps, significantly expanding what AI agents can solve. Claude Opus 4.1 is ideal for powering frontier agent products and features.\n",
        "\n",
        "#### Claude Sonnet 4\n",
        "Anthropic's mid-size model with superior intelligence for high-volume uses in coding, in-depth research, agents, & more.\n",
        "\n",
        "#### Claude Opus 4\n",
        "Anthropic’s most powerful model yet and the state-of-the-art coding model. It delivers sustained performance on long-running tasks that require focused effort and thousands of steps, significantly expanding what AI agents can solve. Claude Opus 4 is ideal for powering frontier agent products and features.\n",
        "\n",
        "#### Claude 3.7 Sonnet\n",
        "Industry-leading model for coding and powering AI agents—and the first Claude model to offer extended thinking.\n",
        "\n",
        "#### Claude 3.5 Sonnet v2 (Deprecated)\n",
        "The upgraded Claude 3.5 Sonnet is now state-of-the-art for a variety of tasks including real-world software engineering, enhanced agentic capabilities, and computer use.\n",
        "\n",
        "#### Claude 3.5 Haiku\n",
        "Claude 3.5 Haiku, Anthropic’s fastest and most cost-effective model, excels at use cases like code and test case generation, sub-agents, and user-facing chatbots.\n",
        "\n",
        "#### Claude 3.5 Sonnet (Deprecated)\n",
        "Anthropic's most powerful AI model. Claude 3.5 Sonnet outperforms competitor models and Claude 3 Opus at higher speeds and lower cost.\n",
        "\n",
        "#### Claude 3 Opus (Deprecated)\n",
        "Claude 3 Opus is Anthropic's second-most intelligent AI model, with top-level performance on highly complex tasks.\n",
        "\n",
        "#### Claude 3 Haiku\n",
        "Anthropic Claude 3 Haiku is Anthropic's fastest, most compact vision and text model for near-instant responses to simple queries, meant for seamless AI experiences mimicking human interactions.\n",
        "\n",
        "\n",
        "## Objective\n",
        "\n",
        "This notebook shows how to use **Vertex AI API** and **Anthropic’s Vertex SDK for Python** to call the Claude models on Vertex AI API.\n",
        "\n",
        "For more information and list of supported regions, see the [Use Claude](https://cloud.google.com/vertex-ai/generative-ai/docs/partner-models/use-claude) documentation.\n"
      ]
    },
    {
      "cell_type": "markdown",
      "metadata": {
        "id": "HcJCV6Dw5usD"
      },
      "source": [
        "## Vertex AI API"
      ]
    },
    {
      "cell_type": "markdown",
      "metadata": {
        "id": "nwYvaaW25jYS"
      },
      "source": [
        "## Get Started\n"
      ]
    },
    {
      "cell_type": "markdown",
      "metadata": {
        "id": "0660e339bf3f"
      },
      "source": [
        "### Install required packages\n"
      ]
    },
    {
      "cell_type": "code",
      "execution_count": 3,
      "metadata": {
        "id": "754611260f53"
      },
      "outputs": [],
      "source": [
        "%pip install -U -q httpx"
      ]
    },
    {
      "cell_type": "markdown",
      "metadata": {
        "id": "6a5bea26f60f"
      },
      "source": [
        "### Authenticate your notebook environment (Colab only)\n",
        "\n",
        "Authenticate your environment on Google Colab.\n"
      ]
    },
    {
      "cell_type": "code",
      "execution_count": 3,
      "metadata": {
        "id": "c97be6a73155",
        "colab": {
          "base_uri": "https://localhost:8080/"
        },
        "outputId": "b8038242-0aff-4946-a78b-ed92cc1e8499"
      },
      "outputs": [
        {
          "output_type": "stream",
          "name": "stdout",
          "text": [
            "WARNING: google.colab.auth.authenticate_user() is not supported in Colab Enterprise.\n"
          ]
        }
      ],
      "source": [
        "import sys\n",
        "\n",
        "if \"google.colab\" in sys.modules:\n",
        "\n",
        "    from google.colab import auth\n",
        "\n",
        "    auth.authenticate_user()"
      ]
    },
    {
      "cell_type": "markdown",
      "metadata": {
        "id": "2fxZn4SAbxdl"
      },
      "source": [
        "#### Select Claude model"
      ]
    },
    {
      "cell_type": "code",
      "execution_count": 2,
      "metadata": {
        "id": "Y8X70FTSbx7U"
      },
      "outputs": [],
      "source": [
        "MODEL = \"claude-3-7-sonnet@20250219\"  # @param [\"claude-sonnet-4-5@20250929\",\"claude-opus-4-1@20250805\",\"claude-sonnet-4@20250514\",\"claude-opus-4@20250514\",\"claude-3-7-sonnet@20250219\", \"claude-3-5-sonnet-v2@20241022\", \"claude-3-5-haiku@20241022\", \"claude-3-5-sonnet@20240620\", \"claude-3-opus@20240229\", \"claude-3-haiku@20240307\" ]\n",
        "if MODEL == \"claude-sonnet-4-5@20250929\":\n",
        "    available_regions = [\"us-east5\", \"europe-west1\", \"asia-southeast1\", \"GLOBAL\"]\n",
        "elif MODEL == \"claude-opus-4-1@20250805\":\n",
        "    available_regions = [\"us-east5\", \"europe-west4\", \"GLOBAL\"]\n",
        "elif MODEL == \"claude-sonnet-4@20250514\":\n",
        "    available_regions = [\"us-east5\", \"europe-west4\", \"GLOBAL\"]\n",
        "elif MODEL == \"claude-opus-4@20250514\":\n",
        "    available_regions = [\"us-east5\", \"europe-west4\", \"GLOBAL\"]\n",
        "elif MODEL == \"claude-3-7-sonnet@20250219\":\n",
        "    available_regions = [\"us-east5\", \"europe-west1\", \"europe-west4\", \"GLOBAL\"]\n",
        "elif MODEL == \"claude-3-5-sonnet-v2@20241022\":\n",
        "    available_regions = [\"us-east5\", \"europe-west1\", \"GLOBAL\"]\n",
        "elif MODEL == \"claude-3-5-haiku@20241022\":\n",
        "    available_regions = [\"us-east5\"]\n",
        "elif MODEL == \"claude-3-5-sonnet@20240620\":\n",
        "    available_regions = [\"us-east5\", \"europe-west1\", \"asia-southeast1\"]\n",
        "elif MODEL == \"claude-3-opus@20240229\":\n",
        "    available_regions = [\"us-east5\"]\n",
        "elif MODEL == \"claude-3-haiku@20240307\":\n",
        "    available_regions = [\"us-east5\", \"europe-west1\", \"asia-southeast1\"]"
      ]
    },
    {
      "cell_type": "markdown",
      "metadata": {
        "id": "bpuX3sKtexlK"
      },
      "source": [
        "#### Select a location"
      ]
    },
    {
      "cell_type": "code",
      "execution_count": 4,
      "metadata": {
        "id": "dHl8xW45ex_O",
        "colab": {
          "base_uri": "https://localhost:8080/",
          "height": 49,
          "referenced_widgets": [
            "5d513146e385462ab887a914bdb97702",
            "13773849dcf84ec786f2ffdc7f2e5b46",
            "5804e61182144e298448e229cd0763b3"
          ]
        },
        "outputId": "b1efe531-3dd9-4b5b-fcd3-7105dfb52e87"
      },
      "outputs": [
        {
          "output_type": "display_data",
          "data": {
            "text/plain": [
              "Dropdown(description='Select a location:', options=('us-east5', 'europe-west1', 'europe-west4', 'GLOBAL'), sty…"
            ],
            "application/vnd.jupyter.widget-view+json": {
              "version_major": 2,
              "version_minor": 0,
              "model_id": "5d513146e385462ab887a914bdb97702"
            }
          },
          "metadata": {}
        }
      ],
      "source": [
        "import ipywidgets as widgets\n",
        "from IPython.display import display\n",
        "\n",
        "dropdown = widgets.Dropdown(\n",
        "    options=available_regions,\n",
        "    description=\"Select a location:\",\n",
        "    font_weight=\"bold\",\n",
        "    style={\"description_width\": \"initial\"},\n",
        ")\n",
        "\n",
        "\n",
        "def dropdown_eventhandler(change):\n",
        "    global LOCATION\n",
        "    if change[\"type\"] == \"change\" and change[\"name\"] == \"value\":\n",
        "        LOCATION = change.new\n",
        "        print(\"Selected:\", change.new)\n",
        "\n",
        "\n",
        "LOCATION = dropdown.value\n",
        "dropdown.observe(dropdown_eventhandler, names=\"value\")\n",
        "display(dropdown)"
      ]
    },
    {
      "cell_type": "markdown",
      "metadata": {
        "id": "3q58icinBjoK"
      },
      "source": [
        "#### Set Google Cloud project and model information\n",
        "\n",
        "To get started using Vertex AI, you must have an existing Google Cloud project and [enable the Vertex AI API](https://console.cloud.google.com/flows/enableapi?apiid=aiplatform.googleapis.com). Learn more about [setting up a project and a development environment](https://cloud.google.com/vertex-ai/docs/start/cloud-environment)."
      ]
    },
    {
      "cell_type": "code",
      "execution_count": 5,
      "metadata": {
        "id": "hltNx33t6cSZ"
      },
      "outputs": [],
      "source": [
        "PROJECT_ID = \"qwiklabs-asl-01-752ad6b30635\" # \"[your-project-id]\"  # @param {type:\"string\"}\n",
        "\n",
        "if LOCATION == \"GLOBAL\":\n",
        "    ENDPOINT = \"https://aiplatform.googleapis.com\"\n",
        "else:\n",
        "    ENDPOINT = f\"https://{LOCATION}-aiplatform.googleapis.com\"\n",
        "ENDPOINT = f\"https://{LOCATION}-aiplatform.googleapis.com\"\n",
        "\n",
        "if not PROJECT_ID or PROJECT_ID == \"[your-project-id]\":\n",
        "    raise ValueError(\"Please set your PROJECT_ID\")"
      ]
    },
    {
      "cell_type": "markdown",
      "metadata": {
        "id": "4NAstKRFBt4N"
      },
      "source": [
        "#### Import required libraries"
      ]
    },
    {
      "cell_type": "code",
      "execution_count": 6,
      "metadata": {
        "id": "QZEFLE6a6bqy"
      },
      "outputs": [],
      "source": [
        "import base64\n",
        "import json\n",
        "\n",
        "import httpx\n",
        "import requests\n",
        "from IPython.display import Image"
      ]
    },
    {
      "cell_type": "markdown",
      "metadata": {
        "id": "5ahw-uFjCAbo"
      },
      "source": [
        "### Text generation"
      ]
    },
    {
      "cell_type": "markdown",
      "metadata": {
        "id": "61107099357a"
      },
      "source": [
        "#### Unary call\n",
        "\n",
        "Sends a POST request to the specified API endpoint to get a response from the model for a banana bread recipe using the provided payload."
      ]
    },
    {
      "cell_type": "code",
      "execution_count": 7,
      "metadata": {
        "id": "4zFz260B50oi",
        "colab": {
          "base_uri": "https://localhost:8080/"
        },
        "outputId": "bc563b3d-bb84-4922-8753-4d0be0114210"
      },
      "outputs": [
        {
          "output_type": "stream",
          "name": "stdout",
          "text": [
            "{\"id\":\"msg_vrtx_012DvdugoBUqCUoRSttwAYRC\",\"type\":\"message\",\"role\":\"assistant\",\"model\":\"claude-3-7-sonnet-20250219\",\"content\":[{\"type\":\"text\",\"text\":\"# Classic Banana Bread Recipe\\n\\n## Ingredients\\n- 3-4 very ripe bananas, mashed (about 1½ cups)\\n- ⅓ cup melted butter\\n- 1 teaspoon baking soda\\n- ¼ teaspoon salt\\n- ¾ cup sugar (can use up to 1 cup if you prefer sweeter)\\n- 1 large egg, beaten\"}],\"stop_reason\":\"max_tokens\",\"stop_sequence\":null,\"usage\":{\"input_tokens\":15,\"cache_creation_input_tokens\":0,\"cache_read_input_tokens\":0,\"output_tokens\":100}}"
          ]
        }
      ],
      "source": [
        "PAYLOAD = {\n",
        "    \"anthropic_version\": \"vertex-2023-10-16\",\n",
        "    \"messages\": [{\"role\": \"user\", \"content\": \"Send me a recipe for banana bread.\"}],\n",
        "    \"max_tokens\": 100,\n",
        "    \"stream\": False,\n",
        "}\n",
        "\n",
        "request = json.dumps(PAYLOAD)\n",
        "!curl -X POST -H \"Authorization: Bearer $(gcloud auth print-access-token)\" -H \"Content-Type: application/json\" {ENDPOINT}/v1/projects/{PROJECT_ID}/locations/{LOCATION}/publishers/anthropic/models/{MODEL}:rawPredict -d '{request}'"
      ]
    },
    {
      "cell_type": "markdown",
      "metadata": {
        "id": "e6f52fae9379"
      },
      "source": [
        "#### Streaming call\n",
        "\n",
        "Sends a POST request to the specified API endpoint to stream a response from the model for a banana bread recipe using the provided payload."
      ]
    },
    {
      "cell_type": "code",
      "execution_count": 8,
      "metadata": {
        "id": "c99761dcd7da",
        "colab": {
          "base_uri": "https://localhost:8080/"
        },
        "outputId": "6cd3a03e-5597-4fff-9215-fdb3e270d9c0"
      },
      "outputs": [
        {
          "output_type": "stream",
          "name": "stdout",
          "text": [
            "event: message_start\n",
            "data: {\"type\":\"message_start\",\"message\":{\"id\":\"msg_vrtx_01SYyaKcnueNqb6DS3YP2itg\",\"type\":\"message\",\"role\":\"assistant\",\"model\":\"claude-3-7-sonnet-20250219\",\"content\":[],\"stop_reason\":null,\"stop_sequence\":null,\"usage\":{\"input_tokens\":15,\"cache_creation_input_tokens\":0,\"cache_read_input_tokens\":0,\"output_tokens\":1}}            }\n",
            "\n",
            "event: ping\n",
            "data: {\"type\": \"ping\"}\n",
            "\n",
            "event: content_block_start\n",
            "data: {\"type\":\"content_block_start\",\"index\":0,\"content_block\":{\"type\":\"text\",\"text\":\"\"}      }\n",
            "\n",
            "event: content_block_delta\n",
            "data: {\"type\":\"content_block_delta\",\"index\":0,\"delta\":{\"type\":\"text_delta\",\"text\":\"#\"}            }\n",
            "\n",
            "event: content_block_delta\n",
            "data: {\"type\":\"content_block_delta\",\"index\":0,\"delta\":{\"type\":\"text_delta\",\"text\":\" Classic\"}              }\n",
            "\n",
            "event: content_block_delta\n",
            "data: {\"type\":\"content_block_delta\",\"index\":0,\"delta\":{\"type\":\"text_delta\",\"text\":\" Banana Bread Recipe\"}         }\n",
            "\n",
            "event: content_block_delta\n",
            "data: {\"type\":\"content_block_delta\",\"index\":0,\"delta\":{\"type\":\"text_delta\",\"text\":\"\\n\\n## Ingredients\"}               }\n",
            "\n",
            "event: content_block_delta\n",
            "data: {\"type\":\"content_block_delta\",\"index\":0,\"delta\":{\"type\":\"text_delta\",\"text\":\"\\n- 3 r\"}      }\n",
            "\n",
            "event: content_block_delta\n",
            "data: {\"type\":\"content_block_delta\",\"index\":0,\"delta\":{\"type\":\"text_delta\",\"text\":\"ipe bananas,\"}              }\n",
            "\n",
            "event: content_block_delta\n",
            "data: {\"type\":\"content_block_delta\",\"index\":0,\"delta\":{\"type\":\"text_delta\",\"text\":\" mashed\\n- \"}              }\n",
            "\n",
            "event: content_block_delta\n",
            "data: {\"type\":\"content_block_delta\",\"index\":0,\"delta\":{\"type\":\"text_delta\",\"text\":\"1/\"}       }\n",
            "\n",
            "event: content_block_delta\n",
            "data: {\"type\":\"content_block_delta\",\"index\":0,\"delta\":{\"type\":\"text_delta\",\"text\":\"3\"}   }\n",
            "\n",
            "event: content_block_delta\n",
            "data: {\"type\":\"content_block_delta\",\"index\":0,\"delta\":{\"type\":\"text_delta\",\"text\":\" cup mel\"}      }\n",
            "\n",
            "event: content_block_delta\n",
            "data: {\"type\":\"content_block_delta\",\"index\":0,\"delta\":{\"type\":\"text_delta\",\"text\":\"ted butter\\n- \"}   }\n",
            "\n",
            "event: content_block_delta\n",
            "data: {\"type\":\"content_block_delta\",\"index\":0,\"delta\":{\"type\":\"text_delta\",\"text\":\"1 \"}     }\n",
            "\n",
            "event: content_block_delta\n",
            "data: {\"type\":\"content_block_delta\",\"index\":0,\"delta\":{\"type\":\"text_delta\",\"text\":\"te\"}}\n",
            "\n",
            "event: content_block_delta\n",
            "data: {\"type\":\"content_block_delta\",\"index\":0,\"delta\":{\"type\":\"text_delta\",\"text\":\"aspoon b\"}}\n",
            "\n",
            "event: content_block_delta\n",
            "data: {\"type\":\"content_block_delta\",\"index\":0,\"delta\":{\"type\":\"text_delta\",\"text\":\"aking soda\\n-\"}     }\n",
            "\n",
            "event: content_block_delta\n",
            "data: {\"type\":\"content_block_delta\",\"index\":0,\"delta\":{\"type\":\"text_delta\",\"text\":\" Pinch of salt\"}            }\n",
            "\n",
            "event: content_block_delta\n",
            "data: {\"type\":\"content_block_delta\",\"index\":0,\"delta\":{\"type\":\"text_delta\",\"text\":\"\\n- 3\"}           }\n",
            "\n",
            "event: content_block_delta\n",
            "data: {\"type\":\"content_block_delta\",\"index\":0,\"delta\":{\"type\":\"text_delta\",\"text\":\"/4 cup sugar\"}         }\n",
            "\n",
            "event: content_block_delta\n",
            "data: {\"type\":\"content_block_delta\",\"index\":0,\"delta\":{\"type\":\"text_delta\",\"text\":\"\\n- 1 \"}            }\n",
            "\n",
            "event: content_block_delta\n",
            "data: {\"type\":\"content_block_delta\",\"index\":0,\"delta\":{\"type\":\"text_delta\",\"text\":\"large egg,\"}           }\n",
            "\n",
            "event: content_block_delta\n",
            "data: {\"type\":\"content_block_delta\",\"index\":0,\"delta\":{\"type\":\"text_delta\",\"text\":\" beaten\\n- 1\"}       }\n",
            "\n",
            "event: content_block_delta\n",
            "data: {\"type\":\"content_block_delta\",\"index\":0,\"delta\":{\"type\":\"text_delta\",\"text\":\" teaspoon vanilla\"}     }\n",
            "\n",
            "event: content_block_delta\n",
            "data: {\"type\":\"content_block_delta\",\"index\":0,\"delta\":{\"type\":\"text_delta\",\"text\":\" extract\\n- 1\"}     }\n",
            "\n",
            "event: content_block_delta\n",
            "data: {\"type\":\"content_block_delta\",\"index\":0,\"delta\":{\"type\":\"text_delta\",\"text\":\" 1/2 \"}           }\n",
            "\n",
            "event: content_block_delta\n",
            "data: {\"type\":\"content_block_delta\",\"index\":0,\"delta\":{\"type\":\"text_delta\",\"text\":\"cups all-purpose flour\"}               }\n",
            "\n",
            "event: content_block_delta\n",
            "data: {\"type\":\"content_block_delta\",\"index\":0,\"delta\":{\"type\":\"text_delta\",\"text\":\"\\n\\n## Instructions\\n1\"}               }\n",
            "\n",
            "event: content_block_stop\n",
            "data: {\"type\":\"content_block_stop\",\"index\":0}\n",
            "\n",
            "event: message_delta\n",
            "data: {\"type\":\"message_delta\",\"delta\":{\"stop_reason\":\"max_tokens\",\"stop_sequence\":null},\"usage\":{\"output_tokens\":100}}\n",
            "\n",
            "event: message_stop\n",
            "data: {\"type\":\"message_stop\"    }\n",
            "\n"
          ]
        }
      ],
      "source": [
        "PAYLOAD = {\n",
        "    \"anthropic_version\": \"vertex-2023-10-16\",\n",
        "    \"messages\": [{\"role\": \"user\", \"content\": \"Send me a recipe for banana bread.\"}],\n",
        "    \"max_tokens\": 100,\n",
        "    \"stream\": True,\n",
        "}\n",
        "\n",
        "request = json.dumps(PAYLOAD)\n",
        "!curl -X POST -H \"Authorization: Bearer $(gcloud auth print-access-token)\" -H \"Content-Type: application/json\" {ENDPOINT}/v1/projects/{PROJECT_ID}/locations/{LOCATION}/publishers/anthropic/models/{MODEL}:streamRawPredict -d '{request}'"
      ]
    },
    {
      "cell_type": "markdown",
      "metadata": {
        "id": "lfTx9TIKCBHo"
      },
      "source": [
        "### Vision"
      ]
    },
    {
      "cell_type": "markdown",
      "metadata": {
        "id": "3d627efff784"
      },
      "source": [
        "#### Encode And Preview Image\n",
        "\n",
        "We fetch sample images from Wikipedia using the httpx library, but you can use whatever image sources work for you."
      ]
    },
    {
      "cell_type": "code",
      "execution_count": 9,
      "metadata": {
        "id": "7f1954211edf",
        "colab": {
          "base_uri": "https://localhost:8080/",
          "height": 217
        },
        "outputId": "6c28f661-d250-46a5-9c74-936d3137a66c"
      },
      "outputs": [
        {
          "output_type": "execute_result",
          "data": {
            "image/png": "[encoded data removed]",
            "text/plain": [
              "<IPython.core.display.Image object>"
            ]
          },
          "metadata": {
            "image/png": {
              "width": 300,
              "height": 200
            }
          },
          "execution_count": 9
        }
      ],
      "source": [
        "image_url = \"https://upload.wikimedia.org/wikipedia/commons/thumb/a/a7/Camponotus_flavomarginatus_ant.jpg/300px-Camponotus_flavomarginatus_ant.jpg\"\n",
        "image_b64 = base64.b64encode(httpx.get(image_url).content).decode(\"utf-8\")\n",
        "\n",
        "response = requests.get(image_url)\n",
        "image = Image(response.content, width=300, height=200)\n",
        "\n",
        "image"
      ]
    },
    {
      "cell_type": "markdown",
      "metadata": {
        "id": "9771877508aa"
      },
      "source": [
        "#### Unary call\n",
        "\n",
        "Sends a POST request to the specified API endpoint to get a response from the model analyzing the content of an image, provided as base64-encoded data, along with the text prompt."
      ]
    },
    {
      "cell_type": "code",
      "execution_count": 10,
      "metadata": {
        "id": "JjrE75TF8Nsn",
        "colab": {
          "base_uri": "https://localhost:8080/"
        },
        "outputId": "e19538f0-d3b6-4183-aa2f-fec25c0ac894"
      },
      "outputs": [
        {
          "output_type": "stream",
          "name": "stdout",
          "text": [
            "{\"id\":\"msg_vrtx_01T6k8QSdjtg3n5Nx6JasGan\",\"type\":\"message\",\"role\":\"assistant\",\"model\":\"claude-3-7-sonnet-20250219\",\"content\":[{\"type\":\"text\",\"text\":\"This image shows a black ant in a close-up view. The ant is standing on what appears to be a textured surface, possibly concrete or stone. You can clearly see the ant's body segments, slender legs, and antennae. The ant appears to be carrying something small, which could be food or another small object, in its mandibles. The background is blurred, creating a nice depth of field that keeps the focus on the ant itself. This is a great example\"}],\"stop_reason\":\"max_tokens\",\"stop_sequence\":null,\"usage\":{\"input_tokens\":105,\"cache_creation_input_tokens\":0,\"cache_read_input_tokens\":0,\"output_tokens\":100}}"
          ]
        }
      ],
      "source": [
        "PAYLOAD = {\n",
        "    \"anthropic_version\": \"vertex-2023-10-16\",\n",
        "    \"messages\": [\n",
        "        {\n",
        "            \"role\": \"user\",\n",
        "            \"content\": [\n",
        "                {\n",
        "                    \"type\": \"image\",\n",
        "                    \"source\": {\n",
        "                        \"type\": \"base64\",\n",
        "                        \"media_type\": \"image/jpeg\",\n",
        "                        \"data\": image_b64,\n",
        "                    },\n",
        "                },\n",
        "                {\"type\": \"text\", \"text\": \"What is in this image?\"},\n",
        "            ],\n",
        "        }\n",
        "    ],\n",
        "    \"max_tokens\": 100,\n",
        "    \"stream\": False,\n",
        "}\n",
        "\n",
        "request = json.dumps(PAYLOAD)\n",
        "!curl -X POST -H \"Authorization: Bearer $(gcloud auth print-access-token)\" -H \"Content-Type: application/json\" {ENDPOINT}/v1/projects/{PROJECT_ID}/locations/{LOCATION}/publishers/anthropic/models/{MODEL}:rawPredict -d '{request}'"
      ]
    },
    {
      "cell_type": "markdown",
      "metadata": {
        "id": "2ecd941bf6cc"
      },
      "source": [
        "#### Streaming call\n",
        "\n",
        "Sends a POST request to the specified API endpoint to stream a response from the model analyzing the content of an image, provided as base64-encoded data, along with the text prompt."
      ]
    },
    {
      "cell_type": "code",
      "execution_count": 11,
      "metadata": {
        "id": "59ca7a4e6426",
        "colab": {
          "base_uri": "https://localhost:8080/"
        },
        "outputId": "8442cdc4-f14c-4f45-c8f8-56ed12f067c0"
      },
      "outputs": [
        {
          "output_type": "stream",
          "name": "stdout",
          "text": [
            "event: message_start\n",
            "data: {\"type\":\"message_start\",\"message\":{\"id\":\"msg_vrtx_01NygB2SJNNabLkqAn8cLvPQ\",\"type\":\"message\",\"role\":\"assistant\",\"model\":\"claude-3-7-sonnet-20250219\",\"content\":[],\"stop_reason\":null,\"stop_sequence\":null,\"usage\":{\"input_tokens\":105,\"cache_creation_input_tokens\":0,\"cache_read_input_tokens\":0,\"output_tokens\":1}}              }\n",
            "\n",
            "event: ping\n",
            "data: {\"type\": \"ping\"}\n",
            "\n",
            "event: content_block_start\n",
            "data: {\"type\":\"content_block_start\",\"index\":0,\"content_block\":{\"type\":\"text\",\"text\":\"\"}    }\n",
            "\n",
            "event: content_block_delta\n",
            "data: {\"type\":\"content_block_delta\",\"index\":0,\"delta\":{\"type\":\"text_delta\",\"text\":\"This\"}             }\n",
            "\n",
            "event: content_block_delta\n",
            "data: {\"type\":\"content_block_delta\",\"index\":0,\"delta\":{\"type\":\"text_delta\",\"text\":\" image shows a black\"} }\n",
            "\n",
            "event: content_block_delta\n",
            "data: {\"type\":\"content_block_delta\",\"index\":0,\"delta\":{\"type\":\"text_delta\",\"text\":\" ant\"}          }\n",
            "\n",
            "event: content_block_delta\n",
            "data: {\"type\":\"content_block_delta\",\"index\":0,\"delta\":{\"type\":\"text_delta\",\"text\":\" in\"}       }\n",
            "\n",
            "event: content_block_delta\n",
            "data: {\"type\":\"content_block_delta\",\"index\":0,\"delta\":{\"type\":\"text_delta\",\"text\":\" close\"}           }\n",
            "\n",
            "event: content_block_delta\n",
            "data: {\"type\":\"content_block_delta\",\"index\":0,\"delta\":{\"type\":\"text_delta\",\"text\":\"-up detail\"}   }\n",
            "\n",
            "event: content_block_delta\n",
            "data: {\"type\":\"content_block_delta\",\"index\":0,\"delta\":{\"type\":\"text_delta\",\"text\":\". The ant is\"}       }\n",
            "\n",
            "event: content_block_delta\n",
            "data: {\"type\":\"content_block_delta\",\"index\":0,\"delta\":{\"type\":\"text_delta\",\"text\":\" standing\"}     }\n",
            "\n",
            "event: content_block_delta\n",
            "data: {\"type\":\"content_block_delta\",\"index\":0,\"delta\":{\"type\":\"text_delta\",\"text\":\" on what\"}          }\n",
            "\n",
            "event: content_block_delta\n",
            "data: {\"type\":\"content_block_delta\",\"index\":0,\"delta\":{\"type\":\"text_delta\",\"text\":\" appears to be a text\"}  }\n",
            "\n",
            "event: content_block_delta\n",
            "data: {\"type\":\"content_block_delta\",\"index\":0,\"delta\":{\"type\":\"text_delta\",\"text\":\"ured surface, possibly concrete\"}         }\n",
            "\n",
            "event: content_block_delta\n",
            "data: {\"type\":\"content_block_delta\",\"index\":0,\"delta\":{\"type\":\"text_delta\",\"text\":\" or stone. You\"}               }\n",
            "\n",
            "event: content_block_delta\n",
            "data: {\"type\":\"content_block_delta\",\"index\":0,\"delta\":{\"type\":\"text_delta\",\"text\":\" can see the ant's\"}  }\n",
            "\n",
            "event: content_block_delta\n",
            "data: {\"type\":\"content_block_delta\",\"index\":0,\"delta\":{\"type\":\"text_delta\",\"text\":\" sl\"}       }\n",
            "\n",
            "event: content_block_delta\n",
            "data: {\"type\":\"content_block_delta\",\"index\":0,\"delta\":{\"type\":\"text_delta\",\"text\":\"ender body, long\"}             }\n",
            "\n",
            "event: content_block_delta\n",
            "data: {\"type\":\"content_block_delta\",\"index\":0,\"delta\":{\"type\":\"text_delta\",\"text\":\" legs\"}    }\n",
            "\n",
            "event: content_block_delta\n",
            "data: {\"type\":\"content_block_delta\",\"index\":0,\"delta\":{\"type\":\"text_delta\",\"text\":\", and antennae\"}     }\n",
            "\n",
            "event: content_block_delta\n",
            "data: {\"type\":\"content_block_delta\",\"index\":0,\"delta\":{\"type\":\"text_delta\",\"text\":\" quite\"}   }\n",
            "\n",
            "event: content_block_delta\n",
            "data: {\"type\":\"content_block_delta\",\"index\":0,\"delta\":{\"type\":\"text_delta\",\"text\":\" clearly. The ant appears\"}    }\n",
            "\n",
            "event: content_block_delta\n",
            "data: {\"type\":\"content_block_delta\",\"index\":0,\"delta\":{\"type\":\"text_delta\",\"text\":\" to be carrying\"}        }\n",
            "\n",
            "event: content_block_delta\n",
            "data: {\"type\":\"content_block_delta\",\"index\":0,\"delta\":{\"type\":\"text_delta\",\"text\":\" something small\"}           }\n",
            "\n",
            "event: content_block_delta\n",
            "data: {\"type\":\"content_block_delta\",\"index\":0,\"delta\":{\"type\":\"text_delta\",\"text\":\" in its mandibles,\"}            }\n",
            "\n",
            "event: content_block_delta\n",
            "data: {\"type\":\"content_block_delta\",\"index\":0,\"delta\":{\"type\":\"text_delta\",\"text\":\" which is\"}}\n",
            "\n",
            "event: content_block_delta\n",
            "data: {\"type\":\"content_block_delta\",\"index\":0,\"delta\":{\"type\":\"text_delta\",\"text\":\" a\"}         }\n",
            "\n",
            "event: content_block_delta\n",
            "data: {\"type\":\"content_block_delta\",\"index\":0,\"delta\":{\"type\":\"text_delta\",\"text\":\" common\"}}\n",
            "\n",
            "event: content_block_delta\n",
            "data: {\"type\":\"content_block_delta\",\"index\":0,\"delta\":{\"type\":\"text_delta\",\"text\":\" behavior\"}         }\n",
            "\n",
            "event: content_block_delta\n",
            "data: {\"type\":\"content_block_delta\",\"index\":0,\"delta\":{\"type\":\"text_delta\",\"text\":\" as\"}            }\n",
            "\n",
            "event: content_block_delta\n",
            "data: {\"type\":\"content_block_delta\",\"index\":0,\"delta\":{\"type\":\"text_delta\",\"text\":\" ants often\"}         }\n",
            "\n",
            "event: content_block_delta\n",
            "data: {\"type\":\"content_block_delta\",\"index\":0,\"delta\":{\"type\":\"text_delta\",\"text\":\" transport\"}      }\n",
            "\n",
            "event: content_block_delta\n",
            "data: {\"type\":\"content_block_delta\",\"index\":0,\"delta\":{\"type\":\"text_delta\",\"text\":\" food items or\"}  }\n",
            "\n",
            "event: content_block_delta\n",
            "data: {\"type\":\"content_block_delta\",\"index\":0,\"delta\":{\"type\":\"text_delta\",\"text\":\" other materials back to their\"}             }\n",
            "\n",
            "event: content_block_delta\n",
            "data: {\"type\":\"content_block_delta\",\"index\":0,\"delta\":{\"type\":\"text_delta\",\"text\":\" colony\"}        }\n",
            "\n",
            "event: content_block_delta\n",
            "data: {\"type\":\"content_block_delta\",\"index\":0,\"delta\":{\"type\":\"text_delta\",\"text\":\". The backgroun\"}          }\n",
            "\n",
            "event: content_block_delta\n",
            "data: {\"type\":\"content_block_delta\",\"index\":0,\"delta\":{\"type\":\"text_delta\",\"text\":\"d is bl\"}         }\n",
            "\n",
            "event: content_block_delta\n",
            "data: {\"type\":\"content_block_delta\",\"index\":0,\"delta\":{\"type\":\"text_delta\",\"text\":\"urre\"}             }\n",
            "\n",
            "event: content_block_delta\n",
            "data: {\"type\":\"content_block_delta\",\"index\":0,\"delta\":{\"type\":\"text_delta\",\"text\":\"d, creating\"}         }\n",
            "\n",
            "event: content_block_delta\n",
            "data: {\"type\":\"content_block_delta\",\"index\":0,\"delta\":{\"type\":\"text_delta\",\"text\":\" a shallow depth of fiel\"}          }\n",
            "\n",
            "event: content_block_delta\n",
            "data: {\"type\":\"content_block_delta\",\"index\":0,\"delta\":{\"type\":\"text_delta\",\"text\":\"d that keeps\"} }\n",
            "\n",
            "event: content_block_delta\n",
            "data: {\"type\":\"content_block_delta\",\"index\":0,\"delta\":{\"type\":\"text_delta\",\"text\":\" the focus\"}    }\n",
            "\n",
            "event: content_block_stop\n",
            "data: {\"type\":\"content_block_stop\",\"index\":0      }\n",
            "\n",
            "event: message_delta\n",
            "data: {\"type\":\"message_delta\",\"delta\":{\"stop_reason\":\"max_tokens\",\"stop_sequence\":null},\"usage\":{\"output_tokens\":100}               }\n",
            "\n",
            "event: message_stop\n",
            "data: {\"type\":\"message_stop\"   }\n",
            "\n"
          ]
        }
      ],
      "source": [
        "PAYLOAD = {\n",
        "    \"anthropic_version\": \"vertex-2023-10-16\",\n",
        "    \"messages\": [\n",
        "        {\n",
        "            \"role\": \"user\",\n",
        "            \"content\": [\n",
        "                {\n",
        "                    \"type\": \"image\",\n",
        "                    \"source\": {\n",
        "                        \"type\": \"base64\",\n",
        "                        \"media_type\": \"image/jpeg\",\n",
        "                        \"data\": image_b64,\n",
        "                    },\n",
        "                },\n",
        "                {\"type\": \"text\", \"text\": \"What is in this image?\"},\n",
        "            ],\n",
        "        }\n",
        "    ],\n",
        "    \"max_tokens\": 100,\n",
        "    \"stream\": True,\n",
        "}\n",
        "\n",
        "request = json.dumps(PAYLOAD)\n",
        "!curl -X POST -H \"Authorization: Bearer $(gcloud auth print-access-token)\" -H \"Content-Type: application/json\" {ENDPOINT}/v1/projects/{PROJECT_ID}/locations/{LOCATION}/publishers/anthropic/models/{MODEL}:streamRawPredict -d '{request}'"
      ]
    },
    {
      "cell_type": "markdown",
      "metadata": {
        "id": "gI3KlxQQ_F_T"
      },
      "source": [
        "## Using Anthropic's Vertex SDK for *Python*"
      ]
    },
    {
      "cell_type": "markdown",
      "metadata": {
        "id": "E0x3GO6M_O3_"
      },
      "source": [
        "## Get Started\n"
      ]
    },
    {
      "cell_type": "markdown",
      "metadata": {
        "id": "_CJrqUvqAfR7"
      },
      "source": [
        "### Install Anthropic's Vertex SDK for Python and other required packages"
      ]
    },
    {
      "cell_type": "code",
      "execution_count": 12,
      "metadata": {
        "id": "fi_HLdat_Pce"
      },
      "outputs": [],
      "source": [
        "! pip3 install -U -q 'anthropic[vertex]'\n",
        "! pip3 install -U -q httpx"
      ]
    },
    {
      "cell_type": "markdown",
      "metadata": {
        "id": "hUiAYUFbBCpR"
      },
      "source": [
        "### Restart runtime (Colab only)\n",
        "\n",
        "To use the newly installed packages, you must restart the runtime on Google Colab."
      ]
    },
    {
      "cell_type": "code",
      "execution_count": 13,
      "metadata": {
        "id": "jcqgcj_DBFgt"
      },
      "outputs": [],
      "source": [
        "# Restart kernel after installs so that your environment can access the new packages\n",
        "import sys\n",
        "\n",
        "if \"google.colab\" in sys.modules:\n",
        "    import IPython\n",
        "\n",
        "    app = IPython.Application.instance()\n",
        "    app.kernel.do_shutdown(True)"
      ]
    },
    {
      "cell_type": "markdown",
      "metadata": {
        "id": "aa9169957a89"
      },
      "source": [
        "<div class=\"alert alert-block alert-warning\">\n",
        "<b>⚠️ The kernel is going to restart. Wait until it's finished before continuing to the next step. ⚠️</b>\n",
        "</div>\n"
      ]
    },
    {
      "cell_type": "markdown",
      "metadata": {
        "id": "bffc70d3e8be"
      },
      "source": [
        "### Authenticate your notebook environment (Colab only)\n",
        "\n",
        "Authenticate your environment on Google Colab.\n"
      ]
    },
    {
      "cell_type": "code",
      "execution_count": 1,
      "metadata": {
        "id": "d1baa068f48a",
        "colab": {
          "base_uri": "https://localhost:8080/"
        },
        "outputId": "754a0f8a-cee2-4889-e97d-3b32ef4ec1fb"
      },
      "outputs": [
        {
          "output_type": "stream",
          "name": "stdout",
          "text": [
            "WARNING: google.colab.auth.authenticate_user() is not supported in Colab Enterprise.\n"
          ]
        }
      ],
      "source": [
        "import sys\n",
        "\n",
        "if \"google.colab\" in sys.modules:\n",
        "\n",
        "    from google.colab import auth\n",
        "\n",
        "    auth.authenticate_user()"
      ]
    },
    {
      "cell_type": "markdown",
      "metadata": {
        "id": "czcmJpKPBMVC"
      },
      "source": [
        "#### Select Claude model"
      ]
    },
    {
      "cell_type": "code",
      "execution_count": 2,
      "metadata": {
        "id": "s6SJn92__jpy"
      },
      "outputs": [],
      "source": [
        "MODEL = \"claude-3-7-sonnet@20250219\"  # @param [\"claude-opus-4-1@20250805\",\"claude-sonnet-4@20250514\",\"claude-opus-4@20250514\",\"claude-3-7-sonnet@20250219\", \"claude-3-5-sonnet-v2@20241022\", \"claude-3-5-haiku@20241022\", \"claude-3-5-sonnet@20240620\", \"claude-3-opus@20240229\", \"claude-3-haiku@20240307\"]\n",
        "if MODEL == \"claude-opus-4-1@20250805\":\n",
        "    available_regions = [\"us-east5\", \"europe-west4\", \"GLOBAL\"]\n",
        "elif MODEL == \"claude-sonnet-4@20250514\":\n",
        "    available_regions = [\"us-east5\", \"europe-west4\", \"GLOBAL\"]\n",
        "elif MODEL == \"claude-opus-4@20250514\":\n",
        "    available_regions = [\"us-east5\", \"europe-west4\"]\n",
        "elif MODEL == \"claude-3-7-sonnet@20250219\":\n",
        "    available_regions = [\"us-east5\", \"europe-west1\", \"europe-west4\", \"GLOBAL\"]\n",
        "elif MODEL == \"claude-3-5-sonnet-v2@20241022\":\n",
        "    available_regions = [\"us-east5\", \"europe-west1\", \"GLOBAL\"]\n",
        "elif MODEL == \"claude-3-5-haiku@20241022\":\n",
        "    available_regions = [\"us-east5\"]\n",
        "elif MODEL == \"claude-3-5-sonnet@20240620\":\n",
        "    available_regions = [\"us-east5\", \"europe-west1\", \"asia-southeast1\"]\n",
        "elif MODEL == \"claude-3-opus@20240229\":\n",
        "    available_regions = [\"us-east5\"]\n",
        "elif MODEL == \"claude-3-haiku@20240307\":\n",
        "    available_regions = [\"us-east5\", \"europe-west1\", \"asia-southeast1\"]"
      ]
    },
    {
      "cell_type": "markdown",
      "metadata": {
        "id": "C-z0epNze9k8"
      },
      "source": [
        "#### Select a region"
      ]
    },
    {
      "cell_type": "code",
      "execution_count": 3,
      "metadata": {
        "id": "u4ciYLdLe-D-",
        "colab": {
          "base_uri": "https://localhost:8080/",
          "height": 49,
          "referenced_widgets": [
            "62ceb978ec64419db6c78e8dd748dbe5",
            "493c533f7a9c4ae18e4cc3fc55e37601",
            "2d0fe5fa9aa74cf7bcd786c09cdc4840"
          ]
        },
        "outputId": "7c8689cb-cf97-4bc5-9e10-bbfd906cf87b"
      },
      "outputs": [
        {
          "output_type": "display_data",
          "data": {
            "text/plain": [
              "Dropdown(description='Select a location:', options=('us-east5', 'europe-west1', 'europe-west4', 'GLOBAL'), sty…"
            ],
            "application/vnd.jupyter.widget-view+json": {
              "version_major": 2,
              "version_minor": 0,
              "model_id": "62ceb978ec64419db6c78e8dd748dbe5"
            }
          },
          "metadata": {}
        }
      ],
      "source": [
        "import ipywidgets as widgets\n",
        "from IPython.display import display\n",
        "\n",
        "dropdown = widgets.Dropdown(\n",
        "    options=available_regions,\n",
        "    description=\"Select a location:\",\n",
        "    font_weight=\"bold\",\n",
        "    style={\"description_width\": \"initial\"},\n",
        ")\n",
        "\n",
        "\n",
        "def dropdown_eventhandler(change):\n",
        "    global LOCATION\n",
        "    if change[\"type\"] == \"change\" and change[\"name\"] == \"value\":\n",
        "        LOCATION = change.new\n",
        "        print(\"Selected:\", change.new)\n",
        "\n",
        "\n",
        "LOCATION = dropdown.value\n",
        "dropdown.observe(dropdown_eventhandler, names=\"value\")\n",
        "display(dropdown)"
      ]
    },
    {
      "cell_type": "markdown",
      "metadata": {
        "id": "shZgRl6qbZYP"
      },
      "source": [
        "#### Set Google Cloud project and model information\n",
        "\n",
        "To get started using Vertex AI, you must have an existing Google Cloud project and [enable the Vertex AI API](https://console.cloud.google.com/flows/enableapi?apiid=aiplatform.googleapis.com). Learn more about [setting up a project and a development environment](https://cloud.google.com/vertex-ai/docs/start/cloud-environment)."
      ]
    },
    {
      "cell_type": "code",
      "execution_count": 4,
      "metadata": {
        "id": "JZLqMJ6va9fc"
      },
      "outputs": [],
      "source": [
        "PROJECT_ID = \"qwiklabs-asl-01-752ad6b30635\" # \"[your-project-id]\"  # @param {type:\"string\"}\n",
        "ENDPOINT = f\"https://{LOCATION}-aiplatform.googleapis.com\"\n",
        "\n",
        "if not PROJECT_ID or PROJECT_ID == \"[your-project-id]\":\n",
        "    raise ValueError(\"Please set your PROJECT_ID\")"
      ]
    },
    {
      "cell_type": "markdown",
      "metadata": {
        "id": "a6a543c2cd07"
      },
      "source": [
        "#### Import required libraries"
      ]
    },
    {
      "cell_type": "code",
      "execution_count": 5,
      "metadata": {
        "id": "c4a553b6a5c2"
      },
      "outputs": [],
      "source": [
        "import base64\n",
        "\n",
        "import httpx\n",
        "import requests\n",
        "from IPython.display import Image"
      ]
    },
    {
      "cell_type": "markdown",
      "metadata": {
        "id": "gijJ2vr5B5nV"
      },
      "source": [
        "### Text generation"
      ]
    },
    {
      "cell_type": "markdown",
      "metadata": {
        "id": "2f7ee8ceb620"
      },
      "source": [
        "#### Unary call\n",
        "\n",
        "Initializes a client for Anthropic's Vertex AI, sends a request to generate the content, and prints the response in a formatted JSON"
      ]
    },
    {
      "cell_type": "code",
      "execution_count": 6,
      "metadata": {
        "id": "c2c03d3da1b0",
        "colab": {
          "base_uri": "https://localhost:8080/"
        },
        "outputId": "29f99706-049a-4c4f-9c8d-bc30cb6ba942"
      },
      "outputs": [
        {
          "output_type": "stream",
          "name": "stdout",
          "text": [
            "{\n",
            "  \"id\": \"msg_vrtx_01FkBvrYXShfeucBgJZ6NsKk\",\n",
            "  \"content\": [\n",
            "    {\n",
            "      \"citations\": null,\n",
            "      \"text\": \"# Classic Banana Bread Recipe\\n\\n## Ingredients\\n- 3 ripe bananas, mashed\\n- 1/3 cup melted butter\\n- 3/4 cup granulated sugar\\n- 1 egg, beaten\\n- 1 teaspoon vanilla extract\\n- 1 teaspoon baking soda\\n- Pinch of salt\\n- 1 1/2 cups all-purpose flour\\n- Optional: 1/2 cup chopped nuts or chocolate chips\\n\\n## Instructions\\n1. Preheat oven to 350°F (175°C). Grease a 4x8 inch loaf pan.\\n2. In a mixing bowl, mash the ripe bananas with a fork until smooth.\\n3. Stir the melted butter into the mashed bananas.\\n4. Mix in the sugar, egg, and vanilla extract.\\n5. Sprinkle the baking soda and salt over the mixture and stir in.\\n6. Add the flour last, mixing just until combined. Don't overmix.\\n7. Fold in nuts or chocolate chips if using.\\n8. Pour the batter into the prepared loaf pan.\\n9. Bake for 50-60 minutes, or until a toothpick inserted into the center comes out clean.\\n10. Let cool in the pan for 10 minutes, then remove to a wire rack to cool completely.\\n\\nEnjoy your homemade banana bread!\",\n",
            "      \"type\": \"text\"\n",
            "    }\n",
            "  ],\n",
            "  \"model\": \"claude-3-7-sonnet-20250219\",\n",
            "  \"role\": \"assistant\",\n",
            "  \"stop_reason\": \"end_turn\",\n",
            "  \"stop_sequence\": null,\n",
            "  \"type\": \"message\",\n",
            "  \"usage\": {\n",
            "    \"cache_creation\": null,\n",
            "    \"cache_creation_input_tokens\": 0,\n",
            "    \"cache_read_input_tokens\": 0,\n",
            "    \"input_tokens\": 15,\n",
            "    \"output_tokens\": 334,\n",
            "    \"server_tool_use\": null,\n",
            "    \"service_tier\": null\n",
            "  }\n",
            "}\n"
          ]
        }
      ],
      "source": [
        "from anthropic import AnthropicVertex\n",
        "\n",
        "client = AnthropicVertex(region=LOCATION, project_id=PROJECT_ID)\n",
        "message = client.messages.create(\n",
        "    max_tokens=1024,\n",
        "    messages=[\n",
        "        {\n",
        "            \"role\": \"user\",\n",
        "            \"content\": \"Send me a recipe for banana bread.\",\n",
        "        }\n",
        "    ],\n",
        "    model=MODEL,\n",
        ")\n",
        "print(message.model_dump_json(indent=2))"
      ]
    },
    {
      "cell_type": "markdown",
      "metadata": {
        "id": "f8e56a2fb209"
      },
      "source": [
        "#### Streaming call\n",
        "\n",
        "Initializes a client for Anthropic's Vertex AI, sends a streaming request to generate the content, and continuously prints the received text as it is streamed."
      ]
    },
    {
      "cell_type": "code",
      "execution_count": 7,
      "metadata": {
        "id": "KedVqBW9_2m_",
        "colab": {
          "base_uri": "https://localhost:8080/"
        },
        "outputId": "c3f0a123-c9ff-47bd-b706-96727a169e23"
      },
      "outputs": [
        {
          "output_type": "stream",
          "name": "stdout",
          "text": [
            "# Classic Banana Bread\n",
            "\n",
            "## Ingredients\n",
            "- 3 ripe bananas, mashed (about 1½ cups)\n",
            "- ⅓ cup melted butter\n",
            "- 1 cup granulated sugar\n",
            "- 1 egg, beaten\n",
            "- 1 teaspoon vanilla extract\n",
            "- 1 teaspoon baking soda\n",
            "- Pinch of salt\n",
            "- 1½ cups all-purpose flour\n",
            "- Optional: ½ cup chopped nuts or chocolate chips\n",
            "\n",
            "## Instructions\n",
            "1. Preheat oven to 350°F (175°C). Grease a 4x8 inch loaf pan.\n",
            "2. In a mixing bowl, mash the ripe bananas with a fork.\n",
            "3. Stir in the melted butter.\n",
            "4. Mix in the sugar, egg, and vanilla extract.\n",
            "5. Sprinkle the baking soda and salt over the mixture and stir in.\n",
            "6. Add the flour and gently stir until just combined (don't overmix).\n",
            "7. Fold in nuts or chocolate chips if using.\n",
            "8. Pour the batter into the prepared loaf pan.\n",
            "9. Bake for 50-60 minutes, or until a toothpick inserted into the center comes out clean.\n",
            "10. Let cool in the pan for 10 minutes, then remove to a wire rack to cool completely.\n",
            "\n",
            "Enjoy your homemade banana bread!"
          ]
        }
      ],
      "source": [
        "from anthropic import AnthropicVertex\n",
        "\n",
        "client = AnthropicVertex(region=LOCATION, project_id=PROJECT_ID)\n",
        "\n",
        "with client.messages.stream(\n",
        "    max_tokens=1024,\n",
        "    messages=[\n",
        "        {\n",
        "            \"role\": \"user\",\n",
        "            \"content\": \"Send me a recipe for banana bread.\",\n",
        "        }\n",
        "    ],\n",
        "    model=MODEL,\n",
        ") as stream:\n",
        "    for text in stream.text_stream:\n",
        "        print(text, end=\"\", flush=True)"
      ]
    },
    {
      "cell_type": "markdown",
      "metadata": {
        "id": "CysN0InWCKN4"
      },
      "source": [
        "### Vision"
      ]
    },
    {
      "cell_type": "markdown",
      "metadata": {
        "id": "2fe57432a56d"
      },
      "source": [
        "#### Encode And Preview Image\n",
        "\n",
        "We fetch sample images from Wikipedia using the httpx library, but you can use whatever image sources work for you."
      ]
    },
    {
      "cell_type": "code",
      "execution_count": 8,
      "metadata": {
        "id": "8437abc38965",
        "colab": {
          "base_uri": "https://localhost:8080/",
          "height": 217
        },
        "outputId": "0625aa2a-7702-4ea8-ac66-f28d7890b7e3"
      },
      "outputs": [
        {
          "output_type": "execute_result",
          "data": {
            "image/png": "[encoded data removed]",
            "text/plain": [
              "<IPython.core.display.Image object>"
            ]
          },
          "metadata": {
            "image/png": {
              "width": 300,
              "height": 200
            }
          },
          "execution_count": 8
        }
      ],
      "source": [
        "image_url = \"https://upload.wikimedia.org/wikipedia/commons/thumb/a/a7/Camponotus_flavomarginatus_ant.jpg/300px-Camponotus_flavomarginatus_ant.jpg\"\n",
        "image_media_type = \"image/jpeg\"\n",
        "image_b64 = base64.b64encode(httpx.get(image_url).content).decode(\"utf-8\")\n",
        "\n",
        "response = requests.get(image_url)\n",
        "image = Image(response.content, width=300, height=200)\n",
        "\n",
        "image"
      ]
    },
    {
      "cell_type": "markdown",
      "metadata": {
        "id": "9fd5937f839b"
      },
      "source": [
        "#### Unary call\n",
        "\n",
        "Initializes a client for Anthropic's Vertex AI, sends a request to describe an image (provided as base64-encoded data) along with a text prompt, and prints the response in a formatted JSON."
      ]
    },
    {
      "cell_type": "code",
      "execution_count": 9,
      "metadata": {
        "id": "8hTk6_Ju_3rj",
        "colab": {
          "base_uri": "https://localhost:8080/"
        },
        "outputId": "69ae006a-4b87-455c-82e7-d0aa087bd3e0"
      },
      "outputs": [
        {
          "output_type": "stream",
          "name": "stdout",
          "text": [
            "{\n",
            "  \"id\": \"msg_vrtx_01NbCUabiDQSN1FQTKvYGaNb\",\n",
            "  \"content\": [\n",
            "    {\n",
            "      \"citations\": null,\n",
            "      \"text\": \"This image shows a black ant in a close-up, macro photograph. The ant is standing on what appears to be a textured surface, possibly concrete or stone. The ant has its characteristic segmented body with long, thin legs visible. It appears to be carrying something small, possibly food or another smaller insect, in its mandibles. The background is blurred with warm tones, creating a shallow depth of field that helps emphasize the detailed structure of the ant. The photograph captures the incredible strength of ants, which are known to be able to carry items many times their own body weight.\",\n",
            "      \"type\": \"text\"\n",
            "    }\n",
            "  ],\n",
            "  \"model\": \"claude-3-7-sonnet-20250219\",\n",
            "  \"role\": \"assistant\",\n",
            "  \"stop_reason\": \"end_turn\",\n",
            "  \"stop_sequence\": null,\n",
            "  \"type\": \"message\",\n",
            "  \"usage\": {\n",
            "    \"cache_creation\": null,\n",
            "    \"cache_creation_input_tokens\": 0,\n",
            "    \"cache_read_input_tokens\": 0,\n",
            "    \"input_tokens\": 104,\n",
            "    \"output_tokens\": 126,\n",
            "    \"server_tool_use\": null,\n",
            "    \"service_tier\": null\n",
            "  }\n",
            "}\n"
          ]
        }
      ],
      "source": [
        "from anthropic import AnthropicVertex\n",
        "\n",
        "client = AnthropicVertex(region=LOCATION, project_id=PROJECT_ID)\n",
        "\n",
        "message = client.messages.create(\n",
        "    max_tokens=1024,\n",
        "    messages=[\n",
        "        {\n",
        "            \"role\": \"user\",\n",
        "            \"content\": [\n",
        "                {\n",
        "                    \"type\": \"image\",\n",
        "                    \"source\": {\n",
        "                        \"type\": \"base64\",\n",
        "                        \"media_type\": image_media_type,\n",
        "                        \"data\": image_b64,\n",
        "                    },\n",
        "                },\n",
        "                {\"type\": \"text\", \"text\": \"Describe this image.\"},\n",
        "            ],\n",
        "        }\n",
        "    ],\n",
        "    model=MODEL,\n",
        ")\n",
        "print(message.model_dump_json(indent=2))"
      ]
    },
    {
      "cell_type": "markdown",
      "metadata": {
        "id": "1fb4855047e3"
      },
      "source": [
        "#### Streaming call\n",
        "\n",
        "Initializes a client for Anthropic's Vertex AI, sends a streaming request to describe an image (provided as base64-encoded data) along with a text prompt, and continuously prints the received text as it is streamed."
      ]
    },
    {
      "cell_type": "code",
      "execution_count": 10,
      "metadata": {
        "id": "6df4d0e6d95b",
        "colab": {
          "base_uri": "https://localhost:8080/"
        },
        "outputId": "a7ad5408-8fd9-411c-aaa3-e2633440e561"
      },
      "outputs": [
        {
          "output_type": "stream",
          "name": "stdout",
          "text": [
            "This image shows a close-up of an ant in remarkable detail. The ant is standing on what appears to be a textured surface, possibly concrete or stone. You can clearly see its slender body with distinct segments, long thin legs, and antennae. The ant appears to be carrying something, likely food or material for its colony. The background is blurred, creating a shallow depth of field that keeps the focus on the ant itself. The photograph captures the incredible structure and form of this common but fascinating insect, highlighting its specialized body design that makes ants such successful creatures in various environments."
          ]
        }
      ],
      "source": [
        "from anthropic import AnthropicVertex\n",
        "\n",
        "client = AnthropicVertex(region=LOCATION, project_id=PROJECT_ID)\n",
        "\n",
        "with client.messages.stream(\n",
        "    max_tokens=1024,\n",
        "    messages=[\n",
        "        {\n",
        "            \"role\": \"user\",\n",
        "            \"content\": [\n",
        "                {\n",
        "                    \"type\": \"image\",\n",
        "                    \"source\": {\n",
        "                        \"type\": \"base64\",\n",
        "                        \"media_type\": image_media_type,\n",
        "                        \"data\": image_b64,\n",
        "                    },\n",
        "                },\n",
        "                {\"type\": \"text\", \"text\": \"Describe this image.\"},\n",
        "            ],\n",
        "        }\n",
        "    ],\n",
        "    model=MODEL,\n",
        ") as stream:\n",
        "    for text in stream.text_stream:\n",
        "        print(text, end=\"\", flush=True)"
      ]
    }
  ],
  "metadata": {
    "colab": {
      "name": "anthropic_claude_intro.ipynb",
      "provenance": []
    },
    "kernelspec": {
      "display_name": "Python 3",
      "name": "python3"
    },
    "widgets": {
      "application/vnd.jupyter.widget-state+json": {
        "5d513146e385462ab887a914bdb97702": {
          "model_module": "@jupyter-widgets/controls",
          "model_name": "DropdownModel",
          "model_module_version": "1.5.0",
          "state": {
            "_dom_classes": [],
            "_model_module": "@jupyter-widgets/controls",
            "_model_module_version": "1.5.0",
            "_model_name": "DropdownModel",
            "_options_labels": [
              "us-east5",
              "europe-west1",
              "europe-west4",
              "GLOBAL"
            ],
            "_view_count": null,
            "_view_module": "@jupyter-widgets/controls",
            "_view_module_version": "1.5.0",
            "_view_name": "DropdownView",
            "description": "Select a location:",
            "description_tooltip": null,
            "disabled": false,
            "index": 0,
            "layout": "IPY_MODEL_13773849dcf84ec786f2ffdc7f2e5b46",
            "style": "IPY_MODEL_5804e61182144e298448e229cd0763b3"
          }
        },
        "13773849dcf84ec786f2ffdc7f2e5b46": {
          "model_module": "@jupyter-widgets/base",
          "model_name": "LayoutModel",
          "model_module_version": "1.2.0",
          "state": {
            "_model_module": "@jupyter-widgets/base",
            "_model_module_version": "1.2.0",
            "_model_name": "LayoutModel",
            "_view_count": null,
            "_view_module": "@jupyter-widgets/base",
            "_view_module_version": "1.2.0",
            "_view_name": "LayoutView",
            "align_content": null,
            "align_items": null,
            "align_self": null,
            "border": null,
            "bottom": null,
            "display": null,
            "flex": null,
            "flex_flow": null,
            "grid_area": null,
            "grid_auto_columns": null,
            "grid_auto_flow": null,
            "grid_auto_rows": null,
            "grid_column": null,
            "grid_gap": null,
            "grid_row": null,
            "grid_template_areas": null,
            "grid_template_columns": null,
            "grid_template_rows": null,
            "height": null,
            "justify_content": null,
            "justify_items": null,
            "left": null,
            "margin": null,
            "max_height": null,
            "max_width": null,
            "min_height": null,
            "min_width": null,
            "object_fit": null,
            "object_position": null,
            "order": null,
            "overflow": null,
            "overflow_x": null,
            "overflow_y": null,
            "padding": null,
            "right": null,
            "top": null,
            "visibility": null,
            "width": null
          }
        },
        "5804e61182144e298448e229cd0763b3": {
          "model_module": "@jupyter-widgets/controls",
          "model_name": "DescriptionStyleModel",
          "model_module_version": "1.5.0",
          "state": {
            "_model_module": "@jupyter-widgets/controls",
            "_model_module_version": "1.5.0",
            "_model_name": "DescriptionStyleModel",
            "_view_count": null,
            "_view_module": "@jupyter-widgets/base",
            "_view_module_version": "1.2.0",
            "_view_name": "StyleView",
            "description_width": "initial"
          }
        },
        "62ceb978ec64419db6c78e8dd748dbe5": {
          "model_module": "@jupyter-widgets/controls",
          "model_name": "DropdownModel",
          "model_module_version": "1.5.0",
          "state": {
            "_dom_classes": [],
            "_model_module": "@jupyter-widgets/controls",
            "_model_module_version": "1.5.0",
            "_model_name": "DropdownModel",
            "_options_labels": [
              "us-east5",
              "europe-west1",
              "europe-west4",
              "GLOBAL"
            ],
            "_view_count": null,
            "_view_module": "@jupyter-widgets/controls",
            "_view_module_version": "1.5.0",
            "_view_name": "DropdownView",
            "description": "Select a location:",
            "description_tooltip": null,
            "disabled": false,
            "index": 0,
            "layout": "IPY_MODEL_493c533f7a9c4ae18e4cc3fc55e37601",
            "style": "IPY_MODEL_2d0fe5fa9aa74cf7bcd786c09cdc4840"
          }
        },
        "493c533f7a9c4ae18e4cc3fc55e37601": {
          "model_module": "@jupyter-widgets/base",
          "model_name": "LayoutModel",
          "model_module_version": "1.2.0",
          "state": {
            "_model_module": "@jupyter-widgets/base",
            "_model_module_version": "1.2.0",
            "_model_name": "LayoutModel",
            "_view_count": null,
            "_view_module": "@jupyter-widgets/base",
            "_view_module_version": "1.2.0",
            "_view_name": "LayoutView",
            "align_content": null,
            "align_items": null,
            "align_self": null,
            "border": null,
            "bottom": null,
            "display": null,
            "flex": null,
            "flex_flow": null,
            "grid_area": null,
            "grid_auto_columns": null,
            "grid_auto_flow": null,
            "grid_auto_rows": null,
            "grid_column": null,
            "grid_gap": null,
            "grid_row": null,
            "grid_template_areas": null,
            "grid_template_columns": null,
            "grid_template_rows": null,
            "height": null,
            "justify_content": null,
            "justify_items": null,
            "left": null,
            "margin": null,
            "max_height": null,
            "max_width": null,
            "min_height": null,
            "min_width": null,
            "object_fit": null,
            "object_position": null,
            "order": null,
            "overflow": null,
            "overflow_x": null,
            "overflow_y": null,
            "padding": null,
            "right": null,
            "top": null,
            "visibility": null,
            "width": null
          }
        },
        "2d0fe5fa9aa74cf7bcd786c09cdc4840": {
          "model_module": "@jupyter-widgets/controls",
          "model_name": "DescriptionStyleModel",
          "model_module_version": "1.5.0",
          "state": {
            "_model_module": "@jupyter-widgets/controls",
            "_model_module_version": "1.5.0",
            "_model_name": "DescriptionStyleModel",
            "_view_count": null,
            "_view_module": "@jupyter-widgets/base",
            "_view_module_version": "1.2.0",
            "_view_name": "StyleView",
            "description_width": "initial"
          }
        }
      }
    }
  },
  "nbformat": 4,
  "nbformat_minor": 0
}