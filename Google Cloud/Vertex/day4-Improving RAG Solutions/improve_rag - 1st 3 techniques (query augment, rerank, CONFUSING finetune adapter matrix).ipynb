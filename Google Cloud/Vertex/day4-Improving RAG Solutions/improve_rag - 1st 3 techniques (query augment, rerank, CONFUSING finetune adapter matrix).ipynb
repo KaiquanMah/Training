{
 "cells": [
  {
   "cell_type": "markdown",
   "id": "4142c8a0-110e-4723-af97-6fa1379c7a07",
   "metadata": {},
   "source": [
    "# Setup\n",
    "In this first task, we will setup the Workbench environment, create a RAG solution from Alphabets 2022 financial annual report and perform some queries to the report. To store the embeddings we use Chroma, an open-source embeddings database that makes it straightforward to store embeddings.\n",
    "\n",
    "https://abc.xyz/assets/d4/4f/a48b94d548d0b2fdc029a95e8c63/2022-alphabet-annual-report.pdf\n",
    "\n",
    "https://www.trychroma.com/"
   ]
  },
  {
   "cell_type": "code",
   "execution_count": 1,
   "id": "ac889dca-13ca-4434-9460-d399d1ea7e66",
   "metadata": {
    "tags": []
   },
   "outputs": [
    {
     "name": "stdout",
     "output_type": "stream",
     "text": [
      "Requirement already satisfied: google-cloud-aiplatform in ./.local/lib/python3.10/site-packages (1.122.0)\n",
      "Collecting umap-learn\n",
      "  Downloading umap_learn-0.5.9.post2-py3-none-any.whl.metadata (25 kB)\n",
      "Requirement already satisfied: tqdm in /opt/conda/lib/python3.10/site-packages (4.67.1)\n",
      "Collecting pypdf\n",
      "  Downloading pypdf-6.1.2-py3-none-any.whl.metadata (7.1 kB)\n",
      "Requirement already satisfied: google-api-core!=2.0.*,!=2.1.*,!=2.2.*,!=2.3.*,!=2.4.*,!=2.5.*,!=2.6.*,!=2.7.*,<3.0.0,>=1.34.1 in /opt/conda/lib/python3.10/site-packages (from google-api-core[grpc]!=2.0.*,!=2.1.*,!=2.2.*,!=2.3.*,!=2.4.*,!=2.5.*,!=2.6.*,!=2.7.*,<3.0.0,>=1.34.1->google-cloud-aiplatform) (2.26.0)\n",
      "Requirement already satisfied: google-auth<3.0.0,>=2.14.1 in /opt/conda/lib/python3.10/site-packages (from google-cloud-aiplatform) (2.41.1)\n",
      "Requirement already satisfied: proto-plus<2.0.0,>=1.22.3 in /opt/conda/lib/python3.10/site-packages (from google-cloud-aiplatform) (1.26.1)\n",
      "Requirement already satisfied: protobuf!=4.21.0,!=4.21.1,!=4.21.2,!=4.21.3,!=4.21.4,!=4.21.5,<7.0.0,>=3.20.2 in /opt/conda/lib/python3.10/site-packages (from google-cloud-aiplatform) (6.31.1)\n",
      "Requirement already satisfied: packaging>=14.3 in /opt/conda/lib/python3.10/site-packages (from google-cloud-aiplatform) (25.0)\n",
      "Requirement already satisfied: google-cloud-storage<3.0.0,>=1.32.0 in /opt/conda/lib/python3.10/site-packages (from google-cloud-aiplatform) (2.19.0)\n",
      "Requirement already satisfied: google-cloud-bigquery!=3.20.0,<4.0.0,>=1.15.0 in /opt/conda/lib/python3.10/site-packages (from google-cloud-aiplatform) (3.38.0)\n",
      "Requirement already satisfied: google-cloud-resource-manager<3.0.0,>=1.3.3 in /opt/conda/lib/python3.10/site-packages (from google-cloud-aiplatform) (1.14.2)\n",
      "Requirement already satisfied: shapely<3.0.0 in /opt/conda/lib/python3.10/site-packages (from google-cloud-aiplatform) (2.1.2)\n",
      "Requirement already satisfied: google-genai<2.0.0,>=1.37.0 in /opt/conda/lib/python3.10/site-packages (from google-cloud-aiplatform) (1.42.0)\n",
      "Requirement already satisfied: pydantic<3 in /opt/conda/lib/python3.10/site-packages (from google-cloud-aiplatform) (2.12.0)\n",
      "Requirement already satisfied: typing_extensions in /opt/conda/lib/python3.10/site-packages (from google-cloud-aiplatform) (4.15.0)\n",
      "Requirement already satisfied: docstring_parser<1 in /opt/conda/lib/python3.10/site-packages (from google-cloud-aiplatform) (0.17.0)\n",
      "Requirement already satisfied: googleapis-common-protos<2.0.0,>=1.56.2 in /opt/conda/lib/python3.10/site-packages (from google-api-core!=2.0.*,!=2.1.*,!=2.2.*,!=2.3.*,!=2.4.*,!=2.5.*,!=2.6.*,!=2.7.*,<3.0.0,>=1.34.1->google-api-core[grpc]!=2.0.*,!=2.1.*,!=2.2.*,!=2.3.*,!=2.4.*,!=2.5.*,!=2.6.*,!=2.7.*,<3.0.0,>=1.34.1->google-cloud-aiplatform) (1.70.0)\n",
      "Requirement already satisfied: requests<3.0.0,>=2.18.0 in /opt/conda/lib/python3.10/site-packages (from google-api-core!=2.0.*,!=2.1.*,!=2.2.*,!=2.3.*,!=2.4.*,!=2.5.*,!=2.6.*,!=2.7.*,<3.0.0,>=1.34.1->google-api-core[grpc]!=2.0.*,!=2.1.*,!=2.2.*,!=2.3.*,!=2.4.*,!=2.5.*,!=2.6.*,!=2.7.*,<3.0.0,>=1.34.1->google-cloud-aiplatform) (2.32.5)\n",
      "Requirement already satisfied: grpcio<2.0.0,>=1.33.2 in /opt/conda/lib/python3.10/site-packages (from google-api-core[grpc]!=2.0.*,!=2.1.*,!=2.2.*,!=2.3.*,!=2.4.*,!=2.5.*,!=2.6.*,!=2.7.*,<3.0.0,>=1.34.1->google-cloud-aiplatform) (1.75.1)\n",
      "Requirement already satisfied: grpcio-status<2.0.0,>=1.33.2 in /opt/conda/lib/python3.10/site-packages (from google-api-core[grpc]!=2.0.*,!=2.1.*,!=2.2.*,!=2.3.*,!=2.4.*,!=2.5.*,!=2.6.*,!=2.7.*,<3.0.0,>=1.34.1->google-cloud-aiplatform) (1.75.1)\n",
      "Requirement already satisfied: cachetools<7.0,>=2.0.0 in /opt/conda/lib/python3.10/site-packages (from google-auth<3.0.0,>=2.14.1->google-cloud-aiplatform) (6.2.0)\n",
      "Requirement already satisfied: pyasn1-modules>=0.2.1 in /opt/conda/lib/python3.10/site-packages (from google-auth<3.0.0,>=2.14.1->google-cloud-aiplatform) (0.4.2)\n",
      "Requirement already satisfied: rsa<5,>=3.1.4 in /opt/conda/lib/python3.10/site-packages (from google-auth<3.0.0,>=2.14.1->google-cloud-aiplatform) (4.9.1)\n",
      "Requirement already satisfied: google-cloud-core<3.0.0,>=2.4.1 in /opt/conda/lib/python3.10/site-packages (from google-cloud-bigquery!=3.20.0,<4.0.0,>=1.15.0->google-cloud-aiplatform) (2.4.3)\n",
      "Requirement already satisfied: google-resumable-media<3.0.0,>=2.0.0 in /opt/conda/lib/python3.10/site-packages (from google-cloud-bigquery!=3.20.0,<4.0.0,>=1.15.0->google-cloud-aiplatform) (2.7.2)\n",
      "Requirement already satisfied: python-dateutil<3.0.0,>=2.8.2 in /opt/conda/lib/python3.10/site-packages (from google-cloud-bigquery!=3.20.0,<4.0.0,>=1.15.0->google-cloud-aiplatform) (2.9.0.post0)\n",
      "Requirement already satisfied: grpc-google-iam-v1<1.0.0,>=0.14.0 in /opt/conda/lib/python3.10/site-packages (from google-cloud-resource-manager<3.0.0,>=1.3.3->google-cloud-aiplatform) (0.14.2)\n",
      "Requirement already satisfied: google-crc32c<2.0dev,>=1.0 in /opt/conda/lib/python3.10/site-packages (from google-cloud-storage<3.0.0,>=1.32.0->google-cloud-aiplatform) (1.7.1)\n",
      "Requirement already satisfied: anyio<5.0.0,>=4.8.0 in /opt/conda/lib/python3.10/site-packages (from google-genai<2.0.0,>=1.37.0->google-cloud-aiplatform) (4.11.0)\n",
      "Requirement already satisfied: httpx<1.0.0,>=0.28.1 in /opt/conda/lib/python3.10/site-packages (from google-genai<2.0.0,>=1.37.0->google-cloud-aiplatform) (0.28.1)\n",
      "Requirement already satisfied: tenacity<9.2.0,>=8.2.3 in /opt/conda/lib/python3.10/site-packages (from google-genai<2.0.0,>=1.37.0->google-cloud-aiplatform) (9.1.2)\n",
      "Requirement already satisfied: websockets<15.1.0,>=13.0.0 in /opt/conda/lib/python3.10/site-packages (from google-genai<2.0.0,>=1.37.0->google-cloud-aiplatform) (15.0.1)\n",
      "Requirement already satisfied: exceptiongroup>=1.0.2 in /opt/conda/lib/python3.10/site-packages (from anyio<5.0.0,>=4.8.0->google-genai<2.0.0,>=1.37.0->google-cloud-aiplatform) (1.3.0)\n",
      "Requirement already satisfied: idna>=2.8 in /opt/conda/lib/python3.10/site-packages (from anyio<5.0.0,>=4.8.0->google-genai<2.0.0,>=1.37.0->google-cloud-aiplatform) (3.10)\n",
      "Requirement already satisfied: sniffio>=1.1 in /opt/conda/lib/python3.10/site-packages (from anyio<5.0.0,>=4.8.0->google-genai<2.0.0,>=1.37.0->google-cloud-aiplatform) (1.3.1)\n",
      "Requirement already satisfied: certifi in /opt/conda/lib/python3.10/site-packages (from httpx<1.0.0,>=0.28.1->google-genai<2.0.0,>=1.37.0->google-cloud-aiplatform) (2025.10.5)\n",
      "Requirement already satisfied: httpcore==1.* in /opt/conda/lib/python3.10/site-packages (from httpx<1.0.0,>=0.28.1->google-genai<2.0.0,>=1.37.0->google-cloud-aiplatform) (1.0.9)\n",
      "Requirement already satisfied: h11>=0.16 in /opt/conda/lib/python3.10/site-packages (from httpcore==1.*->httpx<1.0.0,>=0.28.1->google-genai<2.0.0,>=1.37.0->google-cloud-aiplatform) (0.16.0)\n",
      "Requirement already satisfied: annotated-types>=0.6.0 in /opt/conda/lib/python3.10/site-packages (from pydantic<3->google-cloud-aiplatform) (0.7.0)\n",
      "Requirement already satisfied: pydantic-core==2.41.1 in /opt/conda/lib/python3.10/site-packages (from pydantic<3->google-cloud-aiplatform) (2.41.1)\n",
      "Requirement already satisfied: typing-inspection>=0.4.2 in /opt/conda/lib/python3.10/site-packages (from pydantic<3->google-cloud-aiplatform) (0.4.2)\n",
      "Requirement already satisfied: six>=1.5 in /opt/conda/lib/python3.10/site-packages (from python-dateutil<3.0.0,>=2.8.2->google-cloud-bigquery!=3.20.0,<4.0.0,>=1.15.0->google-cloud-aiplatform) (1.17.0)\n",
      "Requirement already satisfied: charset_normalizer<4,>=2 in /opt/conda/lib/python3.10/site-packages (from requests<3.0.0,>=2.18.0->google-api-core!=2.0.*,!=2.1.*,!=2.2.*,!=2.3.*,!=2.4.*,!=2.5.*,!=2.6.*,!=2.7.*,<3.0.0,>=1.34.1->google-api-core[grpc]!=2.0.*,!=2.1.*,!=2.2.*,!=2.3.*,!=2.4.*,!=2.5.*,!=2.6.*,!=2.7.*,<3.0.0,>=1.34.1->google-cloud-aiplatform) (3.4.2)\n",
      "Requirement already satisfied: urllib3<3,>=1.21.1 in /opt/conda/lib/python3.10/site-packages (from requests<3.0.0,>=2.18.0->google-api-core!=2.0.*,!=2.1.*,!=2.2.*,!=2.3.*,!=2.4.*,!=2.5.*,!=2.6.*,!=2.7.*,<3.0.0,>=1.34.1->google-api-core[grpc]!=2.0.*,!=2.1.*,!=2.2.*,!=2.3.*,!=2.4.*,!=2.5.*,!=2.6.*,!=2.7.*,<3.0.0,>=1.34.1->google-cloud-aiplatform) (2.5.0)\n",
      "Requirement already satisfied: pyasn1>=0.1.3 in /opt/conda/lib/python3.10/site-packages (from rsa<5,>=3.1.4->google-auth<3.0.0,>=2.14.1->google-cloud-aiplatform) (0.6.1)\n",
      "Requirement already satisfied: numpy>=1.21 in /opt/conda/lib/python3.10/site-packages (from shapely<3.0.0->google-cloud-aiplatform) (1.26.4)\n",
      "Requirement already satisfied: scipy>=1.3.1 in /opt/conda/lib/python3.10/site-packages (from umap-learn) (1.15.3)\n",
      "Requirement already satisfied: scikit-learn>=1.6 in /opt/conda/lib/python3.10/site-packages (from umap-learn) (1.7.2)\n",
      "Requirement already satisfied: numba>=0.51.2 in /opt/conda/lib/python3.10/site-packages (from umap-learn) (0.61.0)\n",
      "Collecting pynndescent>=0.5 (from umap-learn)\n",
      "  Downloading pynndescent-0.5.13-py3-none-any.whl.metadata (6.8 kB)\n",
      "Requirement already satisfied: llvmlite<0.45,>=0.44.0dev0 in /opt/conda/lib/python3.10/site-packages (from numba>=0.51.2->umap-learn) (0.44.0)\n",
      "Requirement already satisfied: joblib>=0.11 in /opt/conda/lib/python3.10/site-packages (from pynndescent>=0.5->umap-learn) (1.5.2)\n",
      "Requirement already satisfied: threadpoolctl>=3.1.0 in /opt/conda/lib/python3.10/site-packages (from scikit-learn>=1.6->umap-learn) (3.6.0)\n",
      "Downloading umap_learn-0.5.9.post2-py3-none-any.whl (90 kB)\n",
      "Downloading pypdf-6.1.2-py3-none-any.whl (323 kB)\n",
      "Downloading pynndescent-0.5.13-py3-none-any.whl (56 kB)\n",
      "Installing collected packages: pypdf, pynndescent, umap-learn\n",
      "\u001b[2K   \u001b[90m━━━━━━━━━━━━━━━━━━━━━━━━━━━━━━━━━━━━━━━━\u001b[0m \u001b[32m3/3\u001b[0m [umap-learn]\n",
      "\u001b[1A\u001b[2KSuccessfully installed pynndescent-0.5.13 pypdf-6.1.2 umap-learn-0.5.9.post2\n",
      "Found existing installation: numpy 1.26.4\n",
      "Uninstalling numpy-1.26.4:\n",
      "  Successfully uninstalled numpy-1.26.4\n",
      "Collecting numpy<2\n",
      "  Downloading numpy-1.26.4-cp310-cp310-manylinux_2_17_x86_64.manylinux2014_x86_64.whl.metadata (61 kB)\n",
      "Downloading numpy-1.26.4-cp310-cp310-manylinux_2_17_x86_64.manylinux2014_x86_64.whl (18.2 MB)\n",
      "\u001b[2K   \u001b[90m━━━━━━━━━━━━━━━━━━━━━━━━━━━━━━━━━━━━━━━━\u001b[0m \u001b[32m18.2/18.2 MB\u001b[0m \u001b[31m100.0 MB/s\u001b[0m  \u001b[33m0:00:00\u001b[0m\n",
      "\u001b[?25hInstalling collected packages: numpy\n",
      "Successfully installed numpy-1.26.4\n",
      "Collecting opentelemetry-api==1.24.0\n",
      "  Downloading opentelemetry_api-1.24.0-py3-none-any.whl.metadata (1.3 kB)\n",
      "Collecting opentelemetry-sdk==1.24.0\n",
      "  Downloading opentelemetry_sdk-1.24.0-py3-none-any.whl.metadata (1.4 kB)\n",
      "Collecting opentelemetry-exporter-otlp-proto-grpc==1.24.0\n",
      "  Downloading opentelemetry_exporter_otlp_proto_grpc-1.24.0-py3-none-any.whl.metadata (2.2 kB)\n",
      "Collecting opentelemetry-exporter-otlp-proto-common==1.24.0\n",
      "  Downloading opentelemetry_exporter_otlp_proto_common-1.24.0-py3-none-any.whl.metadata (1.7 kB)\n",
      "Collecting opentelemetry-proto==1.24.0\n",
      "  Downloading opentelemetry_proto-1.24.0-py3-none-any.whl.metadata (2.2 kB)\n",
      "Collecting deprecated>=1.2.6 (from opentelemetry-api==1.24.0)\n",
      "  Downloading Deprecated-1.2.18-py2.py3-none-any.whl.metadata (5.7 kB)\n",
      "Collecting importlib-metadata<=7.0,>=6.0 (from opentelemetry-api==1.24.0)\n",
      "  Downloading importlib_metadata-7.0.0-py3-none-any.whl.metadata (4.9 kB)\n",
      "Collecting opentelemetry-semantic-conventions==0.45b0 (from opentelemetry-sdk==1.24.0)\n",
      "  Downloading opentelemetry_semantic_conventions-0.45b0-py3-none-any.whl.metadata (2.2 kB)\n",
      "Requirement already satisfied: typing-extensions>=3.7.4 in /opt/conda/lib/python3.10/site-packages (from opentelemetry-sdk==1.24.0) (4.15.0)\n",
      "Requirement already satisfied: googleapis-common-protos~=1.52 in /opt/conda/lib/python3.10/site-packages (from opentelemetry-exporter-otlp-proto-grpc==1.24.0) (1.70.0)\n",
      "Requirement already satisfied: grpcio<2.0.0,>=1.0.0 in /opt/conda/lib/python3.10/site-packages (from opentelemetry-exporter-otlp-proto-grpc==1.24.0) (1.75.1)\n",
      "Collecting protobuf<5.0,>=3.19 (from opentelemetry-proto==1.24.0)\n",
      "  Downloading protobuf-4.25.8-cp37-abi3-manylinux2014_x86_64.whl.metadata (541 bytes)\n",
      "Requirement already satisfied: zipp>=0.5 in /opt/conda/lib/python3.10/site-packages (from importlib-metadata<=7.0,>=6.0->opentelemetry-api==1.24.0) (3.23.0)\n",
      "Requirement already satisfied: wrapt<2,>=1.10 in /opt/conda/lib/python3.10/site-packages (from deprecated>=1.2.6->opentelemetry-api==1.24.0) (1.17.3)\n",
      "Downloading opentelemetry_api-1.24.0-py3-none-any.whl (60 kB)\n",
      "Downloading opentelemetry_sdk-1.24.0-py3-none-any.whl (106 kB)\n",
      "Downloading opentelemetry_exporter_otlp_proto_grpc-1.24.0-py3-none-any.whl (18 kB)\n",
      "Downloading opentelemetry_exporter_otlp_proto_common-1.24.0-py3-none-any.whl (17 kB)\n",
      "Downloading opentelemetry_proto-1.24.0-py3-none-any.whl (50 kB)\n",
      "Downloading opentelemetry_semantic_conventions-0.45b0-py3-none-any.whl (36 kB)\n",
      "Downloading importlib_metadata-7.0.0-py3-none-any.whl (23 kB)\n",
      "Downloading protobuf-4.25.8-cp37-abi3-manylinux2014_x86_64.whl (294 kB)\n",
      "Downloading Deprecated-1.2.18-py2.py3-none-any.whl (10.0 kB)\n",
      "Installing collected packages: protobuf, opentelemetry-semantic-conventions, importlib-metadata, deprecated, opentelemetry-proto, opentelemetry-api, opentelemetry-sdk, opentelemetry-exporter-otlp-proto-common, opentelemetry-exporter-otlp-proto-grpc\n",
      "\u001b[2K  Attempting uninstall: protobuf\n",
      "\u001b[2K    Found existing installation: protobuf 6.31.1\n",
      "\u001b[2K    Uninstalling protobuf-6.31.1:\n",
      "\u001b[2K      Successfully uninstalled protobuf-6.31.1\n",
      "\u001b[2K   \u001b[90m━━━━━━━━━━━━━━━━━━━━━━━━━━━━━━━━━━━━━━━━\u001b[0m \u001b[32m0/9\u001b[0m [protobuf]\u001b[33m  WARNING: Failed to remove contents in a temporary directory '/opt/conda/lib/python3.10/site-packages/google/~rotobuf'.\n",
      "  You can safely remove it manually.\u001b[0m\u001b[33m\n",
      "\u001b[2K  Attempting uninstall: opentelemetry-semantic-conventions\n",
      "\u001b[2K    Found existing installation: opentelemetry-semantic-conventions 0.58b0\n",
      "\u001b[2K    Uninstalling opentelemetry-semantic-conventions-0.58b0:━━━\u001b[0m \u001b[32m1/9\u001b[0m [opentelemetry-semantic-conventions]\n",
      "\u001b[2K      Successfully uninstalled opentelemetry-semantic-conventions-0.58b0[0m [opentelemetry-semantic-conventions]\n",
      "\u001b[2K  Attempting uninstall: importlib-metadata━━━━━━━━━━━━━━━━\u001b[0m \u001b[32m1/9\u001b[0m [opentelemetry-semantic-conventions]\n",
      "\u001b[2K    Found existing installation: importlib_metadata 8.7.0━\u001b[0m \u001b[32m1/9\u001b[0m [opentelemetry-semantic-conventions]\n",
      "\u001b[2K    Uninstalling importlib_metadata-8.7.0:━━━━━━━━━━━━━━━━\u001b[0m \u001b[32m1/9\u001b[0m [opentelemetry-semantic-conventions]\n",
      "\u001b[2K      Successfully uninstalled importlib_metadata-8.7.0━━━\u001b[0m \u001b[32m1/9\u001b[0m [opentelemetry-semantic-conventions]\n",
      "\u001b[2K  Attempting uninstall: opentelemetry-proto━━━━━━━━━━━━━━━━━━━━━━━\u001b[0m \u001b[32m3/9\u001b[0m [deprecated]tic-conventions]\n",
      "\u001b[2K    Found existing installation: opentelemetry-proto 1.37.0━━━\u001b[0m \u001b[32m3/9\u001b[0m [deprecated]\n",
      "\u001b[2K    Uninstalling opentelemetry-proto-1.37.0:━━━━━━━━━━━━━━━━━━\u001b[0m \u001b[32m3/9\u001b[0m [deprecated]\n",
      "\u001b[2K      Successfully uninstalled opentelemetry-proto-1.37.0━━━━━\u001b[0m \u001b[32m3/9\u001b[0m [deprecated]\n",
      "\u001b[2K  Attempting uninstall: opentelemetry-api━━━━━━━━━━━━━━━━━━━━━\u001b[0m \u001b[32m3/9\u001b[0m [deprecated]\n",
      "\u001b[2K    Found existing installation: opentelemetry-api 1.37.0━━━━━\u001b[0m \u001b[32m3/9\u001b[0m [deprecated]\n",
      "\u001b[2K    Uninstalling opentelemetry-api-1.37.0:━━━━━━━━━━━━━━━━━━━━\u001b[0m \u001b[32m3/9\u001b[0m [deprecated]\n",
      "\u001b[2K      Successfully uninstalled opentelemetry-api-1.37.0━━━━━━━\u001b[0m \u001b[32m3/9\u001b[0m [deprecated]\n",
      "\u001b[2K  Attempting uninstall: opentelemetry-sdk[0m\u001b[90m━━━━━━━━━━━━━━━━━\u001b[0m \u001b[32m5/9\u001b[0m [opentelemetry-api]\n",
      "\u001b[2K    Found existing installation: opentelemetry-sdk 1.37.0━━━━━\u001b[0m \u001b[32m5/9\u001b[0m [opentelemetry-api]\n",
      "\u001b[2K    Uninstalling opentelemetry-sdk-1.37.0:90m━━━━━━━━━━━━━━━━━\u001b[0m \u001b[32m5/9\u001b[0m [opentelemetry-api]\n",
      "\u001b[2K      Successfully uninstalled opentelemetry-sdk-1.37.0━━━━━━━\u001b[0m \u001b[32m5/9\u001b[0m [opentelemetry-api]\n",
      "\u001b[2K   \u001b[90m━━━━━━━━━━━━━━━━━━━━━━━━━━━━━━━━\u001b[0m \u001b[32m9/9\u001b[0m [opentelemetry-exporter-otlp-proto-grpc]]\n",
      "\u001b[1A\u001b[2K\u001b[31mERROR: pip's dependency resolver does not currently take into account all the packages that are installed. This behaviour is the source of the following dependency conflicts.\n",
      "grpcio-status 1.75.1 requires protobuf<7.0.0,>=6.31.1, but you have protobuf 4.25.8 which is incompatible.\n",
      "kfp 2.14.4 requires protobuf<7.0,==6.31.1, but you have protobuf 4.25.8 which is incompatible.\n",
      "kfp-pipeline-spec 2.14.0 requires protobuf<7.0,==6.31.1, but you have protobuf 4.25.8 which is incompatible.\n",
      "opentelemetry-exporter-prometheus 0.58b0 requires opentelemetry-sdk~=1.37.0, but you have opentelemetry-sdk 1.24.0 which is incompatible.\u001b[0m\u001b[31m\n",
      "\u001b[0mSuccessfully installed deprecated-1.2.18 importlib-metadata-7.0.0 opentelemetry-api-1.24.0 opentelemetry-exporter-otlp-proto-common-1.24.0 opentelemetry-exporter-otlp-proto-grpc-1.24.0 opentelemetry-proto-1.24.0 opentelemetry-sdk-1.24.0 opentelemetry-semantic-conventions-0.45b0 protobuf-4.25.8\n",
      "Collecting chromadb==0.5.3\n",
      "  Downloading chromadb-0.5.3-py3-none-any.whl.metadata (6.8 kB)\n",
      "Collecting google-generativeai\n",
      "  Downloading google_generativeai-0.8.5-py3-none-any.whl.metadata (3.9 kB)\n",
      "Collecting build>=1.0.3 (from chromadb==0.5.3)\n",
      "  Downloading build-1.3.0-py3-none-any.whl.metadata (5.6 kB)\n",
      "Requirement already satisfied: requests>=2.28 in /opt/conda/lib/python3.10/site-packages (from chromadb==0.5.3) (2.32.5)\n",
      "Requirement already satisfied: pydantic>=1.9 in /opt/conda/lib/python3.10/site-packages (from chromadb==0.5.3) (2.12.0)\n",
      "Collecting chroma-hnswlib==0.7.3 (from chromadb==0.5.3)\n",
      "  Downloading chroma_hnswlib-0.7.3-cp310-cp310-manylinux_2_17_x86_64.manylinux2014_x86_64.whl.metadata (252 bytes)\n",
      "Requirement already satisfied: fastapi>=0.95.2 in /opt/conda/lib/python3.10/site-packages (from chromadb==0.5.3) (0.118.2)\n",
      "Requirement already satisfied: uvicorn>=0.18.3 in /opt/conda/lib/python3.10/site-packages (from uvicorn[standard]>=0.18.3->chromadb==0.5.3) (0.37.0)\n",
      "Requirement already satisfied: numpy<2.0.0,>=1.22.5 in /opt/conda/lib/python3.10/site-packages (from chromadb==0.5.3) (1.26.4)\n",
      "Collecting posthog>=2.4.0 (from chromadb==0.5.3)\n",
      "  Downloading posthog-6.7.8-py3-none-any.whl.metadata (6.0 kB)\n",
      "Requirement already satisfied: typing-extensions>=4.5.0 in /opt/conda/lib/python3.10/site-packages (from chromadb==0.5.3) (4.15.0)\n",
      "Collecting onnxruntime>=1.14.1 (from chromadb==0.5.3)\n",
      "  Downloading onnxruntime-1.23.2-cp310-cp310-manylinux_2_27_x86_64.manylinux_2_28_x86_64.whl.metadata (5.1 kB)\n",
      "Requirement already satisfied: opentelemetry-api>=1.2.0 in /opt/conda/lib/python3.10/site-packages (from chromadb==0.5.3) (1.24.0)\n",
      "Requirement already satisfied: opentelemetry-exporter-otlp-proto-grpc>=1.2.0 in /opt/conda/lib/python3.10/site-packages (from chromadb==0.5.3) (1.24.0)\n",
      "Collecting opentelemetry-instrumentation-fastapi>=0.41b0 (from chromadb==0.5.3)\n",
      "  Downloading opentelemetry_instrumentation_fastapi-0.59b0-py3-none-any.whl.metadata (2.2 kB)\n",
      "Requirement already satisfied: opentelemetry-sdk>=1.2.0 in /opt/conda/lib/python3.10/site-packages (from chromadb==0.5.3) (1.24.0)\n",
      "Collecting tokenizers>=0.13.2 (from chromadb==0.5.3)\n",
      "  Downloading tokenizers-0.22.1-cp39-abi3-manylinux_2_17_x86_64.manylinux2014_x86_64.whl.metadata (6.8 kB)\n",
      "Collecting pypika>=0.48.9 (from chromadb==0.5.3)\n",
      "  Downloading PyPika-0.48.9.tar.gz (67 kB)\n",
      "  Installing build dependencies ... \u001b[?25ldone\n",
      "\u001b[?25h  Getting requirements to build wheel ... \u001b[?25ldone\n",
      "\u001b[?25h  Preparing metadata (pyproject.toml) ... \u001b[?25ldone\n",
      "\u001b[?25hRequirement already satisfied: tqdm>=4.65.0 in /opt/conda/lib/python3.10/site-packages (from chromadb==0.5.3) (4.67.1)\n",
      "Requirement already satisfied: overrides>=7.3.1 in /opt/conda/lib/python3.10/site-packages (from chromadb==0.5.3) (7.7.0)\n",
      "Collecting importlib-resources (from chromadb==0.5.3)\n",
      "  Downloading importlib_resources-6.5.2-py3-none-any.whl.metadata (3.9 kB)\n",
      "Requirement already satisfied: grpcio>=1.58.0 in /opt/conda/lib/python3.10/site-packages (from chromadb==0.5.3) (1.75.1)\n",
      "Collecting bcrypt>=4.0.1 (from chromadb==0.5.3)\n",
      "  Downloading bcrypt-5.0.0-cp39-abi3-manylinux_2_28_x86_64.whl.metadata (10 kB)\n",
      "Collecting typer>=0.9.0 (from chromadb==0.5.3)\n",
      "  Downloading typer-0.20.0-py3-none-any.whl.metadata (16 kB)\n",
      "Requirement already satisfied: kubernetes>=28.1.0 in /opt/conda/lib/python3.10/site-packages (from chromadb==0.5.3) (30.1.0)\n",
      "Requirement already satisfied: tenacity>=8.2.3 in /opt/conda/lib/python3.10/site-packages (from chromadb==0.5.3) (9.1.2)\n",
      "Requirement already satisfied: PyYAML>=6.0.0 in /opt/conda/lib/python3.10/site-packages (from chromadb==0.5.3) (6.0.3)\n",
      "Collecting mmh3>=4.0.1 (from chromadb==0.5.3)\n",
      "  Downloading mmh3-5.2.0-cp310-cp310-manylinux1_x86_64.manylinux_2_28_x86_64.manylinux_2_5_x86_64.whl.metadata (14 kB)\n",
      "Collecting orjson>=3.9.12 (from chromadb==0.5.3)\n",
      "  Downloading orjson-3.11.3-cp310-cp310-manylinux_2_17_x86_64.manylinux2014_x86_64.whl.metadata (41 kB)\n",
      "Requirement already satisfied: httpx>=0.27.0 in /opt/conda/lib/python3.10/site-packages (from chromadb==0.5.3) (0.28.1)\n",
      "Collecting google-ai-generativelanguage==0.6.15 (from google-generativeai)\n",
      "  Downloading google_ai_generativelanguage-0.6.15-py3-none-any.whl.metadata (5.7 kB)\n",
      "Requirement already satisfied: google-api-core in /opt/conda/lib/python3.10/site-packages (from google-generativeai) (2.26.0)\n",
      "Requirement already satisfied: google-api-python-client in /opt/conda/lib/python3.10/site-packages (from google-generativeai) (2.184.0)\n",
      "Requirement already satisfied: google-auth>=2.15.0 in /opt/conda/lib/python3.10/site-packages (from google-generativeai) (2.41.1)\n",
      "Requirement already satisfied: protobuf in /opt/conda/lib/python3.10/site-packages (from google-generativeai) (4.25.8)\n",
      "Requirement already satisfied: proto-plus<2.0.0dev,>=1.22.3 in /opt/conda/lib/python3.10/site-packages (from google-ai-generativelanguage==0.6.15->google-generativeai) (1.26.1)\n",
      "Requirement already satisfied: googleapis-common-protos<2.0.0,>=1.56.2 in /opt/conda/lib/python3.10/site-packages (from google-api-core->google-generativeai) (1.70.0)\n",
      "Requirement already satisfied: grpcio-status<2.0.0,>=1.33.2 in /opt/conda/lib/python3.10/site-packages (from google-api-core[grpc]!=2.0.*,!=2.1.*,!=2.10.*,!=2.2.*,!=2.3.*,!=2.4.*,!=2.5.*,!=2.6.*,!=2.7.*,!=2.8.*,!=2.9.*,<3.0.0dev,>=1.34.1->google-ai-generativelanguage==0.6.15->google-generativeai) (1.75.1)\n",
      "Requirement already satisfied: cachetools<7.0,>=2.0.0 in /opt/conda/lib/python3.10/site-packages (from google-auth>=2.15.0->google-generativeai) (6.2.0)\n",
      "Requirement already satisfied: pyasn1-modules>=0.2.1 in /opt/conda/lib/python3.10/site-packages (from google-auth>=2.15.0->google-generativeai) (0.4.2)\n",
      "Requirement already satisfied: rsa<5,>=3.1.4 in /opt/conda/lib/python3.10/site-packages (from google-auth>=2.15.0->google-generativeai) (4.9.1)\n",
      "INFO: pip is looking at multiple versions of grpcio-status to determine which version is compatible with other requirements. This could take a while.\n",
      "Collecting grpcio-status<2.0.0,>=1.33.2 (from google-api-core[grpc]!=2.0.*,!=2.1.*,!=2.10.*,!=2.2.*,!=2.3.*,!=2.4.*,!=2.5.*,!=2.6.*,!=2.7.*,!=2.8.*,!=2.9.*,<3.0.0dev,>=1.34.1->google-ai-generativelanguage==0.6.15->google-generativeai)\n",
      "  Downloading grpcio_status-1.76.0-py3-none-any.whl.metadata (1.1 kB)\n",
      "  Downloading grpcio_status-1.75.0-py3-none-any.whl.metadata (1.1 kB)\n",
      "  Downloading grpcio_status-1.74.0-py3-none-any.whl.metadata (1.1 kB)\n",
      "  Downloading grpcio_status-1.73.1-py3-none-any.whl.metadata (1.1 kB)\n",
      "  Downloading grpcio_status-1.73.0-py3-none-any.whl.metadata (1.1 kB)\n",
      "  Downloading grpcio_status-1.72.2-py3-none-any.whl.metadata (1.1 kB)\n",
      "  Downloading grpcio_status-1.72.1-py3-none-any.whl.metadata (1.1 kB)\n",
      "INFO: pip is still looking at multiple versions of grpcio-status to determine which version is compatible with other requirements. This could take a while.\n",
      "  Downloading grpcio_status-1.71.2-py3-none-any.whl.metadata (1.1 kB)\n",
      "Collecting protobuf (from google-generativeai)\n",
      "  Downloading protobuf-5.29.5-cp38-abi3-manylinux2014_x86_64.whl.metadata (592 bytes)\n",
      "Requirement already satisfied: charset_normalizer<4,>=2 in /opt/conda/lib/python3.10/site-packages (from requests>=2.28->chromadb==0.5.3) (3.4.2)\n",
      "Requirement already satisfied: idna<4,>=2.5 in /opt/conda/lib/python3.10/site-packages (from requests>=2.28->chromadb==0.5.3) (3.10)\n",
      "Requirement already satisfied: urllib3<3,>=1.21.1 in /opt/conda/lib/python3.10/site-packages (from requests>=2.28->chromadb==0.5.3) (2.5.0)\n",
      "Requirement already satisfied: certifi>=2017.4.17 in /opt/conda/lib/python3.10/site-packages (from requests>=2.28->chromadb==0.5.3) (2025.10.5)\n",
      "Requirement already satisfied: pyasn1>=0.1.3 in /opt/conda/lib/python3.10/site-packages (from rsa<5,>=3.1.4->google-auth>=2.15.0->google-generativeai) (0.6.1)\n",
      "Requirement already satisfied: packaging>=19.1 in /opt/conda/lib/python3.10/site-packages (from build>=1.0.3->chromadb==0.5.3) (25.0)\n",
      "Collecting pyproject_hooks (from build>=1.0.3->chromadb==0.5.3)\n",
      "  Downloading pyproject_hooks-1.2.0-py3-none-any.whl.metadata (1.3 kB)\n",
      "Requirement already satisfied: tomli>=1.1.0 in /opt/conda/lib/python3.10/site-packages (from build>=1.0.3->chromadb==0.5.3) (2.3.0)\n",
      "Requirement already satisfied: starlette<0.49.0,>=0.40.0 in /opt/conda/lib/python3.10/site-packages (from fastapi>=0.95.2->chromadb==0.5.3) (0.48.0)\n",
      "Requirement already satisfied: annotated-types>=0.6.0 in /opt/conda/lib/python3.10/site-packages (from pydantic>=1.9->chromadb==0.5.3) (0.7.0)\n",
      "Requirement already satisfied: pydantic-core==2.41.1 in /opt/conda/lib/python3.10/site-packages (from pydantic>=1.9->chromadb==0.5.3) (2.41.1)\n",
      "Requirement already satisfied: typing-inspection>=0.4.2 in /opt/conda/lib/python3.10/site-packages (from pydantic>=1.9->chromadb==0.5.3) (0.4.2)\n",
      "Requirement already satisfied: anyio<5,>=3.6.2 in /opt/conda/lib/python3.10/site-packages (from starlette<0.49.0,>=0.40.0->fastapi>=0.95.2->chromadb==0.5.3) (4.11.0)\n",
      "Requirement already satisfied: exceptiongroup>=1.0.2 in /opt/conda/lib/python3.10/site-packages (from anyio<5,>=3.6.2->starlette<0.49.0,>=0.40.0->fastapi>=0.95.2->chromadb==0.5.3) (1.3.0)\n",
      "Requirement already satisfied: sniffio>=1.1 in /opt/conda/lib/python3.10/site-packages (from anyio<5,>=3.6.2->starlette<0.49.0,>=0.40.0->fastapi>=0.95.2->chromadb==0.5.3) (1.3.1)\n",
      "Requirement already satisfied: httpcore==1.* in /opt/conda/lib/python3.10/site-packages (from httpx>=0.27.0->chromadb==0.5.3) (1.0.9)\n",
      "Requirement already satisfied: h11>=0.16 in /opt/conda/lib/python3.10/site-packages (from httpcore==1.*->httpx>=0.27.0->chromadb==0.5.3) (0.16.0)\n",
      "Requirement already satisfied: six>=1.9.0 in /opt/conda/lib/python3.10/site-packages (from kubernetes>=28.1.0->chromadb==0.5.3) (1.17.0)\n",
      "Requirement already satisfied: python-dateutil>=2.5.3 in /opt/conda/lib/python3.10/site-packages (from kubernetes>=28.1.0->chromadb==0.5.3) (2.9.0.post0)\n",
      "Requirement already satisfied: websocket-client!=0.40.0,!=0.41.*,!=0.42.*,>=0.32.0 in /opt/conda/lib/python3.10/site-packages (from kubernetes>=28.1.0->chromadb==0.5.3) (1.9.0)\n",
      "Requirement already satisfied: requests-oauthlib in /opt/conda/lib/python3.10/site-packages (from kubernetes>=28.1.0->chromadb==0.5.3) (2.0.0)\n",
      "Requirement already satisfied: oauthlib>=3.2.2 in /opt/conda/lib/python3.10/site-packages (from kubernetes>=28.1.0->chromadb==0.5.3) (3.3.1)\n",
      "Collecting coloredlogs (from onnxruntime>=1.14.1->chromadb==0.5.3)\n",
      "  Downloading coloredlogs-15.0.1-py2.py3-none-any.whl.metadata (12 kB)\n",
      "Collecting flatbuffers (from onnxruntime>=1.14.1->chromadb==0.5.3)\n",
      "  Downloading flatbuffers-25.9.23-py2.py3-none-any.whl.metadata (875 bytes)\n",
      "Collecting sympy (from onnxruntime>=1.14.1->chromadb==0.5.3)\n",
      "  Downloading sympy-1.14.0-py3-none-any.whl.metadata (12 kB)\n",
      "Requirement already satisfied: deprecated>=1.2.6 in /opt/conda/lib/python3.10/site-packages (from opentelemetry-api>=1.2.0->chromadb==0.5.3) (1.2.18)\n",
      "Requirement already satisfied: importlib-metadata<=7.0,>=6.0 in /opt/conda/lib/python3.10/site-packages (from opentelemetry-api>=1.2.0->chromadb==0.5.3) (7.0.0)\n",
      "Requirement already satisfied: zipp>=0.5 in /opt/conda/lib/python3.10/site-packages (from importlib-metadata<=7.0,>=6.0->opentelemetry-api>=1.2.0->chromadb==0.5.3) (3.23.0)\n",
      "Requirement already satisfied: wrapt<2,>=1.10 in /opt/conda/lib/python3.10/site-packages (from deprecated>=1.2.6->opentelemetry-api>=1.2.0->chromadb==0.5.3) (1.17.3)\n",
      "Requirement already satisfied: opentelemetry-exporter-otlp-proto-common==1.24.0 in /opt/conda/lib/python3.10/site-packages (from opentelemetry-exporter-otlp-proto-grpc>=1.2.0->chromadb==0.5.3) (1.24.0)\n",
      "Requirement already satisfied: opentelemetry-proto==1.24.0 in /opt/conda/lib/python3.10/site-packages (from opentelemetry-exporter-otlp-proto-grpc>=1.2.0->chromadb==0.5.3) (1.24.0)\n",
      "INFO: pip is looking at multiple versions of opentelemetry-proto to determine which version is compatible with other requirements. This could take a while.\n",
      "Collecting opentelemetry-exporter-otlp-proto-common==1.24.0 (from opentelemetry-exporter-otlp-proto-grpc>=1.2.0->chromadb==0.5.3)\n",
      "  Using cached opentelemetry_exporter_otlp_proto_common-1.24.0-py3-none-any.whl.metadata (1.7 kB)\n",
      "Collecting opentelemetry-exporter-otlp-proto-grpc>=1.2.0 (from chromadb==0.5.3)\n",
      "  Downloading opentelemetry_exporter_otlp_proto_grpc-1.38.0-py3-none-any.whl.metadata (2.4 kB)\n",
      "Collecting opentelemetry-exporter-otlp-proto-common==1.38.0 (from opentelemetry-exporter-otlp-proto-grpc>=1.2.0->chromadb==0.5.3)\n",
      "  Downloading opentelemetry_exporter_otlp_proto_common-1.38.0-py3-none-any.whl.metadata (1.8 kB)\n",
      "Collecting opentelemetry-proto==1.38.0 (from opentelemetry-exporter-otlp-proto-grpc>=1.2.0->chromadb==0.5.3)\n",
      "  Downloading opentelemetry_proto-1.38.0-py3-none-any.whl.metadata (2.3 kB)\n",
      "Collecting opentelemetry-sdk>=1.2.0 (from chromadb==0.5.3)\n",
      "  Downloading opentelemetry_sdk-1.38.0-py3-none-any.whl.metadata (1.5 kB)\n",
      "Collecting opentelemetry-api>=1.2.0 (from chromadb==0.5.3)\n",
      "  Downloading opentelemetry_api-1.38.0-py3-none-any.whl.metadata (1.5 kB)\n",
      "Collecting opentelemetry-semantic-conventions==0.59b0 (from opentelemetry-sdk>=1.2.0->chromadb==0.5.3)\n",
      "  Downloading opentelemetry_semantic_conventions-0.59b0-py3-none-any.whl.metadata (2.4 kB)\n",
      "Collecting opentelemetry-instrumentation-asgi==0.59b0 (from opentelemetry-instrumentation-fastapi>=0.41b0->chromadb==0.5.3)\n",
      "  Downloading opentelemetry_instrumentation_asgi-0.59b0-py3-none-any.whl.metadata (2.0 kB)\n",
      "Collecting opentelemetry-instrumentation==0.59b0 (from opentelemetry-instrumentation-fastapi>=0.41b0->chromadb==0.5.3)\n",
      "  Downloading opentelemetry_instrumentation-0.59b0-py3-none-any.whl.metadata (7.1 kB)\n",
      "Collecting opentelemetry-util-http==0.59b0 (from opentelemetry-instrumentation-fastapi>=0.41b0->chromadb==0.5.3)\n",
      "  Downloading opentelemetry_util_http-0.59b0-py3-none-any.whl.metadata (2.6 kB)\n",
      "Collecting asgiref~=3.0 (from opentelemetry-instrumentation-asgi==0.59b0->opentelemetry-instrumentation-fastapi>=0.41b0->chromadb==0.5.3)\n",
      "  Downloading asgiref-3.10.0-py3-none-any.whl.metadata (9.3 kB)\n",
      "Collecting backoff>=1.10.0 (from posthog>=2.4.0->chromadb==0.5.3)\n",
      "  Downloading backoff-2.2.1-py3-none-any.whl.metadata (14 kB)\n",
      "Requirement already satisfied: distro>=1.5.0 in /opt/conda/lib/python3.10/site-packages (from posthog>=2.4.0->chromadb==0.5.3) (1.9.0)\n",
      "Collecting huggingface-hub<2.0,>=0.16.4 (from tokenizers>=0.13.2->chromadb==0.5.3)\n",
      "  Downloading huggingface_hub-0.35.3-py3-none-any.whl.metadata (14 kB)\n",
      "Requirement already satisfied: filelock in /opt/conda/lib/python3.10/site-packages (from huggingface-hub<2.0,>=0.16.4->tokenizers>=0.13.2->chromadb==0.5.3) (3.20.0)\n",
      "Requirement already satisfied: fsspec>=2023.5.0 in /opt/conda/lib/python3.10/site-packages (from huggingface-hub<2.0,>=0.16.4->tokenizers>=0.13.2->chromadb==0.5.3) (2025.9.0)\n",
      "Collecting hf-xet<2.0.0,>=1.1.3 (from huggingface-hub<2.0,>=0.16.4->tokenizers>=0.13.2->chromadb==0.5.3)\n",
      "  Downloading hf_xet-1.1.10-cp37-abi3-manylinux_2_17_x86_64.manylinux2014_x86_64.whl.metadata (4.7 kB)\n",
      "Requirement already satisfied: click>=8.0.0 in /opt/conda/lib/python3.10/site-packages (from typer>=0.9.0->chromadb==0.5.3) (8.1.8)\n",
      "Collecting shellingham>=1.3.0 (from typer>=0.9.0->chromadb==0.5.3)\n",
      "  Downloading shellingham-1.5.4-py2.py3-none-any.whl.metadata (3.5 kB)\n",
      "Requirement already satisfied: rich>=10.11.0 in /opt/conda/lib/python3.10/site-packages (from typer>=0.9.0->chromadb==0.5.3) (13.9.4)\n",
      "Requirement already satisfied: markdown-it-py>=2.2.0 in /opt/conda/lib/python3.10/site-packages (from rich>=10.11.0->typer>=0.9.0->chromadb==0.5.3) (4.0.0)\n",
      "Requirement already satisfied: pygments<3.0.0,>=2.13.0 in /opt/conda/lib/python3.10/site-packages (from rich>=10.11.0->typer>=0.9.0->chromadb==0.5.3) (2.19.2)\n",
      "Requirement already satisfied: mdurl~=0.1 in /opt/conda/lib/python3.10/site-packages (from markdown-it-py>=2.2.0->rich>=10.11.0->typer>=0.9.0->chromadb==0.5.3) (0.1.2)\n",
      "Requirement already satisfied: httptools>=0.6.3 in /opt/conda/lib/python3.10/site-packages (from uvicorn[standard]>=0.18.3->chromadb==0.5.3) (0.6.4)\n",
      "Requirement already satisfied: python-dotenv>=0.13 in /opt/conda/lib/python3.10/site-packages (from uvicorn[standard]>=0.18.3->chromadb==0.5.3) (1.1.1)\n",
      "Requirement already satisfied: uvloop>=0.15.1 in /opt/conda/lib/python3.10/site-packages (from uvicorn[standard]>=0.18.3->chromadb==0.5.3) (0.21.0)\n",
      "Requirement already satisfied: watchfiles>=0.13 in /opt/conda/lib/python3.10/site-packages (from uvicorn[standard]>=0.18.3->chromadb==0.5.3) (1.1.0)\n",
      "Requirement already satisfied: websockets>=10.4 in /opt/conda/lib/python3.10/site-packages (from uvicorn[standard]>=0.18.3->chromadb==0.5.3) (15.0.1)\n",
      "Collecting humanfriendly>=9.1 (from coloredlogs->onnxruntime>=1.14.1->chromadb==0.5.3)\n",
      "  Downloading humanfriendly-10.0-py2.py3-none-any.whl.metadata (9.2 kB)\n",
      "Requirement already satisfied: httplib2<1.0.0,>=0.19.0 in /opt/conda/lib/python3.10/site-packages (from google-api-python-client->google-generativeai) (0.31.0)\n",
      "Requirement already satisfied: google-auth-httplib2<1.0.0,>=0.2.0 in /opt/conda/lib/python3.10/site-packages (from google-api-python-client->google-generativeai) (0.2.0)\n",
      "Requirement already satisfied: uritemplate<5,>=3.0.1 in /opt/conda/lib/python3.10/site-packages (from google-api-python-client->google-generativeai) (4.2.0)\n",
      "Requirement already satisfied: pyparsing<4,>=3.0.4 in /opt/conda/lib/python3.10/site-packages (from httplib2<1.0.0,>=0.19.0->google-api-python-client->google-generativeai) (3.2.5)\n",
      "Collecting mpmath<1.4,>=1.1.0 (from sympy->onnxruntime>=1.14.1->chromadb==0.5.3)\n",
      "  Downloading mpmath-1.3.0-py3-none-any.whl.metadata (8.6 kB)\n",
      "Downloading chromadb-0.5.3-py3-none-any.whl (559 kB)\n",
      "\u001b[2K   \u001b[90m━━━━━━━━━━━━━━━━━━━━━━━━━━━━━━━━━━━━━━━━\u001b[0m \u001b[32m559.5/559.5 kB\u001b[0m \u001b[31m13.0 MB/s\u001b[0m  \u001b[33m0:00:00\u001b[0m\n",
      "\u001b[?25hDownloading chroma_hnswlib-0.7.3-cp310-cp310-manylinux_2_17_x86_64.manylinux2014_x86_64.whl (2.4 MB)\n",
      "\u001b[2K   \u001b[90m━━━━━━━━━━━━━━━━━━━━━━━━━━━━━━━━━━━━━━━━\u001b[0m \u001b[32m2.4/2.4 MB\u001b[0m \u001b[31m57.7 MB/s\u001b[0m  \u001b[33m0:00:00\u001b[0m\n",
      "\u001b[?25hDownloading google_generativeai-0.8.5-py3-none-any.whl (155 kB)\n",
      "Downloading google_ai_generativelanguage-0.6.15-py3-none-any.whl (1.3 MB)\n",
      "\u001b[2K   \u001b[90m━━━━━━━━━━━━━━━━━━━━━━━━━━━━━━━━━━━━━━━━\u001b[0m \u001b[32m1.3/1.3 MB\u001b[0m \u001b[31m66.8 MB/s\u001b[0m  \u001b[33m0:00:00\u001b[0m\n",
      "\u001b[?25hDownloading grpcio_status-1.71.2-py3-none-any.whl (14 kB)\n",
      "Downloading protobuf-5.29.5-cp38-abi3-manylinux2014_x86_64.whl (319 kB)\n",
      "Downloading bcrypt-5.0.0-cp39-abi3-manylinux_2_28_x86_64.whl (278 kB)\n",
      "Downloading build-1.3.0-py3-none-any.whl (23 kB)\n",
      "Downloading mmh3-5.2.0-cp310-cp310-manylinux1_x86_64.manylinux_2_28_x86_64.manylinux_2_5_x86_64.whl (101 kB)\n",
      "Downloading onnxruntime-1.23.2-cp310-cp310-manylinux_2_27_x86_64.manylinux_2_28_x86_64.whl (17.4 MB)\n",
      "\u001b[2K   \u001b[90m━━━━━━━━━━━━━━━━━━━━━━━━━━━━━━━━━━━━━━━━\u001b[0m \u001b[32m17.4/17.4 MB\u001b[0m \u001b[31m116.4 MB/s\u001b[0m  \u001b[33m0:00:00\u001b[0m\n",
      "\u001b[?25hDownloading opentelemetry_exporter_otlp_proto_grpc-1.38.0-py3-none-any.whl (19 kB)\n",
      "Downloading opentelemetry_proto-1.38.0-py3-none-any.whl (72 kB)\n",
      "Downloading opentelemetry_exporter_otlp_proto_common-1.38.0-py3-none-any.whl (18 kB)\n",
      "Downloading opentelemetry_sdk-1.38.0-py3-none-any.whl (132 kB)\n",
      "Downloading opentelemetry_api-1.38.0-py3-none-any.whl (65 kB)\n",
      "Downloading opentelemetry_semantic_conventions-0.59b0-py3-none-any.whl (207 kB)\n",
      "Downloading opentelemetry_instrumentation_fastapi-0.59b0-py3-none-any.whl (13 kB)\n",
      "Downloading opentelemetry_instrumentation-0.59b0-py3-none-any.whl (33 kB)\n",
      "Downloading opentelemetry_instrumentation_asgi-0.59b0-py3-none-any.whl (16 kB)\n",
      "Downloading opentelemetry_util_http-0.59b0-py3-none-any.whl (7.6 kB)\n",
      "Downloading asgiref-3.10.0-py3-none-any.whl (24 kB)\n",
      "Downloading orjson-3.11.3-cp310-cp310-manylinux_2_17_x86_64.manylinux2014_x86_64.whl (132 kB)\n",
      "Downloading posthog-6.7.8-py3-none-any.whl (137 kB)\n",
      "Downloading backoff-2.2.1-py3-none-any.whl (15 kB)\n",
      "Downloading tokenizers-0.22.1-cp39-abi3-manylinux_2_17_x86_64.manylinux2014_x86_64.whl (3.3 MB)\n",
      "\u001b[2K   \u001b[90m━━━━━━━━━━━━━━━━━━━━━━━━━━━━━━━━━━━━━━━━\u001b[0m \u001b[32m3.3/3.3 MB\u001b[0m \u001b[31m79.6 MB/s\u001b[0m  \u001b[33m0:00:00\u001b[0m\n",
      "\u001b[?25hDownloading huggingface_hub-0.35.3-py3-none-any.whl (564 kB)\n",
      "\u001b[2K   \u001b[90m━━━━━━━━━━━━━━━━━━━━━━━━━━━━━━━━━━━━━━━━\u001b[0m \u001b[32m564.3/564.3 kB\u001b[0m \u001b[31m20.0 MB/s\u001b[0m  \u001b[33m0:00:00\u001b[0m\n",
      "\u001b[?25hDownloading hf_xet-1.1.10-cp37-abi3-manylinux_2_17_x86_64.manylinux2014_x86_64.whl (3.2 MB)\n",
      "\u001b[2K   \u001b[90m━━━━━━━━━━━━━━━━━━━━━━━━━━━━━━━━━━━━━━━━\u001b[0m \u001b[32m3.2/3.2 MB\u001b[0m \u001b[31m99.3 MB/s\u001b[0m  \u001b[33m0:00:00\u001b[0m\n",
      "\u001b[?25hDownloading typer-0.20.0-py3-none-any.whl (47 kB)\n",
      "Downloading shellingham-1.5.4-py2.py3-none-any.whl (9.8 kB)\n",
      "Downloading coloredlogs-15.0.1-py2.py3-none-any.whl (46 kB)\n",
      "Downloading humanfriendly-10.0-py2.py3-none-any.whl (86 kB)\n",
      "Downloading flatbuffers-25.9.23-py2.py3-none-any.whl (30 kB)\n",
      "Downloading importlib_resources-6.5.2-py3-none-any.whl (37 kB)\n",
      "Downloading pyproject_hooks-1.2.0-py3-none-any.whl (10 kB)\n",
      "Downloading sympy-1.14.0-py3-none-any.whl (6.3 MB)\n",
      "\u001b[2K   \u001b[90m━━━━━━━━━━━━━━━━━━━━━━━━━━━━━━━━━━━━━━━━\u001b[0m \u001b[32m6.3/6.3 MB\u001b[0m \u001b[31m105.0 MB/s\u001b[0m  \u001b[33m0:00:00\u001b[0m\n",
      "\u001b[?25hDownloading mpmath-1.3.0-py3-none-any.whl (536 kB)\n",
      "\u001b[2K   \u001b[90m━━━━━━━━━━━━━━━━━━━━━━━━━━━━━━━━━━━━━━━━\u001b[0m \u001b[32m536.2/536.2 kB\u001b[0m \u001b[31m19.7 MB/s\u001b[0m  \u001b[33m0:00:00\u001b[0m\n",
      "\u001b[?25hBuilding wheels for collected packages: pypika\n",
      "  Building wheel for pypika (pyproject.toml) ... \u001b[?25ldone\n",
      "\u001b[?25h  Created wheel for pypika: filename=pypika-0.48.9-py2.py3-none-any.whl size=53803 sha256=39c1536488adac1431097fd91ba67feaa90134e13248a929734660d4c36f9e48\n",
      "  Stored in directory: /home/jupyter/.cache/pip/wheels/e1/26/51/d0bffb3d2fd82256676d7ad3003faea3bd6dddc9577af665f4\n",
      "Successfully built pypika\n",
      "Installing collected packages: pypika, mpmath, flatbuffers, sympy, shellingham, pyproject_hooks, protobuf, orjson, opentelemetry-util-http, mmh3, importlib-resources, humanfriendly, hf-xet, chroma-hnswlib, bcrypt, backoff, asgiref, posthog, opentelemetry-proto, opentelemetry-api, huggingface-hub, coloredlogs, build, typer, tokenizers, opentelemetry-semantic-conventions, opentelemetry-exporter-otlp-proto-common, onnxruntime, grpcio-status, opentelemetry-sdk, opentelemetry-instrumentation, opentelemetry-instrumentation-asgi, opentelemetry-exporter-otlp-proto-grpc, google-ai-generativelanguage, opentelemetry-instrumentation-fastapi, google-generativeai, chromadb\n",
      "\u001b[2K  Attempting uninstall: protobuf━━━━━━━━━━━━━━━━━━━━━━━━━━━━━━━━━━\u001b[0m \u001b[32m 3/37\u001b[0m [sympy]]\n",
      "\u001b[2K    Found existing installation: protobuf 4.25.8━━━━━━━━━━━━━━\u001b[0m \u001b[32m 3/37\u001b[0m [sympy]\n",
      "\u001b[2K    Uninstalling protobuf-4.25.8:━━━━━━━━━━━━━━━━━━━━━━━━━━━━━\u001b[0m \u001b[32m 3/37\u001b[0m [sympy]\n",
      "\u001b[2K      Successfully uninstalled protobuf-4.25.8━━━━━━━━━━━━━━━━\u001b[0m \u001b[32m 3/37\u001b[0m [sympy]\n",
      "\u001b[2K  Attempting uninstall: opentelemetry-proto0m━━━━━━━━━━━━━━━━━━━━━\u001b[0m \u001b[32m17/37\u001b[0m [posthog]]\n",
      "\u001b[2K    Found existing installation: opentelemetry-proto 1.24.0━━━\u001b[0m \u001b[32m17/37\u001b[0m [posthog]\n",
      "\u001b[2K    Uninstalling opentelemetry-proto-1.24.0:━━━━━━━━━━━━━━━━━━\u001b[0m \u001b[32m17/37\u001b[0m [posthog]\n",
      "\u001b[2K      Successfully uninstalled opentelemetry-proto-1.24.0━━━━━\u001b[0m \u001b[32m17/37\u001b[0m [posthog]\n",
      "\u001b[2K  Attempting uninstall: opentelemetry-api━━━━━━━━━━━━━━━━━━━━━\u001b[0m \u001b[32m17/37\u001b[0m [posthog]\n",
      "\u001b[2K    Found existing installation: opentelemetry-api 1.24.0━━━━━\u001b[0m \u001b[32m17/37\u001b[0m [posthog]\n",
      "\u001b[2K    Uninstalling opentelemetry-api-1.24.0:━━━━━━━━━━━━━━━━━━━━\u001b[0m \u001b[32m17/37\u001b[0m [posthog]\n",
      "\u001b[2K      Successfully uninstalled opentelemetry-api-1.24.0━━━━━━━━━━━\u001b[0m \u001b[32m19/37\u001b[0m [opentelemetry-api]\n",
      "\u001b[2K  Attempting uninstall: opentelemetry-semantic-conventions━━━━━━━━\u001b[0m \u001b[32m22/37\u001b[0m [build]gface-hub]\n",
      "\u001b[2K    Found existing installation: opentelemetry-semantic-conventions 0.45b0/37\u001b[0m [build]\n",
      "\u001b[2K    Uninstalling opentelemetry-semantic-conventions-0.45b0:━━━\u001b[0m \u001b[32m22/37\u001b[0m [build]\n",
      "\u001b[2K      Successfully uninstalled opentelemetry-semantic-conventions-0.45b022/37\u001b[0m [build]\n",
      "\u001b[2K  Attempting uninstall: opentelemetry-exporter-otlp-proto-common \u001b[32m25/37\u001b[0m [opentelemetry-semantic-conventions]\n",
      "\u001b[2K    Found existing installation: opentelemetry-exporter-otlp-proto-common 1.24.0ntelemetry-semantic-conventions]\n",
      "\u001b[2K    Uninstalling opentelemetry-exporter-otlp-proto-common-1.24.0:m25/37\u001b[0m [opentelemetry-semantic-conventions]\n",
      "\u001b[2K      Successfully uninstalled opentelemetry-exporter-otlp-proto-common-1.24.0pentelemetry-semantic-conventions]\n",
      "\u001b[2K  Attempting uninstall: grpcio-status\u001b[0m\u001b[90m╺\u001b[0m\u001b[90m━━━━━━━━━━\u001b[0m \u001b[32m27/37\u001b[0m [onnxruntime]-conventions]\n",
      "\u001b[2K    Found existing installation: grpcio-status 1.75.1━━━━━━━━━\u001b[0m \u001b[32m27/37\u001b[0m [onnxruntime]\n",
      "\u001b[2K    Uninstalling grpcio-status-1.75.1:[90m╺\u001b[0m\u001b[90m━━━━━━━━━━\u001b[0m \u001b[32m27/37\u001b[0m [onnxruntime]\n",
      "\u001b[2K      Successfully uninstalled grpcio-status-1.75.1m━━━━━━━━━━\u001b[0m \u001b[32m27/37\u001b[0m [onnxruntime]\n",
      "\u001b[2K   \u001b[91m━━━━━━━━━━━━━━━━━━━━━━━━━━━━━━\u001b[0m\u001b[90m╺\u001b[0m\u001b[90m━━━━━━━━━\u001b[0m \u001b[32m28/37\u001b[0m [grpcio-status]\u001b[33m  WARNING: Failed to remove contents in a temporary directory '/opt/conda/lib/python3.10/site-packages/~rpc_status'.\n",
      "  You can safely remove it manually.\u001b[0m\u001b[33m\n",
      "\u001b[2K  Attempting uninstall: opentelemetry-sdk\n",
      "\u001b[2K    Found existing installation: opentelemetry-sdk 1.24.0━━━━━\u001b[0m \u001b[32m28/37\u001b[0m [grpcio-status]\n",
      "\u001b[2K    Uninstalling opentelemetry-sdk-1.24.0:m╺\u001b[0m\u001b[90m━━━━━━━━━\u001b[0m \u001b[32m28/37\u001b[0m [grpcio-status]\n",
      "\u001b[2K      Successfully uninstalled opentelemetry-sdk-1.24.0━━━━━━━\u001b[0m \u001b[32m28/37\u001b[0m [grpcio-status]\n",
      "\u001b[2K  Attempting uninstall: opentelemetry-exporter-otlp-proto-grpc━━━\u001b[0m \u001b[32m30/37\u001b[0m [opentelemetry-instrumentation]\n",
      "\u001b[2K    Found existing installation: opentelemetry-exporter-otlp-proto-grpc 1.24.00m [opentelemetry-instrumentation]\n",
      "\u001b[2K    Uninstalling opentelemetry-exporter-otlp-proto-grpc-1.24.0:0m \u001b[32m30/37\u001b[0m [opentelemetry-instrumentation]\n",
      "\u001b[2K      Successfully uninstalled opentelemetry-exporter-otlp-proto-grpc-1.24.0\u001b[0m [opentelemetry-instrumentation]\n",
      "\u001b[2K   \u001b[90m━━━━━━━━━━━━━━━━━━━━━━━━━━━━━━━━━━━━━━━━\u001b[0m \u001b[32m37/37\u001b[0m [chromadb]/37\u001b[0m [chromadb]rumentation-fastapi]\n",
      "\u001b[1A\u001b[2K\u001b[31mERROR: pip's dependency resolver does not currently take into account all the packages that are installed. This behaviour is the source of the following dependency conflicts.\n",
      "kfp 2.14.4 requires protobuf<7.0,==6.31.1, but you have protobuf 5.29.5 which is incompatible.\n",
      "kfp-pipeline-spec 2.14.0 requires protobuf<7.0,==6.31.1, but you have protobuf 5.29.5 which is incompatible.\n",
      "opentelemetry-exporter-prometheus 0.58b0 requires opentelemetry-sdk~=1.37.0, but you have opentelemetry-sdk 1.38.0 which is incompatible.\u001b[0m\u001b[31m\n",
      "\u001b[0mSuccessfully installed asgiref-3.10.0 backoff-2.2.1 bcrypt-5.0.0 build-1.3.0 chroma-hnswlib-0.7.3 chromadb-0.5.3 coloredlogs-15.0.1 flatbuffers-25.9.23 google-ai-generativelanguage-0.6.15 google-generativeai-0.8.5 grpcio-status-1.71.2 hf-xet-1.1.10 huggingface-hub-0.35.3 humanfriendly-10.0 importlib-resources-6.5.2 mmh3-5.2.0 mpmath-1.3.0 onnxruntime-1.23.2 opentelemetry-api-1.38.0 opentelemetry-exporter-otlp-proto-common-1.38.0 opentelemetry-exporter-otlp-proto-grpc-1.38.0 opentelemetry-instrumentation-0.59b0 opentelemetry-instrumentation-asgi-0.59b0 opentelemetry-instrumentation-fastapi-0.59b0 opentelemetry-proto-1.38.0 opentelemetry-sdk-1.38.0 opentelemetry-semantic-conventions-0.59b0 opentelemetry-util-http-0.59b0 orjson-3.11.3 posthog-6.7.8 protobuf-5.29.5 pypika-0.48.9 pyproject_hooks-1.2.0 shellingham-1.5.4 sympy-1.14.0 tokenizers-0.22.1 typer-0.20.0\n"
     ]
    }
   ],
   "source": [
    "# In the first cell run the following command to install the Google Cloud Vertex AI SDKs and required dependencies packages. Either click the play play button at the top or enter SHIFT+ENTER on your keyboard to execute the cell.\n",
    "!pip3 install --upgrade --user google-cloud-aiplatform umap-learn tqdm pypdf\n",
    "!pip3 uninstall -y numpy\n",
    "!pip3 install \"numpy<2\"\n",
    "!pip install opentelemetry-api==1.24.0 opentelemetry-sdk==1.24.0 opentelemetry-exporter-otlp-proto-grpc==1.24.0 opentelemetry-exporter-otlp-proto-common==1.24.0 opentelemetry-proto==1.24.0\n",
    "!pip3 install chromadb==0.5.3  google-generativeai"
   ]
  },
  {
   "cell_type": "code",
   "execution_count": null,
   "id": "43603911-ef73-4e0c-93e3-fdba5b985181",
   "metadata": {},
   "outputs": [],
   "source": [
    "# Restart kernel after installs so that your environment can access the new packages.\n",
    "import IPython\n",
    "from IPython.display import Markdown, display\n",
    "import time\n",
    "\n",
    "app = IPython.Application.instance()\n",
    "app.kernel.do_shutdown(True)"
   ]
  },
  {
   "cell_type": "markdown",
   "id": "42a7788e-4746-4d60-b560-069d24dd5645",
   "metadata": {},
   "source": [
    "# Task 2. Setting up a RAG solution"
   ]
  },
  {
   "cell_type": "code",
   "execution_count": 2,
   "id": "c03cf871-a9d8-481e-a9db-b38ccf03c4a4",
   "metadata": {
    "tags": []
   },
   "outputs": [],
   "source": [
    "# Initialize the environment variables for the current project.\n",
    "PROJECT = !gcloud config get-value project\n",
    "PROJECT_ID = PROJECT[0]\n",
    "LOCATION = \"us-central1\""
   ]
  },
  {
   "cell_type": "code",
   "execution_count": 3,
   "id": "aac1e834-f094-4c8f-b6b4-c68c82a538bd",
   "metadata": {
    "tags": []
   },
   "outputs": [
    {
     "name": "stderr",
     "output_type": "stream",
     "text": [
      "/opt/conda/lib/python3.10/site-packages/google/protobuf/runtime_version.py:98: UserWarning: Protobuf gencode version 5.29.5 is exactly one major version older than the runtime version 6.31.1 at google/protobuf/empty.proto. Please update the gencode to avoid compatibility violations in the next runtime release.\n",
      "  warnings.warn(\n",
      "/home/jupyter/.local/lib/python3.10/site-packages/vertexai/_model_garden/_model_garden_models.py:278: UserWarning: This feature is deprecated as of June 24, 2025 and will be removed on June 24, 2026. For details, see https://cloud.google.com/vertex-ai/generative-ai/docs/deprecations/genai-vertexai-sdk.\n",
      "  warning_logs.show_deprecation_warning()\n",
      "/home/jupyter/.local/lib/python3.10/site-packages/vertexai/generative_models/_generative_models.py:433: UserWarning: This feature is deprecated as of June 24, 2025 and will be removed on June 24, 2026. For details, see https://cloud.google.com/vertex-ai/generative-ai/docs/deprecations/genai-vertexai-sdk.\n",
      "  warning_logs.show_deprecation_warning()\n"
     ]
    }
   ],
   "source": [
    "# Import python display utilities and Google Cloud's Embeddings and Gemini models.\n",
    "from vertexai.preview.generative_models import GenerativeModel\n",
    "from vertexai.language_models import TextEmbeddingModel\n",
    "text_embedding_model = TextEmbeddingModel.from_pretrained(\"text-embedding-004\")\n",
    "model = GenerativeModel('gemini-2.5-flash')"
   ]
  },
  {
   "cell_type": "code",
   "execution_count": 6,
   "id": "42b77706-5386-48db-8555-e716917e1f54",
   "metadata": {
    "tags": []
   },
   "outputs": [
    {
     "data": {
      "text/plain": [
       "('287eecc5-a885-4a20-8d15-a6847ee5086f.pdf',\n",
       " <http.client.HTTPMessage at 0x7f8bde49ee00>)"
      ]
     },
     "execution_count": 6,
     "metadata": {},
     "output_type": "execute_result"
    }
   ],
   "source": [
    "# Download Alphabet's financial annual report for 2022 so that we can query it.\n",
    "import urllib.request\n",
    "\n",
    "# ORIGINAL URL\n",
    "# https://abc.xyz/assets/d4/4f/a48b94d548d0b2fdc029a95e8c63/2022-alphabet-annual-report.pdf\n",
    "# # download alphabet's annual pdf report\n",
    "# url = \"https://abc.xyz/assets/d4/4f/a48b94d548d0b2fdc029a95e8c63\"\n",
    "# file = \"2022-alphabet-annual-report.pdf\"\n",
    "\n",
    "\n",
    "# TROUBLESHOOT AND FIX URL\n",
    "# https://abc.xyz/investor/sec-filings/annual-filings/2022/\n",
    "# https://d18rn0p25nwr6d.cloudfront.net/CIK-0001652044/287eecc5-a885-4a20-8d15-a6847ee5086f.pdf\n",
    "# download alphabet's annual pdf report\n",
    "url = \"https://d18rn0p25nwr6d.cloudfront.net/CIK-0001652044\"\n",
    "file = \"287eecc5-a885-4a20-8d15-a6847ee5086f.pdf\"\n",
    "\n",
    "urllib.request.urlretrieve(f\"{url}/{file}\", filename=f\"{file}\")"
   ]
  },
  {
   "cell_type": "code",
   "execution_count": 7,
   "id": "406966f9-d569-4b01-a898-a0f7a2cdfeaa",
   "metadata": {
    "tags": []
   },
   "outputs": [
    {
     "name": "stdout",
     "output_type": "stream",
     "text": [
      "Collecting PyPDF2\n",
      "  Downloading pypdf2-3.0.1-py3-none-any.whl.metadata (6.8 kB)\n",
      "Downloading pypdf2-3.0.1-py3-none-any.whl (232 kB)\n",
      "Installing collected packages: PyPDF2\n",
      "Successfully installed PyPDF2-3.0.1\n",
      "UNITED STATES\n",
      "SECURITIES AND EXCHANGE COMMISSION\n",
      "Washington, D.C. 20549\n",
      "___________________________________________\n",
      "FORM 10-K\n",
      "___________________________________________\n",
      "(Mark One)\n",
      "☒ ANNUAL  REPORT PURSUANT T O SECTION 13 OR 15(d) OF THE SECURITIES EXCHANGE ACT OF 1934\n",
      "For the fiscal year ended December 31, 2021\n",
      "OR\n",
      "☐ TRANSITION REPORT PURSUANT T O SECTION 13 OR 15(d) OF THE SECURITIES EXCHANGE ACT OF 1934\n",
      "For the transition period from              to             .\n",
      "Commission file number: 001-37580\n",
      "___________________________________________\n",
      "Alphabet Inc.\n",
      "(Exact name of registrant as specified in its charter)\n",
      "___________________________________________\n",
      "Delaware 61-1767919\n",
      "(State or other jurisdiction of incorporation or organization) (I.R.S. Employer Identification No.)\n",
      "1600 Amphitheatre Parkway\n",
      "Mountain V iew, CA 94043\n",
      "(Address of principal executive offices, including zip code)\n",
      "(650) 253-0000\n",
      "(Registrant's telephone number, including area code)\n",
      "Securities registered pursuant to Section 12(b) of the Act:\n",
      "Title of each class Trading Symbol(s) Name of each exchange on which registered\n",
      "Class A Common Stock, $0.001 par value GOOGL Nasdaq Stock Market LLC\n",
      "(Nasdaq Global Select Market)\n",
      "Class C Capital Stock, $0.001 par value GOOG Nasdaq Stock Market LLC\n",
      "(Nasdaq Global Select Market)\n",
      "Securities registered pursuant to Section 12(g) of the Act:\n",
      "Title of each class\n",
      "None\n",
      "___________________________________________\n",
      "Indicate by check mark if the registrant is a well-known seasoned issuer , as defined in Rule 405 of the Securities Act.    Yes  ☒    No  ☐\n",
      "Indicate by check mark if the registrant is not required to file reports pursuant to Section 13 or Section 15(d) of the Act.    Yes  ☐   No  ☒\n",
      "Indicate by check mark whether the registrant (1) has filed all reports required to be filed by Section 13 or 15(d) of the Securities Exchange Act of 1934 during the\n",
      "preceding 12 months (or for such shorter period that the registrant was required to file such reports), and (2) has been subject to such filing requirements for the past\n",
      "90 days.    Yes  ☒    No  ☐\n",
      "Indicate by check mark whether the registrant has submitted electronically every Interactive Data  File required to be submitted pursuant to Rule 405 of Regulation S-T\n",
      "(§232.405 of this chapter) during the preceding 12 months (or for such shorter period that the registrant was required to submit such files).    Yes  ☒    No  ☐\n",
      "Indicate by check mark whether the registrant is a large accelerated filer, an accelerated filer, a non-accelerated filer, a smaller reporting company , or an emerging\n",
      "growth comp any. See the definitions of “large accelerated filer,” “accelerated filer,” “smaller reporting company ,” and \"emerging growth company\" in Rule 12b-2 of the\n",
      "Exchange Act.\n"
     ]
    }
   ],
   "source": [
    "# Convert the PDF into text.\n",
    "!pip install PyPDF2\n",
    "import PyPDF2\n",
    "\n",
    "# Open the PDF file in binary mode\n",
    "# with open('2022-alphabet-annual-report.pdf', 'rb') as file:\n",
    "# FIX\n",
    "with open(file, 'rb') as file:\n",
    "    # Create a PdfFileReader object\n",
    "    pdf_reader = PyPDF2.PdfReader(file)\n",
    "    pdf_texts = [p.extract_text().strip() for p in pdf_reader.pages]\n",
    "\n",
    "    # Filter the empty strings\n",
    "    pdf_texts = [text for text in pdf_texts if text]\n",
    "\n",
    "    print(pdf_texts[0])"
   ]
  },
  {
   "cell_type": "markdown",
   "id": "cb9bfc66-4edc-4831-9006-2449a32296ab",
   "metadata": {},
   "source": [
    "## Chunk Option 1 - RecursiveCharacterTextSplitter 1k chars per chunk\n",
    "* Prioritizing breaking at semantically important points like paragraphs (\\n\\n) and lines (\\n)\n",
    "* This prevents a sentence from being awkwardly cut in half just because it hit the 1000-character limit"
   ]
  },
  {
   "cell_type": "markdown",
   "id": "ffe24408-7217-4d9f-b5d3-a14993f5dfdb",
   "metadata": {},
   "source": [
    "You're hitting a breaking change in LangChain’s import paths. Since mid‑2024 and reinforced in later docs (updated through 2025), text splitters were moved out of the langchain package into a separate distribution: langchain-text-splitters. So importing from langchain.text_splitter now fails with ModuleNotFoundError. The current docs show you should import from langchain_text_splitters after installing that package.\n",
    "\n",
    "Old https://python.langchain.com/docs/concepts/text_splitters/\n",
    "\n",
    "New https://docs.langchain.com/oss/python/integrations/splitters/index"
   ]
  },
  {
   "cell_type": "code",
   "execution_count": 9,
   "id": "19526045-1ecb-4682-a935-ee2f764424b0",
   "metadata": {
    "tags": []
   },
   "outputs": [
    {
     "name": "stdout",
     "output_type": "stream",
     "text": [
      "Note: you may need to restart the kernel to use updated packages.\n",
      "•the expected variability of gains and losses related to hedging activities under our foreign exchange risk management program;\n",
      "•the amount and timing of revenue recognition from customer contracts with commitments for performance obligations, including our estimate\n",
      "of the remaining amount of commitments and when we expect to recognize revenue;\n",
      "•fluctuations in our capital expenditures;\n",
      "•our plans to continue to invest in new businesses, products, services and technologies, systems, land and buildings for data centers and\n",
      "offices, and infrastructure, as well as to continue to invest in acquisitions and strategic investments;\n",
      "•our pace of hiring and our plans to provide competitive compensation programs;\n",
      "•our expectation that our cost of revenues, research and development (R&D) expenses, sales and marketing expenses, and general and\n",
      "administrative expenses may increase in amount and/or may increase as a percentage of revenues and may be affected by a number of\n",
      "factors;\n",
      "\n",
      "Total chunks: 514\n"
     ]
    }
   ],
   "source": [
    "# Split the PDF into chunks so that we can create embedding out of them. The embedding's APIs and the LLM have token limits, that's why we need to split the text into smaller units as opposed to sending the whole text.\n",
    "# !pip install langchain sentence-transformers\n",
    "# # ModuleNotFoundError: No module named 'langchain.text_splitter'\n",
    "# from langchain.text_splitter import RecursiveCharacterTextSplitter, SentenceTransformersTokenTextSplitter\n",
    "\n",
    "\n",
    "# Use -q to keep the output tidy; upgrade to latest compatible versions\n",
    "%pip install -qU langchain-text-splitters sentence-transformers\n",
    "\n",
    "from langchain_text_splitters import (\n",
    "    RecursiveCharacterTextSplitter,\n",
    "    SentenceTransformersTokenTextSplitter,  # requires sentence-transformers installed\n",
    ")\n",
    "\n",
    "\n",
    "character_splitter = RecursiveCharacterTextSplitter(\n",
    "    separators=[\"\\n\\n\", \"\\n\", \". \", \" \", \"\"],\n",
    "    chunk_size=1000,\n",
    "    chunk_overlap=0\n",
    ")\n",
    "character_split_texts = character_splitter.split_text('\\n\\n'.join(pdf_texts))\n",
    "\n",
    "print(character_split_texts[10])\n",
    "print(f\"\\nTotal chunks: {len(character_split_texts)}\")"
   ]
  },
  {
   "cell_type": "code",
   "execution_count": 10,
   "id": "67e1a4a5-344a-452a-9fc3-414b4257ebc4",
   "metadata": {
    "tags": []
   },
   "outputs": [
    {
     "name": "stdout",
     "output_type": "stream",
     "text": [
      "•estimates of our future compensation expenses;\n",
      "•our expectation that our other income (expense), net (OI&E), will fluctuate in the future, as it is largely driven by market dynamics;\n",
      "•fluctuations in our effective tax rate;\n",
      "•seasonal fluctuations in internet usage and advertiser expenditures, underlying business trends such as traditional retail seasonality, which\n",
      "are likely to cause fluctuations in our quarterly results;\n",
      "•the sufficiency of our sources of funding;\n",
      "•our potential exposure in connection with new and pending investigations, proceedings, and other contingencies;\n",
      "3\n"
     ]
    }
   ],
   "source": [
    "# 12-TH CHUNK\n",
    "print(character_split_texts[11])"
   ]
  },
  {
   "cell_type": "markdown",
   "id": "879ebd50-c99b-4b13-96ed-5e3dd8227750",
   "metadata": {},
   "source": [
    "## Chunk Option 2 - SentenceTransformersTokenTextSplitter 256 tokens per chunk\n",
    "* try to be compatible with models with strict token limit (e.g., 512, 1024, or 2048 tokens)"
   ]
  },
  {
   "cell_type": "code",
   "execution_count": 11,
   "id": "e17d2167-5e1b-4970-9d81-032cc347e8a1",
   "metadata": {
    "tags": []
   },
   "outputs": [
    {
     "data": {
      "application/vnd.jupyter.widget-view+json": {
       "model_id": "57f5151fab0e48a2a8f8f3a9adcb4603",
       "version_major": 2,
       "version_minor": 0
      },
      "text/plain": [
       "modules.json:   0%|          | 0.00/349 [00:00<?, ?B/s]"
      ]
     },
     "metadata": {},
     "output_type": "display_data"
    },
    {
     "data": {
      "application/vnd.jupyter.widget-view+json": {
       "model_id": "15969f8d04ec490982bc02549fcf3411",
       "version_major": 2,
       "version_minor": 0
      },
      "text/plain": [
       "config_sentence_transformers.json:   0%|          | 0.00/116 [00:00<?, ?B/s]"
      ]
     },
     "metadata": {},
     "output_type": "display_data"
    },
    {
     "data": {
      "application/vnd.jupyter.widget-view+json": {
       "model_id": "040fb69d8c5b4de280ae83a81fdfdbac",
       "version_major": 2,
       "version_minor": 0
      },
      "text/plain": [
       "README.md: 0.00B [00:00, ?B/s]"
      ]
     },
     "metadata": {},
     "output_type": "display_data"
    },
    {
     "data": {
      "application/vnd.jupyter.widget-view+json": {
       "model_id": "a458156399aa4227ab6fc7576b149d39",
       "version_major": 2,
       "version_minor": 0
      },
      "text/plain": [
       "sentence_bert_config.json:   0%|          | 0.00/53.0 [00:00<?, ?B/s]"
      ]
     },
     "metadata": {},
     "output_type": "display_data"
    },
    {
     "data": {
      "application/vnd.jupyter.widget-view+json": {
       "model_id": "3ddf89b95de04a29a7643d42eb0a5736",
       "version_major": 2,
       "version_minor": 0
      },
      "text/plain": [
       "config.json:   0%|          | 0.00/571 [00:00<?, ?B/s]"
      ]
     },
     "metadata": {},
     "output_type": "display_data"
    },
    {
     "data": {
      "application/vnd.jupyter.widget-view+json": {
       "model_id": "689a07484ece48a5b7ca1b946d6da029",
       "version_major": 2,
       "version_minor": 0
      },
      "text/plain": [
       "model.safetensors:   0%|          | 0.00/438M [00:00<?, ?B/s]"
      ]
     },
     "metadata": {},
     "output_type": "display_data"
    },
    {
     "data": {
      "application/vnd.jupyter.widget-view+json": {
       "model_id": "a1fa9e23029c4acda3a004b3002bb25f",
       "version_major": 2,
       "version_minor": 0
      },
      "text/plain": [
       "tokenizer_config.json:   0%|          | 0.00/363 [00:00<?, ?B/s]"
      ]
     },
     "metadata": {},
     "output_type": "display_data"
    },
    {
     "data": {
      "application/vnd.jupyter.widget-view+json": {
       "model_id": "9fdb3f3c83fb40d4a222e3652c10094d",
       "version_major": 2,
       "version_minor": 0
      },
      "text/plain": [
       "vocab.txt: 0.00B [00:00, ?B/s]"
      ]
     },
     "metadata": {},
     "output_type": "display_data"
    },
    {
     "data": {
      "application/vnd.jupyter.widget-view+json": {
       "model_id": "3383de2387204477b52a06e148e117b3",
       "version_major": 2,
       "version_minor": 0
      },
      "text/plain": [
       "tokenizer.json: 0.00B [00:00, ?B/s]"
      ]
     },
     "metadata": {},
     "output_type": "display_data"
    },
    {
     "data": {
      "application/vnd.jupyter.widget-view+json": {
       "model_id": "68c645f405ae44d9b961def2441b31f9",
       "version_major": 2,
       "version_minor": 0
      },
      "text/plain": [
       "special_tokens_map.json:   0%|          | 0.00/239 [00:00<?, ?B/s]"
      ]
     },
     "metadata": {},
     "output_type": "display_data"
    },
    {
     "data": {
      "application/vnd.jupyter.widget-view+json": {
       "model_id": "037d47ffb3a341dda709d19bb31eb664",
       "version_major": 2,
       "version_minor": 0
      },
      "text/plain": [
       "config.json:   0%|          | 0.00/190 [00:00<?, ?B/s]"
      ]
     },
     "metadata": {},
     "output_type": "display_data"
    },
    {
     "name": "stdout",
     "output_type": "stream",
     "text": [
      "table of contents alphabet inc. note about forward - looking statements this annual report on form 10 - k contains forward - looking statements within the meaning of the private securities litigation reform act of 1995. these include, among other things, statements regarding : • the ongoing effect of the novel coronavirus pandemic ( \" covid - 19 \" ), including its macroeconomic effects on our business, operations, and financial results ; • the growth of our business and revenues and our expectations about the factors that influence our success and trends in our business ; • fluctuations in our revenue growth rate and operating margin and various factors contributing to such fluctuations ; • our expectation that the continuing shift from an offline to online world will continue to benefit our business ; • our expectation that the portion of our revenues that we derive from non - advertising revenues will continue to increase and may affect our margins ;\n",
      "\n",
      "Total chunks: 535\n"
     ]
    }
   ],
   "source": [
    "# Create more chunks if the size of the existing chunk is too big. In this case, we define too big as 256 tokens.\n",
    "token_splitter = SentenceTransformersTokenTextSplitter(chunk_overlap=0, tokens_per_chunk=256)\n",
    "\n",
    "token_split_texts = []\n",
    "for text in character_split_texts:\n",
    "    token_split_texts += token_splitter.split_text(text)\n",
    "\n",
    "print(token_split_texts[10])\n",
    "print(f\"\\nTotal chunks: {len(token_split_texts)}\")"
   ]
  },
  {
   "cell_type": "code",
   "execution_count": 12,
   "id": "424ec752-768d-41b0-983f-1e0ce8348011",
   "metadata": {
    "tags": []
   },
   "outputs": [
    {
     "name": "stdout",
     "output_type": "stream",
     "text": [
      "• our expectation that our traffic acquisition costs ( tac ) and the associated tac rate will fluctuate, which could affect our overall margins ; • our expectation that our monetization trends will fluctuate, which could affect our revenues and margins ; • fluctuations in our revenue growth, as well as the change in paid clicks and cost - per - click and the change in impressions and cost - per - impression, and various factors contributing to such fluctuations ; • our expectation that we will continue to periodically review, refine, and update our methodologies for monitoring, gathering, and counting the number of paid clicks and impressions ; • our expectation that our results will be affected by our performance in international markets as users in developing economies increasingly come online ; • our expectation that our foreign exchange risk management program will not fully offset our net exposure to fluctuations in foreign currency exchange rates ;\n"
     ]
    }
   ],
   "source": [
    "# 12-TH CHUNK\n",
    "print(token_split_texts[11])"
   ]
  },
  {
   "cell_type": "code",
   "execution_count": 13,
   "id": "00f9a29c-fe21-49f2-8469-89329906d4d6",
   "metadata": {
    "tags": []
   },
   "outputs": [
    {
     "data": {
      "application/vnd.jupyter.widget-view+json": {
       "model_id": "0c4d7f3506604ee6b96d8ddf6a801747",
       "version_major": 2,
       "version_minor": 0
      },
      "text/plain": [
       "modules.json:   0%|          | 0.00/349 [00:00<?, ?B/s]"
      ]
     },
     "metadata": {},
     "output_type": "display_data"
    },
    {
     "data": {
      "application/vnd.jupyter.widget-view+json": {
       "model_id": "892ac85831e449abb050d1429594960c",
       "version_major": 2,
       "version_minor": 0
      },
      "text/plain": [
       "config_sentence_transformers.json:   0%|          | 0.00/116 [00:00<?, ?B/s]"
      ]
     },
     "metadata": {},
     "output_type": "display_data"
    },
    {
     "data": {
      "application/vnd.jupyter.widget-view+json": {
       "model_id": "061e82185918437282638c919bf85ac3",
       "version_major": 2,
       "version_minor": 0
      },
      "text/plain": [
       "README.md: 0.00B [00:00, ?B/s]"
      ]
     },
     "metadata": {},
     "output_type": "display_data"
    },
    {
     "data": {
      "application/vnd.jupyter.widget-view+json": {
       "model_id": "5e2b5f39068f41c5ab527e70f1ca7ee5",
       "version_major": 2,
       "version_minor": 0
      },
      "text/plain": [
       "sentence_bert_config.json:   0%|          | 0.00/53.0 [00:00<?, ?B/s]"
      ]
     },
     "metadata": {},
     "output_type": "display_data"
    },
    {
     "data": {
      "application/vnd.jupyter.widget-view+json": {
       "model_id": "ec25abefb0f44196896f153623bb3655",
       "version_major": 2,
       "version_minor": 0
      },
      "text/plain": [
       "config.json:   0%|          | 0.00/612 [00:00<?, ?B/s]"
      ]
     },
     "metadata": {},
     "output_type": "display_data"
    },
    {
     "data": {
      "application/vnd.jupyter.widget-view+json": {
       "model_id": "967cf542f48941f2897c585080a046d5",
       "version_major": 2,
       "version_minor": 0
      },
      "text/plain": [
       "model.safetensors:   0%|          | 0.00/90.9M [00:00<?, ?B/s]"
      ]
     },
     "metadata": {},
     "output_type": "display_data"
    },
    {
     "data": {
      "application/vnd.jupyter.widget-view+json": {
       "model_id": "0ef5af73e58f4714821de265f3e3e81a",
       "version_major": 2,
       "version_minor": 0
      },
      "text/plain": [
       "tokenizer_config.json:   0%|          | 0.00/350 [00:00<?, ?B/s]"
      ]
     },
     "metadata": {},
     "output_type": "display_data"
    },
    {
     "data": {
      "application/vnd.jupyter.widget-view+json": {
       "model_id": "5532aeee46074a5cb49993ff43af9669",
       "version_major": 2,
       "version_minor": 0
      },
      "text/plain": [
       "vocab.txt: 0.00B [00:00, ?B/s]"
      ]
     },
     "metadata": {},
     "output_type": "display_data"
    },
    {
     "data": {
      "application/vnd.jupyter.widget-view+json": {
       "model_id": "6c588e65617e47b685e922b0edd9966a",
       "version_major": 2,
       "version_minor": 0
      },
      "text/plain": [
       "tokenizer.json: 0.00B [00:00, ?B/s]"
      ]
     },
     "metadata": {},
     "output_type": "display_data"
    },
    {
     "data": {
      "application/vnd.jupyter.widget-view+json": {
       "model_id": "f43646b374d84d24a16a98cec5e8cc77",
       "version_major": 2,
       "version_minor": 0
      },
      "text/plain": [
       "special_tokens_map.json:   0%|          | 0.00/112 [00:00<?, ?B/s]"
      ]
     },
     "metadata": {},
     "output_type": "display_data"
    },
    {
     "data": {
      "application/vnd.jupyter.widget-view+json": {
       "model_id": "ad738cc83e7044c49a75247d4155c0bb",
       "version_major": 2,
       "version_minor": 0
      },
      "text/plain": [
       "config.json:   0%|          | 0.00/190 [00:00<?, ?B/s]"
      ]
     },
     "metadata": {},
     "output_type": "display_data"
    },
    {
     "name": "stdout",
     "output_type": "stream",
     "text": [
      "[[-0.0365925133228302, -0.010703692212700844, -0.0021942227613180876, -0.049676235765218735, 0.07546355575323105, 0.0888473391532898, 0.026042718440294266, 0.05991791933774948, 0.054373979568481445, 0.02498079463839531, 0.009887986816465855, 0.14011138677597046, -0.017944460734725, -0.05805475264787674, 0.01252768374979496, -0.03697869926691055, -0.013064882718026638, -0.007141645532101393, -0.014935622923076153, 0.019037894904613495, 0.00034864037297666073, 0.10924924165010452, 0.0016119707142934203, 0.04441283643245697, -0.029929647222161293, 0.0005316922906786203, -0.09327124059200287, -0.0345306321978569, -0.08202841132879257, -0.011286755092442036, -0.02656101994216442, 0.03735397011041641, 0.05736353620886803, 0.010217706672847271, 0.05504707619547844, -0.06269529461860657, 0.0015724350232630968, -0.02006382681429386, 0.03998721018433571, 0.005623972043395042, 0.04061003401875496, -0.09758540987968445, -0.02094629779458046, 0.010858150199055672, 0.0676194280385971, -0.01673540472984314, -0.08501047641038895, 0.04934301599860191, -0.02126680314540863, 0.07668783515691757, -0.10519780963659286, -0.015022835694253445, 0.0033351073507219553, -0.0173061341047287, -0.03426462411880493, 0.025730004534125328, -0.04377172514796257, -0.01977463997900486, 0.011324238032102585, 0.0017769065452739596, 0.050012633204460144, -0.0022967674303799868, -0.013650058768689632, 0.09225301444530487, 0.024603629484772682, -0.009059390053153038, 0.08770915120840073, 0.046582892537117004, -0.06967322528362274, 0.012415864504873753, -0.007369569502770901, 0.03814632445573807, -0.08388961106538773, 0.028759004548192024, -0.07950664311647415, 0.016267063096165657, 0.028514958918094635, 0.048225004225969315, 0.05690943822264671, -0.05783819779753685, 0.006284511648118496, 0.007939460687339306, 0.036327335983514786, -0.03939995914697647, -0.06822317838668823, -0.04166039079427719, 0.08343290537595749, -0.030695343390107155, 0.043972574174404144, 0.03110753558576107, 0.04575721547007561, -0.07590090483427048, 0.16382981836795807, 0.06576327979564667, -0.10649261623620987, -0.0039368062280118465, -0.022570613771677017, -0.08391081541776657, 0.03711959719657898, 0.055779632180929184, 0.008655320852994919, 0.05130058526992798, 0.031018752604722977, -0.06781598925590515, -0.13208550214767456, -0.09006146341562271, 0.05529322847723961, -0.0036127548664808273, -0.007862568832933903, -0.004664135165512562, -0.03663463145494461, 0.04766932874917984, -0.056223321706056595, -0.1620604246854782, -0.0028973137959837914, 0.009922191500663757, -0.05155755952000618, 0.004562085028737783, 0.11426947265863419, -0.036835432052612305, 0.024561431258916855, 0.01292161550372839, -0.0940227210521698, -0.03083866275846958, -0.06753366440534592, -0.0365033820271492, -0.0003042143944185227, 1.6596328342623558e-34, -0.02719840593636036, -0.02159428410232067, 0.04186757281422615, 0.062383417040109634, -0.020765097811818123, 0.02716040052473545, 0.003437694860622287, -0.004325010348111391, -0.06663968414068222, 0.03347061201930046, -0.01308570709079504, 0.05310656502842903, 0.04882235825061798, 0.022407270967960358, -0.032360222190618515, -0.00015837507089599967, -0.04936299845576286, 0.08766107261180878, 0.06703677773475647, -0.037353601306676865, 0.05278819799423218, -0.02289179340004921, 0.03438808396458626, 0.049257855862379074, 0.035229723900556564, -0.03190405294299126, -0.06263922154903412, -0.046800121665000916, -0.02045556902885437, 0.016604462638497353, 0.05146629363298416, 0.025626400485634804, 0.03788996860384941, -0.059833452105522156, -0.0015476519474759698, 0.07299040257930756, -0.0278118047863245, -0.057885292917490005, 0.08646116405725479, 0.029045626521110535, -0.030418893322348595, 0.03673345595598221, -0.05869586020708084, -0.017641110345721245, 0.02404680661857128, 0.03566703572869301, -0.008995928801596165, 0.0022047925740480423, -0.030997594818472862, -0.023004449903964996, -0.045151207596063614, 0.05454154312610626, -0.01772376149892807, -0.014345764182507992, 0.002722762990742922, 0.029360750690102577, -0.033098988234996796, -0.017547456547617912, -0.00490249739959836, -0.006221049930900335, 0.08449103683233261, 0.02339113876223564, 0.013437118381261826, 0.017010899260640144, -0.13621367514133453, 0.07191842049360275, 0.027667010203003883, -0.06445828080177307, 0.016971327364444733, -0.016592688858509064, 0.027624953538179398, 0.017781823873519897, 0.018414737656712532, -0.03628360107541084, -0.00437623867765069, -0.04608864337205887, -0.04762785881757736, -0.020433971658349037, 0.03657466545701027, -0.024781111627817154, 0.03260308876633644, -0.044443290680646896, 0.09464985877275467, 0.008259627036750317, -0.002434404566884041, 0.05663036182522774, 0.028552750125527382, 0.03074491210281849, -0.017633967101573944, 0.02199716679751873, -0.011560514569282532, 0.02200241945683956, 0.0009941960452124476, 0.07961079478263855, 0.022653205320239067, -2.6155340726391155e-33, -0.10240637511014938, -0.01642685756087303, -0.07707397639751434, -0.036286793649196625, -0.08714012801647186, 0.06198054552078247, 0.035604432225227356, 0.06741642951965332, 0.03710782155394554, 0.019084174185991287, -0.031864628195762634, -0.031310275197029114, -0.03827369958162308, -0.05888301134109497, -0.053633902221918106, -0.003656902816146612, 0.0673145055770874, -0.024634137749671936, -0.06700506061315536, -0.0048035914078354836, 0.001289868843741715, 0.049483899027109146, -0.00790040660649538, 0.04929335415363312, -0.01545186061412096, 0.0611610934138298, 0.032512009143829346, 0.012322133406996727, 0.017877062782645226, -0.0038990159519016743, -0.014137135818600655, -0.01695025898516178, -0.09028302133083344, 0.08750014752149582, -0.018324226140975952, -0.05712541937828064, 0.07313746958971024, -0.0666499063372612, -0.017082205042243004, -0.04935106262564659, 0.03320631757378578, 0.052236661314964294, 0.036240335553884506, -0.0005092071369290352, -0.0032626581378281116, 0.04361222684383392, 0.014696137979626656, -0.05142545327544212, 0.05621667578816414, 0.021520424634218216, -0.02175414375960827, -0.03994542732834816, 0.0007073711021803319, 0.022955644875764847, -0.11109620332717896, 0.07299280166625977, -0.04376797005534172, -0.04252423346042633, -0.05998357757925987, -0.00798266101628542, -0.0005468271556310356, 0.07875384390354156, -0.061985332518815994, 0.007347027771174908, 0.056663040071725845, -0.09082145243883133, -0.004956517834216356, -0.05589541047811508, 0.10160832852125168, -0.1191420778632164, -0.024711813777685165, -0.10648687183856964, -0.040670525282621384, -0.09748659282922745, -0.06076366454362869, 0.07403367757797241, 0.04553990811109543, -0.048711083829402924, -0.09780711680650711, 0.0726279690861702, 0.05148652195930481, 0.04347941279411316, -0.013661224395036697, -0.0280123520642519, 0.015973681584000587, -0.03041980229318142, 0.022628415375947952, -0.055201493203639984, -0.05030489340424538, 0.08421541005373001, -0.1045084148645401, -0.07288443297147751, -0.014591912738978863, 0.017968080937862396, -0.040493059903383255, -6.296318844078996e-08, 0.053619496524333954, -0.06306871026754379, 0.019009867683053017, 0.07047975808382034, 0.029653778299689293, -0.011019363068044186, 0.032612934708595276, -0.017277510836720467, -0.01175597496330738, 0.0005276940646581352, 0.0786995142698288, -0.0024465282913297415, -0.05512199178338051, 0.008562696166336536, 0.0007491043070331216, 0.00627489248290658, -0.09301842749118805, 0.010407065972685814, -0.046085432171821594, -0.030741682276129723, -0.029036035761237144, 0.06686586886644363, -0.006435427814722061, -0.04391149431467056, 0.04252124950289726, 0.08185366541147232, 0.021709617227315903, 0.04401899501681328, 0.05146915093064308, -0.01965569518506527, -0.045098926872015, 0.0038787999656051397, 0.04510360211133957, -0.012516896240413189, -0.07131800055503845, 0.022665249183773994, 0.05803265795111656, 0.02624032460153103, 0.017551783472299576, 0.004690659698098898, -0.024914264678955078, -0.02643713168799877, 0.04936902970075607, 0.08998633176088333, -0.029639774933457375, -0.05164047330617905, -0.1458544284105301, 0.015540394932031631, 0.06375054270029068, -0.15894462168216705, 0.009665894322097301, -0.029099013656377792, 0.013483061455190182, 0.020310720428824425, -0.017557017505168915, 0.03964525833725929, 0.03791461139917374, 0.013260447420179844, -0.009987267665565014, -0.03154296800494194, 0.04724474623799324, -0.13574792444705963, -0.018728084862232208, 0.05672123283147812]]\n"
     ]
    }
   ],
   "source": [
    "# Install and initialize the embeddings database with an embeddings function.\n",
    "\n",
    "import chromadb\n",
    "import os\n",
    "from chromadb.utils.embedding_functions import SentenceTransformerEmbeddingFunction\n",
    "# import chromadb.utils.embedding_functions as embedding_functions\n",
    "\n",
    "# import getpass\n",
    "# import os\n",
    "\n",
    "# getpass will prompt for an API Key\n",
    "# The API Key is needed for Chroma DB\n",
    "# API_KEY = getpass.getpass(\"Provide your Google API Key\")\n",
    "\n",
    "# embedding_function = embedding_functions.GooglePalmEmbeddingFunction(api_key=creds.token)\n",
    "\n",
    "embedding_function = SentenceTransformerEmbeddingFunction()\n",
    "print(embedding_function([token_split_texts[10]]))"
   ]
  },
  {
   "cell_type": "code",
   "execution_count": 16,
   "id": "198581ce-bd92-40bb-bc53-5188cab2c7db",
   "metadata": {
    "tags": []
   },
   "outputs": [
    {
     "data": {
      "text/plain": [
       "384"
      ]
     },
     "execution_count": 16,
     "metadata": {},
     "output_type": "execute_result"
    }
   ],
   "source": [
    "# 384-dim embedding vector\n",
    "len(embedding_function([token_split_texts[10]])[0])"
   ]
  },
  {
   "cell_type": "code",
   "execution_count": 17,
   "id": "8985e834-a8a1-4274-b318-f2dc27253d1b",
   "metadata": {
    "tags": []
   },
   "outputs": [
    {
     "name": "stdout",
     "output_type": "stream",
     "text": [
      "collection\n",
      "created\n",
      "adding\n"
     ]
    },
    {
     "name": "stderr",
     "output_type": "stream",
     "text": [
      "ERROR:chromadb.telemetry.product.posthog:Failed to send telemetry event ClientStartEvent: capture() takes 1 positional argument but 3 were given\n",
      "ERROR:chromadb.telemetry.product.posthog:Failed to send telemetry event ClientCreateCollectionEvent: capture() takes 1 positional argument but 3 were given\n",
      "ERROR:chromadb.telemetry.product.posthog:Failed to send telemetry event CollectionAddEvent: capture() takes 1 positional argument but 3 were given\n"
     ]
    },
    {
     "data": {
      "text/plain": [
       "535"
      ]
     },
     "execution_count": 17,
     "metadata": {},
     "output_type": "execute_result"
    }
   ],
   "source": [
    "# Create embedings and store them in the chroma database.\n",
    "chroma_client = chromadb.Client()\n",
    "print(\"collection\")\n",
    "chroma_collection = chroma_client.create_collection(\"alphabet_annual_report_2022\", embedding_function=embedding_function)\n",
    "print(\"created\")\n",
    "ids = [str(i) for i in range(len(token_split_texts))]\n",
    "print(\"adding\")\n",
    "chroma_collection.add(ids=ids, documents=token_split_texts)\n",
    "chroma_collection.count()"
   ]
  },
  {
   "cell_type": "code",
   "execution_count": 18,
   "id": "1016ff66-e98d-417d-89e7-9edad6cf58ea",
   "metadata": {
    "tags": []
   },
   "outputs": [
    {
     "data": {
      "text/plain": [
       "<chromadb.api.models.Collection.Collection at 0x7f8aa529c970>"
      ]
     },
     "execution_count": 18,
     "metadata": {},
     "output_type": "execute_result"
    }
   ],
   "source": [
    "chroma_collection"
   ]
  },
  {
   "cell_type": "code",
   "execution_count": 19,
   "id": "bd963696-85fd-47d8-a07a-837e705044e7",
   "metadata": {
    "tags": []
   },
   "outputs": [
    {
     "data": {
      "text/plain": [
       "{'_client': <chromadb.api.segment.SegmentAPI at 0x7f8aa5580340>,\n",
       " '_model': {'id': UUID('45ff507d-42b1-4708-91a0-5107f2932c18'),\n",
       "  'name': 'alphabet_annual_report_2022',\n",
       "  'metadata': None,\n",
       "  'dimension': None,\n",
       "  'tenant': 'default_tenant',\n",
       "  'database': 'default_database',\n",
       "  'version': 0},\n",
       " '_embedding_function': <chromadb.utils.embedding_functions.SentenceTransformerEmbeddingFunction at 0x7f8aa6ede260>,\n",
       " '_data_loader': None}"
      ]
     },
     "execution_count": 19,
     "metadata": {},
     "output_type": "execute_result"
    }
   ],
   "source": [
    "chroma_collection.__dict__"
   ]
  },
  {
   "cell_type": "code",
   "execution_count": 23,
   "id": "d53cef53-f464-48c5-a848-f6d74c6498a3",
   "metadata": {
    "tags": []
   },
   "outputs": [
    {
     "data": {
      "text/plain": [
       "{'_dependencies': {<chromadb.db.impl.sqlite.SqliteDB at 0x7f8aa5581f90>,\n",
       "  <chromadb.quota.QuotaEnforcer at 0x7f8aa5583f70>,\n",
       "  <chromadb.segment.impl.manager.local.LocalSegmentManager at 0x7f8aa509e950>,\n",
       "  <chromadb.telemetry.opentelemetry.OpenTelemetryClient at 0x7f8aa509ea40>,\n",
       "  <chromadb.telemetry.product.posthog.Posthog at 0x7f8aa7070460>},\n",
       " '_system': <chromadb.config.System at 0x7f8aa55df910>,\n",
       " '_running': True,\n",
       " '_settings': Settings(environment='', chroma_api_impl='chromadb.api.segment.SegmentAPI', chroma_server_nofile=None, chroma_server_thread_pool_size=40, tenant_id='default', topic_namespace='default', chroma_server_host=None, chroma_server_headers=None, chroma_server_http_port=None, chroma_server_ssl_enabled=False, chroma_server_ssl_verify=None, chroma_server_api_default_path='/api/v1', chroma_server_cors_allow_origins=[], is_persistent=False, persist_directory='./chroma', chroma_memory_limit_bytes=0, chroma_segment_cache_policy=None, allow_reset=False, chroma_auth_token_transport_header=None, chroma_client_auth_provider=None, chroma_client_auth_credentials=None, chroma_server_auth_ignore_paths={'/api/v1': ['GET'], '/api/v1/heartbeat': ['GET'], '/api/v1/version': ['GET']}, chroma_overwrite_singleton_tenant_database_access_from_auth=False, chroma_server_authn_provider=None, chroma_server_authn_credentials=None, chroma_server_authn_credentials_file=None, chroma_server_authz_provider=None, chroma_server_authz_config=None, chroma_server_authz_config_file=None, chroma_product_telemetry_impl='chromadb.telemetry.product.posthog.Posthog', chroma_telemetry_impl='chromadb.telemetry.product.posthog.Posthog', anonymized_telemetry=True, chroma_otel_collection_endpoint='', chroma_otel_service_name='chromadb', chroma_otel_collection_headers={}, chroma_otel_granularity=None, migrations='apply', migrations_hash_algorithm='md5', chroma_segment_directory_impl='chromadb.segment.impl.distributed.segment_directory.RendezvousHashSegmentDirectory', chroma_memberlist_provider_impl='chromadb.segment.impl.distributed.segment_directory.CustomResourceMemberlistProvider', worker_memberlist_name='query-service-memberlist', chroma_server_grpc_port=None, chroma_sysdb_impl='chromadb.db.impl.sqlite.SqliteDB', chroma_producer_impl='chromadb.db.impl.sqlite.SqliteDB', chroma_consumer_impl='chromadb.db.impl.sqlite.SqliteDB', chroma_segment_manager_impl='chromadb.segment.impl.manager.local.LocalSegmentManager', chroma_quota_provider_impl=None, chroma_rate_limiting_provider_impl=None, chroma_db_impl=None, chroma_collection_assignment_policy_impl='chromadb.ingest.impl.simple_policy.SimpleAssignmentPolicy', chroma_coordinator_host='localhost', chroma_logservice_host='localhost', chroma_logservice_port=50052),\n",
       " '_sysdb': <chromadb.db.impl.sqlite.SqliteDB at 0x7f8aa5581f90>,\n",
       " '_manager': <chromadb.segment.impl.manager.local.LocalSegmentManager at 0x7f8aa509e950>,\n",
       " '_quota': <chromadb.quota.QuotaEnforcer at 0x7f8aa5583f70>,\n",
       " '_product_telemetry_client': <chromadb.telemetry.product.posthog.Posthog at 0x7f8aa7070460>,\n",
       " '_opentelemetry_client': <chromadb.telemetry.opentelemetry.OpenTelemetryClient at 0x7f8aa509ea40>,\n",
       " '_producer': <chromadb.db.impl.sqlite.SqliteDB at 0x7f8aa5581f90>,\n",
       " '_collection_cache': {UUID('45ff507d-42b1-4708-91a0-5107f2932c18'): {'id': UUID('45ff507d-42b1-4708-91a0-5107f2932c18'),\n",
       "   'name': 'alphabet_annual_report_2022',\n",
       "   'metadata': None,\n",
       "   'dimension': 384,\n",
       "   'tenant': 'default_tenant',\n",
       "   'database': 'default_database',\n",
       "   'version': 0}}}"
      ]
     },
     "execution_count": 23,
     "metadata": {},
     "output_type": "execute_result"
    }
   ],
   "source": [
    "chroma_collection._client.__dict__"
   ]
  },
  {
   "cell_type": "code",
   "execution_count": 27,
   "id": "8ca3c5bc-20fb-4ef8-b52d-f4c340147172",
   "metadata": {
    "tags": []
   },
   "outputs": [
    {
     "data": {
      "text/plain": [
       "{'_settings': Settings(environment='', chroma_api_impl='chromadb.api.segment.SegmentAPI', chroma_server_nofile=None, chroma_server_thread_pool_size=40, tenant_id='default', topic_namespace='default', chroma_server_host=None, chroma_server_headers=None, chroma_server_http_port=None, chroma_server_ssl_enabled=False, chroma_server_ssl_verify=None, chroma_server_api_default_path='/api/v1', chroma_server_cors_allow_origins=[], is_persistent=False, persist_directory='./chroma', chroma_memory_limit_bytes=0, chroma_segment_cache_policy=None, allow_reset=False, chroma_auth_token_transport_header=None, chroma_client_auth_provider=None, chroma_client_auth_credentials=None, chroma_server_auth_ignore_paths={'/api/v1': ['GET'], '/api/v1/heartbeat': ['GET'], '/api/v1/version': ['GET']}, chroma_overwrite_singleton_tenant_database_access_from_auth=False, chroma_server_authn_provider=None, chroma_server_authn_credentials=None, chroma_server_authn_credentials_file=None, chroma_server_authz_provider=None, chroma_server_authz_config=None, chroma_server_authz_config_file=None, chroma_product_telemetry_impl='chromadb.telemetry.product.posthog.Posthog', chroma_telemetry_impl='chromadb.telemetry.product.posthog.Posthog', anonymized_telemetry=True, chroma_otel_collection_endpoint='', chroma_otel_service_name='chromadb', chroma_otel_collection_headers={}, chroma_otel_granularity=None, migrations='apply', migrations_hash_algorithm='md5', chroma_segment_directory_impl='chromadb.segment.impl.distributed.segment_directory.RendezvousHashSegmentDirectory', chroma_memberlist_provider_impl='chromadb.segment.impl.distributed.segment_directory.CustomResourceMemberlistProvider', worker_memberlist_name='query-service-memberlist', chroma_server_grpc_port=None, chroma_sysdb_impl='chromadb.db.impl.sqlite.SqliteDB', chroma_producer_impl='chromadb.db.impl.sqlite.SqliteDB', chroma_consumer_impl='chromadb.db.impl.sqlite.SqliteDB', chroma_segment_manager_impl='chromadb.segment.impl.manager.local.LocalSegmentManager', chroma_quota_provider_impl=None, chroma_rate_limiting_provider_impl=None, chroma_db_impl=None, chroma_collection_assignment_policy_impl='chromadb.ingest.impl.simple_policy.SimpleAssignmentPolicy', chroma_coordinator_host='localhost', chroma_logservice_host='localhost', chroma_logservice_port=50052),\n",
       " '_migration_imports': [MultiplexedPath('/opt/conda/lib/python3.10/site-packages/chromadb/migrations/embeddings_queue'),\n",
       "  MultiplexedPath('/opt/conda/lib/python3.10/site-packages/chromadb/migrations/sysdb'),\n",
       "  MultiplexedPath('/opt/conda/lib/python3.10/site-packages/chromadb/migrations/metadb')],\n",
       " '_is_persistent': False,\n",
       " '_opentelemetry_client': <chromadb.telemetry.opentelemetry.OpenTelemetryClient at 0x7f8aa509ea40>,\n",
       " '_db_file': 'file::memory:?cache=shared',\n",
       " '_conn_pool': <chromadb.db.impl.sqlite_pool.LockPool at 0x7f8aa52fec20>,\n",
       " '_tx_stack': <_thread._local at 0x7f8aa52e9120>,\n",
       " '_subscriptions': defaultdict(set,\n",
       "             {'persistent://default/default/45ff507d-42b1-4708-91a0-5107f2932c18': {<chromadb.db.mixins.embeddings_queue.SqlEmbeddingsQueue.Subscription at 0x7f8aa5279060>,\n",
       "               <chromadb.db.mixins.embeddings_queue.SqlEmbeddingsQueue.Subscription at 0x7f8aa52798a0>}}),\n",
       " '_max_batch_size': 41666,\n",
       " '_tenant': 'default',\n",
       " '_topic_namespace': 'default',\n",
       " '_dependencies': set(),\n",
       " '_system': <chromadb.config.System at 0x7f8aa55df910>,\n",
       " '_running': True,\n",
       " '_producer': <chromadb.db.impl.sqlite.SqliteDB at 0x7f8aa5581f90>}"
      ]
     },
     "execution_count": 27,
     "metadata": {},
     "output_type": "execute_result"
    }
   ],
   "source": [
    "chroma_collection._client._sysdb.__dict__"
   ]
  },
  {
   "cell_type": "code",
   "execution_count": 26,
   "id": "10eaae00-e0fe-42c7-bde0-d72d26061dc1",
   "metadata": {
    "tags": []
   },
   "outputs": [
    {
     "data": {
      "text/plain": [
       "UUID('45ff507d-42b1-4708-91a0-5107f2932c18')"
      ]
     },
     "execution_count": 26,
     "metadata": {},
     "output_type": "execute_result"
    }
   ],
   "source": [
    "chroma_collection._model[\"id\"]"
   ]
  },
  {
   "cell_type": "code",
   "execution_count": 20,
   "id": "b9459a4e-70b3-4dff-89ef-ac9dec46999a",
   "metadata": {
    "tags": []
   },
   "outputs": [
    {
     "data": {
      "text/plain": [
       "{'_model': SentenceTransformer(\n",
       "   (0): Transformer({'max_seq_length': 256, 'do_lower_case': False, 'architecture': 'BertModel'})\n",
       "   (1): Pooling({'word_embedding_dimension': 384, 'pooling_mode_cls_token': False, 'pooling_mode_mean_tokens': True, 'pooling_mode_max_tokens': False, 'pooling_mode_mean_sqrt_len_tokens': False, 'pooling_mode_weightedmean_tokens': False, 'pooling_mode_lasttoken': False, 'include_prompt': True})\n",
       "   (2): Normalize()\n",
       " ),\n",
       " '_normalize_embeddings': False}"
      ]
     },
     "execution_count": 20,
     "metadata": {},
     "output_type": "execute_result"
    }
   ],
   "source": [
    "chroma_collection._embedding_function.__dict__"
   ]
  },
  {
   "cell_type": "markdown",
   "id": "69b904b2-d600-4e8b-a3ba-dd2c431f8b65",
   "metadata": {},
   "source": [
    "## qn1 - total rev"
   ]
  },
  {
   "cell_type": "code",
   "execution_count": 30,
   "id": "5137136c-fffa-4f02-bd20-2a8cf51d215d",
   "metadata": {
    "tags": []
   },
   "outputs": [
    {
     "name": "stdout",
     "output_type": "stream",
     "text": [
      "Document 1\n",
      "accounting estimate was effective beginning in fiscal year 2021. based on the carrying value of servers and certain network equipment as of december 31, 2020 and those acquired during the year ended december 31, 2021, the effect of this change in estimate was a reduction in depreciation expense of $ 2. 6 billion and an increase in net income of $ 2. 0 billion, or $ 3. 02 per basic share and $ 2. 98 per diluted share, for the year ended december 31, 2021. revenue recognition revenues are recognized when control of the promised goods or services is transferred to our customers, and the collectibility of an amount that we expect in exchange for those goods or services is probable. sales and other similar taxes are excluded from revenues. advertising revenues we generate advertising revenues primarily by delivering advertising on : • google search and other properties, including revenues from traffic generated by search distribution partners who use google. com as their\n",
      "\n",
      "\n",
      "Document 2\n",
      "• operating cash flow was $ 91. 7 billion, primarily driven by revenues generated from our advertising products. • share repurchases were $ 50. 3 billion, an increase of 62 %. see note 11 of the notes to consolidated financial statements included in item 8 of this annual report on form 10 - k for further information. 32\n",
      "\n",
      "\n",
      "Document 3\n",
      "total income from operations $ 34, 231 $ 41, 224 $ 78, 714 corporate costs, unallocated includes a fine and legal settlement totaling $ 2. 3 billion for the year ended december 31, 2019. for revenues by geography, see note 2. the following table presents long - lived assets by geographic area, which includes property and equipment, net and operating lease assets ( in millions ) : as of december 31, 2020 2021 long - lived assets : united states $ 69, 315 $ 80, 207 international 27, 645 30, 351 total long - lived assets $ 96, 960 $ 110, 558 ( 1 ) ( 1 ) 85\n",
      "\n",
      "\n",
      "Document 4\n",
      "the following table presents sales and marketing expenses ( in millions, except percentages ) : year ended december 31, 2020 2021 sales and marketing expenses $ 17, 946 $ 22, 912 sales and marketing expenses as a percentage of revenues 9. 8 % 8. 9 % sales and marketing expenses increased $ 5. 0 billion from 2020 to 2021, primarily driven by an increase in advertising and promotional activities of $ 2. 5 billion and an increase in compensation expenses of $ 2. 2 billion. the increase in advertising and promotional activities was driven by both increased spending in the current period and a reduction in spending in 2020 due to covid - 19. the increase in compensation expenses was largely due to a 14 % increase in headcount. general and administrative the following table presents general and administrative expenses ( in millions, except percentages ) : year ended december 31, 2020 2021 general and administrative expenses $ 11, 052 $ 13, 510\n",
      "\n",
      "\n",
      "Document 5\n",
      "expense of approximately $ 724 million, $ 855 million, and $ 916 million for the years ended december 31, 2019, 2020, and 2021, respectively. note 14. income taxes income from continuing operations before income taxes consisted of the following ( in millions ) : year ended december 31, 2019 2020 2021 domestic operations $ 16, 426 $ 37, 576 $ 77, 016 foreign operations 23, 199 10, 506 13, 718 total $ 39, 625 $ 48, 082 $ 90, 734 81\n",
      "\n",
      "\n"
     ]
    }
   ],
   "source": [
    "# Ask a questions to perform an embeddings search on the chroma db database.\n",
    "query = \"What was the total revenue?\"\n",
    "\n",
    "results = chroma_collection.query(query_texts=[query], n_results=5)\n",
    "retrieved_documents = results['documents'][0]\n",
    "\n",
    "i = 1\n",
    "for document in retrieved_documents:\n",
    "    print(f\"Document {i}\")\n",
    "    print(document)\n",
    "    print('\\n')\n",
    "    i+=1"
   ]
  },
  {
   "cell_type": "code",
   "execution_count": 31,
   "id": "ae1d93ec-888a-4415-b2c0-4e5f8aef1081",
   "metadata": {
    "tags": []
   },
   "outputs": [
    {
     "name": "stdout",
     "output_type": "stream",
     "text": [
      "Based on the information provided:\n",
      "\n",
      "For the year ended December 31, 2021:\n",
      "Sales and marketing expenses were $22,912 million, which represented 8.9% of revenues.\n",
      "Therefore, total revenue = $22,912 million / 0.089 = **$257,438 million** (or $257.4 billion).\n",
      "\n",
      "For the year ended December 31, 2020:\n",
      "Sales and marketing expenses were $17,946 million, which represented 9.8% of revenues.\n",
      "Therefore, total revenue = $17,946 million / 0.098 = **$183,122 million** (or $183.1 billion).\n"
     ]
    }
   ],
   "source": [
    "# Use a RAG to answer the question given the information that was looked up from the database.\n",
    "def rag(query, retrieved_documents, model):\n",
    "    information = \"\\n\\n\".join(retrieved_documents)\n",
    "\n",
    "    prompt = (f'You are a helpful expert financial research assistant.\\n'\n",
    "    f'Your users are asking questions about information contained in an annual report.\\n'\n",
    "    f'You will be shown the user\\'s question, and the relevant information from the annual report.\\n'\n",
    "    f'Answer the user\\'s question using only this information.\\n\\n'\n",
    "    f'Question: {query}. \\n Information: {information}')\n",
    "\n",
    "    responses = model.generate_content(prompt, stream=False)\n",
    "    return responses.text\n",
    "\n",
    "response = rag(query=query, retrieved_documents=retrieved_documents, model=model)\n",
    "print(response)"
   ]
  },
  {
   "cell_type": "markdown",
   "id": "0512e7a9-687a-4e60-abb7-df4e90b9fabb",
   "metadata": {},
   "source": [
    "# Task 3. Explore embeddings distribution with user queries\n",
    "In this task, we use the python library umap to reduce the dimensions of our embeddings to two dimensions, so that we can see how close they are represented in a graph. Then we try different queries to see how different queries relate to the existing embedding space. This can give us an intuition about whether the answer might be found in the embeddings space.\n",
    "\n"
   ]
  },
  {
   "cell_type": "code",
   "execution_count": 32,
   "id": "47cadbd8-8c01-4c90-9d87-c5e5b8e369d3",
   "metadata": {
    "tags": []
   },
   "outputs": [
    {
     "name": "stderr",
     "output_type": "stream",
     "text": [
      "ERROR:chromadb.telemetry.product.posthog:Failed to send telemetry event CollectionGetEvent: capture() takes 1 positional argument but 3 were given\n",
      "/home/jupyter/.local/lib/python3.10/site-packages/umap/umap_.py:1952: UserWarning: n_jobs value 1 overridden to 1 by setting random_state. Use no seed for parallelism.\n",
      "  warn(\n",
      "100%|██████████| 535/535 [00:04<00:00, 129.64it/s]\n"
     ]
    }
   ],
   "source": [
    "# Transform embeddings into a 2-dimensional space\n",
    "# using UMAP\n",
    "import umap.umap_ as umap\n",
    "import numpy as np\n",
    "from tqdm import tqdm\n",
    "\n",
    "embeddings = chroma_collection.get(include=['embeddings'])['embeddings']\n",
    "umap_transform = umap.UMAP(random_state=0, transform_seed=0).fit(embeddings)\n",
    "\n",
    "def project_embeddings(embeddings, umap_transform):\n",
    "    umap_embeddings = np.empty((len(embeddings),2))\n",
    "    for i, embedding in enumerate(tqdm(embeddings)):\n",
    "        umap_embeddings[i] = umap_transform.transform([embedding])\n",
    "    return umap_embeddings\n",
    "\n",
    "projected_dataset_embeddings = project_embeddings(embeddings, umap_transform)\n"
   ]
  },
  {
   "cell_type": "code",
   "execution_count": 33,
   "id": "f7d4d4ee-c830-4b4c-a440-39f1dc087526",
   "metadata": {
    "tags": []
   },
   "outputs": [
    {
     "data": {
      "image/png": "[encoded data removed]",
      "text/plain": [
       "<Figure size 640x480 with 1 Axes>"
      ]
     },
     "metadata": {},
     "output_type": "display_data"
    }
   ],
   "source": [
    "# Plot the 2-dimensional embeddings.\n",
    "import matplotlib.pyplot as plt\n",
    "\n",
    "def plot(title='Projected Embeddings', projected_dataset_embeddings=[], projected_query_embedding=[], projected_retrieved_embeddings=[]):\n",
    "    # Plot the projected query and retrieved documents in the embedding space\n",
    "    plt.figure()\n",
    "    plt.scatter(projected_dataset_embeddings[:, 0], projected_dataset_embeddings[:, 1], s=10, color='gray')\n",
    "    if len(projected_query_embedding) > 0:\n",
    "        plt.scatter(projected_query_embedding[:, 0], projected_query_embedding[:, 1], s=150, marker='X', color='r')\n",
    "    if len(projected_retrieved_embeddings) > 0:\n",
    "        plt.scatter(projected_retrieved_embeddings[:, 0], projected_retrieved_embeddings[:, 1], s=100, facecolors='none', edgecolors='g')\n",
    "\n",
    "    plt.gca().set_aspect('equal', 'datalim')\n",
    "    plt.title(f'{title}')\n",
    "    plt.axis('off')\n",
    "\n",
    "plot(projected_dataset_embeddings=projected_dataset_embeddings)"
   ]
  },
  {
   "cell_type": "markdown",
   "id": "34717f6a-c342-48e2-af20-0d205693f899",
   "metadata": {},
   "source": [
    "# qn1 - total rev"
   ]
  },
  {
   "cell_type": "code",
   "execution_count": 45,
   "id": "f03f9210-5cac-4fdb-b62d-47d03f8a6c78",
   "metadata": {
    "tags": []
   },
   "outputs": [
    {
     "name": "stdout",
     "output_type": "stream",
     "text": [
      "Document 1\n",
      "accounting estimate was effective beginning in fiscal year 2021. based on the carrying value of servers and certain network equipment as of december 31, 2020 and those acquired during the year ended december 31, 2021, the effect of this change in estimate was a reduction in depreciation expense of $ 2. 6 billion and an increase in net income of $ 2. 0 billion, or $ 3. 02 per basic share and $ 2. 98 per diluted share, for the year ended december 31, 2021. revenue recognition revenues are recognized when control of the promised goods or services is transferred to our customers, and the collectibility of an amount that we expect in exchange for those goods or services is probable. sales and other similar taxes are excluded from revenues. advertising revenues we generate advertising revenues primarily by delivering advertising on : • google search and other properties, including revenues from traffic generated by search distribution partners who use google. com as their\n",
      "\n",
      "\n",
      "Document 2\n",
      "• operating cash flow was $ 91. 7 billion, primarily driven by revenues generated from our advertising products. • share repurchases were $ 50. 3 billion, an increase of 62 %. see note 11 of the notes to consolidated financial statements included in item 8 of this annual report on form 10 - k for further information. 32\n",
      "\n",
      "\n",
      "Document 3\n",
      "total income from operations $ 34, 231 $ 41, 224 $ 78, 714 corporate costs, unallocated includes a fine and legal settlement totaling $ 2. 3 billion for the year ended december 31, 2019. for revenues by geography, see note 2. the following table presents long - lived assets by geographic area, which includes property and equipment, net and operating lease assets ( in millions ) : as of december 31, 2020 2021 long - lived assets : united states $ 69, 315 $ 80, 207 international 27, 645 30, 351 total long - lived assets $ 96, 960 $ 110, 558 ( 1 ) ( 1 ) 85\n",
      "\n",
      "\n",
      "Document 4\n",
      "the following table presents sales and marketing expenses ( in millions, except percentages ) : year ended december 31, 2020 2021 sales and marketing expenses $ 17, 946 $ 22, 912 sales and marketing expenses as a percentage of revenues 9. 8 % 8. 9 % sales and marketing expenses increased $ 5. 0 billion from 2020 to 2021, primarily driven by an increase in advertising and promotional activities of $ 2. 5 billion and an increase in compensation expenses of $ 2. 2 billion. the increase in advertising and promotional activities was driven by both increased spending in the current period and a reduction in spending in 2020 due to covid - 19. the increase in compensation expenses was largely due to a 14 % increase in headcount. general and administrative the following table presents general and administrative expenses ( in millions, except percentages ) : year ended december 31, 2020 2021 general and administrative expenses $ 11, 052 $ 13, 510\n",
      "\n",
      "\n",
      "Document 5\n",
      "expense of approximately $ 724 million, $ 855 million, and $ 916 million for the years ended december 31, 2019, 2020, and 2021, respectively. note 14. income taxes income from continuing operations before income taxes consisted of the following ( in millions ) : year ended december 31, 2019 2020 2021 domestic operations $ 16, 426 $ 37, 576 $ 77, 016 foreign operations 23, 199 10, 506 13, 718 total $ 39, 625 $ 48, 082 $ 90, 734 81\n",
      "\n",
      "\n"
     ]
    }
   ],
   "source": [
    "# Ask the same question to the database again, but this time retrieve the embeddings in addition to the documents.\n",
    "query = \"What was the total revenue?\"\n",
    "\n",
    "results = chroma_collection.query(query_texts=query, n_results=5, include=['documents', 'embeddings'])\n",
    "\n",
    "retrieved_documents = results['documents'][0]\n",
    "\n",
    "\n",
    "i = 1\n",
    "for document in results['documents'][0]:\n",
    "    print(f\"Document {i}\")\n",
    "    print(document)\n",
    "    print('\\n')\n",
    "    i+=1"
   ]
  },
  {
   "cell_type": "code",
   "execution_count": 46,
   "id": "6f2032e3-f5a9-48dd-b88f-64b69c9a989b",
   "metadata": {
    "tags": []
   },
   "outputs": [
    {
     "name": "stderr",
     "output_type": "stream",
     "text": [
      "100%|██████████| 1/1 [00:00<00:00, 65.43it/s]\n",
      "100%|██████████| 5/5 [00:00<00:00, 202.26it/s]\n"
     ]
    }
   ],
   "source": [
    "# Embed the question and answer and transform it into two dimentions.\n",
    "query_embedding = embedding_function([query])[0]\n",
    "retrieved_embeddings = results['embeddings'][0]\n",
    "\n",
    "projected_query_embedding = project_embeddings([query_embedding], umap_transform)\n",
    "projected_retrieved_embeddings = project_embeddings(retrieved_embeddings, umap_transform)"
   ]
  },
  {
   "cell_type": "code",
   "execution_count": 41,
   "id": "950a14bd-4f59-4230-844a-5f8037109f35",
   "metadata": {
    "tags": []
   },
   "outputs": [
    {
     "data": {
      "text/plain": [
       "5"
      ]
     },
     "execution_count": 41,
     "metadata": {},
     "output_type": "execute_result"
    }
   ],
   "source": [
    "len(retrieved_embeddings)"
   ]
  },
  {
   "cell_type": "code",
   "execution_count": 42,
   "id": "95c9d7ba-91f6-4fb9-ad61-e3c8f16cfa19",
   "metadata": {
    "tags": []
   },
   "outputs": [
    {
     "data": {
      "text/plain": [
       "5"
      ]
     },
     "execution_count": 42,
     "metadata": {},
     "output_type": "execute_result"
    }
   ],
   "source": [
    "len(projected_retrieved_embeddings)"
   ]
  },
  {
   "cell_type": "code",
   "execution_count": 48,
   "id": "3299b9fe-8ff7-46eb-b74c-f98c007f070a",
   "metadata": {
    "tags": []
   },
   "outputs": [
    {
     "data": {
      "image/png": "[encoded data removed]",
      "text/plain": [
       "<Figure size 640x480 with 1 Axes>"
      ]
     },
     "metadata": {},
     "output_type": "display_data"
    }
   ],
   "source": [
    "# Plot the projected query and retrieved documents in the embedding space.\n",
    "plot(title=query, projected_dataset_embeddings=projected_dataset_embeddings, projected_query_embedding=[], projected_retrieved_embeddings=projected_retrieved_embeddings)"
   ]
  },
  {
   "cell_type": "code",
   "execution_count": 49,
   "id": "26d7d42a-3bfa-4245-bcd8-45d4d6ffdace",
   "metadata": {
    "tags": []
   },
   "outputs": [
    {
     "data": {
      "image/png": "[encoded data removed]",
      "text/plain": [
       "<Figure size 640x480 with 1 Axes>"
      ]
     },
     "metadata": {},
     "output_type": "display_data"
    }
   ],
   "source": [
    "# ADD 'projected_query_embedding'\n",
    "plot(title=query, projected_dataset_embeddings=projected_dataset_embeddings, projected_query_embedding=projected_query_embedding, projected_retrieved_embeddings=projected_retrieved_embeddings)"
   ]
  },
  {
   "cell_type": "code",
   "execution_count": 47,
   "id": "b0ea2f35-00f5-4e06-9bfd-d80b8992832d",
   "metadata": {
    "tags": []
   },
   "outputs": [
    {
     "data": {
      "text/plain": [
       "array([[6.38841724, 7.19303226],\n",
       "       [6.71093702, 6.74965191],\n",
       "       [6.64849043, 2.34025002],\n",
       "       [6.59716702, 6.54089546],\n",
       "       [6.49032354, 3.2780087 ]])"
      ]
     },
     "execution_count": 47,
     "metadata": {},
     "output_type": "execute_result"
    }
   ],
   "source": [
    "projected_retrieved_embeddings"
   ]
  },
  {
   "cell_type": "markdown",
   "id": "596c2bdb-2d7b-45fc-951b-8315f4c001db",
   "metadata": {},
   "source": [
    "Student comments\n",
    "- it seems that the 5 retrieved embeddings most similar to the original query are far apart\n",
    "- 3 are in 1 cluster above, while 2 are in another cluster below\n",
    "  - using the embeddings' y-coordinates as a guide\n",
    "  - embeddings 3 and 5 with y-coordinates of 2 or 3 are in the cluster below - looking at income, long-lived assets and taxes\n",
    "  - embeddings 1,2,4 with y-coordinates of 6 or 7 are in the cluster above - looking at expenses and cash flow\n",
    "- The query embedding (about revenue) is closer to the cluster above (with 3 embeddings about expenses)\n",
    "  - which is surprising to me because revenue is more semantically similar to the concept of income\n"
   ]
  },
  {
   "cell_type": "markdown",
   "id": "5c182ec9-8784-4117-a57c-816c0001e2c2",
   "metadata": {},
   "source": [
    "## qn2 - AI strat"
   ]
  },
  {
   "cell_type": "code",
   "execution_count": 50,
   "id": "b213bf79-aa7c-4b03-b90f-8458c7343fee",
   "metadata": {
    "tags": []
   },
   "outputs": [
    {
     "name": "stdout",
     "output_type": "stream",
     "text": [
      "Document 1\n",
      "across the company, investments in ai and machine learning are increasingly driving many of our latest innovations and have enabled us to build products that are smarter and more helpful. for example, in may of 2021, we introduced multitask unified model — or mum — which has the potential to transform how google helps with complex tasks. mum is trained across 75 different languages, which means that it can learn from sources written in one language and help bring that information to people in another. it is also multimodal, so it understands information across text and images and, in the future, can expand to more modalities like video and audio. we are currently experimenting with mum ’ s capabilities to make searching more natural and intuitive and even enable entirely new ways to search. deepmind also made a significant ai - powered breakthrough, solving a 50 - year - old protein folding challenge, which will help the world better\n",
      "\n",
      "\n",
      "Document 2\n",
      "toward our goal of making transportation safer and easier for everyone and verily is developing tools and platforms to improve health outcomes. moonshots many companies get comfortable doing what they have always done, making only incremental changes. this incrementalism leads to irrelevance over time, especially in technology, where change tends to be revolutionary, not evolutionary. people thought we were crazy when we acquired youtube and android and when we launched chrome, but those efforts have matured into major platforms for digital video and mobile devices and a safer, popular browser. we continue to look toward the future and to invest for the long term within each of our segments. as we said in the original founders ' letter, we will not shy away from high - risk, high - reward projects that we believe in, as they are the key to our long - term success. the power of ai\n",
      "\n",
      "\n",
      "Document 3\n",
      "one. \" that unconventional spirit has been a driving force throughout our history, inspiring us to tackle big problems and invest in moonshots like artificial intelligence ( ai ) research and quantum computing. we continue this work under the leadership of sundar pichai, who has served as ceo of google since 2015 and as ceo of alphabet since 2019. alphabet is a collection of businesses — the largest of which is google. we report google in two segments, google services and google cloud ; we also report all non - google businesses collectively as other bets. other bets include earlier stage technologies that are further afield from our core google business. we take a long - term view and manage the portfolio of other bets with the discipline and rigor needed to deliver long - term returns. alphabet ' s structure is about helping each of our businesses prosper through strong leaders and independence. access and technology for everyone\n",
      "\n",
      "\n",
      "Document 4\n",
      "platform and google workspace. we are incurring costs to build and maintain infrastructure to support cloud computing services and hire talent, particularly to support and scale our salesforce. at the same time, our competitors are rapidly developing and deploying cloud - based services. pricing and delivery models are competitive and evolving, and we may not attain sufficient scale and profitability to achieve our business objectives. within other bets, we are investing significantly in the areas of health, life sciences, and transportation, among others. these investment areas face intense competition from large, experienced, and well - funded competitors and our offerings may not be able to compete effectively or to operate at sufficient levels of profitability. in addition, new and evolving products and services, including those that use ai and machine learning, raise ethical, technological, legal,\n",
      "\n",
      "\n",
      "Document 5\n",
      "the internet is one of the world ’ s most powerful equalizers ; it propels ideas, people and businesses large and small. our mission to organize the world ’ s information and make it universally accessible and useful is as relevant today as it was when we were founded in 1998. since then, we have evolved from a company that helps people find answers to a company that also helps people get things done. we are focused on building an even more helpful google for everyone, and we aspire to give everyone the tools they need to increase their knowledge, health, happiness, and success. every year, there are trillions of searches on google, and 15 % of the searches we see every day are new. we continue to invest deeply in ai and other technologies to ensure the most helpful search experience possible. youtube provides people with entertainment, information, and opportunities to learn something new. and google assistant offers the best way to get things done seamlessly across\n",
      "\n",
      "\n"
     ]
    }
   ],
   "source": [
    "# Let's try again with a different question to see another example.\n",
    "query = \"What is the strategy around artificial intelligence (AI) ?\"\n",
    "results = chroma_collection.query(query_texts=query, n_results=5, include=['documents', 'embeddings'])\n",
    "\n",
    "retrieved_documents = results['documents'][0]\n",
    "\n",
    "i = 1\n",
    "for document in results['documents'][0]:\n",
    "    print(f\"Document {i}\")\n",
    "    print(document)\n",
    "    print('\\n')\n",
    "    i+=1"
   ]
  },
  {
   "cell_type": "code",
   "execution_count": 51,
   "id": "c9b0fe6c-2ce5-42a2-ac08-cdb5be62fccb",
   "metadata": {
    "tags": []
   },
   "outputs": [
    {
     "name": "stderr",
     "output_type": "stream",
     "text": [
      "100%|██████████| 1/1 [00:00<00:00,  9.21it/s]\n",
      "100%|██████████| 5/5 [00:00<00:00, 24.07it/s]\n"
     ]
    }
   ],
   "source": [
    "# Create embeddings and projections.\n",
    "query_embedding = embedding_function([query])[0]\n",
    "retrieved_embeddings = results['embeddings'][0]\n",
    "\n",
    "projected_query_embedding = project_embeddings([query_embedding], umap_transform)\n",
    "projected_retrieved_embeddings = project_embeddings(retrieved_embeddings, umap_transform)"
   ]
  },
  {
   "cell_type": "code",
   "execution_count": 40,
   "id": "4d99fab4-0b58-4486-af46-55284591d0fc",
   "metadata": {
    "tags": []
   },
   "outputs": [
    {
     "data": {
      "image/png": "[encoded data removed]",
      "text/plain": [
       "<Figure size 640x480 with 1 Axes>"
      ]
     },
     "metadata": {},
     "output_type": "display_data"
    }
   ],
   "source": [
    "# Plot the projected query and retrieved documents in the embedding space. Notice how close results are, since the answer seems to be contained in the database.\n",
    "plot(title=query, projected_dataset_embeddings=projected_dataset_embeddings, projected_query_embedding=[], projected_retrieved_embeddings=projected_retrieved_embeddings)"
   ]
  },
  {
   "cell_type": "code",
   "execution_count": 52,
   "id": "f79542ce-b41b-4b32-9596-444e6cf81d38",
   "metadata": {
    "tags": []
   },
   "outputs": [
    {
     "data": {
      "image/png": "[encoded data removed]",
      "text/plain": [
       "<Figure size 640x480 with 1 Axes>"
      ]
     },
     "metadata": {},
     "output_type": "display_data"
    }
   ],
   "source": [
    "# ADDED to see the 'query coordinates'\n",
    "plot(title=query, projected_dataset_embeddings=projected_dataset_embeddings, projected_query_embedding=projected_query_embedding, projected_retrieved_embeddings=projected_retrieved_embeddings)"
   ]
  },
  {
   "cell_type": "markdown",
   "id": "fb90e0d6-d1bb-425b-9311-99c73d79b9f4",
   "metadata": {},
   "source": [
    "Student comments\n",
    "- it seems that ALL 5 RETRIEVED EMBEDDINGS were similar to the input query about AI strategy - GOOD"
   ]
  },
  {
   "cell_type": "markdown",
   "id": "86ab4077-7132-44d9-b250-5a742fea3059",
   "metadata": {},
   "source": [
    "## qn3 - LT Fin Goals"
   ]
  },
  {
   "cell_type": "code",
   "execution_count": 53,
   "id": "de6570e3-62f9-422e-b492-11978c7213a3",
   "metadata": {
    "tags": []
   },
   "outputs": [
    {
     "name": "stdout",
     "output_type": "stream",
     "text": [
      "Document 1\n",
      "liabilities, or amortization expenses, or impairment of goodwill and / or purchased long - lived assets, and restructuring charges, any of which could harm our financial condition or operating results. also, the anticipated benefits or value of our acquisitions and other strategic transactions may not materialize. in connection with our divestitures, we have agreed, and may in the future agree, to provide indemnification for certain potential liabilities, which may harm our financial condition or operating results. if we were to lose the services of key personnel, we may not be able to execute our business strategy. our future success depends in large part upon the continued service of key members of our senior management team. for instance, sundar pichai is critical to the overall management of alphabet and its subsidiaries and plays an important role in the development of our technology,\n",
      "\n",
      "\n",
      "Document 2\n",
      "• the expected variability of gains and losses related to hedging activities under our foreign exchange risk management program ; • the amount and timing of revenue recognition from customer contracts with commitments for performance obligations, including our estimate of the remaining amount of commitments and when we expect to recognize revenue ; • fluctuations in our capital expenditures ; • our plans to continue to invest in new businesses, products, services and technologies, systems, land and buildings for data centers and offices, and infrastructure, as well as to continue to invest in acquisitions and strategic investments ; • our pace of hiring and our plans to provide competitive compensation programs ; • our expectation that our cost of revenues, research and development ( r & d ) expenses, sales and marketing expenses, and general and administrative expenses may increase in amount and / or may increase as a percentage of revenues and may be affected by a number of factors ;\n",
      "\n",
      "\n",
      "Document 3\n",
      "• estimates of our future compensation expenses ; • our expectation that our other income ( expense ), net ( oi & e ), will fluctuate in the future, as it is largely driven by market dynamics ; • fluctuations in our effective tax rate ; • seasonal fluctuations in internet usage and advertiser expenditures, underlying business trends such as traditional retail seasonality, which are likely to cause fluctuations in our quarterly results ; • the sufficiency of our sources of funding ; • our potential exposure in connection with new and pending investigations, proceedings, and other contingencies ; 3\n",
      "\n",
      "\n",
      "Document 4\n",
      "table of contents alphabet inc. in addition, we believe that our corporate culture fosters innovation, creativity, and teamwork. as our organization grows and evolves, we may need to implement more complex organizational management structures or adapt our corporate culture and work environments to ever - changing circumstances, such as during times of a natural disaster or pandemic, and these changes could affect our ability to compete effectively or have an adverse effect on our corporate culture. we are exposed to fluctuations in the fair values of our investments and, in some instances, our financial statements incorporate valuation methodologies that are subjective in nature resulting in fluctuations over time. the fair value of our investments may in the future be, and certain investments have been in the past, negatively affected by liquidity, credit\n",
      "\n",
      "\n",
      "Document 5\n",
      "table of contents alphabet inc. was substantially consistent from 2020 to 2021. see note 14 of the notes to consolidated financial statements included in item 8 of this annual report on form 10 - k for further information. financial condition cash, cash equivalents, and marketable securities as of december 31, 2021, we had $ 139. 6 billion in cash, cash equivalents, and short - term marketable securities. cash equivalents and marketable securities are comprised of time deposits, money market funds, highly liquid government bonds, corporate debt securities, mortgage - backed and asset - backed securities, and marketable equity securities. sources, uses of cash and related trends our principal sources of liquidity are cash, cash equivalents, and marketable securities, as well as the cash flow that we generate from operations. the primary use of capital continues to be to invest for the long - term growth of the business. we regularly evaluate our cash and capital\n",
      "\n",
      "\n"
     ]
    },
    {
     "name": "stderr",
     "output_type": "stream",
     "text": [
      "100%|██████████| 1/1 [00:00<00:00, 253.37it/s]\n",
      "100%|██████████| 5/5 [00:00<00:00, 285.01it/s]\n"
     ]
    },
    {
     "data": {
      "image/png": "[encoded data removed]",
      "text/plain": [
       "<Figure size 640x480 with 1 Axes>"
      ]
     },
     "metadata": {},
     "output_type": "display_data"
    }
   ],
   "source": [
    "# Let's do all these again with another question that might be contained in the dataset to see that results are still close to one another.\n",
    "query = \"What are the company's long-term financial goals?\"\n",
    "results = chroma_collection.query(query_texts=query, n_results=5, include=['documents', 'embeddings'])\n",
    "\n",
    "retrieved_documents = results['documents'][0]\n",
    "\n",
    "i = 1\n",
    "for document in results['documents'][0]:\n",
    "    print(f\"Document {i}\")\n",
    "    print(document)\n",
    "    print('\\n')\n",
    "    i+=1\n",
    "\n",
    "query_embedding = embedding_function([query])[0]\n",
    "retrieved_embeddings = results['embeddings'][0]\n",
    "\n",
    "projected_query_embedding = project_embeddings([query_embedding], umap_transform)\n",
    "projected_retrieved_embeddings = project_embeddings(retrieved_embeddings, umap_transform)\n",
    "\n",
    "plot(title=query, projected_dataset_embeddings=projected_dataset_embeddings, projected_query_embedding=projected_query_embedding, projected_retrieved_embeddings=projected_retrieved_embeddings)"
   ]
  },
  {
   "cell_type": "code",
   "execution_count": 54,
   "id": "1b7baf71-ec49-4bfb-b57d-27f5fe1026a2",
   "metadata": {
    "tags": []
   },
   "outputs": [
    {
     "data": {
      "text/plain": [
       "array([[6.02439833, 5.21311522]])"
      ]
     },
     "execution_count": 54,
     "metadata": {},
     "output_type": "execute_result"
    }
   ],
   "source": [
    "projected_query_embedding"
   ]
  },
  {
   "cell_type": "code",
   "execution_count": 55,
   "id": "9650b641-7211-4243-8ab3-4d84aad6de2c",
   "metadata": {
    "tags": []
   },
   "outputs": [
    {
     "data": {
      "text/plain": [
       "array([[4.16153049, 4.89622879],\n",
       "       [7.20123243, 4.86128855],\n",
       "       [6.1934185 , 5.86674261],\n",
       "       [8.60106659, 2.58885288],\n",
       "       [7.92143583, 1.5520066 ]])"
      ]
     },
     "execution_count": 55,
     "metadata": {},
     "output_type": "execute_result"
    }
   ],
   "source": [
    "projected_retrieved_embeddings"
   ]
  },
  {
   "cell_type": "markdown",
   "id": "3e14f082-56be-4cc3-aa70-1c1db06b5084",
   "metadata": {},
   "source": [
    "Student comments\n",
    "- it seems that 3rd retrieved embedding is closest to the query\n",
    "- 3rd retrieved embedding looks at estimates of future accounting items\n",
    "- query looks at long term financial goals\n",
    "- SO the closest retrieved embedding is the BEST MATCH"
   ]
  },
  {
   "cell_type": "markdown",
   "id": "964de210-8f43-4d04-a592-9fde03c3f7c0",
   "metadata": {},
   "source": [
    "## qn4 - Out of scope qn"
   ]
  },
  {
   "cell_type": "code",
   "execution_count": 56,
   "id": "550b112f-75d4-4150-9110-fe3b08b17718",
   "metadata": {
    "tags": []
   },
   "outputs": [
    {
     "name": "stdout",
     "output_type": "stream",
     "text": [
      "Document 1\n",
      "other bets 659 657 753 hedging gains ( losses ) 455 176 149 total revenues $ 161, 857 $ 182, 527 $ 257, 637 no individual customer or groups of affiliated customers represented more than 10 % of our revenues in 2019, 2020, or 2021. 60\n",
      "\n",
      "\n",
      "Document 2\n",
      "table of contents alphabet inc. the following tables summarize debt securities, for which we did not elect the fair value option, by significant investment categories as of december 31, 2020 and 2021 ( in millions ) : as of december 31, 2020 adjusted costgross unrealized gainsgross unrealized lossesfair valuecash and cash equivalentsmarketable securities level 2 : time deposits $ 3, 564 $ 0 $ 0 $ 3, 564 $ 3, 564 $ 0 government bonds 55, 156 793 ( 9 ) 55, 940 2, 527 53, 413 corporate debt securities 31, 521 704 ( 2 ) 32, 223 8 32, 215 mortgage - backed and asset - backed securities 16, 767 364 ( 7 ) 17, 124 0 17, 124 total $ 107, 008 $ 1, 861 $ ( 18 ) $ 108, 851 $ 6, 099 $ 102, 752 as of december 31, 2021 adjusted costgross unrealized gainsgross unrealized lossesfair valuecash and cash equivalentsmarketable securities level 2 : time deposits $ 5, 133 $ 0 $ 0 $ 5, 133 $ 5, 133 $ 0 government bonds 53, 288 258\n",
      "\n",
      "\n",
      "Document 3\n",
      "mortgage - backed and asset - backed securities 18, 829 96 ( 112 ) 18, 813 0 18, 813 total $ 112, 855 $ 548 $ ( 573 ) $ 112, 830 $ 5, 150 $ 107, 680 the majority of our time deposits are domestic deposits. we determine realized gains or losses on the sale or extinguishment of debt securities on a specific identification method. we recognized gross realized gains of $ 292 million, $ 899 million, and $ 432 million for the years ended december 31, 2019, 2020, and 2021, respectively. we recognized gross realized losses of $ 143 million, $ 184 million, and $ 329 million for the years ended december 31, 2019, 2020, and 2021, respectively. we reflect these gains and losses as a component of other income ( expense ), net. the following table summarizes the estimated fair value of investments in marketable debt securities by stated contractual maturity dates ( in millions ) : as of december 31, 2021 due in 1 year or less $ 16, 192 due in 1 year through 5 years 78, 625 due in 5 years through 10 years 4, 675\n",
      "\n",
      "\n",
      "Document 4\n",
      "one. \" that unconventional spirit has been a driving force throughout our history, inspiring us to tackle big problems and invest in moonshots like artificial intelligence ( ai ) research and quantum computing. we continue this work under the leadership of sundar pichai, who has served as ceo of google since 2015 and as ceo of alphabet since 2019. alphabet is a collection of businesses — the largest of which is google. we report google in two segments, google services and google cloud ; we also report all non - google businesses collectively as other bets. other bets include earlier stage technologies that are further afield from our core google business. we take a long - term view and manage the portfolio of other bets with the discipline and rigor needed to deliver long - term returns. alphabet ' s structure is about helping each of our businesses prosper through strong leaders and independence. access and technology for everyone\n",
      "\n",
      "\n",
      "Document 5\n",
      "incentive programs, could continue larry and sergey ’ s current relative voting power and their ability to elect all of our directors and to determine the outcome of most matters submitted to a vote of our stockholders. the share repurchases made pursuant to our repurchase program may also 20\n",
      "\n",
      "\n"
     ]
    },
    {
     "name": "stderr",
     "output_type": "stream",
     "text": [
      "100%|██████████| 1/1 [00:00<00:00, 161.57it/s]\n",
      "100%|██████████| 5/5 [00:00<00:00, 142.14it/s]\n"
     ]
    },
    {
     "data": {
      "image/png": "[encoded data removed]",
      "text/plain": [
       "<Figure size 640x480 with 1 Axes>"
      ]
     },
     "metadata": {},
     "output_type": "display_data"
    }
   ],
   "source": [
    "# Now, let's use an unrelated query and we'll observe how the results are more scattered around. Notice that the algorithm always returns close neighbors even if they are far appart. This is an indication that is returning results that are not necesseraly related to the query.\n",
    "query = \"What has Tom Brady done for us lately?\"\n",
    "results = chroma_collection.query(query_texts=query, n_results=5, include=['documents', 'embeddings'])\n",
    "\n",
    "retrieved_documents = results['documents'][0]\n",
    "\n",
    "i = 1\n",
    "for document in results['documents'][0]:\n",
    "    print(f\"Document {i}\")\n",
    "    print(document)\n",
    "    print('\\n')\n",
    "    i+=1\n",
    "\n",
    "query_embedding = embedding_function([query])[0]\n",
    "retrieved_embeddings = results['embeddings'][0]\n",
    "\n",
    "projected_query_embedding = project_embeddings([query_embedding], umap_transform)\n",
    "projected_retrieved_embeddings = project_embeddings(retrieved_embeddings, umap_transform)\n",
    "\n",
    "plot(title=query, projected_dataset_embeddings=projected_dataset_embeddings, projected_query_embedding=projected_query_embedding, projected_retrieved_embeddings=projected_retrieved_embeddings)"
   ]
  },
  {
   "cell_type": "markdown",
   "id": "0993fbc1-fc3b-4c9c-a170-c30b732c5abd",
   "metadata": {},
   "source": [
    "Student comments\n",
    "- it seems that the 5 retrieved embeddings were far from the 'original query out of scope from the dataset' in the 2D space\n",
    "- it is interesting that there are other embeddings close to the 'original out of scope query' in the 2D space, yet they might be further apart in the 384-dimensional space generated by the embedding function\n"
   ]
  },
  {
   "cell_type": "markdown",
   "id": "f3347f0e-7ae2-4eb0-898c-19740af490a5",
   "metadata": {},
   "source": [
    "# Task 4. Query augmentation\n",
    "\n",
    "One way of improving the results from queries is by getting more results of similar queries. This can be done either by creating similar queries or by sending an answer of what you might expect, so that you attach more context. In this task, you learn to expand your queries leveraging LLMs to do the heavy lifting.\n",
    "\n"
   ]
  },
  {
   "cell_type": "markdown",
   "id": "e5a50c49-97d3-4a01-91c7-ad156d33ed63",
   "metadata": {},
   "source": [
    "## From query > Give sample ans"
   ]
  },
  {
   "cell_type": "code",
   "execution_count": 57,
   "id": "3ee0daa3-c3e6-4ec7-b65a-73981b37e4a5",
   "metadata": {
    "tags": []
   },
   "outputs": [
    {
     "name": "stdout",
     "output_type": "stream",
     "text": [
      "Was there significant turnover in the executive team? Yes, the past fiscal year saw several significant, yet strategically managed, changes within our executive leadership team. These transitions were primarily driven by planned succession, strategic realignment, and individuals pursuing new opportunities.\n",
      "\n",
      "Specifically:\n",
      "\n",
      "*   **Mr. John Smith, Chief Financial Officer**, retired in Q2 after 20 years of dedicated service to the company. His departure was part of a long-term succession plan. We were pleased to promote **Ms. Emily White** from her role as VP of Corporate Finance to CFO, effective July 1st. Ms. White brings extensive institutional knowledge and a proven track record.\n",
      "*   **Ms. Jane Doe, Chief Operating Officer**, resigned in Q3 to pursue an external opportunity. Her contributions were invaluable during her tenure. We conducted a thorough external search and appointed **Dr. Michael Green** as the new COO, effective October 1st. Dr. Green brings over 25 years of operational excellence experience from the technology sector, which aligns with our strategic growth initiatives.\n",
      "*   **Mr. Bob Johnson, Head of Marketing**, departed in Q4 as part of a strategic reorganization aimed at integrating our commercial functions more closely. This role was subsequently redefined and filled by **Ms. Sarah Chen**, formerly of [Competitor Company], who joined us as Chief Commercial Officer, overseeing marketing, sales, and customer experience.\n",
      "\n",
      "While these changes represent a notable shift, they were executed with careful planning and focus on continuity. The Board and the remaining executive team are confident that these appointments have strengthened our leadership capabilities and strategically position the company for sustained growth and innovation in the coming years.\n"
     ]
    }
   ],
   "source": [
    "# Augment the query with a probable answer to give more context to the vector search.\n",
    "def augment_query_generated(query, model):\n",
    "    information = \"\\n\\n\".join(retrieved_documents)\n",
    "\n",
    "    prompt = (f'You are a helpful expert financial research assistant.\\n'\n",
    "    f'Provide an example answer to the given question, that might be found in a document like an annual report.\\n'\n",
    "    f'Question: {query}.')\n",
    "\n",
    "    responses = model.generate_content(prompt, stream=False)\n",
    "    return responses.text\n",
    "\n",
    "original_query = \"Was there significant turnover in the executive team?\"\n",
    "hypothetical_answer = augment_query_generated(original_query, model)\n",
    "\n",
    "joint_query = f\"{original_query} {hypothetical_answer}\"\n",
    "print(joint_query)\n"
   ]
  },
  {
   "cell_type": "code",
   "execution_count": 66,
   "id": "6916a4fe-66ee-4fa6-a970-79a11fe1e68e",
   "metadata": {
    "tags": []
   },
   "outputs": [
    {
     "name": "stdout",
     "output_type": "stream",
     "text": [
      "Document 1\n",
      "liabilities, or amortization expenses, or impairment of goodwill and / or purchased long - lived assets, and restructuring charges, any of which could harm our financial condition or operating results. also, the anticipated benefits or value of our acquisitions and other strategic transactions may not materialize. in connection with our divestitures, we have agreed, and may in the future agree, to provide indemnification for certain potential liabilities, which may harm our financial condition or operating results. if we were to lose the services of key personnel, we may not be able to execute our business strategy. our future success depends in large part upon the continued service of key members of our senior management team. for instance, sundar pichai is critical to the overall management of alphabet and its subsidiaries and plays an important role in the development of our technology,\n",
      "\n",
      "Document 2\n",
      "item 10. directors, executive officers and corporate governance 88 item 11. executive compensation 88 item 12. security ownership of certain beneficial owners and management and related stockholder matters 88 item 13. certain relationships and related transactions, and director independence 88 item 14. principal accountant fees and services 88 part iv item 15. exhibits, financial statement schedules 89 item 16. form 10 - k summary 92 signatures 2\n",
      "\n",
      "Document 3\n",
      "table of contents alphabet inc. signature title date / s / sundar pichaichief executive officer and director ( principal executive officer ) february 1, 2022 sundar pichai / s / ruth m. porat senior vice president and chief financial officer ( principal financial officer ) february 1, 2022 ruth m. porat / s / amie thuener o ' toole vice president and chief accounting officer ( principal accounting officer ) february 1, 2022 amie thuener o ' toole / s / frances h. arnold director february 1, 2022 frances h. arnold / s / sergey brin co - founder and director february 1, 2022 sergey brin / s / l. john doerr director february 1, 2022 l. john doerr / s / roger w. ferguson, jr. director february 1, 2022 roger w. ferguson, jr. / s / john l. hennessy director, chair february 1, 2022 john l. hennessy / s / ann mather director february 1, 2022 ann mather / s / alan r. mulally director february 1, 2022 alan r. mulally\n",
      "\n",
      "Document 4\n",
      "maintaining our culture, and setting our strategic direction. all of our executive officers and key employees are at - will employees, and we do not maintain any key - person life insurance policies. the loss of key personnel could seriously harm our business. we rely on highly skilled personnel and, if we are unable to retain or motivate key personnel, hire qualified personnel, or maintain our corporate culture, we may not be able to grow effectively. our performance largely depends on the talents and efforts of highly skilled individuals. our ability to compete effectively and our future success depends on our continuing to identify, hire, develop, motivate, and retain highly skilled personnel for all areas of our organization. competition in our industry for qualified employees is intense, and certain of our competitors have directly targeted our employees. in addition, our compensation\n",
      "\n",
      "Document 5\n",
      "table of contents alphabet inc. acquisitions, joint ventures, investments, and divestitures could result in operating difficulties, dilution, and other consequences that may harm our business, financial condition, and operating results. acquisitions, joint ventures, investments and divestitures are important elements of our overall corporate strategy and use of capital, and these transactions could be material to our financial condition and operating results. we expect to continue to evaluate and enter into discussions regarding a wide array of such potential strategic transactions, which could create unforeseen operating difficulties and expenditures. some of the areas where we face risks include : • diversion of management time and focus from operating our business to challenges related to acquisitions and other strategic transactions ; • failure to obtain required approvals on a timely basis, if at all, from governmental authorities, or conditions placed upon approval that could,\n",
      "\n"
     ]
    }
   ],
   "source": [
    "# Perform the query with the new augmented query.\n",
    "results = chroma_collection.query(query_texts=joint_query, n_results=5, include=['documents', 'embeddings'])\n",
    "retrieved_documents = results['documents'][0]\n",
    "\n",
    "i=1\n",
    "for doc in retrieved_documents:\n",
    "    print(f\"Document {i}\")\n",
    "    print(doc)\n",
    "    print('')\n",
    "    i+=1"
   ]
  },
  {
   "cell_type": "code",
   "execution_count": 67,
   "id": "7d3459ef-3a8e-4ce4-a61f-a9d9868f5411",
   "metadata": {
    "tags": []
   },
   "outputs": [
    {
     "name": "stdout",
     "output_type": "stream",
     "text": [
      "Document 1\n",
      "liabilities, or amortization expenses, or impairment of goodwill and / or purchased long - lived assets, and restructuring charges, any of which could harm our financial condition or operating results. also, the anticipated benefits or value of our acquisitions and other strategic transactions may not materialize. in connection with our divestitures, we have agreed, and may in the future agree, to provide indemnification for certain potential liabilities, which may harm our financial condition or operating results. if we were to lose the services of key personnel, we may not be able to execute our business strategy. our future success depends in large part upon the continued service of key members of our senior management team. for instance, sundar pichai is critical to the overall management of alphabet and its subsidiaries and plays an important role in the development of our technology,\n",
      "\n",
      "Document 2\n",
      "item 10. directors, executive officers and corporate governance 88 item 11. executive compensation 88 item 12. security ownership of certain beneficial owners and management and related stockholder matters 88 item 13. certain relationships and related transactions, and director independence 88 item 14. principal accountant fees and services 88 part iv item 15. exhibits, financial statement schedules 89 item 16. form 10 - k summary 92 signatures 2\n",
      "\n",
      "Document 3\n",
      "table of contents alphabet inc. signature title date / s / sundar pichaichief executive officer and director ( principal executive officer ) february 1, 2022 sundar pichai / s / ruth m. porat senior vice president and chief financial officer ( principal financial officer ) february 1, 2022 ruth m. porat / s / amie thuener o ' toole vice president and chief accounting officer ( principal accounting officer ) february 1, 2022 amie thuener o ' toole / s / frances h. arnold director february 1, 2022 frances h. arnold / s / sergey brin co - founder and director february 1, 2022 sergey brin / s / l. john doerr director february 1, 2022 l. john doerr / s / roger w. ferguson, jr. director february 1, 2022 roger w. ferguson, jr. / s / john l. hennessy director, chair february 1, 2022 john l. hennessy / s / ann mather director february 1, 2022 ann mather / s / alan r. mulally director february 1, 2022 alan r. mulally\n",
      "\n",
      "Document 4\n",
      "maintaining our culture, and setting our strategic direction. all of our executive officers and key employees are at - will employees, and we do not maintain any key - person life insurance policies. the loss of key personnel could seriously harm our business. we rely on highly skilled personnel and, if we are unable to retain or motivate key personnel, hire qualified personnel, or maintain our corporate culture, we may not be able to grow effectively. our performance largely depends on the talents and efforts of highly skilled individuals. our ability to compete effectively and our future success depends on our continuing to identify, hire, develop, motivate, and retain highly skilled personnel for all areas of our organization. competition in our industry for qualified employees is intense, and certain of our competitors have directly targeted our employees. in addition, our compensation\n",
      "\n",
      "Document 5\n",
      "table of contents alphabet inc. acquisitions, joint ventures, investments, and divestitures could result in operating difficulties, dilution, and other consequences that may harm our business, financial condition, and operating results. acquisitions, joint ventures, investments and divestitures are important elements of our overall corporate strategy and use of capital, and these transactions could be material to our financial condition and operating results. we expect to continue to evaluate and enter into discussions regarding a wide array of such potential strategic transactions, which could create unforeseen operating difficulties and expenditures. some of the areas where we face risks include : • diversion of management time and focus from operating our business to challenges related to acquisitions and other strategic transactions ; • failure to obtain required approvals on a timely basis, if at all, from governmental authorities, or conditions placed upon approval that could,\n",
      "\n"
     ]
    }
   ],
   "source": [
    "# Search for embeddings for the augmented query.\n",
    "results = chroma_collection.query(query_texts=joint_query, n_results=5, include=['documents', 'embeddings'])\n",
    "retrieved_documents = results['documents'][0]\n",
    "\n",
    "i=1\n",
    "for doc in retrieved_documents:\n",
    "    print(f\"Document {i}\")\n",
    "    print(doc)\n",
    "    print('')\n",
    "    i+=1"
   ]
  },
  {
   "cell_type": "code",
   "execution_count": 61,
   "id": "b8321d7f-08e0-4d28-a237-6f507d478ddc",
   "metadata": {
    "tags": []
   },
   "outputs": [
    {
     "name": "stderr",
     "output_type": "stream",
     "text": [
      "100%|██████████| 1/1 [00:00<00:00, 81.54it/s]\n",
      "100%|██████████| 1/1 [00:00<00:00, 139.82it/s]\n",
      "100%|██████████| 5/5 [00:00<00:00, 189.11it/s]\n"
     ]
    }
   ],
   "source": [
    "# Get the embeddings for the queries and results and then map them to a 2-dimensional space.\n",
    "retrieved_embeddings = results['embeddings'][0]\n",
    "original_query_embedding = embedding_function([original_query])\n",
    "augmented_query_embedding = embedding_function([joint_query])\n",
    "\n",
    "projected_original_query_embedding = project_embeddings(original_query_embedding, umap_transform)\n",
    "projected_augmented_query_embedding = project_embeddings(augmented_query_embedding, umap_transform)\n",
    "projected_retrieved_embeddings = project_embeddings(retrieved_embeddings, umap_transform)"
   ]
  },
  {
   "cell_type": "code",
   "execution_count": 63,
   "id": "0bf6d82e-d9c4-4814-ab43-e2c4f581dbdb",
   "metadata": {
    "tags": []
   },
   "outputs": [
    {
     "data": {
      "text/plain": [
       "(-0.12157976627349854,\n",
       " 9.53650963306427,\n",
       " -1.0034998893737792,\n",
       " 8.393845462799073)"
      ]
     },
     "execution_count": 63,
     "metadata": {},
     "output_type": "execute_result"
    },
    {
     "data": {
      "image/png": "[encoded data removed]",
      "text/plain": [
       "<Figure size 640x480 with 1 Axes>"
      ]
     },
     "metadata": {},
     "output_type": "display_data"
    }
   ],
   "source": [
    "# Map the results to get a visual understanding of the outcome. Notice that the seleted answers are closer to the augmented query datapoint.\n",
    "plt.figure()\n",
    "plt.scatter(projected_dataset_embeddings[:, 0], projected_dataset_embeddings[:, 1], s=10, color='gray')\n",
    "plt.scatter(projected_retrieved_embeddings[:, 0], projected_retrieved_embeddings[:, 1], s=100, facecolors='none', edgecolors='g')\n",
    "# red = original query\n",
    "plt.scatter(projected_original_query_embedding[:, 0], projected_original_query_embedding[:, 1], s=150, marker='X', color='r')\n",
    "# orange = augmented query\n",
    "plt.scatter(projected_augmented_query_embedding[:, 0], projected_augmented_query_embedding[:, 1], s=150, marker='X', color='orange')\n",
    "\n",
    "plt.gca().set_aspect('equal', 'datalim')\n",
    "plt.title(f'{original_query}')\n",
    "plt.axis('off')"
   ]
  },
  {
   "cell_type": "code",
   "execution_count": 68,
   "id": "65deaf0e-5f8a-4340-be7d-c8a2498e842f",
   "metadata": {
    "tags": []
   },
   "outputs": [
    {
     "data": {
      "text/plain": [
       "array([[4.16153049, 4.89622879],\n",
       "       [3.5962007 , 2.76051331],\n",
       "       [3.76753855, 2.99082994],\n",
       "       [4.03425217, 5.74203825],\n",
       "       [3.82751346, 5.04065132]])"
      ]
     },
     "execution_count": 68,
     "metadata": {},
     "output_type": "execute_result"
    }
   ],
   "source": [
    "# so retrieved items 2 and 3 are closest to the augmented query\n",
    "# about the executive team and their turnover\n",
    "projected_retrieved_embeddings"
   ]
  },
  {
   "cell_type": "code",
   "execution_count": 70,
   "id": "645676ca-c939-46f8-9b3f-ea0a60a6ac94",
   "metadata": {
    "tags": []
   },
   "outputs": [
    {
     "data": {
      "text/plain": [
       "['liabilities, or amortization expenses, or impairment of goodwill and / or purchased long - lived assets, and restructuring charges, any of which could harm our financial condition or operating results. also, the anticipated benefits or value of our acquisitions and other strategic transactions may not materialize. in connection with our divestitures, we have agreed, and may in the future agree, to provide indemnification for certain potential liabilities, which may harm our financial condition or operating results. if we were to lose the services of key personnel, we may not be able to execute our business strategy. our future success depends in large part upon the continued service of key members of our senior management team. for instance, sundar pichai is critical to the overall management of alphabet and its subsidiaries and plays an important role in the development of our technology,',\n",
       " 'item 10. directors, executive officers and corporate governance 88 item 11. executive compensation 88 item 12. security ownership of certain beneficial owners and management and related stockholder matters 88 item 13. certain relationships and related transactions, and director independence 88 item 14. principal accountant fees and services 88 part iv item 15. exhibits, financial statement schedules 89 item 16. form 10 - k summary 92 signatures 2',\n",
       " \"table of contents alphabet inc. signature title date / s / sundar pichaichief executive officer and director ( principal executive officer ) february 1, 2022 sundar pichai / s / ruth m. porat senior vice president and chief financial officer ( principal financial officer ) february 1, 2022 ruth m. porat / s / amie thuener o ' toole vice president and chief accounting officer ( principal accounting officer ) february 1, 2022 amie thuener o ' toole / s / frances h. arnold director february 1, 2022 frances h. arnold / s / sergey brin co - founder and director february 1, 2022 sergey brin / s / l. john doerr director february 1, 2022 l. john doerr / s / roger w. ferguson, jr. director february 1, 2022 roger w. ferguson, jr. / s / john l. hennessy director, chair february 1, 2022 john l. hennessy / s / ann mather director february 1, 2022 ann mather / s / alan r. mulally director february 1, 2022 alan r. mulally\",\n",
       " 'maintaining our culture, and setting our strategic direction. all of our executive officers and key employees are at - will employees, and we do not maintain any key - person life insurance policies. the loss of key personnel could seriously harm our business. we rely on highly skilled personnel and, if we are unable to retain or motivate key personnel, hire qualified personnel, or maintain our corporate culture, we may not be able to grow effectively. our performance largely depends on the talents and efforts of highly skilled individuals. our ability to compete effectively and our future success depends on our continuing to identify, hire, develop, motivate, and retain highly skilled personnel for all areas of our organization. competition in our industry for qualified employees is intense, and certain of our competitors have directly targeted our employees. in addition, our compensation',\n",
       " 'table of contents alphabet inc. acquisitions, joint ventures, investments, and divestitures could result in operating difficulties, dilution, and other consequences that may harm our business, financial condition, and operating results. acquisitions, joint ventures, investments and divestitures are important elements of our overall corporate strategy and use of capital, and these transactions could be material to our financial condition and operating results. we expect to continue to evaluate and enter into discussions regarding a wide array of such potential strategic transactions, which could create unforeseen operating difficulties and expenditures. some of the areas where we face risks include : • diversion of management time and focus from operating our business to challenges related to acquisitions and other strategic transactions ; • failure to obtain required approvals on a timely basis, if at all, from governmental authorities, or conditions placed upon approval that could,']"
      ]
     },
     "execution_count": 70,
     "metadata": {},
     "output_type": "execute_result"
    }
   ],
   "source": [
    "retrieved_documents"
   ]
  },
  {
   "cell_type": "code",
   "execution_count": null,
   "id": "8a2c2a94-fc7e-4912-b4e4-3f7625ae6d33",
   "metadata": {},
   "outputs": [],
   "source": [
    "## From retrieved docs above > query new qn about new topic\n",
    "\n",
    "# NOW\n",
    "# ASK A NEW QN\n",
    "# USING THE 5 RETRIEVED DOCS ABOUT EXECUTIVE TEAM TURNOVER"
   ]
  },
  {
   "cell_type": "markdown",
   "id": "813c14b7-e460-472d-ba27-49fb1745014a",
   "metadata": {},
   "source": [
    "## From 1 qn > give 5 more qns"
   ]
  },
  {
   "cell_type": "code",
   "execution_count": 71,
   "id": "2f0cd4ff-1f42-4d55-9c4f-32f06dbc2141",
   "metadata": {
    "tags": []
   },
   "outputs": [
    {
     "name": "stdout",
     "output_type": "stream",
     "text": [
      "What were the most important factors that contributed to increases in revenue? \n",
      "Which product lines grew most significantly?\n",
      "Were increased sales volumes a primary driver?\n",
      "Did higher average selling prices contribute?\n",
      "What role did new market entry play?\n",
      "How did customer acquisition impact revenue?\n"
     ]
    }
   ],
   "source": [
    "# Augment the query with a additional queries.\n",
    "def augment_multiple_query(query, model):\n",
    "    information = \"\\n\\n\".join(retrieved_documents)\n",
    "\n",
    "    prompt = (f'You are a helpful expert financial research assistant.\\n'\n",
    "    f'Your users are asking questions about an annual report.\\n'\n",
    "    f'Suggest up to five additional related questions to help them find the information they need, for the provided question.\\n'\n",
    "    f'Suggest only short questions without compound sentences. Suggest a variety of questions that cover different aspects of the topic.\\n'\n",
    "    f'Make sure they are complete questions, and that they are related to the original question.\\n'\n",
    "    f'Output one question per line. Do not number the questions.\\n'\n",
    "    f'Question: {query}.')\n",
    "\n",
    "    responses = model.generate_content(prompt, stream=False)\n",
    "    return responses.text\n",
    "\n",
    "original_query = \"What were the most important factors that contributed to increases in revenue?\"\n",
    "augmented_queries = augment_multiple_query(original_query, model)\n",
    "\n",
    "joint_query = f\"{original_query} \\n{augmented_queries}\"\n",
    "print(joint_query)"
   ]
  },
  {
   "cell_type": "code",
   "execution_count": 72,
   "id": "1e4a0a09-5970-4c37-ab6a-ac575811ccf0",
   "metadata": {
    "tags": []
   },
   "outputs": [
    {
     "name": "stdout",
     "output_type": "stream",
     "text": [
      "Query: What were the most important factors that contributed to increases in revenue?\n",
      "\n",
      "Results:\n",
      "the following table presents sales and marketing expenses ( in millions, except percentages ) : year ended december 31, 2020 2021 sales and marketing expenses $ 17, 946 $ 22, 912 sales and marketing expenses as a percentage of revenues 9. 8 % 8. 9 % sales and marketing expenses increased $ 5. 0 billion from 2020 to 2021, primarily driven by an increase in advertising and promotional activities of $ 2. 5 billion and an increase in compensation expenses of $ 2. 2 billion. the increase in advertising and promotional activities was driven by both increased spending in the current period and a reduction in spending in 2020 due to covid - 19. the increase in compensation expenses was largely due to a 14 % increase in headcount. general and administrative the following table presents general and administrative expenses ( in millions, except percentages ) : year ended december 31, 2020 2021 general and administrative expenses $ 11, 052 $ 13, 510\n",
      "\n",
      "other income ( expense ), net $ 6, 858 $ 12, 020 $ 5, 162 75 % net income $ 40, 269 $ 76, 033 $ 35, 764 89 % diluted eps $ 58. 61 $ 112. 20 $ 53. 59 91 % number of employees 135, 301 156, 500 21, 199 16 % • revenues were $ 257. 6 billion, an increase of 41 %. the increase in revenues was primarily driven by google services and google cloud. the adverse effect of covid - 19 on 2020 advertising revenues also contributed to the year - over - year growth. • cost of revenues was $ 110. 9 billion, an increase of 31 %, primarily driven by increases in tac and content acquisition costs. an overall increase in data centers and other operations costs was partially offset by a reduction in depreciation expense due to the change in the estimated useful life of our servers and certain network equipment. • operating expenses were $ 68. 0 billion, an increase of 20 %, primarily driven by headcount growth, increases in advertising and promotional expenses and charges related to legal matters. other information :\n",
      "\n",
      "decrease in the rate of adoption of our products, services, and technologies, or due to deceleration or decline in demand for devices used to access our services, among other factors. in addition, we may also experience downward pressure on our operating margin resulting from a variety of factors, such as the continued expansion of our business into new fields, including products and services such as hardware, google cloud, and subscription products, as well as significant investments in other bets, all of which may have margins lower than those we generate from advertising. we may also experience downward pressure on our operating margins from increasing regulations, increasing competition, and increased costs for many aspects of our business. due to these factors and the evolving nature of our business, our historical revenue growth rate and historical operating margin may not be\n",
      "\n",
      "• operating cash flow was $ 91. 7 billion, primarily driven by revenues generated from our advertising products. • share repurchases were $ 50. 3 billion, an increase of 62 %. see note 11 of the notes to consolidated financial statements included in item 8 of this annual report on form 10 - k for further information. 32\n",
      "\n",
      "the following table presents other income ( expense ), net, ( in millions ) : year ended december 31, 2020 2021 other income ( expense ), net $ 6, 858 $ 12, 020 other income ( expense ), net, increased $ 5. 2 billion from 2020 to 2021. the increase was primarily driven by increases in net unrealized gains recognized for our marketable and non - marketable equity securities of $ 6. 9 billion, partially offset by an increase in accrued performance fees related to certain investments of $ 1. 3 billion. see note 3 of the notes to consolidated financial statements included in item 8 of this annual report on form 10 - k for further information. provision for income taxes the following table presents provision for income taxes ( in millions, except for effective tax rate ) : year ended december 31, 2020 2021 provision for income taxes $ 7, 813 $ 14, 701 effective tax rate 16. 2 % 16. 2 %\n",
      "\n",
      "----------------------------------------------------------------------------------------------------\n",
      "Query: Which product lines grew most significantly?\n",
      "\n",
      "Results:\n",
      "regulatory, and other challenges, which may negatively affect our brands and demand for our products and services. because all of these new ventures are inherently risky, no assurance can be given that such strategies and offerings will be successful and will not harm our reputation, financial condition, and operating results. our revenue growth rate could decline over time, and we anticipate downward pressure on our operating margin in the future. our revenue growth rate could decline over time as a result of a number of factors, including increasing competition. changes in device mix, geographic mix, ongoing product and policy changes, product mix, and property mix and an increasing competition for advertising may also affect our advertising revenue growth rate. we may also experience a decline in our revenue growth rate as our revenues increase to higher levels, if there is a\n",
      "\n",
      "we face intense competition. if we do not continue to innovate and provide products and services that are useful to users, customers, and other partners, we may not remain competitive, which could harm our business and operating results. our business environment is rapidly evolving and intensely competitive. our businesses face changing technologies, shifting user needs, and frequent introductions of rival products and services. to compete successfully, we must accurately anticipate technology developments and deliver innovative, relevant and useful products, services, and technologies in a timely manner. as our businesses evolve, the competitive pressure to innovate will encompass a wider range of products and services. we must continue to invest significant resources in r & d, including through acquisitions, in order to enhance our technology and new and existing products and services.\n",
      "\n",
      "inclusion of fitbit revenues, as the acquisition closed in january 2021, and an increase in phone sales. growth for google play was primarily driven by sales of apps and in - app purchases. 34\n",
      "\n",
      "decrease in the rate of adoption of our products, services, and technologies, or due to deceleration or decline in demand for devices used to access our services, among other factors. in addition, we may also experience downward pressure on our operating margin resulting from a variety of factors, such as the continued expansion of our business into new fields, including products and services such as hardware, google cloud, and subscription products, as well as significant investments in other bets, all of which may have margins lower than those we generate from advertising. we may also experience downward pressure on our operating margins from increasing regulations, increasing competition, and increased costs for many aspects of our business. due to these factors and the evolving nature of our business, our historical revenue growth rate and historical operating margin may not be\n",
      "\n",
      "our users are accessing the internet via diverse devices and modalities, such as smartphones, wearables and smart home devices, and want to be able to be connected no matter where they are or what they are doing. we are focused on expanding our products and services to stay in front of these trends in order to maintain and grow our business. we are increasingly generating advertising revenues from different channels, including mobile, and newer advertising formats. the margins on advertising revenues from these channels and newer products have generally been lower than those from traditional desktop search. additionally, as the market for a particular device type or modality matures, our revenues may be affected. for example, growth in the global smartphone market has slowed due to various factors, including increased market saturation in developed countries, which can affect our mobile advertising revenue growth rates.\n",
      "\n",
      "----------------------------------------------------------------------------------------------------\n",
      "Query: Were increased sales volumes a primary driver?\n",
      "\n",
      "Results:\n",
      "materials and products that are not consumed due to market acceptance, technological change, obsolescences, quality, product recalls, and warranty issues. for instance, because certain of our hardware supply contracts have volume - based pricing or minimum purchase requirements, if the volume of our hardware sales decreases or does not reach projected targets, we could face increased materials and manufacturing costs or other financial liabilities that could make our products more costly per unit to manufacture and negatively affect our financial results. furthermore, certain of our competitors may negotiate more favorable contractual terms based on volume and other commitments that may provide them with competitive advantages and may affect our supply. 12\n",
      "\n",
      "the following table presents sales and marketing expenses ( in millions, except percentages ) : year ended december 31, 2020 2021 sales and marketing expenses $ 17, 946 $ 22, 912 sales and marketing expenses as a percentage of revenues 9. 8 % 8. 9 % sales and marketing expenses increased $ 5. 0 billion from 2020 to 2021, primarily driven by an increase in advertising and promotional activities of $ 2. 5 billion and an increase in compensation expenses of $ 2. 2 billion. the increase in advertising and promotional activities was driven by both increased spending in the current period and a reduction in spending in 2020 due to covid - 19. the increase in compensation expenses was largely due to a 14 % increase in headcount. general and administrative the following table presents general and administrative expenses ( in millions, except percentages ) : year ended december 31, 2020 2021 general and administrative expenses $ 11, 052 $ 13, 510\n",
      "\n",
      "decrease in the rate of adoption of our products, services, and technologies, or due to deceleration or decline in demand for devices used to access our services, among other factors. in addition, we may also experience downward pressure on our operating margin resulting from a variety of factors, such as the continued expansion of our business into new fields, including products and services such as hardware, google cloud, and subscription products, as well as significant investments in other bets, all of which may have margins lower than those we generate from advertising. we may also experience downward pressure on our operating margins from increasing regulations, increasing competition, and increased costs for many aspects of our business. due to these factors and the evolving nature of our business, our historical revenue growth rate and historical operating margin may not be\n",
      "\n",
      "regulatory, and other challenges, which may negatively affect our brands and demand for our products and services. because all of these new ventures are inherently risky, no assurance can be given that such strategies and offerings will be successful and will not harm our reputation, financial condition, and operating results. our revenue growth rate could decline over time, and we anticipate downward pressure on our operating margin in the future. our revenue growth rate could decline over time as a result of a number of factors, including increasing competition. changes in device mix, geographic mix, ongoing product and policy changes, product mix, and property mix and an increasing competition for advertising may also affect our advertising revenue growth rate. we may also experience a decline in our revenue growth rate as our revenues increase to higher levels, if there is a\n",
      "\n",
      "other income ( expense ), net $ 6, 858 $ 12, 020 $ 5, 162 75 % net income $ 40, 269 $ 76, 033 $ 35, 764 89 % diluted eps $ 58. 61 $ 112. 20 $ 53. 59 91 % number of employees 135, 301 156, 500 21, 199 16 % • revenues were $ 257. 6 billion, an increase of 41 %. the increase in revenues was primarily driven by google services and google cloud. the adverse effect of covid - 19 on 2020 advertising revenues also contributed to the year - over - year growth. • cost of revenues was $ 110. 9 billion, an increase of 31 %, primarily driven by increases in tac and content acquisition costs. an overall increase in data centers and other operations costs was partially offset by a reduction in depreciation expense due to the change in the estimated useful life of our servers and certain network equipment. • operating expenses were $ 68. 0 billion, an increase of 20 %, primarily driven by headcount growth, increases in advertising and promotional expenses and charges related to legal matters. other information :\n",
      "\n",
      "----------------------------------------------------------------------------------------------------\n",
      "Query: Did higher average selling prices contribute?\n",
      "\n",
      "Results:\n",
      "the following table presents sales and marketing expenses ( in millions, except percentages ) : year ended december 31, 2020 2021 sales and marketing expenses $ 17, 946 $ 22, 912 sales and marketing expenses as a percentage of revenues 9. 8 % 8. 9 % sales and marketing expenses increased $ 5. 0 billion from 2020 to 2021, primarily driven by an increase in advertising and promotional activities of $ 2. 5 billion and an increase in compensation expenses of $ 2. 2 billion. the increase in advertising and promotional activities was driven by both increased spending in the current period and a reduction in spending in 2020 due to covid - 19. the increase in compensation expenses was largely due to a 14 % increase in headcount. general and administrative the following table presents general and administrative expenses ( in millions, except percentages ) : year ended december 31, 2020 2021 general and administrative expenses $ 11, 052 $ 13, 510\n",
      "\n",
      "2021, respectively, generally do not fluctuate based on market price changes. however, these investments could be impaired if the carrying value exceeds the fair value and is not expected to recover. for further information about our equity investments, see note 1 and note 3 of the notes to consolidated financial statements included in item 8 of this annual report on form 10 - k. 44\n",
      "\n",
      "• operating cash flow was $ 91. 7 billion, primarily driven by revenues generated from our advertising products. • share repurchases were $ 50. 3 billion, an increase of 62 %. see note 11 of the notes to consolidated financial statements included in item 8 of this annual report on form 10 - k for further information. 32\n",
      "\n",
      "average price paid per share includes costs associated with the repurchases. ( 1 ) ( 1 ) ( 2 ) ( 2 ) ( 1 ) ( 1 ) ( 2 ) 25\n",
      "\n",
      "decrease in the rate of adoption of our products, services, and technologies, or due to deceleration or decline in demand for devices used to access our services, among other factors. in addition, we may also experience downward pressure on our operating margin resulting from a variety of factors, such as the continued expansion of our business into new fields, including products and services such as hardware, google cloud, and subscription products, as well as significant investments in other bets, all of which may have margins lower than those we generate from advertising. we may also experience downward pressure on our operating margins from increasing regulations, increasing competition, and increased costs for many aspects of our business. due to these factors and the evolving nature of our business, our historical revenue growth rate and historical operating margin may not be\n",
      "\n",
      "----------------------------------------------------------------------------------------------------\n",
      "Query: What role did new market entry play?\n",
      "\n",
      "Results:\n",
      "we face intense competition. if we do not continue to innovate and provide products and services that are useful to users, customers, and other partners, we may not remain competitive, which could harm our business and operating results. our business environment is rapidly evolving and intensely competitive. our businesses face changing technologies, shifting user needs, and frequent introductions of rival products and services. to compete successfully, we must accurately anticipate technology developments and deliver innovative, relevant and useful products, services, and technologies in a timely manner. as our businesses evolve, the competitive pressure to innovate will encompass a wider range of products and services. we must continue to invest significant resources in r & d, including through acquisitions, in order to enhance our technology and new and existing products and services.\n",
      "\n",
      "inclusion of fitbit revenues, as the acquisition closed in january 2021, and an increase in phone sales. growth for google play was primarily driven by sales of apps and in - app purchases. 34\n",
      "\n",
      "arrangements, such as our equity award programs, may not always be successful in attracting new employees and retaining and motivating our existing employees. restrictive immigration policy and regulatory changes may also affect our ability to hire, mobilize, or retain some of our global talent. 22\n",
      "\n",
      "services and subscription and other services. a number of other bets initiatives are in their initial development stages, and as such, revenues from these businesses could be volatile. in addition, the margins on these revenues vary significantly and may be lower than the margins on our advertising revenues. • as we continue to serve our users and expand our businesses, we will invest heavily in operating and capital expenditures. we continue to make significant r & d investments in areas of strategic focus across google services, google cloud and other bets. we also expect to continue to invest in land and buildings for data centers and offices, and information technology assets, which includes servers and network equipment, to support the long - term growth of our business. in addition, acquisitions and strategic investments contribute to the breadth and depth of\n",
      "\n",
      "regulatory, and other challenges, which may negatively affect our brands and demand for our products and services. because all of these new ventures are inherently risky, no assurance can be given that such strategies and offerings will be successful and will not harm our reputation, financial condition, and operating results. our revenue growth rate could decline over time, and we anticipate downward pressure on our operating margin in the future. our revenue growth rate could decline over time as a result of a number of factors, including increasing competition. changes in device mix, geographic mix, ongoing product and policy changes, product mix, and property mix and an increasing competition for advertising may also affect our advertising revenue growth rate. we may also experience a decline in our revenue growth rate as our revenues increase to higher levels, if there is a\n",
      "\n",
      "----------------------------------------------------------------------------------------------------\n",
      "Query: How did customer acquisition impact revenue?\n",
      "\n",
      "Results:\n",
      "of benefit that is greater than 50 % likely to be realized upon settlement with a taxing authority. in addition, we recognize interest and penalties related to unrecognized tax benefits as a component of the income tax provision. business combinations we include the results of operations of the businesses that we acquire as of the acquisition date. we allocate the purchase price of the acquisitions to the assets acquired and liabilities assumed based on their estimated fair values. the excess of the purchase price over the fair values of identifiable assets and liabilities is recorded as goodwill. acquisition - related expenses are recognized separately from the business combination and are expensed as incurred. foreign currency we translate the financial statements of our international subsidiaries to u. s. dollars using month - end exchange rates for assets and liabilities,\n",
      "\n",
      "excludes post acquisition compensation arrangements. the purchase price was attributed to $ 440 million cash acquired, $ 590 million of intangible assets, $ 1. 2 billion of goodwill and $ 92 million of net liabilities assumed. goodwill was recorded in the google services segment and primarily attributable to synergies expected to arise after the acquisition. goodwill is not expected to be deductible for tax purposes. other acquisitions during the year ended december 31, 2021, we completed other acquisitions and purchases of intangible assets for total consideration of approximately $ 885 million, net of cash acquired, of which the total amount of goodwill expected to be deductible for tax purposes is approximately $ 118 million. pro forma results of operations for these acquisitions have not been presented because they are not material to our consolidated results of operations, either individually or in the aggregate. ( 1 ) ( 2 ) ( 3 ) ( 1 ) ( 2 ) ( 3 ) 74\n",
      "\n",
      "the following table presents sales and marketing expenses ( in millions, except percentages ) : year ended december 31, 2020 2021 sales and marketing expenses $ 17, 946 $ 22, 912 sales and marketing expenses as a percentage of revenues 9. 8 % 8. 9 % sales and marketing expenses increased $ 5. 0 billion from 2020 to 2021, primarily driven by an increase in advertising and promotional activities of $ 2. 5 billion and an increase in compensation expenses of $ 2. 2 billion. the increase in advertising and promotional activities was driven by both increased spending in the current period and a reduction in spending in 2020 due to covid - 19. the increase in compensation expenses was largely due to a 14 % increase in headcount. general and administrative the following table presents general and administrative expenses ( in millions, except percentages ) : year ended december 31, 2020 2021 general and administrative expenses $ 11, 052 $ 13, 510\n",
      "\n",
      "accounting estimate was effective beginning in fiscal year 2021. based on the carrying value of servers and certain network equipment as of december 31, 2020 and those acquired during the year ended december 31, 2021, the effect of this change in estimate was a reduction in depreciation expense of $ 2. 6 billion and an increase in net income of $ 2. 0 billion, or $ 3. 02 per basic share and $ 2. 98 per diluted share, for the year ended december 31, 2021. revenue recognition revenues are recognized when control of the promised goods or services is transferred to our customers, and the collectibility of an amount that we expect in exchange for those goods or services is probable. sales and other similar taxes are excluded from revenues. advertising revenues we generate advertising revenues primarily by delivering advertising on : • google search and other properties, including revenues from traffic generated by search distribution partners who use google. com as their\n",
      "\n",
      "other income ( expense ), net $ 6, 858 $ 12, 020 $ 5, 162 75 % net income $ 40, 269 $ 76, 033 $ 35, 764 89 % diluted eps $ 58. 61 $ 112. 20 $ 53. 59 91 % number of employees 135, 301 156, 500 21, 199 16 % • revenues were $ 257. 6 billion, an increase of 41 %. the increase in revenues was primarily driven by google services and google cloud. the adverse effect of covid - 19 on 2020 advertising revenues also contributed to the year - over - year growth. • cost of revenues was $ 110. 9 billion, an increase of 31 %, primarily driven by increases in tac and content acquisition costs. an overall increase in data centers and other operations costs was partially offset by a reduction in depreciation expense due to the change in the estimated useful life of our servers and certain network equipment. • operating expenses were $ 68. 0 billion, an increase of 20 %, primarily driven by headcount growth, increases in advertising and promotional expenses and charges related to legal matters. other information :\n",
      "\n",
      "----------------------------------------------------------------------------------------------------\n"
     ]
    }
   ],
   "source": [
    "# Retrieve answers for all of these queries.\n",
    "queries = [original_query] + augmented_queries.split('\\n')\n",
    "results = chroma_collection.query(query_texts=queries, n_results=5, include=['documents', 'embeddings'])\n",
    "\n",
    "retrieved_documents = results['documents']\n",
    "\n",
    "# Deduplicate the retrieved documents\n",
    "unique_documents = set()\n",
    "for documents in retrieved_documents:\n",
    "    for document in documents:\n",
    "        unique_documents.add(document)\n",
    "\n",
    "for i, documents in enumerate(retrieved_documents):\n",
    "    print(f\"Query: {queries[i]}\")\n",
    "    print('')\n",
    "    print(\"Results:\")\n",
    "    for doc in documents:\n",
    "        print(doc)\n",
    "        print('')\n",
    "    print('-'*100)"
   ]
  },
  {
   "cell_type": "code",
   "execution_count": 76,
   "id": "8f936f49-4346-479e-a271-6aa66d094623",
   "metadata": {
    "tags": []
   },
   "outputs": [
    {
     "data": {
      "text/plain": [
       "6"
      ]
     },
     "execution_count": 76,
     "metadata": {},
     "output_type": "execute_result"
    }
   ],
   "source": [
    "# 1 original query\n",
    "# AND 5 new qns\n",
    "len(retrieved_documents)"
   ]
  },
  {
   "cell_type": "code",
   "execution_count": 78,
   "id": "2705b9cf-b8f2-496f-94a3-6c40e5fb694e",
   "metadata": {
    "tags": []
   },
   "outputs": [
    {
     "data": {
      "text/plain": [
       "5"
      ]
     },
     "execution_count": 78,
     "metadata": {},
     "output_type": "execute_result"
    }
   ],
   "source": [
    "# 5 retrieved docs per qn\n",
    "len(retrieved_documents[0])"
   ]
  },
  {
   "cell_type": "code",
   "execution_count": 77,
   "id": "c2e47f99-c2ba-4922-89f9-c98702859411",
   "metadata": {
    "tags": []
   },
   "outputs": [
    {
     "data": {
      "text/plain": [
       "[['the following table presents sales and marketing expenses ( in millions, except percentages ) : year ended december 31, 2020 2021 sales and marketing expenses $ 17, 946 $ 22, 912 sales and marketing expenses as a percentage of revenues 9. 8 % 8. 9 % sales and marketing expenses increased $ 5. 0 billion from 2020 to 2021, primarily driven by an increase in advertising and promotional activities of $ 2. 5 billion and an increase in compensation expenses of $ 2. 2 billion. the increase in advertising and promotional activities was driven by both increased spending in the current period and a reduction in spending in 2020 due to covid - 19. the increase in compensation expenses was largely due to a 14 % increase in headcount. general and administrative the following table presents general and administrative expenses ( in millions, except percentages ) : year ended december 31, 2020 2021 general and administrative expenses $ 11, 052 $ 13, 510',\n",
       "  'other income ( expense ), net $ 6, 858 $ 12, 020 $ 5, 162 75 % net income $ 40, 269 $ 76, 033 $ 35, 764 89 % diluted eps $ 58. 61 $ 112. 20 $ 53. 59 91 % number of employees 135, 301 156, 500 21, 199 16 % • revenues were $ 257. 6 billion, an increase of 41 %. the increase in revenues was primarily driven by google services and google cloud. the adverse effect of covid - 19 on 2020 advertising revenues also contributed to the year - over - year growth. • cost of revenues was $ 110. 9 billion, an increase of 31 %, primarily driven by increases in tac and content acquisition costs. an overall increase in data centers and other operations costs was partially offset by a reduction in depreciation expense due to the change in the estimated useful life of our servers and certain network equipment. • operating expenses were $ 68. 0 billion, an increase of 20 %, primarily driven by headcount growth, increases in advertising and promotional expenses and charges related to legal matters. other information :',\n",
       "  'decrease in the rate of adoption of our products, services, and technologies, or due to deceleration or decline in demand for devices used to access our services, among other factors. in addition, we may also experience downward pressure on our operating margin resulting from a variety of factors, such as the continued expansion of our business into new fields, including products and services such as hardware, google cloud, and subscription products, as well as significant investments in other bets, all of which may have margins lower than those we generate from advertising. we may also experience downward pressure on our operating margins from increasing regulations, increasing competition, and increased costs for many aspects of our business. due to these factors and the evolving nature of our business, our historical revenue growth rate and historical operating margin may not be',\n",
       "  '• operating cash flow was $ 91. 7 billion, primarily driven by revenues generated from our advertising products. • share repurchases were $ 50. 3 billion, an increase of 62 %. see note 11 of the notes to consolidated financial statements included in item 8 of this annual report on form 10 - k for further information. 32',\n",
       "  'the following table presents other income ( expense ), net, ( in millions ) : year ended december 31, 2020 2021 other income ( expense ), net $ 6, 858 $ 12, 020 other income ( expense ), net, increased $ 5. 2 billion from 2020 to 2021. the increase was primarily driven by increases in net unrealized gains recognized for our marketable and non - marketable equity securities of $ 6. 9 billion, partially offset by an increase in accrued performance fees related to certain investments of $ 1. 3 billion. see note 3 of the notes to consolidated financial statements included in item 8 of this annual report on form 10 - k for further information. provision for income taxes the following table presents provision for income taxes ( in millions, except for effective tax rate ) : year ended december 31, 2020 2021 provision for income taxes $ 7, 813 $ 14, 701 effective tax rate 16. 2 % 16. 2 %'],\n",
       " ['regulatory, and other challenges, which may negatively affect our brands and demand for our products and services. because all of these new ventures are inherently risky, no assurance can be given that such strategies and offerings will be successful and will not harm our reputation, financial condition, and operating results. our revenue growth rate could decline over time, and we anticipate downward pressure on our operating margin in the future. our revenue growth rate could decline over time as a result of a number of factors, including increasing competition. changes in device mix, geographic mix, ongoing product and policy changes, product mix, and property mix and an increasing competition for advertising may also affect our advertising revenue growth rate. we may also experience a decline in our revenue growth rate as our revenues increase to higher levels, if there is a',\n",
       "  'we face intense competition. if we do not continue to innovate and provide products and services that are useful to users, customers, and other partners, we may not remain competitive, which could harm our business and operating results. our business environment is rapidly evolving and intensely competitive. our businesses face changing technologies, shifting user needs, and frequent introductions of rival products and services. to compete successfully, we must accurately anticipate technology developments and deliver innovative, relevant and useful products, services, and technologies in a timely manner. as our businesses evolve, the competitive pressure to innovate will encompass a wider range of products and services. we must continue to invest significant resources in r & d, including through acquisitions, in order to enhance our technology and new and existing products and services.',\n",
       "  'inclusion of fitbit revenues, as the acquisition closed in january 2021, and an increase in phone sales. growth for google play was primarily driven by sales of apps and in - app purchases. 34',\n",
       "  'decrease in the rate of adoption of our products, services, and technologies, or due to deceleration or decline in demand for devices used to access our services, among other factors. in addition, we may also experience downward pressure on our operating margin resulting from a variety of factors, such as the continued expansion of our business into new fields, including products and services such as hardware, google cloud, and subscription products, as well as significant investments in other bets, all of which may have margins lower than those we generate from advertising. we may also experience downward pressure on our operating margins from increasing regulations, increasing competition, and increased costs for many aspects of our business. due to these factors and the evolving nature of our business, our historical revenue growth rate and historical operating margin may not be',\n",
       "  'our users are accessing the internet via diverse devices and modalities, such as smartphones, wearables and smart home devices, and want to be able to be connected no matter where they are or what they are doing. we are focused on expanding our products and services to stay in front of these trends in order to maintain and grow our business. we are increasingly generating advertising revenues from different channels, including mobile, and newer advertising formats. the margins on advertising revenues from these channels and newer products have generally been lower than those from traditional desktop search. additionally, as the market for a particular device type or modality matures, our revenues may be affected. for example, growth in the global smartphone market has slowed due to various factors, including increased market saturation in developed countries, which can affect our mobile advertising revenue growth rates.'],\n",
       " ['materials and products that are not consumed due to market acceptance, technological change, obsolescences, quality, product recalls, and warranty issues. for instance, because certain of our hardware supply contracts have volume - based pricing or minimum purchase requirements, if the volume of our hardware sales decreases or does not reach projected targets, we could face increased materials and manufacturing costs or other financial liabilities that could make our products more costly per unit to manufacture and negatively affect our financial results. furthermore, certain of our competitors may negotiate more favorable contractual terms based on volume and other commitments that may provide them with competitive advantages and may affect our supply. 12',\n",
       "  'the following table presents sales and marketing expenses ( in millions, except percentages ) : year ended december 31, 2020 2021 sales and marketing expenses $ 17, 946 $ 22, 912 sales and marketing expenses as a percentage of revenues 9. 8 % 8. 9 % sales and marketing expenses increased $ 5. 0 billion from 2020 to 2021, primarily driven by an increase in advertising and promotional activities of $ 2. 5 billion and an increase in compensation expenses of $ 2. 2 billion. the increase in advertising and promotional activities was driven by both increased spending in the current period and a reduction in spending in 2020 due to covid - 19. the increase in compensation expenses was largely due to a 14 % increase in headcount. general and administrative the following table presents general and administrative expenses ( in millions, except percentages ) : year ended december 31, 2020 2021 general and administrative expenses $ 11, 052 $ 13, 510',\n",
       "  'decrease in the rate of adoption of our products, services, and technologies, or due to deceleration or decline in demand for devices used to access our services, among other factors. in addition, we may also experience downward pressure on our operating margin resulting from a variety of factors, such as the continued expansion of our business into new fields, including products and services such as hardware, google cloud, and subscription products, as well as significant investments in other bets, all of which may have margins lower than those we generate from advertising. we may also experience downward pressure on our operating margins from increasing regulations, increasing competition, and increased costs for many aspects of our business. due to these factors and the evolving nature of our business, our historical revenue growth rate and historical operating margin may not be',\n",
       "  'regulatory, and other challenges, which may negatively affect our brands and demand for our products and services. because all of these new ventures are inherently risky, no assurance can be given that such strategies and offerings will be successful and will not harm our reputation, financial condition, and operating results. our revenue growth rate could decline over time, and we anticipate downward pressure on our operating margin in the future. our revenue growth rate could decline over time as a result of a number of factors, including increasing competition. changes in device mix, geographic mix, ongoing product and policy changes, product mix, and property mix and an increasing competition for advertising may also affect our advertising revenue growth rate. we may also experience a decline in our revenue growth rate as our revenues increase to higher levels, if there is a',\n",
       "  'other income ( expense ), net $ 6, 858 $ 12, 020 $ 5, 162 75 % net income $ 40, 269 $ 76, 033 $ 35, 764 89 % diluted eps $ 58. 61 $ 112. 20 $ 53. 59 91 % number of employees 135, 301 156, 500 21, 199 16 % • revenues were $ 257. 6 billion, an increase of 41 %. the increase in revenues was primarily driven by google services and google cloud. the adverse effect of covid - 19 on 2020 advertising revenues also contributed to the year - over - year growth. • cost of revenues was $ 110. 9 billion, an increase of 31 %, primarily driven by increases in tac and content acquisition costs. an overall increase in data centers and other operations costs was partially offset by a reduction in depreciation expense due to the change in the estimated useful life of our servers and certain network equipment. • operating expenses were $ 68. 0 billion, an increase of 20 %, primarily driven by headcount growth, increases in advertising and promotional expenses and charges related to legal matters. other information :'],\n",
       " ['the following table presents sales and marketing expenses ( in millions, except percentages ) : year ended december 31, 2020 2021 sales and marketing expenses $ 17, 946 $ 22, 912 sales and marketing expenses as a percentage of revenues 9. 8 % 8. 9 % sales and marketing expenses increased $ 5. 0 billion from 2020 to 2021, primarily driven by an increase in advertising and promotional activities of $ 2. 5 billion and an increase in compensation expenses of $ 2. 2 billion. the increase in advertising and promotional activities was driven by both increased spending in the current period and a reduction in spending in 2020 due to covid - 19. the increase in compensation expenses was largely due to a 14 % increase in headcount. general and administrative the following table presents general and administrative expenses ( in millions, except percentages ) : year ended december 31, 2020 2021 general and administrative expenses $ 11, 052 $ 13, 510',\n",
       "  '2021, respectively, generally do not fluctuate based on market price changes. however, these investments could be impaired if the carrying value exceeds the fair value and is not expected to recover. for further information about our equity investments, see note 1 and note 3 of the notes to consolidated financial statements included in item 8 of this annual report on form 10 - k. 44',\n",
       "  '• operating cash flow was $ 91. 7 billion, primarily driven by revenues generated from our advertising products. • share repurchases were $ 50. 3 billion, an increase of 62 %. see note 11 of the notes to consolidated financial statements included in item 8 of this annual report on form 10 - k for further information. 32',\n",
       "  'average price paid per share includes costs associated with the repurchases. ( 1 ) ( 1 ) ( 2 ) ( 2 ) ( 1 ) ( 1 ) ( 2 ) 25',\n",
       "  'decrease in the rate of adoption of our products, services, and technologies, or due to deceleration or decline in demand for devices used to access our services, among other factors. in addition, we may also experience downward pressure on our operating margin resulting from a variety of factors, such as the continued expansion of our business into new fields, including products and services such as hardware, google cloud, and subscription products, as well as significant investments in other bets, all of which may have margins lower than those we generate from advertising. we may also experience downward pressure on our operating margins from increasing regulations, increasing competition, and increased costs for many aspects of our business. due to these factors and the evolving nature of our business, our historical revenue growth rate and historical operating margin may not be'],\n",
       " ['we face intense competition. if we do not continue to innovate and provide products and services that are useful to users, customers, and other partners, we may not remain competitive, which could harm our business and operating results. our business environment is rapidly evolving and intensely competitive. our businesses face changing technologies, shifting user needs, and frequent introductions of rival products and services. to compete successfully, we must accurately anticipate technology developments and deliver innovative, relevant and useful products, services, and technologies in a timely manner. as our businesses evolve, the competitive pressure to innovate will encompass a wider range of products and services. we must continue to invest significant resources in r & d, including through acquisitions, in order to enhance our technology and new and existing products and services.',\n",
       "  'inclusion of fitbit revenues, as the acquisition closed in january 2021, and an increase in phone sales. growth for google play was primarily driven by sales of apps and in - app purchases. 34',\n",
       "  'arrangements, such as our equity award programs, may not always be successful in attracting new employees and retaining and motivating our existing employees. restrictive immigration policy and regulatory changes may also affect our ability to hire, mobilize, or retain some of our global talent. 22',\n",
       "  'services and subscription and other services. a number of other bets initiatives are in their initial development stages, and as such, revenues from these businesses could be volatile. in addition, the margins on these revenues vary significantly and may be lower than the margins on our advertising revenues. • as we continue to serve our users and expand our businesses, we will invest heavily in operating and capital expenditures. we continue to make significant r & d investments in areas of strategic focus across google services, google cloud and other bets. we also expect to continue to invest in land and buildings for data centers and offices, and information technology assets, which includes servers and network equipment, to support the long - term growth of our business. in addition, acquisitions and strategic investments contribute to the breadth and depth of',\n",
       "  'regulatory, and other challenges, which may negatively affect our brands and demand for our products and services. because all of these new ventures are inherently risky, no assurance can be given that such strategies and offerings will be successful and will not harm our reputation, financial condition, and operating results. our revenue growth rate could decline over time, and we anticipate downward pressure on our operating margin in the future. our revenue growth rate could decline over time as a result of a number of factors, including increasing competition. changes in device mix, geographic mix, ongoing product and policy changes, product mix, and property mix and an increasing competition for advertising may also affect our advertising revenue growth rate. we may also experience a decline in our revenue growth rate as our revenues increase to higher levels, if there is a'],\n",
       " ['of benefit that is greater than 50 % likely to be realized upon settlement with a taxing authority. in addition, we recognize interest and penalties related to unrecognized tax benefits as a component of the income tax provision. business combinations we include the results of operations of the businesses that we acquire as of the acquisition date. we allocate the purchase price of the acquisitions to the assets acquired and liabilities assumed based on their estimated fair values. the excess of the purchase price over the fair values of identifiable assets and liabilities is recorded as goodwill. acquisition - related expenses are recognized separately from the business combination and are expensed as incurred. foreign currency we translate the financial statements of our international subsidiaries to u. s. dollars using month - end exchange rates for assets and liabilities,',\n",
       "  'excludes post acquisition compensation arrangements. the purchase price was attributed to $ 440 million cash acquired, $ 590 million of intangible assets, $ 1. 2 billion of goodwill and $ 92 million of net liabilities assumed. goodwill was recorded in the google services segment and primarily attributable to synergies expected to arise after the acquisition. goodwill is not expected to be deductible for tax purposes. other acquisitions during the year ended december 31, 2021, we completed other acquisitions and purchases of intangible assets for total consideration of approximately $ 885 million, net of cash acquired, of which the total amount of goodwill expected to be deductible for tax purposes is approximately $ 118 million. pro forma results of operations for these acquisitions have not been presented because they are not material to our consolidated results of operations, either individually or in the aggregate. ( 1 ) ( 2 ) ( 3 ) ( 1 ) ( 2 ) ( 3 ) 74',\n",
       "  'the following table presents sales and marketing expenses ( in millions, except percentages ) : year ended december 31, 2020 2021 sales and marketing expenses $ 17, 946 $ 22, 912 sales and marketing expenses as a percentage of revenues 9. 8 % 8. 9 % sales and marketing expenses increased $ 5. 0 billion from 2020 to 2021, primarily driven by an increase in advertising and promotional activities of $ 2. 5 billion and an increase in compensation expenses of $ 2. 2 billion. the increase in advertising and promotional activities was driven by both increased spending in the current period and a reduction in spending in 2020 due to covid - 19. the increase in compensation expenses was largely due to a 14 % increase in headcount. general and administrative the following table presents general and administrative expenses ( in millions, except percentages ) : year ended december 31, 2020 2021 general and administrative expenses $ 11, 052 $ 13, 510',\n",
       "  'accounting estimate was effective beginning in fiscal year 2021. based on the carrying value of servers and certain network equipment as of december 31, 2020 and those acquired during the year ended december 31, 2021, the effect of this change in estimate was a reduction in depreciation expense of $ 2. 6 billion and an increase in net income of $ 2. 0 billion, or $ 3. 02 per basic share and $ 2. 98 per diluted share, for the year ended december 31, 2021. revenue recognition revenues are recognized when control of the promised goods or services is transferred to our customers, and the collectibility of an amount that we expect in exchange for those goods or services is probable. sales and other similar taxes are excluded from revenues. advertising revenues we generate advertising revenues primarily by delivering advertising on : • google search and other properties, including revenues from traffic generated by search distribution partners who use google. com as their',\n",
       "  'other income ( expense ), net $ 6, 858 $ 12, 020 $ 5, 162 75 % net income $ 40, 269 $ 76, 033 $ 35, 764 89 % diluted eps $ 58. 61 $ 112. 20 $ 53. 59 91 % number of employees 135, 301 156, 500 21, 199 16 % • revenues were $ 257. 6 billion, an increase of 41 %. the increase in revenues was primarily driven by google services and google cloud. the adverse effect of covid - 19 on 2020 advertising revenues also contributed to the year - over - year growth. • cost of revenues was $ 110. 9 billion, an increase of 31 %, primarily driven by increases in tac and content acquisition costs. an overall increase in data centers and other operations costs was partially offset by a reduction in depreciation expense due to the change in the estimated useful life of our servers and certain network equipment. • operating expenses were $ 68. 0 billion, an increase of 20 %, primarily driven by headcount growth, increases in advertising and promotional expenses and charges related to legal matters. other information :']]"
      ]
     },
     "execution_count": 77,
     "metadata": {},
     "output_type": "execute_result"
    }
   ],
   "source": [
    "retrieved_documents"
   ]
  },
  {
   "cell_type": "code",
   "execution_count": 81,
   "id": "a5c7629c-3b2c-47e4-afed-5024e3c0afa2",
   "metadata": {
    "tags": []
   },
   "outputs": [
    {
     "data": {
      "text/plain": [
       "(219, 384)"
      ]
     },
     "execution_count": 81,
     "metadata": {},
     "output_type": "execute_result"
    }
   ],
   "source": [
    "# QUESTION: HOW DID WE GET 219 augmented query embedings????\n",
    "# '219' comes from num of characters from the 5 additional queries/qns generated by LLM\n",
    "# so we got 1 384-dim embedding for each character\n",
    "len(augmented_query_embeddings), len(augmented_query_embeddings[0])"
   ]
  },
  {
   "cell_type": "code",
   "execution_count": 107,
   "id": "cf348106-131c-47aa-9765-07b22bab9547",
   "metadata": {
    "tags": []
   },
   "outputs": [
    {
     "data": {
      "text/plain": [
       "'What were the most important factors that contributed to increases in revenue?'"
      ]
     },
     "execution_count": 107,
     "metadata": {},
     "output_type": "execute_result"
    }
   ],
   "source": [
    "original_query"
   ]
  },
  {
   "cell_type": "code",
   "execution_count": 108,
   "id": "baf155e6-b5fc-41fe-a529-e8093b8d9956",
   "metadata": {
    "tags": []
   },
   "outputs": [
    {
     "data": {
      "text/plain": [
       "78"
      ]
     },
     "execution_count": 108,
     "metadata": {},
     "output_type": "execute_result"
    }
   ],
   "source": [
    "len(original_query)"
   ]
  },
  {
   "cell_type": "code",
   "execution_count": 109,
   "id": "2ec4268a-fb04-4b4f-8ff6-cf214a1a74d3",
   "metadata": {
    "tags": []
   },
   "outputs": [
    {
     "data": {
      "text/plain": [
       "'Which product lines grew most significantly?\\nWere increased sales volumes a primary driver?\\nDid higher average selling prices contribute?\\nWhat role did new market entry play?\\nHow did customer acquisition impact revenue?'"
      ]
     },
     "execution_count": 109,
     "metadata": {},
     "output_type": "execute_result"
    }
   ],
   "source": [
    "augmented_queries"
   ]
  },
  {
   "cell_type": "code",
   "execution_count": 110,
   "id": "48801872-6d37-419c-a429-f4403c986ea1",
   "metadata": {
    "tags": []
   },
   "outputs": [
    {
     "data": {
      "text/plain": [
       "219"
      ]
     },
     "execution_count": 110,
     "metadata": {},
     "output_type": "execute_result"
    }
   ],
   "source": [
    "len(augmented_queries)"
   ]
  },
  {
   "cell_type": "code",
   "execution_count": 73,
   "id": "80963c6c-609c-4b25-b341-341f21583657",
   "metadata": {
    "tags": []
   },
   "outputs": [
    {
     "name": "stderr",
     "output_type": "stream",
     "text": [
      "100%|██████████| 1/1 [00:00<00:00, 120.63it/s]\n",
      "100%|██████████| 219/219 [00:00<00:00, 297.97it/s]\n"
     ]
    }
   ],
   "source": [
    "# Project the queries embeddings into a 2-dimensional space.\n",
    "original_query_embedding = embedding_function([original_query])\n",
    "augmented_query_embeddings = embedding_function(augmented_queries)\n",
    "\n",
    "project_original_query = project_embeddings(original_query_embedding, umap_transform)\n",
    "project_augmented_queries = project_embeddings(augmented_query_embeddings, umap_transform)"
   ]
  },
  {
   "cell_type": "code",
   "execution_count": 74,
   "id": "bf5ac95d-c298-4a64-aac8-ae59b195d61c",
   "metadata": {
    "tags": []
   },
   "outputs": [
    {
     "name": "stderr",
     "output_type": "stream",
     "text": [
      "100%|██████████| 30/30 [00:00<00:00, 325.70it/s]\n"
     ]
    }
   ],
   "source": [
    "# Project the answer embeddings into a 2-dimensional space.\n",
    "result_embeddings = results['embeddings']\n",
    "result_embeddings = [item for sublist in result_embeddings for item in sublist]\n",
    "projected_result_embeddings = project_embeddings(result_embeddings, umap_transform)"
   ]
  },
  {
   "cell_type": "code",
   "execution_count": 75,
   "id": "593646d0-24a5-4bb0-93ba-a14084733591",
   "metadata": {
    "tags": []
   },
   "outputs": [
    {
     "data": {
      "text/plain": [
       "(-0.12157976627349854,\n",
       " 9.53650963306427,\n",
       " -1.0040213584899902,\n",
       " 8.404796314239501)"
      ]
     },
     "execution_count": 75,
     "metadata": {},
     "output_type": "execute_result"
    },
    {
     "data": {
      "image/png": "[encoded data removed]",
      "text/plain": [
       "<Figure size 640x480 with 1 Axes>"
      ]
     },
     "metadata": {},
     "output_type": "display_data"
    }
   ],
   "source": [
    "# Plot the queries and answers to visualize their representation in space.\n",
    "import matplotlib.pyplot as plt\n",
    "\n",
    "plt.figure()\n",
    "plt.scatter(projected_dataset_embeddings[:, 0], projected_dataset_embeddings[:, 1], s=10, color='gray')\n",
    "plt.scatter(project_augmented_queries[:, 0], project_augmented_queries[:, 1], s=150, marker='X', color='orange')\n",
    "plt.scatter(projected_result_embeddings[:, 0], projected_result_embeddings[:, 1], s=100, facecolors='none', edgecolors='g')\n",
    "plt.scatter(project_original_query[:, 0], project_original_query[:, 1], s=150, marker='X', color='r')\n",
    "\n",
    "plt.gca().set_aspect('equal', 'datalim')\n",
    "plt.title(f'{original_query}')\n",
    "plt.axis('off')"
   ]
  },
  {
   "cell_type": "markdown",
   "id": "1991090c-4125-4eb4-9817-029bbef49db2",
   "metadata": {},
   "source": [
    "# Task 5. Re-ranking results\n",
    "With the query expansion technique that we just discussed, we increased the cardinality of responses. We have a new problem now. The high amount of responses might be larges than the LLM's input token limit and, it will be more expensive to process such a high amount of tokens, since we are billed per token. One solution to this problem is to rerank the results and only send the most relevant ones. Now, instead of using the same cosine-similarity method as before, you could use a cross-encoder, a method that usually yields better results.\n",
    "\n"
   ]
  },
  {
   "cell_type": "code",
   "execution_count": 82,
   "id": "637af240-b613-478c-85cc-2e343d06927e",
   "metadata": {
    "tags": []
   },
   "outputs": [
    {
     "data": {
      "application/vnd.jupyter.widget-view+json": {
       "model_id": "a6109f702d52483ba5dd8e073746a108",
       "version_major": 2,
       "version_minor": 0
      },
      "text/plain": [
       "config.json:   0%|          | 0.00/794 [00:00<?, ?B/s]"
      ]
     },
     "metadata": {},
     "output_type": "display_data"
    },
    {
     "data": {
      "application/vnd.jupyter.widget-view+json": {
       "model_id": "27b43067cf1247c6bfea8e9edf9c7c1b",
       "version_major": 2,
       "version_minor": 0
      },
      "text/plain": [
       "model.safetensors:   0%|          | 0.00/90.9M [00:00<?, ?B/s]"
      ]
     },
     "metadata": {},
     "output_type": "display_data"
    },
    {
     "data": {
      "application/vnd.jupyter.widget-view+json": {
       "model_id": "d28a8d1a3e5849c991ad2853c4d8a0cf",
       "version_major": 2,
       "version_minor": 0
      },
      "text/plain": [
       "tokenizer_config.json: 0.00B [00:00, ?B/s]"
      ]
     },
     "metadata": {},
     "output_type": "display_data"
    },
    {
     "data": {
      "application/vnd.jupyter.widget-view+json": {
       "model_id": "4f6465d1d6c647d5870bb41a658d24e4",
       "version_major": 2,
       "version_minor": 0
      },
      "text/plain": [
       "vocab.txt: 0.00B [00:00, ?B/s]"
      ]
     },
     "metadata": {},
     "output_type": "display_data"
    },
    {
     "data": {
      "application/vnd.jupyter.widget-view+json": {
       "model_id": "dd6de7c7a3d746d1bb1f055c075c3855",
       "version_major": 2,
       "version_minor": 0
      },
      "text/plain": [
       "tokenizer.json: 0.00B [00:00, ?B/s]"
      ]
     },
     "metadata": {},
     "output_type": "display_data"
    },
    {
     "data": {
      "application/vnd.jupyter.widget-view+json": {
       "model_id": "d47e3bfcad9846148d253d770603065d",
       "version_major": 2,
       "version_minor": 0
      },
      "text/plain": [
       "special_tokens_map.json:   0%|          | 0.00/132 [00:00<?, ?B/s]"
      ]
     },
     "metadata": {},
     "output_type": "display_data"
    },
    {
     "data": {
      "application/vnd.jupyter.widget-view+json": {
       "model_id": "f46e758b636e4e16abf93a7a9f696818",
       "version_major": 2,
       "version_minor": 0
      },
      "text/plain": [
       "README.md: 0.00B [00:00, ?B/s]"
      ]
     },
     "metadata": {},
     "output_type": "display_data"
    }
   ],
   "source": [
    "# Import a cross encoder model.\n",
    "from sentence_transformers import CrossEncoder\n",
    "cross_encoder = CrossEncoder('cross-encoder/ms-marco-MiniLM-L-6-v2')\n"
   ]
  },
  {
   "cell_type": "code",
   "execution_count": 83,
   "id": "a2902df8-95d0-4b10-9d73-343018e580b8",
   "metadata": {
    "tags": []
   },
   "outputs": [
    {
     "data": {
      "text/plain": [
       "CrossEncoder(\n",
       "  (model): BertForSequenceClassification(\n",
       "    (bert): BertModel(\n",
       "      (embeddings): BertEmbeddings(\n",
       "        (word_embeddings): Embedding(30522, 384, padding_idx=0)\n",
       "        (position_embeddings): Embedding(512, 384)\n",
       "        (token_type_embeddings): Embedding(2, 384)\n",
       "        (LayerNorm): LayerNorm((384,), eps=1e-12, elementwise_affine=True)\n",
       "        (dropout): Dropout(p=0.1, inplace=False)\n",
       "      )\n",
       "      (encoder): BertEncoder(\n",
       "        (layer): ModuleList(\n",
       "          (0-5): 6 x BertLayer(\n",
       "            (attention): BertAttention(\n",
       "              (self): BertSdpaSelfAttention(\n",
       "                (query): Linear(in_features=384, out_features=384, bias=True)\n",
       "                (key): Linear(in_features=384, out_features=384, bias=True)\n",
       "                (value): Linear(in_features=384, out_features=384, bias=True)\n",
       "                (dropout): Dropout(p=0.1, inplace=False)\n",
       "              )\n",
       "              (output): BertSelfOutput(\n",
       "                (dense): Linear(in_features=384, out_features=384, bias=True)\n",
       "                (LayerNorm): LayerNorm((384,), eps=1e-12, elementwise_affine=True)\n",
       "                (dropout): Dropout(p=0.1, inplace=False)\n",
       "              )\n",
       "            )\n",
       "            (intermediate): BertIntermediate(\n",
       "              (dense): Linear(in_features=384, out_features=1536, bias=True)\n",
       "              (intermediate_act_fn): GELUActivation()\n",
       "            )\n",
       "            (output): BertOutput(\n",
       "              (dense): Linear(in_features=1536, out_features=384, bias=True)\n",
       "              (LayerNorm): LayerNorm((384,), eps=1e-12, elementwise_affine=True)\n",
       "              (dropout): Dropout(p=0.1, inplace=False)\n",
       "            )\n",
       "          )\n",
       "        )\n",
       "      )\n",
       "      (pooler): BertPooler(\n",
       "        (dense): Linear(in_features=384, out_features=384, bias=True)\n",
       "        (activation): Tanh()\n",
       "      )\n",
       "    )\n",
       "    (dropout): Dropout(p=0.1, inplace=False)\n",
       "    (classifier): Linear(in_features=384, out_features=1, bias=True)\n",
       "  )\n",
       "  (activation_fn): Identity()\n",
       ")"
      ]
     },
     "execution_count": 83,
     "metadata": {},
     "output_type": "execute_result"
    }
   ],
   "source": [
    "cross_encoder"
   ]
  },
  {
   "cell_type": "code",
   "execution_count": 84,
   "id": "07f6a366-6835-43bc-b46c-81da90e52c9e",
   "metadata": {
    "tags": []
   },
   "outputs": [],
   "source": [
    "# Create unique pairs of query to document.\n",
    "pairs = []\n",
    "for doc in unique_documents:\n",
    "    pairs.append([original_query, doc])"
   ]
  },
  {
   "cell_type": "code",
   "execution_count": 86,
   "id": "b9ec3293-277d-4400-bf7f-e3393a1c88ac",
   "metadata": {
    "tags": []
   },
   "outputs": [
    {
     "data": {
      "text/plain": [
       "['What were the most important factors that contributed to increases in revenue?',\n",
       " 'regulatory, and other challenges, which may negatively affect our brands and demand for our products and services. because all of these new ventures are inherently risky, no assurance can be given that such strategies and offerings will be successful and will not harm our reputation, financial condition, and operating results. our revenue growth rate could decline over time, and we anticipate downward pressure on our operating margin in the future. our revenue growth rate could decline over time as a result of a number of factors, including increasing competition. changes in device mix, geographic mix, ongoing product and policy changes, product mix, and property mix and an increasing competition for advertising may also affect our advertising revenue growth rate. we may also experience a decline in our revenue growth rate as our revenues increase to higher levels, if there is a']"
      ]
     },
     "execution_count": 86,
     "metadata": {},
     "output_type": "execute_result"
    }
   ],
   "source": [
    "pairs[0]"
   ]
  },
  {
   "cell_type": "code",
   "execution_count": 87,
   "id": "4c535b61-b649-4cd9-a59f-b363192b68f5",
   "metadata": {
    "tags": []
   },
   "outputs": [
    {
     "data": {
      "text/plain": [
       "17"
      ]
     },
     "execution_count": 87,
     "metadata": {},
     "output_type": "execute_result"
    }
   ],
   "source": [
    "len(pairs)"
   ]
  },
  {
   "cell_type": "code",
   "execution_count": 88,
   "id": "2e15c851-95c1-4648-99f7-18638dc9136c",
   "metadata": {
    "tags": []
   },
   "outputs": [
    {
     "name": "stdout",
     "output_type": "stream",
     "text": [
      "Scores:\n",
      "-0.9712277\n",
      "-5.8740263\n",
      "-0.3303551\n",
      "-0.9054482\n",
      "-11.029303\n",
      "-6.2903166\n",
      "-8.455056\n",
      "-10.99262\n",
      "-7.1802645\n",
      "-8.673282\n",
      "-6.0480146\n",
      "-11.219526\n",
      "-3.766006\n",
      "-10.963417\n",
      "-11.047906\n",
      "-5.077244\n",
      "-11.07251\n"
     ]
    }
   ],
   "source": [
    "# Compute an print the similarity between the pairs.\n",
    "scores = cross_encoder.predict(pairs)\n",
    "\n",
    "print(\"Scores:\")\n",
    "for score in scores:\n",
    "    print(score)"
   ]
  },
  {
   "cell_type": "code",
   "execution_count": 89,
   "id": "cd11ff2a-5705-44b0-8a13-52e36fd7e4a2",
   "metadata": {
    "tags": []
   },
   "outputs": [
    {
     "name": "stdout",
     "output_type": "stream",
     "text": [
      "New Ordering:\n",
      "2\n",
      "3\n",
      "0\n",
      "12\n",
      "15\n",
      "1\n",
      "10\n",
      "5\n",
      "8\n",
      "6\n",
      "9\n",
      "13\n",
      "7\n",
      "4\n",
      "14\n",
      "16\n",
      "11\n"
     ]
    }
   ],
   "source": [
    "# Reorder the pairs in terms of relevance.\n",
    "print(\"New Ordering:\")\n",
    "ranked_docs=['']*len(scores)\n",
    "\n",
    "# starting from 0-index\n",
    "i = 0\n",
    "for position in np.argsort(scores)[::-1]:\n",
    "    ranked_docs[position] = pairs[i][1]\n",
    "    i+=1\n",
    "    print(position)"
   ]
  },
  {
   "cell_type": "code",
   "execution_count": 90,
   "id": "b13fed32-daf1-4de9-a0b6-af5611456fd1",
   "metadata": {
    "tags": []
   },
   "outputs": [
    {
     "data": {
      "text/plain": [
       "['decrease in the rate of adoption of our products, services, and technologies, or due to deceleration or decline in demand for devices used to access our services, among other factors. in addition, we may also experience downward pressure on our operating margin resulting from a variety of factors, such as the continued expansion of our business into new fields, including products and services such as hardware, google cloud, and subscription products, as well as significant investments in other bets, all of which may have margins lower than those we generate from advertising. we may also experience downward pressure on our operating margins from increasing regulations, increasing competition, and increased costs for many aspects of our business. due to these factors and the evolving nature of our business, our historical revenue growth rate and historical operating margin may not be',\n",
       " '• operating cash flow was $ 91. 7 billion, primarily driven by revenues generated from our advertising products. • share repurchases were $ 50. 3 billion, an increase of 62 %. see note 11 of the notes to consolidated financial statements included in item 8 of this annual report on form 10 - k for further information. 32',\n",
       " 'regulatory, and other challenges, which may negatively affect our brands and demand for our products and services. because all of these new ventures are inherently risky, no assurance can be given that such strategies and offerings will be successful and will not harm our reputation, financial condition, and operating results. our revenue growth rate could decline over time, and we anticipate downward pressure on our operating margin in the future. our revenue growth rate could decline over time as a result of a number of factors, including increasing competition. changes in device mix, geographic mix, ongoing product and policy changes, product mix, and property mix and an increasing competition for advertising may also affect our advertising revenue growth rate. we may also experience a decline in our revenue growth rate as our revenues increase to higher levels, if there is a',\n",
       " 'the following table presents sales and marketing expenses ( in millions, except percentages ) : year ended december 31, 2020 2021 sales and marketing expenses $ 17, 946 $ 22, 912 sales and marketing expenses as a percentage of revenues 9. 8 % 8. 9 % sales and marketing expenses increased $ 5. 0 billion from 2020 to 2021, primarily driven by an increase in advertising and promotional activities of $ 2. 5 billion and an increase in compensation expenses of $ 2. 2 billion. the increase in advertising and promotional activities was driven by both increased spending in the current period and a reduction in spending in 2020 due to covid - 19. the increase in compensation expenses was largely due to a 14 % increase in headcount. general and administrative the following table presents general and administrative expenses ( in millions, except percentages ) : year ended december 31, 2020 2021 general and administrative expenses $ 11, 052 $ 13, 510',\n",
       " 'average price paid per share includes costs associated with the repurchases. ( 1 ) ( 1 ) ( 2 ) ( 2 ) ( 1 ) ( 1 ) ( 2 ) 25']"
      ]
     },
     "execution_count": 90,
     "metadata": {},
     "output_type": "execute_result"
    }
   ],
   "source": [
    "# Print the 5 most relevant documents.\n",
    "ranked_docs[:5]"
   ]
  },
  {
   "cell_type": "code",
   "execution_count": 91,
   "id": "ad75f1b7-df60-48c0-8811-0bdb25bcfa86",
   "metadata": {
    "tags": []
   },
   "outputs": [
    {
     "name": "stdout",
     "output_type": "stream",
     "text": [
      "What were the most important factors that contributed to increases in revenue?\n",
      "Revenues generated from advertising products were the primary driver of operating cash flow.\n"
     ]
    }
   ],
   "source": [
    "# Only send the most relevant answers to the LLM.\n",
    "response = rag(query=original_query, retrieved_documents=ranked_docs[:5], model=model)\n",
    "print(original_query)\n",
    "print(response)"
   ]
  },
  {
   "cell_type": "markdown",
   "id": "9c756def-29d3-4386-b436-0e2e2a37fb4d",
   "metadata": {},
   "source": [
    "# Task 6. Embedding Adapters\n",
    "Another improvement that we can make is instead of getting more answers and reranking, train the embedding model to work with our dataset based on user queries. This is a form a of fine tuning that you can do on your own."
   ]
  },
  {
   "cell_type": "code",
   "execution_count": 92,
   "id": "88cb7c6b-4781-4a8b-8997-f8a15268ae1e",
   "metadata": {
    "tags": []
   },
   "outputs": [
    {
     "name": "stdout",
     "output_type": "stream",
     "text": [
      "1.  Is the company's revenue growing year over year?\n",
      "2.  What is the trend in gross profit margin?\n",
      "3.  How much cash did operations generate this period?\n",
      "4.  Is net income positive and increasing?\n",
      "5.  What is the company's total debt level?\n",
      "6.  Are current assets greater than current liabilities?\n",
      "7.  How much did the company invest in capital expenditures?\n",
      "8.  Did the company buy back its own shares?\n",
      "9.  Has the company paid dividends to shareholders?\n",
      "10. What are the significant risks disclosed by management?\n",
      "11. How much cash does the company have on its balance sheet?\n",
      "12. Is earnings per share increasing?\n",
      "13. What is the trend in accounts receivable days?\n",
      "14. What is management's outlook for the next year?\n",
      "15. Are operating expenses increasing faster than revenue?\n"
     ]
    }
   ],
   "source": [
    "# Generate queries that might be asked to a financial statement. If you had real users, you would use those queries instead of making them up.\n",
    "def generate_queries(model):\n",
    "\n",
    "    prompt = (f'You are a helpful expert financial research assistant.\\n'\n",
    "    f'You help users analyze financial statements to better understand companies.\\n'\n",
    "    f'Suggest 10 to 15 short questions that are important to ask when analyzing an annual report.\\n'\n",
    "    f'Do not output any compound questions (questions with multiple sentences or conjunctions).\\n'\n",
    "    f'Output each question on a separate line divided by a newline.')\n",
    "\n",
    "    responses = model.generate_content(prompt, stream=False)\n",
    "    return responses.text.split('\\n')\n",
    "\n",
    "generated_queries = generate_queries(model)\n",
    "for query in generated_queries:\n",
    "    print(query)\n"
   ]
  },
  {
   "cell_type": "code",
   "execution_count": 93,
   "id": "b7144363-340b-4f8d-b8aa-f8df73739cee",
   "metadata": {
    "tags": []
   },
   "outputs": [],
   "source": [
    "# Search answers for those queries.\n",
    "results = chroma_collection.query(query_texts=generated_queries, n_results=10, include=['documents', 'embeddings'])\n",
    "retrieved_documents = results['documents']"
   ]
  },
  {
   "cell_type": "code",
   "execution_count": 94,
   "id": "c6878202-7166-475f-b458-2049f15ff085",
   "metadata": {
    "tags": []
   },
   "outputs": [],
   "source": [
    "# Evaluate the results in 1 for relevant and -1 for irrelevant answers.\n",
    "def evaluate_results(query, statement, model):\n",
    "\n",
    "    prompt = (f'You are a helpful expert financial research assistant.\\n'\n",
    "    f'You help users analyze financial statements to better understand companies.\\n'\n",
    "    f'For the given query, evaluate whether the following satement is relevant.\\n'\n",
    "    f'Output only \\'yes\\' or \\'no\\'.\\n'\n",
    "    f'Question: {query}, Statement: {statement}.')\n",
    "\n",
    "    responses = model.generate_content(prompt, stream=False)\n",
    "    if responses.text == 'yes':\n",
    "        return 1\n",
    "    return -1\n",
    "\n",
    "retrieved_embeddings = results['embeddings']\n",
    "query_embeddings = embedding_function(generated_queries)"
   ]
  },
  {
   "cell_type": "code",
   "execution_count": 95,
   "id": "9dbe323c-fc5e-46d8-b337-cd6c7dc156c2",
   "metadata": {
    "tags": []
   },
   "outputs": [
    {
     "name": "stderr",
     "output_type": "stream",
     "text": [
      "100%|██████████| 15/15 [05:59<00:00, 23.98s/it]\n"
     ]
    },
    {
     "data": {
      "text/plain": [
       "150"
      ]
     },
     "execution_count": 95,
     "metadata": {},
     "output_type": "execute_result"
    }
   ],
   "source": [
    "# Extract the documents and queries into their own lists.\n",
    "adapter_query_embeddings = []\n",
    "adapter_doc_embeddings = []\n",
    "adapter_labels = []\n",
    "\n",
    "for q, query in enumerate(tqdm(generated_queries)):\n",
    "    for d, document in enumerate(retrieved_documents[q]):\n",
    "        adapter_query_embeddings.append(query_embeddings[q])\n",
    "        adapter_doc_embeddings.append(retrieved_embeddings[q][d])\n",
    "        adapter_labels.append(evaluate_results(query, document, model))\n",
    "\n",
    "len(adapter_labels)"
   ]
  },
  {
   "cell_type": "code",
   "execution_count": 96,
   "id": "dc08d2c6-1689-41c2-b065-53390ed77b57",
   "metadata": {
    "tags": []
   },
   "outputs": [
    {
     "name": "stderr",
     "output_type": "stream",
     "text": [
      "huggingface/tokenizers: The current process just got forked, after parallelism has already been used. Disabling parallelism to avoid deadlocks...\n",
      "To disable this warning, you can either:\n",
      "\t- Avoid using `tokenizers` before the fork if possible\n",
      "\t- Explicitly set the environment variable TOKENIZERS_PARALLELISM=(true | false)\n"
     ]
    },
    {
     "name": "stdout",
     "output_type": "stream",
     "text": [
      "Requirement already satisfied: torch in /opt/conda/lib/python3.10/site-packages (2.9.0)\n",
      "Requirement already satisfied: filelock in /opt/conda/lib/python3.10/site-packages (from torch) (3.20.0)\n",
      "Requirement already satisfied: typing-extensions>=4.10.0 in /opt/conda/lib/python3.10/site-packages (from torch) (4.15.0)\n",
      "Requirement already satisfied: sympy>=1.13.3 in /opt/conda/lib/python3.10/site-packages (from torch) (1.14.0)\n",
      "Requirement already satisfied: networkx>=2.5.1 in /opt/conda/lib/python3.10/site-packages (from torch) (3.4.2)\n",
      "Requirement already satisfied: jinja2 in /opt/conda/lib/python3.10/site-packages (from torch) (3.1.6)\n",
      "Requirement already satisfied: fsspec>=0.8.5 in /opt/conda/lib/python3.10/site-packages (from torch) (2025.9.0)\n",
      "Requirement already satisfied: nvidia-cuda-nvrtc-cu12==12.8.93 in /opt/conda/lib/python3.10/site-packages (from torch) (12.8.93)\n",
      "Requirement already satisfied: nvidia-cuda-runtime-cu12==12.8.90 in /opt/conda/lib/python3.10/site-packages (from torch) (12.8.90)\n",
      "Requirement already satisfied: nvidia-cuda-cupti-cu12==12.8.90 in /opt/conda/lib/python3.10/site-packages (from torch) (12.8.90)\n",
      "Requirement already satisfied: nvidia-cudnn-cu12==9.10.2.21 in /opt/conda/lib/python3.10/site-packages (from torch) (9.10.2.21)\n",
      "Requirement already satisfied: nvidia-cublas-cu12==12.8.4.1 in /opt/conda/lib/python3.10/site-packages (from torch) (12.8.4.1)\n",
      "Requirement already satisfied: nvidia-cufft-cu12==11.3.3.83 in /opt/conda/lib/python3.10/site-packages (from torch) (11.3.3.83)\n",
      "Requirement already satisfied: nvidia-curand-cu12==10.3.9.90 in /opt/conda/lib/python3.10/site-packages (from torch) (10.3.9.90)\n",
      "Requirement already satisfied: nvidia-cusolver-cu12==11.7.3.90 in /opt/conda/lib/python3.10/site-packages (from torch) (11.7.3.90)\n",
      "Requirement already satisfied: nvidia-cusparse-cu12==12.5.8.93 in /opt/conda/lib/python3.10/site-packages (from torch) (12.5.8.93)\n",
      "Requirement already satisfied: nvidia-cusparselt-cu12==0.7.1 in /opt/conda/lib/python3.10/site-packages (from torch) (0.7.1)\n",
      "Requirement already satisfied: nvidia-nccl-cu12==2.27.5 in /opt/conda/lib/python3.10/site-packages (from torch) (2.27.5)\n",
      "Requirement already satisfied: nvidia-nvshmem-cu12==3.3.20 in /opt/conda/lib/python3.10/site-packages (from torch) (3.3.20)\n",
      "Requirement already satisfied: nvidia-nvtx-cu12==12.8.90 in /opt/conda/lib/python3.10/site-packages (from torch) (12.8.90)\n",
      "Requirement already satisfied: nvidia-nvjitlink-cu12==12.8.93 in /opt/conda/lib/python3.10/site-packages (from torch) (12.8.93)\n",
      "Requirement already satisfied: nvidia-cufile-cu12==1.13.1.3 in /opt/conda/lib/python3.10/site-packages (from torch) (1.13.1.3)\n",
      "Requirement already satisfied: triton==3.5.0 in /opt/conda/lib/python3.10/site-packages (from torch) (3.5.0)\n",
      "Requirement already satisfied: mpmath<1.4,>=1.1.0 in /opt/conda/lib/python3.10/site-packages (from sympy>=1.13.3->torch) (1.3.0)\n",
      "Requirement already satisfied: MarkupSafe>=2.0 in /opt/conda/lib/python3.10/site-packages (from jinja2->torch) (3.0.3)\n"
     ]
    }
   ],
   "source": [
    "# Install PyTorch so that we can train the embedding model based on relevant answers.\n",
    "!pip install torch\n",
    "\n",
    "import torch"
   ]
  },
  {
   "cell_type": "code",
   "execution_count": 97,
   "id": "f76ba37e-f9ec-4111-a6b8-36a6f0e1b260",
   "metadata": {
    "tags": []
   },
   "outputs": [],
   "source": [
    "# Initialize PyTorch with the right data.\n",
    "adapter_query_embeddings = torch.Tensor(np.array(adapter_query_embeddings))\n",
    "adapter_doc_embeddings = torch.Tensor(np.array(adapter_doc_embeddings))\n",
    "adapter_labels = torch.Tensor(np.expand_dims(np.array(adapter_labels),1))\n",
    "\n",
    "dataset = torch.utils.data.TensorDataset(adapter_query_embeddings, adapter_doc_embeddings, adapter_labels)"
   ]
  },
  {
   "cell_type": "code",
   "execution_count": 98,
   "id": "61e31e40-7538-4898-89c8-d4ece60c2193",
   "metadata": {
    "tags": []
   },
   "outputs": [],
   "source": [
    "# Set up the model with cosine similarity, so that embeddings with label 1 are similar and -1 are dissimilar.\n",
    "def model(query_embedding, document_embedding, adaptor_matrix):\n",
    "    updated_query_embedding = torch.matmul(adaptor_matrix, query_embedding)\n",
    "    return torch.cosine_similarity(updated_query_embedding, document_embedding, dim=0)"
   ]
  },
  {
   "cell_type": "code",
   "execution_count": 99,
   "id": "4d73fd8b-9479-4a29-b442-f5b1c5941361",
   "metadata": {
    "tags": []
   },
   "outputs": [],
   "source": [
    "# Compute the mean squared error (MSE) loss to see how close are we to the expected output.\n",
    "def mse_loss(query_embedding, document_embedding, adaptor_matrix, label):\n",
    "    return torch.nn.MSELoss()(model(query_embedding, document_embedding, adaptor_matrix), label)"
   ]
  },
  {
   "cell_type": "code",
   "execution_count": 100,
   "id": "3e3e443e-adc5-4a98-a625-d386a6004f22",
   "metadata": {
    "tags": []
   },
   "outputs": [],
   "source": [
    "# Initialize the adaptor matrix.\n",
    "mat_size = len(adapter_query_embeddings[0])\n",
    "adapter_matrix = torch.randn(mat_size, mat_size, requires_grad=True)"
   ]
  },
  {
   "cell_type": "code",
   "execution_count": 101,
   "id": "4f6347f5-52a9-4e4a-87f9-3c80feefd68d",
   "metadata": {
    "tags": []
   },
   "outputs": [
    {
     "name": "stderr",
     "output_type": "stream",
     "text": [
      "  0%|          | 0/100 [00:00<?, ?it/s]/opt/conda/lib/python3.10/site-packages/torch/nn/modules/loss.py:634: UserWarning: Using a target size (torch.Size([1])) that is different to the input size (torch.Size([])). This will likely lead to incorrect results due to broadcasting. Please ensure they have the same size.\n",
      "  return F.mse_loss(input, target, reduction=self.reduction)\n",
      "100%|██████████| 100/100 [00:11<00:00,  8.95it/s]\n"
     ]
    }
   ],
   "source": [
    "# Train the adaptor matrix using 100 steps by iteratively update a vector such that if I take that vector and multiply it by these inputs (query embeddings) then compare that result to this vector (this example's retrieved document vector), I get a score closer to (this example's -1 or 1 label).\n",
    "min_loss = float('inf')\n",
    "best_matrix = None\n",
    "\n",
    "for epoch in tqdm(range(100)):\n",
    "    for query_embedding, document_embedding, label in dataset:\n",
    "        loss = mse_loss(query_embedding, document_embedding, adapter_matrix, label)\n",
    "\n",
    "        if loss < min_loss:\n",
    "            min_loss = loss\n",
    "            best_matrix = adapter_matrix.clone().detach().numpy()\n",
    "\n",
    "        loss.backward()\n",
    "        with torch.no_grad():\n",
    "            adapter_matrix -= 0.01 * adapter_matrix.grad\n",
    "            adapter_matrix.grad.zero_()       "
   ]
  },
  {
   "cell_type": "code",
   "execution_count": 102,
   "id": "80bf62b6-8c0f-48d5-87ab-a6f94a738c0c",
   "metadata": {
    "tags": []
   },
   "outputs": [
    {
     "name": "stdout",
     "output_type": "stream",
     "text": [
      "Best loss: 0.6561681032180786\n"
     ]
    }
   ],
   "source": [
    "# Print the loss. Notice there is almost a 30% increase in accuracy.\n",
    "print(f\"Best loss: {min_loss.detach().numpy()}\")"
   ]
  },
  {
   "cell_type": "code",
   "execution_count": 103,
   "id": "64cb0f00-d39c-462b-b118-0920d5d348d0",
   "metadata": {
    "tags": []
   },
   "outputs": [],
   "source": [
    "# Create a scaled vector based on the best matrix that we computed.\n",
    "test_vector = torch.ones((mat_size,1))\n",
    "scaled_vector = np.matmul(best_matrix, test_vector).numpy()"
   ]
  },
  {
   "cell_type": "code",
   "execution_count": 104,
   "id": "510afe0b-4f5a-4a4f-a7ec-c34ee402e37e",
   "metadata": {
    "tags": []
   },
   "outputs": [
    {
     "data": {
      "image/png": "[encoded data removed]",
      "text/plain": [
       "<Figure size 640x480 with 1 Axes>"
      ]
     },
     "metadata": {},
     "output_type": "display_data"
    }
   ],
   "source": [
    "# Plot the scale vector answers.\n",
    "import matplotlib.pyplot as plt\n",
    "plt.bar(range(len(scaled_vector)), scaled_vector.flatten())\n",
    "plt.show()"
   ]
  },
  {
   "cell_type": "code",
   "execution_count": 105,
   "id": "b5baee3c-6089-4532-bbfd-d9c77119d13f",
   "metadata": {
    "tags": []
   },
   "outputs": [
    {
     "name": "stderr",
     "output_type": "stream",
     "text": [
      "100%|██████████| 15/15 [00:00<00:00, 91.44it/s]\n",
      "100%|██████████| 15/15 [00:00<00:00, 260.61it/s]\n"
     ]
    }
   ],
   "source": [
    "# Get the adapted query embeddings to compare them with the original values retrieved.\n",
    "query_embeddings = embedding_function(generated_queries)\n",
    "adapted_query_embeddings = np.matmul(best_matrix, np.array(query_embeddings).T).T\n",
    "\n",
    "projected_query_embeddings = project_embeddings(query_embeddings, umap_transform)\n",
    "projected_adapted_query_embeddings = project_embeddings(adapted_query_embeddings, umap_transform)"
   ]
  },
  {
   "cell_type": "code",
   "execution_count": 106,
   "id": "5f983b1e-7955-441a-bdf7-135cd9e477fc",
   "metadata": {
    "tags": []
   },
   "outputs": [
    {
     "data": {
      "text/plain": [
       "<matplotlib.legend.Legend at 0x7f8bdd15f7c0>"
      ]
     },
     "execution_count": 106,
     "metadata": {},
     "output_type": "execute_result"
    },
    {
     "data": {
      "image/png": "[encoded data removed]",
      "text/plain": [
       "<Figure size 640x480 with 1 Axes>"
      ]
     },
     "metadata": {},
     "output_type": "display_data"
    }
   ],
   "source": [
    "# Plot the adapted embeddings and the original values retrieved.\n",
    "# Plot the projected query and retrieved documents in the embedding space\n",
    "plt.figure()\n",
    "plt.scatter(projected_dataset_embeddings[:, 0], projected_dataset_embeddings[:, 1], s=10, color='gray')\n",
    "plt.scatter(projected_query_embeddings[:, 0], projected_query_embeddings[:, 1], s=150, marker='X', color='r', label=\"original\")\n",
    "plt.scatter(projected_adapted_query_embeddings[:, 0], projected_adapted_query_embeddings[:, 1], s=150, marker='X', color='green', label=\"adapted\")\n",
    "\n",
    "plt.gca().set_aspect('equal', 'datalim')\n",
    "plt.title(\"Adapted Queries\")\n",
    "plt.axis('off')\n",
    "plt.legend()"
   ]
  }
 ],
 "metadata": {
  "environment": {
   "kernel": "conda-base-py",
   "name": "workbench-notebooks.m134",
   "type": "gcloud",
   "uri": "us-docker.pkg.dev/deeplearning-platform-release/gcr.io/workbench-notebooks:m134"
  },
  "kernelspec": {
   "display_name": "Python 3 (ipykernel) (Local) (Local)",
   "language": "python",
   "name": "conda-base-py"
  },
  "language_info": {
   "codemirror_mode": {
    "name": "ipython",
    "version": 3
   },
   "file_extension": ".py",
   "mimetype": "text/x-python",
   "name": "python",
   "nbconvert_exporter": "python",
   "pygments_lexer": "ipython3",
   "version": "3.10.18"
  }
 },
 "nbformat": 4,
 "nbformat_minor": 5
}
