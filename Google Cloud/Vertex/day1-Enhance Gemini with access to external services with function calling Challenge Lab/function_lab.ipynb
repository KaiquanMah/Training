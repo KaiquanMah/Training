{
 "cells": [
  {
   "cell_type": "code",
   "execution_count": 1,
   "id": "c0e6ab45-212b-4e62-94bd-7a6d3b5a90a0",
   "metadata": {
    "tags": []
   },
   "outputs": [
    {
     "name": "stdout",
     "output_type": "stream",
     "text": [
      "\u001b[33m  WARNING: The script tb-gcp-uploader is installed in '/home/jupyter/.local/bin' which is not on PATH.\n",
      "  Consider adding this directory to PATH or, if you prefer to suppress this warning, use --no-warn-script-location.\u001b[0m\u001b[33m\n",
      "\u001b[0m\u001b[31mERROR: pip's dependency resolver does not currently take into account all the packages that are installed. This behaviour is the source of the following dependency conflicts.\n",
      "kfp 2.14.4 requires protobuf<7.0,==6.31.1, but you have protobuf 5.29.5 which is incompatible.\n",
      "kfp-pipeline-spec 2.14.0 requires protobuf<7.0,==6.31.1, but you have protobuf 5.29.5 which is incompatible.\u001b[0m\u001b[31m\n",
      "\u001b[0m"
     ]
    }
   ],
   "source": [
    "! pip3 install --upgrade --quiet --user google-cloud-aiplatform==1.88.0"
   ]
  },
  {
   "cell_type": "code",
   "execution_count": null,
   "id": "c8f7064a-86e6-481d-9358-8e05f30b2c28",
   "metadata": {},
   "outputs": [],
   "source": [
    "# # Restart kernel after installs so that your environment can access the new packages\n",
    "# import IPython\n",
    "\n",
    "# app = IPython.Application.instance()\n",
    "# app.kernel.do_shutdown(True)"
   ]
  },
  {
   "cell_type": "code",
   "execution_count": 2,
   "id": "0a422027-d2bc-4975-a0d0-d2a00018ddb4",
   "metadata": {
    "tags": []
   },
   "outputs": [
    {
     "name": "stdout",
     "output_type": "stream",
     "text": [
      "qwiklabs-gcp-01-352b2bc21dda\n"
     ]
    }
   ],
   "source": [
    "import vertexai\n",
    "\n",
    "PROJECT_ID = ! gcloud config get-value project\n",
    "PROJECT_ID = PROJECT_ID[0]\n",
    "LOCATION = \"us-central1\"\n",
    "\n",
    "print(PROJECT_ID)\n",
    "\n",
    "vertexai.init(project=PROJECT_ID, location=LOCATION)"
   ]
  },
  {
   "cell_type": "code",
   "execution_count": 3,
   "id": "edddfc15-9afa-47b2-8794-f5a5713c1a96",
   "metadata": {
    "tags": []
   },
   "outputs": [],
   "source": [
    "import requests\n",
    "from vertexai.generative_models import (\n",
    "    Content,\n",
    "    FunctionDeclaration,\n",
    "    GenerationConfig,\n",
    "    GenerativeModel,\n",
    "    Part,\n",
    "    Tool,\n",
    ")"
   ]
  },
  {
   "cell_type": "markdown",
   "id": "704ae982-3dac-427d-a605-d777846e68a5",
   "metadata": {},
   "source": [
    "# Task 2. Define functions in Python\n"
   ]
  },
  {
   "cell_type": "code",
   "execution_count": 5,
   "id": "2f63e9ea-7159-4198-a497-920acaa56601",
   "metadata": {
    "tags": []
   },
   "outputs": [],
   "source": [
    "# TODO: Define a function to add two numerical inputs and return the result.\n",
    "# Keep the print statement within the function.\n",
    "# Define a function to add two numerical inputs and return the result.\n",
    "def add(a: float, b: float):\n",
    "    \"\"\"Adds two numbers together.\"\"\"\n",
    "    print(\"Calling add function\")\n",
    "    return a + b\n",
    "    \n",
    "\n",
    "# TODO: Define a function to multiply two numerical inputs and return the result.\n",
    "# Keep the print statement within the function.\n",
    "# Define a function to multiply two numerical inputs and return the result.\n",
    "def multiply(a: float, b: float):\n",
    "    \"\"\"Multiplies two numbers together.\"\"\"\n",
    "    print(\"Calling multiply function\")\n",
    "    return a * b\n",
    "\n",
    "\n",
    "\n",
    "\n",
    "\n",
    "# TODO: Create FunctionDeclarations for your functions\n",
    "add_func = FunctionDeclaration(\n",
    "    name=\"add\",\n",
    "    description=\"Add two numbers\",\n",
    "    parameters={\n",
    "        \"type\": \"object\",\n",
    "        \"properties\": {\n",
    "            \"a\": {\"type\": \"number\", \"description\": \"The first number\"},\n",
    "            \"b\": {\"type\": \"number\", \"description\": \"The second number\"},\n",
    "        },\n",
    "        \"required\": [\"a\", \"b\"],\n",
    "    },\n",
    ")\n",
    "\n",
    "multiply_func = FunctionDeclaration(\n",
    "    name=\"multiply\",\n",
    "    description=\"Multiply two numbers\",\n",
    "    parameters={\n",
    "        \"type\": \"object\",\n",
    "        \"properties\": {\n",
    "            \"a\": {\"type\": \"number\", \"description\": \"The first number\"},\n",
    "            \"b\": {\"type\": \"number\", \"description\": \"The second number\"},\n",
    "        },\n",
    "        \"required\": [\"a\", \"b\"],\n",
    "    },\n",
    ")\n",
    "\n",
    "\n",
    "\n",
    "# Define the tool that contains the function declarations\n",
    "calculator_tool = Tool(\n",
    "    function_declarations=[add_func, multiply_func],\n",
    ")"
   ]
  },
  {
   "cell_type": "code",
   "execution_count": 7,
   "id": "eee559a8-0ba9-4727-9a83-2efd77be4cbf",
   "metadata": {
    "tags": []
   },
   "outputs": [
    {
     "data": {
      "text/plain": [
       "name: \"add\"\n",
       "description: \"Add two numbers\"\n",
       "parameters {\n",
       "  type_: OBJECT\n",
       "  properties {\n",
       "    key: \"b\"\n",
       "    value {\n",
       "      type_: NUMBER\n",
       "      description: \"The second number\"\n",
       "    }\n",
       "  }\n",
       "  properties {\n",
       "    key: \"a\"\n",
       "    value {\n",
       "      type_: NUMBER\n",
       "      description: \"The first number\"\n",
       "    }\n",
       "  }\n",
       "  required: \"a\"\n",
       "  required: \"b\"\n",
       "  property_ordering: \"a\"\n",
       "  property_ordering: \"b\"\n",
       "}"
      ]
     },
     "execution_count": 7,
     "metadata": {},
     "output_type": "execute_result"
    }
   ],
   "source": [
    "add_func"
   ]
  },
  {
   "cell_type": "code",
   "execution_count": 8,
   "id": "a93032bd-fa6f-4d45-b6d6-531dd6e6e618",
   "metadata": {
    "tags": []
   },
   "outputs": [
    {
     "data": {
      "text/plain": [
       "name: \"multiply\"\n",
       "description: \"Multiply two numbers\"\n",
       "parameters {\n",
       "  type_: OBJECT\n",
       "  properties {\n",
       "    key: \"b\"\n",
       "    value {\n",
       "      type_: NUMBER\n",
       "      description: \"The second number\"\n",
       "    }\n",
       "  }\n",
       "  properties {\n",
       "    key: \"a\"\n",
       "    value {\n",
       "      type_: NUMBER\n",
       "      description: \"The first number\"\n",
       "    }\n",
       "  }\n",
       "  required: \"a\"\n",
       "  required: \"b\"\n",
       "  property_ordering: \"a\"\n",
       "  property_ordering: \"b\"\n",
       "}"
      ]
     },
     "execution_count": 8,
     "metadata": {},
     "output_type": "execute_result"
    }
   ],
   "source": [
    "multiply_func"
   ]
  },
  {
   "cell_type": "code",
   "execution_count": 9,
   "id": "76190161-ce43-4224-9286-deb71bec5203",
   "metadata": {
    "tags": []
   },
   "outputs": [
    {
     "data": {
      "text/plain": [
       "function_declarations {\n",
       "  name: \"add\"\n",
       "  description: \"Add two numbers\"\n",
       "  parameters {\n",
       "    type_: OBJECT\n",
       "    properties {\n",
       "      key: \"b\"\n",
       "      value {\n",
       "        type_: NUMBER\n",
       "        description: \"The second number\"\n",
       "      }\n",
       "    }\n",
       "    properties {\n",
       "      key: \"a\"\n",
       "      value {\n",
       "        type_: NUMBER\n",
       "        description: \"The first number\"\n",
       "      }\n",
       "    }\n",
       "    required: \"a\"\n",
       "    required: \"b\"\n",
       "    property_ordering: \"a\"\n",
       "    property_ordering: \"b\"\n",
       "  }\n",
       "}\n",
       "function_declarations {\n",
       "  name: \"multiply\"\n",
       "  description: \"Multiply two numbers\"\n",
       "  parameters {\n",
       "    type_: OBJECT\n",
       "    properties {\n",
       "      key: \"b\"\n",
       "      value {\n",
       "        type_: NUMBER\n",
       "        description: \"The second number\"\n",
       "      }\n",
       "    }\n",
       "    properties {\n",
       "      key: \"a\"\n",
       "      value {\n",
       "        type_: NUMBER\n",
       "        description: \"The first number\"\n",
       "      }\n",
       "    }\n",
       "    required: \"a\"\n",
       "    required: \"b\"\n",
       "    property_ordering: \"a\"\n",
       "    property_ordering: \"b\"\n",
       "  }\n",
       "}"
      ]
     },
     "execution_count": 9,
     "metadata": {},
     "output_type": "execute_result"
    }
   ],
   "source": [
    "calculator_tool"
   ]
  },
  {
   "cell_type": "code",
   "execution_count": 6,
   "id": "8a17fe8d-da30-4055-b213-b242d601c74c",
   "metadata": {
    "tags": []
   },
   "outputs": [
    {
     "name": "stderr",
     "output_type": "stream",
     "text": [
      "/opt/conda/lib/python3.10/site-packages/vertexai/generative_models/_generative_models.py:433: UserWarning: This feature is deprecated as of June 24, 2025 and will be removed on June 24, 2026. For details, see https://cloud.google.com/vertex-ai/generative-ai/docs/deprecations/genai-vertexai-sdk.\n",
      "  warning_logs.show_deprecation_warning()\n"
     ]
    }
   ],
   "source": [
    "# Define and initialize the model\n",
    "model = GenerativeModel(\n",
    "    \"gemini-2.0-flash-001\",\n",
    "    generation_config=GenerationConfig(temperature=0),\n",
    "    tools=[calculator_tool],\n",
    "    system_instruction=\"\"\"- Fulfill the user's instructions, including telling jokes.\n",
    "- Answer the user's question using the appropriate function tool if available.\n",
    "- You may call both the 'multiply' and 'add' functions one after the other if needed.\n",
    "- Use the 'multiply' function only for multiplication-related tasks.\n",
    "- Use the 'add' function only for addition-related tasks.\n",
    "- A function tool may only be invoked if its capabilities are an exact match for the described task. Avoid speculative or improper use of tools.\n",
    "- In the absence of a suitable tool, respond to the user with a generic answer without performing the mathematical calculation yourself.\"\"\"\n",
    ")"
   ]
  },
  {
   "cell_type": "code",
   "execution_count": 10,
   "id": "d8c23018-092d-4c1c-a358-ee564156a34a",
   "metadata": {
    "tags": []
   },
   "outputs": [],
   "source": [
    "chat = model.start_chat()"
   ]
  },
  {
   "cell_type": "code",
   "execution_count": null,
   "id": "50f0b57a-9f63-4083-97b4-1d8e02ce5e87",
   "metadata": {},
   "outputs": [],
   "source": [
    "# def handle_response(response):\n",
    "\n",
    "#     # If there is a function call then invoke it\n",
    "#     # Otherwise print the response.\n",
    "#     if response.candidates[0].function_calls:\n",
    "#         function_call = response.candidates[0].function_calls[0]\n",
    "#     else:\n",
    "#         print(response.text)\n",
    "#         return\n",
    "\n",
    "#     # TODO: Complete the following sections\n",
    "#     if # the function_call requests your add function\n",
    "#         # Extract the arguments to use in your function\n",
    "#         # Call your function\n",
    "#         # Send the result back to the chat session with the model\n",
    "#         # Make a recursive call of this handler function\n",
    "\n",
    "#     elif # the function_call requests your multiply function\n",
    "#         # Extract the arguments to use in your function\n",
    "#         # Call your function\n",
    "#         # Send the result back to the chat session with the model\n",
    "#         # Make a recursive call of this handler function\n",
    "\n",
    "#     else:\n",
    "#         # You shouldn't end up here\n",
    "#         print(function_call)"
   ]
  },
  {
   "cell_type": "code",
   "execution_count": 11,
   "id": "155e675d-7399-40ef-8ff1-2040d42fca78",
   "metadata": {
    "tags": []
   },
   "outputs": [],
   "source": [
    "def handle_response(response):\n",
    "    \"\"\"Handles the response from the model, invoking functions if necessary.\"\"\"\n",
    "    if response.candidates[0].content.parts[0].function_call:\n",
    "        function_call = response.candidates[0].content.parts[0].function_call\n",
    "\n",
    "        if function_call.name == \"add\":\n",
    "            a = function_call.args[\"a\"]\n",
    "            b = function_call.args[\"b\"]\n",
    "            result = add(a, b)\n",
    "            response = chat.send_message(\n",
    "                Part.from_function_response(\n",
    "                    name=\"add\",\n",
    "                    response={\n",
    "                        \"result\": result,\n",
    "                    },\n",
    "                ),\n",
    "            )\n",
    "            handle_response(response)\n",
    "\n",
    "        elif function_call.name == \"multiply\":\n",
    "            a = function_call.args[\"a\"]\n",
    "            b = function_call.args[\"b\"]\n",
    "            result = multiply(a, b)\n",
    "            response = chat.send_message(\n",
    "                Part.from_function_response(\n",
    "                    name=\"multiply\",\n",
    "                    response={\n",
    "                        \"result\": result,\n",
    "                    },\n",
    "                ),\n",
    "            )\n",
    "            handle_response(response)\n",
    "        else:\n",
    "            print(f\"Unknown function call: {function_call.name}\")\n",
    "\n",
    "    else:\n",
    "        print(response.candidates[0].content.parts[0].text)"
   ]
  },
  {
   "cell_type": "code",
   "execution_count": 12,
   "id": "bc11543c-819b-4283-8115-aceb69ace012",
   "metadata": {
    "tags": []
   },
   "outputs": [
    {
     "name": "stdout",
     "output_type": "stream",
     "text": [
      "Sending message: What is 23 * 7?\n",
      "Calling multiply function\n",
      "The answer is 161.\n",
      "\n"
     ]
    }
   ],
   "source": [
    "# Example usage:\n",
    "print(\"Sending message: What is 23 * 7?\")\n",
    "response = chat.send_message(\"What is 23 * 7?\")\n",
    "handle_response(response)\n"
   ]
  },
  {
   "cell_type": "code",
   "execution_count": 13,
   "id": "6fe02714-be59-4ad9-8c4f-d05df07fd953",
   "metadata": {
    "tags": []
   },
   "outputs": [
    {
     "name": "stdout",
     "output_type": "stream",
     "text": [
      "\n",
      "Sending message: What is 100 + 51?\n",
      "Calling add function\n",
      "The answer is 151.\n",
      "\n"
     ]
    }
   ],
   "source": [
    "print(\"\\nSending message: What is 100 + 51?\")\n",
    "response = chat.send_message(\"What is 100 + 51?\")\n",
    "handle_response(response)\n"
   ]
  },
  {
   "cell_type": "code",
   "execution_count": 15,
   "id": "5f329418-12a1-4d60-865a-35a2b5057cf8",
   "metadata": {
    "tags": []
   },
   "outputs": [
    {
     "name": "stdout",
     "output_type": "stream",
     "text": [
      "\n",
      "Sending message: What is 100 - 51?\n",
      "I am sorry, I cannot perform subtraction. I can only add or multiply.\n",
      "\n"
     ]
    }
   ],
   "source": [
    "print(\"\\nSending message: What is 100 - 51?\")\n",
    "response = chat.send_message(\"What is 100 - 51?\")\n",
    "handle_response(response)\n"
   ]
  },
  {
   "cell_type": "code",
   "execution_count": 16,
   "id": "3f147249-3b5c-405f-b5ff-a040a8e3222b",
   "metadata": {
    "tags": []
   },
   "outputs": [
    {
     "name": "stdout",
     "output_type": "stream",
     "text": [
      "\n",
      "Sending message: What is 100 / 51?\n",
      "I am sorry, I cannot perform division. I can only add or multiply.\n",
      "\n"
     ]
    }
   ],
   "source": [
    "print(\"\\nSending message: What is 100 / 51?\")\n",
    "response = chat.send_message(\"What is 100 / 51?\")\n",
    "handle_response(response)\n"
   ]
  },
  {
   "cell_type": "code",
   "execution_count": 17,
   "id": "4c8c8cd2-3386-4796-a03a-b5d753211940",
   "metadata": {
    "tags": []
   },
   "outputs": [
    {
     "name": "stdout",
     "output_type": "stream",
     "text": [
      "\n",
      "Sending message: What is 100 % 51?\n",
      "I am sorry, I cannot perform modulo operations. I can only add or multiply.\n",
      "\n"
     ]
    }
   ],
   "source": [
    "print(\"\\nSending message: What is 100 % 51?\")\n",
    "response = chat.send_message(\"What is 100 % 51?\")\n",
    "handle_response(response)\n"
   ]
  },
  {
   "cell_type": "code",
   "execution_count": 18,
   "id": "5a7c7ee1-3fe8-4498-99ad-fc42ba48cad7",
   "metadata": {
    "tags": []
   },
   "outputs": [
    {
     "name": "stdout",
     "output_type": "stream",
     "text": [
      "\n",
      "Sending message: What is 10 ** 2?\n",
      "I am sorry, I cannot perform exponentiation. I can only add or multiply.\n",
      "\n"
     ]
    }
   ],
   "source": [
    "print(\"\\nSending message: What is 10 ** 2?\")\n",
    "response = chat.send_message(\"What is 100 ** 2?\")\n",
    "handle_response(response)\n"
   ]
  },
  {
   "cell_type": "code",
   "execution_count": 14,
   "id": "bb091be6-8d62-41e1-b7b5-db038786e1e7",
   "metadata": {
    "tags": []
   },
   "outputs": [
    {
     "name": "stdout",
     "output_type": "stream",
     "text": [
      "\n",
      "Sending message: Tell me a joke.\n",
      "Why don't scientists trust atoms?\n",
      "\n",
      "Because they make up everything!\n",
      "\n"
     ]
    }
   ],
   "source": [
    "print(\"\\nSending message: Tell me a joke.\")\n",
    "response = chat.send_message(\"Tell me a joke.\")\n",
    "handle_response(response)"
   ]
  },
  {
   "cell_type": "markdown",
   "id": "46a4d60f-2491-4f6e-a60a-1b9921a525b7",
   "metadata": {},
   "source": [
    "# Task 3. Prompt the model to call your functions\n"
   ]
  },
  {
   "cell_type": "code",
   "execution_count": 19,
   "id": "e09e6600-e458-434d-994a-f78c9b9f0a46",
   "metadata": {
    "tags": []
   },
   "outputs": [
    {
     "name": "stdout",
     "output_type": "stream",
     "text": [
      "Why did the scarecrow win an award? Because he was outstanding in his field!\n",
      "\n"
     ]
    }
   ],
   "source": [
    "response = chat.send_message(\"Tell me a joke?\")\n",
    "handle_response(response)"
   ]
  },
  {
   "cell_type": "code",
   "execution_count": 20,
   "id": "578c5954-f60b-4fa6-bb18-dde397b235d6",
   "metadata": {
    "tags": []
   },
   "outputs": [
    {
     "name": "stdout",
     "output_type": "stream",
     "text": [
      "Calling multiply function\n",
      "You have 112 slices.\n",
      "\n"
     ]
    }
   ],
   "source": [
    "response = chat.send_message(\"I have 7 pizzas each with 16 slices. How many slices do I have?\")\n",
    "handle_response(response)"
   ]
  },
  {
   "cell_type": "code",
   "execution_count": 21,
   "id": "826a383e-f384-4c96-aaba-60e40d0e4394",
   "metadata": {
    "tags": []
   },
   "outputs": [
    {
     "data": {
      "text/plain": [
       "112"
      ]
     },
     "execution_count": 21,
     "metadata": {},
     "output_type": "execute_result"
    }
   ],
   "source": [
    "# sanity check\n",
    "7*16"
   ]
  },
  {
   "cell_type": "code",
   "execution_count": 22,
   "id": "f911be26-73d5-4879-ab0e-aa3a15f2d5be",
   "metadata": {
    "tags": []
   },
   "outputs": [
    {
     "name": "stdout",
     "output_type": "stream",
     "text": [
      "Calling add function\n",
      "They brought 7 pizzas together.\n",
      "\n"
     ]
    }
   ],
   "source": [
    "response = chat.send_message(\"Doug brought 3 pizzas. Andrew brought 4 pizzas. How many pizzas did they bring together?\")\n",
    "handle_response(response)"
   ]
  },
  {
   "cell_type": "code",
   "execution_count": 23,
   "id": "f7410cb9-7277-4c45-8885-4aa9d6b0c7d0",
   "metadata": {
    "tags": []
   },
   "outputs": [
    {
     "name": "stdout",
     "output_type": "stream",
     "text": [
      "Calling add function\n",
      "Calling multiply function\n",
      "There are 112 slices.\n",
      "\n"
     ]
    }
   ],
   "source": [
    "response = chat.send_message(\"Doug brought 3 pizzas. Andrew brought 4 pizzas. There are 16 slices per pizza. How many slices are there?\")\n",
    "handle_response(response)    "
   ]
  },
  {
   "cell_type": "code",
   "execution_count": 24,
   "id": "a878597b-a0e2-440c-b057-fc0fdd3b2e49",
   "metadata": {
    "tags": []
   },
   "outputs": [
    {
     "name": "stdout",
     "output_type": "stream",
     "text": [
      "I am sorry, I cannot perform subtraction. I can only add or multiply.\n",
      "\n"
     ]
    }
   ],
   "source": [
    "response = chat.send_message(\"Doug brought 4 pizzas, but Andrew dropped 2 on the ground. How many pizzas are left?\")\n",
    "handle_response(response)"
   ]
  },
  {
   "cell_type": "code",
   "execution_count": null,
   "id": "c45adc45-5272-468a-ba3e-12e447b6a0e1",
   "metadata": {},
   "outputs": [],
   "source": []
  },
  {
   "cell_type": "code",
   "execution_count": null,
   "id": "8d2ad221-3391-4b07-9507-2b4771010bc8",
   "metadata": {},
   "outputs": [],
   "source": []
  }
 ],
 "metadata": {
  "environment": {
   "kernel": "conda-base-py",
   "name": "workbench-notebooks.m134",
   "type": "gcloud",
   "uri": "us-docker.pkg.dev/deeplearning-platform-release/gcr.io/workbench-notebooks:m134"
  },
  "kernelspec": {
   "display_name": "Python 3 (ipykernel) (Local) (Local)",
   "language": "python",
   "name": "conda-base-py"
  },
  "language_info": {
   "codemirror_mode": {
    "name": "ipython",
    "version": 3
   },
   "file_extension": ".py",
   "mimetype": "text/x-python",
   "name": "python",
   "nbconvert_exporter": "python",
   "pygments_lexer": "ipython3",
   "version": "3.10.18"
  }
 },
 "nbformat": 4,
 "nbformat_minor": 5
}
