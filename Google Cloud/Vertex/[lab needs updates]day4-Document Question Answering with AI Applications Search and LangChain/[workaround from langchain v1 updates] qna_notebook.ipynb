{
 "cells": [
  {
   "cell_type": "markdown",
   "id": "165564f4-5bd0-49c1-b8f9-8c4f0a9aac3d",
   "metadata": {},
   "source": [
    "# Setup\n",
    "troubleshooting readings\n",
    "* [not helpful] Retrieval https://docs.langchain.com/oss/python/langchain/retrieval\n",
    "* bing/google search: langchain.chains retrievalqa\n",
    "* old RetrievalQA syntax\n",
    "  * https://colab.research.google.com/github/langchain-ai/langsmith-cookbook/blob/master/hub-examples/retrieval-qa-chain/retrieval-qa.ipynb#scrollTo=b6aea7ba-7e86-4958-9314-cfc563f3c08c\n",
    "  * https://github.com/langchain-ai/langchain/blob/master/libs/langchain/langchain_classic/chains/retrieval_qa/base.py\n",
    "* langchain-community https://github.com/langchain-ai/langchain-community\n",
    "* Github search https://github.com/langchain-ai/langchain/discussions, https://github.com/langchain-ai/langchain/issues?q=retrievalqa\n",
    "* https://python.langchain.com/docs/versions/migrating_chains/retrieval_qa/\n"
   ]
  },
  {
   "cell_type": "code",
   "execution_count": 6,
   "id": "18970d0c-dc69-43fc-b335-03c18b0b890e",
   "metadata": {
    "tags": []
   },
   "outputs": [
    {
     "name": "stdout",
     "output_type": "stream",
     "text": [
      "Note: you may need to restart the kernel to use updated packages.\n"
     ]
    }
   ],
   "source": [
    "# ! pip install -q --user google-cloud-aiplatform google-cloud-discoveryengine langchain-google-vertexai langchain-google-community\n",
    "# add 'langchain' for langchain.chains.* to work\n",
    "# ! pip install -q --user google-cloud-aiplatform google-cloud-discoveryengine langchain-google-vertexai langchain-google-community langchain\n",
    "\n",
    "\n",
    "%pip install -q --upgrade \\\n",
    "  \"langchain==1.0.1\" \\\n",
    "  \"langchain-core==1.0.0\" \\\n",
    "  \"langchain-community==0.4.0\" \\\n",
    "  \"langchain-text-splitters==1.0.0\" \\\n",
    "  \"langgraph==1.0.1\" \\\n",
    "  \"langchain-google-vertexai==3.0.0\" \\\n",
    "  \"langchain-google-community==3.0.0\" \\\n",
    "  \"google-cloud-aiplatform>=1.71.1\" \\\n",
    "  \"google-cloud-discoveryengine>=0.12.0\"\n"
   ]
  },
  {
   "cell_type": "code",
   "execution_count": 7,
   "id": "93cc68d3-9055-4f15-87d9-8e7dde01e753",
   "metadata": {
    "tags": []
   },
   "outputs": [
    {
     "name": "stdout",
     "output_type": "stream",
     "text": [
      "Package                               Version\n",
      "------------------------------------- --------------\n",
      "absl-py                               2.3.1\n",
      "aiofiles                              22.1.0\n",
      "aiohappyeyeballs                      2.6.1\n",
      "aiohttp                               3.13.0\n",
      "aiohttp-cors                          0.8.1\n",
      "aiosignal                             1.4.0\n",
      "aiosqlite                             0.21.0\n",
      "amqp                                  5.3.1\n",
      "annotated-types                       0.7.0\n",
      "ansicolors                            1.1.8\n",
      "anyio                                 4.11.0\n",
      "archspec                              0.2.5\n",
      "argon2-cffi                           25.1.0\n",
      "argon2-cffi-bindings                  25.1.0\n",
      "arrow                                 1.3.0\n",
      "asttokens                             3.0.0\n",
      "async-timeout                         4.0.3\n",
      "atpublic                              5.1\n",
      "attrs                                 25.4.0\n",
      "babel                                 2.17.0\n",
      "backports.tarfile                     1.2.0\n",
      "beautifulsoup4                        4.14.2\n",
      "bigframes                             2.24.0\n",
      "billiard                              4.2.2\n",
      "bleach                                6.2.0\n",
      "blessed                               1.22.0\n",
      "boltons                               25.0.0\n",
      "Bottleneck                            1.6.0\n",
      "bq_stats                              1.0\n",
      "Brotli                                1.1.0\n",
      "cachetools                            6.2.0\n",
      "celery                                5.5.3\n",
      "certifi                               2025.10.5\n",
      "cffi                                  2.0.0\n",
      "charset-normalizer                    3.4.2\n",
      "click                                 8.1.8\n",
      "click-didyoumean                      0.3.1\n",
      "click-option-group                    0.5.7\n",
      "click-plugins                         1.1.1.2\n",
      "click-repl                            0.3.0\n",
      "cloud-tpu-client                      0.7\n",
      "cloudpickle                           3.1.1\n",
      "colorama                              0.4.6\n",
      "colorful                              0.5.7\n",
      "comm                                  0.2.3\n",
      "conda                                 25.9.0\n",
      "conda-libmamba-solver                 25.4.0\n",
      "conda-package-handling                2.4.0\n",
      "conda_package_streaming               0.12.0\n",
      "contourpy                             1.3.2\n",
      "cryptography                          46.0.2\n",
      "cupy-cuda12x                          13.6.0\n",
      "cycler                                0.12.1\n",
      "dacite                                1.9.2\n",
      "dataclasses-json                      0.6.7\n",
      "dataproc-spark-connect                0.9.0\n",
      "db-dtypes                             1.4.3\n",
      "debugpy                               1.8.17\n",
      "decorator                             5.2.1\n",
      "defusedxml                            0.7.1\n",
      "distlib                               0.4.0\n",
      "distro                                1.9.0\n",
      "dm-tree                               0.1.9\n",
      "docker                                7.1.0\n",
      "docstring_parser                      0.17.0\n",
      "entrypoints                           0.4\n",
      "exceptiongroup                        1.3.0\n",
      "executing                             2.2.1\n",
      "Farama-Notifications                  0.0.4\n",
      "fastapi                               0.118.2\n",
      "fastjsonschema                        2.21.2\n",
      "fastrlock                             0.8.3\n",
      "filelock                              3.20.0\n",
      "filetype                              1.2.0\n",
      "fonttools                             4.60.1\n",
      "fqdn                                  1.5.1\n",
      "frozendict                            2.4.6\n",
      "frozenlist                            1.8.0\n",
      "fsspec                                2025.9.0\n",
      "gcsfs                                 2025.9.0\n",
      "geopandas                             1.1.1\n",
      "gitdb                                 4.0.12\n",
      "GitPython                             3.1.45\n",
      "google-api-core                       2.26.0\n",
      "google-api-python-client              2.184.0\n",
      "google-auth                           2.41.1\n",
      "google-auth-httplib2                  0.2.0\n",
      "google-auth-oauthlib                  1.2.2\n",
      "google-cloud-aiplatform               1.121.0\n",
      "google-cloud-artifact-registry        1.16.1\n",
      "google-cloud-bigquery                 3.38.0\n",
      "google-cloud-bigquery-connection      1.18.3\n",
      "google-cloud-bigquery-storage         2.33.1\n",
      "google-cloud-core                     2.4.3\n",
      "google-cloud-dataproc                 5.22.0\n",
      "google-cloud-datastore                2.21.0\n",
      "google-cloud-discoveryengine          0.14.0\n",
      "google-cloud-functions                1.20.4\n",
      "google-cloud-language                 2.17.2\n",
      "google-cloud-modelarmor               0.3.0\n",
      "google-cloud-monitoring               2.27.2\n",
      "google-cloud-resource-manager         1.14.2\n",
      "google-cloud-storage                  2.19.0\n",
      "google-crc32c                         1.7.1\n",
      "google-genai                          1.42.0\n",
      "google-resumable-media                2.7.2\n",
      "googleapis-common-protos              1.70.0\n",
      "gpustat                               1.1.1\n",
      "greenlet                              3.2.4\n",
      "grpc-google-iam-v1                    0.14.2\n",
      "grpcio                                1.75.1\n",
      "grpcio-status                         1.75.1\n",
      "gymnasium                             1.1.1\n",
      "h11                                   0.16.0\n",
      "h2                                    4.2.0\n",
      "hpack                                 4.1.0\n",
      "httpcore                              1.0.9\n",
      "httplib2                              0.31.0\n",
      "httptools                             0.6.4\n",
      "httpx                                 0.28.1\n",
      "httpx-sse                             0.4.3\n",
      "humanize                              4.13.0\n",
      "hyperframe                            6.1.0\n",
      "idna                                  3.10\n",
      "ImageHash                             4.3.1\n",
      "importlib_metadata                    8.7.0\n",
      "ipykernel                             6.29.5\n",
      "ipython                               8.37.0\n",
      "ipython-genutils                      0.2.0\n",
      "ipython-sql                           0.5.0\n",
      "ipywidgets                            8.1.7\n",
      "isoduration                           20.11.0\n",
      "jaraco.classes                        3.4.0\n",
      "jaraco.context                        6.0.1\n",
      "jaraco.functools                      4.3.0\n",
      "jedi                                  0.19.2\n",
      "jeepney                               0.9.0\n",
      "Jinja2                                3.1.6\n",
      "joblib                                1.5.2\n",
      "json5                                 0.12.1\n",
      "jsonpatch                             1.33\n",
      "jsonpointer                           3.0.0\n",
      "jsonschema                            4.25.1\n",
      "jsonschema-specifications             2025.9.1\n",
      "jupyter_client                        7.4.9\n",
      "jupyter_core                          5.8.1\n",
      "jupyter-events                        0.12.0\n",
      "jupyter_server                        2.17.0\n",
      "jupyter_server_fileid                 0.9.3\n",
      "jupyter-server-mathjax                0.2.6\n",
      "jupyter_server_terminals              0.5.3\n",
      "jupyter_server_ydoc                   0.8.0\n",
      "jupyter-ydoc                          0.2.5\n",
      "jupyterlab                            3.6.8\n",
      "jupyterlab_pygments                   0.3.0\n",
      "jupyterlab_server                     2.27.3\n",
      "jupyterlab_widgets                    3.0.15\n",
      "keyring                               25.6.0\n",
      "keyrings.google-artifactregistry-auth 1.1.2\n",
      "kfp                                   2.14.4\n",
      "kfp-pipeline-spec                     2.14.0\n",
      "kfp-server-api                        2.14.3\n",
      "kiwisolver                            1.4.9\n",
      "kombu                                 5.5.4\n",
      "kubernetes                            30.1.0\n",
      "langchain                             1.0.1\n",
      "langchain-classic                     1.0.0\n",
      "langchain-community                   0.4\n",
      "langchain-core                        1.0.0\n",
      "langchain-google-community            3.0.0\n",
      "langchain-google-vertexai             3.0.0\n",
      "langchain-text-splitters              1.0.0\n",
      "langgraph                             1.0.1\n",
      "langgraph-checkpoint                  3.0.0\n",
      "langgraph-prebuilt                    1.0.1\n",
      "langgraph-sdk                         0.2.9\n",
      "langsmith                             0.4.37\n",
      "lark                                  1.3.0\n",
      "libmambapy                            2.1.1\n",
      "linkify-it-py                         2.0.3\n",
      "llvmlite                              0.44.0\n",
      "lz4                                   4.4.4\n",
      "markdown-it-py                        4.0.0\n",
      "MarkupSafe                            3.0.3\n",
      "marshmallow                           3.26.1\n",
      "matplotlib                            3.10.0\n",
      "matplotlib-inline                     0.1.7\n",
      "mdit-py-plugins                       0.5.0\n",
      "mdurl                                 0.1.2\n",
      "memray                                1.18.0\n",
      "menuinst                              2.3.1\n",
      "minify_html                           0.16.4\n",
      "mistune                               3.1.4\n",
      "more-itertools                        10.8.0\n",
      "msgpack                               1.1.2\n",
      "multidict                             6.7.0\n",
      "multimethod                           1.12\n",
      "mypy_extensions                       1.1.0\n",
      "narwhals                              2.7.0\n",
      "nbclassic                             1.3.3\n",
      "nbclient                              0.10.2\n",
      "nbconvert                             7.16.6\n",
      "nbdime                                4.0.2\n",
      "nbformat                              5.10.4\n",
      "nest-asyncio                          1.6.0\n",
      "networkx                              3.4.2\n",
      "notebook                              6.5.7\n",
      "notebook_shim                         0.2.4\n",
      "numba                                 0.61.0\n",
      "numexpr                               2.14.1\n",
      "numpy                                 1.26.4\n",
      "nvidia-ml-py                          13.580.82\n",
      "oauth2client                          4.1.3\n",
      "oauthlib                              3.3.1\n",
      "opencensus                            0.11.4\n",
      "opencensus-context                    0.1.3\n",
      "opentelemetry-api                     1.37.0\n",
      "opentelemetry-exporter-prometheus     0.58b0\n",
      "opentelemetry-proto                   1.37.0\n",
      "opentelemetry-sdk                     1.37.0\n",
      "opentelemetry-semantic-conventions    0.58b0\n",
      "orjson                                3.11.3\n",
      "ormsgpack                             1.11.0\n",
      "overrides                             7.7.0\n",
      "packaging                             25.0\n",
      "pandas                                2.3.3\n",
      "pandas-gbq                            0.29.2\n",
      "pandas-profiling                      3.6.6\n",
      "pandocfilters                         1.5.1\n",
      "papermill                             2.6.0\n",
      "parso                                 0.8.5\n",
      "patsy                                 1.0.1\n",
      "pexpect                               4.9.0\n",
      "phik                                  0.12.5\n",
      "pillow                                11.3.0\n",
      "pip                                   25.2\n",
      "platformdirs                          4.3.8\n",
      "plotly                                6.3.1\n",
      "pluggy                                1.6.0\n",
      "prettytable                           3.16.0\n",
      "prometheus_client                     0.23.1\n",
      "prompt_toolkit                        3.0.52\n",
      "propcache                             0.4.1\n",
      "proto-plus                            1.26.1\n",
      "protobuf                              6.31.1\n",
      "psutil                                5.9.3\n",
      "ptyprocess                            0.7.0\n",
      "pure_eval                             0.2.3\n",
      "puremagic                             1.30\n",
      "py-spy                                0.4.1\n",
      "py4j                                  0.10.9.7\n",
      "pyarrow                               21.0.0\n",
      "pyasn1                                0.6.1\n",
      "pyasn1_modules                        0.4.2\n",
      "pycosat                               0.6.6\n",
      "pycparser                             2.22\n",
      "pydantic                              2.12.0\n",
      "pydantic_core                         2.41.1\n",
      "pydantic-settings                     2.11.0\n",
      "pydata-google-auth                    1.9.1\n",
      "Pygments                              2.19.2\n",
      "pyogrio                               0.11.1\n",
      "pyOpenSSL                             25.3.0\n",
      "pyparsing                             3.2.5\n",
      "pyproj                                3.7.1\n",
      "PySocks                               1.7.1\n",
      "pyspark                               3.5.7\n",
      "python-dateutil                       2.9.0.post0\n",
      "python-dotenv                         1.1.1\n",
      "python-json-logger                    4.0.0\n",
      "pytz                                  2025.2\n",
      "PyWavelets                            1.8.0\n",
      "PyYAML                                6.0.3\n",
      "pyzmq                                 27.1.0\n",
      "ray                                   2.49.2\n",
      "referencing                           0.36.2\n",
      "requests                              2.32.5\n",
      "requests-oauthlib                     2.0.0\n",
      "requests-toolbelt                     1.0.0\n",
      "retrying                              1.4.2\n",
      "rfc3339-validator                     0.1.4\n",
      "rfc3986-validator                     0.1.1\n",
      "rfc3987-syntax                        1.1.0\n",
      "rich                                  13.9.4\n",
      "rpds-py                               0.27.1\n",
      "rsa                                   4.9.1\n",
      "ruamel.yaml                           0.18.15\n",
      "ruamel.yaml.clib                      0.2.12\n",
      "scikit-learn                          1.7.2\n",
      "scipy                                 1.15.3\n",
      "seaborn                               0.13.2\n",
      "SecretStorage                         3.4.0\n",
      "Send2Trash                            1.8.3\n",
      "setuptools                            80.9.0\n",
      "shapely                               2.1.2\n",
      "six                                   1.17.0\n",
      "smart_open                            7.3.1\n",
      "smmap                                 5.0.2\n",
      "sniffio                               1.3.1\n",
      "soupsieve                             2.8\n",
      "SQLAlchemy                            2.0.43\n",
      "sqlglot                               27.24.2\n",
      "sqlparse                              0.5.3\n",
      "stack-data                            0.6.3\n",
      "starlette                             0.48.0\n",
      "statsmodels                           0.14.5\n",
      "tabulate                              0.9.0\n",
      "tenacity                              9.1.2\n",
      "tensorboardX                          2.6.4\n",
      "terminado                             0.18.1\n",
      "textual                               6.2.1\n",
      "threadpoolctl                         3.6.0\n",
      "tinycss2                              1.4.0\n",
      "tomli                                 2.3.0\n",
      "toolz                                 1.0.0\n",
      "tornado                               6.5.2\n",
      "tqdm                                  4.67.1\n",
      "traitlets                             5.14.3\n",
      "truststore                            0.10.1\n",
      "typeguard                             4.4.4\n",
      "types-python-dateutil                 2.9.0.20251008\n",
      "typing_extensions                     4.15.0\n",
      "typing-inspect                        0.9.0\n",
      "typing-inspection                     0.4.2\n",
      "tzdata                                2025.2\n",
      "uc-micro-py                           1.0.3\n",
      "uri-template                          1.3.0\n",
      "uritemplate                           4.2.0\n",
      "urllib3                               2.5.0\n",
      "uvicorn                               0.37.0\n",
      "uvloop                                0.21.0\n",
      "validators                            0.35.0\n",
      "vine                                  5.1.0\n",
      "virtualenv                            20.34.0\n",
      "visions                               0.8.1\n",
      "watchfiles                            1.1.0\n",
      "wcwidth                               0.2.14\n",
      "webcolors                             24.11.1\n",
      "webencodings                          0.5.1\n",
      "websocket-client                      1.9.0\n",
      "websockets                            15.0.1\n",
      "wheel                                 0.45.1\n",
      "widgetsnbextension                    4.0.14\n",
      "wordcloud                             1.9.4\n",
      "wrapt                                 1.17.3\n",
      "xxhash                                3.6.0\n",
      "y-py                                  0.6.2\n",
      "yarl                                  1.22.0\n",
      "ydata-profiling                       4.17.0\n",
      "ypy-websocket                         0.8.4\n",
      "zipp                                  3.23.0\n",
      "zstandard                             0.25.0\n",
      "Note: you may need to restart the kernel to use updated packages.\n"
     ]
    }
   ],
   "source": [
    "pip list"
   ]
  },
  {
   "cell_type": "code",
   "execution_count": 8,
   "id": "d307945b-3fc2-4690-9f67-2d4f49043b8f",
   "metadata": {
    "tags": []
   },
   "outputs": [
    {
     "data": {
      "text/plain": [
       "{'status': 'ok', 'restart': True}"
      ]
     },
     "execution_count": 8,
     "metadata": {},
     "output_type": "execute_result"
    }
   ],
   "source": [
    "# Restart kernel after packages are installed so that your environment can access the new packages\n",
    "import IPython\n",
    "import time\n",
    "\n",
    "app = IPython.Application.instance()\n",
    "app.kernel.do_shutdown(True)"
   ]
  },
  {
   "cell_type": "code",
   "execution_count": 1,
   "id": "c8447bb2-e4f0-4957-ae33-b6618f6dd659",
   "metadata": {
    "tags": []
   },
   "outputs": [
    {
     "name": "stdout",
     "output_type": "stream",
     "text": [
      "langchain: 1.0.1\n",
      "langchain-core: 1.0.0\n",
      "langchain-community: 0.4\n"
     ]
    },
    {
     "ename": "ModuleNotFoundError",
     "evalue": "No module named 'langchain.chains'",
     "output_type": "error",
     "traceback": [
      "\u001b[0;31m---------------------------------------------------------------------------\u001b[0m",
      "\u001b[0;31mModuleNotFoundError\u001b[0m                       Traceback (most recent call last)",
      "Cell \u001b[0;32mIn[1], line 9\u001b[0m\n\u001b[1;32m      7\u001b[0m \u001b[38;5;28;01mfrom\u001b[39;00m\u001b[38;5;250m \u001b[39m\u001b[38;5;21;01mlangchain_google_vertexai\u001b[39;00m\u001b[38;5;250m \u001b[39m\u001b[38;5;28;01mimport\u001b[39;00m ChatVertexAI\n\u001b[1;32m      8\u001b[0m \u001b[38;5;28;01mfrom\u001b[39;00m\u001b[38;5;250m \u001b[39m\u001b[38;5;21;01mlangchain_google_community\u001b[39;00m\u001b[38;5;250m \u001b[39m\u001b[38;5;28;01mimport\u001b[39;00m VertexAISearchRetriever, VertexAIMultiTurnSearchRetriever\n\u001b[0;32m----> 9\u001b[0m \u001b[38;5;28;01mfrom\u001b[39;00m\u001b[38;5;250m \u001b[39m\u001b[38;5;21;01mlangchain\u001b[39;00m\u001b[38;5;21;01m.\u001b[39;00m\u001b[38;5;21;01mchains\u001b[39;00m\u001b[38;5;21;01m.\u001b[39;00m\u001b[38;5;21;01mcombine_documents\u001b[39;00m\u001b[38;5;250m \u001b[39m\u001b[38;5;28;01mimport\u001b[39;00m create_stuff_documents_chain\n\u001b[1;32m     10\u001b[0m \u001b[38;5;28;01mfrom\u001b[39;00m\u001b[38;5;250m \u001b[39m\u001b[38;5;21;01mlangchain\u001b[39;00m\u001b[38;5;21;01m.\u001b[39;00m\u001b[38;5;21;01mchains\u001b[39;00m\u001b[38;5;250m \u001b[39m\u001b[38;5;28;01mimport\u001b[39;00m create_retrieval_chain\n\u001b[1;32m     11\u001b[0m \u001b[38;5;28;01mfrom\u001b[39;00m\u001b[38;5;250m \u001b[39m\u001b[38;5;21;01mlangchain_core\u001b[39;00m\u001b[38;5;21;01m.\u001b[39;00m\u001b[38;5;21;01mprompts\u001b[39;00m\u001b[38;5;250m \u001b[39m\u001b[38;5;28;01mimport\u001b[39;00m ChatPromptTemplate\n",
      "\u001b[0;31mModuleNotFoundError\u001b[0m: No module named 'langchain.chains'"
     ]
    }
   ],
   "source": [
    "# 3) Quick sanity checks (no legacy imports here!)\n",
    "import langchain, langchain_core, langchain_community\n",
    "print(\"langchain:\", langchain.__version__)\n",
    "print(\"langchain-core:\", langchain_core.__version__)\n",
    "print(\"langchain-community:\", langchain_community.__version__)\n",
    "\n",
    "from langchain_google_vertexai import ChatVertexAI\n",
    "from langchain_google_community import VertexAISearchRetriever, VertexAIMultiTurnSearchRetriever\n",
    "from langchain.chains.combine_documents import create_stuff_documents_chain\n",
    "from langchain.chains import create_retrieval_chain\n",
    "from langchain_core.prompts import ChatPromptTemplate\n",
    "print(\"Modern imports OK\")\n"
   ]
  },
  {
   "cell_type": "code",
   "execution_count": 3,
   "id": "83cb3a26-df8f-4c71-9044-902e656d0431",
   "metadata": {
    "tags": []
   },
   "outputs": [
    {
     "data": {
      "text/plain": [
       "environ{'SHELL': '/bin/bash',\n",
       "        'CONDA_EXE': '/opt/conda/bin/conda',\n",
       "        '_CE_M': '',\n",
       "        'VERTEX_PRODUCT': 'WORKBENCH_INSTANCE',\n",
       "        'GRPC_FORK_SUPPORT_ENABLED': '0',\n",
       "        'DL_ANACONDA_HOME': '/opt/conda',\n",
       "        'FRAMEWORK_FILE_PATH': '/opt/deeplearning/metadata/framework',\n",
       "        'GOOGLE_CLOUD_PROJECT': 'qwiklabs-gcp-03-b9e85fe4e6ca',\n",
       "        'POST_STARTUP_SCRIPT_PATH': '/opt/c2d/post_start.sh',\n",
       "        'DL_PATH_DEPS': '/opt/deeplearning/deps',\n",
       "        'DL_BIN_PATH': '/opt/deeplearning/bin',\n",
       "        'XML_CATALOG_FILES': 'file:///opt/conda/etc/xml/catalog file:///etc/xml/catalog',\n",
       "        'KERNEL_LAUNCH_TIMEOUT': '598',\n",
       "        'BINARIES_PATH': '/opt/deeplearning/binaries',\n",
       "        'PWD': '/home/jupyter',\n",
       "        'LOGNAME': 'jupyter',\n",
       "        'CONDA_PREFIX': '/opt/conda',\n",
       "        'JPY_SESSION_NAME': '/home/jupyter/Untitled.ipynb',\n",
       "        'TENSORBOARD_PROXY_URL': '/proxy/%PORT%/',\n",
       "        'GOOGLE_CLOUD_REGION': 'us-central1',\n",
       "        'PACKAGE_SOURCE_CODE_PATH': '/opt/deeplearning/src/third_party',\n",
       "        'DOCKER_SERVER_NETWORK': 'docker-network',\n",
       "        'JUPYTER_DEPS_PATH': '/opt/deeplearning/jupyter',\n",
       "        'ENV_URI_FILE_PATH': '/opt/deeplearning/metadata/env_uri',\n",
       "        'HOME': '/home/jupyter',\n",
       "        'RESTRICTION_TYPE_FILE_PATH': '/opt/deeplearning/restriction',\n",
       "        'LANG': 'C.UTF-8',\n",
       "        'ENV_VERSION_FILE_PATH': '/opt/deeplearning/metadata/env_version',\n",
       "        'CONDA_PROMPT_MODIFIER': '(base) ',\n",
       "        'TMPDIR': '/var/tmp',\n",
       "        'IS_WORKBENCH_IMAGE': 'true',\n",
       "        'DOCKER_SERVER_SUBNET': '192.168.10.0/24',\n",
       "        'INVOCATION_ID': '9c50f6c2a7fd4c20ae6890de8a85e383',\n",
       "        'LIT_PROXY_URL': '/proxy/%PORT%/',\n",
       "        'TITLE_FILE_PATH': '/opt/deeplearning/metadata/title',\n",
       "        'JPY_PARENT_PID': '2620',\n",
       "        '_CONDA_EXE': '/opt/conda/bin/conda',\n",
       "        '_CONDA_ROOT': '/opt/conda',\n",
       "        'ANACONDA_PYTHON_VERSION': '3.10',\n",
       "        '_CE_CONDA': '',\n",
       "        'VERSION_FILE_PATH': '/opt/deeplearning/metadata/version',\n",
       "        'USER': 'jupyter',\n",
       "        'GCSFUSE_METADATA_IMAGE_TYPE': 'DLVM',\n",
       "        'DOCKER_SERVER_GATEWAY': '192.168.10.1',\n",
       "        'CONDA_SHLVL': '2',\n",
       "        'SHLVL': '0',\n",
       "        'MOUNTS_ON_ALL_CONTAINERS': '/usr/local/share/ca-certificates,/etc/ssl/certs,/etc/ca-certificates/update.d',\n",
       "        'RELEASE_VERSION': '20251008-2030-rc0',\n",
       "        'CONDA_PYTHON_EXE': '/opt/conda/bin/python',\n",
       "        'JUPYTER_PORT': '8080',\n",
       "        'LD_LIBRARY_PATH': '/usr/local/cuda/lib64:/usr/local/nccl2/lib:/usr/local/cuda/extras/CUPTI/lib64:/usr/lib/x86_64-linux-gnu/:/opt/conda/lib',\n",
       "        'ENABLE_MULTI_FRAMEWORK': 'true',\n",
       "        'GIT_PYTHON_REFRESH': 'quiet',\n",
       "        'CONDA_DEFAULT_ENV': 'base',\n",
       "        'NO_PACKAGE_MANAGER': 'false',\n",
       "        'OPAL_PREFIX': '/usr',\n",
       "        'PROXY_BIN': '/opt/bin',\n",
       "        'JOURNAL_STREAM': '8:18138',\n",
       "        'DL_PATH': '/opt/deeplearning',\n",
       "        'WORKSPACE_PATH': '/opt/deeplearning/workspace',\n",
       "        'SRC_PATH': '/opt/deeplearning/src',\n",
       "        'OS_NAME': 'DEBIAN_11',\n",
       "        'PATH': '/usr/local/cuda/bin:/opt/conda/bin:/opt/conda/condabin:/usr/local/bin:/usr/bin:/bin:/usr/local/games:/usr/games',\n",
       "        'CONDA_PREFIX_1': '/opt/conda/envs/jupyterlab',\n",
       "        'GOOGLE_VM_CONFIG_LOCK_FILE': '/root/google_vm_config.lock',\n",
       "        'ENABLE_MULTI_ENV': 'true',\n",
       "        'TUTORIALS_PATH': '/opt/deeplearning/workspace/tutorials',\n",
       "        'DL_METADATA_PATH': '/opt/deeplearning/metadata',\n",
       "        'PYDEVD_USE_FRAME_EVAL': 'NO',\n",
       "        'TERM': 'xterm-color',\n",
       "        'CLICOLOR': '1',\n",
       "        'FORCE_COLOR': '1',\n",
       "        'CLICOLOR_FORCE': '1',\n",
       "        'PAGER': 'cat',\n",
       "        'GIT_PAGER': 'cat',\n",
       "        'MPLBACKEND': 'module://matplotlib_inline.backend_inline'}"
      ]
     },
     "execution_count": 3,
     "metadata": {},
     "output_type": "execute_result"
    }
   ],
   "source": [
    "import os\n",
    "os.environ"
   ]
  },
  {
   "cell_type": "code",
   "execution_count": 1,
   "id": "2cd0f51c-f4ca-4cbb-bdbf-9306c9f849ca",
   "metadata": {
    "tags": []
   },
   "outputs": [
    {
     "data": {
      "text/plain": [
       "<module 'vertexai' from '/home/jupyter/.local/lib/python3.10/site-packages/vertexai/__init__.py'>"
      ]
     },
     "execution_count": 1,
     "metadata": {},
     "output_type": "execute_result"
    }
   ],
   "source": [
    "PROJECT_ID = \"qwiklabs-gcp-03-b9e85fe4e6ca\"\n",
    "LOCATION = \"us-central1\"\n",
    "\n",
    "import vertexai\n",
    "\n",
    "vertexai.init(project=PROJECT_ID, location=LOCATION)\n",
    "vertexai"
   ]
  },
  {
   "cell_type": "code",
   "execution_count": 2,
   "id": "8869eace-263e-4ab3-bbb0-2d7d9ab42576",
   "metadata": {
    "tags": []
   },
   "outputs": [],
   "source": [
    "DATA_STORE_ID = \"qna-datastore-id\"  # @param {type:\"string\"}\n",
    "DATA_STORE_LOCATION = \"global\"  # @param {type:\"string\"}\n",
    "\n",
    "MODEL = \"gemini-2.0-flash\"  # @param {type:\"string\"}\n",
    "\n",
    "if PROJECT_ID == \"YOUR_PROJECT_ID\" or DATA_STORE_ID == \"YOUR_DATA_STORE_ID\":\n",
    "    raise ValueError(\n",
    "        \"Please set the PROJECT_ID, DATA_STORE_ID constants to reflect your environment.\"\n",
    "    )"
   ]
  },
  {
   "cell_type": "code",
   "execution_count": 2,
   "id": "a6000f21-e8a8-4263-b7ef-236af3b788cf",
   "metadata": {
    "tags": []
   },
   "outputs": [],
   "source": [
    "import langchain as langchain"
   ]
  },
  {
   "cell_type": "code",
   "execution_count": 9,
   "id": "628bbe18-da71-4b2b-9de2-9932441d98f2",
   "metadata": {
    "tags": []
   },
   "outputs": [
    {
     "ename": "ImportError",
     "evalue": "cannot import name 'chains' from 'langchain' (/home/jupyter/.local/lib/python3.10/site-packages/langchain/__init__.py)",
     "output_type": "error",
     "traceback": [
      "\u001b[0;31m---------------------------------------------------------------------------\u001b[0m",
      "\u001b[0;31mImportError\u001b[0m                               Traceback (most recent call last)",
      "Cell \u001b[0;32mIn[9], line 1\u001b[0m\n\u001b[0;32m----> 1\u001b[0m \u001b[38;5;28;01mfrom\u001b[39;00m\u001b[38;5;250m \u001b[39m\u001b[38;5;21;01mlangchain\u001b[39;00m\u001b[38;5;250m \u001b[39m\u001b[38;5;28;01mimport\u001b[39;00m chains\n",
      "\u001b[0;31mImportError\u001b[0m: cannot import name 'chains' from 'langchain' (/home/jupyter/.local/lib/python3.10/site-packages/langchain/__init__.py)"
     ]
    }
   ],
   "source": [
    "from langchain import chains"
   ]
  },
  {
   "cell_type": "code",
   "execution_count": 10,
   "id": "ba0dea5f-1cbe-4019-a6f2-ac11ae737655",
   "metadata": {
    "tags": []
   },
   "outputs": [
    {
     "ename": "ModuleNotFoundError",
     "evalue": "No module named 'langchain.chains'",
     "output_type": "error",
     "traceback": [
      "\u001b[0;31m---------------------------------------------------------------------------\u001b[0m",
      "\u001b[0;31mModuleNotFoundError\u001b[0m                       Traceback (most recent call last)",
      "Cell \u001b[0;32mIn[10], line 1\u001b[0m\n\u001b[0;32m----> 1\u001b[0m \u001b[38;5;28;01mfrom\u001b[39;00m\u001b[38;5;250m \u001b[39m\u001b[38;5;21;01mlangchain\u001b[39;00m\u001b[38;5;21;01m.\u001b[39;00m\u001b[38;5;21;01mchains\u001b[39;00m\u001b[38;5;250m \u001b[39m\u001b[38;5;28;01mimport\u001b[39;00m RetrievalQA\n",
      "\u001b[0;31mModuleNotFoundError\u001b[0m: No module named 'langchain.chains'"
     ]
    }
   ],
   "source": [
    "from langchain.chains import RetrievalQA\n"
   ]
  },
  {
   "cell_type": "code",
   "execution_count": 11,
   "id": "4e8a0111-7c0e-4282-bdf4-f810abab9bac",
   "metadata": {
    "tags": []
   },
   "outputs": [
    {
     "ename": "ImportError",
     "evalue": "cannot import name 'RetrievalQA' from 'langchain_community.chains' (/home/jupyter/.local/lib/python3.10/site-packages/langchain_community/chains/__init__.py)",
     "output_type": "error",
     "traceback": [
      "\u001b[0;31m---------------------------------------------------------------------------\u001b[0m",
      "\u001b[0;31mImportError\u001b[0m                               Traceback (most recent call last)",
      "Cell \u001b[0;32mIn[11], line 1\u001b[0m\n\u001b[0;32m----> 1\u001b[0m \u001b[38;5;28;01mfrom\u001b[39;00m\u001b[38;5;250m \u001b[39m\u001b[38;5;21;01mlangchain_community\u001b[39;00m\u001b[38;5;21;01m.\u001b[39;00m\u001b[38;5;21;01mchains\u001b[39;00m\u001b[38;5;250m \u001b[39m\u001b[38;5;28;01mimport\u001b[39;00m RetrievalQA \n",
      "\u001b[0;31mImportError\u001b[0m: cannot import name 'RetrievalQA' from 'langchain_community.chains' (/home/jupyter/.local/lib/python3.10/site-packages/langchain_community/chains/__init__.py)"
     ]
    }
   ],
   "source": [
    "from langchain_community.chains import RetrievalQA "
   ]
  },
  {
   "cell_type": "code",
   "execution_count": 3,
   "id": "ca3ec06b-0262-4525-9456-82faa7012c4d",
   "metadata": {
    "tags": []
   },
   "outputs": [
    {
     "ename": "ModuleNotFoundError",
     "evalue": "No module named 'langchain.chains'",
     "output_type": "error",
     "traceback": [
      "\u001b[0;31m---------------------------------------------------------------------------\u001b[0m",
      "\u001b[0;31mModuleNotFoundError\u001b[0m                       Traceback (most recent call last)",
      "Cell \u001b[0;32mIn[3], line 12\u001b[0m\n\u001b[1;32m      1\u001b[0m \u001b[38;5;66;03m# old langchain\u001b[39;00m\n\u001b[1;32m      2\u001b[0m \u001b[38;5;66;03m# # ModuleNotFoundError: No module named 'langchain'\u001b[39;00m\n\u001b[1;32m      3\u001b[0m \u001b[38;5;66;03m# # ModuleNotFoundError: No module named 'langchain.chains'\u001b[39;00m\n\u001b[0;32m   (...)\u001b[0m\n\u001b[1;32m      9\u001b[0m \n\u001b[1;32m     10\u001b[0m \u001b[38;5;66;03m# langchain 1.0 and onwards\u001b[39;00m\n\u001b[1;32m     11\u001b[0m \u001b[38;5;28;01mfrom\u001b[39;00m\u001b[38;5;250m \u001b[39m\u001b[38;5;21;01mlangchain_core\u001b[39;00m\u001b[38;5;21;01m.\u001b[39;00m\u001b[38;5;21;01mprompts\u001b[39;00m\u001b[38;5;250m \u001b[39m\u001b[38;5;28;01mimport\u001b[39;00m ChatPromptTemplate\n\u001b[0;32m---> 12\u001b[0m \u001b[38;5;28;01mfrom\u001b[39;00m\u001b[38;5;250m \u001b[39m\u001b[38;5;21;01mlangchain\u001b[39;00m\u001b[38;5;21;01m.\u001b[39;00m\u001b[38;5;21;01mchains\u001b[39;00m\u001b[38;5;21;01m.\u001b[39;00m\u001b[38;5;21;01mcombine_documents\u001b[39;00m\u001b[38;5;250m \u001b[39m\u001b[38;5;28;01mimport\u001b[39;00m create_stuff_documents_chain\n\u001b[1;32m     13\u001b[0m \u001b[38;5;28;01mfrom\u001b[39;00m\u001b[38;5;250m \u001b[39m\u001b[38;5;21;01mlangchain\u001b[39;00m\u001b[38;5;21;01m.\u001b[39;00m\u001b[38;5;21;01mchains\u001b[39;00m\u001b[38;5;250m \u001b[39m\u001b[38;5;28;01mimport\u001b[39;00m create_retrieval_chain\n\u001b[1;32m     17\u001b[0m \u001b[38;5;28;01mfrom\u001b[39;00m\u001b[38;5;250m \u001b[39m\u001b[38;5;21;01mlangchain_google_vertexai\u001b[39;00m\u001b[38;5;250m \u001b[39m\u001b[38;5;28;01mimport\u001b[39;00m ChatVertexAI\n",
      "\u001b[0;31mModuleNotFoundError\u001b[0m: No module named 'langchain.chains'"
     ]
    }
   ],
   "source": [
    "# old langchain\n",
    "# # ModuleNotFoundError: No module named 'langchain'\n",
    "# # ModuleNotFoundError: No module named 'langchain.chains'\n",
    "# from langchain.chains import RetrievalQA\n",
    "# from langchain.chains import RetrievalQAWithSourcesChain\n",
    "# from langchain.chains import ConversationalRetrievalChain\n",
    "# from langchain.memory import ConversationBufferMemory\n",
    "# from langchain.prompts import PromptTemplate\n",
    "\n",
    "# langchain 1.0 and onwards\n",
    "from langchain_core.prompts import ChatPromptTemplate\n",
    "from langchain.chains.combine_documents import create_stuff_documents_chain\n",
    "from langchain.chains import create_retrieval_chain\n",
    "\n",
    "\n",
    "\n",
    "from langchain_google_vertexai import ChatVertexAI\n",
    "from langchain_google_community import VertexAISearchRetriever\n",
    "from langchain_google_community import VertexAIMultiTurnSearchRetriever"
   ]
  },
  {
   "cell_type": "code",
   "execution_count": null,
   "id": "2dd1bc0a-52f6-4cbf-a20f-60cb477f88f2",
   "metadata": {},
   "outputs": [],
   "source": [
    "# You're hitting this because your environment is on the new LangChain 1.x line, where the legacy langchain.chains module (and classes like RetrievalQA, ConversationalRetrievalChain, LLMChain) has been removed/deprecated in favor of LCEL and new constructors like create_retrieval_chain. That’s why from langchain.chains import RetrievalQA now throws ModuleNotFoundError. [python.langchain.com], [python.langchain.com]\n",
    "# https://python.langchain.com/docs/versions/v0_2/deprecations/\n",
    "\n",
    "\n",
    "# langchain.chains.RetrievalQA is deprecated → use create_retrieval_chain and create_stuff_documents_chain (LCEL style). [python.langchain.com]\n",
    "# Many integrations moved out of langchain into vendor packages. For Google Vertex AI: use langchain-google-vertexai (for chat models) and langchain-google-community (for Vertex AI Search retrievers). [python.langchain.com], [github.com]\n",
    "# The recommended Vertex chat model wrapper is ChatVertexAI from langchain_google_vertexai. (It exposes Gemini models like gemini-2.0-flash, gemini-2.5-flash/pro.) [python.langchain.com], [docs.langchain.com]\n",
    "# For Discovery Engine / Vertex AI Search, use VertexAISearchRetriever or VertexAIMultiTurnSearchRetriever from langchain_google_community. [docs.langchain.com], [python.langchain.com]\n",
    "\n"
   ]
  },
  {
   "cell_type": "markdown",
   "id": "057efeb0-85e7-4b25-9995-f75af0672fa2",
   "metadata": {},
   "source": [
    "## Workaround"
   ]
  },
  {
   "cell_type": "code",
   "execution_count": 2,
   "id": "bb39d35a-ae79-4ef2-a6c6-31e127b2cf63",
   "metadata": {
    "tags": []
   },
   "outputs": [],
   "source": [
    "# Vertex AI init (unchanged)\n",
    "import vertexai\n",
    "from google.cloud import aiplatform\n",
    "\n",
    "PROJECT_ID = \"qwiklabs-gcp-03-b9e85fe4e6ca\"\n",
    "LOCATION = \"us-central1\"\n",
    "DATA_STORE_ID = \"qna-datastore-id\"\n",
    "DATA_STORE_LOCATION = \"global\"\n",
    "\n",
    "vertexai.init(project=PROJECT_ID, location=LOCATION)\n",
    "aiplatform.init(project=PROJECT_ID, location=LOCATION)\n",
    "\n",
    "MODEL = \"gemini-2.0-flash\"  # or another Gemini available in your region\n",
    "\n",
    "# LangChain 1.x – use vendor integrations + LCEL primitives only\n",
    "from langchain_google_vertexai import ChatVertexAI           # Gemini on Vertex AI (LangChain integration) [4](https://python.langchain.com/docs/integrations/chat/google_vertex_ai_palm/)\n",
    "from langchain_google_community import (                     # Vertex AI Search retrievers (Discovery Engine) [5](https://docs.langchain.com/oss/python/integrations/retrievers/google_vertex_ai_search)\n",
    "    VertexAISearchRetriever,\n",
    "    VertexAIMultiTurnSearchRetriever\n",
    ")\n",
    "\n",
    "from langchain_core.prompts import ChatPromptTemplate\n",
    "from langchain_core.runnables import RunnableLambda, RunnablePassthrough\n",
    "from langchain_core.messages import AIMessage, HumanMessage"
   ]
  },
  {
   "cell_type": "markdown",
   "id": "039f902e-66db-4581-82b5-b93322181143",
   "metadata": {},
   "source": [
    "# Task 4. LangChain retrieval Q&A chains\n",
    "3 chains\n",
    "- RetrivalQA\n",
    "- RetrievalQAWithSourceChain\n",
    "- ConversationalRetrivealChain"
   ]
  },
  {
   "cell_type": "markdown",
   "id": "9b78544d-7349-403c-b9d4-e6b40ca0ff7c",
   "metadata": {},
   "source": [
    "## RetrivalQA"
   ]
  },
  {
   "cell_type": "code",
   "execution_count": 3,
   "id": "1ca4ace1-e932-4fdb-a2dd-07bcb6e89dc0",
   "metadata": {
    "tags": []
   },
   "outputs": [
    {
     "name": "stderr",
     "output_type": "stream",
     "text": [
      "/home/jupyter/.local/lib/python3.10/site-packages/langchain_google_community/vertex_ai_search.py:365: UserWarning: Beta features are configured but beta=False. The following beta features will be ignored:['custom_embedding_ratio']\n",
      "  warnings.warn(\n"
     ]
    },
    {
     "name": "stdout",
     "output_type": "stream",
     "text": [
      "Alphabet's revenue in Q2 2021 was $61.9 billion.\n"
     ]
    }
   ],
   "source": [
    "llm = ChatVertexAI(model=MODEL, temperature=0.2)\n",
    "\n",
    "retriever = VertexAISearchRetriever(\n",
    "    project_id=PROJECT_ID,\n",
    "    location_id=DATA_STORE_LOCATION,\n",
    "    data_store_id=DATA_STORE_ID,\n",
    "    get_extractive_answers=True,\n",
    "    max_documents=10,\n",
    "    max_extractive_segment_count=1,\n",
    "    max_extractive_answer_count=5,\n",
    ")\n",
    "\n",
    "# Prompt = system + user input\n",
    "system_prompt = (\n",
    "    \"Use the given context to answer the question.\\n\"\n",
    "    \"If you don't know, say you don't know.\\n\"\n",
    "    \"Keep the answer concise.\\n\\n\"\n",
    "    \"Context:\\n{context}\"\n",
    ")\n",
    "prompt = ChatPromptTemplate.from_messages(\n",
    "    [(\"system\", system_prompt), (\"human\", \"{input}\")]\n",
    ")\n",
    "\n",
    "# ---- Build a 'stuff' documents chain manually (no langchain.chains import) ----\n",
    "# 1) Retrieve docs from the user input string\n",
    "# retriever.invoke(\"...\") -> List[Document]\n",
    "retrieve_docs = RunnableLambda(lambda x: retriever.invoke(x[\"input\"]))\n",
    "\n",
    "# 2) Join doc contents into a single context string\n",
    "def join_docs(docs):\n",
    "    # Keep this simple; you can improve formatting if needed\n",
    "    return \"\\n\\n\".join(d.page_content or \"\" for d in docs)\n",
    "\n",
    "to_context = RunnableLambda(lambda x: {\"context\": join_docs(x[\"context\"]), **x})\n",
    "\n",
    "# 3) Compose: take input -> add context -> prompt -> llm\n",
    "stuff_chain = (\n",
    "    RunnablePassthrough.assign(context=retrieve_docs)  # adds \"context\": List[Document]\n",
    "    | to_context                                       # convert List[Document] -> single string\n",
    "    | prompt\n",
    "    | llm\n",
    ")\n",
    "\n",
    "# For consistency with your lab's expected dict:\n",
    "def to_result_dict(ai_msg: AIMessage, input_: dict):\n",
    "    return {\"answer\": ai_msg.content, \"context\": input_.get(\"context\", [])}\n",
    "\n",
    "# Wrap to get both \"answer\" and the raw retrieved docs if you want them\n",
    "def run_retrieval_qa(query: str):\n",
    "    out = (RunnablePassthrough()\n",
    "           | RunnablePassthrough.assign(input=lambda x: query)\n",
    "           | stuff_chain).invoke({})\n",
    "    # We didn't carry docs forward—re-run retriever if you need them alongside\n",
    "    docs = retriever.invoke(query)\n",
    "    return {\"answer\": out.content, \"context\": docs}\n",
    "\n",
    "# ---- Demo ----\n",
    "search_query = \"What was Alphabet's Revenue in Q2 2021?\"\n",
    "res = run_retrieval_qa(search_query)\n",
    "print(res[\"answer\"])\n",
    "# Inspect sources later via res[\"context\"]"
   ]
  },
  {
   "cell_type": "code",
   "execution_count": null,
   "id": "a63386d8-bba3-4c2d-9030-2bee8a1f00ef",
   "metadata": {},
   "outputs": [],
   "source": []
  },
  {
   "cell_type": "markdown",
   "id": "5ae7d16c-ca85-4a5b-a27b-e94c93b8ebd4",
   "metadata": {},
   "source": [
    "\n",
    "## RetrievalQAWithSourceChain"
   ]
  },
  {
   "cell_type": "code",
   "execution_count": 5,
   "id": "8b29ceac-0edf-4ed2-b063-d8d848e60956",
   "metadata": {
    "tags": []
   },
   "outputs": [
    {
     "name": "stdout",
     "output_type": "stream",
     "text": [
      "{'answer': \"Alphabet's revenue in Q2 2021 was $61.9 billion.\", 'sources': ['gs://cloud-samples-data/gen-app-builder/search/alphabet-investor-pdfs/2021Q2_alphabet_earnings_release.pdf1', 'gs://cloud-samples-data/gen-app-builder/search/alphabet-investor-pdfs/2021Q2_alphabet_earnings_release.pdf5', 'gs://cloud-samples-data/gen-app-builder/search/alphabet-investor-pdfs/2021Q2_alphabet_earnings_release.pdf2', 'gs://cloud-samples-data/gen-app-builder/search/alphabet-investor-pdfs/2022Q2_alphabet_earnings_release.pdf1', 'gs://cloud-samples-data/gen-app-builder/search/alphabet-investor-pdfs/2022Q2_alphabet_earnings_release.pdf5', 'gs://cloud-samples-data/gen-app-builder/search/alphabet-investor-pdfs/2022Q2_alphabet_earnings_release.pdf2', 'gs://cloud-samples-data/gen-app-builder/search/alphabet-investor-pdfs/2021Q1_alphabet_earnings_release.pdf1', 'gs://cloud-samples-data/gen-app-builder/search/alphabet-investor-pdfs/2021Q1_alphabet_earnings_release.pdf5', 'gs://cloud-samples-data/gen-app-builder/search/alphabet-investor-pdfs/2021Q1_alphabet_earnings_release.pdf2', 'gs://cloud-samples-data/gen-app-builder/search/alphabet-investor-pdfs/2021Q3_alphabet_earnings_release.pdf1', 'gs://cloud-samples-data/gen-app-builder/search/alphabet-investor-pdfs/2021Q3_alphabet_earnings_release.pdf5', 'gs://cloud-samples-data/gen-app-builder/search/alphabet-investor-pdfs/2021Q3_alphabet_earnings_release.pdf4', 'gs://cloud-samples-data/gen-app-builder/search/alphabet-investor-pdfs/2017Q2_alphabet_earnings_release.pdf1', 'gs://cloud-samples-data/gen-app-builder/search/alphabet-investor-pdfs/2017Q2_alphabet_earnings_release.pdf5', 'gs://cloud-samples-data/gen-app-builder/search/alphabet-investor-pdfs/2017Q2_alphabet_earnings_release.pdf7', 'gs://cloud-samples-data/gen-app-builder/search/alphabet-investor-pdfs/2018Q2_alphabet_earnings_release.pdf1', 'gs://cloud-samples-data/gen-app-builder/search/alphabet-investor-pdfs/2018Q2_alphabet_earnings_release.pdf6', 'gs://cloud-samples-data/gen-app-builder/search/alphabet-investor-pdfs/2018Q2_alphabet_earnings_release.pdf2', 'gs://cloud-samples-data/gen-app-builder/search/alphabet-investor-pdfs/2020Q2_alphabet_earnings_release.pdf1', 'gs://cloud-samples-data/gen-app-builder/search/alphabet-investor-pdfs/2020Q2_alphabet_earnings_release.pdf5', 'gs://cloud-samples-data/gen-app-builder/search/alphabet-investor-pdfs/2020Q2_alphabet_earnings_release.pdf2', 'gs://cloud-samples-data/gen-app-builder/search/alphabet-investor-pdfs/2024q2-alphabet-earnings-release.pdf1', 'gs://cloud-samples-data/gen-app-builder/search/alphabet-investor-pdfs/2024q2-alphabet-earnings-release.pdf5', 'gs://cloud-samples-data/gen-app-builder/search/alphabet-investor-pdfs/2024q2-alphabet-earnings-release.pdf2', 'gs://cloud-samples-data/gen-app-builder/search/alphabet-investor-pdfs/2021Q4_alphabet_earnings_release.pdf1', 'gs://cloud-samples-data/gen-app-builder/search/alphabet-investor-pdfs/2021Q4_alphabet_earnings_release.pdf5', 'gs://cloud-samples-data/gen-app-builder/search/alphabet-investor-pdfs/2021Q4_alphabet_earnings_release.pdf2', 'gs://cloud-samples-data/gen-app-builder/search/alphabet-investor-pdfs/2019Q1_alphabet_earnings_release.pdf1', 'gs://cloud-samples-data/gen-app-builder/search/alphabet-investor-pdfs/2019Q1_alphabet_earnings_release.pdf5', 'gs://cloud-samples-data/gen-app-builder/search/alphabet-investor-pdfs/2019Q1_alphabet_earnings_release.pdf6']}\n"
     ]
    }
   ],
   "source": [
    "def answer_with_sources(query: str):\n",
    "    # Reuse the chain\n",
    "    answer_bundle = run_retrieval_qa(query)\n",
    "    answer = answer_bundle[\"answer\"]\n",
    "    docs = answer_bundle[\"context\"]\n",
    "\n",
    "    # Extract likely source fields from Discovery Engine metadata\n",
    "    srcs = []\n",
    "    for d in docs:\n",
    "        uri = d.metadata.get(\"uri\") or d.metadata.get(\"source\") or d.metadata.get(\"link\")\n",
    "        title = d.metadata.get(\"title\") or d.metadata.get(\"document_title\")\n",
    "        if uri and title:\n",
    "            srcs.append(f\"{title} ({uri})\")\n",
    "        elif uri:\n",
    "            srcs.append(uri)\n",
    "        elif title:\n",
    "            srcs.append(title)\n",
    "\n",
    "    # De-dupe while preserving order\n",
    "    seen = set(); sources = []\n",
    "    for s in srcs:\n",
    "        if s and s not in seen:\n",
    "            sources.append(s); seen.add(s)\n",
    "\n",
    "    return {\"answer\": answer, \"sources\": sources}\n",
    "\n",
    "# ---- Demo ----\n",
    "print(answer_with_sources(\"What was Alphabet's Revenue in Q2 2021?\"))\n"
   ]
  },
  {
   "cell_type": "code",
   "execution_count": null,
   "id": "16e447af-8e3c-44b1-9e4d-813e9a167586",
   "metadata": {},
   "outputs": [],
   "source": []
  },
  {
   "cell_type": "markdown",
   "id": "80785581-b5c5-4fd9-8b7f-46fc84ca7824",
   "metadata": {},
   "source": [
    "\n",
    "## ConversationalRetrievalChain - multi‑turn via Discovery Engine"
   ]
  },
  {
   "cell_type": "markdown",
   "id": "fbd59214-a4fd-49d8-816a-55bd8c0a15b5",
   "metadata": {},
   "source": [
    "### Option A - Manually create convo, then track convo\n",
    "* Deterministic convo thread"
   ]
  },
  {
   "cell_type": "code",
   "execution_count": 12,
   "id": "8f8a4ec4-ad0b-440c-bcd7-30f2cc3d0b81",
   "metadata": {
    "tags": []
   },
   "outputs": [
    {
     "name": "stdout",
     "output_type": "stream",
     "text": [
      "Created conversation: projects/99312784907/locations/global/collections/default_collection/dataStores/qna-datastore-id/conversations/6805531938235914415\n",
      "Conversation ID: 6805531938235914415\n"
     ]
    }
   ],
   "source": [
    "from google.cloud import discoveryengine_v1\n",
    "\n",
    "# 1) Build parent path under your data store (note the default_collection segment)\n",
    "parent = (\n",
    "    f\"projects/{PROJECT_ID}\"\n",
    "    f\"/locations/{DATA_STORE_LOCATION}\"\n",
    "    f\"/collections/default_collection\"\n",
    "    f\"/dataStores/{DATA_STORE_ID}\"\n",
    ")\n",
    "\n",
    "# 2) Create a conversation (server assigns the ID)\n",
    "conv_client = discoveryengine_v1.ConversationalSearchServiceClient()\n",
    "\n",
    "# IMPORTANT: In v1 Python, create_conversation takes a request with 'parent' and 'conversation' ONLY.\n",
    "# No 'conversation_id' flattened kwarg is supported; the server generates the ID.\n",
    "# Ref: CreateConversationRequest docs (Python/Ruby/PHP show only parent + conversation)\n",
    "request = discoveryengine_v1.CreateConversationRequest(\n",
    "    parent=parent,\n",
    "    conversation=discoveryengine_v1.Conversation(),\n",
    ")\n",
    "\n",
    "conv = conv_client.create_conversation(request=request)\n",
    "print(\"Created conversation:\", conv.name)\n",
    "\n",
    "# 3) Extract the ID from the full resource name\n",
    "#    e.g. \"projects/.../dataStores/<DATA_STORE_ID>/conversations/<CONV_ID>\"\n",
    "conv_id = conv.name.split(\"/\")[-1]\n",
    "print(\"Conversation ID:\", conv_id)"
   ]
  },
  {
   "cell_type": "code",
   "execution_count": 14,
   "id": "b5ab5008-fcb2-4e24-b985-939a59c5cf2e",
   "metadata": {
    "tags": []
   },
   "outputs": [
    {
     "name": "stdout",
     "output_type": "stream",
     "text": [
      "Alphabet's revenues in 2022 were $282,836 million.\n",
      "Alphabet's cost structure has two components: cost of revenues and operating expenses. Operating expenses include costs related to R&D, sales and marketing, and general and administrative functions.\n",
      "It is not clear what \"this\" refers to in your question. Please provide more context.\n"
     ]
    }
   ],
   "source": [
    "from langchain_google_community import VertexAIMultiTurnSearchRetriever\n",
    "from langchain_core.runnables import RunnableLambda, RunnablePassthrough\n",
    "\n",
    "multi_turn_retriever = VertexAIMultiTurnSearchRetriever(\n",
    "    project_id=PROJECT_ID,\n",
    "    location_id=DATA_STORE_LOCATION,\n",
    "    data_store_id=DATA_STORE_ID,\n",
    "    conversation_id=conv_id,  # <-- use server-assigned ID\n",
    ")\n",
    "\n",
    "mt_retrieve_docs = RunnableLambda(lambda x: multi_turn_retriever.invoke(x[\"input\"]))\n",
    "mt_stuff_chain = (\n",
    "    RunnablePassthrough.assign(context=mt_retrieve_docs)\n",
    "    | to_context\n",
    "    | prompt\n",
    "    | llm\n",
    ")\n",
    "\n",
    "def chat_query(q: str):\n",
    "    out = (RunnablePassthrough()\n",
    "           | RunnablePassthrough.assign(input=lambda _: q)\n",
    "           | mt_stuff_chain).invoke({})\n",
    "    return out.content\n",
    "\n",
    "print(chat_query(\"What were alphabet revenues in 2022?\"))\n",
    "print(chat_query(\"What about costs and expenses?\"))\n",
    "print(chat_query(\"Is this more than in 2021?\"))"
   ]
  },
  {
   "cell_type": "markdown",
   "id": "c06dc89c-f848-4254-ac8b-ba7eda2e1120",
   "metadata": {},
   "source": [
    "### Option B - Let server manage conversation tracking\n",
    "VertexAIMultiTurnSearchRetriever’s conversation_id parameter defaults to \"-\". That “hyphen” is commonly used in Google APIs to indicate a **server‑managed resource selection/creation (an auto session for conversations). If you set conversation_id=\"-\", the service can auto‑manage the session**, and you won’t get NOT_FOUND. Caveat: you don’t control/persist a stable conversation name this way. If you need deterministic, reusable threads, prefer Option A"
   ]
  },
  {
   "cell_type": "code",
   "execution_count": 11,
   "id": "a32cb152-c85f-4886-bb46-3f2dd26c9ce6",
   "metadata": {
    "tags": []
   },
   "outputs": [
    {
     "name": "stdout",
     "output_type": "stream",
     "text": [
      "Alphabet revenues in 2022 were $282,836 million.\n",
      "Alphabet's cost structure has two components: cost of revenues and operating expenses. Operating expenses include costs related to R&D, sales and marketing, and general and administrative functions.\n",
      "I don't know.\n"
     ]
    }
   ],
   "source": [
    "multi_turn_retriever = VertexAIMultiTurnSearchRetriever(\n",
    "    project_id=PROJECT_ID,\n",
    "    location_id=DATA_STORE_LOCATION,\n",
    "    data_store_id=DATA_STORE_ID,\n",
    "    conversation_id=\"-\",  # server-managed auto-session\n",
    ")\n",
    "\n",
    "# Same prompt and llm as above; just swap the retriever in the pipeline\n",
    "mt_retrieve_docs = RunnableLambda(lambda x: multi_turn_retriever.invoke(x[\"input\"]))\n",
    "mt_stuff_chain = (\n",
    "    RunnablePassthrough.assign(context=mt_retrieve_docs)\n",
    "    | to_context\n",
    "    | prompt\n",
    "    | llm\n",
    ")\n",
    "\n",
    "def chat_query(q: str):\n",
    "    out = (RunnablePassthrough()\n",
    "           | RunnablePassthrough.assign(input=lambda x: q)\n",
    "           | mt_stuff_chain).invoke({})\n",
    "    return out.content\n",
    "\n",
    "print(chat_query(\"What were alphabet revenues in 2022?\"))\n",
    "print(chat_query(\"What about costs and expenses?\"))\n",
    "print(chat_query(\"Is this more than in 2021?\"))"
   ]
  },
  {
   "cell_type": "markdown",
   "id": "bae8e536-8086-4767-aada-36921c9813f2",
   "metadata": {},
   "source": [
    "# Task 5 Custom prompt (one‑word answers)"
   ]
  },
  {
   "cell_type": "code",
   "execution_count": 15,
   "id": "138c3c4e-f70a-4d3d-80ec-8b1dc91654d3",
   "metadata": {
    "tags": []
   },
   "outputs": [
    {
     "name": "stderr",
     "output_type": "stream",
     "text": [
      "WARNING:langchain_google_vertexai._retry:Retrying langchain_google_vertexai.chat_models._completion_with_retry.<locals>._completion_with_retry_inner in 4.0 seconds as it raised InvalidArgument: 400 Unable to submit request because at least one contents field is required. Learn more: https://cloud.google.com/vertex-ai/generative-ai/docs/model-reference/gemini.\n",
      "WARNING:langchain_google_vertexai._retry:Retrying langchain_google_vertexai.chat_models._completion_with_retry.<locals>._completion_with_retry_inner in 4.0 seconds as it raised InvalidArgument: 400 Unable to submit request because at least one contents field is required. Learn more: https://cloud.google.com/vertex-ai/generative-ai/docs/model-reference/gemini.\n",
      "WARNING:langchain_google_vertexai._retry:Retrying langchain_google_vertexai.chat_models._completion_with_retry.<locals>._completion_with_retry_inner in 4.0 seconds as it raised InvalidArgument: 400 Unable to submit request because at least one contents field is required. Learn more: https://cloud.google.com/vertex-ai/generative-ai/docs/model-reference/gemini.\n",
      "WARNING:langchain_google_vertexai._retry:Retrying langchain_google_vertexai.chat_models._completion_with_retry.<locals>._completion_with_retry_inner in 8.0 seconds as it raised InvalidArgument: 400 Unable to submit request because at least one contents field is required. Learn more: https://cloud.google.com/vertex-ai/generative-ai/docs/model-reference/gemini.\n",
      "WARNING:langchain_google_vertexai._retry:Retrying langchain_google_vertexai.chat_models._completion_with_retry.<locals>._completion_with_retry_inner in 10.0 seconds as it raised InvalidArgument: 400 Unable to submit request because at least one contents field is required. Learn more: https://cloud.google.com/vertex-ai/generative-ai/docs/model-reference/gemini.\n"
     ]
    },
    {
     "ename": "InvalidArgument",
     "evalue": "400 Unable to submit request because at least one contents field is required. Learn more: https://cloud.google.com/vertex-ai/generative-ai/docs/model-reference/gemini",
     "output_type": "error",
     "traceback": [
      "\u001b[0;31m---------------------------------------------------------------------------\u001b[0m",
      "\u001b[0;31m_InactiveRpcError\u001b[0m                         Traceback (most recent call last)",
      "File \u001b[0;32m/opt/conda/lib/python3.10/site-packages/google/api_core/grpc_helpers.py:75\u001b[0m, in \u001b[0;36m_wrap_unary_errors.<locals>.error_remapped_callable\u001b[0;34m(*args, **kwargs)\u001b[0m\n\u001b[1;32m     74\u001b[0m \u001b[38;5;28;01mtry\u001b[39;00m:\n\u001b[0;32m---> 75\u001b[0m     \u001b[38;5;28;01mreturn\u001b[39;00m \u001b[43mcallable_\u001b[49m\u001b[43m(\u001b[49m\u001b[38;5;241;43m*\u001b[39;49m\u001b[43margs\u001b[49m\u001b[43m,\u001b[49m\u001b[43m \u001b[49m\u001b[38;5;241;43m*\u001b[39;49m\u001b[38;5;241;43m*\u001b[39;49m\u001b[43mkwargs\u001b[49m\u001b[43m)\u001b[49m\n\u001b[1;32m     76\u001b[0m \u001b[38;5;28;01mexcept\u001b[39;00m grpc\u001b[38;5;241m.\u001b[39mRpcError \u001b[38;5;28;01mas\u001b[39;00m exc:\n",
      "File \u001b[0;32m/opt/conda/lib/python3.10/site-packages/grpc/_interceptor.py:277\u001b[0m, in \u001b[0;36m_UnaryUnaryMultiCallable.__call__\u001b[0;34m(self, request, timeout, metadata, credentials, wait_for_ready, compression)\u001b[0m\n\u001b[1;32m    268\u001b[0m \u001b[38;5;28;01mdef\u001b[39;00m\u001b[38;5;250m \u001b[39m\u001b[38;5;21m__call__\u001b[39m(\n\u001b[1;32m    269\u001b[0m     \u001b[38;5;28mself\u001b[39m,\n\u001b[1;32m    270\u001b[0m     request: Any,\n\u001b[0;32m   (...)\u001b[0m\n\u001b[1;32m    275\u001b[0m     compression: Optional[grpc\u001b[38;5;241m.\u001b[39mCompression] \u001b[38;5;241m=\u001b[39m \u001b[38;5;28;01mNone\u001b[39;00m,\n\u001b[1;32m    276\u001b[0m ) \u001b[38;5;241m-\u001b[39m\u001b[38;5;241m>\u001b[39m Any:\n\u001b[0;32m--> 277\u001b[0m     response, ignored_call \u001b[38;5;241m=\u001b[39m \u001b[38;5;28;43mself\u001b[39;49m\u001b[38;5;241;43m.\u001b[39;49m\u001b[43m_with_call\u001b[49m\u001b[43m(\u001b[49m\n\u001b[1;32m    278\u001b[0m \u001b[43m        \u001b[49m\u001b[43mrequest\u001b[49m\u001b[43m,\u001b[49m\n\u001b[1;32m    279\u001b[0m \u001b[43m        \u001b[49m\u001b[43mtimeout\u001b[49m\u001b[38;5;241;43m=\u001b[39;49m\u001b[43mtimeout\u001b[49m\u001b[43m,\u001b[49m\n\u001b[1;32m    280\u001b[0m \u001b[43m        \u001b[49m\u001b[43mmetadata\u001b[49m\u001b[38;5;241;43m=\u001b[39;49m\u001b[43mmetadata\u001b[49m\u001b[43m,\u001b[49m\n\u001b[1;32m    281\u001b[0m \u001b[43m        \u001b[49m\u001b[43mcredentials\u001b[49m\u001b[38;5;241;43m=\u001b[39;49m\u001b[43mcredentials\u001b[49m\u001b[43m,\u001b[49m\n\u001b[1;32m    282\u001b[0m \u001b[43m        \u001b[49m\u001b[43mwait_for_ready\u001b[49m\u001b[38;5;241;43m=\u001b[39;49m\u001b[43mwait_for_ready\u001b[49m\u001b[43m,\u001b[49m\n\u001b[1;32m    283\u001b[0m \u001b[43m        \u001b[49m\u001b[43mcompression\u001b[49m\u001b[38;5;241;43m=\u001b[39;49m\u001b[43mcompression\u001b[49m\u001b[43m,\u001b[49m\n\u001b[1;32m    284\u001b[0m \u001b[43m    \u001b[49m\u001b[43m)\u001b[49m\n\u001b[1;32m    285\u001b[0m     \u001b[38;5;28;01mreturn\u001b[39;00m response\n",
      "File \u001b[0;32m/opt/conda/lib/python3.10/site-packages/grpc/_interceptor.py:332\u001b[0m, in \u001b[0;36m_UnaryUnaryMultiCallable._with_call\u001b[0;34m(self, request, timeout, metadata, credentials, wait_for_ready, compression)\u001b[0m\n\u001b[1;32m    329\u001b[0m call \u001b[38;5;241m=\u001b[39m \u001b[38;5;28mself\u001b[39m\u001b[38;5;241m.\u001b[39m_interceptor\u001b[38;5;241m.\u001b[39mintercept_unary_unary(\n\u001b[1;32m    330\u001b[0m     continuation, client_call_details, request\n\u001b[1;32m    331\u001b[0m )\n\u001b[0;32m--> 332\u001b[0m \u001b[38;5;28;01mreturn\u001b[39;00m \u001b[43mcall\u001b[49m\u001b[38;5;241;43m.\u001b[39;49m\u001b[43mresult\u001b[49m\u001b[43m(\u001b[49m\u001b[43m)\u001b[49m, call\n",
      "File \u001b[0;32m/opt/conda/lib/python3.10/site-packages/grpc/_channel.py:440\u001b[0m, in \u001b[0;36m_InactiveRpcError.result\u001b[0;34m(self, timeout)\u001b[0m\n\u001b[1;32m    439\u001b[0m \u001b[38;5;250m\u001b[39m\u001b[38;5;124;03m\"\"\"See grpc.Future.result.\"\"\"\u001b[39;00m\n\u001b[0;32m--> 440\u001b[0m \u001b[38;5;28;01mraise\u001b[39;00m \u001b[38;5;28mself\u001b[39m\n",
      "File \u001b[0;32m/opt/conda/lib/python3.10/site-packages/grpc/_interceptor.py:315\u001b[0m, in \u001b[0;36m_UnaryUnaryMultiCallable._with_call.<locals>.continuation\u001b[0;34m(new_details, request)\u001b[0m\n\u001b[1;32m    314\u001b[0m \u001b[38;5;28;01mtry\u001b[39;00m:\n\u001b[0;32m--> 315\u001b[0m     response, call \u001b[38;5;241m=\u001b[39m \u001b[38;5;28;43mself\u001b[39;49m\u001b[38;5;241;43m.\u001b[39;49m\u001b[43m_thunk\u001b[49m\u001b[43m(\u001b[49m\u001b[43mnew_method\u001b[49m\u001b[43m)\u001b[49m\u001b[38;5;241;43m.\u001b[39;49m\u001b[43mwith_call\u001b[49m\u001b[43m(\u001b[49m\n\u001b[1;32m    316\u001b[0m \u001b[43m        \u001b[49m\u001b[43mrequest\u001b[49m\u001b[43m,\u001b[49m\n\u001b[1;32m    317\u001b[0m \u001b[43m        \u001b[49m\u001b[43mtimeout\u001b[49m\u001b[38;5;241;43m=\u001b[39;49m\u001b[43mnew_timeout\u001b[49m\u001b[43m,\u001b[49m\n\u001b[1;32m    318\u001b[0m \u001b[43m        \u001b[49m\u001b[43mmetadata\u001b[49m\u001b[38;5;241;43m=\u001b[39;49m\u001b[43mnew_metadata\u001b[49m\u001b[43m,\u001b[49m\n\u001b[1;32m    319\u001b[0m \u001b[43m        \u001b[49m\u001b[43mcredentials\u001b[49m\u001b[38;5;241;43m=\u001b[39;49m\u001b[43mnew_credentials\u001b[49m\u001b[43m,\u001b[49m\n\u001b[1;32m    320\u001b[0m \u001b[43m        \u001b[49m\u001b[43mwait_for_ready\u001b[49m\u001b[38;5;241;43m=\u001b[39;49m\u001b[43mnew_wait_for_ready\u001b[49m\u001b[43m,\u001b[49m\n\u001b[1;32m    321\u001b[0m \u001b[43m        \u001b[49m\u001b[43mcompression\u001b[49m\u001b[38;5;241;43m=\u001b[39;49m\u001b[43mnew_compression\u001b[49m\u001b[43m,\u001b[49m\n\u001b[1;32m    322\u001b[0m \u001b[43m    \u001b[49m\u001b[43m)\u001b[49m\n\u001b[1;32m    323\u001b[0m     \u001b[38;5;28;01mreturn\u001b[39;00m _UnaryOutcome(response, call)\n",
      "File \u001b[0;32m/opt/conda/lib/python3.10/site-packages/grpc/_channel.py:1195\u001b[0m, in \u001b[0;36m_UnaryUnaryMultiCallable.with_call\u001b[0;34m(self, request, timeout, metadata, credentials, wait_for_ready, compression)\u001b[0m\n\u001b[1;32m   1192\u001b[0m state, call \u001b[38;5;241m=\u001b[39m \u001b[38;5;28mself\u001b[39m\u001b[38;5;241m.\u001b[39m_blocking(\n\u001b[1;32m   1193\u001b[0m     request, timeout, metadata, credentials, wait_for_ready, compression\n\u001b[1;32m   1194\u001b[0m )\n\u001b[0;32m-> 1195\u001b[0m \u001b[38;5;28;01mreturn\u001b[39;00m \u001b[43m_end_unary_response_blocking\u001b[49m\u001b[43m(\u001b[49m\u001b[43mstate\u001b[49m\u001b[43m,\u001b[49m\u001b[43m \u001b[49m\u001b[43mcall\u001b[49m\u001b[43m,\u001b[49m\u001b[43m \u001b[49m\u001b[38;5;28;43;01mTrue\u001b[39;49;00m\u001b[43m,\u001b[49m\u001b[43m \u001b[49m\u001b[38;5;28;43;01mNone\u001b[39;49;00m\u001b[43m)\u001b[49m\n",
      "File \u001b[0;32m/opt/conda/lib/python3.10/site-packages/grpc/_channel.py:1009\u001b[0m, in \u001b[0;36m_end_unary_response_blocking\u001b[0;34m(state, call, with_call, deadline)\u001b[0m\n\u001b[1;32m   1008\u001b[0m \u001b[38;5;28;01melse\u001b[39;00m:\n\u001b[0;32m-> 1009\u001b[0m     \u001b[38;5;28;01mraise\u001b[39;00m _InactiveRpcError(state)\n",
      "\u001b[0;31m_InactiveRpcError\u001b[0m: <_InactiveRpcError of RPC that terminated with:\n\tstatus = StatusCode.INVALID_ARGUMENT\n\tdetails = \"Unable to submit request because at least one contents field is required. Learn more: https://cloud.google.com/vertex-ai/generative-ai/docs/model-reference/gemini\"\n\tdebug_error_string = \"UNKNOWN:Error received from peer ipv4:173.194.206.95:443 {grpc_status:3, grpc_message:\"Unable to submit request because at least one contents field is required. Learn more: https://cloud.google.com/vertex-ai/generative-ai/docs/model-reference/gemini\"}\"\n>",
      "\nThe above exception was the direct cause of the following exception:\n",
      "\u001b[0;31mInvalidArgument\u001b[0m                           Traceback (most recent call last)",
      "Cell \u001b[0;32mIn[15], line 34\u001b[0m\n\u001b[1;32m     31\u001b[0m     \u001b[38;5;66;03m# msg is AIMessage\u001b[39;00m\n\u001b[1;32m     32\u001b[0m     \u001b[38;5;28;01mreturn\u001b[39;00m msg\u001b[38;5;241m.\u001b[39mcontent\n\u001b[0;32m---> 34\u001b[0m \u001b[38;5;28mprint\u001b[39m(\u001b[43mone_word_qa\u001b[49m\u001b[43m(\u001b[49m\u001b[38;5;124;43m\"\u001b[39;49m\u001b[38;5;124;43mWere 2020 EMEA revenues higher than 2020 APAC revenues?\u001b[39;49m\u001b[38;5;124;43m\"\u001b[39;49m\u001b[43m)\u001b[49m)\n",
      "Cell \u001b[0;32mIn[15], line 30\u001b[0m, in \u001b[0;36mone_word_qa\u001b[0;34m(q)\u001b[0m\n\u001b[1;32m     27\u001b[0m \u001b[38;5;28;01mdef\u001b[39;00m\u001b[38;5;250m \u001b[39m\u001b[38;5;21mone_word_qa\u001b[39m(q: \u001b[38;5;28mstr\u001b[39m):\n\u001b[1;32m     28\u001b[0m     msg \u001b[38;5;241m=\u001b[39m \u001b[43m(\u001b[49m\u001b[43mRunnablePassthrough\u001b[49m\u001b[43m(\u001b[49m\u001b[43m)\u001b[49m\n\u001b[1;32m     29\u001b[0m \u001b[43m           \u001b[49m\u001b[38;5;241;43m|\u001b[39;49m\u001b[43m \u001b[49m\u001b[43mRunnablePassthrough\u001b[49m\u001b[38;5;241;43m.\u001b[39;49m\u001b[43massign\u001b[49m\u001b[43m(\u001b[49m\u001b[38;5;28;43minput\u001b[39;49m\u001b[38;5;241;43m=\u001b[39;49m\u001b[38;5;28;43;01mlambda\u001b[39;49;00m\u001b[43m \u001b[49m\u001b[43mx\u001b[49m\u001b[43m:\u001b[49m\u001b[43m \u001b[49m\u001b[43mq\u001b[49m\u001b[43m)\u001b[49m\n\u001b[0;32m---> 30\u001b[0m \u001b[43m           \u001b[49m\u001b[38;5;241;43m|\u001b[39;49m\u001b[43m \u001b[49m\u001b[43mone_word_chain\u001b[49m\u001b[43m)\u001b[49m\u001b[38;5;241;43m.\u001b[39;49m\u001b[43minvoke\u001b[49m\u001b[43m(\u001b[49m\u001b[43m{\u001b[49m\u001b[43m}\u001b[49m\u001b[43m)\u001b[49m\n\u001b[1;32m     31\u001b[0m     \u001b[38;5;66;03m# msg is AIMessage\u001b[39;00m\n\u001b[1;32m     32\u001b[0m     \u001b[38;5;28;01mreturn\u001b[39;00m msg\u001b[38;5;241m.\u001b[39mcontent\n",
      "File \u001b[0;32m/opt/conda/lib/python3.10/site-packages/langchain_core/runnables/base.py:3093\u001b[0m, in \u001b[0;36mRunnableSequence.invoke\u001b[0;34m(self, input, config, **kwargs)\u001b[0m\n\u001b[1;32m   3091\u001b[0m                 input_ \u001b[38;5;241m=\u001b[39m context\u001b[38;5;241m.\u001b[39mrun(step\u001b[38;5;241m.\u001b[39minvoke, input_, config, \u001b[38;5;241m*\u001b[39m\u001b[38;5;241m*\u001b[39mkwargs)\n\u001b[1;32m   3092\u001b[0m             \u001b[38;5;28;01melse\u001b[39;00m:\n\u001b[0;32m-> 3093\u001b[0m                 input_ \u001b[38;5;241m=\u001b[39m \u001b[43mcontext\u001b[49m\u001b[38;5;241;43m.\u001b[39;49m\u001b[43mrun\u001b[49m\u001b[43m(\u001b[49m\u001b[43mstep\u001b[49m\u001b[38;5;241;43m.\u001b[39;49m\u001b[43minvoke\u001b[49m\u001b[43m,\u001b[49m\u001b[43m \u001b[49m\u001b[43minput_\u001b[49m\u001b[43m,\u001b[49m\u001b[43m \u001b[49m\u001b[43mconfig\u001b[49m\u001b[43m)\u001b[49m\n\u001b[1;32m   3094\u001b[0m \u001b[38;5;66;03m# finish the root run\u001b[39;00m\n\u001b[1;32m   3095\u001b[0m \u001b[38;5;28;01mexcept\u001b[39;00m \u001b[38;5;167;01mBaseException\u001b[39;00m \u001b[38;5;28;01mas\u001b[39;00m e:\n",
      "File \u001b[0;32m/opt/conda/lib/python3.10/site-packages/langchain_core/language_models/chat_models.py:379\u001b[0m, in \u001b[0;36mBaseChatModel.invoke\u001b[0;34m(self, input, config, stop, **kwargs)\u001b[0m\n\u001b[1;32m    365\u001b[0m \u001b[38;5;129m@override\u001b[39m\n\u001b[1;32m    366\u001b[0m \u001b[38;5;28;01mdef\u001b[39;00m\u001b[38;5;250m \u001b[39m\u001b[38;5;21minvoke\u001b[39m(\n\u001b[1;32m    367\u001b[0m     \u001b[38;5;28mself\u001b[39m,\n\u001b[0;32m   (...)\u001b[0m\n\u001b[1;32m    372\u001b[0m     \u001b[38;5;241m*\u001b[39m\u001b[38;5;241m*\u001b[39mkwargs: Any,\n\u001b[1;32m    373\u001b[0m ) \u001b[38;5;241m-\u001b[39m\u001b[38;5;241m>\u001b[39m AIMessage:\n\u001b[1;32m    374\u001b[0m     config \u001b[38;5;241m=\u001b[39m ensure_config(config)\n\u001b[1;32m    375\u001b[0m     \u001b[38;5;28;01mreturn\u001b[39;00m cast(\n\u001b[1;32m    376\u001b[0m         \u001b[38;5;124m\"\u001b[39m\u001b[38;5;124mAIMessage\u001b[39m\u001b[38;5;124m\"\u001b[39m,\n\u001b[1;32m    377\u001b[0m         cast(\n\u001b[1;32m    378\u001b[0m             \u001b[38;5;124m\"\u001b[39m\u001b[38;5;124mChatGeneration\u001b[39m\u001b[38;5;124m\"\u001b[39m,\n\u001b[0;32m--> 379\u001b[0m             \u001b[38;5;28;43mself\u001b[39;49m\u001b[38;5;241;43m.\u001b[39;49m\u001b[43mgenerate_prompt\u001b[49m\u001b[43m(\u001b[49m\n\u001b[1;32m    380\u001b[0m \u001b[43m                \u001b[49m\u001b[43m[\u001b[49m\u001b[38;5;28;43mself\u001b[39;49m\u001b[38;5;241;43m.\u001b[39;49m\u001b[43m_convert_input\u001b[49m\u001b[43m(\u001b[49m\u001b[38;5;28;43minput\u001b[39;49m\u001b[43m)\u001b[49m\u001b[43m]\u001b[49m\u001b[43m,\u001b[49m\n\u001b[1;32m    381\u001b[0m \u001b[43m                \u001b[49m\u001b[43mstop\u001b[49m\u001b[38;5;241;43m=\u001b[39;49m\u001b[43mstop\u001b[49m\u001b[43m,\u001b[49m\n\u001b[1;32m    382\u001b[0m \u001b[43m                \u001b[49m\u001b[43mcallbacks\u001b[49m\u001b[38;5;241;43m=\u001b[39;49m\u001b[43mconfig\u001b[49m\u001b[38;5;241;43m.\u001b[39;49m\u001b[43mget\u001b[49m\u001b[43m(\u001b[49m\u001b[38;5;124;43m\"\u001b[39;49m\u001b[38;5;124;43mcallbacks\u001b[39;49m\u001b[38;5;124;43m\"\u001b[39;49m\u001b[43m)\u001b[49m\u001b[43m,\u001b[49m\n\u001b[1;32m    383\u001b[0m \u001b[43m                \u001b[49m\u001b[43mtags\u001b[49m\u001b[38;5;241;43m=\u001b[39;49m\u001b[43mconfig\u001b[49m\u001b[38;5;241;43m.\u001b[39;49m\u001b[43mget\u001b[49m\u001b[43m(\u001b[49m\u001b[38;5;124;43m\"\u001b[39;49m\u001b[38;5;124;43mtags\u001b[39;49m\u001b[38;5;124;43m\"\u001b[39;49m\u001b[43m)\u001b[49m\u001b[43m,\u001b[49m\n\u001b[1;32m    384\u001b[0m \u001b[43m                \u001b[49m\u001b[43mmetadata\u001b[49m\u001b[38;5;241;43m=\u001b[39;49m\u001b[43mconfig\u001b[49m\u001b[38;5;241;43m.\u001b[39;49m\u001b[43mget\u001b[49m\u001b[43m(\u001b[49m\u001b[38;5;124;43m\"\u001b[39;49m\u001b[38;5;124;43mmetadata\u001b[39;49m\u001b[38;5;124;43m\"\u001b[39;49m\u001b[43m)\u001b[49m\u001b[43m,\u001b[49m\n\u001b[1;32m    385\u001b[0m \u001b[43m                \u001b[49m\u001b[43mrun_name\u001b[49m\u001b[38;5;241;43m=\u001b[39;49m\u001b[43mconfig\u001b[49m\u001b[38;5;241;43m.\u001b[39;49m\u001b[43mget\u001b[49m\u001b[43m(\u001b[49m\u001b[38;5;124;43m\"\u001b[39;49m\u001b[38;5;124;43mrun_name\u001b[39;49m\u001b[38;5;124;43m\"\u001b[39;49m\u001b[43m)\u001b[49m\u001b[43m,\u001b[49m\n\u001b[1;32m    386\u001b[0m \u001b[43m                \u001b[49m\u001b[43mrun_id\u001b[49m\u001b[38;5;241;43m=\u001b[39;49m\u001b[43mconfig\u001b[49m\u001b[38;5;241;43m.\u001b[39;49m\u001b[43mpop\u001b[49m\u001b[43m(\u001b[49m\u001b[38;5;124;43m\"\u001b[39;49m\u001b[38;5;124;43mrun_id\u001b[39;49m\u001b[38;5;124;43m\"\u001b[39;49m\u001b[43m,\u001b[49m\u001b[43m \u001b[49m\u001b[38;5;28;43;01mNone\u001b[39;49;00m\u001b[43m)\u001b[49m\u001b[43m,\u001b[49m\n\u001b[1;32m    387\u001b[0m \u001b[43m                \u001b[49m\u001b[38;5;241;43m*\u001b[39;49m\u001b[38;5;241;43m*\u001b[39;49m\u001b[43mkwargs\u001b[49m\u001b[43m,\u001b[49m\n\u001b[1;32m    388\u001b[0m \u001b[43m            \u001b[49m\u001b[43m)\u001b[49m\u001b[38;5;241m.\u001b[39mgenerations[\u001b[38;5;241m0\u001b[39m][\u001b[38;5;241m0\u001b[39m],\n\u001b[1;32m    389\u001b[0m         )\u001b[38;5;241m.\u001b[39mmessage,\n\u001b[1;32m    390\u001b[0m     )\n",
      "File \u001b[0;32m/opt/conda/lib/python3.10/site-packages/langchain_core/language_models/chat_models.py:1088\u001b[0m, in \u001b[0;36mBaseChatModel.generate_prompt\u001b[0;34m(self, prompts, stop, callbacks, **kwargs)\u001b[0m\n\u001b[1;32m   1079\u001b[0m \u001b[38;5;129m@override\u001b[39m\n\u001b[1;32m   1080\u001b[0m \u001b[38;5;28;01mdef\u001b[39;00m\u001b[38;5;250m \u001b[39m\u001b[38;5;21mgenerate_prompt\u001b[39m(\n\u001b[1;32m   1081\u001b[0m     \u001b[38;5;28mself\u001b[39m,\n\u001b[0;32m   (...)\u001b[0m\n\u001b[1;32m   1085\u001b[0m     \u001b[38;5;241m*\u001b[39m\u001b[38;5;241m*\u001b[39mkwargs: Any,\n\u001b[1;32m   1086\u001b[0m ) \u001b[38;5;241m-\u001b[39m\u001b[38;5;241m>\u001b[39m LLMResult:\n\u001b[1;32m   1087\u001b[0m     prompt_messages \u001b[38;5;241m=\u001b[39m [p\u001b[38;5;241m.\u001b[39mto_messages() \u001b[38;5;28;01mfor\u001b[39;00m p \u001b[38;5;129;01min\u001b[39;00m prompts]\n\u001b[0;32m-> 1088\u001b[0m     \u001b[38;5;28;01mreturn\u001b[39;00m \u001b[38;5;28;43mself\u001b[39;49m\u001b[38;5;241;43m.\u001b[39;49m\u001b[43mgenerate\u001b[49m\u001b[43m(\u001b[49m\u001b[43mprompt_messages\u001b[49m\u001b[43m,\u001b[49m\u001b[43m \u001b[49m\u001b[43mstop\u001b[49m\u001b[38;5;241;43m=\u001b[39;49m\u001b[43mstop\u001b[49m\u001b[43m,\u001b[49m\u001b[43m \u001b[49m\u001b[43mcallbacks\u001b[49m\u001b[38;5;241;43m=\u001b[39;49m\u001b[43mcallbacks\u001b[49m\u001b[43m,\u001b[49m\u001b[43m \u001b[49m\u001b[38;5;241;43m*\u001b[39;49m\u001b[38;5;241;43m*\u001b[39;49m\u001b[43mkwargs\u001b[49m\u001b[43m)\u001b[49m\n",
      "File \u001b[0;32m/opt/conda/lib/python3.10/site-packages/langchain_core/language_models/chat_models.py:903\u001b[0m, in \u001b[0;36mBaseChatModel.generate\u001b[0;34m(self, messages, stop, callbacks, tags, metadata, run_name, run_id, **kwargs)\u001b[0m\n\u001b[1;32m    900\u001b[0m \u001b[38;5;28;01mfor\u001b[39;00m i, m \u001b[38;5;129;01min\u001b[39;00m \u001b[38;5;28menumerate\u001b[39m(input_messages):\n\u001b[1;32m    901\u001b[0m     \u001b[38;5;28;01mtry\u001b[39;00m:\n\u001b[1;32m    902\u001b[0m         results\u001b[38;5;241m.\u001b[39mappend(\n\u001b[0;32m--> 903\u001b[0m             \u001b[38;5;28;43mself\u001b[39;49m\u001b[38;5;241;43m.\u001b[39;49m\u001b[43m_generate_with_cache\u001b[49m\u001b[43m(\u001b[49m\n\u001b[1;32m    904\u001b[0m \u001b[43m                \u001b[49m\u001b[43mm\u001b[49m\u001b[43m,\u001b[49m\n\u001b[1;32m    905\u001b[0m \u001b[43m                \u001b[49m\u001b[43mstop\u001b[49m\u001b[38;5;241;43m=\u001b[39;49m\u001b[43mstop\u001b[49m\u001b[43m,\u001b[49m\n\u001b[1;32m    906\u001b[0m \u001b[43m                \u001b[49m\u001b[43mrun_manager\u001b[49m\u001b[38;5;241;43m=\u001b[39;49m\u001b[43mrun_managers\u001b[49m\u001b[43m[\u001b[49m\u001b[43mi\u001b[49m\u001b[43m]\u001b[49m\u001b[43m \u001b[49m\u001b[38;5;28;43;01mif\u001b[39;49;00m\u001b[43m \u001b[49m\u001b[43mrun_managers\u001b[49m\u001b[43m \u001b[49m\u001b[38;5;28;43;01melse\u001b[39;49;00m\u001b[43m \u001b[49m\u001b[38;5;28;43;01mNone\u001b[39;49;00m\u001b[43m,\u001b[49m\n\u001b[1;32m    907\u001b[0m \u001b[43m                \u001b[49m\u001b[38;5;241;43m*\u001b[39;49m\u001b[38;5;241;43m*\u001b[39;49m\u001b[43mkwargs\u001b[49m\u001b[43m,\u001b[49m\n\u001b[1;32m    908\u001b[0m \u001b[43m            \u001b[49m\u001b[43m)\u001b[49m\n\u001b[1;32m    909\u001b[0m         )\n\u001b[1;32m    910\u001b[0m     \u001b[38;5;28;01mexcept\u001b[39;00m \u001b[38;5;167;01mBaseException\u001b[39;00m \u001b[38;5;28;01mas\u001b[39;00m e:\n\u001b[1;32m    911\u001b[0m         \u001b[38;5;28;01mif\u001b[39;00m run_managers:\n",
      "File \u001b[0;32m/opt/conda/lib/python3.10/site-packages/langchain_core/language_models/chat_models.py:1192\u001b[0m, in \u001b[0;36mBaseChatModel._generate_with_cache\u001b[0;34m(self, messages, stop, run_manager, **kwargs)\u001b[0m\n\u001b[1;32m   1190\u001b[0m     result \u001b[38;5;241m=\u001b[39m generate_from_stream(\u001b[38;5;28miter\u001b[39m(chunks))\n\u001b[1;32m   1191\u001b[0m \u001b[38;5;28;01melif\u001b[39;00m inspect\u001b[38;5;241m.\u001b[39msignature(\u001b[38;5;28mself\u001b[39m\u001b[38;5;241m.\u001b[39m_generate)\u001b[38;5;241m.\u001b[39mparameters\u001b[38;5;241m.\u001b[39mget(\u001b[38;5;124m\"\u001b[39m\u001b[38;5;124mrun_manager\u001b[39m\u001b[38;5;124m\"\u001b[39m):\n\u001b[0;32m-> 1192\u001b[0m     result \u001b[38;5;241m=\u001b[39m \u001b[38;5;28;43mself\u001b[39;49m\u001b[38;5;241;43m.\u001b[39;49m\u001b[43m_generate\u001b[49m\u001b[43m(\u001b[49m\n\u001b[1;32m   1193\u001b[0m \u001b[43m        \u001b[49m\u001b[43mmessages\u001b[49m\u001b[43m,\u001b[49m\u001b[43m \u001b[49m\u001b[43mstop\u001b[49m\u001b[38;5;241;43m=\u001b[39;49m\u001b[43mstop\u001b[49m\u001b[43m,\u001b[49m\u001b[43m \u001b[49m\u001b[43mrun_manager\u001b[49m\u001b[38;5;241;43m=\u001b[39;49m\u001b[43mrun_manager\u001b[49m\u001b[43m,\u001b[49m\u001b[43m \u001b[49m\u001b[38;5;241;43m*\u001b[39;49m\u001b[38;5;241;43m*\u001b[39;49m\u001b[43mkwargs\u001b[49m\n\u001b[1;32m   1194\u001b[0m \u001b[43m    \u001b[49m\u001b[43m)\u001b[49m\n\u001b[1;32m   1195\u001b[0m \u001b[38;5;28;01melse\u001b[39;00m:\n\u001b[1;32m   1196\u001b[0m     result \u001b[38;5;241m=\u001b[39m \u001b[38;5;28mself\u001b[39m\u001b[38;5;241m.\u001b[39m_generate(messages, stop\u001b[38;5;241m=\u001b[39mstop, \u001b[38;5;241m*\u001b[39m\u001b[38;5;241m*\u001b[39mkwargs)\n",
      "File \u001b[0;32m~/.local/lib/python3.10/site-packages/langchain_google_vertexai/chat_models.py:1945\u001b[0m, in \u001b[0;36mChatVertexAI._generate\u001b[0;34m(self, messages, stop, run_manager, stream, **kwargs)\u001b[0m\n\u001b[1;32m   1941\u001b[0m     stream_iter \u001b[38;5;241m=\u001b[39m \u001b[38;5;28mself\u001b[39m\u001b[38;5;241m.\u001b[39m_stream(\n\u001b[1;32m   1942\u001b[0m         messages, stop\u001b[38;5;241m=\u001b[39mstop, run_manager\u001b[38;5;241m=\u001b[39mrun_manager, \u001b[38;5;241m*\u001b[39m\u001b[38;5;241m*\u001b[39mkwargs\n\u001b[1;32m   1943\u001b[0m     )\n\u001b[1;32m   1944\u001b[0m     \u001b[38;5;28;01mreturn\u001b[39;00m generate_from_stream(stream_iter)\n\u001b[0;32m-> 1945\u001b[0m \u001b[38;5;28;01mreturn\u001b[39;00m \u001b[38;5;28;43mself\u001b[39;49m\u001b[38;5;241;43m.\u001b[39;49m\u001b[43m_generate_gemini\u001b[49m\u001b[43m(\u001b[49m\n\u001b[1;32m   1946\u001b[0m \u001b[43m    \u001b[49m\u001b[43mmessages\u001b[49m\u001b[38;5;241;43m=\u001b[39;49m\u001b[43mmessages\u001b[49m\u001b[43m,\u001b[49m\n\u001b[1;32m   1947\u001b[0m \u001b[43m    \u001b[49m\u001b[43mstop\u001b[49m\u001b[38;5;241;43m=\u001b[39;49m\u001b[43mstop\u001b[49m\u001b[43m,\u001b[49m\n\u001b[1;32m   1948\u001b[0m \u001b[43m    \u001b[49m\u001b[43mrun_manager\u001b[49m\u001b[38;5;241;43m=\u001b[39;49m\u001b[43mrun_manager\u001b[49m\u001b[43m,\u001b[49m\n\u001b[1;32m   1949\u001b[0m \u001b[43m    \u001b[49m\u001b[38;5;241;43m*\u001b[39;49m\u001b[38;5;241;43m*\u001b[39;49m\u001b[43mkwargs\u001b[49m\u001b[43m,\u001b[49m\n\u001b[1;32m   1950\u001b[0m \u001b[43m\u001b[49m\u001b[43m)\u001b[49m\n",
      "File \u001b[0;32m~/.local/lib/python3.10/site-packages/langchain_google_vertexai/chat_models.py:2215\u001b[0m, in \u001b[0;36mChatVertexAI._generate_gemini\u001b[0;34m(self, messages, stop, run_manager, **kwargs)\u001b[0m\n\u001b[1;32m   2207\u001b[0m \u001b[38;5;28;01mdef\u001b[39;00m\u001b[38;5;250m \u001b[39m\u001b[38;5;21m_generate_gemini\u001b[39m(\n\u001b[1;32m   2208\u001b[0m     \u001b[38;5;28mself\u001b[39m,\n\u001b[1;32m   2209\u001b[0m     messages: List[BaseMessage],\n\u001b[0;32m   (...)\u001b[0m\n\u001b[1;32m   2212\u001b[0m     \u001b[38;5;241m*\u001b[39m\u001b[38;5;241m*\u001b[39mkwargs: Any,\n\u001b[1;32m   2213\u001b[0m ) \u001b[38;5;241m-\u001b[39m\u001b[38;5;241m>\u001b[39m ChatResult:\n\u001b[1;32m   2214\u001b[0m     request \u001b[38;5;241m=\u001b[39m \u001b[38;5;28mself\u001b[39m\u001b[38;5;241m.\u001b[39m_prepare_request_gemini(messages\u001b[38;5;241m=\u001b[39mmessages, stop\u001b[38;5;241m=\u001b[39mstop, \u001b[38;5;241m*\u001b[39m\u001b[38;5;241m*\u001b[39mkwargs)\n\u001b[0;32m-> 2215\u001b[0m     response \u001b[38;5;241m=\u001b[39m \u001b[43m_completion_with_retry\u001b[49m\u001b[43m(\u001b[49m\n\u001b[1;32m   2216\u001b[0m \u001b[43m        \u001b[49m\u001b[38;5;28;43mself\u001b[39;49m\u001b[38;5;241;43m.\u001b[39;49m\u001b[43mprediction_client\u001b[49m\u001b[38;5;241;43m.\u001b[39;49m\u001b[43mgenerate_content\u001b[49m\u001b[43m,\u001b[49m\n\u001b[1;32m   2217\u001b[0m \u001b[43m        \u001b[49m\u001b[43mmax_retries\u001b[49m\u001b[38;5;241;43m=\u001b[39;49m\u001b[38;5;28;43mself\u001b[39;49m\u001b[38;5;241;43m.\u001b[39;49m\u001b[43mmax_retries\u001b[49m\u001b[43m,\u001b[49m\n\u001b[1;32m   2218\u001b[0m \u001b[43m        \u001b[49m\u001b[43mrun_manager\u001b[49m\u001b[38;5;241;43m=\u001b[39;49m\u001b[43mrun_manager\u001b[49m\u001b[43m,\u001b[49m\n\u001b[1;32m   2219\u001b[0m \u001b[43m        \u001b[49m\u001b[43mwait_exponential_kwargs\u001b[49m\u001b[38;5;241;43m=\u001b[39;49m\u001b[38;5;28;43mself\u001b[39;49m\u001b[38;5;241;43m.\u001b[39;49m\u001b[43mwait_exponential_kwargs\u001b[49m\u001b[43m,\u001b[49m\n\u001b[1;32m   2220\u001b[0m \u001b[43m        \u001b[49m\u001b[43mrequest\u001b[49m\u001b[38;5;241;43m=\u001b[39;49m\u001b[43mrequest\u001b[49m\u001b[43m,\u001b[49m\n\u001b[1;32m   2221\u001b[0m \u001b[43m        \u001b[49m\u001b[43mmetadata\u001b[49m\u001b[38;5;241;43m=\u001b[39;49m\u001b[38;5;28;43mself\u001b[39;49m\u001b[38;5;241;43m.\u001b[39;49m\u001b[43mdefault_metadata\u001b[49m\u001b[43m,\u001b[49m\n\u001b[1;32m   2222\u001b[0m \u001b[43m        \u001b[49m\u001b[38;5;241;43m*\u001b[39;49m\u001b[38;5;241;43m*\u001b[39;49m\u001b[43mkwargs\u001b[49m\u001b[43m,\u001b[49m\n\u001b[1;32m   2223\u001b[0m \u001b[43m    \u001b[49m\u001b[43m)\u001b[49m\n\u001b[1;32m   2224\u001b[0m     \u001b[38;5;28;01mreturn\u001b[39;00m \u001b[38;5;28mself\u001b[39m\u001b[38;5;241m.\u001b[39m_gemini_response_to_chat_result(response)\n",
      "File \u001b[0;32m~/.local/lib/python3.10/site-packages/langchain_google_vertexai/chat_models.py:804\u001b[0m, in \u001b[0;36m_completion_with_retry\u001b[0;34m(generation_method, max_retries, run_manager, wait_exponential_kwargs, **kwargs)\u001b[0m\n\u001b[1;32m    799\u001b[0m     kwargs[\u001b[38;5;124m\"\u001b[39m\u001b[38;5;124mretry\u001b[39m\u001b[38;5;124m\"\u001b[39m] \u001b[38;5;241m=\u001b[39m \u001b[38;5;28;01mNone\u001b[39;00m\n\u001b[1;32m    801\u001b[0m params \u001b[38;5;241m=\u001b[39m {\n\u001b[1;32m    802\u001b[0m     k: v \u001b[38;5;28;01mfor\u001b[39;00m k, v \u001b[38;5;129;01min\u001b[39;00m kwargs\u001b[38;5;241m.\u001b[39mitems() \u001b[38;5;28;01mif\u001b[39;00m k \u001b[38;5;129;01min\u001b[39;00m _allowed_params_prediction_service\n\u001b[1;32m    803\u001b[0m }\n\u001b[0;32m--> 804\u001b[0m \u001b[38;5;28;01mreturn\u001b[39;00m \u001b[43m_completion_with_retry_inner\u001b[49m\u001b[43m(\u001b[49m\n\u001b[1;32m    805\u001b[0m \u001b[43m    \u001b[49m\u001b[43mgeneration_method\u001b[49m\u001b[43m,\u001b[49m\n\u001b[1;32m    806\u001b[0m \u001b[43m    \u001b[49m\u001b[38;5;241;43m*\u001b[39;49m\u001b[38;5;241;43m*\u001b[39;49m\u001b[43mparams\u001b[49m\u001b[43m,\u001b[49m\n\u001b[1;32m    807\u001b[0m \u001b[43m\u001b[49m\u001b[43m)\u001b[49m\n",
      "File \u001b[0;32m/opt/conda/lib/python3.10/site-packages/tenacity/__init__.py:338\u001b[0m, in \u001b[0;36mBaseRetrying.wraps.<locals>.wrapped_f\u001b[0;34m(*args, **kw)\u001b[0m\n\u001b[1;32m    336\u001b[0m copy \u001b[38;5;241m=\u001b[39m \u001b[38;5;28mself\u001b[39m\u001b[38;5;241m.\u001b[39mcopy()\n\u001b[1;32m    337\u001b[0m wrapped_f\u001b[38;5;241m.\u001b[39mstatistics \u001b[38;5;241m=\u001b[39m copy\u001b[38;5;241m.\u001b[39mstatistics  \u001b[38;5;66;03m# type: ignore[attr-defined]\u001b[39;00m\n\u001b[0;32m--> 338\u001b[0m \u001b[38;5;28;01mreturn\u001b[39;00m \u001b[43mcopy\u001b[49m\u001b[43m(\u001b[49m\u001b[43mf\u001b[49m\u001b[43m,\u001b[49m\u001b[43m \u001b[49m\u001b[38;5;241;43m*\u001b[39;49m\u001b[43margs\u001b[49m\u001b[43m,\u001b[49m\u001b[43m \u001b[49m\u001b[38;5;241;43m*\u001b[39;49m\u001b[38;5;241;43m*\u001b[39;49m\u001b[43mkw\u001b[49m\u001b[43m)\u001b[49m\n",
      "File \u001b[0;32m/opt/conda/lib/python3.10/site-packages/tenacity/__init__.py:477\u001b[0m, in \u001b[0;36mRetrying.__call__\u001b[0;34m(self, fn, *args, **kwargs)\u001b[0m\n\u001b[1;32m    475\u001b[0m retry_state \u001b[38;5;241m=\u001b[39m RetryCallState(retry_object\u001b[38;5;241m=\u001b[39m\u001b[38;5;28mself\u001b[39m, fn\u001b[38;5;241m=\u001b[39mfn, args\u001b[38;5;241m=\u001b[39margs, kwargs\u001b[38;5;241m=\u001b[39mkwargs)\n\u001b[1;32m    476\u001b[0m \u001b[38;5;28;01mwhile\u001b[39;00m \u001b[38;5;28;01mTrue\u001b[39;00m:\n\u001b[0;32m--> 477\u001b[0m     do \u001b[38;5;241m=\u001b[39m \u001b[38;5;28;43mself\u001b[39;49m\u001b[38;5;241;43m.\u001b[39;49m\u001b[43miter\u001b[49m\u001b[43m(\u001b[49m\u001b[43mretry_state\u001b[49m\u001b[38;5;241;43m=\u001b[39;49m\u001b[43mretry_state\u001b[49m\u001b[43m)\u001b[49m\n\u001b[1;32m    478\u001b[0m     \u001b[38;5;28;01mif\u001b[39;00m \u001b[38;5;28misinstance\u001b[39m(do, DoAttempt):\n\u001b[1;32m    479\u001b[0m         \u001b[38;5;28;01mtry\u001b[39;00m:\n",
      "File \u001b[0;32m/opt/conda/lib/python3.10/site-packages/tenacity/__init__.py:378\u001b[0m, in \u001b[0;36mBaseRetrying.iter\u001b[0;34m(self, retry_state)\u001b[0m\n\u001b[1;32m    376\u001b[0m result \u001b[38;5;241m=\u001b[39m \u001b[38;5;28;01mNone\u001b[39;00m\n\u001b[1;32m    377\u001b[0m \u001b[38;5;28;01mfor\u001b[39;00m action \u001b[38;5;129;01min\u001b[39;00m \u001b[38;5;28mself\u001b[39m\u001b[38;5;241m.\u001b[39miter_state\u001b[38;5;241m.\u001b[39mactions:\n\u001b[0;32m--> 378\u001b[0m     result \u001b[38;5;241m=\u001b[39m \u001b[43maction\u001b[49m\u001b[43m(\u001b[49m\u001b[43mretry_state\u001b[49m\u001b[43m)\u001b[49m\n\u001b[1;32m    379\u001b[0m \u001b[38;5;28;01mreturn\u001b[39;00m result\n",
      "File \u001b[0;32m/opt/conda/lib/python3.10/site-packages/tenacity/__init__.py:420\u001b[0m, in \u001b[0;36mBaseRetrying._post_stop_check_actions.<locals>.exc_check\u001b[0;34m(rs)\u001b[0m\n\u001b[1;32m    418\u001b[0m retry_exc \u001b[38;5;241m=\u001b[39m \u001b[38;5;28mself\u001b[39m\u001b[38;5;241m.\u001b[39mretry_error_cls(fut)\n\u001b[1;32m    419\u001b[0m \u001b[38;5;28;01mif\u001b[39;00m \u001b[38;5;28mself\u001b[39m\u001b[38;5;241m.\u001b[39mreraise:\n\u001b[0;32m--> 420\u001b[0m     \u001b[38;5;28;01mraise\u001b[39;00m \u001b[43mretry_exc\u001b[49m\u001b[38;5;241;43m.\u001b[39;49m\u001b[43mreraise\u001b[49m\u001b[43m(\u001b[49m\u001b[43m)\u001b[49m\n\u001b[1;32m    421\u001b[0m \u001b[38;5;28;01mraise\u001b[39;00m retry_exc \u001b[38;5;28;01mfrom\u001b[39;00m\u001b[38;5;250m \u001b[39m\u001b[38;5;21;01mfut\u001b[39;00m\u001b[38;5;21;01m.\u001b[39;00m\u001b[38;5;21;01mexception\u001b[39;00m()\n",
      "File \u001b[0;32m/opt/conda/lib/python3.10/site-packages/tenacity/__init__.py:187\u001b[0m, in \u001b[0;36mRetryError.reraise\u001b[0;34m(self)\u001b[0m\n\u001b[1;32m    185\u001b[0m \u001b[38;5;28;01mdef\u001b[39;00m\u001b[38;5;250m \u001b[39m\u001b[38;5;21mreraise\u001b[39m(\u001b[38;5;28mself\u001b[39m) \u001b[38;5;241m-\u001b[39m\u001b[38;5;241m>\u001b[39m t\u001b[38;5;241m.\u001b[39mNoReturn:\n\u001b[1;32m    186\u001b[0m     \u001b[38;5;28;01mif\u001b[39;00m \u001b[38;5;28mself\u001b[39m\u001b[38;5;241m.\u001b[39mlast_attempt\u001b[38;5;241m.\u001b[39mfailed:\n\u001b[0;32m--> 187\u001b[0m         \u001b[38;5;28;01mraise\u001b[39;00m \u001b[38;5;28;43mself\u001b[39;49m\u001b[38;5;241;43m.\u001b[39;49m\u001b[43mlast_attempt\u001b[49m\u001b[38;5;241;43m.\u001b[39;49m\u001b[43mresult\u001b[49m\u001b[43m(\u001b[49m\u001b[43m)\u001b[49m\n\u001b[1;32m    188\u001b[0m     \u001b[38;5;28;01mraise\u001b[39;00m \u001b[38;5;28mself\u001b[39m\n",
      "File \u001b[0;32m/opt/conda/lib/python3.10/concurrent/futures/_base.py:451\u001b[0m, in \u001b[0;36mFuture.result\u001b[0;34m(self, timeout)\u001b[0m\n\u001b[1;32m    449\u001b[0m     \u001b[38;5;28;01mraise\u001b[39;00m CancelledError()\n\u001b[1;32m    450\u001b[0m \u001b[38;5;28;01melif\u001b[39;00m \u001b[38;5;28mself\u001b[39m\u001b[38;5;241m.\u001b[39m_state \u001b[38;5;241m==\u001b[39m FINISHED:\n\u001b[0;32m--> 451\u001b[0m     \u001b[38;5;28;01mreturn\u001b[39;00m \u001b[38;5;28;43mself\u001b[39;49m\u001b[38;5;241;43m.\u001b[39;49m\u001b[43m__get_result\u001b[49m\u001b[43m(\u001b[49m\u001b[43m)\u001b[49m\n\u001b[1;32m    453\u001b[0m \u001b[38;5;28mself\u001b[39m\u001b[38;5;241m.\u001b[39m_condition\u001b[38;5;241m.\u001b[39mwait(timeout)\n\u001b[1;32m    455\u001b[0m \u001b[38;5;28;01mif\u001b[39;00m \u001b[38;5;28mself\u001b[39m\u001b[38;5;241m.\u001b[39m_state \u001b[38;5;129;01min\u001b[39;00m [CANCELLED, CANCELLED_AND_NOTIFIED]:\n",
      "File \u001b[0;32m/opt/conda/lib/python3.10/concurrent/futures/_base.py:403\u001b[0m, in \u001b[0;36mFuture.__get_result\u001b[0;34m(self)\u001b[0m\n\u001b[1;32m    401\u001b[0m \u001b[38;5;28;01mif\u001b[39;00m \u001b[38;5;28mself\u001b[39m\u001b[38;5;241m.\u001b[39m_exception:\n\u001b[1;32m    402\u001b[0m     \u001b[38;5;28;01mtry\u001b[39;00m:\n\u001b[0;32m--> 403\u001b[0m         \u001b[38;5;28;01mraise\u001b[39;00m \u001b[38;5;28mself\u001b[39m\u001b[38;5;241m.\u001b[39m_exception\n\u001b[1;32m    404\u001b[0m     \u001b[38;5;28;01mfinally\u001b[39;00m:\n\u001b[1;32m    405\u001b[0m         \u001b[38;5;66;03m# Break a reference cycle with the exception in self._exception\u001b[39;00m\n\u001b[1;32m    406\u001b[0m         \u001b[38;5;28mself\u001b[39m \u001b[38;5;241m=\u001b[39m \u001b[38;5;28;01mNone\u001b[39;00m\n",
      "File \u001b[0;32m/opt/conda/lib/python3.10/site-packages/tenacity/__init__.py:480\u001b[0m, in \u001b[0;36mRetrying.__call__\u001b[0;34m(self, fn, *args, **kwargs)\u001b[0m\n\u001b[1;32m    478\u001b[0m \u001b[38;5;28;01mif\u001b[39;00m \u001b[38;5;28misinstance\u001b[39m(do, DoAttempt):\n\u001b[1;32m    479\u001b[0m     \u001b[38;5;28;01mtry\u001b[39;00m:\n\u001b[0;32m--> 480\u001b[0m         result \u001b[38;5;241m=\u001b[39m \u001b[43mfn\u001b[49m\u001b[43m(\u001b[49m\u001b[38;5;241;43m*\u001b[39;49m\u001b[43margs\u001b[49m\u001b[43m,\u001b[49m\u001b[43m \u001b[49m\u001b[38;5;241;43m*\u001b[39;49m\u001b[38;5;241;43m*\u001b[39;49m\u001b[43mkwargs\u001b[49m\u001b[43m)\u001b[49m\n\u001b[1;32m    481\u001b[0m     \u001b[38;5;28;01mexcept\u001b[39;00m \u001b[38;5;167;01mBaseException\u001b[39;00m:  \u001b[38;5;66;03m# noqa: B902\u001b[39;00m\n\u001b[1;32m    482\u001b[0m         retry_state\u001b[38;5;241m.\u001b[39mset_exception(sys\u001b[38;5;241m.\u001b[39mexc_info())  \u001b[38;5;66;03m# type: ignore[arg-type]\u001b[39;00m\n",
      "File \u001b[0;32m~/.local/lib/python3.10/site-packages/langchain_google_vertexai/chat_models.py:795\u001b[0m, in \u001b[0;36m_completion_with_retry.<locals>._completion_with_retry_inner\u001b[0;34m(generation_method, **kwargs)\u001b[0m\n\u001b[1;32m    793\u001b[0m \u001b[38;5;129m@retry_decorator\u001b[39m\n\u001b[1;32m    794\u001b[0m \u001b[38;5;28;01mdef\u001b[39;00m\u001b[38;5;250m \u001b[39m\u001b[38;5;21m_completion_with_retry_inner\u001b[39m(generation_method: Callable, \u001b[38;5;241m*\u001b[39m\u001b[38;5;241m*\u001b[39mkwargs: Any) \u001b[38;5;241m-\u001b[39m\u001b[38;5;241m>\u001b[39m Any:\n\u001b[0;32m--> 795\u001b[0m     \u001b[38;5;28;01mreturn\u001b[39;00m \u001b[43mgeneration_method\u001b[49m\u001b[43m(\u001b[49m\u001b[38;5;241;43m*\u001b[39;49m\u001b[38;5;241;43m*\u001b[39;49m\u001b[43mkwargs\u001b[49m\u001b[43m)\u001b[49m\n",
      "File \u001b[0;32m~/.local/lib/python3.10/site-packages/google/cloud/aiplatform_v1beta1/services/prediction_service/client.py:2421\u001b[0m, in \u001b[0;36mPredictionServiceClient.generate_content\u001b[0;34m(self, request, model, contents, retry, timeout, metadata)\u001b[0m\n\u001b[1;32m   2418\u001b[0m \u001b[38;5;28mself\u001b[39m\u001b[38;5;241m.\u001b[39m_validate_universe_domain()\n\u001b[1;32m   2420\u001b[0m \u001b[38;5;66;03m# Send the request.\u001b[39;00m\n\u001b[0;32m-> 2421\u001b[0m response \u001b[38;5;241m=\u001b[39m \u001b[43mrpc\u001b[49m\u001b[43m(\u001b[49m\n\u001b[1;32m   2422\u001b[0m \u001b[43m    \u001b[49m\u001b[43mrequest\u001b[49m\u001b[43m,\u001b[49m\n\u001b[1;32m   2423\u001b[0m \u001b[43m    \u001b[49m\u001b[43mretry\u001b[49m\u001b[38;5;241;43m=\u001b[39;49m\u001b[43mretry\u001b[49m\u001b[43m,\u001b[49m\n\u001b[1;32m   2424\u001b[0m \u001b[43m    \u001b[49m\u001b[43mtimeout\u001b[49m\u001b[38;5;241;43m=\u001b[39;49m\u001b[43mtimeout\u001b[49m\u001b[43m,\u001b[49m\n\u001b[1;32m   2425\u001b[0m \u001b[43m    \u001b[49m\u001b[43mmetadata\u001b[49m\u001b[38;5;241;43m=\u001b[39;49m\u001b[43mmetadata\u001b[49m\u001b[43m,\u001b[49m\n\u001b[1;32m   2426\u001b[0m \u001b[43m\u001b[49m\u001b[43m)\u001b[49m\n\u001b[1;32m   2428\u001b[0m \u001b[38;5;66;03m# Done; return the response.\u001b[39;00m\n\u001b[1;32m   2429\u001b[0m \u001b[38;5;28;01mreturn\u001b[39;00m response\n",
      "File \u001b[0;32m/opt/conda/lib/python3.10/site-packages/google/api_core/gapic_v1/method.py:131\u001b[0m, in \u001b[0;36m_GapicCallable.__call__\u001b[0;34m(self, timeout, retry, compression, *args, **kwargs)\u001b[0m\n\u001b[1;32m    128\u001b[0m \u001b[38;5;28;01mif\u001b[39;00m \u001b[38;5;28mself\u001b[39m\u001b[38;5;241m.\u001b[39m_compression \u001b[38;5;129;01mis\u001b[39;00m \u001b[38;5;129;01mnot\u001b[39;00m \u001b[38;5;28;01mNone\u001b[39;00m:\n\u001b[1;32m    129\u001b[0m     kwargs[\u001b[38;5;124m\"\u001b[39m\u001b[38;5;124mcompression\u001b[39m\u001b[38;5;124m\"\u001b[39m] \u001b[38;5;241m=\u001b[39m compression\n\u001b[0;32m--> 131\u001b[0m \u001b[38;5;28;01mreturn\u001b[39;00m \u001b[43mwrapped_func\u001b[49m\u001b[43m(\u001b[49m\u001b[38;5;241;43m*\u001b[39;49m\u001b[43margs\u001b[49m\u001b[43m,\u001b[49m\u001b[43m \u001b[49m\u001b[38;5;241;43m*\u001b[39;49m\u001b[38;5;241;43m*\u001b[39;49m\u001b[43mkwargs\u001b[49m\u001b[43m)\u001b[49m\n",
      "File \u001b[0;32m/opt/conda/lib/python3.10/site-packages/google/api_core/grpc_helpers.py:77\u001b[0m, in \u001b[0;36m_wrap_unary_errors.<locals>.error_remapped_callable\u001b[0;34m(*args, **kwargs)\u001b[0m\n\u001b[1;32m     75\u001b[0m     \u001b[38;5;28;01mreturn\u001b[39;00m callable_(\u001b[38;5;241m*\u001b[39margs, \u001b[38;5;241m*\u001b[39m\u001b[38;5;241m*\u001b[39mkwargs)\n\u001b[1;32m     76\u001b[0m \u001b[38;5;28;01mexcept\u001b[39;00m grpc\u001b[38;5;241m.\u001b[39mRpcError \u001b[38;5;28;01mas\u001b[39;00m exc:\n\u001b[0;32m---> 77\u001b[0m     \u001b[38;5;28;01mraise\u001b[39;00m exceptions\u001b[38;5;241m.\u001b[39mfrom_grpc_error(exc) \u001b[38;5;28;01mfrom\u001b[39;00m\u001b[38;5;250m \u001b[39m\u001b[38;5;21;01mexc\u001b[39;00m\n",
      "\u001b[0;31mInvalidArgument\u001b[0m: 400 Unable to submit request because at least one contents field is required. Learn more: https://cloud.google.com/vertex-ai/generative-ai/docs/model-reference/gemini"
     ]
    }
   ],
   "source": [
    "one_word_template = \"\"\"Use ONLY the context to answer the question.\n",
    "If the context is empty or insufficient, reply exactly: I don't know\n",
    "Answer with ONE WORD only.\n",
    "\n",
    "Context:\n",
    "{context}\n",
    "\n",
    "Question: {question}\n",
    "Answer:\n",
    "\"\"\"\n",
    "\n",
    "one_word_prompt = ChatPromptTemplate.from_messages(\n",
    "    [(\"system\", one_word_template)]\n",
    ")\n",
    "\n",
    "# Adapter: map {\"input\": \"...\"} -> {\"question\": \"...\"} for the prompt\n",
    "to_question = RunnableLambda(lambda x: {\"question\": x[\"input\"], **x})\n",
    "\n",
    "one_word_chain = (\n",
    "    RunnablePassthrough.assign(context=retrieve_docs)   # from earlier (single-turn retriever)\n",
    "    | to_context                                        # join docs into string\n",
    "    | to_question\n",
    "    | one_word_prompt\n",
    "    | llm\n",
    ")\n",
    "\n",
    "def one_word_qa(q: str):\n",
    "    msg = (RunnablePassthrough()\n",
    "           | RunnablePassthrough.assign(input=lambda x: q)\n",
    "           | one_word_chain).invoke({})\n",
    "    # msg is AIMessage\n",
    "    return msg.content\n",
    "\n",
    "print(one_word_qa(\"Were 2020 EMEA revenues higher than 2020 APAC revenues?\"))"
   ]
  },
  {
   "cell_type": "code",
   "execution_count": 16,
   "id": "1e1ca95f-85a2-490d-a39d-0649293d2de1",
   "metadata": {
    "tags": []
   },
   "outputs": [
    {
     "name": "stdout",
     "output_type": "stream",
     "text": [
      "Yes\n"
     ]
    }
   ],
   "source": [
    "from langchain_core.prompts import ChatPromptTemplate\n",
    "from langchain_core.runnables import RunnableLambda, RunnablePassthrough\n",
    "from langchain_core.messages import AIMessage\n",
    "\n",
    "# 1) Put ONLY instructions + context in the system message\n",
    "system_text = \"\"\"Use ONLY the context to answer the question.\n",
    "If the context is empty or insufficient, reply exactly: I don't know\n",
    "Answer with ONE WORD only.\n",
    "\n",
    "Context:\n",
    "{context}\n",
    "\"\"\"\n",
    "\n",
    "one_word_prompt = ChatPromptTemplate.from_messages([\n",
    "    (\"system\", system_text),\n",
    "    (\"human\", \"Question: {question}\\nAnswer:\")\n",
    "])\n",
    "\n",
    "# 2) Adapter: map {\"input\": \"...\"} -> {\"question\": \"...\"} for the prompt\n",
    "to_question = RunnableLambda(lambda x: {\"question\": x[\"input\"], **x})\n",
    "\n",
    "# 3) Build the chain (reusing your earlier `retrieve_docs` and `to_context`)\n",
    "one_word_chain = (\n",
    "    RunnablePassthrough.assign(context=retrieve_docs)  # -> adds List[Document]\n",
    "    | to_context                                      # -> convert to single context string\n",
    "    | to_question\n",
    "    | one_word_prompt\n",
    "    | llm                                             # ChatVertexAI(...)\n",
    ")\n",
    "\n",
    "def one_word_qa(q: str):\n",
    "    msg: AIMessage = (\n",
    "        RunnablePassthrough()\n",
    "        | RunnablePassthrough.assign(input=lambda _: q)\n",
    "        | one_word_chain\n",
    "    ).invoke({})\n",
    "    return msg.content\n",
    "\n",
    "print(one_word_qa(\"Were 2020 EMEA revenues higher than 2020 APAC revenues?\"))"
   ]
  }
 ],
 "metadata": {
  "environment": {
   "kernel": "conda-base-py",
   "name": "workbench-notebooks.m134",
   "type": "gcloud",
   "uri": "us-docker.pkg.dev/deeplearning-platform-release/gcr.io/workbench-notebooks:m134"
  },
  "kernelspec": {
   "display_name": "Python 3 (ipykernel) (Local) (Local)",
   "language": "python",
   "name": "conda-base-py"
  },
  "language_info": {
   "codemirror_mode": {
    "name": "ipython",
    "version": 3
   },
   "file_extension": ".py",
   "mimetype": "text/x-python",
   "name": "python",
   "nbconvert_exporter": "python",
   "pygments_lexer": "ipython3",
   "version": "3.10.18"
  }
 },
 "nbformat": 4,
 "nbformat_minor": 5
}
