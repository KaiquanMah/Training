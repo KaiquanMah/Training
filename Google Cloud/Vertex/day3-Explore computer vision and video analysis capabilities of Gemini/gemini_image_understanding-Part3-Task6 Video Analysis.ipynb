{
 "cells": [
  {
   "cell_type": "markdown",
   "id": "OWo8QS0D_p8B",
   "metadata": {
    "id": "OWo8QS0D_p8B"
   },
   "source": [
    "# Setup, Libraries\n",
    "Download sample images and a label typeface for this lab, by pasting and running the following command in a new cell. Each line begins with an exclamation point, which tells the kernel to run these bash commands within the notebook cells."
   ]
  },
  {
   "cell_type": "code",
   "execution_count": 1,
   "id": "kpQ8Bq66JINefcJUG0FAf0Qb",
   "metadata": {
    "colab": {
     "base_uri": "https://localhost:8080/"
    },
    "id": "kpQ8Bq66JINefcJUG0FAf0Qb",
    "outputId": "1ea54e2f-3c70-4226-e807-e13213cd96f3",
    "tags": []
   },
   "outputs": [
    {
     "name": "stdout",
     "output_type": "stream",
     "text": [
      "mkdir: cannot create directory ‘sample_images’: File exists\n",
      "Reading package lists... Done\n",
      "Building dependency tree... Done\n",
      "Reading state information... Done\n",
      "fonts-noto-cjk is already the newest version (1:20201206-cjk+repack1-1).\n",
      "0 upgraded, 0 newly installed, 0 to remove and 2 not upgraded.\n"
     ]
    }
   ],
   "source": [
    "!mkdir sample_images\n",
    "!wget https://storage.googleapis.com/generativeai-downloads/images/socks.jpg -O sample_images/Socks.jpg -q\n",
    "!wget https://storage.googleapis.com/generativeai-downloads/images/vegetables.jpg -O sample_images/Vegetables.jpg -q\n",
    "!wget https://storage.googleapis.com/generativeai-downloads/images/Japanese_Bento.png -O sample_images/Japanese_bento.png -q\n",
    "!wget https://storage.googleapis.com/generativeai-downloads/images/Cupcakes.jpg -O sample_images/Cupcakes.jpg -q\n",
    "!wget https://storage.googleapis.com/generativeai-downloads/images/origamis.jpg -O sample_images/Origamis.jpg -q\n",
    "!wget https://storage.googleapis.com/generativeai-downloads/images/fruits.jpg -O sample_images/Fruits.jpg -q\n",
    "!wget https://storage.googleapis.com/generativeai-downloads/images/cat.jpg -O sample_images/Cat.jpg -q\n",
    "!wget https://storage.googleapis.com/generativeai-downloads/images/pumpkins.jpg -O sample_images/Pumpkins.jpg -q\n",
    "!wget https://storage.googleapis.com/generativeai-downloads/images/breakfast.jpg -O sample_images/Breakfast.jpg -q\n",
    "!wget https://storage.googleapis.com/generativeai-downloads/images/bookshelf.jpg -O sample_images/Bookshelf.jpg -q\n",
    "!wget https://storage.googleapis.com/generativeai-downloads/images/spill.jpg -O sample_images/Spill.jpg -q\n",
    "!sudo apt-get install fonts-noto-cjk  # For Noto Sans CJK JP"
   ]
  },
  {
   "cell_type": "code",
   "execution_count": 2,
   "id": "WTqC1x36_v5Y",
   "metadata": {
    "id": "WTqC1x36_v5Y"
   },
   "outputs": [],
   "source": [
    "from PIL import Image\n",
    "\n",
    "import io\n",
    "import os\n",
    "import requests\n",
    "from io import BytesIO\n",
    "import IPython\n",
    "from IPython.display import Markdown, Video, display\n",
    "\n",
    "from google import genai\n",
    "from google.genai import types\n",
    "\n",
    "from gemini_for_cv_utils import plot_bounding_boxes, parse_json, \\\n",
    "        parse_segmentation_masks, plot_segmentation_masks, generate_point_html, \\\n",
    "        get_url_from_gcs"
   ]
  },
  {
   "cell_type": "code",
   "execution_count": 3,
   "id": "ztFIylqB_6Sq",
   "metadata": {
    "colab": {
     "base_uri": "https://localhost:8080/"
    },
    "id": "ztFIylqB_6Sq",
    "outputId": "96c34dde-b480-4b3d-9503-f199f5e742b8"
   },
   "outputs": [
    {
     "data": {
      "text/plain": [
       "environ{'SHELL': '/bin/bash',\n",
       "        'CONDA_EXE': '/opt/conda/bin/conda',\n",
       "        '_CE_M': '',\n",
       "        'VERTEX_PRODUCT': 'WORKBENCH_INSTANCE',\n",
       "        'GRPC_FORK_SUPPORT_ENABLED': '0',\n",
       "        'DL_ANACONDA_HOME': '/opt/conda',\n",
       "        'FRAMEWORK_FILE_PATH': '/opt/deeplearning/metadata/framework',\n",
       "        'GOOGLE_CLOUD_PROJECT': 'qwiklabs-gcp-04-27a9e1d9ae22',\n",
       "        'POST_STARTUP_SCRIPT_PATH': '/opt/c2d/post_start.sh',\n",
       "        'DL_PATH_DEPS': '/opt/deeplearning/deps',\n",
       "        'DL_BIN_PATH': '/opt/deeplearning/bin',\n",
       "        'XML_CATALOG_FILES': 'file:///opt/conda/etc/xml/catalog file:///etc/xml/catalog',\n",
       "        'KERNEL_LAUNCH_TIMEOUT': '598',\n",
       "        'BINARIES_PATH': '/opt/deeplearning/binaries',\n",
       "        'PWD': '/home/jupyter',\n",
       "        'LOGNAME': 'jupyter',\n",
       "        'CONDA_PREFIX': '/opt/conda',\n",
       "        'JPY_SESSION_NAME': '/home/jupyter/gemini_image_understanding.ipynb',\n",
       "        'TENSORBOARD_PROXY_URL': '/proxy/%PORT%/',\n",
       "        'GOOGLE_CLOUD_REGION': 'us-central1',\n",
       "        'PACKAGE_SOURCE_CODE_PATH': '/opt/deeplearning/src/third_party',\n",
       "        'DOCKER_SERVER_NETWORK': 'docker-network',\n",
       "        'JUPYTER_DEPS_PATH': '/opt/deeplearning/jupyter',\n",
       "        'ENV_URI_FILE_PATH': '/opt/deeplearning/metadata/env_uri',\n",
       "        'HOME': '/home/jupyter',\n",
       "        'RESTRICTION_TYPE_FILE_PATH': '/opt/deeplearning/restriction',\n",
       "        'LANG': 'C.UTF-8',\n",
       "        'ENV_VERSION_FILE_PATH': '/opt/deeplearning/metadata/env_version',\n",
       "        'CONDA_PROMPT_MODIFIER': '(base) ',\n",
       "        'TMPDIR': '/var/tmp',\n",
       "        'IS_WORKBENCH_IMAGE': 'true',\n",
       "        'DOCKER_SERVER_SUBNET': '192.168.10.0/24',\n",
       "        'INVOCATION_ID': '43b78e2dcb2a4785839475d83482ce47',\n",
       "        'LIT_PROXY_URL': '/proxy/%PORT%/',\n",
       "        'TITLE_FILE_PATH': '/opt/deeplearning/metadata/title',\n",
       "        'JPY_PARENT_PID': '2537',\n",
       "        '_CONDA_EXE': '/opt/conda/bin/conda',\n",
       "        '_CONDA_ROOT': '/opt/conda',\n",
       "        'ANACONDA_PYTHON_VERSION': '3.10',\n",
       "        '_CE_CONDA': '',\n",
       "        'VERSION_FILE_PATH': '/opt/deeplearning/metadata/version',\n",
       "        'USER': 'jupyter',\n",
       "        'GCSFUSE_METADATA_IMAGE_TYPE': 'DLVM',\n",
       "        'DOCKER_SERVER_GATEWAY': '192.168.10.1',\n",
       "        'CONDA_SHLVL': '2',\n",
       "        'SHLVL': '0',\n",
       "        'MOUNTS_ON_ALL_CONTAINERS': '/usr/local/share/ca-certificates,/etc/ssl/certs,/etc/ca-certificates/update.d',\n",
       "        'RELEASE_VERSION': '20251008-2030-rc0',\n",
       "        'CONDA_PYTHON_EXE': '/opt/conda/bin/python',\n",
       "        'JUPYTER_PORT': '8080',\n",
       "        'LD_LIBRARY_PATH': '/usr/local/cuda/lib64:/usr/local/nccl2/lib:/usr/local/cuda/extras/CUPTI/lib64:/usr/lib/x86_64-linux-gnu/:/opt/conda/lib',\n",
       "        'ENABLE_MULTI_FRAMEWORK': 'true',\n",
       "        'GIT_PYTHON_REFRESH': 'quiet',\n",
       "        'CONDA_DEFAULT_ENV': 'base',\n",
       "        'NO_PACKAGE_MANAGER': 'false',\n",
       "        'OPAL_PREFIX': '/usr',\n",
       "        'PROXY_BIN': '/opt/bin',\n",
       "        'JOURNAL_STREAM': '8:17146',\n",
       "        'DL_PATH': '/opt/deeplearning',\n",
       "        'WORKSPACE_PATH': '/opt/deeplearning/workspace',\n",
       "        'SRC_PATH': '/opt/deeplearning/src',\n",
       "        'OS_NAME': 'DEBIAN_11',\n",
       "        'PATH': '/usr/local/cuda/bin:/opt/conda/bin:/opt/conda/condabin:/usr/local/bin:/usr/bin:/bin:/usr/local/games:/usr/games',\n",
       "        'CONDA_PREFIX_1': '/opt/conda/envs/jupyterlab',\n",
       "        'GOOGLE_VM_CONFIG_LOCK_FILE': '/root/google_vm_config.lock',\n",
       "        'ENABLE_MULTI_ENV': 'true',\n",
       "        'TUTORIALS_PATH': '/opt/deeplearning/workspace/tutorials',\n",
       "        'DL_METADATA_PATH': '/opt/deeplearning/metadata',\n",
       "        'PYDEVD_USE_FRAME_EVAL': 'NO',\n",
       "        'TERM': 'xterm-color',\n",
       "        'CLICOLOR': '1',\n",
       "        'FORCE_COLOR': '1',\n",
       "        'CLICOLOR_FORCE': '1',\n",
       "        'PAGER': 'cat',\n",
       "        'GIT_PAGER': 'cat',\n",
       "        'MPLBACKEND': 'module://matplotlib_inline.backend_inline'}"
      ]
     },
     "execution_count": 3,
     "metadata": {},
     "output_type": "execute_result"
    }
   ],
   "source": [
    "os.environ"
   ]
  },
  {
   "cell_type": "code",
   "execution_count": 4,
   "id": "Pt_fPEYm_6VB",
   "metadata": {
    "colab": {
     "base_uri": "https://localhost:8080/"
    },
    "id": "Pt_fPEYm_6VB",
    "outputId": "0b135174-409d-444c-f2c5-fc84c83d6687"
   },
   "outputs": [
    {
     "name": "stdout",
     "output_type": "stream",
     "text": [
      "qwiklabs-gcp-04-27a9e1d9ae22\n"
     ]
    }
   ],
   "source": [
    "project_id, = !gcloud config get project\n",
    "print(project_id)\n",
    "\n",
    "client = genai.Client(vertexai=True,\n",
    "                    project=project_id,\n",
    "                    location=\"us-central1\")\n",
    "\n",
    "model_name = \"gemini-2.5-flash\""
   ]
  },
  {
   "cell_type": "code",
   "execution_count": 5,
   "id": "Wb6FlUpe_6XY",
   "metadata": {
    "id": "Wb6FlUpe_6XY"
   },
   "outputs": [],
   "source": [
    "# set safety_settings to BLOCK_ONLY_HIGH dangerous content, minimizing the potential number of false alarms for content safety\n",
    "bounding_box_system_instructions = \"\"\"\n",
    "    Return bounding boxes as a JSON array with labels.\n",
    "    Never return masks or code fencing. Limit to 25 objects.\n",
    "    If an object is present multiple times, name them according\n",
    "    to their unique characteristic (colors, size, position,\n",
    "    unique characteristics, etc.).\n",
    "    \"\"\"\n",
    "\n",
    "# Minimize safety-related errors\n",
    "safety_settings = [\n",
    "    types.SafetySetting(\n",
    "        category=\"HARM_CATEGORY_DANGEROUS_CONTENT\",\n",
    "        threshold=\"BLOCK_ONLY_HIGH\",\n",
    "    ),\n",
    "]"
   ]
  },
  {
   "cell_type": "markdown",
   "id": "_l3YaKQrAoRh",
   "metadata": {
    "id": "_l3YaKQrAoRh"
   },
   "source": [
    "# Task 6. Use Gemini to extract insights from video\n",
    "\n",
    "In this task, you will analyze a clip of video from the first televised US presidential debate between John F. Kennedy and Richard Nixon. This debate is largely believed to have been critical in securing JFK's victory due to his calm and personable demeanor for the broadcast.\n"
   ]
  },
  {
   "cell_type": "code",
   "execution_count": 8,
   "id": "2s6rtZFDAp1H",
   "metadata": {
    "colab": {
     "base_uri": "https://localhost:8080/",
     "height": 674
    },
    "id": "2s6rtZFDAp1H",
    "outputId": "1867d4ae-bf16-438a-b2db-bed1943daafd"
   },
   "outputs": [
    {
     "data": {
      "text/html": [
       "<video src=\"https://storage.googleapis.com/qwiklabs-gcp-04-27a9e1d9ae22-bucket/nixon_kennedy_debate_clip.mp4\" controls  >\n",
       "      Your browser does not support the <code>video</code> element.\n",
       "    </video>"
      ],
      "text/plain": [
       "<IPython.core.display.Video object>"
      ]
     },
     "metadata": {},
     "output_type": "display_data"
    }
   ],
   "source": [
    "video_uri = \"gs://qwiklabs-gcp-04-27a9e1d9ae22-bucket/nixon_kennedy_debate_clip.mp4\"\n",
    "\n",
    "# Display the video in the notebook\n",
    "display(Video(get_url_from_gcs(video_uri)))"
   ]
  },
  {
   "cell_type": "code",
   "execution_count": 9,
   "id": "312c536d-23d3-4036-9dfa-3b03cf6a2d5b",
   "metadata": {
    "tags": []
   },
   "outputs": [
    {
     "data": {
      "text/markdown": [
       "Here are observations comparing and contrasting each candidate's points, mood, composure, and agitation during this segment, presented with video timecodes:\n",
       "\n",
       "*   **0:00-0:20 (Kennedy - Listening to Question):** Senator Kennedy listens intently to the question regarding the seriousness of the communist threat within the United States. He appears calm and composed, with a serious but unagitated expression. His gaze is focused, indicating active listening.\n",
       "\n",
       "*   **0:20-0:50 (Kennedy - Response on Communism):**\n",
       "    *   **Points:** Kennedy acknowledges the seriousness of the internal communist threat and the need for vigilance, supporting laws, the Department of Justice, and the FBI. However, he quickly pivots to emphasize that the *major threat is external*. This frames the internal threat as manageable if the nation remains strong and united against external adversaries.\n",
       "    *   **Mood, Composure, Agitation:** Kennedy maintains a calm, measured, and thoughtful demeanor. His tone is steady and confident, with no apparent signs of agitation. He uses subtle head movements for emphasis but avoids any overt gestures that might suggest discomfort or defensiveness. He projects an image of cool, intellectual leadership.\n",
       "\n",
       "*   **0:51-0:57 (Nixon - Introduction to Response):** Vice President Nixon begins by directly agreeing with Senator Kennedy's \"appraisal generally\" regarding the internal communist threat. He looks directly into the camera, appearing serious and composed.\n",
       "\n",
       "*   **0:57-2:27 (Nixon - Response on Communism):**\n",
       "    *   **Points:** Nixon agrees that communism within the US has been and will continue to be a problem, framing it as part of a global \"Cold War\" waged by Khrushchev. He emphasizes the need for continued alertness but then adds a crucial caveat: the importance of being *fair* and upholding American freedoms. He suggests that by upholding these freedoms, the US fights communism more effectively than by compromising its values. He differentiates his approach by stating the question is not one of shared \"goals\" (which they both have, like fighting communism and improving society) but of \"means,\" implying his methods are more effective.\n",
       "    *   **Mood, Composure, Agitation:** Nixon is highly composed and articulate. His facial expressions are earnest and determined, conveying a strong sense of conviction. He speaks with a firm, steady voice, and his eye contact is direct and unwavering. While passionate about his points, he shows no signs of agitation. He appears confident and in control, using his response to subtly differentiate his approach on civil liberties and the broader Cold War strategy.\n",
       "\n",
       "*   **2:28-2:53 (Nixon - Listening to Question):** Nixon is now shown standing at a podium, listening to a question that challenges his previous statement about the Eisenhower administration's role in building schools and hospitals, implying these are local responsibilities. He appears attentive and ready to counter the implied criticism.\n",
       "\n",
       "*   **2:53-4:10 (Nixon - Response on Domestic Progress):**\n",
       "    *   **Points:** Nixon strongly refutes the idea that progress in areas like schools and hospitals is solely a federal or local matter. He argues that \"America moves\" when the federal government, state governments, local governments, *and* \"individual enterprise\" all contribute. He specifically credits the Eisenhower administration's policies with encouraging the private sector, which in turn generated the wealth needed for these public improvements. This highlights a core Republican philosophy of empowering the private sector and local control over large-scale federal intervention.\n",
       "    *   **Mood, Composure, Agitation:** Nixon is assertive and confident in his delivery. He uses hand gestures to emphasize his points, particularly when listing the different contributing factors to national progress. His tone is firm and declarative, reflecting his conviction in his economic philosophy. He is clearly not agitated but rather energized by the opportunity to articulate his administration's achievements and principles.\n",
       "\n",
       "*   **4:11-5:09 (Kennedy - Response on Domestic Progress):**\n",
       "    *   **Points:** Kennedy directly counters Nixon's argument, stating that local school districts are already at a \"point of diminishing returns\" with property taxes, implying they need federal assistance. He asserts that the US is a rich and powerful nation, but what's needed is *presidential leadership* to set clear goals for the next decade in education, economic growth, and natural resources. He explicitly frames this in terms of competition with the Soviet Union, arguing that the US must be \"ahead\" by 1970, not just comparing itself to its past. This strongly advocates for a more active and interventionist federal government role, driven by national purpose and international competition.\n",
       "    *   **Mood, Composure, Agitation:** Kennedy's demeanor shifts slightly here. While still composed, he becomes more animated and passionate. His voice gains a greater sense of urgency, and he uses more emphatic hand gestures (e.g., a chopping motion to emphasize \"exactly what we must do\"). He projects a sense of vision and a call to action, conveying that the current pace is insufficient to meet global challenges. He is not agitated, but rather displays a controlled intensity and a desire to inspire a more aggressive national effort.\n",
       "\n",
       "**Overall Comparison & Contrast:**\n",
       "\n",
       "*   **Points:**\n",
       "    *   **Communism:** Both agree on the internal threat's seriousness. Kennedy prioritizes the external threat and existing legal structures. Nixon emphasizes upholding American freedoms while combating internal communism and sees the Cold War as a global, multi-front struggle.\n",
       "    *   **Domestic Progress/Role of Government:** This is the clearest point of contrast. Nixon champions individual enterprise and local/state government as the primary drivers of progress, with the federal government's role being to encourage this. Kennedy argues for robust federal leadership and intervention, citing the limitations of local funding and the urgent need to compete with the Soviet Union on all fronts (education, economy, resources).\n",
       "*   **Mood, Composure, Agitation:**\n",
       "    *   **Kennedy:** Generally calm and thoughtful, but capable of shifting to a more urgent and passionate tone when discussing the need for national leadership and global competition. He maintains strong composure throughout, but his intensity fluctuates.\n",
       "    *   **Nixon:** Consistently composed, earnest, and confident. He articulates his points with a firm, declarative style, showing no signs of agitation but rather a strong, unwavering conviction in his arguments and the Eisenhower administration's record."
      ],
      "text/plain": [
       "<IPython.core.display.Markdown object>"
      ]
     },
     "execution_count": 9,
     "metadata": {},
     "output_type": "execute_result"
    }
   ],
   "source": [
    "video_analysis_prompt = \"\"\"\n",
    "    You are an expert in politics and history.\n",
    "    Make observations beginning with video timecode that compare and contrast\n",
    "    each candidate's points as well as their apparent mood, composure, and agitation.\n",
    "\"\"\"\n",
    "\n",
    "text_and_video_content = [\n",
    "    types.UserContent(\n",
    "        parts=[\n",
    "            types.Part.from_text(text=video_analysis_prompt),\n",
    "            types.Part.from_uri(\n",
    "                file_uri= video_uri,\n",
    "                mime_type= 'video/mp4',\n",
    "            )\n",
    "        ]\n",
    "    )\n",
    "]\n",
    "\n",
    "response = client.models.generate_content(\n",
    "    model=model_name,\n",
    "    contents=text_and_video_content,\n",
    "    config = types.GenerateContentConfig(\n",
    "        temperature=0.5,\n",
    "        safety_settings=safety_settings,\n",
    "    )\n",
    ")\n",
    "\n",
    "Markdown(response.text)"
   ]
  },
  {
   "cell_type": "code",
   "execution_count": 10,
   "id": "U8orHoZaAreI",
   "metadata": {
    "colab": {
     "base_uri": "https://localhost:8080/",
     "height": 87
    },
    "id": "U8orHoZaAreI",
    "outputId": "8e73b172-36b5-4abe-e64f-f25000afdf66",
    "tags": []
   },
   "outputs": [
    {
     "data": {
      "text/plain": [
       "GenerateContentResponse(\n",
       "  automatic_function_calling_history=[],\n",
       "  candidates=[\n",
       "    Candidate(\n",
       "      avg_logprobs=-0.74021540338986,\n",
       "      content=Content(\n",
       "        parts=[\n",
       "          Part(\n",
       "            text=\"\"\"Here are observations comparing and contrasting each candidate's points, mood, composure, and agitation during this segment, presented with video timecodes:\n",
       "\n",
       "*   **0:00-0:20 (Kennedy - Listening to Question):** Senator Kennedy listens intently to the question regarding the seriousness of the communist threat within the United States. He appears calm and composed, with a serious but unagitated expression. His gaze is focused, indicating active listening.\n",
       "\n",
       "*   **0:20-0:50 (Kennedy - Response on Communism):**\n",
       "    *   **Points:** Kennedy acknowledges the seriousness of the internal communist threat and the need for vigilance, supporting laws, the Department of Justice, and the FBI. However, he quickly pivots to emphasize that the *major threat is external*. This frames the internal threat as manageable if the nation remains strong and united against external adversaries.\n",
       "    *   **Mood, Composure, Agitation:** Kennedy maintains a calm, measured, and thoughtful demeanor. His tone is steady and confident, with no apparent signs of agitation. He uses subtle head movements for emphasis but avoids any overt gestures that might suggest discomfort or defensiveness. He projects an image of cool, intellectual leadership.\n",
       "\n",
       "*   **0:51-0:57 (Nixon - Introduction to Response):** Vice President Nixon begins by directly agreeing with Senator Kennedy's \"appraisal generally\" regarding the internal communist threat. He looks directly into the camera, appearing serious and composed.\n",
       "\n",
       "*   **0:57-2:27 (Nixon - Response on Communism):**\n",
       "    *   **Points:** Nixon agrees that communism within the US has been and will continue to be a problem, framing it as part of a global \"Cold War\" waged by Khrushchev. He emphasizes the need for continued alertness but then adds a crucial caveat: the importance of being *fair* and upholding American freedoms. He suggests that by upholding these freedoms, the US fights communism more effectively than by compromising its values. He differentiates his approach by stating the question is not one of shared \"goals\" (which they both have, like fighting communism and improving society) but of \"means,\" implying his methods are more effective.\n",
       "    *   **Mood, Composure, Agitation:** Nixon is highly composed and articulate. His facial expressions are earnest and determined, conveying a strong sense of conviction. He speaks with a firm, steady voice, and his eye contact is direct and unwavering. While passionate about his points, he shows no signs of agitation. He appears confident and in control, using his response to subtly differentiate his approach on civil liberties and the broader Cold War strategy.\n",
       "\n",
       "*   **2:28-2:53 (Nixon - Listening to Question):** Nixon is now shown standing at a podium, listening to a question that challenges his previous statement about the Eisenhower administration's role in building schools and hospitals, implying these are local responsibilities. He appears attentive and ready to counter the implied criticism.\n",
       "\n",
       "*   **2:53-4:10 (Nixon - Response on Domestic Progress):**\n",
       "    *   **Points:** Nixon strongly refutes the idea that progress in areas like schools and hospitals is solely a federal or local matter. He argues that \"America moves\" when the federal government, state governments, local governments, *and* \"individual enterprise\" all contribute. He specifically credits the Eisenhower administration's policies with encouraging the private sector, which in turn generated the wealth needed for these public improvements. This highlights a core Republican philosophy of empowering the private sector and local control over large-scale federal intervention.\n",
       "    *   **Mood, Composure, Agitation:** Nixon is assertive and confident in his delivery. He uses hand gestures to emphasize his points, particularly when listing the different contributing factors to national progress. His tone is firm and declarative, reflecting his conviction in his economic philosophy. He is clearly not agitated but rather energized by the opportunity to articulate his administration's achievements and principles.\n",
       "\n",
       "*   **4:11-5:09 (Kennedy - Response on Domestic Progress):**\n",
       "    *   **Points:** Kennedy directly counters Nixon's argument, stating that local school districts are already at a \"point of diminishing returns\" with property taxes, implying they need federal assistance. He asserts that the US is a rich and powerful nation, but what's needed is *presidential leadership* to set clear goals for the next decade in education, economic growth, and natural resources. He explicitly frames this in terms of competition with the Soviet Union, arguing that the US must be \"ahead\" by 1970, not just comparing itself to its past. This strongly advocates for a more active and interventionist federal government role, driven by national purpose and international competition.\n",
       "    *   **Mood, Composure, Agitation:** Kennedy's demeanor shifts slightly here. While still composed, he becomes more animated and passionate. His voice gains a greater sense of urgency, and he uses more emphatic hand gestures (e.g., a chopping motion to emphasize \"exactly what we must do\"). He projects a sense of vision and a call to action, conveying that the current pace is insufficient to meet global challenges. He is not agitated, but rather displays a controlled intensity and a desire to inspire a more aggressive national effort.\n",
       "\n",
       "**Overall Comparison & Contrast:**\n",
       "\n",
       "*   **Points:**\n",
       "    *   **Communism:** Both agree on the internal threat's seriousness. Kennedy prioritizes the external threat and existing legal structures. Nixon emphasizes upholding American freedoms while combating internal communism and sees the Cold War as a global, multi-front struggle.\n",
       "    *   **Domestic Progress/Role of Government:** This is the clearest point of contrast. Nixon champions individual enterprise and local/state government as the primary drivers of progress, with the federal government's role being to encourage this. Kennedy argues for robust federal leadership and intervention, citing the limitations of local funding and the urgent need to compete with the Soviet Union on all fronts (education, economy, resources).\n",
       "*   **Mood, Composure, Agitation:**\n",
       "    *   **Kennedy:** Generally calm and thoughtful, but capable of shifting to a more urgent and passionate tone when discussing the need for national leadership and global competition. He maintains strong composure throughout, but his intensity fluctuates.\n",
       "    *   **Nixon:** Consistently composed, earnest, and confident. He articulates his points with a firm, declarative style, showing no signs of agitation but rather a strong, unwavering conviction in his arguments and the Eisenhower administration's record.\"\"\"\n",
       "          ),\n",
       "        ],\n",
       "        role='model'\n",
       "      ),\n",
       "      finish_reason=<FinishReason.STOP: 'STOP'>,\n",
       "      safety_ratings=[\n",
       "        SafetyRating(\n",
       "          category=<HarmCategory.HARM_CATEGORY_HATE_SPEECH: 'HARM_CATEGORY_HATE_SPEECH'>,\n",
       "          probability=<HarmProbability.NEGLIGIBLE: 'NEGLIGIBLE'>,\n",
       "          probability_score=0.000535572,\n",
       "          severity=<HarmSeverity.HARM_SEVERITY_NEGLIGIBLE: 'HARM_SEVERITY_NEGLIGIBLE'>,\n",
       "          severity_score=0.12891945\n",
       "        ),\n",
       "        SafetyRating(\n",
       "          category=<HarmCategory.HARM_CATEGORY_DANGEROUS_CONTENT: 'HARM_CATEGORY_DANGEROUS_CONTENT'>,\n",
       "          probability=<HarmProbability.NEGLIGIBLE: 'NEGLIGIBLE'>,\n",
       "          probability_score=0.0006349703,\n",
       "          severity=<HarmSeverity.HARM_SEVERITY_NEGLIGIBLE: 'HARM_SEVERITY_NEGLIGIBLE'>,\n",
       "          severity_score=0.07011789\n",
       "        ),\n",
       "        SafetyRating(\n",
       "          category=<HarmCategory.HARM_CATEGORY_HARASSMENT: 'HARM_CATEGORY_HARASSMENT'>,\n",
       "          probability=<HarmProbability.NEGLIGIBLE: 'NEGLIGIBLE'>,\n",
       "          probability_score=0.0012959783,\n",
       "          severity=<HarmSeverity.HARM_SEVERITY_NEGLIGIBLE: 'HARM_SEVERITY_NEGLIGIBLE'>,\n",
       "          severity_score=0.19685721\n",
       "        ),\n",
       "        SafetyRating(\n",
       "          category=<HarmCategory.HARM_CATEGORY_SEXUALLY_EXPLICIT: 'HARM_CATEGORY_SEXUALLY_EXPLICIT'>,\n",
       "          probability=<HarmProbability.NEGLIGIBLE: 'NEGLIGIBLE'>,\n",
       "          probability_score=8.557597e-07,\n",
       "          severity=<HarmSeverity.HARM_SEVERITY_NEGLIGIBLE: 'HARM_SEVERITY_NEGLIGIBLE'>\n",
       "        ),\n",
       "      ]\n",
       "    ),\n",
       "  ],\n",
       "  create_time=datetime.datetime(2025, 10, 15, 8, 40, 52, 989468, tzinfo=TzInfo(0)),\n",
       "  model_version='gemini-2.5-flash',\n",
       "  response_id='FF7vaJyyPMKVhMIPkZKM8QY',\n",
       "  sdk_http_response=HttpResponse(\n",
       "    headers=<dict len=9>\n",
       "  ),\n",
       "  usage_metadata=GenerateContentResponseUsageMetadata(\n",
       "    candidates_token_count=1348,\n",
       "    candidates_tokens_details=[\n",
       "      ModalityTokenCount(\n",
       "        modality=<MediaModality.TEXT: 'TEXT'>,\n",
       "        token_count=1348\n",
       "      ),\n",
       "    ],\n",
       "    prompt_token_count=87208,\n",
       "    prompt_tokens_details=[\n",
       "      ModalityTokenCount(\n",
       "        modality=<MediaModality.AUDIO: 'AUDIO'>,\n",
       "        token_count=7700\n",
       "      ),\n",
       "      ModalityTokenCount(\n",
       "        modality=<MediaModality.TEXT: 'TEXT'>,\n",
       "        token_count=44\n",
       "      ),\n",
       "      ModalityTokenCount(\n",
       "        modality=<MediaModality.VIDEO: 'VIDEO'>,\n",
       "        token_count=79464\n",
       "      ),\n",
       "    ],\n",
       "    thoughts_token_count=1602,\n",
       "    total_token_count=90158,\n",
       "    traffic_type=<TrafficType.ON_DEMAND: 'ON_DEMAND'>\n",
       "  )\n",
       ")"
      ]
     },
     "execution_count": 10,
     "metadata": {},
     "output_type": "execute_result"
    }
   ],
   "source": [
    "response"
   ]
  }
 ],
 "metadata": {
  "colab": {
   "name": "student-00-fa8829000d97 (Oct 15, 2025, 4:30:55 PM)",
   "provenance": []
  },
  "environment": {
   "kernel": "conda-base-py",
   "name": "workbench-notebooks.m134",
   "type": "gcloud",
   "uri": "us-docker.pkg.dev/deeplearning-platform-release/gcr.io/workbench-notebooks:m134"
  },
  "kernelspec": {
   "display_name": "Python 3 (ipykernel) (Local)",
   "language": "python",
   "name": "conda-base-py"
  },
  "language_info": {
   "codemirror_mode": {
    "name": "ipython",
    "version": 3
   },
   "file_extension": ".py",
   "mimetype": "text/x-python",
   "name": "python",
   "nbconvert_exporter": "python",
   "pygments_lexer": "ipython3",
   "version": "3.10.18"
  }
 },
 "nbformat": 4,
 "nbformat_minor": 5
}
