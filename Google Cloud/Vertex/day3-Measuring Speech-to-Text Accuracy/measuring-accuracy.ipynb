{
 "cells": [
  {
   "cell_type": "markdown",
   "metadata": {},
   "source": [
    "# Welcome to the Measuring Speech Accuracy notebook!\n",
    "\n",
    "Please click the ► button above to get started. As the blue highlight moves to the next section, read that section to understand what will happen, then click ► to proceed.\n",
    "\n",
    "# Gather Audio Files and Ground Truth\n",
    "\n",
    "We have curated these files for you. The audios are stored in a GCS bucket. Below, we map the ground truth text to the file names in the bucket using the format:\\\n",
    "`\"FILENAME the ground truth transcript\n",
    "FILENAME2 the ground truth transcript 2\"`,\n",
    "one line per file."
   ]
  },
  {
   "cell_type": "code",
   "execution_count": 1,
   "metadata": {
    "tags": []
   },
   "outputs": [],
   "source": [
    "audio_map = \"\"\"367-130732-0000 LOBSTERS AND LOBSTERS\n",
    "367-130732-0001 WHEN IS A LOBSTER NOT A LOBSTER WHEN IT IS A CRAYFISH\n",
    "367-130732-0002 THIS QUESTION AND ANSWER MIGHT WELL GO INTO THE PRIMER OF INFORMATION FOR THOSE WHO COME TO SAN FRANCISCO FROM THE EAST FOR WHAT IS CALLED A LOBSTER IN SAN FRANCISCO IS NOT A LOBSTER AT ALL BUT A CRAYFISH\n",
    "367-130732-0004 A BOOK COULD BE WRITTEN ABOUT THIS RESTAURANT AND THEN ALL WOULD NOT BE TOLD FOR ALL ITS SECRETS CAN NEVER BE KNOWN\n",
    "367-130732-0005 IT WAS HERE THAT MOST MAGNIFICENT DINNERS WERE ARRANGED IT WAS HERE THAT EXTRAORDINARY DISHES WERE CONCOCTED BY CHEFS OF WORLD WIDE FAME IT WAS HERE THAT LOBSTER A LA NEWBERG REACHED ITS HIGHEST PERFECTION AND THIS IS THE RECIPE THAT WAS FOLLOWED WHEN IT WAS PREPARED IN THE DELMONICO\n",
    "367-130732-0006 LOBSTER A LA NEWBERG\n",
    "367-130732-0007 ONE POUND OF LOBSTER MEAT ONE TEASPOONFUL OF BUTTER ONE HALF PINT OF CREAM YOLKS OF FOUR EGGS ONE WINE GLASS OF SHERRY LOBSTER FAT\n",
    "367-130732-0008 PUT THIS IN A DOUBLE BOILER AND LET COOK UNTIL THICK STIRRING CONSTANTLY\n",
    "367-130732-0009 SERVE IN A CHAFING DISH WITH THIN SLICES OF DRY TOAST\n",
    "367-130732-0010 KING OF SHELL FISH\n",
    "367-130732-0011 ONE HAS TO COME TO SAN FRANCISCO TO PARTAKE OF THE KING OF SHELL FISH THE MAMMOTH PACIFIC CRAB\n",
    "367-130732-0012 I SAY COME TO SAN FRANCISCO ADVISEDLY FOR WHILE THE CRAB IS FOUND ALL ALONG THE COAST IT IS PREPARED NOWHERE SO DELICIOUSLY AS IN SAN FRANCISCO\n",
    "367-130732-0013 GOBEY'S PASSED WITH THE FIRE AND THE LITTLE RESTAURANT BEARING HIS NAME AND IN CHARGE OF HIS WIDOW IN UNION SQUARE AVENUE HAS NOT ATTAINED THE FAME OF THE OLD PLACE\n",
    "367-130732-0014 IT IS POSSIBLE THAT SHE KNOWS THE SECRET OF PREPARING CRAB AS IT WAS PREPARED IN THE GOBEY'S OF BEFORE THE FIRE BUT HIS PRESTIGE DID NOT DESCEND TO HER\n",
    "367-130732-0015 GOBEY'S CRAB STEW\n",
    "367-130732-0016 TAKE THE MEAT OF ONE LARGE CRAB SCRAPING OUT ALL OF THE FAT FROM THE SHELL\n",
    "367-130732-0017 SOAK THE CRAB MEAT IN THE SHERRY TWO HOURS BEFORE COOKING\n",
    "367-130732-0018 CHOP FINE THE ONION SWEET PEPPER AND TOMATO WITH THE ROSEMARY\n",
    "367-130732-0019 HEAT THIS IN A STEWPAN AND WHEN SIMMERING ADD THE SHERRY AND CRAB MEAT AND LET ALL COOK TOGETHER WITH A SLOW FIRE FOR EIGHT MINUTES\n",
    "367-130732-0020 SERVE IN A CHAFING DISH WITH TOASTED CRACKERS OR THIN SLICES OF TOASTED BREAD\n",
    "367-130732-0021 LOBSTER IN MINIATURE\n",
    "367-130732-0022 SO FAR IT HAS BEEN USED MOSTLY FOR GARNISHMENT OF OTHER DISHES AND IT IS ONLY RECENTLY THAT THE HOF BRAU HAS BEEN MAKING A SPECIALTY OF THEM\n",
    "367-130732-0023 ALL OF THE BETTER CLASS RESTAURANTS HOWEVER WILL SERVE THEM IF YOU ORDER THEM\n",
    "367-130732-0024 THIS IS THE RECIPE FOR EIGHT PEOPLE AND IT IS WELL WORTH TRYING IF YOU ARE GIVING A DINNER OF IMPORTANCE\n",
    "367-130732-0025 BISQUE OF CRAWFISH\n",
    "367-130732-0026 TAKE 30 CRAWFISH FROM WHICH REMOVE THE GUT CONTAINING THE GALL IN THE FOLLOWING MANNER TAKE FIRM HOLD OF THE CRAWFISH WITH THE LEFT HAND SO AS TO AVOID BEING PINCHED BY ITS CLAWS WITH THE THUMB AND FOREFINGER OF THE RIGHT HAND PINCH THE EXTREME END OF THE CENTRAL FIN OF THE TAIL AND WITH A SUDDEN JERK THE GUT WILL BE WITHDRAWN\n",
    "367-130732-0027 MINCE OR CUT INTO SMALL DICE A CARROT AN ONION ONE HEAD OF CELERY AND A FEW PARSLEY ROOTS AND TO THESE ADD A BAY LEAF A SPRIG OF THYME A LITTLE MINIONETTE PEPPER AND TWO OUNCES OF BUTTER\n",
    "367-130732-0028 PUT THESE INGREDIENTS INTO A STEWPAN AND FRY THEM 10 MINUTES THEN THROW IN THE CRAWFISH AND POUR ON THEM HALF A BOTTLE OF FRENCH WHITE WINE\n",
    "367-130732-0029 ALLOW THIS TO BOIL AND THEN ADD A QUART OF STRONG CONSOMME AND LET ALL CONTINUE BOILING FOR HALF AN HOUR\n",
    "367-130732-0030 PICK OUT THE CRAWFISH AND STRAIN THE BROTH THROUGH A NAPKIN BY PRESSURE INTO A BASIN IN ORDER TO EXTRACT ALL THE ESSENCE FROM THE VEGETABLES\n",
    "367-130732-0031 PICK THE SHELLS OFF 25 OF THE CRAWFISH TAILS TRIM THEM NEATLY AND SET THEM ASIDE UNTIL WANTED\n",
    "367-130732-0032 RESERVE SOME OF THE SPAWN ALSO HALF OF THE BODY SHELLS WITH WHICH TO MAKE THE CRAWFISH BUTTER TO FINISH THE SOUP\n",
    "367-130732-0033 THIS BUTTER IS MADE AS FOLLOWS PLACE THE SHELLS ON A BAKING SHEET IN THE OVEN TO DRY LET THE SHELLS COOL AND THEN POUND THEM IN A MORTAR WITH A LITTLE LOBSTER CORAL AND FOUR OUNCES OF FRESH BUTTER THOROUGHLY BRUISING THE WHOLE TOGETHER SO AS TO MAKE A FINE PASTE\n",
    "s2-130732-0000 Three hours before cooking pour the sherry over the lobster meat and let it stand until ready to cook\n",
    "s2-130732-0001 Heat the butter and stir in with the lobster and wine then place this in a stewpan or chafing dish and cook for eight minutes\n",
    "s2-130732-0002 Have the yolks of eggs well beaten and add to them the cream and lobster fat stir well and then stir in a teaspoonful of flour\n",
    "s2-130732-0003 Serve in a chafing dish with thin slices of dry toast\n",
    "1-130732-0000 When is a lobster not a lobster When it is a crayfish This question and answer might well go into the primer of information for those who come to San Francisco from the East\n",
    "1-130732-0001 for what is called a lobster in San Francisco is not a lobster at all but a crayfish The true lobster is not found in the Pacific along the California coast and so far efforts at transplanting have not been successful\n",
    "4-130732-0000 Probably nowhere in San Francisco could one get lobster better served than in the Old Delmonico restaurant of the days before the fire\n",
    "4-130732-0001 A book could be written about this restaurant and then all would not be told for all its secrets can never be known\n",
    "s3-130732-0000 Take the meat of one large crab scraping out all of the fat from the shell\n",
    "s3-130732-0001 Chop fine the onion sweet pepper and tomato with the rosemary Mash the clove of garlic rubbing thoroughly in a mortar and on this put the butter and flour mixing well together and gradually adding the salt and minionette pepper and stir in two tablespoonfuls of cream\n",
    "s3-130732-0002 The full flavor of the crawfish is best obtained in a bisque and the best recipe for this is by the famous chef Francatelli who boasts having been the head of the cuisine of Queen Victoria\n",
    "s3-130732-0003 In New York City they have what they are pleased to call \"Lobster Palaces\" but there is not a restaurant in that great metropolis that could approach the Delmonico of San Francisco in its splendid service and its cuisine arrangements\n",
    "s3-130732-0004 In the pre-fire days there were many places which paid especial attention to the cooking of the crab among them being the Cobweb Palace\"\"\""
   ]
  },
  {
   "cell_type": "markdown",
   "metadata": {},
   "source": [
    "# Get the Machine Transcript\n",
    "\n",
    "Next we import the Speech client library and call the Recognize method once for each audio file."
   ]
  },
  {
   "cell_type": "code",
   "execution_count": 2,
   "metadata": {
    "tags": []
   },
   "outputs": [
    {
     "name": "stdout",
     "output_type": "stream",
     "text": [
      "Collecting google-cloud-speech\n",
      "  Downloading google_cloud_speech-2.33.0-py3-none-any.whl.metadata (9.6 kB)\n",
      "Requirement already satisfied: google-api-core!=2.0.*,!=2.1.*,!=2.10.*,!=2.2.*,!=2.3.*,!=2.4.*,!=2.5.*,!=2.6.*,!=2.7.*,!=2.8.*,!=2.9.*,<3.0.0,>=1.34.1 in /opt/conda/lib/python3.10/site-packages (from google-api-core[grpc]!=2.0.*,!=2.1.*,!=2.10.*,!=2.2.*,!=2.3.*,!=2.4.*,!=2.5.*,!=2.6.*,!=2.7.*,!=2.8.*,!=2.9.*,<3.0.0,>=1.34.1->google-cloud-speech) (2.26.0)\n",
      "Requirement already satisfied: google-auth!=2.24.0,!=2.25.0,<3.0.0,>=2.14.1 in /opt/conda/lib/python3.10/site-packages (from google-cloud-speech) (2.41.1)\n",
      "Requirement already satisfied: proto-plus<2.0.0,>=1.22.3 in /opt/conda/lib/python3.10/site-packages (from google-cloud-speech) (1.26.1)\n",
      "Requirement already satisfied: protobuf!=4.21.0,!=4.21.1,!=4.21.2,!=4.21.3,!=4.21.4,!=4.21.5,<7.0.0,>=3.20.2 in /opt/conda/lib/python3.10/site-packages (from google-cloud-speech) (6.31.1)\n",
      "Requirement already satisfied: googleapis-common-protos<2.0.0,>=1.56.2 in /opt/conda/lib/python3.10/site-packages (from google-api-core!=2.0.*,!=2.1.*,!=2.10.*,!=2.2.*,!=2.3.*,!=2.4.*,!=2.5.*,!=2.6.*,!=2.7.*,!=2.8.*,!=2.9.*,<3.0.0,>=1.34.1->google-api-core[grpc]!=2.0.*,!=2.1.*,!=2.10.*,!=2.2.*,!=2.3.*,!=2.4.*,!=2.5.*,!=2.6.*,!=2.7.*,!=2.8.*,!=2.9.*,<3.0.0,>=1.34.1->google-cloud-speech) (1.70.0)\n",
      "Requirement already satisfied: requests<3.0.0,>=2.18.0 in /opt/conda/lib/python3.10/site-packages (from google-api-core!=2.0.*,!=2.1.*,!=2.10.*,!=2.2.*,!=2.3.*,!=2.4.*,!=2.5.*,!=2.6.*,!=2.7.*,!=2.8.*,!=2.9.*,<3.0.0,>=1.34.1->google-api-core[grpc]!=2.0.*,!=2.1.*,!=2.10.*,!=2.2.*,!=2.3.*,!=2.4.*,!=2.5.*,!=2.6.*,!=2.7.*,!=2.8.*,!=2.9.*,<3.0.0,>=1.34.1->google-cloud-speech) (2.32.5)\n",
      "Requirement already satisfied: grpcio<2.0.0,>=1.33.2 in /opt/conda/lib/python3.10/site-packages (from google-api-core[grpc]!=2.0.*,!=2.1.*,!=2.10.*,!=2.2.*,!=2.3.*,!=2.4.*,!=2.5.*,!=2.6.*,!=2.7.*,!=2.8.*,!=2.9.*,<3.0.0,>=1.34.1->google-cloud-speech) (1.75.1)\n",
      "Requirement already satisfied: grpcio-status<2.0.0,>=1.33.2 in /opt/conda/lib/python3.10/site-packages (from google-api-core[grpc]!=2.0.*,!=2.1.*,!=2.10.*,!=2.2.*,!=2.3.*,!=2.4.*,!=2.5.*,!=2.6.*,!=2.7.*,!=2.8.*,!=2.9.*,<3.0.0,>=1.34.1->google-cloud-speech) (1.75.1)\n",
      "Requirement already satisfied: cachetools<7.0,>=2.0.0 in /opt/conda/lib/python3.10/site-packages (from google-auth!=2.24.0,!=2.25.0,<3.0.0,>=2.14.1->google-cloud-speech) (6.2.0)\n",
      "Requirement already satisfied: pyasn1-modules>=0.2.1 in /opt/conda/lib/python3.10/site-packages (from google-auth!=2.24.0,!=2.25.0,<3.0.0,>=2.14.1->google-cloud-speech) (0.4.2)\n",
      "Requirement already satisfied: rsa<5,>=3.1.4 in /opt/conda/lib/python3.10/site-packages (from google-auth!=2.24.0,!=2.25.0,<3.0.0,>=2.14.1->google-cloud-speech) (4.9.1)\n",
      "Requirement already satisfied: typing-extensions~=4.12 in /opt/conda/lib/python3.10/site-packages (from grpcio<2.0.0,>=1.33.2->google-api-core[grpc]!=2.0.*,!=2.1.*,!=2.10.*,!=2.2.*,!=2.3.*,!=2.4.*,!=2.5.*,!=2.6.*,!=2.7.*,!=2.8.*,!=2.9.*,<3.0.0,>=1.34.1->google-cloud-speech) (4.15.0)\n",
      "Requirement already satisfied: charset_normalizer<4,>=2 in /opt/conda/lib/python3.10/site-packages (from requests<3.0.0,>=2.18.0->google-api-core!=2.0.*,!=2.1.*,!=2.10.*,!=2.2.*,!=2.3.*,!=2.4.*,!=2.5.*,!=2.6.*,!=2.7.*,!=2.8.*,!=2.9.*,<3.0.0,>=1.34.1->google-api-core[grpc]!=2.0.*,!=2.1.*,!=2.10.*,!=2.2.*,!=2.3.*,!=2.4.*,!=2.5.*,!=2.6.*,!=2.7.*,!=2.8.*,!=2.9.*,<3.0.0,>=1.34.1->google-cloud-speech) (3.4.2)\n",
      "Requirement already satisfied: idna<4,>=2.5 in /opt/conda/lib/python3.10/site-packages (from requests<3.0.0,>=2.18.0->google-api-core!=2.0.*,!=2.1.*,!=2.10.*,!=2.2.*,!=2.3.*,!=2.4.*,!=2.5.*,!=2.6.*,!=2.7.*,!=2.8.*,!=2.9.*,<3.0.0,>=1.34.1->google-api-core[grpc]!=2.0.*,!=2.1.*,!=2.10.*,!=2.2.*,!=2.3.*,!=2.4.*,!=2.5.*,!=2.6.*,!=2.7.*,!=2.8.*,!=2.9.*,<3.0.0,>=1.34.1->google-cloud-speech) (3.10)\n",
      "Requirement already satisfied: urllib3<3,>=1.21.1 in /opt/conda/lib/python3.10/site-packages (from requests<3.0.0,>=2.18.0->google-api-core!=2.0.*,!=2.1.*,!=2.10.*,!=2.2.*,!=2.3.*,!=2.4.*,!=2.5.*,!=2.6.*,!=2.7.*,!=2.8.*,!=2.9.*,<3.0.0,>=1.34.1->google-api-core[grpc]!=2.0.*,!=2.1.*,!=2.10.*,!=2.2.*,!=2.3.*,!=2.4.*,!=2.5.*,!=2.6.*,!=2.7.*,!=2.8.*,!=2.9.*,<3.0.0,>=1.34.1->google-cloud-speech) (2.5.0)\n",
      "Requirement already satisfied: certifi>=2017.4.17 in /opt/conda/lib/python3.10/site-packages (from requests<3.0.0,>=2.18.0->google-api-core!=2.0.*,!=2.1.*,!=2.10.*,!=2.2.*,!=2.3.*,!=2.4.*,!=2.5.*,!=2.6.*,!=2.7.*,!=2.8.*,!=2.9.*,<3.0.0,>=1.34.1->google-api-core[grpc]!=2.0.*,!=2.1.*,!=2.10.*,!=2.2.*,!=2.3.*,!=2.4.*,!=2.5.*,!=2.6.*,!=2.7.*,!=2.8.*,!=2.9.*,<3.0.0,>=1.34.1->google-cloud-speech) (2025.10.5)\n",
      "Requirement already satisfied: pyasn1>=0.1.3 in /opt/conda/lib/python3.10/site-packages (from rsa<5,>=3.1.4->google-auth!=2.24.0,!=2.25.0,<3.0.0,>=2.14.1->google-cloud-speech) (0.6.1)\n",
      "Downloading google_cloud_speech-2.33.0-py3-none-any.whl (335 kB)\n",
      "Installing collected packages: google-cloud-speech\n",
      "Successfully installed google-cloud-speech-2.33.0\n"
     ]
    }
   ],
   "source": [
    "!pip install --upgrade google-cloud-speech"
   ]
  },
  {
   "cell_type": "code",
   "execution_count": 4,
   "metadata": {
    "tags": []
   },
   "outputs": [
    {
     "data": {
      "text/plain": [
       "environ{'SHELL': '/bin/bash',\n",
       "        'CONDA_EXE': '/opt/conda/bin/conda',\n",
       "        '_CE_M': '',\n",
       "        'VERTEX_PRODUCT': 'WORKBENCH_INSTANCE',\n",
       "        'GRPC_FORK_SUPPORT_ENABLED': '0',\n",
       "        'DL_ANACONDA_HOME': '/opt/conda',\n",
       "        'FRAMEWORK_FILE_PATH': '/opt/deeplearning/metadata/framework',\n",
       "        'GOOGLE_CLOUD_PROJECT': 'qwiklabs-gcp-02-bd72d1358bb3',\n",
       "        'POST_STARTUP_SCRIPT_PATH': '/opt/c2d/post_start.sh',\n",
       "        'DL_PATH_DEPS': '/opt/deeplearning/deps',\n",
       "        'DL_BIN_PATH': '/opt/deeplearning/bin',\n",
       "        'XML_CATALOG_FILES': 'file:///opt/conda/etc/xml/catalog file:///etc/xml/catalog',\n",
       "        'KERNEL_LAUNCH_TIMEOUT': '598',\n",
       "        'BINARIES_PATH': '/opt/deeplearning/binaries',\n",
       "        'PWD': '/home/jupyter',\n",
       "        'LOGNAME': 'jupyter',\n",
       "        'CONDA_PREFIX': '/opt/conda',\n",
       "        'JPY_SESSION_NAME': '/home/jupyter/measuring-accuracy.ipynb',\n",
       "        'TENSORBOARD_PROXY_URL': '/proxy/%PORT%/',\n",
       "        'GOOGLE_CLOUD_REGION': 'us-east1',\n",
       "        'PACKAGE_SOURCE_CODE_PATH': '/opt/deeplearning/src/third_party',\n",
       "        'DOCKER_SERVER_NETWORK': 'docker-network',\n",
       "        'JUPYTER_DEPS_PATH': '/opt/deeplearning/jupyter',\n",
       "        'ENV_URI_FILE_PATH': '/opt/deeplearning/metadata/env_uri',\n",
       "        'HOME': '/home/jupyter',\n",
       "        'RESTRICTION_TYPE_FILE_PATH': '/opt/deeplearning/restriction',\n",
       "        'LANG': 'C.UTF-8',\n",
       "        'ENV_VERSION_FILE_PATH': '/opt/deeplearning/metadata/env_version',\n",
       "        'CONDA_PROMPT_MODIFIER': '(base) ',\n",
       "        'TMPDIR': '/var/tmp',\n",
       "        'IS_WORKBENCH_IMAGE': 'true',\n",
       "        'DOCKER_SERVER_SUBNET': '192.168.10.0/24',\n",
       "        'INVOCATION_ID': 'f43e0de47d694b089c32a7dd58dc4b14',\n",
       "        'LIT_PROXY_URL': '/proxy/%PORT%/',\n",
       "        'TITLE_FILE_PATH': '/opt/deeplearning/metadata/title',\n",
       "        'JPY_PARENT_PID': '2650',\n",
       "        '_CONDA_EXE': '/opt/conda/bin/conda',\n",
       "        '_CONDA_ROOT': '/opt/conda',\n",
       "        'ANACONDA_PYTHON_VERSION': '3.10',\n",
       "        '_CE_CONDA': '',\n",
       "        'VERSION_FILE_PATH': '/opt/deeplearning/metadata/version',\n",
       "        'USER': 'jupyter',\n",
       "        'GCSFUSE_METADATA_IMAGE_TYPE': 'DLVM',\n",
       "        'DOCKER_SERVER_GATEWAY': '192.168.10.1',\n",
       "        'CONDA_SHLVL': '2',\n",
       "        'SHLVL': '0',\n",
       "        'MOUNTS_ON_ALL_CONTAINERS': '/usr/local/share/ca-certificates,/etc/ssl/certs,/etc/ca-certificates/update.d',\n",
       "        'RELEASE_VERSION': '20251008-2030-rc0',\n",
       "        'CONDA_PYTHON_EXE': '/opt/conda/bin/python',\n",
       "        'JUPYTER_PORT': '8080',\n",
       "        'LD_LIBRARY_PATH': '/usr/local/cuda/lib64:/usr/local/nccl2/lib:/usr/local/cuda/extras/CUPTI/lib64:/usr/lib/x86_64-linux-gnu/:/opt/conda/lib',\n",
       "        'ENABLE_MULTI_FRAMEWORK': 'true',\n",
       "        'GIT_PYTHON_REFRESH': 'quiet',\n",
       "        'CONDA_DEFAULT_ENV': 'base',\n",
       "        'NO_PACKAGE_MANAGER': 'false',\n",
       "        'OPAL_PREFIX': '/usr',\n",
       "        'PROXY_BIN': '/opt/bin',\n",
       "        'JOURNAL_STREAM': '8:17087',\n",
       "        'DL_PATH': '/opt/deeplearning',\n",
       "        'WORKSPACE_PATH': '/opt/deeplearning/workspace',\n",
       "        'SRC_PATH': '/opt/deeplearning/src',\n",
       "        'OS_NAME': 'DEBIAN_11',\n",
       "        'PATH': '/usr/local/cuda/bin:/opt/conda/bin:/opt/conda/condabin:/usr/local/bin:/usr/bin:/bin:/usr/local/games:/usr/games',\n",
       "        'CONDA_PREFIX_1': '/opt/conda/envs/jupyterlab',\n",
       "        'GOOGLE_VM_CONFIG_LOCK_FILE': '/root/google_vm_config.lock',\n",
       "        'ENABLE_MULTI_ENV': 'true',\n",
       "        'TUTORIALS_PATH': '/opt/deeplearning/workspace/tutorials',\n",
       "        'DL_METADATA_PATH': '/opt/deeplearning/metadata',\n",
       "        'PYDEVD_USE_FRAME_EVAL': 'NO',\n",
       "        'TERM': 'xterm-color',\n",
       "        'CLICOLOR': '1',\n",
       "        'FORCE_COLOR': '1',\n",
       "        'CLICOLOR_FORCE': '1',\n",
       "        'PAGER': 'cat',\n",
       "        'GIT_PAGER': 'cat',\n",
       "        'MPLBACKEND': 'module://matplotlib_inline.backend_inline'}"
      ]
     },
     "execution_count": 4,
     "metadata": {},
     "output_type": "execute_result"
    }
   ],
   "source": [
    "import os\n",
    "os.environ"
   ]
  },
  {
   "cell_type": "code",
   "execution_count": 5,
   "metadata": {
    "tags": []
   },
   "outputs": [],
   "source": [
    "from google.cloud import speech_v1p1beta1 as speech\n",
    "client = speech.SpeechClient()\n",
    "encoding = speech.types.RecognitionConfig.AudioEncoding\n",
    "\n",
    "config = speech.RecognitionConfig(\n",
    "    encoding=encoding.LINEAR16,\n",
    "    model=\"video\",\n",
    "    language_code=\"en-US\",\n",
    ")\n",
    "\n",
    "transcripts_by_name = {}\n",
    "\n",
    "for line in audio_map.splitlines():\n",
    "    # Parse ground truth map\n",
    "    words = line.split()\n",
    "    # on each line, the 1st part if the transcript name\n",
    "    name = words[0]\n",
    "    \n",
    "    # use google cloud storage path AND transcript name AND file extension\n",
    "    # to retrieve audio\n",
    "    audio = speech.RecognitionAudio(uri=f\"gs://spls/gsp758/clean/{name}.wav\")\n",
    "    \n",
    "    # See https://cloud.google.com/speech-to-text/docs/reference/rpc/google.cloud.speech.v1p1beta1#recognizerequest\n",
    "    response = client.recognize(config=config, audio=audio)\n",
    "    \n",
    "    # Collect results\n",
    "    transcripts_by_name[name] = {\n",
    "        \"hypothesis\": \"\".join([result.alternatives[0].transcript\n",
    "                               for result in response.results]),\n",
    "        \"reference\": \" \".join(words[1:])\n",
    "    }"
   ]
  },
  {
   "cell_type": "code",
   "execution_count": 6,
   "metadata": {
    "tags": []
   },
   "outputs": [
    {
     "data": {
      "text/plain": [
       "uri: \"gs://spls/gsp758/clean/s3-130732-0004.wav\""
      ]
     },
     "execution_count": 6,
     "metadata": {},
     "output_type": "execute_result"
    }
   ],
   "source": [
    "# sample/last audio\n",
    "audio"
   ]
  },
  {
   "cell_type": "code",
   "execution_count": 9,
   "metadata": {
    "tags": []
   },
   "outputs": [
    {
     "data": {
      "text/plain": [
       "google.cloud.speech_v1p1beta1.types.cloud_speech.RecognitionAudio"
      ]
     },
     "execution_count": 9,
     "metadata": {},
     "output_type": "execute_result"
    }
   ],
   "source": [
    "# sample/last audio\n",
    "type(audio)"
   ]
  },
  {
   "cell_type": "code",
   "execution_count": 10,
   "metadata": {
    "tags": []
   },
   "outputs": [
    {
     "data": {
      "text/plain": [
       "{'_pb': uri: \"gs://spls/gsp758/clean/s3-130732-0004.wav\"}"
      ]
     },
     "execution_count": 10,
     "metadata": {},
     "output_type": "execute_result"
    }
   ],
   "source": [
    "# sample/last audio\n",
    "audio.__dict__"
   ]
  },
  {
   "cell_type": "code",
   "execution_count": 7,
   "metadata": {
    "tags": []
   },
   "outputs": [
    {
     "data": {
      "text/plain": [
       "results {\n",
       "  alternatives {\n",
       "    transcript: \"in the pre-fire days there were many places which paid a special attention to the cooking of the crab among them being the cobweb Palace\"\n",
       "    confidence: 0.971988201\n",
       "  }\n",
       "  result_end_time {\n",
       "    seconds: 7\n",
       "    nanos: 650000000\n",
       "  }\n",
       "  language_code: \"en-us\"\n",
       "}\n",
       "total_billed_time {\n",
       "  seconds: 8\n",
       "}\n",
       "request_id: 866857393047173047"
      ]
     },
     "execution_count": 7,
     "metadata": {},
     "output_type": "execute_result"
    }
   ],
   "source": [
    "# sample/last response\n",
    "response"
   ]
  },
  {
   "cell_type": "code",
   "execution_count": 8,
   "metadata": {
    "tags": []
   },
   "outputs": [
    {
     "data": {
      "text/plain": [
       "dict_keys(['367-130732-0000', '367-130732-0001', '367-130732-0002', '367-130732-0004', '367-130732-0005', '367-130732-0006', '367-130732-0007', '367-130732-0008', '367-130732-0009', '367-130732-0010', '367-130732-0011', '367-130732-0012', '367-130732-0013', '367-130732-0014', '367-130732-0015', '367-130732-0016', '367-130732-0017', '367-130732-0018', '367-130732-0019', '367-130732-0020', '367-130732-0021', '367-130732-0022', '367-130732-0023', '367-130732-0024', '367-130732-0025', '367-130732-0026', '367-130732-0027', '367-130732-0028', '367-130732-0029', '367-130732-0030', '367-130732-0031', '367-130732-0032', '367-130732-0033', 's2-130732-0000', 's2-130732-0001', 's2-130732-0002', 's2-130732-0003', '1-130732-0000', '1-130732-0001', '4-130732-0000', '4-130732-0001', 's3-130732-0000', 's3-130732-0001', 's3-130732-0002', 's3-130732-0003', 's3-130732-0004'])"
      ]
     },
     "execution_count": 8,
     "metadata": {},
     "output_type": "execute_result"
    }
   ],
   "source": [
    "# check the keys/names to retrieve each transcript\n",
    "transcripts_by_name.keys()"
   ]
  },
  {
   "cell_type": "code",
   "execution_count": 14,
   "metadata": {
    "tags": []
   },
   "outputs": [
    {
     "data": {
      "text/plain": [
       "'s3-130732-0004'"
      ]
     },
     "execution_count": 14,
     "metadata": {},
     "output_type": "execute_result"
    }
   ],
   "source": [
    "# last transcript name\n",
    "list(transcripts_by_name.keys())[-1]"
   ]
  },
  {
   "cell_type": "code",
   "execution_count": 15,
   "metadata": {
    "tags": []
   },
   "outputs": [
    {
     "data": {
      "text/plain": [
       "{'hypothesis': 'in the pre-fire days there were many places which paid a special attention to the cooking of the crab among them being the cobweb Palace',\n",
       " 'reference': 'In the pre-fire days there were many places which paid especial attention to the cooking of the crab among them being the Cobweb Palace'}"
      ]
     },
     "execution_count": 15,
     "metadata": {},
     "output_type": "execute_result"
    }
   ],
   "source": [
    "# last MACHINE/hypothesis transcript vs GROUNDTRUTH/reference transcript\n",
    "transcripts_by_name[list(transcripts_by_name.keys())[-1]]"
   ]
  },
  {
   "cell_type": "code",
   "execution_count": 16,
   "metadata": {
    "tags": []
   },
   "outputs": [],
   "source": [
    "last_hyp = transcripts_by_name[list(transcripts_by_name.keys())[-1]][\"hypothesis\"]\n",
    "last_ref = transcripts_by_name[list(transcripts_by_name.keys())[-1]][\"reference\"]"
   ]
  },
  {
   "cell_type": "code",
   "execution_count": 20,
   "metadata": {
    "tags": []
   },
   "outputs": [
    {
     "data": {
      "text/plain": [
       "False"
      ]
     },
     "execution_count": 20,
     "metadata": {},
     "output_type": "execute_result"
    }
   ],
   "source": [
    "# compare transcript strings\n",
    "last_hyp == last_ref"
   ]
  },
  {
   "cell_type": "code",
   "execution_count": 21,
   "metadata": {
    "tags": []
   },
   "outputs": [
    {
     "data": {
      "text/plain": [
       "False"
      ]
     },
     "execution_count": 21,
     "metadata": {},
     "output_type": "execute_result"
    }
   ],
   "source": [
    "# compare in lowercase\n",
    "last_hyp.lower() == last_ref.lower()"
   ]
  },
  {
   "cell_type": "markdown",
   "metadata": {},
   "source": [
    "# Compute the WER\n",
    "\n",
    "Finally we add the transcripts to a WER analysis object and compute the results."
   ]
  },
  {
   "cell_type": "code",
   "execution_count": 22,
   "metadata": {
    "tags": []
   },
   "outputs": [
    {
     "data": {
      "text/html": [
       "<body><html>\n",
       "<h1>WER Results</h1>\n",
       "<div>total WER = 94, total word = 1076, wer = 8.74%<br>Error breakdown: del = 0.93%, ins=1.12%, sub=6.69%<br><b></b></div>\n",
       "<table><tr><td><audio controls><source src=\"https://storage.cloud.google.com/spls/gsp758/clean/367-130732-0000.wav\" type=\"audio/wav\">367-130732-0000</audio></td><td>lobsters and lobsters </td></tr><tr><td><audio controls><source src=\"https://storage.cloud.google.com/spls/gsp758/clean/367-130732-0001.wav\" type=\"audio/wav\">367-130732-0001</audio></td><td>when is a lobster not a lobster when it is a crayfish </td></tr><tr><td><audio controls><source src=\"https://storage.cloud.google.com/spls/gsp758/clean/367-130732-0002.wav\" type=\"audio/wav\">367-130732-0002</audio></td><td>this question and answer might well go into the <span style=\"background-color: greenyellow\">\n",
       "        <del>primary</del></span><span style=\"background-color: yellow\">\n",
       "        primer </span> of information for those who come to san francisco from the east for what is called a lobster in san francisco is not a lobster at all but a crayfish </td></tr><tr><td><audio controls><source src=\"https://storage.cloud.google.com/spls/gsp758/clean/367-130732-0004.wav\" type=\"audio/wav\">367-130732-0004</audio></td><td>a book could be written about this restaurant and then all would not be told for all its secrets can never be known </td></tr><tr><td><audio controls><source src=\"https://storage.cloud.google.com/spls/gsp758/clean/367-130732-0005.wav\" type=\"audio/wav\">367-130732-0005</audio></td><td>it was here that most magnificent dinners were arranged it was here that extraordinary dishes were concocted by chefs of <span style=\"background-color: yellow\">\n",
       "        world</span> <span style=\"background-color: greenyellow\">\n",
       "        <del>worldwide</del></span><span style=\"background-color: yellow\">\n",
       "        wide </span> fame it was here that lobster <span style=\"background-color: yellow\">\n",
       "        a</span> <span style=\"background-color: greenyellow\">\n",
       "        <del>elad</del></span><span style=\"background-color: yellow\">\n",
       "        la </span> newberg reached its highest perfection and this is the recipe that was followed when it was prepared in the <span style=\"background-color: greenyellow\">\n",
       "        <del>demonico</del></span><span style=\"background-color: yellow\">\n",
       "        delmonico </span> </td></tr><tr><td><audio controls><source src=\"https://storage.cloud.google.com/spls/gsp758/clean/367-130732-0006.wav\" type=\"audio/wav\">367-130732-0006</audio></td><td>lobster <span style=\"background-color: yellow\">\n",
       "        a</span> <span style=\"background-color: greenyellow\">\n",
       "        <del>ela</del></span><span style=\"background-color: yellow\">\n",
       "        la </span> newberg </td></tr><tr><td><audio controls><source src=\"https://storage.cloud.google.com/spls/gsp758/clean/367-130732-0007.wav\" type=\"audio/wav\">367-130732-0007</audio></td><td><span style=\"background-color: greenyellow\">\n",
       "        <del>1</del></span><span style=\"background-color: yellow\">\n",
       "        one </span> pound of lobster meat <span style=\"background-color: greenyellow\">\n",
       "        <del>1</del> </span> <span style=\"background-color: greenyellow\">\n",
       "        <del>teaspoon</del></span><span style=\"background-color: yellow\">\n",
       "        one </span> <span style=\"background-color: greenyellow\">\n",
       "        <del>full</del></span><span style=\"background-color: yellow\">\n",
       "        teaspoonful </span> of butter <span style=\"background-color: yellow\">\n",
       "        one</span> <span style=\"background-color: greenyellow\">\n",
       "        <del>1/2</del></span><span style=\"background-color: yellow\">\n",
       "        half </span> pint of cream yolks of <span style=\"background-color: greenyellow\">\n",
       "        <del>4</del></span><span style=\"background-color: yellow\">\n",
       "        four </span> eggs <span style=\"background-color: greenyellow\">\n",
       "        <del>1</del></span><span style=\"background-color: yellow\">\n",
       "        one </span> wine glass of <span style=\"background-color: greenyellow\">\n",
       "        <del>cherry</del></span><span style=\"background-color: yellow\">\n",
       "        sherry </span> lobster fat </td></tr><tr><td><audio controls><source src=\"https://storage.cloud.google.com/spls/gsp758/clean/367-130732-0008.wav\" type=\"audio/wav\">367-130732-0008</audio></td><td>put this in a double boiler and let cook until thick stirring constantly </td></tr><tr><td><audio controls><source src=\"https://storage.cloud.google.com/spls/gsp758/clean/367-130732-0009.wav\" type=\"audio/wav\">367-130732-0009</audio></td><td>serve <span style=\"background-color: greenyellow\">\n",
       "        <del>at</del></span><span style=\"background-color: yellow\">\n",
       "        in </span> a chafing dish with <span style=\"background-color: greenyellow\">\n",
       "        <del>flynn</del></span><span style=\"background-color: yellow\">\n",
       "        thin </span> slices of dry toast </td></tr><tr><td><audio controls><source src=\"https://storage.cloud.google.com/spls/gsp758/clean/367-130732-0010.wav\" type=\"audio/wav\">367-130732-0010</audio></td><td>king of <span style=\"background-color: yellow\">\n",
       "        shell</span> <span style=\"background-color: greenyellow\">\n",
       "        <del>shellfish</del></span><span style=\"background-color: yellow\">\n",
       "        fish </span> </td></tr><tr><td><audio controls><source src=\"https://storage.cloud.google.com/spls/gsp758/clean/367-130732-0011.wav\" type=\"audio/wav\">367-130732-0011</audio></td><td><span style=\"background-color: greenyellow\">\n",
       "        <del>1</del></span><span style=\"background-color: yellow\">\n",
       "        one </span> has to come to san francisco to partake of the king of <span style=\"background-color: yellow\">\n",
       "        shell</span> <span style=\"background-color: greenyellow\">\n",
       "        <del>selfish</del></span><span style=\"background-color: yellow\">\n",
       "        fish </span> the mammoth pacific crab </td></tr><tr><td><audio controls><source src=\"https://storage.cloud.google.com/spls/gsp758/clean/367-130732-0012.wav\" type=\"audio/wav\">367-130732-0012</audio></td><td>i say come to san francisco <span style=\"background-color: greenyellow\">\n",
       "        <del>advisory</del></span><span style=\"background-color: yellow\">\n",
       "        advisedly </span> for <span style=\"background-color: greenyellow\">\n",
       "        <del>a</del> </span> while the crab is found all along the coast it is prepared nowhere so deliciously as in san francisco </td></tr><tr><td><audio controls><source src=\"https://storage.cloud.google.com/spls/gsp758/clean/367-130732-0013.wav\" type=\"audio/wav\">367-130732-0013</audio></td><td><span style=\"background-color: greenyellow\">\n",
       "        <del>gobies</del></span><span style=\"background-color: yellow\">\n",
       "        gobey's </span> <span style=\"background-color: greenyellow\">\n",
       "        <del>pass</del></span><span style=\"background-color: yellow\">\n",
       "        passed </span> with the fire and the little restaurant bearing his name and in charge of his widow in union square avenue has not attained the fame of the old place </td></tr><tr><td><audio controls><source src=\"https://storage.cloud.google.com/spls/gsp758/clean/367-130732-0014.wav\" type=\"audio/wav\">367-130732-0014</audio></td><td>it is possible that she knows the secret of preparing crab as it was prepared in the <span style=\"background-color: greenyellow\">\n",
       "        <del>gobies</del></span><span style=\"background-color: yellow\">\n",
       "        gobey's </span> of before the fire but his <span style=\"background-color: greenyellow\">\n",
       "        <del>procedure</del></span><span style=\"background-color: yellow\">\n",
       "        prestige </span> did not descend to her </td></tr><tr><td><audio controls><source src=\"https://storage.cloud.google.com/spls/gsp758/clean/367-130732-0015.wav\" type=\"audio/wav\">367-130732-0015</audio></td><td><span style=\"background-color: greenyellow\">\n",
       "        <del>gobi's</del></span><span style=\"background-color: yellow\">\n",
       "        gobey's </span> crab stew </td></tr><tr><td><audio controls><source src=\"https://storage.cloud.google.com/spls/gsp758/clean/367-130732-0016.wav\" type=\"audio/wav\">367-130732-0016</audio></td><td>take the meat of <span style=\"background-color: greenyellow\">\n",
       "        <del>1</del></span><span style=\"background-color: yellow\">\n",
       "        one </span> large crab scraping out all <span style=\"background-color: yellow\">\n",
       "        of</span> the fat from the shell </td></tr><tr><td><audio controls><source src=\"https://storage.cloud.google.com/spls/gsp758/clean/367-130732-0017.wav\" type=\"audio/wav\">367-130732-0017</audio></td><td>soak the crab meat in the <span style=\"background-color: greenyellow\">\n",
       "        <del>share</del></span><span style=\"background-color: yellow\">\n",
       "        sherry </span> <span style=\"background-color: greenyellow\">\n",
       "        <del>2</del></span><span style=\"background-color: yellow\">\n",
       "        two </span> hours before cooking </td></tr><tr><td><audio controls><source src=\"https://storage.cloud.google.com/spls/gsp758/clean/367-130732-0018.wav\" type=\"audio/wav\">367-130732-0018</audio></td><td>chop <span style=\"background-color: greenyellow\">\n",
       "        <del>find</del></span><span style=\"background-color: yellow\">\n",
       "        fine </span> the onion sweet pepper and tomato with the rosemary </td></tr><tr><td><audio controls><source src=\"https://storage.cloud.google.com/spls/gsp758/clean/367-130732-0019.wav\" type=\"audio/wav\">367-130732-0019</audio></td><td>heat this in a <span style=\"background-color: greenyellow\">\n",
       "        <del>stew</del> </span> <span style=\"background-color: greenyellow\">\n",
       "        <del>pan</del></span><span style=\"background-color: yellow\">\n",
       "        stewpan </span> and when simmering add the <span style=\"background-color: greenyellow\">\n",
       "        <del>cherry</del></span><span style=\"background-color: yellow\">\n",
       "        sherry </span> and crab meat and let all cook together with <span style=\"background-color: greenyellow\">\n",
       "        <del>the</del></span><span style=\"background-color: yellow\">\n",
       "        a </span> slow fire for <span style=\"background-color: greenyellow\">\n",
       "        <del>8</del></span><span style=\"background-color: yellow\">\n",
       "        eight </span> minutes </td></tr><tr><td><audio controls><source src=\"https://storage.cloud.google.com/spls/gsp758/clean/367-130732-0020.wav\" type=\"audio/wav\">367-130732-0020</audio></td><td>serve in a chafing dish with toasted crackers or thin slices of toasted bread </td></tr><tr><td><audio controls><source src=\"https://storage.cloud.google.com/spls/gsp758/clean/367-130732-0021.wav\" type=\"audio/wav\">367-130732-0021</audio></td><td>lobster in miniature </td></tr><tr><td><audio controls><source src=\"https://storage.cloud.google.com/spls/gsp758/clean/367-130732-0022.wav\" type=\"audio/wav\">367-130732-0022</audio></td><td>so far it has been used mostly for garnishment of other dishes and it is only recently that the <span style=\"background-color: greenyellow\">\n",
       "        <del>whole</del></span><span style=\"background-color: yellow\">\n",
       "        hof </span> <span style=\"background-color: greenyellow\">\n",
       "        <del>brow</del></span><span style=\"background-color: yellow\">\n",
       "        brau </span> has been making a specialty of them </td></tr><tr><td><audio controls><source src=\"https://storage.cloud.google.com/spls/gsp758/clean/367-130732-0023.wav\" type=\"audio/wav\">367-130732-0023</audio></td><td>all <span style=\"background-color: yellow\">\n",
       "        of</span> the better class restaurants however will serve them if you order them </td></tr><tr><td><audio controls><source src=\"https://storage.cloud.google.com/spls/gsp758/clean/367-130732-0024.wav\" type=\"audio/wav\">367-130732-0024</audio></td><td>this is the recipe for <span style=\"background-color: greenyellow\">\n",
       "        <del>8</del></span><span style=\"background-color: yellow\">\n",
       "        eight </span> people and it is well worth trying if you are giving a dinner of importance </td></tr><tr><td><audio controls><source src=\"https://storage.cloud.google.com/spls/gsp758/clean/367-130732-0025.wav\" type=\"audio/wav\">367-130732-0025</audio></td><td><span style=\"background-color: greenyellow\">\n",
       "        <del>disc</del></span><span style=\"background-color: yellow\">\n",
       "        bisque </span> of crawfish </td></tr><tr><td><audio controls><source src=\"https://storage.cloud.google.com/spls/gsp758/clean/367-130732-0026.wav\" type=\"audio/wav\">367-130732-0026</audio></td><td>take 30 crawfish from which <span style=\"background-color: greenyellow\">\n",
       "        <del>we</del> </span> <span style=\"background-color: greenyellow\">\n",
       "        <del>moved</del></span><span style=\"background-color: yellow\">\n",
       "        remove </span> the gut containing the <span style=\"background-color: greenyellow\">\n",
       "        <del>gaul</del></span><span style=\"background-color: yellow\">\n",
       "        gall </span> in the following manner <span style=\"background-color: greenyellow\">\n",
       "        <del>to</del></span><span style=\"background-color: yellow\">\n",
       "        take </span> <span style=\"background-color: greenyellow\">\n",
       "        <del>confirm</del></span><span style=\"background-color: yellow\">\n",
       "        firm </span> hold of the crawfish with the left hand so as to avoid being pinched by its claws with the thumb and forefinger of the right hand pinch the extreme end of the central fin of the tail and with a sudden jerk the gut will be withdrawn </td></tr><tr><td><audio controls><source src=\"https://storage.cloud.google.com/spls/gsp758/clean/367-130732-0027.wav\" type=\"audio/wav\">367-130732-0027</audio></td><td><span style=\"background-color: yellow\">\n",
       "        mince</span> <span style=\"background-color: greenyellow\">\n",
       "        <del>mincer</del></span><span style=\"background-color: yellow\">\n",
       "        or </span> cut into small dice a carrot <span style=\"background-color: greenyellow\">\n",
       "        <del>and</del></span><span style=\"background-color: yellow\">\n",
       "        an </span> onion <span style=\"background-color: greenyellow\">\n",
       "        <del>1</del></span><span style=\"background-color: yellow\">\n",
       "        one </span> head of celery and a few parsley roots and to these add a bay leaf a sprig of thyme a little <span style=\"background-color: greenyellow\">\n",
       "        <del>minion</del> </span> <span style=\"background-color: greenyellow\">\n",
       "        <del>net</del></span><span style=\"background-color: yellow\">\n",
       "        minionette </span> pepper and <span style=\"background-color: greenyellow\">\n",
       "        <del>2</del></span><span style=\"background-color: yellow\">\n",
       "        two </span> <span style=\"background-color: greenyellow\">\n",
       "        <del>oz</del></span><span style=\"background-color: yellow\">\n",
       "        ounces </span> of butter </td></tr><tr><td><audio controls><source src=\"https://storage.cloud.google.com/spls/gsp758/clean/367-130732-0028.wav\" type=\"audio/wav\">367-130732-0028</audio></td><td>put these ingredients into a <span style=\"background-color: greenyellow\">\n",
       "        <del>stew</del> </span> <span style=\"background-color: greenyellow\">\n",
       "        <del>pan</del></span><span style=\"background-color: yellow\">\n",
       "        stewpan </span> and fry them 10 minutes then throw in the crawfish and pour on them half a bottle of french white wine </td></tr><tr><td><audio controls><source src=\"https://storage.cloud.google.com/spls/gsp758/clean/367-130732-0029.wav\" type=\"audio/wav\">367-130732-0029</audio></td><td>allow this to boil and then add a quart of strong <span style=\"background-color: greenyellow\">\n",
       "        <del>consume</del></span><span style=\"background-color: yellow\">\n",
       "        consomme </span> and let all continue boiling for half an hour </td></tr><tr><td><audio controls><source src=\"https://storage.cloud.google.com/spls/gsp758/clean/367-130732-0030.wav\" type=\"audio/wav\">367-130732-0030</audio></td><td>pick out the crawfish and strain the broth through a napkin by pressure into a basin <span style=\"background-color: greenyellow\">\n",
       "        <del>or</del> </span> in order to extract all the essence from the vegetables </td></tr><tr><td><audio controls><source src=\"https://storage.cloud.google.com/spls/gsp758/clean/367-130732-0031.wav\" type=\"audio/wav\">367-130732-0031</audio></td><td>pick the shells <span style=\"background-color: greenyellow\">\n",
       "        <del>of</del></span><span style=\"background-color: yellow\">\n",
       "        off </span> 25 of the crawfish tails <span style=\"background-color: greenyellow\">\n",
       "        <del>trimmed</del></span><span style=\"background-color: yellow\">\n",
       "        trim </span> them neatly and set them aside until wanted </td></tr><tr><td><audio controls><source src=\"https://storage.cloud.google.com/spls/gsp758/clean/367-130732-0032.wav\" type=\"audio/wav\">367-130732-0032</audio></td><td>reserve some of the spawn also half of the body shells with which to make the crawfish butter to finish the soup </td></tr><tr><td><audio controls><source src=\"https://storage.cloud.google.com/spls/gsp758/clean/367-130732-0033.wav\" type=\"audio/wav\">367-130732-0033</audio></td><td>this butter is made as follows place the shells <span style=\"background-color: greenyellow\">\n",
       "        <del>in</del></span><span style=\"background-color: yellow\">\n",
       "        on </span> a baking sheet in the oven to dry let the shells cool and then pound them in a mortar with a little lobster <span style=\"background-color: greenyellow\">\n",
       "        <del>coil</del></span><span style=\"background-color: yellow\">\n",
       "        coral </span> <span style=\"background-color: greenyellow\">\n",
       "        <del>in</del></span><span style=\"background-color: yellow\">\n",
       "        and </span> <span style=\"background-color: greenyellow\">\n",
       "        <del>4</del></span><span style=\"background-color: yellow\">\n",
       "        four </span> <span style=\"background-color: greenyellow\">\n",
       "        <del>oz</del></span><span style=\"background-color: yellow\">\n",
       "        ounces </span> of fresh butter thoroughly bruising the <span style=\"background-color: greenyellow\">\n",
       "        <del>hole</del></span><span style=\"background-color: yellow\">\n",
       "        whole </span> together so as to make a fine paste </td></tr><tr><td><audio controls><source src=\"https://storage.cloud.google.com/spls/gsp758/clean/s2-130732-0000.wav\" type=\"audio/wav\">s2-130732-0000</audio></td><td><span style=\"background-color: greenyellow\">\n",
       "        <del>3</del></span><span style=\"background-color: yellow\">\n",
       "        three </span> hours before cooking pour the <span style=\"background-color: greenyellow\">\n",
       "        <del>cherry</del></span><span style=\"background-color: yellow\">\n",
       "        sherry </span> over the lobster meat and let it stand until ready to cook </td></tr><tr><td><audio controls><source src=\"https://storage.cloud.google.com/spls/gsp758/clean/s2-130732-0001.wav\" type=\"audio/wav\">s2-130732-0001</audio></td><td>heat the butter and stir in with the lobster and wine then place this in a <span style=\"background-color: greenyellow\">\n",
       "        <del>stew</del> </span> <span style=\"background-color: greenyellow\">\n",
       "        <del>pan</del></span><span style=\"background-color: yellow\">\n",
       "        stewpan </span> or chafing dish and cook for <span style=\"background-color: greenyellow\">\n",
       "        <del>8</del></span><span style=\"background-color: yellow\">\n",
       "        eight </span> minutes </td></tr><tr><td><audio controls><source src=\"https://storage.cloud.google.com/spls/gsp758/clean/s2-130732-0002.wav\" type=\"audio/wav\">s2-130732-0002</audio></td><td>have the yolks of eggs well beaten and add to them the cream and lobster fat stir well and then stir in a <span style=\"background-color: greenyellow\">\n",
       "        <del>teaspoon</del> </span> <span style=\"background-color: greenyellow\">\n",
       "        <del>full</del></span><span style=\"background-color: yellow\">\n",
       "        teaspoonful </span> of flour </td></tr><tr><td><audio controls><source src=\"https://storage.cloud.google.com/spls/gsp758/clean/s2-130732-0003.wav\" type=\"audio/wav\">s2-130732-0003</audio></td><td>serve in a chafing dish with thin slices of dry toast </td></tr><tr><td><audio controls><source src=\"https://storage.cloud.google.com/spls/gsp758/clean/1-130732-0000.wav\" type=\"audio/wav\">1-130732-0000</audio></td><td>when is a lobster not a lobster when it is a crayfish this question <span style=\"background-color: yellow\">\n",
       "        and</span> answer might well go into the primer of information for those who come to san francisco from the east </td></tr><tr><td><audio controls><source src=\"https://storage.cloud.google.com/spls/gsp758/clean/1-130732-0001.wav\" type=\"audio/wav\">1-130732-0001</audio></td><td>for what is called <span style=\"background-color: greenyellow\">\n",
       "        <del>the</del></span><span style=\"background-color: yellow\">\n",
       "        a </span> lobster in san francisco is not a lobster at all but a crayfish the true lobster is not <span style=\"background-color: greenyellow\">\n",
       "        <del>fought</del></span><span style=\"background-color: yellow\">\n",
       "        found </span> in the pacific along the california coast and so far efforts <span style=\"background-color: greenyellow\">\n",
       "        <del>are</del></span><span style=\"background-color: yellow\">\n",
       "        at </span> transplanting <span style=\"background-color: greenyellow\">\n",
       "        <del>it</del> </span> have not been successful </td></tr><tr><td><audio controls><source src=\"https://storage.cloud.google.com/spls/gsp758/clean/4-130732-0000.wav\" type=\"audio/wav\">4-130732-0000</audio></td><td>probably nowhere in san francisco could <span style=\"background-color: greenyellow\">\n",
       "        <del>1</del></span><span style=\"background-color: yellow\">\n",
       "        one </span> get lobster better served than in the old <span style=\"background-color: greenyellow\">\n",
       "        <del>delano</del></span><span style=\"background-color: yellow\">\n",
       "        delmonico </span> restaurant of the days before the fire </td></tr><tr><td><audio controls><source src=\"https://storage.cloud.google.com/spls/gsp758/clean/4-130732-0001.wav\" type=\"audio/wav\">4-130732-0001</audio></td><td>a book could be written about this restaurant and then all would not be told for all its secrets can never be known </td></tr><tr><td><audio controls><source src=\"https://storage.cloud.google.com/spls/gsp758/clean/s3-130732-0000.wav\" type=\"audio/wav\">s3-130732-0000</audio></td><td>take the meat of <span style=\"background-color: greenyellow\">\n",
       "        <del>1</del></span><span style=\"background-color: yellow\">\n",
       "        one </span> large crab scraping out all of the fat from the shell </td></tr><tr><td><audio controls><source src=\"https://storage.cloud.google.com/spls/gsp758/clean/s3-130732-0001.wav\" type=\"audio/wav\">s3-130732-0001</audio></td><td>chop <span style=\"background-color: greenyellow\">\n",
       "        <del>find</del></span><span style=\"background-color: yellow\">\n",
       "        fine </span> the onion sweet pepper and tomato with the rosemary mash the clove of garlic rubbing thoroughly in a mortar and on this put the butter and flour mixing well together and gradually adding the salt and <span style=\"background-color: greenyellow\">\n",
       "        <del>mignonette</del></span><span style=\"background-color: yellow\">\n",
       "        minionette </span> pepper and stir in <span style=\"background-color: greenyellow\">\n",
       "        <del>2</del></span><span style=\"background-color: yellow\">\n",
       "        two </span> <span style=\"background-color: greenyellow\">\n",
       "        <del>tablespoons</del></span><span style=\"background-color: yellow\">\n",
       "        tablespoonfuls </span> of cream </td></tr><tr><td><audio controls><source src=\"https://storage.cloud.google.com/spls/gsp758/clean/s3-130732-0002.wav\" type=\"audio/wav\">s3-130732-0002</audio></td><td>the full flavor of the crawfish is best obtained in a bisque and the best recipe for this is by the famous chef <span style=\"background-color: greenyellow\">\n",
       "        <del>frank</del> </span> <span style=\"background-color: greenyellow\">\n",
       "        <del>aitelli</del></span><span style=\"background-color: yellow\">\n",
       "        francatelli </span> who boasts having been the head of the cuisine of queen victoria </td></tr><tr><td><audio controls><source src=\"https://storage.cloud.google.com/spls/gsp758/clean/s3-130732-0003.wav\" type=\"audio/wav\">s3-130732-0003</audio></td><td>in new york city they have what they are pleased to call lobster palaces but there is not a restaurant in that great metropolis that could approach the delmonico of san francisco in its splendid service and its cuisine arrangements </td></tr><tr><td><audio controls><source src=\"https://storage.cloud.google.com/spls/gsp758/clean/s3-130732-0004.wav\" type=\"audio/wav\">s3-130732-0004</audio></td><td>in the pre-fire days there were many places which paid <span style=\"background-color: greenyellow\">\n",
       "        <del>a</del> </span> <span style=\"background-color: greenyellow\">\n",
       "        <del>special</del></span><span style=\"background-color: yellow\">\n",
       "        especial </span> attention to the cooking of the crab among them being the cobweb palace </td></tr></table>\n",
       "</body></html>"
      ],
      "text/plain": [
       "<IPython.core.display.HTML object>"
      ]
     },
     "metadata": {},
     "output_type": "display_data"
    }
   ],
   "source": [
    "import simple_wer_v2 as wer\n",
    "from IPython.display import display, HTML\n",
    "\n",
    "analysis = wer.SimpleWER(\n",
    "    html_handler=wer.HighlightAlignedHtml,\n",
    "    preprocess_handler=wer.RemoveCommentTxtPreprocess)\n",
    "\n",
    "for name, transcripts in transcripts_by_name.items():\n",
    "    analysis.AddHypRef(transcripts[\"hypothesis\"], transcripts[\"reference\"],\n",
    "                       f'<audio controls><source src=\"https://storage.cloud.google.com/spls/gsp758/clean/{name}.wav\" type=\"audio/wav\">{name}</audio>')\n",
    "    \n",
    "    \n",
    "summary, details, keyphrases = analysis.GetSummaries()\n",
    "\n",
    "aligned_html = f\"\"\"<body><html>\n",
    "<h1>WER Results</h1>\n",
    "<div>{summary}<br>{details}<br><b>{keyphrases}</b></div>\n",
    "<table>{\"\".join(analysis.aligned_htmls)}</table>\n",
    "</body></html>\"\"\"\n",
    "\n",
    "results = HTML(aligned_html)\n",
    "display(results)\n",
    "\n",
    "# eg transcript 3\n",
    "# primary => machine predicted word => in green, strikethrough\n",
    "# primer => groundtruth word => in yellow"
   ]
  },
  {
   "cell_type": "markdown",
   "metadata": {},
   "source": [
    "Once you've clicked ► on each section, please be patient for the results to load here. The \"Machine Transcript\" section takes a minute or so to run. The \"WER\" section will not run until the previous sections have finished."
   ]
  },
  {
   "cell_type": "code",
   "execution_count": 24,
   "metadata": {
    "tags": []
   },
   "outputs": [
    {
     "data": {
      "text/plain": [
       "('total WER = 94, total word = 1076, wer = 8.74%',\n",
       " 'Error breakdown: del = 0.93%, ins=1.12%, sub=6.69%',\n",
       " '')"
      ]
     },
     "execution_count": 24,
     "metadata": {},
     "output_type": "execute_result"
    }
   ],
   "source": [
    "analysis.GetSummaries()"
   ]
  },
  {
   "cell_type": "code",
   "execution_count": 23,
   "metadata": {
    "tags": []
   },
   "outputs": [
    {
     "data": {
      "text/plain": [
       "('total WER = 94, total word = 1076, wer = 8.74%',\n",
       " 'Error breakdown: del = 0.93%, ins=1.12%, sub=6.69%',\n",
       " '')"
      ]
     },
     "execution_count": 23,
     "metadata": {},
     "output_type": "execute_result"
    }
   ],
   "source": [
    "summary, details, keyphrases"
   ]
  },
  {
   "cell_type": "markdown",
   "metadata": {
    "tags": []
   },
   "source": [
    "## Check HTML"
   ]
  },
  {
   "cell_type": "code",
   "execution_count": 26,
   "metadata": {
    "tags": []
   },
   "outputs": [
    {
     "data": {
      "text/plain": [
       "'<body><html>\\n<h1>WER Results</h1>\\n<div>total WER = 94, total word = 1076, wer = 8.74%<br>Error breakdown: del = 0.93%, ins=1.12%, sub=6.69%<br><b></b></div>\\n<table><tr><td><audio controls><source src=\"https://storage.cloud.google.com/spls/gsp758/clean/367-130732-0000.wav\" type=\"audio/wav\">367-130732-0000</audio></td><td>lobsters and lobsters </td></tr><tr><td><audio controls><source src=\"https://storage.cloud.google.com/spls/gsp758/clean/367-130732-0001.wav\" type=\"audio/wav\">367-130732-0001</audio></td><td>when is a lobster not a lobster when it is a crayfish </td></tr><tr><td><audio controls><source src=\"https://storage.cloud.google.com/spls/gsp758/clean/367-130732-0002.wav\" type=\"audio/wav\">367-130732-0002</audio></td><td>this question and answer might well go into the <span style=\"background-color: greenyellow\">\\n        <del>primary</del></span><span style=\"background-color: yellow\">\\n        primer </span> of information for those who come to san francisco from the east for what is called a lobster in san francisco is not a lobster at all but a crayfish </td></tr><tr><td><audio controls><source src=\"https://storage.cloud.google.com/spls/gsp758/clean/367-130732-0004.wav\" type=\"audio/wav\">367-130732-0004</audio></td><td>a book could be written about this restaurant and then all would not be told for all its secrets can never be known </td></tr><tr><td><audio controls><source src=\"https://storage.cloud.google.com/spls/gsp758/clean/367-130732-0005.wav\" type=\"audio/wav\">367-130732-0005</audio></td><td>it was here that most magnificent dinners were arranged it was here that extraordinary dishes were concocted by chefs of <span style=\"background-color: yellow\">\\n        world</span> <span style=\"background-color: greenyellow\">\\n        <del>worldwide</del></span><span style=\"background-color: yellow\">\\n        wide </span> fame it was here that lobster <span style=\"background-color: yellow\">\\n        a</span> <span style=\"background-color: greenyellow\">\\n        <del>elad</del></span><span style=\"background-color: yellow\">\\n        la </span> newberg reached its highest perfection and this is the recipe that was followed when it was prepared in the <span style=\"background-color: greenyellow\">\\n        <del>demonico</del></span><span style=\"background-color: yellow\">\\n        delmonico </span> </td></tr><tr><td><audio controls><source src=\"https://storage.cloud.google.com/spls/gsp758/clean/367-130732-0006.wav\" type=\"audio/wav\">367-130732-0006</audio></td><td>lobster <span style=\"background-color: yellow\">\\n        a</span> <span style=\"background-color: greenyellow\">\\n        <del>ela</del></span><span style=\"background-color: yellow\">\\n        la </span> newberg </td></tr><tr><td><audio controls><source src=\"https://storage.cloud.google.com/spls/gsp758/clean/367-130732-0007.wav\" type=\"audio/wav\">367-130732-0007</audio></td><td><span style=\"background-color: greenyellow\">\\n        <del>1</del></span><span style=\"background-color: yellow\">\\n        one </span> pound of lobster meat <span style=\"background-color: greenyellow\">\\n        <del>1</del> </span> <span style=\"background-color: greenyellow\">\\n        <del>teaspoon</del></span><span style=\"background-color: yellow\">\\n        one </span> <span style=\"background-color: greenyellow\">\\n        <del>full</del></span><span style=\"background-color: yellow\">\\n        teaspoonful </span> of butter <span style=\"background-color: yellow\">\\n        one</span> <span style=\"background-color: greenyellow\">\\n        <del>1/2</del></span><span style=\"background-color: yellow\">\\n        half </span> pint of cream yolks of <span style=\"background-color: greenyellow\">\\n        <del>4</del></span><span style=\"background-color: yellow\">\\n        four </span> eggs <span style=\"background-color: greenyellow\">\\n        <del>1</del></span><span style=\"background-color: yellow\">\\n        one </span> wine glass of <span style=\"background-color: greenyellow\">\\n        <del>cherry</del></span><span style=\"background-color: yellow\">\\n        sherry </span> lobster fat </td></tr><tr><td><audio controls><source src=\"https://storage.cloud.google.com/spls/gsp758/clean/367-130732-0008.wav\" type=\"audio/wav\">367-130732-0008</audio></td><td>put this in a double boiler and let cook until thick stirring constantly </td></tr><tr><td><audio controls><source src=\"https://storage.cloud.google.com/spls/gsp758/clean/367-130732-0009.wav\" type=\"audio/wav\">367-130732-0009</audio></td><td>serve <span style=\"background-color: greenyellow\">\\n        <del>at</del></span><span style=\"background-color: yellow\">\\n        in </span> a chafing dish with <span style=\"background-color: greenyellow\">\\n        <del>flynn</del></span><span style=\"background-color: yellow\">\\n        thin </span> slices of dry toast </td></tr><tr><td><audio controls><source src=\"https://storage.cloud.google.com/spls/gsp758/clean/367-130732-0010.wav\" type=\"audio/wav\">367-130732-0010</audio></td><td>king of <span style=\"background-color: yellow\">\\n        shell</span> <span style=\"background-color: greenyellow\">\\n        <del>shellfish</del></span><span style=\"background-color: yellow\">\\n        fish </span> </td></tr><tr><td><audio controls><source src=\"https://storage.cloud.google.com/spls/gsp758/clean/367-130732-0011.wav\" type=\"audio/wav\">367-130732-0011</audio></td><td><span style=\"background-color: greenyellow\">\\n        <del>1</del></span><span style=\"background-color: yellow\">\\n        one </span> has to come to san francisco to partake of the king of <span style=\"background-color: yellow\">\\n        shell</span> <span style=\"background-color: greenyellow\">\\n        <del>selfish</del></span><span style=\"background-color: yellow\">\\n        fish </span> the mammoth pacific crab </td></tr><tr><td><audio controls><source src=\"https://storage.cloud.google.com/spls/gsp758/clean/367-130732-0012.wav\" type=\"audio/wav\">367-130732-0012</audio></td><td>i say come to san francisco <span style=\"background-color: greenyellow\">\\n        <del>advisory</del></span><span style=\"background-color: yellow\">\\n        advisedly </span> for <span style=\"background-color: greenyellow\">\\n        <del>a</del> </span> while the crab is found all along the coast it is prepared nowhere so deliciously as in san francisco </td></tr><tr><td><audio controls><source src=\"https://storage.cloud.google.com/spls/gsp758/clean/367-130732-0013.wav\" type=\"audio/wav\">367-130732-0013</audio></td><td><span style=\"background-color: greenyellow\">\\n        <del>gobies</del></span><span style=\"background-color: yellow\">\\n        gobey\\'s </span> <span style=\"background-color: greenyellow\">\\n        <del>pass</del></span><span style=\"background-color: yellow\">\\n        passed </span> with the fire and the little restaurant bearing his name and in charge of his widow in union square avenue has not attained the fame of the old place </td></tr><tr><td><audio controls><source src=\"https://storage.cloud.google.com/spls/gsp758/clean/367-130732-0014.wav\" type=\"audio/wav\">367-130732-0014</audio></td><td>it is possible that she knows the secret of preparing crab as it was prepared in the <span style=\"background-color: greenyellow\">\\n        <del>gobies</del></span><span style=\"background-color: yellow\">\\n        gobey\\'s </span> of before the fire but his <span style=\"background-color: greenyellow\">\\n        <del>procedure</del></span><span style=\"background-color: yellow\">\\n        prestige </span> did not descend to her </td></tr><tr><td><audio controls><source src=\"https://storage.cloud.google.com/spls/gsp758/clean/367-130732-0015.wav\" type=\"audio/wav\">367-130732-0015</audio></td><td><span style=\"background-color: greenyellow\">\\n        <del>gobi\\'s</del></span><span style=\"background-color: yellow\">\\n        gobey\\'s </span> crab stew </td></tr><tr><td><audio controls><source src=\"https://storage.cloud.google.com/spls/gsp758/clean/367-130732-0016.wav\" type=\"audio/wav\">367-130732-0016</audio></td><td>take the meat of <span style=\"background-color: greenyellow\">\\n        <del>1</del></span><span style=\"background-color: yellow\">\\n        one </span> large crab scraping out all <span style=\"background-color: yellow\">\\n        of</span> the fat from the shell </td></tr><tr><td><audio controls><source src=\"https://storage.cloud.google.com/spls/gsp758/clean/367-130732-0017.wav\" type=\"audio/wav\">367-130732-0017</audio></td><td>soak the crab meat in the <span style=\"background-color: greenyellow\">\\n        <del>share</del></span><span style=\"background-color: yellow\">\\n        sherry </span> <span style=\"background-color: greenyellow\">\\n        <del>2</del></span><span style=\"background-color: yellow\">\\n        two </span> hours before cooking </td></tr><tr><td><audio controls><source src=\"https://storage.cloud.google.com/spls/gsp758/clean/367-130732-0018.wav\" type=\"audio/wav\">367-130732-0018</audio></td><td>chop <span style=\"background-color: greenyellow\">\\n        <del>find</del></span><span style=\"background-color: yellow\">\\n        fine </span> the onion sweet pepper and tomato with the rosemary </td></tr><tr><td><audio controls><source src=\"https://storage.cloud.google.com/spls/gsp758/clean/367-130732-0019.wav\" type=\"audio/wav\">367-130732-0019</audio></td><td>heat this in a <span style=\"background-color: greenyellow\">\\n        <del>stew</del> </span> <span style=\"background-color: greenyellow\">\\n        <del>pan</del></span><span style=\"background-color: yellow\">\\n        stewpan </span> and when simmering add the <span style=\"background-color: greenyellow\">\\n        <del>cherry</del></span><span style=\"background-color: yellow\">\\n        sherry </span> and crab meat and let all cook together with <span style=\"background-color: greenyellow\">\\n        <del>the</del></span><span style=\"background-color: yellow\">\\n        a </span> slow fire for <span style=\"background-color: greenyellow\">\\n        <del>8</del></span><span style=\"background-color: yellow\">\\n        eight </span> minutes </td></tr><tr><td><audio controls><source src=\"https://storage.cloud.google.com/spls/gsp758/clean/367-130732-0020.wav\" type=\"audio/wav\">367-130732-0020</audio></td><td>serve in a chafing dish with toasted crackers or thin slices of toasted bread </td></tr><tr><td><audio controls><source src=\"https://storage.cloud.google.com/spls/gsp758/clean/367-130732-0021.wav\" type=\"audio/wav\">367-130732-0021</audio></td><td>lobster in miniature </td></tr><tr><td><audio controls><source src=\"https://storage.cloud.google.com/spls/gsp758/clean/367-130732-0022.wav\" type=\"audio/wav\">367-130732-0022</audio></td><td>so far it has been used mostly for garnishment of other dishes and it is only recently that the <span style=\"background-color: greenyellow\">\\n        <del>whole</del></span><span style=\"background-color: yellow\">\\n        hof </span> <span style=\"background-color: greenyellow\">\\n        <del>brow</del></span><span style=\"background-color: yellow\">\\n        brau </span> has been making a specialty of them </td></tr><tr><td><audio controls><source src=\"https://storage.cloud.google.com/spls/gsp758/clean/367-130732-0023.wav\" type=\"audio/wav\">367-130732-0023</audio></td><td>all <span style=\"background-color: yellow\">\\n        of</span> the better class restaurants however will serve them if you order them </td></tr><tr><td><audio controls><source src=\"https://storage.cloud.google.com/spls/gsp758/clean/367-130732-0024.wav\" type=\"audio/wav\">367-130732-0024</audio></td><td>this is the recipe for <span style=\"background-color: greenyellow\">\\n        <del>8</del></span><span style=\"background-color: yellow\">\\n        eight </span> people and it is well worth trying if you are giving a dinner of importance </td></tr><tr><td><audio controls><source src=\"https://storage.cloud.google.com/spls/gsp758/clean/367-130732-0025.wav\" type=\"audio/wav\">367-130732-0025</audio></td><td><span style=\"background-color: greenyellow\">\\n        <del>disc</del></span><span style=\"background-color: yellow\">\\n        bisque </span> of crawfish </td></tr><tr><td><audio controls><source src=\"https://storage.cloud.google.com/spls/gsp758/clean/367-130732-0026.wav\" type=\"audio/wav\">367-130732-0026</audio></td><td>take 30 crawfish from which <span style=\"background-color: greenyellow\">\\n        <del>we</del> </span> <span style=\"background-color: greenyellow\">\\n        <del>moved</del></span><span style=\"background-color: yellow\">\\n        remove </span> the gut containing the <span style=\"background-color: greenyellow\">\\n        <del>gaul</del></span><span style=\"background-color: yellow\">\\n        gall </span> in the following manner <span style=\"background-color: greenyellow\">\\n        <del>to</del></span><span style=\"background-color: yellow\">\\n        take </span> <span style=\"background-color: greenyellow\">\\n        <del>confirm</del></span><span style=\"background-color: yellow\">\\n        firm </span> hold of the crawfish with the left hand so as to avoid being pinched by its claws with the thumb and forefinger of the right hand pinch the extreme end of the central fin of the tail and with a sudden jerk the gut will be withdrawn </td></tr><tr><td><audio controls><source src=\"https://storage.cloud.google.com/spls/gsp758/clean/367-130732-0027.wav\" type=\"audio/wav\">367-130732-0027</audio></td><td><span style=\"background-color: yellow\">\\n        mince</span> <span style=\"background-color: greenyellow\">\\n        <del>mincer</del></span><span style=\"background-color: yellow\">\\n        or </span> cut into small dice a carrot <span style=\"background-color: greenyellow\">\\n        <del>and</del></span><span style=\"background-color: yellow\">\\n        an </span> onion <span style=\"background-color: greenyellow\">\\n        <del>1</del></span><span style=\"background-color: yellow\">\\n        one </span> head of celery and a few parsley roots and to these add a bay leaf a sprig of thyme a little <span style=\"background-color: greenyellow\">\\n        <del>minion</del> </span> <span style=\"background-color: greenyellow\">\\n        <del>net</del></span><span style=\"background-color: yellow\">\\n        minionette </span> pepper and <span style=\"background-color: greenyellow\">\\n        <del>2</del></span><span style=\"background-color: yellow\">\\n        two </span> <span style=\"background-color: greenyellow\">\\n        <del>oz</del></span><span style=\"background-color: yellow\">\\n        ounces </span> of butter </td></tr><tr><td><audio controls><source src=\"https://storage.cloud.google.com/spls/gsp758/clean/367-130732-0028.wav\" type=\"audio/wav\">367-130732-0028</audio></td><td>put these ingredients into a <span style=\"background-color: greenyellow\">\\n        <del>stew</del> </span> <span style=\"background-color: greenyellow\">\\n        <del>pan</del></span><span style=\"background-color: yellow\">\\n        stewpan </span> and fry them 10 minutes then throw in the crawfish and pour on them half a bottle of french white wine </td></tr><tr><td><audio controls><source src=\"https://storage.cloud.google.com/spls/gsp758/clean/367-130732-0029.wav\" type=\"audio/wav\">367-130732-0029</audio></td><td>allow this to boil and then add a quart of strong <span style=\"background-color: greenyellow\">\\n        <del>consume</del></span><span style=\"background-color: yellow\">\\n        consomme </span> and let all continue boiling for half an hour </td></tr><tr><td><audio controls><source src=\"https://storage.cloud.google.com/spls/gsp758/clean/367-130732-0030.wav\" type=\"audio/wav\">367-130732-0030</audio></td><td>pick out the crawfish and strain the broth through a napkin by pressure into a basin <span style=\"background-color: greenyellow\">\\n        <del>or</del> </span> in order to extract all the essence from the vegetables </td></tr><tr><td><audio controls><source src=\"https://storage.cloud.google.com/spls/gsp758/clean/367-130732-0031.wav\" type=\"audio/wav\">367-130732-0031</audio></td><td>pick the shells <span style=\"background-color: greenyellow\">\\n        <del>of</del></span><span style=\"background-color: yellow\">\\n        off </span> 25 of the crawfish tails <span style=\"background-color: greenyellow\">\\n        <del>trimmed</del></span><span style=\"background-color: yellow\">\\n        trim </span> them neatly and set them aside until wanted </td></tr><tr><td><audio controls><source src=\"https://storage.cloud.google.com/spls/gsp758/clean/367-130732-0032.wav\" type=\"audio/wav\">367-130732-0032</audio></td><td>reserve some of the spawn also half of the body shells with which to make the crawfish butter to finish the soup </td></tr><tr><td><audio controls><source src=\"https://storage.cloud.google.com/spls/gsp758/clean/367-130732-0033.wav\" type=\"audio/wav\">367-130732-0033</audio></td><td>this butter is made as follows place the shells <span style=\"background-color: greenyellow\">\\n        <del>in</del></span><span style=\"background-color: yellow\">\\n        on </span> a baking sheet in the oven to dry let the shells cool and then pound them in a mortar with a little lobster <span style=\"background-color: greenyellow\">\\n        <del>coil</del></span><span style=\"background-color: yellow\">\\n        coral </span> <span style=\"background-color: greenyellow\">\\n        <del>in</del></span><span style=\"background-color: yellow\">\\n        and </span> <span style=\"background-color: greenyellow\">\\n        <del>4</del></span><span style=\"background-color: yellow\">\\n        four </span> <span style=\"background-color: greenyellow\">\\n        <del>oz</del></span><span style=\"background-color: yellow\">\\n        ounces </span> of fresh butter thoroughly bruising the <span style=\"background-color: greenyellow\">\\n        <del>hole</del></span><span style=\"background-color: yellow\">\\n        whole </span> together so as to make a fine paste </td></tr><tr><td><audio controls><source src=\"https://storage.cloud.google.com/spls/gsp758/clean/s2-130732-0000.wav\" type=\"audio/wav\">s2-130732-0000</audio></td><td><span style=\"background-color: greenyellow\">\\n        <del>3</del></span><span style=\"background-color: yellow\">\\n        three </span> hours before cooking pour the <span style=\"background-color: greenyellow\">\\n        <del>cherry</del></span><span style=\"background-color: yellow\">\\n        sherry </span> over the lobster meat and let it stand until ready to cook </td></tr><tr><td><audio controls><source src=\"https://storage.cloud.google.com/spls/gsp758/clean/s2-130732-0001.wav\" type=\"audio/wav\">s2-130732-0001</audio></td><td>heat the butter and stir in with the lobster and wine then place this in a <span style=\"background-color: greenyellow\">\\n        <del>stew</del> </span> <span style=\"background-color: greenyellow\">\\n        <del>pan</del></span><span style=\"background-color: yellow\">\\n        stewpan </span> or chafing dish and cook for <span style=\"background-color: greenyellow\">\\n        <del>8</del></span><span style=\"background-color: yellow\">\\n        eight </span> minutes </td></tr><tr><td><audio controls><source src=\"https://storage.cloud.google.com/spls/gsp758/clean/s2-130732-0002.wav\" type=\"audio/wav\">s2-130732-0002</audio></td><td>have the yolks of eggs well beaten and add to them the cream and lobster fat stir well and then stir in a <span style=\"background-color: greenyellow\">\\n        <del>teaspoon</del> </span> <span style=\"background-color: greenyellow\">\\n        <del>full</del></span><span style=\"background-color: yellow\">\\n        teaspoonful </span> of flour </td></tr><tr><td><audio controls><source src=\"https://storage.cloud.google.com/spls/gsp758/clean/s2-130732-0003.wav\" type=\"audio/wav\">s2-130732-0003</audio></td><td>serve in a chafing dish with thin slices of dry toast </td></tr><tr><td><audio controls><source src=\"https://storage.cloud.google.com/spls/gsp758/clean/1-130732-0000.wav\" type=\"audio/wav\">1-130732-0000</audio></td><td>when is a lobster not a lobster when it is a crayfish this question <span style=\"background-color: yellow\">\\n        and</span> answer might well go into the primer of information for those who come to san francisco from the east </td></tr><tr><td><audio controls><source src=\"https://storage.cloud.google.com/spls/gsp758/clean/1-130732-0001.wav\" type=\"audio/wav\">1-130732-0001</audio></td><td>for what is called <span style=\"background-color: greenyellow\">\\n        <del>the</del></span><span style=\"background-color: yellow\">\\n        a </span> lobster in san francisco is not a lobster at all but a crayfish the true lobster is not <span style=\"background-color: greenyellow\">\\n        <del>fought</del></span><span style=\"background-color: yellow\">\\n        found </span> in the pacific along the california coast and so far efforts <span style=\"background-color: greenyellow\">\\n        <del>are</del></span><span style=\"background-color: yellow\">\\n        at </span> transplanting <span style=\"background-color: greenyellow\">\\n        <del>it</del> </span> have not been successful </td></tr><tr><td><audio controls><source src=\"https://storage.cloud.google.com/spls/gsp758/clean/4-130732-0000.wav\" type=\"audio/wav\">4-130732-0000</audio></td><td>probably nowhere in san francisco could <span style=\"background-color: greenyellow\">\\n        <del>1</del></span><span style=\"background-color: yellow\">\\n        one </span> get lobster better served than in the old <span style=\"background-color: greenyellow\">\\n        <del>delano</del></span><span style=\"background-color: yellow\">\\n        delmonico </span> restaurant of the days before the fire </td></tr><tr><td><audio controls><source src=\"https://storage.cloud.google.com/spls/gsp758/clean/4-130732-0001.wav\" type=\"audio/wav\">4-130732-0001</audio></td><td>a book could be written about this restaurant and then all would not be told for all its secrets can never be known </td></tr><tr><td><audio controls><source src=\"https://storage.cloud.google.com/spls/gsp758/clean/s3-130732-0000.wav\" type=\"audio/wav\">s3-130732-0000</audio></td><td>take the meat of <span style=\"background-color: greenyellow\">\\n        <del>1</del></span><span style=\"background-color: yellow\">\\n        one </span> large crab scraping out all of the fat from the shell </td></tr><tr><td><audio controls><source src=\"https://storage.cloud.google.com/spls/gsp758/clean/s3-130732-0001.wav\" type=\"audio/wav\">s3-130732-0001</audio></td><td>chop <span style=\"background-color: greenyellow\">\\n        <del>find</del></span><span style=\"background-color: yellow\">\\n        fine </span> the onion sweet pepper and tomato with the rosemary mash the clove of garlic rubbing thoroughly in a mortar and on this put the butter and flour mixing well together and gradually adding the salt and <span style=\"background-color: greenyellow\">\\n        <del>mignonette</del></span><span style=\"background-color: yellow\">\\n        minionette </span> pepper and stir in <span style=\"background-color: greenyellow\">\\n        <del>2</del></span><span style=\"background-color: yellow\">\\n        two </span> <span style=\"background-color: greenyellow\">\\n        <del>tablespoons</del></span><span style=\"background-color: yellow\">\\n        tablespoonfuls </span> of cream </td></tr><tr><td><audio controls><source src=\"https://storage.cloud.google.com/spls/gsp758/clean/s3-130732-0002.wav\" type=\"audio/wav\">s3-130732-0002</audio></td><td>the full flavor of the crawfish is best obtained in a bisque and the best recipe for this is by the famous chef <span style=\"background-color: greenyellow\">\\n        <del>frank</del> </span> <span style=\"background-color: greenyellow\">\\n        <del>aitelli</del></span><span style=\"background-color: yellow\">\\n        francatelli </span> who boasts having been the head of the cuisine of queen victoria </td></tr><tr><td><audio controls><source src=\"https://storage.cloud.google.com/spls/gsp758/clean/s3-130732-0003.wav\" type=\"audio/wav\">s3-130732-0003</audio></td><td>in new york city they have what they are pleased to call lobster palaces but there is not a restaurant in that great metropolis that could approach the delmonico of san francisco in its splendid service and its cuisine arrangements </td></tr><tr><td><audio controls><source src=\"https://storage.cloud.google.com/spls/gsp758/clean/s3-130732-0004.wav\" type=\"audio/wav\">s3-130732-0004</audio></td><td>in the pre-fire days there were many places which paid <span style=\"background-color: greenyellow\">\\n        <del>a</del> </span> <span style=\"background-color: greenyellow\">\\n        <del>special</del></span><span style=\"background-color: yellow\">\\n        especial </span> attention to the cooking of the crab among them being the cobweb palace </td></tr></table>\\n</body></html>'"
      ]
     },
     "execution_count": 26,
     "metadata": {},
     "output_type": "execute_result"
    }
   ],
   "source": [
    "aligned_html"
   ]
  },
  {
   "cell_type": "code",
   "execution_count": 27,
   "metadata": {
    "tags": []
   },
   "outputs": [
    {
     "data": {
      "text/plain": [
       "['<tr><td><audio controls><source src=\"https://storage.cloud.google.com/spls/gsp758/clean/367-130732-0000.wav\" type=\"audio/wav\">367-130732-0000</audio></td><td>lobsters and lobsters </td></tr>',\n",
       " '<tr><td><audio controls><source src=\"https://storage.cloud.google.com/spls/gsp758/clean/367-130732-0001.wav\" type=\"audio/wav\">367-130732-0001</audio></td><td>when is a lobster not a lobster when it is a crayfish </td></tr>',\n",
       " '<tr><td><audio controls><source src=\"https://storage.cloud.google.com/spls/gsp758/clean/367-130732-0002.wav\" type=\"audio/wav\">367-130732-0002</audio></td><td>this question and answer might well go into the <span style=\"background-color: greenyellow\">\\n        <del>primary</del></span><span style=\"background-color: yellow\">\\n        primer </span> of information for those who come to san francisco from the east for what is called a lobster in san francisco is not a lobster at all but a crayfish </td></tr>',\n",
       " '<tr><td><audio controls><source src=\"https://storage.cloud.google.com/spls/gsp758/clean/367-130732-0004.wav\" type=\"audio/wav\">367-130732-0004</audio></td><td>a book could be written about this restaurant and then all would not be told for all its secrets can never be known </td></tr>',\n",
       " '<tr><td><audio controls><source src=\"https://storage.cloud.google.com/spls/gsp758/clean/367-130732-0005.wav\" type=\"audio/wav\">367-130732-0005</audio></td><td>it was here that most magnificent dinners were arranged it was here that extraordinary dishes were concocted by chefs of <span style=\"background-color: yellow\">\\n        world</span> <span style=\"background-color: greenyellow\">\\n        <del>worldwide</del></span><span style=\"background-color: yellow\">\\n        wide </span> fame it was here that lobster <span style=\"background-color: yellow\">\\n        a</span> <span style=\"background-color: greenyellow\">\\n        <del>elad</del></span><span style=\"background-color: yellow\">\\n        la </span> newberg reached its highest perfection and this is the recipe that was followed when it was prepared in the <span style=\"background-color: greenyellow\">\\n        <del>demonico</del></span><span style=\"background-color: yellow\">\\n        delmonico </span> </td></tr>',\n",
       " '<tr><td><audio controls><source src=\"https://storage.cloud.google.com/spls/gsp758/clean/367-130732-0006.wav\" type=\"audio/wav\">367-130732-0006</audio></td><td>lobster <span style=\"background-color: yellow\">\\n        a</span> <span style=\"background-color: greenyellow\">\\n        <del>ela</del></span><span style=\"background-color: yellow\">\\n        la </span> newberg </td></tr>',\n",
       " '<tr><td><audio controls><source src=\"https://storage.cloud.google.com/spls/gsp758/clean/367-130732-0007.wav\" type=\"audio/wav\">367-130732-0007</audio></td><td><span style=\"background-color: greenyellow\">\\n        <del>1</del></span><span style=\"background-color: yellow\">\\n        one </span> pound of lobster meat <span style=\"background-color: greenyellow\">\\n        <del>1</del> </span> <span style=\"background-color: greenyellow\">\\n        <del>teaspoon</del></span><span style=\"background-color: yellow\">\\n        one </span> <span style=\"background-color: greenyellow\">\\n        <del>full</del></span><span style=\"background-color: yellow\">\\n        teaspoonful </span> of butter <span style=\"background-color: yellow\">\\n        one</span> <span style=\"background-color: greenyellow\">\\n        <del>1/2</del></span><span style=\"background-color: yellow\">\\n        half </span> pint of cream yolks of <span style=\"background-color: greenyellow\">\\n        <del>4</del></span><span style=\"background-color: yellow\">\\n        four </span> eggs <span style=\"background-color: greenyellow\">\\n        <del>1</del></span><span style=\"background-color: yellow\">\\n        one </span> wine glass of <span style=\"background-color: greenyellow\">\\n        <del>cherry</del></span><span style=\"background-color: yellow\">\\n        sherry </span> lobster fat </td></tr>',\n",
       " '<tr><td><audio controls><source src=\"https://storage.cloud.google.com/spls/gsp758/clean/367-130732-0008.wav\" type=\"audio/wav\">367-130732-0008</audio></td><td>put this in a double boiler and let cook until thick stirring constantly </td></tr>',\n",
       " '<tr><td><audio controls><source src=\"https://storage.cloud.google.com/spls/gsp758/clean/367-130732-0009.wav\" type=\"audio/wav\">367-130732-0009</audio></td><td>serve <span style=\"background-color: greenyellow\">\\n        <del>at</del></span><span style=\"background-color: yellow\">\\n        in </span> a chafing dish with <span style=\"background-color: greenyellow\">\\n        <del>flynn</del></span><span style=\"background-color: yellow\">\\n        thin </span> slices of dry toast </td></tr>',\n",
       " '<tr><td><audio controls><source src=\"https://storage.cloud.google.com/spls/gsp758/clean/367-130732-0010.wav\" type=\"audio/wav\">367-130732-0010</audio></td><td>king of <span style=\"background-color: yellow\">\\n        shell</span> <span style=\"background-color: greenyellow\">\\n        <del>shellfish</del></span><span style=\"background-color: yellow\">\\n        fish </span> </td></tr>',\n",
       " '<tr><td><audio controls><source src=\"https://storage.cloud.google.com/spls/gsp758/clean/367-130732-0011.wav\" type=\"audio/wav\">367-130732-0011</audio></td><td><span style=\"background-color: greenyellow\">\\n        <del>1</del></span><span style=\"background-color: yellow\">\\n        one </span> has to come to san francisco to partake of the king of <span style=\"background-color: yellow\">\\n        shell</span> <span style=\"background-color: greenyellow\">\\n        <del>selfish</del></span><span style=\"background-color: yellow\">\\n        fish </span> the mammoth pacific crab </td></tr>',\n",
       " '<tr><td><audio controls><source src=\"https://storage.cloud.google.com/spls/gsp758/clean/367-130732-0012.wav\" type=\"audio/wav\">367-130732-0012</audio></td><td>i say come to san francisco <span style=\"background-color: greenyellow\">\\n        <del>advisory</del></span><span style=\"background-color: yellow\">\\n        advisedly </span> for <span style=\"background-color: greenyellow\">\\n        <del>a</del> </span> while the crab is found all along the coast it is prepared nowhere so deliciously as in san francisco </td></tr>',\n",
       " '<tr><td><audio controls><source src=\"https://storage.cloud.google.com/spls/gsp758/clean/367-130732-0013.wav\" type=\"audio/wav\">367-130732-0013</audio></td><td><span style=\"background-color: greenyellow\">\\n        <del>gobies</del></span><span style=\"background-color: yellow\">\\n        gobey\\'s </span> <span style=\"background-color: greenyellow\">\\n        <del>pass</del></span><span style=\"background-color: yellow\">\\n        passed </span> with the fire and the little restaurant bearing his name and in charge of his widow in union square avenue has not attained the fame of the old place </td></tr>',\n",
       " '<tr><td><audio controls><source src=\"https://storage.cloud.google.com/spls/gsp758/clean/367-130732-0014.wav\" type=\"audio/wav\">367-130732-0014</audio></td><td>it is possible that she knows the secret of preparing crab as it was prepared in the <span style=\"background-color: greenyellow\">\\n        <del>gobies</del></span><span style=\"background-color: yellow\">\\n        gobey\\'s </span> of before the fire but his <span style=\"background-color: greenyellow\">\\n        <del>procedure</del></span><span style=\"background-color: yellow\">\\n        prestige </span> did not descend to her </td></tr>',\n",
       " '<tr><td><audio controls><source src=\"https://storage.cloud.google.com/spls/gsp758/clean/367-130732-0015.wav\" type=\"audio/wav\">367-130732-0015</audio></td><td><span style=\"background-color: greenyellow\">\\n        <del>gobi\\'s</del></span><span style=\"background-color: yellow\">\\n        gobey\\'s </span> crab stew </td></tr>',\n",
       " '<tr><td><audio controls><source src=\"https://storage.cloud.google.com/spls/gsp758/clean/367-130732-0016.wav\" type=\"audio/wav\">367-130732-0016</audio></td><td>take the meat of <span style=\"background-color: greenyellow\">\\n        <del>1</del></span><span style=\"background-color: yellow\">\\n        one </span> large crab scraping out all <span style=\"background-color: yellow\">\\n        of</span> the fat from the shell </td></tr>',\n",
       " '<tr><td><audio controls><source src=\"https://storage.cloud.google.com/spls/gsp758/clean/367-130732-0017.wav\" type=\"audio/wav\">367-130732-0017</audio></td><td>soak the crab meat in the <span style=\"background-color: greenyellow\">\\n        <del>share</del></span><span style=\"background-color: yellow\">\\n        sherry </span> <span style=\"background-color: greenyellow\">\\n        <del>2</del></span><span style=\"background-color: yellow\">\\n        two </span> hours before cooking </td></tr>',\n",
       " '<tr><td><audio controls><source src=\"https://storage.cloud.google.com/spls/gsp758/clean/367-130732-0018.wav\" type=\"audio/wav\">367-130732-0018</audio></td><td>chop <span style=\"background-color: greenyellow\">\\n        <del>find</del></span><span style=\"background-color: yellow\">\\n        fine </span> the onion sweet pepper and tomato with the rosemary </td></tr>',\n",
       " '<tr><td><audio controls><source src=\"https://storage.cloud.google.com/spls/gsp758/clean/367-130732-0019.wav\" type=\"audio/wav\">367-130732-0019</audio></td><td>heat this in a <span style=\"background-color: greenyellow\">\\n        <del>stew</del> </span> <span style=\"background-color: greenyellow\">\\n        <del>pan</del></span><span style=\"background-color: yellow\">\\n        stewpan </span> and when simmering add the <span style=\"background-color: greenyellow\">\\n        <del>cherry</del></span><span style=\"background-color: yellow\">\\n        sherry </span> and crab meat and let all cook together with <span style=\"background-color: greenyellow\">\\n        <del>the</del></span><span style=\"background-color: yellow\">\\n        a </span> slow fire for <span style=\"background-color: greenyellow\">\\n        <del>8</del></span><span style=\"background-color: yellow\">\\n        eight </span> minutes </td></tr>',\n",
       " '<tr><td><audio controls><source src=\"https://storage.cloud.google.com/spls/gsp758/clean/367-130732-0020.wav\" type=\"audio/wav\">367-130732-0020</audio></td><td>serve in a chafing dish with toasted crackers or thin slices of toasted bread </td></tr>',\n",
       " '<tr><td><audio controls><source src=\"https://storage.cloud.google.com/spls/gsp758/clean/367-130732-0021.wav\" type=\"audio/wav\">367-130732-0021</audio></td><td>lobster in miniature </td></tr>',\n",
       " '<tr><td><audio controls><source src=\"https://storage.cloud.google.com/spls/gsp758/clean/367-130732-0022.wav\" type=\"audio/wav\">367-130732-0022</audio></td><td>so far it has been used mostly for garnishment of other dishes and it is only recently that the <span style=\"background-color: greenyellow\">\\n        <del>whole</del></span><span style=\"background-color: yellow\">\\n        hof </span> <span style=\"background-color: greenyellow\">\\n        <del>brow</del></span><span style=\"background-color: yellow\">\\n        brau </span> has been making a specialty of them </td></tr>',\n",
       " '<tr><td><audio controls><source src=\"https://storage.cloud.google.com/spls/gsp758/clean/367-130732-0023.wav\" type=\"audio/wav\">367-130732-0023</audio></td><td>all <span style=\"background-color: yellow\">\\n        of</span> the better class restaurants however will serve them if you order them </td></tr>',\n",
       " '<tr><td><audio controls><source src=\"https://storage.cloud.google.com/spls/gsp758/clean/367-130732-0024.wav\" type=\"audio/wav\">367-130732-0024</audio></td><td>this is the recipe for <span style=\"background-color: greenyellow\">\\n        <del>8</del></span><span style=\"background-color: yellow\">\\n        eight </span> people and it is well worth trying if you are giving a dinner of importance </td></tr>',\n",
       " '<tr><td><audio controls><source src=\"https://storage.cloud.google.com/spls/gsp758/clean/367-130732-0025.wav\" type=\"audio/wav\">367-130732-0025</audio></td><td><span style=\"background-color: greenyellow\">\\n        <del>disc</del></span><span style=\"background-color: yellow\">\\n        bisque </span> of crawfish </td></tr>',\n",
       " '<tr><td><audio controls><source src=\"https://storage.cloud.google.com/spls/gsp758/clean/367-130732-0026.wav\" type=\"audio/wav\">367-130732-0026</audio></td><td>take 30 crawfish from which <span style=\"background-color: greenyellow\">\\n        <del>we</del> </span> <span style=\"background-color: greenyellow\">\\n        <del>moved</del></span><span style=\"background-color: yellow\">\\n        remove </span> the gut containing the <span style=\"background-color: greenyellow\">\\n        <del>gaul</del></span><span style=\"background-color: yellow\">\\n        gall </span> in the following manner <span style=\"background-color: greenyellow\">\\n        <del>to</del></span><span style=\"background-color: yellow\">\\n        take </span> <span style=\"background-color: greenyellow\">\\n        <del>confirm</del></span><span style=\"background-color: yellow\">\\n        firm </span> hold of the crawfish with the left hand so as to avoid being pinched by its claws with the thumb and forefinger of the right hand pinch the extreme end of the central fin of the tail and with a sudden jerk the gut will be withdrawn </td></tr>',\n",
       " '<tr><td><audio controls><source src=\"https://storage.cloud.google.com/spls/gsp758/clean/367-130732-0027.wav\" type=\"audio/wav\">367-130732-0027</audio></td><td><span style=\"background-color: yellow\">\\n        mince</span> <span style=\"background-color: greenyellow\">\\n        <del>mincer</del></span><span style=\"background-color: yellow\">\\n        or </span> cut into small dice a carrot <span style=\"background-color: greenyellow\">\\n        <del>and</del></span><span style=\"background-color: yellow\">\\n        an </span> onion <span style=\"background-color: greenyellow\">\\n        <del>1</del></span><span style=\"background-color: yellow\">\\n        one </span> head of celery and a few parsley roots and to these add a bay leaf a sprig of thyme a little <span style=\"background-color: greenyellow\">\\n        <del>minion</del> </span> <span style=\"background-color: greenyellow\">\\n        <del>net</del></span><span style=\"background-color: yellow\">\\n        minionette </span> pepper and <span style=\"background-color: greenyellow\">\\n        <del>2</del></span><span style=\"background-color: yellow\">\\n        two </span> <span style=\"background-color: greenyellow\">\\n        <del>oz</del></span><span style=\"background-color: yellow\">\\n        ounces </span> of butter </td></tr>',\n",
       " '<tr><td><audio controls><source src=\"https://storage.cloud.google.com/spls/gsp758/clean/367-130732-0028.wav\" type=\"audio/wav\">367-130732-0028</audio></td><td>put these ingredients into a <span style=\"background-color: greenyellow\">\\n        <del>stew</del> </span> <span style=\"background-color: greenyellow\">\\n        <del>pan</del></span><span style=\"background-color: yellow\">\\n        stewpan </span> and fry them 10 minutes then throw in the crawfish and pour on them half a bottle of french white wine </td></tr>',\n",
       " '<tr><td><audio controls><source src=\"https://storage.cloud.google.com/spls/gsp758/clean/367-130732-0029.wav\" type=\"audio/wav\">367-130732-0029</audio></td><td>allow this to boil and then add a quart of strong <span style=\"background-color: greenyellow\">\\n        <del>consume</del></span><span style=\"background-color: yellow\">\\n        consomme </span> and let all continue boiling for half an hour </td></tr>',\n",
       " '<tr><td><audio controls><source src=\"https://storage.cloud.google.com/spls/gsp758/clean/367-130732-0030.wav\" type=\"audio/wav\">367-130732-0030</audio></td><td>pick out the crawfish and strain the broth through a napkin by pressure into a basin <span style=\"background-color: greenyellow\">\\n        <del>or</del> </span> in order to extract all the essence from the vegetables </td></tr>',\n",
       " '<tr><td><audio controls><source src=\"https://storage.cloud.google.com/spls/gsp758/clean/367-130732-0031.wav\" type=\"audio/wav\">367-130732-0031</audio></td><td>pick the shells <span style=\"background-color: greenyellow\">\\n        <del>of</del></span><span style=\"background-color: yellow\">\\n        off </span> 25 of the crawfish tails <span style=\"background-color: greenyellow\">\\n        <del>trimmed</del></span><span style=\"background-color: yellow\">\\n        trim </span> them neatly and set them aside until wanted </td></tr>',\n",
       " '<tr><td><audio controls><source src=\"https://storage.cloud.google.com/spls/gsp758/clean/367-130732-0032.wav\" type=\"audio/wav\">367-130732-0032</audio></td><td>reserve some of the spawn also half of the body shells with which to make the crawfish butter to finish the soup </td></tr>',\n",
       " '<tr><td><audio controls><source src=\"https://storage.cloud.google.com/spls/gsp758/clean/367-130732-0033.wav\" type=\"audio/wav\">367-130732-0033</audio></td><td>this butter is made as follows place the shells <span style=\"background-color: greenyellow\">\\n        <del>in</del></span><span style=\"background-color: yellow\">\\n        on </span> a baking sheet in the oven to dry let the shells cool and then pound them in a mortar with a little lobster <span style=\"background-color: greenyellow\">\\n        <del>coil</del></span><span style=\"background-color: yellow\">\\n        coral </span> <span style=\"background-color: greenyellow\">\\n        <del>in</del></span><span style=\"background-color: yellow\">\\n        and </span> <span style=\"background-color: greenyellow\">\\n        <del>4</del></span><span style=\"background-color: yellow\">\\n        four </span> <span style=\"background-color: greenyellow\">\\n        <del>oz</del></span><span style=\"background-color: yellow\">\\n        ounces </span> of fresh butter thoroughly bruising the <span style=\"background-color: greenyellow\">\\n        <del>hole</del></span><span style=\"background-color: yellow\">\\n        whole </span> together so as to make a fine paste </td></tr>',\n",
       " '<tr><td><audio controls><source src=\"https://storage.cloud.google.com/spls/gsp758/clean/s2-130732-0000.wav\" type=\"audio/wav\">s2-130732-0000</audio></td><td><span style=\"background-color: greenyellow\">\\n        <del>3</del></span><span style=\"background-color: yellow\">\\n        three </span> hours before cooking pour the <span style=\"background-color: greenyellow\">\\n        <del>cherry</del></span><span style=\"background-color: yellow\">\\n        sherry </span> over the lobster meat and let it stand until ready to cook </td></tr>',\n",
       " '<tr><td><audio controls><source src=\"https://storage.cloud.google.com/spls/gsp758/clean/s2-130732-0001.wav\" type=\"audio/wav\">s2-130732-0001</audio></td><td>heat the butter and stir in with the lobster and wine then place this in a <span style=\"background-color: greenyellow\">\\n        <del>stew</del> </span> <span style=\"background-color: greenyellow\">\\n        <del>pan</del></span><span style=\"background-color: yellow\">\\n        stewpan </span> or chafing dish and cook for <span style=\"background-color: greenyellow\">\\n        <del>8</del></span><span style=\"background-color: yellow\">\\n        eight </span> minutes </td></tr>',\n",
       " '<tr><td><audio controls><source src=\"https://storage.cloud.google.com/spls/gsp758/clean/s2-130732-0002.wav\" type=\"audio/wav\">s2-130732-0002</audio></td><td>have the yolks of eggs well beaten and add to them the cream and lobster fat stir well and then stir in a <span style=\"background-color: greenyellow\">\\n        <del>teaspoon</del> </span> <span style=\"background-color: greenyellow\">\\n        <del>full</del></span><span style=\"background-color: yellow\">\\n        teaspoonful </span> of flour </td></tr>',\n",
       " '<tr><td><audio controls><source src=\"https://storage.cloud.google.com/spls/gsp758/clean/s2-130732-0003.wav\" type=\"audio/wav\">s2-130732-0003</audio></td><td>serve in a chafing dish with thin slices of dry toast </td></tr>',\n",
       " '<tr><td><audio controls><source src=\"https://storage.cloud.google.com/spls/gsp758/clean/1-130732-0000.wav\" type=\"audio/wav\">1-130732-0000</audio></td><td>when is a lobster not a lobster when it is a crayfish this question <span style=\"background-color: yellow\">\\n        and</span> answer might well go into the primer of information for those who come to san francisco from the east </td></tr>',\n",
       " '<tr><td><audio controls><source src=\"https://storage.cloud.google.com/spls/gsp758/clean/1-130732-0001.wav\" type=\"audio/wav\">1-130732-0001</audio></td><td>for what is called <span style=\"background-color: greenyellow\">\\n        <del>the</del></span><span style=\"background-color: yellow\">\\n        a </span> lobster in san francisco is not a lobster at all but a crayfish the true lobster is not <span style=\"background-color: greenyellow\">\\n        <del>fought</del></span><span style=\"background-color: yellow\">\\n        found </span> in the pacific along the california coast and so far efforts <span style=\"background-color: greenyellow\">\\n        <del>are</del></span><span style=\"background-color: yellow\">\\n        at </span> transplanting <span style=\"background-color: greenyellow\">\\n        <del>it</del> </span> have not been successful </td></tr>',\n",
       " '<tr><td><audio controls><source src=\"https://storage.cloud.google.com/spls/gsp758/clean/4-130732-0000.wav\" type=\"audio/wav\">4-130732-0000</audio></td><td>probably nowhere in san francisco could <span style=\"background-color: greenyellow\">\\n        <del>1</del></span><span style=\"background-color: yellow\">\\n        one </span> get lobster better served than in the old <span style=\"background-color: greenyellow\">\\n        <del>delano</del></span><span style=\"background-color: yellow\">\\n        delmonico </span> restaurant of the days before the fire </td></tr>',\n",
       " '<tr><td><audio controls><source src=\"https://storage.cloud.google.com/spls/gsp758/clean/4-130732-0001.wav\" type=\"audio/wav\">4-130732-0001</audio></td><td>a book could be written about this restaurant and then all would not be told for all its secrets can never be known </td></tr>',\n",
       " '<tr><td><audio controls><source src=\"https://storage.cloud.google.com/spls/gsp758/clean/s3-130732-0000.wav\" type=\"audio/wav\">s3-130732-0000</audio></td><td>take the meat of <span style=\"background-color: greenyellow\">\\n        <del>1</del></span><span style=\"background-color: yellow\">\\n        one </span> large crab scraping out all of the fat from the shell </td></tr>',\n",
       " '<tr><td><audio controls><source src=\"https://storage.cloud.google.com/spls/gsp758/clean/s3-130732-0001.wav\" type=\"audio/wav\">s3-130732-0001</audio></td><td>chop <span style=\"background-color: greenyellow\">\\n        <del>find</del></span><span style=\"background-color: yellow\">\\n        fine </span> the onion sweet pepper and tomato with the rosemary mash the clove of garlic rubbing thoroughly in a mortar and on this put the butter and flour mixing well together and gradually adding the salt and <span style=\"background-color: greenyellow\">\\n        <del>mignonette</del></span><span style=\"background-color: yellow\">\\n        minionette </span> pepper and stir in <span style=\"background-color: greenyellow\">\\n        <del>2</del></span><span style=\"background-color: yellow\">\\n        two </span> <span style=\"background-color: greenyellow\">\\n        <del>tablespoons</del></span><span style=\"background-color: yellow\">\\n        tablespoonfuls </span> of cream </td></tr>',\n",
       " '<tr><td><audio controls><source src=\"https://storage.cloud.google.com/spls/gsp758/clean/s3-130732-0002.wav\" type=\"audio/wav\">s3-130732-0002</audio></td><td>the full flavor of the crawfish is best obtained in a bisque and the best recipe for this is by the famous chef <span style=\"background-color: greenyellow\">\\n        <del>frank</del> </span> <span style=\"background-color: greenyellow\">\\n        <del>aitelli</del></span><span style=\"background-color: yellow\">\\n        francatelli </span> who boasts having been the head of the cuisine of queen victoria </td></tr>',\n",
       " '<tr><td><audio controls><source src=\"https://storage.cloud.google.com/spls/gsp758/clean/s3-130732-0003.wav\" type=\"audio/wav\">s3-130732-0003</audio></td><td>in new york city they have what they are pleased to call lobster palaces but there is not a restaurant in that great metropolis that could approach the delmonico of san francisco in its splendid service and its cuisine arrangements </td></tr>',\n",
       " '<tr><td><audio controls><source src=\"https://storage.cloud.google.com/spls/gsp758/clean/s3-130732-0004.wav\" type=\"audio/wav\">s3-130732-0004</audio></td><td>in the pre-fire days there were many places which paid <span style=\"background-color: greenyellow\">\\n        <del>a</del> </span> <span style=\"background-color: greenyellow\">\\n        <del>special</del></span><span style=\"background-color: yellow\">\\n        especial </span> attention to the cooking of the crab among them being the cobweb palace </td></tr>',\n",
       " '<tr><td><audio controls><source src=\"https://storage.cloud.google.com/spls/gsp758/clean/367-130732-0000.wav\" type=\"audio/wav\">367-130732-0000</audio></td><td>lobsters and lobsters </td></tr>',\n",
       " '<tr><td><audio controls><source src=\"https://storage.cloud.google.com/spls/gsp758/clean/367-130732-0001.wav\" type=\"audio/wav\">367-130732-0001</audio></td><td>when is a lobster not a lobster when it is a crayfish </td></tr>',\n",
       " '<tr><td><audio controls><source src=\"https://storage.cloud.google.com/spls/gsp758/clean/367-130732-0002.wav\" type=\"audio/wav\">367-130732-0002</audio></td><td>this question and answer might well go into the <span style=\"background-color: greenyellow\">\\n        <del>primary</del></span><span style=\"background-color: yellow\">\\n        primer </span> of information for those who come to san francisco from the east for what is called a lobster in san francisco is not a lobster at all but a crayfish </td></tr>',\n",
       " '<tr><td><audio controls><source src=\"https://storage.cloud.google.com/spls/gsp758/clean/367-130732-0004.wav\" type=\"audio/wav\">367-130732-0004</audio></td><td>a book could be written about this restaurant and then all would not be told for all its secrets can never be known </td></tr>',\n",
       " '<tr><td><audio controls><source src=\"https://storage.cloud.google.com/spls/gsp758/clean/367-130732-0005.wav\" type=\"audio/wav\">367-130732-0005</audio></td><td>it was here that most magnificent dinners were arranged it was here that extraordinary dishes were concocted by chefs of <span style=\"background-color: yellow\">\\n        world</span> <span style=\"background-color: greenyellow\">\\n        <del>worldwide</del></span><span style=\"background-color: yellow\">\\n        wide </span> fame it was here that lobster <span style=\"background-color: yellow\">\\n        a</span> <span style=\"background-color: greenyellow\">\\n        <del>elad</del></span><span style=\"background-color: yellow\">\\n        la </span> newberg reached its highest perfection and this is the recipe that was followed when it was prepared in the <span style=\"background-color: greenyellow\">\\n        <del>demonico</del></span><span style=\"background-color: yellow\">\\n        delmonico </span> </td></tr>',\n",
       " '<tr><td><audio controls><source src=\"https://storage.cloud.google.com/spls/gsp758/clean/367-130732-0006.wav\" type=\"audio/wav\">367-130732-0006</audio></td><td>lobster <span style=\"background-color: yellow\">\\n        a</span> <span style=\"background-color: greenyellow\">\\n        <del>ela</del></span><span style=\"background-color: yellow\">\\n        la </span> newberg </td></tr>',\n",
       " '<tr><td><audio controls><source src=\"https://storage.cloud.google.com/spls/gsp758/clean/367-130732-0007.wav\" type=\"audio/wav\">367-130732-0007</audio></td><td><span style=\"background-color: greenyellow\">\\n        <del>1</del></span><span style=\"background-color: yellow\">\\n        one </span> pound of lobster meat <span style=\"background-color: greenyellow\">\\n        <del>1</del> </span> <span style=\"background-color: greenyellow\">\\n        <del>teaspoon</del></span><span style=\"background-color: yellow\">\\n        one </span> <span style=\"background-color: greenyellow\">\\n        <del>full</del></span><span style=\"background-color: yellow\">\\n        teaspoonful </span> of butter <span style=\"background-color: yellow\">\\n        one</span> <span style=\"background-color: greenyellow\">\\n        <del>1/2</del></span><span style=\"background-color: yellow\">\\n        half </span> pint of cream yolks of <span style=\"background-color: greenyellow\">\\n        <del>4</del></span><span style=\"background-color: yellow\">\\n        four </span> eggs <span style=\"background-color: greenyellow\">\\n        <del>1</del></span><span style=\"background-color: yellow\">\\n        one </span> wine glass of <span style=\"background-color: greenyellow\">\\n        <del>cherry</del></span><span style=\"background-color: yellow\">\\n        sherry </span> lobster fat </td></tr>',\n",
       " '<tr><td><audio controls><source src=\"https://storage.cloud.google.com/spls/gsp758/clean/367-130732-0008.wav\" type=\"audio/wav\">367-130732-0008</audio></td><td>put this in a double boiler and let cook until thick stirring constantly </td></tr>',\n",
       " '<tr><td><audio controls><source src=\"https://storage.cloud.google.com/spls/gsp758/clean/367-130732-0009.wav\" type=\"audio/wav\">367-130732-0009</audio></td><td>serve <span style=\"background-color: greenyellow\">\\n        <del>at</del></span><span style=\"background-color: yellow\">\\n        in </span> a chafing dish with <span style=\"background-color: greenyellow\">\\n        <del>flynn</del></span><span style=\"background-color: yellow\">\\n        thin </span> slices of dry toast </td></tr>',\n",
       " '<tr><td><audio controls><source src=\"https://storage.cloud.google.com/spls/gsp758/clean/367-130732-0010.wav\" type=\"audio/wav\">367-130732-0010</audio></td><td>king of <span style=\"background-color: yellow\">\\n        shell</span> <span style=\"background-color: greenyellow\">\\n        <del>shellfish</del></span><span style=\"background-color: yellow\">\\n        fish </span> </td></tr>',\n",
       " '<tr><td><audio controls><source src=\"https://storage.cloud.google.com/spls/gsp758/clean/367-130732-0011.wav\" type=\"audio/wav\">367-130732-0011</audio></td><td><span style=\"background-color: greenyellow\">\\n        <del>1</del></span><span style=\"background-color: yellow\">\\n        one </span> has to come to san francisco to partake of the king of <span style=\"background-color: yellow\">\\n        shell</span> <span style=\"background-color: greenyellow\">\\n        <del>selfish</del></span><span style=\"background-color: yellow\">\\n        fish </span> the mammoth pacific crab </td></tr>',\n",
       " '<tr><td><audio controls><source src=\"https://storage.cloud.google.com/spls/gsp758/clean/367-130732-0012.wav\" type=\"audio/wav\">367-130732-0012</audio></td><td>i say come to san francisco <span style=\"background-color: greenyellow\">\\n        <del>advisory</del></span><span style=\"background-color: yellow\">\\n        advisedly </span> for <span style=\"background-color: greenyellow\">\\n        <del>a</del> </span> while the crab is found all along the coast it is prepared nowhere so deliciously as in san francisco </td></tr>',\n",
       " '<tr><td><audio controls><source src=\"https://storage.cloud.google.com/spls/gsp758/clean/367-130732-0013.wav\" type=\"audio/wav\">367-130732-0013</audio></td><td><span style=\"background-color: greenyellow\">\\n        <del>gobies</del></span><span style=\"background-color: yellow\">\\n        gobey\\'s </span> <span style=\"background-color: greenyellow\">\\n        <del>pass</del></span><span style=\"background-color: yellow\">\\n        passed </span> with the fire and the little restaurant bearing his name and in charge of his widow in union square avenue has not attained the fame of the old place </td></tr>',\n",
       " '<tr><td><audio controls><source src=\"https://storage.cloud.google.com/spls/gsp758/clean/367-130732-0014.wav\" type=\"audio/wav\">367-130732-0014</audio></td><td>it is possible that she knows the secret of preparing crab as it was prepared in the <span style=\"background-color: greenyellow\">\\n        <del>gobies</del></span><span style=\"background-color: yellow\">\\n        gobey\\'s </span> of before the fire but his <span style=\"background-color: greenyellow\">\\n        <del>procedure</del></span><span style=\"background-color: yellow\">\\n        prestige </span> did not descend to her </td></tr>',\n",
       " '<tr><td><audio controls><source src=\"https://storage.cloud.google.com/spls/gsp758/clean/367-130732-0015.wav\" type=\"audio/wav\">367-130732-0015</audio></td><td><span style=\"background-color: greenyellow\">\\n        <del>gobi\\'s</del></span><span style=\"background-color: yellow\">\\n        gobey\\'s </span> crab stew </td></tr>',\n",
       " '<tr><td><audio controls><source src=\"https://storage.cloud.google.com/spls/gsp758/clean/367-130732-0016.wav\" type=\"audio/wav\">367-130732-0016</audio></td><td>take the meat of <span style=\"background-color: greenyellow\">\\n        <del>1</del></span><span style=\"background-color: yellow\">\\n        one </span> large crab scraping out all <span style=\"background-color: yellow\">\\n        of</span> the fat from the shell </td></tr>',\n",
       " '<tr><td><audio controls><source src=\"https://storage.cloud.google.com/spls/gsp758/clean/367-130732-0017.wav\" type=\"audio/wav\">367-130732-0017</audio></td><td>soak the crab meat in the <span style=\"background-color: greenyellow\">\\n        <del>share</del></span><span style=\"background-color: yellow\">\\n        sherry </span> <span style=\"background-color: greenyellow\">\\n        <del>2</del></span><span style=\"background-color: yellow\">\\n        two </span> hours before cooking </td></tr>',\n",
       " '<tr><td><audio controls><source src=\"https://storage.cloud.google.com/spls/gsp758/clean/367-130732-0018.wav\" type=\"audio/wav\">367-130732-0018</audio></td><td>chop <span style=\"background-color: greenyellow\">\\n        <del>find</del></span><span style=\"background-color: yellow\">\\n        fine </span> the onion sweet pepper and tomato with the rosemary </td></tr>',\n",
       " '<tr><td><audio controls><source src=\"https://storage.cloud.google.com/spls/gsp758/clean/367-130732-0019.wav\" type=\"audio/wav\">367-130732-0019</audio></td><td>heat this in a <span style=\"background-color: greenyellow\">\\n        <del>stew</del> </span> <span style=\"background-color: greenyellow\">\\n        <del>pan</del></span><span style=\"background-color: yellow\">\\n        stewpan </span> and when simmering add the <span style=\"background-color: greenyellow\">\\n        <del>cherry</del></span><span style=\"background-color: yellow\">\\n        sherry </span> and crab meat and let all cook together with <span style=\"background-color: greenyellow\">\\n        <del>the</del></span><span style=\"background-color: yellow\">\\n        a </span> slow fire for <span style=\"background-color: greenyellow\">\\n        <del>8</del></span><span style=\"background-color: yellow\">\\n        eight </span> minutes </td></tr>',\n",
       " '<tr><td><audio controls><source src=\"https://storage.cloud.google.com/spls/gsp758/clean/367-130732-0020.wav\" type=\"audio/wav\">367-130732-0020</audio></td><td>serve in a chafing dish with toasted crackers or thin slices of toasted bread </td></tr>',\n",
       " '<tr><td><audio controls><source src=\"https://storage.cloud.google.com/spls/gsp758/clean/367-130732-0021.wav\" type=\"audio/wav\">367-130732-0021</audio></td><td>lobster in miniature </td></tr>',\n",
       " '<tr><td><audio controls><source src=\"https://storage.cloud.google.com/spls/gsp758/clean/367-130732-0022.wav\" type=\"audio/wav\">367-130732-0022</audio></td><td>so far it has been used mostly for garnishment of other dishes and it is only recently that the <span style=\"background-color: greenyellow\">\\n        <del>whole</del></span><span style=\"background-color: yellow\">\\n        hof </span> <span style=\"background-color: greenyellow\">\\n        <del>brow</del></span><span style=\"background-color: yellow\">\\n        brau </span> has been making a specialty of them </td></tr>',\n",
       " '<tr><td><audio controls><source src=\"https://storage.cloud.google.com/spls/gsp758/clean/367-130732-0023.wav\" type=\"audio/wav\">367-130732-0023</audio></td><td>all <span style=\"background-color: yellow\">\\n        of</span> the better class restaurants however will serve them if you order them </td></tr>',\n",
       " '<tr><td><audio controls><source src=\"https://storage.cloud.google.com/spls/gsp758/clean/367-130732-0024.wav\" type=\"audio/wav\">367-130732-0024</audio></td><td>this is the recipe for <span style=\"background-color: greenyellow\">\\n        <del>8</del></span><span style=\"background-color: yellow\">\\n        eight </span> people and it is well worth trying if you are giving a dinner of importance </td></tr>',\n",
       " '<tr><td><audio controls><source src=\"https://storage.cloud.google.com/spls/gsp758/clean/367-130732-0025.wav\" type=\"audio/wav\">367-130732-0025</audio></td><td><span style=\"background-color: greenyellow\">\\n        <del>disc</del></span><span style=\"background-color: yellow\">\\n        bisque </span> of crawfish </td></tr>',\n",
       " '<tr><td><audio controls><source src=\"https://storage.cloud.google.com/spls/gsp758/clean/367-130732-0026.wav\" type=\"audio/wav\">367-130732-0026</audio></td><td>take 30 crawfish from which <span style=\"background-color: greenyellow\">\\n        <del>we</del> </span> <span style=\"background-color: greenyellow\">\\n        <del>moved</del></span><span style=\"background-color: yellow\">\\n        remove </span> the gut containing the <span style=\"background-color: greenyellow\">\\n        <del>gaul</del></span><span style=\"background-color: yellow\">\\n        gall </span> in the following manner <span style=\"background-color: greenyellow\">\\n        <del>to</del></span><span style=\"background-color: yellow\">\\n        take </span> <span style=\"background-color: greenyellow\">\\n        <del>confirm</del></span><span style=\"background-color: yellow\">\\n        firm </span> hold of the crawfish with the left hand so as to avoid being pinched by its claws with the thumb and forefinger of the right hand pinch the extreme end of the central fin of the tail and with a sudden jerk the gut will be withdrawn </td></tr>',\n",
       " '<tr><td><audio controls><source src=\"https://storage.cloud.google.com/spls/gsp758/clean/367-130732-0027.wav\" type=\"audio/wav\">367-130732-0027</audio></td><td><span style=\"background-color: yellow\">\\n        mince</span> <span style=\"background-color: greenyellow\">\\n        <del>mincer</del></span><span style=\"background-color: yellow\">\\n        or </span> cut into small dice a carrot <span style=\"background-color: greenyellow\">\\n        <del>and</del></span><span style=\"background-color: yellow\">\\n        an </span> onion <span style=\"background-color: greenyellow\">\\n        <del>1</del></span><span style=\"background-color: yellow\">\\n        one </span> head of celery and a few parsley roots and to these add a bay leaf a sprig of thyme a little <span style=\"background-color: greenyellow\">\\n        <del>minion</del> </span> <span style=\"background-color: greenyellow\">\\n        <del>net</del></span><span style=\"background-color: yellow\">\\n        minionette </span> pepper and <span style=\"background-color: greenyellow\">\\n        <del>2</del></span><span style=\"background-color: yellow\">\\n        two </span> <span style=\"background-color: greenyellow\">\\n        <del>oz</del></span><span style=\"background-color: yellow\">\\n        ounces </span> of butter </td></tr>',\n",
       " '<tr><td><audio controls><source src=\"https://storage.cloud.google.com/spls/gsp758/clean/367-130732-0028.wav\" type=\"audio/wav\">367-130732-0028</audio></td><td>put these ingredients into a <span style=\"background-color: greenyellow\">\\n        <del>stew</del> </span> <span style=\"background-color: greenyellow\">\\n        <del>pan</del></span><span style=\"background-color: yellow\">\\n        stewpan </span> and fry them 10 minutes then throw in the crawfish and pour on them half a bottle of french white wine </td></tr>',\n",
       " '<tr><td><audio controls><source src=\"https://storage.cloud.google.com/spls/gsp758/clean/367-130732-0029.wav\" type=\"audio/wav\">367-130732-0029</audio></td><td>allow this to boil and then add a quart of strong <span style=\"background-color: greenyellow\">\\n        <del>consume</del></span><span style=\"background-color: yellow\">\\n        consomme </span> and let all continue boiling for half an hour </td></tr>',\n",
       " '<tr><td><audio controls><source src=\"https://storage.cloud.google.com/spls/gsp758/clean/367-130732-0030.wav\" type=\"audio/wav\">367-130732-0030</audio></td><td>pick out the crawfish and strain the broth through a napkin by pressure into a basin <span style=\"background-color: greenyellow\">\\n        <del>or</del> </span> in order to extract all the essence from the vegetables </td></tr>',\n",
       " '<tr><td><audio controls><source src=\"https://storage.cloud.google.com/spls/gsp758/clean/367-130732-0031.wav\" type=\"audio/wav\">367-130732-0031</audio></td><td>pick the shells <span style=\"background-color: greenyellow\">\\n        <del>of</del></span><span style=\"background-color: yellow\">\\n        off </span> 25 of the crawfish tails <span style=\"background-color: greenyellow\">\\n        <del>trimmed</del></span><span style=\"background-color: yellow\">\\n        trim </span> them neatly and set them aside until wanted </td></tr>',\n",
       " '<tr><td><audio controls><source src=\"https://storage.cloud.google.com/spls/gsp758/clean/367-130732-0032.wav\" type=\"audio/wav\">367-130732-0032</audio></td><td>reserve some of the spawn also half of the body shells with which to make the crawfish butter to finish the soup </td></tr>',\n",
       " '<tr><td><audio controls><source src=\"https://storage.cloud.google.com/spls/gsp758/clean/367-130732-0033.wav\" type=\"audio/wav\">367-130732-0033</audio></td><td>this butter is made as follows place the shells <span style=\"background-color: greenyellow\">\\n        <del>in</del></span><span style=\"background-color: yellow\">\\n        on </span> a baking sheet in the oven to dry let the shells cool and then pound them in a mortar with a little lobster <span style=\"background-color: greenyellow\">\\n        <del>coil</del></span><span style=\"background-color: yellow\">\\n        coral </span> <span style=\"background-color: greenyellow\">\\n        <del>in</del></span><span style=\"background-color: yellow\">\\n        and </span> <span style=\"background-color: greenyellow\">\\n        <del>4</del></span><span style=\"background-color: yellow\">\\n        four </span> <span style=\"background-color: greenyellow\">\\n        <del>oz</del></span><span style=\"background-color: yellow\">\\n        ounces </span> of fresh butter thoroughly bruising the <span style=\"background-color: greenyellow\">\\n        <del>hole</del></span><span style=\"background-color: yellow\">\\n        whole </span> together so as to make a fine paste </td></tr>',\n",
       " '<tr><td><audio controls><source src=\"https://storage.cloud.google.com/spls/gsp758/clean/s2-130732-0000.wav\" type=\"audio/wav\">s2-130732-0000</audio></td><td><span style=\"background-color: greenyellow\">\\n        <del>3</del></span><span style=\"background-color: yellow\">\\n        three </span> hours before cooking pour the <span style=\"background-color: greenyellow\">\\n        <del>cherry</del></span><span style=\"background-color: yellow\">\\n        sherry </span> over the lobster meat and let it stand until ready to cook </td></tr>',\n",
       " '<tr><td><audio controls><source src=\"https://storage.cloud.google.com/spls/gsp758/clean/s2-130732-0001.wav\" type=\"audio/wav\">s2-130732-0001</audio></td><td>heat the butter and stir in with the lobster and wine then place this in a <span style=\"background-color: greenyellow\">\\n        <del>stew</del> </span> <span style=\"background-color: greenyellow\">\\n        <del>pan</del></span><span style=\"background-color: yellow\">\\n        stewpan </span> or chafing dish and cook for <span style=\"background-color: greenyellow\">\\n        <del>8</del></span><span style=\"background-color: yellow\">\\n        eight </span> minutes </td></tr>',\n",
       " '<tr><td><audio controls><source src=\"https://storage.cloud.google.com/spls/gsp758/clean/s2-130732-0002.wav\" type=\"audio/wav\">s2-130732-0002</audio></td><td>have the yolks of eggs well beaten and add to them the cream and lobster fat stir well and then stir in a <span style=\"background-color: greenyellow\">\\n        <del>teaspoon</del> </span> <span style=\"background-color: greenyellow\">\\n        <del>full</del></span><span style=\"background-color: yellow\">\\n        teaspoonful </span> of flour </td></tr>',\n",
       " '<tr><td><audio controls><source src=\"https://storage.cloud.google.com/spls/gsp758/clean/s2-130732-0003.wav\" type=\"audio/wav\">s2-130732-0003</audio></td><td>serve in a chafing dish with thin slices of dry toast </td></tr>',\n",
       " '<tr><td><audio controls><source src=\"https://storage.cloud.google.com/spls/gsp758/clean/1-130732-0000.wav\" type=\"audio/wav\">1-130732-0000</audio></td><td>when is a lobster not a lobster when it is a crayfish this question <span style=\"background-color: yellow\">\\n        and</span> answer might well go into the primer of information for those who come to san francisco from the east </td></tr>',\n",
       " '<tr><td><audio controls><source src=\"https://storage.cloud.google.com/spls/gsp758/clean/1-130732-0001.wav\" type=\"audio/wav\">1-130732-0001</audio></td><td>for what is called <span style=\"background-color: greenyellow\">\\n        <del>the</del></span><span style=\"background-color: yellow\">\\n        a </span> lobster in san francisco is not a lobster at all but a crayfish the true lobster is not <span style=\"background-color: greenyellow\">\\n        <del>fought</del></span><span style=\"background-color: yellow\">\\n        found </span> in the pacific along the california coast and so far efforts <span style=\"background-color: greenyellow\">\\n        <del>are</del></span><span style=\"background-color: yellow\">\\n        at </span> transplanting <span style=\"background-color: greenyellow\">\\n        <del>it</del> </span> have not been successful </td></tr>',\n",
       " '<tr><td><audio controls><source src=\"https://storage.cloud.google.com/spls/gsp758/clean/4-130732-0000.wav\" type=\"audio/wav\">4-130732-0000</audio></td><td>probably nowhere in san francisco could <span style=\"background-color: greenyellow\">\\n        <del>1</del></span><span style=\"background-color: yellow\">\\n        one </span> get lobster better served than in the old <span style=\"background-color: greenyellow\">\\n        <del>delano</del></span><span style=\"background-color: yellow\">\\n        delmonico </span> restaurant of the days before the fire </td></tr>',\n",
       " '<tr><td><audio controls><source src=\"https://storage.cloud.google.com/spls/gsp758/clean/4-130732-0001.wav\" type=\"audio/wav\">4-130732-0001</audio></td><td>a book could be written about this restaurant and then all would not be told for all its secrets can never be known </td></tr>',\n",
       " '<tr><td><audio controls><source src=\"https://storage.cloud.google.com/spls/gsp758/clean/s3-130732-0000.wav\" type=\"audio/wav\">s3-130732-0000</audio></td><td>take the meat of <span style=\"background-color: greenyellow\">\\n        <del>1</del></span><span style=\"background-color: yellow\">\\n        one </span> large crab scraping out all of the fat from the shell </td></tr>',\n",
       " '<tr><td><audio controls><source src=\"https://storage.cloud.google.com/spls/gsp758/clean/s3-130732-0001.wav\" type=\"audio/wav\">s3-130732-0001</audio></td><td>chop <span style=\"background-color: greenyellow\">\\n        <del>find</del></span><span style=\"background-color: yellow\">\\n        fine </span> the onion sweet pepper and tomato with the rosemary mash the clove of garlic rubbing thoroughly in a mortar and on this put the butter and flour mixing well together and gradually adding the salt and <span style=\"background-color: greenyellow\">\\n        <del>mignonette</del></span><span style=\"background-color: yellow\">\\n        minionette </span> pepper and stir in <span style=\"background-color: greenyellow\">\\n        <del>2</del></span><span style=\"background-color: yellow\">\\n        two </span> <span style=\"background-color: greenyellow\">\\n        <del>tablespoons</del></span><span style=\"background-color: yellow\">\\n        tablespoonfuls </span> of cream </td></tr>',\n",
       " '<tr><td><audio controls><source src=\"https://storage.cloud.google.com/spls/gsp758/clean/s3-130732-0002.wav\" type=\"audio/wav\">s3-130732-0002</audio></td><td>the full flavor of the crawfish is best obtained in a bisque and the best recipe for this is by the famous chef <span style=\"background-color: greenyellow\">\\n        <del>frank</del> </span> <span style=\"background-color: greenyellow\">\\n        <del>aitelli</del></span><span style=\"background-color: yellow\">\\n        francatelli </span> who boasts having been the head of the cuisine of queen victoria </td></tr>',\n",
       " '<tr><td><audio controls><source src=\"https://storage.cloud.google.com/spls/gsp758/clean/s3-130732-0003.wav\" type=\"audio/wav\">s3-130732-0003</audio></td><td>in new york city they have what they are pleased to call lobster palaces but there is not a restaurant in that great metropolis that could approach the delmonico of san francisco in its splendid service and its cuisine arrangements </td></tr>',\n",
       " '<tr><td><audio controls><source src=\"https://storage.cloud.google.com/spls/gsp758/clean/s3-130732-0004.wav\" type=\"audio/wav\">s3-130732-0004</audio></td><td>in the pre-fire days there were many places which paid <span style=\"background-color: greenyellow\">\\n        <del>a</del> </span> <span style=\"background-color: greenyellow\">\\n        <del>special</del></span><span style=\"background-color: yellow\">\\n        especial </span> attention to the cooking of the crab among them being the cobweb palace </td></tr>']"
      ]
     },
     "execution_count": 27,
     "metadata": {},
     "output_type": "execute_result"
    }
   ],
   "source": [
    "analysis.aligned_htmls"
   ]
  }
 ],
 "metadata": {
  "environment": {
   "kernel": "conda-base-py",
   "name": "workbench-notebooks.m134",
   "type": "gcloud",
   "uri": "us-docker.pkg.dev/deeplearning-platform-release/gcr.io/workbench-notebooks:m134"
  },
  "kernelspec": {
   "display_name": "Python 3 (ipykernel) (Local)",
   "language": "python",
   "name": "conda-base-py"
  },
  "language_info": {
   "codemirror_mode": {
    "name": "ipython",
    "version": 3
   },
   "file_extension": ".py",
   "mimetype": "text/x-python",
   "name": "python",
   "nbconvert_exporter": "python",
   "pygments_lexer": "ipython3",
   "version": "3.10.18"
  }
 },
 "nbformat": 4,
 "nbformat_minor": 4
}
