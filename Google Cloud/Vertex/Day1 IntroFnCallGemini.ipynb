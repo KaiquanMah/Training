{
 "cells": [
  {
   "cell_type": "code",
   "execution_count": null,
   "id": "f17c80a3-bf34-4d63-a4f4-8edd1ae9ccf9",
   "metadata": {},
   "outputs": [],
   "source": [
    "! pip install --upgrade --quiet google-genai"
   ]
  },
  {
   "cell_type": "code",
   "execution_count": 2,
   "id": "3feb17c3-43fd-461b-affa-d0aba1564a40",
   "metadata": {
    "tags": []
   },
   "outputs": [],
   "source": [
    "import os\n",
    "\n",
    "PROJECT_ID = \"qwiklabs-gcp-01-4cb6791a06aa\"\n",
    "if not PROJECT_ID or PROJECT_ID == \"[your-project-id]\":\n",
    "    PROJECT_ID = str(os.environ.get(\"GOOGLE_CLOUD_PROJECT\"))\n",
    "\n",
    "LOCATION = os.environ.get(\"GOOGLE_CLOUD_REGION\", \"us-central1\")\n",
    "\n",
    "from google import genai\n",
    "\n",
    "client = genai.Client(vertexai=True, project=PROJECT_ID, location=LOCATION)"
   ]
  },
  {
   "cell_type": "code",
   "execution_count": 5,
   "id": "90077ed5-3e9f-4c8a-b6dc-070a987bc5b8",
   "metadata": {
    "tags": []
   },
   "outputs": [
    {
     "data": {
      "text/plain": [
       "'qwiklabs-gcp-01-4cb6791a06aa'"
      ]
     },
     "execution_count": 5,
     "metadata": {},
     "output_type": "execute_result"
    }
   ],
   "source": [
    "os.environ.get(\"GOOGLE_CLOUD_PROJECT\")"
   ]
  },
  {
   "cell_type": "code",
   "execution_count": 4,
   "id": "80c3f40d-31c5-47e8-96f4-fce5252763a7",
   "metadata": {
    "tags": []
   },
   "outputs": [
    {
     "data": {
      "text/plain": [
       "'us-central1'"
      ]
     },
     "execution_count": 4,
     "metadata": {},
     "output_type": "execute_result"
    }
   ],
   "source": [
    "os.environ.get(\"GOOGLE_CLOUD_REGION\")"
   ]
  },
  {
   "cell_type": "code",
   "execution_count": 3,
   "id": "f15a45f9-f6fc-4358-b93b-1ac0ec676fb6",
   "metadata": {
    "tags": []
   },
   "outputs": [
    {
     "data": {
      "text/plain": [
       "('qwiklabs-gcp-01-4cb6791a06aa', 'us-central1')"
      ]
     },
     "execution_count": 3,
     "metadata": {},
     "output_type": "execute_result"
    }
   ],
   "source": [
    "PROJECT_ID, LOCATION"
   ]
  },
  {
   "cell_type": "code",
   "execution_count": 6,
   "id": "facbf7e8-4d5a-404b-a7c0-3af0b414c0b7",
   "metadata": {
    "tags": []
   },
   "outputs": [
    {
     "data": {
      "text/plain": [
       "<google.genai.client.Client at 0x7f35ff230070>"
      ]
     },
     "execution_count": 6,
     "metadata": {},
     "output_type": "execute_result"
    }
   ],
   "source": [
    "client"
   ]
  },
  {
   "cell_type": "code",
   "execution_count": 7,
   "id": "610c19c2-cfd0-4b09-9c92-d29cbdddbac4",
   "metadata": {
    "tags": []
   },
   "outputs": [],
   "source": [
    "from IPython.display import Markdown, display\n",
    "from google.genai.types import FunctionDeclaration, GenerateContentConfig, Part, Tool\n",
    "import requests"
   ]
  },
  {
   "cell_type": "code",
   "execution_count": 9,
   "id": "692da024-f20b-42af-a94f-efe6f5d958cc",
   "metadata": {
    "tags": []
   },
   "outputs": [],
   "source": [
    "MODEL_ID = \"gemini-2.0-flash-001\"\n",
    "\n",
    "def get_location(\n",
    "    amenity: str | None = None,\n",
    "    street: str | None = None,\n",
    "    city: str | None = None,\n",
    "    county: str | None = None,\n",
    "    state: str | None = None,\n",
    "    country: str | None = None,\n",
    "    postalcode: str | None = None,\n",
    ") -> list[dict]:\n",
    "    \"\"\"\n",
    "    Get latitude and longitude for a given location.\n",
    "\n",
    "    Args:\n",
    "        amenity (str | None): Amenity or Point of interest.\n",
    "        street (str | None): Street name.\n",
    "        city (str | None): City name.\n",
    "        county (str | None): County name.\n",
    "        state (str | None): State name.\n",
    "        country (str | None): Country name.\n",
    "        postalcode (str | None): Postal code.\n",
    "\n",
    "    Returns:\n",
    "        list[dict]: A list of dictionaries with the latitude and longitude of the given location.\n",
    "                    Returns an empty list if the location cannot be determined.\n",
    "    \"\"\"\n",
    "    base_url = \"https://nominatim.openstreetmap.org/search\"\n",
    "    params = {\n",
    "        \"amenity\": amenity,\n",
    "        \"street\": street,\n",
    "        \"city\": city,\n",
    "        \"county\": county,\n",
    "        \"state\": state,\n",
    "        \"country\": country,\n",
    "        \"postalcode\": postalcode,\n",
    "        \"format\": \"json\",\n",
    "    }\n",
    "    # Filter out None values from parameters\n",
    "    params = {k: v for k, v in params.items() if v is not None}\n",
    "\n",
    "    try:\n",
    "        response = requests.get(base_url, params=params, headers={\"User-Agent\": \"none\"})\n",
    "        response.raise_for_status()\n",
    "        return response.json()\n",
    "    except requests.RequestException as e:\n",
    "        print(f\"Error fetching location data: {e}\")\n",
    "        return []"
   ]
  },
  {
   "cell_type": "code",
   "execution_count": 10,
   "id": "31ad3c84-b532-4650-9f59-b6ca86a509dc",
   "metadata": {
    "tags": []
   },
   "outputs": [
    {
     "name": "stdout",
     "output_type": "stream",
     "text": [
      "The coordinates for 1600 Amphitheatre Pkwy, Mountain View, CA 94043 are: latitude 37.4224857, longitude -122.0855846.\n",
      "\n"
     ]
    }
   ],
   "source": [
    "prompt = \"\"\"\n",
    "I want to get the coordinates for the following address:\n",
    "1600 Amphitheatre Pkwy, Mountain View, CA 94043\n",
    "\"\"\"\n",
    "\n",
    "response = client.models.generate_content(\n",
    "    model=MODEL_ID,\n",
    "    contents=prompt,\n",
    "    config=GenerateContentConfig(tools=[get_location], temperature=0),\n",
    ")\n",
    "print(response.text)"
   ]
  },
  {
   "cell_type": "code",
   "execution_count": 13,
   "id": "6dd29cac-1ab8-4a58-bf72-847784417f90",
   "metadata": {
    "tags": []
   },
   "outputs": [
    {
     "name": "stdout",
     "output_type": "stream",
     "text": [
      "I was not able to find the coordinates for the provided address. Would you like me to try a different address or modify the current one?\n",
      "\n"
     ]
    }
   ],
   "source": [
    "prompt = \"\"\"\n",
    "I want to get the coordinates for the following address:\n",
    "Bat Yam Promenade, Bat Yam, Israel, Postal Code 59100\n",
    "\"\"\"\n",
    "\n",
    "response = client.models.generate_content(\n",
    "    model=MODEL_ID,\n",
    "    contents=prompt,\n",
    "    config=GenerateContentConfig(tools=[get_location], temperature=0),\n",
    ")\n",
    "print(response.text)"
   ]
  },
  {
   "cell_type": "code",
   "execution_count": 28,
   "id": "740bb253-7332-4e12-a5ee-fb060698e590",
   "metadata": {
    "tags": []
   },
   "outputs": [
    {
     "name": "stdout",
     "output_type": "stream",
     "text": [
      "I was not able to find the coordinates for the given address. I can try again if you provide me with more information, like city or postal code.\n",
      "\n"
     ]
    }
   ],
   "source": [
    "prompt = \"\"\"\n",
    "I want to get the coordinates for the following address:\n",
    "Bat Yam Promenade, Israel\n",
    "\"\"\"\n",
    "\n",
    "response = client.models.generate_content(\n",
    "    model=MODEL_ID,\n",
    "    contents=prompt,\n",
    "    config=GenerateContentConfig(tools=[get_location], temperature=0),\n",
    ")\n",
    "print(response.text)"
   ]
  },
  {
   "cell_type": "code",
   "execution_count": 31,
   "id": "871ffd45-04d6-4296-8729-03eb2c9bf11b",
   "metadata": {
    "tags": []
   },
   "outputs": [
    {
     "name": "stdout",
     "output_type": "stream",
     "text": [
      "I was not able to find the coordinates for the location you provided. I can try again if you provide me with more information. For example, I could use the city, county, or postal code to narrow down the search.\n",
      "\n"
     ]
    }
   ],
   "source": [
    "prompt = \"\"\"\n",
    "I want to get the coordinates for the following address:\n",
    "Bat Yam Beach, Israel\n",
    "\"\"\"\n",
    "\n",
    "response = client.models.generate_content(\n",
    "    model=MODEL_ID,\n",
    "    contents=prompt,\n",
    "    config=GenerateContentConfig(tools=[get_location], temperature=0),\n",
    ")\n",
    "print(response.text)"
   ]
  },
  {
   "cell_type": "code",
   "execution_count": 26,
   "id": "93f23b92-4189-4e15-83fc-a7f710465c82",
   "metadata": {
    "tags": []
   },
   "outputs": [
    {
     "name": "stdout",
     "output_type": "stream",
     "text": [
      "The coordinates for Bat Yam, Israel are:\n",
      "Latitude: 32.0154565\n",
      "Longitude: 34.7505283\n",
      "\n"
     ]
    }
   ],
   "source": [
    "prompt = \"\"\"\n",
    "I want to get the coordinates for the following address:\n",
    "Bat Yam 59100, Israel\n",
    "\"\"\"\n",
    "\n",
    "response = client.models.generate_content(\n",
    "    model=MODEL_ID,\n",
    "    contents=prompt,\n",
    "    config=GenerateContentConfig(tools=[get_location], temperature=0),\n",
    ")\n",
    "print(response.text)"
   ]
  },
  {
   "cell_type": "code",
   "execution_count": 27,
   "id": "0583dbef-7185-4337-92f2-6aa71845f440",
   "metadata": {
    "tags": []
   },
   "outputs": [
    {
     "data": {
      "text/plain": [
       "GenerateContentResponse(\n",
       "  automatic_function_calling_history=[\n",
       "    UserContent(\n",
       "      parts=[\n",
       "        Part(\n",
       "          text=\"\"\"\n",
       "I want to get the coordinates for the following address:\n",
       "Bat Yam 59100, Israel\n",
       "\"\"\"\n",
       "        ),\n",
       "      ],\n",
       "      role='user'\n",
       "    ),\n",
       "    Content(\n",
       "      parts=[\n",
       "        Part(\n",
       "          function_call=FunctionCall(\n",
       "            args={<... 3 items at Max depth ...>},\n",
       "            name='get_location'\n",
       "          )\n",
       "        ),\n",
       "      ],\n",
       "      role='model'\n",
       "    ),\n",
       "    Content(\n",
       "      parts=[\n",
       "        Part(\n",
       "          function_response=FunctionResponse(\n",
       "            name='get_location',\n",
       "            response={<... 1 item at Max depth ...>}\n",
       "          )\n",
       "        ),\n",
       "      ],\n",
       "      role='user'\n",
       "    ),\n",
       "  ],\n",
       "  candidates=[\n",
       "    Candidate(\n",
       "      avg_logprobs=-0.013856232166290283,\n",
       "      content=Content(\n",
       "        parts=[\n",
       "          Part(\n",
       "            text=\"\"\"The coordinates for Bat Yam, Israel are:\n",
       "Latitude: 32.0154565\n",
       "Longitude: 34.7505283\n",
       "\"\"\"\n",
       "          ),\n",
       "        ],\n",
       "        role='model'\n",
       "      ),\n",
       "      finish_reason=<FinishReason.STOP: 'STOP'>\n",
       "    ),\n",
       "  ],\n",
       "  create_time=datetime.datetime(2025, 10, 6, 8, 44, 9, 138885, tzinfo=TzInfo(UTC)),\n",
       "  model_version='gemini-2.0-flash-001',\n",
       "  response_id='WYHjaIW9CPCcnvgP_pyNoA4',\n",
       "  sdk_http_response=HttpResponse(\n",
       "    headers=<dict len=9>\n",
       "  ),\n",
       "  usage_metadata=GenerateContentResponseUsageMetadata(\n",
       "    candidates_token_count=38,\n",
       "    candidates_tokens_details=[\n",
       "      ModalityTokenCount(\n",
       "        modality=<MediaModality.TEXT: 'TEXT'>,\n",
       "        token_count=38\n",
       "      ),\n",
       "    ],\n",
       "    prompt_token_count=478,\n",
       "    prompt_tokens_details=[\n",
       "      ModalityTokenCount(\n",
       "        modality=<MediaModality.TEXT: 'TEXT'>,\n",
       "        token_count=478\n",
       "      ),\n",
       "    ],\n",
       "    total_token_count=516,\n",
       "    traffic_type=<TrafficType.ON_DEMAND: 'ON_DEMAND'>\n",
       "  )\n",
       ")"
      ]
     },
     "execution_count": 27,
     "metadata": {},
     "output_type": "execute_result"
    }
   ],
   "source": [
    "response"
   ]
  },
  {
   "cell_type": "code",
   "execution_count": 15,
   "id": "e238dc05-9e46-4ca4-b610-3e750f40bac2",
   "metadata": {
    "tags": []
   },
   "outputs": [],
   "source": [
    "# chat\n",
    "get_product_info = FunctionDeclaration(\n",
    "    name=\"get_product_info\",\n",
    "    description=\"Get the stock amount and identifier for a given product\",\n",
    "    parameters={\n",
    "        \"type\": \"OBJECT\",\n",
    "        \"properties\": {\n",
    "            \"product_name\": {\"type\": \"STRING\", \"description\": \"Product name\"}\n",
    "        },\n",
    "    },\n",
    ")\n",
    "\n",
    "get_store_location = FunctionDeclaration(\n",
    "    name=\"get_store_location\",\n",
    "    description=\"Get the location of the closest store\",\n",
    "    parameters={\n",
    "        \"type\": \"OBJECT\",\n",
    "        \"properties\": {\"location\": {\"type\": \"STRING\", \"description\": \"Location\"}},\n",
    "    },\n",
    ")\n",
    "\n",
    "place_order = FunctionDeclaration(\n",
    "    name=\"place_order\",\n",
    "    description=\"Place an order\",\n",
    "    parameters={\n",
    "        \"type\": \"OBJECT\",\n",
    "        \"properties\": {\n",
    "            \"product\": {\"type\": \"STRING\", \"description\": \"Product name\"},\n",
    "            \"address\": {\"type\": \"STRING\", \"description\": \"Shipping address\"},\n",
    "        },\n",
    "    },\n",
    ")\n",
    "\n",
    "retail_tool = Tool(\n",
    "    function_declarations=[\n",
    "        get_product_info,\n",
    "        get_store_location,\n",
    "        place_order,\n",
    "    ],\n",
    ")"
   ]
  },
  {
   "cell_type": "code",
   "execution_count": 16,
   "id": "ff92b4e6-c976-4152-88ca-04937e9f9fe1",
   "metadata": {
    "tags": []
   },
   "outputs": [],
   "source": [
    "chat = client.chats.create(\n",
    "    model=MODEL_ID,\n",
    "    config=GenerateContentConfig(\n",
    "        temperature=0,\n",
    "        tools=[retail_tool],\n",
    "    ),\n",
    ")"
   ]
  },
  {
   "cell_type": "code",
   "execution_count": 17,
   "id": "06dcd9ec-ca58-4714-9c8f-1a75fef7994b",
   "metadata": {
    "tags": []
   },
   "outputs": [
    {
     "data": {
      "text/plain": [
       "FunctionCall(\n",
       "  args={\n",
       "    'product_name': 'Pixel 9'\n",
       "  },\n",
       "  name='get_product_info'\n",
       ")"
      ]
     },
     "execution_count": 17,
     "metadata": {},
     "output_type": "execute_result"
    }
   ],
   "source": [
    "prompt = \"\"\"\n",
    "Do you have the Pixel 9 in stock?\n",
    "\"\"\"\n",
    "\n",
    "response = chat.send_message(prompt)\n",
    "response.function_calls[0]"
   ]
  },
  {
   "cell_type": "code",
   "execution_count": 18,
   "id": "6926cf99-3328-46ac-8f3e-65a0199dadab",
   "metadata": {
    "tags": []
   },
   "outputs": [],
   "source": [
    "# simulate to the LLM that the fn call\n",
    "# returns an item from the inventory\n",
    "api_response = {\"sku\": \"GA04834-US\", \"in_stock\": \"yes\"}"
   ]
  },
  {
   "cell_type": "code",
   "execution_count": 19,
   "id": "66418c14-8eb0-44e9-99d8-5d04069dd87a",
   "metadata": {
    "tags": []
   },
   "outputs": [
    {
     "data": {
      "text/markdown": [
       "Yes, we have the Pixel 9 in stock. Its SKU is GA04834-US.\n"
      ],
      "text/plain": [
       "<IPython.core.display.Markdown object>"
      ]
     },
     "metadata": {},
     "output_type": "display_data"
    }
   ],
   "source": [
    "response = chat.send_message(\n",
    "    Part.from_function_response(\n",
    "        name=\"get_product_info\",\n",
    "        response={\n",
    "            \"content\": api_response,\n",
    "        },\n",
    "    ),\n",
    ")\n",
    "display(Markdown(response.text))"
   ]
  },
  {
   "cell_type": "code",
   "execution_count": 20,
   "id": "09e9eacb-db27-4b3d-bbf5-7be332df28b8",
   "metadata": {
    "tags": []
   },
   "outputs": [
    {
     "data": {
      "text/plain": [
       "[FunctionCall(\n",
       "   args={\n",
       "     'product_name': 'Pixel 9 Pro XL'\n",
       "   },\n",
       "   name='get_product_info'\n",
       " ),\n",
       " FunctionCall(\n",
       "   args={\n",
       "     'location': 'Mountain View, CA'\n",
       "   },\n",
       "   name='get_store_location'\n",
       " )]"
      ]
     },
     "execution_count": 20,
     "metadata": {},
     "output_type": "execute_result"
    }
   ],
   "source": [
    "prompt = \"\"\"\n",
    "What about the Pixel 9 Pro XL? Is there a store in\n",
    "Mountain View, CA that I can visit to try one out?\n",
    "\"\"\"\n",
    "\n",
    "response = chat.send_message(prompt)\n",
    "response.function_calls"
   ]
  },
  {
   "cell_type": "code",
   "execution_count": 21,
   "id": "e41a3e80-db64-4bc5-8dc4-2523cb33ff61",
   "metadata": {
    "tags": []
   },
   "outputs": [],
   "source": [
    "product_info_api_response = {\"sku\": \"GA08475-US\", \"in_stock\": \"yes\"}\n",
    "store_location_api_response = {\n",
    "    \"store\": \"2000 N Shoreline Blvd, Mountain View, CA 94043, US\"\n",
    "}"
   ]
  },
  {
   "cell_type": "code",
   "execution_count": 22,
   "id": "116113b7-83a4-45f9-a10a-4c7639590204",
   "metadata": {
    "tags": []
   },
   "outputs": [
    {
     "data": {
      "text/markdown": [
       "Yes, the Pixel 9 Pro XL is in stock with SKU GA08475-US. The store location in Mountain View, CA is 2000 N Shoreline Blvd.\n"
      ],
      "text/plain": [
       "<IPython.core.display.Markdown object>"
      ]
     },
     "metadata": {},
     "output_type": "display_data"
    }
   ],
   "source": [
    "response = chat.send_message(\n",
    "    [\n",
    "        Part.from_function_response(\n",
    "            name=\"get_product_info\",\n",
    "            response={\n",
    "                \"content\": product_info_api_response,\n",
    "            },\n",
    "        ),\n",
    "        Part.from_function_response(\n",
    "            name=\"get_store_location\",\n",
    "            response={\n",
    "                \"content\": store_location_api_response,\n",
    "            },\n",
    "        ),\n",
    "    ]\n",
    ")\n",
    "display(Markdown(response.text))"
   ]
  },
  {
   "cell_type": "code",
   "execution_count": 23,
   "id": "f15240fe-a7b8-483b-9a52-cd0bd2b69eaa",
   "metadata": {
    "tags": []
   },
   "outputs": [
    {
     "data": {
      "text/plain": [
       "[FunctionCall(\n",
       "   args={\n",
       "     'address': '1155 Borregas Ave, Sunnyvale, CA 94089',\n",
       "     'product': 'Pixel 9 Pro XL'\n",
       "   },\n",
       "   name='place_order'\n",
       " )]"
      ]
     },
     "execution_count": 23,
     "metadata": {},
     "output_type": "execute_result"
    }
   ],
   "source": [
    "prompt = \"\"\"\n",
    "I'd like to order a Pixel 9 Pro XL and have it shipped to 1155 Borregas Ave, Sunnyvale, CA 94089.\n",
    "\"\"\"\n",
    "\n",
    "response = chat.send_message(prompt)\n",
    "response.function_calls"
   ]
  },
  {
   "cell_type": "code",
   "execution_count": 24,
   "id": "9607b999-5b69-4f49-8f80-740e3b4c2230",
   "metadata": {
    "tags": []
   },
   "outputs": [],
   "source": [
    "order_api_response = {\n",
    "    \"payment_status\": \"paid\",\n",
    "    \"order_number\": 12345,\n",
    "    \"est_arrival\": \"2 days\",\n",
    "}"
   ]
  },
  {
   "cell_type": "code",
   "execution_count": 25,
   "id": "18a3c183-d4d7-427c-9837-814369902a0f",
   "metadata": {
    "tags": []
   },
   "outputs": [
    {
     "data": {
      "text/markdown": [
       "OK. I have placed an order for a Pixel 9 Pro XL to be shipped to 1155 Borregas Ave, Sunnyvale, CA 94089. The order number is 12345 and it should arrive in 2 days. The payment status is paid.\n"
      ],
      "text/plain": [
       "<IPython.core.display.Markdown object>"
      ]
     },
     "metadata": {},
     "output_type": "display_data"
    }
   ],
   "source": [
    "response = chat.send_message(\n",
    "    Part.from_function_response(\n",
    "        name=\"place_order\",\n",
    "        response={\n",
    "            \"content\": order_api_response,\n",
    "        },\n",
    "    ),\n",
    ")\n",
    "display(Markdown(response.text))"
   ]
  }
 ],
 "metadata": {
  "environment": {
   "kernel": "conda-base-py",
   "name": "workbench-notebooks.m133",
   "type": "gcloud",
   "uri": "us-docker.pkg.dev/deeplearning-platform-release/gcr.io/workbench-notebooks:m133"
  },
  "kernelspec": {
   "display_name": "Python 3 (ipykernel) (Local)",
   "language": "python",
   "name": "conda-base-py"
  },
  "language_info": {
   "codemirror_mode": {
    "name": "ipython",
    "version": 3
   },
   "file_extension": ".py",
   "mimetype": "text/x-python",
   "name": "python",
   "nbconvert_exporter": "python",
   "pygments_lexer": "ipython3",
   "version": "3.10.18"
  }
 },
 "nbformat": 4,
 "nbformat_minor": 5
}
