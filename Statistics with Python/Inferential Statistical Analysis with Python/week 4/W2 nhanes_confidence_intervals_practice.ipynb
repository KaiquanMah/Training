{
 "cells": [
  {
   "cell_type": "markdown",
   "metadata": {},
   "source": [
    "# Practice notebook for confidence intervals using NHANES data\n",
    "\n",
    "This notebook will give you the opportunity to practice working with confidence intervals using the NHANES data.\n",
    "\n",
    "You can enter your code into the cells that say \"enter your code here\", and you can type responses to the questions into the cells that say \"Type Markdown and Latex\".\n",
    "\n",
    "Note that most of the code that you will need to write below is very similar to code that appears in the case study notebook.  You will need to edit code from that notebook in small ways to adapt it to the prompts below.\n",
    "\n",
    "To get started, we will use the same module imports and read the data in the same way as we did in the case study:"
   ]
  },
  {
   "cell_type": "code",
   "execution_count": 1,
   "metadata": {},
   "outputs": [],
   "source": [
    "%matplotlib inline\n",
    "import matplotlib.pyplot as plt\n",
    "import pandas as pd\n",
    "import numpy as np\n",
    "import seaborn as sns\n",
    "import scipy.stats as stats\n",
    "import statsmodels.api as sm\n",
    "\n",
    "df = pd.read_csv(\"nhanes_2015_2016.csv\")"
   ]
  },
  {
   "cell_type": "code",
   "execution_count": 2,
   "metadata": {},
   "outputs": [
    {
     "data": {
      "text/plain": [
       "Index(['SEQN', 'ALQ101', 'ALQ110', 'ALQ130', 'SMQ020', 'RIAGENDR', 'RIDAGEYR',\n",
       "       'RIDRETH1', 'DMDCITZN', 'DMDEDUC2', 'DMDMARTL', 'DMDHHSIZ', 'WTINT2YR',\n",
       "       'SDMVPSU', 'SDMVSTRA', 'INDFMPIR', 'BPXSY1', 'BPXDI1', 'BPXSY2',\n",
       "       'BPXDI2', 'BMXWT', 'BMXHT', 'BMXBMI', 'BMXLEG', 'BMXARML', 'BMXARMC',\n",
       "       'BMXWAIST', 'HIQ210'],\n",
       "      dtype='object')"
      ]
     },
     "execution_count": 2,
     "metadata": {},
     "output_type": "execute_result"
    }
   ],
   "source": [
    "df.columns"
   ]
  },
  {
   "cell_type": "markdown",
   "metadata": {},
   "source": [
    "## Question 1\n",
    "\n",
    "Restrict the sample to women between 35 and 50, then use the marital status variable [DMDMARTL](https://wwwn.cdc.gov/Nchs/Nhanes/2015-2016/DEMO_I.htm#DMDMARTL) to partition this sample into two groups - women who are currently married, and women who are not currently married.  Within each of these groups, calculate the proportion of women who have completed college.  Calculate 95% confidence intervals for each of these proportions."
   ]
  },
  {
   "cell_type": "code",
   "execution_count": 3,
   "metadata": {},
   "outputs": [],
   "source": [
    "# encode categorical variables with useful labels\n",
    "df[\"RIAGENDRx\"] = df.RIAGENDR.replace({1: 'Male', 2: 'Female'})\n",
    "#  omit people who responded \"Don't know\" (- and 99) or refused to answer (77)\n",
    "df[\"DMDMARTLx\"] = df.DMDMARTL.replace({1: \"Married\", 2: \"Widowed\", 3: \"Divorced\", 4: \"Separated\", 5: \"Never married\",\n",
    "                                      6: \"Living w/partner\"})\n",
    "df[\"DMDEDUC2x\"] = df.DMDEDUC2.replace({1: \"<9\", 2: \"9-11\", 3: \"HS/GED\", 4: \"Some college/AA\", 5: \"College\" \n",
    "                                       })\n",
    "# 7: \"Refused\", 9: \"Don't know\"\n"
   ]
  },
  {
   "cell_type": "markdown",
   "metadata": {},
   "source": [
    "=======================================================================================================================\n",
    "###### Working below"
   ]
  },
  {
   "cell_type": "code",
   "execution_count": 4,
   "metadata": {},
   "outputs": [],
   "source": [
    "# enter your code here\n",
    "df_females = df[df.RIAGENDRx == \"Female\"]\n",
    "df_females_married = df_females[df_females.DMDMARTLx == \"Married\"]\n",
    "df_females_not_married = df_females[df_females.DMDMARTLx != \"Married\"].dropna()\n"
   ]
  },
  {
   "cell_type": "code",
   "execution_count": 5,
   "metadata": {},
   "outputs": [
    {
     "data": {
      "text/plain": [
       "0"
      ]
     },
     "execution_count": 5,
     "metadata": {},
     "output_type": "execute_result"
    }
   ],
   "source": [
    "# sanity check for NA values\n",
    "df_females_married.DMDMARTLx.isna().sum()"
   ]
  },
  {
   "cell_type": "code",
   "execution_count": 6,
   "metadata": {
    "scrolled": true
   },
   "outputs": [
    {
     "data": {
      "text/plain": [
       "0"
      ]
     },
     "execution_count": 6,
     "metadata": {},
     "output_type": "execute_result"
    }
   ],
   "source": [
    "df_females_not_married.DMDMARTLx.isna().sum()"
   ]
  },
  {
   "cell_type": "code",
   "execution_count": 7,
   "metadata": {},
   "outputs": [
    {
     "data": {
      "text/plain": [
       "0"
      ]
     },
     "execution_count": 7,
     "metadata": {},
     "output_type": "execute_result"
    }
   ],
   "source": [
    "df_females_married.DMDEDUC2x.isna().sum()"
   ]
  },
  {
   "cell_type": "code",
   "execution_count": 8,
   "metadata": {
    "scrolled": true
   },
   "outputs": [
    {
     "data": {
      "text/plain": [
       "0"
      ]
     },
     "execution_count": 8,
     "metadata": {},
     "output_type": "execute_result"
    }
   ],
   "source": [
    "df_females_not_married.DMDEDUC2x.isna().sum()"
   ]
  },
  {
   "cell_type": "code",
   "execution_count": null,
   "metadata": {},
   "outputs": [],
   "source": [
    "# df[\"DMDEDUC2x2\"] = df[\"DMDEDUC2x\"]"
   ]
  },
  {
   "cell_type": "code",
   "execution_count": null,
   "metadata": {},
   "outputs": [],
   "source": [
    "# type(df[\"DMDEDUC2x2\"])"
   ]
  },
  {
   "cell_type": "markdown",
   "metadata": {},
   "source": [
    "###### Working above\n",
    "======================================================================================================================="
   ]
  },
  {
   "cell_type": "code",
   "execution_count": 9,
   "metadata": {},
   "outputs": [],
   "source": [
    "# Within each of these groups, calculate the proportion of women who have completed college.\n",
    "# https://stackoverflow.com/questions/26886653/pandas-create-new-column-based-on-values-from-other-columns-apply-a-function-o\n",
    "conditions = [df[\"DMDEDUC2x\"] == \"College\",\n",
    "              df[\"DMDEDUC2x\"] != \"College\"]\n",
    "outputs = [\"Completed college\", \"Yet to complete college\"]\n",
    "# numpy.org/doc/stable/reference/generated/numpy.select.html\n",
    "df[\"DMDEDUC2x2\"] = np.select(conditions, outputs)\n"
   ]
  },
  {
   "cell_type": "code",
   "execution_count": 10,
   "metadata": {
    "scrolled": true
   },
   "outputs": [
    {
     "data": {
      "text/plain": [
       "0          Completed college\n",
       "1    Yet to complete college\n",
       "2    Yet to complete college\n",
       "3          Completed college\n",
       "4    Yet to complete college\n",
       "Name: DMDEDUC2x2, dtype: object"
      ]
     },
     "execution_count": 10,
     "metadata": {},
     "output_type": "execute_result"
    }
   ],
   "source": [
    "df[\"DMDEDUC2x2\"].head()"
   ]
  },
  {
   "cell_type": "code",
   "execution_count": 11,
   "metadata": {
    "scrolled": false
   },
   "outputs": [
    {
     "ename": "TypeError",
     "evalue": "crosstab() missing 1 required positional argument: 'columns'",
     "output_type": "error",
     "traceback": [
      "\u001b[0;31m---------------------------------------------------------------------------\u001b[0m",
      "\u001b[0;31mTypeError\u001b[0m                                 Traceback (most recent call last)",
      "\u001b[0;32m<ipython-input-11-80ab5b41da96>\u001b[0m in \u001b[0;36m<module>\u001b[0;34m()\u001b[0m\n\u001b[0;32m----> 1\u001b[0;31m \u001b[0mpd\u001b[0m\u001b[0;34m.\u001b[0m\u001b[0mcrosstab\u001b[0m\u001b[0;34m(\u001b[0m\u001b[0mdf\u001b[0m\u001b[0;34m[\u001b[0m\u001b[0;34m\"DMDEDUC2x2\"\u001b[0m\u001b[0;34m]\u001b[0m\u001b[0;34m)\u001b[0m\u001b[0;34m\u001b[0m\u001b[0m\n\u001b[0m",
      "\u001b[0;31mTypeError\u001b[0m: crosstab() missing 1 required positional argument: 'columns'"
     ]
    }
   ],
   "source": [
    "pd.crosstab(df[\"DMDEDUC2x2\"])"
   ]
  },
  {
   "cell_type": "code",
   "execution_count": 12,
   "metadata": {},
   "outputs": [],
   "source": [
    "# to repeat the flow above using the original df, so we can have a crosstab of \"married vs unmarried\" and \"completed college vs yet to complete college\"\n",
    "df_college = df\n",
    "df_college.dropna(subset = ['DMDMARTLx', 'DMDEDUC2x'])\n",
    "\n",
    "conditions_college = [df_college[\"DMDEDUC2x\"] == \"College\",\n",
    "              df_college[\"DMDEDUC2x\"] != \"College\"]\n",
    "outputs_college = [\"Completed college\", \"Yet to complete college\"]\n",
    "df_college[\"DMDEDUC2x2\"] = np.select(conditions_college, outputs_college)\n",
    "\n",
    "\n",
    "\n",
    "conditions_married = [df_college.DMDMARTLx == \"Married\",\n",
    "                      df_college.DMDMARTLx != \"Married\"]\n",
    "outputs_married = [\"Married\", \"Not Married\"]\n",
    "df_college[\"DMDMARTLx2\"] = np.select(conditions_married, outputs_married)\n",
    "\n"
   ]
  },
  {
   "cell_type": "code",
   "execution_count": 13,
   "metadata": {
    "scrolled": true
   },
   "outputs": [
    {
     "data": {
      "text/html": [
       "<div>\n",
       "<style scoped>\n",
       "    .dataframe tbody tr th:only-of-type {\n",
       "        vertical-align: middle;\n",
       "    }\n",
       "\n",
       "    .dataframe tbody tr th {\n",
       "        vertical-align: top;\n",
       "    }\n",
       "\n",
       "    .dataframe thead th {\n",
       "        text-align: right;\n",
       "    }\n",
       "</style>\n",
       "<table border=\"1\" class=\"dataframe\">\n",
       "  <thead>\n",
       "    <tr style=\"text-align: right;\">\n",
       "      <th>DMDEDUC2x2</th>\n",
       "      <th>Completed college</th>\n",
       "      <th>Yet to complete college</th>\n",
       "    </tr>\n",
       "    <tr>\n",
       "      <th>DMDMARTLx2</th>\n",
       "      <th></th>\n",
       "      <th></th>\n",
       "    </tr>\n",
       "  </thead>\n",
       "  <tbody>\n",
       "    <tr>\n",
       "      <th>Married</th>\n",
       "      <td>827</td>\n",
       "      <td>1953</td>\n",
       "    </tr>\n",
       "    <tr>\n",
       "      <th>Not Married</th>\n",
       "      <td>539</td>\n",
       "      <td>2416</td>\n",
       "    </tr>\n",
       "  </tbody>\n",
       "</table>\n",
       "</div>"
      ],
      "text/plain": [
       "DMDEDUC2x2   Completed college  Yet to complete college\n",
       "DMDMARTLx2                                             \n",
       "Married                    827                     1953\n",
       "Not Married                539                     2416"
      ]
     },
     "execution_count": 13,
     "metadata": {},
     "output_type": "execute_result"
    }
   ],
   "source": [
    "pd.crosstab(df_college[\"DMDMARTLx2\"], df_college[\"DMDEDUC2x2\"])"
   ]
  },
  {
   "cell_type": "code",
   "execution_count": 14,
   "metadata": {
    "scrolled": true
   },
   "outputs": [
    {
     "data": {
      "text/html": [
       "<div>\n",
       "<style scoped>\n",
       "    .dataframe tbody tr th:only-of-type {\n",
       "        vertical-align: middle;\n",
       "    }\n",
       "\n",
       "    .dataframe tbody tr th {\n",
       "        vertical-align: top;\n",
       "    }\n",
       "\n",
       "    .dataframe thead th {\n",
       "        text-align: right;\n",
       "    }\n",
       "</style>\n",
       "<table border=\"1\" class=\"dataframe\">\n",
       "  <thead>\n",
       "    <tr style=\"text-align: right;\">\n",
       "      <th></th>\n",
       "      <th>Proportion</th>\n",
       "      <th>Total_n</th>\n",
       "    </tr>\n",
       "    <tr>\n",
       "      <th>DMDMARTLx2</th>\n",
       "      <th></th>\n",
       "      <th></th>\n",
       "    </tr>\n",
       "  </thead>\n",
       "  <tbody>\n",
       "    <tr>\n",
       "      <th>Married</th>\n",
       "      <td>0.297482</td>\n",
       "      <td>2780</td>\n",
       "    </tr>\n",
       "    <tr>\n",
       "      <th>Not Married</th>\n",
       "      <td>0.182403</td>\n",
       "      <td>2955</td>\n",
       "    </tr>\n",
       "  </tbody>\n",
       "</table>\n",
       "</div>"
      ],
      "text/plain": [
       "             Proportion  Total_n\n",
       "DMDMARTLx2                      \n",
       "Married        0.297482     2780\n",
       "Not Married    0.182403     2955"
      ]
     },
     "execution_count": 14,
     "metadata": {},
     "output_type": "execute_result"
    }
   ],
   "source": [
    "df_college_proportion = df_college.groupby(df_college.DMDMARTLx2).agg({\"DMDEDUC2x2\": [lambda x: np.mean(x==\"Completed college\"), np.size]})\n",
    "df_college_proportion.columns = [\"Proportion\", \"Total_n\"] # The default column names are unclear, so we replace them here\n",
    "df_college_proportion\n"
   ]
  },
  {
   "cell_type": "code",
   "execution_count": 15,
   "metadata": {},
   "outputs": [
    {
     "name": "stdout",
     "output_type": "stream",
     "text": [
      "95% CI for married females who completed college : ( 0.28048812630097975 , 0.31447590247599866 ), with a spread of 0.017340702130111695\n",
      "95% CI for unmarried females who completed college : ( 0.16847874970917187 , 0.19632666484243555 ), with a spread of 0.014208119965950844\n"
     ]
    }
   ],
   "source": [
    "# Retrieve Proportion and 'n'/sample size in each category\n",
    "p_married_college = df_college_proportion.Proportion[0]\n",
    "p_not_married_college = df_college_proportion.Proportion[1]\n",
    "n_married_college = df_college_proportion.Total_n[0]\n",
    "n_not_married_college = df_college_proportion.Total_n[1]\n",
    "\n",
    "# Calculate Standard Error\n",
    "# recall proportion's se = np.sqrt(p * (1 - p) / n)\n",
    "se_married_college = np.sqrt(p_married_college * (1 - p_married_college) / n_married_college)\n",
    "se_not_married_college = np.sqrt(p_not_married_college * (1 - p_not_married_college) / n_not_married_college)\n",
    "\n",
    "# construct 95% confidence intervals for each of these proportions\n",
    "print(\"95% CI for married females who completed college : (\", p_married_college - 1.96 * se_married_college, \",\" , p_married_college + 1.96 * se_married_college, \"), with a spread of\", se_married_college*2)\n",
    "print(\"95% CI for unmarried females who completed college : (\", p_not_married_college - 1.96 * se_not_married_college, \",\" , p_not_married_college + 1.96 * se_not_married_college, \"), with a spread of\", se_not_married_college*2)\n"
   ]
  },
  {
   "cell_type": "markdown",
   "metadata": {},
   "source": [
    "__Q1a.__ Identify which of the two confidence intervals is wider, and explain why this is the case. "
   ]
  },
  {
   "cell_type": "markdown",
   "metadata": {},
   "source": []
  },
  {
   "cell_type": "raw",
   "metadata": {},
   "source": [
    "* The 95% CI for married females who completed college is slightly wider than the 95% CI for unmarried females who completed college by 0.3%\n",
    "* Probably married females tend to have a wider difference between those who completed college and those who did not go to college (and instead, cared for someone at home or went to work at a young age)\n"
   ]
  },
  {
   "cell_type": "markdown",
   "metadata": {},
   "source": [
    "__Q1b.__ Write 1-2 sentences summarizing these findings for an audience that does not know what a confidence interval is (the goal here is to report the substance of what you learned about how marital status and educational attainment are related, not to teach a person what a confidence interval is)."
   ]
  },
  {
   "cell_type": "markdown",
   "metadata": {},
   "source": []
  },
  {
   "cell_type": "raw",
   "metadata": {},
   "source": [
    "* Based on our sample of 2780 married females, with 95% confidence, we estimate between 28.1% and 31.4% of married females have completed college education.\n",
    "* Based on our sample of 2955 unmarried females, with 95% confidence, we estimate between 16.8% and 19.6% of unmarried females have completed college education.\n",
    "* On average, 29.75% of married females completed college while 18.24% of unmarried females completed college.\n",
    "\n",
    "* The 95% CI for married females who completed college is slightly wider than the 95% CI for unmarried females who completed college by 0.3%.\n",
    "* Probably married females tend to have a wider difference between those who completed college and those who did not go to college (and instead, cared for someone at home or went to work at a young age).\n"
   ]
  },
  {
   "cell_type": "markdown",
   "metadata": {},
   "source": [
    "## Question 2\n",
    "\n",
    "Construct a 95% confidence interval for the proportion of smokers who are female. Construct a 95% confidence interval for the proportion of smokers who are male. Construct a 95% confidence interval for the **difference** between those two gender proportions."
   ]
  },
  {
   "cell_type": "code",
   "execution_count": 16,
   "metadata": {},
   "outputs": [
    {
     "data": {
      "text/plain": [
       "array([1, 2, 7, 9])"
      ]
     },
     "execution_count": 16,
     "metadata": {},
     "output_type": "execute_result"
    }
   ],
   "source": [
    "df.SMQ020.unique()"
   ]
  },
  {
   "cell_type": "code",
   "execution_count": 17,
   "metadata": {
    "scrolled": true
   },
   "outputs": [
    {
     "data": {
      "text/html": [
       "<div>\n",
       "<style scoped>\n",
       "    .dataframe tbody tr th:only-of-type {\n",
       "        vertical-align: middle;\n",
       "    }\n",
       "\n",
       "    .dataframe tbody tr th {\n",
       "        vertical-align: top;\n",
       "    }\n",
       "\n",
       "    .dataframe thead th {\n",
       "        text-align: right;\n",
       "    }\n",
       "</style>\n",
       "<table border=\"1\" class=\"dataframe\">\n",
       "  <thead>\n",
       "    <tr style=\"text-align: right;\">\n",
       "      <th></th>\n",
       "      <th>Proportion</th>\n",
       "      <th>Total_n</th>\n",
       "    </tr>\n",
       "    <tr>\n",
       "      <th>RIAGENDRx</th>\n",
       "      <th></th>\n",
       "      <th></th>\n",
       "    </tr>\n",
       "  </thead>\n",
       "  <tbody>\n",
       "    <tr>\n",
       "      <th>Female</th>\n",
       "      <td>0.304435</td>\n",
       "      <td>2976.0</td>\n",
       "    </tr>\n",
       "    <tr>\n",
       "      <th>Male</th>\n",
       "      <td>0.512142</td>\n",
       "      <td>2759.0</td>\n",
       "    </tr>\n",
       "  </tbody>\n",
       "</table>\n",
       "</div>"
      ],
      "text/plain": [
       "           Proportion  Total_n\n",
       "RIAGENDRx                     \n",
       "Female       0.304435   2976.0\n",
       "Male         0.512142   2759.0"
      ]
     },
     "execution_count": 17,
     "metadata": {},
     "output_type": "execute_result"
    }
   ],
   "source": [
    "# wwwn.cdc.gov/Nchs/Nhanes/2015-2016/SMQ_I.htm\n",
    "# SMQ020 - Smoked at least 100 cigarettes in life - 1 Yes, 2 No\n",
    "df[\"SMQ020x\"] = df.SMQ020.replace({1: 1, 2: 0, 7: np.nan, 9: np.nan})\n",
    "df_smoke = df\n",
    "df_smoke.dropna(subset = ['SMQ020x'])\n",
    "\n",
    "# enter your code here\n",
    "df_smoke_proportion = df_smoke.groupby(df.RIAGENDRx).agg({\"SMQ020x\": [lambda x: np.mean(x==1), np.size]})\n",
    "df_smoke_proportion.columns = ['Proportion', 'Total_n']\n",
    "df_smoke_proportion\n"
   ]
  },
  {
   "cell_type": "code",
   "execution_count": 18,
   "metadata": {
    "scrolled": true
   },
   "outputs": [
    {
     "name": "stdout",
     "output_type": "stream",
     "text": [
      "95% CI for male smokers : ( 0.2879023206749516 , 0.3209686470669839 ), with a spread of 0.016870574689812425\n",
      "95% CI for female smokers : ( 0.4934902211293819 , 0.5307939397984904 ), with a spread of 0.01903250952505535\n"
     ]
    }
   ],
   "source": [
    "# retrieve proportion and 'n'/sample size for males and females\n",
    "p_male_smoke = df_smoke_proportion.Proportion[0]\n",
    "p_female_smoke = df_smoke_proportion.Proportion[1]\n",
    "n_male = df_smoke_proportion.Total_n[0]\n",
    "n_female = df_smoke_proportion.Total_n[1]\n",
    "\n",
    "# find the SE for male and female smokers\n",
    "# proportion's se = np.sqrt(p*(1-p)/n)\n",
    "se_male_smoke = np.sqrt(p_male_smoke * (1 - p_male_smoke) / n_male)\n",
    "se_female_smoke = np.sqrt(p_female_smoke * (1 - p_female_smoke) / n_female)\n",
    "\n",
    "# construct 95% CI for male and female smokers\n",
    "# ll=lower limit, ul=upper limit\n",
    "ll_male_smoke = p_male_smoke - 1.96 * se_male_smoke\n",
    "ul_male_smoke = p_male_smoke + 1.96 * se_male_smoke\n",
    "ll_female_smoke = p_female_smoke - 1.96 * se_female_smoke\n",
    "ul_female_smoke = p_female_smoke + 1.96 * se_female_smoke\n",
    "print(\"95% CI for male smokers : (\", ll_male_smoke, \",\" , ul_male_smoke, \"), with a spread of\", se_male_smoke*2)\n",
    "print(\"95% CI for female smokers : (\", ll_female_smoke, \",\" , ul_female_smoke, \"), with a spread of\", se_female_smoke*2)\n"
   ]
  },
  {
   "cell_type": "code",
   "execution_count": 19,
   "metadata": {},
   "outputs": [
    {
     "name": "stdout",
     "output_type": "stream",
     "text": [
      "95% CI for difference between male and females smokers : ( -0.2326312298280253 , -0.18278196335791153 ), with a spread of 0.025433299219445798\n"
     ]
    }
   ],
   "source": [
    "# difference in proportions\n",
    "p_diff_smoke = p_male_smoke - p_female_smoke\n",
    "se_diff_smoke = np.sqrt(se_male_smoke**2 + se_female_smoke**2)\n",
    "ll_diff_smoke = p_diff_smoke - 1.96 * se_diff_smoke\n",
    "ul_diff_smoke = p_diff_smoke + 1.96 * se_diff_smoke\n",
    "print(\"95% CI for difference between male and females smokers : (\", ll_diff_smoke, \",\" , ul_diff_smoke, \"), with a spread of\", se_diff_smoke*2)\n"
   ]
  },
  {
   "cell_type": "markdown",
   "metadata": {},
   "source": [
    "__Q2a.__ Why might it be relevant to report the separate gender proportions **and** the difference between the gender proportions?"
   ]
  },
  {
   "cell_type": "markdown",
   "metadata": {},
   "source": []
  },
  {
   "cell_type": "raw",
   "metadata": {},
   "source": [
    "* the spread of smokers within each gender could be similar or different from the spread of smokers between genders\n",
    "* it is important not to mix up the different spread measures because the spread measures would be relative to different population estimates\n"
   ]
  },
  {
   "cell_type": "markdown",
   "metadata": {},
   "source": [
    "__Q2b.__ How does the **width** of the confidence interval for the difference between the gender proportions compare to the widths of the confidence intervals for the separate gender proportions?"
   ]
  },
  {
   "cell_type": "markdown",
   "metadata": {},
   "source": []
  },
  {
   "cell_type": "raw",
   "metadata": {},
   "source": [
    "* The width of the 95% CI for male smokers is 0.017\n",
    "* The width of the 95% CI for female smokers is 0.019\n",
    "* The width of the 95% CI for the difference between male and female smokers is 0.025. Therefore between-gender variance in lifetime smoking rate is slightly larger than within-gender variance.\n"
   ]
  },
  {
   "cell_type": "markdown",
   "metadata": {},
   "source": [
    "## Question 3\n",
    "\n",
    "Construct a 95% interval for height ([BMXHT](https://wwwn.cdc.gov/Nchs/Nhanes/2015-2016/BMX_I.htm#BMXHT)) in centimeters.  Then convert height from centimeters to inches by dividing by 2.54, and construct a 95% confidence interval for height in inches.  Finally, convert the endpoints (the lower and upper confidence limits) of the confidence interval from inches to back to centimeters   "
   ]
  },
  {
   "cell_type": "code",
   "execution_count": 20,
   "metadata": {
    "scrolled": true
   },
   "outputs": [
    {
     "data": {
      "text/plain": [
       "mean       65.410565\n",
       "std         3.968214\n",
       "count    5673.000000\n",
       "Name: BMXHTINCH, dtype: float64"
      ]
     },
     "execution_count": 20,
     "metadata": {},
     "output_type": "execute_result"
    }
   ],
   "source": [
    "# enter your code here\n",
    "df[\"BMXHTINCH\"] = df.BMXHT / 2.54\n",
    "# https://stackoverflow.com/questions/19124148/modify-output-from-python-pandas-describe\n",
    "df[\"BMXHTINCH\"].describe()[[\"mean\", \"std\", \"count\"]]\n"
   ]
  },
  {
   "cell_type": "code",
   "execution_count": 21,
   "metadata": {},
   "outputs": [
    {
     "name": "stdout",
     "output_type": "stream",
     "text": [
      "95% CI for height in inches : ( 65.30730174768685 , 65.51382776342463 ), with a spread of 0.10537041619274658\n"
     ]
    }
   ],
   "source": [
    "height_inch_stats = df[\"BMXHTINCH\"].describe()[[\"mean\", \"std\", \"count\"]]\n",
    "mean_ht_inch = height_inch_stats[0]\n",
    "sd_ht_inch = height_inch_stats[1]\n",
    "n = height_inch_stats[2]\n",
    "se_ht_inch = sd_ht_inch/np.sqrt(n)\n",
    "\n",
    "ll_ht_inch = mean_ht_inch - 1.96*se_ht_inch\n",
    "ul_ht_inch = mean_ht_inch + 1.96*se_ht_inch\n",
    "print(\"95% CI for height in inches : (\", ll_ht_inch, \",\" , ul_ht_inch, \"), with a spread of\", se_ht_inch*2)\n"
   ]
  },
  {
   "cell_type": "code",
   "execution_count": 22,
   "metadata": {},
   "outputs": [
    {
     "name": "stdout",
     "output_type": "stream",
     "text": [
      "95% CI for height in cm : ( 165.8805464391246 , 166.4051225190986 ), with a spread of 0.2676408571295763\n"
     ]
    }
   ],
   "source": [
    "height_cm_stats = df[\"BMXHT\"].describe()[[\"mean\", \"std\", \"count\"]]\n",
    "mean_ht_cm = height_cm_stats[0]\n",
    "sd_ht_cm = height_cm_stats[1]\n",
    "n = height_cm_stats[2]\n",
    "se_ht_cm = sd_ht_cm/np.sqrt(n)\n",
    "\n",
    "ll_ht_cm = mean_ht_cm - 1.96*se_ht_cm\n",
    "ul_ht_cm = mean_ht_cm + 1.96*se_ht_cm\n",
    "print(\"95% CI for height in cm : (\", ll_ht_cm, \",\" , ul_ht_cm, \"), with a spread of\", se_ht_cm*2)\n"
   ]
  },
  {
   "cell_type": "code",
   "execution_count": 23,
   "metadata": {},
   "outputs": [
    {
     "name": "stdout",
     "output_type": "stream",
     "text": [
      "Lower limit of height is scaled by this amount when we go from 'inch' to 'cm' : 2.54\n",
      "Upper limit of height is scaled by this amount when we go from 'inch' to 'cm' : 2.5400000000000005\n",
      "Spread of height is scaled by this amount when we go from 'inch' to 'cm' : 2.54\n"
     ]
    }
   ],
   "source": [
    "print(\"Lower limit of height is scaled by this amount when we go from 'inch' to 'cm' :\", ll_ht_cm/ll_ht_inch)\n",
    "print(\"Upper limit of height is scaled by this amount when we go from 'inch' to 'cm' :\", ul_ht_cm/ul_ht_inch)\n",
    "print(\"Spread of height is scaled by this amount when we go from 'inch' to 'cm' :\", sd_ht_cm/sd_ht_inch)\n"
   ]
  },
  {
   "cell_type": "markdown",
   "metadata": {},
   "source": [
    "__Q3a.__ Describe how the confidence interval constructed in centimeters relates to the confidence interval constructed in inches."
   ]
  },
  {
   "cell_type": "markdown",
   "metadata": {},
   "source": []
  },
  {
   "cell_type": "raw",
   "metadata": {},
   "source": [
    "* The 95% confidence interval for height in centimeters is scaled up by 2.54 as compared to inches\n",
    "* The magnitude of scaling up the 95% confidence interval spread is the same as the magnitude of scaling up the original height values from inches to centimeters\n"
   ]
  },
  {
   "cell_type": "markdown",
   "metadata": {},
   "source": [
    "## Question 4\n",
    "\n",
    "Partition the sample based on 10-year age bands, i.e. the resulting groups will consist of people with ages from 18-28, 29-38, etc. Construct 95% confidence intervals for the difference between the mean BMI for females and for males within each age band."
   ]
  },
  {
   "cell_type": "code",
   "execution_count": 26,
   "metadata": {},
   "outputs": [
    {
     "data": {
      "text/html": [
       "<div>\n",
       "<style scoped>\n",
       "    .dataframe tbody tr th:only-of-type {\n",
       "        vertical-align: middle;\n",
       "    }\n",
       "\n",
       "    .dataframe tbody tr th {\n",
       "        vertical-align: top;\n",
       "    }\n",
       "\n",
       "    .dataframe thead th {\n",
       "        text-align: right;\n",
       "    }\n",
       "</style>\n",
       "<table border=\"1\" class=\"dataframe\">\n",
       "  <thead>\n",
       "    <tr style=\"text-align: right;\">\n",
       "      <th></th>\n",
       "      <th></th>\n",
       "      <th>Mean</th>\n",
       "      <th>SD</th>\n",
       "      <th>Total_n</th>\n",
       "      <th>Lower Limit</th>\n",
       "      <th>Upper Limit</th>\n",
       "    </tr>\n",
       "    <tr>\n",
       "      <th>RIAGENDRx</th>\n",
       "      <th>agegrp</th>\n",
       "      <th></th>\n",
       "      <th></th>\n",
       "      <th></th>\n",
       "      <th></th>\n",
       "      <th></th>\n",
       "    </tr>\n",
       "  </thead>\n",
       "  <tbody>\n",
       "    <tr>\n",
       "      <th rowspan=\"7\" valign=\"top\">Female</th>\n",
       "      <th>(18, 28]</th>\n",
       "      <td>28.019433</td>\n",
       "      <td>8.048854</td>\n",
       "      <td>498.0</td>\n",
       "      <td>27.312505</td>\n",
       "      <td>28.726362</td>\n",
       "    </tr>\n",
       "    <tr>\n",
       "      <th>(28, 38]</th>\n",
       "      <td>29.943443</td>\n",
       "      <td>7.959097</td>\n",
       "      <td>494.0</td>\n",
       "      <td>29.241573</td>\n",
       "      <td>30.645312</td>\n",
       "    </tr>\n",
       "    <tr>\n",
       "      <th>(38, 48]</th>\n",
       "      <td>31.003733</td>\n",
       "      <td>8.044642</td>\n",
       "      <td>514.0</td>\n",
       "      <td>30.308258</td>\n",
       "      <td>31.699207</td>\n",
       "    </tr>\n",
       "    <tr>\n",
       "      <th>(48, 58]</th>\n",
       "      <td>30.787361</td>\n",
       "      <td>7.647590</td>\n",
       "      <td>454.0</td>\n",
       "      <td>30.083880</td>\n",
       "      <td>31.490843</td>\n",
       "    </tr>\n",
       "    <tr>\n",
       "      <th>(58, 68]</th>\n",
       "      <td>31.054664</td>\n",
       "      <td>7.779502</td>\n",
       "      <td>466.0</td>\n",
       "      <td>30.348322</td>\n",
       "      <td>31.761006</td>\n",
       "    </tr>\n",
       "    <tr>\n",
       "      <th>(68, 78]</th>\n",
       "      <td>30.537818</td>\n",
       "      <td>6.780588</td>\n",
       "      <td>279.0</td>\n",
       "      <td>29.742170</td>\n",
       "      <td>31.333467</td>\n",
       "    </tr>\n",
       "    <tr>\n",
       "      <th>(78, 88]</th>\n",
       "      <td>27.850000</td>\n",
       "      <td>5.483781</td>\n",
       "      <td>201.0</td>\n",
       "      <td>27.091880</td>\n",
       "      <td>28.608120</td>\n",
       "    </tr>\n",
       "    <tr>\n",
       "      <th rowspan=\"7\" valign=\"top\">Male</th>\n",
       "      <th>(18, 28]</th>\n",
       "      <td>27.058186</td>\n",
       "      <td>6.679515</td>\n",
       "      <td>458.0</td>\n",
       "      <td>26.446444</td>\n",
       "      <td>27.669928</td>\n",
       "    </tr>\n",
       "    <tr>\n",
       "      <th>(28, 38]</th>\n",
       "      <td>29.697180</td>\n",
       "      <td>6.726690</td>\n",
       "      <td>467.0</td>\n",
       "      <td>29.087083</td>\n",
       "      <td>30.307277</td>\n",
       "    </tr>\n",
       "    <tr>\n",
       "      <th>(38, 48]</th>\n",
       "      <td>29.514646</td>\n",
       "      <td>6.104950</td>\n",
       "      <td>398.0</td>\n",
       "      <td>28.914860</td>\n",
       "      <td>30.114433</td>\n",
       "    </tr>\n",
       "    <tr>\n",
       "      <th>(48, 58]</th>\n",
       "      <td>29.385132</td>\n",
       "      <td>6.151534</td>\n",
       "      <td>419.0</td>\n",
       "      <td>28.796109</td>\n",
       "      <td>29.974155</td>\n",
       "    </tr>\n",
       "    <tr>\n",
       "      <th>(58, 68]</th>\n",
       "      <td>29.232462</td>\n",
       "      <td>5.959024</td>\n",
       "      <td>470.0</td>\n",
       "      <td>28.693718</td>\n",
       "      <td>29.771206</td>\n",
       "    </tr>\n",
       "    <tr>\n",
       "      <th>(68, 78]</th>\n",
       "      <td>28.720270</td>\n",
       "      <td>5.336652</td>\n",
       "      <td>307.0</td>\n",
       "      <td>28.123296</td>\n",
       "      <td>29.317245</td>\n",
       "    </tr>\n",
       "    <tr>\n",
       "      <th>(78, 88]</th>\n",
       "      <td>27.464368</td>\n",
       "      <td>4.695650</td>\n",
       "      <td>177.0</td>\n",
       "      <td>26.772592</td>\n",
       "      <td>28.156143</td>\n",
       "    </tr>\n",
       "  </tbody>\n",
       "</table>\n",
       "</div>"
      ],
      "text/plain": [
       "                         Mean        SD  Total_n  Lower Limit  Upper Limit\n",
       "RIAGENDRx agegrp                                                          \n",
       "Female    (18, 28]  28.019433  8.048854    498.0    27.312505    28.726362\n",
       "          (28, 38]  29.943443  7.959097    494.0    29.241573    30.645312\n",
       "          (38, 48]  31.003733  8.044642    514.0    30.308258    31.699207\n",
       "          (48, 58]  30.787361  7.647590    454.0    30.083880    31.490843\n",
       "          (58, 68]  31.054664  7.779502    466.0    30.348322    31.761006\n",
       "          (68, 78]  30.537818  6.780588    279.0    29.742170    31.333467\n",
       "          (78, 88]  27.850000  5.483781    201.0    27.091880    28.608120\n",
       "Male      (18, 28]  27.058186  6.679515    458.0    26.446444    27.669928\n",
       "          (28, 38]  29.697180  6.726690    467.0    29.087083    30.307277\n",
       "          (38, 48]  29.514646  6.104950    398.0    28.914860    30.114433\n",
       "          (48, 58]  29.385132  6.151534    419.0    28.796109    29.974155\n",
       "          (58, 68]  29.232462  5.959024    470.0    28.693718    29.771206\n",
       "          (68, 78]  28.720270  5.336652    307.0    28.123296    29.317245\n",
       "          (78, 88]  27.464368  4.695650    177.0    26.772592    28.156143"
      ]
     },
     "execution_count": 26,
     "metadata": {},
     "output_type": "execute_result"
    }
   ],
   "source": [
    "# enter your code here\n",
    "df[\"agegrp\"] = pd.cut(df.RIDAGEYR, [18, 28, 38, 48, 58, 68, 78, 88])\n",
    "df_bmi = df.groupby([\"RIAGENDRx\", \"agegrp\"]).agg({\"BMXBMI\": [np.mean, np.std, np.size]})\n",
    "df_bmi[\"BMXBMI\", \"Lower Limit\"] = df_bmi[\"BMXBMI\", \"mean\"] - (1.96 * df_bmi[\"BMXBMI\", \"std\"]/np.sqrt(df_bmi[\"BMXBMI\", \"size\"]))\n",
    "df_bmi[\"BMXBMI\", \"Upper Limit\"] = df_bmi[\"BMXBMI\", \"mean\"] + (1.96 * df_bmi[\"BMXBMI\", \"std\"]/np.sqrt(df_bmi[\"BMXBMI\", \"size\"]))\n",
    "df_bmi.columns = [\"Mean\", \"SD\", \"Total_n\", \"Lower Limit\", \"Upper Limit\"]\n",
    "df_bmi"
   ]
  },
  {
   "cell_type": "code",
   "execution_count": 28,
   "metadata": {
    "scrolled": true
   },
   "outputs": [
    {
     "data": {
      "text/html": [
       "<div>\n",
       "<style scoped>\n",
       "    .dataframe tbody tr th:only-of-type {\n",
       "        vertical-align: middle;\n",
       "    }\n",
       "\n",
       "    .dataframe tbody tr th {\n",
       "        vertical-align: top;\n",
       "    }\n",
       "\n",
       "    .dataframe thead th {\n",
       "        text-align: right;\n",
       "    }\n",
       "</style>\n",
       "<table border=\"1\" class=\"dataframe\">\n",
       "  <thead>\n",
       "    <tr style=\"text-align: right;\">\n",
       "      <th></th>\n",
       "      <th>Mean</th>\n",
       "      <th>SD</th>\n",
       "      <th>Total_n</th>\n",
       "      <th>Lower Limit</th>\n",
       "      <th>Upper Limit</th>\n",
       "    </tr>\n",
       "    <tr>\n",
       "      <th>agegrp</th>\n",
       "      <th></th>\n",
       "      <th></th>\n",
       "      <th></th>\n",
       "      <th></th>\n",
       "      <th></th>\n",
       "    </tr>\n",
       "  </thead>\n",
       "  <tbody>\n",
       "    <tr>\n",
       "      <th>(18, 28]</th>\n",
       "      <td>27.058186</td>\n",
       "      <td>6.679515</td>\n",
       "      <td>458.0</td>\n",
       "      <td>26.446444</td>\n",
       "      <td>27.669928</td>\n",
       "    </tr>\n",
       "    <tr>\n",
       "      <th>(28, 38]</th>\n",
       "      <td>29.697180</td>\n",
       "      <td>6.726690</td>\n",
       "      <td>467.0</td>\n",
       "      <td>29.087083</td>\n",
       "      <td>30.307277</td>\n",
       "    </tr>\n",
       "    <tr>\n",
       "      <th>(38, 48]</th>\n",
       "      <td>29.514646</td>\n",
       "      <td>6.104950</td>\n",
       "      <td>398.0</td>\n",
       "      <td>28.914860</td>\n",
       "      <td>30.114433</td>\n",
       "    </tr>\n",
       "    <tr>\n",
       "      <th>(48, 58]</th>\n",
       "      <td>29.385132</td>\n",
       "      <td>6.151534</td>\n",
       "      <td>419.0</td>\n",
       "      <td>28.796109</td>\n",
       "      <td>29.974155</td>\n",
       "    </tr>\n",
       "    <tr>\n",
       "      <th>(58, 68]</th>\n",
       "      <td>29.232462</td>\n",
       "      <td>5.959024</td>\n",
       "      <td>470.0</td>\n",
       "      <td>28.693718</td>\n",
       "      <td>29.771206</td>\n",
       "    </tr>\n",
       "    <tr>\n",
       "      <th>(68, 78]</th>\n",
       "      <td>28.720270</td>\n",
       "      <td>5.336652</td>\n",
       "      <td>307.0</td>\n",
       "      <td>28.123296</td>\n",
       "      <td>29.317245</td>\n",
       "    </tr>\n",
       "    <tr>\n",
       "      <th>(78, 88]</th>\n",
       "      <td>27.464368</td>\n",
       "      <td>4.695650</td>\n",
       "      <td>177.0</td>\n",
       "      <td>26.772592</td>\n",
       "      <td>28.156143</td>\n",
       "    </tr>\n",
       "  </tbody>\n",
       "</table>\n",
       "</div>"
      ],
      "text/plain": [
       "               Mean        SD  Total_n  Lower Limit  Upper Limit\n",
       "agegrp                                                          \n",
       "(18, 28]  27.058186  6.679515    458.0    26.446444    27.669928\n",
       "(28, 38]  29.697180  6.726690    467.0    29.087083    30.307277\n",
       "(38, 48]  29.514646  6.104950    398.0    28.914860    30.114433\n",
       "(48, 58]  29.385132  6.151534    419.0    28.796109    29.974155\n",
       "(58, 68]  29.232462  5.959024    470.0    28.693718    29.771206\n",
       "(68, 78]  28.720270  5.336652    307.0    28.123296    29.317245\n",
       "(78, 88]  27.464368  4.695650    177.0    26.772592    28.156143"
      ]
     },
     "execution_count": 28,
     "metadata": {},
     "output_type": "execute_result"
    }
   ],
   "source": [
    "# df_male_bmi = df[df.RIAGENDRx == \"Male\"].groupby([\"RIAGENDRx\", \"agegrp\"]).agg({\"BMXBMI\": [np.mean, np.std, np.size]})\n",
    "df_male_bmi = df[df.RIAGENDRx == \"Male\"].groupby([\"agegrp\"]).agg({\"BMXBMI\": [np.mean, np.std, np.size]})\n",
    "df_male_bmi[\"BMXBMI\", \"Lower Limit\"] = df_male_bmi[\"BMXBMI\", \"mean\"] - (1.96 * df_male_bmi[\"BMXBMI\", \"std\"]/np.sqrt(df_male_bmi[\"BMXBMI\", \"size\"]))\n",
    "df_male_bmi[\"BMXBMI\", \"Upper Limit\"] = df_male_bmi[\"BMXBMI\", \"mean\"] + (1.96 * df_male_bmi[\"BMXBMI\", \"std\"]/np.sqrt(df_male_bmi[\"BMXBMI\", \"size\"]))\n",
    "df_male_bmi.columns = [\"Mean\", \"SD\", \"Total_n\", \"Lower Limit\", \"Upper Limit\"]\n",
    "df_male_bmi"
   ]
  },
  {
   "cell_type": "code",
   "execution_count": 29,
   "metadata": {},
   "outputs": [
    {
     "data": {
      "text/html": [
       "<div>\n",
       "<style scoped>\n",
       "    .dataframe tbody tr th:only-of-type {\n",
       "        vertical-align: middle;\n",
       "    }\n",
       "\n",
       "    .dataframe tbody tr th {\n",
       "        vertical-align: top;\n",
       "    }\n",
       "\n",
       "    .dataframe thead th {\n",
       "        text-align: right;\n",
       "    }\n",
       "</style>\n",
       "<table border=\"1\" class=\"dataframe\">\n",
       "  <thead>\n",
       "    <tr style=\"text-align: right;\">\n",
       "      <th></th>\n",
       "      <th>Mean</th>\n",
       "      <th>SD</th>\n",
       "      <th>Total_n</th>\n",
       "      <th>Lower Limit</th>\n",
       "      <th>Upper Limit</th>\n",
       "    </tr>\n",
       "    <tr>\n",
       "      <th>agegrp</th>\n",
       "      <th></th>\n",
       "      <th></th>\n",
       "      <th></th>\n",
       "      <th></th>\n",
       "      <th></th>\n",
       "    </tr>\n",
       "  </thead>\n",
       "  <tbody>\n",
       "    <tr>\n",
       "      <th>(18, 28]</th>\n",
       "      <td>28.019433</td>\n",
       "      <td>8.048854</td>\n",
       "      <td>498.0</td>\n",
       "      <td>27.312505</td>\n",
       "      <td>28.726362</td>\n",
       "    </tr>\n",
       "    <tr>\n",
       "      <th>(28, 38]</th>\n",
       "      <td>29.943443</td>\n",
       "      <td>7.959097</td>\n",
       "      <td>494.0</td>\n",
       "      <td>29.241573</td>\n",
       "      <td>30.645312</td>\n",
       "    </tr>\n",
       "    <tr>\n",
       "      <th>(38, 48]</th>\n",
       "      <td>31.003733</td>\n",
       "      <td>8.044642</td>\n",
       "      <td>514.0</td>\n",
       "      <td>30.308258</td>\n",
       "      <td>31.699207</td>\n",
       "    </tr>\n",
       "    <tr>\n",
       "      <th>(48, 58]</th>\n",
       "      <td>30.787361</td>\n",
       "      <td>7.647590</td>\n",
       "      <td>454.0</td>\n",
       "      <td>30.083880</td>\n",
       "      <td>31.490843</td>\n",
       "    </tr>\n",
       "    <tr>\n",
       "      <th>(58, 68]</th>\n",
       "      <td>31.054664</td>\n",
       "      <td>7.779502</td>\n",
       "      <td>466.0</td>\n",
       "      <td>30.348322</td>\n",
       "      <td>31.761006</td>\n",
       "    </tr>\n",
       "    <tr>\n",
       "      <th>(68, 78]</th>\n",
       "      <td>30.537818</td>\n",
       "      <td>6.780588</td>\n",
       "      <td>279.0</td>\n",
       "      <td>29.742170</td>\n",
       "      <td>31.333467</td>\n",
       "    </tr>\n",
       "    <tr>\n",
       "      <th>(78, 88]</th>\n",
       "      <td>27.850000</td>\n",
       "      <td>5.483781</td>\n",
       "      <td>201.0</td>\n",
       "      <td>27.091880</td>\n",
       "      <td>28.608120</td>\n",
       "    </tr>\n",
       "  </tbody>\n",
       "</table>\n",
       "</div>"
      ],
      "text/plain": [
       "               Mean        SD  Total_n  Lower Limit  Upper Limit\n",
       "agegrp                                                          \n",
       "(18, 28]  28.019433  8.048854    498.0    27.312505    28.726362\n",
       "(28, 38]  29.943443  7.959097    494.0    29.241573    30.645312\n",
       "(38, 48]  31.003733  8.044642    514.0    30.308258    31.699207\n",
       "(48, 58]  30.787361  7.647590    454.0    30.083880    31.490843\n",
       "(58, 68]  31.054664  7.779502    466.0    30.348322    31.761006\n",
       "(68, 78]  30.537818  6.780588    279.0    29.742170    31.333467\n",
       "(78, 88]  27.850000  5.483781    201.0    27.091880    28.608120"
      ]
     },
     "execution_count": 29,
     "metadata": {},
     "output_type": "execute_result"
    }
   ],
   "source": [
    "# df_female_bmi = df[df.RIAGENDRx == \"Female\"].groupby([\"RIAGENDRx\", \"agegrp\"]).agg({\"BMXBMI\": [np.mean, np.std, np.size]})\n",
    "df_female_bmi = df[df.RIAGENDRx == \"Female\"].groupby([\"agegrp\"]).agg({\"BMXBMI\": [np.mean, np.std, np.size]})\n",
    "df_female_bmi[\"BMXBMI\", \"Lower Limit\"] = df_female_bmi[\"BMXBMI\", \"mean\"] - (1.96 * df_female_bmi[\"BMXBMI\", \"std\"]/np.sqrt(df_female_bmi[\"BMXBMI\", \"size\"]))\n",
    "df_female_bmi[\"BMXBMI\", \"Upper Limit\"] = df_female_bmi[\"BMXBMI\", \"mean\"] + (1.96 * df_female_bmi[\"BMXBMI\", \"std\"]/np.sqrt(df_female_bmi[\"BMXBMI\", \"size\"]))\n",
    "df_female_bmi.columns = [\"Mean\", \"SD\", \"Total_n\", \"Lower Limit\", \"Upper Limit\"]\n",
    "df_female_bmi"
   ]
  },
  {
   "cell_type": "code",
   "execution_count": 30,
   "metadata": {
    "scrolled": true
   },
   "outputs": [
    {
     "data": {
      "text/plain": [
       "agegrp\n",
       "(18, 28]   -0.961247\n",
       "(28, 38]   -0.246263\n",
       "(38, 48]   -1.489086\n",
       "(48, 58]   -1.402230\n",
       "(58, 68]   -1.822202\n",
       "(68, 78]   -1.817548\n",
       "(78, 88]   -0.385632\n",
       "Name: Mean, dtype: float64"
      ]
     },
     "execution_count": 30,
     "metadata": {},
     "output_type": "execute_result"
    }
   ],
   "source": [
    "# after fixing by removing the 1st-level grouping on 'Gender'\n",
    "# we no longer have NaNs when subtracting the 2 cols in a df\n",
    "df_male_bmi.Mean - df_female_bmi.Mean"
   ]
  },
  {
   "cell_type": "code",
   "execution_count": 31,
   "metadata": {},
   "outputs": [
    {
     "data": {
      "text/html": [
       "<div>\n",
       "<style scoped>\n",
       "    .dataframe tbody tr th:only-of-type {\n",
       "        vertical-align: middle;\n",
       "    }\n",
       "\n",
       "    .dataframe tbody tr th {\n",
       "        vertical-align: top;\n",
       "    }\n",
       "\n",
       "    .dataframe thead th {\n",
       "        text-align: right;\n",
       "    }\n",
       "</style>\n",
       "<table border=\"1\" class=\"dataframe\">\n",
       "  <thead>\n",
       "    <tr style=\"text-align: right;\">\n",
       "      <th></th>\n",
       "      <th>Mean</th>\n",
       "    </tr>\n",
       "    <tr>\n",
       "      <th>agegrp</th>\n",
       "      <th></th>\n",
       "    </tr>\n",
       "  </thead>\n",
       "  <tbody>\n",
       "    <tr>\n",
       "      <th>(18, 28]</th>\n",
       "      <td>-0.961247</td>\n",
       "    </tr>\n",
       "    <tr>\n",
       "      <th>(28, 38]</th>\n",
       "      <td>-0.246263</td>\n",
       "    </tr>\n",
       "    <tr>\n",
       "      <th>(38, 48]</th>\n",
       "      <td>-1.489086</td>\n",
       "    </tr>\n",
       "    <tr>\n",
       "      <th>(48, 58]</th>\n",
       "      <td>-1.402230</td>\n",
       "    </tr>\n",
       "    <tr>\n",
       "      <th>(58, 68]</th>\n",
       "      <td>-1.822202</td>\n",
       "    </tr>\n",
       "    <tr>\n",
       "      <th>(68, 78]</th>\n",
       "      <td>-1.817548</td>\n",
       "    </tr>\n",
       "    <tr>\n",
       "      <th>(78, 88]</th>\n",
       "      <td>-0.385632</td>\n",
       "    </tr>\n",
       "  </tbody>\n",
       "</table>\n",
       "</div>"
      ],
      "text/plain": [
       "              Mean\n",
       "agegrp            \n",
       "(18, 28] -0.961247\n",
       "(28, 38] -0.246263\n",
       "(38, 48] -1.489086\n",
       "(48, 58] -1.402230\n",
       "(58, 68] -1.822202\n",
       "(68, 78] -1.817548\n",
       "(78, 88] -0.385632"
      ]
     },
     "execution_count": 31,
     "metadata": {},
     "output_type": "execute_result"
    }
   ],
   "source": [
    "# https://stackoverflow.com/questions/13784192/creating-an-empty-pandas-dataframe-then-filling-it\n",
    "# after getting difference, accumulate data in a list\n",
    "# then create new df from the list: df_diff_bmi\n",
    "list_diff_bmi_mean = []\n",
    "series_diff_bmi_mean = df_male_bmi.Mean - df_female_bmi.Mean\n",
    "list_diff_bmi_mean = series_diff_bmi_mean.values.tolist()\n",
    "df_diff_bmi_mean = pd.DataFrame(list_diff_bmi_mean, columns = [\"Mean\"])\n",
    "\n",
    "# https://pandas.pydata.org/pandas-docs/stable/user_guide/indexing.html\n",
    "# df_diff_bmi_mean.reindex()\n",
    "# https://stackoverflow.com/questions/18176933/create-an-empty-data-frame-with-index-from-another-data-frame\n",
    "df_diff_bmi_mean.index = df_male_bmi.index\n",
    "df_diff_bmi_mean"
   ]
  },
  {
   "cell_type": "code",
   "execution_count": 32,
   "metadata": {},
   "outputs": [
    {
     "data": {
      "text/html": [
       "<div>\n",
       "<style scoped>\n",
       "    .dataframe tbody tr th:only-of-type {\n",
       "        vertical-align: middle;\n",
       "    }\n",
       "\n",
       "    .dataframe tbody tr th {\n",
       "        vertical-align: top;\n",
       "    }\n",
       "\n",
       "    .dataframe thead th {\n",
       "        text-align: right;\n",
       "    }\n",
       "</style>\n",
       "<table border=\"1\" class=\"dataframe\">\n",
       "  <thead>\n",
       "    <tr style=\"text-align: right;\">\n",
       "      <th></th>\n",
       "      <th>Mean</th>\n",
       "      <th>Male SD</th>\n",
       "      <th>Male Count</th>\n",
       "      <th>Female SD</th>\n",
       "      <th>Female Count</th>\n",
       "    </tr>\n",
       "    <tr>\n",
       "      <th>agegrp</th>\n",
       "      <th></th>\n",
       "      <th></th>\n",
       "      <th></th>\n",
       "      <th></th>\n",
       "      <th></th>\n",
       "    </tr>\n",
       "  </thead>\n",
       "  <tbody>\n",
       "    <tr>\n",
       "      <th>(18, 28]</th>\n",
       "      <td>-0.961247</td>\n",
       "      <td>6.679515</td>\n",
       "      <td>458.0</td>\n",
       "      <td>8.048854</td>\n",
       "      <td>498.0</td>\n",
       "    </tr>\n",
       "    <tr>\n",
       "      <th>(28, 38]</th>\n",
       "      <td>-0.246263</td>\n",
       "      <td>6.726690</td>\n",
       "      <td>467.0</td>\n",
       "      <td>7.959097</td>\n",
       "      <td>494.0</td>\n",
       "    </tr>\n",
       "    <tr>\n",
       "      <th>(38, 48]</th>\n",
       "      <td>-1.489086</td>\n",
       "      <td>6.104950</td>\n",
       "      <td>398.0</td>\n",
       "      <td>8.044642</td>\n",
       "      <td>514.0</td>\n",
       "    </tr>\n",
       "    <tr>\n",
       "      <th>(48, 58]</th>\n",
       "      <td>-1.402230</td>\n",
       "      <td>6.151534</td>\n",
       "      <td>419.0</td>\n",
       "      <td>7.647590</td>\n",
       "      <td>454.0</td>\n",
       "    </tr>\n",
       "    <tr>\n",
       "      <th>(58, 68]</th>\n",
       "      <td>-1.822202</td>\n",
       "      <td>5.959024</td>\n",
       "      <td>470.0</td>\n",
       "      <td>7.779502</td>\n",
       "      <td>466.0</td>\n",
       "    </tr>\n",
       "    <tr>\n",
       "      <th>(68, 78]</th>\n",
       "      <td>-1.817548</td>\n",
       "      <td>5.336652</td>\n",
       "      <td>307.0</td>\n",
       "      <td>6.780588</td>\n",
       "      <td>279.0</td>\n",
       "    </tr>\n",
       "    <tr>\n",
       "      <th>(78, 88]</th>\n",
       "      <td>-0.385632</td>\n",
       "      <td>4.695650</td>\n",
       "      <td>177.0</td>\n",
       "      <td>5.483781</td>\n",
       "      <td>201.0</td>\n",
       "    </tr>\n",
       "  </tbody>\n",
       "</table>\n",
       "</div>"
      ],
      "text/plain": [
       "              Mean   Male SD  Male Count  Female SD  Female Count\n",
       "agegrp                                                           \n",
       "(18, 28] -0.961247  6.679515       458.0   8.048854         498.0\n",
       "(28, 38] -0.246263  6.726690       467.0   7.959097         494.0\n",
       "(38, 48] -1.489086  6.104950       398.0   8.044642         514.0\n",
       "(48, 58] -1.402230  6.151534       419.0   7.647590         454.0\n",
       "(58, 68] -1.822202  5.959024       470.0   7.779502         466.0\n",
       "(68, 78] -1.817548  5.336652       307.0   6.780588         279.0\n",
       "(78, 88] -0.385632  4.695650       177.0   5.483781         201.0"
      ]
     },
     "execution_count": 32,
     "metadata": {},
     "output_type": "execute_result"
    }
   ],
   "source": [
    "# Get the SE for the difference in means\n",
    "# http://vassarstats.net/dist2.html : np.sqrt(sdmales**2 / nmales + sdfemales**2 / nfemales)\n",
    "\n",
    "# extract the within-gender SD and n in arrays\n",
    "male_bmi_sd = df_male_bmi.SD\n",
    "male_bmi_n = df_male_bmi.Total_n\n",
    "female_bmi_sd = df_female_bmi.SD\n",
    "female_bmi_n = df_female_bmi.Total_n\n",
    "\n",
    "# initialise empty lists\n",
    "list_male_bmi_sd = []\n",
    "list_male_bmi_n = []\n",
    "list_female_bmi_sd = []\n",
    "list_female_bmi_n = []\n",
    "\n",
    "# extract within-gender SD and n in lists\n",
    "list_male_bmi_sd = male_bmi_sd.values.tolist()\n",
    "list_male_bmi_n = male_bmi_n.values.tolist()\n",
    "list_female_bmi_sd = female_bmi_sd.values.tolist()\n",
    "list_female_bmi_n = female_bmi_n.values.tolist()\n",
    "# list_bmi_cols = list(list_diff_bmi_mean)\n",
    "# list_bmi_cols.append(list_male_bmi_sd)\n",
    "# list_bmi_cols.append(list_male_bmi_n)\n",
    "# list_bmi_cols.append(list_female_bmi_sd)\n",
    "# list_bmi_cols.append(list_female_bmi_n)\n",
    "\n",
    "# https://cmdlinetips.com/2018/01/how-to-create-pandas-dataframe-from-multiple-lists/\n",
    "# Create pandas dataframe from lists using zip\n",
    "list_bmi_cols = list(zip(list_diff_bmi_mean, list_male_bmi_sd, list_male_bmi_n, list_female_bmi_sd, list_female_bmi_n))\n",
    "\n",
    "# recreate the df with 'Mean' from earlier\n",
    "df_diff_bmi_mean = pd.DataFrame(list_bmi_cols, columns = [\"Mean\", \"Male SD\", \"Male Count\", \"Female SD\", \"Female Count\"])\n",
    "df_diff_bmi_mean.index = df_male_bmi.index\n",
    "df_diff_bmi_mean"
   ]
  },
  {
   "cell_type": "code",
   "execution_count": 33,
   "metadata": {
    "scrolled": true
   },
   "outputs": [
    {
     "data": {
      "text/html": [
       "<div>\n",
       "<style scoped>\n",
       "    .dataframe tbody tr th:only-of-type {\n",
       "        vertical-align: middle;\n",
       "    }\n",
       "\n",
       "    .dataframe tbody tr th {\n",
       "        vertical-align: top;\n",
       "    }\n",
       "\n",
       "    .dataframe thead th {\n",
       "        text-align: right;\n",
       "    }\n",
       "</style>\n",
       "<table border=\"1\" class=\"dataframe\">\n",
       "  <thead>\n",
       "    <tr style=\"text-align: right;\">\n",
       "      <th></th>\n",
       "      <th>Mean</th>\n",
       "      <th>Male SD</th>\n",
       "      <th>Male Count</th>\n",
       "      <th>Female SD</th>\n",
       "      <th>Female Count</th>\n",
       "      <th>Diff in means SE</th>\n",
       "      <th>Diff in means LL</th>\n",
       "      <th>Diff in means UL</th>\n",
       "    </tr>\n",
       "    <tr>\n",
       "      <th>agegrp</th>\n",
       "      <th></th>\n",
       "      <th></th>\n",
       "      <th></th>\n",
       "      <th></th>\n",
       "      <th></th>\n",
       "      <th></th>\n",
       "      <th></th>\n",
       "      <th></th>\n",
       "    </tr>\n",
       "  </thead>\n",
       "  <tbody>\n",
       "    <tr>\n",
       "      <th>(18, 28]</th>\n",
       "      <td>-0.961247</td>\n",
       "      <td>6.679515</td>\n",
       "      <td>458.0</td>\n",
       "      <td>8.048854</td>\n",
       "      <td>498.0</td>\n",
       "      <td>0.476973</td>\n",
       "      <td>-1.896114</td>\n",
       "      <td>-0.026381</td>\n",
       "    </tr>\n",
       "    <tr>\n",
       "      <th>(28, 38]</th>\n",
       "      <td>-0.246263</td>\n",
       "      <td>6.726690</td>\n",
       "      <td>467.0</td>\n",
       "      <td>7.959097</td>\n",
       "      <td>494.0</td>\n",
       "      <td>0.474473</td>\n",
       "      <td>-1.176230</td>\n",
       "      <td>0.683705</td>\n",
       "    </tr>\n",
       "    <tr>\n",
       "      <th>(38, 48]</th>\n",
       "      <td>-1.489086</td>\n",
       "      <td>6.104950</td>\n",
       "      <td>398.0</td>\n",
       "      <td>8.044642</td>\n",
       "      <td>514.0</td>\n",
       "      <td>0.468563</td>\n",
       "      <td>-2.407470</td>\n",
       "      <td>-0.570703</td>\n",
       "    </tr>\n",
       "    <tr>\n",
       "      <th>(48, 58]</th>\n",
       "      <td>-1.402230</td>\n",
       "      <td>6.151534</td>\n",
       "      <td>419.0</td>\n",
       "      <td>7.647590</td>\n",
       "      <td>454.0</td>\n",
       "      <td>0.468120</td>\n",
       "      <td>-2.319745</td>\n",
       "      <td>-0.484714</td>\n",
       "    </tr>\n",
       "    <tr>\n",
       "      <th>(58, 68]</th>\n",
       "      <td>-1.822202</td>\n",
       "      <td>5.959024</td>\n",
       "      <td>470.0</td>\n",
       "      <td>7.779502</td>\n",
       "      <td>466.0</td>\n",
       "      <td>0.453239</td>\n",
       "      <td>-2.710551</td>\n",
       "      <td>-0.933853</td>\n",
       "    </tr>\n",
       "    <tr>\n",
       "      <th>(68, 78]</th>\n",
       "      <td>-1.817548</td>\n",
       "      <td>5.336652</td>\n",
       "      <td>307.0</td>\n",
       "      <td>6.780588</td>\n",
       "      <td>279.0</td>\n",
       "      <td>0.507502</td>\n",
       "      <td>-2.812252</td>\n",
       "      <td>-0.822844</td>\n",
       "    </tr>\n",
       "    <tr>\n",
       "      <th>(78, 88]</th>\n",
       "      <td>-0.385632</td>\n",
       "      <td>4.695650</td>\n",
       "      <td>177.0</td>\n",
       "      <td>5.483781</td>\n",
       "      <td>201.0</td>\n",
       "      <td>0.523624</td>\n",
       "      <td>-1.411936</td>\n",
       "      <td>0.640672</td>\n",
       "    </tr>\n",
       "  </tbody>\n",
       "</table>\n",
       "</div>"
      ],
      "text/plain": [
       "              Mean   Male SD  Male Count  Female SD  Female Count  \\\n",
       "agegrp                                                              \n",
       "(18, 28] -0.961247  6.679515       458.0   8.048854         498.0   \n",
       "(28, 38] -0.246263  6.726690       467.0   7.959097         494.0   \n",
       "(38, 48] -1.489086  6.104950       398.0   8.044642         514.0   \n",
       "(48, 58] -1.402230  6.151534       419.0   7.647590         454.0   \n",
       "(58, 68] -1.822202  5.959024       470.0   7.779502         466.0   \n",
       "(68, 78] -1.817548  5.336652       307.0   6.780588         279.0   \n",
       "(78, 88] -0.385632  4.695650       177.0   5.483781         201.0   \n",
       "\n",
       "          Diff in means SE  Diff in means LL  Diff in means UL  \n",
       "agegrp                                                          \n",
       "(18, 28]          0.476973         -1.896114         -0.026381  \n",
       "(28, 38]          0.474473         -1.176230          0.683705  \n",
       "(38, 48]          0.468563         -2.407470         -0.570703  \n",
       "(48, 58]          0.468120         -2.319745         -0.484714  \n",
       "(58, 68]          0.453239         -2.710551         -0.933853  \n",
       "(68, 78]          0.507502         -2.812252         -0.822844  \n",
       "(78, 88]          0.523624         -1.411936          0.640672  "
      ]
     },
     "execution_count": 33,
     "metadata": {},
     "output_type": "execute_result"
    }
   ],
   "source": [
    "# Now, calculate the SE for the difference in means\n",
    "df_diff_bmi_mean[\"Diff in means SE\"] = np.sqrt((df_diff_bmi_mean[\"Male SD\"]**2 / df_diff_bmi_mean[\"Male Count\"]) + (df_diff_bmi_mean[\"Female SD\"]**2 / df_diff_bmi_mean[\"Female Count\"]))\n",
    "\n",
    "# Construct 95% CI\n",
    "df_diff_bmi_mean[\"Diff in means LL\"] = df_diff_bmi_mean[\"Mean\"] - 1.96*df_diff_bmi_mean[\"Diff in means SE\"]\n",
    "df_diff_bmi_mean[\"Diff in means UL\"] = df_diff_bmi_mean[\"Mean\"] + 1.96*df_diff_bmi_mean[\"Diff in means SE\"]\n",
    "df_diff_bmi_mean\n"
   ]
  },
  {
   "cell_type": "markdown",
   "metadata": {},
   "source": [
    "__Q4a.__ How do the widths of these confidence intervals differ?  Provide an explanation for any substantial diferences in the confidence interval widths that you see."
   ]
  },
  {
   "cell_type": "raw",
   "metadata": {},
   "source": [
    "The width of the 95% CI for difference in mean bmi between males and females \n",
    "* is narrowest between the age of 59 to 68\n",
    "* from 69 years and onwards, there was a slightly higher standard error of 0.51\n",
    "\n",
    "Probably as people got older, the disparity in access to healthcare and proper nutrition gets more pronounced between males and females, therefore leading to a wider difference in mean BMI\n"
   ]
  },
  {
   "cell_type": "code",
   "execution_count": 29,
   "metadata": {
    "scrolled": true
   },
   "outputs": [
    {
     "data": {
      "text/plain": [
       "pandas.core.series.Series"
      ]
     },
     "execution_count": 29,
     "metadata": {},
     "output_type": "execute_result"
    }
   ],
   "source": [
    "# type(df_male_bmi.Mean)"
   ]
  },
  {
   "cell_type": "code",
   "execution_count": 33,
   "metadata": {},
   "outputs": [],
   "source": [
    "# df_male_bmi_mean = df_male_bmi.Mean\n",
    "# df_female_bmi_mean = df_female_bmi.Mean"
   ]
  },
  {
   "cell_type": "code",
   "execution_count": 53,
   "metadata": {},
   "outputs": [
    {
     "data": {
      "text/plain": [
       "[27.058185840708003,\n",
       " 29.697180043383963,\n",
       " 29.51464646464647,\n",
       " 29.385131894484417,\n",
       " 29.232461873638325,\n",
       " 28.720270270270255,\n",
       " 27.46436781609195]"
      ]
     },
     "execution_count": 53,
     "metadata": {},
     "output_type": "execute_result"
    }
   ],
   "source": [
    "# df_male_bmi_mean"
   ]
  },
  {
   "cell_type": "code",
   "execution_count": 37,
   "metadata": {
    "scrolled": false
   },
   "outputs": [
    {
     "data": {
      "text/plain": [
       "RIAGENDRx  agegrp  \n",
       "Female     (18, 28]   NaN\n",
       "           (28, 38]   NaN\n",
       "           (38, 48]   NaN\n",
       "           (48, 58]   NaN\n",
       "           (58, 68]   NaN\n",
       "           (68, 78]   NaN\n",
       "           (78, 88]   NaN\n",
       "Male       (18, 28]   NaN\n",
       "           (28, 38]   NaN\n",
       "           (38, 48]   NaN\n",
       "           (48, 58]   NaN\n",
       "           (58, 68]   NaN\n",
       "           (68, 78]   NaN\n",
       "           (78, 88]   NaN\n",
       "Name: Mean, dtype: float64"
      ]
     },
     "execution_count": 37,
     "metadata": {},
     "output_type": "execute_result"
    }
   ],
   "source": [
    "# https://stackoverflow.com/questions/39169923/pandas-all-nans-when-subtracting-two-dataframes\n",
    "# having some issue when subtracting the mean values across each age group because the 'Gender' indexes on the left are different\n",
    "# so the resulting values are NaN\n",
    "# df_male_bmi_mean.sub(df_female_bmi_mean.squeeze())\n"
   ]
  },
  {
   "cell_type": "code",
   "execution_count": 44,
   "metadata": {
    "scrolled": false
   },
   "outputs": [
    {
     "data": {
      "text/plain": [
       "[27.058185840708003,\n",
       " 29.697180043383963,\n",
       " 29.51464646464647,\n",
       " 29.385131894484417,\n",
       " 29.232461873638325,\n",
       " 28.720270270270255,\n",
       " 27.46436781609195]"
      ]
     },
     "execution_count": 44,
     "metadata": {},
     "output_type": "execute_result"
    }
   ],
   "source": [
    "# let us work around the NaN issue by extracting the col values in list format\n",
    "# then later turn the col values into an array\n",
    "# https://www.dataindependent.com/pandas/dataframe-to-list/\n",
    "# list_male_bmi_mean = df_male_bmi.Mean.values.tolist()\n",
    "# list_male_bmi_mean"
   ]
  },
  {
   "cell_type": "code",
   "execution_count": 45,
   "metadata": {},
   "outputs": [
    {
     "data": {
      "text/plain": [
       "[28.019433198380565,\n",
       " 29.943442622950815,\n",
       " 31.003732809430268,\n",
       " 30.78736141906873,\n",
       " 31.054663774403497,\n",
       " 30.537818181818174,\n",
       " 27.850000000000037]"
      ]
     },
     "execution_count": 45,
     "metadata": {},
     "output_type": "execute_result"
    }
   ],
   "source": [
    "# list_female_bmi_mean = df_female_bmi.Mean.values.tolist()\n",
    "# list_female_bmi_mean"
   ]
  },
  {
   "cell_type": "code",
   "execution_count": 47,
   "metadata": {},
   "outputs": [
    {
     "data": {
      "text/plain": [
       "array([27.05818584, 29.69718004, 29.51464646, 29.38513189, 29.23246187,\n",
       "       28.72027027, 27.46436782])"
      ]
     },
     "execution_count": 47,
     "metadata": {},
     "output_type": "execute_result"
    }
   ],
   "source": [
    "# # https://www.educative.io/edpresso/how-to-convert-a-list-to-an-array-in-python\n",
    "# arr_male_bmi_mean = np.array(df_male_bmi_mean)\n",
    "# arr_female_bmi_mean = np.array(df_female_bmi_mean)\n",
    "# arr_male_bmi_mean"
   ]
  },
  {
   "cell_type": "code",
   "execution_count": 50,
   "metadata": {},
   "outputs": [
    {
     "name": "stdout",
     "output_type": "stream",
     "text": [
      "Difference in mean BMI between males and females across age groups [-0.96124736 -0.24626258 -1.48908634 -1.40222952 -1.8222019  -1.81754791\n",
      " -0.38563218]\n"
     ]
    }
   ],
   "source": [
    "# arr_diff_bmi_mean = arr_male_bmi_mean-arr_female_bmi_mean\n",
    "# print(\"Difference in mean BMI between males and females across age groups\", arr_diff_bmi_mean)"
   ]
  },
  {
   "cell_type": "markdown",
   "metadata": {},
   "source": [
    "## Question 5\n",
    "\n",
    "Construct a 95% confidence interval for the first and second systolic blood pressure measures, and for the difference between the first and second systolic blood pressure measurements within a subject."
   ]
  },
  {
   "cell_type": "code",
   "execution_count": 34,
   "metadata": {
    "scrolled": false
   },
   "outputs": [
    {
     "data": {
      "text/html": [
       "<div>\n",
       "<style scoped>\n",
       "    .dataframe tbody tr th:only-of-type {\n",
       "        vertical-align: middle;\n",
       "    }\n",
       "\n",
       "    .dataframe tbody tr th {\n",
       "        vertical-align: top;\n",
       "    }\n",
       "\n",
       "    .dataframe thead th {\n",
       "        text-align: right;\n",
       "    }\n",
       "</style>\n",
       "<table border=\"1\" class=\"dataframe\">\n",
       "  <thead>\n",
       "    <tr style=\"text-align: right;\">\n",
       "      <th></th>\n",
       "      <th>BPXSY1</th>\n",
       "      <th>BPXSY2</th>\n",
       "    </tr>\n",
       "  </thead>\n",
       "  <tbody>\n",
       "    <tr>\n",
       "      <th>mean</th>\n",
       "      <td>125.084614</td>\n",
       "      <td>124.783017</td>\n",
       "    </tr>\n",
       "    <tr>\n",
       "      <th>std</th>\n",
       "      <td>18.480873</td>\n",
       "      <td>18.527012</td>\n",
       "    </tr>\n",
       "    <tr>\n",
       "      <th>count</th>\n",
       "      <td>5401.000000</td>\n",
       "      <td>5535.000000</td>\n",
       "    </tr>\n",
       "  </tbody>\n",
       "</table>\n",
       "</div>"
      ],
      "text/plain": [
       "            BPXSY1       BPXSY2\n",
       "mean    125.084614   124.783017\n",
       "std      18.480873    18.527012\n",
       "count  5401.000000  5535.000000"
      ]
     },
     "execution_count": 34,
     "metadata": {},
     "output_type": "execute_result"
    }
   ],
   "source": [
    "# enter code here\n",
    "# https://wwwn.cdc.gov/Nchs/Nhanes/2015-2016/BPX_I.htm#BPXSY1\n",
    "# 'BPXSY1', 'BPXDI1', 'BPXSY2','BPXDI2'\n",
    "\n",
    "# AttributeError: module 'statsmodels.stats.api' has no attribute 'weightstats'\n",
    "# sm.stats.weightstats.zconfint\n",
    "# sm.stats.zconfint(df[\"BPXSY1\"], df[\"BPXSY2\"])\n",
    "# (nan, nan)\n",
    "\n",
    "df_systolic = df[[\"BPXSY1\", \"BPXSY2\"]].agg({\"BPXSY1\" : [np.mean, np.std, 'count'], \n",
    "                               \"BPXSY2\" : [np.mean, np.std, 'count']}) \n",
    "df_systolic"
   ]
  },
  {
   "cell_type": "code",
   "execution_count": 35,
   "metadata": {},
   "outputs": [
    {
     "data": {
      "text/html": [
       "<div>\n",
       "<style scoped>\n",
       "    .dataframe tbody tr th:only-of-type {\n",
       "        vertical-align: middle;\n",
       "    }\n",
       "\n",
       "    .dataframe tbody tr th {\n",
       "        vertical-align: top;\n",
       "    }\n",
       "\n",
       "    .dataframe thead th {\n",
       "        text-align: right;\n",
       "    }\n",
       "</style>\n",
       "<table border=\"1\" class=\"dataframe\">\n",
       "  <thead>\n",
       "    <tr style=\"text-align: right;\">\n",
       "      <th></th>\n",
       "      <th>average</th>\n",
       "      <th>sd</th>\n",
       "      <th>n</th>\n",
       "      <th>se</th>\n",
       "      <th>lower_limit</th>\n",
       "      <th>upper_limit</th>\n",
       "    </tr>\n",
       "  </thead>\n",
       "  <tbody>\n",
       "    <tr>\n",
       "      <th>BPXSY1</th>\n",
       "      <td>125.084614</td>\n",
       "      <td>18.480873</td>\n",
       "      <td>5401.0</td>\n",
       "      <td>0.251470</td>\n",
       "      <td>124.591734</td>\n",
       "      <td>125.577494</td>\n",
       "    </tr>\n",
       "    <tr>\n",
       "      <th>BPXSY2</th>\n",
       "      <td>124.783017</td>\n",
       "      <td>18.527012</td>\n",
       "      <td>5535.0</td>\n",
       "      <td>0.249027</td>\n",
       "      <td>124.294924</td>\n",
       "      <td>125.271110</td>\n",
       "    </tr>\n",
       "  </tbody>\n",
       "</table>\n",
       "</div>"
      ],
      "text/plain": [
       "           average         sd       n        se  lower_limit  upper_limit\n",
       "BPXSY1  125.084614  18.480873  5401.0  0.251470   124.591734   125.577494\n",
       "BPXSY2  124.783017  18.527012  5535.0  0.249027   124.294924   125.271110"
      ]
     },
     "execution_count": 35,
     "metadata": {},
     "output_type": "execute_result"
    }
   ],
   "source": [
    "df_systolic = df_systolic.T\n",
    "df_systolic.columns = ['average', 'sd', 'n']\n",
    "\n",
    "# before we updated the col names, the col names were: mean std count\n",
    "# error: unsupported operand type(s) for *: 'float' and 'method'\n",
    "# df_systolic[\"lower_limit\"] = df_systolic.mean - 1.96 * df_systolic.std\n",
    "# df_systolic[\"upper_limit\"] = df_systolic.mean + 1.96 * df_systolic.std\n",
    "\n",
    "df_systolic[\"se\"] = df_systolic.sd/np.sqrt(df_systolic.n)\n",
    "df_systolic[\"lower_limit\"] = df_systolic.average - 1.96 * df_systolic.se\n",
    "df_systolic[\"upper_limit\"] = df_systolic.average + 1.96 * df_systolic.se\n",
    "\n",
    "\n",
    "df_systolic"
   ]
  },
  {
   "cell_type": "code",
   "execution_count": 36,
   "metadata": {},
   "outputs": [
    {
     "data": {
      "text/plain": [
       "count    5369.000000\n",
       "mean        0.674986\n",
       "std         5.046465\n",
       "min       -26.000000\n",
       "25%        -2.000000\n",
       "50%         0.000000\n",
       "75%         4.000000\n",
       "max        32.000000\n",
       "Name: diff_systolic, dtype: float64"
      ]
     },
     "execution_count": 36,
     "metadata": {},
     "output_type": "execute_result"
    }
   ],
   "source": [
    "# difference in mean systolic BP within the same individual\n",
    "df[\"diff_systolic\"] = df.BPXSY1 - df.BPXSY2\n",
    "df[\"diff_systolic\"].describe()\n"
   ]
  },
  {
   "cell_type": "code",
   "execution_count": 37,
   "metadata": {},
   "outputs": [
    {
     "name": "stdout",
     "output_type": "stream",
     "text": [
      "Mean difference in systolic BP within the same individual is : 0.6749860309182343 with a 95% CI of ( 0.6656041113496257 , 0.6843679504868428 ) and a standard error of 0.0047866936574533555\n"
     ]
    }
   ],
   "source": [
    "diff_systolic_mean = df[\"diff_systolic\"].describe()[1]\n",
    "diff_systolic_std = df[\"diff_systolic\"].describe()[2]\n",
    "\n",
    "diff_systolic_se = np.sqrt(df_systolic.se[0]**2 /df_systolic.n[0] + df_systolic.se[1]**2 /df_systolic.n[1])\n",
    "diff_systolic_ll = diff_systolic_mean - 1.96*diff_systolic_se\n",
    "diff_systolic_ul = diff_systolic_mean + 1.96*diff_systolic_se\n",
    "print(\"Mean difference in systolic BP within the same individual is :\", diff_systolic_mean, \"with a 95% CI of (\", diff_systolic_ll, \",\", diff_systolic_ul, \")\", \"and a standard error of\", diff_systolic_se)\n"
   ]
  },
  {
   "cell_type": "markdown",
   "metadata": {},
   "source": [
    "__Q5a.__ Based on these confidence intervals, would you say that a difference of zero between the population mean values of the first and second systolic blood pressure measures is consistent with the data?"
   ]
  },
  {
   "cell_type": "markdown",
   "metadata": {},
   "source": []
  },
  {
   "cell_type": "raw",
   "metadata": {},
   "source": [
    "From the analysis on difference in mean systolic BP within the same individual,\n",
    "* with 95% confidence, there is a difference of 0.67 between the population mean values of the first and second systolic blood pressure measures\n",
    "* with the 95% confidence interval between 0.67 and 0.68, which is fully in the positive range\n",
    "* therefore this observation is not consistent with the expectation of zero difference between the population mean values of the first and second systolic blood pressure measures in the dataset\n",
    "* instead, we observe a weak difference of approximately 0.67 in systolic blood pressure between the first and second measurement\n"
   ]
  },
  {
   "cell_type": "markdown",
   "metadata": {},
   "source": [
    "__Q5b.__ Discuss how the width of the confidence interval for the within-subject difference compares to the widths of the confidence intervals for the first and second measures."
   ]
  },
  {
   "cell_type": "markdown",
   "metadata": {},
   "source": []
  },
  {
   "cell_type": "raw",
   "metadata": {},
   "source": [
    "Standard error for the \n",
    "* mean difference in systolic BP within the same individual: 0.0048\n",
    "* first systolic BP: 0.2515\n",
    "* second systolic BP: 0.2490\n",
    "\n",
    "The width of the 95% CI is\n",
    "* narrower for the mean difference in systolic BP within the same individual\n",
    "* wider for both the first and second systolic BP across individuals\n",
    "* this observation could be because systolic BP varies widely across individuals\n",
    "* and an individual's systolic BP is more or less consistent across measurements, except for stress introduced during certain measurements which may increase their systolic BP slightly\n"
   ]
  },
  {
   "cell_type": "markdown",
   "metadata": {},
   "source": [
    "## Question 6\n",
    "\n",
    "Construct a 95% confidence interval for the mean difference between the average age of a smoker, and the average age of a non-smoker."
   ]
  },
  {
   "cell_type": "code",
   "execution_count": 38,
   "metadata": {},
   "outputs": [
    {
     "name": "stdout",
     "output_type": "stream",
     "text": [
      "Mean age of smokers is : 52.09659335920655 with a 95% CI of ( 51.38590645243244 , 52.807280265980665 ) and a standard error of 0.3625953605990387\n",
      "Mean age of non-smokers is : 45.259835584263065 with a 95% CI of ( 44.637075954817284 , 45.882595213708846 ) and a standard error of 0.31773450481927484\n"
     ]
    }
   ],
   "source": [
    "# insert your code here\n",
    "# split into 2 dataframes - 1 for smokers, 1 for nonsmokers\n",
    "df_smk = df[df[\"SMQ020x\"] == 1]\n",
    "df_no_smk = df[df[\"SMQ020x\"] == 0]\n",
    "\n",
    "age_smk_n = df_smk.RIDAGEYR.describe()[0]\n",
    "age_nosmk_n = df_no_smk.RIDAGEYR.describe()[0]\n",
    "age_smk_mean = df_smk.RIDAGEYR.describe()[1]\n",
    "age_nosmk_mean = df_no_smk.RIDAGEYR.describe()[1]\n",
    "age_smk_std = df_smk.RIDAGEYR.describe()[2]\n",
    "age_nosmk_std = df_no_smk.RIDAGEYR.describe()[2]\n",
    "\n",
    "age_smk_se = age_smk_std/np.sqrt(age_smk_n)\n",
    "age_nosmk_se = age_nosmk_std/np.sqrt(age_nosmk_n)\n",
    "print(\"Mean age of smokers is :\", age_smk_mean, \"with a 95% CI of (\", age_smk_mean-1.96*age_smk_se, \",\", age_smk_mean+1.96*age_smk_se, \")\", \"and a standard error of\", age_smk_se)\n",
    "print(\"Mean age of non-smokers is :\", age_nosmk_mean, \"with a 95% CI of (\", age_nosmk_mean-1.96*age_nosmk_se, \",\", age_nosmk_mean+1.96*age_nosmk_se, \")\", \"and a standard error of\", age_nosmk_se)\n",
    "\n",
    "\n",
    "age_smk_ll = age_smk_mean-1.96*age_smk_se\n",
    "age_smk_ul = age_smk_mean+1.96*age_smk_se\n",
    "age_nosmk_ll = age_nosmk_mean-1.96*age_nosmk_se\n",
    "age_nosmk_ul = age_nosmk_mean+1.96*age_nosmk_se"
   ]
  },
  {
   "cell_type": "code",
   "execution_count": 80,
   "metadata": {
    "scrolled": true
   },
   "outputs": [
    {
     "name": "stdout",
     "output_type": "stream",
     "text": [
      "Mean difference in age between smokers and non-smokers is : 6.836757774943486 with a 95% CI of ( 6.818546087080718 , 6.854969462806253 ) and a standard error of 0.009291677481003792\n"
     ]
    }
   ],
   "source": [
    "# difference in mean age between smokers and non-smokers\n",
    "age_diff_mean = age_smk_mean - age_nosmk_mean\n",
    "\n",
    "# Get the SE for the difference in means\n",
    "# http://vassarstats.net/dist2.html : np.sqrt(sdmales**2 / nmales + sdfemales**2 / nfemales)\n",
    "age_diff_se = np.sqrt(age_smk_se**2 / age_smk_n + age_nosmk_se**2 / age_nosmk_n)\n",
    "age_diff_ll = age_diff_mean - 1.96*age_diff_se\n",
    "age_diff_ul = age_diff_mean + 1.96*age_diff_se\n",
    "print(\"Mean difference in age between smokers and non-smokers is :\", age_diff_mean, \"with a 95% CI of (\", age_diff_ll, \",\", age_diff_ul, \")\", \"and a standard error of\", age_diff_se)\n"
   ]
  },
  {
   "cell_type": "code",
   "execution_count": 40,
   "metadata": {},
   "outputs": [
    {
     "name": "stdout",
     "output_type": "stream",
     "text": [
      "Min age : 18\n",
      "Max age : 80\n"
     ]
    }
   ],
   "source": [
    "print(\"Min age :\", df.RIDAGEYR.min())\n",
    "print(\"Max age :\", df.RIDAGEYR.max())"
   ]
  },
  {
   "cell_type": "markdown",
   "metadata": {},
   "source": [
    "__Q6a.__ Use graphical and numerical techniques to compare the variation in the ages of smokers to the variation in the ages of non-smokers.  "
   ]
  },
  {
   "cell_type": "code",
   "execution_count": 81,
   "metadata": {
    "scrolled": true
   },
   "outputs": [
    {
     "data": {
      "text/plain": [
       "[<matplotlib.lines.Line2D at 0x7fc5cfefc668>]"
      ]
     },
     "execution_count": 81,
     "metadata": {},
     "output_type": "execute_result"
    },
    {
     "data": {
      "image/png": "[encoded data removed]",
      "text/plain": [
       "<Figure size 1440x1440 with 1 Axes>"
      ]
     },
     "metadata": {},
     "output_type": "display_data"
    }
   ],
   "source": [
    "# https://stackoverflow.com/questions/10138085/how-to-plot-normal-distribution\n",
    "ages = range(18, 81)\n",
    "plt.plot(ages, stats.norm.pdf(ages, age_diff_mean, age_diff_se))\n"
   ]
  },
  {
   "cell_type": "code",
   "execution_count": 82,
   "metadata": {},
   "outputs": [
    {
     "data": {
      "image/png": "[encoded data removed]",
      "text/plain": [
       "<Figure size 1440x1440 with 1 Axes>"
      ]
     },
     "metadata": {},
     "output_type": "display_data"
    }
   ],
   "source": [
    "# variation in difference between mean age of smokers and non-smokers\n",
    "x = np.linspace(age_diff_mean - 3*age_diff_se, age_diff_mean + 3*age_diff_se, 100)\n",
    "plt.plot(x, stats.norm.pdf(x, age_diff_mean, age_diff_se))\n",
    "plt.xlabel(\"Difference in Mean Age (Years)\")\n",
    "plt.ylabel(\"Probability Density\")\n",
    "plt.title(\"Probability Density for Difference in Mean Age (Years)\")\n",
    "plt.show()"
   ]
  },
  {
   "cell_type": "code",
   "execution_count": 68,
   "metadata": {},
   "outputs": [
    {
     "data": {
      "image/png": "[encoded data removed]",
      "text/plain": [
       "<Figure size 1440x1440 with 1 Axes>"
      ]
     },
     "metadata": {},
     "output_type": "display_data"
    }
   ],
   "source": [
    "# variation in age of smokers\n",
    "x_smok = np.linspace(age_smk_mean - 3*age_smk_se, age_smk_mean + 3*age_smk_se, 100)\n",
    "plt.plot(x_smok, stats.norm.pdf(x_smok, age_smk_mean, age_smk_se))\n",
    "plt.ylim([0, 1.2])\n",
    "\n",
    "# plt.axvline(x=age_smk_mean, )\n",
    "mean_text = \"Mean :\" + str(np.round(age_smk_mean, 2))\n",
    "plt.text(age_smk_mean, 1.12, mean_text)\n",
    "plt.axvline(x=age_smk_ll, color = 'green')\n",
    "ll_text = \"2 SE \\nLower \\nBound :\\n\" + str(np.round(age_smk_ll, 2))\n",
    "plt.text(age_smk_ll-0.1, 1.0, ll_text)\n",
    "plt.axvline(x=age_smk_ul, color = 'green')\n",
    "ul_text = \"2 SE \\nUpper \\nBound :\\n\" + str(np.round(age_smk_ul, 2))\n",
    "plt.text(age_smk_ul+0.02, 1.0, ul_text)\n",
    "\n",
    "plt.xlabel(\"Mean Age (Years)\")\n",
    "plt.ylabel(\"Probability Density\")\n",
    "plt.title(\"Probability Density for Mean Age (Years) of Smokers\")\n",
    "plt.rcParams[\"figure.figsize\"] = (20,20)\n",
    "plt.show()\n"
   ]
  },
  {
   "cell_type": "code",
   "execution_count": 75,
   "metadata": {},
   "outputs": [
    {
     "data": {
      "image/png": "[encoded data removed]",
      "text/plain": [
       "<Figure size 1440x1440 with 1 Axes>"
      ]
     },
     "metadata": {},
     "output_type": "display_data"
    }
   ],
   "source": [
    "# variation in age of non-smokers\n",
    "x_nosmok = np.linspace(age_nosmk_mean - 3*age_nosmk_se, age_nosmk_mean + 3*age_nosmk_se, 100)\n",
    "plt.plot(x_nosmok, stats.norm.pdf(x_nosmok, age_nosmk_mean, age_nosmk_se))\n",
    "plt.ylim([0, 1.4])\n",
    "\n",
    "mean_text = \"Mean :\" + str(np.round(age_nosmk_mean, 2))\n",
    "plt.text(age_nosmk_mean, 1.27, mean_text)\n",
    "plt.axvline(x=age_nosmk_ll, color = 'green')\n",
    "ll_text = \"2 SE \\nLower \\nBound :\\n\" + str(np.round(age_nosmk_ll, 2))\n",
    "plt.text(age_nosmk_ll-0.1, 1.0, ll_text)\n",
    "plt.axvline(x=age_nosmk_ul, color = 'green')\n",
    "ul_text = \"2 SE \\nUpper \\nBound :\\n\" + str(np.round(age_nosmk_ul, 2))\n",
    "plt.text(age_nosmk_ul+0.02, 1.0, ul_text)\n",
    "\n",
    "plt.xlabel(\"Mean Age (Years)\")\n",
    "plt.ylabel(\"Probability Density\")\n",
    "plt.title(\"Probability Density for Mean Age (Years) of Non-Smokers\")\n",
    "plt.show()\n"
   ]
  },
  {
   "cell_type": "markdown",
   "metadata": {},
   "source": [
    "__Q6b.__ Does it appear that uncertainty about the mean age of smokers, or uncertainty about the mean age of non-smokers contributed more to the uncertainty for the mean difference that we are focusing on here?"
   ]
  },
  {
   "cell_type": "markdown",
   "metadata": {},
   "source": []
  },
  {
   "cell_type": "code",
   "execution_count": 79,
   "metadata": {},
   "outputs": [
    {
     "name": "stdout",
     "output_type": "stream",
     "text": [
      "Mean age of smokers is : 52.09659335920655 with a 95% CI of ( 51.38590645243244 , 52.807280265980665 ) , with a standard error of 0.3625953605990387 from a count of 2319.0 people\n",
      "Mean age of non-smokers is : 45.259835584263065 with a 95% CI of ( 44.637075954817284 , 45.882595213708846 ) , with a standard error of 0.31773450481927484 from a count of 3406.0 people\n"
     ]
    }
   ],
   "source": [
    "print(\"Mean age of smokers is :\", age_smk_mean, \"with a 95% CI of (\", age_smk_mean-1.96*age_smk_se, \",\", age_smk_mean+1.96*age_smk_se, \")\", \", with a standard error of\", age_smk_se, \"from a count of\", age_smk_n, \"people\")\n",
    "print(\"Mean age of non-smokers is :\", age_nosmk_mean, \"with a 95% CI of (\", age_nosmk_mean-1.96*age_nosmk_se, \",\", age_nosmk_mean+1.96*age_nosmk_se, \")\", \", with a standard error of\", age_nosmk_se, \"from a count of\", age_nosmk_n, \"people\")\n"
   ]
  },
  {
   "cell_type": "raw",
   "metadata": {},
   "source": [
    "* The uncertainy of the mean age of smokers (with a SE of 0.36 coming from a count of 2319 people) \n",
    "* contributed more than \n",
    "* the uncertainty of the mean age of non-smokers (SE of 0.32 coming from a count of 3406 people), \n",
    "* to the uncertainty of the mean difference in age between smokers and non-smokers\n",
    "\n",
    "This is because\n",
    "* recall the calculation to derive the S.E. for the age difference between smokers and non-smokers: \"age_diff_se = np.sqrt(age_smk_se**2 / age_smk_n + age_nosmk_se**2 / age_nosmk_n)\"\n",
    "* the denominator containing count of people in the smokers category is lower\n",
    "* the numerator containing the standard error of within-smokers age is higher\n",
    "* a higher numerator and lower denominator both leads to a higher  standard error calculated contributed by smokers to the standard error of the mean difference in age between smokers and non-smokers\n"
   ]
  }
 ],
 "metadata": {
  "kernelspec": {
   "display_name": "Python 3",
   "language": "python",
   "name": "python3"
  },
  "language_info": {
   "codemirror_mode": {
    "name": "ipython",
    "version": 3
   },
   "file_extension": ".py",
   "mimetype": "text/x-python",
   "name": "python",
   "nbconvert_exporter": "python",
   "pygments_lexer": "ipython3",
   "version": "3.6.3"
  }
 },
 "nbformat": 4,
 "nbformat_minor": 2
}
