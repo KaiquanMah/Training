{
 "cells": [
  {
   "cell_type": "markdown",
   "metadata": {},
   "source": [
    "# Practice notebook for hypothesis tests using NHANES data\n",
    "\n",
    "This notebook will give you the opportunity to perform some hypothesis tests with the NHANES data that are similar to\n",
    "what was done in the week 3 case study notebook.\n",
    "\n",
    "You can enter your code into the cells that say \"enter your code here\", and you can type responses to the questions into the cells that say \"Type Markdown and Latex\".\n",
    "\n",
    "Note that most of the code that you will need to write below is very similar to code that appears in the case study notebook.  You will need to edit code from that notebook in small ways to adapt it to the prompts below.\n",
    "\n",
    "To get started, we will use the same module imports and read the data in the same way as we did in the case study:"
   ]
  },
  {
   "cell_type": "code",
   "execution_count": 72,
   "metadata": {},
   "outputs": [],
   "source": [
    "%matplotlib inline\n",
    "import matplotlib.pyplot as plt\n",
    "import seaborn as sns\n",
    "import pandas as pd\n",
    "import statsmodels.api as sm\n",
    "import numpy as np\n",
    "import scipy.stats.distributions as dist\n",
    "import statsmodels.stats as stats"
   ]
  },
  {
   "cell_type": "code",
   "execution_count": 2,
   "metadata": {},
   "outputs": [],
   "source": [
    "df = pd.read_csv(\"nhanes_2015_2016.csv\")"
   ]
  },
  {
   "cell_type": "markdown",
   "metadata": {},
   "source": [
    "## Question 1\n",
    "\n",
    "Conduct a hypothesis test (at the 0.05 level) for the null hypothesis that the proportion of women who smoke is equal to the proportion of men who smoke."
   ]
  },
  {
   "cell_type": "markdown",
   "metadata": {},
   "source": [
    "#### Difference in proportions\n",
    "* Population: Males, Females\n",
    "* Parameter: Proportion of male smokers, proportion of female smokers\n",
    "* Null hypothesis: Proportion of male smokers - proportion of female smokers = 0\n",
    "* Alternative hypothesis: Proportion of male smokers - proportion of female smokers != 0"
   ]
  },
  {
   "cell_type": "code",
   "execution_count": 3,
   "metadata": {},
   "outputs": [],
   "source": [
    "# insert your code here\n",
    "df[\"RIAGENDRx\"] = df.RIAGENDR.replace({1: 'Male', 2: 'Female'})\n",
    "df[\"SMQ020x\"] = df.SMQ020.replace({1: 'Yes', 2: 'No'})"
   ]
  },
  {
   "cell_type": "code",
   "execution_count": 4,
   "metadata": {},
   "outputs": [],
   "source": [
    "df_male = df[(df.RIAGENDRx == 'Male') & ((df.SMQ020x == 'Yes') | (df.SMQ020x == 'No'))]\n",
    "df_female = df[(df.RIAGENDRx == 'Female') & ((df.SMQ020x == 'Yes') | (df.SMQ020x == 'No'))]\n",
    "\n",
    "series_smoke_male = df_male.SMQ020x.dropna()\n",
    "series_smoke_male = series_smoke_male == 'Yes'\n",
    "series_smoke_female = df_female.SMQ020x.dropna()\n",
    "series_smoke_female = series_smoke_female == 'Yes'"
   ]
  },
  {
   "cell_type": "code",
   "execution_count": 5,
   "metadata": {
    "scrolled": true
   },
   "outputs": [
    {
     "data": {
      "text/plain": [
       "0     True\n",
       "1     True\n",
       "2     True\n",
       "6     True\n",
       "8    False\n",
       "Name: SMQ020x, dtype: bool"
      ]
     },
     "execution_count": 5,
     "metadata": {},
     "output_type": "execute_result"
    }
   ],
   "source": [
    "series_smoke_male.head()"
   ]
  },
  {
   "cell_type": "code",
   "execution_count": 7,
   "metadata": {},
   "outputs": [],
   "source": [
    "#separate proportion of smokers for males and females\n",
    "p_smoke_male = series_smoke_male.mean()\n",
    "n_male = series_smoke_male.count()\n",
    "\n",
    "p_smoke_female = series_smoke_female.mean()\n",
    "n_female = series_smoke_female.count()"
   ]
  },
  {
   "cell_type": "code",
   "execution_count": 8,
   "metadata": {},
   "outputs": [],
   "source": [
    "# find the combined proportion\n",
    "df_combined = df[(df.SMQ020x == 'Yes') | (df.SMQ020x == 'No')]\n",
    "series_combined = df_combined.SMQ020x == 'Yes'\n",
    "p_combined = series_combined.mean()\n",
    "n_combined = series_combined.count()\n",
    "\n",
    "# get the S.E.\n",
    "variance = p_combined * (1-p_combined)\n",
    "se = np.sqrt(variance * (1 / n_male + 1 / n_female))\n"
   ]
  },
  {
   "cell_type": "code",
   "execution_count": 10,
   "metadata": {
    "scrolled": true
   },
   "outputs": [
    {
     "data": {
      "text/plain": [
       "(0.4050655021834061, 0.2409874411243111, 0.01298546309757376)"
      ]
     },
     "execution_count": 10,
     "metadata": {},
     "output_type": "execute_result"
    }
   ],
   "source": [
    "(p_combined, variance, se)"
   ]
  },
  {
   "cell_type": "code",
   "execution_count": 11,
   "metadata": {},
   "outputs": [
    {
     "data": {
      "text/plain": [
       "(16.049719603652488, 5.742288777302776e-58)"
      ]
     },
     "execution_count": 11,
     "metadata": {},
     "output_type": "execute_result"
    }
   ],
   "source": [
    "test_stat = (p_smoke_male - p_smoke_female) / se\n",
    "p_value = 2 * dist.norm.cdf(-np.abs(test_stat))\n",
    "(test_stat, p_value)"
   ]
  },
  {
   "cell_type": "markdown",
   "metadata": {},
   "source": [
    "__Q1a.__ Write 1-2 sentences explaining the substance of your findings to someone who does not know anything about statistical hypothesis tests."
   ]
  },
  {
   "cell_type": "markdown",
   "metadata": {},
   "source": []
  },
  {
   "cell_type": "raw",
   "metadata": {},
   "source": [
    "* There was a positive difference of 16.05 percentage points between the proportion of male smokers relative to the proportion of female smokers\n",
    "* This difference is statistically significant - note the p-value of 0.000 57, which is much lower than the significance level of 0.05\n",
    "* So we reject the null hypothesis and conclude that there is a significant difference between the proportion of male smokers and the proportion of female smokers"
   ]
  },
  {
   "cell_type": "markdown",
   "metadata": {},
   "source": [
    "__Q1b.__ Construct three 95% confidence intervals: one for the proportion of women who smoke, one for the proportion of men who smoke, and one for the difference in the rates of smoking between women and men."
   ]
  },
  {
   "cell_type": "code",
   "execution_count": 12,
   "metadata": {},
   "outputs": [
    {
     "name": "stdout",
     "output_type": "stream",
     "text": [
      "95% CI for Proportion of Male Smokers : ( 0.49458714955108174 , 0.531929377873546 ), with estimated proportion of male smokers : 0.5132582637123139\n",
      "95% CI for Proportion of Female Smokers : ( 0.288294683866098 , 0.32139576027925865 ), with estimated proportion of female smokers : 0.30484522207267833\n",
      "95% CI for Difference in proportion of Male and Female Smokers : ( 0.18296153396839096 , 0.2338645493108801 ), with estimated difference in proportion : 0.20841304163963553\n"
     ]
    }
   ],
   "source": [
    "# 95% CI for proportion of male smokers\n",
    "se_smoke_male = np.sqrt(p_smoke_male * (1-p_smoke_male)/n_male)\n",
    "me_smoke_male = 1.96 * se_smoke_male\n",
    "ll_m = p_smoke_male - me_smoke_male\n",
    "ul_m = p_smoke_male + me_smoke_male\n",
    "print(\"95% CI for Proportion of Male Smokers : (\", ll_m, \",\", ul_m, \"), with estimated proportion of male smokers :\", p_smoke_male)\n",
    "\n",
    "# 95% CI for proportion of female smokers\n",
    "se_smoke_female = np.sqrt(p_smoke_female * (1-p_smoke_female)/n_female)\n",
    "me_smoke_female = 1.96 * se_smoke_female\n",
    "ll_f = p_smoke_female - me_smoke_female\n",
    "ul_f = p_smoke_female + me_smoke_female\n",
    "print(\"95% CI for Proportion of Female Smokers : (\", ll_f, \",\", ul_f, \"), with estimated proportion of female smokers :\", p_smoke_female)\n",
    "\n",
    "\n",
    "# 95% CI for difference in proportion of male and female smokers\n",
    "p_diff = p_smoke_male - p_smoke_female\n",
    "# se\n",
    "me_diff = 1.96 * se\n",
    "ll_diff = p_diff - me_diff\n",
    "ul_diff = p_diff + me_diff\n",
    "print(\"95% CI for Difference in proportion of Male and Female Smokers : (\", ll_diff, \",\", ul_diff, \"), with estimated difference in proportion :\", p_diff)\n"
   ]
  },
  {
   "cell_type": "markdown",
   "metadata": {},
   "source": [
    "__Q1c.__ Comment on any ways in which the confidence intervals that you found in part b reinforce, contradict, or add support to the hypothesis test conducted in part a."
   ]
  },
  {
   "cell_type": "raw",
   "metadata": {},
   "source": [
    "* The 95% CI for the difference in proportion of Male and Female Smokers is fully in the positive range and quite substantial - between 18 to 23 percentage point difference\n",
    "* Therefore, the 95% CI supports/reinforces that there are more male smokers than female smokers by approximately 20% when we repeatedly sample from the sample population"
   ]
  },
  {
   "cell_type": "markdown",
   "metadata": {},
   "source": []
  },
  {
   "cell_type": "markdown",
   "metadata": {},
   "source": [
    "## Question 2\n",
    "\n",
    "Partition the population into two groups based on whether a person has graduated college or not, using the educational attainment variable [DMDEDUC2](https://wwwn.cdc.gov/Nchs/Nhanes/2015-2016/DEMO_I.htm#DMDEDUC2).  Then conduct a test of the null hypothesis that the average heights (in centimeters) of the two groups are equal.  Next, convert the heights from centimeters to inches, and conduct a test of the null hypothesis that the average heights (in inches) of the two groups are equal."
   ]
  },
  {
   "cell_type": "markdown",
   "metadata": {},
   "source": [
    "#### Difference in population means\n",
    "* Population: College graduates, non-college graduates\n",
    "* Parameter: height (cm)\n",
    "* Null hypothesis: Difference in mean height between college and non-college graduates = 0\n",
    "* Alternative hypothesis: Difference in mean height between college and non-college graduates != 0"
   ]
  },
  {
   "cell_type": "code",
   "execution_count": 9,
   "metadata": {},
   "outputs": [],
   "source": [
    "df[\"Collegex\"] = df.DMDEDUC2.replace({1: \"No\", 2: \"No\", 3: \"No\", 4: \"No\", 5: \"Yes\"})"
   ]
  },
  {
   "cell_type": "code",
   "execution_count": 14,
   "metadata": {},
   "outputs": [
    {
     "data": {
      "text/plain": [
       "Index(['SEQN', 'ALQ101', 'ALQ110', 'ALQ130', 'SMQ020', 'RIAGENDR', 'RIDAGEYR',\n",
       "       'RIDRETH1', 'DMDCITZN', 'DMDEDUC2', 'DMDMARTL', 'DMDHHSIZ', 'WTINT2YR',\n",
       "       'SDMVPSU', 'SDMVSTRA', 'INDFMPIR', 'BPXSY1', 'BPXDI1', 'BPXSY2',\n",
       "       'BPXDI2', 'BMXWT', 'BMXHT', 'BMXBMI', 'BMXLEG', 'BMXARML', 'BMXARMC',\n",
       "       'BMXWAIST', 'HIQ210', 'RIAGENDRx', 'SMQ020x', 'Collegex'],\n",
       "      dtype='object')"
      ]
     },
     "execution_count": 14,
     "metadata": {},
     "output_type": "execute_result"
    }
   ],
   "source": [
    "df.columns"
   ]
  },
  {
   "cell_type": "code",
   "execution_count": 10,
   "metadata": {},
   "outputs": [],
   "source": [
    "df_collegegrad = df[df.Collegex == 'Yes']\n",
    "df_non_collegegrad = df[df.Collegex == 'No']\n",
    "\n",
    "college_ht = df_collegegrad.BMXHT.dropna()\n",
    "college_ht_mean = df_collegegrad.BMXHT.mean()\n",
    "# college_ht_std = df_collegegrad.BMXHT.std()\n",
    "# college_ht_n = df_collegegrad.BMXHT.count()\n",
    "\n",
    "non_college_ht = df_non_collegegrad.BMXHT.dropna()\n",
    "non_college_ht_mean = df_non_collegegrad.BMXHT.mean()\n",
    "# non_college_ht_std = df_non_collegegrad.BMXHT.std()\n",
    "# non_college_ht_n = df_non_collegegrad.BMXHT.count()"
   ]
  },
  {
   "cell_type": "code",
   "execution_count": 11,
   "metadata": {},
   "outputs": [
    {
     "name": "stdout",
     "output_type": "stream",
     "text": [
      "2.388831706498877\n"
     ]
    }
   ],
   "source": [
    "diff_ht_mean = college_ht_mean - non_college_ht_mean\n",
    "print(diff_ht_mean)"
   ]
  },
  {
   "cell_type": "code",
   "execution_count": 17,
   "metadata": {},
   "outputs": [
    {
     "name": "stdout",
     "output_type": "stream",
     "text": [
      "(7.569245765210209, 3.7539736083220206e-14)\n",
      "(7.569245765210298, 4.3868465661619117e-14, 5412.0)\n"
     ]
    }
   ],
   "source": [
    "print(sm.stats.ztest(college_ht, non_college_ht))\n",
    "print(sm.stats.ttest_ind(college_ht, non_college_ht))"
   ]
  },
  {
   "cell_type": "markdown",
   "metadata": {},
   "source": [
    "__Q2a.__ Based on the analysis performed here, are you confident that people who graduated from college have a different average height compared to people who did not graduate from college?"
   ]
  },
  {
   "cell_type": "markdown",
   "metadata": {},
   "source": []
  },
  {
   "cell_type": "raw",
   "metadata": {},
   "source": [
    "* There is a 2.4cm difference in height between college and non-college graduates\n",
    "* This difference is statistically significant - the t-statistic's p-value is 4.3868465661619117e-14, which is much lower than the significance level of 5%\n",
    "* Therefore we are able to reject the null hypothesis, in favour of the alternative hypothesis which states that there is a statistically significant difference in height between college and non-college graduates\n",
    "\n",
    "* Even with this observation, it is probably just a correlation\n",
    "* We are not able to claim/conclude that just because people graduated from college, this would cause their heights to naturally be higher, as compared to non-college graduates\n"
   ]
  },
  {
   "cell_type": "markdown",
   "metadata": {},
   "source": [
    "__Q2b:__ How do the results obtained using the heights expressed in inches compare to the results obtained using the heights expressed in centimeters?"
   ]
  },
  {
   "cell_type": "markdown",
   "metadata": {},
   "source": []
  },
  {
   "cell_type": "raw",
   "metadata": {},
   "source": [
    "* Even if we adjust the heights to be based on inches instead of centimeters, the difference still exists and would still be statistically significant\n",
    "* Therefore a change in units used commonly across the 2 sample populations would not change the results of our hypothesis test\n"
   ]
  },
  {
   "cell_type": "markdown",
   "metadata": {},
   "source": [
    "## Question 3\n",
    "\n",
    "Conduct a hypothesis test of the null hypothesis that the average BMI for men between 30 and 40 is equal to the average BMI for men between 50 and 60.  Then carry out this test again after log transforming the BMI values."
   ]
  },
  {
   "cell_type": "markdown",
   "metadata": {},
   "source": [
    "#### Difference in population means\n",
    "* Population: Men 30 to 40 yars old, 50 to 60 years old\n",
    "* Parameter: BMI (kg/m^2)\n",
    "* Null hypothesis: Difference in mean BMI between men 30-40 and 50-60 yars old = 0\n",
    "* Alternative hypothesis: Difference in mean BMI between men 30-40 and 50-60 yars old != 0"
   ]
  },
  {
   "cell_type": "code",
   "execution_count": 12,
   "metadata": {},
   "outputs": [
    {
     "data": {
      "text/plain": [
       "(0.8984008016755045, 0.3691930312327223, 978.0)"
      ]
     },
     "execution_count": 12,
     "metadata": {},
     "output_type": "execute_result"
    }
   ],
   "source": [
    "#before log transforming BMI\n",
    "df_male_30_40 = df[(df.RIAGENDRx == \"Male\") & (df.RIDAGEYR >= 30) & (df.RIDAGEYR <= 40)]\n",
    "df_male_50_60 = df[(df.RIAGENDRx == \"Male\") & (df.RIDAGEYR >= 50) & (df.RIDAGEYR <= 60)]\n",
    "bmi_male_30_40 = df_male_30_40.BMXBMI.dropna()\n",
    "bmi_male_50_60 = df_male_50_60.BMXBMI.dropna()\n",
    "bmi_male_30_40_mean = bmi_male_30_40.mean()\n",
    "bmi_male_50_60_mean = bmi_male_50_60.mean()\n",
    "\n",
    "sm.stats.ttest_ind(bmi_male_30_40, bmi_male_50_60)"
   ]
  },
  {
   "cell_type": "code",
   "execution_count": 23,
   "metadata": {},
   "outputs": [
    {
     "data": {
      "text/plain": [
       "0.36372950819671956"
      ]
     },
     "execution_count": 23,
     "metadata": {},
     "output_type": "execute_result"
    }
   ],
   "source": [
    "bmi_male_30_40_mean - bmi_male_50_60_mean"
   ]
  },
  {
   "cell_type": "code",
   "execution_count": 13,
   "metadata": {},
   "outputs": [
    {
     "data": {
      "text/plain": [
       "(0.7057844184099299, 0.4804902912676666, 978.0)"
      ]
     },
     "execution_count": 13,
     "metadata": {},
     "output_type": "execute_result"
    }
   ],
   "source": [
    "#after log transforming BMI\n",
    "df[\"BMXBMIx\"] = np.log(df.BMXBMI)\n",
    "# initialise the separate dfs for each subpopulation/subsample\n",
    "df_male_30_40x = df[(df.RIAGENDRx == \"Male\") & (df.RIDAGEYR >= 30) & (df.RIDAGEYR <= 40)]\n",
    "df_male_50_60x = df[(df.RIAGENDRx == \"Male\") & (df.RIDAGEYR >= 50) & (df.RIDAGEYR <= 60)]\n",
    "# get the log transformed BMI series\n",
    "bmi_male_30_40x = df_male_30_40x.BMXBMIx.dropna()\n",
    "bmi_male_50_60x = df_male_50_60x.BMXBMIx.dropna()\n",
    "bmi_male_30_40x_mean = bmi_male_30_40x.mean()\n",
    "bmi_male_50_60x_mean = bmi_male_50_60x.mean()\n",
    "\n",
    "sm.stats.ttest_ind(bmi_male_30_40x, bmi_male_50_60x)"
   ]
  },
  {
   "cell_type": "code",
   "execution_count": 26,
   "metadata": {},
   "outputs": [
    {
     "data": {
      "text/plain": [
       "0.009160580904559623"
      ]
     },
     "execution_count": 26,
     "metadata": {},
     "output_type": "execute_result"
    }
   ],
   "source": [
    "bmi_male_30_40x_mean - bmi_male_50_60x_mean"
   ]
  },
  {
   "cell_type": "markdown",
   "metadata": {},
   "source": [
    "__Q3a.__ How would you characterize the evidence that mean BMI differs between these age bands, and how would you characterize the evidence that mean log BMI differs between these age bands?"
   ]
  },
  {
   "cell_type": "markdown",
   "metadata": {},
   "source": []
  },
  {
   "cell_type": "raw",
   "metadata": {},
   "source": [
    "* Without log transforming BMI values\n",
    "* There is a small positive difference of 0.36 kg/m^2 in mean BMI between men 30-40 years old and 50-60 years old\n",
    "* The difference is not statistically significant - the p-value is 0.37, which is much greater than the significance level of 0.05\n",
    "* Therefore, we are unable to reject the null hypothesis (that there is no difference in mean BMI between men 30-40 and 50-60 yars old)\n",
    "\n",
    "* We observed the same phenomenon in mean BMI between men 30-40 years old and 50-60 years old after log transforming BMI values\n",
    "* There exists an extremely small positive difference in log mean BMI - 0.009\n",
    "* The difference is not statistically significant - the p-value is 0.48, which is much greater than the significance level of 0.05\n"
   ]
  },
  {
   "cell_type": "markdown",
   "metadata": {},
   "source": [
    "## Question 4\n",
    "\n",
    "Suppose we wish to compare the mean BMI between college graduates and people who have not graduated from college, focusing on women between the ages of 30 and 40.  \n",
    "\n",
    "* First, consider the **variance of BMI within each of these subpopulations using graphical techniques**, and through the **estimated subpopulation variances**.  \n",
    "* Then, **calculate pooled and unpooled estimates of the standard error for the difference between the mean BMI in the two populations being compared**.  \n",
    "* Finally, **test the null hypothesis that the two population means are equal**, using each of the two different standard errors."
   ]
  },
  {
   "cell_type": "markdown",
   "metadata": {},
   "source": [
    "#### Difference in population means\n",
    "* Population: Women college graduate vs non-college graduate; 30 to 40 yars old\n",
    "* Parameter: BMI (kg/m^2)\n",
    "* Null hypothesis: Difference in mean BMI between women college graduates vs non-college graduates 30-40 years old = 0\n",
    "* Alternative hypothesis: Difference in mean BMI between women college graduates vs non-college graduates 30-40 years old != 0"
   ]
  },
  {
   "cell_type": "code",
   "execution_count": 14,
   "metadata": {},
   "outputs": [
    {
     "name": "stderr",
     "output_type": "stream",
     "text": [
      "/opt/conda/lib/python3.6/site-packages/ipykernel_launcher.py:2: UserWarning: Boolean Series key will be reindexed to match DataFrame index.\n",
      "  \n",
      "/opt/conda/lib/python3.6/site-packages/ipykernel_launcher.py:3: UserWarning: Boolean Series key will be reindexed to match DataFrame index.\n",
      "  This is separate from the ipykernel package so we can avoid doing imports until\n"
     ]
    }
   ],
   "source": [
    "df_female = df[(df.RIAGENDRx == \"Female\") & (df.RIDAGEYR >= 30) & (df.RIDAGEYR <= 40)]\n",
    "df_female_coll = df_female[df.Collegex == \"Yes\"]\n",
    "df_female_noncoll = df_female[df.Collegex == \"No\"]\n"
   ]
  },
  {
   "cell_type": "code",
   "execution_count": 35,
   "metadata": {},
   "outputs": [
    {
     "data": {
      "text/plain": [
       "(-4.643908450956424, 4.329847689653882e-06, 523.0)"
      ]
     },
     "execution_count": 35,
     "metadata": {},
     "output_type": "execute_result"
    }
   ],
   "source": [
    "bmi_female_coll = df_female_coll.BMXBMI.dropna()\n",
    "bmi_female_noncoll = df_female_noncoll.BMXBMI.dropna()\n",
    "\n",
    "# mean, sd, count n\n",
    "bmi_female_coll_mean = bmi_female_coll.mean()\n",
    "bmi_female_noncoll_mean = bmi_female_noncoll.mean()\n",
    "bmi_female_coll_std = bmi_female_coll.std()\n",
    "bmi_female_noncoll_std = bmi_female_noncoll.std()\n",
    "bmi_female_coll_n = bmi_female_coll.count()\n",
    "bmi_female_noncoll_n = bmi_female_noncoll.count()\n",
    "\n",
    "# Standard error, margin of error\n",
    "bmi_female_coll_se = bmi_female_coll_std/np.sqrt(bmi_female_coll_n)\n",
    "bmi_female_noncoll_se = bmi_female_noncoll_std/np.sqrt(bmi_female_noncoll_n)\n",
    "bmi_female_coll_me = 1.96 * bmi_female_coll_se\n",
    "bmi_female_noncoll_me = 1.96 * bmi_female_noncoll_se\n",
    "\n",
    "# ll lower bound/limit, ul upper bound/limit\n",
    "bmi_female_coll_ll = bmi_female_coll_mean - bmi_female_coll_me\n",
    "bmi_female_coll_ul = bmi_female_coll_mean + bmi_female_coll_me\n",
    "bmi_female_noncoll_ll = bmi_female_noncoll_mean - bmi_female_noncoll_me\n",
    "bmi_female_noncoll_ul = bmi_female_noncoll_mean + bmi_female_noncoll_me\n",
    "\n",
    "sm.stats.ttest_ind(bmi_female_coll, bmi_female_noncoll)"
   ]
  },
  {
   "cell_type": "code",
   "execution_count": 17,
   "metadata": {},
   "outputs": [
    {
     "data": {
      "text/plain": [
       "-3.4491574982654285"
      ]
     },
     "execution_count": 17,
     "metadata": {},
     "output_type": "execute_result"
    }
   ],
   "source": [
    "bmi_female_coll_mean - bmi_female_noncoll_mean"
   ]
  },
  {
   "cell_type": "code",
   "execution_count": 18,
   "metadata": {
    "scrolled": true
   },
   "outputs": [
    {
     "name": "stdout",
     "output_type": "stream",
     "text": [
      "Female 30-40 year old college graduates BMI standard deviation : 7.358264076777769\n",
      "Female 30-40 year old noncollege graduates BMI standard deviation : 8.256082984290918\n"
     ]
    }
   ],
   "source": [
    "print(\"Female 30-40 year old college graduates BMI standard deviation :\", bmi_female_coll_std)\n",
    "print(\"Female 30-40 year old noncollege graduates BMI standard deviation :\", bmi_female_noncoll_std)"
   ]
  },
  {
   "cell_type": "code",
   "execution_count": 65,
   "metadata": {
    "scrolled": true
   },
   "outputs": [
    {
     "name": "stdout",
     "output_type": "stream",
     "text": [
      "Female 30-40 year old college graduates BMI standard error : 0.5627005177291212\n",
      "Female 30-40 year old noncollege graduates BMI standard error : 0.4388058598158775\n"
     ]
    }
   ],
   "source": [
    "print(\"Female 30-40 year old college graduates BMI standard error :\", bmi_female_coll_se)\n",
    "print(\"Female 30-40 year old noncollege graduates BMI standard error :\", bmi_female_noncoll_se)"
   ]
  },
  {
   "cell_type": "code",
   "execution_count": 52,
   "metadata": {
    "scrolled": true
   },
   "outputs": [
    {
     "data": {
      "text/plain": [
       "Text(30.9111,0.03,'95% CI\\nUpper Bound')"
      ]
     },
     "execution_count": 52,
     "metadata": {},
     "output_type": "execute_result"
    },
    {
     "data": {
      "image/png": "[encoded data removed]",
      "text/plain": [
       "<Figure size 432x288 with 1 Axes>"
      ]
     },
     "metadata": {},
     "output_type": "display_data"
    }
   ],
   "source": [
    "sns.distplot(bmi_female_coll)\n",
    "plt.title(\"Histogram of Female 30-40 year old college graduates BMI\")\n",
    "\n",
    "# plot the mean line, 95% CI lines\n",
    "plt.axvline(x = bmi_female_coll_mean, alpha = 0.5, color = 'grey')\n",
    "plt.text(x = bmi_female_coll_mean + 2, y = 0.07 , s = 'mean', color = 'grey')\n",
    "plt.axvline(x = bmi_female_coll_ll, alpha = 0.5, color = 'green')\n",
    "plt.text(x = bmi_female_coll_ll - 15, y = 0.03 , s = '95% CI\\nLower Bound', color = 'green')\n",
    "plt.axvline(x = bmi_female_coll_ul, alpha = 0.5, color = 'green')\n",
    "plt.text(x = bmi_female_coll_ul +2, y = 0.03, s = '95% CI\\nUpper Bound', color = 'green')\n"
   ]
  },
  {
   "cell_type": "code",
   "execution_count": 64,
   "metadata": {},
   "outputs": [
    {
     "data": {
      "text/plain": [
       "<matplotlib.axes._subplots.AxesSubplot at 0x7f3751444ac8>"
      ]
     },
     "execution_count": 64,
     "metadata": {},
     "output_type": "execute_result"
    },
    {
     "data": {
      "image/png": "[encoded data removed]",
      "text/plain": [
       "<Figure size 1440x360 with 2 Axes>"
      ]
     },
     "metadata": {},
     "output_type": "display_data"
    }
   ],
   "source": [
    "plt.figure(figsize=(20,5))\n",
    "plt.subplot(1, 2, 1)\n",
    "sns.boxplot(bmi_female_coll)\n",
    "\n",
    "plt.subplot(1, 2, 2)\n",
    "sns.boxplot(bmi_female_noncoll)"
   ]
  },
  {
   "cell_type": "markdown",
   "metadata": {},
   "source": [
    "__Q4a.__ Comment on the strength of evidence against the null hypothesis that these two populations have equal mean BMI."
   ]
  },
  {
   "cell_type": "markdown",
   "metadata": {},
   "source": []
  },
  {
   "cell_type": "raw",
   "metadata": {},
   "source": [
    "* Based on the t-test of the difference in mean BMI between 2 samples - female 30-40 year old college graduates had lower BMI figures of 3.45kg/m^2 on average, as compared to their non-college graduate counterparts.\n",
    "* The difference is statistically significant - p-value is 4.33e-06, which is much lower than the significance level of 5%\n",
    "* Based on the t-test alone, it would seem that there is strong evidence to reject the null hypothesis, in favour of the alternative hypothesis that these 2 subpopulations do not have equal mean BMI\n",
    "* The individual subpopulation standard errors are also very small - within 0.56 kg/m^2, which supports/improves the precision of the subpopulation mean BMI estimates\n"
   ]
  },
  {
   "cell_type": "markdown",
   "metadata": {},
   "source": [
    "__Q4b.__ Comment on the degree to which the two populations have different variances, and on the extent to which the results using different approaches to estimating the standard error of the mean difference give divergent results."
   ]
  },
  {
   "cell_type": "markdown",
   "metadata": {},
   "source": []
  },
  {
   "cell_type": "code",
   "execution_count": 87,
   "metadata": {},
   "outputs": [
    {
     "name": "stdout",
     "output_type": "stream",
     "text": [
      "Pooled Standard Error : 0.7282668592220845\n",
      "Test Statistic from Pooled Variance : (-4.643908450956424, 3.4187910067116893e-06)\n",
      "Unpooled Standard Error : 0.7427272812742616\n",
      "Test Statistic from Unpooled Variance : (-4.833662355599101, 1.340438616920389e-06)\n"
     ]
    }
   ],
   "source": [
    "# Get pooled variance\n",
    "# pooled_sd = np.sqrt((sd1 ** 2 + sd2 ** 2)/2)\n",
    "# pooled_se = pooled_sd * np.sqrt(1/n1 + 1/n2)\n",
    "pooled_sd = np.sqrt((bmi_female_coll_std ** 2 + bmi_female_noncoll_std ** 2)/2)\n",
    "pooled_se = pooled_sd * np.sqrt(1/bmi_female_coll_n + 1/bmi_female_noncoll_n)\n",
    "print(\"Pooled Standard Error :\", pooled_se)\n",
    "\n",
    "# https://github.com/statsmodels/statsmodels/issues/3694\n",
    "print(\"Test Statistic from Pooled Variance :\", sm.stats.CompareMeans.from_data(bmi_female_coll, bmi_female_noncoll).ztest_ind(usevar='pooled'))\n",
    "\n",
    "\n",
    "# Get unpooled variance\n",
    "# unpooled_sd = np.sqrt( ( (n1-1)*sd1 ** 2 + (n2-1)*sd2 ** 2) / (n1+n2-2) )\n",
    "# unpooled_se = unpooled_sd * np.sqrt(1/n1 + 1/n2)\n",
    "unpooled_sd = np.sqrt( ( (bmi_female_coll_n-1)*bmi_female_coll_std ** 2 + (bmi_female_noncoll_n-1)*bmi_female_noncoll_std ** 2) / (bmi_female_coll_n+bmi_female_noncoll_n-2) )\n",
    "unpooled_se = unpooled_sd * np.sqrt(1/bmi_female_coll_n + 1/bmi_female_noncoll_n)\n",
    "print(\"Unpooled Standard Error :\", unpooled_se)\n",
    "print(\"Test Statistic from Unpooled Variance :\", sm.stats.CompareMeans.from_data(bmi_female_coll, bmi_female_noncoll).ztest_ind(usevar='unequal'))\n",
    "\n"
   ]
  },
  {
   "cell_type": "raw",
   "metadata": {},
   "source": [
    "* After factoring in the pooled or unpooled standard errors, the test statistic falls approximately between -3.8 to -5.3\n",
    "* We get the same conclusion from both tests for difference in mean BMI - that female college graduates 30-40 years old on average have a lower BMI than their non-college graduate counterparts, and the result is significant, with a p-value of around 3.42e-06 (pooled variance) and 1.34e-06 (unpooled variance), which are both much lower than the significance level of 5%\n"
   ]
  },
  {
   "cell_type": "markdown",
   "metadata": {},
   "source": [
    "## Question 5\n",
    "\n",
    "Conduct a test of the null hypothesis that the **first and second diastolic blood pressure measurements** within a subject have the **same mean values**."
   ]
  },
  {
   "cell_type": "markdown",
   "metadata": {},
   "source": [
    "#### Difference in population means (paired-sample)\n",
    "* Population: Whole sample\n",
    "* Parameter: First and Second Diastolic Blood Pressure Measurement\n",
    "* \n",
    "* Not sure whether the question here wants us to test whether \n",
    "* 1. BPXDI1 - BPXDI2 = 0 across the population, or\n",
    "* 2. mean BPXDI1 = mean BPXDI2 => mean BPXDI1 - mean BPXDI2 = 0 across the population\n",
    "* \n",
    "* Assume the test is looking at #2 above\n",
    "* Null hypothesis: Difference between mean of first diastolic blood pressure and mean of second diastolic blood pressure = 0\n",
    "* Alternative hypothesis: Difference between mean of first diastolic blood pressure and mean of second diastolic blood pressure != 0"
   ]
  },
  {
   "cell_type": "code",
   "execution_count": 96,
   "metadata": {},
   "outputs": [
    {
     "data": {
      "text/plain": [
       "0.16968305411005247"
      ]
     },
     "execution_count": 96,
     "metadata": {},
     "output_type": "execute_result"
    }
   ],
   "source": [
    "# assume we are looking at the diff in means here\n",
    "# and not the mean of differences much further below\n",
    "diff_mean = df.BPXDI1.dropna().mean() - df.BPXDI2.dropna().mean()\n",
    "diff_mean"
   ]
  },
  {
   "cell_type": "code",
   "execution_count": 91,
   "metadata": {
    "scrolled": false
   },
   "outputs": [
    {
     "name": "stdout",
     "output_type": "stream",
     "text": [
      "(0.6848982193746493, 0.4934226676888417, 10934.0)\n"
     ]
    }
   ],
   "source": [
    "print(sm.stats.ttest_ind(df.BPXDI1.dropna(), df.BPXDI2.dropna()))"
   ]
  },
  {
   "cell_type": "code",
   "execution_count": 95,
   "metadata": {},
   "outputs": [
    {
     "data": {
      "text/plain": [
       "0.3490407897187558"
      ]
     },
     "execution_count": 95,
     "metadata": {},
     "output_type": "execute_result"
    }
   ],
   "source": [
    "d1 = df.BPXDI1.dropna()\n",
    "d2 = df.BPXDI2.dropna()\n",
    "diff = d1-d2\n",
    "diff_std = diff.std()\n",
    "diff_n = diff.count()\n",
    "diff.mean()"
   ]
  },
  {
   "cell_type": "code",
   "execution_count": 102,
   "metadata": {},
   "outputs": [
    {
     "name": "stdout",
     "output_type": "stream",
     "text": [
      "Standard error for difference in mean of the 1st and 2nd Diastolic Blood Pressure readings : 0.08430148735959599\n",
      "T-statistic for difference in mean of the 1st and 2nd Diastolic Blood Pressure readings : 2.0128121036139413\n"
     ]
    }
   ],
   "source": [
    "# diff_se = (sd_diff/np.sqrt(n))\n",
    "diff_se = (diff_std/np.sqrt(diff_n))\n",
    "\n",
    "# diff_t = (diff_mean - 0)/diff_se\n",
    "diff_t = (diff_mean - 0)/diff_se\n",
    "print(\"Standard error for difference in mean of the 1st and 2nd Diastolic Blood Pressure readings :\", diff_se)\n",
    "print(\"T-statistic for difference in mean of the 1st and 2nd Diastolic Blood Pressure readings :\", diff_t)"
   ]
  },
  {
   "cell_type": "markdown",
   "metadata": {},
   "source": [
    "__Q5a.__ Briefly describe your findings for an audience that is not familiar with statistical hypothesis testing."
   ]
  },
  {
   "cell_type": "markdown",
   "metadata": {},
   "source": []
  },
  {
   "cell_type": "raw",
   "metadata": {},
   "source": [
    "* From the test on the difference in means of the 1st and 2nd Diastolic Blood Pressure readings, on average, we see a slightly higher 1st diastolic blood pressure reading as compared to the 2nd reading\n",
    "* However, the difference is not statistically significant or suprising enough to claim that there is a difference in means of the 1st and 2nd Diastolic Blood Pressure readings\n"
   ]
  },
  {
   "cell_type": "markdown",
   "metadata": {},
   "source": [
    "__Q5b.__ Pretend that the first and second diastolic blood pressure measurements were taken on different people.  Modfify the analysis above as appropriate for this setting."
   ]
  },
  {
   "cell_type": "code",
   "execution_count": null,
   "metadata": {},
   "outputs": [],
   "source": [
    "# from the way this question is phrased, it seems that our analysis above was performed across individuals instead of within each individual\n",
    "# however, our analysis above did answer the question of the difference in the mean of the 1st diastolic blood pressure reading vs the 2nd reading across individuals\n",
    "# which should have been meant for this question - 5b"
   ]
  },
  {
   "cell_type": "code",
   "execution_count": null,
   "metadata": {},
   "outputs": [],
   "source": [
    "# so, let us now work on the 'inverse' problem we should have analysed earlier\n",
    "# which is to look at the difference between the 1st and 2nd diastolic blood pressure readings\n",
    "\n",
    "# because the original question 5 seemed to suggest that there would be multiple diastolic blood pressure 1 readings and multiple diastolic blood pressure 2 readings\n",
    "# which would have allowed us to compute the mean of the 1st and 2nd readings respectively\n"
   ]
  },
  {
   "cell_type": "code",
   "execution_count": 106,
   "metadata": {},
   "outputs": [
    {
     "data": {
      "text/plain": [
       "(0.6848982193746492, 0.49340814971248503)"
      ]
     },
     "execution_count": 106,
     "metadata": {},
     "output_type": "execute_result"
    }
   ],
   "source": [
    "# look at the difference between the 1st and 2nd diastolic blood pressure readings\n",
    "\n",
    "mean_diff = diff.mean()\n",
    "diff_se = (diff_std/np.sqrt(diff_n))\n",
    "diff_t = (mean_diff - 0)/diff_se\n",
    "# diff_ll = \n",
    "# diff_ul = \n",
    "# d1d2 = np.array(d1, d2)\n",
    "# sm.stats.ztest(d1d2, value=0)\n",
    "sm.stats.ztest(d1, d2, value=0)"
   ]
  },
  {
   "cell_type": "raw",
   "metadata": {},
   "source": [
    "* From the difference between the 1st and 2nd diastolic blood pressure readings, the test results show a slightly greather 1st reading as compared to the second reading on average, which is however not surprising/unusual enough\n"
   ]
  },
  {
   "cell_type": "markdown",
   "metadata": {},
   "source": [
    "__Q5c.__ Briefly describe how the approaches used and the results obtained in the preceeding two parts of the question differ."
   ]
  },
  {
   "cell_type": "markdown",
   "metadata": {},
   "source": []
  },
  {
   "cell_type": "raw",
   "metadata": {},
   "source": [
    "* not sure\n",
    "* might need some help to better understand what the questions are trying to ask, and how the questions differ\n"
   ]
  }
 ],
 "metadata": {
  "kernelspec": {
   "display_name": "Python 3",
   "language": "python",
   "name": "python3"
  },
  "language_info": {
   "codemirror_mode": {
    "name": "ipython",
    "version": 3
   },
   "file_extension": ".py",
   "mimetype": "text/x-python",
   "name": "python",
   "nbconvert_exporter": "python",
   "pygments_lexer": "ipython3",
   "version": "3.6.3"
  }
 },
 "nbformat": 4,
 "nbformat_minor": 2
}
