{
 "cells": [
  {
   "cell_type": "markdown",
   "metadata": {
    "colab_type": "text",
    "id": "QQdjVZNGikFv"
   },
   "source": [
    "# Week 3 Assessment\n",
    "\n",
    "This Jupyter Notebook is auxillary to the following assessment in this week.  To complete this assessment, you will complete the 5 questions outlined in this document and use the output from the python cells to answer them.\n",
    "\n",
    "Run the following cell to initialize your environment and begin the assessment."
   ]
  },
  {
   "cell_type": "code",
   "execution_count": 1,
   "metadata": {
    "colab": {},
    "colab_type": "code",
    "id": "pfrQgsCOikFw"
   },
   "outputs": [],
   "source": [
    "#### RUN THIS\n",
    "\n",
    "import warnings\n",
    "warnings.filterwarnings('ignore')\n",
    "\n",
    "import numpy as np\n",
    "import statsmodels.api as sm\n",
    "import pandas as pd  \n",
    "\n",
    "url = \"nhanes_2015_2016.csv\"\n",
    "da = pd.read_csv(url)\n",
    "\n",
    "# Drop unused columns, drop rows with any missing values.\n",
    "vars = [\"BPXSY1\", \"RIDAGEYR\", \"RIAGENDR\", \"RIDRETH1\", \"DMDEDUC2\", \"BMXBMI\",\n",
    "        \"SMQ020\", \"SDMVSTRA\", \"SDMVPSU\"]\n",
    "da = da[vars].dropna()\n",
    "\n",
    "da[\"group\"] = 10*da.SDMVSTRA + da.SDMVPSU\n",
    "\n",
    "da[\"smq\"] = da.SMQ020.replace({2: 0, 7: np.nan, 9: np.nan})\n",
    "\n",
    "np.random.seed(123)"
   ]
  },
  {
   "cell_type": "markdown",
   "metadata": {
    "colab_type": "text",
    "id": "eSA_KJQvikF1"
   },
   "source": [
    "#### Question 1: What is clustered data? (You'll answer this question within the quiz that follows this notebook)\n",
    "\n",
    "\n",
    "#### Question 2: (You'll answer this question within the quiz that follows this notebook)\n",
    "\n",
    "Utilize the following output for this question:"
   ]
  },
  {
   "cell_type": "code",
   "execution_count": 2,
   "metadata": {
    "colab": {},
    "colab_type": "code",
    "id": "2oU4HEnPikF2"
   },
   "outputs": [
    {
     "name": "stdout",
     "output_type": "stream",
     "text": [
      "BPXSY1 The correlation between two observations in the same cluster is 0.030\n",
      "SDMVSTRA The correlation between two observations in the same cluster is 0.959\n",
      "RIDAGEYR The correlation between two observations in the same cluster is 0.035\n",
      "BMXBMI The correlation between two observations in the same cluster is 0.039\n",
      "smq The correlation between two observations in the same cluster is 0.026\n"
     ]
    }
   ],
   "source": [
    "for v in [\"BPXSY1\", \"SDMVSTRA\", \"RIDAGEYR\", \"BMXBMI\", \"smq\"]:\n",
    "    model = sm.GEE.from_formula(v + \" ~ 1\", groups=\"group\",\n",
    "           cov_struct=sm.cov_struct.Exchangeable(), data=da)\n",
    "    result = model.fit()\n",
    "    print(v, result.cov_struct.summary())"
   ]
  },
  {
   "cell_type": "markdown",
   "metadata": {
    "colab_type": "text",
    "id": "4zRZc-tOikF8"
   },
   "source": [
    "Which of the listed features has the highest correlation between two observations in the same cluster? "
   ]
  },
  {
   "cell_type": "markdown",
   "metadata": {
    "colab_type": "text",
    "id": "or7LyZNWikF9"
   },
   "source": [
    "#### Question 3: (You'll answer this question within the quiz that follows this notebook)\n",
    "\n",
    "What is true about multiple linear regression and marginal linear models when dependence is present in data?\n",
    "\n",
    "\n",
    "#### Question 4: (You'll answer this question within the quiz that follows this notebook)\n",
    "\n",
    "Multilevel models are expressed in terms of _____.\n",
    "\n",
    "\n",
    "#### Question 5: (You'll answer this question within the quiz that follows this notebook)\n",
    "\n",
    "Which of the following is NOT true regarding reasons why we fit marginal models?"
   ]
  }
 ],
 "metadata": {
  "colab": {
   "collapsed_sections": [],
   "name": "w3_assessment.ipynb",
   "provenance": [],
   "version": "0.3.2"
  },
  "kernelspec": {
   "display_name": "Python 3",
   "language": "python",
   "name": "python3"
  },
  "language_info": {
   "codemirror_mode": {
    "name": "ipython",
    "version": 3
   },
   "file_extension": ".py",
   "mimetype": "text/x-python",
   "name": "python",
   "nbconvert_exporter": "python",
   "pygments_lexer": "ipython3",
   "version": "3.6.3"
  }
 },
 "nbformat": 4,
 "nbformat_minor": 1
}
