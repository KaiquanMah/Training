{
 "cells": [
  {
   "cell_type": "code",
   "execution_count": 2,
   "metadata": {
    "colab": {},
    "colab_type": "code",
    "id": "5iOYEiU1pbcB"
   },
   "outputs": [],
   "source": [
    "import numpy as np\n",
    "import matplotlib.pyplot as plt\n",
    "import seaborn as sns\n",
    "import scipy.stats as st\n",
    "%matplotlib inline\n",
    "sns.set(style='ticks', palette='Set2')"
   ]
  },
  {
   "cell_type": "markdown",
   "metadata": {
    "colab_type": "text",
    "id": "beuY1nFFpbcF"
   },
   "source": [
    "# Bayesian in Python\n",
    "\n",
    "In this tutorial, we are going to go over basic bayesian analysis in python.  \n",
    "\n",
    "## Review\n",
    "\n",
    "__Prior p(H):__ Our prior reflects what we know about the value of some parameter before seeing data.  This could refer to previous trials and distributions.\n",
    "\n",
    "__Likelihood p(D|H)__: what is the plausibility that our data is observed, given our prior?\n",
    "\n",
    "__Posterior p(H|D):__ This is result of the Bayesian analysis and reflects all that we know about a problem (given our data and model).\n",
    "\n",
    "__Evidence p(D):__ Evidence is the probability of observing the data averaged over all the possible values the parameters can take. Also knowns as the noramlziing factor. The normalising constant makes sure that the resulting posterior distribution is a true probability distribution by ensuring that the sum of the distribution is equal to 1.\n",
    "\n",
    "Because p(D) is considered a normalizing constant we can say: $p(H|D) \\propto p(D|H) * p(H)$\n",
    "\n",
    "## Coin - Flipping Problem\n",
    "\n",
    "Let's think of these terms in the context of a coin-flipping experiment.\n",
    "\n",
    "On a standard coin, we have two sides, heads or tails.  Both of which are equally likely to show after a coin flip, or a 50% probability.\n",
    "\n",
    "In the case of a coin-flipping trials, we may want to consider this probability our prior.\n",
    "\n",
    "Let's go ahead and **create our prior distribution:**"
   ]
  },
  {
   "cell_type": "code",
   "execution_count": 3,
   "metadata": {
    "colab": {},
    "colab_type": "code",
    "id": "3S88FE4CpbcG"
   },
   "outputs": [
    {
     "data": {
      "text/plain": [
       "array([0, 1, 0, 1, 0])"
      ]
     },
     "execution_count": 3,
     "metadata": {},
     "output_type": "execute_result"
    }
   ],
   "source": [
    "# outcome\n",
    "coin_flips_prior = np.random.binomial(n = 1, p = 0.5, size = 1000)\n",
    "coin_flips_prior[:5]"
   ]
  },
  {
   "cell_type": "code",
   "execution_count": 4,
   "metadata": {
    "colab": {},
    "colab_type": "code",
    "id": "27wlBPn8pbcM"
   },
   "outputs": [
    {
     "data": {
      "text/plain": [
       "array([0.        , 0.01010101, 0.02020202, 0.03030303, 0.04040404,\n",
       "       0.05050505, 0.06060606, 0.07070707, 0.08080808, 0.09090909,\n",
       "       0.1010101 , 0.11111111, 0.12121212, 0.13131313, 0.14141414,\n",
       "       0.15151515, 0.16161616, 0.17171717, 0.18181818, 0.19191919,\n",
       "       0.2020202 , 0.21212121, 0.22222222, 0.23232323, 0.24242424,\n",
       "       0.25252525, 0.26262626, 0.27272727, 0.28282828, 0.29292929,\n",
       "       0.3030303 , 0.31313131, 0.32323232, 0.33333333, 0.34343434,\n",
       "       0.35353535, 0.36363636, 0.37373737, 0.38383838, 0.39393939,\n",
       "       0.4040404 , 0.41414141, 0.42424242, 0.43434343, 0.44444444,\n",
       "       0.45454545, 0.46464646, 0.47474747, 0.48484848, 0.49494949,\n",
       "       0.50505051, 0.51515152, 0.52525253, 0.53535354, 0.54545455,\n",
       "       0.55555556, 0.56565657, 0.57575758, 0.58585859, 0.5959596 ,\n",
       "       0.60606061, 0.61616162, 0.62626263, 0.63636364, 0.64646465,\n",
       "       0.65656566, 0.66666667, 0.67676768, 0.68686869, 0.6969697 ,\n",
       "       0.70707071, 0.71717172, 0.72727273, 0.73737374, 0.74747475,\n",
       "       0.75757576, 0.76767677, 0.77777778, 0.78787879, 0.7979798 ,\n",
       "       0.80808081, 0.81818182, 0.82828283, 0.83838384, 0.84848485,\n",
       "       0.85858586, 0.86868687, 0.87878788, 0.88888889, 0.8989899 ,\n",
       "       0.90909091, 0.91919192, 0.92929293, 0.93939394, 0.94949495,\n",
       "       0.95959596, 0.96969697, 0.97979798, 0.98989899, 1.        ])"
      ]
     },
     "execution_count": 4,
     "metadata": {},
     "output_type": "execute_result"
    }
   ],
   "source": [
    "# probability of outcome?\n",
    "params = np.linspace(0,1,100)\n",
    "params"
   ]
  },
  {
   "cell_type": "code",
   "execution_count": 5,
   "metadata": {
    "colab": {},
    "colab_type": "code",
    "id": "bOeR37HcpbcQ"
   },
   "outputs": [],
   "source": [
    "# probability prior distribution\n",
    "# get probability mass function = probability of variable at a certain value; p if result/outcome=1, 1-p if result/outcome=0\n",
    "# for the set of 'coin_flips_prior' trials => what is the probability we observe 'p'?\n",
    "\n",
    "p_prior = np.array([np.product(st.bernoulli.pmf(coin_flips_prior, p)) for p in params])"
   ]
  },
  {
   "cell_type": "code",
   "execution_count": 6,
   "metadata": {
    "colab": {},
    "colab_type": "code",
    "id": "AuqlEVUQpbcT"
   },
   "outputs": [
    {
     "data": {
      "image/png": "[encoded data removed]",
      "text/plain": [
       "<Figure size 432x288 with 1 Axes>"
      ]
     },
     "metadata": {},
     "output_type": "display_data"
    }
   ],
   "source": [
    "# divide by a 'normalising factor' => get probability distribution from 0 to 1\n",
    "p_prior = p_prior/np.sum(p_prior)\n",
    "plt.plot(params, p_prior)\n",
    "sns.despine()"
   ]
  },
  {
   "cell_type": "markdown",
   "metadata": {
    "colab_type": "text",
    "id": "_69aywdZpbcW"
   },
   "source": [
    "As you can see, our prior distribution peaks at 0.5 which is what our probability for our fair coin is.\n",
    "\n",
    "**Now, let's introduce some observations from trials with an unfair coin**.  Let's say the probability is now weight 80-20, where the probability a head is shown is 0.8.\n",
    "\n",
    "Let's create this sampling distribution:"
   ]
  },
  {
   "cell_type": "code",
   "execution_count": 7,
   "metadata": {
    "colab": {},
    "colab_type": "code",
    "id": "UURyMMb5pbcX"
   },
   "outputs": [
    {
     "data": {
      "image/png": "[encoded data removed]",
      "text/plain": [
       "<Figure size 432x288 with 1 Axes>"
      ]
     },
     "metadata": {},
     "output_type": "display_data"
    }
   ],
   "source": [
    "coin_flips_observed = np.random.binomial(n=1, p=0.8, size = 1000)\n",
    "p_observed = np.array([np.product(st.bernoulli.pmf(coin_flips_observed, p)) for p in params])\n",
    "p_observed = p_observed/np.sum(p_observed)\n",
    "\n",
    "plt.plot(params, p_observed)\n",
    "# https://seaborn.pydata.org/generated/seaborn.despine.html\n",
    "# Remove the top and right spines from plot(s).\n",
    "sns.despine()"
   ]
  },
  {
   "cell_type": "markdown",
   "metadata": {
    "colab_type": "text",
    "id": "Chie1Gg4pbcb"
   },
   "source": [
    "The peak for our sampling distribution is around 0.8.\n",
    "\n",
    "While our observations from our sampling distribution indicate a probability around 0.8, because our prior is 0.5, we have to assess the likelihood that these values could be observed and find our posterior distribution.\n",
    "\n",
    "Remember, $p(H|D) \\propto p(D|H) * p(H)\\ OR\\ Posterior\\ \\propto Likelihood\\ *  Prior$"
   ]
  },
  {
   "cell_type": "code",
   "execution_count": 8,
   "metadata": {
    "colab": {},
    "colab_type": "code",
    "id": "lAnyv5BApbcb"
   },
   "outputs": [
    {
     "data": {
      "image/png": "[encoded data removed]",
      "text/plain": [
       "<Figure size 432x288 with 1 Axes>"
      ]
     },
     "metadata": {},
     "output_type": "display_data"
    }
   ],
   "source": [
    "# prior belief => probability of heads = 0.5\n",
    "# observation/actual data => probability of heads = 0.8\n",
    "\n",
    "# create posterior distribution\n",
    "p_posterior = [p_prior[i] * p_observed[i] for i in range(len(p_prior))]\n",
    "p_posterior = p_posterior/np.sum(p_posterior)\n",
    "plt.plot(params, p_posterior)\n",
    "sns.despine()\n",
    "# posterior => probability of heads = 0.65"
   ]
  },
  {
   "cell_type": "markdown",
   "metadata": {
    "colab_type": "text",
    "id": "SA-eNhIfpbce"
   },
   "source": [
    "## University of Michigan Student IQs\n",
    "\n",
    "We'll do another example where we have some prior belief about the IQ of University of Michigan students.\n",
    "\n",
    "For our prior distribution, we'll have a normal distribution with a mean IQ of 100 and a standard deviation of 10."
   ]
  },
  {
   "cell_type": "code",
   "execution_count": 9,
   "metadata": {
    "colab": {},
    "colab_type": "code",
    "id": "O39Sb2WLpbcf"
   },
   "outputs": [
    {
     "data": {
      "image/png": "[encoded data removed]",
      "text/plain": [
       "<Figure size 432x288 with 1 Axes>"
      ]
     },
     "metadata": {},
     "output_type": "display_data"
    }
   ],
   "source": [
    "prior_distribution = np.random.normal(100, 10, 1000)\n",
    "plt.hist(prior_distribution)\n",
    "sns.despine()"
   ]
  },
  {
   "cell_type": "markdown",
   "metadata": {
    "colab_type": "text",
    "id": "LwcQkHPApbck"
   },
   "source": [
    "Now, let's say we are collecting some observations of student IQs which takes the shape of a normal distribution with mean 115 and standard deviation of 7.5 and want to construct our posterior distribution.\n",
    "\n",
    "In order to do this, we **update our prior by calculating the mean and variance after each observation**.\n",
    "\n",
    "The equations for our updated prior mean and variance are:\n",
    "\n",
    "$$Updated\\ Prior\\ Mean = \\frac{\\sigma^2_{observed}\\mu + \\sigma_{prior}^2x}{\\sigma_{observed}^2 + \\sigma_{prior}^2}$$\n",
    "\n",
    "$$Updated\\ Prior\\ Variance = \\frac{\\sigma_{observed}^2\\sigma_{prior}^2}{\\sigma_{observed}^2 + \\sigma_{prior}^2}$$"
   ]
  },
  {
   "cell_type": "raw",
   "metadata": {},
   "source": [
    "# rewrite equations here because of math processing error above:\n",
    "Updated prior mean = (sigma^2 * mu_observed + sigma_prior^2 * x) / (sigma_observed^2 + sigma_prior^2)\n",
    "Updated prior variance = (sigma_observed^2 * sigma_prior^2) / (sigma_observed^2 + sigma_prior^2)\n"
   ]
  },
  {
   "cell_type": "code",
   "execution_count": 16,
   "metadata": {
    "colab": {},
    "colab_type": "code",
    "id": "8jnqJUX7pbck"
   },
   "outputs": [
    {
     "data": {
      "text/plain": [
       "<matplotlib.legend.Legend at 0x7fb9803b4898>"
      ]
     },
     "execution_count": 16,
     "metadata": {},
     "output_type": "execute_result"
    },
    {
     "data": {
      "image/png": "[encoded data removed]",
      "text/plain": [
       "<Figure size 432x288 with 1 Axes>"
      ]
     },
     "metadata": {},
     "output_type": "display_data"
    }
   ],
   "source": [
    "np.random.seed(5)\n",
    "# instead of using sd 7.5, we used sd of 10\n",
    "observed_distribution = np.random.normal(115, 10, 1000)\n",
    "# create a list containing '100'\n",
    "# then create 1000 of that list\n",
    "mu = [100] * 1000\n",
    "sigma = [10] * 1000\n",
    "\n",
    "\n",
    "# update prior mean, variance - an example\n",
    "mu[0] = (10**2*observed_distribution[0] + (10**2)*100)/(10**2+10**2)\n",
    "sigma[0] = (10**2*10**2)/(10**2+10**2)\n",
    "\n",
    "# update prior mean, variance - automated fashion for the remaining 999 tries\n",
    "for i in range(1000):\n",
    "    # range(1000) => 0 to 999\n",
    "    # because we have updated once before starting the for loop, we break this for loop at the last digit 999\n",
    "    # before 0 => 1st try\n",
    "    # within for loop => 0 to 998 => 999 tries => cumulatively, we have updated 1000 tries\n",
    "    # so break out of the loop for the last digit 999\n",
    "    if i == 999:\n",
    "        break\n",
    "    \n",
    "    # sigma_prior keep at 10, sigma = sigma, mu_observed=observed_distribution, x=mu    \n",
    "    mu[i + 1] = (sigma[i]*observed_distribution[i+1] + (10**2)*mu[i] )/(sigma[i]+10**2)\n",
    "    sigma[i + 1] = (sigma[i]*10**2)/(sigma[i]+10**2)\n",
    "    \n",
    "\n",
    "# initialise posterior distribution list of lists results    \n",
    "posterior_distributions = [[]] * 20\n",
    "# for each updated mu, sigma => fit a normal distribution => from the N distribution, generate 1000 random variables with the mu, sigma\n",
    "for i in range(20):\n",
    "    posterior_distributions[i] = np.random.normal(mu[i], sigma[i], 1000)\n",
    "    \n",
    "plt.hist(prior_distribution)\n",
    "plt.hist(observed_distribution, alpha = 0.75)\n",
    "# update the '#' in posterior_distributions[#] to understand how the posterior distribution looks \n",
    "# after each additional observation has updated the posterior distribution\n",
    "plt.hist(posterior_distributions[14], alpha = 0.5)\n",
    "sns.despine()\n",
    "plt.legend(['prior', 'observed', 'posterior'])\n",
    "# prior distribution is to the left, observed distribution to the right; updated posterior also shifted to the right following the 'observed' distribution"
   ]
  },
  {
   "cell_type": "code",
   "execution_count": 17,
   "metadata": {},
   "outputs": [
    {
     "data": {
      "text/plain": [
       "[[],\n",
       " [],\n",
       " [],\n",
       " [],\n",
       " [],\n",
       " [],\n",
       " [],\n",
       " [],\n",
       " [],\n",
       " [],\n",
       " [],\n",
       " [],\n",
       " [],\n",
       " [],\n",
       " [],\n",
       " [],\n",
       " [],\n",
       " [],\n",
       " [],\n",
       " []]"
      ]
     },
     "execution_count": 17,
     "metadata": {},
     "output_type": "execute_result"
    }
   ],
   "source": [
    "[[]] * 20"
   ]
  },
  {
   "cell_type": "code",
   "execution_count": 18,
   "metadata": {},
   "outputs": [
    {
     "data": {
      "text/plain": [
       "list"
      ]
     },
     "execution_count": 18,
     "metadata": {},
     "output_type": "execute_result"
    }
   ],
   "source": [
    "type([[]] * 20)"
   ]
  },
  {
   "cell_type": "code",
   "execution_count": 22,
   "metadata": {
    "scrolled": true
   },
   "outputs": [
    {
     "data": {
      "text/plain": [
       "array([101.85361769,  62.50841214, 137.69273637,  41.68812851,\n",
       "        77.03600811, 116.9829512 , 115.98623855, 113.34592775,\n",
       "       106.53632496,  92.03990839, 105.38222583,  98.54264814,\n",
       "       137.50615378, 113.33048779,  95.51490564, 164.26589195,\n",
       "        51.15934217,  83.40977862,  64.95713639, 102.26949219,\n",
       "        77.43929089, 125.97942909, 107.33092059,  77.86284315,\n",
       "       164.07019408, 103.40105938,  91.35265227,  89.19908784,\n",
       "       131.57951936, 159.44977936,  95.54054468, 113.92440389,\n",
       "        90.39084107, 102.16534995, 174.22557408, 113.12524425,\n",
       "       173.35087703, 127.32259209, 110.23358573, 115.55644226,\n",
       "       169.24848465, 101.5002274 , 126.46681961,  90.26825841,\n",
       "        76.35782575,  75.42353816, 121.12191508, 173.17024773,\n",
       "       124.28068422,  93.15985528, 107.33179425, 115.76482477,\n",
       "        71.23724338, 123.29281228, 157.54811044, 119.0676009 ,\n",
       "       100.01653681,  92.72137819, 100.21392307,  68.70507709,\n",
       "       112.76964944, 164.41321756,  79.58479312, 175.41009628,\n",
       "        76.04484771, 175.03977271, 148.32419592,  88.37861958,\n",
       "        65.99400502,  77.80269723, 109.31001093,  86.75459504,\n",
       "       113.35266783,  63.88119364, 173.05475464,  88.63584666,\n",
       "       107.32642406, 153.15506675,  70.95909151,  90.98663508,\n",
       "       132.91950805,  95.75507349, 142.83544974, 113.91180132,\n",
       "       135.54076363, 156.55339697, 138.74743652, 174.32521495,\n",
       "        60.77519018, 106.26383945, 151.58793824, 114.67831807,\n",
       "       127.58936209, 127.91412988, 168.60264423,  74.34395236,\n",
       "        13.29336941,  99.2062921 , 111.52630834, 125.81686181,\n",
       "       149.20258573, 122.43567344, 119.86476605, 144.71524328,\n",
       "       111.30537679,  80.63818221,  51.22535458, 120.67697459,\n",
       "       132.68031364, 119.14536405, 135.45942337, 160.92108551,\n",
       "       102.47391958,  95.68151594, 118.77727577, 128.54408746,\n",
       "       106.96358698,  72.4036916 , 146.48809703,  76.50380902,\n",
       "       140.80326643, 106.537928  , 103.02387121, 154.83025012,\n",
       "       162.22004962, 108.93774195, 102.70718341,  57.80550018,\n",
       "       126.61450396, 113.04400486,  81.31893529, 159.56090459,\n",
       "       119.80982452, 152.80638828,  78.41240177, 108.29335607,\n",
       "        26.29848468, 125.78385488, 141.16093956, 163.11047859,\n",
       "        56.74001078,  98.79435998, 133.40830325,  88.33241884,\n",
       "       120.63768522, 106.78517721,  86.45672363, 116.13661934,\n",
       "        82.50031744,  30.56663552,  86.15990641, 118.68366574,\n",
       "        49.94108136,  52.84691768, 104.97985791,  95.41903271,\n",
       "       121.83116855,  63.10681776, 102.10600422, 179.02276411,\n",
       "       168.95640725,  92.56222031, 102.14953282, 125.78494465,\n",
       "        60.08821915,  89.38563153,  78.14642333, 156.92942015,\n",
       "       103.18735731, 161.79397276,  80.20672328,  87.59794694,\n",
       "       134.08631149, 102.81591944, 122.0563653 ,  80.38564811,\n",
       "       146.98528276, 129.50762129, 125.85972495, 149.04225035,\n",
       "        86.49720273,  90.12237308, 108.99030267, 172.1359012 ,\n",
       "       124.27824301,  45.46635452,  68.67389846,  90.28638852,\n",
       "       115.35755625, 161.54921879, 133.53298812, 135.13738358,\n",
       "       158.68867748, 111.98527971, 108.55651225,  86.014189  ,\n",
       "       119.67304058, 117.90331965, 124.71760953, 137.63554158,\n",
       "        71.81282117, 135.56407034,  94.32182226, 111.19017007,\n",
       "        89.39585654, 139.2458979 ,  76.45113898, 127.04095429,\n",
       "        60.31105603, 176.05919005, 134.99097729, 114.01158639,\n",
       "        54.23121842, 131.26058978, 139.65400476,  82.98666274,\n",
       "       168.87431549, 105.16058835, 151.19747881, 146.01646186,\n",
       "       117.52719437,  81.02014795, 157.27510983, 122.82635622,\n",
       "        97.41918654,  77.56193094, 182.66149729,  94.02121005,\n",
       "       193.24669856, 129.59632757, 101.99886114,  52.22695165,\n",
       "        82.42325921, 117.87779762, 125.7034786 , 124.37181057,\n",
       "       131.60265262,  95.04440338, 126.79411655, 115.82760698,\n",
       "       190.66485415, 105.69892726, 128.77958938, 137.42989091,\n",
       "       122.83869425,  64.09392324,  27.88058815,  58.08639599,\n",
       "       168.61895997,  93.81783948, 114.05423237, 116.88396494,\n",
       "       156.9857041 ,  89.08409627, 113.00001469, 120.57507074,\n",
       "       127.07644325,  73.56741968, 174.75081547,  97.92364823,\n",
       "       120.93609809, 104.8863016 ,  75.70269664, 100.77184917,\n",
       "       104.16505471,  83.97681844, 132.87010218, 144.00712774,\n",
       "        82.60827874, 169.52450716,  93.90409787, 146.58122892,\n",
       "       149.30358977,  57.934537  , 108.4230446 ,  96.95815642,\n",
       "       117.15056192, 104.85199339, 119.8685486 , 197.70908131,\n",
       "       112.32380868, 152.99647951, 111.09995721,  85.27647008,\n",
       "       110.32262036,  60.56549473, 136.4395608 , 122.82542259,\n",
       "        92.07961833,  93.9048213 , 109.64377023,  67.36917653,\n",
       "        97.04689652, 127.75620151,  95.81323009, 129.07500509,\n",
       "       159.89025322,  71.30206616,  60.23610946, 134.29340682,\n",
       "        53.46179334,  23.48938873,  94.20926083,  37.81614295,\n",
       "       128.6950093 , 171.2164163 , 158.37593151, 112.71918533,\n",
       "       101.4007075 ,  35.34763963, 137.29102085, 133.55957809,\n",
       "       127.00721297,  86.49524844,  97.12119499, 122.55821638,\n",
       "       129.00867673,  88.34912377,  74.76828961, 119.83922858,\n",
       "       120.0784969 ,  52.0091493 , 118.69900775, 106.80609633,\n",
       "       142.19735366,  86.26138454, 116.00653797, 101.03379677,\n",
       "        71.74463915,  65.99815617, 131.39652158, 102.36079843,\n",
       "        87.90984588, 132.91082865, 127.13508982, 148.55774832,\n",
       "       159.02776732, 145.98922265,  72.45017711, 118.65420272,\n",
       "       114.14342521, 104.00926868,  60.60428289,  55.7227517 ,\n",
       "       103.75362299,  97.73812825,  72.56441696, 141.35386289,\n",
       "       166.90098478,  89.6213882 ,  71.1576276 ,  79.94759818,\n",
       "       132.56918099, 124.93405684,  91.94173067, 166.27712305,\n",
       "       109.93134395, 157.71170214, 142.04667499, 110.51833765,\n",
       "        72.90498318,  92.6727114 , 108.79332074, 159.05444987,\n",
       "       144.69875823, 116.19867795, 107.63934708,  97.18397168,\n",
       "        66.06820701,  58.11959398, 111.29770741, 107.12070568,\n",
       "       129.93970425,  74.15248488, 127.90025862, 124.85315051,\n",
       "        63.6879632 , 101.46964894, 106.28158336,  84.51173733,\n",
       "       122.49408353, 137.74998269,  95.55070853,  66.02433185,\n",
       "       130.22929872, 131.25035935, 170.51763175, 102.9125624 ,\n",
       "        88.30405809, 101.93340713,  77.35856006,  32.95103236,\n",
       "       152.26138569, 119.68333926, 129.60370966, 111.65092568,\n",
       "       140.11926091,  89.94999294, 178.8822042 , 107.09318938,\n",
       "       160.15413387,  73.33397106,  79.72381589, 110.72982143,\n",
       "       163.74958964,  58.8771552 ,  50.7169307 , 158.13479176,\n",
       "       120.53557114, 113.87968644,  31.23921375,  86.27156208,\n",
       "       123.95752872, 152.5692415 , 118.48019672, 109.15760861,\n",
       "       115.2989002 ,  79.05113511,  56.66215056,  83.22304975,\n",
       "        70.67373422, 139.59198428,  90.15264889, 155.79478789,\n",
       "       105.76808141, 153.42964024, 113.01008387, 113.55722848,\n",
       "       150.35766304, 148.40657401, 124.55476993,  78.00732204,\n",
       "        60.42383725,  81.80904433, 124.94768881, 107.9656738 ,\n",
       "        90.80460542, 134.33880051,  89.17603547, 126.1485348 ,\n",
       "        99.59274789, 124.21404317, 100.70778863,  79.00252404,\n",
       "        39.33340565, 139.86504499,  96.70999503, 109.53369842,\n",
       "       145.84263692, 101.5283188 ,  70.14556538, 106.0980239 ,\n",
       "       184.30766518, 125.7987269 , 100.11507946, 134.86314429,\n",
       "       112.8023018 , 124.83828068, 135.73675156, 177.10723986,\n",
       "       111.8664158 , 110.75140222, 175.40533531, 168.82293222,\n",
       "       128.92266737, 122.4598514 , 109.31282826,  89.36971986,\n",
       "       162.1177603 ,  55.9848837 ,  88.49408009,  88.26121674,\n",
       "        89.1798173 ,  42.14219675,  68.32252633,  90.83758341,\n",
       "       107.09895224,  93.6433753 , 155.55416069,  87.52301593,\n",
       "       180.19918291, 120.02095104,  63.82612642, 132.24196057,\n",
       "       102.53177341,  78.87297626, 115.36653843,  92.90379642,\n",
       "        76.3175397 , 136.07674921,  60.63543039, 114.53478769,\n",
       "       171.46221208, 100.09833501,  43.00120557,  85.13636704,\n",
       "       135.90379432,  64.47136425, 160.79881972,  57.57031165,\n",
       "       104.7908726 , 118.60822814, 159.46100326, 115.07524951,\n",
       "        81.82678452, 138.73218341, 115.23118024, 119.30068209,\n",
       "       167.14033962, 120.04036056,  93.71079702, 100.51648042,\n",
       "        36.81237944, 111.41677343,  92.23278278,  81.61658209,\n",
       "       116.34544819, 111.89952535, 127.79650655, 164.11026841,\n",
       "        53.87383706,  98.30490358, 207.4162034 , 109.40156458,\n",
       "       114.29514973, 131.46421068, 190.36971566, 135.7037429 ,\n",
       "       108.53538671, 136.0403732 , 123.1860341 ,  87.89393262,\n",
       "        96.20878566,  99.87425749, 103.94848452, 123.84987931,\n",
       "        96.98270388,  86.71439663,  47.42635715,  86.42942734,\n",
       "        88.13531142, 159.0679549 , 157.05665006, 214.36167258,\n",
       "        84.57111581, 174.541012  , 173.81734903,  75.16063512,\n",
       "       103.03347143, 162.66169137,  94.21572709, 128.30554492,\n",
       "        98.44212458, 125.42097524,  58.68843761, 117.32171076,\n",
       "       113.68878037, 121.35623613, 123.19288908, 127.41461438,\n",
       "        97.34766189, 117.76059487, 150.85169602, 103.84317364,\n",
       "       124.76586525, 152.24171798,  91.96669013, 170.1810872 ,\n",
       "        18.95751386,  77.30548789, 153.6785445 ,  65.7138629 ,\n",
       "       174.18377324, 145.64686066,  78.21251376, 146.46585118,\n",
       "       138.39716955, 149.34538402, 139.75586544,  91.76639392,\n",
       "        64.43554186, 152.73550904,  76.13271851, 175.58277774,\n",
       "        78.41580281, 136.2306575 , 109.5053244 , 112.1147899 ,\n",
       "       117.84105246, 105.32023949,  94.51199373,  78.52352379,\n",
       "        53.11151721,  64.7501134 , 128.6837761 , 114.72787957,\n",
       "       164.75767751,  76.0394592 , 129.18428826, 169.76191091,\n",
       "       103.23065392,  76.90323969, 120.51316856, 103.90708672,\n",
       "       121.40526806, 141.9474583 , 147.5088606 ,  96.4751332 ,\n",
       "       139.56941578,  58.9324707 , 107.09987347, 115.6663749 ,\n",
       "        30.27621346, 130.57014775, 107.4960851 , 128.77450304,\n",
       "        63.91635205, 173.78427798,  98.05203184, 157.45497408,\n",
       "       113.39142813, 142.1233719 ,  75.59749315,  97.20017784,\n",
       "       143.95965578, 143.54650848,  99.71730815,  66.34001836,\n",
       "        90.71700948, 138.09677739, 114.1041582 , 157.3543669 ,\n",
       "       116.11273861, 147.35928976,  89.12103243,  45.98696474,\n",
       "        72.35893831,  86.64736099,  89.57774628, 195.91805159,\n",
       "       177.20189281,  96.03751425, 162.89923824, 155.43626743,\n",
       "       125.3494    ,  73.64841826, 117.20061772, 150.68709914,\n",
       "       118.23134564, 119.77381533,  58.81017332,  74.50749653,\n",
       "       138.87555044, 131.28943649,  99.09062803, 106.4015001 ,\n",
       "        69.17149044, 142.39973903, 119.29383645, 126.14428076,\n",
       "        84.29068604,  98.48140862, 121.47826445,  64.21673311,\n",
       "       140.12363889, 103.19439634, 153.12948626, 123.17431118,\n",
       "       122.43281998, 127.57582762,  53.8893259 , 124.34943622,\n",
       "        72.4791888 , 147.39723506, 142.98061703, 106.78432335,\n",
       "       155.57957441,  94.91889028,  92.65248056, 167.70045872,\n",
       "       134.94316498, 113.82371704, 154.02437783,  98.79652948,\n",
       "       165.25453006, 109.6124284 , 122.80525396, 103.96521415,\n",
       "        83.91617514, 142.79618432,  80.93964718, 146.1761545 ,\n",
       "       117.64881972, 105.64572616, 131.18472054, 173.50816388,\n",
       "       149.59951639, 175.5248481 , 147.03829262,  59.72205034,\n",
       "        68.92057331,  44.98297488, 155.8937203 ,  98.902864  ,\n",
       "        69.83572384,  82.03401409, 159.82037493, 123.97141679,\n",
       "       140.95153376,  91.24357336, 108.75054514, 112.38544208,\n",
       "       114.03197232, 171.95544312,  51.5481018 , 131.04246226,\n",
       "        76.18230634, 117.78098906,  94.46160449, 117.97298132,\n",
       "       101.50767048,  75.00172557, 129.66472161,  62.09216   ,\n",
       "        79.856406  , 133.83850196, 109.60940324, 156.9337136 ,\n",
       "       158.20765388,  98.56076728, 112.01896812, 121.74022483,\n",
       "       164.15053759, 135.98117198, 101.67381778,  88.80007228,\n",
       "        44.89680359, 130.6235834 ,  68.59556326, 113.62856798,\n",
       "       137.21416479, 109.68998286, 120.22885381,  43.05199187,\n",
       "       152.69637289, 113.20311522, 129.59639047,  90.12967205,\n",
       "        89.46578958, 117.35382426,  67.03788157,  77.33045681,\n",
       "       119.38236745, 172.94052459,  62.17168651, 109.25437887,\n",
       "       150.21165146, 150.71420195, 171.54024693,  79.30862765,\n",
       "       106.09625394, 101.51354515,  78.27569814,  65.22103486,\n",
       "       114.56375605, 150.77825691, 104.56783497,  98.44782665,\n",
       "       114.78857979,  89.14088083,  86.36315736, 122.01691373,\n",
       "        93.55795625,  71.05122964, 100.55163333, 118.82831915,\n",
       "       159.37939623, 115.57559311, 132.74796336,  89.42079146,\n",
       "       163.0153512 , 107.56576536,  66.54404965,  59.97450358,\n",
       "        94.15799357,  74.47360697, 113.80785775,  58.04937846,\n",
       "       129.12099795, 125.64872098, 162.2915433 , 153.77770146,\n",
       "        91.01153217,  10.6877294 , 139.97829608,  98.64797111,\n",
       "       121.76307574, 141.52988272,  80.60722525, 116.92301541,\n",
       "       173.09678671, 107.85740097, 113.03524186, 112.41318259,\n",
       "        99.08937777,  83.77415811, 108.69053598,  98.95466205,\n",
       "        87.0793682 , 117.82857717, 113.20198344, 156.97315958,\n",
       "       151.97590913, 100.47538937,  74.29994618, 207.51464426,\n",
       "       117.13248882, 140.6528004 , 101.5398875 ,  92.13508523,\n",
       "        74.96917795, 134.54709615, 213.59034313, 123.35896162,\n",
       "       106.02019775, 165.8762864 ,  88.16957727,  84.29074946,\n",
       "       118.45353026, 152.15458005,  87.95731627,  87.86276821,\n",
       "       134.78508786, 127.86606767, 125.78192589, 120.37148466,\n",
       "       103.24851391, 153.80544888, 104.60709099, 129.08725671,\n",
       "       101.92907247,  67.64393714, 119.11374158, 118.43950906,\n",
       "       192.76293826, 118.66402065,  48.45646331,  73.21252238,\n",
       "       119.94396626, 128.77993501, 116.34579302, 155.71131953,\n",
       "       135.42989724, 179.95591483, 138.92186197,   4.28511681,\n",
       "       104.48734668,  97.61573663,  77.38482331,  58.75465571,\n",
       "       152.1106227 , 143.95901427, 117.34283536,  60.18185796,\n",
       "       120.04493493,  63.05527089, 105.18217819, 114.87164985,\n",
       "        85.45993957,  77.93172996, 174.90043137,  98.83711315,\n",
       "       136.00727835,  72.70057041,  80.39567333, 104.22067969,\n",
       "        73.69025867,  91.67765343,  99.22461362, 178.74588339,\n",
       "       107.59039436, 116.64730659, 140.18822422, 102.24487071,\n",
       "        61.02480989, 144.50377423,  91.82507067, 146.05804408,\n",
       "        69.90816496, 124.00410249,  94.66922865,  96.72978858,\n",
       "       106.94547922, 160.32701441,  85.73421561, 125.90594867,\n",
       "       118.78516128, 140.08464793, 100.92997598, 106.45288168,\n",
       "       100.66530326, 154.63950082, 158.11818128,  78.28630287,\n",
       "       130.19705532, 153.72275239,  69.19046295, 135.12347283,\n",
       "        73.34842494, 142.32725393, 110.83115554,  67.62205021,\n",
       "        99.4966717 ,  61.24430691, 104.29885256,  93.5001265 ,\n",
       "        61.47386637,  99.38452608, 149.80514908,  80.96199637,\n",
       "       111.09519214, 156.24584294,  90.72682671, 141.52788512,\n",
       "       100.11726431, 106.50994286,  86.1114984 , 148.46756911,\n",
       "       108.10115748,  71.0824189 ,  84.94663496, 158.96414425,\n",
       "        95.07324791,  90.62822675,  72.58994057,  90.27632271,\n",
       "       142.28476203,  79.38901521, 114.25342379, 152.2863625 ,\n",
       "        86.79563045, 101.78689196, 163.73370634, 146.4409877 ,\n",
       "       152.45113165,  88.49798457,  85.83581483,  98.71561515,\n",
       "       100.03624794,  81.50908794,  77.98756373, 169.79088055,\n",
       "       124.45453649, 125.64156684, 168.11161593,  65.16663984,\n",
       "       107.16302495, 165.82245749,  85.64525244,  61.04084869,\n",
       "        51.93552053,  91.72642661,  65.31681722, 151.17411387,\n",
       "        94.69889381, 135.68008445, 137.16650441,  72.76614111,\n",
       "        42.90056441,  89.90543922, 107.63654974,  85.32963391,\n",
       "       120.95878116,  92.70178512, 132.50404576,  98.64421243,\n",
       "        90.14778852,  71.06141818, 126.04813265,  76.26756218,\n",
       "       156.97757738,  76.62210706, 106.78770619, 120.34744595,\n",
       "        85.16220441, 147.81641123,  96.30531881,  65.29944309,\n",
       "        84.1160192 , 141.66938861, 132.65384536, 137.53110296,\n",
       "       202.08539394, 162.19943414,  96.45659145, 119.86324803,\n",
       "       103.03608012, 115.36626926,  96.46939751,  95.28363855])"
      ]
     },
     "execution_count": 22,
     "metadata": {},
     "output_type": "execute_result"
    }
   ],
   "source": [
    "np.random.normal(mu[1], sigma[1], 1000)"
   ]
  },
  {
   "cell_type": "code",
   "execution_count": 23,
   "metadata": {},
   "outputs": [
    {
     "data": {
      "text/plain": [
       "array([ 38.75063506, 110.53203725,  52.89324803, 116.59291249,\n",
       "       153.91075968, 119.18750788, 192.69092791,  35.58422195,\n",
       "       104.69505219, 118.71557975, 102.13544616, 115.80347448,\n",
       "       149.64168788, 113.86113058,  90.94534972,  83.5183054 ,\n",
       "        99.52497602,  99.89426242, 205.74509605,  93.69986407,\n",
       "       131.29303557, 114.10726972, 124.56928177, 131.26269012,\n",
       "       121.61794867,  92.30599956, 119.37234228, 103.23160414,\n",
       "        91.57405988, 133.36404753, 152.23410399,  75.46083308,\n",
       "        98.53372415, 126.60876337, 159.16904706, 126.29115864,\n",
       "        48.384776  , 136.39967175,  88.0998697 ,  83.56961562,\n",
       "       174.72922583,  97.20237982, 154.52615252, 118.592823  ,\n",
       "        95.86609793,  92.78496796, 127.55531402,  61.72092242,\n",
       "       133.70417866, 142.39975157,  53.62999986, 119.88448764,\n",
       "       140.79414535, 131.95804837,  59.7118907 , 163.88237523,\n",
       "       110.89256922, 129.45535637,  88.08669738, 146.64714612,\n",
       "        92.64977348, 177.93477478, 106.95331532, 137.94921734,\n",
       "       123.84326739, 150.83084079,  65.69815089, 115.46433435,\n",
       "       100.40442093,  69.93372404,  98.55588248, 183.69938128,\n",
       "       118.37593668,  98.41001465, 135.13243169,  83.29531076,\n",
       "       105.26088258,  87.80782955, 134.5328221 , 104.18949635,\n",
       "        27.01415969, 128.87586394,  97.75413933, 106.46312685,\n",
       "        86.02596263,  87.15323502, 141.89099663, 142.08778618,\n",
       "        97.5849785 ,  99.86204013, 114.84198205, 115.0371676 ,\n",
       "        99.61542151, 132.51011982, 138.79256437, 165.81357211,\n",
       "       134.81642962,  60.92584078,  74.91589203, 106.00360489,\n",
       "       171.70535337, 111.78426767, 104.9828175 , 105.80303831,\n",
       "       133.4915829 ,  61.96411901, 114.71696485, 117.93738097,\n",
       "       137.6673747 , 114.63257361,  83.52919998, 121.71655167,\n",
       "       114.76453147,  90.43989856, 129.21810026,  71.42529311,\n",
       "       165.12286472, 113.05594158, 132.81407494,  30.42054595,\n",
       "        80.2056962 , 123.78300273,  96.98668213,  70.34561146,\n",
       "        62.48049257, 161.0113635 , 123.1164154 , 135.80150556,\n",
       "       117.27925833, 107.42975341, 144.94689519, 162.01460835,\n",
       "       109.11440966, 167.38655353, 132.82209682,  94.08977362,\n",
       "       119.49838887, 102.15758839,  53.90835085,  70.19181462,\n",
       "       106.82892702,  51.14736384,  63.11836249, 166.61381075,\n",
       "       125.26274691,  72.90335352,  35.01526308, 120.12264261,\n",
       "       103.91425024, 120.13071874, 140.89297408, 135.15903347,\n",
       "       131.60933907, 103.80925399, 169.85799503,  42.20660405,\n",
       "        83.49210621, 143.07151617, 126.26641716, 113.98324107,\n",
       "       140.14977934,  95.97664762, 132.30367372, 136.11053838,\n",
       "        89.92611576, 177.80029669, 116.19362164,  70.57109534,\n",
       "        57.32254269, 120.52208133, 101.11243048, 106.00878918,\n",
       "       137.67144525, 137.567408  ,  62.39817538, 146.75659283,\n",
       "       143.21277633,   7.01986822,  83.16640783, 122.51941761,\n",
       "       117.32297359, 127.21753291,  87.58911273, 121.39542571,\n",
       "       148.83959914, 179.280024  ,  97.87672104, 107.98865085,\n",
       "       113.41741172,  69.87409606,  68.70717015, 119.31319351,\n",
       "       212.14789636,  47.92264145,  83.18571998,  95.70843687,\n",
       "       130.71039858, 126.21946209, 133.56386796, 150.36200744,\n",
       "       106.25799551, 103.6033467 , 110.13999293,  91.59473958,\n",
       "       140.89102268, 128.85112805, 148.81064319, 103.13362762,\n",
       "       156.21348721, 131.42447281,  71.09803274,  51.28462873,\n",
       "       128.17514703, 115.92991931, 125.16182181,  99.25275813,\n",
       "       123.51470371, 134.20687055, 128.02849672, 104.684107  ,\n",
       "        71.69299519, 145.02784981, 129.98368822,  67.37511206,\n",
       "       146.97605916, 102.89049238,  73.80132565, 148.28867741,\n",
       "       145.5919549 , 157.79662539, 137.53927108, 132.86007895,\n",
       "        85.00441355, 118.66137935, 111.5253364 ,  56.76251191,\n",
       "        60.29239624,  88.02658958, 100.12484303, 126.15278615,\n",
       "        97.74760188,  91.32794528, 173.92722356, 121.77182716,\n",
       "       134.83944456,  97.21729055, 100.55301558, 120.97749044,\n",
       "       171.36131359, 122.47034639,  68.84137303, 166.40045167,\n",
       "       111.41516767, 122.95608821, 105.42667594,  91.7567366 ,\n",
       "       141.24667722,  28.94092098, 128.91859156, 128.89386559,\n",
       "        48.57484001, 140.08266903,  58.8439691 , 141.63960622,\n",
       "        74.046467  , 130.63828053, 139.45265682,  93.45231016,\n",
       "        43.43344544, 149.18692939, 128.41527321, 151.22979151,\n",
       "       139.8979216 , 116.22607929,  99.07905373,  87.84871329,\n",
       "       166.21183122, 148.79437345,  79.89556608, 105.65500074,\n",
       "       119.1882585 , 100.89165903,  96.13048091,  87.29839403,\n",
       "        76.94355992, 126.60105166, 116.35872712, 142.94210251,\n",
       "       139.32532032, 133.73026568,  99.24546884, 149.92348324,\n",
       "        90.33502377, 112.7258668 ,  58.78960645, 106.47984846,\n",
       "        82.2033934 , 177.00369286, 125.94931169, 128.01899634,\n",
       "        95.53570838,  76.48539542, 116.35821567,  40.64224126,\n",
       "       119.56818041, 113.43436147, 119.64597803, 113.61170608,\n",
       "       105.85048863, 141.54181206, 100.08736432, 103.82399257,\n",
       "       144.3198495 , 169.00575189,  60.94049203, 116.62682954,\n",
       "       133.13070608, 106.62890744, 107.7259942 , 120.4052415 ,\n",
       "       119.5961057 ,  99.20674332, 117.93542777,  60.89749122,\n",
       "       101.25871559,  99.05285594, 104.6007155 ,  60.31898393,\n",
       "        89.99220973, 117.75234467, 114.5317843 , 113.81502405,\n",
       "        83.19625489, 101.71562639, 102.78097865,  88.94322118,\n",
       "        74.58734435,  91.25147755,  71.0861922 ,  88.70655435,\n",
       "        58.67864153,  68.4672909 , 105.16759038, 139.85890573,\n",
       "       121.41793226,  70.41179421, 125.16555512, 103.68805373,\n",
       "       197.40442776, 148.69863419, 107.48548752, 133.15002872,\n",
       "        61.8456608 , 123.93678252, 170.64633058, 135.19149301,\n",
       "        92.13736503, 113.45214437, 167.62910149,  85.56293443,\n",
       "       130.97467036, 130.01427024, 116.77788002, 111.47302316,\n",
       "       132.07376863, 104.47443155,  66.1519085 , 114.01315329,\n",
       "       124.98158391, 128.39873461,  61.68352081, 198.57286823,\n",
       "        83.47344605,  63.76008945, 102.99646418, 123.04838102,\n",
       "        57.44472926,  90.19183187,  92.89028094, 106.37108784,\n",
       "        99.31041871, 101.39909322, 172.96935366, 107.38235285,\n",
       "       125.14111302, 145.8172012 , 158.22226465,  90.57251379,\n",
       "       139.30395648,  89.08569922, 129.86355382,  60.17398594,\n",
       "       113.26993298,  92.13262343, 175.62372821, 138.83883838,\n",
       "        77.35334787,  52.08969662, 117.51023964, 106.46562867,\n",
       "        74.88540703, 121.69278008,  73.45864029,  25.65312214,\n",
       "        82.44845226,  68.37016595,  79.68094583, 138.47282511,\n",
       "       118.76965841,  79.10873072, 111.53046006, 157.48409046,\n",
       "        64.84366292,  99.38245658, 168.08158638, 140.08823778,\n",
       "       171.17560046,  91.03546915,  95.87961145, 179.45613213,\n",
       "        57.22091221, 125.26182488, 123.39565506, 134.58611504,\n",
       "       103.80690477, 119.28065341, 141.54617455,  74.62157104,\n",
       "       173.30913674,  83.40601009, 126.02783439,  78.33346571,\n",
       "       166.44589636, 153.89002616, 137.89068303,  73.46409159,\n",
       "        79.72552403, 119.27297415, 144.39289119,  73.06332681,\n",
       "       149.78428554, 127.64521174,  95.13547925, 133.32441798,\n",
       "       145.78435147, 153.56132788, 182.14476104, 131.25421206,\n",
       "       107.4803753 ,  50.68207584,  93.68128945, 108.6175578 ,\n",
       "       110.22301875,  88.52326614, 121.55628819, 138.43329754,\n",
       "        80.40789258, 125.26135948, 160.92770867,  94.92120704,\n",
       "       162.5982655 , 129.77133285, 126.77163527, 155.68801397,\n",
       "        95.54124645,  89.43426354, 105.77131609,  87.63955113,\n",
       "       115.47781165,  77.06029205, 117.04741219, 119.92096189,\n",
       "       128.81011902, 187.60837079, 110.87511684, 140.37988023,\n",
       "        54.60251197, 125.72835684,  80.66685998, 177.95566594,\n",
       "       106.00628683, 195.93547785, 158.6882381 ,  45.36551247,\n",
       "        81.84395124, 131.48456549,  86.89864667,  95.41857996,\n",
       "       117.1796264 ,  64.22676922, 113.60492603, 125.48506393,\n",
       "        82.09710766, 129.68965257, 111.42415656,  76.25220396,\n",
       "        87.01130035, 127.19463278, 122.50585286,  76.971669  ,\n",
       "        78.63237859, 172.00697585, 114.13993867, 157.47433262,\n",
       "        99.23027158,  95.38659359,  83.29496939, 107.20259453,\n",
       "        93.76458702, 115.62578015, 162.83215794, 132.516633  ,\n",
       "       170.70874465, 158.05340011, 189.53812155,  63.24689753,\n",
       "       110.45842929, 148.55942214,  78.2792572 , 120.31189902,\n",
       "        92.61645083, 114.15783441,  97.58132138, 150.97229262,\n",
       "       121.7195221 ,  78.96868586,  56.68368476,  76.70208487,\n",
       "       138.61196002, 135.67441492,  96.86591358, 153.89027321,\n",
       "        76.75361245, 132.13189565, 109.09639666, 124.38123739,\n",
       "       132.05579454, 110.09095756, 190.12084912, 131.25317694,\n",
       "        55.94247914,  71.47327313,  83.76122242,  88.5523459 ,\n",
       "        92.3499216 , 114.23311785,  89.36204002,  94.6886522 ,\n",
       "       117.91581254, 134.14821914,  71.53505645,  91.27339635,\n",
       "       118.3257353 , 139.6484033 ,  82.47304421,  73.09130379,\n",
       "       124.79547221,  67.8004916 , 100.92037335,  68.85934178,\n",
       "       143.87243486, 174.53258938, 122.89555658,  96.56116728,\n",
       "       112.00594108,  74.77237569,  95.62071055,  73.24920317,\n",
       "       142.68847986,  47.0067963 ,  41.8760208 , 107.22480876,\n",
       "       102.32667297,  75.51168233,  77.74358376, 120.80396986,\n",
       "        58.75503126, 164.44554287, 126.18991992, 148.87914338,\n",
       "       139.52193452, 171.75458984, 128.68529398, 151.51231893,\n",
       "       100.20435339, 123.40096061,  86.89085154,  90.0812311 ,\n",
       "       126.58361957,  92.29372075, 118.79777721,  75.6217111 ,\n",
       "       134.41676224, 207.39979391, 120.68624924, 137.42398605,\n",
       "        42.49739708, 179.09113276, 146.4971676 , 109.94379642,\n",
       "        71.86989277,  96.30825288, 134.72793022, 158.71113068,\n",
       "       162.09826509, 136.24043098, 123.07666563,  92.07833838,\n",
       "        72.28857579, 133.40635634, 120.019376  , 125.62200879,\n",
       "        76.19963859, 160.52691445, 101.17974357,  71.94664061,\n",
       "        50.58886446, 106.10572357, 136.15588263, 155.25348652,\n",
       "       124.99942578, 137.07970777, 145.70491897, 116.980436  ,\n",
       "        87.4640082 , 118.42723784, 162.89545413, 127.25176367,\n",
       "       116.50006617,  74.47614028, 107.08955205, 147.31288456,\n",
       "       145.90715619,  87.87315083, 147.37784704,  49.09071096,\n",
       "        72.5160839 , 158.93713661,  50.73880833,  90.65831799,\n",
       "        92.39422293, 121.56998394,  87.43250782, 135.47825111,\n",
       "        91.3393725 , 128.83204392,  91.20920641,  80.43592181,\n",
       "       113.1584855 ,  82.11229474,  37.70254778, 121.62492317,\n",
       "       100.96013961, 108.00079924,  89.23529462, 150.25645896,\n",
       "        93.29797264,  49.76922112, 102.89580009, 140.29820117,\n",
       "       101.72244427,  89.64914805, 165.34053381,  93.46537031,\n",
       "       135.18474259,  58.96617092, 111.74751098,  99.32532532,\n",
       "       168.69235535, 152.48458482, 134.02731664, 111.85081133,\n",
       "       114.66029422,  83.11505431, 107.86296003,  97.20975883,\n",
       "        94.81563238, 126.520743  ,  64.165384  , 104.50188085,\n",
       "        83.82001053, 158.73010317,  67.37229738, 135.00158415,\n",
       "       107.13557628, 111.2614512 ,  85.33740248, 156.35188448,\n",
       "        95.472345  , 122.07032043,  49.70722364, 150.77249658,\n",
       "       141.53466483, 139.39522431, 114.57032683, 139.5479461 ,\n",
       "       124.81947788, 106.23497714,  78.8028326 ,  97.89973101,\n",
       "        84.0132123 ,  91.80492182,  97.75633904,  67.0699788 ,\n",
       "        89.77234882, 163.19200242,  85.22494374, 111.5694321 ,\n",
       "        43.71932525, 126.21818233,  37.91186778,  58.86289611,\n",
       "        96.95801862, 104.64943837, 122.53384573,  47.99673444,\n",
       "       167.32010107, 175.14980428, 136.30340016,  67.93438008,\n",
       "       191.97102457, 104.24030049, 166.19612361, 144.71836097,\n",
       "       136.45800467,  99.35138535,  50.21982518, 107.43286745,\n",
       "       160.32114162, 134.93787782,  97.79588387,  37.6767943 ,\n",
       "       110.54329127,  76.46824653,  72.75735644, 112.32974039,\n",
       "       149.22889025, 192.38965937,  82.62078518,  71.5241056 ,\n",
       "        68.89398626,  87.37778505, 147.9796083 , 162.62724644,\n",
       "        96.37735381, 138.70676732, 103.98127183,  51.74529989,\n",
       "       168.0770753 ,  74.07573461, 132.47049839, 134.40703247,\n",
       "        98.97391857,  56.79434621, 122.62199782, 151.95637998,\n",
       "        79.87848523,  36.92092853,  88.81025073, 155.72481475,\n",
       "       119.94137958, 105.96812517,  24.63372579, 123.40314637,\n",
       "       114.23856961,  47.23643377,  64.06796713, 115.17238101,\n",
       "       113.82992976, 145.15374261, 143.63854515, 136.14870742,\n",
       "       107.19205463, 107.33011636,  93.48508804, 122.67669057,\n",
       "        79.17416643,  46.10498337, 131.09636058, 115.12426995,\n",
       "        95.58062293, 104.91561284, 148.04036368,  91.22533063,\n",
       "       142.76512406, 146.31006093, 113.55808557, 123.21304906,\n",
       "       160.73666415,  78.30593581,  45.99727993,  69.09832246,\n",
       "       178.72711579,  83.0663738 ,  83.10457407, 148.50792979,\n",
       "       103.01572007, 110.93177085,  76.74871579, 166.43142801,\n",
       "        74.10622033, 101.20883407,  98.90588799, 107.53078482,\n",
       "        54.28545952,  96.82515982,  97.04270231,  74.0745519 ,\n",
       "       161.0164476 ,  75.17562674, 138.34240151, 100.50983441,\n",
       "        95.69010394,  59.46962377,  39.73261847, 127.20249868,\n",
       "       152.39151699, 107.49103703, 114.19933565, 116.7517236 ,\n",
       "       141.59977506,  90.30935383,  44.76581606, 107.97282743,\n",
       "       126.15899587, 101.32933726,  55.96513135, 117.76911801,\n",
       "       162.46486926, 174.15385503, 120.84752254,  73.74414163,\n",
       "       138.36160802, 105.40856489,  56.5580816 , 123.6696061 ,\n",
       "        91.80781327, 129.06533799, 152.22164006,  61.60754081,\n",
       "        80.51777139, 121.36602529,  81.3275137 ,  94.58423064,\n",
       "       140.26944121, 135.27498545,  81.79352634,  80.53767107,\n",
       "       172.7274717 , 129.05185462, 156.02809798,  94.18625204,\n",
       "        81.13173562, 162.93807667, 123.35187929, 107.04098505,\n",
       "       127.92335591, 123.3729284 , 109.76621639, 157.48398489,\n",
       "        98.48629798, 163.2323413 ,  79.94849288, 119.55983453,\n",
       "       169.26463726, 117.95135367, 138.6772972 , 152.81301678,\n",
       "        83.81140985,  70.11145571,  90.2591229 ,  84.80435293,\n",
       "        95.97671739, 138.13041361,  67.29585203,  54.00476896,\n",
       "        78.0100141 ,  95.79041585, 123.94546347, 116.65173741,\n",
       "        70.39162283, 108.52911576, 171.78992496,  87.32026599,\n",
       "       104.07761393,  87.85775819,  98.74492631, 131.93355002,\n",
       "       119.02247775, 133.92009574,  97.30961793, 101.25371952,\n",
       "       144.21793775,  76.61457954,  88.79508452, 158.00042026,\n",
       "       129.35328009,  87.56909775, 100.88469226,  18.68683787,\n",
       "       154.47113401, 143.59336497,  32.19896572,  44.48928841,\n",
       "       140.14556295,  99.1231575 , 136.49858695,  93.28276492,\n",
       "        81.07164414, 115.35024918, 133.49585413,  91.31500317,\n",
       "       100.28091265,  60.65817123, 123.38721096, 105.86795522,\n",
       "        87.75741646,  96.40942599, 166.32141002,  64.70359188,\n",
       "       115.56666698, 128.35909223,  81.80758126, 140.88449675,\n",
       "       124.7483456 ,  70.57658842,  91.59628587, 153.72734655,\n",
       "        81.67379305, 144.35130488, 102.07145357,  96.97264424,\n",
       "       115.58134094, 117.04874003, 130.11642146, 156.18296858,\n",
       "        81.39168156, 138.63251847, 106.85464803, 127.05199232,\n",
       "       104.61990689,  82.96291717, 144.76685958, 206.69035061,\n",
       "       109.08536961, 149.81505926, 111.30125179, 140.23149907,\n",
       "       107.20014569, 145.83114293, 149.5840799 ,  80.37975706,\n",
       "       124.58046829,  47.03833937,  94.76568892, 156.00475999,\n",
       "       140.86254278,  94.71316861,  95.8291733 , 185.23991327,\n",
       "        73.68092911, 110.22889606,  94.95397677, 107.06663886,\n",
       "       104.94974785, 106.79637888, 170.96533456, 141.1435638 ,\n",
       "       107.02215567,  90.56889104, 111.48812484,  94.15947005,\n",
       "       134.22446524, 126.92010864, 101.65672857, 132.39187812,\n",
       "        54.95463637, 133.31375122,  70.02992642,  91.60867555,\n",
       "       102.17167164,   9.90754415,  75.45020677, 103.46358397,\n",
       "        77.19188555, 102.37323165,  85.18039696,  57.43270124,\n",
       "       125.03357783,  91.54176203,  61.38554943,  50.38020293,\n",
       "       132.31835466, 127.1291279 , 101.52079929, 104.21547742,\n",
       "       159.4146281 , 108.03797821, 119.29729041,  47.10883183])"
      ]
     },
     "execution_count": 23,
     "metadata": {},
     "output_type": "execute_result"
    }
   ],
   "source": [
    "np.random.normal(mu[1], sigma[1], 1000)"
   ]
  }
 ],
 "metadata": {
  "colab": {
   "collapsed_sections": [],
   "name": "Python Bayesian Tutorial.ipynb",
   "provenance": [],
   "version": "0.3.2"
  },
  "kernelspec": {
   "display_name": "Python 3",
   "language": "python",
   "name": "python3"
  },
  "language_info": {
   "codemirror_mode": {
    "name": "ipython",
    "version": 3
   },
   "file_extension": ".py",
   "mimetype": "text/x-python",
   "name": "python",
   "nbconvert_exporter": "python",
   "pygments_lexer": "ipython3",
   "version": "3.6.3"
  }
 },
 "nbformat": 4,
 "nbformat_minor": 1
}
