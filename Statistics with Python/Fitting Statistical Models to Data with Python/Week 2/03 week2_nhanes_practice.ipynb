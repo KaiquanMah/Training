{
 "cells": [
  {
   "cell_type": "markdown",
   "metadata": {},
   "source": [
    "# Practice notebook for regression analysis with NHANES\n",
    "\n",
    "This notebook will give you the opportunity to perform some\n",
    "regression analyses with the NHANES data that are similar to\n",
    "the analyses done in the week 2 case study notebook.\n",
    "\n",
    "You can enter your code into the cells that say \"enter your code here\",\n",
    "and you can type responses to the questions into the cells that say \"Type Markdown and Latex\".\n",
    "\n",
    "Note that most of the code that you will need to write below is very similar\n",
    "to code that appears in the case study notebook.  You will need\n",
    "to edit code from that notebook in small ways to adapt it to the\n",
    "prompts below.\n",
    "\n",
    "To get started, we will use the same module imports and\n",
    "read the data in the same way as we did in the case study:"
   ]
  },
  {
   "cell_type": "code",
   "execution_count": 1,
   "metadata": {},
   "outputs": [],
   "source": [
    "%matplotlib inline\n",
    "import matplotlib.pyplot as plt\n",
    "import seaborn as sns\n",
    "import pandas as pd\n",
    "import statsmodels.api as sm\n",
    "import numpy as np\n"
   ]
  },
  {
   "cell_type": "code",
   "execution_count": 2,
   "metadata": {},
   "outputs": [],
   "source": [
    "url = \"https://raw.githubusercontent.com/kshedden/statswpy/master/NHANES/merged/nhanes_2015_2016.csv\"\n",
    "df = pd.read_csv(url)\n",
    "\n",
    "# Drop unused columns, drop rows with any missing values.\n",
    "# add ALQ110 for qn 7\n",
    "vars = [\"BPXSY1\", \"RIDAGEYR\", \"RIAGENDR\", \"RIDRETH1\", \"DMDEDUC2\", \"BMXBMI\", \"SMQ020\", \"ALQ110\"]\n",
    "df = df[vars].dropna()\n"
   ]
  },
  {
   "cell_type": "markdown",
   "metadata": {},
   "source": [
    "## Question 1:\n",
    "\n",
    "Use linear regression to relate the expected body mass index (BMI) to a person's age."
   ]
  },
  {
   "cell_type": "code",
   "execution_count": 3,
   "metadata": {},
   "outputs": [
    {
     "data": {
      "text/html": [
       "<table class=\"simpletable\">\n",
       "<caption>OLS Regression Results</caption>\n",
       "<tr>\n",
       "  <th>Dep. Variable:</th>         <td>BMXBMI</td>      <th>  R-squared:         </th> <td>   0.002</td> \n",
       "</tr>\n",
       "<tr>\n",
       "  <th>Model:</th>                   <td>OLS</td>       <th>  Adj. R-squared:    </th> <td>   0.001</td> \n",
       "</tr>\n",
       "<tr>\n",
       "  <th>Method:</th>             <td>Least Squares</td>  <th>  F-statistic:       </th> <td>   2.280</td> \n",
       "</tr>\n",
       "<tr>\n",
       "  <th>Date:</th>             <td>Sun, 02 Jan 2022</td> <th>  Prob (F-statistic):</th>  <td> 0.131</td>  \n",
       "</tr>\n",
       "<tr>\n",
       "  <th>Time:</th>                 <td>02:41:05</td>     <th>  Log-Likelihood:    </th> <td> -5033.1</td> \n",
       "</tr>\n",
       "<tr>\n",
       "  <th>No. Observations:</th>      <td>  1473</td>      <th>  AIC:               </th> <td>1.007e+04</td>\n",
       "</tr>\n",
       "<tr>\n",
       "  <th>Df Residuals:</th>          <td>  1471</td>      <th>  BIC:               </th> <td>1.008e+04</td>\n",
       "</tr>\n",
       "<tr>\n",
       "  <th>Df Model:</th>              <td>     1</td>      <th>                     </th>     <td> </td>    \n",
       "</tr>\n",
       "<tr>\n",
       "  <th>Covariance Type:</th>      <td>nonrobust</td>    <th>                     </th>     <td> </td>    \n",
       "</tr>\n",
       "</table>\n",
       "<table class=\"simpletable\">\n",
       "<tr>\n",
       "      <td></td>         <th>coef</th>     <th>std err</th>      <th>t</th>      <th>P>|t|</th>  <th>[0.025</th>    <th>0.975]</th>  \n",
       "</tr>\n",
       "<tr>\n",
       "  <th>Intercept</th> <td>   29.1093</td> <td>    0.596</td> <td>   48.871</td> <td> 0.000</td> <td>   27.941</td> <td>   30.278</td>\n",
       "</tr>\n",
       "<tr>\n",
       "  <th>RIDAGEYR</th>  <td>    0.0161</td> <td>    0.011</td> <td>    1.510</td> <td> 0.131</td> <td>   -0.005</td> <td>    0.037</td>\n",
       "</tr>\n",
       "</table>\n",
       "<table class=\"simpletable\">\n",
       "<tr>\n",
       "  <th>Omnibus:</th>       <td>263.915</td> <th>  Durbin-Watson:     </th> <td>   2.016</td> \n",
       "</tr>\n",
       "<tr>\n",
       "  <th>Prob(Omnibus):</th> <td> 0.000</td>  <th>  Jarque-Bera (JB):  </th> <td> 495.303</td> \n",
       "</tr>\n",
       "<tr>\n",
       "  <th>Skew:</th>          <td> 1.083</td>  <th>  Prob(JB):          </th> <td>2.79e-108</td>\n",
       "</tr>\n",
       "<tr>\n",
       "  <th>Kurtosis:</th>      <td> 4.838</td>  <th>  Cond. No.          </th> <td>    173.</td> \n",
       "</tr>\n",
       "</table><br/><br/>Warnings:<br/>[1] Standard Errors assume that the covariance matrix of the errors is correctly specified."
      ],
      "text/plain": [
       "<class 'statsmodels.iolib.summary.Summary'>\n",
       "\"\"\"\n",
       "                            OLS Regression Results                            \n",
       "==============================================================================\n",
       "Dep. Variable:                 BMXBMI   R-squared:                       0.002\n",
       "Model:                            OLS   Adj. R-squared:                  0.001\n",
       "Method:                 Least Squares   F-statistic:                     2.280\n",
       "Date:                Sun, 02 Jan 2022   Prob (F-statistic):              0.131\n",
       "Time:                        02:41:05   Log-Likelihood:                -5033.1\n",
       "No. Observations:                1473   AIC:                         1.007e+04\n",
       "Df Residuals:                    1471   BIC:                         1.008e+04\n",
       "Df Model:                           1                                         \n",
       "Covariance Type:            nonrobust                                         \n",
       "==============================================================================\n",
       "                 coef    std err          t      P>|t|      [0.025      0.975]\n",
       "------------------------------------------------------------------------------\n",
       "Intercept     29.1093      0.596     48.871      0.000      27.941      30.278\n",
       "RIDAGEYR       0.0161      0.011      1.510      0.131      -0.005       0.037\n",
       "==============================================================================\n",
       "Omnibus:                      263.915   Durbin-Watson:                   2.016\n",
       "Prob(Omnibus):                  0.000   Jarque-Bera (JB):              495.303\n",
       "Skew:                           1.083   Prob(JB):                    2.79e-108\n",
       "Kurtosis:                       4.838   Cond. No.                         173.\n",
       "==============================================================================\n",
       "\n",
       "Warnings:\n",
       "[1] Standard Errors assume that the covariance matrix of the errors is correctly specified.\n",
       "\"\"\""
      ]
     },
     "execution_count": 3,
     "metadata": {},
     "output_type": "execute_result"
    }
   ],
   "source": [
    "# enter your code here\n",
    "model = sm.OLS.from_formula(\"BMXBMI ~ RIDAGEYR\", data=df)\n",
    "result = model.fit()\n",
    "result.summary()"
   ]
  },
  {
   "cell_type": "markdown",
   "metadata": {},
   "source": [
    "__Q1a.__ According to your fitted model, do older people tend to have higher or lower BMI than younger people?"
   ]
  },
  {
   "cell_type": "markdown",
   "metadata": {},
   "source": []
  },
  {
   "cell_type": "raw",
   "metadata": {},
   "source": [
    "* this seems to be a 2-sided hypothesis test\n",
    "* Null hypothesis: BMI of older people - BMI of younger people = 0\n",
    "* Alternative hypothesis: BMI of older people - BMI of younger people != 0\n",
    "\n",
    "* our estimate of the coefficient for age is 0.0091 (positive)\n"
   ]
  },
  {
   "cell_type": "markdown",
   "metadata": {},
   "source": [
    "__Q1b.__ Based your analysis, are you confident that there is a relationship between BMI and age in the population that NHANES represents?"
   ]
  },
  {
   "cell_type": "markdown",
   "metadata": {},
   "source": []
  },
  {
   "cell_type": "raw",
   "metadata": {},
   "source": [
    "* however, it is inconclusive whether older people tend to have higher BMI than younger people\n",
    "1. the p-value is 0.099, which is greater than the significance level of 0.05\n",
    "2. the 95% confidence interval (-0.002\t0.020) similarly also contains 0 as a plausible value, if the distribution under the null hypothesis is true\n"
   ]
  },
  {
   "cell_type": "markdown",
   "metadata": {},
   "source": [
    "__Q1c.__ By how much does the average BMI of a 40 year old differ from the average BMI of a 20 year old?"
   ]
  },
  {
   "cell_type": "markdown",
   "metadata": {},
   "source": []
  },
  {
   "cell_type": "code",
   "execution_count": 4,
   "metadata": {},
   "outputs": [
    {
     "data": {
      "text/plain": [
       "0.182"
      ]
     },
     "execution_count": 4,
     "metadata": {},
     "output_type": "execute_result"
    }
   ],
   "source": [
    "0.0091*(40-20)"
   ]
  },
  {
   "cell_type": "raw",
   "metadata": {},
   "source": [
    "The average BMI of a 40 year old is expected to be 0.182 kg/m2 higher than the average BMI of a 20 year old\n"
   ]
  },
  {
   "cell_type": "markdown",
   "metadata": {},
   "source": [
    "__Q1d.__ What fraction of the variation of BMI in this population is explained by age?"
   ]
  },
  {
   "cell_type": "markdown",
   "metadata": {},
   "source": []
  },
  {
   "cell_type": "raw",
   "metadata": {},
   "source": [
    "* The R2 of this simple linear regression of BMI explained by Age is 0.001, which is very low.\n",
    "* Therefore the amount of variation in age does not seem to provide a good explanation for the variation in BMI.\n"
   ]
  },
  {
   "cell_type": "markdown",
   "metadata": {},
   "source": [
    "## Question 2: \n",
    "\n",
    "Add gender and ethnicity as additional control variables to your linear model relating BMI to age.  You will need to recode the ethnic groups based\n",
    "on the values in the codebook entry for [RIDRETH1](https://wwwn.cdc.gov/Nchs/Nhanes/2015-2016/DEMO_I.htm#RIDRETH1)."
   ]
  },
  {
   "cell_type": "code",
   "execution_count": 5,
   "metadata": {},
   "outputs": [],
   "source": [
    "df[\"RIDRETH1x\"] = df.RIDRETH1.replace({1: 'Mexican American',\n",
    "                                       2: 'Other Hispanic',\n",
    "                                       3: 'Non-Hispanic White',\n",
    "                                       4: 'Non-Hispanic Black',\n",
    "                                       5: 'Other Race - Including Multi-Racial'})"
   ]
  },
  {
   "cell_type": "code",
   "execution_count": 6,
   "metadata": {},
   "outputs": [
    {
     "data": {
      "text/html": [
       "<table class=\"simpletable\">\n",
       "<caption>OLS Regression Results</caption>\n",
       "<tr>\n",
       "  <th>Dep. Variable:</th>         <td>BMXBMI</td>      <th>  R-squared:         </th> <td>   0.083</td>\n",
       "</tr>\n",
       "<tr>\n",
       "  <th>Model:</th>                   <td>OLS</td>       <th>  Adj. R-squared:    </th> <td>   0.080</td>\n",
       "</tr>\n",
       "<tr>\n",
       "  <th>Method:</th>             <td>Least Squares</td>  <th>  F-statistic:       </th> <td>   26.69</td>\n",
       "</tr>\n",
       "<tr>\n",
       "  <th>Date:</th>             <td>Sun, 02 Jan 2022</td> <th>  Prob (F-statistic):</th> <td>6.85e-26</td>\n",
       "</tr>\n",
       "<tr>\n",
       "  <th>Time:</th>                 <td>02:41:05</td>     <th>  Log-Likelihood:    </th> <td> -4970.1</td>\n",
       "</tr>\n",
       "<tr>\n",
       "  <th>No. Observations:</th>      <td>  1473</td>      <th>  AIC:               </th> <td>   9952.</td>\n",
       "</tr>\n",
       "<tr>\n",
       "  <th>Df Residuals:</th>          <td>  1467</td>      <th>  BIC:               </th> <td>   9984.</td>\n",
       "</tr>\n",
       "<tr>\n",
       "  <th>Df Model:</th>              <td>     5</td>      <th>                     </th>     <td> </td>   \n",
       "</tr>\n",
       "<tr>\n",
       "  <th>Covariance Type:</th>      <td>nonrobust</td>    <th>                     </th>     <td> </td>   \n",
       "</tr>\n",
       "</table>\n",
       "<table class=\"simpletable\">\n",
       "<tr>\n",
       "                          <td></td>                            <th>coef</th>     <th>std err</th>      <th>t</th>      <th>P>|t|</th>  <th>[0.025</th>    <th>0.975]</th>  \n",
       "</tr>\n",
       "<tr>\n",
       "  <th>Intercept</th>                                        <td>   31.3410</td> <td>    0.674</td> <td>   46.512</td> <td> 0.000</td> <td>   30.019</td> <td>   32.663</td>\n",
       "</tr>\n",
       "<tr>\n",
       "  <th>RIDRETH1x[T.Non-Hispanic Black]</th>                  <td>   -0.8604</td> <td>    0.569</td> <td>   -1.512</td> <td> 0.131</td> <td>   -1.977</td> <td>    0.256</td>\n",
       "</tr>\n",
       "<tr>\n",
       "  <th>RIDRETH1x[T.Non-Hispanic White]</th>                  <td>   -1.1333</td> <td>    0.562</td> <td>   -2.018</td> <td> 0.044</td> <td>   -2.235</td> <td>   -0.032</td>\n",
       "</tr>\n",
       "<tr>\n",
       "  <th>RIDRETH1x[T.Other Hispanic]</th>                      <td>   -1.0718</td> <td>    0.630</td> <td>   -1.702</td> <td> 0.089</td> <td>   -2.307</td> <td>    0.163</td>\n",
       "</tr>\n",
       "<tr>\n",
       "  <th>RIDRETH1x[T.Other Race - Including Multi-Racial]</th> <td>   -6.0268</td> <td>    0.587</td> <td>  -10.275</td> <td> 0.000</td> <td>   -7.177</td> <td>   -4.876</td>\n",
       "</tr>\n",
       "<tr>\n",
       "  <th>RIDAGEYR</th>                                         <td>    0.0075</td> <td>    0.010</td> <td>    0.722</td> <td> 0.470</td> <td>   -0.013</td> <td>    0.028</td>\n",
       "</tr>\n",
       "</table>\n",
       "<table class=\"simpletable\">\n",
       "<tr>\n",
       "  <th>Omnibus:</th>       <td>263.161</td> <th>  Durbin-Watson:     </th> <td>   2.032</td> \n",
       "</tr>\n",
       "<tr>\n",
       "  <th>Prob(Omnibus):</th> <td> 0.000</td>  <th>  Jarque-Bera (JB):  </th> <td> 508.929</td> \n",
       "</tr>\n",
       "<tr>\n",
       "  <th>Skew:</th>          <td> 1.065</td>  <th>  Prob(JB):          </th> <td>3.07e-111</td>\n",
       "</tr>\n",
       "<tr>\n",
       "  <th>Kurtosis:</th>      <td> 4.937</td>  <th>  Cond. No.          </th> <td>    306.</td> \n",
       "</tr>\n",
       "</table><br/><br/>Warnings:<br/>[1] Standard Errors assume that the covariance matrix of the errors is correctly specified."
      ],
      "text/plain": [
       "<class 'statsmodels.iolib.summary.Summary'>\n",
       "\"\"\"\n",
       "                            OLS Regression Results                            \n",
       "==============================================================================\n",
       "Dep. Variable:                 BMXBMI   R-squared:                       0.083\n",
       "Model:                            OLS   Adj. R-squared:                  0.080\n",
       "Method:                 Least Squares   F-statistic:                     26.69\n",
       "Date:                Sun, 02 Jan 2022   Prob (F-statistic):           6.85e-26\n",
       "Time:                        02:41:05   Log-Likelihood:                -4970.1\n",
       "No. Observations:                1473   AIC:                             9952.\n",
       "Df Residuals:                    1467   BIC:                             9984.\n",
       "Df Model:                           5                                         \n",
       "Covariance Type:            nonrobust                                         \n",
       "====================================================================================================================\n",
       "                                                       coef    std err          t      P>|t|      [0.025      0.975]\n",
       "--------------------------------------------------------------------------------------------------------------------\n",
       "Intercept                                           31.3410      0.674     46.512      0.000      30.019      32.663\n",
       "RIDRETH1x[T.Non-Hispanic Black]                     -0.8604      0.569     -1.512      0.131      -1.977       0.256\n",
       "RIDRETH1x[T.Non-Hispanic White]                     -1.1333      0.562     -2.018      0.044      -2.235      -0.032\n",
       "RIDRETH1x[T.Other Hispanic]                         -1.0718      0.630     -1.702      0.089      -2.307       0.163\n",
       "RIDRETH1x[T.Other Race - Including Multi-Racial]    -6.0268      0.587    -10.275      0.000      -7.177      -4.876\n",
       "RIDAGEYR                                             0.0075      0.010      0.722      0.470      -0.013       0.028\n",
       "==============================================================================\n",
       "Omnibus:                      263.161   Durbin-Watson:                   2.032\n",
       "Prob(Omnibus):                  0.000   Jarque-Bera (JB):              508.929\n",
       "Skew:                           1.065   Prob(JB):                    3.07e-111\n",
       "Kurtosis:                       4.937   Cond. No.                         306.\n",
       "==============================================================================\n",
       "\n",
       "Warnings:\n",
       "[1] Standard Errors assume that the covariance matrix of the errors is correctly specified.\n",
       "\"\"\""
      ]
     },
     "execution_count": 6,
     "metadata": {},
     "output_type": "execute_result"
    }
   ],
   "source": [
    "# enter your code here\n",
    "model_eth = sm.OLS.from_formula(\"BMXBMI ~ RIDAGEYR + RIDRETH1x\", data = df)\n",
    "results_eth = model_eth.fit()\n",
    "results_eth.summary()"
   ]
  },
  {
   "cell_type": "markdown",
   "metadata": {},
   "source": [
    "__Q2a.__ How did the mean relationship between BMI and age change when you added additional covariates to the model?"
   ]
  },
  {
   "cell_type": "markdown",
   "metadata": {},
   "source": []
  },
  {
   "cell_type": "raw",
   "metadata": {},
   "source": [
    "* The estimated coefficient for Age decreased from 0.0091 (in the simple linear regression) to 0.0059 (in the current multiple linear regression)\n",
    "* Therefore Age is contributing less of an effect when we added additional covariates to the model\n"
   ]
  },
  {
   "cell_type": "markdown",
   "metadata": {},
   "source": [
    "__Q2b.__ How did the standard error for the regression parameter for age change when you added additional covariates to the model?"
   ]
  },
  {
   "cell_type": "markdown",
   "metadata": {},
   "source": []
  },
  {
   "cell_type": "raw",
   "metadata": {},
   "source": [
    "* The standard error for Age decreased from 0.006 (in the simple linear regression) to 0.005 (in the current multiple linear regression)\n"
   ]
  },
  {
   "cell_type": "markdown",
   "metadata": {},
   "source": [
    "__Q2c.__ How much additional variation in BMI is explained by age~~, gender,~~ and ethnicity that is not explained by age alone?"
   ]
  },
  {
   "cell_type": "markdown",
   "metadata": {},
   "source": []
  },
  {
   "cell_type": "raw",
   "metadata": {},
   "source": [
    "* The R2 in the simple linear regression of BMI against age was 0.001\n",
    "* The R2 in the multiple linear regression of BMI against age and ethnicity dummy variables was 0.049\n",
    "* Therefore there was an increase in 0.048 of variation in BMI being explained by the additional ethnicity dummy variables\n"
   ]
  },
  {
   "cell_type": "markdown",
   "metadata": {},
   "source": [
    "__Q2d.__ What reference level did the software select for the ethnicity variable?"
   ]
  },
  {
   "cell_type": "markdown",
   "metadata": {},
   "source": []
  },
  {
   "cell_type": "raw",
   "metadata": {},
   "source": [
    "* Jupyter selected the reference level for the recoded ethnicity variable in text format - 'RIDRETH1x' - to be 'Mexican American'\n"
   ]
  },
  {
   "cell_type": "markdown",
   "metadata": {},
   "source": [
    "__Q2e.__ What is the expected difference between the BMI of a 40 year-old non-Hispanic black man and a 30 year-old non-Hispanic black man?"
   ]
  },
  {
   "cell_type": "markdown",
   "metadata": {},
   "source": []
  },
  {
   "cell_type": "code",
   "execution_count": 7,
   "metadata": {},
   "outputs": [
    {
     "data": {
      "text/plain": [
       "0.059"
      ]
     },
     "execution_count": 7,
     "metadata": {},
     "output_type": "execute_result"
    }
   ],
   "source": [
    "0.0059 * 10"
   ]
  },
  {
   "cell_type": "raw",
   "metadata": {},
   "source": [
    "* The difference between a 40 year-old non-Hispanic black man and a 30 year-old non-Hispanic black man is the additional age of 10 years\n",
    "* So based on the difference in 10 years of age, the 40 year-old would on average have 0.059kg/m^2 higher BMI as compared to the 30 year-old\n"
   ]
  },
  {
   "cell_type": "markdown",
   "metadata": {},
   "source": [
    "__Q2f.__ What is the expected difference between the BMI of a 50 year-old Mexican American woman and a 50 year-old non-Hispanic black man?"
   ]
  },
  {
   "cell_type": "code",
   "execution_count": 8,
   "metadata": {},
   "outputs": [],
   "source": [
    "# recode Females from 2 to 0\n",
    "df[\"RIAGENDR\"] = df.RIAGENDR.replace({2: 0})"
   ]
  },
  {
   "cell_type": "code",
   "execution_count": 9,
   "metadata": {},
   "outputs": [
    {
     "data": {
      "text/html": [
       "<table class=\"simpletable\">\n",
       "<caption>OLS Regression Results</caption>\n",
       "<tr>\n",
       "  <th>Dep. Variable:</th>         <td>BMXBMI</td>      <th>  R-squared:         </th> <td>   0.089</td>\n",
       "</tr>\n",
       "<tr>\n",
       "  <th>Model:</th>                   <td>OLS</td>       <th>  Adj. R-squared:    </th> <td>   0.085</td>\n",
       "</tr>\n",
       "<tr>\n",
       "  <th>Method:</th>             <td>Least Squares</td>  <th>  F-statistic:       </th> <td>   23.80</td>\n",
       "</tr>\n",
       "<tr>\n",
       "  <th>Date:</th>             <td>Sun, 02 Jan 2022</td> <th>  Prob (F-statistic):</th> <td>5.55e-27</td>\n",
       "</tr>\n",
       "<tr>\n",
       "  <th>Time:</th>                 <td>02:41:05</td>     <th>  Log-Likelihood:    </th> <td> -4965.8</td>\n",
       "</tr>\n",
       "<tr>\n",
       "  <th>No. Observations:</th>      <td>  1473</td>      <th>  AIC:               </th> <td>   9946.</td>\n",
       "</tr>\n",
       "<tr>\n",
       "  <th>Df Residuals:</th>          <td>  1466</td>      <th>  BIC:               </th> <td>   9983.</td>\n",
       "</tr>\n",
       "<tr>\n",
       "  <th>Df Model:</th>              <td>     6</td>      <th>                     </th>     <td> </td>   \n",
       "</tr>\n",
       "<tr>\n",
       "  <th>Covariance Type:</th>      <td>nonrobust</td>    <th>                     </th>     <td> </td>   \n",
       "</tr>\n",
       "</table>\n",
       "<table class=\"simpletable\">\n",
       "<tr>\n",
       "                          <td></td>                            <th>coef</th>     <th>std err</th>      <th>t</th>      <th>P>|t|</th>  <th>[0.025</th>    <th>0.975]</th>  \n",
       "</tr>\n",
       "<tr>\n",
       "  <th>Intercept</th>                                        <td>   31.6846</td> <td>    0.682</td> <td>   46.453</td> <td> 0.000</td> <td>   30.347</td> <td>   33.023</td>\n",
       "</tr>\n",
       "<tr>\n",
       "  <th>RIDRETH1x[T.Non-Hispanic Black]</th>                  <td>   -0.7502</td> <td>    0.569</td> <td>   -1.319</td> <td> 0.187</td> <td>   -1.866</td> <td>    0.366</td>\n",
       "</tr>\n",
       "<tr>\n",
       "  <th>RIDRETH1x[T.Non-Hispanic White]</th>                  <td>   -0.9866</td> <td>    0.562</td> <td>   -1.755</td> <td> 0.080</td> <td>   -2.090</td> <td>    0.116</td>\n",
       "</tr>\n",
       "<tr>\n",
       "  <th>RIDRETH1x[T.Other Hispanic]</th>                      <td>   -1.0388</td> <td>    0.628</td> <td>   -1.654</td> <td> 0.098</td> <td>   -2.271</td> <td>    0.193</td>\n",
       "</tr>\n",
       "<tr>\n",
       "  <th>RIDRETH1x[T.Other Race - Including Multi-Racial]</th> <td>   -5.8381</td> <td>    0.588</td> <td>   -9.920</td> <td> 0.000</td> <td>   -6.992</td> <td>   -4.684</td>\n",
       "</tr>\n",
       "<tr>\n",
       "  <th>RIDAGEYR</th>                                         <td>    0.0058</td> <td>    0.010</td> <td>    0.560</td> <td> 0.576</td> <td>   -0.015</td> <td>    0.026</td>\n",
       "</tr>\n",
       "<tr>\n",
       "  <th>RIAGENDR</th>                                         <td>   -1.2017</td> <td>    0.407</td> <td>   -2.949</td> <td> 0.003</td> <td>   -2.001</td> <td>   -0.402</td>\n",
       "</tr>\n",
       "</table>\n",
       "<table class=\"simpletable\">\n",
       "<tr>\n",
       "  <th>Omnibus:</th>       <td>256.385</td> <th>  Durbin-Watson:     </th> <td>   2.032</td> \n",
       "</tr>\n",
       "<tr>\n",
       "  <th>Prob(Omnibus):</th> <td> 0.000</td>  <th>  Jarque-Bera (JB):  </th> <td> 491.828</td> \n",
       "</tr>\n",
       "<tr>\n",
       "  <th>Skew:</th>          <td> 1.044</td>  <th>  Prob(JB):          </th> <td>1.59e-107</td>\n",
       "</tr>\n",
       "<tr>\n",
       "  <th>Kurtosis:</th>      <td> 4.912</td>  <th>  Cond. No.          </th> <td>    306.</td> \n",
       "</tr>\n",
       "</table><br/><br/>Warnings:<br/>[1] Standard Errors assume that the covariance matrix of the errors is correctly specified."
      ],
      "text/plain": [
       "<class 'statsmodels.iolib.summary.Summary'>\n",
       "\"\"\"\n",
       "                            OLS Regression Results                            \n",
       "==============================================================================\n",
       "Dep. Variable:                 BMXBMI   R-squared:                       0.089\n",
       "Model:                            OLS   Adj. R-squared:                  0.085\n",
       "Method:                 Least Squares   F-statistic:                     23.80\n",
       "Date:                Sun, 02 Jan 2022   Prob (F-statistic):           5.55e-27\n",
       "Time:                        02:41:05   Log-Likelihood:                -4965.8\n",
       "No. Observations:                1473   AIC:                             9946.\n",
       "Df Residuals:                    1466   BIC:                             9983.\n",
       "Df Model:                           6                                         \n",
       "Covariance Type:            nonrobust                                         \n",
       "====================================================================================================================\n",
       "                                                       coef    std err          t      P>|t|      [0.025      0.975]\n",
       "--------------------------------------------------------------------------------------------------------------------\n",
       "Intercept                                           31.6846      0.682     46.453      0.000      30.347      33.023\n",
       "RIDRETH1x[T.Non-Hispanic Black]                     -0.7502      0.569     -1.319      0.187      -1.866       0.366\n",
       "RIDRETH1x[T.Non-Hispanic White]                     -0.9866      0.562     -1.755      0.080      -2.090       0.116\n",
       "RIDRETH1x[T.Other Hispanic]                         -1.0388      0.628     -1.654      0.098      -2.271       0.193\n",
       "RIDRETH1x[T.Other Race - Including Multi-Racial]    -5.8381      0.588     -9.920      0.000      -6.992      -4.684\n",
       "RIDAGEYR                                             0.0058      0.010      0.560      0.576      -0.015       0.026\n",
       "RIAGENDR                                            -1.2017      0.407     -2.949      0.003      -2.001      -0.402\n",
       "==============================================================================\n",
       "Omnibus:                      256.385   Durbin-Watson:                   2.032\n",
       "Prob(Omnibus):                  0.000   Jarque-Bera (JB):              491.828\n",
       "Skew:                           1.044   Prob(JB):                    1.59e-107\n",
       "Kurtosis:                       4.912   Cond. No.                         306.\n",
       "==============================================================================\n",
       "\n",
       "Warnings:\n",
       "[1] Standard Errors assume that the covariance matrix of the errors is correctly specified.\n",
       "\"\"\""
      ]
     },
     "execution_count": 9,
     "metadata": {},
     "output_type": "execute_result"
    }
   ],
   "source": [
    "model_eth = sm.OLS.from_formula(\"BMXBMI ~ RIDAGEYR + RIDRETH1x + RIAGENDR\", data = df)\n",
    "results_eth = model_eth.fit()\n",
    "results_eth.summary()"
   ]
  },
  {
   "cell_type": "code",
   "execution_count": 10,
   "metadata": {},
   "outputs": [
    {
     "data": {
      "text/plain": [
       "-1.4725"
      ]
     },
     "execution_count": 10,
     "metadata": {},
     "output_type": "execute_result"
    }
   ],
   "source": [
    "# non-Hispanic black + RIAGENDR (male) coefficients\n",
    "-0.4499 + (-1.0226)"
   ]
  },
  {
   "cell_type": "markdown",
   "metadata": {},
   "source": []
  },
  {
   "cell_type": "raw",
   "metadata": {},
   "source": [
    "* The differences between a 50 year-old Mexican American woman and a 50 year-old non-Hispanic black man include\n",
    "1. Mexican American (reference level) vs non-Hispanic black\n",
    "2. woman (reference level) vs man\n",
    "\n",
    "* The differences are additive and shows that on average, a 50 year-old Mexican American woman would have 1.4725 kg/m^2 higher BMI as compared to a 50 year-old non-Hispanic black man\n",
    "\n"
   ]
  },
  {
   "cell_type": "markdown",
   "metadata": {},
   "source": [
    "## Question 3: \n",
    "\n",
    "Randomly sample 25% of the NHANES data, then fit the same model you used in question 2 to this data set."
   ]
  },
  {
   "cell_type": "code",
   "execution_count": 11,
   "metadata": {
    "scrolled": true
   },
   "outputs": [],
   "source": [
    "# random.seed(5)\n",
    "n = df.count()\n",
    "# https://pandas.pydata.org/pandas-docs/version/0.25.0/reference/api/pandas.DataFrame.sample.html\n",
    "# df_25 = df.sample(n = n/4, random_state = 5, axis = 0)\n",
    "# https://www.geeksforgeeks.org/python-pandas-dataframe-sample/\n",
    "df_25 = df.sample(frac = 0.25, random_state = 5)\n"
   ]
  },
  {
   "cell_type": "code",
   "execution_count": 12,
   "metadata": {},
   "outputs": [
    {
     "data": {
      "text/html": [
       "<table class=\"simpletable\">\n",
       "<caption>OLS Regression Results</caption>\n",
       "<tr>\n",
       "  <th>Dep. Variable:</th>         <td>BMXBMI</td>      <th>  R-squared:         </th> <td>   0.090</td>\n",
       "</tr>\n",
       "<tr>\n",
       "  <th>Model:</th>                   <td>OLS</td>       <th>  Adj. R-squared:    </th> <td>   0.075</td>\n",
       "</tr>\n",
       "<tr>\n",
       "  <th>Method:</th>             <td>Least Squares</td>  <th>  F-statistic:       </th> <td>   5.983</td>\n",
       "</tr>\n",
       "<tr>\n",
       "  <th>Date:</th>             <td>Sun, 02 Jan 2022</td> <th>  Prob (F-statistic):</th> <td>5.60e-06</td>\n",
       "</tr>\n",
       "<tr>\n",
       "  <th>Time:</th>                 <td>02:41:05</td>     <th>  Log-Likelihood:    </th> <td> -1238.3</td>\n",
       "</tr>\n",
       "<tr>\n",
       "  <th>No. Observations:</th>      <td>   368</td>      <th>  AIC:               </th> <td>   2491.</td>\n",
       "</tr>\n",
       "<tr>\n",
       "  <th>Df Residuals:</th>          <td>   361</td>      <th>  BIC:               </th> <td>   2518.</td>\n",
       "</tr>\n",
       "<tr>\n",
       "  <th>Df Model:</th>              <td>     6</td>      <th>                     </th>     <td> </td>   \n",
       "</tr>\n",
       "<tr>\n",
       "  <th>Covariance Type:</th>      <td>nonrobust</td>    <th>                     </th>     <td> </td>   \n",
       "</tr>\n",
       "</table>\n",
       "<table class=\"simpletable\">\n",
       "<tr>\n",
       "                          <td></td>                            <th>coef</th>     <th>std err</th>      <th>t</th>      <th>P>|t|</th>  <th>[0.025</th>    <th>0.975]</th>  \n",
       "</tr>\n",
       "<tr>\n",
       "  <th>Intercept</th>                                        <td>   33.1067</td> <td>    1.338</td> <td>   24.746</td> <td> 0.000</td> <td>   30.476</td> <td>   35.738</td>\n",
       "</tr>\n",
       "<tr>\n",
       "  <th>RIDRETH1x[T.Non-Hispanic Black]</th>                  <td>   -1.5427</td> <td>    1.133</td> <td>   -1.361</td> <td> 0.174</td> <td>   -3.771</td> <td>    0.686</td>\n",
       "</tr>\n",
       "<tr>\n",
       "  <th>RIDRETH1x[T.Non-Hispanic White]</th>                  <td>   -2.4338</td> <td>    1.198</td> <td>   -2.032</td> <td> 0.043</td> <td>   -4.790</td> <td>   -0.078</td>\n",
       "</tr>\n",
       "<tr>\n",
       "  <th>RIDRETH1x[T.Other Hispanic]</th>                      <td>   -1.0340</td> <td>    1.265</td> <td>   -0.817</td> <td> 0.414</td> <td>   -3.522</td> <td>    1.454</td>\n",
       "</tr>\n",
       "<tr>\n",
       "  <th>RIDRETH1x[T.Other Race - Including Multi-Racial]</th> <td>   -5.6470</td> <td>    1.196</td> <td>   -4.721</td> <td> 0.000</td> <td>   -7.999</td> <td>   -3.295</td>\n",
       "</tr>\n",
       "<tr>\n",
       "  <th>RIDAGEYR</th>                                         <td>   -0.0209</td> <td>    0.021</td> <td>   -1.004</td> <td> 0.316</td> <td>   -0.062</td> <td>    0.020</td>\n",
       "</tr>\n",
       "<tr>\n",
       "  <th>RIAGENDR</th>                                         <td>   -1.6982</td> <td>    0.822</td> <td>   -2.065</td> <td> 0.040</td> <td>   -3.316</td> <td>   -0.081</td>\n",
       "</tr>\n",
       "</table>\n",
       "<table class=\"simpletable\">\n",
       "<tr>\n",
       "  <th>Omnibus:</th>       <td>92.967</td> <th>  Durbin-Watson:     </th> <td>   1.817</td>\n",
       "</tr>\n",
       "<tr>\n",
       "  <th>Prob(Omnibus):</th> <td> 0.000</td> <th>  Jarque-Bera (JB):  </th> <td> 217.936</td>\n",
       "</tr>\n",
       "<tr>\n",
       "  <th>Skew:</th>          <td> 1.252</td> <th>  Prob(JB):          </th> <td>4.74e-48</td>\n",
       "</tr>\n",
       "<tr>\n",
       "  <th>Kurtosis:</th>      <td> 5.818</td> <th>  Cond. No.          </th> <td>    310.</td>\n",
       "</tr>\n",
       "</table><br/><br/>Warnings:<br/>[1] Standard Errors assume that the covariance matrix of the errors is correctly specified."
      ],
      "text/plain": [
       "<class 'statsmodels.iolib.summary.Summary'>\n",
       "\"\"\"\n",
       "                            OLS Regression Results                            \n",
       "==============================================================================\n",
       "Dep. Variable:                 BMXBMI   R-squared:                       0.090\n",
       "Model:                            OLS   Adj. R-squared:                  0.075\n",
       "Method:                 Least Squares   F-statistic:                     5.983\n",
       "Date:                Sun, 02 Jan 2022   Prob (F-statistic):           5.60e-06\n",
       "Time:                        02:41:05   Log-Likelihood:                -1238.3\n",
       "No. Observations:                 368   AIC:                             2491.\n",
       "Df Residuals:                     361   BIC:                             2518.\n",
       "Df Model:                           6                                         \n",
       "Covariance Type:            nonrobust                                         \n",
       "====================================================================================================================\n",
       "                                                       coef    std err          t      P>|t|      [0.025      0.975]\n",
       "--------------------------------------------------------------------------------------------------------------------\n",
       "Intercept                                           33.1067      1.338     24.746      0.000      30.476      35.738\n",
       "RIDRETH1x[T.Non-Hispanic Black]                     -1.5427      1.133     -1.361      0.174      -3.771       0.686\n",
       "RIDRETH1x[T.Non-Hispanic White]                     -2.4338      1.198     -2.032      0.043      -4.790      -0.078\n",
       "RIDRETH1x[T.Other Hispanic]                         -1.0340      1.265     -0.817      0.414      -3.522       1.454\n",
       "RIDRETH1x[T.Other Race - Including Multi-Racial]    -5.6470      1.196     -4.721      0.000      -7.999      -3.295\n",
       "RIDAGEYR                                            -0.0209      0.021     -1.004      0.316      -0.062       0.020\n",
       "RIAGENDR                                            -1.6982      0.822     -2.065      0.040      -3.316      -0.081\n",
       "==============================================================================\n",
       "Omnibus:                       92.967   Durbin-Watson:                   1.817\n",
       "Prob(Omnibus):                  0.000   Jarque-Bera (JB):              217.936\n",
       "Skew:                           1.252   Prob(JB):                     4.74e-48\n",
       "Kurtosis:                       5.818   Cond. No.                         310.\n",
       "==============================================================================\n",
       "\n",
       "Warnings:\n",
       "[1] Standard Errors assume that the covariance matrix of the errors is correctly specified.\n",
       "\"\"\""
      ]
     },
     "execution_count": 12,
     "metadata": {},
     "output_type": "execute_result"
    }
   ],
   "source": [
    "model_eth2 = sm.OLS.from_formula(\"BMXBMI ~ RIDAGEYR + RIDRETH1x + RIAGENDR\", data = df_25)\n",
    "results_eth2 = model_eth2.fit()\n",
    "results_eth2.summary()\n"
   ]
  },
  {
   "cell_type": "markdown",
   "metadata": {},
   "source": [
    "__Q3a.__ How do the estimated regression coefficients and their standard errors compare between these two models?  Do you see any systematic relationship between the two sets of results?"
   ]
  },
  {
   "cell_type": "markdown",
   "metadata": {},
   "source": []
  },
  {
   "cell_type": "raw",
   "metadata": {},
   "source": [
    "* With the 4-fold decrease in sample size (n), the standard error of our estimated regression coefficients increased by 1X of the standard error in the previous model. This is the more noticeable systematic relationship.\n",
    "* Estimated regression coefficients on the other hand changed slightly when sample size reduced by 4-fold, without a systematic pattern whether the coefficient would adjust up/down\n"
   ]
  },
  {
   "cell_type": "markdown",
   "metadata": {},
   "source": [
    "## Question 4:\n",
    "\n",
    "Generate a scatterplot of the residuals against the fitted values for the model you fit in question 2."
   ]
  },
  {
   "cell_type": "code",
   "execution_count": 13,
   "metadata": {},
   "outputs": [
    {
     "data": {
      "image/png": "[encoded data removed]",
      "text/plain": [
       "<Figure size 432x288 with 1 Axes>"
      ]
     },
     "metadata": {},
     "output_type": "display_data"
    }
   ],
   "source": [
    "# https://seaborn.pydata.org/generated/seaborn.scatterplot.html\n",
    "# https://www.statsmodels.org/dev/generated/statsmodels.regression.linear_model.OLSResults.html\n",
    "sns.scatterplot(x = results_eth.fittedvalues, y = results_eth.resid)\n",
    "plt.xlabel(\"Fitted Values\")\n",
    "plt.ylabel(\"Residuals\")\n",
    "plt.title(\"Scatterplot of Residuals against Fitted Values\")\n",
    "plt.show()"
   ]
  },
  {
   "cell_type": "markdown",
   "metadata": {},
   "source": [
    "__Q4a.__ What mean/variance relationship do you see?"
   ]
  },
  {
   "cell_type": "markdown",
   "metadata": {},
   "source": []
  },
  {
   "cell_type": "raw",
   "metadata": {},
   "source": [
    "* At lower fitted values - 26 to 29 - residuals were normally distributed and centered on 0, with a flatter right tail\n",
    "* At higher fitted values - between 29 to 32 - residuals were similarly also centered around 0, with a fatter right tail\n",
    "* This scatterplot seems to suggest that as fitted values increase, the variance between the fitted and actual values seem to increase\n",
    "* Therefore, we will need to take into account the issue of heteroscedasticity when interpreting our results\n"
   ]
  },
  {
   "cell_type": "markdown",
   "metadata": {},
   "source": [
    "## Question 5: \n",
    "\n",
    "Generate a plot showing the fitted mean BMI as a function of age for Mexican American men.  Include a 95% simultaneous confidence band on your graph."
   ]
  },
  {
   "cell_type": "code",
   "execution_count": 14,
   "metadata": {},
   "outputs": [
    {
     "name": "stderr",
     "output_type": "stream",
     "text": [
      "/opt/conda/lib/python3.6/site-packages/statsmodels/sandbox/predict_functional.py:171: ValueWarning: 'ALQ110', 'RIDRETH1', 'SMQ020', 'DMDEDUC2', 'BPXSY1' in data frame but not in summaries or values.\n",
      "  ValueWarning)\n"
     ]
    },
    {
     "data": {
      "image/png": "[encoded data removed]",
      "text/plain": [
       "<Figure size 432x288 with 1 Axes>"
      ]
     },
     "metadata": {},
     "output_type": "display_data"
    }
   ],
   "source": [
    "from statsmodels.sandbox.predict_functional import predict_functional\n",
    "values = {\"RIAGENDR\" : 1,\n",
    "          \"RIDRETH1x\" : 'Mexican American'}\n",
    "# fv = functional values\n",
    "predicted, confidenceband, fv = predict_functional(results_eth,\n",
    "                                                   \"RIDAGEYR\",\n",
    "                                                   values = values,\n",
    "                                                   ci_method = 'simultaneous')\n",
    "ax = sns.lineplot(x = fv, \n",
    "                  y = predicted, \n",
    "                  lw = 4)\n",
    "ax.fill_between(x = fv, \n",
    "                y1 = confidenceband[:,0], \n",
    "                y2 = confidenceband[:,1],\n",
    "                color = 'grey',\n",
    "                alpha = 0.4)\n",
    "plt.xlabel(\"Age\")\n",
    "plt.ylabel(\"BMI\")\n",
    "plt.title(\"BMI against Age for Mexican American Men\")\n",
    "plt.show()"
   ]
  },
  {
   "cell_type": "markdown",
   "metadata": {},
   "source": [
    "__Q5a.__ According to your graph, what is the longest interval starting at year 30 following which the mean BMI could be constant?  *Hint:* What is the longest horizontal line starting at age 30 that remains within the confidence band?"
   ]
  },
  {
   "cell_type": "markdown",
   "metadata": {},
   "source": []
  },
  {
   "cell_type": "raw",
   "metadata": {},
   "source": [
    "* From the lineplot of fitted BMI against age, there doesnt seem to be a \"longest horizontal line starting at age 30\".\n",
    "* Instead what we can see is a regression line between the ages of 20 to 80, within a 95% confidence band\n"
   ]
  },
  {
   "cell_type": "code",
   "execution_count": 15,
   "metadata": {},
   "outputs": [
    {
     "name": "stderr",
     "output_type": "stream",
     "text": [
      "/opt/conda/lib/python3.6/site-packages/statsmodels/sandbox/predict_functional.py:171: ValueWarning: 'ALQ110', 'RIDRETH1', 'SMQ020', 'DMDEDUC2', 'BPXSY1' in data frame but not in summaries or values.\n",
      "  ValueWarning)\n",
      "/opt/conda/lib/python3.6/site-packages/statsmodels/sandbox/predict_functional.py:171: ValueWarning: 'ALQ110', 'RIDRETH1', 'SMQ020', 'DMDEDUC2', 'BPXSY1' in data frame but not in summaries or values.\n",
      "  ValueWarning)\n"
     ]
    },
    {
     "data": {
      "image/png": "[encoded data removed]",
      "text/plain": [
       "<Figure size 432x288 with 1 Axes>"
      ]
     },
     "metadata": {},
     "output_type": "display_data"
    }
   ],
   "source": [
    "from statsmodels.sandbox.predict_functional import predict_functional\n",
    "# Mexican American Men\n",
    "values = {\"RIAGENDR\" : 1,\n",
    "          \"RIDRETH1x\" : 'Mexican American'}\n",
    "# fv = functional values\n",
    "predicted, confidenceband, fv = predict_functional(results_eth,\n",
    "                                                   \"RIDAGEYR\",\n",
    "                                                   values = values,\n",
    "                                                   ci_method = 'simultaneous')\n",
    "ax = sns.lineplot(x = fv, \n",
    "                  y = predicted, \n",
    "                  lw = 4,\n",
    "                  color = '#1338BE')\n",
    "ax.fill_between(x = fv, \n",
    "                y1 = confidenceband[:,0], \n",
    "                y2 = confidenceband[:,1],\n",
    "                color = 'grey',\n",
    "                alpha = 0.4)\n",
    "\n",
    "\n",
    "# Mexican American Women\n",
    "valuesW = {\"RIAGENDR\" : 0,\n",
    "          \"RIDRETH1x\" : 'Mexican American'}\n",
    "predictedW, confidencebandW, fvW = predict_functional(results_eth,\n",
    "                                                      \"RIDAGEYR\",\n",
    "                                                      values = valuesW,\n",
    "                                                      ci_method = 'simultaneous')\n",
    "axW = sns.lineplot(x = fvW, \n",
    "                   y = predictedW, \n",
    "                   lw = 4,\n",
    "                   color = 'purple')\n",
    "axW.fill_between(x = fvW, \n",
    "                 y1 = confidencebandW[:,0], \n",
    "                 y2 = confidencebandW[:,1],\n",
    "                 color = 'purple',\n",
    "                 alpha = 0.4)\n",
    "\n",
    "\n",
    "plt.xlabel(\"Age\")\n",
    "plt.ylabel(\"BMI\")\n",
    "plt.title(\"BMI against Age for Mexican American Men (Cobalt) and Women (Purple)\")\n",
    "# https://stackoverflow.com/questions/30490740/move-legend-outside-figure-in-seaborn-tsplot\n",
    "plt.legend([\"Mexican American Men\", \"Mexican American Women\"], bbox_to_anchor=(1.05, 1), loc=2, borderaxespad=0)\n",
    "plt.show()"
   ]
  },
  {
   "cell_type": "markdown",
   "metadata": {},
   "source": [
    "__Q5b.__ Add an additional line and confidence band to the same plot, showing the relationship between age and BMI for Mexican American women.  At what ages do these intervals not overlap?"
   ]
  },
  {
   "cell_type": "markdown",
   "metadata": {},
   "source": []
  },
  {
   "cell_type": "raw",
   "metadata": {},
   "source": [
    "* It seems that within the ages of 20 to 80, across all ages, there is an overlap between the upper bounds for BMI of Mexican American Men and the lower bounds for BMI of Mexican American Women\n",
    "* And the overlap is narrowest around 50 years of age, and increases as age decreases from 50 to 20, or as age increases from 50 to 80\n"
   ]
  },
  {
   "cell_type": "markdown",
   "metadata": {},
   "source": [
    "## Question 6:\n",
    "\n",
    "Use an added variable plot to assess the linearity of the relationship between BMI and age (when controlling for gender and ethnicity)."
   ]
  },
  {
   "cell_type": "code",
   "execution_count": 16,
   "metadata": {},
   "outputs": [
    {
     "data": {
      "text/html": [
       "<table class=\"simpletable\">\n",
       "<caption>Generalized Linear Model Regression Results</caption>\n",
       "<tr>\n",
       "  <th>Dep. Variable:</th>       <td>BMXBMI</td>      <th>  No. Observations:  </th>  <td>  1473</td>  \n",
       "</tr>\n",
       "<tr>\n",
       "  <th>Model:</th>                 <td>GLM</td>       <th>  Df Residuals:      </th>  <td>  1466</td>  \n",
       "</tr>\n",
       "<tr>\n",
       "  <th>Model Family:</th>       <td>Gaussian</td>     <th>  Df Model:          </th>  <td>     6</td>  \n",
       "</tr>\n",
       "<tr>\n",
       "  <th>Link Function:</th>      <td>identity</td>     <th>  Scale:             </th> <td>  49.864</td> \n",
       "</tr>\n",
       "<tr>\n",
       "  <th>Method:</th>               <td>IRLS</td>       <th>  Log-Likelihood:    </th> <td> -4965.8</td> \n",
       "</tr>\n",
       "<tr>\n",
       "  <th>Date:</th>           <td>Sun, 02 Jan 2022</td> <th>  Deviance:          </th> <td>  73100.</td> \n",
       "</tr>\n",
       "<tr>\n",
       "  <th>Time:</th>               <td>02:41:09</td>     <th>  Pearson chi2:      </th> <td>7.31e+04</td> \n",
       "</tr>\n",
       "<tr>\n",
       "  <th>No. Iterations:</th>         <td>3</td>        <th>  Covariance Type:   </th> <td>nonrobust</td>\n",
       "</tr>\n",
       "</table>\n",
       "<table class=\"simpletable\">\n",
       "<tr>\n",
       "                          <td></td>                            <th>coef</th>     <th>std err</th>      <th>z</th>      <th>P>|z|</th>  <th>[0.025</th>    <th>0.975]</th>  \n",
       "</tr>\n",
       "<tr>\n",
       "  <th>Intercept</th>                                        <td>   31.6846</td> <td>    0.682</td> <td>   46.453</td> <td> 0.000</td> <td>   30.348</td> <td>   33.021</td>\n",
       "</tr>\n",
       "<tr>\n",
       "  <th>RIDRETH1x[T.Non-Hispanic Black]</th>                  <td>   -0.7502</td> <td>    0.569</td> <td>   -1.319</td> <td> 0.187</td> <td>   -1.865</td> <td>    0.365</td>\n",
       "</tr>\n",
       "<tr>\n",
       "  <th>RIDRETH1x[T.Non-Hispanic White]</th>                  <td>   -0.9866</td> <td>    0.562</td> <td>   -1.755</td> <td> 0.079</td> <td>   -2.089</td> <td>    0.115</td>\n",
       "</tr>\n",
       "<tr>\n",
       "  <th>RIDRETH1x[T.Other Hispanic]</th>                      <td>   -1.0388</td> <td>    0.628</td> <td>   -1.654</td> <td> 0.098</td> <td>   -2.270</td> <td>    0.192</td>\n",
       "</tr>\n",
       "<tr>\n",
       "  <th>RIDRETH1x[T.Other Race - Including Multi-Racial]</th> <td>   -5.8381</td> <td>    0.588</td> <td>   -9.920</td> <td> 0.000</td> <td>   -6.992</td> <td>   -4.685</td>\n",
       "</tr>\n",
       "<tr>\n",
       "  <th>RIDAGEYR</th>                                         <td>    0.0058</td> <td>    0.010</td> <td>    0.560</td> <td> 0.576</td> <td>   -0.015</td> <td>    0.026</td>\n",
       "</tr>\n",
       "<tr>\n",
       "  <th>RIAGENDR</th>                                         <td>   -1.2017</td> <td>    0.407</td> <td>   -2.949</td> <td> 0.003</td> <td>   -2.000</td> <td>   -0.403</td>\n",
       "</tr>\n",
       "</table>"
      ],
      "text/plain": [
       "<class 'statsmodels.iolib.summary.Summary'>\n",
       "\"\"\"\n",
       "                 Generalized Linear Model Regression Results                  \n",
       "==============================================================================\n",
       "Dep. Variable:                 BMXBMI   No. Observations:                 1473\n",
       "Model:                            GLM   Df Residuals:                     1466\n",
       "Model Family:                Gaussian   Df Model:                            6\n",
       "Link Function:               identity   Scale:                          49.864\n",
       "Method:                          IRLS   Log-Likelihood:                -4965.8\n",
       "Date:                Sun, 02 Jan 2022   Deviance:                       73100.\n",
       "Time:                        02:41:09   Pearson chi2:                 7.31e+04\n",
       "No. Iterations:                     3   Covariance Type:             nonrobust\n",
       "====================================================================================================================\n",
       "                                                       coef    std err          z      P>|z|      [0.025      0.975]\n",
       "--------------------------------------------------------------------------------------------------------------------\n",
       "Intercept                                           31.6846      0.682     46.453      0.000      30.348      33.021\n",
       "RIDRETH1x[T.Non-Hispanic Black]                     -0.7502      0.569     -1.319      0.187      -1.865       0.365\n",
       "RIDRETH1x[T.Non-Hispanic White]                     -0.9866      0.562     -1.755      0.079      -2.089       0.115\n",
       "RIDRETH1x[T.Other Hispanic]                         -1.0388      0.628     -1.654      0.098      -2.270       0.192\n",
       "RIDRETH1x[T.Other Race - Including Multi-Racial]    -5.8381      0.588     -9.920      0.000      -6.992      -4.685\n",
       "RIDAGEYR                                             0.0058      0.010      0.560      0.576      -0.015       0.026\n",
       "RIAGENDR                                            -1.2017      0.407     -2.949      0.003      -2.000      -0.403\n",
       "====================================================================================================================\n",
       "\"\"\""
      ]
     },
     "execution_count": 16,
     "metadata": {},
     "output_type": "execute_result"
    }
   ],
   "source": [
    "from statsmodels.graphics.regressionplots import add_lowess\n",
    "\n",
    "# AttributeError: 'OLSResults' object has no attribute 'plot_added_variable'\n",
    "# so we have to re-model using the GLM model\n",
    "model_ethglm = sm.GLM.from_formula(\"BMXBMI ~ RIDAGEYR + RIDRETH1x + RIAGENDR\", data = df)\n",
    "results_ethglm = model_ethglm.fit()\n",
    "results_ethglm.summary()"
   ]
  },
  {
   "cell_type": "code",
   "execution_count": 17,
   "metadata": {},
   "outputs": [
    {
     "data": {
      "image/png": "[encoded data removed]",
      "text/plain": [
       "<Figure size 432x288 with 1 Axes>"
      ]
     },
     "metadata": {},
     "output_type": "display_data"
    }
   ],
   "source": [
    "# fig = results_eth.plot_added_variable(\"Age\")\n",
    "fig = results_ethglm.plot_added_variable(\"RIDAGEYR\")\n",
    "ax = fig.get_axes()[0]\n",
    "ax.lines[0].set_alpha(0.2)\n",
    "_ = add_lowess(ax)\n"
   ]
  },
  {
   "cell_type": "markdown",
   "metadata": {},
   "source": [
    "__Q6a.__ What is your interpretation of the added variable plot?"
   ]
  },
  {
   "cell_type": "markdown",
   "metadata": {},
   "source": []
  },
  {
   "cell_type": "raw",
   "metadata": {},
   "source": [
    "* The added variable plot is not entirely linear\n",
    "* The mean of the BMI residuals increased from around -3 to 0 as age increased from 20 to 40 years old\n",
    "* there seems to be a very minimal decrease from 0 as age increased from 40 to 70 years old\n",
    "* there is another minimal decrease within a slightly steeper slope as age increased from 70 to 80 years old\n",
    "\n",
    "* there also seems to be more positive residuals which are potentially outliers, within the age of 20 to 70 years old, compared to people from 70 to 80 years old\n"
   ]
  },
  {
   "cell_type": "markdown",
   "metadata": {},
   "source": [
    "# Odds, Log Odds"
   ]
  },
  {
   "cell_type": "markdown",
   "metadata": {},
   "source": [
    "## Question 7: \n",
    "\n",
    "Generate a binary variable reflecting whether a person has had at least 12 drinks in their lifetime, based on the [ALQ110](https://wwwn.cdc.gov/Nchs/Nhanes/2015-2016/ALQ_I.htm#ALQ110) variable in NHANES.  Calculate the marginal probability, odds, and log odds of this variable for women and for men.  Then calculate the odds ratio for females relative to males."
   ]
  },
  {
   "cell_type": "code",
   "execution_count": 18,
   "metadata": {},
   "outputs": [],
   "source": [
    "# recode 2/No to '0'\n",
    "df[\"ALQ110\"] = df.ALQ110.replace({2: 0,\n",
    "                                     7: np.nan,\n",
    "                                     9: np.nan})"
   ]
  },
  {
   "cell_type": "code",
   "execution_count": 19,
   "metadata": {},
   "outputs": [],
   "source": [
    "# recode GENDER\n",
    "df[\"RIAGENDRx\"] = df.RIAGENDR.replace({0: 'Female',\n",
    "                                       1: 'Male'})"
   ]
  },
  {
   "cell_type": "code",
   "execution_count": 20,
   "metadata": {},
   "outputs": [],
   "source": [
    "df = df.dropna()"
   ]
  },
  {
   "cell_type": "code",
   "execution_count": 21,
   "metadata": {},
   "outputs": [
    {
     "data": {
      "text/html": [
       "<div>\n",
       "<style scoped>\n",
       "    .dataframe tbody tr th:only-of-type {\n",
       "        vertical-align: middle;\n",
       "    }\n",
       "\n",
       "    .dataframe tbody tr th {\n",
       "        vertical-align: top;\n",
       "    }\n",
       "\n",
       "    .dataframe thead th {\n",
       "        text-align: right;\n",
       "    }\n",
       "</style>\n",
       "<table border=\"1\" class=\"dataframe\">\n",
       "  <thead>\n",
       "    <tr style=\"text-align: right;\">\n",
       "      <th>ALQ110</th>\n",
       "      <th>0.0</th>\n",
       "      <th>1.0</th>\n",
       "    </tr>\n",
       "    <tr>\n",
       "      <th>RIAGENDRx</th>\n",
       "      <th></th>\n",
       "      <th></th>\n",
       "    </tr>\n",
       "  </thead>\n",
       "  <tbody>\n",
       "    <tr>\n",
       "      <th>Female</th>\n",
       "      <td>569</td>\n",
       "      <td>467</td>\n",
       "    </tr>\n",
       "    <tr>\n",
       "      <th>Male</th>\n",
       "      <td>232</td>\n",
       "      <td>200</td>\n",
       "    </tr>\n",
       "  </tbody>\n",
       "</table>\n",
       "</div>"
      ],
      "text/plain": [
       "ALQ110     0.0  1.0\n",
       "RIAGENDRx          \n",
       "Female     569  467\n",
       "Male       232  200"
      ]
     },
     "execution_count": 21,
     "metadata": {},
     "output_type": "execute_result"
    }
   ],
   "source": [
    "pd.crosstab(df.RIAGENDRx, df.ALQ110)"
   ]
  },
  {
   "cell_type": "code",
   "execution_count": 22,
   "metadata": {},
   "outputs": [
    {
     "data": {
      "text/html": [
       "<div>\n",
       "<style scoped>\n",
       "    .dataframe tbody tr th:only-of-type {\n",
       "        vertical-align: middle;\n",
       "    }\n",
       "\n",
       "    .dataframe tbody tr th {\n",
       "        vertical-align: top;\n",
       "    }\n",
       "\n",
       "    .dataframe thead th {\n",
       "        text-align: right;\n",
       "    }\n",
       "</style>\n",
       "<table border=\"1\" class=\"dataframe\">\n",
       "  <thead>\n",
       "    <tr style=\"text-align: right;\">\n",
       "      <th>ALQ110</th>\n",
       "      <th>0.0</th>\n",
       "      <th>1.0</th>\n",
       "      <th>odds</th>\n",
       "      <th>logodds</th>\n",
       "    </tr>\n",
       "    <tr>\n",
       "      <th>RIAGENDRx</th>\n",
       "      <th></th>\n",
       "      <th></th>\n",
       "      <th></th>\n",
       "      <th></th>\n",
       "    </tr>\n",
       "  </thead>\n",
       "  <tbody>\n",
       "    <tr>\n",
       "      <th>Female</th>\n",
       "      <td>0.549228</td>\n",
       "      <td>0.450772</td>\n",
       "      <td>0.820738</td>\n",
       "      <td>-0.197551</td>\n",
       "    </tr>\n",
       "    <tr>\n",
       "      <th>Male</th>\n",
       "      <td>0.537037</td>\n",
       "      <td>0.462963</td>\n",
       "      <td>0.862069</td>\n",
       "      <td>-0.148420</td>\n",
       "    </tr>\n",
       "  </tbody>\n",
       "</table>\n",
       "</div>"
      ],
      "text/plain": [
       "ALQ110          0.0       1.0      odds   logodds\n",
       "RIAGENDRx                                        \n",
       "Female     0.549228  0.450772  0.820738 -0.197551\n",
       "Male       0.537037  0.462963  0.862069 -0.148420"
      ]
     },
     "execution_count": 22,
     "metadata": {},
     "output_type": "execute_result"
    }
   ],
   "source": [
    "# Marginal probability = P(someone drank at least 12 drinks in their lifetime) = P(ALQ110 = 1) = p\n",
    "drinks = pd.crosstab(df.RIAGENDRx, df.ALQ110).apply(lambda x: x/x.sum(), axis = 1)\n",
    "\n",
    "# Odds = p/(1-p)\n",
    "# drinks[\"odds\"] = drinks[\"1.0\"]/drinks[\"0.0\"]\n",
    "drinks[\"odds\"] = drinks.loc[:,1]/drinks.loc[:,0]\n",
    "\n",
    "# log odds = log(p/(1-p))\n",
    "# TypeError: cannot do label indexing on <class 'pandas.core.indexes.base.Index'> with these indexers [2] of <class 'int'>\n",
    "# drinks[\"logodds\"] = np.log(drinks.loc[:,2])\n",
    "drinks[\"logodds\"] = np.log(drinks.loc[:,\"odds\"])\n",
    "\n",
    "drinks"
   ]
  },
  {
   "cell_type": "code",
   "execution_count": 23,
   "metadata": {},
   "outputs": [
    {
     "ename": "TypeError",
     "evalue": "cannot do label indexing on <class 'pandas.core.indexes.base.Index'> with these indexers [0] of <class 'int'>",
     "output_type": "error",
     "traceback": [
      "\u001b[0;31m---------------------------------------------------------------------------\u001b[0m",
      "\u001b[0;31mTypeError\u001b[0m                                 Traceback (most recent call last)",
      "\u001b[0;32m<ipython-input-23-f0cdffa2c850>\u001b[0m in \u001b[0;36m<module>\u001b[0;34m()\u001b[0m\n\u001b[1;32m      1\u001b[0m \u001b[0;31m# testing\u001b[0m\u001b[0;34m\u001b[0m\u001b[0;34m\u001b[0m\u001b[0m\n\u001b[0;32m----> 2\u001b[0;31m \u001b[0mdrinks\u001b[0m\u001b[0;34m.\u001b[0m\u001b[0mloc\u001b[0m\u001b[0;34m[\u001b[0m\u001b[0;34m:\u001b[0m\u001b[0;34m,\u001b[0m\u001b[0;36m0\u001b[0m\u001b[0;34m]\u001b[0m\u001b[0;34m\u001b[0m\u001b[0m\n\u001b[0m",
      "\u001b[0;32m/opt/conda/lib/python3.6/site-packages/pandas/core/indexing.py\u001b[0m in \u001b[0;36m__getitem__\u001b[0;34m(self, key)\u001b[0m\n\u001b[1;32m   1492\u001b[0m             \u001b[0;32mexcept\u001b[0m \u001b[0;34m(\u001b[0m\u001b[0mKeyError\u001b[0m\u001b[0;34m,\u001b[0m \u001b[0mIndexError\u001b[0m\u001b[0;34m,\u001b[0m \u001b[0mAttributeError\u001b[0m\u001b[0;34m)\u001b[0m\u001b[0;34m:\u001b[0m\u001b[0;34m\u001b[0m\u001b[0m\n\u001b[1;32m   1493\u001b[0m                 \u001b[0;32mpass\u001b[0m\u001b[0;34m\u001b[0m\u001b[0m\n\u001b[0;32m-> 1494\u001b[0;31m             \u001b[0;32mreturn\u001b[0m \u001b[0mself\u001b[0m\u001b[0;34m.\u001b[0m\u001b[0m_getitem_tuple\u001b[0m\u001b[0;34m(\u001b[0m\u001b[0mkey\u001b[0m\u001b[0;34m)\u001b[0m\u001b[0;34m\u001b[0m\u001b[0m\n\u001b[0m\u001b[1;32m   1495\u001b[0m         \u001b[0;32melse\u001b[0m\u001b[0;34m:\u001b[0m\u001b[0;34m\u001b[0m\u001b[0m\n\u001b[1;32m   1496\u001b[0m             \u001b[0;31m# we by definition only have the 0th axis\u001b[0m\u001b[0;34m\u001b[0m\u001b[0;34m\u001b[0m\u001b[0m\n",
      "\u001b[0;32m/opt/conda/lib/python3.6/site-packages/pandas/core/indexing.py\u001b[0m in \u001b[0;36m_getitem_tuple\u001b[0;34m(self, tup)\u001b[0m\n\u001b[1;32m    866\u001b[0m     \u001b[0;32mdef\u001b[0m \u001b[0m_getitem_tuple\u001b[0m\u001b[0;34m(\u001b[0m\u001b[0mself\u001b[0m\u001b[0;34m,\u001b[0m \u001b[0mtup\u001b[0m\u001b[0;34m)\u001b[0m\u001b[0;34m:\u001b[0m\u001b[0;34m\u001b[0m\u001b[0m\n\u001b[1;32m    867\u001b[0m         \u001b[0;32mtry\u001b[0m\u001b[0;34m:\u001b[0m\u001b[0;34m\u001b[0m\u001b[0m\n\u001b[0;32m--> 868\u001b[0;31m             \u001b[0;32mreturn\u001b[0m \u001b[0mself\u001b[0m\u001b[0;34m.\u001b[0m\u001b[0m_getitem_lowerdim\u001b[0m\u001b[0;34m(\u001b[0m\u001b[0mtup\u001b[0m\u001b[0;34m)\u001b[0m\u001b[0;34m\u001b[0m\u001b[0m\n\u001b[0m\u001b[1;32m    869\u001b[0m         \u001b[0;32mexcept\u001b[0m \u001b[0mIndexingError\u001b[0m\u001b[0;34m:\u001b[0m\u001b[0;34m\u001b[0m\u001b[0m\n\u001b[1;32m    870\u001b[0m             \u001b[0;32mpass\u001b[0m\u001b[0;34m\u001b[0m\u001b[0m\n",
      "\u001b[0;32m/opt/conda/lib/python3.6/site-packages/pandas/core/indexing.py\u001b[0m in \u001b[0;36m_getitem_lowerdim\u001b[0;34m(self, tup)\u001b[0m\n\u001b[1;32m    986\u001b[0m         \u001b[0;32mfor\u001b[0m \u001b[0mi\u001b[0m\u001b[0;34m,\u001b[0m \u001b[0mkey\u001b[0m \u001b[0;32min\u001b[0m \u001b[0menumerate\u001b[0m\u001b[0;34m(\u001b[0m\u001b[0mtup\u001b[0m\u001b[0;34m)\u001b[0m\u001b[0;34m:\u001b[0m\u001b[0;34m\u001b[0m\u001b[0m\n\u001b[1;32m    987\u001b[0m             \u001b[0;32mif\u001b[0m \u001b[0mis_label_like\u001b[0m\u001b[0;34m(\u001b[0m\u001b[0mkey\u001b[0m\u001b[0;34m)\u001b[0m \u001b[0;32mor\u001b[0m \u001b[0misinstance\u001b[0m\u001b[0;34m(\u001b[0m\u001b[0mkey\u001b[0m\u001b[0;34m,\u001b[0m \u001b[0mtuple\u001b[0m\u001b[0;34m)\u001b[0m\u001b[0;34m:\u001b[0m\u001b[0;34m\u001b[0m\u001b[0m\n\u001b[0;32m--> 988\u001b[0;31m                 \u001b[0msection\u001b[0m \u001b[0;34m=\u001b[0m \u001b[0mself\u001b[0m\u001b[0;34m.\u001b[0m\u001b[0m_getitem_axis\u001b[0m\u001b[0;34m(\u001b[0m\u001b[0mkey\u001b[0m\u001b[0;34m,\u001b[0m \u001b[0maxis\u001b[0m\u001b[0;34m=\u001b[0m\u001b[0mi\u001b[0m\u001b[0;34m)\u001b[0m\u001b[0;34m\u001b[0m\u001b[0m\n\u001b[0m\u001b[1;32m    989\u001b[0m \u001b[0;34m\u001b[0m\u001b[0m\n\u001b[1;32m    990\u001b[0m                 \u001b[0;31m# we have yielded a scalar ?\u001b[0m\u001b[0;34m\u001b[0m\u001b[0;34m\u001b[0m\u001b[0m\n",
      "\u001b[0;32m/opt/conda/lib/python3.6/site-packages/pandas/core/indexing.py\u001b[0m in \u001b[0;36m_getitem_axis\u001b[0;34m(self, key, axis)\u001b[0m\n\u001b[1;32m   1910\u001b[0m \u001b[0;34m\u001b[0m\u001b[0m\n\u001b[1;32m   1911\u001b[0m         \u001b[0;31m# fall thru to straight lookup\u001b[0m\u001b[0;34m\u001b[0m\u001b[0;34m\u001b[0m\u001b[0m\n\u001b[0;32m-> 1912\u001b[0;31m         \u001b[0mself\u001b[0m\u001b[0;34m.\u001b[0m\u001b[0m_validate_key\u001b[0m\u001b[0;34m(\u001b[0m\u001b[0mkey\u001b[0m\u001b[0;34m,\u001b[0m \u001b[0maxis\u001b[0m\u001b[0;34m)\u001b[0m\u001b[0;34m\u001b[0m\u001b[0m\n\u001b[0m\u001b[1;32m   1913\u001b[0m         \u001b[0;32mreturn\u001b[0m \u001b[0mself\u001b[0m\u001b[0;34m.\u001b[0m\u001b[0m_get_label\u001b[0m\u001b[0;34m(\u001b[0m\u001b[0mkey\u001b[0m\u001b[0;34m,\u001b[0m \u001b[0maxis\u001b[0m\u001b[0;34m=\u001b[0m\u001b[0maxis\u001b[0m\u001b[0;34m)\u001b[0m\u001b[0;34m\u001b[0m\u001b[0m\n\u001b[1;32m   1914\u001b[0m \u001b[0;34m\u001b[0m\u001b[0m\n",
      "\u001b[0;32m/opt/conda/lib/python3.6/site-packages/pandas/core/indexing.py\u001b[0m in \u001b[0;36m_validate_key\u001b[0;34m(self, key, axis)\u001b[0m\n\u001b[1;32m   1797\u001b[0m \u001b[0;34m\u001b[0m\u001b[0m\n\u001b[1;32m   1798\u001b[0m         \u001b[0;32mif\u001b[0m \u001b[0;32mnot\u001b[0m \u001b[0mis_list_like_indexer\u001b[0m\u001b[0;34m(\u001b[0m\u001b[0mkey\u001b[0m\u001b[0;34m)\u001b[0m\u001b[0;34m:\u001b[0m\u001b[0;34m\u001b[0m\u001b[0m\n\u001b[0;32m-> 1799\u001b[0;31m             \u001b[0mself\u001b[0m\u001b[0;34m.\u001b[0m\u001b[0m_convert_scalar_indexer\u001b[0m\u001b[0;34m(\u001b[0m\u001b[0mkey\u001b[0m\u001b[0;34m,\u001b[0m \u001b[0maxis\u001b[0m\u001b[0;34m)\u001b[0m\u001b[0;34m\u001b[0m\u001b[0m\n\u001b[0m\u001b[1;32m   1800\u001b[0m \u001b[0;34m\u001b[0m\u001b[0m\n\u001b[1;32m   1801\u001b[0m     \u001b[0;32mdef\u001b[0m \u001b[0m_is_scalar_access\u001b[0m\u001b[0;34m(\u001b[0m\u001b[0mself\u001b[0m\u001b[0;34m,\u001b[0m \u001b[0mkey\u001b[0m\u001b[0;34m)\u001b[0m\u001b[0;34m:\u001b[0m\u001b[0;34m\u001b[0m\u001b[0m\n",
      "\u001b[0;32m/opt/conda/lib/python3.6/site-packages/pandas/core/indexing.py\u001b[0m in \u001b[0;36m_convert_scalar_indexer\u001b[0;34m(self, key, axis)\u001b[0m\n\u001b[1;32m    260\u001b[0m         \u001b[0max\u001b[0m \u001b[0;34m=\u001b[0m \u001b[0mself\u001b[0m\u001b[0;34m.\u001b[0m\u001b[0mobj\u001b[0m\u001b[0;34m.\u001b[0m\u001b[0m_get_axis\u001b[0m\u001b[0;34m(\u001b[0m\u001b[0mmin\u001b[0m\u001b[0;34m(\u001b[0m\u001b[0maxis\u001b[0m\u001b[0;34m,\u001b[0m \u001b[0mself\u001b[0m\u001b[0;34m.\u001b[0m\u001b[0mndim\u001b[0m \u001b[0;34m-\u001b[0m \u001b[0;36m1\u001b[0m\u001b[0;34m)\u001b[0m\u001b[0;34m)\u001b[0m\u001b[0;34m\u001b[0m\u001b[0m\n\u001b[1;32m    261\u001b[0m         \u001b[0;31m# a scalar\u001b[0m\u001b[0;34m\u001b[0m\u001b[0;34m\u001b[0m\u001b[0m\n\u001b[0;32m--> 262\u001b[0;31m         \u001b[0;32mreturn\u001b[0m \u001b[0max\u001b[0m\u001b[0;34m.\u001b[0m\u001b[0m_convert_scalar_indexer\u001b[0m\u001b[0;34m(\u001b[0m\u001b[0mkey\u001b[0m\u001b[0;34m,\u001b[0m \u001b[0mkind\u001b[0m\u001b[0;34m=\u001b[0m\u001b[0mself\u001b[0m\u001b[0;34m.\u001b[0m\u001b[0mname\u001b[0m\u001b[0;34m)\u001b[0m\u001b[0;34m\u001b[0m\u001b[0m\n\u001b[0m\u001b[1;32m    263\u001b[0m \u001b[0;34m\u001b[0m\u001b[0m\n\u001b[1;32m    264\u001b[0m     \u001b[0;32mdef\u001b[0m \u001b[0m_convert_slice_indexer\u001b[0m\u001b[0;34m(\u001b[0m\u001b[0mself\u001b[0m\u001b[0;34m,\u001b[0m \u001b[0mkey\u001b[0m\u001b[0;34m,\u001b[0m \u001b[0maxis\u001b[0m\u001b[0;34m)\u001b[0m\u001b[0;34m:\u001b[0m\u001b[0;34m\u001b[0m\u001b[0m\n",
      "\u001b[0;32m/opt/conda/lib/python3.6/site-packages/pandas/core/indexes/base.py\u001b[0m in \u001b[0;36m_convert_scalar_indexer\u001b[0;34m(self, key, kind)\u001b[0m\n\u001b[1;32m   2878\u001b[0m             \u001b[0;32melif\u001b[0m \u001b[0mkind\u001b[0m \u001b[0;32min\u001b[0m \u001b[0;34m[\u001b[0m\u001b[0;34m'loc'\u001b[0m\u001b[0;34m]\u001b[0m \u001b[0;32mand\u001b[0m \u001b[0mis_integer\u001b[0m\u001b[0;34m(\u001b[0m\u001b[0mkey\u001b[0m\u001b[0;34m)\u001b[0m\u001b[0;34m:\u001b[0m\u001b[0;34m\u001b[0m\u001b[0m\n\u001b[1;32m   2879\u001b[0m                 \u001b[0;32mif\u001b[0m \u001b[0;32mnot\u001b[0m \u001b[0mself\u001b[0m\u001b[0;34m.\u001b[0m\u001b[0mholds_integer\u001b[0m\u001b[0;34m(\u001b[0m\u001b[0;34m)\u001b[0m\u001b[0;34m:\u001b[0m\u001b[0;34m\u001b[0m\u001b[0m\n\u001b[0;32m-> 2880\u001b[0;31m                     \u001b[0;32mreturn\u001b[0m \u001b[0mself\u001b[0m\u001b[0;34m.\u001b[0m\u001b[0m_invalid_indexer\u001b[0m\u001b[0;34m(\u001b[0m\u001b[0;34m'label'\u001b[0m\u001b[0;34m,\u001b[0m \u001b[0mkey\u001b[0m\u001b[0;34m)\u001b[0m\u001b[0;34m\u001b[0m\u001b[0m\n\u001b[0m\u001b[1;32m   2881\u001b[0m \u001b[0;34m\u001b[0m\u001b[0m\n\u001b[1;32m   2882\u001b[0m         \u001b[0;32mreturn\u001b[0m \u001b[0mkey\u001b[0m\u001b[0;34m\u001b[0m\u001b[0m\n",
      "\u001b[0;32m/opt/conda/lib/python3.6/site-packages/pandas/core/indexes/base.py\u001b[0m in \u001b[0;36m_invalid_indexer\u001b[0;34m(self, form, key)\u001b[0m\n\u001b[1;32m   3064\u001b[0m                         \"indexers [{key}] of {kind}\".format(\n\u001b[1;32m   3065\u001b[0m                             \u001b[0mform\u001b[0m\u001b[0;34m=\u001b[0m\u001b[0mform\u001b[0m\u001b[0;34m,\u001b[0m \u001b[0mklass\u001b[0m\u001b[0;34m=\u001b[0m\u001b[0mtype\u001b[0m\u001b[0;34m(\u001b[0m\u001b[0mself\u001b[0m\u001b[0;34m)\u001b[0m\u001b[0;34m,\u001b[0m \u001b[0mkey\u001b[0m\u001b[0;34m=\u001b[0m\u001b[0mkey\u001b[0m\u001b[0;34m,\u001b[0m\u001b[0;34m\u001b[0m\u001b[0m\n\u001b[0;32m-> 3066\u001b[0;31m                             kind=type(key)))\n\u001b[0m\u001b[1;32m   3067\u001b[0m \u001b[0;34m\u001b[0m\u001b[0m\n\u001b[1;32m   3068\u001b[0m     \u001b[0;31m# --------------------------------------------------------------------\u001b[0m\u001b[0;34m\u001b[0m\u001b[0;34m\u001b[0m\u001b[0m\n",
      "\u001b[0;31mTypeError\u001b[0m: cannot do label indexing on <class 'pandas.core.indexes.base.Index'> with these indexers [0] of <class 'int'>"
     ]
    }
   ],
   "source": [
    "# testing\n",
    "drinks.loc[:,0]"
   ]
  },
  {
   "cell_type": "markdown",
   "metadata": {},
   "source": [
    "__Q7a.__ Based on the log odds alone, do more than 50% of women drink alcohol?"
   ]
  },
  {
   "cell_type": "markdown",
   "metadata": {},
   "source": []
  },
  {
   "cell_type": "raw",
   "metadata": {},
   "source": [
    "* From the drinking logodds ratio, women has a logodds ratio of -0.197551.\n",
    "* Recall that an odds ratio of 1, equivalent to a logodds ratio of 0 would correspond to 50% of people drinking.\n",
    "* Therefore the logodds ratio of -0.197551 signify that less than 50% of women drink alcohol.\n"
   ]
  },
  {
   "cell_type": "markdown",
   "metadata": {},
   "source": [
    "__Q7b.__ Does there appear to be an important difference between the alcohol use rate of women and men?"
   ]
  },
  {
   "cell_type": "markdown",
   "metadata": {},
   "source": []
  },
  {
   "cell_type": "code",
   "execution_count": 24,
   "metadata": {},
   "outputs": [
    {
     "data": {
      "text/plain": [
       "-0.04913100000000001"
      ]
     },
     "execution_count": 24,
     "metadata": {},
     "output_type": "execute_result"
    }
   ],
   "source": [
    "# women logodds minus men logodds\n",
    "-0.197551 - (-0.148420)"
   ]
  },
  {
   "cell_type": "raw",
   "metadata": {},
   "source": [
    "Women had 0.04913 lower logodds as compared to men in terms of having drank at least 12 drinks in their lifetime\n"
   ]
  },
  {
   "cell_type": "markdown",
   "metadata": {},
   "source": [
    "# Logistic Regression"
   ]
  },
  {
   "cell_type": "markdown",
   "metadata": {},
   "source": [
    "## Question 8: \n",
    "\n",
    "Use logistic regression to express the log odds that a person drinks (based on the binary drinking variable that you constructed above) in terms of gender."
   ]
  },
  {
   "cell_type": "code",
   "execution_count": 25,
   "metadata": {},
   "outputs": [
    {
     "data": {
      "text/html": [
       "<table class=\"simpletable\">\n",
       "<caption>Generalized Linear Model Regression Results</caption>\n",
       "<tr>\n",
       "  <th>Dep. Variable:</th>       <td>ALQ110</td>      <th>  No. Observations:  </th>  <td>  1468</td>  \n",
       "</tr>\n",
       "<tr>\n",
       "  <th>Model:</th>                 <td>GLM</td>       <th>  Df Residuals:      </th>  <td>  1466</td>  \n",
       "</tr>\n",
       "<tr>\n",
       "  <th>Model Family:</th>       <td>Binomial</td>     <th>  Df Model:          </th>  <td>     1</td>  \n",
       "</tr>\n",
       "<tr>\n",
       "  <th>Link Function:</th>        <td>logit</td>      <th>  Scale:             </th> <td>  1.0000</td> \n",
       "</tr>\n",
       "<tr>\n",
       "  <th>Method:</th>               <td>IRLS</td>       <th>  Log-Likelihood:    </th> <td> -1011.3</td> \n",
       "</tr>\n",
       "<tr>\n",
       "  <th>Date:</th>           <td>Sun, 02 Jan 2022</td> <th>  Deviance:          </th> <td>  2022.6</td> \n",
       "</tr>\n",
       "<tr>\n",
       "  <th>Time:</th>               <td>02:41:30</td>     <th>  Pearson chi2:      </th> <td>1.47e+03</td> \n",
       "</tr>\n",
       "<tr>\n",
       "  <th>No. Iterations:</th>         <td>4</td>        <th>  Covariance Type:   </th> <td>nonrobust</td>\n",
       "</tr>\n",
       "</table>\n",
       "<table class=\"simpletable\">\n",
       "<tr>\n",
       "      <td></td>         <th>coef</th>     <th>std err</th>      <th>z</th>      <th>P>|z|</th>  <th>[0.025</th>    <th>0.975]</th>  \n",
       "</tr>\n",
       "<tr>\n",
       "  <th>Intercept</th> <td>   -0.1976</td> <td>    0.062</td> <td>   -3.164</td> <td> 0.002</td> <td>   -0.320</td> <td>   -0.075</td>\n",
       "</tr>\n",
       "<tr>\n",
       "  <th>RIAGENDR</th>  <td>    0.0491</td> <td>    0.115</td> <td>    0.427</td> <td> 0.669</td> <td>   -0.176</td> <td>    0.274</td>\n",
       "</tr>\n",
       "</table>"
      ],
      "text/plain": [
       "<class 'statsmodels.iolib.summary.Summary'>\n",
       "\"\"\"\n",
       "                 Generalized Linear Model Regression Results                  \n",
       "==============================================================================\n",
       "Dep. Variable:                 ALQ110   No. Observations:                 1468\n",
       "Model:                            GLM   Df Residuals:                     1466\n",
       "Model Family:                Binomial   Df Model:                            1\n",
       "Link Function:                  logit   Scale:                          1.0000\n",
       "Method:                          IRLS   Log-Likelihood:                -1011.3\n",
       "Date:                Sun, 02 Jan 2022   Deviance:                       2022.6\n",
       "Time:                        02:41:30   Pearson chi2:                 1.47e+03\n",
       "No. Iterations:                     4   Covariance Type:             nonrobust\n",
       "==============================================================================\n",
       "                 coef    std err          z      P>|z|      [0.025      0.975]\n",
       "------------------------------------------------------------------------------\n",
       "Intercept     -0.1976      0.062     -3.164      0.002      -0.320      -0.075\n",
       "RIAGENDR       0.0491      0.115      0.427      0.669      -0.176       0.274\n",
       "==============================================================================\n",
       "\"\"\""
      ]
     },
     "execution_count": 25,
     "metadata": {},
     "output_type": "execute_result"
    }
   ],
   "source": [
    "model_drinks = sm.GLM.from_formula(\"ALQ110 ~ RIAGENDR\", family=sm.families.Binomial(), data = df)\n",
    "results_drinks = model_drinks.fit()\n",
    "results_drinks.summary()"
   ]
  },
  {
   "cell_type": "markdown",
   "metadata": {},
   "source": [
    "__Q8a.__ Is there statistical evidence that the drinking rate differs between women and men?  If so, in what direction is there a difference?"
   ]
  },
  {
   "cell_type": "markdown",
   "metadata": {},
   "source": []
  },
  {
   "cell_type": "raw",
   "metadata": {},
   "source": [
    "* The estimated logodds coefficient for \"RIAGENDR\" is 0.0491, with a p-value of 0.669. which is significantly greater than the significance level of 0.05.\n",
    "* Therefore even though it seems that men are more likely than women to have drank 12 drinks in their lifetime on average, the result is not statistically significant to substantiate this claim\n"
   ]
  },
  {
   "cell_type": "markdown",
   "metadata": {},
   "source": [
    "__Q8b.__ Confirm that the log odds ratio between drinking ~~and smoking~~ calculated using the logistic regression model matches the log odds ratio calculated directly in question 7."
   ]
  },
  {
   "cell_type": "markdown",
   "metadata": {},
   "source": []
  },
  {
   "cell_type": "code",
   "execution_count": 26,
   "metadata": {},
   "outputs": [
    {
     "data": {
      "text/plain": [
       "0.0491311713391602"
      ]
     },
     "execution_count": 26,
     "metadata": {},
     "output_type": "execute_result"
    }
   ],
   "source": [
    "drinks[\"logodds\"].Male - drinks[\"logodds\"].Female"
   ]
  },
  {
   "cell_type": "raw",
   "metadata": {},
   "source": [
    "* From the calculation above, the logodds for drinking between males and females is 0.0491.\n",
    "* This matches/is consistent with the estimated logodds coefficient for \"RIAGENDR\", 0.0491, calculated by the logistic regression model\n"
   ]
  },
  {
   "cell_type": "markdown",
   "metadata": {},
   "source": [
    "## Question 9: \n",
    "\n",
    "Use logistic regression to relate drinking to age, gender, and education."
   ]
  },
  {
   "cell_type": "code",
   "execution_count": 27,
   "metadata": {
    "scrolled": true
   },
   "outputs": [],
   "source": [
    "df[\"DMDEDUC2x\"] = df.DMDEDUC2.replace({1: \"less_than_9\",\n",
    "                                       2: \"9_11\",\n",
    "                                       3: \"HS\",\n",
    "                                       4: \"AA\",\n",
    "                                       5: \"College\",\n",
    "                                       9: np.nan})"
   ]
  },
  {
   "cell_type": "code",
   "execution_count": 28,
   "metadata": {},
   "outputs": [
    {
     "data": {
      "text/plain": [
       "3           College\n",
       "4                AA\n",
       "5              9_11\n",
       "13          College\n",
       "19               AA\n",
       "21               HS\n",
       "22      less_than_9\n",
       "24             9_11\n",
       "27          College\n",
       "29      less_than_9\n",
       "30               AA\n",
       "32      less_than_9\n",
       "33             9_11\n",
       "38               HS\n",
       "46               AA\n",
       "52      less_than_9\n",
       "55             9_11\n",
       "61               HS\n",
       "63          College\n",
       "73      less_than_9\n",
       "76          College\n",
       "80             9_11\n",
       "82               AA\n",
       "84             9_11\n",
       "101     less_than_9\n",
       "105     less_than_9\n",
       "106     less_than_9\n",
       "109              HS\n",
       "111              AA\n",
       "113              HS\n",
       "           ...     \n",
       "5635        College\n",
       "5638           9_11\n",
       "5641        College\n",
       "5642             HS\n",
       "5645           9_11\n",
       "5647             AA\n",
       "5648             AA\n",
       "5652             HS\n",
       "5657    less_than_9\n",
       "5666        College\n",
       "5669             AA\n",
       "5672             AA\n",
       "5681        College\n",
       "5683             AA\n",
       "5684             HS\n",
       "5685        College\n",
       "5688             AA\n",
       "5693             HS\n",
       "5694             HS\n",
       "5697             AA\n",
       "5700           9_11\n",
       "5702             AA\n",
       "5708        College\n",
       "5714             HS\n",
       "5723           9_11\n",
       "5725        College\n",
       "5727    less_than_9\n",
       "5729        College\n",
       "5730             HS\n",
       "5731        College\n",
       "Name: DMDEDUC2x, Length: 1467, dtype: object"
      ]
     },
     "execution_count": 28,
     "metadata": {},
     "output_type": "execute_result"
    }
   ],
   "source": [
    "df.DMDEDUC2x.dropna()"
   ]
  },
  {
   "cell_type": "code",
   "execution_count": 29,
   "metadata": {},
   "outputs": [
    {
     "data": {
      "text/plain": [
       "Index(['BPXSY1', 'RIDAGEYR', 'RIAGENDR', 'RIDRETH1', 'DMDEDUC2', 'BMXBMI',\n",
       "       'SMQ020', 'ALQ110', 'RIDRETH1x', 'RIAGENDRx', 'DMDEDUC2x'],\n",
       "      dtype='object')"
      ]
     },
     "execution_count": 29,
     "metadata": {},
     "output_type": "execute_result"
    }
   ],
   "source": [
    "df.columns"
   ]
  },
  {
   "cell_type": "code",
   "execution_count": 30,
   "metadata": {},
   "outputs": [
    {
     "data": {
      "text/html": [
       "<table class=\"simpletable\">\n",
       "<caption>Generalized Linear Model Regression Results</caption>\n",
       "<tr>\n",
       "  <th>Dep. Variable:</th>       <td>ALQ110</td>      <th>  No. Observations:  </th>  <td>  1467</td>  \n",
       "</tr>\n",
       "<tr>\n",
       "  <th>Model:</th>                 <td>GLM</td>       <th>  Df Residuals:      </th>  <td>  1460</td>  \n",
       "</tr>\n",
       "<tr>\n",
       "  <th>Model Family:</th>       <td>Binomial</td>     <th>  Df Model:          </th>  <td>     6</td>  \n",
       "</tr>\n",
       "<tr>\n",
       "  <th>Link Function:</th>        <td>logit</td>      <th>  Scale:             </th> <td>  1.0000</td> \n",
       "</tr>\n",
       "<tr>\n",
       "  <th>Method:</th>               <td>IRLS</td>       <th>  Log-Likelihood:    </th> <td> -987.65</td> \n",
       "</tr>\n",
       "<tr>\n",
       "  <th>Date:</th>           <td>Sun, 02 Jan 2022</td> <th>  Deviance:          </th> <td>  1975.3</td> \n",
       "</tr>\n",
       "<tr>\n",
       "  <th>Time:</th>               <td>02:41:48</td>     <th>  Pearson chi2:      </th> <td>1.47e+03</td> \n",
       "</tr>\n",
       "<tr>\n",
       "  <th>No. Iterations:</th>         <td>4</td>        <th>  Covariance Type:   </th> <td>nonrobust</td>\n",
       "</tr>\n",
       "</table>\n",
       "<table class=\"simpletable\">\n",
       "<tr>\n",
       "              <td></td>                <th>coef</th>     <th>std err</th>      <th>z</th>      <th>P>|z|</th>  <th>[0.025</th>    <th>0.975]</th>  \n",
       "</tr>\n",
       "<tr>\n",
       "  <th>Intercept</th>                <td>   -0.9345</td> <td>    0.226</td> <td>   -4.129</td> <td> 0.000</td> <td>   -1.378</td> <td>   -0.491</td>\n",
       "</tr>\n",
       "<tr>\n",
       "  <th>DMDEDUC2x[T.AA]</th>          <td>    0.5643</td> <td>    0.182</td> <td>    3.100</td> <td> 0.002</td> <td>    0.207</td> <td>    0.921</td>\n",
       "</tr>\n",
       "<tr>\n",
       "  <th>DMDEDUC2x[T.College]</th>     <td>    0.4496</td> <td>    0.190</td> <td>    2.367</td> <td> 0.018</td> <td>    0.077</td> <td>    0.822</td>\n",
       "</tr>\n",
       "<tr>\n",
       "  <th>DMDEDUC2x[T.HS]</th>          <td>    0.4218</td> <td>    0.191</td> <td>    2.203</td> <td> 0.028</td> <td>    0.047</td> <td>    0.797</td>\n",
       "</tr>\n",
       "<tr>\n",
       "  <th>DMDEDUC2x[T.less_than_9]</th> <td>   -0.3983</td> <td>    0.201</td> <td>   -1.984</td> <td> 0.047</td> <td>   -0.792</td> <td>   -0.005</td>\n",
       "</tr>\n",
       "<tr>\n",
       "  <th>RIAGENDR</th>                 <td>    0.0313</td> <td>    0.117</td> <td>    0.267</td> <td> 0.789</td> <td>   -0.198</td> <td>    0.261</td>\n",
       "</tr>\n",
       "<tr>\n",
       "  <th>RIDAGEYR</th>                 <td>    0.0090</td> <td>    0.003</td> <td>    2.975</td> <td> 0.003</td> <td>    0.003</td> <td>    0.015</td>\n",
       "</tr>\n",
       "</table>"
      ],
      "text/plain": [
       "<class 'statsmodels.iolib.summary.Summary'>\n",
       "\"\"\"\n",
       "                 Generalized Linear Model Regression Results                  \n",
       "==============================================================================\n",
       "Dep. Variable:                 ALQ110   No. Observations:                 1467\n",
       "Model:                            GLM   Df Residuals:                     1460\n",
       "Model Family:                Binomial   Df Model:                            6\n",
       "Link Function:                  logit   Scale:                          1.0000\n",
       "Method:                          IRLS   Log-Likelihood:                -987.65\n",
       "Date:                Sun, 02 Jan 2022   Deviance:                       1975.3\n",
       "Time:                        02:41:48   Pearson chi2:                 1.47e+03\n",
       "No. Iterations:                     4   Covariance Type:             nonrobust\n",
       "============================================================================================\n",
       "                               coef    std err          z      P>|z|      [0.025      0.975]\n",
       "--------------------------------------------------------------------------------------------\n",
       "Intercept                   -0.9345      0.226     -4.129      0.000      -1.378      -0.491\n",
       "DMDEDUC2x[T.AA]              0.5643      0.182      3.100      0.002       0.207       0.921\n",
       "DMDEDUC2x[T.College]         0.4496      0.190      2.367      0.018       0.077       0.822\n",
       "DMDEDUC2x[T.HS]              0.4218      0.191      2.203      0.028       0.047       0.797\n",
       "DMDEDUC2x[T.less_than_9]    -0.3983      0.201     -1.984      0.047      -0.792      -0.005\n",
       "RIAGENDR                     0.0313      0.117      0.267      0.789      -0.198       0.261\n",
       "RIDAGEYR                     0.0090      0.003      2.975      0.003       0.003       0.015\n",
       "============================================================================================\n",
       "\"\"\""
      ]
     },
     "execution_count": 30,
     "metadata": {},
     "output_type": "execute_result"
    }
   ],
   "source": [
    "model_drinks = sm.GLM.from_formula(\"ALQ110 ~ RIAGENDR + RIDAGEYR + DMDEDUC2x\", family=sm.families.Binomial(), data = df)\n",
    "results_drinks = model_drinks.fit()\n",
    "results_drinks.summary()"
   ]
  },
  {
   "cell_type": "markdown",
   "metadata": {},
   "source": [
    "__Q9a.__ Which of these predictor variables shows a statistically significant association with drinking?"
   ]
  },
  {
   "cell_type": "markdown",
   "metadata": {},
   "source": []
  },
  {
   "cell_type": "raw",
   "metadata": {},
   "source": [
    "Statistically significant predictors of drinking:\n",
    "* RIDAGEYR, p-value 0.003 (< significance level 0.05)\n",
    "* DMDEDUC2x (for College Graduates), p-value 0.018 (< significance level 0.05)\n",
    "* DMDEDUC2x (for Associates Degree Graduates), p-value 0.002 (< significance level 0.05)\n",
    "* DMDEDUC2x (for High School Graduates), p-value 0.028 (< significance level 0.05)\n",
    "* DMDEDUC2x (for people who completed less than 9th grade), p-value 0.047 (< significance level 0.05)\n",
    "\n",
    "* Note that the estimated coefficients for each of the DMDEDUC2x binary variables are relative to the reference level of \"people who completed grades 9 to 11\".\n"
   ]
  },
  {
   "cell_type": "markdown",
   "metadata": {},
   "source": [
    "__Q9b.__ What is the odds of a college educated, 50 year old woman drinking?"
   ]
  },
  {
   "cell_type": "markdown",
   "metadata": {},
   "source": []
  },
  {
   "cell_type": "code",
   "execution_count": 33,
   "metadata": {},
   "outputs": [
    {
     "data": {
      "text/plain": [
       "1.5676849860642206"
      ]
     },
     "execution_count": 33,
     "metadata": {},
     "output_type": "execute_result"
    }
   ],
   "source": [
    "# Predictor variables: DMDEDUC2x[T.College]\n",
    "# logodds = 0.4496\n",
    "odds = np.exp(0.4496)\n",
    "odds"
   ]
  },
  {
   "cell_type": "raw",
   "metadata": {},
   "source": [
    "The odds of a college educated, 50 year old woman drinking is 1.56\n"
   ]
  },
  {
   "cell_type": "markdown",
   "metadata": {},
   "source": [
    "__Q9c.__ What is the odds ratio between the drinking status for college graduates and high school graduates (with no college), holding gender and age fixed?"
   ]
  },
  {
   "cell_type": "markdown",
   "metadata": {},
   "source": []
  },
  {
   "cell_type": "code",
   "execution_count": 34,
   "metadata": {},
   "outputs": [
    {
     "data": {
      "text/plain": [
       "0.02779999999999999"
      ]
     },
     "execution_count": 34,
     "metadata": {},
     "output_type": "execute_result"
    }
   ],
   "source": [
    "# College - HS\n",
    "0.4496 - 0.4218"
   ]
  },
  {
   "cell_type": "raw",
   "metadata": {},
   "source": [
    "The odds ratio between the drinking status for college graduates and high school graduates (with no college), holding gender and age fixed: 0.0278\n"
   ]
  },
  {
   "cell_type": "markdown",
   "metadata": {},
   "source": [
    "__Q9d.__ Did the regression parameter for gender change to a meaningful degree when age and education were added to the model?"
   ]
  },
  {
   "cell_type": "markdown",
   "metadata": {},
   "source": []
  },
  {
   "cell_type": "raw",
   "metadata": {},
   "source": [
    "* The estimated coefficient for gender was 0.0491 in the single covariate model (regressing drinking on gender), with a standard error of 0.115\n",
    "* The estimated coefficient for gender was 0.0313 in the multiple covariates model (regressing drinking on gender, age and education), with a standard error of 0.117\n",
    "* The regression parameter for gender reduced in meaning - based on the decrease in the estimated coefficient and the slgiht increase in standard error - when we added new variables (age and education) to the logistic regression model\n"
   ]
  },
  {
   "cell_type": "markdown",
   "metadata": {},
   "source": [
    "## Question 10:\n",
    "\n",
    "Construct a CERES plot for the relationship between drinking and age (using the model that controls for gender and educational attainment)."
   ]
  },
  {
   "cell_type": "code",
   "execution_count": 35,
   "metadata": {},
   "outputs": [
    {
     "data": {
      "image/png": "[encoded data removed]",
      "text/plain": [
       "<Figure size 432x288 with 1 Axes>"
      ]
     },
     "metadata": {},
     "output_type": "display_data"
    }
   ],
   "source": [
    "fig = results_drinks.plot_ceres_residuals(\"RIDAGEYR\")\n",
    "ax = fig.get_axes()[0]\n",
    "ax.lines[0].set_alpha(0.2)\n",
    "_ = add_lowess(ax)"
   ]
  },
  {
   "cell_type": "markdown",
   "metadata": {},
   "source": [
    "__Q10a.__ Does the plot indicate any major non-linearity in the relationship between age and the log odds for drinking?"
   ]
  },
  {
   "cell_type": "raw",
   "metadata": {},
   "source": [
    "* The ceres plot shows that the red line does not seem to be linear\n",
    "* From 20 to 40 years old, there was a steeper increase\n",
    "* From 40 to 50 years old, there was minimal increase\n",
    "* From 50 to around 56 years old, there was a steeper increase again\n",
    "* From 56 to around 62 years old, there was a steep decrease\n",
    "* From 62 to around 69 years old, there was a steep increase\n",
    "* From 69 to 80 years old, there was a gentle followed by a steeper decrease\n",
    "\n",
    "* These increases and decreases, in conjunction with the change in slopes, indicate major non-linearities which occur approximately every 10 years of age\n"
   ]
  }
 ],
 "metadata": {
  "kernelspec": {
   "display_name": "Python 3",
   "language": "python",
   "name": "python3"
  },
  "language_info": {
   "codemirror_mode": {
    "name": "ipython",
    "version": 3
   },
   "file_extension": ".py",
   "mimetype": "text/x-python",
   "name": "python",
   "nbconvert_exporter": "python",
   "pygments_lexer": "ipython3",
   "version": "3.6.3"
  }
 },
 "nbformat": 4,
 "nbformat_minor": 1
}
