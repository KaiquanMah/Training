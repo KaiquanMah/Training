{
 "cells": [
  {
   "cell_type": "markdown",
   "metadata": {
    "colab_type": "text",
    "id": "FtUpdT75hF-f"
   },
   "source": [
    "# Week 2 Python Assessment\n",
    "\n",
    "This Jupyter Notebook is auxillary to the following assessment in this week.  To complete this assessment, you will complete the 7 questions outlined in this document and use the output from your python cells as answers.\n",
    "\n",
    "Your goal of this assignment is to construct linear and logistic regression models and interpret model paramters.\n",
    "\n",
    "Run the following cell to initialize your environment and begin the assessment."
   ]
  },
  {
   "cell_type": "code",
   "execution_count": 1,
   "metadata": {
    "colab": {},
    "colab_type": "code",
    "id": "9DTd5WWihF-h"
   },
   "outputs": [],
   "source": [
    "#### RUN THIS\n",
    "\n",
    "import warnings\n",
    "warnings.filterwarnings('ignore')\n",
    "\n",
    "import numpy as np\n",
    "import statsmodels.api as sm\n",
    "import pandas as pd  \n",
    "\n",
    "# boston housing prices dataset\n",
    "from sklearn.datasets import load_boston\n",
    "boston_dataset = load_boston() \n",
    "\n",
    "boston = pd.DataFrame(data=boston_dataset.data, columns=boston_dataset.feature_names)\n",
    "boston[\"MEDV\"] = boston_dataset.target\n",
    "\n",
    "\n",
    "# NHANES health dataset\n",
    "url = \"nhanes_2015_2016.csv\"\n",
    "NHANES = pd.read_csv(url)\n",
    "vars = [\"BPXSY1\", \"RIDAGEYR\", \"RIAGENDR\", \"RIDRETH1\", \"DMDEDUC2\", \"BMXBMI\", \"SMQ020\"]\n",
    "NHANES = NHANES[vars].dropna()\n",
    "# recoded to binary variables OR categorical variables with text\n",
    "NHANES[\"smq\"] = NHANES.SMQ020.replace({2: 0, 7: np.nan, 9: np.nan})\n",
    "NHANES[\"RIAGENDRx\"] = NHANES.RIAGENDR.replace({1: \"Male\", 2: \"Female\"})\n",
    "NHANES[\"DMDEDUC2x\"] = NHANES.DMDEDUC2.replace({1: \"lt9\", 2: \"x9_11\", 3: \"HS\", 4: \"SomeCollege\",5: \"College\", 7: np.nan, 9: np.nan})\n",
    "\n",
    "np.random.seed(123)"
   ]
  },
  {
   "cell_type": "markdown",
   "metadata": {
    "colab_type": "text",
    "id": "1aBNhueShF-l"
   },
   "source": [
    "Now that your notebook is ready, begin answering the questions below.\n",
    "\n",
    "### Questions 1-3\n",
    "\n",
    "The first three questions will be utilizing the Boston housing dataset seen in week 1. \n",
    "\n",
    "Here is the description for each column:\n",
    "\n",
    "* __CRIM:__ Per capita crime rate by town\n",
    "* __ZN:__ Proportion of residential land zoned for lots over 25,000 sq. ft\n",
    "* __INDUS:__ Proportion of non-retail business acres per town\n",
    "* __CHAS:__ Charles River dummy variable (= 1 if tract bounds river; 0 otherwise)\n",
    "* __NOX:__ Nitric oxide concentration (parts per 10 million)\n",
    "* __RM:__ Average number of rooms per dwelling\n",
    "* __AGE:__ Proportion of owner-occupied units built prior to 1940\n",
    "* __DIS:__ Weighted distances to five Boston employment centers\n",
    "* __RAD:__ Index of accessibility to radial highways\n",
    "* __TAX:__ Full-value property tax rate per $\\$10,000$\n",
    "* __PTRATIO:__ Pupil-teacher ratio by town\n",
    "* __B:__ $1000(Bk — 0.63)^2$, where Bk is the proportion of [people of African American descent] by town\n",
    "* __LSTAT:__ Percentage of lower status of the population\n",
    "* __MEDV:__ Median value of owner-occupied homes in $\\$1000$s\n",
    "\n",
    "Uncomment and run the following code to generate a simple linear regression and output the model summary:"
   ]
  },
  {
   "cell_type": "code",
   "execution_count": 2,
   "metadata": {
    "colab": {},
    "colab_type": "code",
    "id": "23CDPyFThF-m"
   },
   "outputs": [
    {
     "data": {
      "text/html": [
       "<table class=\"simpletable\">\n",
       "<caption>OLS Regression Results</caption>\n",
       "<tr>\n",
       "  <th>Dep. Variable:</th>          <td>MEDV</td>       <th>  R-squared:         </th> <td>   0.541</td>\n",
       "</tr>\n",
       "<tr>\n",
       "  <th>Model:</th>                   <td>OLS</td>       <th>  Adj. R-squared:    </th> <td>   0.539</td>\n",
       "</tr>\n",
       "<tr>\n",
       "  <th>Method:</th>             <td>Least Squares</td>  <th>  F-statistic:       </th> <td>   295.9</td>\n",
       "</tr>\n",
       "<tr>\n",
       "  <th>Date:</th>             <td>Sat, 01 Jan 2022</td> <th>  Prob (F-statistic):</th> <td>1.15e-85</td>\n",
       "</tr>\n",
       "<tr>\n",
       "  <th>Time:</th>                 <td>02:06:51</td>     <th>  Log-Likelihood:    </th> <td> -1643.5</td>\n",
       "</tr>\n",
       "<tr>\n",
       "  <th>No. Observations:</th>      <td>   506</td>      <th>  AIC:               </th> <td>   3293.</td>\n",
       "</tr>\n",
       "<tr>\n",
       "  <th>Df Residuals:</th>          <td>   503</td>      <th>  BIC:               </th> <td>   3306.</td>\n",
       "</tr>\n",
       "<tr>\n",
       "  <th>Df Model:</th>              <td>     2</td>      <th>                     </th>     <td> </td>   \n",
       "</tr>\n",
       "<tr>\n",
       "  <th>Covariance Type:</th>      <td>nonrobust</td>    <th>                     </th>     <td> </td>   \n",
       "</tr>\n",
       "</table>\n",
       "<table class=\"simpletable\">\n",
       "<tr>\n",
       "      <td></td>         <th>coef</th>     <th>std err</th>      <th>t</th>      <th>P>|t|</th>  <th>[0.025</th>    <th>0.975]</th>  \n",
       "</tr>\n",
       "<tr>\n",
       "  <th>Intercept</th> <td>  -29.3017</td> <td>    2.592</td> <td>  -11.303</td> <td> 0.000</td> <td>  -34.395</td> <td>  -24.208</td>\n",
       "</tr>\n",
       "<tr>\n",
       "  <th>RM</th>        <td>    8.3975</td> <td>    0.406</td> <td>   20.706</td> <td> 0.000</td> <td>    7.601</td> <td>    9.194</td>\n",
       "</tr>\n",
       "<tr>\n",
       "  <th>CRIM</th>      <td>   -0.2618</td> <td>    0.033</td> <td>   -7.899</td> <td> 0.000</td> <td>   -0.327</td> <td>   -0.197</td>\n",
       "</tr>\n",
       "</table>\n",
       "<table class=\"simpletable\">\n",
       "<tr>\n",
       "  <th>Omnibus:</th>       <td>170.471</td> <th>  Durbin-Watson:     </th> <td>   0.805</td> \n",
       "</tr>\n",
       "<tr>\n",
       "  <th>Prob(Omnibus):</th> <td> 0.000</td>  <th>  Jarque-Bera (JB):  </th> <td>1034.461</td> \n",
       "</tr>\n",
       "<tr>\n",
       "  <th>Skew:</th>          <td> 1.331</td>  <th>  Prob(JB):          </th> <td>2.34e-225</td>\n",
       "</tr>\n",
       "<tr>\n",
       "  <th>Kurtosis:</th>      <td> 9.479</td>  <th>  Cond. No.          </th> <td>    92.2</td> \n",
       "</tr>\n",
       "</table><br/><br/>Warnings:<br/>[1] Standard Errors assume that the covariance matrix of the errors is correctly specified."
      ],
      "text/plain": [
       "<class 'statsmodels.iolib.summary.Summary'>\n",
       "\"\"\"\n",
       "                            OLS Regression Results                            \n",
       "==============================================================================\n",
       "Dep. Variable:                   MEDV   R-squared:                       0.541\n",
       "Model:                            OLS   Adj. R-squared:                  0.539\n",
       "Method:                 Least Squares   F-statistic:                     295.9\n",
       "Date:                Sat, 01 Jan 2022   Prob (F-statistic):           1.15e-85\n",
       "Time:                        02:06:51   Log-Likelihood:                -1643.5\n",
       "No. Observations:                 506   AIC:                             3293.\n",
       "Df Residuals:                     503   BIC:                             3306.\n",
       "Df Model:                           2                                         \n",
       "Covariance Type:            nonrobust                                         \n",
       "==============================================================================\n",
       "                 coef    std err          t      P>|t|      [0.025      0.975]\n",
       "------------------------------------------------------------------------------\n",
       "Intercept    -29.3017      2.592    -11.303      0.000     -34.395     -24.208\n",
       "RM             8.3975      0.406     20.706      0.000       7.601       9.194\n",
       "CRIM          -0.2618      0.033     -7.899      0.000      -0.327      -0.197\n",
       "==============================================================================\n",
       "Omnibus:                      170.471   Durbin-Watson:                   0.805\n",
       "Prob(Omnibus):                  0.000   Jarque-Bera (JB):             1034.461\n",
       "Skew:                           1.331   Prob(JB):                    2.34e-225\n",
       "Kurtosis:                       9.479   Cond. No.                         92.2\n",
       "==============================================================================\n",
       "\n",
       "Warnings:\n",
       "[1] Standard Errors assume that the covariance matrix of the errors is correctly specified.\n",
       "\"\"\""
      ]
     },
     "execution_count": 2,
     "metadata": {},
     "output_type": "execute_result"
    }
   ],
   "source": [
    "model = sm.OLS.from_formula(\"MEDV ~ RM + CRIM\", data=boston)\n",
    "result = model.fit()\n",
    "result.summary()"
   ]
  },
  {
   "cell_type": "markdown",
   "metadata": {
    "colab_type": "text",
    "id": "P5P1CZ6XhF-s"
   },
   "source": [
    "Utilizing the above output, answer the following three questions:\n",
    "\n",
    "#### Question 1 (You'll answer this question within the quiz that follows this notebook)\n",
    "\n",
    "What is the value of the coefficient for predictor __RM__?\n",
    "\n",
    "#### Question 2 (You'll answer this question within the quiz that follows this notebook)\n",
    "\n",
    "Are the predictors for this model statistically significant, yes or no? (Hint: What are their p-values?)\n"
   ]
  },
  {
   "cell_type": "raw",
   "metadata": {},
   "source": [
    "1 - RM  coefficient 8.3975\n",
    "2 - Yes, statistically significant. p<0.05 for a 95% confidence lvl"
   ]
  },
  {
   "cell_type": "markdown",
   "metadata": {},
   "source": [
    "Run the following code for question 3:"
   ]
  },
  {
   "cell_type": "code",
   "execution_count": 3,
   "metadata": {
    "colab": {},
    "colab_type": "code",
    "id": "180gD-NbhF-s"
   },
   "outputs": [
    {
     "data": {
      "text/html": [
       "<table class=\"simpletable\">\n",
       "<caption>OLS Regression Results</caption>\n",
       "<tr>\n",
       "  <th>Dep. Variable:</th>          <td>MEDV</td>       <th>  R-squared:         </th> <td>   0.646</td> \n",
       "</tr>\n",
       "<tr>\n",
       "  <th>Model:</th>                   <td>OLS</td>       <th>  Adj. R-squared:    </th> <td>   0.644</td> \n",
       "</tr>\n",
       "<tr>\n",
       "  <th>Method:</th>             <td>Least Squares</td>  <th>  F-statistic:       </th> <td>   304.9</td> \n",
       "</tr>\n",
       "<tr>\n",
       "  <th>Date:</th>             <td>Sat, 01 Jan 2022</td> <th>  Prob (F-statistic):</th> <td>1.19e-112</td>\n",
       "</tr>\n",
       "<tr>\n",
       "  <th>Time:</th>                 <td>02:09:28</td>     <th>  Log-Likelihood:    </th> <td> -1577.8</td> \n",
       "</tr>\n",
       "<tr>\n",
       "  <th>No. Observations:</th>      <td>   506</td>      <th>  AIC:               </th> <td>   3164.</td> \n",
       "</tr>\n",
       "<tr>\n",
       "  <th>Df Residuals:</th>          <td>   502</td>      <th>  BIC:               </th> <td>   3180.</td> \n",
       "</tr>\n",
       "<tr>\n",
       "  <th>Df Model:</th>              <td>     3</td>      <th>                     </th>     <td> </td>    \n",
       "</tr>\n",
       "<tr>\n",
       "  <th>Covariance Type:</th>      <td>nonrobust</td>    <th>                     </th>     <td> </td>    \n",
       "</tr>\n",
       "</table>\n",
       "<table class=\"simpletable\">\n",
       "<tr>\n",
       "      <td></td>         <th>coef</th>     <th>std err</th>      <th>t</th>      <th>P>|t|</th>  <th>[0.025</th>    <th>0.975]</th>  \n",
       "</tr>\n",
       "<tr>\n",
       "  <th>Intercept</th> <td>   -2.4978</td> <td>    3.165</td> <td>   -0.789</td> <td> 0.430</td> <td>   -8.717</td> <td>    3.721</td>\n",
       "</tr>\n",
       "<tr>\n",
       "  <th>RM</th>        <td>    5.2092</td> <td>    0.442</td> <td>   11.785</td> <td> 0.000</td> <td>    4.341</td> <td>    6.078</td>\n",
       "</tr>\n",
       "<tr>\n",
       "  <th>CRIM</th>      <td>   -0.1011</td> <td>    0.032</td> <td>   -3.162</td> <td> 0.002</td> <td>   -0.164</td> <td>   -0.038</td>\n",
       "</tr>\n",
       "<tr>\n",
       "  <th>LSTAT</th>     <td>   -0.5804</td> <td>    0.048</td> <td>  -12.201</td> <td> 0.000</td> <td>   -0.674</td> <td>   -0.487</td>\n",
       "</tr>\n",
       "</table>\n",
       "<table class=\"simpletable\">\n",
       "<tr>\n",
       "  <th>Omnibus:</th>       <td>171.189</td> <th>  Durbin-Watson:     </th> <td>   0.822</td> \n",
       "</tr>\n",
       "<tr>\n",
       "  <th>Prob(Omnibus):</th> <td> 0.000</td>  <th>  Jarque-Bera (JB):  </th> <td> 623.248</td> \n",
       "</tr>\n",
       "<tr>\n",
       "  <th>Skew:</th>          <td> 1.531</td>  <th>  Prob(JB):          </th> <td>4.61e-136</td>\n",
       "</tr>\n",
       "<tr>\n",
       "  <th>Kurtosis:</th>      <td> 7.492</td>  <th>  Cond. No.          </th> <td>    216.</td> \n",
       "</tr>\n",
       "</table><br/><br/>Warnings:<br/>[1] Standard Errors assume that the covariance matrix of the errors is correctly specified."
      ],
      "text/plain": [
       "<class 'statsmodels.iolib.summary.Summary'>\n",
       "\"\"\"\n",
       "                            OLS Regression Results                            \n",
       "==============================================================================\n",
       "Dep. Variable:                   MEDV   R-squared:                       0.646\n",
       "Model:                            OLS   Adj. R-squared:                  0.644\n",
       "Method:                 Least Squares   F-statistic:                     304.9\n",
       "Date:                Sat, 01 Jan 2022   Prob (F-statistic):          1.19e-112\n",
       "Time:                        02:09:28   Log-Likelihood:                -1577.8\n",
       "No. Observations:                 506   AIC:                             3164.\n",
       "Df Residuals:                     502   BIC:                             3180.\n",
       "Df Model:                           3                                         \n",
       "Covariance Type:            nonrobust                                         \n",
       "==============================================================================\n",
       "                 coef    std err          t      P>|t|      [0.025      0.975]\n",
       "------------------------------------------------------------------------------\n",
       "Intercept     -2.4978      3.165     -0.789      0.430      -8.717       3.721\n",
       "RM             5.2092      0.442     11.785      0.000       4.341       6.078\n",
       "CRIM          -0.1011      0.032     -3.162      0.002      -0.164      -0.038\n",
       "LSTAT         -0.5804      0.048    -12.201      0.000      -0.674      -0.487\n",
       "==============================================================================\n",
       "Omnibus:                      171.189   Durbin-Watson:                   0.822\n",
       "Prob(Omnibus):                  0.000   Jarque-Bera (JB):              623.248\n",
       "Skew:                           1.531   Prob(JB):                    4.61e-136\n",
       "Kurtosis:                       7.492   Cond. No.                         216.\n",
       "==============================================================================\n",
       "\n",
       "Warnings:\n",
       "[1] Standard Errors assume that the covariance matrix of the errors is correctly specified.\n",
       "\"\"\""
      ]
     },
     "execution_count": 3,
     "metadata": {},
     "output_type": "execute_result"
    }
   ],
   "source": [
    "## For Question 3\n",
    "model = sm.OLS.from_formula(\"MEDV ~ RM + CRIM + LSTAT\", data=boston)\n",
    "result = model.fit()\n",
    "result.summary()"
   ]
  },
  {
   "cell_type": "markdown",
   "metadata": {
    "colab_type": "text",
    "id": "AsKVaRKkhF-v"
   },
   "source": [
    "#### Question 3 (You'll answer this question within the quiz that follows this notebook)\n",
    "\n",
    "What happened to our R-Squared value when we added the third predictor __LSTAT__ to our initial model?\n",
    "  \n",
    "\n",
    "#### Question 4 (You'll answer this question within the quiz that follows this notebook)\n",
    "\n",
    "What type of model should we use when our target outcome, or dependent variable is continuous?"
   ]
  },
  {
   "cell_type": "raw",
   "metadata": {},
   "source": [
    "3 - R2 increased from 0.541 to 0.646\n",
    "4 - linear regn"
   ]
  },
  {
   "cell_type": "markdown",
   "metadata": {
    "colab_type": "text",
    "id": "zVe5LDXahF-x"
   },
   "source": [
    "### Questions 5-6\n",
    "\n",
    "The next two questions will involve the NHANES dataset.\n",
    "\n",
    "Uncomment and run the following code to generate a logistics regression and output the model summary:"
   ]
  },
  {
   "cell_type": "code",
   "execution_count": 4,
   "metadata": {
    "colab": {},
    "colab_type": "code",
    "id": "5So50jbZhF-x"
   },
   "outputs": [
    {
     "data": {
      "text/html": [
       "<table class=\"simpletable\">\n",
       "<caption>Generalized Linear Model Regression Results</caption>\n",
       "<tr>\n",
       "  <th>Dep. Variable:</th>         <td>smq</td>       <th>  No. Observations:  </th>  <td>  5093</td>  \n",
       "</tr>\n",
       "<tr>\n",
       "  <th>Model:</th>                 <td>GLM</td>       <th>  Df Residuals:      </th>  <td>  5086</td>  \n",
       "</tr>\n",
       "<tr>\n",
       "  <th>Model Family:</th>       <td>Binomial</td>     <th>  Df Model:          </th>  <td>     6</td>  \n",
       "</tr>\n",
       "<tr>\n",
       "  <th>Link Function:</th>        <td>logit</td>      <th>  Scale:             </th> <td>  1.0000</td> \n",
       "</tr>\n",
       "<tr>\n",
       "  <th>Method:</th>               <td>IRLS</td>       <th>  Log-Likelihood:    </th> <td> -3201.2</td> \n",
       "</tr>\n",
       "<tr>\n",
       "  <th>Date:</th>           <td>Sat, 01 Jan 2022</td> <th>  Deviance:          </th> <td>  6402.4</td> \n",
       "</tr>\n",
       "<tr>\n",
       "  <th>Time:</th>               <td>02:10:57</td>     <th>  Pearson chi2:      </th> <td>5.10e+03</td> \n",
       "</tr>\n",
       "<tr>\n",
       "  <th>No. Iterations:</th>         <td>4</td>        <th>  Covariance Type:   </th> <td>nonrobust</td>\n",
       "</tr>\n",
       "</table>\n",
       "<table class=\"simpletable\">\n",
       "<tr>\n",
       "              <td></td>                <th>coef</th>     <th>std err</th>      <th>z</th>      <th>P>|z|</th>  <th>[0.025</th>    <th>0.975]</th>  \n",
       "</tr>\n",
       "<tr>\n",
       "  <th>Intercept</th>                <td>   -2.3060</td> <td>    0.114</td> <td>  -20.174</td> <td> 0.000</td> <td>   -2.530</td> <td>   -2.082</td>\n",
       "</tr>\n",
       "<tr>\n",
       "  <th>RIAGENDRx[T.Male]</th>        <td>    0.9096</td> <td>    0.060</td> <td>   15.118</td> <td> 0.000</td> <td>    0.792</td> <td>    1.028</td>\n",
       "</tr>\n",
       "<tr>\n",
       "  <th>DMDEDUC2x[T.HS]</th>          <td>    0.9434</td> <td>    0.090</td> <td>   10.521</td> <td> 0.000</td> <td>    0.768</td> <td>    1.119</td>\n",
       "</tr>\n",
       "<tr>\n",
       "  <th>DMDEDUC2x[T.SomeCollege]</th> <td>    0.8322</td> <td>    0.084</td> <td>    9.865</td> <td> 0.000</td> <td>    0.667</td> <td>    0.998</td>\n",
       "</tr>\n",
       "<tr>\n",
       "  <th>DMDEDUC2x[T.lt9]</th>         <td>    0.2662</td> <td>    0.109</td> <td>    2.438</td> <td> 0.015</td> <td>    0.052</td> <td>    0.480</td>\n",
       "</tr>\n",
       "<tr>\n",
       "  <th>DMDEDUC2x[T.x9_11]</th>       <td>    1.0986</td> <td>    0.107</td> <td>   10.296</td> <td> 0.000</td> <td>    0.889</td> <td>    1.308</td>\n",
       "</tr>\n",
       "<tr>\n",
       "  <th>RIDAGEYR</th>                 <td>    0.0183</td> <td>    0.002</td> <td>   10.582</td> <td> 0.000</td> <td>    0.015</td> <td>    0.022</td>\n",
       "</tr>\n",
       "</table>"
      ],
      "text/plain": [
       "<class 'statsmodels.iolib.summary.Summary'>\n",
       "\"\"\"\n",
       "                 Generalized Linear Model Regression Results                  \n",
       "==============================================================================\n",
       "Dep. Variable:                    smq   No. Observations:                 5093\n",
       "Model:                            GLM   Df Residuals:                     5086\n",
       "Model Family:                Binomial   Df Model:                            6\n",
       "Link Function:                  logit   Scale:                          1.0000\n",
       "Method:                          IRLS   Log-Likelihood:                -3201.2\n",
       "Date:                Sat, 01 Jan 2022   Deviance:                       6402.4\n",
       "Time:                        02:10:57   Pearson chi2:                 5.10e+03\n",
       "No. Iterations:                     4   Covariance Type:             nonrobust\n",
       "============================================================================================\n",
       "                               coef    std err          z      P>|z|      [0.025      0.975]\n",
       "--------------------------------------------------------------------------------------------\n",
       "Intercept                   -2.3060      0.114    -20.174      0.000      -2.530      -2.082\n",
       "RIAGENDRx[T.Male]            0.9096      0.060     15.118      0.000       0.792       1.028\n",
       "DMDEDUC2x[T.HS]              0.9434      0.090     10.521      0.000       0.768       1.119\n",
       "DMDEDUC2x[T.SomeCollege]     0.8322      0.084      9.865      0.000       0.667       0.998\n",
       "DMDEDUC2x[T.lt9]             0.2662      0.109      2.438      0.015       0.052       0.480\n",
       "DMDEDUC2x[T.x9_11]           1.0986      0.107     10.296      0.000       0.889       1.308\n",
       "RIDAGEYR                     0.0183      0.002     10.582      0.000       0.015       0.022\n",
       "============================================================================================\n",
       "\"\"\""
      ]
     },
     "execution_count": 4,
     "metadata": {},
     "output_type": "execute_result"
    }
   ],
   "source": [
    "model = sm.GLM.from_formula(\"smq ~ RIAGENDRx + RIDAGEYR + DMDEDUC2x\", family=sm.families.Binomial(), data=NHANES)\n",
    "result = model.fit()\n",
    "result.summary()"
   ]
  },
  {
   "cell_type": "markdown",
   "metadata": {
    "colab_type": "text",
    "id": "_T3X6HbUhF-1"
   },
   "source": [
    "#### Question 5 (You'll answer this question within the quiz that follows this notebook)\n",
    "\n",
    "Which of our predictors has the largest coefficient?\n",
    "\n",
    "\n",
    "#### Question 6 (You'll answer this question within the quiz that follows this notebook)\n",
    "\n",
    "Which values for DMDEDUC2x and RIAGENDRx are represented in our intercept, or what is our reference level?\n",
    "\n",
    "\n",
    "#### Question 7 (You'll answer this question within the quiz that follows this notebook)\n",
    "\n",
    "What model should we use when our target outcome, or dependent variable is binary, or only has two outputs, 0 and 1.\n"
   ]
  },
  {
   "cell_type": "raw",
   "metadata": {},
   "source": [
    "5 - DMDEDUC2x[T.x9_11]\t1.0986\n",
    "6 - Female and College \n",
    "7 - logistic regn"
   ]
  }
 ],
 "metadata": {
  "colab": {
   "collapsed_sections": [],
   "name": "w2_assessment.ipynb",
   "provenance": [],
   "version": "0.3.2"
  },
  "kernelspec": {
   "display_name": "Python 3",
   "language": "python",
   "name": "python3"
  },
  "language_info": {
   "codemirror_mode": {
    "name": "ipython",
    "version": 3
   },
   "file_extension": ".py",
   "mimetype": "text/x-python",
   "name": "python",
   "nbconvert_exporter": "python",
   "pygments_lexer": "ipython3",
   "version": "3.6.3"
  }
 },
 "nbformat": 4,
 "nbformat_minor": 1
}
