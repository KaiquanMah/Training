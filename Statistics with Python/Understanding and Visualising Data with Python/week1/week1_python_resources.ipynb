{
 "cells": [
  {
   "cell_type": "markdown",
   "metadata": {
    "colab_type": "text",
    "id": "tPxurgKK6mUZ"
   },
   "source": [
    "### Python Resources\n",
    "The purpose of this document is to direct you to resources that you may find useful if you decide to do a deeper dive into Python. This course is not meant to be an introduction to programming, nor an introduction to Python, but if you find yourself interested in exploring Python further, or feel as if this is a useful skill, this document aims to direct you to resources that you may find useful. If you have a background in Python or programming, a style guides are included below to show how Python may differ from other programming languages or give you a launching point for diving deeper into more advanced packages. This course does not endorse the use or non-use of any particular resource, but the author has found these resources useful in their exploration of programming and Python in particular\n",
    "\n",
    "### The Python Documentation\n",
    "Any reference that does not begin with the Python documentation would not be complete. The authors of the language, as well as the community that supports it, have developed a great set of tutorials, documentation, and references around Python. When in doubt, this is often the first place that you should look if you run into a scary error or would like to learn more about a specific function. The documentation can be found here: [Python Documentation](https://docs.python.org/3/)\n",
    "\n",
    "\n"
   ]
  },
  {
   "cell_type": "markdown",
   "metadata": {
    "colab_type": "text",
    "id": "8OH-7kq_3Ei4"
   },
   "source": [
    "### Python Programming Introductions\n",
    "\n",
    "Below are resources to help you along your way in learning Python. While it is great to consume material, in programming there is no substitute for actually writing code. For every hour that you spend learning, you should spend about twice that amount of time writing code for cool problems or working out examples. Coding is best learned through actually coding!\n",
    "\n",
    "* [Coursera](https://www.coursera.org/courses?query=python) has several offerings for Python that you can take in addition to this course. These courses will go into depth into Python programming and how to use it in an applied setting \n",
    "* [Code Academy](https://www.codecademy.com/learn/learn-python) is another resources that is great for learning Python (and other programming languages). While not as focused as Cousera, this is a quick way to get up-and-running with Python\n",
    "* YouTube is another great resource for online learning and there are several \"courses\" for learning Python. We recommend trying several sets of videos to see which you like best and using multiple video series to learn since each will present the material in a slightly different way\n",
    "* There are tens of books on programming in Python that are great if you prefer to read. More so than the other resources, be sure to code what you learn. It is easy to read about coding, but you really learn to code by coding!\n",
    "* If you have a background in coding, the authors have found the tutorial at [Tutorials Point](https://www.tutorialspoint.com/python/index.htm) to be useful in getting started with Python. This tutorial assumes that you have some background in coding in another language"
   ]
  },
  {
   "cell_type": "markdown",
   "metadata": {
    "colab_type": "text",
    "id": "PdurMQjI2rQn"
   },
   "source": [
    "### Cheatsheets and References\n",
    "\n",
    "There are a variety of one-pagers and cheat-sheets available for Python that summarize the language in a few simple pages. These resources tend to be more aimed at someone who knows the language, or has experience in the language, but would like a refresher course in how the language works. \n",
    "\n",
    "* [Cheatsheet for Numpy](https://www.datacamp.com/community/blog/python-numpy-cheat-sheet#gs.AK5ZBgE)\n",
    "* [Cheatsheet for Datawrangling](https://www.datacamp.com/community/blog/pandas-cheat-sheet-python#gs.HPFoRIc)\n",
    "* [Cheatsheet for Pandas](https://www.datacamp.com/community/blog/python-pandas-cheat-sheet#gs.oundfxM)\n",
    "* [Cheatsheet for SciPy](https://www.datacamp.com/community/blog/python-scipy-cheat-sheet#gs.JDSg3OI)\n",
    "* [Cheatsheet for Matplotlib](https://www.datacamp.com/community/blog/python-matplotlib-cheat-sheet#gs.uEKySpY)\n",
    "\n",
    "\n"
   ]
  },
  {
   "cell_type": "markdown",
   "metadata": {
    "colab_type": "text",
    "id": "swjetdNA2_iq"
   },
   "source": [
    "### Python Style Guides\n",
    "\n",
    "As you learn to code, you will find that you will begin to develop your own style. Sometimes this is good. Most times, this can be detrimental to your code readability and, worse, can hinder you from finding bugs in your own code in extreme cases. \n",
    "\n",
    "It is best to learn good coding habits from the beginning and the [Google Style Guide](https://github.com/google/styleguide/blob/gh-pages/pyguide.md) is a great place to start. We will mention some of these best practices here."
   ]
  },
  {
   "cell_type": "markdown",
   "metadata": {
    "colab_type": "text",
    "id": "iNXpVVq6zSfY"
   },
   "source": [
    "#### Consistent Indenting\n",
    "Python will generally 'yell' at you if your indenting is incorrect. It is good to use an editor that takes care of this for you. In general, four spaces are preferred for indenting and you should not mix tabs and spaces. "
   ]
  },
  {
   "cell_type": "code",
   "execution_count": 0,
   "metadata": {
    "colab": {},
    "colab_type": "code",
    "id": "xc6e9f0SCvbh"
   },
   "outputs": [],
   "source": [
    "# Good Indenting - four spaces are standard but consistiency is key\n",
    "result = []\n",
    "for x in range(10):\n",
    "    for y in range(5):\n",
    "        if x * y > 10:\n",
    "            result.append((x, y))\n",
    "print (result)\n",
    "\n",
    "# Bad indenting\n",
    "result = []\n",
    "for x in range(10):\n",
    "  for y in range(5):\n",
    "     if x * y > 10:\n",
    "               result.append((x, y))\n",
    "print (result)"
   ]
  },
  {
   "cell_type": "markdown",
   "metadata": {
    "colab_type": "text",
    "id": "ErsdjHdUDixX"
   },
   "source": [
    "#### Commenting\n",
    "\n",
    "Comments seem weird when you first begin programming - why would I include 'code' that doesn't run? Comments are probably some of the most important aspects of code. They help other read code that is difficult for them to understand, and they, more importantly, are helpful for yourself if you look at the code in a few weeks and need clarity on why you did something. Always comment and comment well.\n",
    "\n"
   ]
  },
  {
   "cell_type": "code",
   "execution_count": 1,
   "metadata": {
    "colab": {},
    "colab_type": "code",
    "id": "qBTE3rwqEFMm"
   },
   "outputs": [
    {
     "name": "stdout",
     "output_type": "stream",
     "text": [
      "0\n",
      "1\n",
      "2\n",
      "3\n",
      "4\n",
      "5\n",
      "6\n",
      "7\n",
      "8\n",
      "9\n",
      "0\n",
      "1\n",
      "2\n",
      "3\n",
      "4\n",
      "5\n",
      "6\n",
      "7\n",
      "8\n",
      "9\n",
      "0\n",
      "1\n",
      "2\n",
      "3\n",
      "4\n",
      "5\n",
      "6\n",
      "7\n",
      "8\n",
      "9\n"
     ]
    }
   ],
   "source": [
    "################################################################################\n",
    "#                                                                              #\n",
    "#                               Good Commenting                                #\n",
    "#                                                                              #\n",
    "################################################################################\n",
    "\n",
    "################################ Bad Commenting ################################\n",
    "\n",
    "# My loop\n",
    "for x in range(10):\n",
    "    print (x)\n",
    "    \n",
    "############################## Better Commenting ###############################\n",
    "\n",
    "# Looping from zero to ten\n",
    "for x in range(10):\n",
    "    print (x)\n",
    "\n",
    "############################# Preferred Commenting #############################\n",
    "\n",
    "# Print out the numbers from zero to ten\n",
    "for x in range(10):\n",
    "    print (x)"
   ]
  },
  {
   "cell_type": "code",
   "execution_count": 2,
   "metadata": {
    "colab": {},
    "colab_type": "code",
    "id": "c0kgjakBF5X8"
   },
   "outputs": [
    {
     "name": "stdout",
     "output_type": "stream",
     "text": [
      "1\n",
      "2\n",
      "3\n",
      "4\n",
      "5\n",
      "6\n",
      "6\n",
      "7\n",
      "8\n",
      "9\n",
      "1\n",
      "2\n",
      "3\n",
      "4\n",
      "5\n",
      "6\n",
      "6\n",
      "7\n",
      "8\n",
      "9\n"
     ]
    }
   ],
   "source": [
    "################################################################################\n",
    "#                                                                              #\n",
    "#                         Mixing Commenting Strategies                         #\n",
    "#                                                                              #\n",
    "################################################################################\n",
    "\n",
    "# Try not to mix commenting styles in the same blocks - just be consistient\n",
    "\n",
    "########### Bad - mixing doc-strings commenting and line commenting ############\n",
    "\n",
    "''' Printing one to five, a six, and then six to nine'''\n",
    "for x in range(10):\n",
    "    # If x > 5, then print the value\n",
    "    if x > 5: \n",
    "        print (x)\n",
    "    else:\n",
    "        print (x + 1)\n",
    "        \n",
    "##################### Good - no mixing of comment types ########################\n",
    "\n",
    "# Printing one to five, a six, and then six to nine\n",
    "for x in range(10):\n",
    "    # If x > 5, then print the value\n",
    "    if x > 5: \n",
    "        print (x)\n",
    "    else:\n",
    "        print (x + 1)"
   ]
  },
  {
   "cell_type": "markdown",
   "metadata": {
    "colab_type": "text",
    "id": "UDSKv5J3G9j-"
   },
   "source": [
    "#### Line Length\n",
    "\n",
    "Try to avoid excessively long lines. Standard practice is to keep lines to no longer than 80 characters. While this is not a hard rule, it is a good practice to follow for readability"
   ]
  },
  {
   "cell_type": "code",
   "execution_count": 3,
   "metadata": {
    "colab": {},
    "colab_type": "code",
    "id": "QhSQsFKeHZae"
   },
   "outputs": [],
   "source": [
    "######################### Bad - This code is too long ##########################\n",
    "\n",
    "my_random_array = [1, 2, 3, 4, 5, 6, 7, 8, 9, 10, 1, 2, 3, 4, 5, 6, 7, 8, 9, 10, 1, 2, 3, 4, 5, 6, 7, 8, 9, 10, 1, 2, 3, 4, 5, 6, 7, 8, 9, 10]\n",
    "\n",
    "############ Good - this code is wrapped to avoid excessive length #############\n",
    "\n",
    "my_random_array = [1, 2, 3, 4, 5, 6, 7, 8, 9, 10, 1, 2, 3, 4, 5, 6, 7, 8, 9, \n",
    "                   10, 1, 2, 3, 4, 5, 6, 7, 8, 9, 10, 1, 2, 3, 4, 5, 6, 7, 8, \n",
    "                   9, 10]"
   ]
  },
  {
   "cell_type": "markdown",
   "metadata": {
    "colab_type": "text",
    "id": "-IVW9wL8JC9O"
   },
   "source": [
    "#### White Space\n",
    "Utilizing Whitespace is a great way to improve the way that your code looks. In general the following can be helpful to improve the look of your code\n",
    "\n",
    "* Try to space out your code and introduce whitespace to improve readability\n",
    "* Use spacing to separate function arguments\n",
    "* Do not over-do spacing. Too many spaces between code blocks makes it difficult to organize code well"
   ]
  },
  {
   "cell_type": "code",
   "execution_count": 0,
   "metadata": {
    "colab": {},
    "colab_type": "code",
    "id": "tkzduWdeiwSX"
   },
   "outputs": [],
   "source": [
    "################ Bad - this code has bad whitespace management #################\n",
    "\n",
    "my_player = player()\n",
    "player_attributes = get_player_attributes(my_player,height,weight,   birthday)\n",
    "\n",
    "\n",
    "player_attributes[0]*=12 # convert from feet to inches\n",
    "\n",
    "\n",
    "\n",
    "\n",
    "player.shoot_ball()\n",
    "\n",
    "\n",
    "########################## Good whitespace management ##########################\n",
    "\n",
    "my_player = player()\n",
    "player_attributes = get_player_attributes(my_player, height, weight, birthday)\n",
    "\n",
    "# convert from feet to inches\n",
    "player_attributes[0] *= 12 \n",
    "\n",
    "player.shoot_ball()"
   ]
  },
  {
   "cell_type": "markdown",
   "metadata": {
    "colab_type": "text",
    "id": "5Wafm9FsuNoi"
   },
   "source": [
    "#### The tip of the iceberg\n",
    "\n",
    "Take a look at code out in the wild if you are really curious. How are they coding specific things? How do they manage spacing in loops? How do they manage the whitespace in argument list? \n",
    "\n",
    "You will learn to code by coding, and you will develop your own style but starting out with good habits ensures that your code is easy to read by others and, most importantly, yourself. Good luck!"
   ]
  }
 ],
 "metadata": {
  "colab": {
   "name": "Diving Deeper Into Python.ipynb",
   "provenance": [],
   "version": "0.3.2"
  },
  "kernelspec": {
   "display_name": "Python 3",
   "language": "python",
   "name": "python3"
  },
  "language_info": {
   "codemirror_mode": {
    "name": "ipython",
    "version": 3
   },
   "file_extension": ".py",
   "mimetype": "text/x-python",
   "name": "python",
   "nbconvert_exporter": "python",
   "pygments_lexer": "ipython3",
   "version": "3.6.3"
  }
 },
 "nbformat": 4,
 "nbformat_minor": 1
}
