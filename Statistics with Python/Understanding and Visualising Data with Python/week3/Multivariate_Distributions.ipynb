{
 "cells": [
  {
   "cell_type": "markdown",
   "metadata": {},
   "source": [
    "## Multivariate Distributions in Python\n",
    "\n",
    "Sometimes we can get a lot of information about how two variables (or more) relate if we plot them together. This tutorial aims to show how plotting two variables together can give us information that plotting each one separately may miss.\n",
    "\n"
   ]
  },
  {
   "cell_type": "code",
   "execution_count": 27,
   "metadata": {},
   "outputs": [
    {
     "data": {
      "image/png": "[encoded data removed]",
      "text/plain": [
       "<Figure size 720x360 with 2 Axes>"
      ]
     },
     "metadata": {},
     "output_type": "display_data"
    }
   ],
   "source": [
    "# import the packages we are going to be using\n",
    "import numpy as np # for getting our distribution\n",
    "import matplotlib.pyplot as plt # for plotting\n",
    "import seaborn as sns; sns.set() # For a different plotting theme\n",
    "\n",
    "# Don't worry so much about what rho is doing here\n",
    "# Just know if we have a rho of 1 then we will get a perfectly\n",
    "# upward sloping line, and if we have a rho of -1, we will get \n",
    "# a perfectly downward slopping line. A rho of 0 will \n",
    "# get us a 'cloud' of points\n",
    "r = 1\n",
    "\n",
    "# Don't worry so much about the following three lines of code for now\n",
    "# this is just getting the data for us to plot\n",
    "mean = [15, 5]\n",
    "cov = [[1, r], [r, 1]]\n",
    "x, y = x, y = np.random.multivariate_normal(mean, cov, 400).T\n",
    "\n",
    "# Adjust the figure size\n",
    "plt.figure(figsize=(10,5))\n",
    "\n",
    "# Plot the histograms of X and Y next to each other\n",
    "plt.subplot(1,2,1)\n",
    "plt.hist(x = x, bins = 15)\n",
    "plt.title(\"X\")\n",
    "\n",
    "plt.subplot(1,2,2)\n",
    "plt.hist(x = y, bins = 15)\n",
    "plt.title(\"Y\")\n",
    "\n",
    "plt.show()"
   ]
  },
  {
   "cell_type": "markdown",
   "metadata": {},
   "source": [
    "### Own Test workings"
   ]
  },
  {
   "cell_type": "code",
   "execution_count": 4,
   "metadata": {},
   "outputs": [
    {
     "data": {
      "text/plain": [
       "array([15.02170068,  5.02170068])"
      ]
     },
     "execution_count": 4,
     "metadata": {},
     "output_type": "execute_result"
    }
   ],
   "source": [
    "#testing\n",
    "np.random.multivariate_normal(mean, cov)\n"
   ]
  },
  {
   "cell_type": "code",
   "execution_count": 11,
   "metadata": {},
   "outputs": [
    {
     "data": {
      "text/plain": [
       "array([[14.67156034,  4.67156034],\n",
       "       [13.21195619,  3.21195619],\n",
       "       [14.1554787 ,  4.1554787 ],\n",
       "       [14.56482511,  4.56482511],\n",
       "       [15.26347111,  5.26347111]])"
      ]
     },
     "execution_count": 11,
     "metadata": {},
     "output_type": "execute_result"
    }
   ],
   "source": [
    "#testing - # iterations\n",
    "# get the 1st 5 rows\n",
    "\n",
    "##https://numpy.org/doc/stable/reference/random/generated/numpy.random.multivariate_normal.html\n",
    "#feed in the mean for each value in the 'input array', the covariance matrix, the # iterations to draw a random sample\n",
    "np.random.multivariate_normal(mean, cov, 400)[:5]"
   ]
  },
  {
   "cell_type": "code",
   "execution_count": 12,
   "metadata": {},
   "outputs": [
    {
     "data": {
      "text/plain": [
       "array([[14.75879209, 14.83264406, 13.46891658, 15.81608547, 14.50808094,\n",
       "        14.66930332, 14.18422373, 14.48331758, 16.0822412 , 15.07099061,\n",
       "        13.67602643, 16.12525617, 15.12495494, 16.72663657, 15.42361232,\n",
       "        15.26904391, 14.29520519, 14.08086887, 15.52710383, 13.94240117,\n",
       "        17.13465976, 14.12249548, 14.81688173, 14.31273719, 16.42116151,\n",
       "        14.11067928, 13.95805505, 15.54342771, 14.40323943, 14.92517896,\n",
       "        14.67600624, 16.37482788, 15.04348673, 16.90728891, 14.14912974,\n",
       "        14.83948867, 14.73895405, 15.44570034, 14.60949224, 15.15036596,\n",
       "        13.44436356, 16.3834526 , 15.61981764, 13.78774466, 13.93050092,\n",
       "        13.75588654, 15.48204328, 15.94861928, 18.18259863, 15.90239021,\n",
       "        15.99558704, 13.82434257, 15.40282341, 13.62131627, 14.23712715,\n",
       "        14.97829093, 14.6404746 , 16.10298301, 12.98411849, 14.11213838,\n",
       "        13.84985265, 14.89824756, 14.8746976 , 15.88002202, 14.1648298 ,\n",
       "        15.76269212, 14.36248207, 14.99179122, 15.02482484, 13.97218734,\n",
       "        14.70776435, 14.24415114, 14.3776888 , 14.71345724, 14.83156359,\n",
       "        15.11922911, 15.96793823, 16.14018545, 13.81397314, 15.78149514,\n",
       "        14.37419955, 14.75813778, 13.13730287, 15.06702433, 14.59341003,\n",
       "        14.71082961, 15.24596903, 15.18224921, 16.87414432, 16.37494705,\n",
       "        13.68210606, 16.54461928, 13.84214578, 15.97024101, 15.96251566,\n",
       "        14.48990393, 13.53154221, 14.43200158, 16.17471821, 15.99424433,\n",
       "        16.85518544, 13.95204726, 16.25470871, 15.64244368, 13.32378784,\n",
       "        13.41563664, 14.89943956, 13.38531481, 14.92866023, 14.47923199,\n",
       "        15.84981071, 14.38964662, 14.48883442, 13.62502413, 12.78131742,\n",
       "        15.20439635, 15.37469323, 14.21264472, 15.7232032 , 15.36105431,\n",
       "        14.64404201, 13.35381285, 14.73704787, 15.44569736, 15.36614949,\n",
       "        14.28289759, 15.51152017, 15.62951061, 14.53218423, 15.89303293,\n",
       "        14.44136515, 14.76654883, 16.22861548, 14.70496284, 14.58206645,\n",
       "        13.53282854, 14.46812859, 15.18546216, 15.8427636 , 14.96680198,\n",
       "        13.30534752, 15.58357271, 17.25530551, 14.99396349, 13.82758617,\n",
       "        14.24508687, 14.24345048, 14.45668941, 14.29417101, 15.25415014,\n",
       "        15.09649104, 17.39880718, 14.47355374, 15.45687292, 15.37094397,\n",
       "        12.23600396, 16.95044007, 14.62356179, 12.17609842, 13.62437976,\n",
       "        15.63769093, 15.62995565, 16.23813275, 16.64227181, 16.64614912,\n",
       "        14.0216368 , 12.95014407, 14.99337357, 14.07756492, 15.89999074,\n",
       "        16.01193411, 14.28288684, 15.05587954, 15.10579242, 14.68229725,\n",
       "        15.03914585, 14.64763001, 15.95639853, 14.34842088, 13.82321949,\n",
       "        14.01390082, 14.80609701, 15.31331802, 15.29219959, 14.55565604,\n",
       "        14.83258752, 16.18955443, 13.55337454, 14.34220204, 15.86514541,\n",
       "        15.39237578, 15.30467332, 16.43628612, 14.91575173, 13.90118657,\n",
       "        16.24456509, 14.25074317, 15.30488017, 14.72695515, 15.35558736,\n",
       "        14.12977831, 12.84653469, 15.28346442, 14.04027852, 14.03285768,\n",
       "        15.55420753, 15.56504991, 16.42066724, 15.75091103, 16.31772977,\n",
       "        16.10032276, 14.94453295, 13.50511929, 15.93238799, 15.40255954,\n",
       "        16.16569857, 14.60958118, 14.82976406, 13.75620069, 14.11111502,\n",
       "        15.70504336, 13.93289348, 16.25339519, 13.17779877, 15.47362706,\n",
       "        17.92880813, 14.17338756, 15.18787788, 16.0474393 , 13.94836341,\n",
       "        14.75243016, 15.07097158, 15.24478562, 16.11502843, 15.17698571,\n",
       "        15.83394443, 14.87056798, 14.20446019, 15.20207352, 14.70455359,\n",
       "        13.78770193, 16.41357248, 15.28925   , 15.53819475, 14.12139712,\n",
       "        15.53665806, 13.83671005, 16.43049953, 17.01551643, 15.89057773,\n",
       "        14.95318949, 16.07442012, 13.67827736, 15.39471793, 14.74173482,\n",
       "        16.37519708, 15.29973845, 14.24445186, 13.76731333, 16.12800761,\n",
       "        16.30839747, 15.55260781, 15.73991995, 14.28172921, 13.57866912,\n",
       "        15.19361411, 16.19897008, 15.00370406, 15.60491659, 14.81129212,\n",
       "        15.5050971 , 15.56931083, 14.14577422, 14.81674684, 15.35656229,\n",
       "        14.97615926, 15.40176896, 16.01619935, 13.47494504, 16.43983465,\n",
       "        16.75999968, 14.66897485, 14.97114126, 15.03763311, 14.14474784,\n",
       "        13.73979049, 14.51180049, 15.13954925, 14.49135244, 14.72599769,\n",
       "        12.98494664, 15.49432945, 15.50577473, 13.934798  , 15.36380501,\n",
       "        16.20123204, 15.10666169, 15.15170747, 15.5713531 , 15.90775884,\n",
       "        14.60391771, 14.42529157, 14.03927611, 17.26546771, 14.62539382,\n",
       "        15.6574957 , 15.96647122, 13.39217343, 15.14517074, 14.91048349,\n",
       "        13.90541378, 15.18467303, 13.29423052, 13.17834465, 15.67465463,\n",
       "        15.32120172, 14.19112902, 16.5990838 , 13.94853616, 14.28355073,\n",
       "        13.94046999, 13.95282858, 13.902434  , 16.17118498, 17.52875265,\n",
       "        16.57922509, 15.00617418, 15.00166425, 15.67122518, 13.6044818 ,\n",
       "        15.34455222, 15.11248107, 15.52215828, 14.13438578, 14.04450842,\n",
       "        12.97568098, 14.30248759, 13.23735877, 13.72760063, 16.60584963,\n",
       "        15.75571284, 14.94033432, 16.80373289, 12.93916183, 16.39418926,\n",
       "        14.75534041, 14.82280752, 14.14118216, 14.13717181, 14.42083299,\n",
       "        15.24807661, 14.20863395, 14.63161762, 14.73793641, 15.8344966 ,\n",
       "        14.92279118, 15.81469184, 15.60531742, 15.51183578, 15.35251474,\n",
       "        14.99797424, 13.84057868, 13.54860307, 15.16923204, 14.19376706,\n",
       "        14.28591052, 14.77190773, 13.85548847, 14.37068512, 14.97617653,\n",
       "        15.42352598, 15.45555133, 14.75705661, 13.99982175, 14.64979832,\n",
       "        15.49846276, 14.39506378, 15.71414923, 12.49761788, 15.14783358,\n",
       "        16.35927523, 14.7870707 , 15.07280498, 15.39118325, 14.14935033,\n",
       "        15.63961137, 17.5594713 , 14.78253869, 13.59749442, 15.31265551,\n",
       "        14.20132103, 14.29985616, 14.21998622, 16.0517302 , 14.08175208,\n",
       "        12.8668728 , 14.34089002, 15.0219671 , 14.37973809, 15.35125395],\n",
       "       [ 4.75879209,  4.83264406,  3.46891658,  5.81608547,  4.50808094,\n",
       "         4.66930332,  4.18422373,  4.48331758,  6.0822412 ,  5.07099061,\n",
       "         3.67602643,  6.12525617,  5.12495494,  6.72663657,  5.42361232,\n",
       "         5.26904391,  4.29520519,  4.08086887,  5.52710383,  3.94240117,\n",
       "         7.13465976,  4.12249548,  4.81688173,  4.31273719,  6.42116151,\n",
       "         4.11067928,  3.95805505,  5.54342771,  4.40323943,  4.92517896,\n",
       "         4.67600624,  6.37482788,  5.04348673,  6.90728891,  4.14912974,\n",
       "         4.83948867,  4.73895405,  5.44570034,  4.60949224,  5.15036596,\n",
       "         3.44436356,  6.3834526 ,  5.61981764,  3.78774466,  3.93050092,\n",
       "         3.75588654,  5.48204328,  5.94861928,  8.18259863,  5.90239021,\n",
       "         5.99558704,  3.82434257,  5.40282341,  3.62131627,  4.23712715,\n",
       "         4.97829093,  4.6404746 ,  6.10298301,  2.98411849,  4.11213838,\n",
       "         3.84985265,  4.89824756,  4.8746976 ,  5.88002202,  4.1648298 ,\n",
       "         5.76269212,  4.36248207,  4.99179122,  5.02482484,  3.97218734,\n",
       "         4.70776435,  4.24415114,  4.3776888 ,  4.71345724,  4.83156359,\n",
       "         5.11922911,  5.96793823,  6.14018545,  3.81397314,  5.78149514,\n",
       "         4.37419955,  4.75813778,  3.13730287,  5.06702433,  4.59341003,\n",
       "         4.71082961,  5.24596903,  5.18224921,  6.87414432,  6.37494705,\n",
       "         3.68210606,  6.54461928,  3.84214578,  5.97024101,  5.96251566,\n",
       "         4.48990393,  3.53154221,  4.43200158,  6.17471821,  5.99424433,\n",
       "         6.85518544,  3.95204726,  6.25470871,  5.64244368,  3.32378784,\n",
       "         3.41563664,  4.89943956,  3.38531481,  4.92866023,  4.47923199,\n",
       "         5.84981071,  4.38964662,  4.48883442,  3.62502413,  2.78131742,\n",
       "         5.20439635,  5.37469323,  4.21264472,  5.7232032 ,  5.36105431,\n",
       "         4.64404201,  3.35381285,  4.73704787,  5.44569736,  5.36614949,\n",
       "         4.28289759,  5.51152017,  5.62951061,  4.53218423,  5.89303293,\n",
       "         4.44136515,  4.76654883,  6.22861548,  4.70496284,  4.58206645,\n",
       "         3.53282854,  4.46812859,  5.18546216,  5.8427636 ,  4.96680198,\n",
       "         3.30534752,  5.58357271,  7.25530551,  4.99396349,  3.82758617,\n",
       "         4.24508687,  4.24345048,  4.45668941,  4.29417101,  5.25415014,\n",
       "         5.09649104,  7.39880718,  4.47355374,  5.45687292,  5.37094397,\n",
       "         2.23600396,  6.95044007,  4.62356179,  2.17609842,  3.62437976,\n",
       "         5.63769093,  5.62995565,  6.23813275,  6.64227181,  6.64614912,\n",
       "         4.0216368 ,  2.95014407,  4.99337357,  4.07756492,  5.89999074,\n",
       "         6.01193411,  4.28288684,  5.05587954,  5.10579242,  4.68229725,\n",
       "         5.03914585,  4.64763001,  5.95639853,  4.34842088,  3.82321949,\n",
       "         4.01390082,  4.80609701,  5.31331802,  5.29219959,  4.55565604,\n",
       "         4.83258752,  6.18955443,  3.55337454,  4.34220204,  5.86514541,\n",
       "         5.39237578,  5.30467332,  6.43628612,  4.91575173,  3.90118657,\n",
       "         6.24456509,  4.25074317,  5.30488017,  4.72695515,  5.35558736,\n",
       "         4.12977831,  2.84653469,  5.28346442,  4.04027852,  4.03285768,\n",
       "         5.55420753,  5.56504991,  6.42066724,  5.75091103,  6.31772977,\n",
       "         6.10032276,  4.94453295,  3.50511929,  5.93238799,  5.40255954,\n",
       "         6.16569857,  4.60958118,  4.82976406,  3.75620069,  4.11111502,\n",
       "         5.70504336,  3.93289348,  6.25339519,  3.17779877,  5.47362706,\n",
       "         7.92880813,  4.17338756,  5.18787788,  6.0474393 ,  3.94836341,\n",
       "         4.75243016,  5.07097158,  5.24478562,  6.11502843,  5.17698571,\n",
       "         5.83394443,  4.87056798,  4.20446019,  5.20207352,  4.70455359,\n",
       "         3.78770193,  6.41357248,  5.28925   ,  5.53819475,  4.12139712,\n",
       "         5.53665806,  3.83671005,  6.43049953,  7.01551643,  5.89057773,\n",
       "         4.95318949,  6.07442012,  3.67827736,  5.39471793,  4.74173482,\n",
       "         6.37519708,  5.29973845,  4.24445186,  3.76731333,  6.12800761,\n",
       "         6.30839747,  5.55260781,  5.73991995,  4.28172921,  3.57866912,\n",
       "         5.19361411,  6.19897008,  5.00370406,  5.60491659,  4.81129212,\n",
       "         5.5050971 ,  5.56931083,  4.14577422,  4.81674684,  5.35656229,\n",
       "         4.97615926,  5.40176896,  6.01619935,  3.47494504,  6.43983465,\n",
       "         6.75999968,  4.66897485,  4.97114126,  5.03763311,  4.14474784,\n",
       "         3.73979049,  4.51180049,  5.13954925,  4.49135244,  4.72599769,\n",
       "         2.98494664,  5.49432945,  5.50577473,  3.934798  ,  5.36380501,\n",
       "         6.20123204,  5.10666169,  5.15170747,  5.5713531 ,  5.90775884,\n",
       "         4.60391771,  4.42529157,  4.03927611,  7.26546771,  4.62539382,\n",
       "         5.6574957 ,  5.96647122,  3.39217343,  5.14517074,  4.91048349,\n",
       "         3.90541378,  5.18467303,  3.29423052,  3.17834465,  5.67465463,\n",
       "         5.32120172,  4.19112902,  6.5990838 ,  3.94853616,  4.28355073,\n",
       "         3.94046999,  3.95282858,  3.902434  ,  6.17118498,  7.52875265,\n",
       "         6.57922509,  5.00617418,  5.00166425,  5.67122518,  3.6044818 ,\n",
       "         5.34455222,  5.11248107,  5.52215828,  4.13438578,  4.04450842,\n",
       "         2.97568098,  4.30248759,  3.23735877,  3.72760063,  6.60584963,\n",
       "         5.75571284,  4.94033432,  6.80373289,  2.93916183,  6.39418926,\n",
       "         4.75534041,  4.82280752,  4.14118216,  4.13717181,  4.42083299,\n",
       "         5.24807661,  4.20863395,  4.63161762,  4.73793641,  5.8344966 ,\n",
       "         4.92279118,  5.81469184,  5.60531742,  5.51183578,  5.35251474,\n",
       "         4.99797424,  3.84057868,  3.54860307,  5.16923204,  4.19376706,\n",
       "         4.28591052,  4.77190773,  3.85548847,  4.37068512,  4.97617653,\n",
       "         5.42352598,  5.45555133,  4.75705661,  3.99982175,  4.64979832,\n",
       "         5.49846276,  4.39506378,  5.71414923,  2.49761788,  5.14783358,\n",
       "         6.35927523,  4.7870707 ,  5.07280498,  5.39118325,  4.14935033,\n",
       "         5.63961137,  7.5594713 ,  4.78253869,  3.59749442,  5.31265551,\n",
       "         4.20132103,  4.29985616,  4.21998622,  6.0517302 ,  4.08175208,\n",
       "         2.8668728 ,  4.34089002,  5.0219671 ,  4.37973809,  5.35125395]])"
      ]
     },
     "execution_count": 12,
     "metadata": {},
     "output_type": "execute_result"
    }
   ],
   "source": [
    "# https://stackoverflow.com/questions/52636716/meaning-of-t-when-using-numpy-random-multivariate-normal\n",
    "# testing - so Transpose turns the 400 arrays/rows into just 2 arrays/variables\n",
    "np.random.multivariate_normal(mean, cov, 400).T"
   ]
  },
  {
   "cell_type": "code",
   "execution_count": 19,
   "metadata": {},
   "outputs": [],
   "source": [
    "x1, y1 = np.random.multivariate_normal(mean, cov, 400).T\n"
   ]
  },
  {
   "cell_type": "code",
   "execution_count": 20,
   "metadata": {},
   "outputs": [],
   "source": [
    "x2, y2 = x3, y3 = np.random.multivariate_normal(mean, cov, 400).T\n"
   ]
  },
  {
   "cell_type": "code",
   "execution_count": 23,
   "metadata": {},
   "outputs": [
    {
     "data": {
      "text/plain": [
       "array([False, False, False, False, False])"
      ]
     },
     "execution_count": 23,
     "metadata": {},
     "output_type": "execute_result"
    }
   ],
   "source": [
    "(x1==x2)[:5]"
   ]
  },
  {
   "cell_type": "code",
   "execution_count": 24,
   "metadata": {},
   "outputs": [
    {
     "data": {
      "text/plain": [
       "array([ True,  True,  True,  True,  True])"
      ]
     },
     "execution_count": 24,
     "metadata": {},
     "output_type": "execute_result"
    }
   ],
   "source": [
    "(x2==x3)[:5]"
   ]
  },
  {
   "cell_type": "code",
   "execution_count": 25,
   "metadata": {},
   "outputs": [
    {
     "name": "stdout",
     "output_type": "stream",
     "text": [
      "[13.916476   13.65755746 12.18090758 14.21421692 15.31950197]\n"
     ]
    }
   ],
   "source": [
    "print(x1[:5])"
   ]
  },
  {
   "cell_type": "code",
   "execution_count": 26,
   "metadata": {},
   "outputs": [
    {
     "name": "stdout",
     "output_type": "stream",
     "text": [
      "[13.85807076 15.18704382 14.82258454 13.84585427 13.85311542]\n"
     ]
    }
   ],
   "source": [
    "print(x2[:5])"
   ]
  },
  {
   "cell_type": "raw",
   "metadata": {},
   "source": [
    "#it seems that the process to generate x1 is the same as x2 or x3, just that because of randomisation from np.random, x1 is different from x2\n",
    "# not sure why the original formula/equation uses x,y = x,y = <....>\n",
    "when it seems to be the same as x,y = <...>"
   ]
  },
  {
   "cell_type": "markdown",
   "metadata": {},
   "source": [
    "# Continue"
   ]
  },
  {
   "cell_type": "code",
   "execution_count": 2,
   "metadata": {},
   "outputs": [
    {
     "data": {
      "image/png": "[encoded data removed]",
      "text/plain": [
       "<Figure size 720x720 with 3 Axes>"
      ]
     },
     "metadata": {
      "needs_background": "light"
     },
     "output_type": "display_data"
    }
   ],
   "source": [
    "# Plot the data\n",
    "plt.figure(figsize=(10,10))\n",
    "plt.subplot(2,2,2)\n",
    "plt.scatter(x = x, y = y)\n",
    "plt.title(\"Joint Distribution of X and Y\")\n",
    "\n",
    "# Plot the Marginal X Distribution\n",
    "plt.subplot(2,2,4)\n",
    "plt.hist(x = x, bins = 15)\n",
    "plt.title(\"Marginal Distribution of X\")\n",
    "\n",
    "\n",
    "# Plot the Marginal Y Distribution\n",
    "plt.subplot(2,2,1)\n",
    "plt.hist(x = y, orientation = \"horizontal\", bins = 15)\n",
    "plt.title(\"Marginal Distribution of Y\")\n",
    "\n",
    "# Show the plots\n",
    "plt.show()"
   ]
  },
  {
   "cell_type": "code",
   "execution_count": null,
   "metadata": {},
   "outputs": [],
   "source": []
  }
 ],
 "metadata": {
  "kernelspec": {
   "display_name": "Python 2",
   "language": "python",
   "name": "python2"
  },
  "language_info": {
   "codemirror_mode": {
    "name": "ipython",
    "version": 2
   },
   "file_extension": ".py",
   "mimetype": "text/x-python",
   "name": "python",
   "nbconvert_exporter": "python",
   "pygments_lexer": "ipython2",
   "version": "2.7.15"
  }
 },
 "nbformat": 4,
 "nbformat_minor": 2
}
