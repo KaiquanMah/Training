{
  "nbformat": 4,
  "nbformat_minor": 0,
  "metadata": {
    "kernelspec": {
      "name": "python3",
      "display_name": "Python 3",
      "language": "python"
    },
    "language_info": {
      "name": "python",
      "version": "3.6.7",
      "mimetype": "text/x-python",
      "codemirror_mode": {
        "name": "ipython",
        "version": 3
      },
      "pygments_lexer": "ipython3",
      "nbconvert_exporter": "python",
      "file_extension": ".py"
    },
    "colab": {
      "name": "Energy Savings_Python Certification.ipynb",
      "provenance": []
    }
  },
  "cells": [
    {
      "cell_type": "markdown",
      "metadata": {
        "dc": {
          "key": "4"
        },
        "deletable": false,
        "editable": false,
        "run_control": {
          "frozen": true
        },
        "tags": [
          "context"
        ],
        "id": "78GoKLm5nW14"
      },
      "source": [
        "## Energy saved from recycling\n",
        "<p>Did you know that recycling saves energy by reducing or eliminating the need to make materials from scratch? For example, aluminum can manufacturers can skip the energy-costly process of producing aluminum from ore by cleaning and melting recycled cans. Aluminum is classified as a non-ferrous metal.</p>\n",
        "<p>Singapore has an ambitious goal of becoming a zero-waste nation. The amount of waste disposed of in Singapore has increased seven-fold over the last 40 years. At this rate, Semakau Landfill, Singapore’s only landfill, will run out of space by 2035. Making matters worse, Singapore has limited land for building new incineration plants or landfills.</p>\n",
        "<p>The government would like to motivate citizens by sharing the total energy that the combined recycling efforts have saved every year. They have asked you to help them.</p>\n",
        "<p>You have been provided with three datasets. The data come from different teams, so the names of waste types may differ.</p>\n",
        "<div style=\"background-color: #efebe4; color: #05192d; text-align:left; vertical-align: middle; padding: 15px 25px 15px 25px; line-height: 1.6;\">\n",
        "    <div style=\"font-size:16px\"><b>datasets/wastestats.csv - Recycling statistics per waste type for the period 2003 to 2017</b>\n",
        "    </div>\n",
        "    <div>Source: <a href=\"https://www.nea.gov.sg/our-services/waste-management/waste-statistics-and-overall-recycling\">Singapore National Environment Agency</a></div>\n",
        "<ul>\n",
        "    <li><b>waste_type: </b>The type of waste recycled.</li>\n",
        "    <li><b>waste_disposed_of_tonne: </b>The amount of waste that could not be recycled (in metric tonnes).</li>\n",
        "    <li><b>total_waste_recycle_tonne: </b>The amount of waste that could be recycled (in metric tonnes).</li>\n",
        "    <li><b>total_waste_generated: </b>The total amount of waste collected before recycling (in metric tonnes).</li>\n",
        "    <li><b>recycling_rate: </b>The amount of waste recycled per tonne of waste generated.</li>\n",
        "    <li><b>year: </b>The recycling year.</li>\n",
        "</ul>\n",
        "    </div>\n",
        "<div style=\"background-color: #efebe4; color: #05192d; text-align:left; vertical-align: middle; padding: 15px 25px 15px 25px; line-height: 1.6; margin-top: 17px;\">\n",
        "    <div style=\"font-size:16px\"><b>datasets/2018_2019_waste.csv - Recycling statistics per waste type for the period 2018 to 2019</b>\n",
        "    </div>\n",
        "    <div> Source: <a href=\"https://www.nea.gov.sg/our-services/waste-management/waste-statistics-and-overall-recycling\">Singapore National Environment Agency</a></div>\n",
        "<ul>\n",
        "    <li><b>Waste Type: </b>The type of waste recycled.</li>\n",
        "    <li><b>Total Generated: </b>The total amount of waste collected before recycling (in thousands of metric tonnes).</li> \n",
        "    <li><b>Total Recycled: </b>The amount of waste that could be recycled. (in thousands of metric tonnes).</li>\n",
        "    <li><b>Year: </b>The recycling year.</li>\n",
        "</ul>\n",
        "    </div>\n",
        "<div style=\"background-color: #efebe4; color: #05192d; text-align:left; vertical-align: middle; padding: 15px 25px 15px 25px; line-height: 1.6; margin-top: 17px;\">\n",
        "    <div style=\"font-size:16px\"><b>datasets/energy_saved.csv -  Estimations of the amount of energy saved per waste type in kWh</b>\n",
        "    </div>\n",
        "<ul>\n",
        "    <li><b>material: </b>The type of waste recycled.</li>\n",
        "    <li><b>energy_saved: </b>An estimate of the energy saved (in kiloWatt hour) by recycling a metric tonne of waste.</li> \n",
        "    <li><b>crude_oil_saved: </b>An estimate of the number of barrels of oil saved by recycling a metric tonne of waste.</li>\n",
        "</ul>\n",
        "\n",
        "</div>\n",
        "<pre><code>\n",
        "</code></pre>"
      ]
    },
    {
      "cell_type": "markdown",
      "metadata": {
        "id": "-ZivBtgKnZcM"
      },
      "source": [
        "# Instructions\n",
        "The Singapore government has asked you to help them determine how much energy they have saved per year by recycling. You need to answer the following question:\n",
        "\n",
        "How much energy in kiloWatt hour (kWh) has Singapore saved per year by recycling glass, plastic, ferrous, and non-ferrous metals between 2015 and 2019?\n",
        "\n",
        "Save your answer as a DataFrame named annual_energy_savings with the an index labelled year. Your DataFrame should consist of one column, total_energy_saved, which contains the total amount of energy in kWh saved per year across the four materials described above. It should resemble the following table:\n",
        "\n",
        "total_energy_saved year\n",
        "2015 xxxx 2016 xxxx 2017 xxxx 2018 xxxx 2019 xxxx\n",
        "\n",
        "Note: Unlike the Guided and Unguided Projects that exist on our platform, if you get stuck in this task, you will not have access to any hints, nor will you be able to request a solution. Similarly, our testing process is focused on your answers and will not provide feedback to help you towards your solution. All steps required, including importing, exploration, cleaning, and analysis, will be up to you!"
      ]
    },
    {
      "cell_type": "markdown",
      "metadata": {
        "dc": {
          "key": "4"
        },
        "id": "vnbIpAiynW16"
      },
      "source": [
        "# Project: Energy Savings: Python Certification"
      ]
    },
    {
      "cell_type": "code",
      "metadata": {
        "dc": {
          "key": "4"
        },
        "tags": [
          "sample_code"
        ],
        "trusted": true,
        "id": "JAsPh94cnW17",
        "outputId": "394e2c41-5f21-4004-a566-d925fceb6c60"
      },
      "source": [
        "#List files ONLY in the current directory\n",
        "import os\n",
        "\n",
        "files = [f for f in os.listdir('.') if os.path.isfile(f)]\n",
        "print(files)"
      ],
      "execution_count": null,
      "outputs": [
        {
          "output_type": "stream",
          "text": [
            "['.profile', '.bashrc', '.bash_logout', '.startup.py']\n"
          ],
          "name": "stdout"
        }
      ]
    },
    {
      "cell_type": "code",
      "metadata": {
        "dc": {
          "key": "4"
        },
        "collapsed": true,
        "trusted": true,
        "id": "EucM0DyunW18"
      },
      "source": [
        "#Import packages\n",
        "import pandas as pd"
      ],
      "execution_count": null,
      "outputs": []
    },
    {
      "cell_type": "code",
      "metadata": {
        "dc": {
          "key": "4"
        },
        "collapsed": true,
        "trusted": true,
        "id": "uSfTwXtNnW18"
      },
      "source": [
        "#Read dataframes\n",
        "df_recycle_before_18 = pd.read_csv('datasets/wastestats.csv', index_col='year')\n",
        "df_recycle_from_18 = pd.read_csv('datasets/2018_2019_waste.csv', index_col='Year')\n",
        "df_energy_saved = pd.read_csv('datasets/energy_saved.csv')"
      ],
      "execution_count": null,
      "outputs": []
    },
    {
      "cell_type": "markdown",
      "metadata": {
        "dc": {
          "key": "4"
        },
        "id": "ZpVE2gz9nW18"
      },
      "source": [
        "## Understand columns and data types in each dataframe"
      ]
    },
    {
      "cell_type": "code",
      "metadata": {
        "dc": {
          "key": "4"
        },
        "trusted": true,
        "id": "FD8NRQo-nW19",
        "outputId": "65c2f9bc-b1c3-4e81-e146-adc66b8b81ce"
      },
      "source": [
        "df_recycle_before_18.info()"
      ],
      "execution_count": null,
      "outputs": [
        {
          "output_type": "stream",
          "text": [
            "<class 'pandas.core.frame.DataFrame'>\n",
            "Int64Index: 225 entries, 2016 to 2017\n",
            "Data columns (total 5 columns):\n",
            "waste_type                     225 non-null object\n",
            "waste_disposed_of_tonne        225 non-null int64\n",
            "total_waste_recycled_tonne     225 non-null float64\n",
            "total_waste_generated_tonne    225 non-null int64\n",
            "recycling_rate                 225 non-null float64\n",
            "dtypes: float64(2), int64(2), object(1)\n",
            "memory usage: 10.5+ KB\n"
          ],
          "name": "stdout"
        }
      ]
    },
    {
      "cell_type": "markdown",
      "metadata": {
        "dc": {
          "key": "4"
        },
        "id": "008jt515nW19"
      },
      "source": [
        "No NULL values - a good sign  \n",
        "waste_type - 225 non-null object - string  \n",
        "  \n",
        "The other data types look alright  \n",
        "-waste_disposed_of_tonne - 225 non-null int64  \n",
        "-total_waste_recycled_tonne - 225 non-null float64  \n",
        "-total_waste_generated_tonne - 225 non-null int64  \n",
        "-recycling_rate - 225 non-null float64  \n",
        "-year - 225 non-null int64"
      ]
    },
    {
      "cell_type": "code",
      "metadata": {
        "dc": {
          "key": "4"
        },
        "trusted": true,
        "id": "ztppTH7FnW19",
        "outputId": "3170bf59-2baf-4b74-da2a-d8f8c3d9e4f3"
      },
      "source": [
        "df_recycle_from_18.info()"
      ],
      "execution_count": null,
      "outputs": [
        {
          "output_type": "stream",
          "text": [
            "<class 'pandas.core.frame.DataFrame'>\n",
            "Int64Index: 30 entries, 2019 to 2018\n",
            "Data columns (total 3 columns):\n",
            "Waste Type                       30 non-null object\n",
            "Total Generated ('000 tonnes)    30 non-null int64\n",
            "Total Recycled ('000 tonnes)     30 non-null int64\n",
            "dtypes: int64(2), object(1)\n",
            "memory usage: 960.0+ bytes\n"
          ],
          "name": "stdout"
        }
      ]
    },
    {
      "cell_type": "markdown",
      "metadata": {
        "dc": {
          "key": "4"
        },
        "id": "E586prwinW1-"
      },
      "source": [
        "NO NULL values - a good sign  \n",
        "Waste Type - 30 non-null object - string  \n",
        "\n",
        "The other data types look alright  \n",
        "-Total Generated ('000 tonnes) - 30 non-null int64  \n",
        "-Total Recycled ('000 tonnes) - 30 non-null int64  \n",
        "-Year - 30 non-null int64  "
      ]
    },
    {
      "cell_type": "code",
      "metadata": {
        "dc": {
          "key": "4"
        },
        "trusted": true,
        "id": "WsQKZoPlnW1-",
        "outputId": "c8d3f684-7275-49ad-a33d-10f07953d41e"
      },
      "source": [
        "df_energy_saved.info()"
      ],
      "execution_count": null,
      "outputs": [
        {
          "output_type": "stream",
          "text": [
            "<class 'pandas.core.frame.DataFrame'>\n",
            "RangeIndex: 5 entries, 0 to 4\n",
            "Data columns (total 6 columns):\n",
            "The table gives the amount of energy saved in kilowatt hour (kWh) and the amount of crude oil (barrels) by recycling 1 metric tonne (1000 kilogram)  per waste type    4 non-null object\n",
            "Unnamed: 1                                                                                                                                                             3 non-null object\n",
            "Unnamed: 2                                                                                                                                                             2 non-null object\n",
            "Unnamed: 3                                                                                                                                                             3 non-null object\n",
            "Unnamed: 4                                                                                                                                                             3 non-null object\n",
            "Unnamed: 5                                                                                                                                                             3 non-null object\n",
            "dtypes: object(6)\n",
            "memory usage: 320.0+ bytes\n"
          ],
          "name": "stdout"
        }
      ]
    },
    {
      "cell_type": "markdown",
      "metadata": {
        "dc": {
          "key": "4"
        },
        "id": "qmVVlotdnW1-"
      },
      "source": [
        "The \"Energy Saved\" dataframe contains some NULL values in its columns.  \n",
        "Each field also seems to contain string values."
      ]
    },
    {
      "cell_type": "markdown",
      "metadata": {
        "dc": {
          "key": "4"
        },
        "id": "h_VP_sgtnW1-"
      },
      "source": [
        "## Explore value distribution and sample values in each dataframe"
      ]
    },
    {
      "cell_type": "markdown",
      "metadata": {
        "dc": {
          "key": "4"
        },
        "id": "UhvM54F3nW1_"
      },
      "source": [
        "#### i. Recycling from 2003 to 2017"
      ]
    },
    {
      "cell_type": "code",
      "metadata": {
        "dc": {
          "key": "4"
        },
        "trusted": true,
        "id": "OT9AfDsgnW1_",
        "outputId": "1f213778-1adf-4112-dcce-b7a954d7ca76"
      },
      "source": [
        "df_recycle_before_18.describe()"
      ],
      "execution_count": null,
      "outputs": [
        {
          "output_type": "execute_result",
          "data": {
            "text/plain": [
              "       waste_disposed_of_tonne  total_waste_recycled_tonne  \\\n",
              "count             2.250000e+02                2.250000e+02   \n",
              "mean              3.697191e+05                4.896987e+05   \n",
              "std               6.842470e+05                9.607678e+05   \n",
              "min               1.300000e+03                0.000000e+00   \n",
              "25%               2.460000e+04                1.830000e+04   \n",
              "50%               1.062000e+05                9.110000e+04   \n",
              "75%               5.000000e+05                5.200000e+05   \n",
              "max               3.045200e+06                4.825900e+06   \n",
              "\n",
              "       total_waste_generated_tonne  recycling_rate  \n",
              "count                 2.250000e+02      225.000000  \n",
              "mean                  8.594173e+05        0.481778  \n",
              "std                   1.579112e+06        0.365106  \n",
              "min                   1.440000e+04        0.000000  \n",
              "25%                   1.184000e+05        0.110000  \n",
              "50%                   3.324000e+05        0.490000  \n",
              "75%                   8.098000e+05        0.850000  \n",
              "max                   7.851500e+06        0.990000  "
            ],
            "text/html": [
              "<div>\n",
              "<style scoped>\n",
              "    .dataframe tbody tr th:only-of-type {\n",
              "        vertical-align: middle;\n",
              "    }\n",
              "\n",
              "    .dataframe tbody tr th {\n",
              "        vertical-align: top;\n",
              "    }\n",
              "\n",
              "    .dataframe thead th {\n",
              "        text-align: right;\n",
              "    }\n",
              "</style>\n",
              "<table border=\"1\" class=\"dataframe\">\n",
              "  <thead>\n",
              "    <tr style=\"text-align: right;\">\n",
              "      <th></th>\n",
              "      <th>waste_disposed_of_tonne</th>\n",
              "      <th>total_waste_recycled_tonne</th>\n",
              "      <th>total_waste_generated_tonne</th>\n",
              "      <th>recycling_rate</th>\n",
              "    </tr>\n",
              "  </thead>\n",
              "  <tbody>\n",
              "    <tr>\n",
              "      <th>count</th>\n",
              "      <td>2.250000e+02</td>\n",
              "      <td>2.250000e+02</td>\n",
              "      <td>2.250000e+02</td>\n",
              "      <td>225.000000</td>\n",
              "    </tr>\n",
              "    <tr>\n",
              "      <th>mean</th>\n",
              "      <td>3.697191e+05</td>\n",
              "      <td>4.896987e+05</td>\n",
              "      <td>8.594173e+05</td>\n",
              "      <td>0.481778</td>\n",
              "    </tr>\n",
              "    <tr>\n",
              "      <th>std</th>\n",
              "      <td>6.842470e+05</td>\n",
              "      <td>9.607678e+05</td>\n",
              "      <td>1.579112e+06</td>\n",
              "      <td>0.365106</td>\n",
              "    </tr>\n",
              "    <tr>\n",
              "      <th>min</th>\n",
              "      <td>1.300000e+03</td>\n",
              "      <td>0.000000e+00</td>\n",
              "      <td>1.440000e+04</td>\n",
              "      <td>0.000000</td>\n",
              "    </tr>\n",
              "    <tr>\n",
              "      <th>25%</th>\n",
              "      <td>2.460000e+04</td>\n",
              "      <td>1.830000e+04</td>\n",
              "      <td>1.184000e+05</td>\n",
              "      <td>0.110000</td>\n",
              "    </tr>\n",
              "    <tr>\n",
              "      <th>50%</th>\n",
              "      <td>1.062000e+05</td>\n",
              "      <td>9.110000e+04</td>\n",
              "      <td>3.324000e+05</td>\n",
              "      <td>0.490000</td>\n",
              "    </tr>\n",
              "    <tr>\n",
              "      <th>75%</th>\n",
              "      <td>5.000000e+05</td>\n",
              "      <td>5.200000e+05</td>\n",
              "      <td>8.098000e+05</td>\n",
              "      <td>0.850000</td>\n",
              "    </tr>\n",
              "    <tr>\n",
              "      <th>max</th>\n",
              "      <td>3.045200e+06</td>\n",
              "      <td>4.825900e+06</td>\n",
              "      <td>7.851500e+06</td>\n",
              "      <td>0.990000</td>\n",
              "    </tr>\n",
              "  </tbody>\n",
              "</table>\n",
              "</div>"
            ]
          },
          "metadata": {
            "tags": []
          },
          "execution_count": 54
        }
      ]
    },
    {
      "cell_type": "code",
      "metadata": {
        "dc": {
          "key": "4"
        },
        "trusted": true,
        "id": "KKTvOvY9nW1_",
        "outputId": "a8222c08-3e3e-4f25-8e6c-7885ec9d1274"
      },
      "source": [
        "df_recycle_before_18.head()"
      ],
      "execution_count": null,
      "outputs": [
        {
          "output_type": "execute_result",
          "data": {
            "text/plain": [
              "               waste_type  waste_disposed_of_tonne  \\\n",
              "year                                                 \n",
              "2016                 Food                   679900   \n",
              "2016      Paper/Cardboard                   576000   \n",
              "2016             Plastics                   762700   \n",
              "2016                  C&D                     9700   \n",
              "2016  Horticultural waste                   111500   \n",
              "\n",
              "      total_waste_recycled_tonne  total_waste_generated_tonne  recycling_rate  \n",
              "year                                                                           \n",
              "2016                    111100.0                       791000            0.14  \n",
              "2016                    607100.0                      1183100            0.51  \n",
              "2016                     59500.0                       822200            0.07  \n",
              "2016                   1585700.0                      1595400            0.99  \n",
              "2016                    209000.0                       320500            0.65  "
            ],
            "text/html": [
              "<div>\n",
              "<style scoped>\n",
              "    .dataframe tbody tr th:only-of-type {\n",
              "        vertical-align: middle;\n",
              "    }\n",
              "\n",
              "    .dataframe tbody tr th {\n",
              "        vertical-align: top;\n",
              "    }\n",
              "\n",
              "    .dataframe thead th {\n",
              "        text-align: right;\n",
              "    }\n",
              "</style>\n",
              "<table border=\"1\" class=\"dataframe\">\n",
              "  <thead>\n",
              "    <tr style=\"text-align: right;\">\n",
              "      <th></th>\n",
              "      <th>waste_type</th>\n",
              "      <th>waste_disposed_of_tonne</th>\n",
              "      <th>total_waste_recycled_tonne</th>\n",
              "      <th>total_waste_generated_tonne</th>\n",
              "      <th>recycling_rate</th>\n",
              "    </tr>\n",
              "    <tr>\n",
              "      <th>year</th>\n",
              "      <th></th>\n",
              "      <th></th>\n",
              "      <th></th>\n",
              "      <th></th>\n",
              "      <th></th>\n",
              "    </tr>\n",
              "  </thead>\n",
              "  <tbody>\n",
              "    <tr>\n",
              "      <th>2016</th>\n",
              "      <td>Food</td>\n",
              "      <td>679900</td>\n",
              "      <td>111100.0</td>\n",
              "      <td>791000</td>\n",
              "      <td>0.14</td>\n",
              "    </tr>\n",
              "    <tr>\n",
              "      <th>2016</th>\n",
              "      <td>Paper/Cardboard</td>\n",
              "      <td>576000</td>\n",
              "      <td>607100.0</td>\n",
              "      <td>1183100</td>\n",
              "      <td>0.51</td>\n",
              "    </tr>\n",
              "    <tr>\n",
              "      <th>2016</th>\n",
              "      <td>Plastics</td>\n",
              "      <td>762700</td>\n",
              "      <td>59500.0</td>\n",
              "      <td>822200</td>\n",
              "      <td>0.07</td>\n",
              "    </tr>\n",
              "    <tr>\n",
              "      <th>2016</th>\n",
              "      <td>C&amp;D</td>\n",
              "      <td>9700</td>\n",
              "      <td>1585700.0</td>\n",
              "      <td>1595400</td>\n",
              "      <td>0.99</td>\n",
              "    </tr>\n",
              "    <tr>\n",
              "      <th>2016</th>\n",
              "      <td>Horticultural waste</td>\n",
              "      <td>111500</td>\n",
              "      <td>209000.0</td>\n",
              "      <td>320500</td>\n",
              "      <td>0.65</td>\n",
              "    </tr>\n",
              "  </tbody>\n",
              "</table>\n",
              "</div>"
            ]
          },
          "metadata": {
            "tags": []
          },
          "execution_count": 55
        }
      ]
    },
    {
      "cell_type": "markdown",
      "metadata": {
        "dc": {
          "key": "4"
        },
        "id": "0bM2n8SQnW1_"
      },
      "source": [
        "#### ii. Recycling from 2018 to 2019"
      ]
    },
    {
      "cell_type": "code",
      "metadata": {
        "dc": {
          "key": "4"
        },
        "trusted": true,
        "id": "xsugSDeBnW1_",
        "outputId": "0888dcad-b55b-430d-8667-c7dc8894f7b1"
      },
      "source": [
        "df_recycle_from_18.describe()"
      ],
      "execution_count": null,
      "outputs": [
        {
          "output_type": "execute_result",
          "data": {
            "text/plain": [
              "       Total Generated ('000 tonnes)  Total Recycled ('000 tonnes)\n",
              "count                      30.000000                     30.000000\n",
              "mean                     1218.433333                    560.400000\n",
              "std                      2165.170833                   1149.760683\n",
              "min                        32.000000                      6.000000\n",
              "25%                       173.500000                     26.000000\n",
              "50%                       360.000000                    126.500000\n",
              "75%                      1043.250000                    394.250000\n",
              "max                      7695.000000                   4726.000000"
            ],
            "text/html": [
              "<div>\n",
              "<style scoped>\n",
              "    .dataframe tbody tr th:only-of-type {\n",
              "        vertical-align: middle;\n",
              "    }\n",
              "\n",
              "    .dataframe tbody tr th {\n",
              "        vertical-align: top;\n",
              "    }\n",
              "\n",
              "    .dataframe thead th {\n",
              "        text-align: right;\n",
              "    }\n",
              "</style>\n",
              "<table border=\"1\" class=\"dataframe\">\n",
              "  <thead>\n",
              "    <tr style=\"text-align: right;\">\n",
              "      <th></th>\n",
              "      <th>Total Generated ('000 tonnes)</th>\n",
              "      <th>Total Recycled ('000 tonnes)</th>\n",
              "    </tr>\n",
              "  </thead>\n",
              "  <tbody>\n",
              "    <tr>\n",
              "      <th>count</th>\n",
              "      <td>30.000000</td>\n",
              "      <td>30.000000</td>\n",
              "    </tr>\n",
              "    <tr>\n",
              "      <th>mean</th>\n",
              "      <td>1218.433333</td>\n",
              "      <td>560.400000</td>\n",
              "    </tr>\n",
              "    <tr>\n",
              "      <th>std</th>\n",
              "      <td>2165.170833</td>\n",
              "      <td>1149.760683</td>\n",
              "    </tr>\n",
              "    <tr>\n",
              "      <th>min</th>\n",
              "      <td>32.000000</td>\n",
              "      <td>6.000000</td>\n",
              "    </tr>\n",
              "    <tr>\n",
              "      <th>25%</th>\n",
              "      <td>173.500000</td>\n",
              "      <td>26.000000</td>\n",
              "    </tr>\n",
              "    <tr>\n",
              "      <th>50%</th>\n",
              "      <td>360.000000</td>\n",
              "      <td>126.500000</td>\n",
              "    </tr>\n",
              "    <tr>\n",
              "      <th>75%</th>\n",
              "      <td>1043.250000</td>\n",
              "      <td>394.250000</td>\n",
              "    </tr>\n",
              "    <tr>\n",
              "      <th>max</th>\n",
              "      <td>7695.000000</td>\n",
              "      <td>4726.000000</td>\n",
              "    </tr>\n",
              "  </tbody>\n",
              "</table>\n",
              "</div>"
            ]
          },
          "metadata": {
            "tags": []
          },
          "execution_count": 56
        }
      ]
    },
    {
      "cell_type": "code",
      "metadata": {
        "dc": {
          "key": "4"
        },
        "trusted": true,
        "id": "mIJtPabfnW2A",
        "outputId": "83e67047-02c5-4ea2-ba10-1fa6eef6aac0"
      },
      "source": [
        "df_recycle_from_18.head()"
      ],
      "execution_count": null,
      "outputs": [
        {
          "output_type": "execute_result",
          "data": {
            "text/plain": [
              "                    Waste Type  Total Generated ('000 tonnes)  \\\n",
              "Year                                                            \n",
              "2019  Construction& Demolition                           1440   \n",
              "2019             Ferrous Metal                           1278   \n",
              "2019           Paper/Cardboard                           1011   \n",
              "2019                  Plastics                            930   \n",
              "2019                      Food                           7440   \n",
              "\n",
              "      Total Recycled ('000 tonnes)  \n",
              "Year                                \n",
              "2019                          1434  \n",
              "2019                          1270  \n",
              "2019                           449  \n",
              "2019                            37  \n",
              "2019                           136  "
            ],
            "text/html": [
              "<div>\n",
              "<style scoped>\n",
              "    .dataframe tbody tr th:only-of-type {\n",
              "        vertical-align: middle;\n",
              "    }\n",
              "\n",
              "    .dataframe tbody tr th {\n",
              "        vertical-align: top;\n",
              "    }\n",
              "\n",
              "    .dataframe thead th {\n",
              "        text-align: right;\n",
              "    }\n",
              "</style>\n",
              "<table border=\"1\" class=\"dataframe\">\n",
              "  <thead>\n",
              "    <tr style=\"text-align: right;\">\n",
              "      <th></th>\n",
              "      <th>Waste Type</th>\n",
              "      <th>Total Generated ('000 tonnes)</th>\n",
              "      <th>Total Recycled ('000 tonnes)</th>\n",
              "    </tr>\n",
              "    <tr>\n",
              "      <th>Year</th>\n",
              "      <th></th>\n",
              "      <th></th>\n",
              "      <th></th>\n",
              "    </tr>\n",
              "  </thead>\n",
              "  <tbody>\n",
              "    <tr>\n",
              "      <th>2019</th>\n",
              "      <td>Construction&amp; Demolition</td>\n",
              "      <td>1440</td>\n",
              "      <td>1434</td>\n",
              "    </tr>\n",
              "    <tr>\n",
              "      <th>2019</th>\n",
              "      <td>Ferrous Metal</td>\n",
              "      <td>1278</td>\n",
              "      <td>1270</td>\n",
              "    </tr>\n",
              "    <tr>\n",
              "      <th>2019</th>\n",
              "      <td>Paper/Cardboard</td>\n",
              "      <td>1011</td>\n",
              "      <td>449</td>\n",
              "    </tr>\n",
              "    <tr>\n",
              "      <th>2019</th>\n",
              "      <td>Plastics</td>\n",
              "      <td>930</td>\n",
              "      <td>37</td>\n",
              "    </tr>\n",
              "    <tr>\n",
              "      <th>2019</th>\n",
              "      <td>Food</td>\n",
              "      <td>7440</td>\n",
              "      <td>136</td>\n",
              "    </tr>\n",
              "  </tbody>\n",
              "</table>\n",
              "</div>"
            ]
          },
          "metadata": {
            "tags": []
          },
          "execution_count": 57
        }
      ]
    },
    {
      "cell_type": "markdown",
      "metadata": {
        "dc": {
          "key": "4"
        },
        "id": "lWF3wdBMnW2A"
      },
      "source": [
        "#### iii. Energy Saved"
      ]
    },
    {
      "cell_type": "markdown",
      "metadata": {
        "dc": {
          "key": "4"
        },
        "id": "na_GJoFvnW2A"
      },
      "source": [
        "The values in the 2 dataframes 'df_recycle_before_18' and 'df_recycle_from_18' look as expected, consistent with our earlier interpretation of the data types."
      ]
    },
    {
      "cell_type": "code",
      "metadata": {
        "dc": {
          "key": "4"
        },
        "trusted": true,
        "id": "W3uOWnganW2A",
        "outputId": "ccff13a7-9019-4d92-d438-f7ff86124142"
      },
      "source": [
        "df_energy_saved.describe()"
      ],
      "execution_count": null,
      "outputs": [
        {
          "output_type": "execute_result",
          "data": {
            "text/plain": [
              "       The table gives the amount of energy saved in kilowatt hour (kWh) and the amount of crude oil (barrels) by recycling 1 metric tonne (1000 kilogram)  per waste type  \\\n",
              "count                                                   4                                                                                                                    \n",
              "unique                                                  4                                                                                                                    \n",
              "top       1 barrel oil is approximately 159 litres of oil                                                                                                                    \n",
              "freq                                                    1                                                                                                                    \n",
              "\n",
              "       Unnamed: 1 Unnamed: 2   Unnamed: 3         Unnamed: 4 Unnamed: 5  \n",
              "count           3          2            3                  3          3  \n",
              "unique          3          2            3                  3          3  \n",
              "top       Plastic      Glass  1.8 barrels  Non-Ferrous Metal      Paper  \n",
              "freq            1          1            1                  1          1  "
            ],
            "text/html": [
              "<div>\n",
              "<style scoped>\n",
              "    .dataframe tbody tr th:only-of-type {\n",
              "        vertical-align: middle;\n",
              "    }\n",
              "\n",
              "    .dataframe tbody tr th {\n",
              "        vertical-align: top;\n",
              "    }\n",
              "\n",
              "    .dataframe thead th {\n",
              "        text-align: right;\n",
              "    }\n",
              "</style>\n",
              "<table border=\"1\" class=\"dataframe\">\n",
              "  <thead>\n",
              "    <tr style=\"text-align: right;\">\n",
              "      <th></th>\n",
              "      <th>The table gives the amount of energy saved in kilowatt hour (kWh) and the amount of crude oil (barrels) by recycling 1 metric tonne (1000 kilogram)  per waste type</th>\n",
              "      <th>Unnamed: 1</th>\n",
              "      <th>Unnamed: 2</th>\n",
              "      <th>Unnamed: 3</th>\n",
              "      <th>Unnamed: 4</th>\n",
              "      <th>Unnamed: 5</th>\n",
              "    </tr>\n",
              "  </thead>\n",
              "  <tbody>\n",
              "    <tr>\n",
              "      <th>count</th>\n",
              "      <td>4</td>\n",
              "      <td>3</td>\n",
              "      <td>2</td>\n",
              "      <td>3</td>\n",
              "      <td>3</td>\n",
              "      <td>3</td>\n",
              "    </tr>\n",
              "    <tr>\n",
              "      <th>unique</th>\n",
              "      <td>4</td>\n",
              "      <td>3</td>\n",
              "      <td>2</td>\n",
              "      <td>3</td>\n",
              "      <td>3</td>\n",
              "      <td>3</td>\n",
              "    </tr>\n",
              "    <tr>\n",
              "      <th>top</th>\n",
              "      <td>1 barrel oil is approximately 159 litres of oil</td>\n",
              "      <td>Plastic</td>\n",
              "      <td>Glass</td>\n",
              "      <td>1.8 barrels</td>\n",
              "      <td>Non-Ferrous Metal</td>\n",
              "      <td>Paper</td>\n",
              "    </tr>\n",
              "    <tr>\n",
              "      <th>freq</th>\n",
              "      <td>1</td>\n",
              "      <td>1</td>\n",
              "      <td>1</td>\n",
              "      <td>1</td>\n",
              "      <td>1</td>\n",
              "      <td>1</td>\n",
              "    </tr>\n",
              "  </tbody>\n",
              "</table>\n",
              "</div>"
            ]
          },
          "metadata": {
            "tags": []
          },
          "execution_count": 58
        }
      ]
    },
    {
      "cell_type": "markdown",
      "metadata": {
        "dc": {
          "key": "4"
        },
        "id": "xcHU8tw1nW2A"
      },
      "source": [
        "The summary statistics of the \"Energy Saved\" dataframe look alittle gibberish, such as the 'top' row.  \n",
        "Let us find out why below."
      ]
    },
    {
      "cell_type": "code",
      "metadata": {
        "dc": {
          "key": "4"
        },
        "trusted": true,
        "id": "PVgD85xGnW2B",
        "outputId": "f9069bc1-9c58-40ae-ed54-48d4fe0306c7"
      },
      "source": [
        "df_energy_saved.head()"
      ],
      "execution_count": null,
      "outputs": [
        {
          "output_type": "execute_result",
          "data": {
            "text/plain": [
              "  The table gives the amount of energy saved in kilowatt hour (kWh) and the amount of crude oil (barrels) by recycling 1 metric tonne (1000 kilogram)  per waste type  \\\n",
              "0    1 barrel oil is approximately 159 litres of oil                                                                                                                    \n",
              "1                                                NaN                                                                                                                    \n",
              "2                                           material                                                                                                                    \n",
              "3                                       energy_saved                                                                                                                    \n",
              "4                                    crude_oil saved                                                                                                                    \n",
              "\n",
              "   Unnamed: 1 Unnamed: 2     Unnamed: 3         Unnamed: 4   Unnamed: 5  \n",
              "0         NaN        NaN            NaN                NaN          NaN  \n",
              "1         NaN        NaN            NaN                NaN          NaN  \n",
              "2     Plastic      Glass  Ferrous Metal  Non-Ferrous Metal        Paper  \n",
              "3    5774 Kwh     42 Kwh        642 Kwh          14000 Kwh     4000 kWh  \n",
              "4  16 barrels        NaN    1.8 barrels         40 barrels  1.7 barrels  "
            ],
            "text/html": [
              "<div>\n",
              "<style scoped>\n",
              "    .dataframe tbody tr th:only-of-type {\n",
              "        vertical-align: middle;\n",
              "    }\n",
              "\n",
              "    .dataframe tbody tr th {\n",
              "        vertical-align: top;\n",
              "    }\n",
              "\n",
              "    .dataframe thead th {\n",
              "        text-align: right;\n",
              "    }\n",
              "</style>\n",
              "<table border=\"1\" class=\"dataframe\">\n",
              "  <thead>\n",
              "    <tr style=\"text-align: right;\">\n",
              "      <th></th>\n",
              "      <th>The table gives the amount of energy saved in kilowatt hour (kWh) and the amount of crude oil (barrels) by recycling 1 metric tonne (1000 kilogram)  per waste type</th>\n",
              "      <th>Unnamed: 1</th>\n",
              "      <th>Unnamed: 2</th>\n",
              "      <th>Unnamed: 3</th>\n",
              "      <th>Unnamed: 4</th>\n",
              "      <th>Unnamed: 5</th>\n",
              "    </tr>\n",
              "  </thead>\n",
              "  <tbody>\n",
              "    <tr>\n",
              "      <th>0</th>\n",
              "      <td>1 barrel oil is approximately 159 litres of oil</td>\n",
              "      <td>NaN</td>\n",
              "      <td>NaN</td>\n",
              "      <td>NaN</td>\n",
              "      <td>NaN</td>\n",
              "      <td>NaN</td>\n",
              "    </tr>\n",
              "    <tr>\n",
              "      <th>1</th>\n",
              "      <td>NaN</td>\n",
              "      <td>NaN</td>\n",
              "      <td>NaN</td>\n",
              "      <td>NaN</td>\n",
              "      <td>NaN</td>\n",
              "      <td>NaN</td>\n",
              "    </tr>\n",
              "    <tr>\n",
              "      <th>2</th>\n",
              "      <td>material</td>\n",
              "      <td>Plastic</td>\n",
              "      <td>Glass</td>\n",
              "      <td>Ferrous Metal</td>\n",
              "      <td>Non-Ferrous Metal</td>\n",
              "      <td>Paper</td>\n",
              "    </tr>\n",
              "    <tr>\n",
              "      <th>3</th>\n",
              "      <td>energy_saved</td>\n",
              "      <td>5774 Kwh</td>\n",
              "      <td>42 Kwh</td>\n",
              "      <td>642 Kwh</td>\n",
              "      <td>14000 Kwh</td>\n",
              "      <td>4000 kWh</td>\n",
              "    </tr>\n",
              "    <tr>\n",
              "      <th>4</th>\n",
              "      <td>crude_oil saved</td>\n",
              "      <td>16 barrels</td>\n",
              "      <td>NaN</td>\n",
              "      <td>1.8 barrels</td>\n",
              "      <td>40 barrels</td>\n",
              "      <td>1.7 barrels</td>\n",
              "    </tr>\n",
              "  </tbody>\n",
              "</table>\n",
              "</div>"
            ]
          },
          "metadata": {
            "tags": []
          },
          "execution_count": 59
        }
      ]
    },
    {
      "cell_type": "markdown",
      "metadata": {
        "dc": {
          "key": "4"
        },
        "id": "fFUYRviQnW2B"
      },
      "source": [
        "It seems that the \"Energy Saved\" dataframe has 3 rows in the header which can be removed.  \n",
        "The 3 fields we are interested in are \"material\", \"energy_saved\" and \"crude_oil saved\".\n",
        "\n",
        "Since we are at the start, we can reimport a cleaned \"Energy Saved\" dataframe to extract the 3 fields we are interested in.  \n",
        "Once we extract these 3 fields, we need to transpose the dataset. "
      ]
    },
    {
      "cell_type": "markdown",
      "metadata": {
        "dc": {
          "key": "4"
        },
        "id": "Vr-HPNsjnW2B"
      },
      "source": [
        "#### iv. Fix the 'Energy Saved' Dataframe"
      ]
    },
    {
      "cell_type": "code",
      "metadata": {
        "dc": {
          "key": "4"
        },
        "collapsed": true,
        "trusted": true,
        "id": "DrT843innW2B"
      },
      "source": [
        "#pandas read_csv skips NaN/blank lines by default in the skip_blank_lines argument\n",
        "#so we specify 2 non-blank lines to skip below\n",
        "df_energy_saved = pd.read_csv('datasets/energy_saved.csv', skiprows=2, index_col=0)\n",
        "#df_energy_saved = pd.read_csv('datasets/energy_saved.csv', header=1, skiprows=2, index_col=0)"
      ],
      "execution_count": null,
      "outputs": []
    },
    {
      "cell_type": "code",
      "metadata": {
        "dc": {
          "key": "4"
        },
        "trusted": true,
        "id": "VOtZpaugnW2C",
        "outputId": "eacd1128-7745-4a2c-e318-2d3dae0fd441"
      },
      "source": [
        "df_energy_saved.head()"
      ],
      "execution_count": null,
      "outputs": [
        {
          "output_type": "execute_result",
          "data": {
            "text/plain": [
              "                 Unnamed: 1 Unnamed: 2     Unnamed: 3         Unnamed: 4  \\\n",
              "material            Plastic      Glass  Ferrous Metal  Non-Ferrous Metal   \n",
              "energy_saved       5774 Kwh     42 Kwh        642 Kwh          14000 Kwh   \n",
              "crude_oil saved  16 barrels        NaN    1.8 barrels         40 barrels   \n",
              "\n",
              "                  Unnamed: 5  \n",
              "material               Paper  \n",
              "energy_saved        4000 kWh  \n",
              "crude_oil saved  1.7 barrels  "
            ],
            "text/html": [
              "<div>\n",
              "<style scoped>\n",
              "    .dataframe tbody tr th:only-of-type {\n",
              "        vertical-align: middle;\n",
              "    }\n",
              "\n",
              "    .dataframe tbody tr th {\n",
              "        vertical-align: top;\n",
              "    }\n",
              "\n",
              "    .dataframe thead th {\n",
              "        text-align: right;\n",
              "    }\n",
              "</style>\n",
              "<table border=\"1\" class=\"dataframe\">\n",
              "  <thead>\n",
              "    <tr style=\"text-align: right;\">\n",
              "      <th></th>\n",
              "      <th>Unnamed: 1</th>\n",
              "      <th>Unnamed: 2</th>\n",
              "      <th>Unnamed: 3</th>\n",
              "      <th>Unnamed: 4</th>\n",
              "      <th>Unnamed: 5</th>\n",
              "    </tr>\n",
              "  </thead>\n",
              "  <tbody>\n",
              "    <tr>\n",
              "      <th>material</th>\n",
              "      <td>Plastic</td>\n",
              "      <td>Glass</td>\n",
              "      <td>Ferrous Metal</td>\n",
              "      <td>Non-Ferrous Metal</td>\n",
              "      <td>Paper</td>\n",
              "    </tr>\n",
              "    <tr>\n",
              "      <th>energy_saved</th>\n",
              "      <td>5774 Kwh</td>\n",
              "      <td>42 Kwh</td>\n",
              "      <td>642 Kwh</td>\n",
              "      <td>14000 Kwh</td>\n",
              "      <td>4000 kWh</td>\n",
              "    </tr>\n",
              "    <tr>\n",
              "      <th>crude_oil saved</th>\n",
              "      <td>16 barrels</td>\n",
              "      <td>NaN</td>\n",
              "      <td>1.8 barrels</td>\n",
              "      <td>40 barrels</td>\n",
              "      <td>1.7 barrels</td>\n",
              "    </tr>\n",
              "  </tbody>\n",
              "</table>\n",
              "</div>"
            ]
          },
          "metadata": {
            "tags": []
          },
          "execution_count": 61
        }
      ]
    },
    {
      "cell_type": "code",
      "metadata": {
        "dc": {
          "key": "4"
        },
        "trusted": true,
        "collapsed": true,
        "id": "3XeEfHg6nW2C"
      },
      "source": [
        "#try using melt\n",
        "#df_energy_saved_melted = df_energy_saved.melt(id_vars='material')\n",
        "#df_energy_saved_melted.head()"
      ],
      "execution_count": null,
      "outputs": []
    },
    {
      "cell_type": "code",
      "metadata": {
        "dc": {
          "key": "4"
        },
        "trusted": true,
        "collapsed": true,
        "id": "xuvrAnZcnW2C"
      },
      "source": [
        "df_energy_saved_transposed = df_energy_saved.T"
      ],
      "execution_count": null,
      "outputs": []
    },
    {
      "cell_type": "code",
      "metadata": {
        "dc": {
          "key": "4"
        },
        "trusted": true,
        "id": "zJecENo-nW2C",
        "outputId": "134026cd-216b-4264-e284-c1e8341c4b1a"
      },
      "source": [
        "df_energy_saved_transposed.head()"
      ],
      "execution_count": null,
      "outputs": [
        {
          "output_type": "execute_result",
          "data": {
            "text/plain": [
              "                     material energy_saved crude_oil saved\n",
              "Unnamed: 1            Plastic     5774 Kwh      16 barrels\n",
              "Unnamed: 2              Glass       42 Kwh             NaN\n",
              "Unnamed: 3      Ferrous Metal      642 Kwh     1.8 barrels\n",
              "Unnamed: 4  Non-Ferrous Metal    14000 Kwh      40 barrels\n",
              "Unnamed: 5              Paper     4000 kWh     1.7 barrels"
            ],
            "text/html": [
              "<div>\n",
              "<style scoped>\n",
              "    .dataframe tbody tr th:only-of-type {\n",
              "        vertical-align: middle;\n",
              "    }\n",
              "\n",
              "    .dataframe tbody tr th {\n",
              "        vertical-align: top;\n",
              "    }\n",
              "\n",
              "    .dataframe thead th {\n",
              "        text-align: right;\n",
              "    }\n",
              "</style>\n",
              "<table border=\"1\" class=\"dataframe\">\n",
              "  <thead>\n",
              "    <tr style=\"text-align: right;\">\n",
              "      <th></th>\n",
              "      <th>material</th>\n",
              "      <th>energy_saved</th>\n",
              "      <th>crude_oil saved</th>\n",
              "    </tr>\n",
              "  </thead>\n",
              "  <tbody>\n",
              "    <tr>\n",
              "      <th>Unnamed: 1</th>\n",
              "      <td>Plastic</td>\n",
              "      <td>5774 Kwh</td>\n",
              "      <td>16 barrels</td>\n",
              "    </tr>\n",
              "    <tr>\n",
              "      <th>Unnamed: 2</th>\n",
              "      <td>Glass</td>\n",
              "      <td>42 Kwh</td>\n",
              "      <td>NaN</td>\n",
              "    </tr>\n",
              "    <tr>\n",
              "      <th>Unnamed: 3</th>\n",
              "      <td>Ferrous Metal</td>\n",
              "      <td>642 Kwh</td>\n",
              "      <td>1.8 barrels</td>\n",
              "    </tr>\n",
              "    <tr>\n",
              "      <th>Unnamed: 4</th>\n",
              "      <td>Non-Ferrous Metal</td>\n",
              "      <td>14000 Kwh</td>\n",
              "      <td>40 barrels</td>\n",
              "    </tr>\n",
              "    <tr>\n",
              "      <th>Unnamed: 5</th>\n",
              "      <td>Paper</td>\n",
              "      <td>4000 kWh</td>\n",
              "      <td>1.7 barrels</td>\n",
              "    </tr>\n",
              "  </tbody>\n",
              "</table>\n",
              "</div>"
            ]
          },
          "metadata": {
            "tags": []
          },
          "execution_count": 64
        }
      ]
    },
    {
      "cell_type": "code",
      "metadata": {
        "dc": {
          "key": "4"
        },
        "trusted": true,
        "id": "fpBI7qmznW2C",
        "outputId": "9323db3c-b1fb-417b-9c2f-b5f2fb32861b"
      },
      "source": [
        "df_energy_saved_transposed.info()"
      ],
      "execution_count": null,
      "outputs": [
        {
          "output_type": "stream",
          "text": [
            "<class 'pandas.core.frame.DataFrame'>\n",
            "Index: 5 entries, Unnamed: 1 to Unnamed: 5\n",
            "Data columns (total 3 columns):\n",
            "material           5 non-null object\n",
            "energy_saved       5 non-null object\n",
            "crude_oil saved    4 non-null object\n",
            "dtypes: object(3)\n",
            "memory usage: 320.0+ bytes\n"
          ],
          "name": "stdout"
        }
      ]
    },
    {
      "cell_type": "markdown",
      "metadata": {
        "dc": {
          "key": "4"
        },
        "id": "dc1odn80nW2C"
      },
      "source": [
        "Now that df_energy_saved_transposed has been transposed, we can create a column of integers from the 'energy_saved'  column without the 'Kwh' suffix."
      ]
    },
    {
      "cell_type": "code",
      "metadata": {
        "dc": {
          "key": "4"
        },
        "collapsed": true,
        "trusted": true,
        "id": "oHT1Jz-KnW2D"
      },
      "source": [
        "df_energy_saved_transposed['energy_saved_int'] = [5774,42,645,14000,4000]"
      ],
      "execution_count": null,
      "outputs": []
    },
    {
      "cell_type": "code",
      "metadata": {
        "dc": {
          "key": "4"
        },
        "trusted": true,
        "id": "OdPWE8q4nW2D",
        "outputId": "cfa78523-7268-4699-a666-42b3ed1928de"
      },
      "source": [
        "df_energy_saved_transposed.info()"
      ],
      "execution_count": null,
      "outputs": [
        {
          "output_type": "stream",
          "text": [
            "<class 'pandas.core.frame.DataFrame'>\n",
            "Index: 5 entries, Unnamed: 1 to Unnamed: 5\n",
            "Data columns (total 4 columns):\n",
            "material            5 non-null object\n",
            "energy_saved        5 non-null object\n",
            "crude_oil saved     4 non-null object\n",
            "energy_saved_int    5 non-null int64\n",
            "dtypes: int64(1), object(3)\n",
            "memory usage: 360.0+ bytes\n"
          ],
          "name": "stdout"
        }
      ]
    },
    {
      "cell_type": "markdown",
      "metadata": {
        "dc": {
          "key": "4"
        },
        "id": "hHA4bxQanW2D"
      },
      "source": [
        "Do not use 'material' values as the index column. The 'material' values will need to be in a column instead of being in the index for a join between dataframes later."
      ]
    },
    {
      "cell_type": "code",
      "metadata": {
        "dc": {
          "key": "4"
        },
        "trusted": true,
        "id": "vrpd75x4nW2D",
        "outputId": "95155acd-f213-44c4-8aaa-7d9d2c17d495"
      },
      "source": [
        "df_energy_saved_transposed.head()"
      ],
      "execution_count": null,
      "outputs": [
        {
          "output_type": "execute_result",
          "data": {
            "text/plain": [
              "                     material energy_saved crude_oil saved  energy_saved_int\n",
              "Unnamed: 1            Plastic     5774 Kwh      16 barrels              5774\n",
              "Unnamed: 2              Glass       42 Kwh             NaN                42\n",
              "Unnamed: 3      Ferrous Metal      642 Kwh     1.8 barrels               645\n",
              "Unnamed: 4  Non-Ferrous Metal    14000 Kwh      40 barrels             14000\n",
              "Unnamed: 5              Paper     4000 kWh     1.7 barrels              4000"
            ],
            "text/html": [
              "<div>\n",
              "<style scoped>\n",
              "    .dataframe tbody tr th:only-of-type {\n",
              "        vertical-align: middle;\n",
              "    }\n",
              "\n",
              "    .dataframe tbody tr th {\n",
              "        vertical-align: top;\n",
              "    }\n",
              "\n",
              "    .dataframe thead th {\n",
              "        text-align: right;\n",
              "    }\n",
              "</style>\n",
              "<table border=\"1\" class=\"dataframe\">\n",
              "  <thead>\n",
              "    <tr style=\"text-align: right;\">\n",
              "      <th></th>\n",
              "      <th>material</th>\n",
              "      <th>energy_saved</th>\n",
              "      <th>crude_oil saved</th>\n",
              "      <th>energy_saved_int</th>\n",
              "    </tr>\n",
              "  </thead>\n",
              "  <tbody>\n",
              "    <tr>\n",
              "      <th>Unnamed: 1</th>\n",
              "      <td>Plastic</td>\n",
              "      <td>5774 Kwh</td>\n",
              "      <td>16 barrels</td>\n",
              "      <td>5774</td>\n",
              "    </tr>\n",
              "    <tr>\n",
              "      <th>Unnamed: 2</th>\n",
              "      <td>Glass</td>\n",
              "      <td>42 Kwh</td>\n",
              "      <td>NaN</td>\n",
              "      <td>42</td>\n",
              "    </tr>\n",
              "    <tr>\n",
              "      <th>Unnamed: 3</th>\n",
              "      <td>Ferrous Metal</td>\n",
              "      <td>642 Kwh</td>\n",
              "      <td>1.8 barrels</td>\n",
              "      <td>645</td>\n",
              "    </tr>\n",
              "    <tr>\n",
              "      <th>Unnamed: 4</th>\n",
              "      <td>Non-Ferrous Metal</td>\n",
              "      <td>14000 Kwh</td>\n",
              "      <td>40 barrels</td>\n",
              "      <td>14000</td>\n",
              "    </tr>\n",
              "    <tr>\n",
              "      <th>Unnamed: 5</th>\n",
              "      <td>Paper</td>\n",
              "      <td>4000 kWh</td>\n",
              "      <td>1.7 barrels</td>\n",
              "      <td>4000</td>\n",
              "    </tr>\n",
              "  </tbody>\n",
              "</table>\n",
              "</div>"
            ]
          },
          "metadata": {
            "tags": []
          },
          "execution_count": 68
        }
      ]
    },
    {
      "cell_type": "markdown",
      "metadata": {
        "dc": {
          "key": "4"
        },
        "id": "WMjU_2W5nW2D"
      },
      "source": [
        "We have fixed the \"Energy Saved\" dataframe by   \n",
        "-reading in **'datasets/energy_saved.csv'** again, skipping the 2 non-blank header rows and 1 blank header row\n",
        "-transposing the dataframe to show the **'material' column** as the index column, with corresponding **'energy_saved' and 'crude_oil saved' values** across each material value  \n",
        "-created a column of integers from the **'energy_saved' column** without the 'Kwh'/'kWh' suffix  \n",
        "\n",
        "  \n",
        "Now df_energy_saved_transposed is ready for analysis."
      ]
    },
    {
      "cell_type": "markdown",
      "metadata": {
        "dc": {
          "key": "4"
        },
        "id": "sIHurlkInW2E"
      },
      "source": [
        "## Combine the 2 Recycling Statistics Dataframes\n",
        "\n",
        "Next, let us combine the 2 Recycling Statistics Dataframes to simplify our analysis.  \n",
        "\n",
        "To do so, we need to extract the relevant columns from the \"Recycling from 2003 to 2017\" dataframe. This is because the \"Recycling from 2003 to 2017\" dataframe has more columns relative to the \"Recycling from 2018 to 2019\" dataframe irrelevant to our analysis.  \n",
        "\n",
        "Once done, let us append the \"Recycling from 2018 to 2019\" to the smaller \"Recycling from 2003 to 2017\" dataframe."
      ]
    },
    {
      "cell_type": "code",
      "metadata": {
        "dc": {
          "key": "4"
        },
        "collapsed": true,
        "trusted": true,
        "id": "iWf4fbgNnW2E"
      },
      "source": [
        "#extract the relevant columns\n",
        "df_recycle_before_18 = df_recycle_before_18[['waste_type', 'total_waste_generated_tonne', 'total_waste_recycled_tonne']]\n",
        "\n",
        "#convert the units for total waste generated and recycled from tonne to 1000 tonnes\n",
        "df_recycle_before_18['total_waste_generated_tonne'] = df_recycle_before_18['total_waste_generated_tonne']/1000\n",
        "df_recycle_before_18['total_waste_recycled_tonne'] = df_recycle_before_18['total_waste_recycled_tonne']/1000\n",
        "\n",
        "#then adjust the column labels to follow the more informative labels in df_recycle_from_18\n",
        "df_recycle_before_18.rename(columns={\"waste_type\": \"Waste Type\",\n",
        "                                     \"total_waste_generated_tonne\": \"Total Generated ('000 tonnes)\",\n",
        "                                     \"total_waste_recycled_tonne\": \"Total Recycled ('000 tonnes)\"},\n",
        "                            inplace=True)"
      ],
      "execution_count": null,
      "outputs": []
    },
    {
      "cell_type": "code",
      "metadata": {
        "dc": {
          "key": "4"
        },
        "trusted": true,
        "id": "efVXegFrnW2E",
        "outputId": "10588139-662f-47b8-e307-d117eb0a683a"
      },
      "source": [
        "#Check that column labels have been replaced as expected\n",
        "df_recycle_before_18.columns"
      ],
      "execution_count": null,
      "outputs": [
        {
          "output_type": "execute_result",
          "data": {
            "text/plain": [
              "Index(['Waste Type', 'Total Generated ('000 tonnes)',\n",
              "       'Total Recycled ('000 tonnes)'],\n",
              "      dtype='object')"
            ]
          },
          "metadata": {
            "tags": []
          },
          "execution_count": 70
        }
      ]
    },
    {
      "cell_type": "code",
      "metadata": {
        "dc": {
          "key": "4"
        },
        "trusted": true,
        "id": "oTxRIa5CnW2F",
        "outputId": "9f26b0ed-b0a6-4291-fad5-00a1f2173e70"
      },
      "source": [
        "#below df_recycle_before_18, append records from df_recycle_from_18 \n",
        "df_recycle_all = df_recycle_before_18.append(df_recycle_from_18)\n",
        "df_recycle_all.sort_index()\n",
        "#df_recycle_all.sort_values(by=['Waste Type'])"
      ],
      "execution_count": null,
      "outputs": [
        {
          "output_type": "execute_result",
          "data": {
            "text/plain": [
              "                                  Waste Type  Total Generated ('000 tonnes)  \\\n",
              "2003                     Horticultural Waste                          304.6   \n",
              "2003                         Paper/Cardboard                         1084.7   \n",
              "2003                                Plastics                          579.9   \n",
              "2003                     Construction Debris                          422.9   \n",
              "2003                             Wood/Timber                          213.4   \n",
              "2003                          Ferrous Metals                          856.7   \n",
              "2003                              Food waste                          548.0   \n",
              "2003                      Non-ferrous Metals                           93.9   \n",
              "2003                                  Sludge                           88.5   \n",
              "2003                                   Glass                           65.5   \n",
              "2003                         Textile/Leather                           91.6   \n",
              "2003                             Scrap Tyres                           14.4   \n",
              "2003  Others (stones, ceramics & rubber etc)                          103.8   \n",
              "2003                                   Total                         4728.2   \n",
              "2003                               Used Slag                          260.3   \n",
              "2004                     Construction Debris                          509.0   \n",
              "2004                                Plastics                          683.1   \n",
              "2004                                   Total                         4789.7   \n",
              "2004                              Food waste                          531.1   \n",
              "2004                             Wood/Timber                          222.3   \n",
              "2004                         Paper/Cardboard                         1132.1   \n",
              "2004                     Horticultural Waste                          227.0   \n",
              "2004                                  Others                          114.1   \n",
              "2004                      Non-ferrous Metals                           86.9   \n",
              "2004                               Used Slag                          267.2   \n",
              "2004                                  Sludge                           93.9   \n",
              "2004                                   Glass                           73.6   \n",
              "2004                         Textile/Leather                          114.5   \n",
              "2004                          Ferrous Metals                          720.2   \n",
              "2004                             Scrap Tyres                           14.7   \n",
              "...                                      ...                            ...   \n",
              "2018                           Ferrous Metal                         1269.0   \n",
              "2018                         Paper/Cardboard                         1054.0   \n",
              "2018                                Plastics                          949.0   \n",
              "2018                                    Food                          763.0   \n",
              "2018                                    Wood                          521.0   \n",
              "2018                           Horticultural                          320.0   \n",
              "2018                       Non-Ferrous Metal                          171.0   \n",
              "2018                         Textile/Leather                          220.0   \n",
              "2018                               Used Slag                          181.0   \n",
              "2018                                   Glass                           64.0   \n",
              "2018                             Scrap Tyres                           32.0   \n",
              "2018                            Ash & Sludge                          240.0   \n",
              "2018                Construction& Demolition                         1624.0   \n",
              "2018                                 Overall                         7695.0   \n",
              "2018   Others (stones, ceramic, rubber, ect)                          286.0   \n",
              "2019                                 Overall                         7234.0   \n",
              "2019                             Scrap Tyres                           33.0   \n",
              "2019                                   Glass                           75.0   \n",
              "2019                       Non-Ferrous Metal                          126.0   \n",
              "2019                               Used Slag                          129.0   \n",
              "2019                         Textile/Leather                          168.0   \n",
              "2019                            Ash & Sludge                          252.0   \n",
              "2019                           Horticultural                          400.0   \n",
              "2019                                    Wood                          438.0   \n",
              "2019                                    Food                         7440.0   \n",
              "2019                                Plastics                          930.0   \n",
              "2019                         Paper/Cardboard                         1011.0   \n",
              "2019                           Ferrous Metal                         1278.0   \n",
              "2019   Others (stones, ceramic, rubber, ect)                          210.0   \n",
              "2019                Construction& Demolition                         1440.0   \n",
              "\n",
              "      Total Recycled ('000 tonnes)  \n",
              "2003                         119.3  \n",
              "2003                         466.2  \n",
              "2003                          39.1  \n",
              "2003                         398.3  \n",
              "2003                          40.8  \n",
              "2003                         799.0  \n",
              "2003                          32.9  \n",
              "2003                          75.8  \n",
              "2003                           0.0  \n",
              "2003                           6.2  \n",
              "2003                           0.9  \n",
              "2003                           6.2  \n",
              "2003                           0.0  \n",
              "2003                        2223.2  \n",
              "2003                         238.5  \n",
              "2004                         471.0  \n",
              "2004                          74.1  \n",
              "2004                        2307.1  \n",
              "2004                          31.1  \n",
              "2004                          73.7  \n",
              "2004                         519.9  \n",
              "2004                         127.9  \n",
              "2004                          11.0  \n",
              "2004                          71.8  \n",
              "2004                         259.6  \n",
              "2004                           0.0  \n",
              "2004                           4.9  \n",
              "2004                           5.0  \n",
              "2004                         649.9  \n",
              "2004                           7.2  \n",
              "...                            ...  \n",
              "2018                         126.0  \n",
              "2018                         586.0  \n",
              "2018                          41.0  \n",
              "2018                         126.0  \n",
              "2018                         428.0  \n",
              "2018                         227.0  \n",
              "2018                         170.0  \n",
              "2018                          14.0  \n",
              "2018                         179.0  \n",
              "2018                          12.0  \n",
              "2018                          29.0  \n",
              "2018                          25.0  \n",
              "2018                        1618.0  \n",
              "2018                        4726.0  \n",
              "2018                          11.0  \n",
              "2019                        4247.0  \n",
              "2019                          31.0  \n",
              "2019                          11.0  \n",
              "2019                         124.0  \n",
              "2019                         127.0  \n",
              "2019                           6.0  \n",
              "2019                          25.0  \n",
              "2019                         293.0  \n",
              "2019                         289.0  \n",
              "2019                         136.0  \n",
              "2019                          37.0  \n",
              "2019                         449.0  \n",
              "2019                        1270.0  \n",
              "2019                          15.0  \n",
              "2019                        1434.0  \n",
              "\n",
              "[255 rows x 3 columns]"
            ],
            "text/html": [
              "<div>\n",
              "<style scoped>\n",
              "    .dataframe tbody tr th:only-of-type {\n",
              "        vertical-align: middle;\n",
              "    }\n",
              "\n",
              "    .dataframe tbody tr th {\n",
              "        vertical-align: top;\n",
              "    }\n",
              "\n",
              "    .dataframe thead th {\n",
              "        text-align: right;\n",
              "    }\n",
              "</style>\n",
              "<table border=\"1\" class=\"dataframe\">\n",
              "  <thead>\n",
              "    <tr style=\"text-align: right;\">\n",
              "      <th></th>\n",
              "      <th>Waste Type</th>\n",
              "      <th>Total Generated ('000 tonnes)</th>\n",
              "      <th>Total Recycled ('000 tonnes)</th>\n",
              "    </tr>\n",
              "  </thead>\n",
              "  <tbody>\n",
              "    <tr>\n",
              "      <th>2003</th>\n",
              "      <td>Horticultural Waste</td>\n",
              "      <td>304.6</td>\n",
              "      <td>119.3</td>\n",
              "    </tr>\n",
              "    <tr>\n",
              "      <th>2003</th>\n",
              "      <td>Paper/Cardboard</td>\n",
              "      <td>1084.7</td>\n",
              "      <td>466.2</td>\n",
              "    </tr>\n",
              "    <tr>\n",
              "      <th>2003</th>\n",
              "      <td>Plastics</td>\n",
              "      <td>579.9</td>\n",
              "      <td>39.1</td>\n",
              "    </tr>\n",
              "    <tr>\n",
              "      <th>2003</th>\n",
              "      <td>Construction Debris</td>\n",
              "      <td>422.9</td>\n",
              "      <td>398.3</td>\n",
              "    </tr>\n",
              "    <tr>\n",
              "      <th>2003</th>\n",
              "      <td>Wood/Timber</td>\n",
              "      <td>213.4</td>\n",
              "      <td>40.8</td>\n",
              "    </tr>\n",
              "    <tr>\n",
              "      <th>2003</th>\n",
              "      <td>Ferrous Metals</td>\n",
              "      <td>856.7</td>\n",
              "      <td>799.0</td>\n",
              "    </tr>\n",
              "    <tr>\n",
              "      <th>2003</th>\n",
              "      <td>Food waste</td>\n",
              "      <td>548.0</td>\n",
              "      <td>32.9</td>\n",
              "    </tr>\n",
              "    <tr>\n",
              "      <th>2003</th>\n",
              "      <td>Non-ferrous Metals</td>\n",
              "      <td>93.9</td>\n",
              "      <td>75.8</td>\n",
              "    </tr>\n",
              "    <tr>\n",
              "      <th>2003</th>\n",
              "      <td>Sludge</td>\n",
              "      <td>88.5</td>\n",
              "      <td>0.0</td>\n",
              "    </tr>\n",
              "    <tr>\n",
              "      <th>2003</th>\n",
              "      <td>Glass</td>\n",
              "      <td>65.5</td>\n",
              "      <td>6.2</td>\n",
              "    </tr>\n",
              "    <tr>\n",
              "      <th>2003</th>\n",
              "      <td>Textile/Leather</td>\n",
              "      <td>91.6</td>\n",
              "      <td>0.9</td>\n",
              "    </tr>\n",
              "    <tr>\n",
              "      <th>2003</th>\n",
              "      <td>Scrap Tyres</td>\n",
              "      <td>14.4</td>\n",
              "      <td>6.2</td>\n",
              "    </tr>\n",
              "    <tr>\n",
              "      <th>2003</th>\n",
              "      <td>Others (stones, ceramics &amp; rubber etc)</td>\n",
              "      <td>103.8</td>\n",
              "      <td>0.0</td>\n",
              "    </tr>\n",
              "    <tr>\n",
              "      <th>2003</th>\n",
              "      <td>Total</td>\n",
              "      <td>4728.2</td>\n",
              "      <td>2223.2</td>\n",
              "    </tr>\n",
              "    <tr>\n",
              "      <th>2003</th>\n",
              "      <td>Used Slag</td>\n",
              "      <td>260.3</td>\n",
              "      <td>238.5</td>\n",
              "    </tr>\n",
              "    <tr>\n",
              "      <th>2004</th>\n",
              "      <td>Construction Debris</td>\n",
              "      <td>509.0</td>\n",
              "      <td>471.0</td>\n",
              "    </tr>\n",
              "    <tr>\n",
              "      <th>2004</th>\n",
              "      <td>Plastics</td>\n",
              "      <td>683.1</td>\n",
              "      <td>74.1</td>\n",
              "    </tr>\n",
              "    <tr>\n",
              "      <th>2004</th>\n",
              "      <td>Total</td>\n",
              "      <td>4789.7</td>\n",
              "      <td>2307.1</td>\n",
              "    </tr>\n",
              "    <tr>\n",
              "      <th>2004</th>\n",
              "      <td>Food waste</td>\n",
              "      <td>531.1</td>\n",
              "      <td>31.1</td>\n",
              "    </tr>\n",
              "    <tr>\n",
              "      <th>2004</th>\n",
              "      <td>Wood/Timber</td>\n",
              "      <td>222.3</td>\n",
              "      <td>73.7</td>\n",
              "    </tr>\n",
              "    <tr>\n",
              "      <th>2004</th>\n",
              "      <td>Paper/Cardboard</td>\n",
              "      <td>1132.1</td>\n",
              "      <td>519.9</td>\n",
              "    </tr>\n",
              "    <tr>\n",
              "      <th>2004</th>\n",
              "      <td>Horticultural Waste</td>\n",
              "      <td>227.0</td>\n",
              "      <td>127.9</td>\n",
              "    </tr>\n",
              "    <tr>\n",
              "      <th>2004</th>\n",
              "      <td>Others</td>\n",
              "      <td>114.1</td>\n",
              "      <td>11.0</td>\n",
              "    </tr>\n",
              "    <tr>\n",
              "      <th>2004</th>\n",
              "      <td>Non-ferrous Metals</td>\n",
              "      <td>86.9</td>\n",
              "      <td>71.8</td>\n",
              "    </tr>\n",
              "    <tr>\n",
              "      <th>2004</th>\n",
              "      <td>Used Slag</td>\n",
              "      <td>267.2</td>\n",
              "      <td>259.6</td>\n",
              "    </tr>\n",
              "    <tr>\n",
              "      <th>2004</th>\n",
              "      <td>Sludge</td>\n",
              "      <td>93.9</td>\n",
              "      <td>0.0</td>\n",
              "    </tr>\n",
              "    <tr>\n",
              "      <th>2004</th>\n",
              "      <td>Glass</td>\n",
              "      <td>73.6</td>\n",
              "      <td>4.9</td>\n",
              "    </tr>\n",
              "    <tr>\n",
              "      <th>2004</th>\n",
              "      <td>Textile/Leather</td>\n",
              "      <td>114.5</td>\n",
              "      <td>5.0</td>\n",
              "    </tr>\n",
              "    <tr>\n",
              "      <th>2004</th>\n",
              "      <td>Ferrous Metals</td>\n",
              "      <td>720.2</td>\n",
              "      <td>649.9</td>\n",
              "    </tr>\n",
              "    <tr>\n",
              "      <th>2004</th>\n",
              "      <td>Scrap Tyres</td>\n",
              "      <td>14.7</td>\n",
              "      <td>7.2</td>\n",
              "    </tr>\n",
              "    <tr>\n",
              "      <th>...</th>\n",
              "      <td>...</td>\n",
              "      <td>...</td>\n",
              "      <td>...</td>\n",
              "    </tr>\n",
              "    <tr>\n",
              "      <th>2018</th>\n",
              "      <td>Ferrous Metal</td>\n",
              "      <td>1269.0</td>\n",
              "      <td>126.0</td>\n",
              "    </tr>\n",
              "    <tr>\n",
              "      <th>2018</th>\n",
              "      <td>Paper/Cardboard</td>\n",
              "      <td>1054.0</td>\n",
              "      <td>586.0</td>\n",
              "    </tr>\n",
              "    <tr>\n",
              "      <th>2018</th>\n",
              "      <td>Plastics</td>\n",
              "      <td>949.0</td>\n",
              "      <td>41.0</td>\n",
              "    </tr>\n",
              "    <tr>\n",
              "      <th>2018</th>\n",
              "      <td>Food</td>\n",
              "      <td>763.0</td>\n",
              "      <td>126.0</td>\n",
              "    </tr>\n",
              "    <tr>\n",
              "      <th>2018</th>\n",
              "      <td>Wood</td>\n",
              "      <td>521.0</td>\n",
              "      <td>428.0</td>\n",
              "    </tr>\n",
              "    <tr>\n",
              "      <th>2018</th>\n",
              "      <td>Horticultural</td>\n",
              "      <td>320.0</td>\n",
              "      <td>227.0</td>\n",
              "    </tr>\n",
              "    <tr>\n",
              "      <th>2018</th>\n",
              "      <td>Non-Ferrous Metal</td>\n",
              "      <td>171.0</td>\n",
              "      <td>170.0</td>\n",
              "    </tr>\n",
              "    <tr>\n",
              "      <th>2018</th>\n",
              "      <td>Textile/Leather</td>\n",
              "      <td>220.0</td>\n",
              "      <td>14.0</td>\n",
              "    </tr>\n",
              "    <tr>\n",
              "      <th>2018</th>\n",
              "      <td>Used Slag</td>\n",
              "      <td>181.0</td>\n",
              "      <td>179.0</td>\n",
              "    </tr>\n",
              "    <tr>\n",
              "      <th>2018</th>\n",
              "      <td>Glass</td>\n",
              "      <td>64.0</td>\n",
              "      <td>12.0</td>\n",
              "    </tr>\n",
              "    <tr>\n",
              "      <th>2018</th>\n",
              "      <td>Scrap Tyres</td>\n",
              "      <td>32.0</td>\n",
              "      <td>29.0</td>\n",
              "    </tr>\n",
              "    <tr>\n",
              "      <th>2018</th>\n",
              "      <td>Ash &amp; Sludge</td>\n",
              "      <td>240.0</td>\n",
              "      <td>25.0</td>\n",
              "    </tr>\n",
              "    <tr>\n",
              "      <th>2018</th>\n",
              "      <td>Construction&amp; Demolition</td>\n",
              "      <td>1624.0</td>\n",
              "      <td>1618.0</td>\n",
              "    </tr>\n",
              "    <tr>\n",
              "      <th>2018</th>\n",
              "      <td>Overall</td>\n",
              "      <td>7695.0</td>\n",
              "      <td>4726.0</td>\n",
              "    </tr>\n",
              "    <tr>\n",
              "      <th>2018</th>\n",
              "      <td>Others (stones, ceramic, rubber, ect)</td>\n",
              "      <td>286.0</td>\n",
              "      <td>11.0</td>\n",
              "    </tr>\n",
              "    <tr>\n",
              "      <th>2019</th>\n",
              "      <td>Overall</td>\n",
              "      <td>7234.0</td>\n",
              "      <td>4247.0</td>\n",
              "    </tr>\n",
              "    <tr>\n",
              "      <th>2019</th>\n",
              "      <td>Scrap Tyres</td>\n",
              "      <td>33.0</td>\n",
              "      <td>31.0</td>\n",
              "    </tr>\n",
              "    <tr>\n",
              "      <th>2019</th>\n",
              "      <td>Glass</td>\n",
              "      <td>75.0</td>\n",
              "      <td>11.0</td>\n",
              "    </tr>\n",
              "    <tr>\n",
              "      <th>2019</th>\n",
              "      <td>Non-Ferrous Metal</td>\n",
              "      <td>126.0</td>\n",
              "      <td>124.0</td>\n",
              "    </tr>\n",
              "    <tr>\n",
              "      <th>2019</th>\n",
              "      <td>Used Slag</td>\n",
              "      <td>129.0</td>\n",
              "      <td>127.0</td>\n",
              "    </tr>\n",
              "    <tr>\n",
              "      <th>2019</th>\n",
              "      <td>Textile/Leather</td>\n",
              "      <td>168.0</td>\n",
              "      <td>6.0</td>\n",
              "    </tr>\n",
              "    <tr>\n",
              "      <th>2019</th>\n",
              "      <td>Ash &amp; Sludge</td>\n",
              "      <td>252.0</td>\n",
              "      <td>25.0</td>\n",
              "    </tr>\n",
              "    <tr>\n",
              "      <th>2019</th>\n",
              "      <td>Horticultural</td>\n",
              "      <td>400.0</td>\n",
              "      <td>293.0</td>\n",
              "    </tr>\n",
              "    <tr>\n",
              "      <th>2019</th>\n",
              "      <td>Wood</td>\n",
              "      <td>438.0</td>\n",
              "      <td>289.0</td>\n",
              "    </tr>\n",
              "    <tr>\n",
              "      <th>2019</th>\n",
              "      <td>Food</td>\n",
              "      <td>7440.0</td>\n",
              "      <td>136.0</td>\n",
              "    </tr>\n",
              "    <tr>\n",
              "      <th>2019</th>\n",
              "      <td>Plastics</td>\n",
              "      <td>930.0</td>\n",
              "      <td>37.0</td>\n",
              "    </tr>\n",
              "    <tr>\n",
              "      <th>2019</th>\n",
              "      <td>Paper/Cardboard</td>\n",
              "      <td>1011.0</td>\n",
              "      <td>449.0</td>\n",
              "    </tr>\n",
              "    <tr>\n",
              "      <th>2019</th>\n",
              "      <td>Ferrous Metal</td>\n",
              "      <td>1278.0</td>\n",
              "      <td>1270.0</td>\n",
              "    </tr>\n",
              "    <tr>\n",
              "      <th>2019</th>\n",
              "      <td>Others (stones, ceramic, rubber, ect)</td>\n",
              "      <td>210.0</td>\n",
              "      <td>15.0</td>\n",
              "    </tr>\n",
              "    <tr>\n",
              "      <th>2019</th>\n",
              "      <td>Construction&amp; Demolition</td>\n",
              "      <td>1440.0</td>\n",
              "      <td>1434.0</td>\n",
              "    </tr>\n",
              "  </tbody>\n",
              "</table>\n",
              "<p>255 rows × 3 columns</p>\n",
              "</div>"
            ]
          },
          "metadata": {
            "tags": []
          },
          "execution_count": 71
        }
      ]
    },
    {
      "cell_type": "markdown",
      "metadata": {
        "dc": {
          "key": "4"
        },
        "id": "rBgiyxXFnW2F"
      },
      "source": [
        "## Combine the full Recycling Statistics Dataframe with the Energy Saved Dataframe"
      ]
    },
    {
      "cell_type": "code",
      "metadata": {
        "dc": {
          "key": "4"
        },
        "trusted": true,
        "collapsed": true,
        "id": "t8j9H-ThnW2F"
      },
      "source": [
        "#do an INNER JOIN based on the Recycling Statistics Dataframe 'Waste Type' values found in the Energy Saved Dataframe 'materials' column\n",
        "#with df_recycle_all on the left and df_energy_saved_transposed on the right\n",
        "full_energy_saved = df_recycle_all.reset_index().merge(df_energy_saved_transposed, \n",
        "                                                        how=\"inner\",\n",
        "                                                        left_on=\"Waste Type\",\n",
        "                                                        right_on=\"material\",\n",
        "                                                        sort=True,\n",
        "                                                        copy=True).set_index('index')\n",
        "                                                    \n",
        "#we also need to remove paper, which the \"Instructions\" did not want\n",
        "full_energy_saved = full_energy_saved[full_energy_saved[\"Waste Type\"] != \"Paper\"]\n",
        "\n",
        "#left_index=False,\n",
        "#right_index=True,"
      ],
      "execution_count": null,
      "outputs": []
    },
    {
      "cell_type": "code",
      "metadata": {
        "dc": {
          "key": "4"
        },
        "trusted": true,
        "id": "WOEglzDlnW2F",
        "outputId": "6746ebe5-abee-47d7-900b-4d4c6e2d5a5c"
      },
      "source": [
        "full_energy_saved.head()"
      ],
      "execution_count": null,
      "outputs": [
        {
          "output_type": "execute_result",
          "data": {
            "text/plain": [
              "          Waste Type  Total Generated ('000 tonnes)  \\\n",
              "index                                                 \n",
              "2013   Ferrous Metal                         1416.0   \n",
              "2012   Ferrous Metal                         1386.0   \n",
              "2011   Ferrous Metal                         1239.2   \n",
              "2010   Ferrous Metal                         1194.6   \n",
              "2009   Ferrous Metal                          872.0   \n",
              "\n",
              "       Total Recycled ('000 tonnes)       material energy_saved  \\\n",
              "index                                                             \n",
              "2013                         1369.2  Ferrous Metal      642 Kwh   \n",
              "2012                         1331.2  Ferrous Metal      642 Kwh   \n",
              "2011                         1171.6  Ferrous Metal      642 Kwh   \n",
              "2010                         1127.5  Ferrous Metal      642 Kwh   \n",
              "2009                          806.2  Ferrous Metal      642 Kwh   \n",
              "\n",
              "      crude_oil saved  energy_saved_int  \n",
              "index                                    \n",
              "2013      1.8 barrels               645  \n",
              "2012      1.8 barrels               645  \n",
              "2011      1.8 barrels               645  \n",
              "2010      1.8 barrels               645  \n",
              "2009      1.8 barrels               645  "
            ],
            "text/html": [
              "<div>\n",
              "<style scoped>\n",
              "    .dataframe tbody tr th:only-of-type {\n",
              "        vertical-align: middle;\n",
              "    }\n",
              "\n",
              "    .dataframe tbody tr th {\n",
              "        vertical-align: top;\n",
              "    }\n",
              "\n",
              "    .dataframe thead th {\n",
              "        text-align: right;\n",
              "    }\n",
              "</style>\n",
              "<table border=\"1\" class=\"dataframe\">\n",
              "  <thead>\n",
              "    <tr style=\"text-align: right;\">\n",
              "      <th></th>\n",
              "      <th>Waste Type</th>\n",
              "      <th>Total Generated ('000 tonnes)</th>\n",
              "      <th>Total Recycled ('000 tonnes)</th>\n",
              "      <th>material</th>\n",
              "      <th>energy_saved</th>\n",
              "      <th>crude_oil saved</th>\n",
              "      <th>energy_saved_int</th>\n",
              "    </tr>\n",
              "    <tr>\n",
              "      <th>index</th>\n",
              "      <th></th>\n",
              "      <th></th>\n",
              "      <th></th>\n",
              "      <th></th>\n",
              "      <th></th>\n",
              "      <th></th>\n",
              "      <th></th>\n",
              "    </tr>\n",
              "  </thead>\n",
              "  <tbody>\n",
              "    <tr>\n",
              "      <th>2013</th>\n",
              "      <td>Ferrous Metal</td>\n",
              "      <td>1416.0</td>\n",
              "      <td>1369.2</td>\n",
              "      <td>Ferrous Metal</td>\n",
              "      <td>642 Kwh</td>\n",
              "      <td>1.8 barrels</td>\n",
              "      <td>645</td>\n",
              "    </tr>\n",
              "    <tr>\n",
              "      <th>2012</th>\n",
              "      <td>Ferrous Metal</td>\n",
              "      <td>1386.0</td>\n",
              "      <td>1331.2</td>\n",
              "      <td>Ferrous Metal</td>\n",
              "      <td>642 Kwh</td>\n",
              "      <td>1.8 barrels</td>\n",
              "      <td>645</td>\n",
              "    </tr>\n",
              "    <tr>\n",
              "      <th>2011</th>\n",
              "      <td>Ferrous Metal</td>\n",
              "      <td>1239.2</td>\n",
              "      <td>1171.6</td>\n",
              "      <td>Ferrous Metal</td>\n",
              "      <td>642 Kwh</td>\n",
              "      <td>1.8 barrels</td>\n",
              "      <td>645</td>\n",
              "    </tr>\n",
              "    <tr>\n",
              "      <th>2010</th>\n",
              "      <td>Ferrous Metal</td>\n",
              "      <td>1194.6</td>\n",
              "      <td>1127.5</td>\n",
              "      <td>Ferrous Metal</td>\n",
              "      <td>642 Kwh</td>\n",
              "      <td>1.8 barrels</td>\n",
              "      <td>645</td>\n",
              "    </tr>\n",
              "    <tr>\n",
              "      <th>2009</th>\n",
              "      <td>Ferrous Metal</td>\n",
              "      <td>872.0</td>\n",
              "      <td>806.2</td>\n",
              "      <td>Ferrous Metal</td>\n",
              "      <td>642 Kwh</td>\n",
              "      <td>1.8 barrels</td>\n",
              "      <td>645</td>\n",
              "    </tr>\n",
              "  </tbody>\n",
              "</table>\n",
              "</div>"
            ]
          },
          "metadata": {
            "tags": []
          },
          "execution_count": 73
        }
      ]
    },
    {
      "cell_type": "code",
      "metadata": {
        "dc": {
          "key": "4"
        },
        "trusted": true,
        "collapsed": true,
        "id": "rrEOsDGOnW2F"
      },
      "source": [
        "#this was used when I performed a LEFT JOIN\n",
        "#to subset for only the materials found in both dataframes\n",
        "\n",
        "#with the INNER JOIN approach above, I no longer need to perform this step\n",
        "#materialList = []\n",
        "\n",
        "#for material in df_energy_saved_transposed['material']:\n",
        "#    materialList.append(material)"
      ],
      "execution_count": null,
      "outputs": []
    },
    {
      "cell_type": "code",
      "metadata": {
        "dc": {
          "key": "4"
        },
        "trusted": true,
        "collapsed": true,
        "id": "bYh9gGJJnW2G"
      },
      "source": [
        "#materialList\n",
        "#full_energy_saved[full_energy_saved['Waste Type'].isin(materialList)]"
      ],
      "execution_count": null,
      "outputs": []
    },
    {
      "cell_type": "code",
      "metadata": {
        "dc": {
          "key": "4"
        },
        "trusted": true,
        "id": "OvPHB8d7nW2G",
        "outputId": "bab7385d-7330-4fcb-dac7-cc73a6692d2d"
      },
      "source": [
        "full_energy_saved.tail()"
      ],
      "execution_count": null,
      "outputs": [
        {
          "output_type": "execute_result",
          "data": {
            "text/plain": [
              "              Waste Type  Total Generated ('000 tonnes)  \\\n",
              "index                                                     \n",
              "2019               Glass                           75.0   \n",
              "2018               Glass                           64.0   \n",
              "2019   Non-Ferrous Metal                          126.0   \n",
              "2018   Non-Ferrous Metal                          171.0   \n",
              "2017             Plastic                          815.2   \n",
              "\n",
              "       Total Recycled ('000 tonnes)           material energy_saved  \\\n",
              "index                                                                 \n",
              "2019                           11.0              Glass       42 Kwh   \n",
              "2018                           12.0              Glass       42 Kwh   \n",
              "2019                          124.0  Non-Ferrous Metal    14000 Kwh   \n",
              "2018                          170.0  Non-Ferrous Metal    14000 Kwh   \n",
              "2017                           51.8            Plastic     5774 Kwh   \n",
              "\n",
              "      crude_oil saved  energy_saved_int  \n",
              "index                                    \n",
              "2019              NaN                42  \n",
              "2018              NaN                42  \n",
              "2019       40 barrels             14000  \n",
              "2018       40 barrels             14000  \n",
              "2017       16 barrels              5774  "
            ],
            "text/html": [
              "<div>\n",
              "<style scoped>\n",
              "    .dataframe tbody tr th:only-of-type {\n",
              "        vertical-align: middle;\n",
              "    }\n",
              "\n",
              "    .dataframe tbody tr th {\n",
              "        vertical-align: top;\n",
              "    }\n",
              "\n",
              "    .dataframe thead th {\n",
              "        text-align: right;\n",
              "    }\n",
              "</style>\n",
              "<table border=\"1\" class=\"dataframe\">\n",
              "  <thead>\n",
              "    <tr style=\"text-align: right;\">\n",
              "      <th></th>\n",
              "      <th>Waste Type</th>\n",
              "      <th>Total Generated ('000 tonnes)</th>\n",
              "      <th>Total Recycled ('000 tonnes)</th>\n",
              "      <th>material</th>\n",
              "      <th>energy_saved</th>\n",
              "      <th>crude_oil saved</th>\n",
              "      <th>energy_saved_int</th>\n",
              "    </tr>\n",
              "    <tr>\n",
              "      <th>index</th>\n",
              "      <th></th>\n",
              "      <th></th>\n",
              "      <th></th>\n",
              "      <th></th>\n",
              "      <th></th>\n",
              "      <th></th>\n",
              "      <th></th>\n",
              "    </tr>\n",
              "  </thead>\n",
              "  <tbody>\n",
              "    <tr>\n",
              "      <th>2019</th>\n",
              "      <td>Glass</td>\n",
              "      <td>75.0</td>\n",
              "      <td>11.0</td>\n",
              "      <td>Glass</td>\n",
              "      <td>42 Kwh</td>\n",
              "      <td>NaN</td>\n",
              "      <td>42</td>\n",
              "    </tr>\n",
              "    <tr>\n",
              "      <th>2018</th>\n",
              "      <td>Glass</td>\n",
              "      <td>64.0</td>\n",
              "      <td>12.0</td>\n",
              "      <td>Glass</td>\n",
              "      <td>42 Kwh</td>\n",
              "      <td>NaN</td>\n",
              "      <td>42</td>\n",
              "    </tr>\n",
              "    <tr>\n",
              "      <th>2019</th>\n",
              "      <td>Non-Ferrous Metal</td>\n",
              "      <td>126.0</td>\n",
              "      <td>124.0</td>\n",
              "      <td>Non-Ferrous Metal</td>\n",
              "      <td>14000 Kwh</td>\n",
              "      <td>40 barrels</td>\n",
              "      <td>14000</td>\n",
              "    </tr>\n",
              "    <tr>\n",
              "      <th>2018</th>\n",
              "      <td>Non-Ferrous Metal</td>\n",
              "      <td>171.0</td>\n",
              "      <td>170.0</td>\n",
              "      <td>Non-Ferrous Metal</td>\n",
              "      <td>14000 Kwh</td>\n",
              "      <td>40 barrels</td>\n",
              "      <td>14000</td>\n",
              "    </tr>\n",
              "    <tr>\n",
              "      <th>2017</th>\n",
              "      <td>Plastic</td>\n",
              "      <td>815.2</td>\n",
              "      <td>51.8</td>\n",
              "      <td>Plastic</td>\n",
              "      <td>5774 Kwh</td>\n",
              "      <td>16 barrels</td>\n",
              "      <td>5774</td>\n",
              "    </tr>\n",
              "  </tbody>\n",
              "</table>\n",
              "</div>"
            ]
          },
          "metadata": {
            "tags": []
          },
          "execution_count": 76
        }
      ]
    },
    {
      "cell_type": "markdown",
      "metadata": {
        "dc": {
          "key": "4"
        },
        "id": "LlcI6tBfnW2G"
      },
      "source": [
        "From the merged dataframe, we have:  \n",
        "-**\"Waste Type\" (and \"material\")** values  \n",
        "-**\"Total Recycled ('000 tonnes)\"** values  \n",
        "-**\"energy_saved_int\"** integer values -> per ton  \n",
        "\n",
        "For each row, compute the total energy saved in kWh by multiplying **\"Total Recycled ('000 tonnes)\"** by a **factor of 1000** to unravel the \"1000\" tonne, and multiply with **\"energy_saved_int\"**.  \n",
        "Save the computed total energy saved in kWh for each row in a **new column \"total_energy_saved\"**."
      ]
    },
    {
      "cell_type": "code",
      "metadata": {
        "dc": {
          "key": "4"
        },
        "collapsed": true,
        "trusted": true,
        "id": "212i5H58nW2G"
      },
      "source": [
        "full_energy_saved['total_energy_saved'] = full_energy_saved[\"Total Recycled ('000 tonnes)\"] * 1000 * full_energy_saved['energy_saved_int']"
      ],
      "execution_count": null,
      "outputs": []
    },
    {
      "cell_type": "code",
      "metadata": {
        "dc": {
          "key": "4"
        },
        "trusted": true,
        "id": "CmVNP7OgnW2G",
        "outputId": "ed08bc71-c2a1-470d-85c2-5edbb85d22d1"
      },
      "source": [
        "full_energy_saved.head()"
      ],
      "execution_count": null,
      "outputs": [
        {
          "output_type": "execute_result",
          "data": {
            "text/plain": [
              "          Waste Type  Total Generated ('000 tonnes)  \\\n",
              "index                                                 \n",
              "2013   Ferrous Metal                         1416.0   \n",
              "2012   Ferrous Metal                         1386.0   \n",
              "2011   Ferrous Metal                         1239.2   \n",
              "2010   Ferrous Metal                         1194.6   \n",
              "2009   Ferrous Metal                          872.0   \n",
              "\n",
              "       Total Recycled ('000 tonnes)       material energy_saved  \\\n",
              "index                                                             \n",
              "2013                         1369.2  Ferrous Metal      642 Kwh   \n",
              "2012                         1331.2  Ferrous Metal      642 Kwh   \n",
              "2011                         1171.6  Ferrous Metal      642 Kwh   \n",
              "2010                         1127.5  Ferrous Metal      642 Kwh   \n",
              "2009                          806.2  Ferrous Metal      642 Kwh   \n",
              "\n",
              "      crude_oil saved  energy_saved_int  total_energy_saved  \n",
              "index                                                        \n",
              "2013      1.8 barrels               645         883134000.0  \n",
              "2012      1.8 barrels               645         858624000.0  \n",
              "2011      1.8 barrels               645         755682000.0  \n",
              "2010      1.8 barrels               645         727237500.0  \n",
              "2009      1.8 barrels               645         519999000.0  "
            ],
            "text/html": [
              "<div>\n",
              "<style scoped>\n",
              "    .dataframe tbody tr th:only-of-type {\n",
              "        vertical-align: middle;\n",
              "    }\n",
              "\n",
              "    .dataframe tbody tr th {\n",
              "        vertical-align: top;\n",
              "    }\n",
              "\n",
              "    .dataframe thead th {\n",
              "        text-align: right;\n",
              "    }\n",
              "</style>\n",
              "<table border=\"1\" class=\"dataframe\">\n",
              "  <thead>\n",
              "    <tr style=\"text-align: right;\">\n",
              "      <th></th>\n",
              "      <th>Waste Type</th>\n",
              "      <th>Total Generated ('000 tonnes)</th>\n",
              "      <th>Total Recycled ('000 tonnes)</th>\n",
              "      <th>material</th>\n",
              "      <th>energy_saved</th>\n",
              "      <th>crude_oil saved</th>\n",
              "      <th>energy_saved_int</th>\n",
              "      <th>total_energy_saved</th>\n",
              "    </tr>\n",
              "    <tr>\n",
              "      <th>index</th>\n",
              "      <th></th>\n",
              "      <th></th>\n",
              "      <th></th>\n",
              "      <th></th>\n",
              "      <th></th>\n",
              "      <th></th>\n",
              "      <th></th>\n",
              "      <th></th>\n",
              "    </tr>\n",
              "  </thead>\n",
              "  <tbody>\n",
              "    <tr>\n",
              "      <th>2013</th>\n",
              "      <td>Ferrous Metal</td>\n",
              "      <td>1416.0</td>\n",
              "      <td>1369.2</td>\n",
              "      <td>Ferrous Metal</td>\n",
              "      <td>642 Kwh</td>\n",
              "      <td>1.8 barrels</td>\n",
              "      <td>645</td>\n",
              "      <td>883134000.0</td>\n",
              "    </tr>\n",
              "    <tr>\n",
              "      <th>2012</th>\n",
              "      <td>Ferrous Metal</td>\n",
              "      <td>1386.0</td>\n",
              "      <td>1331.2</td>\n",
              "      <td>Ferrous Metal</td>\n",
              "      <td>642 Kwh</td>\n",
              "      <td>1.8 barrels</td>\n",
              "      <td>645</td>\n",
              "      <td>858624000.0</td>\n",
              "    </tr>\n",
              "    <tr>\n",
              "      <th>2011</th>\n",
              "      <td>Ferrous Metal</td>\n",
              "      <td>1239.2</td>\n",
              "      <td>1171.6</td>\n",
              "      <td>Ferrous Metal</td>\n",
              "      <td>642 Kwh</td>\n",
              "      <td>1.8 barrels</td>\n",
              "      <td>645</td>\n",
              "      <td>755682000.0</td>\n",
              "    </tr>\n",
              "    <tr>\n",
              "      <th>2010</th>\n",
              "      <td>Ferrous Metal</td>\n",
              "      <td>1194.6</td>\n",
              "      <td>1127.5</td>\n",
              "      <td>Ferrous Metal</td>\n",
              "      <td>642 Kwh</td>\n",
              "      <td>1.8 barrels</td>\n",
              "      <td>645</td>\n",
              "      <td>727237500.0</td>\n",
              "    </tr>\n",
              "    <tr>\n",
              "      <th>2009</th>\n",
              "      <td>Ferrous Metal</td>\n",
              "      <td>872.0</td>\n",
              "      <td>806.2</td>\n",
              "      <td>Ferrous Metal</td>\n",
              "      <td>642 Kwh</td>\n",
              "      <td>1.8 barrels</td>\n",
              "      <td>645</td>\n",
              "      <td>519999000.0</td>\n",
              "    </tr>\n",
              "  </tbody>\n",
              "</table>\n",
              "</div>"
            ]
          },
          "metadata": {
            "tags": []
          },
          "execution_count": 78
        }
      ]
    },
    {
      "cell_type": "code",
      "metadata": {
        "dc": {
          "key": "4"
        },
        "trusted": true,
        "id": "O6gNHZYWnW2G",
        "outputId": "b1ecc900-d518-4a1e-9b85-0394d1d96170"
      },
      "source": [
        "full_energy_saved.reset_index().head()"
      ],
      "execution_count": null,
      "outputs": [
        {
          "output_type": "execute_result",
          "data": {
            "text/plain": [
              "   index     Waste Type  Total Generated ('000 tonnes)  \\\n",
              "0   2013  Ferrous Metal                         1416.0   \n",
              "1   2012  Ferrous Metal                         1386.0   \n",
              "2   2011  Ferrous Metal                         1239.2   \n",
              "3   2010  Ferrous Metal                         1194.6   \n",
              "4   2009  Ferrous Metal                          872.0   \n",
              "\n",
              "   Total Recycled ('000 tonnes)       material energy_saved crude_oil saved  \\\n",
              "0                        1369.2  Ferrous Metal      642 Kwh     1.8 barrels   \n",
              "1                        1331.2  Ferrous Metal      642 Kwh     1.8 barrels   \n",
              "2                        1171.6  Ferrous Metal      642 Kwh     1.8 barrels   \n",
              "3                        1127.5  Ferrous Metal      642 Kwh     1.8 barrels   \n",
              "4                         806.2  Ferrous Metal      642 Kwh     1.8 barrels   \n",
              "\n",
              "   energy_saved_int  total_energy_saved  \n",
              "0               645         883134000.0  \n",
              "1               645         858624000.0  \n",
              "2               645         755682000.0  \n",
              "3               645         727237500.0  \n",
              "4               645         519999000.0  "
            ],
            "text/html": [
              "<div>\n",
              "<style scoped>\n",
              "    .dataframe tbody tr th:only-of-type {\n",
              "        vertical-align: middle;\n",
              "    }\n",
              "\n",
              "    .dataframe tbody tr th {\n",
              "        vertical-align: top;\n",
              "    }\n",
              "\n",
              "    .dataframe thead th {\n",
              "        text-align: right;\n",
              "    }\n",
              "</style>\n",
              "<table border=\"1\" class=\"dataframe\">\n",
              "  <thead>\n",
              "    <tr style=\"text-align: right;\">\n",
              "      <th></th>\n",
              "      <th>index</th>\n",
              "      <th>Waste Type</th>\n",
              "      <th>Total Generated ('000 tonnes)</th>\n",
              "      <th>Total Recycled ('000 tonnes)</th>\n",
              "      <th>material</th>\n",
              "      <th>energy_saved</th>\n",
              "      <th>crude_oil saved</th>\n",
              "      <th>energy_saved_int</th>\n",
              "      <th>total_energy_saved</th>\n",
              "    </tr>\n",
              "  </thead>\n",
              "  <tbody>\n",
              "    <tr>\n",
              "      <th>0</th>\n",
              "      <td>2013</td>\n",
              "      <td>Ferrous Metal</td>\n",
              "      <td>1416.0</td>\n",
              "      <td>1369.2</td>\n",
              "      <td>Ferrous Metal</td>\n",
              "      <td>642 Kwh</td>\n",
              "      <td>1.8 barrels</td>\n",
              "      <td>645</td>\n",
              "      <td>883134000.0</td>\n",
              "    </tr>\n",
              "    <tr>\n",
              "      <th>1</th>\n",
              "      <td>2012</td>\n",
              "      <td>Ferrous Metal</td>\n",
              "      <td>1386.0</td>\n",
              "      <td>1331.2</td>\n",
              "      <td>Ferrous Metal</td>\n",
              "      <td>642 Kwh</td>\n",
              "      <td>1.8 barrels</td>\n",
              "      <td>645</td>\n",
              "      <td>858624000.0</td>\n",
              "    </tr>\n",
              "    <tr>\n",
              "      <th>2</th>\n",
              "      <td>2011</td>\n",
              "      <td>Ferrous Metal</td>\n",
              "      <td>1239.2</td>\n",
              "      <td>1171.6</td>\n",
              "      <td>Ferrous Metal</td>\n",
              "      <td>642 Kwh</td>\n",
              "      <td>1.8 barrels</td>\n",
              "      <td>645</td>\n",
              "      <td>755682000.0</td>\n",
              "    </tr>\n",
              "    <tr>\n",
              "      <th>3</th>\n",
              "      <td>2010</td>\n",
              "      <td>Ferrous Metal</td>\n",
              "      <td>1194.6</td>\n",
              "      <td>1127.5</td>\n",
              "      <td>Ferrous Metal</td>\n",
              "      <td>642 Kwh</td>\n",
              "      <td>1.8 barrels</td>\n",
              "      <td>645</td>\n",
              "      <td>727237500.0</td>\n",
              "    </tr>\n",
              "    <tr>\n",
              "      <th>4</th>\n",
              "      <td>2009</td>\n",
              "      <td>Ferrous Metal</td>\n",
              "      <td>872.0</td>\n",
              "      <td>806.2</td>\n",
              "      <td>Ferrous Metal</td>\n",
              "      <td>642 Kwh</td>\n",
              "      <td>1.8 barrels</td>\n",
              "      <td>645</td>\n",
              "      <td>519999000.0</td>\n",
              "    </tr>\n",
              "  </tbody>\n",
              "</table>\n",
              "</div>"
            ]
          },
          "metadata": {
            "tags": []
          },
          "execution_count": 79
        }
      ]
    },
    {
      "cell_type": "markdown",
      "metadata": {
        "dc": {
          "key": "4"
        },
        "id": "QXQz0tWvnW2H"
      },
      "source": [
        "## Aggregate total energy saved per year from 2015 to 2019"
      ]
    },
    {
      "cell_type": "markdown",
      "metadata": {
        "dc": {
          "key": "4"
        },
        "id": "LffW4ZqrnW2H"
      },
      "source": [
        "Perform a SUM of the **'total_energy_saved' values** across each year."
      ]
    },
    {
      "cell_type": "code",
      "metadata": {
        "dc": {
          "key": "4"
        },
        "trusted": true,
        "id": "RQFhF6VOnW2H"
      },
      "source": [
        "annual_energy_savings = full_energy_saved.groupby('index')['total_energy_saved'].sum()"
      ],
      "execution_count": null,
      "outputs": []
    },
    {
      "cell_type": "markdown",
      "metadata": {
        "dc": {
          "key": "4"
        },
        "id": "Wbk_-rkqnW2H"
      },
      "source": [
        "Inspect the \"annual_energy_savings\" variable whether the contents look similar to the expected output requested in the Instructions panel."
      ]
    },
    {
      "cell_type": "code",
      "metadata": {
        "dc": {
          "key": "4"
        },
        "trusted": true,
        "id": "KAG0w4cTnW2H",
        "outputId": "1799c75d-125d-4b1f-8b7a-0ed03406ce14"
      },
      "source": [
        "print(annual_energy_savings)"
      ],
      "execution_count": null,
      "outputs": [
        {
          "output_type": "stream",
          "text": [
            "index\n",
            "2003    2.604000e+05\n",
            "2004    2.058000e+05\n",
            "2005    1.596000e+05\n",
            "2006    2.688000e+05\n",
            "2007    4.311036e+08\n",
            "2008    4.744950e+08\n",
            "2009    5.206542e+08\n",
            "2010    7.280439e+08\n",
            "2011    7.565808e+08\n",
            "2012    8.594430e+08\n",
            "2013    8.837472e+08\n",
            "2014    6.594000e+05\n",
            "2015    6.132000e+05\n",
            "2016    6.174000e+05\n",
            "2017    2.996140e+08\n",
            "2018    2.461774e+09\n",
            "2019    2.555612e+09\n",
            "Name: total_energy_saved, dtype: float64\n"
          ],
          "name": "stdout"
        }
      ]
    },
    {
      "cell_type": "markdown",
      "metadata": {
        "dc": {
          "key": "4"
        },
        "id": "ntDiABtknW2H"
      },
      "source": [
        "Subset the dataframe to contain only the 'total_energy_saved' values from 2015 to 2019."
      ]
    },
    {
      "cell_type": "code",
      "metadata": {
        "dc": {
          "key": "4"
        },
        "trusted": true,
        "collapsed": true,
        "id": "rwI8JFhknW2H"
      },
      "source": [
        "#annual_energy_savings[-5:]\n",
        "annual_energy_savings = annual_energy_savings.tail(5)"
      ],
      "execution_count": null,
      "outputs": []
    },
    {
      "cell_type": "code",
      "metadata": {
        "dc": {
          "key": "4"
        },
        "trusted": true,
        "id": "kyqn33TznW2I",
        "outputId": "b92c8de6-d023-49ad-9646-d5fe3b073aa0"
      },
      "source": [
        "print(annual_energy_savings)"
      ],
      "execution_count": null,
      "outputs": [
        {
          "output_type": "stream",
          "text": [
            "index\n",
            "2015    6.132000e+05\n",
            "2016    6.174000e+05\n",
            "2017    2.996140e+08\n",
            "2018    2.461774e+09\n",
            "2019    2.555612e+09\n",
            "Name: total_energy_saved, dtype: float64\n"
          ],
          "name": "stdout"
        }
      ]
    },
    {
      "cell_type": "markdown",
      "metadata": {
        "dc": {
          "key": "4"
        },
        "id": "BO9jwlVsnW2I"
      },
      "source": [
        "Set the index column name to 'year'."
      ]
    },
    {
      "cell_type": "code",
      "metadata": {
        "dc": {
          "key": "4"
        },
        "trusted": true,
        "collapsed": true,
        "id": "qAanoa8SnW2I"
      },
      "source": [
        "annual_energy_savings.index.name = 'year'"
      ],
      "execution_count": null,
      "outputs": []
    },
    {
      "cell_type": "markdown",
      "metadata": {
        "dc": {
          "key": "4"
        },
        "id": "p9FQN6XcnW2I"
      },
      "source": [
        "Set the value column name to 'total_energy_saved'."
      ]
    },
    {
      "cell_type": "code",
      "metadata": {
        "dc": {
          "key": "4"
        },
        "collapsed": true,
        "trusted": true,
        "id": "WYUaMmhdnW2I"
      },
      "source": [
        "annual_energy_savings.columns = [\"total_energy_saved\"]"
      ],
      "execution_count": null,
      "outputs": []
    },
    {
      "cell_type": "markdown",
      "metadata": {
        "dc": {
          "key": "4"
        },
        "id": "DqTPX6MZnW2J"
      },
      "source": [
        "Inspect the variable 'annual_energy_savings'.  \n",
        "It seems that the 'total_energy_saved' column name is not appearing after checking the last 5 rows.  \n",
        "After checking the data type of the variable 'annual_energy_savings', it seems that this is currently a pandas Series."
      ]
    },
    {
      "cell_type": "code",
      "metadata": {
        "dc": {
          "key": "4"
        },
        "trusted": true,
        "id": "Ea_h2UBTnW2J",
        "outputId": "0aaae992-939e-47ce-af27-740627eafb3f"
      },
      "source": [
        "annual_energy_savings.tail()"
      ],
      "execution_count": null,
      "outputs": [
        {
          "output_type": "execute_result",
          "data": {
            "text/plain": [
              "year\n",
              "2015    6.132000e+05\n",
              "2016    6.174000e+05\n",
              "2017    2.996140e+08\n",
              "2018    2.461774e+09\n",
              "2019    2.555612e+09\n",
              "Name: total_energy_saved, dtype: float64"
            ]
          },
          "metadata": {
            "tags": []
          },
          "execution_count": 86
        }
      ]
    },
    {
      "cell_type": "code",
      "metadata": {
        "dc": {
          "key": "4"
        },
        "trusted": true,
        "id": "mQuLP6JMnW2J",
        "outputId": "5e53c18d-f263-419c-da0e-a9a34ff5be96"
      },
      "source": [
        "type(annual_energy_savings)"
      ],
      "execution_count": null,
      "outputs": [
        {
          "output_type": "execute_result",
          "data": {
            "text/plain": [
              "pandas.core.series.Series"
            ]
          },
          "metadata": {
            "tags": []
          },
          "execution_count": 87
        }
      ]
    },
    {
      "cell_type": "markdown",
      "metadata": {
        "dc": {
          "key": "4"
        },
        "id": "4245FE0QnW2J"
      },
      "source": [
        "Therefore, let me change the variable 'annual_energy_savings' from a pandas Series to a dataframe."
      ]
    },
    {
      "cell_type": "code",
      "metadata": {
        "dc": {
          "key": "4"
        },
        "trusted": true,
        "collapsed": true,
        "id": "XvCz0V9CnW2J"
      },
      "source": [
        "annual_energy_savings = annual_energy_savings.to_frame()"
      ],
      "execution_count": null,
      "outputs": []
    },
    {
      "cell_type": "code",
      "metadata": {
        "dc": {
          "key": "4"
        },
        "trusted": true,
        "id": "I66TICZ2nW2J",
        "outputId": "439ffcb4-5c6e-4d37-948d-881c56348bc1"
      },
      "source": [
        "type(annual_energy_savings)"
      ],
      "execution_count": null,
      "outputs": [
        {
          "output_type": "execute_result",
          "data": {
            "text/plain": [
              "pandas.core.frame.DataFrame"
            ]
          },
          "metadata": {
            "tags": []
          },
          "execution_count": 89
        }
      ]
    },
    {
      "cell_type": "markdown",
      "metadata": {
        "dc": {
          "key": "4"
        },
        "id": "GWCQH5d5nW2K"
      },
      "source": [
        "We now have a:\n",
        "<ol> \n",
        "<li>'annual_energy_savings' dataframe</li>\n",
        "<li>'year' index column</li>\n",
        "<li>'annual_energy_savings' value in kWh column</li>\n",
        "<li>show only values from 2015 to 2019</li>\n",
        "</ol>\n",
        "\n",
        "which follows what the Instructions panel wanted."
      ]
    },
    {
      "cell_type": "code",
      "metadata": {
        "dc": {
          "key": "4"
        },
        "trusted": true,
        "id": "M0NC93PlnW2K",
        "outputId": "903dc6d9-1e07-47f1-d8f1-c07f3457e1ee"
      },
      "source": [
        "print(annual_energy_savings)"
      ],
      "execution_count": null,
      "outputs": [
        {
          "output_type": "stream",
          "text": [
            "      total_energy_saved\n",
            "year                    \n",
            "2015        6.132000e+05\n",
            "2016        6.174000e+05\n",
            "2017        2.996140e+08\n",
            "2018        2.461774e+09\n",
            "2019        2.555612e+09\n"
          ],
          "name": "stdout"
        }
      ]
    },
    {
      "cell_type": "markdown",
      "metadata": {
        "dc": {
          "key": "4"
        },
        "id": "fbf8iG0gnW2K"
      },
      "source": [
        "Yet I am encountering an issue after submitting this Jupyter notebook by clicking on \"Check Project\".  \n",
        "  \n",
        "  \n",
        "Some tests failed  \n",
        "TEST 1  \n",
        "There was an error while testing your code. Please double-check your submission.  "
      ]
    }
  ]
}