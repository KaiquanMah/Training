{
 "cells": [
  {
   "cell_type": "markdown",
   "metadata": {},
   "source": [
    "# Vanilla RNNs, GRUs and the `scan` function"
   ]
  },
  {
   "cell_type": "markdown",
   "metadata": {},
   "source": [
    "In this notebook, you will learn how to define the forward method for vanilla RNNs and GRUs. Additionally, you will see how to define and use the function `scan` to compute forward propagation for RNNs.\n",
    "\n",
    "By completing this notebook, you will:\n",
    "\n",
    "- Be able to define the forward method for vanilla RNNs and GRUs\n",
    "- Be able to define the `scan` function to perform forward propagation for RNNs\n",
    "- Understand how forward propagation is implemented for RNNs."
   ]
  },
  {
   "cell_type": "raw",
   "metadata": {},
   "source": [
    "GRU = Gated recurrent units (GRUs)\n",
    "RNN = Recurrent neural network"
   ]
  },
  {
   "cell_type": "code",
   "execution_count": 1,
   "metadata": {},
   "outputs": [],
   "source": [
    "import numpy as np\n",
    "from numpy import random\n",
    "from time import perf_counter"
   ]
  },
  {
   "cell_type": "markdown",
   "metadata": {},
   "source": [
    "An implementation of the `sigmoid` function is provided below so you can use it in this notebook."
   ]
  },
  {
   "cell_type": "code",
   "execution_count": 2,
   "metadata": {},
   "outputs": [],
   "source": [
    "def sigmoid(x): # Sigmoid function\n",
    "    return 1.0 / (1.0 + np.exp(-x))"
   ]
  },
  {
   "cell_type": "markdown",
   "metadata": {},
   "source": [
    "# Part 1: Forward method for vanilla RNNs and GRUs"
   ]
  },
  {
   "cell_type": "markdown",
   "metadata": {},
   "source": [
    "In this part of the notebook, you'll see the implementation of the forward method for a vanilla RNN and you'll implement that same method for a GRU. For this exercise you'll use a set of random weights and variables with the following dimensions:\n",
    "\n",
    "- Embedding size (`emb`) : 128\n",
    "- Hidden state size (`h_dim`) : 16\n",
    "\n",
    "The weights `w_` and biases `b_` are initialized with dimensions (`h_dim`, `emb + h_dim`) and (`h_dim`, 1). We expect the hidden state `h_t` to be a column vector with size (`h_dim`,1) and the initial hidden state `h_0` is a vector of zeros."
   ]
  },
  {
   "cell_type": "code",
   "execution_count": 3,
   "metadata": {},
   "outputs": [],
   "source": [
    "random.seed(10)                 # Random seed, so your results match ours\n",
    "emb = 128                       # Embedding size\n",
    "T = 256                         # Number of variables in the sequences\n",
    "h_dim = 16                      # Hidden state dimension\n",
    "h_0 = np.zeros((h_dim, 1))      # Initial hidden state\n",
    "\n",
    "# Random initialization of weights and biases\n",
    "w1 = random.standard_normal((h_dim, emb+h_dim))\n",
    "w2 = random.standard_normal((h_dim, emb+h_dim))\n",
    "w3 = random.standard_normal((h_dim, emb+h_dim))\n",
    "\n",
    "b1 = random.standard_normal((h_dim, 1))\n",
    "b2 = random.standard_normal((h_dim, 1))\n",
    "b3 = random.standard_normal((h_dim, 1))\n",
    "\n",
    "X = random.standard_normal((T, emb, 1)) #256 variables x 128 embeddings x 1\n",
    "# we are saying there are 256 possible 'x'\n",
    "# each 'x' has 128 embeddings?\n",
    "weights = [w1, w2, w3, b1, b2, b3]"
   ]
  },
  {
   "cell_type": "code",
   "execution_count": 4,
   "metadata": {
    "scrolled": true
   },
   "outputs": [
    {
     "data": {
      "text/plain": [
       "array([[[ 2.0186611 ],\n",
       "        [-0.71141888],\n",
       "        [-0.04888705],\n",
       "        ...,\n",
       "        [ 1.51199959],\n",
       "        [-0.16336525],\n",
       "        [-0.06818982]],\n",
       "\n",
       "       [[ 0.59829808],\n",
       "        [ 0.37048597],\n",
       "        [-1.39278   ],\n",
       "        ...,\n",
       "        [ 0.11301976],\n",
       "        [ 0.29263645],\n",
       "        [ 0.09997334]],\n",
       "\n",
       "       [[-1.31022331],\n",
       "        [-1.92105019],\n",
       "        [-0.38406296],\n",
       "        ...,\n",
       "        [-1.12427579],\n",
       "        [-0.76278108],\n",
       "        [ 0.53006963]],\n",
       "\n",
       "       ...,\n",
       "\n",
       "       [[-0.39610346],\n",
       "        [ 0.11118108],\n",
       "        [-1.38296943],\n",
       "        ...,\n",
       "        [-1.08713694],\n",
       "        [ 1.22279424],\n",
       "        [ 0.4036795 ]],\n",
       "\n",
       "       [[ 0.09831988],\n",
       "        [-1.13674553],\n",
       "        [-0.0679598 ],\n",
       "        ...,\n",
       "        [ 0.22196322],\n",
       "        [-0.19586905],\n",
       "        [ 0.56989785]],\n",
       "\n",
       "       [[ 0.71317872],\n",
       "        [ 1.2837226 ],\n",
       "        [-0.82857926],\n",
       "        ...,\n",
       "        [-0.31687792],\n",
       "        [ 0.04319141],\n",
       "        [ 0.59744902]]])"
      ]
     },
     "execution_count": 4,
     "metadata": {},
     "output_type": "execute_result"
    }
   ],
   "source": [
    "X"
   ]
  },
  {
   "cell_type": "markdown",
   "metadata": {},
   "source": [
    "## 1.1 Forward method for vanilla RNNs"
   ]
  },
  {
   "cell_type": "markdown",
   "metadata": {},
   "source": [
    "The vanilla RNN cell is quite straight forward. Its most general structure is presented in the next figure: \n",
    "\n",
    "<img src=\"images/RNN.PNG\" width=\"400\"/>\n",
    "\n",
    "As you saw in the lecture videos, the computations made in a vanilla RNN cell are equivalent to the following equations:\n",
    "\n",
    "\\begin{equation}\n",
    "h^{<t>}=g(W_{h}[h^{<t-1>},x^{<t>}] + b_h)\n",
    "\\label{eq: htRNN}\n",
    "\\end{equation}\n",
    "    \n",
    "\\begin{equation}\n",
    "\\hat{y}^{<t>}=g(W_{yh}h^{<t>} + b_y)\n",
    "\\label{eq: ytRNN}\n",
    "\\end{equation}\n",
    "\n",
    "where $[h^{<t-1>},x^{<t>}]$ means that $h^{<t-1>}$ and $x^{<t>}$ are concatenated together. In the next cell we provide the implementation of the forward method for a vanilla RNN. "
   ]
  },
  {
   "cell_type": "code",
   "execution_count": 14,
   "metadata": {},
   "outputs": [],
   "source": [
    "# wh (h_dim 16, h_dim 16 + emb 128 = 134)\n",
    "# h_0 = np.zeros((h_dim 16, 1))\n",
    "# X 256 variables x 128 embeddings x 1 => X[0] or X[1] a slice of 128 X 1\n",
    "\n",
    "def forward_V_RNN(inputs, weights): # Forward propagation for a a single vanilla RNN cell\n",
    "    # inputs come in the form x, h_t\n",
    "    # BUT LATER WE CONCAT IN THE FORM h_t, x\n",
    "    x, h_t = inputs\n",
    "    \n",
    "    # WHAT HAPPENS FOR SUBSEQUENT NODES\n",
    "    # WHEN WE NEED TO RETRIEVE 2ND + 5TH OR 3RD + 6TH ELEMENTS?\n",
    "    # weights.\n",
    "    wh, _, _, bh, _, _ = weights\n",
    "\n",
    "    # new hidden state\n",
    "    # wh 16x134; concat 16+128=134 x 1\n",
    "    # dot pdt 16x1; bh bias 16x1; h_t output 16x1\n",
    "    h_t = np.dot(wh, np.concatenate([h_t, x])) + bh\n",
    "    h_t = sigmoid(h_t)\n",
    "\n",
    "    return h_t, h_t#, p"
   ]
  },
  {
   "cell_type": "markdown",
   "metadata": {},
   "source": [
    "As you can see, we omitted the computation of $\\hat{y}^{<t>}$. This was done for the sake of simplicity, so you can focus on the way that hidden states are updated here and in the GRU cell."
   ]
  },
  {
   "cell_type": "markdown",
   "metadata": {},
   "source": [
    "## 1.2 Forward method for GRUs"
   ]
  },
  {
   "cell_type": "markdown",
   "metadata": {},
   "source": [
    "A GRU cell have more computations than the ones that vanilla RNNs have. You can see this visually in the following diagram:\n",
    "\n",
    "<img src=\"images/GRU.PNG\" width=\"400\"/>\n",
    "\n",
    "As you saw in the lecture videos, GRUs have relevance $\\Gamma_r$ and update $\\Gamma_u$ gates that control how the hidden state $h^{<t>}$ is updated on every time step. With these gates, GRUs are capable of keeping relevant information in the hidden state even for long sequences. The equations needed for the forward method in GRUs are provided below: \n",
    "\n",
    "\\begin{equation}\n",
    "\\Gamma_r=\\sigma{(W_r[h^{<t-1>}, x^{<t>}]+b_r)}\n",
    "\\end{equation}\n",
    "\n",
    "\\begin{equation}\n",
    "\\Gamma_u=\\sigma{(W_u[h^{<t-1>}, x^{<t>}]+b_u)}\n",
    "\\end{equation}\n",
    "\n",
    "\\begin{equation}\n",
    "c^{<t>}=\\tanh{(W_h[\\Gamma_r*h^{<t-1>},x^{<t>}]+b_h)}\n",
    "\\end{equation}\n",
    "\n",
    "\\begin{equation}\n",
    "h^{<t>}=\\Gamma_u*c^{<t>}+(1-\\Gamma_u)*h^{<t-1>}\n",
    "\\end{equation}\n",
    "\n",
    "In the next cell, you will see the implementation of the forward method for a GRU cell by computing the update `u` and relevance `r` gates, and the candidate hidden state `c`. "
   ]
  },
  {
   "cell_type": "raw",
   "metadata": {},
   "source": [
    "So between the 'relevance' and 'update' gates\n",
    "* incoming hidden state + input 'x' are the same\n",
    "* weights and bias terms are different\n",
    "\n",
    "actually the W_h and b_h above seem to be supposed to be:\n",
    "W_c, b_c\n",
    "according to the variables in the code below\n"
   ]
  },
  {
   "cell_type": "code",
   "execution_count": 6,
   "metadata": {},
   "outputs": [],
   "source": [
    "def forward_GRU(inputs, weights): # Forward propagation for a single GRU cell\n",
    "    x, h_t = inputs\n",
    "\n",
    "    # weights.\n",
    "    wu, wr, wc, bu, br, bc = weights\n",
    "\n",
    "    # Update gate\n",
    "    ### START CODE HERE (1-2 lINES) ###\n",
    "    u = np.dot(wu, np.concatenate([h_t, x])) + bu\n",
    "    u = sigmoid(u)\n",
    "    ### END CODE HERE ###\n",
    "    \n",
    "    # Relevance gate\n",
    "    ### START CODE HERE (1-2 lINES) ###\n",
    "    r = np.dot(wr, np.concatenate([h_t, x])) + br\n",
    "    r = sigmoid(r)\n",
    "    ### END CODE HERE ###\n",
    "    \n",
    "    # Candidate hidden state \n",
    "    ### START CODE HERE (1-2 lINES) ###\n",
    "    c = np.dot(wc, np.concatenate([r * h_t, x])) + bc\n",
    "    c = np.tanh(c)\n",
    "    ### END CODE HERE ###\n",
    "    \n",
    "    # New Hidden state h_t\n",
    "    h_t = u* c + (1 - u)* h_t\n",
    "    return h_t, h_t"
   ]
  },
  {
   "cell_type": "markdown",
   "metadata": {},
   "source": [
    "Run the following cell to check your implementation."
   ]
  },
  {
   "cell_type": "code",
   "execution_count": 9,
   "metadata": {},
   "outputs": [],
   "source": [
    "#testing\n",
    "# forward_GRU([X[1],h_0], weights)\n",
    "# (array([[ 9.77779014e-01],\n",
    "#         [-9.97986240e-01],\n",
    "#         [-5.19958083e-01],\n",
    "#         [-9.99999886e-01],\n",
    "#         [-9.99707004e-01],\n",
    "#         [-3.02197037e-04],\n",
    "#         [-9.58733503e-01],\n",
    "#         [ 2.10804828e-02],\n",
    "#         [ 9.77365398e-05],\n",
    "#         [ 9.99833090e-01],\n",
    "#         [ 1.63200940e-08],\n",
    "#         [ 8.51874303e-01],\n",
    "#         [ 5.21399924e-02],\n",
    "#         [ 2.15495959e-02],\n",
    "#         [ 9.99878828e-01],\n",
    "#         [ 9.77165472e-01]]),\n",
    "#  array([[ 9.77779014e-01],\n",
    "#         [-9.97986240e-01],\n",
    "#         [-5.19958083e-01],\n",
    "#         [-9.99999886e-01],\n",
    "#         [-9.99707004e-01],\n",
    "#         [-3.02197037e-04],\n",
    "#         [-9.58733503e-01],\n",
    "#         [ 2.10804828e-02],\n",
    "#         [ 9.77365398e-05],\n",
    "#         [ 9.99833090e-01],\n",
    "#         [ 1.63200940e-08],\n",
    "#         [ 8.51874303e-01],\n",
    "#         [ 5.21399924e-02],\n",
    "#         [ 2.15495959e-02],\n",
    "#         [ 9.99878828e-01],\n",
    "#         [ 9.77165472e-01]]))"
   ]
  },
  {
   "cell_type": "code",
   "execution_count": 7,
   "metadata": {},
   "outputs": [
    {
     "data": {
      "text/plain": [
       "array([[ 9.77779014e-01],\n",
       "       [-9.97986240e-01],\n",
       "       [-5.19958083e-01],\n",
       "       [-9.99999886e-01],\n",
       "       [-9.99707004e-01],\n",
       "       [-3.02197037e-04],\n",
       "       [-9.58733503e-01],\n",
       "       [ 2.10804828e-02],\n",
       "       [ 9.77365398e-05],\n",
       "       [ 9.99833090e-01],\n",
       "       [ 1.63200940e-08],\n",
       "       [ 8.51874303e-01],\n",
       "       [ 5.21399924e-02],\n",
       "       [ 2.15495959e-02],\n",
       "       [ 9.99878828e-01],\n",
       "       [ 9.77165472e-01]])"
      ]
     },
     "execution_count": 7,
     "metadata": {},
     "output_type": "execute_result"
    }
   ],
   "source": [
    "forward_GRU([X[1],h_0], weights)[0]"
   ]
  },
  {
   "cell_type": "markdown",
   "metadata": {},
   "source": [
    "Expected output:\n",
    "<pre>\n",
    "array([[ 9.77779014e-01],\n",
    "       [-9.97986240e-01],\n",
    "       [-5.19958083e-01],\n",
    "       [-9.99999886e-01],\n",
    "       [-9.99707004e-01],\n",
    "       [-3.02197037e-04],\n",
    "       [-9.58733503e-01],\n",
    "       [ 2.10804828e-02],\n",
    "       [ 9.77365398e-05],\n",
    "       [ 9.99833090e-01],\n",
    "       [ 1.63200940e-08],\n",
    "       [ 8.51874303e-01],\n",
    "       [ 5.21399924e-02],\n",
    "       [ 2.15495959e-02],\n",
    "       [ 9.99878828e-01],\n",
    "       [ 9.77165472e-01]])\n",
    "</pre>"
   ]
  },
  {
   "cell_type": "markdown",
   "metadata": {},
   "source": [
    "# Part 2: Implementation of the `scan` function"
   ]
  },
  {
   "cell_type": "markdown",
   "metadata": {},
   "source": [
    "In the lectures you saw how the `scan` function is used for forward propagation in RNNs. It takes as inputs:\n",
    "\n",
    "- `fn` : the function to be called recurrently (i.e. `forward_GRU`)\n",
    "- `elems` : the list of inputs for each time step (`X`)\n",
    "- `weights` : the parameters needed to compute `fn`\n",
    "- `h_0` : the initial hidden state\n",
    "\n",
    "`scan` \n",
    "* goes through all the elements `x` in `elems`, \n",
    "* calls the function `fn` with arguments ([`x`, `h_t`],`weights`), \n",
    "* stores the computed hidden state `h_t` and \n",
    "* appends the result to a list `ys`.\n",
    "\n",
    "Complete the following cell by calling `fn` with arguments ([`x`, `h_t`],`weights`)."
   ]
  },
  {
   "cell_type": "code",
   "execution_count": 10,
   "metadata": {},
   "outputs": [],
   "source": [
    "def scan(fn, elems, weights, h_0=None): # Forward propagation for RNNs\n",
    "    h_t = h_0\n",
    "    ys = []\n",
    "    for x in elems:\n",
    "        ### START CODE HERE (1 lINE) ###\n",
    "        y, h_t = fn([x, h_t], weights)\n",
    "        ### END CODE HERE ###\n",
    "        ys.append(y)\n",
    "    \n",
    "    # h_t just keeps getting updated, so we return h_t only at the end?\n",
    "    return ys, h_t"
   ]
  },
  {
   "cell_type": "markdown",
   "metadata": {},
   "source": [
    "# Part 3: Comparison between vanilla RNNs and GRUs"
   ]
  },
  {
   "cell_type": "markdown",
   "metadata": {},
   "source": [
    "You have already seen how forward propagation is computed for vanilla RNNs and GRUs. As a quick recap, you need to have a forward method for the recurrent cell and a function like `scan` to go through all the elements from a sequence using a forward method. You saw that GRUs performed more computations than vanilla RNNs, and you can check that they have 3 times more parameters. In the next two cells, we compute forward propagation for a sequence with 256 time steps (`T`) for an RNN and a GRU with the same hidden state `h_t` size (`h_dim`=16).  "
   ]
  },
  {
   "cell_type": "code",
   "execution_count": 15,
   "metadata": {},
   "outputs": [
    {
     "name": "stdout",
     "output_type": "stream",
     "text": [
      "It took 3.93ms to run the forward method for the vanilla RNN.\n"
     ]
    }
   ],
   "source": [
    "# vanilla RNNs\n",
    "tic = perf_counter()\n",
    "ys, h_T = scan(forward_V_RNN, X, weights, h_0)\n",
    "toc = perf_counter()\n",
    "RNN_time=(toc-tic)*1000\n",
    "print (f\"It took {RNN_time:.2f}ms to run the forward method for the vanilla RNN.\")"
   ]
  },
  {
   "cell_type": "code",
   "execution_count": 16,
   "metadata": {},
   "outputs": [
    {
     "name": "stdout",
     "output_type": "stream",
     "text": [
      "It took 13.05ms to run the forward method for the GRU.\n"
     ]
    }
   ],
   "source": [
    "# GRUs\n",
    "tic = perf_counter()\n",
    "ys, h_T = scan(forward_GRU, X, weights, h_0)\n",
    "toc = perf_counter()\n",
    "GRU_time=(toc-tic)*1000\n",
    "print (f\"It took {GRU_time:.2f}ms to run the forward method for the GRU.\")"
   ]
  },
  {
   "cell_type": "markdown",
   "metadata": {},
   "source": [
    "As you were told in the lectures, GRUs take more time to compute (However, sometimes, although a rare occurrence, Vanilla RNNs take more time. Can you figure out what might cause this ?). This means that training and prediction would take more time for a GRU than for a vanilla RNN. However, GRUs allow you to propagate relevant information even for long sequences, so when selecting an architecture for NLP you should assess the tradeoff between computational time and performance. "
   ]
  },
  {
   "cell_type": "markdown",
   "metadata": {},
   "source": [
    "<b>Congratulations!</b> Now you know how the forward method is implemented for vanilla RNNs and GRUs, and you know how the scan function provides an abstraction for forward propagation in RNNs. "
   ]
  }
 ],
 "metadata": {
  "kernelspec": {
   "display_name": "Python 3",
   "language": "python",
   "name": "python3"
  },
  "language_info": {
   "codemirror_mode": {
    "name": "ipython",
    "version": 3
   },
   "file_extension": ".py",
   "mimetype": "text/x-python",
   "name": "python",
   "nbconvert_exporter": "python",
   "pygments_lexer": "ipython3",
   "version": "3.7.6"
  }
 },
 "nbformat": 4,
 "nbformat_minor": 4
}
