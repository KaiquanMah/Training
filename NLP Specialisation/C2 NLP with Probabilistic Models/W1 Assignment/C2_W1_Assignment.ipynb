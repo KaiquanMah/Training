{
 "cells": [
  {
   "cell_type": "markdown",
   "metadata": {},
   "source": [
    "# Assignment 1: Autocorrect\n",
    "\n",
    "Welcome to the first assignment of Course 2. This assignment will give you a chance to brush up on your python and probability skills. In doing so, you will implement an auto-correct system that is very effective and useful."
   ]
  },
  {
   "cell_type": "markdown",
   "metadata": {},
   "source": [
    "## Outline\n",
    "- [0. Overview](#0)\n",
    "    - [0.1 Edit Distance](#0-1)\n",
    "- [1. Data Preprocessing](#1)\n",
    "    - [1.1 Exercise 1](#ex-1)\n",
    "    - [1.2 Exercise 2](#ex-2)\n",
    "    - [1.3 Exercise 3](#ex-3)\n",
    "- [2. String Manipulation](#2)\n",
    "    - [2.1 Exercise 4](#ex-4)\n",
    "    - [2.2 Exercise 5](#ex-5)\n",
    "    - [2.3 Exercise 6](#ex-6)\n",
    "    - [2.4 Exercise 7](#ex-7)\n",
    "- [3. Combining the edits](#3)\n",
    "    - [3.1 Exercise 8](#ex-8)\n",
    "    - [3.2 Exercise 9](#ex-9)\n",
    "    - [3.3 Exercise 10](#ex-10)\n",
    "- [4. Minimum Edit Distance](#4)\n",
    "    - [4.1 Exercise 11](#ex-11)\n",
    "- [5. Backtrace (Optional)](#5)"
   ]
  },
  {
   "cell_type": "markdown",
   "metadata": {},
   "source": [
    "<a name='0'></a>\n",
    "## 0. Overview\n",
    "\n",
    "You use autocorrect every day on your cell phone and computer. In this assignment, you will explore what really goes on behind the scenes. Of course, the model you are about to implement is not identical to the one used in your phone, but it is still quite good. \n",
    "\n",
    "By completing this assignment you will learn how to: \n",
    "\n",
    "- Get a word count given a corpus\n",
    "- Get a word probability in the corpus \n",
    "- Manipulate strings \n",
    "- Filter strings \n",
    "- Implement Minimum edit distance to compare strings and to help find the optimal path for the edits. \n",
    "- Understand how dynamic programming works\n",
    "\n",
    "\n",
    "Similar systems are used everywhere. \n",
    "- For example, if you type in the word **\"I am lerningg\"**, chances are very high that you meant to write **\"learning\"**, as shown in **Figure 1**. "
   ]
  },
  {
   "cell_type": "markdown",
   "metadata": {},
   "source": [
    "<div style=\"width:image width px; font-size:100%; text-align:center;\"><img src='images/auto-correct.png' alt=\"alternate text\" width=\"width\" height=\"height\" style=\"width:300px;height:250px;\" /> Figure 1 </div>"
   ]
  },
  {
   "cell_type": "markdown",
   "metadata": {},
   "source": [
    "<a name='0-1'></a>\n",
    "#### 0.1 Edit Distance\n",
    "\n",
    "In this assignment, you will implement models that correct words that are 1 and 2 edit distances away. \n",
    "- We say two words are n edit distance away from each other when we need n edits to change one word into another. \n",
    "\n",
    "An edit could consist of one of the following options: \n",
    "\n",
    "- Delete (remove a letter): ‘hat’ => ‘at, ha, ht’\n",
    "- Switch (swap 2 adjacent letters): ‘eta’ => ‘eat, tea,...’\n",
    "- Replace (change 1 letter to another): ‘jat’ => ‘hat, rat, cat, mat, ...’\n",
    "- Insert (add a letter): ‘te’ => ‘the, ten, ate, ...’\n",
    "\n",
    "You will be using the four methods above to implement an Auto-correct. \n",
    "- To do so, you will need to compute probabilities that a certain word is correct given an input. \n",
    "\n",
    "This auto-correct you are about to implement was first created by [Peter Norvig](https://en.wikipedia.org/wiki/Peter_Norvig) in 2007. \n",
    "- His [original article](https://norvig.com/spell-correct.html) may be a useful reference for this assignment.\n",
    "\n",
    "The goal of our spell check model is to compute the following probability:\n",
    "\n",
    "$$P(c|w) = \\frac{P(w|c)\\times P(c)}{P(w)} \\tag{Eqn-1}$$\n",
    "\n",
    "The equation above is [Bayes Rule](https://en.wikipedia.org/wiki/Bayes%27_theorem). \n",
    "- Equation 1 says that the probability of a word being correct $P(c|w) $ is equal to \n",
    " * the probability of having a certain word $w$, given that it is correct $P(w|c)$, \n",
    " * multiplied by the probability of being correct in general $P(C)$ \n",
    " * divided by the probability of that word $w$ appearing $P(w)$ in general.\n",
    "\n",
    "- To compute equation 1, you will first import a data set and then create all the probabilities that you need using that data set. "
   ]
  },
  {
   "cell_type": "markdown",
   "metadata": {},
   "source": [
    "<a name='1'></a>\n",
    "# Part 1: Data Preprocessing "
   ]
  },
  {
   "cell_type": "code",
   "execution_count": 1,
   "metadata": {},
   "outputs": [],
   "source": [
    "import re\n",
    "from collections import Counter\n",
    "import numpy as np\n",
    "import pandas as pd\n",
    "\n",
    "import w1_unittest"
   ]
  },
  {
   "cell_type": "markdown",
   "metadata": {},
   "source": [
    "As in any other machine learning task, the first thing you have to do is process your data set. \n",
    "- Many courses load in pre-processed data for you. \n",
    "- However, in the real world, when you build these NLP systems, you load the datasets and process them.\n",
    "- So let's get some real world practice in pre-processing the data!\n",
    "\n",
    "Your first task is to read in a file called **'shakespeare.txt'** which is found in your file directory. To look at this file you can go to `File ==> Open `. "
   ]
  },
  {
   "cell_type": "markdown",
   "metadata": {},
   "source": [
    "<a name='ex-1'></a>\n",
    "### Exercise 1\n",
    "Implement the function `process_data` which \n",
    "\n",
    "1) Reads in a corpus (text file)\n",
    "\n",
    "2) Changes everything to lowercase\n",
    "\n",
    "3) Returns a list of words. "
   ]
  },
  {
   "cell_type": "markdown",
   "metadata": {},
   "source": [
    "#### Options and Hints\n",
    "- If you would like more of a real-life practice, don't open the 'Hints' below (yet) and try searching the web to derive your answer.\n",
    "- If you want a little help, click on the green \"General Hints\" section by clicking on it with your mouse.\n",
    "- If you get stuck or are not getting the expected results, click on the green 'Detailed Hints' section to get hints for each step that you'll take to complete this function."
   ]
  },
  {
   "cell_type": "markdown",
   "metadata": {},
   "source": [
    "<details>    \n",
    "<summary>\n",
    "    <font size=\"3\" color=\"darkgreen\"><b>General Hints</b></font>\n",
    "</summary>\n",
    "<p>\n",
    "    \n",
    "General Hints to get started\n",
    "<ul>\n",
    "    <li>Python <a href=\"https://docs.python.org/3/tutorial/inputoutput.html\">input and output<a></li>\n",
    "    <li>Python <a href=\"https://docs.python.org/3/library/re.html\" >'re' documentation </a> </li>\n",
    "</ul>\n",
    "</p>\n"
   ]
  },
  {
   "cell_type": "markdown",
   "metadata": {},
   "source": [
    "<details>    \n",
    "<summary>\n",
    "    <font size=\"3\" color=\"darkgreen\"><b>Detailed Hints</b></font>\n",
    "</summary>\n",
    "<p>     \n",
    "Detailed hints if you're stuck\n",
    "<ul>\n",
    "    <li>Use 'with' syntax to read a file</li>\n",
    "    <li>Decide whether to use 'read()' or 'readline().  What's the difference?</li>\n",
    "    <li>You can use str.lower() to convert to lowercase.</li>\n",
    "    <li>Use re.findall(pattern, string)</li>\n",
    "    <li>Look for the \"Raw String Notation\" section in the Python 're' documentation to understand the difference between r'\\W', r'\\W' and '\\\\W'. </li>\n",
    "    <li>For the pattern, decide between using '\\s', '\\w', '\\s+' or '\\w+'.  What do you think are the differences?</li>\n",
    "</ul>\n",
    "</p>\n"
   ]
  },
  {
   "cell_type": "code",
   "execution_count": 3,
   "metadata": {},
   "outputs": [
    {
     "name": "stdout",
     "output_type": "stream",
     "text": [
      "/home/jovyan/work\n"
     ]
    }
   ],
   "source": [
    "import os\n",
    "print(os.getcwd())"
   ]
  },
  {
   "cell_type": "code",
   "execution_count": 5,
   "metadata": {},
   "outputs": [
    {
     "data": {
      "text/plain": [
       "['C2_W1_Assignment.ipynb',\n",
       " 'data',\n",
       " '.ipynb_checkpoints',\n",
       " 'images',\n",
       " 'w1_unittest.py',\n",
       " '__pycache__']"
      ]
     },
     "execution_count": 5,
     "metadata": {},
     "output_type": "execute_result"
    }
   ],
   "source": [
    "# https://www.freecodecamp.org/news/python-list-files-in-a-directory-guide-listdir-vs-system-ls-explained-with-examples/\n",
    "os.listdir()"
   ]
  },
  {
   "cell_type": "code",
   "execution_count": 8,
   "metadata": {},
   "outputs": [
    {
     "data": {
      "text/plain": [
       "'/home/jovyan/work/data/shakespeare.txt'"
      ]
     },
     "execution_count": 8,
     "metadata": {},
     "output_type": "execute_result"
    }
   ],
   "source": [
    "file_path = os.getcwd()\n",
    "file_path += '/data'\n",
    "os.listdir(file_path) # ['shakespeare.txt']\n",
    "file_path += '/shakespeare.txt'\n",
    "file_path"
   ]
  },
  {
   "cell_type": "code",
   "execution_count": 2,
   "metadata": {},
   "outputs": [],
   "source": [
    "# UNQ_C1 GRADED FUNCTION: process_data\n",
    "def process_data(file_name):\n",
    "    \"\"\"\n",
    "    Input: \n",
    "        A file_name which is found in your current directory. You just have to read it in. \n",
    "    Output: \n",
    "        words: a list containing all the words in the corpus (text file you read) in lower case. \n",
    "    \"\"\"\n",
    "    words = [] # return this variable correctly\n",
    "\n",
    "    ### START CODE HERE ### \n",
    "    \n",
    "    #Open the file, read its contents into a string variable\n",
    "    # input file_name = './data/shakespeare.txt'\n",
    "    file = open(file_name, \"r\")\n",
    "    file = file.read().replace(\"\\n\", \" \")\n",
    "    \n",
    "    # convert all letters to lower case\n",
    "    file = file.lower()\n",
    "    \n",
    "    #Convert every word to lower case and return them in a list.\n",
    "    # words = file.split() # if we do a str split, we could have items other than words\n",
    "    # words = list(set(words))\n",
    "    words = re.findall('\\w+', file)\n",
    "    \n",
    "    ### END CODE HERE ###\n",
    "    \n",
    "    return words"
   ]
  },
  {
   "cell_type": "markdown",
   "metadata": {},
   "source": [
    "Note, in the following cell, 'words' is converted to a python `set`. This eliminates any duplicate entries."
   ]
  },
  {
   "cell_type": "code",
   "execution_count": 3,
   "metadata": {},
   "outputs": [
    {
     "name": "stdout",
     "output_type": "stream",
     "text": [
      "The first ten words in the text are: \n",
      "['o', 'for', 'a', 'muse', 'of', 'fire', 'that', 'would', 'ascend', 'the']\n",
      "There are 6116 unique words in the vocabulary.\n"
     ]
    }
   ],
   "source": [
    "#DO NOT MODIFY THIS CELL\n",
    "word_l = process_data('./data/shakespeare.txt')\n",
    "vocab = set(word_l)  # this will be your new vocabulary\n",
    "print(f\"The first ten words in the text are: \\n{word_l[0:10]}\")\n",
    "print(f\"There are {len(vocab)} unique words in the vocabulary.\")"
   ]
  },
  {
   "cell_type": "markdown",
   "metadata": {},
   "source": [
    "#### Expected Output\n",
    "```Python\n",
    "The first ten words in the text are: \n",
    "['o', 'for', 'a', 'muse', 'of', 'fire', 'that', 'would', 'ascend', 'the']\n",
    "There are 6116 unique words in the vocabulary.\n",
    "```"
   ]
  },
  {
   "cell_type": "code",
   "execution_count": 4,
   "metadata": {},
   "outputs": [
    {
     "name": "stdout",
     "output_type": "stream",
     "text": [
      "\u001b[92m All tests passed\n"
     ]
    }
   ],
   "source": [
    "# Test your function\n",
    "w1_unittest.test_process_data(process_data)"
   ]
  },
  {
   "cell_type": "markdown",
   "metadata": {},
   "source": [
    "<a name='ex-2'></a>\n",
    "### Exercise 2\n",
    "\n",
    "Implement a `get_count` function that returns a dictionary\n",
    "- The dictionary's keys are words\n",
    "- The value for each word is the number of times that word appears in the corpus. \n",
    "\n",
    "For example, given the following sentence: **\"I am happy because I am learning\"**, your dictionary should return the following: \n",
    "<table style=\"width:20%\">\n",
    "\n",
    "  <tr>\n",
    "    <td> <b>Key </b>  </td>\n",
    "    <td> <b>Value </b> </td> \n",
    "\n",
    "\n",
    "  </tr>\n",
    "  <tr>\n",
    "    <td> I  </td>\n",
    "    <td> 2</td> \n",
    " \n",
    "  </tr>\n",
    "   \n",
    "  <tr>\n",
    "    <td>am</td>\n",
    "    <td>2</td> \n",
    "  </tr>\n",
    "\n",
    "  <tr>\n",
    "    <td>happy</td>\n",
    "    <td>1</td> \n",
    "  </tr>\n",
    "  \n",
    "   <tr>\n",
    "    <td>because</td>\n",
    "    <td>1</td> \n",
    "  </tr>\n",
    "  \n",
    "   <tr>\n",
    "    <td>learning</td>\n",
    "    <td>1</td> \n",
    "  </tr>\n",
    "</table>\n",
    "\n",
    "\n",
    "**Instructions**: \n",
    "Implement a `get_count` which returns a dictionary where the key is a word and the value is the number of times the word appears in the list.  \n"
   ]
  },
  {
   "cell_type": "markdown",
   "metadata": {},
   "source": [
    "<details>    \n",
    "<summary>\n",
    "    <font size=\"3\" color=\"darkgreen\"><b>Hints</b></font>\n",
    "</summary>\n",
    "<p>\n",
    "<ul>\n",
    "    <li>Try implementing this using a for loop and a regular dictionary. This may be good practice for similar coding interview questions</li>\n",
    "    <li>You can also use defaultdict instead of a regular dictionary, along with the for loop</li>\n",
    "    <li>Otherwise, to skip using a `for` loop, you can use Python's <a href=\"https://docs.python.org/3.7/library/collections.html#collections.Counter\" > Counter class</a> </li>\n",
    "</ul>\n",
    "</p>"
   ]
  },
  {
   "cell_type": "code",
   "execution_count": 5,
   "metadata": {},
   "outputs": [],
   "source": [
    "# UNIT TEST COMMENT: Candidate for Table Driven Tests\n",
    "# UNQ_C2 GRADED FUNCTION: get_count\n",
    "def get_count(word_l):\n",
    "    '''\n",
    "    Input:\n",
    "        word_l: a set of words representing the corpus. \n",
    "    Output:\n",
    "        word_count_dict: The wordcount dictionary where key is the word and value is its frequency.\n",
    "    '''\n",
    "    \n",
    "    word_count_dict = {}  # fill this with word counts\n",
    "    ### START CODE HERE \n",
    "    for word in word_l:\n",
    "        word_count_dict[word] = word_count_dict.get(word, 0) + 1\n",
    "            \n",
    "    ### END CODE HERE ### \n",
    "    return word_count_dict"
   ]
  },
  {
   "cell_type": "code",
   "execution_count": 6,
   "metadata": {},
   "outputs": [
    {
     "name": "stdout",
     "output_type": "stream",
     "text": [
      "There are 6116 key values pairs\n",
      "The count for the word 'thee' is 240\n"
     ]
    }
   ],
   "source": [
    "#DO NOT MODIFY THIS CELL\n",
    "word_count_dict = get_count(word_l)\n",
    "print(f\"There are {len(word_count_dict)} key values pairs\")\n",
    "print(f\"The count for the word 'thee' is {word_count_dict.get('thee',0)}\")"
   ]
  },
  {
   "cell_type": "markdown",
   "metadata": {},
   "source": [
    "\n",
    "#### Expected Output\n",
    "```Python\n",
    "There are 6116 key values pairs\n",
    "The count for the word 'thee' is 240\n",
    "```"
   ]
  },
  {
   "cell_type": "code",
   "execution_count": 7,
   "metadata": {},
   "outputs": [
    {
     "name": "stdout",
     "output_type": "stream",
     "text": [
      "\u001b[92m All tests passed\n"
     ]
    }
   ],
   "source": [
    "# Test your function\n",
    "w1_unittest.test_get_count(get_count, word_l)"
   ]
  },
  {
   "cell_type": "markdown",
   "metadata": {},
   "source": [
    "<a name='ex-3'></a>\n",
    "### Exercise 3\n",
    "Given the dictionary of word counts, compute the probability that each word will appear if randomly selected from the corpus of words.\n",
    "\n",
    "$$P(w_i) = \\frac{C(w_i)}{M} \\tag{Eqn-2}$$\n",
    "where \n",
    "\n",
    "$C(w_i)$ is the **total number of times $w_i$ appears in the corpus.**\n",
    "\n",
    "$M$ is the **total number of words in the corpus.**\n",
    "\n",
    "For example, the probability of the word 'am' in the sentence **'I am happy because I am learning'** is:\n",
    "\n",
    "$$P(am) = \\frac{C(w_i)}{M} = \\frac {2}{7} \\tag{Eqn-3}.$$\n",
    "\n",
    "**Instructions:** Implement `get_probs` function which gives you the probability \n",
    "that a word occurs in a sample. This returns a dictionary where the keys are words, and the value for each word is its probability in the corpus of words."
   ]
  },
  {
   "cell_type": "markdown",
   "metadata": {},
   "source": [
    "<details>    \n",
    "<summary>\n",
    "    <font size=\"3\" color=\"darkgreen\"><b>Hints</b></font>\n",
    "</summary>\n",
    "<p>\n",
    "General advice\n",
    "<ul>\n",
    "    <li> Use dictionary.values() </li>\n",
    "    <li> Use sum() </li>\n",
    "    <li> The cardinality (number of words in the corpus should be equal to len(word_l).  You will calculate this same number, but using the word count dictionary.</li>\n",
    "</ul>\n",
    "    \n",
    "If you're using a for loop:\n",
    "<ul>\n",
    "    <li> Use dictionary.keys() </li>\n",
    "</ul>\n",
    "    \n",
    "If you're using a dictionary comprehension:\n",
    "<ul>\n",
    "    <li>Use dictionary.items() </li>\n",
    "</ul>\n",
    "</p>\n"
   ]
  },
  {
   "cell_type": "code",
   "execution_count": 34,
   "metadata": {},
   "outputs": [
    {
     "data": {
      "text/plain": [
       "53614"
      ]
     },
     "execution_count": 34,
     "metadata": {},
     "output_type": "execute_result"
    }
   ],
   "source": [
    "sum(word_count_dict.values())"
   ]
  },
  {
   "cell_type": "code",
   "execution_count": 30,
   "metadata": {
    "scrolled": true
   },
   "outputs": [
    {
     "data": {
      "text/plain": [
       "dict_items([('o', 157), ('for', 474), ('a', 757), ('muse', 18), ('of', 1094), ('fire', 22), ('that', 785), ('would', 138), ('ascend', 1), ('the', 1525), ('brightest', 2), ('heaven', 48), ('invention', 9), ('kingdom', 6), ('stage', 3), ('princes', 4), ('to', 1196), ('act', 35), ('and', 1395), ('monarchs', 2), ('behold', 13), ('swelling', 1), ('scene', 34), ('then', 132), ('should', 102), ('warlike', 4), ('harry', 1), ('like', 101), ('himself', 23), ('assume', 1), ('port', 3), ('mars', 12), ('at', 131), ('his', 434), ('heels', 3), ('leash', 1), ('d', 321), ('in', 787), ('hounds', 2), ('famine', 3), ('sword', 17), ('crouch', 1), ('employment', 2), ('but', 420), ('pardon', 20), ('gentles', 1), ('all', 258), ('flat', 1), ('unraised', 1), ('spirits', 7), ('have', 329), ('dared', 1), ('on', 178), ('this', 355), ('unworthy', 5), ('scaffold', 1), ('bring', 32), ('forth', 25), ('so', 352), ('great', 89), ('an', 95), ('object', 3), ('can', 103), ('cockpit', 1), ('hold', 28), ('vasty', 1), ('fields', 3), ('france', 50), ('or', 196), ('may', 108), ('we', 189), ('cram', 1), ('within', 23), ('wooden', 1), ('very', 49), ('casques', 1), ('did', 110), ('affright', 1), ('air', 9), ('agincourt', 1), ('since', 46), ('crooked', 4), ('figure', 3), ('attest', 1), ('little', 18), ('place', 24), ('million', 2), ('let', 112), ('us', 78), ('ciphers', 1), ('accompt', 1), ('your', 397), ('imaginary', 3), ('forces', 3), ('work', 14), ('suppose', 4), ('girdle', 1), ('these', 50), ('walls', 3), ('are', 217), ('now', 128), ('confined', 4), ('two', 36), ('mighty', 8), ('monarchies', 1), ('whose', 60), ('high', 20), ('upreared', 1), ('abutting', 1), ('fronts', 1), ('perilous', 1), ('narrow', 3), ('ocean', 4), ('parts', 13), ('asunder', 1), ('piece', 3), ('out', 67), ('our', 196), ('imperfections', 1), ('with', 445), ('thoughts', 33), ('into', 41), ('thousand', 17), ('divide', 4), ('man', 71), ('make', 117), ('puissance', 1), ('think', 70), ('when', 197), ('talk', 8), ('horses', 6), ('you', 749), ('see', 83), ('them', 88), ('printing', 1), ('their', 124), ('proud', 20), ('hoofs', 1), ('i', 1267), ('receiving', 2), ('earth', 20), ('tis', 85), ('must', 94), ('deck', 1), ('kings', 8), ('carry', 7), ('here', 82), ('there', 112), ('jumping', 1), ('er', 48), ('times', 16), ('turning', 1), ('accomplishment', 1), ('many', 45), ('years', 5), ('hour', 19), ('glass', 9), ('which', 248), ('supply', 1), ('admit', 3), ('me', 417), ('chorus', 1), ('history', 3), ('who', 71), ('prologue', 1), ('humble', 9), ('patience', 7), ('pray', 33), ('gently', 3), ('hear', 51), ('kindly', 3), ('judge', 1), ('play', 15), ('exit', 34), ('london', 1), ('ante', 1), ('chamber', 4), ('king', 172), ('s', 518), ('palace', 19), ('enter', 78), ('archbishop', 2), ('canterbury', 21), ('bishop', 2), ('ely', 14), ('my', 858), ('lord', 227), ('ll', 89), ('tell', 49), ('self', 81), ('bill', 3), ('is', 557), ('urged', 2), ('eleventh', 1), ('year', 13), ('last', 13), ('reign', 3), ('was', 159), ('had', 87), ('indeed', 30), ('against', 46), ('pass', 12), ('scambling', 1), ('unquiet', 1), ('time', 122), ('push', 1), ('it', 460), ('farther', 7), ('question', 11), ('how', 104), ('shall', 218), ('resist', 1), ('be', 399), ('thought', 35), ('if', 199), ('lose', 29), ('better', 43), ('half', 11), ('possession', 4), ('temporal', 1), ('lands', 1), ('men', 47), ('devout', 1), ('by', 246), ('testament', 2), ('given', 13), ('church', 2), ('they', 147), ('strip', 1), ('from', 194), ('being', 52), ('valued', 2), ('thus', 39), ('as', 316), ('much', 56), ('maintain', 2), ('honour', 59), ('full', 34), ('fifteen', 3), ('earls', 1), ('hundred', 11), ('knights', 2), ('six', 7), ('good', 128), ('esquires', 1), ('relief', 2), ('lazars', 1), ('weak', 8), ('age', 23), ('indigent', 1), ('faint', 2), ('souls', 3), ('past', 26), ('corporal', 2), ('toil', 5), ('almshouses', 1), ('right', 23), ('well', 137), ('supplied', 1), ('coffers', 1), ('beside', 4), ('pounds', 1), ('runs', 4), ('drink', 8), ('deep', 9), ('twould', 4), ('cup', 2), ('what', 242), ('prevention', 1), ('grace', 35), ('fair', 64), ('regard', 2), ('true', 61), ('lover', 4), ('holy', 15), ('courses', 3), ('youth', 30), ('promised', 1), ('not', 510), ('breath', 11), ('no', 222), ('sooner', 4), ('left', 11), ('father', 30), ('body', 17), ('wildness', 2), ('mortified', 1), ('him', 277), ('seem', 28), ('die', 30), ('too', 68), ('yea', 5), ('moment', 3), ('consideration', 1), ('angel', 7), ('came', 11), ('whipp', 2), ('offending', 1), ('adam', 1), ('leaving', 1), ('paradise', 2), ('envelop', 1), ('contain', 3), ('celestial', 2), ('never', 61), ('such', 98), ('sudden', 3), ('scholar', 1), ('made', 51), ('reformation', 1), ('flood', 1), ('heady', 1), ('currance', 1), ('scouring', 1), ('faults', 16), ('nor', 76), ('hydra', 1), ('headed', 1), ('wilfulness', 2), ('soon', 10), ('seat', 6), ('once', 23), ('blessed', 11), ('change', 18), ('reason', 10), ('divinity', 1), ('admiring', 2), ('inward', 5), ('wish', 20), ('desire', 16), ('were', 93), ('prelate', 1), ('debate', 4), ('commonwealth', 2), ('affairs', 5), ('say', 106), ('hath', 115), ('been', 31), ('study', 2), ('list', 3), ('discourse', 2), ('war', 27), ('fearful', 3), ('battle', 2), ('render', 6), ('music', 6), ('turn', 13), ('any', 47), ('cause', 16), ('policy', 6), ('gordian', 1), ('knot', 4), ('he', 354), ('will', 244), ('unloose', 1), ('familiar', 3), ('garter', 2), ('speaks', 5), ('charter', 4), ('libertine', 2), ('still', 55), ('mute', 5), ('wonder', 9), ('lurketh', 1), ('ears', 8), ('steal', 15), ('sweet', 73), ('honey', 5), ('sentences', 1), ('art', 74), ('practic', 1), ('part', 35), ('life', 58), ('mistress', 22), ('theoric', 2), ('glean', 1), ('addiction', 1), ('vain', 4), ('companies', 1), ('unletter', 1), ('rude', 6), ('shallow', 3), ('hours', 17), ('fill', 9), ('up', 49), ('riots', 1), ('banquets', 1), ('sports', 1), ('noted', 3), ('retirement', 1), ('sequestration', 1), ('open', 5), ('haunts', 1), ('popularity', 1), ('strawberry', 1), ('grows', 5), ('underneath', 1), ('nettle', 1), ('wholesome', 1), ('berries', 1), ('thrive', 7), ('ripen', 1), ('best', 37), ('neighbour', 5), ('fruit', 2), ('baser', 2), ('quality', 5), ('prince', 9), ('obscured', 1), ('contemplation', 1), ('under', 23), ('veil', 2), ('doubt', 4), ('grew', 6), ('summer', 20), ('grass', 2), ('fastest', 1), ('night', 51), ('unseen', 5), ('yet', 116), ('crescive', 1), ('faculty', 2), ('miracles', 3), ('ceased', 1), ('therefore', 47), ('needs', 12), ('means', 12), ('things', 35), ('perfected', 1), ('mitigation', 1), ('commons', 1), ('doth', 98), ('majesty', 24), ('incline', 1), ('seems', 7), ('indifferent', 1), ('rather', 23), ('swaying', 1), ('more', 162), ('upon', 108), ('than', 115), ('cherishing', 1), ('exhibiters', 1), ('offer', 4), ('spiritual', 1), ('convocation', 1), ('causes', 1), ('hand', 46), ('large', 7), ('touching', 1), ('give', 86), ('greater', 10), ('sum', 5), ('ever', 45), ('one', 109), ('clergy', 2), ('predecessors', 1), ('withal', 7), ('received', 2), ('acceptance', 2), ('save', 21), ('enough', 17), ('perceived', 2), ('fain', 4), ('done', 31), ('severals', 1), ('unhidden', 1), ('passages', 1), ('titles', 4), ('some', 69), ('certain', 9), ('dukedoms', 5), ('generally', 3), ('crown', 10), ('derived', 3), ('edward', 4), ('grandfather', 2), ('impediment', 2), ('broke', 4), ('off', 26), ('french', 23), ('ambassador', 4), ('instant', 6), ('craved', 1), ('audience', 3), ('come', 76), ('hearing', 4), ('four', 10), ('clock', 5), ('go', 55), ('know', 130), ('embassy', 3), ('could', 39), ('ready', 1), ('guess', 6), ('declare', 1), ('before', 49), ('frenchman', 4), ('speak', 70), ('word', 21), ('wait', 5), ('long', 32), ('exeunt', 39), ('ii', 9), ('same', 13), ('presence', 7), ('henry', 13), ('v', 17), ('gloucester', 1), ('bedford', 1), ('exeter', 4), ('warwick', 1), ('westmoreland', 4), ('attendants', 11), ('where', 94), ('gracious', 15), ('send', 19), ('uncle', 4), ('call', 29), ('liege', 12), ('cousin', 4), ('resolved', 2), ('weight', 6), ('task', 3), ('concerning', 1), ('god', 34), ('angels', 2), ('guard', 4), ('sacred', 4), ('throne', 8), ('become', 8), ('sure', 15), ('thank', 18), ('learned', 6), ('proceed', 4), ('justly', 2), ('religiously', 1), ('unfold', 2), ('why', 57), ('law', 12), ('salique', 9), ('bar', 5), ('claim', 9), ('forbid', 7), ('dear', 45), ('faithful', 1), ('fashion', 5), ('wrest', 1), ('bow', 5), ('reading', 5), ('nicely', 1), ('charge', 15), ('understanding', 1), ('soul', 17), ('opening', 2), ('miscreate', 1), ('suits', 1), ('native', 4), ('colours', 2), ('truth', 49), ('health', 9), ('drop', 3), ('blood', 32), ('approbation', 1), ('reverence', 1), ('incite', 1), ('take', 60), ('heed', 6), ('impawn', 1), ('person', 2), ('awake', 3), ('sleeping', 2), ('name', 45), ('kingdoms', 5), ('contend', 4), ('without', 27), ('fall', 16), ('guiltless', 1), ('drops', 2), ('every', 51), ('woe', 13), ('sore', 2), ('complaint', 2), ('gainst', 11), ('wrong', 15), ('gives', 14), ('edge', 7), ('unto', 11), ('swords', 4), ('waste', 7), ('brief', 7), ('mortality', 3), ('conjuration', 1), ('note', 13), ('believe', 19), ('heart', 85), ('conscience', 6), ('wash', 2), ('pure', 6), ('sin', 14), ('baptism', 1), ('sovereign', 14), ('peers', 1), ('owe', 5), ('yourselves', 3), ('lives', 12), ('services', 3), ('imperial', 2), ('highness', 12), ('produce', 4), ('pharamond', 3), ('terram', 1), ('salicam', 1), ('mulieres', 1), ('ne', 17), ('succedant', 1), ('woman', 22), ('succeed', 2), ('land', 10), ('unjustly', 2), ('gloze', 1), ('realm', 2), ('founder', 2), ('female', 5), ('own', 73), ('authors', 1), ('faithfully', 3), ('affirm', 1), ('germany', 2), ('between', 12), ('floods', 2), ('sala', 3), ('elbe', 2), ('charles', 7), ('having', 10), ('subdued', 3), ('saxons', 2), ('behind', 7), ('settled', 2), ('holding', 2), ('disdain', 7), ('german', 2), ('women', 11), ('dishonest', 1), ('manners', 8), ('establish', 1), ('wit', 9), ('inheritrix', 1), ('said', 18), ('twixt', 3), ('day', 50), ('meisen', 1), ('appear', 9), ('devised', 2), ('possess', 1), ('until', 6), ('twenty', 8), ('after', 32), ('defunction', 1), ('idly', 2), ('supposed', 5), ('died', 6), ('redemption', 1), ('beyond', 2), ('river', 2), ('eight', 2), ('five', 10), ('besides', 3), ('writers', 2), ('pepin', 3), ('deposed', 1), ('childeric', 1), ('heir', 7), ('general', 16), ('descended', 1), ('blithild', 1), ('daughter', 24), ('clothair', 1), ('title', 12), ('hugh', 2), ('capet', 3), ('also', 2), ('usurped', 1), ('duke', 31), ('lorraine', 2), ('sole', 4), ('male', 1), ('line', 8), ('stock', 1), ('find', 46), ('shows', 12), ('through', 13), ('corrupt', 9), ('naught', 1), ('convey', 3), ('lady', 27), ('lingare', 1), ('charlemain', 2), ('son', 39), ('lewis', 4), ('emperor', 2), ('tenth', 2), ('usurper', 1), ('keep', 26), ('quiet', 2), ('wearing', 2), ('till', 37), ('satisfied', 1), ('queen', 19), ('isabel', 1), ('grandmother', 1), ('lineal', 1), ('ermengare', 1), ('foresaid', 1), ('marriage', 9), ('re', 11), ('united', 1), ('clear', 4), ('sun', 15), ('satisfaction', 2), ('do', 219), ('howbeit', 1), ('claiming', 1), ('choose', 10), ('hide', 8), ('net', 1), ('amply', 1), ('imbar', 1), ('usurp', 1), ('progenitors', 1), ('head', 14), ('dread', 2), ('book', 8), ('numbers', 6), ('writ', 13), ('dies', 4), ('inheritance', 2), ('descend', 1), ('stand', 27), ('unwind', 1), ('bloody', 7), ('flag', 2), ('look', 45), ('back', 14), ('ancestors', 5), ('grandsire', 1), ('tomb', 8), ('whom', 40), ('invoke', 1), ('spirit', 16), ('black', 19), ('ground', 6), ('tragedy', 1), ('making', 14), ('defeat', 4), ('power', 33), ('whiles', 2), ('most', 84), ('hill', 1), ('stood', 6), ('smiling', 3), ('lion', 4), ('whelp', 1), ('forage', 1), ('nobility', 3), ('noble', 27), ('english', 4), ('entertain', 4), ('pride', 13), ('another', 24), ('laughing', 2), ('cold', 16), ('action', 8), ('remembrance', 11), ('valiant', 6), ('dead', 34), ('puissant', 2), ('arm', 7), ('renew', 2), ('feats', 1), ('sit', 14), ('courage', 2), ('renowned', 1), ('veins', 3), ('thrice', 6), ('morn', 3), ('ripe', 2), ('exploits', 1), ('enterprises', 1), ('brother', 16), ('expect', 1), ('rouse', 2), ('yourself', 12), ('former', 6), ('lions', 1), ('might', 53), ('england', 6), ('nobles', 2), ('richer', 3), ('loyal', 1), ('subjects', 3), ('hearts', 13), ('bodies', 2), ('lie', 20), ('pavilion', 2), ('follow', 13), ('win', 9), ('aid', 9), ('whereof', 6), ('spiritualty', 1), ('raise', 1), ('only', 33), ('invade', 1), ('lay', 13), ('down', 23), ('proportions', 3), ('defend', 3), ('scot', 4), ('road', 1), ('advantages', 1), ('those', 52), ('marches', 1), ('wall', 1), ('sufficient', 1), ('inland', 1), ('pilfering', 1), ('borderers', 1), ('mean', 7), ('coursing', 1), ('snatchers', 1), ('fear', 23), ('main', 8), ('intendment', 1), ('giddy', 1), ('read', 14), ('went', 3), ('unfurnish', 1), ('pouring', 1), ('tide', 2), ('breach', 3), ('ample', 4), ('brim', 2), ('fulness', 2), ('force', 7), ('galling', 1), ('gleaned', 1), ('hot', 6), ('assays', 1), ('girding', 1), ('grievous', 1), ('siege', 3), ('castles', 2), ('towns', 1), ('empty', 1), ('defence', 6), ('shook', 3), ('trembled', 1), ('ill', 29), ('neighbourhood', 1), ('she', 165), ('harm', 4), ('her', 282), ('exampled', 1), ('herself', 11), ('chivalry', 1), ('mourning', 3), ('widow', 41), ('defended', 1), ('taken', 11), ('impounded', 1), ('stray', 1), ('scots', 1), ('fame', 7), ('prisoner', 1), ('chronicle', 2), ('rich', 17), ('praise', 33), ('ooze', 1), ('bottom', 3), ('sea', 13), ('sunken', 1), ('wreck', 2), ('sunless', 1), ('treasuries', 1), ('saying', 2), ('old', 42), ('scotland', 1), ('first', 129), ('begin', 9), ('eagle', 2), ('prey', 4), ('unguarded', 1), ('nest', 2), ('weasel', 1), ('comes', 27), ('sneaking', 1), ('sucks', 1), ('princely', 1), ('eggs', 1), ('playing', 1), ('mouse', 1), ('absence', 7), ('cat', 8), ('tear', 2), ('havoc', 1), ('eat', 12), ('follows', 3), ('stay', 22), ('home', 27), ('crush', 2), ('necessity', 4), ('locks', 1), ('safeguard', 1), ('necessaries', 1), ('pretty', 9), ('traps', 1), ('catch', 7), ('petty', 5), ('thieves', 1), ('while', 11), ('armed', 2), ('fight', 6), ('abroad', 4), ('advised', 3), ('defends', 1), ('itself', 17), ('government', 1), ('though', 61), ('low', 6), ('lower', 2), ('put', 30), ('consent', 5), ('congreeing', 1), ('natural', 3), ('close', 4), ('state', 27), ('divers', 4), ('functions', 1), ('setting', 3), ('endeavour', 1), ('continual', 2), ('motion', 10), ('fixed', 4), ('aim', 3), ('butt', 2), ('obedience', 1), ('bees', 1), ('creatures', 4), ('rule', 2), ('nature', 45), ('teach', 4), ('order', 3), ('peopled', 1), ('officers', 3), ('sorts', 2), ('magistrates', 1), ('correct', 2), ('others', 25), ('merchants', 1), ('venture', 3), ('trade', 1), ('soldiers', 11), ('stings', 3), ('boot', 3), ('velvet', 4), ('buds', 5), ('pillage', 1), ('merry', 6), ('march', 4), ('tent', 2), ('royal', 8), ('busied', 1), ('surveys', 1), ('singing', 1), ('masons', 1), ('building', 2), ('roofs', 1), ('gold', 10), ('civil', 3), ('citizens', 2), ('kneading', 1), ('poor', 47), ('mechanic', 1), ('porters', 1), ('crowding', 1), ('heavy', 13), ('burdens', 1), ('gate', 4), ('sad', 14), ('eyed', 2), ('justice', 5), ('surly', 2), ('hum', 1), ('delivering', 2), ('executors', 1), ('pale', 4), ('lazy', 1), ('yawning', 1), ('drone', 1), ('infer', 1), ('reference', 2), ('contrariously', 1), ('arrows', 1), ('loosed', 1), ('several', 5), ('ways', 7), ('mark', 11), ('meet', 8), ('town', 1), ('fresh', 7), ('streams', 2), ('salt', 3), ('lines', 9), ('dial', 5), ('centre', 2), ('actions', 1), ('afoot', 1), ('end', 24), ('purpose', 15), ('borne', 4), ('happy', 17), ('quarter', 2), ('gallia', 1), ('shake', 8), ('powers', 4), ('cannot', 51), ('doors', 2), ('dog', 2), ('worried', 1), ('nation', 3), ('hardiness', 1), ('messengers', 6), ('sent', 9), ('dauphin', 12), ('help', 22), ('yours', 20), ('sinews', 1), ('ours', 5), ('bend', 3), ('awe', 1), ('break', 11), ('pieces', 2), ('ruling', 1), ('empery', 1), ('almost', 10), ('kingly', 3), ('bones', 5), ('urn', 1), ('tombless', 1), ('over', 9), ('either', 11), ('mouth', 7), ('freely', 5), ('acts', 3), ('else', 19), ('grave', 7), ('turkish', 1), ('tongueless', 1), ('worshipp', 1), ('waxen', 1), ('epitaph', 3), ('ambassadors', 2), ('prepared', 1), ('pleasure', 28), ('greeting', 3), ('t', 82), ('please', 18), ('leave', 42), ('sparingly', 1), ('show', 36), ('far', 31), ('meaning', 6), ('tyrant', 4), ('christian', 2), ('passion', 7), ('subject', 7), ('wretches', 1), ('fetter', 1), ('prisons', 1), ('frank', 3), ('uncurbed', 1), ('plainness', 1), ('mind', 24), ('few', 3), ('lately', 4), ('sending', 2), ('predecessor', 1), ('third', 3), ('answer', 24), ('master', 21), ('says', 15), ('savour', 3), ('bids', 4), ('nought', 5), ('nimble', 3), ('galliard', 1), ('won', 9), ('revel', 2), ('sends', 2), ('meeter', 1), ('tun', 2), ('treasure', 10), ('lieu', 1), ('desires', 4), ('tennis', 1), ('balls', 4), ('glad', 6), ('pleasant', 3), ('present', 20), ('pains', 8), ('rackets', 1), ('set', 22), ('strike', 3), ('hazard', 3), ('match', 5), ('wrangler', 1), ('courts', 1), ('disturb', 1), ('chaces', 1), ('understand', 9), ('wilder', 1), ('days', 22), ('measuring', 1), ('use', 32), ('living', 13), ('hence', 17), ('ourself', 1), ('barbarous', 1), ('licence', 2), ('common', 14), ('merriest', 1), ('sail', 4), ('greatness', 3), ('laid', 7), ('plodded', 1), ('working', 1), ('rise', 3), ('glory', 9), ('dazzle', 1), ('eyes', 67), ('blind', 7), ('mock', 9), ('gun', 1), ('stones', 2), ('charged', 2), ('wasteful', 3), ('vengeance', 1), ('fly', 11), ('widows', 1), ('husbands', 1), ('mothers', 3), ('sons', 3), ('ungotten', 1), ('unborn', 1), ('curse', 3), ('scorn', 7), ('lies', 19), ('appeal', 2), ('am', 125), ('coming', 8), ('venge', 1), ('rightful', 1), ('hallow', 1), ('get', 10), ('peace', 8), ('jest', 2), ('thousands', 1), ('weep', 9), ('laugh', 6), ('safe', 2), ('conduct', 2), ('fare', 8), ('hope', 30), ('sender', 2), ('blush', 4), ('lords', 20), ('omit', 1), ('furtherance', 1), ('expedition', 1), ('run', 10), ('business', 24), ('wars', 17), ('collected', 2), ('reasonable', 1), ('swiftness', 1), ('add', 6), ('feathers', 3), ('wings', 3), ('chide', 7), ('door', 2), ('foot', 9), ('brought', 8), ('wet', 2), ('eye', 49), ('thou', 334), ('consum', 1), ('st', 83), ('thy', 359), ('single', 6), ('ah', 8), ('issueless', 1), ('shalt', 16), ('hap', 1), ('world', 60), ('wail', 2), ('thee', 240), ('makeless', 1), ('wife', 41), ('form', 10), ('hast', 27), ('private', 3), ('children', 4), ('husband', 19), ('shape', 6), ('unthrift', 1), ('spend', 7), ('shifts', 1), ('enjoys', 1), ('beauty', 64), ('kept', 10), ('unused', 3), ('user', 1), ('destroys', 1), ('love', 279), ('toward', 3), ('bosom', 8), ('sits', 3), ('murd', 3), ('rous', 3), ('shame', 14), ('commits', 3), ('10', 1), ('deny', 9), ('bear', 21), ('unprovident', 1), ('grant', 10), ('wilt', 20), ('beloved', 6), ('none', 32), ('lov', 14), ('evident', 1), ('possessed', 2), ('hate', 25), ('stick', 1), ('conspire', 1), ('seeking', 1), ('beauteous', 8), ('roof', 1), ('ruinate', 1), ('repair', 3), ('chief', 3), ('fairer', 8), ('lodged', 1), ('gentle', 18), ('kind', 17), ('least', 8), ('hearted', 1), ('prove', 20), ('live', 49), ('thine', 59), ('11', 1), ('fast', 4), ('wane', 1), ('grow', 17), ('departest', 1), ('youngly', 1), ('bestow', 5), ('mayst', 15), ('convertest', 1), ('herein', 1), ('wisdom', 8), ('increase', 6), ('folly', 7), ('decay', 9), ('minded', 1), ('cease', 3), ('threescore', 1), ('away', 52), ('store', 12), ('harsh', 3), ('featureless', 1), ('barrenly', 1), ('perish', 1), ('endowed', 1), ('gave', 17), ('bounteous', 1), ('gift', 10), ('shouldst', 8), ('bounty', 3), ('cherish', 2), ('carved', 1), ('seal', 2), ('meant', 2), ('thereby', 1), ('print', 1), ('copy', 4), ('12', 1), ('count', 43), ('tells', 3), ('brave', 7), ('sunk', 1), ('hideous', 2), ('violet', 2), ('prime', 4), ('sable', 1), ('curls', 2), ('silvered', 1), ('white', 8), ('lofty', 2), ('trees', 2), ('barren', 5), ('leaves', 8), ('erst', 1), ('heat', 7), ('canopy', 2), ('herd', 2), ('green', 7), ('girded', 1), ('sheaves', 1), ('bier', 1), ('bristly', 1), ('beard', 5), ('among', 6), ('wastes', 3), ('sweets', 5), ('beauties', 4), ('themselves', 15), ('forsake', 4), ('nothing', 54), ('scythe', 4), ('breed', 3), ('takes', 5), ('13', 1), ('longer', 8), ('prepare', 2), ('semblance', 1), ('other', 44), ('lease', 4), ('determination', 1), ('again', 41), ('decease', 2), ('issue', 6), ('lets', 1), ('house', 20), ('husbandry', 1), ('uphold', 1), ('stormy', 1), ('gusts', 1), ('winter', 5), ('rage', 5), ('death', 42), ('eternal', 8), ('unthrifts', 1), ('14', 1), ('stars', 8), ('judgement', 2), ('pluck', 10), ('methinks', 7), ('astronomy', 1), ('evil', 6), ('luck', 2), ('plagues', 2), ('dearths', 1), ('seasons', 3), ('fortune', 37), ('minutes', 5), ('pointing', 2), ('each', 19), ('thunder', 1), ('rain', 4), ('wind', 6), ('oft', 16), ('predict', 1), ('knowledge', 11), ('derive', 3), ('constant', 3), ('together', 9), ('wouldst', 4), ('convert', 1), ('prognosticate', 1), ('doom', 5), ('date', 6), ('15', 1), ('consider', 2), ('thing', 19), ('holds', 11), ('perfection', 4), ('huge', 2), ('presenteth', 1), ('whereon', 3), ('secret', 1), ('influence', 3), ('comment', 2), ('perceive', 4), ('plants', 1), ('cheered', 1), ('checked', 1), ('even', 33), ('sky', 2), ('vaunt', 1), ('youthful', 3), ('sap', 1), ('height', 4), ('decrease', 1), ('wear', 11), ('memory', 7), ('conceit', 3), ('inconstant', 2), ('sets', 3), ('sight', 17), ('debateth', 1), ('sullied', 1), ('engraft', 1), ('new', 30), ('16', 1), ('wherefore', 8), ('mightier', 1), ('way', 24), ('fortify', 2), ('rhyme', 7), ('top', 3), ('maiden', 9), ('gardens', 1), ('unset', 1), ('virtuous', 10), ('flowers', 7), ('liker', 1), ('painted', 5), ('counterfeit', 5), ('pencil', 2), ('pupil', 1), ('pen', 12), ('neither', 10), ('worth', 28), ('outward', 8), ('keeps', 7), ('drawn', 3), ('skill', 13), ('17', 1), ('verse', 15), ('filled', 3), ('deserts', 3), ('knows', 25), ('hides', 1), ('write', 18), ('number', 4), ('graces', 6), ('poet', 4), ('heavenly', 4), ('touches', 6), ('touched', 1), ('earthly', 2), ('faces', 2), ('papers', 1), ('yellowed', 1), ('scorned', 1), ('less', 12), ('tongue', 27), ('rights', 2), ('termed', 1), ('stretched', 1), ('metre', 1), ('antique', 5), ('song', 6), ('child', 13), ('alive', 4), ('twice', 5), ('18', 1), ('compare', 6), ('lovely', 6), ('temperate', 1), ('rough', 2), ('winds', 4), ('darling', 2), ('short', 9), ('sometime', 8), ('shines', 3), ('often', 8), ('complexion', 3), ('dimmed', 1), ('declines', 1), ('chance', 1), ('changing', 2), ('course', 9), ('untrimmed', 1), ('fade', 2), ('ow', 2), ('brag', 1), ('wand', 2), ('rest', 17), ('shade', 4), ('breathe', 5), ('19', 1), ('devouring', 1), ('blunt', 3), ('paws', 1), ('devour', 1), ('brood', 1), ('keen', 2), ('teeth', 3), ('fierce', 3), ('tiger', 1), ('jaws', 1), ('burn', 4), ('lived', 5), ('phoenix', 2), ('sorry', 5), ('fleet', 1), ('whate', 4), ('swift', 6), ('footed', 1), ('wide', 8), ('fading', 2), ('heinous', 1), ('crime', 4), ('carve', 1), ('brow', 8), ('draw', 9), ('untainted', 1), ('allow', 3), ('pattern', 2), ('succeeding', 2), ('worst', 10), ('despite', 5), ('young', 28), ('20', 1), ('face', 24), ('acquainted', 5), ('shifting', 1), ('false', 24), ('bright', 12), ('theirs', 2), ('rolling', 1), ('gilding', 2), ('whereupon', 1), ('gazeth', 1), ('hue', 5), ('hues', 1), ('controlling', 2), ('steals', 2), ('amazeth', 1), ('wert', 4), ('created', 3), ('wrought', 2), ('fell', 6), ('doting', 2), ('addition', 3), ('defeated', 1), ('adding', 1), ('pricked', 1), ('mine', 116), ('21', 1), ('stirred', 1), ('ornament', 4), ('rehearse', 4), ('couplement', 1), ('moon', 3), ('gems', 1), ('april', 3), ('born', 19), ('rare', 8), ('rondure', 1), ('hems', 1), ('truly', 13), ('mother', 35), ('candles', 1), ('hearsay', 1), ('sell', 2), ('22', 1), ('persuade', 1), ('furrows', 1), ('expiate', 1), ('cover', 3), ('seemly', 1), ('raiment', 1), ('breast', 9), ('elder', 1), ('thyself', 7), ('wary', 1), ('bearing', 3), ('chary', 1), ('tender', 11), ('nurse', 1), ('babe', 4), ('faring', 1), ('presume', 3), ('slain', 2), ('gav', 3), ('23', 1), ('unperfect', 1), ('actor', 2), ('replete', 3), ('strength', 12), ('abundance', 4), ('weakens', 1), ('trust', 13), ('forget', 6), ('perfect', 6), ('ceremony', 3), ('rite', 2), ('ercharged', 1), ('burthen', 2), ('looks', 19), ('eloquence', 1), ('dumb', 9), ('presagers', 1), ('speaking', 7), ('plead', 4), ('recompense', 2), ('expressed', 3), ('learn', 4), ('silent', 3), ('belongs', 3), ('fine', 10), ('24', 1), ('played', 2), ('painter', 3), ('stelled', 1), ('table', 2), ('frame', 5), ('wherein', 10), ('held', 4), ('perspective', 2), ('image', 4), ('pictured', 1), ('shop', 1), ('hanging', 1), ('windows', 2), ('glazed', 1), ('turns', 5), ('delights', 2), ('peep', 3), ('gaze', 2), ('therein', 5), ('cunning', 6), ('want', 8), ('25', 1), ('favour', 10), ('public', 5), ('boast', 5), ('whilst', 19), ('triumph', 3), ('bars', 2), ('unlooked', 1), ('joy', 10), ('favourites', 1), ('spread', 1), ('marigold', 1), ('buried', 8), ('frown', 4), ('painful', 1), ('warrior', 1), ('famoused', 1), ('victories', 1), ('foiled', 1), ('razed', 2), ('quite', 6), ('forgot', 6), ('toiled', 1), ('remove', 3), ('removed', 5), ('26', 1), ('vassalage', 1), ('merit', 8), ('duty', 10), ('strongly', 4), ('knit', 2), ('written', 2), ('embassage', 1), ('witness', 5), ('bare', 5), ('wanting', 3), ('words', 18), ('naked', 1), ('whatsoever', 1), ('star', 7), ('guides', 1), ('moving', 2), ('points', 2), ('graciously', 1), ('aspect', 2), ('puts', 2), ('apparel', 2), ('tattered', 1), ('loving', 13), ('worthy', 19), ('respect', 8), ('dare', 15), ('27', 1), ('weary', 3), ('haste', 13), ('bed', 16), ('respose', 1), ('limbs', 4), ('travel', 7), ('tired', 4), ('begins', 2), ('journey', 2), ('expired', 1), ('abide', 3), ('intend', 2), ('zealous', 2), ('pilgrimage', 2), ('drooping', 1), ('eyelids', 2), ('looking', 5), ('darkness', 2), ('presents', 1), ('shadow', 9), ('sightless', 2), ('view', 12), ('jewel', 6), ('hung', 3), ('ghastly', 1), ('makes', 19), ('lo', 3), ('28', 1), ('return', 19), ('plight', 1), ('debarred', 1), ('benefit', 2), ('oppression', 1), ('eased', 1), ('oppressed', 2), ('enemies', 3), ('hands', 8), ('torture', 3), ('complain', 1), ('dost', 31), ('clouds', 5), ('blot', 3), ('flatter', 5), ('swart', 1), ('complexioned', 1), ('sparkling', 1), ('twire', 1), ('gild', 1), ('daily', 3), ('sorrows', 3), ('nightly', 2), ('grief', 13), ('length', 3), ('stronger', 4), ('29', 1), ('disgrace', 9), ('alone', 26), ('beweep', 1), ('outcast', 1), ('trouble', 1), ('deaf', 2), ('bootless', 1), ('cries', 3), ('fate', 1), ('wishing', 2), ('featured', 1), ('friends', 19), ('desiring', 1), ('scope', 6), ('enjoy', 1), ('contented', 5), ('despising', 1), ('haply', 7), ('lark', 2), ('arising', 1), ('sullen', 3), ('sings', 5), ('hymns', 2), ('remembered', 3), ('wealth', 8), ('brings', 7), ('30', 1), ('sessions', 1), ('summon', 1), ('sigh', 1), ('lack', 19), ('sought', 2), ('woes', 1), ('drown', 4), ('flow', 3), ('precious', 7), ('hid', 2), ('dateless', 2), ('afresh', 1), ('cancelled', 1), ('moan', 5), ('th', 68), ('expense', 3), ('vanished', 2), ('grieve', 1), ('grievances', 1), ('foregone', 2), ('heavily', 2), ('account', 4), ('fore', 6), ('bemoaned', 1), ('pay', 7), ('paid', 5), ('friend', 29), ('losses', 2), ('restored', 1), ('31', 1), ('endeared', 1), ('lacking', 1), ('reigns', 1), ('obsequious', 2), ('religious', 3), ('stol', 6), ('n', 10), ('interest', 2), ('hidden', 1), ('trophies', 1), ('lovers', 3), ('gone', 29), ('due', 6), ('images', 1), ('loved', 9), ('32', 1), ('survive', 2), ('churl', 1), ('dust', 5), ('survey', 4), ('deceased', 2), ('bett', 1), ('ring', 46), ('outstripped', 1), ('reserve', 2), ('exceeded', 1), ('happier', 1), ('vouchsafe', 2), ('grown', 7), ('growing', 3), ('dearer', 3), ('birth', 6), ('ranks', 2), ('equipage', 1), ('poets', 2), ('style', 4), ('33', 1), ('glorious', 1), ('morning', 5), ('seen', 20), ('mountain', 2), ('tops', 1), ('kissing', 1), ('golden', 3), ('meadows', 1), ('alchemy', 2), ('anon', 7), ('permit', 1), ('basest', 3), ('ride', 4), ('ugly', 1), ('rack', 1), ('forlorn', 1), ('visage', 2), ('stealing', 2), ('west', 3), ('early', 2), ('shine', 5), ('triumphant', 3), ('splendour', 1), ('alack', 4), ('region', 1), ('cloud', 2), ('masked', 3), ('whit', 1), ('disdaineth', 1), ('suns', 1), ('stain', 5), ('staineth', 1), ('34', 1), ('didst', 8), ('promise', 5), ('cloak', 1), ('base', 7), ('ertake', 1), ('hiding', 2), ('brav', 1), ('ry', 9), ('rotten', 3), ('smoke', 2), ('dry', 1), ('storm', 1), ('beaten', 6), ('salve', 2), ('heals', 1), ('wound', 7), ('cures', 1), ('physic', 4), ('repent', 4), ('loss', 13), ('offender', 2), ('sorrow', 12), ('lends', 3), ('bears', 4), ('strong', 17), ('offence', 7), ('cross', 4), ('tears', 13), ('pearl', 2), ('sheds', 1), ('ransom', 6), ('deeds', 14), ('35', 1), ('grieved', 1), ('roses', 8), ('thorns', 5), ('silver', 2), ('fountains', 1), ('mud', 1), ('eclipses', 2), ('both', 53), ('loathsome', 1), ('canker', 5), ('sweetest', 6), ('bud', 1), ('authorizing', 1), ('trespass', 2), ('corrupting', 1), ('salving', 1), ('amiss', 5), ('excusing', 1), ('sins', 3), ('sensual', 2), ('fault', 6), ('sense', 14), ('adverse', 2), ('party', 1), ('advocate', 1), ('lawful', 8), ('plea', 3), ('commence', 1), ('accessary', 2), ('thief', 6), ('sourly', 2), ('robs', 2), ('36', 1), ('confess', 10), ('twain', 6), ('although', 12), ('undivided', 1), ('loves', 21), ('blots', 1), ('remain', 8), ('separable', 1), ('spite', 5), ('alter', 1), ('effect', 4), ('delight', 8), ('evermore', 4), ('acknowledge', 3), ('lest', 13), ('bewailed', 1), ('guilt', 1), ('kindness', 2), ('unless', 10), ('sort', 2), ('report', 14), ('37', 1), ('decrepit', 1), ('active', 1), ('lame', 2), ('dearest', 10), ('comfort', 7), ('whether', 13), ('entitled', 1), ('crowned', 4), ('engrafted', 1), ('despised', 3), ('substance', 3), ('sufficed', 1), ('ten', 13), ('38', 1), ('invent', 2), ('pour', 3), ('argument', 8), ('excellent', 7), ('vulgar', 3), ('paper', 8), ('thanks', 10), ('aught', 4), ('perusal', 1), ('light', 13), ('nine', 3), ('rhymers', 1), ('invocate', 1), ('calls', 9), ('outlive', 4), ('slight', 4), ('curious', 2), ('pain', 6), ('39', 1), ('sing', 13), ('divided', 2), ('separation', 2), ('deserv', 5), ('torment', 3), ('sour', 3), ('leisure', 9), ('sweetly', 2), ('deceive', 2), ('teachest', 2), ('praising', 3), ('40', 1), ('hadst', 4), ('receivest', 1), ('blame', 8), ('usest', 1), ('blamed', 2), ('deceivest', 1), ('wilful', 2), ('taste', 4), ('refusest', 1), ('forgive', 4), ('robbery', 2), ('poverty', 2), ('known', 10), ('injury', 3), ('lascivious', 5), ('kill', 11), ('spites', 1), ('foes', 5), ('41', 1), ('wrongs', 3), ('liberty', 2), ('absent', 7), ('befits', 2), ('temptation', 2), ('assailed', 2), ('woos', 2), ('prevailed', 1), ('ay', 27), ('mightst', 2), ('forbear', 5), ('straying', 1), ('lead', 8), ('riot', 1), ('forced', 1), ('twofold', 1), ('hers', 9), ('tempting', 1), ('42', 1), ('dearly', 7), ('wailing', 1), ('nearly', 2), ('offenders', 1), ('excuse', 7), ('ye', 7), ('because', 5), ('sake', 15), ('abuse', 3), ('suff', 1), ('approve', 3), ('gain', 7), ('losing', 5), ('found', 23), ('flattery', 3), ('43', 1), ('wink', 2), ('unrespected', 2), ('sleep', 10), ('dreams', 3), ('darkly', 2), ('dark', 6), ('directed', 1), ('shadows', 3), ('clearer', 2), ('unseeing', 1), ('imperfect', 1), ('nights', 3), ('44', 1), ('dull', 7), ('flesh', 12), ('injurious', 2), ('distance', 3), ('stop', 4), ('space', 7), ('limits', 1), ('remote', 1), ('matter', 21), ('farthest', 2), ('jump', 1), ('kills', 1), ('leap', 3), ('lengths', 1), ('miles', 2), ('water', 10), ('attend', 6), ('elements', 2), ('slow', 6), ('badges', 1), ('45', 1), ('purging', 1), ('wherever', 1), ('slide', 1), ('quicker', 1), ('sinks', 1), ('melancholy', 5), ('composition', 3), ('recured', 1), ('returned', 1), ('assured', 4), ('recounting', 1), ('told', 14), ('straight', 10), ('46', 1), ('mortal', 7), ('conquest', 2), ('picture', 4), ('freedom', 2), ('closet', 1), ('pierced', 1), ('crystal', 1), ('defendant', 1), ('appearance', 1), ('side', 9), ('impanelled', 1), ('quest', 2), ('tenants', 1), ('verdict', 1), ('determined', 1), ('moiety', 2), ('47', 1), ('betwixt', 3), ('league', 1), ('took', 11), ('famished', 1), ('sighs', 3), ('smother', 1), ('feast', 5), ('banquet', 2), ('guest', 4), ('share', 3), ('canst', 10), ('move', 6), ('awakes', 1), ('48', 1), ('careful', 2), ('trifle', 2), ('truest', 1), ('thrust', 2), ('falsehood', 3), ('wards', 1), ('jewels', 2), ('trifles', 2), ('greatest', 13), ('care', 12), ('locked', 2), ('chest', 3), ('feel', 3), ('closure', 1), ('whence', 7), ('thence', 11), ('proves', 2), ('thievish', 3), ('prize', 3), ('49', 1), ('defects', 2), ('cast', 4), ('utmost', 2), ('called', 3), ('audit', 2), ('respects', 2), ('strangely', 2), ('scarcely', 1), ('greet', 4), ('converted', 1), ('reasons', 7), ('gravity', 1), ('ensconce', 1), ('desert', 5), ('uprear', 1), ('laws', 1), ('allege', 1), ('50', 1), ('seek', 9), ('case', 10), ('repose', 1), ('measured', 1), ('beast', 3), ('plods', 1), ('dully', 1), ('instinct', 1), ('wretch', 3), ('rider', 1), ('speed', 9), ('spur', 2), ('provoke', 1), ('sometimes', 4), ('anger', 2), ('thrusts', 1), ('answers', 2), ('groan', 6), ('sharp', 6), ('spurring', 1), ('onward', 1), ('51', 1), ('bearer', 1), ('posting', 2), ('need', 15), ('extremity', 1), ('mounted', 1), ('winged', 1), ('horse', 12), ('pace', 5), ('neigh', 2), ('fiery', 4), ('race', 2), ('jade', 1), ('going', 9), ('towards', 4), ('52', 1), ('key', 2), ('blunting', 1), ('point', 9), ('seldom', 5), ('feasts', 2), ('solemn', 4), ('thinly', 1), ('placed', 1), ('captain', 25), ('carcanet', 1), ('wardrobe', 1), ('robe', 1), ('special', 4), ('blest', 6), ('unfolding', 1), ('imprisoned', 2), ('worthiness', 3), ('lacked', 2), ('53', 1), ('millions', 1), ('strange', 16), ('tend', 4), ('lend', 12), ('describe', 1), ('adonis', 1), ('poorly', 1), ('imitated', 1), ('helen', 17), ('cheek', 13), ('grecian', 1), ('tires', 1), ('spring', 4), ('foison', 1), ('external', 1), ('54', 1), ('rose', 6), ('deem', 2), ('odour', 3), ('blooms', 1), ('dye', 1), ('perfumed', 2), ('tincture', 1), ('hang', 6), ('wantonly', 1), ('discloses', 1), ('virtue', 19), ('unwooed', 1), ('deaths', 2), ('odours', 1), ('vade', 1), ('distills', 1), ('55', 1), ('marble', 1), ('gilded', 5), ('monuments', 1), ('powerful', 4), ('contents', 2), ('unswept', 1), ('stone', 5), ('besmeared', 1), ('sluttish', 2), ('statues', 1), ('overturn', 1), ('broils', 1), ('root', 2), ('masonry', 2), ('quick', 9), ('record', 3), ('oblivious', 1), ('enmity', 1), ('room', 2), ('posterity', 1), ('ending', 1), ('judgment', 11), ('arise', 1), ('dwell', 7), ('56', 1), ('blunter', 1), ('appetite', 5), ('feeding', 5), ('allayed', 1), ('morrow', 11), ('sharpened', 1), ('hungry', 3), ('perpetual', 4), ('dulness', 1), ('interim', 1), ('shore', 3), ('contracted', 2), ('banks', 1), ('welcome', 13), ('wished', 1), ('57', 1), ('slave', 10), ('require', 1), ('watch', 3), ('bitterness', 3), ('bid', 9), ('servant', 11), ('adieu', 5), ('jealous', 1), ('fool', 24), ('thinks', 6), ('58', 1), ('control', 3), ('crave', 1), ('vassal', 4), ('bound', 10), ('suffer', 10), ('beck', 1), ('tame', 2), ('sufferance', 1), ('bide', 2), ('check', 5), ('accusing', 1), ('privilage', 1), ('belong', 4), ('doing', 5), ('waiting', 2), ('hell', 9), ('59', 1), ('brains', 3), ('beguiled', 1), ('labouring', 2), ('amis', 1), ('second', 83), ('backward', 4), ('character', 3), ('composed', 1), ('mended', 1), ('revolution', 2), ('wits', 2), ('worse', 12), ('60', 1), ('waves', 1), ('pebbled', 1), ('hasten', 2), ('goes', 11), ('sequent', 3), ('forwards', 1), ('nativity', 1), ('crawls', 1), ('maturity', 1), ('wherewith', 1), ('confound', 5), ('transfix', 1), ('flourish', 13), ('delves', 1), ('parallels', 2), ('feeds', 3), ('rarities', 1), ('stands', 10), ('mow', 1), ('cruel', 8), ('61', 1), ('slumbers', 1), ('broken', 3), ('pry', 1), ('shames', 3), ('idle', 6), ('tenure', 1), ('jealousy', 1), ('watchman', 1), ('wake', 1), ('elsewhere', 3), ('near', 10), ('62', 1), ('possesseth', 1), ('remedy', 6), ('grounded', 2), ('define', 1), ('worths', 1), ('surmount', 1), ('beated', 1), ('chopt', 1), ('tanned', 1), ('antiquity', 3), ('contrary', 3), ('iniquity', 1), ('painting', 6), ('63', 1), ('crushed', 1), ('erworn', 1), ('drained', 1), ('wrinkles', 6), ('travelled', 1), ('steepy', 1), ('vanishing', 1), ('confounding', 1), ('knife', 4), ('cut', 4), ('64', 1), ('defaced', 1), ('cost', 3), ('outworn', 2), ('towers', 1), ('rased', 1), ('brass', 4), ('advantage', 6), ('firm', 2), ('soil', 2), ('watery', 1), ('increasing', 2), ('interchange', 1), ('confounded', 1), ('ruin', 1), ('taught', 9), ('ruminate', 1), ('fears', 10), ('65', 1), ('boundless', 1), ('ersways', 1), ('flower', 7), ('wrackful', 1), ('batt', 1), ('rocks', 1), ('impregnable', 1), ('stout', 1), ('gates', 1), ('steel', 3), ('decays', 2), ('meditation', 1), ('spoil', 2), ('miracle', 1), ('ink', 4), ('66', 1), ('restful', 1), ('cry', 4), ('beggar', 5), ('needy', 1), ('trimmed', 1), ('jollity', 1), ('purest', 1), ('faith', 21), ('unhappily', 1), ('forsworn', 4), ('shamefully', 1), ('misplaced', 1), ('rudely', 1), ('strumpeted', 1), ('wrongfully', 1), ('disgraced', 1), ('limping', 1), ('sway', 4), ('disabled', 1), ('tied', 5), ('authority', 4), ('doctor', 2), ('simple', 8), ('miscalled', 1), ('simplicity', 1), ('captive', 2), ('attending', 2), ('67', 1), ('infection', 3), ('impiety', 1), ('achieve', 1), ('lace', 2), ('society', 1), ('imitate', 1), ('seeming', 5), ('indirectly', 1), ('bankrupt', 1), ('beggared', 1), ('lively', 2), ('exchequer', 1), ('gains', 1), ('stores', 1), ('bad', 11), ('68', 1), ('map', 2), ('bastard', 3), ('signs', 1), ('durst', 3), ('inhabit', 1), ('tresses', 1), ('sepulchres', 1), ('shorn', 1), ('ere', 21), ('fleece', 1), ('gay', 2), ('robbing', 1), ('dress', 2), ('yore', 1), ('69', 1), ('mend', 7), ('tongues', 4), ('voice', 3), ('uttering', 1), ('commend', 4), ('accents', 1), ('seeing', 6), ('shown', 4), ('measure', 6), ('churls', 1), ('rank', 5), ('smell', 8), ('weeds', 5), ('matcheth', 1), ('70', 1), ('defect', 3), ('slander', 3), ('suspect', 3), ('crow', 3), ('flies', 5), ('wooed', 1), ('vice', 2), ('unstained', 1), ('passed', 2), ('ambush', 3), ('victor', 1), ('tie', 4), ('envy', 2), ('enlarged', 1), ('71', 1), ('mourn', 4), ('bell', 1), ('warning', 1), ('fled', 4), ('vile', 5), ('vilest', 3), ('worms', 3), ('nay', 29), ('remember', 6), ('thinking', 4), ('perhaps', 1), ('compounded', 1), ('clay', 2), ('wise', 5), ('72', 1), ('recite', 1), ('devise', 2), ('niggard', 1), ('willingly', 1), ('impart', 1), ('untrue', 3), ('shamed', 1), ('73', 1), ('yellow', 2), ('boughs', 1), ('ruined', 2), ('choirs', 1), ('late', 8), ('birds', 3), ('sang', 1), ('seest', 2), ('twilight', 1), ('sunset', 1), ('fadeth', 1), ('seals', 1), ('glowing', 1), ('ashes', 1), ('expire', 2), ('consumed', 2), ('nourished', 1), ('perceiv', 1), ('74', 1), ('arrest', 1), ('bail', 4), ('memorial', 1), ('reviewest', 1), ('review', 1), ('consecrate', 1), ('lost', 18), ('dregs', 1), ('coward', 6), ('contains', 1), ('remains', 3), ('75', 1), ('food', 1), ('seasoned', 1), ('showers', 2), ('strife', 4), ('miser', 1), ('enjoyer', 1), ('doubting', 2), ('filching', 1), ('counting', 2), ('bettered', 1), ('feasting', 1), ('clean', 2), ('starved', 1), ('possessing', 2), ('pursuing', 1), ('pine', 3), ('surfeit', 2), ('gluttoning', 1), ('76', 1), ('variation', 1), ('glance', 2), ('aside', 7), ('methods', 1), ('compounds', 2), ('weed', 2), ('showing', 3), ('always', 3), ('dressing', 1), ('spending', 2), ('already', 8), ('spent', 6), ('telling', 2), ('77', 1), ('vacant', 1), ('imprint', 1), ('learning', 4), ('mouthed', 1), ('graves', 1), ('shady', 1), ('stealth', 1), ('progress', 2), ('eternity', 4), ('commit', 4), ('blanks', 1), ('nursed', 1), ('delivered', 1), ('brain', 6), ('acquaintance', 4), ('offices', 1), ('profit', 2), ('enrich', 1), ('78', 1), ('invoked', 1), ('assistance', 1), ('alien', 1), ('got', 11), ('poesy', 1), ('disperse', 1), ('ignorance', 4), ('aloft', 1), ('added', 2), ('wing', 3), ('double', 6), ('compile', 1), ('works', 12), ('arts', 1), ('graced', 1), ('advance', 1), ('79', 1), ('decayed', 2), ('sick', 13), ('deserves', 2), ('travail', 1), ('worthier', 1), ('pays', 7), ('stole', 3), ('behaviour', 1), ('afford', 2), ('owes', 5), ('80', 1), ('knowing', 8), ('thereof', 1), ('spends', 1), ('proudest', 1), ('saucy', 4), ('bark', 2), ('inferior', 2), ('broad', 3), ('wilfully', 1), ('shallowest', 1), ('afloat', 1), ('soundless', 1), ('wrecked', 1), ('worthless', 2), ('boat', 1), ('tall', 1), ('goodly', 6), ('81', 1), ('forgotten', 3), ('immortal', 2), ('yield', 3), ('entombed', 1), ('monument', 3), ('breathers', 1), ('breathes', 1), ('mouths', 1), ('82', 1), ('married', 9), ('attaint', 1), ('erlook', 1), ('dedicated', 1), ('blessing', 4), ('finding', 2), ('limit', 2), ('enforced', 1), ('anew', 4), ('fresher', 2), ('stamp', 1), ('bettering', 1), ('strained', 1), ('rhetoric', 1), ('sympathized', 1), ('plain', 4), ('gross', 3), ('used', 11), ('cheeks', 7), ('abused', 1), ('83', 1), ('saw', 15), ('exceed', 1), ('debt', 1), ('slept', 1), ('extant', 1), ('modern', 3), ('quill', 2), ('silence', 4), ('impute', 1), ('impair', 1), ('84', 1), ('confine', 1), ('immured', 1), ('example', 3), ('equal', 4), ('lean', 1), ('penury', 1), ('small', 3), ('writes', 3), ('dignifies', 1), ('story', 7), ('counterpart', 1), ('admired', 1), ('blessings', 2), ('fond', 5), ('praises', 5), ('85', 1), ('comments', 2), ('richly', 2), ('compiled', 1), ('phrase', 3), ('muses', 1), ('filed', 1), ('unlettered', 1), ('clerk', 1), ('amen', 4), ('hymn', 1), ('able', 6), ('affords', 2), ('polished', 1), ('refined', 1), ('praised', 3), ('something', 11), ('hindmost', 1), ('86', 1), ('inhearse', 1), ('womb', 2), ('above', 8), ('pitch', 1), ('struck', 2), ('compeers', 1), ('giving', 3), ('astonished', 1), ('affable', 1), ('ghost', 1), ('gulls', 1), ('intelligence', 4), ('victors', 1), ('countenance', 2), ('enfeebled', 1), ('87', 1), ('farewell', 22), ('estimate', 2), ('releasing', 1), ('bonds', 3), ('determinate', 1), ('granting', 1), ('riches', 2), ('deserving', 2), ('patent', 2), ('swerving', 1), ('mistaking', 1), ('misprision', 2), ('dream', 4), ('waking', 2), ('88', 1), ('disposed', 1), ('weakness', 2), ('concealed', 1), ('attainted', 1), ('gainer', 1), ('bending', 2), ('injuries', 2), ('vantage', 2), ('89', 1), ('lameness', 1), ('halt', 1), ('desired', 3), ('strangle', 1), ('walks', 2), ('profane', 1), ('wronk', 1), ('vow', 10), ('90', 1), ('bent', 4), ('join', 4), ('scaped', 1), ('rearward', 1), ('conquered', 1), ('windy', 1), ('rainy', 1), ('linger', 1), ('purposed', 1), ('overthrow', 1), ('griefs', 3), ('onset', 1), ('strains', 1), ('compared', 1), ('91', 1), ('garments', 4), ('fangled', 1), ('hawks', 2), ('humour', 2), ('adjunct', 2), ('finds', 5), ('particulars', 2), ('prouder', 1), ('costs', 1), ('wretched', 4), ('wretchcd', 1), ('92', 1), ('term', 1), ('depends', 3), ('depend', 1), ('vex', 4), ('revolt', 4), ('93', 1), ('supposing', 2), ('deceived', 3), ('altered', 2), ('hatred', 1), ('moods', 1), ('frowns', 1), ('creation', 3), ('decree', 1), ('workings', 1), ('sweetness', 2), ('eve', 1), ('apple', 1), ('94', 1), ('hurt', 5), ('unmoved', 1), ('rightly', 3), ('inherit', 3), ('tibey', 1), ('owners', 1), ('stewards', 1), ('excellence', 2), ('outbraves', 1), ('dignity', 2), ('sourest', 2), ('lilies', 1), ('fester', 1), ('95', 1), ('fragrant', 1), ('spot', 1), ('budding', 1), ('enclose', 1), ('sport', 7), ('dispraise', 1), ('naming', 2), ('blesses', 1), ('mansion', 2), ('vices', 1), ('habitation', 1), ('chose', 1), ('privilege', 3), ('hardest', 1), ('96', 1), ('wantonness', 1), ('mak', 2), ('resort', 1), ('finger', 7), ('throned', 2), ('esteemed', 3), ('errors', 4), ('truths', 3), ('translated', 1), ('deemed', 2), ('lambs', 1), ('stern', 2), ('wolf', 1), ('betray', 6), ('lamb', 1), ('translate', 1), ('gazers', 1), ('97', 1), ('fleeting', 2), ('freezings', 1), ('felt', 3), ('december', 1), ('bareness', 2), ('everywhere', 2), ('teeming', 1), ('autumn', 2), ('big', 2), ('wanton', 3), ('burden', 2), ('widowed', 1), ('wombs', 1), ('abundant', 1), ('seemed', 3), ('orphans', 1), ('unfathered', 2), ('pleasures', 1), ('cheer', 2), ('dreading', 1), ('98', 1), ('pied', 1), ('dressed', 1), ('trim', 1), ('saturn', 1), ('laughed', 1), ('leaped', 1), ('lays', 5), ('different', 1), ('lap', 2), ('lily', 2), ('vermilion', 1), ('figures', 1), ('99', 1), ('forward', 3), ('smells', 1), ('purple', 2), ('soft', 6), ('dwells', 1), ('grossly', 2), ('dyed', 2), ('condemned', 1), ('marjoram', 2), ('hair', 3), ('fearfully', 1), ('blushing', 2), ('despair', 5), ('red', 8), ('annexed', 1), ('theft', 2), ('growth', 3), ('vengeful', 1), ('colour', 10), ('100', 1), ('fury', 1), ('darkening', 1), ('forgetful', 1), ('redeem', 1), ('ear', 10), ('esteem', 4), ('resty', 1), ('wrinkle', 1), ('graven', 1), ('satire', 1), ('spoils', 1), ('faster', 2), ('prevent', 2), ('101', 1), ('truant', 1), ('amends', 1), ('neglect', 2), ('dignified', 2), ('intermixed', 1), ('ages', 1), ('office', 9), ('102', 1), ('strengthened', 1), ('merchandized', 1), ('esteeming', 1), ('owner', 2), ('publish', 2), ('wont', 1), ('philomel', 1), ('front', 3), ('stops', 1), ('pipe', 1), ('riper', 1), ('mournful', 1), ('hush', 6), ('wild', 3), ('burthens', 1), ('bough', 1), ('103', 1), ('appears', 2), ('dulling', 1), ('sinful', 5), ('striving', 1), ('mar', 1), ('verses', 1), ('gifts', 2), ('104', 1), ('three', 17), ('winters', 1), ('forests', 1), ('summers', 1), ('springs', 1), ('turned', 2), ('process', 3), ('perfumes', 2), ('junes', 1), ('burned', 1), ('unbred', 1), ('105', 1), ('idolatry', 1), ('idol', 1), ('alike', 5), ('songs', 2), ('wondrous', 4), ('constancy', 4), ('expressing', 1), ('difference', 4), ('varying', 2), ('themes', 1), ('106', 1), ('wasted', 1), ('descriptions', 1), ('fairest', 4), ('wights', 1), ('beautiful', 1), ('ladies', 2), ('blazon', 1), ('lip', 4), ('prophecies', 1), ('prefiguring', 1), ('looked', 2), ('divining', 1), ('107', 1), ('prophetic', 1), ('dreaming', 1), ('forfeit', 4), ('eclipse', 1), ('endured', 1), ('augurs', 1), ('presage', 1), ('incertainties', 1), ('proclaims', 1), ('olives', 1), ('endless', 2), ('balmy', 1), ('subscribes', 1), ('insults', 1), ('speechless', 1), ('tribes', 1), ('tyrants', 1), ('crests', 1), ('tombs', 1), ('108', 1), ('figured', 1), ('register', 1), ('express', 6), ('boy', 10), ('prayers', 8), ('divine', 3), ('hallowed', 1), ('weighs', 2), ('necessary', 1), ('aye', 1), ('page', 5), ('bred', 2), ('109', 1), ('flame', 4), ('qualify', 1), ('easy', 4), ('depart', 1), ('ranged', 1), ('travels', 1), ('just', 10), ('exchanged', 1), ('reigned', 1), ('frailties', 2), ('besiege', 2), ('kinds', 1), ('preposterously', 1), ('stained', 1), ('universe', 1), ('110', 1), ('alas', 4), ('motley', 1), ('gored', 1), ('sold', 2), ('cheap', 1), ('offences', 2), ('affections', 3), ('askance', 1), ('blenches', 1), ('essays', 1), ('proved', 3), ('grind', 1), ('newer', 2), ('proof', 3), ('try', 6), ('older', 1), ('next', 8), ('111', 1), ('guilty', 5), ('goddess', 6), ('harmful', 1), ('provide', 3), ('breeds', 3), ('receives', 3), ('brand', 5), ('dyer', 1), ('pity', 18), ('renewed', 1), ('willing', 1), ('patient', 5), ('potions', 2), ('eisel', 1), ('bitter', 5), ('penance', 1), ('correction', 1), ('assure', 4), ('cure', 11), ('112', 1), ('impression', 2), ('scandal', 1), ('stamped', 1), ('strive', 8), ('steeled', 1), ('changes', 1), ('profound', 1), ('abysm', 1), ('throw', 5), ('voices', 1), ('adder', 1), ('critic', 1), ('flatterer', 1), ('stopped', 1), ('dispense', 1), ('113', 1), ('governs', 1), ('about', 10), ('function', 1), ('partly', 1), ('effectually', 1), ('delivers', 3), ('bird', 1), ('latch', 1), ('objects', 2), ('vision', 1), ('rud', 1), ('gentlest', 1), ('deformed', 1), ('creature', 7), ('dove', 1), ('shapes', 1), ('feature', 1), ('incapable', 1), ('maketh', 1), ('114', 1), ('monarch', 3), ('plague', 6), ('saith', 1), ('monsters', 2), ('indigest', 1), ('cherubins', 1), ('resemble', 1), ('creating', 2), ('beams', 2), ('assemble', 2), ('drinks', 2), ('gust', 1), ('greeing', 1), ('palate', 3), ('poisoned', 2), ('lesser', 2), ('115', 1), ('knew', 13), ('afterwards', 1), ('reckoning', 1), ('millioned', 1), ('accidents', 1), ('creep', 1), ('vows', 7), ('decrees', 2), ('tan', 1), ('intents', 5), ('divert', 1), ('minds', 4), ('alt', 1), ('fearing', 3), ('tyranny', 2), ('incertainty', 1), ('crowning', 1), ('116', 1), ('impediments', 2), ('alters', 2), ('alteration', 1), ('bends', 2), ('remover', 1), ('tempests', 2), ('shaken', 2), ('unknown', 4), ('rosy', 1), ('lips', 8), ('sickle', 1), ('compass', 1), ('weeks', 1), ('error', 2), ('117', 1), ('accuse', 3), ('scanted', 1), ('repay', 1), ('whereto', 3), ('frequent', 1), ('purchased', 1), ('hoisted', 1), ('transport', 1), ('surmise', 1), ('accumulate', 1), ('level', 4), ('shoot', 2), ('wakened', 1), ('118', 1), ('eager', 1), ('urge', 4), ('maladies', 2), ('sicken', 1), ('shun', 2), ('sickness', 5), ('purge', 2), ('cloying', 1), ('sauces', 1), ('welfare', 1), ('meetness', 1), ('diseased', 1), ('needing', 1), ('anticipate', 1), ('ills', 4), ('medicine', 3), ('healthful', 3), ('goodness', 7), ('cured', 1), ('lesson', 1), ('drugs', 1), ('poison', 4), ('feil', 1), ('119', 1), ('drunk', 4), ('siren', 1), ('distilled', 1), ('limbecks', 1), ('foul', 10), ('applying', 1), ('hopes', 4), ('committed', 1), ('spheres', 1), ('fitted', 1), ('distraction', 1), ('madding', 2), ('fever', 2), ('built', 2), ('rebuked', 1), ('content', 5), ('120', 1), ('unkind', 3), ('befriends', 1), ('transgression', 1), ('nerves', 1), ('hammered', 1), ('unkindness', 4), ('y', 5), ('weigh', 5), ('suffered', 1), ('deepest', 1), ('hard', 4), ('hits', 3), ('tendered', 1), ('wounded', 1), ('bosoms', 1), ('fits', 4), ('becomes', 6), ('fee', 4), ('ransoms', 1), ('121', 1), ('reproach', 1), ('feeling', 2), ('adulterate', 1), ('salutation', 1), ('sportive', 2), ('frailer', 1), ('spies', 1), ('wills', 2), ('abuses', 1), ('reckon', 3), ('bevel', 1), ('badness', 1), ('122', 1), ('tables', 2), ('charactered', 1), ('lasting', 1), ('subsist', 1), ('oblivion', 4), ('missed', 1), ('retention', 1), ('tallies', 1), ('score', 2), ('bold', 6), ('receive', 7), ('import', 3), ('forgetfulness', 1), ('123', 1), ('pyramids', 1), ('novel', 1), ('dressings', 1), ('dates', 1), ('admire', 1), ('foist', 1), ('heard', 10), ('registers', 1), ('defy', 2), ('wond', 2), ('records', 1), ('124', 1), ('gathered', 1), ('builded', 1), ('accident', 1), ('suffers', 1), ('pomp', 2), ('falls', 3), ('blow', 3), ('thralled', 1), ('discontent', 2), ('inviting', 1), ('heretic', 1), ('leases', 1), ('numbered', 1), ('hugely', 1), ('politic', 3), ('drowns', 1), ('fools', 1), ('125', 1), ('bore', 2), ('extern', 1), ('honouring', 1), ('bases', 1), ('ruining', 1), ('dwellers', 1), ('paying', 1), ('rent', 1), ('compound', 1), ('forgoing', 1), ('pitiful', 2), ('thrivers', 1), ('gazing', 1), ('oblation', 1), ('free', 7), ('mixed', 1), ('seconds', 1), ('mutual', 2), ('suborned', 1), ('informer', 1), ('impeached', 1), ('126', 1), ('fickle', 2), ('waning', 1), ('withering', 1), ('wrack', 1), ('goest', 1), ('onwards', 1), ('minion', 1), ('detain', 2), ('delayed', 1), ('answered', 1), ('quietus', 1), ('127', 1), ('counted', 1), ('successive', 1), ('slandered', 1), ('fairing', 1), ('borrowed', 2), ('bower', 1), ('profaned', 2), ('raven', 1), ('suited', 2), ('mourners', 2), ('slandering', 1), ('becoming', 2), ('128', 1), ('wood', 3), ('sounds', 1), ('fingers', 3), ('wiry', 1), ('concord', 2), ('confounds', 1), ('jacks', 2), ('kiss', 8), ('harvest', 1), ('reap', 2), ('boldness', 3), ('tickled', 1), ('situation', 1), ('dancing', 2), ('chips', 1), ('walk', 2), ('gait', 2), ('129', 1), ('lust', 7), ('perjured', 3), ('savage', 1), ('extreme', 3), ('enjoyed', 1), ('hunted', 1), ('hated', 2), ('swallowed', 1), ('bait', 1), ('taker', 1), ('mad', 9), ('pursuit', 3), ('bliss', 2), ('proposed', 1), ('leads', 3), ('130', 1), ('coral', 1), ('snow', 3), ('breasts', 1), ('dun', 1), ('hairs', 1), ('wires', 2), ('damasked', 1), ('reeks', 1), ('pleasing', 1), ('sound', 7), ('treads', 1), ('belied', 2), ('131', 1), ('tyrannous', 1), ('proudly', 1), ('err', 3), ('swear', 17), ('groans', 2), ('neck', 1), ('proceeds', 2), ('132', 1), ('pitying', 1), ('ruth', 1), ('grey', 1), ('east', 2), ('ushers', 1), ('sober', 1), ('beseem', 1), ('suit', 7), ('133', 1), ('beshrew', 1), ('slavery', 1), ('harder', 1), ('engrossed', 1), ('forsaken', 1), ('fold', 1), ('crossed', 1), ('prison', 3), ('ward', 2), ('whoe', 1), ('rigour', 1), ('gaol', 1), ('pent', 1), ('perforce', 1), ('134', 1), ('confessed', 1), ('mortgaged', 1), ('restore', 1), ('covetous', 1), ('surety', 4), ('bond', 3), ('fist', 1), ('bind', 4), ('statute', 1), ('usurer', 1), ('sue', 2), ('debtor', 1), ('whole', 6), ('135', 1), ('whoever', 4), ('plus', 1), ('spacious', 2), ('addeth', 1), ('beseechers', 1), ('136', 1), ('admitted', 3), ('fulfil', 2), ('receipt', 2), ('reckoned', 1), ('untold', 1), ('137', 1), ('partial', 1), ('anchored', 1), ('bay', 2), ('forged', 1), ('hooks', 1), ('plot', 3), ('erred', 1), ('transferred', 1), ('138', 1), ('swears', 2), ('untutored', 1), ('unlearned', 2), ('subtleties', 1), ('vainly', 3), ('simply', 3), ('credit', 7), ('sides', 4), ('suppressed', 1), ('unjust', 2), ('habit', 1), ('flattered', 1), ('139', 1), ('justify', 1), ('slay', 2), ('erpressed', 1), ('dart', 1), ('outright', 1), ('rid', 1), ('140', 1), ('press', 1), ('manner', 3), ('testy', 1), ('news', 11), ('physicians', 3), ('madness', 2), ('wresting', 1), ('slanderers', 1), ('believed', 2), ('141', 1), ('despise', 2), ('pleased', 1), ('dote', 3), ('cars', 1), ('tune', 2), ('delighted', 1), ('prone', 1), ('invited', 2), ('senses', 2), ('dissuade', 3), ('foolish', 3), ('serving', 2), ('unswayed', 1), ('likeness', 1), ('awards', 1), ('142', 1), ('merits', 2), ('reproving', 1), ('scarlet', 1), ('ornaments', 1), ('sealed', 1), ('robbed', 1), ('beds', 1), ('revenues', 1), ('rents', 1), ('woo', 3), ('importune', 1), ('deserve', 4), ('pitied', 2), ('denied', 4), ('143', 1), ('huswife', 1), ('feathered', 1), ('dispatch', 6), ('neglected', 2), ('chase', 3), ('busy', 1), ('prizing', 1), ('infant', 1), ('afar', 3), ('loud', 4), ('crying', 2), ('144', 1), ('suggest', 2), ('worser', 2), ('coloured', 1), ('tempteth', 1), ('saint', 6), ('devil', 7), ('wooing', 2), ('purity', 1), ('fiend', 2), ('directly', 1), ('145', 1), ('breathed', 1), ('languished', 1), ('woeful', 1), ('mercy', 5), ('chiding', 1), ('followed', 3), ('flown', 2), ('threw', 3), ('saved', 2), ('146', 1), ('rebel', 2), ('array', 1), ('dearth', 1), ('costly', 1), ('inheritors', 1), ('excess', 2), ('aggravate', 1), ('buy', 7), ('terms', 3), ('selling', 1), ('dross', 1), ('fed', 3), ('feed', 4), ('dying', 2), ('147', 1), ('longing', 2), ('nurseth', 1), ('disease', 3), ('preserve', 2), ('uncertain', 2), ('sickly', 2), ('physician', 4), ('angry', 2), ('prescriptions', 2), ('desperate', 5), ('except', 2), ('frantic', 1), ('unrest', 1), ('random', 1), ('sworn', 8), ('148', 1), ('correspondence', 1), ('censures', 1), ('falsely', 2), ('aright', 1), ('denote', 1), ('vexed', 1), ('watching', 1), ('marvel', 3), ('mistake', 2), ('sees', 2), ('clears', 1), ('149', 1), ('partake', 1), ('hateth', 1), ('fawn', 1), ('lour', 1), ('revenge', 2), ('service', 24), ('worship', 2), ('commanded', 3), ('150', 1), ('insufficiency', 1), ('brightness', 1), ('refuse', 1), ('warrantise', 1), ('exceeds', 1), ('abhor', 2), ('unworthiness', 2), ('raised', 1), ('151', 1), ('cheater', 1), ('betraying', 1), ('nobler', 2), ('treason', 2), ('stays', 2), ('rising', 1), ('drudge', 2), ('152', 1), ('swearing', 3), ('torn', 1), ('vowing', 1), ('oaths', 12), ('misuse', 1), ('honest', 12), ('enlighten', 1), ('blindness', 1), ('153', 1), ('cupid', 4), ('asleep', 2), ('maid', 22), ('dian', 5), ('kindling', 1), ('quickly', 8), ('steep', 1), ('valley', 1), ('fountain', 1), ('endure', 3), ('seeting', 1), ('bath', 4), ('fired', 1), ('trial', 3), ('touch', 8), ('thither', 5), ('hied', 1), ('distempered', 2), ('154', 1), ('lying', 3), ('inflaming', 1), ('nymphs', 1), ('vowed', 1), ('chaste', 2), ('tripping', 1), ('votary', 1), ('legions', 1), ('warmed', 1), ('virgin', 7), ('disarmed', 1), ('quenched', 1), ('cool', 4), ('discased', 1), ('thrall', 1), ('heats', 1), ('cools', 1), ('electronic', 16), ('version', 8), ('complete', 8), ('william', 9), ('shakespeare', 9), ('copyright', 8), ('1990', 8), ('1993', 8), ('library', 8), ('inc', 8), ('provided', 8), ('project', 9), ('gutenberg', 8), ('etext', 8), ('illinois', 8), ('benedictine', 8), ('college', 9), ('permission', 8), ('machine', 8), ('readable', 8), ('copies', 16), ('distributed', 16), ('1', 13), ('personal', 8), ('2', 13), ('commercially', 8), ('prohibited', 8), ('commercial', 8), ('distribution', 8), ('includes', 8), ('charges', 9), ('download', 8), ('membership', 8), ('1603', 1), ('alls', 1), ('ends', 4), ('dramatis', 1), ('personae', 1), ('florence', 21), ('bertram', 136), ('rousillon', 28), ('lafeu', 118), ('parolles', 175), ('follower', 1), ('steward', 10), ('countess', 100), ('lavache', 2), ('clown', 67), ('helena', 125), ('gentlewoman', 8), ('protected', 1), ('diana', 59), ('violenta', 2), ('mariana', 7), ('etc', 2), ('florentine', 9), ('paris', 11), ('marseilles', 4), ('bury', 2), ('madam', 54), ('command', 8), ('subjection', 1), ('sir', 116), ('stir', 2), ('wanted', 2), ('amendment', 1), ('abandon', 1), ('practices', 1), ('persecuted', 1), ('passage', 1), ('honesty', 11), ('stretch', 3), ('famous', 2), ('profession', 3), ('gerard', 3), ('de', 3), ('narbon', 3), ('spoke', 14), ('admiringly', 2), ('mourningly', 1), ('skilful', 1), ('liv', 2), ('languishes', 1), ('fistula', 1), ('notorious', 2), ('bequeathed', 3), ('overlooking', 1), ('education', 1), ('promises', 3), ('dispositions', 1), ('inherits', 1), ('unclean', 2), ('carries', 3), ('qualities', 4), ('commendations', 3), ('virtues', 4), ('traitors', 3), ('simpleness', 1), ('derives', 1), ('achieves', 1), ('brine', 1), ('season', 2), ('approaches', 4), ('livelihood', 1), ('affect', 2), ('moderate', 1), ('lamentation', 1), ('excessive', 1), ('enemy', 8), ('wishes', 6), ('empire', 4), ('birthright', 1), ('tax', 4), ('speech', 9), ('furnish', 3), ('unseason', 1), ('courtier', 7), ('advise', 3), ('bless', 8), ('forg', 1), ('servants', 2), ('comfortable', 1), ('shed', 2), ('imagination', 1), ('undone', 5), ('twere', 6), ('particular', 6), ('wed', 3), ('radiance', 1), ('collateral', 1), ('comforted', 1), ('sphere', 1), ('ambition', 2), ('hind', 1), ('mated', 1), ('twas', 7), ('arched', 1), ('brows', 3), ('hawking', 1), ('capable', 2), ('trick', 2), ('idolatrous', 1), ('fancy', 6), ('sanctify', 2), ('relics', 2), ('liar', 4), ('solely', 1), ('fix', 2), ('evils', 2), ('fit', 7), ('steely', 1), ('bleak', 1), ('superfluous', 1), ('meditating', 1), ('virginity', 19), ('soldier', 55), ('ask', 15), ('barricado', 1), ('assails', 1), ('resistance', 1), ('undermine', 1), ('underminers', 1), ('blowers', 1), ('military', 1), ('virgins', 3), ('blown', 2), ('quicklier', 1), ('marry', 25), ('blowing', 1), ('city', 3), ('rational', 1), ('metal', 2), ('companion', 5), ('infallible', 1), ('disobedience', 1), ('hangs', 1), ('murders', 1), ('highways', 1), ('sanctified', 2), ('offendress', 1), ('mites', 1), ('cheese', 1), ('consumes', 1), ('paring', 1), ('stomach', 4), ('peevish', 1), ('inhibited', 1), ('canon', 1), ('principal', 1), ('liking', 3), ('likes', 2), ('commodity', 1), ('gloss', 1), ('vendible', 1), ('request', 1), ('wears', 3), ('cap', 4), ('unsuitable', 1), ('brooch', 1), ('toothpick', 1), ('pie', 1), ('porridge', 1), ('wither', 4), ('pears', 1), ('eats', 1), ('drily', 1), ('pear', 2), ('formerly', 1), ('anything', 5), ('guide', 1), ('counsellor', 1), ('traitress', 1), ('humility', 3), ('jarring', 1), ('discord', 1), ('dulcet', 1), ('disaster', 4), ('adoptious', 1), ('christendoms', 1), ('blinking', 1), ('gossips', 1), ('court', 18), ('poorer', 3), ('shut', 3), ('effects', 2), ('returns', 1), ('monsieur', 12), ('charitable', 1), ('especially', 3), ('predominant', 1), ('retrograde', 1), ('running', 1), ('proposes', 1), ('safety', 1), ('valour', 5), ('acutely', 1), ('instruction', 1), ('serve', 23), ('naturalize', 1), ('counsel', 3), ('advice', 4), ('diest', 2), ('unthankfulness', 1), ('uses', 2), ('remedies', 1), ('ourselves', 14), ('ascribe', 1), ('fated', 2), ('pull', 2), ('designs', 2), ('mounts', 1), ('mightiest', 1), ('impossible', 1), ('attempts', 1), ('strove', 1), ('miss', 2), ('cornets', 2), ('letters', 12), ('florentines', 2), ('senoys', 1), ('fought', 3), ('continue', 2), ('braving', 1), ('reported', 4), ('credible', 1), ('certainty', 3), ('vouch', 2), ('austria', 1), ('caution', 1), ('speedy', 1), ('prejudicates', 1), ('denial', 1), ('approv', 2), ('amplest', 1), ('credence', 2), ('gentlemen', 8), ('tuscan', 2), ('nursery', 1), ('gentry', 1), ('breathing', 2), ('exploit', 3), ('compos', 2), ('moral', 1), ('soundness', 1), ('myself', 19), ('friendship', 2), ('tried', 1), ('soldiership', 3), ('discipled', 1), ('bravest', 2), ('lasted', 1), ('haggish', 1), ('wore', 2), ('repairs', 1), ('observe', 3), ('unnoted', 1), ('levity', 1), ('contempt', 5), ('sharpness', 1), ('awak', 2), ('minute', 2), ('exception', 1), ('obey', 3), ('below', 2), ('eminent', 1), ('humbled', 1), ('younger', 4), ('demonstrate', 1), ('goers', 2), ('approof', 2), ('plausive', 2), ('scatter', 1), ('grafted', 1), ('began', 1), ('catastrophe', 1), ('heel', 3), ('pastime', 1), ('quoth', 4), ('lacks', 1), ('oil', 2), ('snuff', 1), ('apprehensive', 1), ('judgments', 2), ('mere', 3), ('fathers', 1), ('constancies', 1), ('fashions', 1), ('wax', 1), ('dissolved', 1), ('hive', 1), ('labourers', 1), ('fam', 1), ('months', 2), ('worn', 5), ('applications', 1), ('3', 5), ('calendar', 1), ('endeavours', 2), ('modesty', 3), ('clearness', 1), ('deservings', 1), ('does', 30), ('knave', 28), ('sirrah', 8), ('complaints', 1), ('slowness', 1), ('ability', 1), ('knaveries', 1), ('fellow', 10), ('damn', 5), ('ladyship', 2), ('isbel', 3), ('beg', 5), ('heritage', 1), ('bames', 1), ('requires', 3), ('driven', 1), ('drives', 2), ('wicked', 2), ('wickedness', 2), ('knaves', 3), ('aweary', 2), ('spares', 1), ('team', 1), ('crop', 1), ('cuckold', 4), ('comforts', 2), ('cherisher', 1), ('cherishes', 1), ('ergo', 1), ('kisses', 2), ('charbon', 1), ('puritan', 2), ('poysam', 1), ('papist', 1), ('howsome', 1), ('sever', 1), ('religion', 1), ('heads', 1), ('jowl', 1), ('horns', 2), ('deer', 1), ('calumnious', 1), ('prophet', 1), ('ballad', 2), ('repeat', 1), ('destiny', 1), ('cuckoo', 1), ('grecians', 1), ('sacked', 1), ('troy', 1), ('priam', 1), ('sighed', 2), ('sentence', 2), ('purifying', 1), ('tithe', 1), ('parson', 1), ('blazing', 1), ('earthquake', 1), ('lottery', 2), ('surplice', 1), ('gown', 1), ('forsooth', 1), ('hither', 7), ('entirely', 1), ('bequeath', 2), ('lawfully', 1), ('owing', 1), ('demand', 11), ('communicate', 1), ('stranger', 2), ('estates', 1), ('extend', 2), ('knight', 1), ('surpris', 1), ('rescue', 1), ('assault', 2), ('afterward', 1), ('deliver', 5), ('e', 7), ('exclaim', 1), ('speedily', 2), ('acquaint', 3), ('sithence', 1), ('happen', 2), ('concerns', 2), ('discharg', 1), ('honestly', 1), ('likelihoods', 1), ('inform', 7), ('tott', 1), ('balance', 2), ('misdoubt', 2), ('stall', 1), ('further', 16), ('thorn', 1), ('impress', 1), ('remembrances', 1), ('honourable', 7), ('methought', 2), ('serpent', 3), ('start', 2), ('catalogue', 1), ('enwombed', 1), ('adoption', 1), ('strives', 2), ('choice', 6), ('slip', 1), ('foreign', 1), ('seeds', 1), ('oppress', 1), ('curd', 1), ('messenger', 20), ('iris', 1), ('rounds', 1), ('honoured', 1), ('parents', 1), ('sister', 4), ('yes', 9), ('shield', 1), ('pulse', 1), ('fondness', 1), ('myst', 1), ('loneliness', 1), ('asham', 1), ('proclamation', 1), ('behaviours', 1), ('hellish', 1), ('obstinacy', 1), ('suspected', 2), ('clew', 1), ('forswear', 1), ('howe', 4), ('avail', 1), ('disclose', 1), ('affection', 1), ('passions', 2), ('appeach', 1), ('knee', 1), ('offended', 3), ('hurts', 2), ('token', 4), ('presumptuous', 1), ('captious', 1), ('intenible', 1), ('sieve', 1), ('waters', 2), ('indian', 1), ('adore', 1), ('worshipper', 1), ('encounter', 4), ('aged', 1), ('cites', 1), ('chastely', 2), ('seeks', 2), ('search', 3), ('implies', 1), ('riddle', 2), ('intent', 2), ('prov', 2), ('manifest', 1), ('experience', 4), ('sovereignty', 1), ('heedfull', 1), ('reservation', 2), ('notes', 1), ('faculties', 1), ('inclusive', 1), ('amongst', 1), ('languishings', 1), ('motive', 3), ('conversation', 1), ('schools', 1), ('embowell', 1), ('doctrine', 1), ('danger', 8), ('legacy', 2), ('luckiest', 1), ('success', 6), ('knowingly', 1), ('greetings', 1), ('attempt', 3), ('taking', 3), ('principles', 1), ('receiv', 3), ('ent', 1), ('malady', 2), ('frenchmen', 2), ('higher', 4), ('italy', 6), ('bated', 1), ('monarchy', 1), ('questant', 1), ('shrinks', 1), ('aloud', 1), ('bidding', 3), ('girls', 1), ('language', 5), ('beware', 2), ('captives', 1), ('warnings', 1), ('retires', 1), ('attended', 2), ('spark', 1), ('admirable', 1), ('coil', 1), ('bravely', 5), ('forehorse', 1), ('smock', 2), ('creaking', 1), ('shoes', 1), ('bought', 3), ('dance', 2), ('parting', 2), ('tortur', 1), ('heroes', 1), ('kin', 1), ('sparks', 1), ('lustrous', 1), ('metals', 1), ('regiment', 2), ('spinii', 1), ('spurio', 2), ('cicatrice', 1), ('emblem', 1), ('sinister', 1), ('entrench', 1), ('reports', 6), ('novices', 1), ('restrain', 1), ('expressive', 1), ('muster', 2), ('dilated', 1), ('fellows', 3), ('sinewy', 1), ('kneeling', 1), ('tidings', 1), ('has', 31), ('kneel', 2), ('pate', 1), ('across', 1), ('cur', 1), ('infirmity', 1), ('grapes', 2), ('fox', 3), ('reach', 1), ('quicken', 1), ('rock', 1), ('canary', 1), ('spritely', 1), ('araise', 1), ('arriv', 1), ('seriously', 2), ('deliverance', 2), ('sex', 1), ('amaz', 1), ('admiration', 1), ('prologues', 1), ('traitor', 1), ('cressid', 1), ('profess', 2), ('spare', 5), ('receipts', 1), ('chiefly', 2), ('practice', 2), ('bade', 2), ('triple', 2), ('safer', 1), ('malignant', 1), ('appliance', 1), ('humbleness', 1), ('credulous', 1), ('doctors', 1), ('congregated', 1), ('concluded', 2), ('inaidable', 1), ('estate', 3), ('prostitute', 1), ('empirics', 1), ('dissever', 1), ('senseless', 1), ('enforce', 3), ('humbly', 5), ('entreating', 1), ('modest', 1), ('grateful', 1), ('peril', 1), ('finisher', 1), ('weakest', 1), ('minister', 2), ('babes', 2), ('judges', 1), ('sources', 1), ('seas', 1), ('dried', 1), ('expectation', 1), ('fails', 1), ('coldest', 1), ('proffers', 1), ('reward', 1), ('inspired', 1), ('barr', 1), ('square', 3), ('presumption', 1), ('experiment', 1), ('impostor', 1), ('proclaim', 1), ('confident', 1), ('hop', 2), ('lending', 1), ('torcher', 1), ('diurnal', 1), ('murk', 1), ('occidental', 1), ('damp', 1), ('moist', 1), ('hesperus', 1), ('quench', 1), ('sleepy', 1), ('lamp', 1), ('pilot', 1), ('infirm', 1), ('confidence', 1), ('dar', 1), ('impudence', 1), ('strumpet', 3), ('divulged', 1), ('traduc', 1), ('odious', 1), ('ballads', 1), ('sear', 1), ('otherwise', 2), ('extended', 3), ('ended', 4), ('organ', 1), ('impossibility', 2), ('saves', 1), ('rate', 5), ('happiness', 2), ('intimate', 1), ('infinite', 5), ('monstrous', 3), ('practiser', 1), ('ministers', 1), ('flinch', 1), ('property', 3), ('unpitied', 2), ('helping', 1), ('sceptre', 1), ('exempted', 1), ('arrogance', 1), ('propagate', 1), ('branch', 1), ('premises', 1), ('observ', 1), ('performance', 1), ('serv', 1), ('resolv', 2), ('rely', 1), ('cam', 1), ('tended', 2), ('unquestion', 1), ('undoubted', 1), ('ho', 3), ('deed', 7), ('breeding', 3), ('highly', 1), ('lowly', 1), ('lent', 3), ('easily', 1), ('leg', 2), ('precisely', 1), ('bountiful', 1), ('questions', 4), ('barber', 2), ('chair', 1), ('buttocks', 1), ('pin', 1), ('buttock', 4), ('quatch', 1), ('brawn', 1), ('groats', 1), ('attorney', 1), ('taffety', 1), ('punk', 1), ('tib', 1), ('rush', 1), ('tom', 2), ('forefinger', 1), ('pancake', 1), ('shrove', 1), ('tuesday', 1), ('morris', 1), ('mayday', 1), ('nail', 1), ('hole', 2), ('horn', 1), ('scolding', 1), ('quean', 1), ('wrangling', 2), ('nun', 1), ('friar', 2), ('pudding', 1), ('skin', 1), ('fitness', 1), ('beneath', 1), ('constable', 1), ('size', 1), ('demands', 1), ('hoping', 1), ('wiser', 3), ('putting', 1), ('thick', 3), ('homely', 2), ('meat', 1), ('warrant', 2), ('whipping', 3), ('housewife', 1), ('merrily', 1), ('serves', 3), ('kinsmen', 1), ('commendation', 1), ('fruitfully', 1), ('legs', 1), ('philosophical', 1), ('persons', 2), ('supernatural', 1), ('causeless', 1), ('terrors', 1), ('ensconcing', 1), ('submit', 2), ('rarest', 1), ('shot', 2), ('latter', 2), ('relinquish', 1), ('artists', 1), ('galen', 1), ('paracelsus', 1), ('authentic', 1), ('incurable', 1), ('assur', 1), ('novelty', 1), ('dolphin', 1), ('lustier', 1), ('tedious', 1), ('facinerious', 1), ('debile', 1), ('transcendence', 1), ('recov', 1), ('thankful', 4), ('lustig', 1), ('dutchman', 1), ('tooth', 1), ('coranto', 1), ('mort', 1), ('du', 1), ('vinaigre', 1), ('attendant', 4), ('preserver', 1), ('banish', 1), ('repeal', 1), ('confirmation', 1), ('promis', 3), ('attends', 1), ('parcel', 1), ('bachelors', 1), ('bestowing', 2), ('election', 1), ('curtal', 1), ('furniture', 1), ('boys', 8), ('peruse', 1), ('restor', 2), ('wealthiest', 1), ('protest', 3), ('blushes', 3), ('whisper', 2), ('refused', 1), ('shuns', 2), ('altar', 1), ('stream', 3), ('ames', 1), ('ace', 1), ('flames', 1), ('threat', 1), ('ningly', 1), ('replies', 1), ('fortunes', 7), ('whipt', 4), ('turk', 1), ('eunuchs', 2), ('afraid', 2), ('ice', 1), ('bastards', 1), ('em', 5), ('fourth', 1), ('grape', 1), ('wine', 2), ('ass', 2), ('fourteen', 1), ('guiding', 1), ('beseech', 13), ('rais', 1), ('raising', 1), ('build', 1), ('bloods', 1), ('distinction', 3), ('differences', 1), ('dislik', 2), ('lowest', 1), ('doer', 1), ('additions', 1), ('swell', 2), ('dropsied', 1), ('vileness', 1), ('immediate', 2), ('challenges', 1), ('sire', 1), ('honours', 2), ('debauch', 2), ('trophy', 1), ('create', 1), ('dower', 3), ('m', 1), ('stake', 1), ('scornful', 2), ('shackle', 1), ('poising', 1), ('defective', 1), ('scale', 1), ('beam', 1), ('plant', 1), ('travails', 1), ('presently', 5), ('obedient', 2), ('claims', 4), ('staggers', 1), ('careless', 1), ('lapse', 1), ('loosing', 1), ('dole', 1), ('ennobled', 1), ('counterpoise', 1), ('smile', 1), ('contract', 1), ('expedient', 1), ('perform', 2), ('expecting', 1), ('commenting', 1), ('wedding', 1), ('recantation', 2), ('understood', 2), ('counts', 1), ('satisfy', 2), ('ordinaries', 1), ('tolerable', 1), ('vent', 1), ('scarfs', 2), ('bannerets', 1), ('manifoldly', 1), ('believing', 1), ('vessel', 2), ('rt', 1), ('scarce', 4), ('plunge', 1), ('hen', 1), ('window', 3), ('lattice', 1), ('casement', 3), ('egregious', 1), ('indignity', 1), ('ev', 3), ('dram', 1), ('bate', 1), ('scruple', 1), ('smack', 2), ('scarf', 3), ('bondage', 2), ('default', 1), ('insupportable', 1), ('vexation', 1), ('scurvy', 3), ('filthy', 2), ('fettering', 1), ('beat', 5), ('convenience', 2), ('unfeignedly', 1), ('lordship', 17), ('arms', 4), ('hose', 1), ('sleeves', 1), ('nose', 5), ('methink', 1), ('wast', 3), ('undeserved', 1), ('picking', 1), ('kernel', 1), ('pomegranate', 1), ('vagabond', 2), ('traveller', 2), ('personages', 1), ('commission', 1), ('heraldry', 1), ('conceal', 1), ('awhile', 3), ('forfeited', 2), ('cares', 2), ('sweetheart', 2), ('priest', 1), ('tread', 1), ('box', 1), ('hugs', 1), ('kicky', 1), ('wicky', 1), ('manly', 1), ('marrow', 1), ('sustain', 2), ('curvet', 1), ('steed', 2), ('regions', 1), ('stable', 1), ('jades', 2), ('italian', 2), ('detested', 1), ('capriccio', 1), ('noise', 2), ('marr', 1), ('4', 3), ('greets', 1), ('wants', 1), ('ail', 1), ('whither', 5), ('fortunate', 1), ('money', 3), ('shakes', 1), ('undoing', 1), ('witty', 1), ('profitable', 1), ('laughter', 3), ('serious', 3), ('prerogative', 1), ('compell', 2), ('restraint', 2), ('delay', 3), ('strew', 2), ('distil', 1), ('curbed', 1), ('erflow', 1), ('proceeding', 2), ('ned', 1), ('apology', 1), ('probable', 2), ('commands', 3), ('obtain', 1), ('everything', 4), ('5', 3), ('warranted', 1), ('testimony', 1), ('bunting', 1), ('accordingly', 2), ('sinn', 1), ('transgress', 1), ('dangerous', 2), ('pursue', 2), ('amity', 2), ('tailor', 2), ('workman', 1), ('casketed', 1), ('bride', 1), ('dinner', 2), ('thirds', 1), ('nothings', 1), ('deserved', 2), ('displeasure', 7), ('shift', 1), ('boots', 1), ('spurs', 2), ('leapt', 1), ('custard', 1), ('residence', 1), ('mistaken', 1), ('kernal', 1), ('nut', 1), ('clothes', 3), ('consequence', 1), ('natures', 1), ('spoken', 7), ('clog', 1), ('procur', 1), ('ministration', 1), ('required', 1), ('prepar', 3), ('unsettled', 1), ('entreat', 6), ('appointments', 1), ('letter', 15), ('twill', 3), ('observance', 2), ('eke', 1), ('fail', 5), ('hie', 2), ('timorous', 1), ('strangers', 2), ('sunder', 1), ('drum', 23), ('flight', 2), ('coragio', 1), ('iii', 8), ('troop', 3), ('fundamental', 1), ('decision', 1), ('thirsts', 1), ('quarrel', 3), ('opposer', 1), ('borrowing', 1), ('council', 2), ('frames', 1), ('unable', 1), ('incertain', 1), ('grounds', 2), ('ease', 1), ('settle', 2), ('places', 2), ('avails', 1), ('field', 5), ('along', 3), ('troth', 2), ('ruff', 1), ('pick', 2), ('manor', 1), ('ling', 2), ('isbels', 2), ('country', 5), ('knock', 3), ('en', 5), ('reads', 7), ('recovered', 4), ('wedded', 1), ('bedded', 1), ('breadth', 1), ('unfortunate', 1), ('rash', 2), ('unbridled', 1), ('favours', 1), ('indignation', 1), ('misprizing', 1), ('yonder', 3), ('standing', 1), ('getting', 2), ('gentleman', 30), ('quirks', 1), ('met', 5), ('thitherward', 1), ('passport', 1), ('begotten', 1), ('dreadful', 1), ('prithee', 9), ('engrossest', 1), ('robb', 1), ('swiftest', 1), ('consenting', 1), ('hourly', 2), ('tainted', 1), ('corrupts', 1), ('inducement', 1), ('deal', 4), ('loses', 3), ('worthiest', 1), ('courtesies', 2), ('expose', 1), ('event', 1), ('non', 1), ('sparing', 1), ('drive', 2), ('smoky', 1), ('muskets', 1), ('leaden', 1), ('violent', 1), ('piecing', 1), ('piercing', 1), ('shoots', 1), ('caitiff', 1), ('effected', 3), ('ravin', 1), ('roar', 1), ('constraint', 3), ('hunger', 1), ('miseries', 1), ('wins', 1), ('scar', 4), ('fan', 2), ('offic', 1), ('rumour', 1), ('consolate', 1), ('trumpets', 4), ('promising', 2), ('prosperous', 1), ('helm', 3), ('auspicious', 1), ('file', 3), ('hater', 1), ('jaques', 5), ('pilgrim', 7), ('ambitious', 1), ('barefoot', 1), ('plod', 1), ('sainted', 1), ('amended', 1), ('fervour', 1), ('labours', 1), ('despiteful', 1), ('juno', 1), ('courtly', 1), ('camping', 1), ('dogs', 1), ('embrace', 1), ('mildest', 1), ('rinaldo', 2), ('letting', 1), ('diverted', 1), ('prevented', 2), ('ta', 1), ('reprieve', 1), ('wrath', 1), ('sharply', 1), ('convenient', 2), ('led', 2), ('tucket', 2), ('approach', 3), ('commander', 1), ('slew', 2), ('labour', 3), ('hark', 3), ('suffice', 1), ('earl', 2), ('solicited', 1), ('officer', 3), ('suggestions', 1), ('enticements', 1), ('tokens', 2), ('engines', 1), ('seduced', 1), ('misery', 1), ('terrible', 2), ('maidenhood', 1), ('succession', 2), ('limed', 1), ('twigs', 2), ('threatens', 1), ('le', 2), ('grand', 2), ('palmers', 1), ('lodge', 1), ('francis', 1), ('tarry', 1), ('troops', 2), ('lodg', 1), ('hostess', 1), ('countryman', 1), ('hears', 2), ('nobly', 3), ('surely', 1), ('coarsely', 1), ('repeated', 1), ('reserved', 1), ('examin', 1), ('detesting', 1), ('wheresoe', 1), ('sadly', 1), ('shrewd', 2), ('pleas', 2), ('amorous', 5), ('solicits', 1), ('unlawful', 2), ('brokes', 1), ('honestest', 1), ('army', 5), ('gods', 7), ('antonio', 1), ('eldest', 1), ('escalus', 1), ('plume', 1), ('gallant', 3), ('honester', 1), ('goodlier', 1), ('handsome', 2), ('yond', 1), ('rascal', 1), ('jack', 1), ('apes', 1), ('perchance', 3), ('shrewdly', 2), ('spied', 1), ('courtesy', 1), ('carrier', 1), ('host', 1), ('enjoin', 1), ('penitents', 1), ('matron', 1), ('thanking', 1), ('requite', 1), ('precepts', 1), ('6', 1), ('camp', 8), ('bubble', 1), ('direct', 2), ('malice', 2), ('kinsman', 1), ('notable', 1), ('breaker', 1), ('entertainment', 3), ('reposing', 1), ('trusty', 1), ('fetch', 4), ('confidently', 2), ('undertake', 5), ('suddenly', 1), ('surprise', 1), ('hoodwink', 2), ('carried', 2), ('leaguer', 1), ('adversaries', 1), ('tents', 1), ('examination', 1), ('highest', 1), ('compulsion', 1), ('oath', 4), ('stratagem', 3), ('lump', 1), ('ore', 1), ('melted', 1), ('john', 1), ('inclining', 1), ('hinder', 1), ('design', 1), ('sticks', 2), ('sorely', 1), ('disposition', 2), ('pox', 3), ('rend', 2), ('blam', 1), ('caesar', 66), ('greatly', 1), ('condemn', 2), ('dishonour', 1), ('attributed', 1), ('exact', 1), ('performer', 1), ('hic', 1), ('jacet', 1), ('mystery', 2), ('instrument', 2), ('magnanimous', 1), ('enterprise', 1), ('syllable', 1), ('slumber', 1), ('evening', 1), ('dilemmas', 1), ('encourage', 1), ('preparation', 1), ('midnight', 4), ('subscribe', 2), ('fish', 2), ('damns', 1), ('dares', 1), ('week', 1), ('escape', 1), ('discoveries', 1), ('address', 1), ('clap', 1), ('emboss', 1), ('smok', 1), ('disguise', 2), ('parted', 1), ('sprat', 1), ('caught', 2), ('lass', 1), ('coxcomb', 1), ('7', 1), ('businesses', 2), ('reputation', 6), ('staining', 1), ('borrow', 2), ('approves', 2), ('purse', 2), ('friendly', 1), ('important', 1), ('county', 1), ('downward', 1), ('succeeded', 1), ('descents', 1), ('repented', 2), ('appoints', 1), ('crowns', 1), ('yielded', 1), ('instruct', 2), ('persever', 2), ('deceit', 1), ('coherent', 1), ('musics', 1), ('steads', 1), ('eaves', 1), ('persists', 1), ('assay', 1), ('fact', 1), ('iv', 6), ('hedge', 2), ('corner', 1), ('sally', 1), ('interpreter', 5), ('linsey', 1), ('woolsey', 1), ('band', 3), ('adversary', 1), ('neighbouring', 1), ('languages', 1), ('choughs', 1), ('gabble', 1), ('couch', 1), ('beguile', 2), ('forges', 1), ('disgraces', 1), ('foolhardy', 1), ('daring', 1), ('recovery', 1), ('ignorant', 3), ('ones', 3), ('instance', 1), ('butterwoman', 1), ('bajazet', 1), ('mule', 1), ('prattle', 1), ('perils', 1), ('possible', 2), ('cutting', 1), ('breaking', 3), ('spanish', 1), ('baring', 1), ('stripp', 1), ('hardly', 2), ('swore', 1), ('citadel', 1), ('thirty', 2), ('fathom', 1), ('recover', 1), ('alarum', 2), ('throca', 1), ('movousus', 1), ('cargo', 7), ('villianda', 1), ('par', 1), ('corbo', 1), ('blindfold', 1), ('boskos', 3), ('thromuldo', 1), ('muskos', 1), ('dane', 1), ('dutch', 1), ('discover', 2), ('undo', 1), ('vauvado', 1), ('kerely', 1), ('bonto', 1), ('betake', 1), ('seventeen', 1), ('poniards', 1), ('manka', 1), ('revania', 1), ('dulche', 1), ('oscorbidulchos', 1), ('volivorco', 1), ('gather', 1), ('secrets', 2), ('purposes', 2), ('acordo', 1), ('linta', 1), ('granted', 1), ('guarded', 4), ('woodcock', 1), ('muffled', 2), ('safely', 2), ('lock', 1), ('fontibell', 1), ('titled', 1), ('barely', 1), ('prick', 1), ('jove', 3), ('attributes', 1), ('conditions', 3), ('unseal', 1), ('opinion', 2), ('integrity', 1), ('crafts', 1), ('recovers', 1), ('ropes', 1), ('scarre', 1), ('obloquy', 2), ('chastity', 2), ('proper', 3), ('champion', 1), ('conquer', 1), ('future', 1), ('sat', 3), ('braid', 1), ('cozen', 3), ('deliv', 1), ('chang', 1), ('shaking', 1), ('incurred', 1), ('everlasting', 1), ('perverted', 1), ('renown', 2), ('fleshes', 1), ('monumental', 1), ('unchaste', 1), ('rebellion', 2), ('merely', 1), ('treasons', 2), ('reveal', 1), ('attain', 1), ('abhorr', 1), ('contrives', 1), ('erflows', 2), ('damnable', 2), ('trumpeters', 1), ('company', 4), ('dieted', 1), ('apace', 2), ('gladly', 1), ('anatomiz', 1), ('curiously', 1), ('meddle', 1), ('whip', 1), ('meantime', 2), ('overture', 2), ('altogether', 2), ('pretence', 1), ('undertaking', 1), ('austere', 1), ('sanctimony', 1), ('accomplish', 1), ('residing', 3), ('tenderness', 1), ('became', 2), ('justified', 1), ('confirm', 1), ('rector', 1), ('confirmations', 1), ('arming', 1), ('verity', 1), ('heartily', 1), ('mightily', 3), ('acquir', 1), ('encount', 1), ('web', 1), ('mingled', 1), ('yarn', 1), ('crimes', 1), ('street', 3), ('offered', 1), ('needful', 2), ('tartness', 1), ('sixteen', 1), ('month', 1), ('apiece', 1), ('abstract', 2), ('congied', 1), ('nearest', 1), ('returning', 1), ('convoy', 2), ('parcels', 1), ('nicer', 1), ('difficulty', 1), ('departure', 2), ('hereafter', 2), ('dialogue', 1), ('module', 1), ('deceiv', 4), ('prophesier', 1), ('stocks', 4), ('usurping', 1), ('weeps', 1), ('wench', 2), ('milk', 1), ('morgan', 1), ('supposes', 1), ('confession', 1), ('hoodman', 1), ('portotartarossa', 1), ('tortures', 1), ('pinch', 1), ('pasty', 1), ('bosko', 1), ('chimurcho', 1), ('boblibindo', 1), ('chicurmurco', 1), ('merciful', 1), ('unserviceable', 1), ('scattered', 1), ('commanders', 1), ('rogues', 3), ('sacrament', 1), ('saving', 1), ('militarist', 1), ('chape', 1), ('dagger', 1), ('keeping', 2), ('neatly', 1), ('thereabouts', 1), ('con', 1), ('marvellous', 1), ('fifty', 4), ('sebastian', 1), ('corambus', 1), ('guiltian', 1), ('cosmo', 1), ('lodowick', 1), ('gratii', 1), ('chitopher', 1), ('vaumond', 1), ('bentii', 1), ('amounts', 1), ('poll', 1), ('cassocks', 1), ('condition', 1), ('dumain', 4), ('expertness', 2), ('weighing', 1), ('sums', 1), ('inter', 1), ('gatories', 1), ('singly', 1), ('botcher', 1), ('prentice', 1), ('shrieve', 1), ('innocent', 1), ('tile', 1), ('lousy', 1), ('pocket', 2), ('sadness', 1), ('excellently', 1), ('advertisement', 1), ('allurement', 1), ('ruttish', 1), ('behalf', 4), ('whale', 1), ('devours', 1), ('fry', 1), ('rogue', 1), ('scores', 2), ('debts', 1), ('mell', 1), ('forehead', 1), ('devoted', 1), ('manifold', 1), ('linguist', 1), ('amnipotent', 1), ('remainder', 1), ('dungeon', 1), ('anywhere', 1), ('egg', 1), ('cloister', 1), ('rapes', 1), ('ravishments', 1), ('nessus', 1), ('professes', 1), ('hercules', 1), ('volubility', 1), ('drunkenness', 1), ('swine', 1), ('bedclothes', 1), ('straw', 1), ('description', 2), ('tragedians', 1), ('belie', 1), ('ship', 1), ('mile', 1), ('doubling', 1), ('files', 2), ('villain', 1), ('villainy', 1), ('rarity', 1), ('redeems', 1), ('price', 4), ('cardecue', 2), ('salvation', 1), ('entail', 1), ('remainders', 1), ('perpetually', 1), ('excels', 1), ('reputed', 1), ('retreat', 1), ('outruns', 1), ('lackey', 1), ('cramp', 1), ('drumming', 1), ('drums', 2), ('supposition', 1), ('traitorously', 1), ('pestiferous', 1), ('headsman', 1), ('unmuffling', 1), ('sonnet', 1), ('compel', 1), ('impudent', 2), ('burst', 2), ('braggart', 2), ('rust', 1), ('safest', 1), ('gratitude', 1), ('flinty', 1), ('tartar', 1), ('duly', 1), ('hies', 1), ('aiding', 1), ('helper', 1), ('trusting', 1), ('defiles', 1), ('pitchy', 1), ('loathes', 1), ('instructions', 1), ('impositions', 1), ('briers', 1), ('waggon', 1), ('revives', 1), ('misled', 1), ('snipt', 1), ('taffeta', 1), ('villainous', 1), ('saffron', 1), ('unbak', 1), ('doughy', 1), ('advanc', 1), ('tail', 1), ('bee', 1), ('partaken', 1), ('owed', 1), ('rooted', 1), ('sallets', 1), ('herb', 2), ('sallet', 2), ('herbs', 2), ('nebuchadnezzar', 1), ('bauble', 1), ('fisnomy', 1), ('hotter', 1), ('alias', 2), ('woodland', 1), ('chill', 1), ('tricks', 4), ('unhappy', 1), ('sauciness', 1), ('moved', 1), ('minority', 1), ('propose', 1), ('conceived', 1), ('fitter', 1), ('happily', 2), ('post', 1), ('rejoices', 1), ('tal', 1), ('patch', 4), ('pile', 1), ('belike', 2), ('carbonado', 1), ('dozen', 1), ('delicate', 2), ('hats', 1), ('courteous', 3), ('nod', 1), ('exceeding', 2), ('requital', 1), ('unroot', 1), ('goaded', 1), ('occasions', 1), ('nice', 1), ('petition', 3), ('remov', 1), ('unfit', 1), ('inner', 1), ('familiarity', 1), ('muddied', 2), ('mood', 1), ('somewhat', 1), ('henceforth', 2), ('spake', 1), ('metaphor', 3), ('stink', 1), ('foh', 1), ('stool', 1), ('nobleman', 1), ('pur', 1), ('musk', 1), ('fishpond', 1), ('carp', 1), ('ingenious', 1), ('rascally', 1), ('distress', 1), ('similes', 1), ('cruelly', 1), ('scratch', 3), ('pare', 1), ('nails', 1), ('justices', 1), ('penny', 1), ('ha', 3), ('cox', 1), ('sooth', 1), ('inquire', 2), ('estimation', 1), ('blaze', 1), ('erbears', 1), ('burns', 1), ('forgiven', 1), ('revenges', 1), ('astonish', 1), ('richest', 1), ('reconcil', 1), ('repetition', 1), ('deeper', 1), ('incensing', 1), ('sunshine', 1), ('hail', 2), ('distracted', 1), ('blames', 1), ('inaudible', 1), ('noiseless', 1), ('stuck', 1), ('herald', 1), ('infixing', 1), ('warp', 1), ('prais', 2), ('offend', 1), ('excus', 1), ('strikes', 2), ('compt', 1), ('remorseful', 1), ('slowly', 1), ('trivial', 2), ('displeasures', 1), ('destroy', 1), ('shameful', 1), ('sleeps', 1), ('afternoon', 1), ('knell', 1), ('maudlin', 1), ('consents', 1), ('widower', 3), ('cesse', 1), ('digested', 2), ('sparkle', 1), ('fasten', 1), ('necessitied', 1), ('relieve', 1), ('craft', 1), ('reave', 1), ('stead', 1), ('pleases', 1), ('thrown', 1), ('wrapp', 2), ('engag', 1), ('subscrib', 1), ('fully', 2), ('ceas', 1), ('plutus', 1), ('tinct', 2), ('multiplying', 1), ('med', 2), ('cine', 2), ('science', 1), ('enforcement', 1), ('saints', 1), ('conjectural', 1), ('inhuman', 1), ('deadly', 3), ('guards', 1), ('seize', 1), ('proofs', 2), ('vanity', 1), ('sift', 1), ('husbanded', 1), ('dismal', 1), ('thinkings', 1), ('removes', 1), ('undertook', 1), ('vanquish', 1), ('thereto', 1), ('suppliant', 1), ('importing', 1), ('verbal', 1), ('concern', 3), ('protestations', 1), ('seducer', 1), ('flourishes', 1), ('capilet', 2), ('toll', 1), ('heavens', 2), ('discov', 1), ('suitors', 2), ('afeard', 1), ('foully', 1), ('snatch', 1), ('doers', 1), ('sith', 1), ('wives', 2), ('ancient', 1), ('embodied', 1), ('marries', 1), ('desp', 1), ('sink', 1), ('gamester', 1), ('validity', 1), ('parallel', 1), ('commoner', 1), ('preceding', 1), ('gem', 1), ('conferr', 1), ('loath', 1), ('quoted', 1), ('perfidious', 1), ('spots', 2), ('sickens', 1), ('utter', 3), ('lik', 1), ('boarded', 1), ('angle', 1), ('eagerness', 1), ('motives', 1), ('subdu', 1), ('market', 2), ('diet', 1), ('abed', 1), ('boggle', 1), ('feather', 1), ('starts', 1), ('equivocal', 1), ('naughty', 1), ('orator', 1), ('satan', 1), ('limbo', 1), ('furies', 1), ('motions', 1), ('evidence', 2), ('glove', 1), ('customer', 1), ('accus', 1), ('jeweller', 1), ('abus', 1), ('quit', 1), ('defil', 1), ('feels', 1), ('kick', 1), ('exorcist', 1), ('beguiles', 1), ('truer', 1), ('real', 1), ('doubly', 1), ('clearly', 1), ('divorce', 1), ('step', 1), ('onions', 1), ('handkercher', 1), ('curtsies', 1), ('beest', 1), ('uncropped', 1), ('resolvedly', 1), ('epilogue', 2), ('omnes', 1), ('philo', 2), ('dotage', 2), ('musters', 1), ('glow', 2), ('plated', 1), ('devotion', 1), ('tawny', 1), ('scuffles', 1), ('fights', 1), ('buckles', 1), ('reneges', 1), ('temper', 1), ('bellows', 1), ('gipsy', 1), ('antony', 108), ('cleopatra', 67), ('train', 3), ('fanning', 1), ('pillar', 1), ('transform', 1), ('beggary', 1), ('bourn', 1), ('belov', 2), ('rome', 13), ('grates', 1), ('fulvia', 18), ('bearded', 1), ('pow', 3), ('rful', 1), ('mandate', 1), ('enfranchise', 1), ('dismission', 1), ('egypt', 17), ('blushest', 1), ('homager', 1), ('shrill', 1), ('tongu', 1), ('scolds', 1), ('tiber', 1), ('melt', 1), ('arch', 1), ('rang', 1), ('dungy', 1), ('nobleness', 1), ('emhracing', 1), ('pair', 1), ('punishment', 1), ('weet', 1), ('peerless', 1), ('stirr', 1), ('conference', 1), ('fie', 1), ('admir', 2), ('wander', 1), ('streets', 2), ('people', 5), ('demetrius', 2), ('antonius', 2), ('priz', 1), ('alexandria', 5), ('charmian', 42), ('iras', 11), ('alexas', 24), ('soothsayer', 13), ('absolute', 2), ('garlands', 1), ('secrecy', 1), ('enobarbus', 43), ('foresee', 2), ('paint', 1), ('prescience', 1), ('attentive', 1), ('beloving', 1), ('liver', 1), ('drinking', 2), ('forenoon', 1), ('herod', 1), ('jewry', 1), ('homage', 1), ('octavius', 2), ('figs', 1), ('names', 1), ('wenches', 1), ('fertile', 1), ('witch', 1), ('sheets', 2), ('privy', 1), ('palm', 2), ('presages', 1), ('erflowing', 1), ('nilus', 2), ('presageth', 1), ('bedfellow', 1), ('soothsay', 1), ('oily', 1), ('fruitful', 1), ('prognostication', 1), ('worky', 1), ('inch', 2), ('isis', 5), ('fiftyfold', 1), ('prayer', 2), ('heartbreaking', 1), ('loose', 1), ('wiv', 1), ('uncuckolded', 1), ('decorum', 1), ('whores', 1), ('ld', 1), ('dispos', 1), ('mirth', 3), ('roman', 3), ('lucius', 1), ('jointing', 1), ('drave', 1), ('infects', 1), ('teller', 1), ('tale', 1), ('labienus', 1), ('stiff', 1), ('parthian', 1), ('asia', 1), ('euphrates', 1), ('conquering', 1), ('banner', 1), ('syria', 1), ('lydia', 1), ('ionia', 1), ('mince', 1), ('rail', 1), ('taunt', 1), ('earing', 1), ('sicyon', 3), ('egyptian', 2), ('fetters', 1), ('importeth', 1), ('contempts', 1), ('hurl', 1), ('opposite', 1), ('shov', 1), ('enchanting', 1), ('harms', 2), ('idleness', 5), ('hatch', 1), ('compelling', 1), ('occasion', 1), ('catching', 1), ('instantly', 1), ('mettle', 1), ('celerity', 1), ('finest', 1), ('storms', 1), ('almanacs', 1), ('r', 2), ('wonderful', 1), ('discredited', 1), ('sacrifice', 1), ('pleaseth', 1), ('deities', 1), ('tailors', 1), ('comforting', 1), ('robes', 1), ('members', 1), ('lamented', 1), ('consolation', 1), ('petticoat', 1), ('onion', 1), ('broached', 1), ('broach', 1), ('wholly', 1), ('abode', 1), ('notice', 1), ('expedience', 1), ('urgent', 1), ('contriving', 1), ('sextus', 2), ('pompeius', 2), ('slippery', 1), ('link', 1), ('deserver', 1), ('pompey', 19), ('dignities', 1), ('courser', 1), ('method', 1), ('tempt', 1), ('planted', 1), ('riotous', 1), ('entangled', 1), ('sued', 1), ('staying', 1), ('inches', 1), ('equality', 1), ('domestic', 1), ('scrupulous', 1), ('faction', 1), ('newly', 2), ('creeps', 1), ('thrived', 1), ('threaten', 1), ('quietness', 1), ('childishness', 1), ('garboils', 2), ('vials', 1), ('sorrowful', 1), ('quickens', 1), ('slime', 1), ('affects', 1), ('dissembling', 1), ('meetly', 1), ('target', 1), ('mends', 1), ('herculean', 1), ('carriage', 1), ('chafe', 1), ('royalty', 1), ('sweating', 1), ('becomings', 1), ('laurel', 1), ('victory', 1), ('smooth', 1), ('feet', 1), ('abides', 1), ('lepidus', 24), ('competitor', 1), ('fishes', 1), ('lamps', 1), ('manlike', 1), ('ptolemy', 2), ('womanly', 1), ('vouchsaf', 1), ('partners', 2), ('enow', 1), ('darken', 1), ('blackness', 1), ('hereditary', 1), ('purchas', 1), ('chooses', 1), ('indulgent', 1), ('tumble', 1), ('tippling', 1), ('reel', 1), ('noon', 1), ('buffet', 1), ('sweat', 1), ('composure', 1), ('blemish', 1), ('foils', 1), ('lightness', 1), ('vacancy', 2), ('voluptuousness', 1), ('surfeits', 1), ('dryness', 1), ('chid', 1), ('mature', 1), ('pawn', 1), ('biddings', 1), ('ports', 1), ('discontents', 1), ('primal', 1), ('ebb', 1), ('lackeying', 1), ('rot', 1), ('menecrates', 4), ('menas', 8), ('pirates', 1), ('keels', 1), ('inroads', 1), ('borders', 1), ('maritime', 1), ('flush', 1), ('resisted', 1), ('wassails', 1), ('modena', 1), ('hirtius', 1), ('pansa', 1), ('consuls', 1), ('daintily', 1), ('savages', 1), ('stale', 2), ('puddle', 1), ('beasts', 1), ('cough', 1), ('deign', 1), ('roughest', 1), ('berry', 1), ('rudest', 1), ('stag', 1), ('pasture', 1), ('barks', 1), ('alps', 1), ('wounds', 2), ('lank', 1), ('thrives', 1), ('stirs', 1), ('partaker', 1), ('mardian', 5), ('mandragora', 1), ('gap', 2), ('eunuch', 2), ('unseminar', 1), ('freer', 1), ('venus', 2), ('wot', 1), ('mov', 2), ('demi', 1), ('atlas', 1), ('burgonet', 1), ('murmuring', 1), ('nile', 1), ('delicious', 1), ('phoebus', 1), ('pinches', 1), ('wrinkled', 1), ('fronted', 2), ('morsel', 1), ('anchor', 1), ('unlike', 1), ('doubled', 1), ('orient', 1), ('oyster', 1), ('opulent', 1), ('nodded', 1), ('soberly', 1), ('mount', 2), ('gaunt', 1), ('beastly', 1), ('extremes', 1), ('mingle', 1), ('violence', 1), ('posts', 1), ('chok', 1), ('emphasis', 1), ('paragon', 1), ('salad', 1), ('unpeople', 1), ('messina', 1), ('assist', 1), ('justest', 1), ('rs', 1), ('crescent', 1), ('auguring', 1), ('gets', 1), ('flatters', 1), ('silvius', 1), ('charms', 1), ('soften', 1), ('wan', 1), ('witchcraft', 1), ('fuming', 1), ('epicurean', 1), ('cooks', 1), ('sharpen', 1), ('cloyless', 1), ('sauce', 1), ('prorogue', 1), ('lethe', 1), ('dullness', 1), ('varrius', 3), ('expected', 1), ('surfeiter', 1), ('donn', 1), ('rear', 1), ('stirring', 1), ('wearied', 1), ('trespasses', 1), ('warr', 1), ('enmities', 1), ('pregnant', 1), ('entertained', 1), ('cement', 1), ('divisions', 1), ('strongest', 1), ('jupiter', 1), ('wearer', 1), ('shave', 1), ('stomaching', 1), ('matters', 2), ('embers', 1), ('ventidius', 2), ('maecenas', 12), ('agrippa', 18), ('compose', 1), ('parthia', 1), ('combin', 1), ('leaner', 1), ('murder', 1), ('healing', 1), ('earnestly', 1), ('curstness', 1), ('arinies', 1), ('derogately', 1), ('practise', 1), ('practis', 1), ('befall', 1), ('contestation', 1), ('theme', 1), ('drew', 1), ('discredit', 1), ('laying', 1), ('excuses', 1), ('partner', 1), ('graceful', 1), ('snaffle', 1), ('uncurbable', 1), ('impatience', 1), ('shrewdness', 1), ('grieving', 1), ('disquiet', 1), ('wrote', 1), ('rioting', 1), ('taunts', 1), ('gibe', 1), ('missive', 1), ('feasted', 1), ('wipe', 1), ('article', 2), ('talks', 1), ('requir', 1), ('penitent', 1), ('stoop', 1), ('atone', 1), ('worthily', 2), ('wrangle', 1), ('considerate', 1), ('dislike', 1), ('diff', 1), ('hoop', 1), ('stanch', 1), ('octavia', 4), ('reproof', 1), ('rashness', 1), ('brothers', 2), ('unslipping', 1), ('jealousies', 1), ('dangers', 1), ('tales', 2), ('studied', 1), ('ruminated', 1), ('fairly', 1), ('govern', 1), ('misenum', 1), ('gladness', 1), ('invite', 1), ('boars', 1), ('roasted', 1), ('breakfast', 1), ('twelve', 1), ('noting', 1), ('purs', 1), ('cydnus', 1), ('reporter', 1), ('devis', 1), ('barge', 2), ('burnish', 1), ('poop', 1), ('sails', 1), ('oars', 1), ('flutes', 1), ('stroke', 1), ('strokes', 1), ('cloth', 1), ('tissue', 1), ('erpicturing', 1), ('dimpled', 1), ('cupids', 1), ('fans', 1), ('undid', 1), ('gentlewomen', 1), ('nereides', 1), ('mermaids', 1), ('adornings', 1), ('mermaid', 1), ('steers', 1), ('silken', 1), ('tackle', 1), ('yarely', 1), ('invisible', 1), ('perfume', 1), ('adjacent', 1), ('wharfs', 1), ('enthron', 1), ('whistling', 1), ('landing', 1), ('supper', 1), ('replied', 1), ('entreated', 1), ('ordinary', 1), ('ploughed', 1), ('cropp', 1), ('forty', 1), ('paces', 1), ('panted', 1), ('breathless', 1), ('utterly', 1), ('custom', 1), ('variety', 1), ('cloy', 1), ('appetites', 1), ('satisfies', 1), ('priests', 1), ('riggish', 1)])"
      ]
     },
     "execution_count": 30,
     "metadata": {},
     "output_type": "execute_result"
    }
   ],
   "source": [
    "word_count_dict.items()"
   ]
  },
  {
   "cell_type": "code",
   "execution_count": 8,
   "metadata": {},
   "outputs": [],
   "source": [
    "# UNQ_C3 GRADED FUNCTION: get_probs\n",
    "def get_probs(word_count_dict):\n",
    "    '''\n",
    "    Input:\n",
    "        word_count_dict: The wordcount dictionary where key is the word and value is its frequency.\n",
    "    Output:\n",
    "        probs: A dictionary where keys are the words and the values are the probability that a word will occur. \n",
    "    '''\n",
    "    probs = {}  # return this variable correctly\n",
    "    \n",
    "    ### START CODE HERE ###\n",
    "    \n",
    "    # get the total count of words for all words in the dictionary\n",
    "    count_total_words = sum(word_count_dict.values())\n",
    "    \n",
    "    # method 1 using dict.items()\n",
    "    for item in word_count_dict.items():\n",
    "        word, count = item      # use this instead of 'for word, count in item:'\n",
    "        probs[word] = count/count_total_words\n",
    "    \n",
    "    # method 2 using dict.keys()\n",
    "    # for word in word_count_dict.keys():\n",
    "    #    probs[word] = word_count_dict[word] / count_total_words\n",
    "    \n",
    "    \n",
    "    ### END CODE HERE ###\n",
    "    return probs"
   ]
  },
  {
   "cell_type": "code",
   "execution_count": 9,
   "metadata": {
    "scrolled": true
   },
   "outputs": [
    {
     "name": "stdout",
     "output_type": "stream",
     "text": [
      "Length of probs is 6116\n",
      "P('thee') is 0.0045\n"
     ]
    }
   ],
   "source": [
    "#DO NOT MODIFY THIS CELL\n",
    "probs = get_probs(word_count_dict)\n",
    "print(f\"Length of probs is {len(probs)}\")\n",
    "print(f\"P('thee') is {probs['thee']:.4f}\")"
   ]
  },
  {
   "cell_type": "markdown",
   "metadata": {},
   "source": [
    "#### Expected Output\n",
    "\n",
    "```Python\n",
    "Length of probs is 6116\n",
    "P('thee') is 0.0045\n",
    "```"
   ]
  },
  {
   "cell_type": "code",
   "execution_count": 10,
   "metadata": {
    "scrolled": true
   },
   "outputs": [
    {
     "name": "stdout",
     "output_type": "stream",
     "text": [
      "\u001b[92m All tests passed\n"
     ]
    }
   ],
   "source": [
    "# Test your function\n",
    "w1_unittest.test_get_probs(get_probs, word_count_dict)"
   ]
  },
  {
   "cell_type": "markdown",
   "metadata": {},
   "source": [
    "<a name='2'></a>\n",
    "# Part 2: String Manipulations\n",
    "\n",
    "Now that you have computed $P(w_i)$ for all the words in the corpus, you will write a few functions to manipulate strings so that you can edit the erroneous strings and return the right spellings of the words. In this section, you will implement four functions: \n",
    "\n",
    "* `delete_letter`: given a word, it returns all the possible strings that have **one character removed**. \n",
    "* `switch_letter`: given a word, it returns all the possible strings that have **two adjacent letters switched**.\n",
    "* `replace_letter`: given a word, it returns all the possible strings that have **one character replaced by another different letter**.\n",
    "* `insert_letter`: given a word, it returns all the possible strings that have an **additional character inserted**. \n"
   ]
  },
  {
   "cell_type": "markdown",
   "metadata": {},
   "source": [
    "#### List comprehensions\n",
    "\n",
    "String and list manipulation in python will often make use of a python feature called  [list comprehensions](https://docs.python.org/3/tutorial/datastructures.html#list-comprehensions). The routines below will be described as using list comprehensions, but if you would rather implement them in another way, you are free to do so as long as the result is the same. Further, the following section will provide detailed instructions on how to use list comprehensions and how to implement the desired functions. If you are a python expert, feel free to skip the python hints and move to implementing the routines directly."
   ]
  },
  {
   "cell_type": "markdown",
   "metadata": {},
   "source": [
    "Python List Comprehensions embed a looping structure inside of a list declaration, collapsing many lines of code into a single line. If you are not familiar with them, they seem slightly out of order relative to for loops. "
   ]
  },
  {
   "cell_type": "markdown",
   "metadata": {},
   "source": [
    "<div style=\"width:image width px; font-size:100%; text-align:center;\"><img src='images/GenericListComp3.PNG' alt=\"alternate text\" width=\"width\" height=\"height\"  style=\"width:800px;height:400px;\"/> Figure 2 </div>"
   ]
  },
  {
   "cell_type": "markdown",
   "metadata": {},
   "source": [
    "The diagram above shows that the components of a list comprehension are the same components you would find in a typical for loop that appends to a list, but in a different order. With that in mind, we'll continue the specifics of this assignment. We will be very descriptive for the first function, `deletes()`, and less so in later functions as you become familiar with list comprehensions."
   ]
  },
  {
   "cell_type": "markdown",
   "metadata": {},
   "source": [
    "<a name='ex-4'></a>\n",
    "### Exercise 4\n",
    "\n",
    "**Instructions for delete_letter():** Implement a `delete_letter()` function that, given a word, returns a list of strings with one character deleted. \n",
    "\n",
    "For example, given the word **nice**, it would return the set: {'ice', 'nce', 'nic', 'nie'}. \n",
    "\n",
    "**Step 1:** Create a list of 'splits'. This is all the ways you can split a word into Left and Right: For example,   \n",
    "'nice is split into : `[('', 'nice'), ('n', 'ice'), ('ni', 'ce'), ('nic', 'e'), ('nice', '')]`\n",
    "This is common to all four functions (delete, replace, switch, insert).\n"
   ]
  },
  {
   "cell_type": "markdown",
   "metadata": {},
   "source": [
    "<div style=\"width:image width px; font-size:100%; text-align:center;\"><img src='images/Splits1.PNG' alt=\"alternate text\" width=\"width\" height=\"height\" style=\"width:650px;height:200px;\" /> Figure 3 </div>"
   ]
  },
  {
   "cell_type": "markdown",
   "metadata": {},
   "source": [
    "**Step 2:** This is specific to `delete_letter`. Here, we are generating all words that result from deleting one character.  \n",
    "This can be done in a single line with a list comprehension. You can make use of this type of syntax:  \n",
    "`[f(a,b) for a, b in splits if condition]`  \n",
    "\n",
    "For our 'nice' example you get: \n",
    "['ice', 'nce', 'nie', 'nic']"
   ]
  },
  {
   "cell_type": "markdown",
   "metadata": {},
   "source": [
    "<div style=\"width:image width px; font-size:100%; text-align:center;\"><img src='images/ListComp2.PNG' alt=\"alternate text\" width=\"width\" height=\"height\" style=\"width:550px;height:300px;\" /> Figure 4 </div>"
   ]
  },
  {
   "cell_type": "markdown",
   "metadata": {},
   "source": [
    "#### Levels of assistance\n",
    "\n",
    "Try this exercise with these levels of assistance.  \n",
    "- We hope that this will make it both a meaningful experience but also not a frustrating experience. \n",
    "- Start with level 1, then move onto level 2, and 3 as needed.\n",
    "\n",
    "    - Level 1. Try to think this through and implement this yourself.\n",
    "    - Level 2. Click on the \"Level 2 Hints\" section for some hints to get started.\n",
    "    - Level 3. If you would prefer more guidance, please click on the \"Level 3 Hints\" cell for step by step instructions.\n",
    "    \n",
    "- If you are still stuck, look at the images in the \"list comprehensions\" section above.\n"
   ]
  },
  {
   "cell_type": "markdown",
   "metadata": {},
   "source": [
    "<details>    \n",
    "<summary>\n",
    "    <font size=\"3\" color=\"darkgreen\"><b>Level 2 Hints</b></font>\n",
    "</summary>\n",
    "<p>\n",
    "<ul>\n",
    "    <li><a href=\"\" > Use array slicing like my_string[0:2] </a> </li>\n",
    "    <li><a href=\"\" > Use list comprehensions or for loops </a> </li>\n",
    "</ul>\n",
    "</p>\n"
   ]
  },
  {
   "cell_type": "markdown",
   "metadata": {},
   "source": [
    "<details>    \n",
    "<summary>\n",
    "    <font size=\"3\" color=\"darkgreen\"><b>Level 3 Hints</b></font>\n",
    "</summary>\n",
    "<p>\n",
    "<ul>\n",
    "    <li>splits: Use array slicing, like my_str[0:2], to separate a string into two pieces.</li>\n",
    "    <li>Do this in a loop or list comprehension, so that you have a list of tuples.\n",
    "    <li> For example, \"cake\" can get split into \"ca\" and \"ke\". They're stored in a tuple (\"ca\",\"ke\"), and the tuple is appended to a list.  We'll refer to these as L and R, so the tuple is (L,R)</li>\n",
    "    <li>When choosing the range for your loop, if you input the word \"cans\" and generate the tuple  ('cans',''), make sure to include an if statement to check the length of that right-side string (R) in the tuple (L,R) </li>\n",
    "    <li>deletes: Go through the list of tuples and combine the two strings together. You can use the + operator to combine two strings</li>\n",
    "    <li>When combining the tuples, make sure that you leave out a middle character.</li>\n",
    "    <li>Use array slicing to leave out the first character of the right substring.</li>\n",
    "</ul>\n",
    "</p>"
   ]
  },
  {
   "cell_type": "code",
   "execution_count": 11,
   "metadata": {},
   "outputs": [],
   "source": [
    "# UNIT TEST COMMENT: Candidate for Table Driven Tests\n",
    "# UNQ_C4 GRADED FUNCTION: deletes\n",
    "def delete_letter(word, verbose=False):\n",
    "    '''\n",
    "    Input:\n",
    "        word: the string/word for which you will generate all possible words \n",
    "                in the vocabulary which have 1 missing character\n",
    "    Output:\n",
    "        delete_l: a list of all possible strings obtained by deleting 1 character from word\n",
    "    '''\n",
    "    \n",
    "    delete_l = []\n",
    "    split_l = []\n",
    "    \n",
    "    ### START CODE HERE ###\n",
    "    # split the word into Left and Right tuple combos\n",
    "    # with each tuple successively moving 1 character from the Right to the Left string\n",
    "    split_l = [(word[:i], word[i:]) for i in range(len(word) + 1)]\n",
    "    delete_l = [L + R[1:] for L, R in split_l if R]\n",
    "    \n",
    "    ### END CODE HERE ###\n",
    "\n",
    "    if verbose: print(f\"input word {word}, \\nsplit_l = {split_l}, \\ndelete_l = {delete_l}\")\n",
    "\n",
    "    return  delete_l"
   ]
  },
  {
   "cell_type": "code",
   "execution_count": 12,
   "metadata": {
    "scrolled": true
   },
   "outputs": [
    {
     "name": "stdout",
     "output_type": "stream",
     "text": [
      "input word cans, \n",
      "split_l = [('', 'cans'), ('c', 'ans'), ('ca', 'ns'), ('can', 's'), ('cans', '')], \n",
      "delete_l = ['ans', 'cns', 'cas', 'can']\n"
     ]
    }
   ],
   "source": [
    "delete_word_l = delete_letter(word=\"cans\",\n",
    "                        verbose=True)"
   ]
  },
  {
   "cell_type": "markdown",
   "metadata": {},
   "source": [
    "#### Expected Output\n",
    "```CPP\n",
    "Note: You might get a slightly different result with split_l\n",
    "\n",
    "input word cans, \n",
    "split_l = [('', 'cans'), ('c', 'ans'), ('ca', 'ns'), ('can', 's')], \n",
    "delete_l = ['ans', 'cns', 'cas', 'can']\n",
    "```"
   ]
  },
  {
   "cell_type": "markdown",
   "metadata": {},
   "source": [
    "#### Note 1\n",
    "- Notice how it has the extra tuple `('cans', '')`.\n",
    "- This will be fine as long as you have checked the size of the right-side substring in tuple (L,R).\n",
    "- Can you explain why this will give you the same result for the list of deletion strings (delete_l)?\n",
    "\n",
    "```CPP\n",
    "input word cans, \n",
    "split_l = [('', 'cans'), ('c', 'ans'), ('ca', 'ns'), ('can', 's'), ('cans', '')], \n",
    "delete_l = ['ans', 'cns', 'cas', 'can']\n",
    "```"
   ]
  },
  {
   "cell_type": "raw",
   "metadata": {},
   "source": [
    "In the last tuple ('cans', ''), right side string is null or ''. So the 'IF statement' in the delete_l list comprehension in the delete_letter function evaluates the 'IF R' condition to be False, and not return the resulting expression for that tuple.\n"
   ]
  },
  {
   "cell_type": "markdown",
   "metadata": {},
   "source": [
    "#### Note 2\n",
    "If you end up getting the same word as your input word, like this:\n",
    "\n",
    "```Python\n",
    "input word cans, \n",
    "split_l = [('', 'cans'), ('c', 'ans'), ('ca', 'ns'), ('can', 's'), ('cans', '')], \n",
    "delete_l = ['ans', 'cns', 'cas', 'can', 'cans']\n",
    "```\n",
    "\n",
    "- Check how you set the `range`.\n",
    "- See if you check the length of the string on the right-side of the split."
   ]
  },
  {
   "cell_type": "code",
   "execution_count": 13,
   "metadata": {},
   "outputs": [
    {
     "name": "stdout",
     "output_type": "stream",
     "text": [
      "Number of outputs of delete_letter('at') is 2\n"
     ]
    }
   ],
   "source": [
    "# test # 2\n",
    "print(f\"Number of outputs of delete_letter('at') is {len(delete_letter('at'))}\")"
   ]
  },
  {
   "cell_type": "markdown",
   "metadata": {},
   "source": [
    "#### Expected output\n",
    "\n",
    "```CPP\n",
    "Number of outputs of delete_letter('at') is 2\n",
    "```"
   ]
  },
  {
   "cell_type": "code",
   "execution_count": 14,
   "metadata": {
    "scrolled": true
   },
   "outputs": [
    {
     "name": "stdout",
     "output_type": "stream",
     "text": [
      "\u001b[92m All tests passed\n"
     ]
    }
   ],
   "source": [
    "# Test your function\n",
    "w1_unittest.test_delete_letter(delete_letter)"
   ]
  },
  {
   "cell_type": "markdown",
   "metadata": {},
   "source": [
    "<a name='ex-5'></a>\n",
    "### Exercise 5\n",
    "\n",
    "**Instructions for switch_letter()**: Now implement a function that switches two letters in a word. It takes in a word and returns a list of all the possible switches of two letters **that are adjacent to each other**. \n",
    "- For example, given the word 'eta', it returns {'eat', 'tea'}, but does not return 'ate'.\n",
    "\n",
    "**Step 1:** is the same as in delete_letter()  \n",
    "**Step 2:** A list comprehension or for loop which forms strings by swapping adjacent letters. This is of the form:  \n",
    "`[f(L,R) for L, R in splits if condition]`  where 'condition' will test the length of R in a given iteration. See below."
   ]
  },
  {
   "cell_type": "markdown",
   "metadata": {},
   "source": [
    "<div style=\"width:image width px; font-size:100%; text-align:center;\"><img src='images/Switches1.PNG' alt=\"alternate text\" width=\"width\" height=\"height\" style=\"width:600px;height:200px;\"/> Figure 5 </div>      "
   ]
  },
  {
   "cell_type": "markdown",
   "metadata": {},
   "source": [
    "#### Levels of difficulty\n",
    "\n",
    "Try this exercise with these levels of difficulty.  \n",
    "- Level 1. Try to think this through and implement this yourself.\n",
    "- Level 2. Click on the \"Level 2 Hints\" section for some hints to get started.\n",
    "- Level 3. If you would prefer more guidance, please click on the \"Level 3 Hints\" cell for step by step instructions."
   ]
  },
  {
   "cell_type": "markdown",
   "metadata": {},
   "source": [
    "<details>    \n",
    "<summary>\n",
    "    <font size=\"3\" color=\"darkgreen\"><b>Level 2 Hints</b></font>\n",
    "</summary>\n",
    "<p>\n",
    "<ul>\n",
    "    <li><a href=\"\" > Use array slicing like my_string[0:2] </a> </li>\n",
    "    <li><a href=\"\" > Use list comprehensions or for loops </a> </li>\n",
    "    <li>To do a switch, think of the whole word as divided into 4 distinct parts.  Write out 'cupcakes' on a piece of paper and see how you can split it into ('cupc', 'k', 'a', 'es')</li>\n",
    "</ul>\n",
    "</p>\n"
   ]
  },
  {
   "cell_type": "markdown",
   "metadata": {},
   "source": [
    "<details>    \n",
    "<summary>\n",
    "    <font size=\"3\" color=\"darkgreen\"><b>Level 3 Hints</b></font>\n",
    "</summary>\n",
    "<p>\n",
    "<ul>\n",
    "    <li>splits: Use array slicing, like my_str[0:2], to separate a string into two pieces.</li>\n",
    "    <li>Splitting is the same as for delete_letter</li>\n",
    "    <li>To perform the switch, go through the list of tuples and combine four strings together. You can use the + operator to combine strings</li>\n",
    "    <li>The four strings will be the left substring from the split tuple, followed by the first (index 1) character of the right substring, then the zero-th character (index 0) of the right substring, and then the remaining part of the right substring.</li>\n",
    "    <li>Unlike delete_letter, you will want to check that your right substring is at least a minimum length.  To see why, review the previous hint bullet point (directly before this one).</li>\n",
    "</ul>\n",
    "</p>"
   ]
  },
  {
   "cell_type": "code",
   "execution_count": 15,
   "metadata": {
    "lines_to_end_of_cell_marker": 2
   },
   "outputs": [],
   "source": [
    "# UNIT TEST COMMENT: Candidate for Table Driven Tests\n",
    "# UNQ_C5 GRADED FUNCTION: switches\n",
    "def switch_letter(word, verbose=False):\n",
    "    '''\n",
    "    Input:\n",
    "        word: input string\n",
    "     Output:\n",
    "        switches: a list of all possible strings with one adjacent charater switched\n",
    "    ''' \n",
    "    \n",
    "    switch_l = []\n",
    "    split_l = []\n",
    "    \n",
    "    ### START CODE HERE ###\n",
    "    split_l = [(word[:i], word[i:]) for i in range(len(word) + 1)]\n",
    "    switch_l = [L + R[1] + R[0] + R[2:] for L, R in split_l if len(R)>1]\n",
    "    \n",
    "    ### END CODE HERE ###\n",
    "    \n",
    "    if verbose: print(f\"Input word = {word} \\nsplit_l = {split_l} \\nswitch_l = {switch_l}\") \n",
    "    \n",
    "    return switch_l"
   ]
  },
  {
   "cell_type": "code",
   "execution_count": 16,
   "metadata": {},
   "outputs": [
    {
     "name": "stdout",
     "output_type": "stream",
     "text": [
      "Input word = eta \n",
      "split_l = [('', 'eta'), ('e', 'ta'), ('et', 'a'), ('eta', '')] \n",
      "switch_l = ['tea', 'eat']\n"
     ]
    }
   ],
   "source": [
    "switch_word_l = switch_letter(word=\"eta\",\n",
    "                         verbose=True)"
   ]
  },
  {
   "cell_type": "markdown",
   "metadata": {},
   "source": [
    "#### Expected output\n",
    "\n",
    "```Python\n",
    "Input word = eta \n",
    "split_l = [('', 'eta'), ('e', 'ta'), ('et', 'a')] \n",
    "switch_l = ['tea', 'eat']\n",
    "```"
   ]
  },
  {
   "cell_type": "markdown",
   "metadata": {},
   "source": [
    "#### Note 1\n",
    "\n",
    "You may get this:\n",
    "```Python\n",
    "Input word = eta \n",
    "split_l = [('', 'eta'), ('e', 'ta'), ('et', 'a'), ('eta', '')] \n",
    "switch_l = ['tea', 'eat']\n",
    "```\n",
    "- Notice how it has the extra tuple `('eta', '')`.\n",
    "- This is also correct.\n",
    "- Can you think of why this is the case?"
   ]
  },
  {
   "cell_type": "markdown",
   "metadata": {},
   "source": [
    "#### Note 2\n",
    "\n",
    "If you get an error\n",
    "```Python\n",
    "IndexError: string index out of range\n",
    "```\n",
    "- Please see if you have checked the length of the strings when switching characters."
   ]
  },
  {
   "cell_type": "code",
   "execution_count": 17,
   "metadata": {},
   "outputs": [
    {
     "name": "stdout",
     "output_type": "stream",
     "text": [
      "Number of outputs of switch_letter('at') is 1\n"
     ]
    }
   ],
   "source": [
    "# test # 2\n",
    "print(f\"Number of outputs of switch_letter('at') is {len(switch_letter('at'))}\")"
   ]
  },
  {
   "cell_type": "markdown",
   "metadata": {},
   "source": [
    "#### Expected output\n",
    "\n",
    "```CPP\n",
    "Number of outputs of switch_letter('at') is 1\n",
    "```"
   ]
  },
  {
   "cell_type": "code",
   "execution_count": 18,
   "metadata": {},
   "outputs": [
    {
     "name": "stdout",
     "output_type": "stream",
     "text": [
      "\u001b[92m All tests passed\n"
     ]
    }
   ],
   "source": [
    "# Test your function\n",
    "w1_unittest.test_switch_letter(switch_letter)"
   ]
  },
  {
   "cell_type": "markdown",
   "metadata": {},
   "source": [
    "<a name='ex-6'></a>\n",
    "### Exercise 6\n",
    "**Instructions for replace_letter()**: Now implement a function that takes in a word and returns a list of strings with one **replaced letter** from the original word. \n",
    "\n",
    "**Step 1:** is the same as in `delete_letter()`\n",
    "\n",
    "**Step 2:** A list comprehension or for loop which form strings by replacing letters.  This can be of the form:  \n",
    "`[f(a,b,c) for a, b in splits if condition for c in string]`   Note the use of the second for loop.  \n",
    "It is expected in this routine that one or more of the replacements will include the original word. For example, replacing the first letter of 'ear' with 'e' will return 'ear'.\n",
    "\n",
    "**Step 3:** Remove the original input letter from the output."
   ]
  },
  {
   "cell_type": "markdown",
   "metadata": {},
   "source": [
    "<details>    \n",
    "<summary>\n",
    "    <font size=\"3\" color=\"darkgreen\"><b>Hints</b></font>\n",
    "</summary>\n",
    "<p>\n",
    "<ul>\n",
    "    <li>To remove a word from a list, first store its contents inside a set()</li>\n",
    "    <li>Use set.discard('the_word') to remove a word in a set.  Using set.remove('the_word') throws a KeyError if the word does not exist in the set. </li>\n",
    "</ul>\n",
    "</p>\n"
   ]
  },
  {
   "cell_type": "code",
   "execution_count": 19,
   "metadata": {},
   "outputs": [],
   "source": [
    "# UNIT TEST COMMENT: Candidate for Table Driven Tests\n",
    "# UNQ_C6 GRADED FUNCTION: replaces\n",
    "def replace_letter(word, verbose=False):\n",
    "    '''\n",
    "    Input:\n",
    "        word: the input string/word \n",
    "    Output:\n",
    "        replaces: a list of all possible strings where we replaced one letter from the original word. \n",
    "    ''' \n",
    "    \n",
    "    letters = 'abcdefghijklmnopqrstuvwxyz'\n",
    "    \n",
    "    replace_l = []\n",
    "    split_l = []\n",
    "    \n",
    "    ### START CODE HERE ###\n",
    "    split_l = [(word[:i], word[i:]) for i in range(len(word) +1)]\n",
    "    replace_set = [L+letter+R[1:] for L, R in split_l if len(R) > 0 for letter in letters]\n",
    "    replace_set = set(replace_set)\n",
    "    \n",
    "    # remove original word from the 'set of alternative/replaced words'\n",
    "    replace_set.discard(word)\n",
    "    \n",
    "    ### END CODE HERE ###\n",
    "    \n",
    "    # turn the set back into a list and sort it, for easier viewing\n",
    "    replace_l = sorted(list(replace_set))\n",
    "    \n",
    "    if verbose: print(f\"Input word = {word} \\nsplit_l = {split_l} \\nreplace_l {replace_l}\")   \n",
    "    \n",
    "    return replace_l"
   ]
  },
  {
   "cell_type": "code",
   "execution_count": 28,
   "metadata": {},
   "outputs": [
    {
     "name": "stdout",
     "output_type": "stream",
     "text": [
      "Input word = can \n",
      "split_l = [('', 'can'), ('c', 'an'), ('ca', 'n'), ('can', '')] \n",
      "replace_l ['aan', 'ban', 'caa', 'cab', 'cac', 'cad', 'cae', 'caf', 'cag', 'cah', 'cai', 'caj', 'cak', 'cal', 'cam', 'cao', 'cap', 'caq', 'car', 'cas', 'cat', 'cau', 'cav', 'caw', 'cax', 'cay', 'caz', 'cbn', 'ccn', 'cdn', 'cen', 'cfn', 'cgn', 'chn', 'cin', 'cjn', 'ckn', 'cln', 'cmn', 'cnn', 'con', 'cpn', 'cqn', 'crn', 'csn', 'ctn', 'cun', 'cvn', 'cwn', 'cxn', 'cyn', 'czn', 'dan', 'ean', 'fan', 'gan', 'han', 'ian', 'jan', 'kan', 'lan', 'man', 'nan', 'oan', 'pan', 'qan', 'ran', 'san', 'tan', 'uan', 'van', 'wan', 'xan', 'yan', 'zan']\n"
     ]
    }
   ],
   "source": [
    "replace_l = replace_letter(word='can',\n",
    "                              verbose=True)"
   ]
  },
  {
   "cell_type": "markdown",
   "metadata": {},
   "source": [
    "#### Expected Output**: \n",
    "```Python\n",
    "Input word = can \n",
    "split_l = [('', 'can'), ('c', 'an'), ('ca', 'n')] \n",
    "replace_l ['aan', 'ban', 'caa', 'cab', 'cac', 'cad', 'cae', 'caf', 'cag', 'cah', 'cai', 'caj', 'cak', 'cal', 'cam', 'cao', 'cap', 'caq', 'car', 'cas', 'cat', 'cau', 'cav', 'caw', 'cax', 'cay', 'caz', 'cbn', 'ccn', 'cdn', 'cen', 'cfn', 'cgn', 'chn', 'cin', 'cjn', 'ckn', 'cln', 'cmn', 'cnn', 'con', 'cpn', 'cqn', 'crn', 'csn', 'ctn', 'cun', 'cvn', 'cwn', 'cxn', 'cyn', 'czn', 'dan', 'ean', 'fan', 'gan', 'han', 'ian', 'jan', 'kan', 'lan', 'man', 'nan', 'oan', 'pan', 'qan', 'ran', 'san', 'tan', 'uan', 'van', 'wan', 'xan', 'yan', 'zan']\n",
    "```\n",
    "- Note how the input word 'can' should not be one of the output words."
   ]
  },
  {
   "cell_type": "markdown",
   "metadata": {},
   "source": [
    "#### Note 1\n",
    "If you get something like this:\n",
    "\n",
    "```Python\n",
    "Input word = can \n",
    "split_l = [('', 'can'), ('c', 'an'), ('ca', 'n'), ('can', '')] \n",
    "replace_l ['aan', 'ban', 'caa', 'cab', 'cac', 'cad', 'cae', 'caf', 'cag', 'cah', 'cai', 'caj', 'cak', 'cal', 'cam', 'cao', 'cap', 'caq', 'car', 'cas', 'cat', 'cau', 'cav', 'caw', 'cax', 'cay', 'caz', 'cbn', 'ccn', 'cdn', 'cen', 'cfn', 'cgn', 'chn', 'cin', 'cjn', 'ckn', 'cln', 'cmn', 'cnn', 'con', 'cpn', 'cqn', 'crn', 'csn', 'ctn', 'cun', 'cvn', 'cwn', 'cxn', 'cyn', 'czn', 'dan', 'ean', 'fan', 'gan', 'han', 'ian', 'jan', 'kan', 'lan', 'man', 'nan', 'oan', 'pan', 'qan', 'ran', 'san', 'tan', 'uan', 'van', 'wan', 'xan', 'yan', 'zan']\n",
    "```\n",
    "- Notice how split_l has an extra tuple `('can', '')`, but the output is still the same, so this is okay."
   ]
  },
  {
   "cell_type": "markdown",
   "metadata": {},
   "source": [
    "#### Note 2\n",
    "If you get something like this:\n",
    "```Python\n",
    "Input word = can \n",
    "split_l = [('', 'can'), ('c', 'an'), ('ca', 'n'), ('can', '')] \n",
    "replace_l ['aan', 'ban', 'caa', 'cab', 'cac', 'cad', 'cae', 'caf', 'cag', 'cah', 'cai', 'caj', 'cak', 'cal', 'cam', 'cana', 'canb', 'canc', 'cand', 'cane', 'canf', 'cang', 'canh', 'cani', 'canj', 'cank', 'canl', 'canm', 'cann', 'cano', 'canp', 'canq', 'canr', 'cans', 'cant', 'canu', 'canv', 'canw', 'canx', 'cany', 'canz', 'cao', 'cap', 'caq', 'car', 'cas', 'cat', 'cau', 'cav', 'caw', 'cax', 'cay', 'caz', 'cbn', 'ccn', 'cdn', 'cen', 'cfn', 'cgn', 'chn', 'cin', 'cjn', 'ckn', 'cln', 'cmn', 'cnn', 'con', 'cpn', 'cqn', 'crn', 'csn', 'ctn', 'cun', 'cvn', 'cwn', 'cxn', 'cyn', 'czn', 'dan', 'ean', 'fan', 'gan', 'han', 'ian', 'jan', 'kan', 'lan', 'man', 'nan', 'oan', 'pan', 'qan', 'ran', 'san', 'tan', 'uan', 'van', 'wan', 'xan', 'yan', 'zan']\n",
    "```\n",
    "- Notice how there are strings that are 1 letter longer than the original word, such as `cana`.\n",
    "- Please check for the case when there is an empty string `''`, and if so, do not use that empty string when setting replace_l."
   ]
  },
  {
   "cell_type": "code",
   "execution_count": 20,
   "metadata": {},
   "outputs": [
    {
     "name": "stdout",
     "output_type": "stream",
     "text": [
      "Number of outputs of replace_letter('at') is 50\n"
     ]
    }
   ],
   "source": [
    "# test # 2\n",
    "print(f\"Number of outputs of replace_letter('at') is {len(replace_letter('at'))}\")"
   ]
  },
  {
   "cell_type": "markdown",
   "metadata": {},
   "source": [
    "#### Expected output\n",
    "```CPP\n",
    "Number of outputs of replace_letter('at') is 50\n",
    "```"
   ]
  },
  {
   "cell_type": "code",
   "execution_count": 21,
   "metadata": {
    "scrolled": true
   },
   "outputs": [
    {
     "name": "stdout",
     "output_type": "stream",
     "text": [
      "\u001b[92m All tests passed\n"
     ]
    }
   ],
   "source": [
    "# Test your function\n",
    "w1_unittest.test_replace_letter(replace_letter)"
   ]
  },
  {
   "cell_type": "markdown",
   "metadata": {},
   "source": [
    "<a name='ex-7'></a>\n",
    "### Exercise 7\n",
    "\n",
    "**Instructions for insert_letter()**: Now implement a function that takes in a word and returns a list with a letter inserted at every offset.\n",
    "\n",
    "**Step 1:** is the same as in `delete_letter()`\n",
    "\n",
    "**Step 2:** This can be a list comprehension of the form:  \n",
    "`[f(a,b,c) for a, b in splits if condition for c in string]`   "
   ]
  },
  {
   "cell_type": "code",
   "execution_count": 22,
   "metadata": {},
   "outputs": [],
   "source": [
    "# UNIT TEST COMMENT: Candidate for Table Driven Tests\n",
    "# UNQ_C7 GRADED FUNCTION: inserts\n",
    "def insert_letter(word, verbose=False):\n",
    "    '''\n",
    "    Input:\n",
    "        word: the input string/word \n",
    "    Output:\n",
    "        inserts: a set of all possible strings with one new letter inserted at every offset\n",
    "    ''' \n",
    "    letters = 'abcdefghijklmnopqrstuvwxyz'\n",
    "    insert_l = []\n",
    "    split_l = []\n",
    "    \n",
    "    ### START CODE HERE ###\n",
    "    split_l = [(word[:i], word[i:]) for i in range(len(word) + 1)]\n",
    "    # [('', 'at'), ('a', 't'), ('at', '')]\n",
    "    \n",
    "    insert_l = [L+letter+R for L, R in split_l for letter in letters]\n",
    "    # ['aat', ..., 'atz']\n",
    "    \n",
    "    #retrieve unique words\n",
    "    #insert_set = set(insert_l)\n",
    "    #remove input word\n",
    "    #insert_set.discard(word)\n",
    "    # {'hat', ..., 'amt'}\n",
    "    \n",
    "    #turn set back into list\n",
    "    # insert_l = sorted(list(insert_set)) #seems that the output requested is NOT SORTED\n",
    "    # insert_l = list(insert_set) # seems that with a 'set', the word order turns out differently from what is expected in the model answer\n",
    "    \n",
    "    # AND at the same time, the expected model answer contains dupes\n",
    "    \n",
    "\n",
    "    ### END CODE HERE ###\n",
    "    \n",
    "    if verbose: print(f\"Input word {word} \\nsplit_l = {split_l} \\ninsert_l = {insert_l}\")\n",
    "    \n",
    "    return insert_l"
   ]
  },
  {
   "cell_type": "code",
   "execution_count": 23,
   "metadata": {
    "scrolled": true
   },
   "outputs": [
    {
     "name": "stdout",
     "output_type": "stream",
     "text": [
      "Input word at \n",
      "split_l = [('', 'at'), ('a', 't'), ('at', '')] \n",
      "insert_l = ['aat', 'bat', 'cat', 'dat', 'eat', 'fat', 'gat', 'hat', 'iat', 'jat', 'kat', 'lat', 'mat', 'nat', 'oat', 'pat', 'qat', 'rat', 'sat', 'tat', 'uat', 'vat', 'wat', 'xat', 'yat', 'zat', 'aat', 'abt', 'act', 'adt', 'aet', 'aft', 'agt', 'aht', 'ait', 'ajt', 'akt', 'alt', 'amt', 'ant', 'aot', 'apt', 'aqt', 'art', 'ast', 'att', 'aut', 'avt', 'awt', 'axt', 'ayt', 'azt', 'ata', 'atb', 'atc', 'atd', 'ate', 'atf', 'atg', 'ath', 'ati', 'atj', 'atk', 'atl', 'atm', 'atn', 'ato', 'atp', 'atq', 'atr', 'ats', 'att', 'atu', 'atv', 'atw', 'atx', 'aty', 'atz']\n",
      "Number of strings output by insert_letter('at') is 78\n"
     ]
    }
   ],
   "source": [
    "insert_l = insert_letter('at', True)\n",
    "print(f\"Number of strings output by insert_letter('at') is {len(insert_l)}\")"
   ]
  },
  {
   "cell_type": "markdown",
   "metadata": {},
   "source": [
    "#### Expected output\n",
    "\n",
    "```Python\n",
    "Input word at \n",
    "split_l = [('', 'at'), ('a', 't'), ('at', '')] \n",
    "insert_l = ['aat', 'bat', 'cat', 'dat', 'eat', 'fat', 'gat', 'hat', 'iat', 'jat', 'kat', 'lat', 'mat', 'nat', 'oat', 'pat', 'qat', 'rat', 'sat', 'tat', 'uat', 'vat', 'wat', 'xat', 'yat', 'zat', 'aat', 'abt', 'act', 'adt', 'aet', 'aft', 'agt', 'aht', 'ait', 'ajt', 'akt', 'alt', 'amt', 'ant', 'aot', 'apt', 'aqt', 'art', 'ast', 'att', 'aut', 'avt', 'awt', 'axt', 'ayt', 'azt', 'ata', 'atb', 'atc', 'atd', 'ate', 'atf', 'atg', 'ath', 'ati', 'atj', 'atk', 'atl', 'atm', 'atn', 'ato', 'atp', 'atq', 'atr', 'ats', 'att', 'atu', 'atv', 'atw', 'atx', 'aty', 'atz']\n",
    "Number of strings output by insert_letter('at') is 78\n",
    "```"
   ]
  },
  {
   "cell_type": "markdown",
   "metadata": {},
   "source": [
    "#### Note 1\n",
    "\n",
    "If you get a split_l like this:\n",
    "```Python\n",
    "Input word at \n",
    "split_l = [('', 'at'), ('a', 't')] \n",
    "insert_l = ['aat', 'bat', 'cat', 'dat', 'eat', 'fat', 'gat', 'hat', 'iat', 'jat', 'kat', 'lat', 'mat', 'nat', 'oat', 'pat', 'qat', 'rat', 'sat', 'tat', 'uat', 'vat', 'wat', 'xat', 'yat', 'zat', 'aat', 'abt', 'act', 'adt', 'aet', 'aft', 'agt', 'aht', 'ait', 'ajt', 'akt', 'alt', 'amt', 'ant', 'aot', 'apt', 'aqt', 'art', 'ast', 'att', 'aut', 'avt', 'awt', 'axt', 'ayt', 'azt']\n",
    "Number of strings output by insert_letter('at') is 52\n",
    "```\n",
    "- Notice that split_l is missing the extra tuple ('at', '').  For insertion, we actually **WANT** this tuple.\n",
    "- The function is not creating all the desired output strings.\n",
    "- Check the range that you use for the for loop."
   ]
  },
  {
   "cell_type": "markdown",
   "metadata": {},
   "source": [
    "#### Note 2\n",
    "If you see this:\n",
    "```Python\n",
    "Input word at \n",
    "split_l = [('', 'at'), ('a', 't'), ('at', '')] \n",
    "insert_l = ['aat', 'bat', 'cat', 'dat', 'eat', 'fat', 'gat', 'hat', 'iat', 'jat', 'kat', 'lat', 'mat', 'nat', 'oat', 'pat', 'qat', 'rat', 'sat', 'tat', 'uat', 'vat', 'wat', 'xat', 'yat', 'zat', 'aat', 'abt', 'act', 'adt', 'aet', 'aft', 'agt', 'aht', 'ait', 'ajt', 'akt', 'alt', 'amt', 'ant', 'aot', 'apt', 'aqt', 'art', 'ast', 'att', 'aut', 'avt', 'awt', 'axt', 'ayt', 'azt']\n",
    "Number of strings output by insert_letter('at') is 52\n",
    "```\n",
    "\n",
    "- Even though you may have fixed the split_l so that it contains the tuple `('at', '')`, notice that you're still missing some output strings.\n",
    "    - Notice that it's missing strings such as 'ata', 'atb', 'atc' all the way to 'atz'.\n",
    "- To fix this, make sure that when you set insert_l, you allow the use of the empty string `''`."
   ]
  },
  {
   "cell_type": "code",
   "execution_count": 24,
   "metadata": {},
   "outputs": [
    {
     "name": "stdout",
     "output_type": "stream",
     "text": [
      "\u001b[92m All tests passed\n"
     ]
    }
   ],
   "source": [
    "# Test your function\n",
    "w1_unittest.test_insert_letter(insert_letter)"
   ]
  },
  {
   "cell_type": "markdown",
   "metadata": {},
   "source": [
    "<a name='3'></a>\n",
    "\n",
    "# Part 3: Combining the edits\n",
    "\n",
    "Now that you have implemented the string manipulations, you will create two functions that, given a string, will return all the possible single and double edits on that string. These will be `edit_one_letter()` and `edit_two_letters()`."
   ]
  },
  {
   "cell_type": "markdown",
   "metadata": {},
   "source": [
    "<a name='3-1'></a>\n",
    "## 3.1 Edit one letter\n",
    "\n",
    "<a name='ex-8'></a>\n",
    "### Exercise 8\n",
    "\n",
    "**Instructions**: Implement the `edit_one_letter` function to get all the possible edits that are one edit away from a word. The edits  consist of the replace, insert, delete, and optionally the switch operation. You should use the previous functions you have already implemented to complete this function. The 'switch' function  is a less common edit function, so its use will be selected by an \"allow_switches\" input argument.\n",
    "\n",
    "Note that those functions return *lists* while this function should return a *python set*. Utilizing a set eliminates any duplicate entries."
   ]
  },
  {
   "cell_type": "markdown",
   "metadata": {},
   "source": [
    "<details>    \n",
    "<summary>\n",
    "    <font size=\"3\" color=\"darkgreen\"><b>Hints</b></font>\n",
    "</summary>\n",
    "<p>\n",
    "<ul>\n",
    "    <li> Each of the functions returns a list.  You can <b>combine lists using the `+` operator.</b> </li>\n",
    "    <li> To get unique strings (avoid duplicates), you can use the set() function. </li>\n",
    "</ul>\n",
    "</p>\n"
   ]
  },
  {
   "cell_type": "code",
   "execution_count": 25,
   "metadata": {},
   "outputs": [],
   "source": [
    "# UNIT TEST COMMENT: Candidate for Table Driven Tests\n",
    "# UNQ_C8 GRADED FUNCTION: edit_one_letter\n",
    "def edit_one_letter(word, allow_switches = True):\n",
    "    \"\"\"\n",
    "    Input:\n",
    "        word: the string/word for which we will generate all possible wordsthat are one edit away.\n",
    "    Output:\n",
    "        edit_one_set: a set of words with one possible edit. Please return a set. and not a list.\n",
    "    \"\"\"\n",
    "    \n",
    "    edit_one_set = set()\n",
    "    \n",
    "    ### START CODE HERE ###\n",
    "    delete_l = delete_letter(word)\n",
    "    \n",
    "    if allow_switches == False:\n",
    "        switch_l = list()\n",
    "        # to troubleshoot allow_switches\n",
    "        # b_switched = 0\n",
    "    else:\n",
    "        switch_l = switch_letter(word)\n",
    "        # b_switched = 1\n",
    "    # print('b_switched :', b_switched)\n",
    "    \n",
    "    replace_l = replace_letter(word)\n",
    "    insert_l = insert_letter(word)\n",
    "    \n",
    "    words_l = delete_l + switch_l + replace_l + insert_l\n",
    "    edit_one_set = set(words_l)\n",
    "    \n",
    "    ### END CODE HERE ###\n",
    "    \n",
    "    # return this as a set and not a list\n",
    "    return set(edit_one_set)"
   ]
  },
  {
   "cell_type": "code",
   "execution_count": 26,
   "metadata": {},
   "outputs": [
    {
     "name": "stdout",
     "output_type": "stream",
     "text": [
      "input word at \n",
      "edit_one_l \n",
      "['a', 'aa', 'aat', 'ab', 'abt', 'ac', 'act', 'ad', 'adt', 'ae', 'aet', 'af', 'aft', 'ag', 'agt', 'ah', 'aht', 'ai', 'ait', 'aj', 'ajt', 'ak', 'akt', 'al', 'alt', 'am', 'amt', 'an', 'ant', 'ao', 'aot', 'ap', 'apt', 'aq', 'aqt', 'ar', 'art', 'as', 'ast', 'ata', 'atb', 'atc', 'atd', 'ate', 'atf', 'atg', 'ath', 'ati', 'atj', 'atk', 'atl', 'atm', 'atn', 'ato', 'atp', 'atq', 'atr', 'ats', 'att', 'atu', 'atv', 'atw', 'atx', 'aty', 'atz', 'au', 'aut', 'av', 'avt', 'aw', 'awt', 'ax', 'axt', 'ay', 'ayt', 'az', 'azt', 'bat', 'bt', 'cat', 'ct', 'dat', 'dt', 'eat', 'et', 'fat', 'ft', 'gat', 'gt', 'hat', 'ht', 'iat', 'it', 'jat', 'jt', 'kat', 'kt', 'lat', 'lt', 'mat', 'mt', 'nat', 'nt', 'oat', 'ot', 'pat', 'pt', 'qat', 'qt', 'rat', 'rt', 'sat', 'st', 't', 'ta', 'tat', 'tt', 'uat', 'ut', 'vat', 'vt', 'wat', 'wt', 'xat', 'xt', 'yat', 'yt', 'zat', 'zt']\n",
      "\n",
      "The type of the returned object should be a set <class 'set'>\n",
      "Number of outputs from edit_one_letter('at') is 129\n"
     ]
    }
   ],
   "source": [
    "tmp_word = \"at\"\n",
    "tmp_edit_one_set = edit_one_letter(tmp_word)\n",
    "# turn this into a list to sort it, in order to view it\n",
    "tmp_edit_one_l = sorted(list(tmp_edit_one_set))\n",
    "\n",
    "print(f\"input word {tmp_word} \\nedit_one_l \\n{tmp_edit_one_l}\\n\")\n",
    "print(f\"The type of the returned object should be a set {type(tmp_edit_one_set)}\")\n",
    "print(f\"Number of outputs from edit_one_letter('at') is {len(edit_one_letter('at'))}\")"
   ]
  },
  {
   "cell_type": "markdown",
   "metadata": {},
   "source": [
    "#### Expected Output\n",
    "```CPP\n",
    "input word at \n",
    "edit_one_l \n",
    "['a', 'aa', 'aat', 'ab', 'abt', 'ac', 'act', 'ad', 'adt', 'ae', 'aet', 'af', 'aft', 'ag', 'agt', 'ah', 'aht', 'ai', 'ait', 'aj', 'ajt', 'ak', 'akt', 'al', 'alt', 'am', 'amt', 'an', 'ant', 'ao', 'aot', 'ap', 'apt', 'aq', 'aqt', 'ar', 'art', 'as', 'ast', 'ata', 'atb', 'atc', 'atd', 'ate', 'atf', 'atg', 'ath', 'ati', 'atj', 'atk', 'atl', 'atm', 'atn', 'ato', 'atp', 'atq', 'atr', 'ats', 'att', 'atu', 'atv', 'atw', 'atx', 'aty', 'atz', 'au', 'aut', 'av', 'avt', 'aw', 'awt', 'ax', 'axt', 'ay', 'ayt', 'az', 'azt', 'bat', 'bt', 'cat', 'ct', 'dat', 'dt', 'eat', 'et', 'fat', 'ft', 'gat', 'gt', 'hat', 'ht', 'iat', 'it', 'jat', 'jt', 'kat', 'kt', 'lat', 'lt', 'mat', 'mt', 'nat', 'nt', 'oat', 'ot', 'pat', 'pt', 'qat', 'qt', 'rat', 'rt', 'sat', 'st', 't', 'ta', 'tat', 'tt', 'uat', 'ut', 'vat', 'vt', 'wat', 'wt', 'xat', 'xt', 'yat', 'yt', 'zat', 'zt']\n",
    "\n",
    "The type of the returned object should be a set <class 'set'>\n",
    "Number of outputs from edit_one_letter('at') is 129\n",
    "```"
   ]
  },
  {
   "cell_type": "code",
   "execution_count": 27,
   "metadata": {},
   "outputs": [
    {
     "name": "stdout",
     "output_type": "stream",
     "text": [
      "\u001b[92m All tests passed\n"
     ]
    }
   ],
   "source": [
    "# Test your function\n",
    "w1_unittest.test_edit_one_letter(edit_one_letter)"
   ]
  },
  {
   "cell_type": "markdown",
   "metadata": {},
   "source": [
    "<a name='3-2'></a>\n",
    "## Part 3.2 Edit two letters\n",
    "\n",
    "<a name='ex-9'></a>\n",
    "### Exercise 9\n",
    "\n",
    "Now you can generalize this to implement to get two edits on a word. To do so, you would have to get all the possible edits on a single word and then for each modified word, you would have to modify it again. \n",
    "\n",
    "**Instructions**: Implement the `edit_two_letters` function that returns a set of words that are two edits away. Note that creating additional edits based on the `edit_one_letter` function may 'restore' some one_edits to zero or one edits. That is allowed here. This is accounted for in get_corrections."
   ]
  },
  {
   "cell_type": "markdown",
   "metadata": {},
   "source": [
    "<details>    \n",
    "<summary>\n",
    "    <font size=\"3\" color=\"darkgreen\"><b>Hints</b></font>\n",
    "</summary>\n",
    "<p>\n",
    "<ul>\n",
    "    <li>You will likely want to take the union of two sets.</li>\n",
    "    <li>You can either use set.update() or use the '|' (or operator) to union two sets</li>\n",
    "    <li>See the documentation <a href=\"https://docs.python.org/2/library/sets.html\" > Python sets </a> for examples of using operators or functions of the Python set.</li>\n",
    "</ul>\n",
    "</p>\n"
   ]
  },
  {
   "cell_type": "code",
   "execution_count": 90,
   "metadata": {},
   "outputs": [
    {
     "data": {
      "text/plain": [
       "set"
      ]
     },
     "execution_count": 90,
     "metadata": {},
     "output_type": "execute_result"
    }
   ],
   "source": [
    "type(edit_two_l[1])"
   ]
  },
  {
   "cell_type": "code",
   "execution_count": 28,
   "metadata": {},
   "outputs": [],
   "source": [
    "# UNIT TEST COMMENT: Candidate for Table Driven Tests\n",
    "# UNQ_C9 GRADED FUNCTION: edit_two_letters\n",
    "def edit_two_letters(word, allow_switches = True):\n",
    "    '''\n",
    "    Input:\n",
    "        word: the input string/word \n",
    "    Output:\n",
    "        edit_two_set: a set of strings with all possible two edits\n",
    "    '''\n",
    "    \n",
    "    edit_two_set = set()\n",
    "    \n",
    "    ### START CODE HERE ###\n",
    "    \n",
    "    # REMEMBER TO bring in the 'allow_switches' input argument here and below\n",
    "    edit_one_set = edit_one_letter(word, allow_switches)\n",
    "    # convert set to list\n",
    "    # edit_one_l = list(edit_one_set)\n",
    "    \n",
    "    # list of sets\n",
    "    #edit_two_l = [edit_one_letter(word) for word in edit_one_l]\n",
    "    \n",
    "    #i = 0\n",
    "    #union somehow gave us the unique set of elements\n",
    "    #for i in range(len(edit_two_l)-1):\n",
    "        #union somehow gave us the unique set of elements\n",
    "        #union_so_far = edit_two_l[i].union(edit_two_l[i+1])\n",
    "        #edit_two_set = edit_two_set.union(union_so_far)\n",
    "    \n",
    "    # issue with \"AttributeError: 'NoneType' object has no attribute 'update'\"\n",
    "    # for i in range(len(edit_two_l)):\n",
    "        # if i == 0:\n",
    "        #     edit_two_set = edit_two_l[i]\n",
    "        # else:\n",
    "        #     edit_two_set = edit_two_set.update(edit_two_l[i])\n",
    "    \n",
    "    for word in edit_one_set:\n",
    "        second_edit = edit_one_letter(word, allow_switches)\n",
    "                \n",
    "        # # issue with \"AttributeError: 'NoneType' object has no attribute 'update'\"\n",
    "        # edit_two_set = edit_two_set.update(second_edit)\n",
    "        \n",
    "        # somehow '|' works\n",
    "        edit_two_set = edit_two_set|second_edit\n",
    "    \n",
    "        \n",
    "    ### END CODE HERE ###\n",
    "    \n",
    "    # return this as a set instead of a list\n",
    "    return set(edit_two_set)"
   ]
  },
  {
   "cell_type": "code",
   "execution_count": 29,
   "metadata": {
    "scrolled": true
   },
   "outputs": [
    {
     "name": "stdout",
     "output_type": "stream",
     "text": [
      "Number of strings with edit distance of two: 2654\n",
      "First 10 strings ['', 'a', 'aa', 'aaa', 'aab', 'aac', 'aad', 'aae', 'aaf', 'aag']\n",
      "Last 10 strings ['zv', 'zva', 'zw', 'zwa', 'zx', 'zxa', 'zy', 'zya', 'zz', 'zza']\n",
      "The data type of the returned object should be a set <class 'set'>\n",
      "Number of strings that are 2 edit distances from 'at' is 7154\n"
     ]
    }
   ],
   "source": [
    "tmp_edit_two_set = edit_two_letters(\"a\")\n",
    "tmp_edit_two_l = sorted(list(tmp_edit_two_set))\n",
    "print(f\"Number of strings with edit distance of two: {len(tmp_edit_two_l)}\")\n",
    "print(f\"First 10 strings {tmp_edit_two_l[:10]}\")\n",
    "print(f\"Last 10 strings {tmp_edit_two_l[-10:]}\")\n",
    "print(f\"The data type of the returned object should be a set {type(tmp_edit_two_set)}\")\n",
    "print(f\"Number of strings that are 2 edit distances from 'at' is {len(edit_two_letters('at'))}\")"
   ]
  },
  {
   "cell_type": "markdown",
   "metadata": {},
   "source": [
    "#### Expected Output\n",
    "\n",
    "```CPP\n",
    "Number of strings with edit distance of two: 2654\n",
    "First 10 strings ['', 'a', 'aa', 'aaa', 'aab', 'aac', 'aad', 'aae', 'aaf', 'aag']\n",
    "Last 10 strings ['zv', 'zva', 'zw', 'zwa', 'zx', 'zxa', 'zy', 'zya', 'zz', 'zza']\n",
    "The data type of the returned object should be a set <class 'set'>\n",
    "Number of strings that are 2 edit distances from 'at' is 7154\n",
    "```"
   ]
  },
  {
   "cell_type": "code",
   "execution_count": 30,
   "metadata": {
    "scrolled": true
   },
   "outputs": [
    {
     "name": "stdout",
     "output_type": "stream",
     "text": [
      "\u001b[92m All tests passed\n"
     ]
    }
   ],
   "source": [
    "# Test your function\n",
    "w1_unittest.test_edit_two_letters(edit_two_letters)"
   ]
  },
  {
   "cell_type": "markdown",
   "metadata": {},
   "source": [
    "<a name='3-3'></a>\n",
    "## Part 3-3: suggest spelling suggestions\n",
    "\n",
    "Now you will use your `edit_two_letters` function to get a set of all the possible 2 edits on your word. You will then use those strings to get the most probable word you meant to type a.k.a your typing suggestion.\n",
    "\n",
    "<a name='ex-10'></a>\n",
    "### Exercise 10\n",
    "**Instructions**: Implement `get_corrections`, which returns a list of zero to n possible suggestion tuples of the form (word, probability_of_word). \n",
    "\n",
    "**Step 1:** Generate suggestions for a supplied word: You'll use the edit functions you have developed. The 'suggestion algorithm' should follow this logic: \n",
    "* If the **word is in the vocabulary, suggest the word. **\n",
    "* Otherwise, if there are suggestions from `edit_one_letter` that are **in the vocabulary**, use those. \n",
    "* Otherwise, if there are suggestions from `edit_two_letters` that are in the vocabulary, use those. \n",
    "* Otherwise, suggest the **input word**.*  \n",
    "* The idea is that words generated from fewer edits are more likely than words with more edits.\n",
    "\n",
    "\n",
    "Note: \n",
    "- Edits of one or two letters may 'restore' strings to either zero or one edit. This algorithm accounts for this by preferentially selecting lower distance edits first."
   ]
  },
  {
   "cell_type": "markdown",
   "metadata": {},
   "source": [
    "#### Short circuit\n",
    "In Python, logical operations such as `and` and `or` have two useful properties. They can operate on lists and they have ['short-circuit' behavior](https://docs.python.org/3/library/stdtypes.html). Try these:"
   ]
  },
  {
   "cell_type": "code",
   "execution_count": 31,
   "metadata": {},
   "outputs": [
    {
     "name": "stdout",
     "output_type": "stream",
     "text": [
      "[]\n",
      "['a', 'b']\n",
      "['Most', 'Likely']\n",
      "['least', 'of', 'all']\n"
     ]
    }
   ],
   "source": [
    "# example of logical operation on lists or sets\n",
    "print( [] and [\"a\",\"b\"] )\n",
    "print( [] or [\"a\",\"b\"] )\n",
    "#example of Short circuit behavior\n",
    "val1 =  [\"Most\",\"Likely\"] or [\"Less\",\"so\"] or [\"least\",\"of\",\"all\"]  # selects first, does not evalute remainder\n",
    "print(val1)\n",
    "val2 =  [] or [] or [\"least\",\"of\",\"all\"] # continues evaluation until there is a non-empty list\n",
    "print(val2)"
   ]
  },
  {
   "cell_type": "markdown",
   "metadata": {},
   "source": [
    "The logical `or` could be used to implement the suggestion algorithm very compactly. Alternately, if/then constructs could be used.\n",
    " \n",
    "**Step 2**: Create a 'best_words' dictionary where the 'key' is a suggestion and the 'value' is the probability of that word in your vocabulary. If the word is not in the vocabulary, assign it a probability of 0.\n",
    "\n",
    "**Step 3**: Select the n best suggestions. There may be fewer than n."
   ]
  },
  {
   "cell_type": "markdown",
   "metadata": {},
   "source": [
    "<details>    \n",
    "<summary>\n",
    "    <font size=\"3\" color=\"darkgreen\"><b>Hints</b></font>\n",
    "</summary>\n",
    "<p>\n",
    "<ul>\n",
    "    <li>edit_one_letter and edit_two_letters return *python sets*. </li>\n",
    "    <li> Sets have a handy <a href=\"https://docs.python.org/2/library/sets.html\" > set.intersection </a> feature</li>\n",
    "    <li>To find the keys that have the highest values in a dictionary, you can use the Counter dictionary to create a Counter object from a regular dictionary.  Then you can use Counter.most_common(n) to get the n most common keys.\n",
    "    </li>\n",
    "    <li>To find the intersection of two sets, you can use set.intersection or the & operator.</li>\n",
    "    <li>If you are not as familiar with short circuit syntax (as shown above), feel free to use if else statements instead.</li>\n",
    "    <li>To use an if statement to check of a set is empty, use 'if not x:' syntax </li>\n",
    "</ul>\n",
    "</p>\n"
   ]
  },
  {
   "cell_type": "code",
   "execution_count": 162,
   "metadata": {},
   "outputs": [],
   "source": [
    "#testing\n",
    "# vocab\n",
    "# {'errors',\n",
    "#  'chips',\n",
    "#  'heady',\n",
    "#  'altar', ...}\n",
    "\n",
    "# type(vocab)\n",
    "# set\n",
    "\n",
    "# 'errors' in vocab\n",
    "# True\n",
    "\n",
    "# probs\n",
    "# {'o': 0.0029283396127877045,\n",
    "#  'for': 0.008840974372365426,\n",
    "#  'a': 0.01411944641325027, ...}\n",
    "\n"
   ]
  },
  {
   "cell_type": "code",
   "execution_count": 163,
   "metadata": {},
   "outputs": [],
   "source": [
    "# stackoverflow.com/questions/7197315/5-maximum-values-in-a-python-dictionary\n",
    "# using a heap will eventually be faster than a full sort\n",
    "import heapq\n"
   ]
  },
  {
   "cell_type": "code",
   "execution_count": 192,
   "metadata": {},
   "outputs": [
    {
     "data": {
      "text/plain": [
       "[('days', 0.0004103405826836274), ('dye', 1.865184466743761e-05)]"
      ]
     },
     "execution_count": 192,
     "metadata": {},
     "output_type": "execute_result"
    }
   ],
   "source": [
    "# testing\n",
    "word = 'dys'\n",
    "n=2\n",
    "\n",
    "suggestions = []\n",
    "n_best = []\n",
    "    \n",
    "### START CODE HERE ###\n",
    "#Step 1: create suggestions as described above    \n",
    "\n",
    "# priority 1 - input word is in the vocab\n",
    "word_in_vocab = list()              # remained as []\n",
    "b_word_in_vocab = word in vocab     #False\n",
    "if b_word_in_vocab:\n",
    "    word_in_vocab = list(word)\n",
    "\n",
    "# priority 2 - words from 1 edit in the vocab\n",
    "one_edit_set = edit_one_letter(word, allow_switches = True)\n",
    "# {'adys', ..., 'zys'}\n",
    "\n",
    "one_edit_in_vocab = list()\n",
    "for word_temp in one_edit_set:\n",
    "    if word_temp in vocab:\n",
    "        one_edit_in_vocab.append(word_temp)    # ['days', 'dye']\n",
    "\n",
    "# priority 3 - words from 2 edits in the vocab\n",
    "two_edit_set = edit_two_letters(word, allow_switches = True)\n",
    "\n",
    "two_edit_in_vocab = list()\n",
    "for word_temp in two_edit_set:\n",
    "    if word_temp in vocab:\n",
    "        two_edit_in_vocab.append(word_temp)   # ['due','dust', ...]\n",
    "\n",
    "# priority 4 - suggest the input word\n",
    "input_word = list()\n",
    "input_word.append(word)    # ['dys']\n",
    "\n",
    "\n",
    "# evaluate the 4 priorities for suggestions\n",
    "suggestions = word_in_vocab or one_edit_in_vocab or two_edit_in_vocab or input_word\n",
    "# ['days', 'dye']    \n",
    "\n",
    "# Step 2: determine probability of suggestions\n",
    "suggestions_prob = dict()\n",
    "for suggestion in suggestions:\n",
    "    suggestions_prob[suggestion] = probs.get(suggestion, 0)\n",
    "# {'days': 0.0004103405826836274, 'dye': 1.865184466743761e-05}\n",
    "\n",
    "    \n",
    "#Step 3: Get all your best words and return the most probable top n_suggested words as n_best\n",
    "# n_best = heapq.nlargest(n, suggestions_prob, key=suggestions_prob.get)\n",
    "# ['days', 'dye']\n",
    "suggestions_counter = Counter(suggestions_prob)\n",
    "# Counter({'days': 0.0004103405826836274, 'dye': 1.865184466743761e-05})\n",
    "n_best = suggestions_counter.most_common(n)\n",
    "# [('days', 0.0004103405826836274), ('dye', 1.865184466743761e-05)]\n"
   ]
  },
  {
   "cell_type": "code",
   "execution_count": 32,
   "metadata": {},
   "outputs": [],
   "source": [
    "# UNIT TEST COMMENT: Candidate for Table Driven Tests\n",
    "# UNQ_C10 GRADED FUNCTION: get_corrections\n",
    "def get_corrections(word, probs, vocab, n=2, verbose = False):\n",
    "    '''\n",
    "    Input: \n",
    "        word: a user entered string to check for suggestions\n",
    "        probs: a dictionary that maps each word to its probability in the corpus\n",
    "        vocab: a set containing all the vocabulary\n",
    "        n: number of possible word corrections you want returned in the dictionary\n",
    "    Output: \n",
    "        n_best: a list of tuples with the most probable n corrected words and their probabilities.\n",
    "    '''\n",
    "    \n",
    "    suggestions = []\n",
    "    n_best = []\n",
    "    \n",
    "    ### START CODE HERE ###\n",
    "    #Step 1: create suggestions as described above    \n",
    "    \n",
    "    # priority 1 - input word is in the vocab\n",
    "    word_in_vocab = list()\n",
    "    b_word_in_vocab = word in vocab\n",
    "    if b_word_in_vocab:\n",
    "        word_in_vocab = list(word)\n",
    "        \n",
    "    # priority 2 - words from 1 edit in the vocab\n",
    "    one_edit_set = edit_one_letter(word, allow_switches = True)\n",
    "    \n",
    "    one_edit_in_vocab = list()\n",
    "    for word_temp in one_edit_set:\n",
    "        if word_temp in vocab:\n",
    "            one_edit_in_vocab.append(word_temp)\n",
    "    \n",
    "    # priority 3 - words from 2 edits in the vocab\n",
    "    two_edit_set = edit_two_letters(word, allow_switches = True)\n",
    "    \n",
    "    two_edit_in_vocab = list()\n",
    "    for word_temp in two_edit_set:\n",
    "        if word_temp in vocab:\n",
    "            two_edit_in_vocab.append(word_temp)\n",
    "    \n",
    "    # priority 4 - suggest the input word\n",
    "    input_word = list()\n",
    "    input_word.append(word)\n",
    "    \n",
    "    # evaluate the 4 priorities for suggestions\n",
    "    suggestions = word_in_vocab or one_edit_in_vocab or two_edit_in_vocab or input_word\n",
    "    \n",
    "                    \n",
    "        \n",
    "    #Step 2: determine probability of suggestions\n",
    "    suggestions_prob = dict()\n",
    "    for suggestion in suggestions:\n",
    "        suggestions_prob[suggestion] = probs.get(suggestion, 0)\n",
    "    \n",
    "    #Step 3: Get all your best words and return the most probable top n_suggested words as n_best\n",
    "    suggestions_counter = Counter(suggestions_prob)\n",
    "    n_best = suggestions_counter.most_common(n)\n",
    "    \n",
    "    ### END CODE HERE ###\n",
    "    \n",
    "    if verbose: print(\"entered word = \", word, \"\\nsuggestions = \", suggestions)\n",
    "\n",
    "    return n_best"
   ]
  },
  {
   "cell_type": "code",
   "execution_count": 33,
   "metadata": {},
   "outputs": [
    {
     "name": "stdout",
     "output_type": "stream",
     "text": [
      "entered word =  dys \n",
      "suggestions =  ['days', 'dye']\n",
      "word 0: days, probability 0.000410\n",
      "word 1: dye, probability 0.000019\n",
      "data type of corrections <class 'list'>\n"
     ]
    }
   ],
   "source": [
    "# Test your implementation - feel free to try other words in my word\n",
    "my_word = 'dys' \n",
    "tmp_corrections = get_corrections(my_word, probs, vocab, 2, verbose=True) # keep verbose=True\n",
    "for i, word_prob in enumerate(tmp_corrections):\n",
    "    print(f\"word {i}: {word_prob[0]}, probability {word_prob[1]:.6f}\")\n",
    "\n",
    "# CODE REVIEW COMMENT: using \"tmp_corrections\" insteads of \"cors\". \"cors\" is not defined\n",
    "print(f\"data type of corrections {type(tmp_corrections)}\")"
   ]
  },
  {
   "cell_type": "markdown",
   "metadata": {},
   "source": [
    "#### Expected Output\n",
    "- Note: This expected output is for `my_word = 'dys'`. Also, keep `verbose=True`\n",
    "```CPP\n",
    "entered word =  dys \n",
    "suggestions =  {'days', 'dye'}\n",
    "word 0: days, probability 0.000410\n",
    "word 1: dye, probability 0.000019\n",
    "data type of corrections <class 'list'>\n",
    "```"
   ]
  },
  {
   "cell_type": "code",
   "execution_count": 34,
   "metadata": {},
   "outputs": [
    {
     "name": "stdout",
     "output_type": "stream",
     "text": [
      "\u001b[92m All tests passed\n"
     ]
    }
   ],
   "source": [
    "# Test your function\n",
    "w1_unittest.test_get_corrections(get_corrections, probs, vocab)"
   ]
  },
  {
   "cell_type": "markdown",
   "metadata": {},
   "source": [
    "<a name='4'></a>\n",
    "# Part 4: Minimum Edit distance\n",
    "\n",
    "Now that you have implemented your auto-correct, how do you evaluate the similarity between two strings? For example: 'waht' and 'what'\n",
    "\n",
    "Also how do you efficiently find the shortest path to go from the word, 'waht' to the word 'what'?\n",
    "\n",
    "You will implement a dynamic programming system that will tell you the minimum number of edits required to convert a string into another string."
   ]
  },
  {
   "cell_type": "markdown",
   "metadata": {},
   "source": [
    "<a name='4-1'></a>\n",
    "### Part 4.1 Dynamic Programming\n",
    "\n",
    "Dynamic Programming breaks a problem down into subproblems which can be combined to form the final solution. Here, given a string source[0..i] and a string target[0..j], we will compute all the combinations of substrings[i, j] and calculate their edit distance. To do this efficiently, we will use a table to maintain the previously computed substrings and use those to calculate larger substrings.\n",
    "\n",
    "You have to create a matrix and update each element in the matrix as follows:  "
   ]
  },
  {
   "cell_type": "markdown",
   "metadata": {},
   "source": [
    "$$\\text{Initialization}$$\n",
    "\n",
    "\\begin{align}\n",
    "D[0,0] &= 0 \\\\\n",
    "D[i,0] &= D[i-1,0] + del\\_cost(source[i]) \\tag{4}\\\\\n",
    "D[0,j] &= D[0,j-1] + ins\\_cost(target[j]) \\\\\n",
    "\\end{align}"
   ]
  },
  {
   "cell_type": "raw",
   "metadata": {},
   "source": [
    "Initialisation seems to cover\n",
    "* D[0,0] => top left hand cell => initialise at 0\n",
    "* D[i,0] => 1st col on the left as we move down each row => add an 'input cost' as we move down each row\n",
    "* D[0,j] => 1st row as we move right through each col => add an 'input cost' as we right through each col"
   ]
  },
  {
   "cell_type": "markdown",
   "metadata": {},
   "source": [
    "\n",
    "$$\\text{Per Cell Operations}$$\n",
    "\\begin{align}\n",
    " \\\\\n",
    "D[i,j] =min\n",
    "\\begin{cases}\n",
    "D[i-1,j] + del\\_cost\\\\\n",
    "D[i,j-1] + ins\\_cost\\\\\n",
    "D[i-1,j-1] + \\left\\{\\begin{matrix}\n",
    "rep\\_cost; & if src[i]\\neq tar[j]\\\\\n",
    "0 ; & if src[i]=tar[j]\n",
    "\\end{matrix}\\right.\n",
    "\\end{cases}\n",
    "\\tag{5}\n",
    "\\end{align}"
   ]
  },
  {
   "cell_type": "raw",
   "metadata": {},
   "source": [
    "D[i,j] means going from substring D[:i] to substring D[:j]\n",
    "\n",
    "To go from\n",
    "* 𝐷[𝑖−1,𝑗] to 𝐷[𝑖,𝑗]\n",
    "* 1 cell above to current cell (DOWN THE ROW IN THE SAME COLUMN) => add DELETION COST (as there is now a new letter in your 'source string' to delete)\n",
    "\n",
    "\n",
    "* 𝐷[𝑖,𝑗−1] to 𝐷[𝑖,𝑗]\n",
    "* 1 cell left to current cell (DOWN THE COLUMN IN THE SAME ROW) => add INSERTION COST (as there is now a new letter in your 'target string' to insert)\n",
    "\n",
    "* 𝐷[𝑖,𝑗−1] to 𝐷[𝑖,𝑗]\n",
    "* 1 cell diagonally left + above to current cell \n",
    "* if source string's new character == target string's new character => COST = 0\n",
    "* if source string's new character != target string's new character => COST = REPLACEMENT COST = 2\n",
    "\n"
   ]
  },
  {
   "cell_type": "markdown",
   "metadata": {},
   "source": [
    "So converting the source word **play** to the target word **stay**, using an \n",
    "* **input cost of one**, \n",
    "* a **delete cost of 1**, and \n",
    "* **replace cost of 2** would give you the following table:\n",
    "<table style=\"width:20%\">\n",
    "\n",
    "  <tr>\n",
    "    <td> <b> </b>  </td>\n",
    "    <td> <b># </b>  </td>\n",
    "    <td> <b>s </b>  </td>\n",
    "    <td> <b>t </b> </td> \n",
    "    <td> <b>a </b> </td> \n",
    "    <td> <b>y </b> </td> \n",
    "  </tr>\n",
    "   <tr>\n",
    "    <td> <b>  #  </b></td>\n",
    "    <td> 0</td> \n",
    "    <td> 1</td> \n",
    "    <td> 2</td> \n",
    "    <td> 3</td> \n",
    "    <td> 4</td> \n",
    " \n",
    "  </tr>\n",
    "  <tr>\n",
    "    <td> <b>  p  </b></td>\n",
    "    <td> 1</td> \n",
    " <td> 2</td> \n",
    "    <td> 3</td> \n",
    "    <td> 4</td> \n",
    "   <td> 5</td>\n",
    "  </tr>\n",
    "   \n",
    "  <tr>\n",
    "    <td> <b> l </b></td>\n",
    "    <td>2</td> \n",
    "    <td>3</td> \n",
    "    <td>4</td> \n",
    "    <td>5</td> \n",
    "    <td>6</td>\n",
    "  </tr>\n",
    "\n",
    "  <tr>\n",
    "    <td> <b> a </b></td>\n",
    "    <td>3</td> \n",
    "     <td>4</td> \n",
    "     <td>5</td> \n",
    "     <td>4</td>\n",
    "     <td>5</td> \n",
    "  </tr>\n",
    "  \n",
    "   <tr>\n",
    "    <td> <b> y </b></td>\n",
    "    <td>4</td> \n",
    "      <td>5</td> \n",
    "     <td>6</td> \n",
    "     <td>5</td>\n",
    "     <td>4</td> \n",
    "  </tr>\n",
    "  \n",
    "\n",
    "</table>\n",
    "\n"
   ]
  },
  {
   "cell_type": "markdown",
   "metadata": {},
   "source": [
    "The operations used in this algorithm are 'insert', 'delete', and 'replace'. These correspond to the functions that you defined earlier: insert_letter(), delete_letter() and replace_letter(). switch_letter() is not used here."
   ]
  },
  {
   "cell_type": "markdown",
   "metadata": {},
   "source": [
    "The diagram below describes how to initialize the table. Each entry in D[i,j] represents the minimum cost of converting string source[0:i] to string target[0:j]. The first column is initialized to represent the **cumulative cost of deleting the source characters** to convert string \"EER\" to \"\". The first row is initialized to represent the **cumulative cost of inserting the target characters** to convert from \"\" to \"NEAR\"."
   ]
  },
  {
   "cell_type": "markdown",
   "metadata": {},
   "source": [
    "<div style=\"width:image width px; font-size:100%; text-align:center;\"><img src='images/EditDistInit4.PNG' alt=\"alternate text\" width=\"width\" height=\"height\" style=\"width:1000px;height:400px;\"/> Figure 6 Initializing Distance Matrix</div>     "
   ]
  },
  {
   "cell_type": "markdown",
   "metadata": {},
   "source": [
    "Filling in the remainder of the table utilizes the 'Per Cell Operations' in the equation (5) above. Note, the diagram below includes in the table some of the 3 sub-calculations shown in light grey. Only 'min' of those operations is stored in the table in the `min_edit_distance()` function."
   ]
  },
  {
   "cell_type": "markdown",
   "metadata": {},
   "source": [
    "<div style=\"width:image width px; font-size:100%; text-align:center;\"><img src='images/EditDistFill2.PNG' alt=\"alternate text\" width=\"width\" height=\"height\" style=\"width:800px;height:400px;\"/> Figure 7 Filling Distance Matrix</div>     "
   ]
  },
  {
   "cell_type": "raw",
   "metadata": {},
   "source": [
    "From D[i-1,j] to D[i:j]\n",
    "=> WE NOW HAVE AN ADDITIONAL 'E' in the source string\n",
    "=> start at D[0, 1] '# -> N', move to D[1,1] 'E -> N' \n",
    "=> now at D[1,1], while maintaining the \"addition of N\" outcome we had at D[0,1]\n",
    "=> we have to REMOVE the 'E' which we now have at D[1,1]\n",
    "* source string E, with length m\n",
    "* target string N, with length n\n",
    "* at position m, we have E; at position n, we have N\n",
    "* E does not match N\n",
    "* move left in source string by 1 => ''   => D[0,1]\n",
    "=> DELETION COST\n",
    "\n",
    "\n",
    "From D[i,j-1] to D[i:j]\n",
    "=> start at D[1, 0] 'E -> #', move to D[1,1] 'E -> N' \n",
    "=> now at D[1,1], while maintaining the \"removal of E\" outcome we had at D[1, 0]\n",
    "=> we have to add 'N' at D[1,1]\n",
    "* source string E, with length m\n",
    "* target string N, with length n\n",
    "* at position m, we have E; at position n, we have N\n",
    "* E does not match N\n",
    "* move left in target string by 1 => ''    => D[1,0]\n",
    "=> INSERTION COST\n",
    "\n",
    "From D[i-1,j-1] to D[i:j]\n",
    "=> start at D[0,0] '# -> #', move to D[1,1] 'E -> N' \n",
    "* source string E, with length m\n",
    "* target string N, with length n\n",
    "* at position m, we have E; at position n, we have N\n",
    "* E does not match N\n",
    "* move left in both source and target string => at pos m-1 '', at pos n-1 ''\n",
    "* => D[0,0]\n",
    "=> REPLACEMENT COST\n"
   ]
  },
  {
   "cell_type": "markdown",
   "metadata": {},
   "source": [
    "Note that the formula for $D[i,j]$ shown in the image is equivalent to:\n",
    "\n",
    "\\begin{align}\n",
    " \\\\\n",
    "D[i,j] =min\n",
    "\\begin{cases}\n",
    "D[i-1,j] + del\\_cost\\\\\n",
    "D[i,j-1] + ins\\_cost\\\\\n",
    "D[i-1,j-1] + \\left\\{\\begin{matrix}\n",
    "rep\\_cost; & if src[i]\\neq tar[j]\\\\\n",
    "0 ; & if src[i]=tar[j]\n",
    "\\end{matrix}\\right.\n",
    "\\end{cases}\n",
    "\\tag{5}\n",
    "\\end{align}\n",
    "\n",
    "The variable `sub_cost` (for substitution cost) is the same as `rep_cost`; replacement cost.  We will stick with the term \"replace\" whenever possible."
   ]
  },
  {
   "cell_type": "markdown",
   "metadata": {},
   "source": [
    "Below are some examples of cells where replacement is used. This also shows the minimum path from the lower right final position where \"EER\" has been replaced by \"NEAR\" back to the start. This provides a starting point for the optional 'backtrace' algorithm below."
   ]
  },
  {
   "cell_type": "markdown",
   "metadata": {},
   "source": [
    "<div style=\"width:image width px; font-size:100%; text-align:center;\"><img src='images/EditDistExample1.PNG' alt=\"alternate text\" width=\"width\" height=\"height\" style=\"width:1200px;height:400px;\"/> Figure 8 Examples Distance Matrix</div>    "
   ]
  },
  {
   "cell_type": "raw",
   "metadata": {},
   "source": [
    "from '# -> N' diagonally to 'E -> NE'\n",
    "=> the new/additional letter from source to target is 'E' -> 'E', which is the same letter\n",
    "=> SO NO ADDITIONAL COST\n",
    "=> stayed at '1'\n",
    "\n",
    "\n",
    "from 'E->NE' diagonally to 'EE-> NEA'\n",
    "=> the new/additional letter from source 'E' to target 'A'\n",
    "=> incur substitution/replacement cost of 2\n",
    "=> 1+2 = 3\n",
    "\n",
    "\n",
    "from 'EE-> NEA' diagonally to 'EER-> NEAR'\n",
    "=> the new/additional letter from source to target is 'R' -> 'R', which is the same letter\n",
    "=> SO NO ADDITIONAL COST\n",
    "=> stayed at '3'\n"
   ]
  },
  {
   "cell_type": "markdown",
   "metadata": {},
   "source": [
    "<a name='ex-11'></a>\n",
    "### Exercise 11\n",
    "\n",
    "Again, the word \"substitution\" appears in the figure, but think of this as \"replacement\"."
   ]
  },
  {
   "cell_type": "markdown",
   "metadata": {},
   "source": [
    "**Instructions**: Implement the function below to get the minimum amount of edits required given a source string and a target string. "
   ]
  },
  {
   "cell_type": "markdown",
   "metadata": {},
   "source": [
    "<details>    \n",
    "<summary>\n",
    "    <font size=\"3\" color=\"darkgreen\"><b>Hints</b></font>\n",
    "</summary>\n",
    "<p>\n",
    "<ul>\n",
    "    <li>The range(start, stop, step) function excludes 'stop' from its output</li>\n",
    "    <li><a href=\"\" > words </a> </li>\n",
    "</ul>\n",
    "</p>\n"
   ]
  },
  {
   "cell_type": "code",
   "execution_count": 39,
   "metadata": {},
   "outputs": [],
   "source": [
    "# UNQ_C11 GRADED FUNCTION: min_edit_distance\n",
    "def min_edit_distance(source, target, ins_cost = 1, del_cost = 1, rep_cost = 2):\n",
    "    '''\n",
    "    Input: \n",
    "        source: a string corresponding to the string you are starting with\n",
    "        target: a string corresponding to the string you want to end with\n",
    "        ins_cost: an integer setting the insert cost\n",
    "        del_cost: an integer setting the delete cost\n",
    "        rep_cost: an integer setting the replace cost\n",
    "    Output:\n",
    "        D: a matrix of len(source)+1 by len(target)+1 containing minimum edit distances\n",
    "        med: the minimum edit distance (med) required to convert the source string to the target\n",
    "    '''\n",
    "    # use deletion and insert cost as  1\n",
    "    m = len(source) \n",
    "    n = len(target) \n",
    "    #initialize cost matrix with zeros and dimensions (m+1,n+1) \n",
    "    D = np.zeros((m+1, n+1), dtype=int) \n",
    "    \n",
    "    ### START CODE HERE (Replace instances of 'None' with your code) ###\n",
    "    \n",
    "    # Fill in column 0, from row 1 to row m, both inclusive\n",
    "    # NOT SURE WHY WE CANT START FROM '0'\n",
    "    # SEEMS THAT IT IS BECAUSE WE WANT TO INSTANTIATE the 1th to the mth row/entry in the 1ST COL\n",
    "    for row in range(1,m+1): # Replace None with the proper range\n",
    "        # 1 additional character to delete as we move down the rows in the 1st col\n",
    "        D[row,0] = D[row-1,0] + del_cost\n",
    "        \n",
    "    # Fill in row 0, for all columns from 1 to nth, both inclusive\n",
    "    # INSTANTIATE 1ST ROW from 1th to nth entry\n",
    "    for col in range(1,n+1): # Replace None with the proper range\n",
    "        # 1 additional character to insert as we move down the cols in the 1st row\n",
    "        D[0,col] = D[0,col-1] + ins_cost\n",
    "        \n",
    "    # Loop through row 1 to row m, both inclusive\n",
    "    for row in range(1,m+1):\n",
    "        \n",
    "        # Loop through column 1 to column n, both inclusive\n",
    "        for col in range(1,n+1):\n",
    "            \n",
    "            # Intialize r_cost to the 'replace' cost that is passed into this function\n",
    "            r_cost = rep_cost\n",
    "            \n",
    "            # Check to see if source character at the previous row\n",
    "            # matches the target character at the previous column, \n",
    "            if source[row-1] == target[col-1]: # Replace None with a proper comparison\n",
    "                # Update the replacement cost to 0 if source and target are the same\n",
    "                r_cost = 0\n",
    "                \n",
    "            # Update the cost at row, col based on previous entries in the cost matrix\n",
    "            # Refer to the equation calculate for D[i,j] (the minimum of three calculated costs)\n",
    "            D[row,col] = min(D[row-1, col-1] + r_cost, D[row-1,col] + del_cost, D[row, col-1] + ins_cost)\n",
    "            \n",
    "    # Set the minimum edit distance with the cost found at row m, column n \n",
    "    med = D[m,n]\n",
    "    \n",
    "    ### END CODE HERE ###\n",
    "    return D, med"
   ]
  },
  {
   "cell_type": "code",
   "execution_count": 40,
   "metadata": {},
   "outputs": [
    {
     "name": "stdout",
     "output_type": "stream",
     "text": [
      "minimum edits:  4 \n",
      "\n",
      "   #  s  t  a  y\n",
      "#  0  1  2  3  4\n",
      "p  1  2  3  4  5\n",
      "l  2  3  4  5  6\n",
      "a  3  4  5  4  5\n",
      "y  4  5  6  5  4\n"
     ]
    }
   ],
   "source": [
    "#DO NOT MODIFY THIS CELL\n",
    "# testing your implementation \n",
    "source =  'play'\n",
    "target = 'stay'\n",
    "matrix, min_edits = min_edit_distance(source, target)\n",
    "print(\"minimum edits: \",min_edits, \"\\n\")\n",
    "idx = list('#' + source)\n",
    "cols = list('#' + target)\n",
    "df = pd.DataFrame(matrix, index=idx, columns= cols)\n",
    "print(df)"
   ]
  },
  {
   "cell_type": "markdown",
   "metadata": {},
   "source": [
    "**Expected Results:**  \n",
    "\n",
    "```CPP\n",
    "minimum edits:  4\n",
    "    \n",
    "   #  s  t  a  y\n",
    "#  0  1  2  3  4\n",
    "p  1  2  3  4  5\n",
    "l  2  3  4  5  6\n",
    "a  3  4  5  4  5\n",
    "y  4  5  6  5  4\n",
    "```"
   ]
  },
  {
   "cell_type": "code",
   "execution_count": 41,
   "metadata": {},
   "outputs": [
    {
     "name": "stdout",
     "output_type": "stream",
     "text": [
      "minimum edits:  3 \n",
      "\n",
      "   #  n  e  a  r\n",
      "#  0  1  2  3  4\n",
      "e  1  2  1  2  3\n",
      "e  2  3  2  3  4\n",
      "r  3  4  3  4  3\n"
     ]
    }
   ],
   "source": [
    "#DO NOT MODIFY THIS CELL\n",
    "# testing your implementation \n",
    "source =  'eer'\n",
    "target = 'near'\n",
    "matrix, min_edits = min_edit_distance(source, target)\n",
    "print(\"minimum edits: \",min_edits, \"\\n\")\n",
    "idx = list(source)\n",
    "idx.insert(0, '#')\n",
    "cols = list(target)\n",
    "cols.insert(0, '#')\n",
    "df = pd.DataFrame(matrix, index=idx, columns= cols)\n",
    "print(df)"
   ]
  },
  {
   "cell_type": "markdown",
   "metadata": {},
   "source": [
    "**Expected Results**  \n",
    "```CPP\n",
    "minimum edits:  3 \n",
    "\n",
    "   #  n  e  a  r\n",
    "#  0  1  2  3  4\n",
    "e  1  2  1  2  3\n",
    "e  2  3  2  3  4\n",
    "r  3  4  3  4  3\n",
    "```"
   ]
  },
  {
   "cell_type": "code",
   "execution_count": 42,
   "metadata": {},
   "outputs": [
    {
     "name": "stdout",
     "output_type": "stream",
     "text": [
      "\u001b[92m All tests passed\n"
     ]
    }
   ],
   "source": [
    "# Test your function\n",
    "w1_unittest.test_min_edit_distance(min_edit_distance)"
   ]
  },
  {
   "cell_type": "markdown",
   "metadata": {},
   "source": [
    "We can now test several of our routines at once:"
   ]
  },
  {
   "cell_type": "code",
   "execution_count": 43,
   "metadata": {},
   "outputs": [],
   "source": [
    "source = \"eer\"\n",
    "targets = edit_one_letter(source,allow_switches = False)  #disable switches since min_edit_distance does not include them\n",
    "for t in targets:\n",
    "    _, min_edits = min_edit_distance(source, t,1,1,1)  # set ins, del, sub costs all to one\n",
    "    if min_edits != 1: print(source, t, min_edits)"
   ]
  },
  {
   "cell_type": "markdown",
   "metadata": {},
   "source": [
    "**Expected Results**  \n",
    "```CPP\n",
    "(empty)\n",
    "```\n",
    "\n",
    "The 'replace()' routine utilizes all letters a-z one of which returns the original word."
   ]
  },
  {
   "cell_type": "code",
   "execution_count": 44,
   "metadata": {},
   "outputs": [
    {
     "name": "stdout",
     "output_type": "stream",
     "text": [
      "eer eer 0\n"
     ]
    }
   ],
   "source": [
    "source = \"eer\"\n",
    "targets = edit_two_letters(source,allow_switches = False) #disable switches since min_edit_distance does not include them\n",
    "for t in targets:\n",
    "    _, min_edits = min_edit_distance(source, t,1,1,1)  # set ins, del, sub costs all to one\n",
    "    if min_edits != 2 and min_edits != 1: print(source, t, min_edits)"
   ]
  },
  {
   "cell_type": "markdown",
   "metadata": {},
   "source": [
    "**Expected Results**  \n",
    "```CPP\n",
    "eer eer 0\n",
    "```\n",
    "\n",
    "We have to allow single edits here because some two_edits will restore a single edit."
   ]
  },
  {
   "cell_type": "markdown",
   "metadata": {},
   "source": [
    "# Submission\n",
    "Make sure you submit your assignment before you modify anything below\n"
   ]
  },
  {
   "cell_type": "markdown",
   "metadata": {},
   "source": [
    "<a name='5'></a>\n",
    "\n",
    "# Part 5: Optional - Backtrace\n",
    "\n",
    "\n",
    "Once you have computed your matrix using minimum edit distance, how would find the shortest path from the top left corner to the bottom right corner? \n",
    "\n",
    "Note that you could use backtrace algorithm.  Try to find the shortest path given the matrix that your `min_edit_distance` function returned.\n",
    "\n",
    "You can use these [lecture slides on minimum edit distance](https://web.stanford.edu/class/cs124/lec/med.pdf) by Dan Jurafsky to learn about the algorithm for backtrace."
   ]
  },
  {
   "cell_type": "code",
   "execution_count": 46,
   "metadata": {
    "lines_to_end_of_cell_marker": 2
   },
   "outputs": [],
   "source": [
    "# Experiment with back trace - insert your code here\n",
    "def backtrace(min_edit_distances):\n",
    "    \"\"\"\n",
    "    Finds the backtrace path for min edit distance\n",
    "\n",
    "    Input:\n",
    "        min_edit_distance: array of mimimum edit distances\n",
    "    Output:\n",
    "        path: list of (row, column) coordinates of the shortest path through the min edit distance matrix\n",
    "    \"\"\"\n",
    "\n",
    "    # get row, col coordinates of the bottom right/last min edit distance\n",
    "    # based on # of sub-arrays => # rows\n",
    "    # account for 0-index in row # by adjusting index by -1\n",
    "    current_row = len(min_edit_distances) - 1\n",
    "    # based on # of elements in the sub-array => # cols\n",
    "    current_column = len(min_edit_distances[0]) - 1\n",
    "    \n",
    "    #initialise path\n",
    "    path = [(current_row, current_column)]\n",
    "    \n",
    "    while(current_row, current_column) != (0,0):\n",
    "        one_row_up = current_row - 1\n",
    "        one_col_left = current_column - 1\n",
    "        \n",
    "        edits = (\n",
    "                #insert operation => store tuple of (min edit distance, coords)\n",
    "                (min_edit_distances[current_row, one_col_left], (current_row, one_col_left)),\n",
    "                #delete operation \n",
    "                (min_edit_distances[one_row_up, current_column], (one_row_up, current_column)),\n",
    "                #replace operation \n",
    "                (min_edit_distances[one_row_up, one_col_left], (one_row_up, one_col_left))\n",
    "                )\n",
    "        \n",
    "        #based on lowest 'min edit distance' => unpack 'med' and coords\n",
    "        med, cell_coordinates = min(edits)\n",
    "        #append coords to 'path'\n",
    "        path.append(cell_coordinates)\n",
    "        #use coords for the next iteration\n",
    "        current_row, current_column = cell_coordinates\n",
    "    \n",
    "    #https://www.programiz.com/python-programming/methods/built-in/reversed\n",
    "    return list(reversed(path))\n",
    "    "
   ]
  },
  {
   "cell_type": "code",
   "execution_count": 47,
   "metadata": {},
   "outputs": [
    {
     "name": "stdout",
     "output_type": "stream",
     "text": [
      "minimum edits:  4 \n",
      "\n",
      "   #  s  t  a  y\n",
      "#  0  1  2  3  4\n",
      "p  1  2  3  4  5\n",
      "l  2  3  4  5  6\n",
      "a  3  4  5  4  5\n",
      "y  4  5  6  5  4\n"
     ]
    }
   ],
   "source": [
    "#DO NOT MODIFY THIS CELL\n",
    "# testing your implementation \n",
    "source =  'play'\n",
    "target = 'stay'\n",
    "matrix, min_edits = min_edit_distance(source, target)\n",
    "print(\"minimum edits: \",min_edits, \"\\n\")\n",
    "idx = list('#' + source)\n",
    "cols = list('#' + target)\n",
    "df = pd.DataFrame(matrix, index=idx, columns= cols)\n",
    "print(df)"
   ]
  },
  {
   "cell_type": "code",
   "execution_count": 50,
   "metadata": {
    "scrolled": true
   },
   "outputs": [
    {
     "data": {
      "text/plain": [
       "[(0, 0), (1, 1), (2, 2), (3, 3), (4, 4)]"
      ]
     },
     "execution_count": 50,
     "metadata": {},
     "output_type": "execute_result"
    }
   ],
   "source": [
    "backtrace_path = backtrace(matrix)\n",
    "backtrace_path"
   ]
  },
  {
   "cell_type": "code",
   "execution_count": 57,
   "metadata": {
    "scrolled": true
   },
   "outputs": [
    {
     "name": "stdout",
     "output_type": "stream",
     "text": [
      "Requirement already satisfied: holoviews in /opt/conda/lib/python3.7/site-packages (1.14.7)\n",
      "Requirement already satisfied: colorcet in /opt/conda/lib/python3.7/site-packages (from holoviews) (3.0.0)\n",
      "Requirement already satisfied: numpy>=1.0 in /opt/conda/lib/python3.7/site-packages (from holoviews) (1.19.5)\n",
      "Requirement already satisfied: panel>=0.8.0 in /opt/conda/lib/python3.7/site-packages (from holoviews) (0.12.6)\n",
      "Requirement already satisfied: param<2.0,>=1.9.3 in /opt/conda/lib/python3.7/site-packages (from holoviews) (1.12.0)\n",
      "Requirement already satisfied: pyviz-comms>=0.7.4 in /opt/conda/lib/python3.7/site-packages (from holoviews) (2.1.0)\n",
      "Requirement already satisfied: pandas>=0.20.0 in /opt/conda/lib/python3.7/site-packages (from holoviews) (1.2.4)\n",
      "Requirement already satisfied: python-dateutil>=2.7.3 in /opt/conda/lib/python3.7/site-packages (from pandas>=0.20.0->holoviews) (2.8.1)\n",
      "Requirement already satisfied: pytz>=2017.3 in /opt/conda/lib/python3.7/site-packages (from pandas>=0.20.0->holoviews) (2020.1)\n",
      "Requirement already satisfied: markdown in /opt/conda/lib/python3.7/site-packages (from panel>=0.8.0->holoviews) (3.2.1)\n",
      "Requirement already satisfied: pyct>=0.4.4 in /opt/conda/lib/python3.7/site-packages (from panel>=0.8.0->holoviews) (0.4.8)\n",
      "Requirement already satisfied: bokeh<2.5.0,>=2.4.0 in /opt/conda/lib/python3.7/site-packages (from panel>=0.8.0->holoviews) (2.4.2)\n",
      "Requirement already satisfied: bleach in /opt/conda/lib/python3.7/site-packages (from panel>=0.8.0->holoviews) (3.1.4)\n",
      "Requirement already satisfied: requests in /opt/conda/lib/python3.7/site-packages (from panel>=0.8.0->holoviews) (2.23.0)\n",
      "Requirement already satisfied: tqdm>=4.48.0 in /opt/conda/lib/python3.7/site-packages (from panel>=0.8.0->holoviews) (4.62.3)\n",
      "Requirement already satisfied: pillow>=7.1.0 in /opt/conda/lib/python3.7/site-packages (from bokeh<2.5.0,>=2.4.0->panel>=0.8.0->holoviews) (7.1.2)\n",
      "Requirement already satisfied: PyYAML>=3.10 in /opt/conda/lib/python3.7/site-packages (from bokeh<2.5.0,>=2.4.0->panel>=0.8.0->holoviews) (5.3.1)\n",
      "Requirement already satisfied: typing-extensions>=3.10.0 in /opt/conda/lib/python3.7/site-packages (from bokeh<2.5.0,>=2.4.0->panel>=0.8.0->holoviews) (4.0.1)\n",
      "Requirement already satisfied: packaging>=16.8 in /opt/conda/lib/python3.7/site-packages (from bokeh<2.5.0,>=2.4.0->panel>=0.8.0->holoviews) (20.1)\n",
      "Requirement already satisfied: Jinja2>=2.9 in /opt/conda/lib/python3.7/site-packages (from bokeh<2.5.0,>=2.4.0->panel>=0.8.0->holoviews) (2.11.2)\n",
      "Requirement already satisfied: tornado>=5.1 in /opt/conda/lib/python3.7/site-packages (from bokeh<2.5.0,>=2.4.0->panel>=0.8.0->holoviews) (6.0.4)\n",
      "Requirement already satisfied: MarkupSafe>=0.23 in /opt/conda/lib/python3.7/site-packages (from Jinja2>=2.9->bokeh<2.5.0,>=2.4.0->panel>=0.8.0->holoviews) (1.1.1)\n",
      "Requirement already satisfied: pyparsing>=2.0.2 in /opt/conda/lib/python3.7/site-packages (from packaging>=16.8->bokeh<2.5.0,>=2.4.0->panel>=0.8.0->holoviews) (2.4.7)\n",
      "Requirement already satisfied: six in /opt/conda/lib/python3.7/site-packages (from packaging>=16.8->bokeh<2.5.0,>=2.4.0->panel>=0.8.0->holoviews) (1.14.0)\n",
      "Requirement already satisfied: webencodings in /opt/conda/lib/python3.7/site-packages (from bleach->panel>=0.8.0->holoviews) (0.5.1)\n",
      "Requirement already satisfied: setuptools>=36 in /opt/conda/lib/python3.7/site-packages (from markdown->panel>=0.8.0->holoviews) (46.1.3.post20200325)\n",
      "Requirement already satisfied: certifi>=2017.4.17 in /opt/conda/lib/python3.7/site-packages (from requests->panel>=0.8.0->holoviews) (2021.5.30)\n",
      "Requirement already satisfied: urllib3!=1.25.0,!=1.25.1,<1.26,>=1.21.1 in /opt/conda/lib/python3.7/site-packages (from requests->panel>=0.8.0->holoviews) (1.25.9)\n",
      "Requirement already satisfied: idna<3,>=2.5 in /opt/conda/lib/python3.7/site-packages (from requests->panel>=0.8.0->holoviews) (2.9)\n",
      "Requirement already satisfied: chardet<4,>=3.0.2 in /opt/conda/lib/python3.7/site-packages (from requests->panel>=0.8.0->holoviews) (3.0.4)\n",
      "\u001b[33mWARNING: You are using pip version 21.2.1; however, version 21.3.1 is available.\n",
      "You should consider upgrading via the '/opt/conda/bin/python -m pip install --upgrade pip' command.\u001b[0m\n",
      "Note: you may need to restart the kernel to use updated packages.\n"
     ]
    }
   ],
   "source": [
    "pip install holoviews"
   ]
  },
  {
   "cell_type": "code",
   "execution_count": 58,
   "metadata": {
    "scrolled": true
   },
   "outputs": [
    {
     "name": "stdout",
     "output_type": "stream",
     "text": [
      "Collecting hvplot\n",
      "  Downloading hvplot-0.7.3-py2.py3-none-any.whl (3.1 MB)\n",
      "\u001b[K     |████████████████████████████████| 3.1 MB 17.8 MB/s eta 0:00:01\n",
      "\u001b[?25hRequirement already satisfied: colorcet>=2 in /opt/conda/lib/python3.7/site-packages (from hvplot) (3.0.0)\n",
      "Requirement already satisfied: bokeh>=1.0.0 in /opt/conda/lib/python3.7/site-packages (from hvplot) (2.4.2)\n",
      "Requirement already satisfied: pandas in /opt/conda/lib/python3.7/site-packages (from hvplot) (1.2.4)\n",
      "Requirement already satisfied: numpy>=1.15 in /opt/conda/lib/python3.7/site-packages (from hvplot) (1.19.5)\n",
      "Requirement already satisfied: holoviews>=1.11.0 in /opt/conda/lib/python3.7/site-packages (from hvplot) (1.14.7)\n",
      "Requirement already satisfied: Jinja2>=2.9 in /opt/conda/lib/python3.7/site-packages (from bokeh>=1.0.0->hvplot) (2.11.2)\n",
      "Requirement already satisfied: packaging>=16.8 in /opt/conda/lib/python3.7/site-packages (from bokeh>=1.0.0->hvplot) (20.1)\n",
      "Requirement already satisfied: typing-extensions>=3.10.0 in /opt/conda/lib/python3.7/site-packages (from bokeh>=1.0.0->hvplot) (4.0.1)\n",
      "Requirement already satisfied: pillow>=7.1.0 in /opt/conda/lib/python3.7/site-packages (from bokeh>=1.0.0->hvplot) (7.1.2)\n",
      "Requirement already satisfied: PyYAML>=3.10 in /opt/conda/lib/python3.7/site-packages (from bokeh>=1.0.0->hvplot) (5.3.1)\n",
      "Requirement already satisfied: tornado>=5.1 in /opt/conda/lib/python3.7/site-packages (from bokeh>=1.0.0->hvplot) (6.0.4)\n",
      "Requirement already satisfied: param>=1.7.0 in /opt/conda/lib/python3.7/site-packages (from colorcet>=2->hvplot) (1.12.0)\n",
      "Requirement already satisfied: pyct>=0.4.4 in /opt/conda/lib/python3.7/site-packages (from colorcet>=2->hvplot) (0.4.8)\n",
      "Requirement already satisfied: pyviz-comms>=0.7.4 in /opt/conda/lib/python3.7/site-packages (from holoviews>=1.11.0->hvplot) (2.1.0)\n",
      "Requirement already satisfied: panel>=0.8.0 in /opt/conda/lib/python3.7/site-packages (from holoviews>=1.11.0->hvplot) (0.12.6)\n",
      "Requirement already satisfied: MarkupSafe>=0.23 in /opt/conda/lib/python3.7/site-packages (from Jinja2>=2.9->bokeh>=1.0.0->hvplot) (1.1.1)\n",
      "Requirement already satisfied: pyparsing>=2.0.2 in /opt/conda/lib/python3.7/site-packages (from packaging>=16.8->bokeh>=1.0.0->hvplot) (2.4.7)\n",
      "Requirement already satisfied: six in /opt/conda/lib/python3.7/site-packages (from packaging>=16.8->bokeh>=1.0.0->hvplot) (1.14.0)\n",
      "Requirement already satisfied: pytz>=2017.3 in /opt/conda/lib/python3.7/site-packages (from pandas->hvplot) (2020.1)\n",
      "Requirement already satisfied: python-dateutil>=2.7.3 in /opt/conda/lib/python3.7/site-packages (from pandas->hvplot) (2.8.1)\n",
      "Requirement already satisfied: markdown in /opt/conda/lib/python3.7/site-packages (from panel>=0.8.0->holoviews>=1.11.0->hvplot) (3.2.1)\n",
      "Requirement already satisfied: requests in /opt/conda/lib/python3.7/site-packages (from panel>=0.8.0->holoviews>=1.11.0->hvplot) (2.23.0)\n",
      "Requirement already satisfied: bleach in /opt/conda/lib/python3.7/site-packages (from panel>=0.8.0->holoviews>=1.11.0->hvplot) (3.1.4)\n",
      "Requirement already satisfied: tqdm>=4.48.0 in /opt/conda/lib/python3.7/site-packages (from panel>=0.8.0->holoviews>=1.11.0->hvplot) (4.62.3)\n",
      "Requirement already satisfied: webencodings in /opt/conda/lib/python3.7/site-packages (from bleach->panel>=0.8.0->holoviews>=1.11.0->hvplot) (0.5.1)\n",
      "Requirement already satisfied: setuptools>=36 in /opt/conda/lib/python3.7/site-packages (from markdown->panel>=0.8.0->holoviews>=1.11.0->hvplot) (46.1.3.post20200325)\n",
      "Requirement already satisfied: urllib3!=1.25.0,!=1.25.1,<1.26,>=1.21.1 in /opt/conda/lib/python3.7/site-packages (from requests->panel>=0.8.0->holoviews>=1.11.0->hvplot) (1.25.9)\n",
      "Requirement already satisfied: chardet<4,>=3.0.2 in /opt/conda/lib/python3.7/site-packages (from requests->panel>=0.8.0->holoviews>=1.11.0->hvplot) (3.0.4)\n",
      "Requirement already satisfied: idna<3,>=2.5 in /opt/conda/lib/python3.7/site-packages (from requests->panel>=0.8.0->holoviews>=1.11.0->hvplot) (2.9)\n",
      "Requirement already satisfied: certifi>=2017.4.17 in /opt/conda/lib/python3.7/site-packages (from requests->panel>=0.8.0->holoviews>=1.11.0->hvplot) (2021.5.30)\n",
      "Installing collected packages: hvplot\n",
      "Successfully installed hvplot-0.7.3\n",
      "\u001b[33mWARNING: You are using pip version 21.2.1; however, version 21.3.1 is available.\n",
      "You should consider upgrading via the '/opt/conda/bin/python -m pip install --upgrade pip' command.\u001b[0m\n",
      "Note: you may need to restart the kernel to use updated packages.\n"
     ]
    }
   ],
   "source": [
    "pip install hvplot"
   ]
  },
  {
   "cell_type": "code",
   "execution_count": 65,
   "metadata": {},
   "outputs": [],
   "source": [
    "import hvplot.pandas\n",
    "import holoviews\n",
    "\n",
    "from argparse import Namespace"
   ]
  },
  {
   "cell_type": "raw",
   "metadata": {},
   "source": [
    "#testing - not sure how to plot the heatmap\n",
    "Plot = Namespace(\n",
    "    width=990,\n",
    "    height=780,\n",
    "    fontscale=2,\n",
    "    tan=\"#ddb377\",\n",
    "    blue=\"#4687b7\",\n",
    "    red=\"#ce7b6d\",\n",
    "    color_map=\"Plasma\",\n",
    "    path_color_map=\"blues\",\n",
    ")"
   ]
  },
  {
   "cell_type": "raw",
   "metadata": {},
   "source": [
    "#testing - not sure how to plot the heatmap\n",
    "table = np.zeros(matrix.shape)\n",
    "for row, column in backtrace_path:\n",
    "    table[row, column] = 10\n",
    "table = pd.DataFrame(table, index=list(\"#play\"), columns=list(\"#stay\"))\n",
    "table = table.iloc[::-1]\n",
    "path_plot = table.hvplot.heatmap(colorbar=False, cmap=Plot.path_color_map).opts(\n",
    "    title=\"Path For Alignment\", width=1000, height=300)\n",
    "\n",
    "distance_plot = matrix.hvplot.heatmap(cmap=Plot.color_map).opts(\n",
    "    title=\"Minimum Edit Distances\", width=1000, height=300\n",
    ")\n",
    "plot = (path_plot + distance_plot).cols(1).opts(\n",
    "    width=800,\n",
    "    height=600,\n",
    "    fontscale=2,\n",
    ")\n",
    "\n",
    "outcome = Embed(plot=plot, file_name=\"play_stay_alignment\")()\n",
    "print(outcome)\n"
   ]
  },
  {
   "cell_type": "markdown",
   "metadata": {},
   "source": [
    "#### References\n",
    "- Dan Jurafsky - Speech and Language Processing - Textbook\n",
    "- This auto-correct explanation was first done by Peter Norvig in 2007 "
   ]
  }
 ],
 "metadata": {
  "jupytext": {
   "encoding": "# -*- coding: utf-8 -*-"
  },
  "kernelspec": {
   "display_name": "Python 3",
   "language": "python",
   "name": "python3"
  },
  "language_info": {
   "codemirror_mode": {
    "name": "ipython",
    "version": 3
   },
   "file_extension": ".py",
   "mimetype": "text/x-python",
   "name": "python",
   "nbconvert_exporter": "python",
   "pygments_lexer": "ipython3",
   "version": "3.7.6"
  }
 },
 "nbformat": 4,
 "nbformat_minor": 5
}
