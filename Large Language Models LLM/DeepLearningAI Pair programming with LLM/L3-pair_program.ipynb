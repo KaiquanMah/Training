{
 "cells": [
  {
   "cell_type": "markdown",
   "id": "9ee333b4-4b2e-4e45-8833-3a6e4782b46c",
   "metadata": {},
   "source": [
    "# Pair Programming Scenarios\n"
   ]
  },
  {
   "cell_type": "markdown",
   "id": "279e9386-c8cd-4825-afcc-43e3191cad69",
   "metadata": {},
   "source": [
    "#### Setup\n",
    "Set the ~~MakerSuite~~ Gemini API key with the provided helper function."
   ]
  },
  {
   "cell_type": "code",
   "execution_count": 1,
   "id": "39fa172d-0b5d-4fd1-9051-3d6f2e31730f",
   "metadata": {
    "height": 302
   },
   "outputs": [],
   "source": [
    "from utils import get_api_key\n",
    "# PaLM legacy\n",
    "## import google.generativeai as palm\n",
    "## palm.configure(api_key=get_api_key())\n",
    "\n",
    "# Gemini API\n",
    "import os\n",
    "import google.generativeai as genai\n",
    "from google.api_core import client_options as client_options_lib\n",
    "\n",
    "genai.configure(\n",
    "    api_key=get_api_key(),\n",
    "    transport=\"rest\",\n",
    "    client_options=client_options_lib.ClientOptions(\n",
    "        api_endpoint=os.getenv(\"GOOGLE_API_BASE\"),\n",
    "    )\n",
    ")"
   ]
  },
  {
   "cell_type": "markdown",
   "id": "18775c71-13f5-49ff-ac4a-d34cb33afb0a",
   "metadata": {},
   "source": [
    "#### Pick the model that generates text"
   ]
  },
  {
   "cell_type": "markdown",
   "id": "bec4b13a",
   "metadata": {},
   "source": [
    "```Python\n",
    "# Legacy models shown in the video\n",
    "models = [m for m in genai.list_models() if 'generateText' in m.supported_generation_methods]\n",
    "model_bison = models[0]\n",
    "# Model Bison set as legacy model in 2024\n",
    "model_bison\n",
    "```"
   ]
  },
  {
   "cell_type": "code",
   "execution_count": 2,
   "id": "2194d2d2",
   "metadata": {
    "height": 47
   },
   "outputs": [],
   "source": [
    "# Set the model to connect to the Gemini API\n",
    "model_flash = genai.GenerativeModel(model_name='gemini-2.0-flash')"
   ]
  },
  {
   "cell_type": "markdown",
   "id": "8b6efbc6-7f98-4760-9ac0-3b513ef47d6a",
   "metadata": {},
   "source": [
    "### Legacy PaLM API\n",
    "#### Helper function to call the PaLM API\n",
    "\n",
    "```Python\n",
    "from google.api_core import retry\n",
    "@retry.Retry()\n",
    "def generate_text(prompt, \n",
    "                  model=model_bison, \n",
    "                  temperature=0.0):\n",
    "    return palm.generate_text(prompt=prompt,\n",
    "                              model=model,\n",
    "                              temperature=temperature)\n",
    "```"
   ]
  },
  {
   "cell_type": "markdown",
   "id": "c5bba3e1",
   "metadata": {},
   "source": [
    "### Helper function to call the Gemini API"
   ]
  },
  {
   "cell_type": "code",
   "execution_count": 3,
   "id": "008d0c81-4a13-42e2-b0e3-5fe65c56fc18",
   "metadata": {
    "height": 115
   },
   "outputs": [],
   "source": [
    "def generate_text(prompt,\n",
    "                  model=model_flash,\n",
    "                  temperature=0.0):\n",
    "    return model_flash.generate_content(prompt,\n",
    "                                  generation_config={'temperature':temperature})"
   ]
  },
  {
   "cell_type": "markdown",
   "id": "00d25195-6e75-4617-a70c-f5486f9300bb",
   "metadata": {},
   "source": [
    "### Scenario 1: Improve existing code\n",
    "- An LLM can help you rewrite your code in the way that's recommended for that particular language.\n",
    "- You can ask an LLM to rewrite your Python code in a way that is more 'Pythonic\"."
   ]
  },
  {
   "cell_type": "code",
   "execution_count": 4,
   "id": "7d76836a-7e57-4858-8ae5-0e2b6f6ae682",
   "metadata": {
    "height": 159
   },
   "outputs": [],
   "source": [
    "prompt_template = \"\"\"\n",
    "I don't think this code is the best way to do it in Python, can you help me?\n",
    "\n",
    "{question}\n",
    "\n",
    "**Please explain, in detail**, what you did to improve it.\n",
    "\"\"\""
   ]
  },
  {
   "cell_type": "code",
   "execution_count": 5,
   "id": "b98d292a-4c66-4fe0-94f9-09de640f075e",
   "metadata": {
    "height": 98
   },
   "outputs": [],
   "source": [
    "question = \"\"\"\n",
    "def func_x(array)\n",
    "  for i in range(len(array)):\n",
    "    print(array[i])\n",
    "\"\"\""
   ]
  },
  {
   "cell_type": "code",
   "execution_count": 6,
   "id": "c4944ff9-93c2-4a61-9ac0-54bff53d6ad4",
   "metadata": {
    "height": 149
   },
   "outputs": [
    {
     "name": "stdout",
     "output_type": "stream",
     "text": [
      "Okay, let's analyze the provided Python code and explore better, more Pythonic ways to achieve the same result.\n",
      "\n",
      "**Original Code:**\n",
      "\n",
      "```python\n",
      "def func_x(array):\n",
      "  for i in range(len(array)):\n",
      "    print(array[i])\n",
      "```\n",
      "\n",
      "**Explanation of the Original Code:**\n",
      "\n",
      "*   **`def func_x(array):`**: This defines a function named `func_x` that takes one argument, `array`.  We assume `array` is intended to be a list or other iterable.\n",
      "*   **`for i in range(len(array)):`**: This is the core of the loop.\n",
      "    *   `len(array)`:  Calculates the number of elements in the `array`.\n",
      "    *   `range(len(array))`: Creates a sequence of numbers from 0 up to (but not including) the length of the array.  For example, if `array` has 5 elements, `range(len(array))` will produce the sequence `0, 1, 2, 3, 4`.\n",
      "    *   `for i in ...`: The loop iterates through each number in the sequence, assigning it to the variable `i`.  `i` effectively becomes the *index* of the element we want to access in the array.\n",
      "*   **`print(array[i])`**: Inside the loop, this line accesses the element at index `i` in the `array` (using `array[i]`) and prints it to the console.\n",
      "\n",
      "**Why the Original Code Isn't Ideal (Not Pythonic):**\n",
      "\n",
      "The original code works, but it's not the most Pythonic way to iterate through the elements of a list (or other iterable).  Here's why:\n",
      "\n",
      "1.  **Unnecessary Indexing:**  The `range(len(array))` approach is common in languages like C++ or Java where you often need to explicitly manage indices.  However, Python provides a more direct way to access the elements themselves without needing to deal with indices.\n",
      "2.  **Less Readable:**  The code is slightly more verbose than necessary.  It takes a moment to mentally translate the index `i` into the actual element being processed.\n",
      "3.  **Potential for Errors (though unlikely here):** While unlikely in this simple example, explicitly managing indices can sometimes lead to off-by-one errors (e.g., trying to access `array[len(array)]`, which is out of bounds).\n",
      "\n",
      "**Improved Pythonic Code:**\n",
      "\n",
      "```python\n",
      "def func_x(array):\n",
      "  for element in array:\n",
      "    print(element)\n",
      "```\n",
      "\n",
      "**Explanation of the Improved Code:**\n",
      "\n",
      "*   **`def func_x(array):`**:  Same as before.\n",
      "*   **`for element in array:`**: This is the key improvement.  Instead of iterating through indices, this loop directly iterates through the *elements* of the `array`.\n",
      "    *   In each iteration, the variable `element` is assigned the *value* of the current element in the `array`.\n",
      "*   **`print(element)`**:  This line simply prints the value of the `element` to the console.\n",
      "\n",
      "**Why the Improved Code is Better:**\n",
      "\n",
      "1.  **Direct Element Access:** The code directly accesses the elements of the array without needing to use indices. This makes the code easier to read and understand.\n",
      "2.  **More Readable:** The code is more concise and expresses the intent more clearly: \"For each element in the array, print the element.\"\n",
      "3.  **Less Error-Prone:**  By avoiding explicit indexing, you eliminate the possibility of off-by-one errors.\n",
      "4.  **More Pythonic:** This is the standard and preferred way to iterate through the elements of a list (or other iterable) in Python.  It's more idiomatic and aligns with Python's design principles.\n",
      "\n",
      "**Example Usage:**\n",
      "\n",
      "```python\n",
      "my_list = [10, 20, 30, 40, 50]\n",
      "\n",
      "# Using the original function:\n",
      "# func_x(my_list)  # Output: 10 20 30 40 50\n",
      "\n",
      "# Using the improved function:\n",
      "func_x(my_list)  # Output: 10 20 30 40 50\n",
      "```\n",
      "\n",
      "**In summary:** The improved code is more Pythonic, readable, and less prone to errors because it directly iterates through the elements of the array instead of using indices.  It's a more elegant and efficient way to achieve the same result.\n",
      "\n"
     ]
    }
   ],
   "source": [
    "completion = generate_text(\n",
    "    prompt = prompt_template.format(question=question)\n",
    ")\n",
    "# Gemini API\n",
    "print(completion.text)\n",
    "\n",
    "# PaLM legacy\n",
    "## print(completion.result)"
   ]
  },
  {
   "cell_type": "markdown",
   "id": "b702c38c-a6ea-4eb2-978b-caf67e79c869",
   "metadata": {},
   "source": [
    "#### Ask for multiple ways of rewriting your code"
   ]
  },
  {
   "cell_type": "code",
   "execution_count": 7,
   "id": "2f3cfe0b-2ec5-452a-bee6-ceb14cbd3f0a",
   "metadata": {
    "height": 132
   },
   "outputs": [],
   "source": [
    "prompt_template = \"\"\"\n",
    "I don't think this code is the best way to do it in Python, can you help me?\n",
    "\n",
    "{question}\n",
    "\n",
    "**Please explore multiple ways of solving the problem**, and explain each.\n",
    "\"\"\""
   ]
  },
  {
   "cell_type": "code",
   "execution_count": 8,
   "id": "564b598a-ff33-48f0-b58a-e1a355897a56",
   "metadata": {
    "height": 81
   },
   "outputs": [
    {
     "name": "stdout",
     "output_type": "stream",
     "text": [
      "Okay, let's explore better ways to iterate through and print elements of an array (or more generally, an iterable) in Python.  The original code works, but it's not the most Pythonic or efficient in many cases.\n",
      "\n",
      "**Original Code (and why it's not ideal):**\n",
      "\n",
      "```python\n",
      "def func_x(array):\n",
      "  for i in range(len(array)):\n",
      "    print(array[i])\n",
      "```\n",
      "\n",
      "*   **Not Pythonic:**  Python favors direct iteration over elements rather than using indices.  It's generally more readable and less prone to off-by-one errors.\n",
      "*   **Potentially Less Efficient:**  `len(array)` is called in each iteration. While usually fast, it's unnecessary.  Accessing elements by index (`array[i]`) can be slightly slower than direct iteration, especially for some data structures (like linked lists, though Python lists are arrays).\n",
      "\n",
      "**Better Alternatives:**\n",
      "\n",
      "1.  **Direct Iteration (The Most Pythonic Way):**\n",
      "\n",
      "    ```python\n",
      "    def func_x(array):\n",
      "      for element in array:\n",
      "        print(element)\n",
      "    ```\n",
      "\n",
      "    *   **Explanation:** This is the preferred way to iterate through a sequence in Python.  The `for` loop directly iterates over each `element` in the `array`.  It's cleaner, more readable, and generally more efficient.  You don't need to worry about indices at all.\n",
      "\n",
      "2.  **Using `enumerate` (If You Need the Index):**\n",
      "\n",
      "    ```python\n",
      "    def func_x(array):\n",
      "      for index, element in enumerate(array):\n",
      "        print(f\"Index: {index}, Element: {element}\")  # Or whatever you need to do with the index\n",
      "    ```\n",
      "\n",
      "    *   **Explanation:**  `enumerate()` is a built-in function that adds a counter to an iterable and returns it as an enumerate object.  When you iterate over the enumerate object, you get pairs of `(index, element)`.  This is useful when you *specifically* need the index of each element during iteration.  The `f-string` is used for formatted output.\n",
      "\n",
      "3.  **List Comprehension (For Concise Printing, but less readable for simple printing):**\n",
      "\n",
      "    ```python\n",
      "    def func_x(array):\n",
      "      [print(element) for element in array]\n",
      "    ```\n",
      "\n",
      "    *   **Explanation:** List comprehensions are a concise way to create lists.  In this case, we're using it for its side effect (printing).  While it works, it's generally considered less readable than a simple `for` loop when the primary goal is just printing.  List comprehensions are best used when you're creating a *new* list based on the original.\n",
      "\n",
      "4.  **Using `map` (Less Common for Simple Printing):**\n",
      "\n",
      "    ```python\n",
      "    def func_x(array):\n",
      "      list(map(print, array))\n",
      "    ```\n",
      "\n",
      "    *   **Explanation:** `map()` applies a function to each item in an iterable.  Here, we're applying the `print` function to each element in the `array`.  We need to wrap it in `list()` (or another iterable constructor like `tuple()`) to force the `map` object to be evaluated (otherwise, it's a lazy iterator).  This is generally *not* the preferred way to print elements.  It's more useful when you want to apply a transformation to each element and create a new iterable.\n",
      "\n",
      "5.  **Using `join` for strings (Specific to printing a list of strings):**\n",
      "\n",
      "    ```python\n",
      "    def func_x(array):\n",
      "      print(\"\\n\".join(array))\n",
      "    ```\n",
      "\n",
      "    *   **Explanation:** This is a very efficient and readable way to print a list of strings, with each string on a new line.  `\"\\n\".join(array)` concatenates all the strings in the `array` with a newline character (`\\n`) between them, and then `print()` outputs the resulting string.  This is much faster than iterating and printing each string individually.  **Important:** This only works if the `array` contains strings.  If it contains other data types, you'll need to convert them to strings first (e.g., using `map(str, array)`).\n",
      "\n",
      "**Which Method to Choose:**\n",
      "\n",
      "*   **For simple printing of any iterable:**  Use direct iteration (`for element in array:`).  It's the most readable and efficient in most cases.\n",
      "*   **If you need the index:** Use `enumerate()`.\n",
      "*   **If you're creating a new list based on the original:** Use a list comprehension.\n",
      "*   **If you're applying a function to each element and creating a new iterable:** Use `map()`.\n",
      "*   **If you're printing a list of strings with each string on a new line:** Use `\"\\n\".join(array)`.\n",
      "\n",
      "**Example demonstrating the best approach:**\n",
      "\n",
      "```python\n",
      "def func_x(array):\n",
      "  for element in array:\n",
      "    print(element)\n",
      "\n",
      "my_list = [1, \"hello\", 3.14, True]\n",
      "func_x(my_list)\n",
      "```\n",
      "\n",
      "This will output:\n",
      "\n",
      "```\n",
      "1\n",
      "hello\n",
      "3.14\n",
      "True\n",
      "```\n",
      "\n",
      "This is the cleanest, most Pythonic, and generally most efficient way to achieve the desired result.  Choose the method that best suits your specific needs and prioritizes readability and clarity.\n",
      "\n"
     ]
    }
   ],
   "source": [
    "completion = generate_text(\n",
    "    prompt = prompt_template.format(question=question)\n",
    ")\n",
    "print(completion.text)"
   ]
  },
  {
   "cell_type": "markdown",
   "id": "6eee86fb-5c10-4e49-a830-7fbe56de241a",
   "metadata": {},
   "source": [
    "#### Paste markdown into a markdown cell\n",
    "\n",
    "If the model outputs what looks like a table in markdown, you can copy-paste markdown into a markdown cell to make it easier to view:\n",
    "\n",
    "For example:\n",
    "\n",
    "| Method | Pros | Cons |\n",
    "|---|---|---|\n",
    "| List comprehension | Concise | Can be difficult to read for complex code |\n",
    "| `enumerate()` | Easy to read | Requires an extra variable to store the index |\n",
    "| `map()` | Flexible | Requires a custom function to format the output |\n"
   ]
  },
  {
   "cell_type": "markdown",
   "id": "df910404-db59-4b9e-9477-408ccec9b7fc",
   "metadata": {},
   "source": [
    "#### Ask the model to recommend one of the methods as most 'Pythonic'"
   ]
  },
  {
   "cell_type": "code",
   "execution_count": 9,
   "id": "b776a8cb-80c4-4e20-89dc-7bff2a350b9a",
   "metadata": {
    "height": 168
   },
   "outputs": [],
   "source": [
    "prompt_template = \"\"\"\n",
    "I don't think this code is the best way to do it in Python, can you help me?\n",
    "\n",
    "{question}\n",
    "\n",
    "Please explore multiple ways of solving the problem, \n",
    "**and tell me which is the most Pythonic**\n",
    "\"\"\""
   ]
  },
  {
   "cell_type": "code",
   "execution_count": 10,
   "id": "89521d8c-41c8-45fd-9ec3-5eea54c642a4",
   "metadata": {
    "height": 81
   },
   "outputs": [
    {
     "name": "stdout",
     "output_type": "stream",
     "text": [
      "Okay, I can definitely help you explore better ways to iterate through and print elements of an array (or, more accurately in Python, a list) in Python.\n",
      "\n",
      "**The Original Code (and its Issues)**\n",
      "\n",
      "```python\n",
      "def func_x(array):\n",
      "  for i in range(len(array)):\n",
      "    print(array[i])\n",
      "```\n",
      "\n",
      "While this code *works*, it's not considered the most Pythonic way to iterate through a list.  The main issue is that you're using an index (`i`) to access the elements.  Python's `for` loop is designed to directly iterate over the *elements* themselves, which is cleaner and more readable.\n",
      "\n",
      "**More Pythonic Alternatives**\n",
      "\n",
      "Here are several alternative ways to achieve the same result, along with explanations and why they are considered more Pythonic:\n",
      "\n",
      "1. **Direct Iteration (Most Pythonic)**\n",
      "\n",
      "   ```python\n",
      "   def func_x(array):\n",
      "       for element in array:\n",
      "           print(element)\n",
      "   ```\n",
      "\n",
      "   * **Explanation:** This is the most common and preferred way to iterate through a list in Python.  The `for element in array:` loop directly assigns each element of the `array` to the variable `element` in each iteration.\n",
      "   * **Why it's Pythonic:**\n",
      "     * **Readability:** It's very clear what the code is doing: \"For each element in the array, do something.\"\n",
      "     * **Simplicity:**  Avoids unnecessary index manipulation.\n",
      "     * **Efficiency:**  Often slightly more efficient than using indices.\n",
      "\n",
      "2. **Using `enumerate` (If you need the index)**\n",
      "\n",
      "   ```python\n",
      "   def func_x(array):\n",
      "       for index, element in enumerate(array):\n",
      "           print(f\"Index: {index}, Element: {element}\")  # Or just print(element) if you don't need the index\n",
      "   ```\n",
      "\n",
      "   * **Explanation:**  `enumerate()` is a built-in function that adds a counter to an iterable (like a list) and returns it as an enumerate object.  You can then unpack the index and the element in the `for` loop.\n",
      "   * **Why it's Pythonic (when needed):**\n",
      "     * **Clarity:**  If you *need* the index for some reason (e.g., to modify the list at a specific position, or to print the index along with the element), `enumerate` is the cleanest way to get it.\n",
      "     * **Avoids Manual Indexing:**  Still avoids the `range(len(array))` pattern, which is generally less readable.\n",
      "\n",
      "3. **List Comprehension (For concise printing, but less readable for simple printing)**\n",
      "\n",
      "   ```python\n",
      "   def func_x(array):\n",
      "       [print(element) for element in array]\n",
      "   ```\n",
      "\n",
      "   * **Explanation:** List comprehensions are a concise way to create new lists.  In this case, we're using it to iterate through the `array` and print each element.  However, using a list comprehension *solely* for its side effect (printing) is generally discouraged.\n",
      "   * **Why it's *less* Pythonic for this specific task:**\n",
      "     * **Misuse of List Comprehension:** List comprehensions are primarily for creating new lists.  Using them just for side effects (like printing) can be less readable and less efficient than a simple `for` loop.  The list comprehension creates a list of `None` values (because `print` returns `None`), which is then discarded.\n",
      "     * **Readability:**  A simple `for` loop is usually clearer for basic iteration and printing.\n",
      "\n",
      "4. **Using `map` (Generally not recommended for printing)**\n",
      "\n",
      "   ```python\n",
      "   def func_x(array):\n",
      "       list(map(print, array))\n",
      "   ```\n",
      "\n",
      "   * **Explanation:** The `map` function applies a function (in this case, `print`) to each item in an iterable (the `array`).  We then convert the result to a list (although we don't actually use the list).\n",
      "   * **Why it's *not* Pythonic for this task:**\n",
      "     * **Overly Complex:**  It's a more complex way to achieve a simple task.\n",
      "     * **Side Effects:**  Like the list comprehension, it relies on the side effect of `print` rather than its return value.\n",
      "     * **Readability:**  Less readable than a simple `for` loop.\n",
      "\n",
      "**Which is the Most Pythonic?**\n",
      "\n",
      "For the specific task of simply printing each element of a list, the **direct iteration** method is the most Pythonic:\n",
      "\n",
      "```python\n",
      "def func_x(array):\n",
      "    for element in array:\n",
      "        print(element)\n",
      "```\n",
      "\n",
      "It's the most readable, simplest, and most efficient way to achieve the desired outcome.  Use `enumerate` only if you genuinely need the index of each element. Avoid list comprehensions and `map` when your primary goal is just to iterate and print.\n",
      "\n"
     ]
    }
   ],
   "source": [
    "completion = generate_text(\n",
    "    prompt = prompt_template.format(question=question)\n",
    ")\n",
    "print(completion.text)"
   ]
  },
  {
   "cell_type": "markdown",
   "id": "47315eff-85d3-45aa-bf14-a6f8ee1a43b9",
   "metadata": {},
   "source": [
    "### Scenario 2: Simplify code\n",
    "- Ask the LLM to perform a code review.\n",
    "- Note that adding/removing newline characters may affect the LLM completion that gets output by the LLM."
   ]
  },
  {
   "cell_type": "code",
   "execution_count": 11,
   "id": "ef1b24b6-c20c-4e3b-9f80-1a6dea18fa24",
   "metadata": {
    "height": 149
   },
   "outputs": [],
   "source": [
    "# option 1\n",
    "prompt_template = \"\"\"\n",
    "Can you please simplify this code for a linked list in Python?\n",
    "\n",
    "{question}\n",
    "\n",
    "Explain in detail what you did to modify it, and why.\n",
    "\"\"\""
   ]
  },
  {
   "cell_type": "markdown",
   "id": "f1c075dc-2f21-4ab5-99ed-798c08d20bad",
   "metadata": {},
   "source": [
    "After you try option 1, you can modify it to look like option 2 (in this markdown cell) and see how it changes the completion.\n",
    "```Python\n",
    "# option 2\n",
    "prompt_template = \"\"\"\n",
    "Can you please simplify this code for a linked list in Python? \\n\n",
    "You are an expert in Pythonic code.\n",
    "\n",
    "{question}\n",
    "\n",
    "Please comment each line in detail, \\n\n",
    "and explain in detail what you did to modify it, and why.\n",
    "\"\"\"\n",
    "```"
   ]
  },
  {
   "cell_type": "code",
   "execution_count": 25,
   "id": "4663db7e-3b40-4776-9dc9-87fea5975ff1",
   "metadata": {
    "height": 319
   },
   "outputs": [],
   "source": [
    "question = \"\"\"\n",
    "class Node:\n",
    "  def __init__(self, dataval=None):\n",
    "    self.dataval = dataval\n",
    "    self.nextval = None\n",
    "\n",
    "class SLinkedList:\n",
    "  def __init__(self):\n",
    "    self.headval = None\n",
    "\n",
    "# initialise the singly linked list - current node links to the next node\n",
    "list1 = SLinkedList()\n",
    "\n",
    "# add node1\n",
    "list1.headval = Node(\"Mon\")\n",
    "\n",
    "# create nodes2/3\n",
    "e2 = Node(\"Tue\")\n",
    "e3 = Node(\"Wed\")\n",
    "\n",
    "# link up the nodes\n",
    "list1.headval.nextval = e2\n",
    "e2.nextval = e3\n",
    "\n",
    "\"\"\""
   ]
  },
  {
   "cell_type": "code",
   "execution_count": 13,
   "id": "f954dcaf-3dfe-4265-b644-1bcbeead405b",
   "metadata": {
    "height": 81
   },
   "outputs": [
    {
     "name": "stdout",
     "output_type": "stream",
     "text": [
      "```python\n",
      "class Node:\n",
      "  def __init__(self, data):\n",
      "    self.data = data\n",
      "    self.next = None\n",
      "\n",
      "class LinkedList:\n",
      "  def __init__(self):\n",
      "    self.head = None\n",
      "\n",
      "# Example Usage:\n",
      "my_list = LinkedList()\n",
      "my_list.head = Node(\"Mon\")\n",
      "my_list.head.next = Node(\"Tue\")\n",
      "my_list.head.next.next = Node(\"Wed\")\n",
      "```\n",
      "\n",
      "Here's a breakdown of the changes and the reasoning behind them:\n",
      "\n",
      "**1. Renaming Variables for Clarity and Consistency:**\n",
      "\n",
      "*   `dataval` to `data`:  The term `data` is more standard and self-explanatory for representing the value stored within a node.  It's a common convention in data structures.\n",
      "*   `nextval` to `next`:  Similarly, `next` is the universally accepted name for the pointer to the next node in a linked list.  Using `nextval` is less common and can be confusing.\n",
      "*   `headval` to `head`:  Again, `head` is the standard name for the first node in a linked list.\n",
      "*   `SLinkedList` to `LinkedList`:  The \"S\" in `SLinkedList` likely stood for \"Singly\" linked list.  While technically correct, it's often omitted for brevity when it's clear we're dealing with a singly linked list.  If you were implementing a doubly linked list, you would keep the \"DoublyLinkedList\" name.\n",
      "*   `list1` to `my_list`:  More descriptive variable name.\n",
      "\n",
      "**2. Direct Node Creation and Linking in Example Usage:**\n",
      "\n",
      "*   Instead of creating `e2` and `e3` separately, the code now directly creates the `Node` objects and links them in the example usage section:\n",
      "\n",
      "    ```python\n",
      "    my_list.head.next = Node(\"Tue\")\n",
      "    my_list.head.next.next = Node(\"Wed\")\n",
      "    ```\n",
      "\n",
      "    This is more concise and readable.  It avoids the need for intermediate variables like `e2` and `e3` when the sole purpose of those variables is to link the nodes.\n",
      "\n",
      "**3. Removed Unnecessary Comments (for this specific example):**\n",
      "\n",
      "*   The original code didn't have comments, but if it did, I would remove any that were stating the obvious (e.g., `# This is a node`).  Good comments explain *why* something is done, not *what* is done.\n",
      "\n",
      "**Why these changes are important:**\n",
      "\n",
      "*   **Readability:**  The simplified code is easier to understand at a glance.  Clear variable names and a more direct approach to node creation and linking contribute significantly to readability.\n",
      "*   **Maintainability:**  Code that is easy to read is also easier to maintain.  When you or someone else needs to modify the code in the future, it will be easier to understand the existing logic and make changes without introducing errors.\n",
      "*   **Conventions:**  Using standard naming conventions makes your code more familiar to other developers who work with linked lists.  This improves collaboration and reduces the learning curve for new team members.\n",
      "*   **Conciseness:**  While not always the primary goal, shorter code can often be easier to understand, provided it doesn't sacrifice clarity.  The direct node creation and linking in the example usage section makes the code more concise without sacrificing readability.\n",
      "\n",
      "In summary, the simplified code is more readable, maintainable, and adheres to common Python and linked list conventions.  It achieves the same functionality as the original code but in a more elegant and understandable way.\n",
      "\n"
     ]
    }
   ],
   "source": [
    "completion = generate_text(\n",
    "    prompt = prompt_template.format(question=question)\n",
    ")\n",
    "print(completion.text)"
   ]
  },
  {
   "cell_type": "code",
   "execution_count": 15,
   "id": "f13fcb25",
   "metadata": {
    "height": 285
   },
   "outputs": [
    {
     "data": {
      "text/plain": [
       "<__main__.LinkedList at 0x7fd3981667d0>"
      ]
     },
     "execution_count": 15,
     "metadata": {},
     "output_type": "execute_result"
    }
   ],
   "source": [
    "# try the model's ode\n",
    "class Node:\n",
    "  def __init__(self, data):\n",
    "    self.data = data\n",
    "    self.next = None\n",
    "\n",
    "class LinkedList:\n",
    "  def __init__(self):\n",
    "    self.head = None\n",
    "\n",
    "# Example Usage:\n",
    "my_list = LinkedList()\n",
    "my_list.head = Node(\"Mon\")\n",
    "my_list.head.next = Node(\"Tue\")\n",
    "my_list.head.next.next = Node(\"Wed\")\n",
    "my_list"
   ]
  },
  {
   "cell_type": "code",
   "execution_count": 18,
   "id": "1956db20",
   "metadata": {
    "height": 30
   },
   "outputs": [
    {
     "data": {
      "text/plain": [
       "'Mon'"
      ]
     },
     "execution_count": 18,
     "metadata": {},
     "output_type": "execute_result"
    }
   ],
   "source": [
    "my_list.head.data"
   ]
  },
  {
   "cell_type": "code",
   "execution_count": 19,
   "id": "6d0391ed",
   "metadata": {
    "height": 30
   },
   "outputs": [
    {
     "data": {
      "text/plain": [
       "'Tue'"
      ]
     },
     "execution_count": 19,
     "metadata": {},
     "output_type": "execute_result"
    }
   ],
   "source": [
    "my_list.head.next.data"
   ]
  },
  {
   "cell_type": "code",
   "execution_count": 20,
   "id": "14aa2b84",
   "metadata": {
    "height": 30
   },
   "outputs": [
    {
     "data": {
      "text/plain": [
       "'Wed'"
      ]
     },
     "execution_count": 20,
     "metadata": {},
     "output_type": "execute_result"
    }
   ],
   "source": [
    "my_list.head.next.next.data"
   ]
  },
  {
   "cell_type": "markdown",
   "id": "053674ae",
   "metadata": {
    "height": 30
   },
   "source": [
    "#### Option 2"
   ]
  },
  {
   "cell_type": "code",
   "execution_count": 26,
   "id": "8d5d8250",
   "metadata": {
    "height": 251
   },
   "outputs": [
    {
     "name": "stdout",
     "output_type": "stream",
     "text": [
      "```python\n",
      "class Node:\n",
      "    \"\"\"Represents a node in the linked list.\"\"\"\n",
      "    def __init__(self, data=None):\n",
      "        \"\"\"Initializes a new node with optional data.\"\"\"\n",
      "        self.data = data  # Data stored in the node\n",
      "        self.next = None  # Pointer to the next node in the list (initially None)\n",
      "\n",
      "\n",
      "class LinkedList:\n",
      "    \"\"\"Represents a singly linked list.\"\"\"\n",
      "    def __init__(self):\n",
      "        \"\"\"Initializes an empty linked list.\"\"\"\n",
      "        self.head = None  # The head of the list (initially None)\n",
      "\n",
      "\n",
      "# Initialize the linked list\n",
      "my_list = LinkedList()\n",
      "\n",
      "# Add the first node\n",
      "my_list.head = Node(\"Mon\")\n",
      "\n",
      "# Add the second node\n",
      "my_list.head.next = Node(\"Tue\")\n",
      "\n",
      "# Add the third node\n",
      "my_list.head.next.next = Node(\"Wed\")\n",
      "```\n",
      "\n",
      "**Explanation of Changes and Simplifications:**\n",
      "\n",
      "1.  **Class Naming:**\n",
      "    *   `SLinkedList` was changed to `LinkedList`.  The \"S\" for \"Singly\" is redundant in the class name, as the implementation already implies it's a singly linked list.  Using `LinkedList` is more concise and common practice.\n",
      "\n",
      "2.  **Variable Naming:**\n",
      "    *   `dataval` was changed to `data` within the `Node` class. This is a more standard and readable name for the data stored in a node.\n",
      "    *   `nextval` was changed to `next` within the `Node` class.  Again, this is a more common and concise name for the pointer to the next node.\n",
      "    *   `headval` was changed to `head` within the `LinkedList` class.  This is more concise and readable.\n",
      "    *   `list1` was changed to `my_list`.  This is a more descriptive and Pythonic variable name.\n",
      "    *   `e2` and `e3` were removed.  Instead of creating separate variables for each node, the nodes are directly created and linked in the main part of the code. This reduces the number of variables and makes the code more compact.\n",
      "\n",
      "3.  **Node Creation and Linking:**\n",
      "    *   The node creation and linking were simplified. Instead of creating separate `Node` objects (`e2`, `e3`) and then linking them, the nodes are created and linked directly in the main part of the code. This makes the code more concise and easier to read.\n",
      "\n",
      "4.  **Comments:**\n",
      "    *   The comments were improved to be more descriptive and explain the purpose of each line of code.\n",
      "\n",
      "**Why these changes were made:**\n",
      "\n",
      "*   **Readability:** The primary goal was to make the code more readable and easier to understand.  Using standard naming conventions and reducing unnecessary variables improves readability.\n",
      "*   **Conciseness:** The code was made more concise by removing redundant information and simplifying the node creation and linking process.\n",
      "*   **Pythonic Style:** The changes align with common Python coding conventions and best practices.  This makes the code more idiomatic and easier for other Python developers to understand.\n",
      "*   **Maintainability:**  The simplified code is easier to maintain and modify in the future.\n",
      "\n",
      "The resulting code is functionally equivalent to the original code but is more readable, concise, and Pythonic.  It's easier to understand the structure of the linked list and how the nodes are connected.\n",
      "\n"
     ]
    }
   ],
   "source": [
    "# option 2\n",
    "prompt_template2 = \"\"\"\n",
    "Can you please simplify this code for a linked list in Python? \\n\n",
    "**You are an expert in Pythonic code.**\n",
    "\n",
    "{question}\n",
    "\n",
    "Please comment each line in detail, \\n\n",
    "and explain in detail what you did to modify it, and why.\n",
    "\"\"\"\n",
    "completion = generate_text(\n",
    "    prompt = prompt_template2.format(question=question)\n",
    ")\n",
    "print(completion.text)"
   ]
  },
  {
   "cell_type": "markdown",
   "id": "2842f412-36f7-461f-a07f-eb95b345174d",
   "metadata": {},
   "source": [
    "### Scenario 3: Write test cases\n",
    "\n",
    "- It may help to specify that you want the LLM to output \"in code\" to encourage it to write unit tests instead of just returning test cases in English."
   ]
  },
  {
   "cell_type": "code",
   "execution_count": 21,
   "id": "cf4c29c6-fe80-4aed-9e86-2daa6d862101",
   "metadata": {
    "height": 132
   },
   "outputs": [],
   "source": [
    "prompt_template = \"\"\"\n",
    "Can you please create test cases in code for this Python code?\n",
    "\n",
    "{question}\n",
    "\n",
    "Explain in detail what these test cases are designed to achieve.\n",
    "\"\"\""
   ]
  },
  {
   "cell_type": "code",
   "execution_count": 22,
   "id": "3259b810-52b4-446b-971b-136df45d0f97",
   "metadata": {
    "height": 387
   },
   "outputs": [],
   "source": [
    "# Note that the code I'm using here was output in the previous\n",
    "# section. Your output code may be different.\n",
    "question = \"\"\"\n",
    "class Node:\n",
    "  def __init__(self, dataval=None):\n",
    "    self.dataval = dataval\n",
    "    self.nextval = None\n",
    "\n",
    "class SLinkedList:\n",
    "  def __init__(self):\n",
    "    self.head = None\n",
    "\n",
    "def create_linked_list(data):\n",
    "  head = Node(data[0])\n",
    "  for i in range(1, len(data)):\n",
    "    node = Node(data[i])\n",
    "    node.nextval = head\n",
    "    head = node\n",
    "  return head\n",
    "\n",
    "list1 = create_linked_list([\"Mon\", \"Tue\", \"Wed\"])\n",
    "\"\"\""
   ]
  },
  {
   "cell_type": "code",
   "execution_count": 23,
   "id": "ab46dc7e-393a-4ec3-a443-39b39437dd05",
   "metadata": {
    "height": 81
   },
   "outputs": [
    {
     "name": "stdout",
     "output_type": "stream",
     "text": [
      "```python\n",
      "import unittest\n",
      "\n",
      "class Node:\n",
      "  def __init__(self, dataval=None):\n",
      "    self.dataval = dataval\n",
      "    self.nextval = None\n",
      "\n",
      "class SLinkedList:\n",
      "  def __init__(self):\n",
      "    self.head = None\n",
      "\n",
      "def create_linked_list(data):\n",
      "  head = Node(data[0])\n",
      "  for i in range(1, len(data)):\n",
      "    node = Node(data[i])\n",
      "    node.nextval = head\n",
      "    head = node\n",
      "  return head\n",
      "\n",
      "\n",
      "class TestCreateLinkedList(unittest.TestCase):\n",
      "\n",
      "    def test_empty_list(self):\n",
      "        \"\"\"Test creating a linked list from an empty list.\"\"\"\n",
      "        head = create_linked_list([])\n",
      "        self.assertIsNone(head)\n",
      "\n",
      "    def test_single_element_list(self):\n",
      "        \"\"\"Test creating a linked list from a list with a single element.\"\"\"\n",
      "        head = create_linked_list([\"Mon\"])\n",
      "        self.assertEqual(head.dataval, \"Mon\")\n",
      "        self.assertIsNone(head.nextval)\n",
      "\n",
      "    def test_multiple_elements_list(self):\n",
      "        \"\"\"Test creating a linked list from a list with multiple elements.\"\"\"\n",
      "        head = create_linked_list([\"Mon\", \"Tue\", \"Wed\"])\n",
      "        self.assertEqual(head.dataval, \"Wed\")\n",
      "        self.assertEqual(head.nextval.dataval, \"Tue\")\n",
      "        self.assertEqual(head.nextval.nextval.dataval, \"Mon\")\n",
      "        self.assertIsNone(head.nextval.nextval.nextval)\n",
      "\n",
      "    def test_different_data_types(self):\n",
      "        \"\"\"Test creating a linked list with different data types.\"\"\"\n",
      "        head = create_linked_list([1, \"hello\", 3.14])\n",
      "        self.assertEqual(head.dataval, 3.14)\n",
      "        self.assertEqual(head.nextval.dataval, \"hello\")\n",
      "        self.assertEqual(head.nextval.nextval.dataval, 1)\n",
      "        self.assertIsNone(head.nextval.nextval.nextval)\n",
      "\n",
      "    def test_duplicate_elements(self):\n",
      "        \"\"\"Test creating a linked list with duplicate elements.\"\"\"\n",
      "        head = create_linked_list([\"A\", \"B\", \"A\", \"C\"])\n",
      "        self.assertEqual(head.dataval, \"C\")\n",
      "        self.assertEqual(head.nextval.dataval, \"A\")\n",
      "        self.assertEqual(head.nextval.nextval.dataval, \"B\")\n",
      "        self.assertEqual(head.nextval.nextval.nextval.dataval, \"A\")\n",
      "        self.assertIsNone(head.nextval.nextval.nextval.nextval)\n",
      "\n",
      "    def test_long_list(self):\n",
      "        \"\"\"Test creating a linked list from a long list to check for performance and stack overflow issues.\"\"\"\n",
      "        data = list(range(1000))\n",
      "        head = create_linked_list(data)\n",
      "        # Only check the first and last few elements to avoid excessive assertions\n",
      "        self.assertEqual(head.dataval, 999)\n",
      "        self.assertEqual(head.nextval.dataval, 998)\n",
      "        # Traverse to the end (or near the end) to check the structure\n",
      "        current = head\n",
      "        for _ in range(997):\n",
      "            current = current.nextval\n",
      "        self.assertEqual(current.dataval, 2)\n",
      "        self.assertEqual(current.nextval.dataval, 1)\n",
      "        self.assertEqual(current.nextval.nextval.dataval, 0)\n",
      "        self.assertIsNone(current.nextval.nextval.nextval)\n",
      "\n",
      "\n",
      "if __name__ == '__main__':\n",
      "    unittest.main()\n",
      "```\n",
      "\n",
      "**Explanation of Test Cases:**\n",
      "\n",
      "The code uses the `unittest` framework in Python to create a suite of test cases for the `create_linked_list` function.  Each test case is designed to verify a specific aspect of the function's behavior.  Here's a breakdown:\n",
      "\n",
      "1.  **`test_empty_list(self)`:**\n",
      "    *   **Purpose:**  Checks what happens when an empty list is passed to `create_linked_list`.\n",
      "    *   **Expected Behavior:**  The function should return `None` because there are no elements to create nodes from.  An empty list should result in an empty linked list (represented by a `None` head).\n",
      "\n",
      "2.  **`test_single_element_list(self)`:**\n",
      "    *   **Purpose:**  Tests the function with a list containing only one element.\n",
      "    *   **Expected Behavior:**  The function should create a linked list with a single node.  The `dataval` of the head node should be the element from the list, and the `nextval` of the head node should be `None` (because it's the last node).\n",
      "\n",
      "3.  **`test_multiple_elements_list(self)`:**\n",
      "    *   **Purpose:**  Tests the function with a list containing multiple elements.  This is the most common scenario.\n",
      "    *   **Expected Behavior:**  The function should create a linked list where the elements are added in reverse order (due to the way the `create_linked_list` function is implemented).  The test verifies the `dataval` of the head node and the `dataval` of the subsequent nodes using `nextval` to traverse the list.  It also checks that the `nextval` of the last node is `None`.\n",
      "\n",
      "4.  **`test_different_data_types(self)`:**\n",
      "    *   **Purpose:**  Verifies that the function can handle lists containing elements of different data types (integers, strings, floats, etc.).\n",
      "    *   **Expected Behavior:**  The function should correctly create the linked list, storing the different data types in the `dataval` attributes of the nodes.\n",
      "\n",
      "5.  **`test_duplicate_elements(self)`:**\n",
      "    *   **Purpose:**  Checks if the function correctly handles lists with duplicate elements.\n",
      "    *   **Expected Behavior:**  The function should create the linked list without any issues, even if there are duplicate values in the input list.  The order of the elements should still be reversed as expected.\n",
      "\n",
      "6.  **`test_long_list(self)`:**\n",
      "    *   **Purpose:**  Tests the function with a very long list to check for potential performance issues or stack overflow errors (which can occur with recursive implementations, although this implementation is iterative).\n",
      "    *   **Expected Behavior:**  The function should be able to create a long linked list without crashing or running out of memory.  The test only checks the first and last few elements to avoid creating an excessively long test execution time.  It also traverses the list to ensure the links are correctly established.\n",
      "\n",
      "**How to Run the Tests:**\n",
      "\n",
      "1.  **Save the code:** Save the code (including the test cases) as a Python file (e.g., `linked_list_test.py`).\n",
      "2.  **Run from the command line:** Open a terminal or command prompt, navigate to the directory where you saved the file, and run the following command:\n",
      "\n",
      "    ```bash\n",
      "    python -m unittest linked_list_test.py\n",
      "    ```\n",
      "\n",
      "    This will execute the test suite and report the results (whether the tests passed or failed).\n",
      "\n",
      "**Key Concepts Used in the Tests:**\n",
      "\n",
      "*   **`unittest` Framework:**  Python's built-in testing framework.  It provides a structure for organizing and running tests.\n",
      "*   **`unittest.TestCase`:**  The base class for creating test cases.  Each test case is a method within a subclass of `unittest.TestCase`.\n",
      "*   **`self.assertEqual(a, b)`:**  An assertion method that checks if `a` is equal to `b`.  If they are not equal, the test fails.\n",
      "*   **`self.assertIsNone(x)`:** An assertion method that checks if `x` is `None`. If it is not `None`, the test fails.\n",
      "*   **Assertions:**  Statements that check if a condition is true.  If an assertion fails, the test case fails.\n",
      "*   **Test-Driven Development (TDD):**  While not explicitly stated, these tests are written to define the expected behavior of the `create_linked_list` function.  In TDD, you would typically write the tests *before* writing the function itself.\n",
      "\n",
      "These test cases provide good coverage for the `create_linked_list` function, ensuring that it handles various input scenarios correctly.  They also serve as documentation for how the function is intended to be used.\n",
      "\n"
     ]
    }
   ],
   "source": [
    "completion = generate_text(\n",
    "    prompt = prompt_template.format(question=question)\n",
    ")\n",
    "print(completion.text)"
   ]
  },
  {
   "cell_type": "code",
   "execution_count": 27,
   "id": "c3880813",
   "metadata": {
    "height": 1337
   },
   "outputs": [
    {
     "name": "stderr",
     "output_type": "stream",
     "text": [
      "E\n",
      "======================================================================\n",
      "ERROR: /home/jovyan/ (unittest.loader._FailedTest)\n",
      "----------------------------------------------------------------------\n",
      "AttributeError: module '__main__' has no attribute '/home/jovyan/'\n",
      "\n",
      "----------------------------------------------------------------------\n",
      "Ran 1 test in 0.001s\n",
      "\n",
      "FAILED (errors=1)\n"
     ]
    },
    {
     "ename": "SystemExit",
     "evalue": "True",
     "output_type": "error",
     "traceback": [
      "An exception has occurred, use %tb to see the full traceback.\n",
      "\u001b[0;31mSystemExit\u001b[0m\u001b[0;31m:\u001b[0m True\n"
     ]
    },
    {
     "name": "stderr",
     "output_type": "stream",
     "text": [
      "/usr/local/lib/python3.10/site-packages/IPython/core/interactiveshell.py:3516: UserWarning: To exit: use 'exit', 'quit', or Ctrl-D.\n",
      "  warn(\"To exit: use 'exit', 'quit', or Ctrl-D.\", stacklevel=1)\n"
     ]
    }
   ],
   "source": [
    "import unittest\n",
    "\n",
    "class Node:\n",
    "  def __init__(self, dataval=None):\n",
    "    self.dataval = dataval\n",
    "    self.nextval = None\n",
    "\n",
    "class SLinkedList:\n",
    "  def __init__(self):\n",
    "    self.head = None\n",
    "\n",
    "def create_linked_list(data):\n",
    "  head = Node(data[0])\n",
    "  for i in range(1, len(data)):\n",
    "    node = Node(data[i])\n",
    "    node.nextval = head\n",
    "    head = node\n",
    "  return head\n",
    "\n",
    "\n",
    "class TestCreateLinkedList(unittest.TestCase):\n",
    "\n",
    "    def test_empty_list(self):\n",
    "        \"\"\"Test creating a linked list from an empty list.\"\"\"\n",
    "        head = create_linked_list([])\n",
    "        self.assertIsNone(head)\n",
    "\n",
    "    def test_single_element_list(self):\n",
    "        \"\"\"Test creating a linked list from a list with a single element.\"\"\"\n",
    "        head = create_linked_list([\"Mon\"])\n",
    "        self.assertEqual(head.dataval, \"Mon\")\n",
    "        self.assertIsNone(head.nextval)\n",
    "\n",
    "    def test_multiple_elements_list(self):\n",
    "        \"\"\"Test creating a linked list from a list with multiple elements.\"\"\"\n",
    "        head = create_linked_list([\"Mon\", \"Tue\", \"Wed\"])\n",
    "        self.assertEqual(head.dataval, \"Wed\")\n",
    "        self.assertEqual(head.nextval.dataval, \"Tue\")\n",
    "        self.assertEqual(head.nextval.nextval.dataval, \"Mon\")\n",
    "        self.assertIsNone(head.nextval.nextval.nextval)\n",
    "\n",
    "    def test_different_data_types(self):\n",
    "        \"\"\"Test creating a linked list with different data types.\"\"\"\n",
    "        head = create_linked_list([1, \"hello\", 3.14])\n",
    "        self.assertEqual(head.dataval, 3.14)\n",
    "        self.assertEqual(head.nextval.dataval, \"hello\")\n",
    "        self.assertEqual(head.nextval.nextval.dataval, 1)\n",
    "        self.assertIsNone(head.nextval.nextval.nextval)\n",
    "\n",
    "    def test_duplicate_elements(self):\n",
    "        \"\"\"Test creating a linked list with duplicate elements.\"\"\"\n",
    "        head = create_linked_list([\"A\", \"B\", \"A\", \"C\"])\n",
    "        self.assertEqual(head.dataval, \"C\")\n",
    "        self.assertEqual(head.nextval.dataval, \"A\")\n",
    "        self.assertEqual(head.nextval.nextval.dataval, \"B\")\n",
    "        self.assertEqual(head.nextval.nextval.nextval.dataval, \"A\")\n",
    "        self.assertIsNone(head.nextval.nextval.nextval.nextval)\n",
    "\n",
    "    def test_long_list(self):\n",
    "        \"\"\"Test creating a linked list from a long list to check for performance and stack overflow issues.\"\"\"\n",
    "        data = list(range(1000))\n",
    "        head = create_linked_list(data)\n",
    "        # Only check the first and last few elements to avoid excessive assertions\n",
    "        self.assertEqual(head.dataval, 999)\n",
    "        self.assertEqual(head.nextval.dataval, 998)\n",
    "        # Traverse to the end (or near the end) to check the structure\n",
    "        current = head\n",
    "        for _ in range(997):\n",
    "            current = current.nextval\n",
    "        self.assertEqual(current.dataval, 2)\n",
    "        self.assertEqual(current.nextval.dataval, 1)\n",
    "        self.assertEqual(current.nextval.nextval.dataval, 0)\n",
    "        self.assertIsNone(current.nextval.nextval.nextval)\n",
    "\n",
    "\n",
    "if __name__ == '__main__':\n",
    "    unittest.main()"
   ]
  },
  {
   "cell_type": "markdown",
   "id": "5b4e34dd-167c-4ce5-b0a6-20b1cf78f53c",
   "metadata": {},
   "source": [
    "### Scenario 4: Make code more efficient\n",
    "- Improve runtime by potentially avoiding inefficient methods (such as ones that use recursion when not needed)."
   ]
  },
  {
   "cell_type": "code",
   "execution_count": 28,
   "id": "da4197f9-c6de-490d-a05e-6b604e0c0c40",
   "metadata": {
    "height": 168
   },
   "outputs": [],
   "source": [
    "prompt_template = \"\"\"\n",
    "Can you please make this code more efficient?\n",
    "\n",
    "{question}\n",
    "\n",
    "\n",
    "# 'decorator'\n",
    "Explain in detail what you changed and why.\n",
    "\"\"\""
   ]
  },
  {
   "cell_type": "code",
   "execution_count": 29,
   "id": "f653f4e0-c847-4639-8702-a9b16b161c24",
   "metadata": {
    "height": 489
   },
   "outputs": [],
   "source": [
    "question = \"\"\"\n",
    "# Returns index of x in arr if present, else -1\n",
    "def binary_search(arr, low, high, x):\n",
    "    # Check base case\n",
    "    if high >= low:\n",
    "        mid = (high + low) // 2\n",
    "        if arr[mid] == x:\n",
    "            return mid\n",
    "        elif arr[mid] > x:\n",
    "            return binary_search(arr, low, mid - 1, x)\n",
    "        else:\n",
    "            return binary_search(arr, mid + 1, high, x)\n",
    "    else:\n",
    "        return -1\n",
    "\n",
    "# Test array\n",
    "arr = [ 2, 3, 4, 10, 40 ]\n",
    "x = 10\n",
    "\n",
    "# Function call\n",
    "result = binary_search(arr, 0, len(arr)-1, x)\n",
    "\n",
    "if result != -1:\n",
    "    print(\"Element is present at index\", str(result))\n",
    "else:\n",
    "    print(\"Element is not present in array\")\n",
    "\n",
    "\"\"\""
   ]
  },
  {
   "cell_type": "code",
   "execution_count": 30,
   "id": "c0150e46-ca82-420d-82ec-54eca96bd3d2",
   "metadata": {
    "height": 81
   },
   "outputs": [
    {
     "name": "stdout",
     "output_type": "stream",
     "text": [
      "```python\n",
      "# Returns index of x in arr if present, else -1\n",
      "def binary_search(arr, low, high, x):\n",
      "    \"\"\"\n",
      "    Performs a binary search on a sorted array.\n",
      "\n",
      "    Args:\n",
      "        arr: The sorted array to search.\n",
      "        low: The starting index of the search range.\n",
      "        high: The ending index of the search range.\n",
      "        x: The element to search for.\n",
      "\n",
      "    Returns:\n",
      "        The index of x in arr if present, else -1.\n",
      "    \"\"\"\n",
      "    while low <= high:\n",
      "        mid = low + (high - low) // 2  # Prevent potential overflow\n",
      "        if arr[mid] == x:\n",
      "            return mid\n",
      "        elif arr[mid] < x:\n",
      "            low = mid + 1\n",
      "        else:\n",
      "            high = mid - 1\n",
      "    return -1\n",
      "\n",
      "# Test array\n",
      "arr = [ 2, 3, 4, 10, 40 ]\n",
      "x = 10\n",
      "\n",
      "# Function call\n",
      "result = binary_search(arr, 0, len(arr)-1, x)\n",
      "\n",
      "if result != -1:\n",
      "    print(\"Element is present at index\", str(result))\n",
      "else:\n",
      "    print(\"Element is not present in array\")\n",
      "```\n",
      "\n",
      "Here's a breakdown of the changes and the reasoning behind them:\n",
      "\n",
      "**1. Iterative Approach Instead of Recursion:**\n",
      "\n",
      "*   **Original Code:** The original code used a recursive implementation of binary search.  Recursion involves function calls, which have overhead associated with them (stack management, function call setup/teardown).  For large arrays, this overhead can become significant.\n",
      "*   **Modified Code:** The improved code uses an iterative (loop-based) approach.  Iterative solutions generally have better performance than recursive solutions for problems like binary search because they avoid the function call overhead.\n",
      "\n",
      "**Why Iteration is More Efficient:**\n",
      "\n",
      "*   **Reduced Overhead:** Iteration avoids the overhead of function calls, making it faster, especially for large datasets.\n",
      "*   **Stack Overflow Prevention:**  Deep recursion can lead to stack overflow errors if the search space is very large. Iteration doesn't have this limitation.\n",
      "\n",
      "**2. Overflow Prevention in Midpoint Calculation:**\n",
      "\n",
      "*   **Original Code:** `mid = (high + low) // 2`\n",
      "*   **Modified Code:** `mid = low + (high - low) // 2`\n",
      "\n",
      "**Why Overflow Prevention is Important:**\n",
      "\n",
      "*   In the original code, if `high` and `low` are very large numbers, their sum `(high + low)` could potentially exceed the maximum value that an integer can hold, leading to an integer overflow. This overflow could result in a negative value or a value that wraps around, causing incorrect results.\n",
      "*   The modified code avoids this by calculating the midpoint as `low + (high - low) // 2`. This is mathematically equivalent but prevents the potential overflow because it doesn't directly sum `high` and `low`.  It calculates the difference between `high` and `low`, which is guaranteed to be smaller than either `high` or `low`, and then adds that difference to `low`.\n",
      "\n",
      "**In summary:**\n",
      "\n",
      "The iterative approach eliminates function call overhead, and the modified midpoint calculation prevents potential integer overflows, making the code more efficient and robust, especially when dealing with large arrays and large index values.  The iterative version is generally preferred for binary search in most practical scenarios.\n",
      "\n"
     ]
    }
   ],
   "source": [
    "completion = generate_text(\n",
    "    prompt = prompt_template.format(question=question)\n",
    ")\n",
    "print(completion.text)"
   ]
  },
  {
   "cell_type": "markdown",
   "id": "44a24541-c37b-48a0-bc71-a8323f0b9e2d",
   "metadata": {},
   "source": [
    "#### Try out the LLM-generated code\n",
    "- If it uses `bisect`, you may first need to `import bisect`\n",
    "- Remember to check what the generated code is actually doing.  For instance, the code may work because it is calling a predefined function (such as `bisect`), even though the rest of the code is technically broken."
   ]
  },
  {
   "cell_type": "code",
   "execution_count": null,
   "id": "ecde2b81-6e00-4977-b888-39e2f65a8d79",
   "metadata": {
    "height": 40
   },
   "outputs": [],
   "source": [
    "# Paste the LLM-generated code to inspect and debug it\n"
   ]
  },
  {
   "cell_type": "code",
   "execution_count": 33,
   "id": "d7e7545e",
   "metadata": {
    "height": 623
   },
   "outputs": [
    {
     "name": "stdout",
     "output_type": "stream",
     "text": [
      "Element is present at index 3\n"
     ]
    }
   ],
   "source": [
    "# Returns index of x in arr if present, else -1\n",
    "def binary_search(arr, low, high, x):\n",
    "    \"\"\"\n",
    "    Performs a binary search on a sorted array.\n",
    "\n",
    "    Args:\n",
    "        arr: The sorted array to search.\n",
    "        low: The starting index of the search range.\n",
    "        high: The ending index of the search range.\n",
    "        x: The element to search for.\n",
    "\n",
    "    Returns:\n",
    "        The index of x in arr if present, else -1.\n",
    "    \"\"\"\n",
    "    while low <= high:\n",
    "        mid = low + (high - low) // 2  # Prevent potential overflow\n",
    "        if arr[mid] == x:\n",
    "            return mid\n",
    "        elif arr[mid] < x:\n",
    "            low = mid + 1\n",
    "        else:\n",
    "            high = mid - 1\n",
    "    return -1\n",
    "\n",
    "# Test array\n",
    "arr = [ 2, 3, 4, 10, 40 ]\n",
    "x = 10\n",
    "\n",
    "# Function call\n",
    "result = binary_search(arr, 0, len(arr)-1, x)\n",
    "\n",
    "if result != -1:\n",
    "    print(\"Element is present at index\", str(result))\n",
    "else:\n",
    "    print(\"Element is not present in array\")"
   ]
  },
  {
   "cell_type": "code",
   "execution_count": 34,
   "id": "dc05f9bb",
   "metadata": {
    "height": 200
   },
   "outputs": [
    {
     "name": "stdout",
     "output_type": "stream",
     "text": [
      "Element is not present in array\n"
     ]
    }
   ],
   "source": [
    "# Test array\n",
    "arr = [ 2, 3, 4, 10, 40 ]\n",
    "x = 14\n",
    "\n",
    "# Function call\n",
    "result = binary_search(arr, 0, len(arr)-1, x)\n",
    "\n",
    "if result != -1:\n",
    "    print(\"Element is present at index\", str(result))\n",
    "else:\n",
    "    print(\"Element is not present in array\")"
   ]
  },
  {
   "cell_type": "markdown",
   "id": "7326a0cc-338b-4c83-9b57-3a84094f800a",
   "metadata": {},
   "source": [
    "### Scenario 5: Debug your code"
   ]
  },
  {
   "cell_type": "code",
   "execution_count": 35,
   "id": "a10179f2-e09e-4c72-9991-a6f5d8418fc4",
   "metadata": {
    "height": 132
   },
   "outputs": [],
   "source": [
    "prompt_template = \"\"\"\n",
    "Can you please help me to debug this code?\n",
    "\n",
    "{question}\n",
    "\n",
    "Explain in detail what you found and why it was a bug.\n",
    "\"\"\""
   ]
  },
  {
   "cell_type": "code",
   "execution_count": 36,
   "id": "ed8384ba-3641-407e-add6-52efa2a43b48",
   "metadata": {
    "height": 625
   },
   "outputs": [],
   "source": [
    "# I deliberately introduced a bug into this code! \n",
    "# Let's see if the LLM can find it.\n",
    "# Note -- the model can't see this comment -- but the bug is in the\n",
    "# 'print' function. \n",
    "# There's a circumstance where nodes can be null, and trying\n",
    "# to print them would give a null error.\n",
    "question = \"\"\"\n",
    "class Node:\n",
    "   def __init__(self, data):\n",
    "      self.data = data\n",
    "      self.next = None\n",
    "      self.prev = None\n",
    "\n",
    "class doubly_linked_list:\n",
    "   def __init__(self):\n",
    "      self.head = None\n",
    "\n",
    "# Adding data elements\n",
    "   def push(self, NewVal):\n",
    "      NewNode = Node(NewVal)\n",
    "      NewNode.next = self.head\n",
    "      if self.head is not None:\n",
    "         self.head.prev = NewNode\n",
    "      self.head = NewNode\n",
    "\n",
    "# Print the Doubly Linked list in order\n",
    "   def listprint(self, node):\n",
    "       print(node.data),\n",
    "       last = node\n",
    "       node = node.next\n",
    "\n",
    "dllist = doubly_linked_list()\n",
    "dllist.push(12)\n",
    "dllist.push(8)\n",
    "dllist.push(62)\n",
    "dllist.listprint(dllist.head)\n",
    "\n",
    "\"\"\""
   ]
  },
  {
   "cell_type": "markdown",
   "id": "2e4874fd-722a-4b3d-8ca1-fab36c5e84f4",
   "metadata": {},
   "source": [
    "Notice in this case that we are using the default temperature of `0.7` to generate the example that you're seeing in the lecture video.  \n",
    "- Since a temperature > 0 encourages more randomness in the LLM output, you may want to run this code a couple times to see what it outputs."
   ]
  },
  {
   "cell_type": "code",
   "execution_count": 37,
   "id": "360527f9-495e-41f4-a280-579f3643a36b",
   "metadata": {
    "height": 98
   },
   "outputs": [
    {
     "name": "stdout",
     "output_type": "stream",
     "text": [
      "Okay, let's analyze the provided code and identify the bug.\n",
      "\n",
      "**Code:**\n",
      "\n",
      "```python\n",
      "class Node:\n",
      "   def __init__(self, data):\n",
      "      self.data = data\n",
      "      self.next = None\n",
      "      self.prev = None\n",
      "\n",
      "class doubly_linked_list:\n",
      "   def __init__(self):\n",
      "      self.head = None\n",
      "\n",
      "# Adding data elements\n",
      "   def push(self, NewVal):\n",
      "      NewNode = Node(NewVal)\n",
      "      NewNode.next = self.head\n",
      "      if self.head is not None:\n",
      "         self.head.prev = NewNode\n",
      "      self.head = NewNode\n",
      "\n",
      "# Print the Doubly Linked list in order\n",
      "   def listprint(self, node):\n",
      "       print(node.data), # Python 2 style print statement\n",
      "       last = node\n",
      "       node = node.next\n",
      "\n",
      "dllist = doubly_linked_list()\n",
      "dllist.push(12)\n",
      "dllist.push(8)\n",
      "dllist.push(62)\n",
      "dllist.listprint(dllist.head)\n",
      "```\n",
      "\n",
      "**The Bug:**\n",
      "\n",
      "The `listprint` method only prints the first node in the list. It does not iterate through the rest of the list.\n",
      "\n",
      "**Explanation:**\n",
      "\n",
      "The `listprint` function is designed to print the doubly linked list. However, within the `listprint` function, the `node = node.next` line only gets executed once.  There is no loop to continue printing the remaining nodes in the list.\n",
      "\n",
      "**Why it's a bug:**\n",
      "\n",
      "The intention of `listprint` is to traverse the entire linked list and print the data of each node.  The current implementation fails to do this, making it incomplete and not fulfilling its intended purpose.\n",
      "\n",
      "**Corrected Code:**\n",
      "\n",
      "```python\n",
      "class Node:\n",
      "   def __init__(self, data):\n",
      "      self.data = data\n",
      "      self.next = None\n",
      "      self.prev = None\n",
      "\n",
      "class doubly_linked_list:\n",
      "   def __init__(self):\n",
      "      self.head = None\n",
      "\n",
      "# Adding data elements\n",
      "   def push(self, NewVal):\n",
      "      NewNode = Node(NewVal)\n",
      "      NewNode.next = self.head\n",
      "      if self.head is not None:\n",
      "         self.head.prev = NewNode\n",
      "      self.head = NewNode\n",
      "\n",
      "# Print the Doubly Linked list in order\n",
      "   def listprint(self, node):\n",
      "       while node is not None: # Loop until we reach the end of the list\n",
      "           print(node.data, end=\" \") # Use Python 3 style print and prevent newline after each element\n",
      "           last = node\n",
      "           node = node.next\n",
      "\n",
      "dllist = doubly_linked_list()\n",
      "dllist.push(12)\n",
      "dllist.push(8)\n",
      "dllist.push(62)\n",
      "dllist.listprint(dllist.head)\n",
      "```\n",
      "\n",
      "**Explanation of Correction:**\n",
      "\n",
      "1.  **`while node is not None:`:** A `while` loop is added to iterate through the linked list. The loop continues as long as the current `node` is not `None` (i.e., we haven't reached the end of the list).\n",
      "2.  **`print(node.data, end=\" \")`:** This line prints the data of the current node, followed by a space ( `end=\" \"` ) instead of a newline character.  This keeps all the printed values on the same line.  Also, I changed the print statement to a Python 3 style print statement.\n",
      "\n",
      "**How the corrected code works:**\n",
      "\n",
      "The `listprint` function now starts at the `head` of the list.  Inside the `while` loop, it prints the data of the current node and then moves to the next node using `node = node.next`.  The loop continues until `node` becomes `None`, indicating that the end of the list has been reached.\n",
      "\n",
      "Now the output of the program is:\n",
      "\n",
      "```\n",
      "62 8 12\n",
      "```\n",
      "\n"
     ]
    }
   ],
   "source": [
    "completion = generate_text(\n",
    "    prompt = prompt_template.format(question=question),\n",
    "    temperature = 0.7\n",
    ")\n",
    "print(completion.text)"
   ]
  },
  {
   "cell_type": "code",
   "execution_count": 38,
   "id": "e9b5cc32",
   "metadata": {
    "height": 98
   },
   "outputs": [
    {
     "name": "stdout",
     "output_type": "stream",
     "text": [
      "Okay, let's debug this Python code for a doubly linked list.\n",
      "\n",
      "**The Problem**\n",
      "\n",
      "The primary issue is in the `listprint` method.  It only prints the first element of the list and then stops. It also has an error in the print statement.\n",
      "\n",
      "**Detailed Explanation**\n",
      "\n",
      "1.  **Incorrect Loop Termination:** The `listprint` function has a single `print` statement and then sets `last = node` and `node = node.next`.  It doesn't have a loop to iterate through the entire linked list.  Therefore, it only processes the first node (the head).\n",
      "\n",
      "2.  **Missing Loop Condition:** To print all elements, you need a loop that continues as long as there are more nodes in the list. The loop should stop when `node` becomes `None`.\n",
      "\n",
      "3. **Incorrect Print Statement:** The print statement `print(node.data),` is using Python 2 syntax. In Python 3, this will result in a `SyntaxError: invalid syntax`.  We need to use `print(node.data, end=\" \")` to achieve the same effect of printing on the same line.\n",
      "\n",
      "**Corrected Code**\n",
      "\n",
      "```python\n",
      "class Node:\n",
      "   def __init__(self, data):\n",
      "      self.data = data\n",
      "      self.next = None\n",
      "      self.prev = None\n",
      "\n",
      "class doubly_linked_list:\n",
      "   def __init__(self):\n",
      "      self.head = None\n",
      "\n",
      "   def push(self, NewVal):\n",
      "      NewNode = Node(NewVal)\n",
      "      NewNode.next = self.head\n",
      "      if self.head is not None:\n",
      "         self.head.prev = NewNode\n",
      "      self.head = NewNode\n",
      "\n",
      "   def listprint(self, node):\n",
      "       last = None  # Initialize last\n",
      "       while (node is not None):\n",
      "           print(node.data, end=\" \")  # Print data and stay on the same line\n",
      "           last = node\n",
      "           node = node.next\n",
      "       print() # Add a newline at the end\n",
      "\n",
      "dllist = doubly_linked_list()\n",
      "dllist.push(12)\n",
      "dllist.push(8)\n",
      "dllist.push(62)\n",
      "dllist.listprint(dllist.head)\n",
      "```\n",
      "\n",
      "**Explanation of Changes**\n",
      "\n",
      "1.  **`while (node is not None):`**:  This loop condition ensures that the code iterates through the list as long as there are nodes to process.  The loop terminates when `node` becomes `None` (i.e., we've reached the end of the list).\n",
      "2.  **`print(node.data, end=\" \")`**:  This prints the data of the current node, followed by a space. `end=\" \"` prevents `print()` from adding a newline character after each element, so they're all printed on the same line.\n",
      "3.  **`print()`**: After the loop finishes, this adds a newline character to move the cursor to the next line in the console.\n",
      "4. **`last = None`**: Initialize last to None.\n",
      "\n",
      "**How to Debug Effectively**\n",
      "\n",
      "1.  **Read the Error Messages:**  Python error messages are often helpful.  In this case, if you were using Python 3, you would have gotten a `SyntaxError` about the `print` statement.\n",
      "2.  **Step Through the Code:** Use a debugger (like `pdb` in Python) or add `print` statements at strategic locations to see the values of variables and the flow of execution.  For example, you could have added `print(node.data)` inside the original `listprint` function to confirm that it was only being called once.\n",
      "3.  **Simplify and Test:** If you're unsure about a complex piece of code, try to simplify it and test the simpler version first. This can help you isolate the problem.\n",
      "4.  **Use Online Resources:** Search for examples of how to implement linked lists and related operations.  Compare your code to the examples to find discrepancies.\n",
      "5.  **Rubber Duck Debugging:** Explain your code to someone (or even an inanimate object, like a rubber duck).  Often, the act of explaining will help you identify the problem.\n",
      "\n",
      "I hope this helps! Let me know if you have any other questions.\n",
      "\n"
     ]
    }
   ],
   "source": [
    "completion = generate_text(\n",
    "    prompt = prompt_template.format(question=question),\n",
    "    temperature = 0.7\n",
    ")\n",
    "print(completion.text)"
   ]
  },
  {
   "cell_type": "code",
   "execution_count": 39,
   "id": "f8a21414",
   "metadata": {
    "height": 98
   },
   "outputs": [
    {
     "name": "stdout",
     "output_type": "stream",
     "text": [
      "Okay, let's analyze the code and identify the bug.\n",
      "\n",
      "**Code:**\n",
      "\n",
      "```python\n",
      "class Node:\n",
      "   def __init__(self, data):\n",
      "      self.data = data\n",
      "      self.next = None\n",
      "      self.prev = None\n",
      "\n",
      "class doubly_linked_list:\n",
      "   def __init__(self):\n",
      "      self.head = None\n",
      "\n",
      "# Adding data elements\n",
      "   def push(self, NewVal):\n",
      "      NewNode = Node(NewVal)\n",
      "      NewNode.next = self.head\n",
      "      if self.head is not None:\n",
      "         self.head.prev = NewNode\n",
      "      self.head = NewNode\n",
      "\n",
      "# Print the Doubly Linked list in order\n",
      "   def listprint(self, node):\n",
      "       print(node.data),  # Python 2 style print, will cause issues in Python 3\n",
      "       last = node\n",
      "       node = node.next\n",
      "\n",
      "dllist = doubly_linked_list()\n",
      "dllist.push(12)\n",
      "dllist.push(8)\n",
      "dllist.push(62)\n",
      "dllist.listprint(dllist.head)\n",
      "```\n",
      "\n",
      "**The Bug and Explanation:**\n",
      "\n",
      "The primary bug lies within the `listprint` method.  It only prints the first node of the linked list and then stops.  It doesn't iterate through the entire list.  Also, the print statement is using Python 2 syntax, which will cause an error in Python 3.\n",
      "\n",
      "Here's a breakdown of why:\n",
      "\n",
      "1. **Missing Loop:** The `listprint` function is designed to print the data of a node and then move to the next node. However, it only executes these steps *once*. There's no loop to continue this process until the end of the list is reached (i.e., when `node` becomes `None`).\n",
      "\n",
      "2. **Python 2 Print Syntax:** The `print node.data,` syntax is specific to Python 2. In Python 3, you need to use `print(node.data, end=\" \")` to achieve the same effect of printing on the same line.  Without the `end=\" \"` argument, each `print` statement will output on a new line.\n",
      "\n",
      "**Corrected Code:**\n",
      "\n",
      "```python\n",
      "class Node:\n",
      "   def __init__(self, data):\n",
      "      self.data = data\n",
      "      self.next = None\n",
      "      self.prev = None\n",
      "\n",
      "class doubly_linked_list:\n",
      "   def __init__(self):\n",
      "      self.head = None\n",
      "\n",
      "# Adding data elements\n",
      "   def push(self, NewVal):\n",
      "      NewNode = Node(NewVal)\n",
      "      NewNode.next = self.head\n",
      "      if self.head is not None:\n",
      "         self.head.prev = NewNode\n",
      "      self.head = NewNode\n",
      "\n",
      "# Print the Doubly Linked list in order\n",
      "   def listprint(self, node):\n",
      "       while node is not None:\n",
      "           print(node.data, end=\" \")  # Python 3 compatible print\n",
      "           last = node\n",
      "           node = node.next\n",
      "       print() # Add a newline at the end\n",
      "\n",
      "dllist = doubly_linked_list()\n",
      "dllist.push(12)\n",
      "dllist.push(8)\n",
      "dllist.push(62)\n",
      "dllist.listprint(dllist.head)\n",
      "```\n",
      "\n",
      "**Explanation of Changes:**\n",
      "\n",
      "1. **`while node is not None:` Loop:**  This loop ensures that the printing process continues as long as there are more nodes in the list.  The loop condition checks if the current `node` is not `None`.  When `node` becomes `None` (meaning we've reached the end of the list), the loop terminates.\n",
      "\n",
      "2. **`print(node.data, end=\" \")`:** This is the Python 3 compatible print statement.  `end=\" \"` tells the `print` function to add a space after the data instead of a newline, so the output appears on a single line.\n",
      "\n",
      "3. **`print()`:**  This adds a newline character after the loop finishes, ensuring that the next output to the console starts on a new line.\n",
      "\n",
      "**How the Corrected Code Works:**\n",
      "\n",
      "1. The `listprint` function receives the `head` of the linked list as input.\n",
      "2. The `while` loop starts, checking if the current `node` is not `None`.\n",
      "3. Inside the loop:\n",
      "   - The data of the current `node` is printed, followed by a space.\n",
      "   - `last` is updated to the current `node` (although `last` isn't actually used in this printing function, it's often useful for other operations on doubly linked lists).\n",
      "   - `node` is updated to `node.next`, moving to the next node in the list.\n",
      "4. The loop continues until `node` becomes `None`, indicating the end of the list.\n",
      "5. Finally, `print()` adds a newline to the output.\n",
      "\n",
      "Now, the code will correctly print all the elements of the doubly linked list in the order they appear.\n",
      "\n"
     ]
    }
   ],
   "source": [
    "completion = generate_text(\n",
    "    prompt = prompt_template.format(question=question),\n",
    "    temperature = 0\n",
    ")\n",
    "print(completion.text)"
   ]
  },
  {
   "cell_type": "markdown",
   "id": "82c9d0dc-c216-4ea5-8ccd-1f06094b9fad",
   "metadata": {},
   "source": [
    "#### Reminder to check the code\n",
    "You can use an  LLM to give you insights and check for blind spots, but remember to check that the generated code is doing what you want it to do."
   ]
  },
  {
   "cell_type": "code",
   "execution_count": null,
   "id": "80634c53-72b8-43ee-8ac0-369fce8c0318",
   "metadata": {
    "height": 30
   },
   "outputs": [],
   "source": []
  }
 ],
 "metadata": {
  "kernelspec": {
   "display_name": "Python 3 (ipykernel)",
   "language": "python",
   "name": "python3"
  },
  "language_info": {
   "codemirror_mode": {
    "name": "ipython",
    "version": 3
   },
   "file_extension": ".py",
   "mimetype": "text/x-python",
   "name": "python",
   "nbconvert_exporter": "python",
   "pygments_lexer": "ipython3",
   "version": "3.10.14"
  }
 },
 "nbformat": 4,
 "nbformat_minor": 5
}
