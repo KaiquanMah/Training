{
 "cells": [
  {
   "cell_type": "code",
   "execution_count": 3,
   "metadata": {},
   "outputs": [
    {
     "data": {
      "text/plain": [
       "['Avatar',\n",
       " 'Pacific Rim',\n",
       " 'The Golden Compass',\n",
       " 'Monsters University',\n",
       " 'X-Men: The Last Stand']"
      ]
     },
     "execution_count": 3,
     "metadata": {},
     "output_type": "execute_result"
    }
   ],
   "source": [
    "movies_list = [\"Avatar\", \"Pacific Rim\", \"The Golden Compass\", \"Monsters University\", \"X-Men: The Last Stand\"]\n",
    "\n",
    "movies_list"
   ]
  },
  {
   "cell_type": "code",
   "execution_count": 4,
   "metadata": {},
   "outputs": [
    {
     "ename": "IndexError",
     "evalue": "list assignment index out of range",
     "output_type": "error",
     "traceback": [
      "\u001b[31m---------------------------------------------------------------------------\u001b[39m",
      "\u001b[31mIndexError\u001b[39m                                Traceback (most recent call last)",
      "\u001b[36mCell\u001b[39m\u001b[36m \u001b[39m\u001b[32mIn[4]\u001b[39m\u001b[32m, line 3\u001b[39m\n\u001b[32m      1\u001b[39m \u001b[38;5;66;03m# CANNOT ADD NEW ELEMENT TO A LIST\u001b[39;00m\n\u001b[32m      2\u001b[39m \u001b[38;5;66;03m# USING 'indexing'\u001b[39;00m\n\u001b[32m----> \u001b[39m\u001b[32m3\u001b[39m \u001b[43mmovies_list\u001b[49m\u001b[43m[\u001b[49m\u001b[32;43m5\u001b[39;49m\u001b[43m]\u001b[49m = \u001b[33m\"\u001b[39m\u001b[33mThe Amazing Spider-Man 2\u001b[39m\u001b[33m\"\u001b[39m\n\u001b[32m      5\u001b[39m movies_list\n",
      "\u001b[31mIndexError\u001b[39m: list assignment index out of range"
     ]
    }
   ],
   "source": [
    "# CANNOT ADD NEW ELEMENT TO A LIST\n",
    "# USING 'indexing'\n",
    "movies_list[5] = \"The Amazing Spider-Man 2\"\n",
    "\n",
    "movies_list"
   ]
  },
  {
   "cell_type": "code",
   "execution_count": 5,
   "metadata": {},
   "outputs": [
    {
     "data": {
      "text/plain": [
       "['Avatar',\n",
       " 'Pacific Rim',\n",
       " 'The Golden Compass',\n",
       " 'Monsters University',\n",
       " 'X-Men: The Last Stand',\n",
       " 'The Amazing Spider-Man 2']"
      ]
     },
     "execution_count": 5,
     "metadata": {},
     "output_type": "execute_result"
    }
   ],
   "source": [
    "movies_list.append(\"The Amazing Spider-Man 2\")\n",
    "\n",
    "movies_list"
   ]
  },
  {
   "cell_type": "code",
   "execution_count": 6,
   "metadata": {},
   "outputs": [
    {
     "data": {
      "text/plain": [
       "['Avatar',\n",
       " 'The Legend of Tarzan',\n",
       " 'Pacific Rim',\n",
       " 'The Golden Compass',\n",
       " 'Monsters University',\n",
       " 'X-Men: The Last Stand',\n",
       " 'The Amazing Spider-Man 2']"
      ]
     },
     "execution_count": 6,
     "metadata": {},
     "output_type": "execute_result"
    }
   ],
   "source": [
    "# insert at idx 1\n",
    "#       pushing idx1 element and subsequent elements to the right by 1\n",
    "movies_list.insert(1, \"The Legend of Tarzan\")\n",
    "\n",
    "movies_list"
   ]
  },
  {
   "cell_type": "code",
   "execution_count": null,
   "metadata": {},
   "outputs": [
    {
     "data": {
      "text/plain": [
       "['The Amazing Spider-Man 2',\n",
       " 'X-Men: The Last Stand',\n",
       " 'Monsters University',\n",
       " 'The Golden Compass',\n",
       " 'Pacific Rim',\n",
       " 'The Legend of Tarzan',\n",
       " 'Avatar']"
      ]
     },
     "execution_count": 7,
     "metadata": {},
     "output_type": "execute_result"
    }
   ],
   "source": [
    "movies_list.reverse()\n",
    "\n",
    "# reverse() reverses the list in-place\n",
    "movies_list"
   ]
  },
  {
   "cell_type": "code",
   "execution_count": 9,
   "metadata": {},
   "outputs": [
    {
     "data": {
      "text/plain": [
       "['The Amazing Spider-Man 2',\n",
       " 'X-Men: The Last Stand',\n",
       " 'Monsters University',\n",
       " 'The Golden Compass',\n",
       " 'Pacific Rim',\n",
       " 'The Legend of Tarzan',\n",
       " 'Avatar',\n",
       " 'King Kong',\n",
       " 'Evan Almighty',\n",
       " '47 Ronin']"
      ]
     },
     "execution_count": 9,
     "metadata": {},
     "output_type": "execute_result"
    }
   ],
   "source": [
    "# extend adds elements from a new list to the end of the existing list\n",
    "#        1 element at a time\n",
    "# vs\n",
    "# append - add the new list as a 'list element' to the end of the existing list\n",
    "movies_list.extend([\"King Kong\", \"Evan Almighty\", \"47 Ronin\"])\n",
    "\n",
    "movies_list"
   ]
  },
  {
   "cell_type": "code",
   "execution_count": 10,
   "metadata": {},
   "outputs": [
    {
     "data": {
      "text/plain": [
       "['The Amazing Spider-Man 2',\n",
       " 'X-Men: The Last Stand',\n",
       " 'Monsters University',\n",
       " 'The Golden Compass',\n",
       " 'Pacific Rim',\n",
       " 'The Legend of Tarzan',\n",
       " 'Avatar',\n",
       " 'King Kong',\n",
       " 'Evan Almighty']"
      ]
     },
     "execution_count": 10,
     "metadata": {},
     "output_type": "execute_result"
    }
   ],
   "source": [
    "movies_list.remove(\"47 Ronin\")\n",
    "\n",
    "movies_list"
   ]
  },
  {
   "cell_type": "code",
   "execution_count": 8,
   "metadata": {},
   "outputs": [
    {
     "ename": "ValueError",
     "evalue": "list.remove(x): x not in list",
     "output_type": "error",
     "traceback": [
      "\u001b[0;31m---------------------------------------------------------------------------\u001b[0m",
      "\u001b[0;31mValueError\u001b[0m                                Traceback (most recent call last)",
      "\u001b[0;32m<ipython-input-8-cc78b30682e1>\u001b[0m in \u001b[0;36m<module>\u001b[0;34m\u001b[0m\n\u001b[0;32m----> 1\u001b[0;31m \u001b[0mmovies_list\u001b[0m\u001b[0;34m.\u001b[0m\u001b[0mremove\u001b[0m\u001b[0;34m(\u001b[0m\u001b[0;34m\"monsters university\"\u001b[0m\u001b[0;34m)\u001b[0m\u001b[0;34m\u001b[0m\u001b[0;34m\u001b[0m\u001b[0m\n\u001b[0m\u001b[1;32m      2\u001b[0m \u001b[0;34m\u001b[0m\u001b[0m\n\u001b[1;32m      3\u001b[0m \u001b[0mmovies_list\u001b[0m\u001b[0;34m\u001b[0m\u001b[0;34m\u001b[0m\u001b[0m\n",
      "\u001b[0;31mValueError\u001b[0m: list.remove(x): x not in list"
     ]
    }
   ],
   "source": [
    "movies_list.remove(\"monsters university\")\n",
    "\n",
    "movies_list"
   ]
  },
  {
   "cell_type": "code",
   "execution_count": 9,
   "metadata": {},
   "outputs": [
    {
     "ename": "ValueError",
     "evalue": "'monsters university' is not in list",
     "output_type": "error",
     "traceback": [
      "\u001b[0;31m---------------------------------------------------------------------------\u001b[0m",
      "\u001b[0;31mValueError\u001b[0m                                Traceback (most recent call last)",
      "\u001b[0;32m<ipython-input-9-d78ac3f3d42c>\u001b[0m in \u001b[0;36m<module>\u001b[0;34m\u001b[0m\n\u001b[0;32m----> 1\u001b[0;31m \u001b[0mmovies_list\u001b[0m\u001b[0;34m.\u001b[0m\u001b[0mindex\u001b[0m\u001b[0;34m(\u001b[0m\u001b[0;34m\"monsters university\"\u001b[0m\u001b[0;34m)\u001b[0m\u001b[0;34m\u001b[0m\u001b[0;34m\u001b[0m\u001b[0m\n\u001b[0m",
      "\u001b[0;31mValueError\u001b[0m: 'monsters university' is not in list"
     ]
    }
   ],
   "source": [
    "movies_list.index(\"monsters university\")"
   ]
  },
  {
   "cell_type": "code",
   "execution_count": 11,
   "metadata": {},
   "outputs": [
    {
     "data": {
      "text/plain": [
       "2"
      ]
     },
     "execution_count": 11,
     "metadata": {},
     "output_type": "execute_result"
    }
   ],
   "source": [
    "movies_list.index(\"Monsters University\")"
   ]
  },
  {
   "cell_type": "code",
   "execution_count": null,
   "metadata": {},
   "outputs": [
    {
     "data": {
      "text/plain": [
       "['Avatar',\n",
       " 'Evan Almighty',\n",
       " 'King Kong',\n",
       " 'Monsters University',\n",
       " 'Pacific Rim',\n",
       " 'The Amazing Spider-Man 2',\n",
       " 'The Golden Compass',\n",
       " 'The Legend of Tarzan',\n",
       " 'X-Men: The Last Stand']"
      ]
     },
     "execution_count": 11,
     "metadata": {},
     "output_type": "execute_result"
    }
   ],
   "source": [
    "# sort in-place\n",
    "movies_list.sort()\n",
    "\n",
    "movies_list"
   ]
  },
  {
   "cell_type": "code",
   "execution_count": null,
   "metadata": {},
   "outputs": [
    {
     "data": {
      "text/plain": [
       "['Avatar',\n",
       " 'King Kong',\n",
       " 'Pacific Rim',\n",
       " 'Evan Almighty',\n",
       " 'The Golden Compass',\n",
       " 'Monsters University',\n",
       " 'The Legend of Tarzan',\n",
       " 'X-Men: The Last Stand',\n",
       " 'The Amazing Spider-Man 2']"
      ]
     },
     "execution_count": 14,
     "metadata": {},
     "output_type": "execute_result"
    }
   ],
   "source": [
    "# sort by ascending order of the string length\n",
    "movies_list.sort(key=len)\n",
    "movies_list"
   ]
  },
  {
   "cell_type": "code",
   "execution_count": null,
   "metadata": {},
   "outputs": [
    {
     "data": {
      "text/plain": [
       "['The Amazing Spider-Man 2',\n",
       " 'X-Men: The Last Stand',\n",
       " 'The Legend of Tarzan',\n",
       " 'Monsters University',\n",
       " 'The Golden Compass',\n",
       " 'Evan Almighty',\n",
       " 'Pacific Rim',\n",
       " 'King Kong',\n",
       " 'Avatar']"
      ]
     },
     "execution_count": 19,
     "metadata": {},
     "output_type": "execute_result"
    }
   ],
   "source": [
    "# sort by descending order of the string length\n",
    "movies_list.sort(key=lambda x: -1*len(x))\n",
    "movies_list"
   ]
  },
  {
   "cell_type": "code",
   "execution_count": null,
   "metadata": {},
   "outputs": [
    {
     "data": {
      "text/plain": [
       "['Avatar',\n",
       " 'Evan Almighty',\n",
       " 'King Kong',\n",
       " 'Monsters University',\n",
       " 'Pacific Rim',\n",
       " 'The Amazing Spider-Man 2',\n",
       " 'The Golden Compass',\n",
       " 'The Legend of Tarzan']"
      ]
     },
     "execution_count": 12,
     "metadata": {},
     "output_type": "execute_result"
    }
   ],
   "source": [
    "# pop() removes last element\n",
    "movies_list.pop()\n",
    "\n",
    "movies_list"
   ]
  },
  {
   "cell_type": "code",
   "execution_count": 13,
   "metadata": {},
   "outputs": [
    {
     "data": {
      "text/plain": [
       "['The Lone Ranger', 'Alice in Wonderland']"
      ]
     },
     "execution_count": 13,
     "metadata": {},
     "output_type": "execute_result"
    }
   ],
   "source": [
    "another_movie_list = list((\"The Lone Ranger\", \"Alice in Wonderland\"))\n",
    "\n",
    "another_movie_list"
   ]
  },
  {
   "cell_type": "code",
   "execution_count": 14,
   "metadata": {},
   "outputs": [
    {
     "data": {
      "text/plain": [
       "['Avatar',\n",
       " 'Evan Almighty',\n",
       " 'King Kong',\n",
       " 'Monsters University',\n",
       " 'Pacific Rim',\n",
       " 'The Amazing Spider-Man 2',\n",
       " 'The Golden Compass',\n",
       " 'The Legend of Tarzan',\n",
       " 'The Lone Ranger',\n",
       " 'Alice in Wonderland']"
      ]
     },
     "execution_count": 14,
     "metadata": {},
     "output_type": "execute_result"
    }
   ],
   "source": [
    "complete_list = movies_list + another_movie_list\n",
    "\n",
    "complete_list"
   ]
  },
  {
   "cell_type": "code",
   "execution_count": 15,
   "metadata": {},
   "outputs": [
    {
     "data": {
      "text/plain": [
       "True"
      ]
     },
     "execution_count": 15,
     "metadata": {},
     "output_type": "execute_result"
    }
   ],
   "source": [
    "\"Pacific Rim\" in complete_list"
   ]
  },
  {
   "cell_type": "code",
   "execution_count": 16,
   "metadata": {},
   "outputs": [
    {
     "data": {
      "text/plain": [
       "False"
      ]
     },
     "execution_count": 16,
     "metadata": {},
     "output_type": "execute_result"
    }
   ],
   "source": [
    "\"avatar\" in complete_list"
   ]
  },
  {
   "cell_type": "code",
   "execution_count": 17,
   "metadata": {},
   "outputs": [
    {
     "data": {
      "text/plain": [
       "True"
      ]
     },
     "execution_count": 17,
     "metadata": {},
     "output_type": "execute_result"
    }
   ],
   "source": [
    "\"avatar\" not in complete_list"
   ]
  },
  {
   "cell_type": "code",
   "execution_count": null,
   "metadata": {},
   "outputs": [
    {
     "data": {
      "text/plain": [
       "False"
      ]
     },
     "execution_count": 18,
     "metadata": {},
     "output_type": "execute_result"
    }
   ],
   "source": [
    "# 'Avatar' is inside the list => True\n",
    "#    not in => False\n",
    "\"Avatar\" not in complete_list"
   ]
  },
  {
   "cell_type": "code",
   "execution_count": 19,
   "metadata": {},
   "outputs": [],
   "source": [
    "movies_list.clear()"
   ]
  },
  {
   "cell_type": "code",
   "execution_count": 20,
   "metadata": {},
   "outputs": [
    {
     "data": {
      "text/plain": [
       "[]"
      ]
     },
     "execution_count": 20,
     "metadata": {},
     "output_type": "execute_result"
    }
   ],
   "source": [
    "movies_list"
   ]
  },
  {
   "cell_type": "code",
   "execution_count": null,
   "metadata": {},
   "outputs": [
    {
     "data": {
      "text/plain": [
       "['Avatar',\n",
       " 'Evan Almighty',\n",
       " 'King Kong',\n",
       " 'Monsters University',\n",
       " 'Pacific Rim',\n",
       " 'The Amazing Spider-Man 2',\n",
       " 'The Golden Compass',\n",
       " 'The Legend of Tarzan',\n",
       " 'The Lone Ranger',\n",
       " 'Alice in Wonderland']"
      ]
     },
     "execution_count": 21,
     "metadata": {},
     "output_type": "execute_result"
    }
   ],
   "source": [
    "# so list concatenations create a new list? \n",
    "#     YES, allocate new memory w elements from the orig lists used to concat\n",
    "#     as part of 'shallow copy'\n",
    "# and if i delete elements / update an element in the old list after creating the 'new list'\n",
    "#     'the new list' is not updated?\n",
    "#     DEPENDS\n",
    "# scenario 1\n",
    "#     'new list' updated - cuz 'sub-new-list elements' are MUTABLE (eg other list, dict)\n",
    "#                          'new list' REFERENCES the 'old list'\n",
    "#                           OPERATIONS updating 'old list' eg append(), clear(), +=\n",
    "#                           will update 'new list'\n",
    "# scenario 2\n",
    "#     'new list' not updated - cuz 'sub-new-list elements' are IMMUTABLE (str, int, float, tuple)\n",
    "#                              LIKE HERE\n",
    "complete_list"
   ]
  },
  {
   "cell_type": "markdown",
   "metadata": {},
   "source": [
    "## funky lists example"
   ]
  },
  {
   "cell_type": "code",
   "execution_count": null,
   "metadata": {},
   "outputs": [
    {
     "name": "stdout",
     "output_type": "stream",
     "text": [
      "old_list: [1, [100, 200, 300], 3]\n",
      "new_list: [1, [100, 200, 300], 3, 4]\n"
     ]
    }
   ],
   "source": [
    "# An element in this sub-list is a list (mutable) => [100,200]\n",
    "old_list = [1, [100, 200], 3]\n",
    "\n",
    "# Concatenation creates a new list (a shallow copy)\n",
    "new_list = old_list + [4]\n",
    "# new_list is: [1, [100, 200], 3, 4]\n",
    "# new_list also reference [100,200] from old_list\n",
    "\n",
    "# Modify an element in the MUTABLE sub-list 'old_list'\n",
    "old_list[1].append(300)\n",
    "\n",
    "# new_list IS UPDATED, BECAUSE it REFERENCES MUTABLE [100,200] inside 'old_list'\n",
    "print(f\"old_list: {old_list}\")\n",
    "print(f\"new_list: {new_list}\")"
   ]
  },
  {
   "cell_type": "code",
   "execution_count": null,
   "metadata": {},
   "outputs": [
    {
     "name": "stdout",
     "output_type": "stream",
     "text": [
      "old_list: [1, 5, 3]\n",
      "new_list: [1, 2, 3, 4]\n"
     ]
    }
   ],
   "source": [
    "# The inner elements a list (mutable)\n",
    "old_list = [1, 2, 3]\n",
    "\n",
    "# Concatenation creates a new list (a shallow copy)\n",
    "new_list = old_list + [4]\n",
    "# new_list is: [1, [100, 200], 3, 4]\n",
    "\n",
    "# Modify an IMMUTABLE element (an int) in sub-list 'old_list'\n",
    "# old_list at idx1 points to a new number '5'\n",
    "old_list[1] = 5\n",
    "\n",
    "# new_list NOT UPDATED\n",
    "#          idx1 still points to '2'\n",
    "print(f\"old_list: {old_list}\")\n",
    "print(f\"new_list: {new_list}\")"
   ]
  },
  {
   "cell_type": "markdown",
   "metadata": {},
   "source": [
    "## del"
   ]
  },
  {
   "cell_type": "code",
   "execution_count": 22,
   "metadata": {},
   "outputs": [
    {
     "ename": "NameError",
     "evalue": "name 'complete_list' is not defined",
     "output_type": "error",
     "traceback": [
      "\u001b[0;31m---------------------------------------------------------------------------\u001b[0m",
      "\u001b[0;31mNameError\u001b[0m                                 Traceback (most recent call last)",
      "\u001b[0;32m<ipython-input-22-10fef525e4c4>\u001b[0m in \u001b[0;36m<module>\u001b[0;34m\u001b[0m\n\u001b[1;32m      1\u001b[0m \u001b[0;32mdel\u001b[0m \u001b[0mcomplete_list\u001b[0m\u001b[0;34m\u001b[0m\u001b[0;34m\u001b[0m\u001b[0m\n\u001b[1;32m      2\u001b[0m \u001b[0;34m\u001b[0m\u001b[0m\n\u001b[0;32m----> 3\u001b[0;31m \u001b[0mcomplete_list\u001b[0m\u001b[0;34m\u001b[0m\u001b[0;34m\u001b[0m\u001b[0m\n\u001b[0m",
      "\u001b[0;31mNameError\u001b[0m: name 'complete_list' is not defined"
     ]
    }
   ],
   "source": [
    "del complete_list\n",
    "\n",
    "complete_list"
   ]
  },
  {
   "cell_type": "code",
   "execution_count": 23,
   "metadata": {},
   "outputs": [
    {
     "data": {
      "text/plain": [
       "['The Lone Ranger', 'Alice in Wonderland']"
      ]
     },
     "execution_count": 23,
     "metadata": {},
     "output_type": "execute_result"
    }
   ],
   "source": [
    "another_movie_list"
   ]
  },
  {
   "cell_type": "code",
   "execution_count": 24,
   "metadata": {},
   "outputs": [
    {
     "ename": "NameError",
     "evalue": "name 'another_movie_list' is not defined",
     "output_type": "error",
     "traceback": [
      "\u001b[0;31m---------------------------------------------------------------------------\u001b[0m",
      "\u001b[0;31mNameError\u001b[0m                                 Traceback (most recent call last)",
      "\u001b[0;32m<ipython-input-24-b140e8ebb4f2>\u001b[0m in \u001b[0;36m<module>\u001b[0;34m\u001b[0m\n\u001b[1;32m      1\u001b[0m \u001b[0;32mdel\u001b[0m \u001b[0manother_movie_list\u001b[0m\u001b[0;34m\u001b[0m\u001b[0;34m\u001b[0m\u001b[0m\n\u001b[1;32m      2\u001b[0m \u001b[0;34m\u001b[0m\u001b[0m\n\u001b[0;32m----> 3\u001b[0;31m \u001b[0manother_movie_list\u001b[0m\u001b[0;34m\u001b[0m\u001b[0;34m\u001b[0m\u001b[0m\n\u001b[0m",
      "\u001b[0;31mNameError\u001b[0m: name 'another_movie_list' is not defined"
     ]
    }
   ],
   "source": [
    "del another_movie_list\n",
    "\n",
    "another_movie_list"
   ]
  }
 ],
 "metadata": {
  "kernelspec": {
   "display_name": "Python 3",
   "language": "python",
   "name": "python3"
  },
  "language_info": {
   "codemirror_mode": {
    "name": "ipython",
    "version": 3
   },
   "file_extension": ".py",
   "mimetype": "text/x-python",
   "name": "python",
   "nbconvert_exporter": "python",
   "pygments_lexer": "ipython3",
   "version": "3.12.1"
  }
 },
 "nbformat": 4,
 "nbformat_minor": 2
}
