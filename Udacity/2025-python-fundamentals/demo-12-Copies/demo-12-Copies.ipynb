{
 "cells": [
  {
   "cell_type": "markdown",
   "metadata": {},
   "source": [
    "### Lists"
   ]
  },
  {
   "cell_type": "code",
   "execution_count": 1,
   "metadata": {},
   "outputs": [
    {
     "data": {
      "text/plain": [
       "['apple', 'plum', 'mango', 'guava', 'pear']"
      ]
     },
     "execution_count": 1,
     "metadata": {},
     "output_type": "execute_result"
    }
   ],
   "source": [
    "fruit_list = [\"apple\", \"plum\", \"mango\", \"guava\", \"pear\"]\n",
    "\n",
    "fruit_list"
   ]
  },
  {
   "cell_type": "code",
   "execution_count": 2,
   "metadata": {},
   "outputs": [
    {
     "data": {
      "text/plain": [
       "['apple', 'plum', 'mango', 'guava', 'pear']"
      ]
     },
     "execution_count": 2,
     "metadata": {},
     "output_type": "execute_result"
    }
   ],
   "source": [
    "fruit_copy = fruit_list\n",
    "\n",
    "fruit_copy"
   ]
  },
  {
   "cell_type": "code",
   "execution_count": 3,
   "metadata": {},
   "outputs": [
    {
     "name": "stdout",
     "output_type": "stream",
     "text": [
      "Original: ['apple', 'plum', 'guava', 'pear']\n",
      "Modified: ['apple', 'plum', 'guava', 'pear']\n"
     ]
    }
   ],
   "source": [
    "fruit_list.remove(\"mango\")\n",
    "\n",
    "print(\"Original:\", fruit_list)\n",
    "print(\"Modified:\", fruit_copy)"
   ]
  },
  {
   "cell_type": "code",
   "execution_count": null,
   "metadata": {},
   "outputs": [
    {
     "data": {
      "text/plain": [
       "['apple', 'plum', 'guava', 'pear']"
      ]
     },
     "execution_count": 4,
     "metadata": {},
     "output_type": "execute_result"
    }
   ],
   "source": [
    "# SHALLOW COPY\n",
    "# create A COPY OF THE LIST - as a NEW LIST OBJECT\n",
    "# DONT CREATE COPIES OF ELEMENTS\n",
    "fruit_copy = fruit_list.copy()\n",
    "\n",
    "fruit_copy"
   ]
  },
  {
   "cell_type": "code",
   "execution_count": 6,
   "metadata": {},
   "outputs": [
    {
     "name": "stdout",
     "output_type": "stream",
     "text": [
      "Original: ['pineapple', 'plum', 'guava', 'pear']\n",
      "Modified: ['apple', 'plum', 'guava', 'pear']\n"
     ]
    }
   ],
   "source": [
    "fruit_list[0] = \"pineapple\"\n",
    "\n",
    "print(\"Original:\", fruit_list)\n",
    "print(\"Modified:\", fruit_copy)"
   ]
  },
  {
   "cell_type": "code",
   "execution_count": 7,
   "metadata": {},
   "outputs": [
    {
     "data": {
      "text/plain": [
       "['Henry', ['1349 West Zenith St', 'Massachusetts']]"
      ]
     },
     "execution_count": 7,
     "metadata": {},
     "output_type": "execute_result"
    }
   ],
   "source": [
    "first_person= [\"Henry\", [\"1349 West Zenith St\", \"Massachusetts\"]]\n",
    "\n",
    "first_person"
   ]
  },
  {
   "cell_type": "code",
   "execution_count": null,
   "metadata": {},
   "outputs": [],
   "source": [
    "# SHALLOW COPY\n",
    "second_person = first_person.copy()\n",
    "\n",
    "second_person[0] = \"Mark\""
   ]
  },
  {
   "cell_type": "code",
   "execution_count": 9,
   "metadata": {},
   "outputs": [
    {
     "name": "stdout",
     "output_type": "stream",
     "text": [
      "First person:  ['Henry', ['1349 West Zenith St', 'Massachusetts']]\n",
      "Second person:  ['Mark', ['1349 West Zenith St', 'Massachusetts']]\n"
     ]
    }
   ],
   "source": [
    "print(\"First person: \", first_person)\n",
    "\n",
    "print(\"Second person: \", second_person)"
   ]
  },
  {
   "cell_type": "code",
   "execution_count": null,
   "metadata": {},
   "outputs": [],
   "source": [
    "# if u update a MUTABLE INNER ELEMENT\n",
    "# the 'shallow copy' list references the same mutable inner element (which has been updated)\n",
    "second_person[1][0] = \"Brookline Avenue\""
   ]
  },
  {
   "cell_type": "code",
   "execution_count": 11,
   "metadata": {},
   "outputs": [
    {
     "name": "stdout",
     "output_type": "stream",
     "text": [
      "First person:  ['Henry', ['Brookline Avenue', 'Massachusetts']]\n",
      "Second person:  ['Mark', ['Brookline Avenue', 'Massachusetts']]\n"
     ]
    }
   ],
   "source": [
    "print(\"First person: \", first_person)\n",
    "\n",
    "print(\"Second person: \", second_person)"
   ]
  },
  {
   "cell_type": "code",
   "execution_count": null,
   "metadata": {},
   "outputs": [],
   "source": [
    "# NOW DEEPCOPY\n",
    "from copy import deepcopy"
   ]
  },
  {
   "cell_type": "code",
   "execution_count": 13,
   "metadata": {},
   "outputs": [],
   "source": [
    "first_person = [\"Henry\", [\"1349 West Zenith St\", \"Massachusetts\"]]"
   ]
  },
  {
   "cell_type": "code",
   "execution_count": 14,
   "metadata": {},
   "outputs": [],
   "source": [
    "second_person = deepcopy(first_person)\n",
    "\n",
    "second_person[0] = \"Mark\"\n",
    "second_person[1][0] = \"Brookline Avenue\""
   ]
  },
  {
   "cell_type": "code",
   "execution_count": 15,
   "metadata": {},
   "outputs": [
    {
     "name": "stdout",
     "output_type": "stream",
     "text": [
      "First person:  ['Henry', ['1349 West Zenith St', 'Massachusetts']]\n",
      "Second person:  ['Mark', ['Brookline Avenue', 'Massachusetts']]\n"
     ]
    }
   ],
   "source": [
    "print(\"First person: \", first_person)\n",
    "\n",
    "print(\"Second person: \", second_person)"
   ]
  },
  {
   "cell_type": "markdown",
   "metadata": {},
   "source": [
    "### Tuples\n",
    "\n",
    "Since tuples cannot be modified, copies cannot be edited unless we have a nested mutable complex data type within the tuple"
   ]
  },
  {
   "cell_type": "code",
   "execution_count": 16,
   "metadata": {},
   "outputs": [],
   "source": [
    "ice_cream_tuple = (\"Vanilla\", [\"Chocolate\", \"Vanilla\"], \"Strawberry\", \"Blueberry\")\n",
    "\n",
    "ice_cream_tuple_copy = ice_cream_tuple"
   ]
  },
  {
   "cell_type": "code",
   "execution_count": 17,
   "metadata": {},
   "outputs": [
    {
     "name": "stdout",
     "output_type": "stream",
     "text": [
      "Original:  ('Vanilla', ['Chocolate', 'Vanilla'], 'Strawberry', 'Blueberry')\n",
      "Modified:  ('Vanilla', ['Chocolate', 'Vanilla'], 'Strawberry', 'Blueberry')\n"
     ]
    }
   ],
   "source": [
    "print(\"Original: \", ice_cream_tuple)\n",
    "\n",
    "print(\"Modified: \", ice_cream_tuple_copy)"
   ]
  },
  {
   "cell_type": "code",
   "execution_count": 18,
   "metadata": {},
   "outputs": [],
   "source": [
    "ice_cream_tuple_copy[1][0] = \"Butterscotch\""
   ]
  },
  {
   "cell_type": "code",
   "execution_count": 19,
   "metadata": {},
   "outputs": [
    {
     "name": "stdout",
     "output_type": "stream",
     "text": [
      "Original:  ('Vanilla', ['Butterscotch', 'Vanilla'], 'Strawberry', 'Blueberry')\n",
      "Modified:  ('Vanilla', ['Butterscotch', 'Vanilla'], 'Strawberry', 'Blueberry')\n"
     ]
    }
   ],
   "source": [
    "print(\"Original: \", ice_cream_tuple)\n",
    "\n",
    "print(\"Modified: \", ice_cream_tuple_copy)"
   ]
  },
  {
   "cell_type": "code",
   "execution_count": 20,
   "metadata": {},
   "outputs": [
    {
     "data": {
      "text/plain": [
       "('Vanilla', ['Chocolate', 'Vanilla'], 'Strawberry', 'Blueberry')"
      ]
     },
     "execution_count": 20,
     "metadata": {},
     "output_type": "execute_result"
    }
   ],
   "source": [
    "ice_cream_tuple = (\"Vanilla\", [\"Chocolate\", \"Vanilla\"], \"Strawberry\", \"Blueberry\")\n",
    "\n",
    "ice_cream_tuple"
   ]
  },
  {
   "cell_type": "code",
   "execution_count": 21,
   "metadata": {},
   "outputs": [
    {
     "ename": "AttributeError",
     "evalue": "'tuple' object has no attribute 'copy'",
     "output_type": "error",
     "traceback": [
      "\u001b[31m---------------------------------------------------------------------------\u001b[39m",
      "\u001b[31mAttributeError\u001b[39m                            Traceback (most recent call last)",
      "\u001b[36mCell\u001b[39m\u001b[36m \u001b[39m\u001b[32mIn[21]\u001b[39m\u001b[32m, line 1\u001b[39m\n\u001b[32m----> \u001b[39m\u001b[32m1\u001b[39m ice_cream_tuple_copy = \u001b[43mice_cream_tuple\u001b[49m\u001b[43m.\u001b[49m\u001b[43mcopy\u001b[49m()\n",
      "\u001b[31mAttributeError\u001b[39m: 'tuple' object has no attribute 'copy'"
     ]
    }
   ],
   "source": [
    "ice_cream_tuple_copy = ice_cream_tuple.copy()"
   ]
  },
  {
   "cell_type": "code",
   "execution_count": 22,
   "metadata": {},
   "outputs": [],
   "source": [
    "from copy import deepcopy\n",
    "\n",
    "ice_cream_tuple_copy = deepcopy(ice_cream_tuple)"
   ]
  },
  {
   "cell_type": "code",
   "execution_count": 23,
   "metadata": {},
   "outputs": [
    {
     "name": "stdout",
     "output_type": "stream",
     "text": [
      "Original:  ('Vanilla', ['Chocolate', 'Vanilla'], 'Strawberry', 'Blueberry')\n",
      "Modified:  ('Vanilla', ['Chocolate', 'Vanilla'], 'Strawberry', 'Blueberry')\n"
     ]
    }
   ],
   "source": [
    "print(\"Original: \", ice_cream_tuple)\n",
    "\n",
    "print(\"Modified: \", ice_cream_tuple_copy)"
   ]
  },
  {
   "cell_type": "code",
   "execution_count": 24,
   "metadata": {},
   "outputs": [],
   "source": [
    "ice_cream_tuple_copy[1][0] = \"Butterscotch\""
   ]
  },
  {
   "cell_type": "code",
   "execution_count": 25,
   "metadata": {},
   "outputs": [
    {
     "name": "stdout",
     "output_type": "stream",
     "text": [
      "Original:  ('Vanilla', ['Chocolate', 'Vanilla'], 'Strawberry', 'Blueberry')\n",
      "Modified:  ('Vanilla', ['Butterscotch', 'Vanilla'], 'Strawberry', 'Blueberry')\n"
     ]
    }
   ],
   "source": [
    "print(\"Original: \", ice_cream_tuple)\n",
    "\n",
    "print(\"Modified: \", ice_cream_tuple_copy)"
   ]
  },
  {
   "cell_type": "markdown",
   "metadata": {},
   "source": [
    "### Sets"
   ]
  },
  {
   "cell_type": "code",
   "execution_count": 26,
   "metadata": {},
   "outputs": [
    {
     "data": {
      "text/plain": [
       "{'blue', 'orange', 'pink', 'red', 'yellow'}"
      ]
     },
     "execution_count": 26,
     "metadata": {},
     "output_type": "execute_result"
    }
   ],
   "source": [
    "colors_set = {'blue', 'red', 'orange', 'yellow', 'pink'}\n",
    "\n",
    "colors_set"
   ]
  },
  {
   "cell_type": "code",
   "execution_count": 28,
   "metadata": {},
   "outputs": [
    {
     "name": "stdout",
     "output_type": "stream",
     "text": [
      "Original: {'red', 'blue', 'yellow', 'pink', 'orange'}\n",
      "Modified: {'red', 'blue', 'yellow', 'pink', 'orange'}\n"
     ]
    }
   ],
   "source": [
    "colors_set_copy = colors_set\n",
    "\n",
    "print(\"Original:\", colors_set)\n",
    "print(\"Modified:\", colors_set_copy)"
   ]
  },
  {
   "cell_type": "code",
   "execution_count": 29,
   "metadata": {},
   "outputs": [
    {
     "name": "stdout",
     "output_type": "stream",
     "text": [
      "Original: {'blue', 'yellow', 'pink', 'orange'}\n",
      "Modified: {'blue', 'yellow', 'pink', 'orange'}\n"
     ]
    }
   ],
   "source": [
    "colors_set_copy.remove('red')\n",
    "\n",
    "print(\"Original:\", colors_set)\n",
    "print(\"Modified:\", colors_set_copy)"
   ]
  },
  {
   "cell_type": "code",
   "execution_count": 30,
   "metadata": {},
   "outputs": [
    {
     "data": {
      "text/plain": [
       "{'blue', 'orange', 'pink', 'red', 'yellow'}"
      ]
     },
     "execution_count": 30,
     "metadata": {},
     "output_type": "execute_result"
    }
   ],
   "source": [
    "colors_set = {'blue', 'red', 'orange', 'yellow', 'pink'}\n",
    "\n",
    "colors_set"
   ]
  },
  {
   "cell_type": "code",
   "execution_count": null,
   "metadata": {},
   "outputs": [
    {
     "name": "stdout",
     "output_type": "stream",
     "text": [
      "Original: {'red', 'blue', 'yellow', 'pink', 'orange'}\n",
      "Modified: {'red', 'blue', 'yellow', 'pink', 'orange'}\n"
     ]
    }
   ],
   "source": [
    "# SHALLOW COPY\n",
    "colors_set_copy = colors_set.copy()\n",
    "\n",
    "print(\"Original:\", colors_set)\n",
    "print(\"Modified:\", colors_set_copy)"
   ]
  },
  {
   "cell_type": "code",
   "execution_count": 32,
   "metadata": {},
   "outputs": [
    {
     "name": "stdout",
     "output_type": "stream",
     "text": [
      "Original: {'red', 'blue', 'yellow', 'pink', 'orange'}\n",
      "Modified: {'magenta', 'red', 'blue', 'yellow', 'pink', 'orange'}\n"
     ]
    }
   ],
   "source": [
    "colors_set_copy.add('magenta')\n",
    "\n",
    "print(\"Original:\", colors_set)\n",
    "print(\"Modified:\", colors_set_copy)"
   ]
  },
  {
   "cell_type": "markdown",
   "metadata": {},
   "source": [
    "Sets cannot contain other mutable types so deep copies need not be made"
   ]
  },
  {
   "cell_type": "code",
   "execution_count": 31,
   "metadata": {},
   "outputs": [
    {
     "ename": "TypeError",
     "evalue": "unhashable type: 'list'",
     "output_type": "error",
     "traceback": [
      "\u001b[0;31m---------------------------------------------------------------------------\u001b[0m",
      "\u001b[0;31mTypeError\u001b[0m                                 Traceback (most recent call last)",
      "Cell \u001b[0;32mIn[31], line 1\u001b[0m\n\u001b[0;32m----> 1\u001b[0m colors_set \u001b[38;5;241m=\u001b[39m {\u001b[38;5;124m'\u001b[39m\u001b[38;5;124mblue\u001b[39m\u001b[38;5;124m'\u001b[39m, \u001b[38;5;124m'\u001b[39m\u001b[38;5;124mred\u001b[39m\u001b[38;5;124m'\u001b[39m, [\u001b[38;5;124m'\u001b[39m\u001b[38;5;124morange\u001b[39m\u001b[38;5;124m'\u001b[39m, \u001b[38;5;124m'\u001b[39m\u001b[38;5;124myellow\u001b[39m\u001b[38;5;124m'\u001b[39m], \u001b[38;5;124m'\u001b[39m\u001b[38;5;124mpink\u001b[39m\u001b[38;5;124m'\u001b[39m}\n",
      "\u001b[0;31mTypeError\u001b[0m: unhashable type: 'list'"
     ]
    }
   ],
   "source": [
    "colors_set = {'blue', 'red', ['orange', 'yellow'], 'pink'}"
   ]
  },
  {
   "cell_type": "code",
   "execution_count": 32,
   "metadata": {},
   "outputs": [
    {
     "ename": "TypeError",
     "evalue": "unhashable type: 'dict'",
     "output_type": "error",
     "traceback": [
      "\u001b[0;31m---------------------------------------------------------------------------\u001b[0m",
      "\u001b[0;31mTypeError\u001b[0m                                 Traceback (most recent call last)",
      "Cell \u001b[0;32mIn[32], line 1\u001b[0m\n\u001b[0;32m----> 1\u001b[0m colors_set \u001b[38;5;241m=\u001b[39m {\u001b[38;5;124m'\u001b[39m\u001b[38;5;124mblue\u001b[39m\u001b[38;5;124m'\u001b[39m, \u001b[38;5;124m'\u001b[39m\u001b[38;5;124mred\u001b[39m\u001b[38;5;124m'\u001b[39m, {\u001b[38;5;241m1\u001b[39m: \u001b[38;5;124m'\u001b[39m\u001b[38;5;124morange\u001b[39m\u001b[38;5;124m'\u001b[39m, \u001b[38;5;241m2\u001b[39m: \u001b[38;5;124m'\u001b[39m\u001b[38;5;124myellow\u001b[39m\u001b[38;5;124m'\u001b[39m}, \u001b[38;5;124m'\u001b[39m\u001b[38;5;124mpink\u001b[39m\u001b[38;5;124m'\u001b[39m}\n",
      "\u001b[0;31mTypeError\u001b[0m: unhashable type: 'dict'"
     ]
    }
   ],
   "source": [
    "colors_set = {'blue', 'red', {1: 'orange', 2: 'yellow'}, 'pink'}"
   ]
  },
  {
   "cell_type": "code",
   "execution_count": 33,
   "metadata": {},
   "outputs": [
    {
     "data": {
      "text/plain": [
       "{('orange', 'yellow'), 'blue', 'pink', 'red'}"
      ]
     },
     "execution_count": 33,
     "metadata": {},
     "output_type": "execute_result"
    }
   ],
   "source": [
    "colors_set = {'blue', 'red', ('orange', 'yellow'), 'pink'}\n",
    "\n",
    "colors_set"
   ]
  },
  {
   "cell_type": "markdown",
   "metadata": {},
   "source": [
    "### Dictionaries"
   ]
  },
  {
   "cell_type": "code",
   "execution_count": 36,
   "metadata": {},
   "outputs": [
    {
     "data": {
      "text/plain": [
       "{1000: 'Python', 2000: ['Java', 'C#'], 3000: 'Javascript', 4000: 'Golang'}"
      ]
     },
     "execution_count": 36,
     "metadata": {},
     "output_type": "execute_result"
    }
   ],
   "source": [
    "project_language = {1000: \"Python\", \n",
    "                    2000: [\"Java\", \"C#\"], \n",
    "                    3000: \"Javascript\",\n",
    "                    4000: \"Golang\"}\n",
    "\n",
    "project_language"
   ]
  },
  {
   "cell_type": "code",
   "execution_count": null,
   "metadata": {},
   "outputs": [
    {
     "name": "stdout",
     "output_type": "stream",
     "text": [
      "Original: {1000: 'Python', 2000: ['Java', 'C#'], 3000: 'Javascript', 4000: 'C#'}\n",
      "Modified: {1000: 'Python', 2000: ['Java', 'C#'], 3000: 'Javascript', 4000: 'C#'}\n"
     ]
    }
   ],
   "source": [
    "# 'project_language_copy' is an ALIAS/REFERENCE\n",
    "# not a copy\n",
    "project_language_copy = project_language\n",
    "\n",
    "project_language_copy[4000] = \"C#\"\n",
    "\n",
    "print(\"Original:\", project_language)\n",
    "print(\"Modified:\", project_language_copy)"
   ]
  },
  {
   "cell_type": "code",
   "execution_count": 39,
   "metadata": {},
   "outputs": [
    {
     "data": {
      "text/plain": [
       "{1000: 'Python', 2000: ['Java', 'C#'], 3000: 'Javascript', 4000: 'Golang'}"
      ]
     },
     "execution_count": 39,
     "metadata": {},
     "output_type": "execute_result"
    }
   ],
   "source": [
    "project_language = {1000: \"Python\", \n",
    "                    2000: [\"Java\", \"C#\"], \n",
    "                    3000: \"Javascript\",\n",
    "                    4000: \"Golang\"}\n",
    "\n",
    "project_language"
   ]
  },
  {
   "cell_type": "code",
   "execution_count": 40,
   "metadata": {},
   "outputs": [
    {
     "name": "stdout",
     "output_type": "stream",
     "text": [
      "Original: {1000: 'Python', 2000: ['Java', 'C#'], 3000: 'Javascript', 4000: 'Golang'}\n",
      "Modified: {1000: 'Python', 2000: ['Java', 'C#'], 3000: 'Javascript', 4000: 'C#'}\n"
     ]
    }
   ],
   "source": [
    "# SHALLOW COPY\n",
    "project_language_copy = project_language.copy()\n",
    "\n",
    "project_language_copy[4000] = \"C#\"\n",
    "\n",
    "print(\"Original:\", project_language)\n",
    "print(\"Modified:\", project_language_copy)"
   ]
  },
  {
   "cell_type": "code",
   "execution_count": null,
   "metadata": {},
   "outputs": [
    {
     "name": "stdout",
     "output_type": "stream",
     "text": [
      "Original: {1000: 'Python', 2000: ['Scala', 'C#'], 3000: 'Javascript', 4000: 'Golang'}\n",
      "Modified: {1000: 'Python', 2000: ['Scala', 'C#'], 3000: 'Javascript', 4000: 'C#'}\n"
     ]
    }
   ],
   "source": [
    "# FOR AN ELEMENT IN A LIST (in the dictionary) - IT GETS UPDATED EVEN AFTER SHALLOW COPY\n",
    "project_language_copy[2000][0] = \"Scala\"\n",
    "\n",
    "print(\"Original:\", project_language)\n",
    "print(\"Modified:\", project_language_copy)"
   ]
  },
  {
   "cell_type": "code",
   "execution_count": 42,
   "metadata": {},
   "outputs": [
    {
     "data": {
      "text/plain": [
       "{1000: 'Python', 2000: ['Java', 'C#'], 3000: 'Javascript', 4000: 'Golang'}"
      ]
     },
     "execution_count": 42,
     "metadata": {},
     "output_type": "execute_result"
    }
   ],
   "source": [
    "project_language = {1000: \"Python\", \n",
    "                    2000: [\"Java\", \"C#\"], \n",
    "                    3000: \"Javascript\",\n",
    "                    4000: \"Golang\"}\n",
    "\n",
    "project_language"
   ]
  },
  {
   "cell_type": "code",
   "execution_count": 43,
   "metadata": {},
   "outputs": [],
   "source": [
    "from copy import deepcopy"
   ]
  },
  {
   "cell_type": "code",
   "execution_count": 44,
   "metadata": {},
   "outputs": [
    {
     "name": "stdout",
     "output_type": "stream",
     "text": [
      "Original: {1000: 'Python', 2000: ['Java', 'C#'], 3000: 'Javascript', 4000: 'Golang'}\n",
      "Modified: {1000: 'Python', 2000: ['Java', 'C#'], 3000: 'Javascript', 4000: 'C#'}\n"
     ]
    }
   ],
   "source": [
    "project_language_copy = deepcopy(project_language)\n",
    "\n",
    "project_language_copy[4000] = \"C#\"\n",
    "\n",
    "print(\"Original:\", project_language)\n",
    "print(\"Modified:\", project_language_copy)"
   ]
  },
  {
   "cell_type": "code",
   "execution_count": 45,
   "metadata": {},
   "outputs": [
    {
     "name": "stdout",
     "output_type": "stream",
     "text": [
      "Original: {1000: 'Python', 2000: ['Java', 'C#'], 3000: 'Javascript', 4000: 'Golang'}\n",
      "Modified: {1000: 'Python', 2000: ['Scala', 'C#'], 3000: 'Javascript', 4000: 'C#'}\n"
     ]
    }
   ],
   "source": [
    "project_language_copy[2000][0] = \"Scala\"\n",
    "\n",
    "print(\"Original:\", project_language)\n",
    "print(\"Modified:\", project_language_copy)"
   ]
  }
 ],
 "metadata": {
  "kernelspec": {
   "display_name": "Python 3",
   "language": "python",
   "name": "python3"
  },
  "language_info": {
   "codemirror_mode": {
    "name": "ipython",
    "version": 3
   },
   "file_extension": ".py",
   "mimetype": "text/x-python",
   "name": "python",
   "nbconvert_exporter": "python",
   "pygments_lexer": "ipython3",
   "version": "3.12.1"
  }
 },
 "nbformat": 4,
 "nbformat_minor": 2
}
