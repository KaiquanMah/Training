{
 "cells": [
  {
   "cell_type": "code",
   "execution_count": 1,
   "metadata": {},
   "outputs": [
    {
     "name": "stdout",
     "output_type": "stream",
     "text": [
      "This condition is always true, which means this code will always run!\n"
     ]
    }
   ],
   "source": [
    "if True:\n",
    "    print(\"This condition is always true, which means this code will always run!\")"
   ]
  },
  {
   "cell_type": "code",
   "execution_count": 2,
   "metadata": {},
   "outputs": [],
   "source": [
    "if False:\n",
    "    print(\"This condition is always false, which means this code will never run!\")"
   ]
  },
  {
   "cell_type": "code",
   "execution_count": 3,
   "metadata": {},
   "outputs": [
    {
     "name": "stdout",
     "output_type": "stream",
     "text": [
      "1000 is greater than 100\n"
     ]
    }
   ],
   "source": [
    "if 1000 > 100:\n",
    "    print(\"1000 is greater than 100\")"
   ]
  },
  {
   "cell_type": "code",
   "execution_count": 4,
   "metadata": {},
   "outputs": [
    {
     "ename": "IndentationError",
     "evalue": "expected an indented block after 'if' statement on line 1 (762845764.py, line 2)",
     "output_type": "error",
     "traceback": [
      "  \u001b[36mCell\u001b[39m\u001b[36m \u001b[39m\u001b[32mIn[4]\u001b[39m\u001b[32m, line 2\u001b[39m\n\u001b[31m    \u001b[39m\u001b[31mprint(\"1000 is greater than 100\")\u001b[39m\n    ^\n\u001b[31mIndentationError\u001b[39m\u001b[31m:\u001b[39m expected an indented block after 'if' statement on line 1\n"
     ]
    }
   ],
   "source": [
    "if 1000 > 100:\n",
    "print(\"1000 is greater than 100\")"
   ]
  },
  {
   "cell_type": "code",
   "execution_count": 5,
   "metadata": {},
   "outputs": [],
   "source": [
    "gross_salary = 50000\n",
    "\n",
    "if gross_salary >= 50000:\n",
    "    tax_rate = 30"
   ]
  },
  {
   "cell_type": "code",
   "execution_count": 6,
   "metadata": {},
   "outputs": [
    {
     "name": "stdout",
     "output_type": "stream",
     "text": [
      "30\n"
     ]
    }
   ],
   "source": [
    "print(tax_rate)"
   ]
  },
  {
   "cell_type": "code",
   "execution_count": 12,
   "metadata": {},
   "outputs": [],
   "source": [
    "del tax_rate"
   ]
  },
  {
   "cell_type": "code",
   "execution_count": 13,
   "metadata": {},
   "outputs": [],
   "source": [
    "gross_salary = 40000\n",
    "\n",
    "if gross_salary >= 50000:\n",
    "    tax_rate = 30"
   ]
  },
  {
   "cell_type": "code",
   "execution_count": 14,
   "metadata": {},
   "outputs": [
    {
     "ename": "NameError",
     "evalue": "name 'tax_rate' is not defined",
     "output_type": "error",
     "traceback": [
      "\u001b[31m---------------------------------------------------------------------------\u001b[39m",
      "\u001b[31mNameError\u001b[39m                                 Traceback (most recent call last)",
      "\u001b[36mCell\u001b[39m\u001b[36m \u001b[39m\u001b[32mIn[14]\u001b[39m\u001b[32m, line 1\u001b[39m\n\u001b[32m----> \u001b[39m\u001b[32m1\u001b[39m \u001b[38;5;28mprint\u001b[39m(\u001b[43mtax_rate\u001b[49m)\n",
      "\u001b[31mNameError\u001b[39m: name 'tax_rate' is not defined"
     ]
    }
   ],
   "source": [
    "print(tax_rate)"
   ]
  },
  {
   "cell_type": "code",
   "execution_count": 15,
   "metadata": {},
   "outputs": [
    {
     "name": "stdout",
     "output_type": "stream",
     "text": [
      "30\n"
     ]
    }
   ],
   "source": [
    "if gross_salary >= 40000:\n",
    "    tax_rate = 30\n",
    "    \n",
    "print(tax_rate)"
   ]
  },
  {
   "cell_type": "code",
   "execution_count": 16,
   "metadata": {},
   "outputs": [
    {
     "name": "stdout",
     "output_type": "stream",
     "text": [
      "James was present in names_list\n"
     ]
    }
   ],
   "source": [
    "names_list = [\"James\", \"Greg\", \"Cameron\", \"Robert\", \"Emily\"]\n",
    "\n",
    "if \"James\" in names_list:\n",
    "    \n",
    "    names_list.append(\"Bond\")\n",
    "    \n",
    "    print(\"James was present in names_list\")"
   ]
  },
  {
   "cell_type": "code",
   "execution_count": 17,
   "metadata": {},
   "outputs": [
    {
     "data": {
      "text/plain": [
       "['James', 'Greg', 'Cameron', 'Robert', 'Emily', 'Bond']"
      ]
     },
     "execution_count": 17,
     "metadata": {},
     "output_type": "execute_result"
    }
   ],
   "source": [
    "names_list"
   ]
  },
  {
   "cell_type": "markdown",
   "metadata": {},
   "source": [
    "### Coding Practice\n",
    "* Create a list of names\n",
    "* Ask the user for a name as an input\n",
    "* if the name is present in the list, remove it and print a message saying the name has been removed"
   ]
  },
  {
   "cell_type": "code",
   "execution_count": 2,
   "metadata": {},
   "outputs": [],
   "source": [
    "names_list = [\"James\", \"Greg\", \"Cameron\", \"Robert\", \"Emily\"]\n"
   ]
  },
  {
   "cell_type": "code",
   "execution_count": 4,
   "metadata": {},
   "outputs": [
    {
     "data": {
      "text/plain": [
       "'James'"
      ]
     },
     "execution_count": 4,
     "metadata": {},
     "output_type": "execute_result"
    }
   ],
   "source": [
    "\"james\".title()"
   ]
  },
  {
   "cell_type": "code",
   "execution_count": 5,
   "metadata": {},
   "outputs": [
    {
     "name": "stdout",
     "output_type": "stream",
     "text": [
      "james was found in the list: ['James', 'Greg', 'Cameron', 'Robert', 'Emily']\n"
     ]
    }
   ],
   "source": [
    "user_name = input(\"Input a name to find from a name list\")\n",
    "\n",
    "# check if name is found\n",
    "# fix to 'Title' case\n",
    "found = False\n",
    "if user_name.title() in names_list:\n",
    "    found = True\n",
    "\n",
    "print(f\"{user_name} was found in the list: {names_list}\")"
   ]
  },
  {
   "cell_type": "markdown",
   "metadata": {},
   "source": [
    "### Continue Dictionary"
   ]
  },
  {
   "cell_type": "code",
   "execution_count": 18,
   "metadata": {},
   "outputs": [
    {
     "data": {
      "text/plain": [
       "{'Ray': 34000, 'Jacob': 35000, 'Lisa': 40000, 'Raj': 32000}"
      ]
     },
     "execution_count": 18,
     "metadata": {},
     "output_type": "execute_result"
    }
   ],
   "source": [
    "employee_salaries = {\"Ray\": 34000,\n",
    "                     \"Jacob\": 35000,\n",
    "                     \"Lisa\": 40000,\n",
    "                     \"Raj\": 32000}\n",
    "\n",
    "employee_salaries"
   ]
  },
  {
   "cell_type": "code",
   "execution_count": 19,
   "metadata": {},
   "outputs": [],
   "source": [
    "if \"Donna\" not in employee_salaries:\n",
    "    employee_salaries[\"Donna\"] = 46000"
   ]
  },
  {
   "cell_type": "code",
   "execution_count": 20,
   "metadata": {},
   "outputs": [
    {
     "data": {
      "text/plain": [
       "{'Ray': 34000, 'Jacob': 35000, 'Lisa': 40000, 'Raj': 32000, 'Donna': 46000}"
      ]
     },
     "execution_count": 20,
     "metadata": {},
     "output_type": "execute_result"
    }
   ],
   "source": [
    "employee_salaries"
   ]
  },
  {
   "cell_type": "code",
   "execution_count": 20,
   "metadata": {},
   "outputs": [
    {
     "name": "stdout",
     "output_type": "stream",
     "text": [
      "Donna's salary is:  46000\n"
     ]
    }
   ],
   "source": [
    "if \"Donna\" in employee_salaries.keys():\n",
    "    print(\"Donna's salary is: \", employee_salaries[\"Donna\"])"
   ]
  },
  {
   "cell_type": "code",
   "execution_count": 21,
   "metadata": {},
   "outputs": [
    {
     "name": "stdout",
     "output_type": "stream",
     "text": [
      "Ray's original salary:  34000\n",
      "Ray's updated salary:  37400.0\n"
     ]
    }
   ],
   "source": [
    "if employee_salaries[\"Ray\"] > 30000 and employee_salaries[\"Ray\"] < 40000:\n",
    "    \n",
    "    print(\"Ray's original salary: \", employee_salaries[\"Ray\"])\n",
    "\n",
    "    employee_salaries[\"Ray\"] = employee_salaries[\"Ray\"] * 1.1\n",
    "    \n",
    "    print(\"Ray's updated salary: \", employee_salaries[\"Ray\"])"
   ]
  },
  {
   "cell_type": "code",
   "execution_count": 22,
   "metadata": {},
   "outputs": [
    {
     "data": {
      "text/plain": [
       "['James', 'Greg', 'Cameron', 'Robert', 'Emily', 'Bond']"
      ]
     },
     "execution_count": 22,
     "metadata": {},
     "output_type": "execute_result"
    }
   ],
   "source": [
    "names_list"
   ]
  },
  {
   "cell_type": "code",
   "execution_count": 23,
   "metadata": {},
   "outputs": [
    {
     "name": "stdout",
     "output_type": "stream",
     "text": [
      "We found either Greg or Sara in the names_list\n"
     ]
    }
   ],
   "source": [
    "if (\"Greg\" in names_list) or (\"Sara\" in names_list):\n",
    "    print(\"We found either Greg or Sara in the names_list\")"
   ]
  },
  {
   "cell_type": "code",
   "execution_count": 24,
   "metadata": {},
   "outputs": [
    {
     "name": "stdout",
     "output_type": "stream",
     "text": [
      "20 is less than or equal to 100\n"
     ]
    }
   ],
   "source": [
    "if 20 <= 100:\n",
    "    print(\"20 is less than or equal to 100\")"
   ]
  },
  {
   "cell_type": "code",
   "execution_count": 26,
   "metadata": {},
   "outputs": [],
   "source": [
    "if not (20 <= 100):\n",
    "    print(\"not of a True condition is False\")"
   ]
  },
  {
   "cell_type": "code",
   "execution_count": 29,
   "metadata": {},
   "outputs": [
    {
     "name": "stdout",
     "output_type": "stream",
     "text": [
      "Please enter your score: 34\n",
      "You've failed your examinations:-(\n",
      "Else block executed\n"
     ]
    }
   ],
   "source": [
    "student_score = int(input(\"Please enter your score: \"))\n",
    "\n",
    "if student_score > 45:\n",
    "    print(\"You've passed your examinations!\")\n",
    "    print(\"If block executed\")\n",
    "else:\n",
    "    print(\"You've failed your examinations:-(\")\n",
    "    print(\"Else block executed\")"
   ]
  },
  {
   "cell_type": "code",
   "execution_count": 30,
   "metadata": {},
   "outputs": [
    {
     "ename": "SyntaxError",
     "evalue": "invalid syntax (<ipython-input-30-977b25fa8a9d>, line 4)",
     "output_type": "error",
     "traceback": [
      "\u001b[0;36m  File \u001b[0;32m\"<ipython-input-30-977b25fa8a9d>\"\u001b[0;36m, line \u001b[0;32m4\u001b[0m\n\u001b[0;31m    else:\u001b[0m\n\u001b[0m       ^\u001b[0m\n\u001b[0;31mSyntaxError\u001b[0m\u001b[0;31m:\u001b[0m invalid syntax\n"
     ]
    }
   ],
   "source": [
    "if student_score > 45:\n",
    "    print(\"You've passed your examinations!\")\n",
    "    print(\"If block executed\")\n",
    "    else:\n",
    "    print(\"You've failed your examinations:-(\")\n",
    "    print(\"Else block executed\")"
   ]
  },
  {
   "cell_type": "markdown",
   "metadata": {},
   "source": [
    "### if-else expression on 1 line"
   ]
  },
  {
   "cell_type": "code",
   "execution_count": null,
   "metadata": {},
   "outputs": [
    {
     "name": "stdout",
     "output_type": "stream",
     "text": [
      "num before expression:  50\n",
      "num after expression:  30\n"
     ]
    }
   ],
   "source": [
    "num = 50\n",
    "print(\"num before expression: \", num)\n",
    "\n",
    "# if-else expression on 1 line\n",
    "# num 50 > 20\n",
    "# so execute 'num-20'\n",
    "num = num - 20 if num > 20 else num + 20\n",
    "\n",
    "print(\"num after expression: \", num)"
   ]
  },
  {
   "cell_type": "code",
   "execution_count": null,
   "metadata": {},
   "outputs": [
    {
     "name": "stdout",
     "output_type": "stream",
     "text": [
      "Number before expression :  100\n",
      "Number after expression :  500\n"
     ]
    }
   ],
   "source": [
    "num = 100\n",
    "print(\"Number before expression : \", num)\n",
    "\n",
    "# num 100 is 'not < 50'\n",
    "#   so run the else part\n",
    "#   100 * 5\n",
    "result = num / 5 if num < 50 else num * 5\n",
    "\n",
    "print(\"Number after expression : \", result)"
   ]
  },
  {
   "cell_type": "code",
   "execution_count": 34,
   "metadata": {},
   "outputs": [
    {
     "name": "stdout",
     "output_type": "stream",
     "text": [
      "Please enter your score: 55\n",
      "Your grade is B\n",
      "Second elif block executed\n",
      "This print statement is outside the if-elif-else blocks\n"
     ]
    }
   ],
   "source": [
    "student_score = int(input(\"Please enter your score: \"))\n",
    "\n",
    "if student_score > 85:\n",
    "    print(\"Your grade is A\")\n",
    "    print(\"If block executed\")\n",
    "elif student_score > 65:\n",
    "    print(\"Your grade is B\")\n",
    "    print(\"First elif block executed\")\n",
    "elif student_score > 50:\n",
    "    print(\"Your grade is B\")\n",
    "    print(\"Second elif block executed\")\n",
    "else:\n",
    "    print(\"Your grade is C\")\n",
    "    print(\"Else block executed\")\n",
    "\n",
    "print(\"This print statement is outside the if-elif-else blocks\")"
   ]
  },
  {
   "cell_type": "code",
   "execution_count": 43,
   "metadata": {},
   "outputs": [
    {
     "name": "stdout",
     "output_type": "stream",
     "text": [
      "Please enter how many items were ordered: 23\n",
      "Please enter how many items are present in your inventory: 30\n",
      "We have the number of items you need in stock\n"
     ]
    }
   ],
   "source": [
    "items_ordered = int(input(\"Please enter how many items were ordered: \"))\n",
    "\n",
    "items_inventory = int(input(\"Please enter how many items are present in your inventory: \"))\n",
    "\n",
    "if (items_ordered > items_inventory):\n",
    "    \n",
    "    print(\"I am afraid we do not have these many items in stock\")\n",
    "\n",
    "elif (items_ordered <= items_inventory):\n",
    "    \n",
    "    if (items_ordered == items_inventory):\n",
    "        print(\"You're lucky, we have exactly the number of items you need\")\n",
    "    else:\n",
    "        print(\"We have the number of items you need\")\n",
    "        \n",
    "    items_inventory -= items_ordered\n",
    "    \n",
    "    if (items_inventory < 2):\n",
    "        print(\"Time to reorder these items\")"
   ]
  },
  {
   "cell_type": "markdown",
   "metadata": {},
   "source": [
    "### Coding Practice\n",
    "\n",
    "Write a program that asks the user to input a number and checks if the number is even or odd. Print \"Even\" if the number is even, and \"Odd\" if the number is odd.\n",
    "\n",
    "Hint: Use the modulus operator %."
   ]
  },
  {
   "cell_type": "code",
   "execution_count": 21,
   "metadata": {},
   "outputs": [
    {
     "name": "stdout",
     "output_type": "stream",
     "text": [
      "Number 1: odd\n"
     ]
    }
   ],
   "source": [
    "user_num = int(input(\"Input an odd or even number\"))\n",
    "if user_num % 2 == 0:\n",
    "    outcome = \"even\"\n",
    "else:\n",
    "    outcome = \"odd\"\n",
    "\n",
    "print(f\"Number {user_num}: {outcome}\")"
   ]
  },
  {
   "cell_type": "code",
   "execution_count": 22,
   "metadata": {},
   "outputs": [
    {
     "name": "stdout",
     "output_type": "stream",
     "text": [
      "Number 2: even\n"
     ]
    }
   ],
   "source": [
    "user_num = int(input(\"Input an odd or even number\"))\n",
    "if user_num % 2 == 0:\n",
    "    outcome = \"even\"\n",
    "else:\n",
    "    outcome = \"odd\"\n",
    "\n",
    "print(f\"Number {user_num}: {outcome}\")"
   ]
  },
  {
   "cell_type": "markdown",
   "metadata": {},
   "source": [
    "### Coding Practice\n",
    "\n",
    "Write a program that takes a number as input from the user and prints whether the number is positive, negative, or zero.\n",
    "\n",
    "Hint: Use a series of if-elif-else statements."
   ]
  },
  {
   "cell_type": "code",
   "execution_count": 24,
   "metadata": {},
   "outputs": [
    {
     "name": "stdout",
     "output_type": "stream",
     "text": [
      "Number -2: negative\n"
     ]
    }
   ],
   "source": [
    "user_num = int(input(\"Input an integer\"))\n",
    "if user_num < 0:\n",
    "    outcome = \"negative\"\n",
    "elif user_num == 0:\n",
    "    outcome = \"zero\"\n",
    "else:\n",
    "    outcome = \"positive\"\n",
    "\n",
    "print(f\"Number {user_num}: {outcome}\")"
   ]
  },
  {
   "cell_type": "code",
   "execution_count": 25,
   "metadata": {},
   "outputs": [
    {
     "name": "stdout",
     "output_type": "stream",
     "text": [
      "Number 0: zero\n"
     ]
    }
   ],
   "source": [
    "user_num = int(input(\"Input an integer\"))\n",
    "if user_num < 0:\n",
    "    outcome = \"negative\"\n",
    "elif user_num == 0:\n",
    "    outcome = \"zero\"\n",
    "else:\n",
    "    outcome = \"positive\"\n",
    "\n",
    "print(f\"Number {user_num}: {outcome}\")"
   ]
  },
  {
   "cell_type": "code",
   "execution_count": 26,
   "metadata": {},
   "outputs": [
    {
     "name": "stdout",
     "output_type": "stream",
     "text": [
      "Number 2: positive\n"
     ]
    }
   ],
   "source": [
    "user_num = int(input(\"Input an integer\"))\n",
    "if user_num < 0:\n",
    "    outcome = \"negative\"\n",
    "elif user_num == 0:\n",
    "    outcome = \"zero\"\n",
    "else:\n",
    "    outcome = \"positive\"\n",
    "\n",
    "print(f\"Number {user_num}: {outcome}\")"
   ]
  },
  {
   "cell_type": "markdown",
   "metadata": {},
   "source": [
    "### Coding Practice\n",
    "\n",
    "Write a program that asks the user to input their age and prints whether they are a child (age < 12), a teenager (age 12-17), an adult (age 18-64), or a senior (age 65 and above).\n",
    "\n",
    "Hint: Use multiple if-elif-else conditions."
   ]
  },
  {
   "cell_type": "code",
   "execution_count": 27,
   "metadata": {},
   "outputs": [
    {
     "name": "stdout",
     "output_type": "stream",
     "text": [
      "Age 1: child\n"
     ]
    }
   ],
   "source": [
    "user_num = int(input(\"Input your age as an integer\"))\n",
    "if user_num < 12:\n",
    "    outcome = \"child\"\n",
    "elif user_num < 18:\n",
    "    outcome = \"teen\"\n",
    "elif user_num < 65:\n",
    "    outcome = \"adult\"\n",
    "else:\n",
    "    outcome = \"senior\"\n",
    "\n",
    "print(f\"Age {user_num}: {outcome}\")"
   ]
  },
  {
   "cell_type": "code",
   "execution_count": 29,
   "metadata": {},
   "outputs": [
    {
     "name": "stdout",
     "output_type": "stream",
     "text": [
      "Age 12: teen\n"
     ]
    }
   ],
   "source": [
    "user_num = int(input(\"Input your age as an integer\"))\n",
    "if user_num < 12:\n",
    "    outcome = \"child\"\n",
    "elif user_num < 18:\n",
    "    outcome = \"teen\"\n",
    "elif user_num < 65:\n",
    "    outcome = \"adult\"\n",
    "else:\n",
    "    outcome = \"senior\"\n",
    "\n",
    "print(f\"Age {user_num}: {outcome}\")"
   ]
  },
  {
   "cell_type": "code",
   "execution_count": 28,
   "metadata": {},
   "outputs": [
    {
     "name": "stdout",
     "output_type": "stream",
     "text": [
      "Age 17: teen\n"
     ]
    }
   ],
   "source": [
    "user_num = int(input(\"Input your age as an integer\"))\n",
    "if user_num < 12:\n",
    "    outcome = \"child\"\n",
    "elif user_num < 18:\n",
    "    outcome = \"teen\"\n",
    "elif user_num < 65:\n",
    "    outcome = \"adult\"\n",
    "else:\n",
    "    outcome = \"senior\"\n",
    "\n",
    "print(f\"Age {user_num}: {outcome}\")"
   ]
  },
  {
   "cell_type": "code",
   "execution_count": 30,
   "metadata": {},
   "outputs": [
    {
     "name": "stdout",
     "output_type": "stream",
     "text": [
      "Age 18: adult\n"
     ]
    }
   ],
   "source": [
    "user_num = int(input(\"Input your age as an integer\"))\n",
    "if user_num < 12:\n",
    "    outcome = \"child\"\n",
    "elif user_num < 18:\n",
    "    outcome = \"teen\"\n",
    "elif user_num < 65:\n",
    "    outcome = \"adult\"\n",
    "else:\n",
    "    outcome = \"senior\"\n",
    "\n",
    "print(f\"Age {user_num}: {outcome}\")"
   ]
  },
  {
   "cell_type": "code",
   "execution_count": 31,
   "metadata": {},
   "outputs": [
    {
     "name": "stdout",
     "output_type": "stream",
     "text": [
      "Age 64: adult\n"
     ]
    }
   ],
   "source": [
    "user_num = int(input(\"Input your age as an integer\"))\n",
    "if user_num < 12:\n",
    "    outcome = \"child\"\n",
    "elif user_num < 18:\n",
    "    outcome = \"teen\"\n",
    "elif user_num < 65:\n",
    "    outcome = \"adult\"\n",
    "else:\n",
    "    outcome = \"senior\"\n",
    "\n",
    "print(f\"Age {user_num}: {outcome}\")"
   ]
  },
  {
   "cell_type": "code",
   "execution_count": 32,
   "metadata": {},
   "outputs": [
    {
     "name": "stdout",
     "output_type": "stream",
     "text": [
      "Age 65: senior\n"
     ]
    }
   ],
   "source": [
    "user_num = int(input(\"Input your age as an integer\"))\n",
    "if user_num < 12:\n",
    "    outcome = \"child\"\n",
    "elif user_num < 18:\n",
    "    outcome = \"teen\"\n",
    "elif user_num < 65:\n",
    "    outcome = \"adult\"\n",
    "else:\n",
    "    outcome = \"senior\"\n",
    "\n",
    "print(f\"Age {user_num}: {outcome}\")"
   ]
  },
  {
   "cell_type": "markdown",
   "metadata": {},
   "source": [
    "### Coding Practice\n",
    "\n",
    "Write a program that asks the user to input two numbers and an operator (+, -, *, /). \n",
    "\n",
    "Hint: Use if-elif-else to check the operator."
   ]
  },
  {
   "cell_type": "code",
   "execution_count": 34,
   "metadata": {},
   "outputs": [
    {
     "name": "stdout",
     "output_type": "stream",
     "text": [
      "1 + 2: 3\n"
     ]
    }
   ],
   "source": [
    "# default input is a str\n",
    "user_operation = input(\"Input 2 numbers and an operator +-*/  separated by a space ' '\")\n",
    "# extract the various parts\n",
    "num1, num2, operation = user_operation.split(' ')\n",
    "num1 = int(num1)\n",
    "num2 = int(num2)\n",
    "\n",
    "operations = [\"+\", \"-\", \"*\", \"/\"]\n",
    "\n",
    "if operation == operations[0]:\n",
    "    outcome = num1 + num2\n",
    "elif operation == operations[1]:\n",
    "    outcome = num1 - num2\n",
    "elif operation == operations[2]:\n",
    "    outcome = num1 * num2\n",
    "elif operation == operations[3]:\n",
    "    outcome = num1 / num2\n",
    "else:\n",
    "    outcome = \"Operation not supported. I only support +-*/ operations\"\n",
    "\n",
    "print(f\"{num1} {operation} {num2}: {outcome}\")"
   ]
  },
  {
   "cell_type": "code",
   "execution_count": 35,
   "metadata": {},
   "outputs": [
    {
     "name": "stdout",
     "output_type": "stream",
     "text": [
      "5 - 2: 3\n"
     ]
    }
   ],
   "source": [
    "# default input is a str\n",
    "user_operation = input(\"Input 2 numbers and an operator +-*/  separated by a space ' '\")\n",
    "# extract the various parts\n",
    "num1, num2, operation = user_operation.split(' ')\n",
    "num1 = int(num1)\n",
    "num2 = int(num2)\n",
    "\n",
    "operations = [\"+\", \"-\", \"*\", \"/\"]\n",
    "\n",
    "if operation == operations[0]:\n",
    "    outcome = num1 + num2\n",
    "elif operation == operations[1]:\n",
    "    outcome = num1 - num2\n",
    "elif operation == operations[2]:\n",
    "    outcome = num1 * num2\n",
    "elif operation == operations[3]:\n",
    "    outcome = num1 / num2\n",
    "else:\n",
    "    outcome = \"Operation not supported. I only support +-*/ operations\"\n",
    "\n",
    "print(f\"{num1} {operation} {num2}: {outcome}\")"
   ]
  },
  {
   "cell_type": "code",
   "execution_count": 36,
   "metadata": {},
   "outputs": [
    {
     "name": "stdout",
     "output_type": "stream",
     "text": [
      "2 * 3: 6\n"
     ]
    }
   ],
   "source": [
    "# default input is a str\n",
    "user_operation = input(\"Input 2 numbers and an operator +-*/  separated by a space ' '\")\n",
    "# extract the various parts\n",
    "num1, num2, operation = user_operation.split(' ')\n",
    "num1 = int(num1)\n",
    "num2 = int(num2)\n",
    "\n",
    "operations = [\"+\", \"-\", \"*\", \"/\"]\n",
    "\n",
    "if operation == operations[0]:\n",
    "    outcome = num1 + num2\n",
    "elif operation == operations[1]:\n",
    "    outcome = num1 - num2\n",
    "elif operation == operations[2]:\n",
    "    outcome = num1 * num2\n",
    "elif operation == operations[3]:\n",
    "    outcome = num1 / num2\n",
    "else:\n",
    "    outcome = \"Operation not supported. I only support +-*/ operations\"\n",
    "\n",
    "print(f\"{num1} {operation} {num2}: {outcome}\")"
   ]
  },
  {
   "cell_type": "code",
   "execution_count": 37,
   "metadata": {},
   "outputs": [
    {
     "name": "stdout",
     "output_type": "stream",
     "text": [
      "10 / 5: 2.0\n"
     ]
    }
   ],
   "source": [
    "# default input is a str\n",
    "user_operation = input(\"Input 2 numbers and an operator +-*/  separated by a space ' '\")\n",
    "# extract the various parts\n",
    "num1, num2, operation = user_operation.split(' ')\n",
    "num1 = int(num1)\n",
    "num2 = int(num2)\n",
    "\n",
    "operations = [\"+\", \"-\", \"*\", \"/\"]\n",
    "\n",
    "if operation == operations[0]:\n",
    "    outcome = num1 + num2\n",
    "elif operation == operations[1]:\n",
    "    outcome = num1 - num2\n",
    "elif operation == operations[2]:\n",
    "    outcome = num1 * num2\n",
    "elif operation == operations[3]:\n",
    "    outcome = num1 / num2\n",
    "else:\n",
    "    outcome = \"Operation not supported. I only support +-*/ operations\"\n",
    "\n",
    "print(f\"{num1} {operation} {num2}: {outcome}\")"
   ]
  },
  {
   "cell_type": "code",
   "execution_count": 38,
   "metadata": {},
   "outputs": [
    {
     "name": "stdout",
     "output_type": "stream",
     "text": [
      "3 % 2: Operation not supported. I only support +-*/ operations\n"
     ]
    }
   ],
   "source": [
    "# default input is a str\n",
    "user_operation = input(\"Input 2 numbers and an operator +-*/  separated by a space ' '\")\n",
    "# extract the various parts\n",
    "num1, num2, operation = user_operation.split(' ')\n",
    "num1 = int(num1)\n",
    "num2 = int(num2)\n",
    "\n",
    "operations = [\"+\", \"-\", \"*\", \"/\"]\n",
    "\n",
    "if operation == operations[0]:\n",
    "    outcome = num1 + num2\n",
    "elif operation == operations[1]:\n",
    "    outcome = num1 - num2\n",
    "elif operation == operations[2]:\n",
    "    outcome = num1 * num2\n",
    "elif operation == operations[3]:\n",
    "    outcome = num1 / num2\n",
    "else:\n",
    "    outcome = \"Operation not supported. I only support +-*/ operations\"\n",
    "\n",
    "print(f\"{num1} {operation} {num2}: {outcome}\")"
   ]
  }
 ],
 "metadata": {
  "kernelspec": {
   "display_name": "Python 3",
   "language": "python",
   "name": "python3"
  },
  "language_info": {
   "codemirror_mode": {
    "name": "ipython",
    "version": 3
   },
   "file_extension": ".py",
   "mimetype": "text/x-python",
   "name": "python",
   "nbconvert_exporter": "python",
   "pygments_lexer": "ipython3",
   "version": "3.12.1"
  }
 },
 "nbformat": 4,
 "nbformat_minor": 2
}
