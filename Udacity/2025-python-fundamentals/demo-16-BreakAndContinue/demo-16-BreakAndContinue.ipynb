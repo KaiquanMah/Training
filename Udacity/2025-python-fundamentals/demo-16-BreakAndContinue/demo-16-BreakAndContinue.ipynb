{
 "cells": [
  {
   "cell_type": "code",
   "execution_count": null,
   "metadata": {},
   "outputs": [
    {
     "name": "stdout",
     "output_type": "stream",
     "text": [
      "J\n",
      "a\n",
      "m\n",
      "e\n",
      "s\n",
      " \n",
      "B\n"
     ]
    }
   ],
   "source": [
    "for letter in \"James Bond\":\n",
    "\n",
    "    # print up to but not including 'o'\n",
    "\n",
    "    # if the letter 'o' does not match\n",
    "    # then print\n",
    "    if letter == \"o\":\n",
    "        \n",
    "        break\n",
    "        \n",
    "    print(letter)   "
   ]
  },
  {
   "cell_type": "code",
   "execution_count": null,
   "metadata": {},
   "outputs": [
    {
     "name": "stdout",
     "output_type": "stream",
     "text": [
      "J\n",
      "a\n",
      "m\n",
      "e\n",
      "s\n",
      " \n",
      "B\n",
      "o\n"
     ]
    }
   ],
   "source": [
    "for letter in \"James Bond\":\n",
    "\n",
    "    # print up to and including 'o'\n",
    "    \n",
    "    # print the letter, then break\n",
    "    print(letter) \n",
    "    \n",
    "    if letter == \"o\":\n",
    "        \n",
    "        break"
   ]
  },
  {
   "cell_type": "code",
   "execution_count": 3,
   "metadata": {},
   "outputs": [
    {
     "name": "stdout",
     "output_type": "stream",
     "text": [
      "3\n",
      "11\n",
      "22\n",
      "35\n",
      "The number 35 has been found\n",
      "Terminating the loop...\n"
     ]
    }
   ],
   "source": [
    "for num in [3, 11, 22, 35, 90]:\n",
    "    print (num)\n",
    "    \n",
    "    if (num == 35):\n",
    "        print (\"The number %d has been found\" % num )\n",
    "        print (\"Terminating the loop...\")\n",
    "        \n",
    "        break"
   ]
  },
  {
   "cell_type": "code",
   "execution_count": 4,
   "metadata": {},
   "outputs": [
    {
     "name": "stdout",
     "output_type": "stream",
     "text": [
      "-3 is less than 5\n",
      "-2 is less than 5\n",
      "-1 is less than 5\n",
      "0 is less than 5\n",
      "1 is less than 5\n"
     ]
    }
   ],
   "source": [
    "i = -3\n",
    "\n",
    "while i < 5:\n",
    "    \n",
    "    if i >= 2:\n",
    "        break \n",
    "        \n",
    "    print(i, \"is less than 5\")\n",
    "    \n",
    "    i += 1"
   ]
  },
  {
   "cell_type": "code",
   "execution_count": 5,
   "metadata": {},
   "outputs": [
    {
     "name": "stdout",
     "output_type": "stream",
     "text": [
      "Enter the country where the burglar actually is: Botswana\n",
      "Cops looking in New Zealand\n",
      "Cops looking in Norway\n",
      "Cops looking in Botswana\n",
      "The burglar has been captured!\n"
     ]
    }
   ],
   "source": [
    "places = [\"New Zealand\", \"Norway\", \"Botswana\", \"Zimbabwe\", \"Uzbekistan\", \"Paraguay\"]\n",
    "\n",
    "burglar_at = input(\"Enter the country where the burglar actually is: \")\n",
    "\n",
    "for place in places:\n",
    "    print(\"Cops looking in\", place)\n",
    "\n",
    "    if place == burglar_at:\n",
    "        \n",
    "        print(\"The burglar has been captured!\")\n",
    "        break\n",
    "else:\n",
    "    print(\"The burglar got away :(\")"
   ]
  },
  {
   "cell_type": "code",
   "execution_count": null,
   "metadata": {},
   "outputs": [
    {
     "name": "stdout",
     "output_type": "stream",
     "text": [
      "J\n",
      "m\n",
      "s\n",
      " \n",
      "B\n",
      "n\n",
      "d\n"
     ]
    }
   ],
   "source": [
    "for letter in \"James Bond\":\n",
    "\n",
    "    # print only if we do not have a/e/i/o/u\n",
    "    if letter in [\"a\", \"e\", \"i\", \"o\", \"u\"]:\n",
    "        \n",
    "        continue\n",
    "        \n",
    "    print(letter)  "
   ]
  },
  {
   "cell_type": "code",
   "execution_count": null,
   "metadata": {},
   "outputs": [
    {
     "name": "stdout",
     "output_type": "stream",
     "text": [
      "J\n",
      "a\n",
      "m\n",
      "e\n",
      "s\n",
      " \n",
      "B\n",
      "o\n",
      "n\n",
      "d\n"
     ]
    }
   ],
   "source": [
    "for letter in \"James Bond\":\n",
    "\n",
    "    # print all the time - so the 'if-continue' block below is redundant\n",
    "    print(letter)  \n",
    "    \n",
    "    if letter in [\"a\", \"e\", \"i\", \"o\", \"u\"]:\n",
    "        \n",
    "        continue"
   ]
  },
  {
   "cell_type": "code",
   "execution_count": 8,
   "metadata": {},
   "outputs": [
    {
     "name": "stdout",
     "output_type": "stream",
     "text": [
      "Is 2 is an even number? \n",
      "Yes\n",
      "Is 4 is an even number? \n",
      "Yes\n",
      "Is 6 is an even number? \n",
      "Yes\n",
      "Is 8 is an even number? \n",
      "Yes\n",
      "Is 10 is an even number? \n",
      "Yes\n"
     ]
    }
   ],
   "source": [
    "i = 0\n",
    "\n",
    "while i < 10:\n",
    "    i += 1\n",
    "    \n",
    "    if i % 2 == 0:\n",
    "        print (\"Is %s is an even number? \" % i)\n",
    "\n",
    "    else:    \n",
    "        continue\n",
    "        \n",
    "    print(\"Yes\")"
   ]
  },
  {
   "cell_type": "code",
   "execution_count": 9,
   "metadata": {},
   "outputs": [
    {
     "name": "stdout",
     "output_type": "stream",
     "text": [
      "\n",
      "Before the continue statement 1\n",
      "After the continue statement 1\n",
      "\n",
      "Before the continue statement 2\n",
      "After the continue statement 2\n",
      "\n",
      "Before the continue statement 3\n",
      "\n",
      "Before the continue statement 4\n",
      "After the continue statement 4\n",
      "\n",
      "Before the continue statement 5\n",
      "After the continue statement 5\n",
      "\n",
      "Before the continue statement 6\n"
     ]
    }
   ],
   "source": [
    "for i in range (1, 7):\n",
    "    \n",
    "    print()\n",
    "    print (\"Before the continue statement\", i)\n",
    "    \n",
    "    if i % 3 == 0:\n",
    "        continue\n",
    "        \n",
    "    print(\"After the continue statement\", i)"
   ]
  },
  {
   "cell_type": "code",
   "execution_count": 10,
   "metadata": {},
   "outputs": [
    {
     "name": "stdout",
     "output_type": "stream",
     "text": [
      "Labrador\n",
      "Golden Retriever\n",
      "Greyhound\n"
     ]
    }
   ],
   "source": [
    "dogs = [\"Labrador\", \"Golden Retriever\", \"Pug\", \"Greyhound\", \"Bulldog\", \"Cocker Spaniel\"]\n",
    "\n",
    "for pet in dogs:\n",
    "    \n",
    "    if pet == \"Pug\":\n",
    "        \n",
    "        continue\n",
    "\n",
    "    if pet == \"Bulldog\":\n",
    "        \n",
    "        break\n",
    "        \n",
    "    print (pet)"
   ]
  },
  {
   "cell_type": "code",
   "execution_count": 14,
   "metadata": {},
   "outputs": [
    {
     "name": "stdout",
     "output_type": "stream",
     "text": [
      "1\n",
      "hello\n",
      "Completed iteration:  1\n",
      "2\n",
      "hello\n",
      "Completed iteration:  2\n",
      "3\n",
      "hello\n",
      "Completed iteration:  3\n",
      "4\n",
      "hello\n",
      "Completed iteration:  4\n",
      "5\n"
     ]
    }
   ],
   "source": [
    "for i in range(1, 8):\n",
    "    \n",
    "    print(i)\n",
    "    \n",
    "    if i > 4:\n",
    "        break\n",
    "        \n",
    "    else:\n",
    "        print(\"hello\")\n",
    "        \n",
    "    print(\"Completed iteration: \", i)"
   ]
  },
  {
   "cell_type": "code",
   "execution_count": 15,
   "metadata": {},
   "outputs": [
    {
     "name": "stdout",
     "output_type": "stream",
     "text": [
      "1\n",
      "hello\n",
      "Completed iteration:  1\n",
      "2\n",
      "hello\n",
      "Completed iteration:  2\n",
      "3\n",
      "hello\n",
      "Completed iteration:  3\n",
      "4\n",
      "hello\n",
      "Completed iteration:  4\n",
      "5\n",
      "6\n",
      "7\n"
     ]
    }
   ],
   "source": [
    "for i in range(1, 8):\n",
    "    \n",
    "    print(i)\n",
    "    \n",
    "    if i > 4:\n",
    "        continue\n",
    "        \n",
    "    else:\n",
    "        print(\"hello\")\n",
    "        \n",
    "    print(\"Completed iteration: \", i)"
   ]
  },
  {
   "cell_type": "markdown",
   "metadata": {},
   "source": [
    "### Coding Practice\n",
    "\n",
    "Write a program that asks the user to input a series of numbers. The program should print the first odd number it encounters and then stop asking for more input.\n",
    "\n",
    "Hint: Use a while loop to keep asking for numbers and a break statement to exit the loop when an odd number is found."
   ]
  },
  {
   "cell_type": "code",
   "execution_count": 2,
   "metadata": {},
   "outputs": [
    {
     "name": "stdout",
     "output_type": "stream",
     "text": [
      "5 was odd\n"
     ]
    }
   ],
   "source": [
    "while True:\n",
    "    user_num = int(input(\"Input a number. I will only stop asking once you give me an odd number\"))\n",
    "\n",
    "    if user_num % 2 != 0:\n",
    "        print(f\"{user_num} was odd\")\n",
    "        break\n"
   ]
  },
  {
   "cell_type": "markdown",
   "metadata": {},
   "source": [
    "### Coding Practice\n",
    "\n",
    "Write a program that asks the user to input numbers one by one. The program should stop asking for input as soon as the user enters a negative number.\n",
    "\n",
    "Hint: Use a while loop to keep asking for numbers and a break statement when a negative number is entered."
   ]
  },
  {
   "cell_type": "code",
   "execution_count": 3,
   "metadata": {},
   "outputs": [
    {
     "name": "stdout",
     "output_type": "stream",
     "text": [
      "-1 was negative\n"
     ]
    }
   ],
   "source": [
    "while True:\n",
    "    user_num = int(input(\"Input a number. I will only stop asking once you give me a negative number\"))\n",
    "\n",
    "    if user_num <0:\n",
    "        print(f\"{user_num} was negative\")\n",
    "        break\n"
   ]
  },
  {
   "cell_type": "markdown",
   "metadata": {},
   "source": [
    "### Coding Practice\n",
    "\n",
    "Write a program that prints the numbers from 1 to 10, but skips the number 5.\n",
    "\n",
    "Hint: Use a for loop to iterate through the numbers and a continue statement to skip the number 5."
   ]
  },
  {
   "cell_type": "code",
   "execution_count": 5,
   "metadata": {},
   "outputs": [
    {
     "name": "stdout",
     "output_type": "stream",
     "text": [
      "1\n",
      "2\n",
      "3\n",
      "4\n",
      "skip 5\n",
      "6\n",
      "7\n",
      "8\n",
      "9\n",
      "10\n"
     ]
    }
   ],
   "source": [
    "for i in range(1,11):\n",
    "    if i == 5:\n",
    "        print(\"skip 5\")\n",
    "        continue\n",
    "    print(i)"
   ]
  }
 ],
 "metadata": {
  "kernelspec": {
   "display_name": "Python 3",
   "language": "python",
   "name": "python3"
  },
  "language_info": {
   "codemirror_mode": {
    "name": "ipython",
    "version": 3
   },
   "file_extension": ".py",
   "mimetype": "text/x-python",
   "name": "python",
   "nbconvert_exporter": "python",
   "pygments_lexer": "ipython3",
   "version": "3.12.1"
  }
 },
 "nbformat": 4,
 "nbformat_minor": 2
}
