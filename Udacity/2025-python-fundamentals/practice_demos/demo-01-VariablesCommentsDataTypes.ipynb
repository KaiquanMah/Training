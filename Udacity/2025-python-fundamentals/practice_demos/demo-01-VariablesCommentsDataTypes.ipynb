{
 "cells": [
  {
   "cell_type": "code",
   "execution_count": 2,
   "id": "6480c5e3",
   "metadata": {},
   "outputs": [],
   "source": [
    "num_1 = 50"
   ]
  },
  {
   "cell_type": "code",
   "execution_count": 3,
   "id": "69616116",
   "metadata": {},
   "outputs": [
    {
     "data": {
      "text/plain": [
       "50"
      ]
     },
     "execution_count": 3,
     "metadata": {},
     "output_type": "execute_result"
    }
   ],
   "source": [
    "num_1"
   ]
  },
  {
   "cell_type": "code",
   "execution_count": 4,
   "id": "7c62b979",
   "metadata": {},
   "outputs": [],
   "source": [
    "num_2 = 124"
   ]
  },
  {
   "cell_type": "code",
   "execution_count": 5,
   "id": "34a0611e",
   "metadata": {},
   "outputs": [
    {
     "data": {
      "text/plain": [
       "124"
      ]
     },
     "execution_count": 5,
     "metadata": {},
     "output_type": "execute_result"
    }
   ],
   "source": [
    "num_2"
   ]
  },
  {
   "cell_type": "code",
   "execution_count": 6,
   "id": "ec1ba3df",
   "metadata": {},
   "outputs": [
    {
     "data": {
      "text/plain": [
       "174"
      ]
     },
     "execution_count": 6,
     "metadata": {},
     "output_type": "execute_result"
    }
   ],
   "source": [
    "num_1 + num_2"
   ]
  },
  {
   "cell_type": "code",
   "execution_count": 7,
   "id": "dd6667ec",
   "metadata": {},
   "outputs": [
    {
     "ename": "NameError",
     "evalue": "name 'num_notexists' is not defined",
     "output_type": "error",
     "traceback": [
      "\u001b[0;31m---------------------------------------------------------------------------\u001b[0m",
      "\u001b[0;31mNameError\u001b[0m                                 Traceback (most recent call last)",
      "Cell \u001b[0;32mIn[7], line 1\u001b[0m\n\u001b[0;32m----> 1\u001b[0m \u001b[43mnum_notexists\u001b[49m\n",
      "\u001b[0;31mNameError\u001b[0m: name 'num_notexists' is not defined"
     ]
    }
   ],
   "source": [
    "num_notexists"
   ]
  },
  {
   "cell_type": "code",
   "execution_count": 9,
   "id": "65b51eff",
   "metadata": {},
   "outputs": [
    {
     "name": "stdout",
     "output_type": "stream",
     "text": [
      "42\n"
     ]
    }
   ],
   "source": [
    "num_notexists = 42  # Assign a value to num_notexists\n",
    "\n",
    "print(num_notexists)  # Now you can use it without error"
   ]
  },
  {
   "cell_type": "code",
   "execution_count": 10,
   "id": "ca00f0ff",
   "metadata": {},
   "outputs": [
    {
     "name": "stdout",
     "output_type": "stream",
     "text": [
      "1001\n"
     ]
    }
   ],
   "source": [
    "some_var = 1001\n",
    "\n",
    "print(some_var)"
   ]
  },
  {
   "cell_type": "code",
   "execution_count": 11,
   "id": "3b00717d",
   "metadata": {},
   "outputs": [
    {
     "name": "stdout",
     "output_type": "stream",
     "text": [
      "Mango\n"
     ]
    }
   ],
   "source": [
    "some_var = \"Mango\"\n",
    "\n",
    "print(some_var)"
   ]
  },
  {
   "cell_type": "code",
   "execution_count": 13,
   "id": "7385d191",
   "metadata": {},
   "outputs": [
    {
     "name": "stdout",
     "output_type": "stream",
     "text": [
      "5\n",
      "Hello, Python!\n",
      "[1, 2, 3]\n"
     ]
    }
   ],
   "source": [
    "# Assign an integer value to a variable\n",
    "x = 5\n",
    "\n",
    "print(x)  # Outputs: 5\n",
    "\n",
    "# Assign a string value to the same variable\n",
    "x = \"Hello, Python!\"\n",
    "\n",
    "print(x)  # Outputs: Hello, Python!\n",
    "\n",
    "# Assign a list to the same variable\n",
    "x = [1, 2, 3]\n",
    "\n",
    "print(x)  # Outputs: [1, 2, 3]"
   ]
  },
  {
   "cell_type": "code",
   "execution_count": 14,
   "id": "dc4e2333",
   "metadata": {},
   "outputs": [
    {
     "name": "stdout",
     "output_type": "stream",
     "text": [
      "<class 'str'>\n"
     ]
    }
   ],
   "source": [
    "my_string = \"Hello, world!\"\n",
    "\n",
    "print(type(my_string))"
   ]
  },
  {
   "cell_type": "code",
   "execution_count": 15,
   "id": "385f249c",
   "metadata": {},
   "outputs": [
    {
     "data": {
      "text/plain": [
       "str"
      ]
     },
     "execution_count": 15,
     "metadata": {},
     "output_type": "execute_result"
    }
   ],
   "source": [
    "my_string = \"Hello, world!\"\n",
    "\n",
    "type(my_string)"
   ]
  },
  {
   "cell_type": "code",
   "execution_count": 16,
   "id": "a0c462e0",
   "metadata": {},
   "outputs": [
    {
     "data": {
      "text/plain": [
       "float"
      ]
     },
     "execution_count": 16,
     "metadata": {},
     "output_type": "execute_result"
    }
   ],
   "source": [
    "pi = 3.14\n",
    "\n",
    "type(pi)"
   ]
  },
  {
   "cell_type": "code",
   "execution_count": 17,
   "id": "1c93b060",
   "metadata": {},
   "outputs": [],
   "source": [
    "# Numbers\n",
    "integer = 10\n",
    "floating_point = 3.14\n",
    "complex_number = 1j\n",
    "\n",
    "# Strings\n",
    "string = \"Hello, world!\"\n",
    "\n",
    "# Booleans\n",
    "boolean_true = True\n",
    "boolean_false = False\n",
    "\n",
    "# None\n",
    "none_value = None"
   ]
  },
  {
   "cell_type": "code",
   "execution_count": 18,
   "id": "788fd304",
   "metadata": {},
   "outputs": [
    {
     "name": "stdout",
     "output_type": "stream",
     "text": [
      "10\n"
     ]
    }
   ],
   "source": [
    "print(integer)"
   ]
  },
  {
   "cell_type": "code",
   "execution_count": 19,
   "id": "dd23b5be",
   "metadata": {},
   "outputs": [
    {
     "name": "stdout",
     "output_type": "stream",
     "text": [
      "True\n"
     ]
    }
   ],
   "source": [
    "print(boolean_true)"
   ]
  },
  {
   "cell_type": "code",
   "execution_count": 20,
   "id": "9dc77379",
   "metadata": {},
   "outputs": [
    {
     "name": "stdout",
     "output_type": "stream",
     "text": [
      "None\n"
     ]
    }
   ],
   "source": [
    "print(none_value)"
   ]
  },
  {
   "cell_type": "code",
   "execution_count": 21,
   "id": "5340b5f9",
   "metadata": {},
   "outputs": [
    {
     "data": {
      "text/plain": [
       "NoneType"
      ]
     },
     "execution_count": 21,
     "metadata": {},
     "output_type": "execute_result"
    }
   ],
   "source": [
    "type(none_value)"
   ]
  },
  {
   "cell_type": "code",
   "execution_count": 29,
   "id": "bdbeb796",
   "metadata": {},
   "outputs": [
    {
     "name": "stdout",
     "output_type": "stream",
     "text": [
      "112.6\n"
     ]
    }
   ],
   "source": [
    "num_var_1 = 34.6\n",
    "num_var_2 = 78\n",
    "\n",
    "result = num_var_1 + num_var_2\n",
    "\n",
    "print(result)"
   ]
  },
  {
   "cell_type": "code",
   "execution_count": 30,
   "id": "e311c473",
   "metadata": {},
   "outputs": [
    {
     "name": "stdout",
     "output_type": "stream",
     "text": [
      "Howdy! Richard\n"
     ]
    }
   ],
   "source": [
    "string_var_1 = \"Howdy!\"\n",
    "string_var_2 = \"Richard\"\n",
    "\n",
    "result = string_var_1 + \" \" + string_var_2\n",
    "\n",
    "print(result)"
   ]
  },
  {
   "cell_type": "code",
   "execution_count": 31,
   "id": "7eaa69cf",
   "metadata": {},
   "outputs": [
    {
     "ename": "TypeError",
     "evalue": "unsupported operand type(s) for +: 'float' and 'str'",
     "output_type": "error",
     "traceback": [
      "\u001b[0;31m---------------------------------------------------------------------------\u001b[0m",
      "\u001b[0;31mTypeError\u001b[0m                                 Traceback (most recent call last)",
      "Cell \u001b[0;32mIn[31], line 1\u001b[0m\n\u001b[0;32m----> 1\u001b[0m result \u001b[38;5;241m=\u001b[39m \u001b[43mnum_var_1\u001b[49m\u001b[43m \u001b[49m\u001b[38;5;241;43m+\u001b[39;49m\u001b[43m \u001b[49m\u001b[43mstring_var_2\u001b[49m\n\u001b[1;32m      3\u001b[0m \u001b[38;5;28mprint\u001b[39m(result)\n",
      "\u001b[0;31mTypeError\u001b[0m: unsupported operand type(s) for +: 'float' and 'str'"
     ]
    }
   ],
   "source": [
    "result = num_var_1 + string_var_2\n",
    "\n",
    "print(result)"
   ]
  },
  {
   "cell_type": "code",
   "execution_count": 32,
   "id": "ae3c9265",
   "metadata": {},
   "outputs": [
    {
     "ename": "TypeError",
     "evalue": "can only concatenate str (not \"int\") to str",
     "output_type": "error",
     "traceback": [
      "\u001b[0;31m---------------------------------------------------------------------------\u001b[0m",
      "\u001b[0;31mTypeError\u001b[0m                                 Traceback (most recent call last)",
      "Cell \u001b[0;32mIn[32], line 1\u001b[0m\n\u001b[0;32m----> 1\u001b[0m result \u001b[38;5;241m=\u001b[39m \u001b[43mstring_var_1\u001b[49m\u001b[43m \u001b[49m\u001b[38;5;241;43m+\u001b[39;49m\u001b[43m \u001b[49m\u001b[43mnum_var_2\u001b[49m\n\u001b[1;32m      3\u001b[0m \u001b[38;5;28mprint\u001b[39m(result)\n",
      "\u001b[0;31mTypeError\u001b[0m: can only concatenate str (not \"int\") to str"
     ]
    }
   ],
   "source": [
    "result = string_var_1 + num_var_2\n",
    "\n",
    "print(result)"
   ]
  },
  {
   "cell_type": "code",
   "execution_count": 33,
   "id": "5c105048",
   "metadata": {},
   "outputs": [
    {
     "name": "stdout",
     "output_type": "stream",
     "text": [
      "Howdy!78\n"
     ]
    }
   ],
   "source": [
    "result = string_var_1 + str(num_var_2)\n",
    "\n",
    "print(result)"
   ]
  },
  {
   "cell_type": "code",
   "execution_count": 22,
   "id": "23b23f7b",
   "metadata": {},
   "outputs": [
    {
     "name": "stdout",
     "output_type": "stream",
     "text": [
      "What is your name? Nora\n",
      "What city do you live in? Paris\n",
      "Hello, Nora from Paris! Nice to meet you!\n"
     ]
    }
   ],
   "source": [
    "# Ask the user for their name\n",
    "name = input(\"What is your name? \")\n",
    "\n",
    "# Ask the user for their city\n",
    "city = input(\"What city do you live in? \")\n",
    "\n",
    "# Greet the user\n",
    "print(f\"Hello, {name} from {city}! Nice to meet you!\")"
   ]
  },
  {
   "cell_type": "code",
   "execution_count": 24,
   "id": "9d8af851",
   "metadata": {},
   "outputs": [
    {
     "name": "stdout",
     "output_type": "stream",
     "text": [
      "My name is Wilson. I am 23 years old.\n",
      "I live 4.5kms from work\n",
      "The statements above are all True\n"
     ]
    }
   ],
   "source": [
    "name = \"Wilson\"\n",
    "age = 23\n",
    "distance = 4.5\n",
    "statement = True\n",
    "\n",
    "print(f\"My name is {name}. I am {age} years old.\")\n",
    "print(f\"I live {distance}kms from work\")\n",
    "print(f\"The statements above are all {statement}\")"
   ]
  },
  {
   "cell_type": "code",
   "execution_count": 35,
   "id": "53332b93",
   "metadata": {},
   "outputs": [
    {
     "name": "stdout",
     "output_type": "stream",
     "text": [
      "Enter the first number: 34\n",
      "Enter the second number: r\n"
     ]
    },
    {
     "ename": "ValueError",
     "evalue": "could not convert string to float: 'r'",
     "output_type": "error",
     "traceback": [
      "\u001b[0;31m---------------------------------------------------------------------------\u001b[0m",
      "\u001b[0;31mValueError\u001b[0m                                Traceback (most recent call last)",
      "Cell \u001b[0;32mIn[35], line 3\u001b[0m\n\u001b[1;32m      1\u001b[0m \u001b[38;5;66;03m# Request the user for two numbers\u001b[39;00m\n\u001b[1;32m      2\u001b[0m num1 \u001b[38;5;241m=\u001b[39m \u001b[38;5;28mfloat\u001b[39m(\u001b[38;5;28minput\u001b[39m(\u001b[38;5;124m\"\u001b[39m\u001b[38;5;124mEnter the first number: \u001b[39m\u001b[38;5;124m\"\u001b[39m))\n\u001b[0;32m----> 3\u001b[0m num2 \u001b[38;5;241m=\u001b[39m \u001b[38;5;28;43mfloat\u001b[39;49m\u001b[43m(\u001b[49m\u001b[38;5;28;43minput\u001b[39;49m\u001b[43m(\u001b[49m\u001b[38;5;124;43m\"\u001b[39;49m\u001b[38;5;124;43mEnter the second number: \u001b[39;49m\u001b[38;5;124;43m\"\u001b[39;49m\u001b[43m)\u001b[49m\u001b[43m)\u001b[49m\n\u001b[1;32m      5\u001b[0m \u001b[38;5;66;03m# Calculate the sum, difference, and product of the two numbers\u001b[39;00m\n\u001b[1;32m      6\u001b[0m \u001b[38;5;28msum\u001b[39m \u001b[38;5;241m=\u001b[39m num1 \u001b[38;5;241m+\u001b[39m num2\n",
      "\u001b[0;31mValueError\u001b[0m: could not convert string to float: 'r'"
     ]
    }
   ],
   "source": [
    "# Request the user for two numbers\n",
    "num1 = float(input(\"Enter the first number: \"))\n",
    "num2 = float(input(\"Enter the second number: \"))\n",
    "\n",
    "# Calculate the sum, difference, and product of the two numbers\n",
    "sum = num1 + num2\n",
    "difference = num1 - num2\n",
    "product = num1 * num2\n",
    "\n",
    "# Display the results\n",
    "print(\"The sum of the two numbers is:\", sum)\n",
    "print(\"The difference of the two numbers is:\", difference)\n",
    "print(\"The product of the two numbers is:\", product)"
   ]
  },
  {
   "cell_type": "code",
   "execution_count": 36,
   "id": "c3ac0551",
   "metadata": {},
   "outputs": [
    {
     "name": "stdout",
     "output_type": "stream",
     "text": [
      "New salary: 55000.00000000001\n"
     ]
    }
   ],
   "source": [
    "# Current salary of the employee\n",
    "salary = 50000  # Replace this with the actual salary\n",
    "\n",
    "# Increment the salary by 10%\n",
    "salary = salary * 1.10\n",
    "\n",
    "# Now, the 'salary' variable contains the new salary with the 10% increase\n",
    "print(\"New salary:\", salary)"
   ]
  },
  {
   "cell_type": "code",
   "execution_count": 38,
   "id": "a9a8b60f",
   "metadata": {},
   "outputs": [
    {
     "name": "stdout",
     "output_type": "stream",
     "text": [
      "New salary: 51000\n"
     ]
    }
   ],
   "source": [
    "salary = 50000\n",
    "\n",
    "salary += 1000\n",
    "\n",
    "print(\"New salary:\", salary)"
   ]
  },
  {
   "cell_type": "code",
   "execution_count": 39,
   "id": "27357b97",
   "metadata": {},
   "outputs": [
    {
     "name": "stdout",
     "output_type": "stream",
     "text": [
      "New salary: 49000\n"
     ]
    }
   ],
   "source": [
    "salary = 50000\n",
    "\n",
    "salary -= 1000\n",
    "\n",
    "print(\"New salary:\", salary)"
   ]
  },
  {
   "cell_type": "code",
   "execution_count": 40,
   "id": "fd94b6bc",
   "metadata": {},
   "outputs": [
    {
     "name": "stdout",
     "output_type": "stream",
     "text": [
      "New salary: 55000.00000000001\n"
     ]
    }
   ],
   "source": [
    "salary = 50000\n",
    "\n",
    "salary *= 1.1\n",
    "\n",
    "print(\"New salary:\", salary)"
   ]
  },
  {
   "cell_type": "code",
   "execution_count": 41,
   "id": "2d484699",
   "metadata": {},
   "outputs": [
    {
     "name": "stdout",
     "output_type": "stream",
     "text": [
      "New salary: 5000.0\n"
     ]
    }
   ],
   "source": [
    "salary = 50000\n",
    "\n",
    "salary /= 10\n",
    "\n",
    "print(\"New salary:\", salary)"
   ]
  },
  {
   "cell_type": "code",
   "execution_count": 42,
   "id": "b98eaeb1",
   "metadata": {},
   "outputs": [
    {
     "name": "stdout",
     "output_type": "stream",
     "text": [
      "This is a single-quoted string.\n",
      "This is a double-quoted string.\n",
      "He said, 'Hello world.'\n"
     ]
    }
   ],
   "source": [
    "single_quoted_string = 'This is a single-quoted string.'\n",
    "double_quoted_string = \"This is a double-quoted string.\"\n",
    "\n",
    "# You can even include quotes inside a string of the other type\n",
    "mixed_quoted_string = \"He said, 'Hello world.'\"\n",
    "\n",
    "print(single_quoted_string)\n",
    "print(double_quoted_string)\n",
    "print(mixed_quoted_string)"
   ]
  },
  {
   "cell_type": "code",
   "execution_count": 43,
   "id": "5cae307d",
   "metadata": {},
   "outputs": [
    {
     "name": "stdout",
     "output_type": "stream",
     "text": [
      "This is a double-quoted string with a \"word\" inside.\n"
     ]
    }
   ],
   "source": [
    "double_quoted_string = \"This is a double-quoted string with a \\\"word\\\" inside.\"\n",
    "\n",
    "print(double_quoted_string)"
   ]
  },
  {
   "cell_type": "code",
   "execution_count": 44,
   "id": "d969a7e3",
   "metadata": {},
   "outputs": [
    {
     "name": "stdout",
     "output_type": "stream",
     "text": [
      "This is a double-quoted string with a \"word\" inside.\n"
     ]
    }
   ],
   "source": [
    "double_quoted_string = 'This is a double-quoted string with a \"word\" inside.'\n",
    "\n",
    "print(double_quoted_string)"
   ]
  },
  {
   "cell_type": "code",
   "execution_count": 47,
   "id": "966a99ca",
   "metadata": {},
   "outputs": [
    {
     "ename": "SyntaxError",
     "evalue": "unterminated string literal (detected at line 1) (1962383709.py, line 1)",
     "output_type": "error",
     "traceback": [
      "\u001b[0;36m  Cell \u001b[0;32mIn[47], line 1\u001b[0;36m\u001b[0m\n\u001b[0;31m    very_long_string = \"This is a very long string so\u001b[0m\n\u001b[0m                       ^\u001b[0m\n\u001b[0;31mSyntaxError\u001b[0m\u001b[0;31m:\u001b[0m unterminated string literal (detected at line 1)\n"
     ]
    }
   ],
   "source": [
    "very_long_string = \"This is a very long string so\n",
    "I want to specify it in two lines\"\n",
    "\n",
    "print(very_long_string)"
   ]
  },
  {
   "cell_type": "code",
   "execution_count": 51,
   "id": "6303ad59",
   "metadata": {},
   "outputs": [
    {
     "name": "stdout",
     "output_type": "stream",
     "text": [
      "This is a very long string so I want to specify it in two lines\n"
     ]
    }
   ],
   "source": [
    "very_long_string = \"This is a very long string so \\\n",
    "I want to specify it in two lines\"\n",
    "\n",
    "print(very_long_string)"
   ]
  },
  {
   "cell_type": "code",
   "execution_count": 52,
   "id": "0c450ce1",
   "metadata": {},
   "outputs": [
    {
     "name": "stdout",
     "output_type": "stream",
     "text": [
      "This is a very long string so \n",
      "I want to specify it in two lines\n"
     ]
    }
   ],
   "source": [
    "very_long_string = \"\"\"This is a very long string so \n",
    "I want to specify it in two lines\"\"\"\n",
    "\n",
    "print(very_long_string)"
   ]
  },
  {
   "cell_type": "code",
   "execution_count": 53,
   "id": "ff86d677",
   "metadata": {},
   "outputs": [
    {
     "data": {
      "text/plain": [
       "'This is a very long string so \\nI want to specify it in two lines'"
      ]
     },
     "execution_count": 53,
     "metadata": {},
     "output_type": "execute_result"
    }
   ],
   "source": [
    "very_long_string"
   ]
  },
  {
   "cell_type": "code",
   "execution_count": 54,
   "id": "1374372b",
   "metadata": {},
   "outputs": [],
   "source": [
    "del very_long_string"
   ]
  },
  {
   "cell_type": "code",
   "execution_count": 55,
   "id": "347b9a0a",
   "metadata": {},
   "outputs": [
    {
     "ename": "NameError",
     "evalue": "name 'very_long_string' is not defined",
     "output_type": "error",
     "traceback": [
      "\u001b[0;31m---------------------------------------------------------------------------\u001b[0m",
      "\u001b[0;31mNameError\u001b[0m                                 Traceback (most recent call last)",
      "Cell \u001b[0;32mIn[55], line 1\u001b[0m\n\u001b[0;32m----> 1\u001b[0m \u001b[43mvery_long_string\u001b[49m\n",
      "\u001b[0;31mNameError\u001b[0m: name 'very_long_string' is not defined"
     ]
    }
   ],
   "source": [
    "very_long_string"
   ]
  },
  {
   "cell_type": "code",
   "execution_count": null,
   "id": "42fc31ea",
   "metadata": {},
   "outputs": [],
   "source": []
  }
 ],
 "metadata": {
  "kernelspec": {
   "display_name": "Python 3 (ipykernel)",
   "language": "python",
   "name": "python3"
  },
  "language_info": {
   "codemirror_mode": {
    "name": "ipython",
    "version": 3
   },
   "file_extension": ".py",
   "mimetype": "text/x-python",
   "name": "python",
   "nbconvert_exporter": "python",
   "pygments_lexer": "ipython3",
   "version": "3.10.9"
  }
 },
 "nbformat": 4,
 "nbformat_minor": 5
}
