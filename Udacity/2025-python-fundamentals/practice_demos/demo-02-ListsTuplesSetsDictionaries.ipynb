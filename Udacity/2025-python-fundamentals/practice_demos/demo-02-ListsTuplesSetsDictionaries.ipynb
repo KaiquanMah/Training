{
 "cells": [
  {
   "cell_type": "markdown",
   "id": "56659376",
   "metadata": {},
   "source": [
    "## Lists"
   ]
  },
  {
   "cell_type": "code",
   "execution_count": 1,
   "id": "3000c7c1",
   "metadata": {},
   "outputs": [
    {
     "name": "stdout",
     "output_type": "stream",
     "text": [
      "Empty list: []\n"
     ]
    }
   ],
   "source": [
    "empty_list = []\n",
    "\n",
    "print(\"Empty list: %s\" % empty_list)"
   ]
  },
  {
   "cell_type": "code",
   "execution_count": 2,
   "id": "2d7b9698",
   "metadata": {},
   "outputs": [
    {
     "name": "stdout",
     "output_type": "stream",
     "text": [
      "Empty list: []\n"
     ]
    }
   ],
   "source": [
    "empty_list = list()\n",
    "\n",
    "print(\"Empty list: %s\" % empty_list)"
   ]
  },
  {
   "cell_type": "code",
   "execution_count": 32,
   "id": "182ca447",
   "metadata": {},
   "outputs": [
    {
     "data": {
      "text/plain": [
       "['United States', 'France', 'India', 'Japan']"
      ]
     },
     "execution_count": 32,
     "metadata": {},
     "output_type": "execute_result"
    }
   ],
   "source": [
    "countries_list = [\"United States\", \"France\", \"India\", \"Japan\"]\n",
    "\n",
    "countries_list"
   ]
  },
  {
   "cell_type": "code",
   "execution_count": 47,
   "id": "84b87839",
   "metadata": {},
   "outputs": [
    {
     "data": {
      "text/plain": [
       "list"
      ]
     },
     "execution_count": 47,
     "metadata": {},
     "output_type": "execute_result"
    }
   ],
   "source": [
    "type(countries_list)"
   ]
  },
  {
   "cell_type": "code",
   "execution_count": 33,
   "id": "026aae71",
   "metadata": {},
   "outputs": [
    {
     "data": {
      "text/plain": [
       "'United States'"
      ]
     },
     "execution_count": 33,
     "metadata": {},
     "output_type": "execute_result"
    }
   ],
   "source": [
    "countries_list[0]"
   ]
  },
  {
   "cell_type": "code",
   "execution_count": 34,
   "id": "55239400",
   "metadata": {},
   "outputs": [
    {
     "data": {
      "text/plain": [
       "'France'"
      ]
     },
     "execution_count": 34,
     "metadata": {},
     "output_type": "execute_result"
    }
   ],
   "source": [
    "countries_list[1]"
   ]
  },
  {
   "cell_type": "code",
   "execution_count": 35,
   "id": "9f0d72c3",
   "metadata": {},
   "outputs": [
    {
     "data": {
      "text/plain": [
       "'Japan'"
      ]
     },
     "execution_count": 35,
     "metadata": {},
     "output_type": "execute_result"
    }
   ],
   "source": [
    "countries_list[-1]"
   ]
  },
  {
   "cell_type": "code",
   "execution_count": 55,
   "id": "b1b8c2b1",
   "metadata": {},
   "outputs": [
    {
     "data": {
      "text/plain": [
       "['Japan', 'Germany', 'INDIA', 'France', 'Germany', 'Spain']"
      ]
     },
     "execution_count": 55,
     "metadata": {},
     "output_type": "execute_result"
    }
   ],
   "source": [
    "countries_list[2] = \"INDIA\"\n",
    "\n",
    "countries_list"
   ]
  },
  {
   "cell_type": "code",
   "execution_count": 37,
   "id": "5a66fff1",
   "metadata": {},
   "outputs": [
    {
     "data": {
      "text/plain": [
       "['United States', 'France', 'India', 'Japan', 'Singapore']"
      ]
     },
     "execution_count": 37,
     "metadata": {},
     "output_type": "execute_result"
    }
   ],
   "source": [
    "countries_list.append(\"Singapore\")\n",
    "\n",
    "countries_list"
   ]
  },
  {
   "cell_type": "markdown",
   "id": "c7b381f6",
   "metadata": {},
   "source": [
    "Note duplicates"
   ]
  },
  {
   "cell_type": "code",
   "execution_count": 38,
   "id": "c2805395",
   "metadata": {},
   "outputs": [
    {
     "data": {
      "text/plain": [
       "['United States',\n",
       " 'France',\n",
       " 'India',\n",
       " 'Japan',\n",
       " 'Singapore',\n",
       " 'France',\n",
       " 'Germany',\n",
       " 'Spain']"
      ]
     },
     "execution_count": 38,
     "metadata": {},
     "output_type": "execute_result"
    }
   ],
   "source": [
    "new_countries = [\"France\", \"Germany\", \"Spain\"]\n",
    "\n",
    "countries_list.extend(new_countries)\n",
    "\n",
    "countries_list"
   ]
  },
  {
   "cell_type": "code",
   "execution_count": 39,
   "id": "cbc780d6",
   "metadata": {},
   "outputs": [
    {
     "data": {
      "text/plain": [
       "['United States', 'France', 'Japan', 'Singapore', 'France', 'Germany', 'Spain']"
      ]
     },
     "execution_count": 39,
     "metadata": {},
     "output_type": "execute_result"
    }
   ],
   "source": [
    "countries_list.remove(\"INDIA\")\n",
    "\n",
    "countries_list"
   ]
  },
  {
   "cell_type": "code",
   "execution_count": 40,
   "id": "8a1df52a",
   "metadata": {},
   "outputs": [
    {
     "data": {
      "text/plain": [
       "'France'"
      ]
     },
     "execution_count": 40,
     "metadata": {},
     "output_type": "execute_result"
    }
   ],
   "source": [
    "removed_country = countries_list.pop(1)\n",
    "\n",
    "removed_country"
   ]
  },
  {
   "cell_type": "code",
   "execution_count": 41,
   "id": "de8ee831",
   "metadata": {},
   "outputs": [
    {
     "data": {
      "text/plain": [
       "['United States', 'Japan', 'Singapore', 'France', 'Germany', 'Spain']"
      ]
     },
     "execution_count": 41,
     "metadata": {},
     "output_type": "execute_result"
    }
   ],
   "source": [
    "countries_list"
   ]
  },
  {
   "cell_type": "code",
   "execution_count": 42,
   "id": "1f583aae",
   "metadata": {},
   "outputs": [
    {
     "data": {
      "text/plain": [
       "['Japan', 'Singapore', 'France', 'Germany', 'Spain']"
      ]
     },
     "execution_count": 42,
     "metadata": {},
     "output_type": "execute_result"
    }
   ],
   "source": [
    "del countries_list[0]\n",
    "\n",
    "countries_list"
   ]
  },
  {
   "cell_type": "code",
   "execution_count": 43,
   "id": "b62f65ac",
   "metadata": {},
   "outputs": [
    {
     "data": {
      "text/plain": [
       "['Japan', 'Germany', 'Singapore', 'France', 'Germany', 'Spain']"
      ]
     },
     "execution_count": 43,
     "metadata": {},
     "output_type": "execute_result"
    }
   ],
   "source": [
    "countries_list.insert(1, \"Germany\")\n",
    "\n",
    "countries_list"
   ]
  },
  {
   "cell_type": "markdown",
   "id": "6d3bcd65",
   "metadata": {},
   "source": [
    "#### Integer list"
   ]
  },
  {
   "cell_type": "code",
   "execution_count": 44,
   "id": "2298e061",
   "metadata": {},
   "outputs": [
    {
     "data": {
      "text/plain": [
       "[23, 17, 19, 25, 34, 18]"
      ]
     },
     "execution_count": 44,
     "metadata": {},
     "output_type": "execute_result"
    }
   ],
   "source": [
    "student_ages = [23, 17, 19, 25, 34, 18]\n",
    "\n",
    "student_ages"
   ]
  },
  {
   "cell_type": "markdown",
   "id": "ed634937",
   "metadata": {},
   "source": [
    "#### Float list"
   ]
  },
  {
   "cell_type": "code",
   "execution_count": 46,
   "id": "a9cd91f4",
   "metadata": {},
   "outputs": [
    {
     "data": {
      "text/plain": [
       "[2.1, 3.3, 4.0, 3.7, 2.9]"
      ]
     },
     "execution_count": 46,
     "metadata": {},
     "output_type": "execute_result"
    }
   ],
   "source": [
    "student_gpas = [2.1, 3.3, 4.0, 3.7, 2.9]\n",
    "\n",
    "student_gpas"
   ]
  },
  {
   "cell_type": "markdown",
   "id": "fbf90ad5",
   "metadata": {},
   "source": [
    "#### Mixed list"
   ]
  },
  {
   "cell_type": "code",
   "execution_count": 45,
   "id": "e28028b2",
   "metadata": {},
   "outputs": [
    {
     "data": {
      "text/plain": [
       "['Doris', 23, 3.3, True, 'Columbia University']"
      ]
     },
     "execution_count": 45,
     "metadata": {},
     "output_type": "execute_result"
    }
   ],
   "source": [
    "doris_record = [\"Doris\", 23, 3.3, True, \"Columbia University\"]\n",
    "\n",
    "doris_record"
   ]
  },
  {
   "cell_type": "markdown",
   "id": "036ab10f",
   "metadata": {},
   "source": [
    "## Tuples"
   ]
  },
  {
   "cell_type": "code",
   "execution_count": 49,
   "id": "004da036",
   "metadata": {},
   "outputs": [
    {
     "name": "stdout",
     "output_type": "stream",
     "text": [
      "Empty tuple: ()\n"
     ]
    }
   ],
   "source": [
    "empty_tuple = ()\n",
    "\n",
    "print(f\"Empty tuple: {empty_tuple}\")"
   ]
  },
  {
   "cell_type": "code",
   "execution_count": 50,
   "id": "e579f212",
   "metadata": {},
   "outputs": [
    {
     "name": "stdout",
     "output_type": "stream",
     "text": [
      "Empty tuple: ()\n"
     ]
    }
   ],
   "source": [
    "empty_tuple = tuple()\n",
    "\n",
    "print(f\"Empty tuple: {empty_tuple}\")"
   ]
  },
  {
   "cell_type": "code",
   "execution_count": 51,
   "id": "1d63c9c6",
   "metadata": {},
   "outputs": [
    {
     "data": {
      "text/plain": [
       "tuple"
      ]
     },
     "execution_count": 51,
     "metadata": {},
     "output_type": "execute_result"
    }
   ],
   "source": [
    "type(empty_tuple)"
   ]
  },
  {
   "cell_type": "code",
   "execution_count": 52,
   "id": "efd49301",
   "metadata": {},
   "outputs": [
    {
     "data": {
      "text/plain": [
       "('Apple', 'Google', 'Microsoft', 'Tesla', 'Meta')"
      ]
     },
     "execution_count": 52,
     "metadata": {},
     "output_type": "execute_result"
    }
   ],
   "source": [
    "tech_companies = (\"Apple\", \"Google\", \"Microsoft\", \"Tesla\", \"Meta\")\n",
    "\n",
    "tech_companies"
   ]
  },
  {
   "cell_type": "code",
   "execution_count": 53,
   "id": "f16c35d5",
   "metadata": {},
   "outputs": [
    {
     "data": {
      "text/plain": [
       "'Google'"
      ]
     },
     "execution_count": 53,
     "metadata": {},
     "output_type": "execute_result"
    }
   ],
   "source": [
    "tech_companies[1]"
   ]
  },
  {
   "cell_type": "code",
   "execution_count": 54,
   "id": "5c7d5f41",
   "metadata": {},
   "outputs": [
    {
     "data": {
      "text/plain": [
       "'Tesla'"
      ]
     },
     "execution_count": 54,
     "metadata": {},
     "output_type": "execute_result"
    }
   ],
   "source": [
    "tech_companies[-2]"
   ]
  },
  {
   "cell_type": "code",
   "execution_count": 56,
   "id": "7e011999",
   "metadata": {},
   "outputs": [
    {
     "ename": "TypeError",
     "evalue": "'tuple' object does not support item assignment",
     "output_type": "error",
     "traceback": [
      "\u001b[0;31m---------------------------------------------------------------------------\u001b[0m",
      "\u001b[0;31mTypeError\u001b[0m                                 Traceback (most recent call last)",
      "Cell \u001b[0;32mIn[56], line 1\u001b[0m\n\u001b[0;32m----> 1\u001b[0m tech_companies[\u001b[38;5;241m2\u001b[39m] \u001b[38;5;241m=\u001b[39m \u001b[38;5;124m\"\u001b[39m\u001b[38;5;124mMSFT\u001b[39m\u001b[38;5;124m\"\u001b[39m\n\u001b[1;32m      3\u001b[0m tech_companies\n",
      "\u001b[0;31mTypeError\u001b[0m: 'tuple' object does not support item assignment"
     ]
    }
   ],
   "source": [
    "tech_companies[2] = \"MSFT\"\n",
    "\n",
    "tech_companies"
   ]
  },
  {
   "cell_type": "markdown",
   "id": "5e764f24",
   "metadata": {},
   "source": [
    "## Sets"
   ]
  },
  {
   "cell_type": "code",
   "execution_count": 57,
   "id": "11e89905",
   "metadata": {},
   "outputs": [
    {
     "data": {
      "text/plain": [
       "set()"
      ]
     },
     "execution_count": 57,
     "metadata": {},
     "output_type": "execute_result"
    }
   ],
   "source": [
    "empty_set = set()\n",
    "\n",
    "empty_set"
   ]
  },
  {
   "cell_type": "code",
   "execution_count": 58,
   "id": "fd36b26c",
   "metadata": {},
   "outputs": [
    {
     "data": {
      "text/plain": [
       "set"
      ]
     },
     "execution_count": 58,
     "metadata": {},
     "output_type": "execute_result"
    }
   ],
   "source": [
    "type(empty_set)"
   ]
  },
  {
   "cell_type": "code",
   "execution_count": 61,
   "id": "556cc949",
   "metadata": {},
   "outputs": [
    {
     "data": {
      "text/plain": [
       "[100, 200, 300, 400, 500, 200, 500]"
      ]
     },
     "execution_count": 61,
     "metadata": {},
     "output_type": "execute_result"
    }
   ],
   "source": [
    "numbers_list = [100, 200, 300, 400, 500, 200, 500]\n",
    "\n",
    "numbers_list"
   ]
  },
  {
   "cell_type": "code",
   "execution_count": 62,
   "id": "c867dc2d",
   "metadata": {},
   "outputs": [
    {
     "data": {
      "text/plain": [
       "{100, 200, 300, 400, 500}"
      ]
     },
     "execution_count": 62,
     "metadata": {},
     "output_type": "execute_result"
    }
   ],
   "source": [
    "numbers_set = {100, 200, 300, 400, 500, 200, 500}\n",
    "\n",
    "numbers_set"
   ]
  },
  {
   "cell_type": "code",
   "execution_count": 63,
   "id": "48393f42",
   "metadata": {},
   "outputs": [
    {
     "data": {
      "text/plain": [
       "{100, 200, 300, 400, 500, 1000}"
      ]
     },
     "execution_count": 63,
     "metadata": {},
     "output_type": "execute_result"
    }
   ],
   "source": [
    "numbers_set.add(1000)\n",
    "numbers_set.add(100)\n",
    "\n",
    "numbers_set"
   ]
  },
  {
   "cell_type": "code",
   "execution_count": 64,
   "id": "8418e03b",
   "metadata": {},
   "outputs": [
    {
     "data": {
      "text/plain": [
       "{100, 200, 400, 500, 1000}"
      ]
     },
     "execution_count": 64,
     "metadata": {},
     "output_type": "execute_result"
    }
   ],
   "source": [
    "numbers_set.remove(300)\n",
    "\n",
    "numbers_set"
   ]
  },
  {
   "cell_type": "markdown",
   "id": "3b7ac560",
   "metadata": {},
   "source": [
    "Use discard() if you do not want the error"
   ]
  },
  {
   "cell_type": "code",
   "execution_count": 65,
   "id": "8b83d002",
   "metadata": {},
   "outputs": [
    {
     "ename": "KeyError",
     "evalue": "300",
     "output_type": "error",
     "traceback": [
      "\u001b[0;31m---------------------------------------------------------------------------\u001b[0m",
      "\u001b[0;31mKeyError\u001b[0m                                  Traceback (most recent call last)",
      "Cell \u001b[0;32mIn[65], line 1\u001b[0m\n\u001b[0;32m----> 1\u001b[0m \u001b[43mnumbers_set\u001b[49m\u001b[38;5;241;43m.\u001b[39;49m\u001b[43mremove\u001b[49m\u001b[43m(\u001b[49m\u001b[38;5;241;43m300\u001b[39;49m\u001b[43m)\u001b[49m\n\u001b[1;32m      3\u001b[0m numbers_set\n",
      "\u001b[0;31mKeyError\u001b[0m: 300"
     ]
    }
   ],
   "source": [
    "numbers_set.remove(300)\n",
    "\n",
    "numbers_set"
   ]
  },
  {
   "cell_type": "code",
   "execution_count": 68,
   "id": "b64b0c92",
   "metadata": {},
   "outputs": [],
   "source": [
    "multiples_of_5 = {5, 10, 15, 20, 25, 30, 35, 40}\n",
    "\n",
    "multiples_of_10 = {10, 20, 30, 40, 50, 60}"
   ]
  },
  {
   "cell_type": "code",
   "execution_count": 69,
   "id": "c9f1354f",
   "metadata": {},
   "outputs": [
    {
     "data": {
      "text/plain": [
       "{5, 10, 15, 20, 25, 30, 35, 40, 50, 60}"
      ]
     },
     "execution_count": 69,
     "metadata": {},
     "output_type": "execute_result"
    }
   ],
   "source": [
    "union = multiples_of_5 | multiples_of_10\n",
    "\n",
    "union"
   ]
  },
  {
   "cell_type": "code",
   "execution_count": 70,
   "id": "a3be1013",
   "metadata": {},
   "outputs": [
    {
     "data": {
      "text/plain": [
       "{5, 10, 15, 20, 25, 30, 35, 40, 50, 60}"
      ]
     },
     "execution_count": 70,
     "metadata": {},
     "output_type": "execute_result"
    }
   ],
   "source": [
    "union = multiples_of_5.union(multiples_of_10)\n",
    "\n",
    "union"
   ]
  },
  {
   "cell_type": "code",
   "execution_count": 71,
   "id": "2951e95a",
   "metadata": {},
   "outputs": [
    {
     "data": {
      "text/plain": [
       "{10, 20, 30, 40}"
      ]
     },
     "execution_count": 71,
     "metadata": {},
     "output_type": "execute_result"
    }
   ],
   "source": [
    "intersection = multiples_of_5 & multiples_of_10\n",
    "\n",
    "intersection"
   ]
  },
  {
   "cell_type": "code",
   "execution_count": 72,
   "id": "5f8b1ebd",
   "metadata": {},
   "outputs": [
    {
     "data": {
      "text/plain": [
       "{5, 15, 25, 35}"
      ]
     },
     "execution_count": 72,
     "metadata": {},
     "output_type": "execute_result"
    }
   ],
   "source": [
    "difference = multiples_of_5 - multiples_of_10\n",
    "\n",
    "difference"
   ]
  },
  {
   "cell_type": "code",
   "execution_count": 73,
   "id": "5fa16275",
   "metadata": {},
   "outputs": [
    {
     "data": {
      "text/plain": [
       "{5, 15, 25, 35, 50, 60}"
      ]
     },
     "execution_count": 73,
     "metadata": {},
     "output_type": "execute_result"
    }
   ],
   "source": [
    "symmetric_difference = multiples_of_5 ^ multiples_of_10\n",
    "\n",
    "symmetric_difference"
   ]
  },
  {
   "cell_type": "code",
   "execution_count": 74,
   "id": "e6491a52",
   "metadata": {},
   "outputs": [
    {
     "data": {
      "text/plain": [
       "False"
      ]
     },
     "execution_count": 74,
     "metadata": {},
     "output_type": "execute_result"
    }
   ],
   "source": [
    "multiples_of_5.isdisjoint(multiples_of_10)"
   ]
  },
  {
   "cell_type": "markdown",
   "id": "281e3425",
   "metadata": {},
   "source": [
    "## Dictionaries"
   ]
  },
  {
   "cell_type": "code",
   "execution_count": 75,
   "id": "35f41725",
   "metadata": {},
   "outputs": [
    {
     "data": {
      "text/plain": [
       "{}"
      ]
     },
     "execution_count": 75,
     "metadata": {},
     "output_type": "execute_result"
    }
   ],
   "source": [
    "empty_dict = {}\n",
    "\n",
    "empty_dict"
   ]
  },
  {
   "cell_type": "code",
   "execution_count": 76,
   "id": "bdda85f4",
   "metadata": {},
   "outputs": [
    {
     "data": {
      "text/plain": [
       "{}"
      ]
     },
     "execution_count": 76,
     "metadata": {},
     "output_type": "execute_result"
    }
   ],
   "source": [
    "empty_dict = dict()\n",
    "\n",
    "empty_dict"
   ]
  },
  {
   "cell_type": "code",
   "execution_count": 77,
   "id": "bff8192f",
   "metadata": {},
   "outputs": [
    {
     "data": {
      "text/plain": [
       "dict"
      ]
     },
     "execution_count": 77,
     "metadata": {},
     "output_type": "execute_result"
    }
   ],
   "source": [
    "type(empty_dict)"
   ]
  },
  {
   "cell_type": "code",
   "execution_count": 79,
   "id": "1aefb962",
   "metadata": {},
   "outputs": [
    {
     "data": {
      "text/plain": [
       "{'James': 89, 'Nora': 55, 'Janet': 96, 'Richard': 43}"
      ]
     },
     "execution_count": 79,
     "metadata": {},
     "output_type": "execute_result"
    }
   ],
   "source": [
    "student_math_scores = {\n",
    "    'James': 89,\n",
    "    'Nora': 55,\n",
    "    'Janet': 96,\n",
    "    'Richard': 43\n",
    "}\n",
    "\n",
    "student_math_scores"
   ]
  },
  {
   "cell_type": "code",
   "execution_count": 80,
   "id": "087b5887",
   "metadata": {},
   "outputs": [
    {
     "data": {
      "text/plain": [
       "55"
      ]
     },
     "execution_count": 80,
     "metadata": {},
     "output_type": "execute_result"
    }
   ],
   "source": [
    "student_math_scores['Nora']"
   ]
  },
  {
   "cell_type": "code",
   "execution_count": 81,
   "id": "193a562a",
   "metadata": {},
   "outputs": [
    {
     "ename": "KeyError",
     "evalue": "'John'",
     "output_type": "error",
     "traceback": [
      "\u001b[0;31m---------------------------------------------------------------------------\u001b[0m",
      "\u001b[0;31mKeyError\u001b[0m                                  Traceback (most recent call last)",
      "Cell \u001b[0;32mIn[81], line 1\u001b[0m\n\u001b[0;32m----> 1\u001b[0m \u001b[43mstudent_math_scores\u001b[49m\u001b[43m[\u001b[49m\u001b[38;5;124;43m'\u001b[39;49m\u001b[38;5;124;43mJohn\u001b[39;49m\u001b[38;5;124;43m'\u001b[39;49m\u001b[43m]\u001b[49m\n",
      "\u001b[0;31mKeyError\u001b[0m: 'John'"
     ]
    }
   ],
   "source": [
    "student_math_scores['John']"
   ]
  },
  {
   "cell_type": "code",
   "execution_count": 82,
   "id": "c374dbb6",
   "metadata": {},
   "outputs": [
    {
     "data": {
      "text/plain": [
       "{'James': 89, 'Nora': 65, 'Janet': 96, 'Richard': 43}"
      ]
     },
     "execution_count": 82,
     "metadata": {},
     "output_type": "execute_result"
    }
   ],
   "source": [
    "student_math_scores['Nora'] = 65\n",
    "\n",
    "student_math_scores"
   ]
  },
  {
   "cell_type": "code",
   "execution_count": 83,
   "id": "e89c2622",
   "metadata": {},
   "outputs": [
    {
     "data": {
      "text/plain": [
       "{'James': 89, 'Nora': 65, 'Janet': 96, 'Richard': 47.300000000000004}"
      ]
     },
     "execution_count": 83,
     "metadata": {},
     "output_type": "execute_result"
    }
   ],
   "source": [
    "student_math_scores['Richard'] *= 1.1\n",
    "\n",
    "student_math_scores"
   ]
  },
  {
   "cell_type": "code",
   "execution_count": 84,
   "id": "f96bee90",
   "metadata": {},
   "outputs": [
    {
     "data": {
      "text/plain": [
       "{'James': 89,\n",
       " 'Nora': 65,\n",
       " 'Janet': 96,\n",
       " 'Richard': 47.300000000000004,\n",
       " 'Julian': 72}"
      ]
     },
     "execution_count": 84,
     "metadata": {},
     "output_type": "execute_result"
    }
   ],
   "source": [
    "student_math_scores['Julian'] = 72\n",
    "\n",
    "student_math_scores"
   ]
  },
  {
   "cell_type": "code",
   "execution_count": 85,
   "id": "15f28b8b",
   "metadata": {},
   "outputs": [
    {
     "data": {
      "text/plain": [
       "dict_keys(['James', 'Nora', 'Janet', 'Richard', 'Julian'])"
      ]
     },
     "execution_count": 85,
     "metadata": {},
     "output_type": "execute_result"
    }
   ],
   "source": [
    "student_math_scores.keys()"
   ]
  },
  {
   "cell_type": "code",
   "execution_count": 86,
   "id": "b824d552",
   "metadata": {},
   "outputs": [
    {
     "data": {
      "text/plain": [
       "dict_values([89, 65, 96, 47.300000000000004, 72])"
      ]
     },
     "execution_count": 86,
     "metadata": {},
     "output_type": "execute_result"
    }
   ],
   "source": [
    "student_math_scores.values()"
   ]
  },
  {
   "cell_type": "code",
   "execution_count": 87,
   "id": "8ad1bb34",
   "metadata": {},
   "outputs": [
    {
     "data": {
      "text/plain": [
       "{'James': 89, 'Nora': 65, 'Janet': 96, 'Julian': 72}"
      ]
     },
     "execution_count": 87,
     "metadata": {},
     "output_type": "execute_result"
    }
   ],
   "source": [
    "del student_math_scores['Richard']\n",
    "\n",
    "student_math_scores"
   ]
  },
  {
   "cell_type": "markdown",
   "id": "bf775b0b",
   "metadata": {},
   "source": [
    "A dictionary can contain any values"
   ]
  },
  {
   "cell_type": "code",
   "execution_count": 88,
   "id": "b593e522",
   "metadata": {},
   "outputs": [
    {
     "data": {
      "text/plain": [
       "{'James': 89,\n",
       " 'Nora': 3.4,\n",
       " 'Janet': [44, 78, 90],\n",
       " 'Richard': '21, Erden Street, Boston, MA'}"
      ]
     },
     "execution_count": 88,
     "metadata": {},
     "output_type": "execute_result"
    }
   ],
   "source": [
    "student_info = {\n",
    "    'James': 89,\n",
    "    'Nora': 3.4,\n",
    "    'Janet': [44, 78, 90],\n",
    "    'Richard': \"21, Erden Street, Boston, MA\"\n",
    "}\n",
    "\n",
    "student_info"
   ]
  },
  {
   "cell_type": "code",
   "execution_count": 89,
   "id": "9848c018",
   "metadata": {},
   "outputs": [
    {
     "data": {
      "text/plain": [
       "{11: 'Nora', 22: 'Julian', 33: 'Desmond', 44: 'Clarice'}"
      ]
     },
     "execution_count": 89,
     "metadata": {},
     "output_type": "execute_result"
    }
   ],
   "source": [
    "student_info = {\n",
    "    11: 'Nora',\n",
    "    22: 'Julian',\n",
    "    33: 'Desmond',\n",
    "    44: 'Clarice'\n",
    "}\n",
    "\n",
    "student_info"
   ]
  },
  {
   "cell_type": "code",
   "execution_count": 91,
   "id": "04000fea",
   "metadata": {},
   "outputs": [
    {
     "data": {
      "text/plain": [
       "{(11, 'a'): 'Nora',\n",
       " (22, 'b'): 'Julian',\n",
       " (33, 'c'): 'Desmond',\n",
       " (44, 'a'): 'Clarice'}"
      ]
     },
     "execution_count": 91,
     "metadata": {},
     "output_type": "execute_result"
    }
   ],
   "source": [
    "student_info = {\n",
    "    (11, 'a'): 'Nora',\n",
    "    (22, 'b'): 'Julian',\n",
    "    (33, 'c'): 'Desmond',\n",
    "    (44, 'a'): 'Clarice'\n",
    "}\n",
    "\n",
    "student_info"
   ]
  },
  {
   "cell_type": "code",
   "execution_count": 92,
   "id": "36acae6c",
   "metadata": {},
   "outputs": [
    {
     "ename": "TypeError",
     "evalue": "unhashable type: 'list'",
     "output_type": "error",
     "traceback": [
      "\u001b[0;31m---------------------------------------------------------------------------\u001b[0m",
      "\u001b[0;31mTypeError\u001b[0m                                 Traceback (most recent call last)",
      "Cell \u001b[0;32mIn[92], line 1\u001b[0m\n\u001b[0;32m----> 1\u001b[0m student_info \u001b[38;5;241m=\u001b[39m {\n\u001b[1;32m      2\u001b[0m     [\u001b[38;5;241m11\u001b[39m, \u001b[38;5;124m'\u001b[39m\u001b[38;5;124ma\u001b[39m\u001b[38;5;124m'\u001b[39m]: \u001b[38;5;124m'\u001b[39m\u001b[38;5;124mNora\u001b[39m\u001b[38;5;124m'\u001b[39m,\n\u001b[1;32m      3\u001b[0m     [\u001b[38;5;241m22\u001b[39m, \u001b[38;5;124m'\u001b[39m\u001b[38;5;124mb\u001b[39m\u001b[38;5;124m'\u001b[39m]: \u001b[38;5;124m'\u001b[39m\u001b[38;5;124mJulian\u001b[39m\u001b[38;5;124m'\u001b[39m,\n\u001b[1;32m      4\u001b[0m     [\u001b[38;5;241m33\u001b[39m, \u001b[38;5;124m'\u001b[39m\u001b[38;5;124mc\u001b[39m\u001b[38;5;124m'\u001b[39m]: \u001b[38;5;124m'\u001b[39m\u001b[38;5;124mDesmond\u001b[39m\u001b[38;5;124m'\u001b[39m,\n\u001b[1;32m      5\u001b[0m     [\u001b[38;5;241m44\u001b[39m, \u001b[38;5;124m'\u001b[39m\u001b[38;5;124ma\u001b[39m\u001b[38;5;124m'\u001b[39m]: \u001b[38;5;124m'\u001b[39m\u001b[38;5;124mClarice\u001b[39m\u001b[38;5;124m'\u001b[39m\n\u001b[1;32m      6\u001b[0m }\n\u001b[1;32m      8\u001b[0m student_info\n",
      "\u001b[0;31mTypeError\u001b[0m: unhashable type: 'list'"
     ]
    }
   ],
   "source": [
    "student_info = {\n",
    "    [11, 'a']: 'Nora',\n",
    "    [22, 'b']: 'Julian',\n",
    "    [33, 'c']: 'Desmond',\n",
    "    [44, 'a']: 'Clarice'\n",
    "}\n",
    "\n",
    "student_info"
   ]
  },
  {
   "cell_type": "code",
   "execution_count": 94,
   "id": "43b7e76d",
   "metadata": {},
   "outputs": [
    {
     "data": {
      "text/plain": [
       "{'Alice': {'math': 90, 'english': 85, 'science': 92},\n",
       " 'Bob': {'math': 80, 'english': 75, 'science': 88},\n",
       " 'Charlie': {'math': 95, 'english': 92, 'science': 90}}"
      ]
     },
     "execution_count": 94,
     "metadata": {},
     "output_type": "execute_result"
    }
   ],
   "source": [
    "# Create a dictionary\n",
    "# Keys - student names\n",
    "# Values - student scores in math, english, and science\n",
    "student_scores = {\n",
    "    'Alice': {'math': 90, 'english': 85, 'science': 92},\n",
    "    'Bob': {'math': 80, 'english': 75, 'science': 88},\n",
    "    'Charlie': {'math': 95, 'english': 92, 'science': 90}\n",
    "}\n",
    "\n",
    "student_scores"
   ]
  },
  {
   "cell_type": "code",
   "execution_count": 95,
   "id": "1bb24822",
   "metadata": {},
   "outputs": [
    {
     "data": {
      "text/plain": [
       "90"
      ]
     },
     "execution_count": 95,
     "metadata": {},
     "output_type": "execute_result"
    }
   ],
   "source": [
    "student_scores['Alice']['math']"
   ]
  },
  {
   "cell_type": "code",
   "execution_count": 96,
   "id": "bb37cb76",
   "metadata": {},
   "outputs": [
    {
     "data": {
      "text/plain": [
       "{'Alice': {'math': 90, 'english': 85, 'science': 92},\n",
       " 'Bob': {'math': 80, 'english': 100, 'science': 88},\n",
       " 'Charlie': {'math': 95, 'english': 92, 'science': 90}}"
      ]
     },
     "execution_count": 96,
     "metadata": {},
     "output_type": "execute_result"
    }
   ],
   "source": [
    "student_scores['Bob']['english'] = 100\n",
    "\n",
    "student_scores"
   ]
  },
  {
   "cell_type": "code",
   "execution_count": null,
   "id": "528e1acc",
   "metadata": {},
   "outputs": [],
   "source": []
  },
  {
   "cell_type": "code",
   "execution_count": null,
   "id": "8571a96d",
   "metadata": {},
   "outputs": [],
   "source": []
  },
  {
   "cell_type": "code",
   "execution_count": null,
   "id": "fbb995a4",
   "metadata": {},
   "outputs": [],
   "source": []
  }
 ],
 "metadata": {
  "kernelspec": {
   "display_name": "Python 3 (ipykernel)",
   "language": "python",
   "name": "python3"
  },
  "language_info": {
   "codemirror_mode": {
    "name": "ipython",
    "version": 3
   },
   "file_extension": ".py",
   "mimetype": "text/x-python",
   "name": "python",
   "nbconvert_exporter": "python",
   "pygments_lexer": "ipython3",
   "version": "3.10.9"
  }
 },
 "nbformat": 4,
 "nbformat_minor": 5
}
