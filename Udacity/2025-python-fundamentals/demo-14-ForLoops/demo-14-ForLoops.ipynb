{
 "cells": [
  {
   "cell_type": "code",
   "execution_count": 1,
   "metadata": {},
   "outputs": [
    {
     "name": "stdout",
     "output_type": "stream",
     "text": [
      "W\n",
      "e\n",
      "l\n",
      "c\n",
      "o\n",
      "m\n",
      "e\n"
     ]
    }
   ],
   "source": [
    "for letter in ['W','e', 'l', 'c', 'o', 'm', 'e']:\n",
    "    print(letter)"
   ]
  },
  {
   "cell_type": "code",
   "execution_count": 2,
   "metadata": {},
   "outputs": [
    {
     "name": "stdout",
     "output_type": "stream",
     "text": [
      "W\n",
      "e\n",
      "l\n",
      "c\n",
      "o\n",
      "m\n",
      "e\n"
     ]
    }
   ],
   "source": [
    "for letter in \"Welcome\":\n",
    "    print(letter)"
   ]
  },
  {
   "cell_type": "code",
   "execution_count": 3,
   "metadata": {},
   "outputs": [
    {
     "name": "stdout",
     "output_type": "stream",
     "text": [
      "W\n",
      "e\n",
      "l\n",
      "c\n",
      "o\n",
      "m\n",
      "e\n",
      " \n",
      "t\n",
      "o\n",
      " \n",
      "N\n",
      "e\n",
      "w\n",
      " \n",
      "Y\n",
      "o\n",
      "r\n",
      "k\n"
     ]
    }
   ],
   "source": [
    "var_string = \"Welcome to New York\"\n",
    "\n",
    "for char in var_string:\n",
    "    print(char)"
   ]
  },
  {
   "cell_type": "code",
   "execution_count": 4,
   "metadata": {},
   "outputs": [
    {
     "name": "stdout",
     "output_type": "stream",
     "text": [
      "2\n",
      "0\n"
     ]
    }
   ],
   "source": [
    "for digit in \"20\":\n",
    "    print(digit)"
   ]
  },
  {
   "cell_type": "code",
   "execution_count": 5,
   "metadata": {},
   "outputs": [
    {
     "ename": "TypeError",
     "evalue": "'int' object is not iterable",
     "output_type": "error",
     "traceback": [
      "\u001b[0;31m---------------------------------------------------------------------------\u001b[0m",
      "\u001b[0;31mTypeError\u001b[0m                                 Traceback (most recent call last)",
      "\u001b[0;32m<ipython-input-5-d8afb4313880>\u001b[0m in \u001b[0;36m<module>\u001b[0;34m\u001b[0m\n\u001b[0;32m----> 1\u001b[0;31m \u001b[0;32mfor\u001b[0m \u001b[0mdigit\u001b[0m \u001b[0;32min\u001b[0m \u001b[0;36m10\u001b[0m\u001b[0;34m:\u001b[0m\u001b[0;34m\u001b[0m\u001b[0;34m\u001b[0m\u001b[0m\n\u001b[0m\u001b[1;32m      2\u001b[0m     \u001b[0mprint\u001b[0m\u001b[0;34m(\u001b[0m\u001b[0mdigit\u001b[0m\u001b[0;34m)\u001b[0m\u001b[0;34m\u001b[0m\u001b[0;34m\u001b[0m\u001b[0m\n",
      "\u001b[0;31mTypeError\u001b[0m: 'int' object is not iterable"
     ]
    }
   ],
   "source": [
    "for digit in 10:\n",
    "    print(digit)"
   ]
  },
  {
   "cell_type": "code",
   "execution_count": null,
   "metadata": {},
   "outputs": [
    {
     "data": {
      "text/plain": [
       "tuple"
      ]
     },
     "metadata": {},
     "output_type": "display_data"
    }
   ],
   "source": [
    "# if you dont enclose with '[]' to create a list\n",
    "# u create a python tuple\n",
    "names = \"Google\", \"Microsoft\", \"Amazon\", \"Skillsoft\", \"Apple\"\n",
    "type(names)"
   ]
  },
  {
   "cell_type": "code",
   "execution_count": 6,
   "metadata": {},
   "outputs": [
    {
     "name": "stdout",
     "output_type": "stream",
     "text": [
      "Google\n",
      "Microsoft\n",
      "Amazon\n",
      "Skillsoft\n",
      "Apple\n"
     ]
    }
   ],
   "source": [
    "for company in \"Google\", \"Microsoft\", \"Amazon\", \"Skillsoft\", \"Apple\":\n",
    "    print(company)"
   ]
  },
  {
   "cell_type": "code",
   "execution_count": 7,
   "metadata": {},
   "outputs": [
    {
     "name": "stdout",
     "output_type": "stream",
     "text": [
      "It's a Snowshoe\n",
      "It's a Calico\n",
      "It's a British Shorthair\n",
      "It's a Siamese\n",
      "It's a Persian\n"
     ]
    }
   ],
   "source": [
    "cats = (\"Snowshoe\", \"Calico\", \"British Shorthair\", \"Siamese\", \"Persian\")\n",
    "\n",
    "for cat in cats:\n",
    "    print(\"It's a\", cat)"
   ]
  },
  {
   "cell_type": "code",
   "execution_count": 8,
   "metadata": {},
   "outputs": [
    {
     "name": "stdout",
     "output_type": "stream",
     "text": [
      "It's a Snowshoe\n",
      "It's a Calico\n",
      "It's a British Shorthair\n",
      "It's a Siamese\n",
      "It's a Persian\n"
     ]
    }
   ],
   "source": [
    "cats = [\"Snowshoe\", \"Calico\", \"British Shorthair\", \"Siamese\", \"Persian\"]\n",
    "\n",
    "for cat in cats:\n",
    "    print(\"It's a\", cat)"
   ]
  },
  {
   "cell_type": "markdown",
   "metadata": {},
   "source": [
    "### Coding Practice\n",
    "\n",
    "- Set up a list of names\n",
    "- Iterate over the list and print out each name in uppercase"
   ]
  },
  {
   "cell_type": "code",
   "execution_count": 1,
   "metadata": {},
   "outputs": [
    {
     "data": {
      "text/plain": [
       "['NAME1', 'NAME2', 'NAME3']"
      ]
     },
     "execution_count": 1,
     "metadata": {},
     "output_type": "execute_result"
    }
   ],
   "source": [
    "names = [\"name1\", \"name2\", \"name3\"]\n",
    "[name.upper() for name in names]"
   ]
  },
  {
   "cell_type": "markdown",
   "metadata": {},
   "source": [
    "### Coding Practice\n",
    "\n",
    "- Set up a list of names\n",
    "- Iterate over the list and for every name print out the name and its length"
   ]
  },
  {
   "cell_type": "code",
   "execution_count": 5,
   "metadata": {},
   "outputs": [
    {
     "name": "stdout",
     "output_type": "stream",
     "text": [
      "Name 'name1' has 5 characters\n",
      "Name 'name2' has 5 characters\n",
      "Name 'name3' has 5 characters\n"
     ]
    }
   ],
   "source": [
    "names = [\"name1\", \"name2\", \"name3\"]\n",
    "for name in names:\n",
    "    print(f\"Name '{name}' has {len(name)} characters\")"
   ]
  },
  {
   "cell_type": "markdown",
   "metadata": {},
   "source": [
    "### Continue "
   ]
  },
  {
   "cell_type": "code",
   "execution_count": 6,
   "metadata": {},
   "outputs": [
    {
     "name": "stdout",
     "output_type": "stream",
     "text": [
      "Cat is a Snowshoe and it weighs 15 pounds\n",
      "Cat is a Siamese and it weighs 20 pounds\n",
      "Cat is a Persian and it weighs 12 pounds\n"
     ]
    }
   ],
   "source": [
    "cat_weight = [(\"Snowshoe\", 15),\n",
    "              (\"Siamese\", 20),\n",
    "              (\"Persian\", 12)]\n",
    "\n",
    "for cat, weight in cat_weight:\n",
    "    print(\"Cat is a %s and it weighs %s pounds\" % (cat , weight))"
   ]
  },
  {
   "cell_type": "code",
   "execution_count": 11,
   "metadata": {},
   "outputs": [
    {
     "name": "stdout",
     "output_type": "stream",
     "text": [
      "Cat at index 0 is a Snowshoe and it weighs 15 pounds\n",
      "Cat at index 1 is a Siamese and it weighs 20 pounds\n",
      "Cat at index 2 is a Persian and it weighs 12 pounds\n"
     ]
    }
   ],
   "source": [
    "for i, (cat, weight) in enumerate(cat_weight):\n",
    "    print(\"Cat at index %d is a %s and it weighs %s pounds\" % (i, cat , weight))"
   ]
  },
  {
   "cell_type": "code",
   "execution_count": 12,
   "metadata": {},
   "outputs": [],
   "source": [
    "price_history = [\n",
    "    {\"ticker\": \"AAPL\", \"close price\": 148.00, \"volume\": 2000000, \"date\": \"2019-02-18\"},\n",
    "    {\"ticker\": \"AAPL\", \"close price\": 149.00, \"volume\": 2000000, \"date\": \"2019-02-19\"},\n",
    "    {\"ticker\": \"AAPL\", \"close price\": 150.00, \"volume\": 2000000, \"date\": \"2019-02-20\"}\n",
    "]"
   ]
  },
  {
   "cell_type": "code",
   "execution_count": 13,
   "metadata": {},
   "outputs": [
    {
     "name": "stdout",
     "output_type": "stream",
     "text": [
      "{'ticker': 'AAPL', 'close price': 148.0, 'volume': 2000000, 'date': '2019-02-18'}\n",
      "{'ticker': 'AAPL', 'close price': 149.0, 'volume': 2000000, 'date': '2019-02-19'}\n",
      "{'ticker': 'AAPL', 'close price': 150.0, 'volume': 2000000, 'date': '2019-02-20'}\n"
     ]
    }
   ],
   "source": [
    "for price_data in price_history:\n",
    "    print(price_data)"
   ]
  },
  {
   "cell_type": "code",
   "execution_count": 14,
   "metadata": {},
   "outputs": [
    {
     "name": "stdout",
     "output_type": "stream",
     "text": [
      "{'ticker': 'AAPL', 'close price': 149.0, 'volume': 2000000, 'date': '2019-02-19'}\n",
      "{'ticker': 'AAPL', 'close price': 150.0, 'volume': 2000000, 'date': '2019-02-20'}\n"
     ]
    }
   ],
   "source": [
    "for price_data in price_history:\n",
    "    if price_data['close price'] >= 149:\n",
    "        print(price_data)"
   ]
  },
  {
   "cell_type": "markdown",
   "metadata": {},
   "source": [
    "### Coding Practice\n",
    "\n",
    "- Set up a list of dictionaries with names and ages\n",
    "- Iterate over the list and print out the names of everyone who has age > 18"
   ]
  },
  {
   "cell_type": "code",
   "execution_count": 26,
   "metadata": {},
   "outputs": [
    {
     "name": "stdout",
     "output_type": "stream",
     "text": [
      "name2 is 20 years old\n",
      "name3 is 30 years old\n",
      "name4 is 40 years old\n",
      "name5 is 50 years old\n",
      "name6 is 60 years old\n"
     ]
    }
   ],
   "source": [
    "name_age = [{\"name1\": 10,\n",
    "             \"name2\": 20},\n",
    "            {\"name3\": 30,\n",
    "             \"name4\": 40},\n",
    "            {\"name5\": 50,\n",
    "             \"name6\": 60}]\n",
    "\n",
    "for i, name_and_age_dict in enumerate(name_age):\n",
    "    name_and_age_list_of_tuples = name_and_age_dict.items()\n",
    "    for (name, age) in name_and_age_list_of_tuples:\n",
    "        if age>18:\n",
    "            print(f\"{name} is {age} years old\")"
   ]
  },
  {
   "cell_type": "code",
   "execution_count": 25,
   "metadata": {},
   "outputs": [
    {
     "name": "stdout",
     "output_type": "stream",
     "text": [
      "('name5', 50)\n",
      "<class 'tuple'>\n",
      "('name6', 60)\n",
      "<class 'tuple'>\n"
     ]
    }
   ],
   "source": [
    "for item in name_and_age_dict:\n",
    "    print(item), print(type(item))"
   ]
  },
  {
   "cell_type": "markdown",
   "metadata": {},
   "source": [
    "### Continue"
   ]
  },
  {
   "cell_type": "code",
   "execution_count": 1,
   "metadata": {},
   "outputs": [
    {
     "data": {
      "text/plain": [
       "{'Tom': 9, 'Alex': 6, 'Nina': 8, 'Alvin': 10}"
      ]
     },
     "execution_count": 1,
     "metadata": {},
     "output_type": "execute_result"
    }
   ],
   "source": [
    "game_scores = {'Tom': 9,\n",
    "               'Alex': 6,\n",
    "               'Nina': 8,\n",
    "               'Alvin': 10}\n",
    "game_scores"
   ]
  },
  {
   "cell_type": "code",
   "execution_count": 2,
   "metadata": {},
   "outputs": [
    {
     "data": {
      "text/plain": [
       "dict_keys(['Tom', 'Alex', 'Nina', 'Alvin'])"
      ]
     },
     "execution_count": 2,
     "metadata": {},
     "output_type": "execute_result"
    }
   ],
   "source": [
    "game_scores.keys()"
   ]
  },
  {
   "cell_type": "code",
   "execution_count": 3,
   "metadata": {},
   "outputs": [
    {
     "data": {
      "text/plain": [
       "dict_values([9, 6, 8, 10])"
      ]
     },
     "execution_count": 3,
     "metadata": {},
     "output_type": "execute_result"
    }
   ],
   "source": [
    "game_scores.values()"
   ]
  },
  {
   "cell_type": "code",
   "execution_count": 4,
   "metadata": {},
   "outputs": [
    {
     "data": {
      "text/plain": [
       "dict_items([('Tom', 9), ('Alex', 6), ('Nina', 8), ('Alvin', 10)])"
      ]
     },
     "execution_count": 4,
     "metadata": {},
     "output_type": "execute_result"
    }
   ],
   "source": [
    "game_scores.items()"
   ]
  },
  {
   "cell_type": "code",
   "execution_count": 5,
   "metadata": {},
   "outputs": [
    {
     "name": "stdout",
     "output_type": "stream",
     "text": [
      "Tom\n",
      "Alex\n",
      "Nina\n",
      "Alvin\n"
     ]
    }
   ],
   "source": [
    "for name in game_scores:\n",
    "    print(name)"
   ]
  },
  {
   "cell_type": "code",
   "execution_count": 6,
   "metadata": {},
   "outputs": [
    {
     "name": "stdout",
     "output_type": "stream",
     "text": [
      "Tom\n",
      "Alex\n",
      "Nina\n",
      "Alvin\n"
     ]
    }
   ],
   "source": [
    "for name in game_scores.keys():\n",
    "    print(name)"
   ]
  },
  {
   "cell_type": "code",
   "execution_count": 7,
   "metadata": {},
   "outputs": [
    {
     "name": "stdout",
     "output_type": "stream",
     "text": [
      "9\n",
      "6\n",
      "8\n",
      "10\n"
     ]
    }
   ],
   "source": [
    "for score in game_scores.values():\n",
    "    print(score)"
   ]
  },
  {
   "cell_type": "code",
   "execution_count": 8,
   "metadata": {},
   "outputs": [
    {
     "name": "stdout",
     "output_type": "stream",
     "text": [
      "Tom 9\n",
      "Alex 6\n",
      "Nina 8\n",
      "Alvin 10\n"
     ]
    }
   ],
   "source": [
    "for name, score in game_scores.items():\n",
    "    print(name, score)"
   ]
  },
  {
   "cell_type": "markdown",
   "metadata": {},
   "source": [
    "### Coding Practice\n",
    "\n",
    "- Set up a dictionary of ages and salaries\n",
    "- Iterate over the dictionary items and print the names and salaries for each individual"
   ]
  },
  {
   "cell_type": "code",
   "execution_count": 24,
   "metadata": {},
   "outputs": [
    {
     "name": "stdout",
     "output_type": "stream",
     "text": [
      "c\n",
      "a\n",
      "d\n",
      "b\n",
      "No more characters left\n"
     ]
    }
   ],
   "source": [
    "characters = {\"a\", \"b\", \"c\", \"d\"}\n",
    "\n",
    "for letter in characters:\n",
    "    print(letter)\n",
    "    \n",
    "else:\n",
    "    print(\"No more characters left\")"
   ]
  },
  {
   "cell_type": "code",
   "execution_count": 25,
   "metadata": {},
   "outputs": [
    {
     "name": "stdout",
     "output_type": "stream",
     "text": [
      "2016 is a leap year\n",
      "2017 is not a leap year\n",
      "2018 is not a leap year\n",
      "2019 is not a leap year\n",
      "2020 is a leap year\n"
     ]
    }
   ],
   "source": [
    "years = [2016, 2017, 2018, 2019, 2020]\n",
    "\n",
    "for year in years:\n",
    "     \n",
    "    if year % 4 == 0:\n",
    "\n",
    "        print(year, \"is a leap year\")\n",
    "\n",
    "    else:\n",
    "        print(year, \"is not a leap year\")"
   ]
  },
  {
   "cell_type": "code",
   "execution_count": 26,
   "metadata": {},
   "outputs": [
    {
     "name": "stdout",
     "output_type": "stream",
     "text": [
      "['Mary', 'Linda', 'Jessica']\n",
      "['James', 'Jacob', 'William']\n"
     ]
    }
   ],
   "source": [
    "names = [[\"Mary\", \"Linda\", \"Jessica\"],\n",
    "         [\"James\", \"Jacob\", \"William\"]]\n",
    "\n",
    "for sublist in names:\n",
    "    print(sublist)"
   ]
  },
  {
   "cell_type": "code",
   "execution_count": 27,
   "metadata": {},
   "outputs": [
    {
     "name": "stdout",
     "output_type": "stream",
     "text": [
      "Mary\n",
      "Linda\n",
      "Jessica\n",
      "James\n",
      "Jacob\n",
      "William\n"
     ]
    }
   ],
   "source": [
    "for sublist in names:\n",
    "    for name in sublist:\n",
    "        print(name)"
   ]
  },
  {
   "cell_type": "code",
   "execution_count": 28,
   "metadata": {},
   "outputs": [
    {
     "name": "stdout",
     "output_type": "stream",
     "text": [
      "Red Pen\n",
      "Red Marker\n",
      "Red Pencil\n",
      "Green Pen\n",
      "Green Marker\n",
      "Green Pencil\n",
      "Blue Pen\n",
      "Blue Marker\n",
      "Blue Pencil\n"
     ]
    }
   ],
   "source": [
    "colors_list = [\"Red\", \"Green\", \"Blue\"]\n",
    "objects_list = [\"Pen\", \"Marker\", \"Pencil\"]\n",
    "\n",
    "for color in colors_list:\n",
    "    for obj in objects_list:\n",
    "        \n",
    "        print(color, obj)"
   ]
  },
  {
   "cell_type": "code",
   "execution_count": 29,
   "metadata": {},
   "outputs": [
    {
     "data": {
      "text/plain": [
       "range(0, 20)"
      ]
     },
     "execution_count": 29,
     "metadata": {},
     "output_type": "execute_result"
    }
   ],
   "source": [
    "some_range = range(20)\n",
    "\n",
    "some_range"
   ]
  },
  {
   "cell_type": "code",
   "execution_count": 30,
   "metadata": {},
   "outputs": [
    {
     "data": {
      "text/plain": [
       "range"
      ]
     },
     "execution_count": 30,
     "metadata": {},
     "output_type": "execute_result"
    }
   ],
   "source": [
    "type(range(20)) "
   ]
  },
  {
   "cell_type": "code",
   "execution_count": 31,
   "metadata": {},
   "outputs": [
    {
     "data": {
      "text/plain": [
       "(0, 1, 2, 3, 4, 5, 6, 7, 8, 9, 10, 11, 12, 13, 14, 15, 16, 17, 18, 19)"
      ]
     },
     "execution_count": 31,
     "metadata": {},
     "output_type": "execute_result"
    }
   ],
   "source": [
    "tuple(some_range)"
   ]
  },
  {
   "cell_type": "code",
   "execution_count": 34,
   "metadata": {},
   "outputs": [
    {
     "data": {
      "text/plain": [
       "[0, 1, 2, 3, 4, 5, 6, 7, 8, 9, 10, 11, 12, 13, 14, 15, 16, 17, 18, 19]"
      ]
     },
     "execution_count": 34,
     "metadata": {},
     "output_type": "execute_result"
    }
   ],
   "source": [
    "list(some_range)"
   ]
  },
  {
   "cell_type": "code",
   "execution_count": 35,
   "metadata": {},
   "outputs": [
    {
     "data": {
      "text/plain": [
       "[-5, -4, -3, -2, -1, 0, 1, 2, 3, 4]"
      ]
     },
     "execution_count": 35,
     "metadata": {},
     "output_type": "execute_result"
    }
   ],
   "source": [
    "list(range(-5, +5))"
   ]
  },
  {
   "cell_type": "code",
   "execution_count": 36,
   "metadata": {},
   "outputs": [
    {
     "name": "stdout",
     "output_type": "stream",
     "text": [
      "0\n",
      "1\n",
      "2\n",
      "3\n",
      "4\n"
     ]
    }
   ],
   "source": [
    "for i in range(5):\n",
    "    print(i)"
   ]
  },
  {
   "cell_type": "code",
   "execution_count": 37,
   "metadata": {},
   "outputs": [
    {
     "name": "stdout",
     "output_type": "stream",
     "text": [
      "0 3 6 9 12 15 18 21 24 27 "
     ]
    }
   ],
   "source": [
    "for i in range(0, 30, 3): \n",
    "    print(i, end = \" \")"
   ]
  },
  {
   "cell_type": "code",
   "execution_count": 39,
   "metadata": {},
   "outputs": [
    {
     "name": "stdout",
     "output_type": "stream",
     "text": [
      "-15 -11 -7 -3 1 5 9 13 "
     ]
    }
   ],
   "source": [
    "for i in range(-15, +15, 4): \n",
    "    print(i, end = \" \")"
   ]
  },
  {
   "cell_type": "code",
   "execution_count": 40,
   "metadata": {},
   "outputs": [
    {
     "name": "stdout",
     "output_type": "stream",
     "text": [
      "1 cube is 1\n",
      "2 cube is 8\n",
      "3 cube is 27\n",
      "4 cube is 64\n",
      "5 cube is 125\n",
      "6 cube is 216\n"
     ]
    }
   ],
   "source": [
    "for my_num in range(1, 7):\n",
    "    print(my_num, \"cube is\", my_num ** 3) "
   ]
  },
  {
   "cell_type": "code",
   "execution_count": 42,
   "metadata": {},
   "outputs": [
    {
     "name": "stdout",
     "output_type": "stream",
     "text": [
      "[5, 7, 8, 9, 11, 12, 13, 15, 16, 17, 19]\n"
     ]
    }
   ],
   "source": [
    "my_list = []\n",
    "\n",
    "for i in range(5, 20):\n",
    "    \n",
    "    if (i % 2 or i % 4 == 0):\n",
    "        my_list.append(i)\n",
    "        \n",
    "print(my_list) "
   ]
  }
 ],
 "metadata": {
  "kernelspec": {
   "display_name": "Python 3",
   "language": "python",
   "name": "python3"
  },
  "language_info": {
   "codemirror_mode": {
    "name": "ipython",
    "version": 3
   },
   "file_extension": ".py",
   "mimetype": "text/x-python",
   "name": "python",
   "nbconvert_exporter": "python",
   "pygments_lexer": "ipython3",
   "version": "3.12.1"
  }
 },
 "nbformat": 4,
 "nbformat_minor": 2
}
