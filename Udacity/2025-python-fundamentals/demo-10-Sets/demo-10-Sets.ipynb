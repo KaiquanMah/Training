{
 "cells": [
  {
   "cell_type": "markdown",
   "metadata": {},
   "source": [
    "# Extra\n",
    "\n",
    "| Feature | List (`[]`) | Tuple (`()`) | Set (`{}`) |\n",
    "| :--- | :--- | :--- | :--- |\n",
    "| **Mutability** | **Mutable** (Changeable) | **Immutable** (Unchangeable) | **Mutable** (Changeable) |\n",
    "| **Order** | **Ordered** (Sequence is maintained) | **Ordered** (Sequence is maintained) | **Unordered** (No defined index/sequence) |\n",
    "| **Indexing** | **Yes** (e.g., `my_list[0]`) | **Yes** (e.g., `my_tuple[0]`) | **No** (Elements retrieved one by one) |\n",
    "| **Duplicates** | **Allowed** | **Allowed** | **Not Allowed** (Must contain unique elements) |\n",
    "| **Adding Elements**| **Yes** (e.g., `append()`, `insert()`) | **No** (Must create a new tuple) | **Yes** (e.g., `add()`, `update()`) |"
   ]
  },
  {
   "cell_type": "markdown",
   "metadata": {},
   "source": [
    "# Set\n",
    "- MUTABLE - can add/update elements\n",
    "- BUT their ELEMENTS (WHEN ADDING to the set) MUST BE IMMUTABLE"
   ]
  },
  {
   "cell_type": "code",
   "execution_count": 1,
   "metadata": {},
   "outputs": [
    {
     "data": {
      "text/plain": [
       "set()"
      ]
     },
     "execution_count": 1,
     "metadata": {},
     "output_type": "execute_result"
    }
   ],
   "source": [
    "my_set = set()\n",
    "\n",
    "my_set"
   ]
  },
  {
   "cell_type": "code",
   "execution_count": 1,
   "metadata": {},
   "outputs": [
    {
     "data": {
      "text/plain": [
       "{'Mary', 'Nina', 'Nora', 'Scott'}"
      ]
     },
     "execution_count": 1,
     "metadata": {},
     "output_type": "execute_result"
    }
   ],
   "source": [
    "names_set = {\"Mary\", \"Nora\", \"Nina\", \"Scott\"}\n",
    "\n",
    "names_set"
   ]
  },
  {
   "cell_type": "code",
   "execution_count": 2,
   "metadata": {},
   "outputs": [
    {
     "data": {
      "text/plain": [
       "set"
      ]
     },
     "execution_count": 2,
     "metadata": {},
     "output_type": "execute_result"
    }
   ],
   "source": [
    "type(names_set)"
   ]
  },
  {
   "cell_type": "code",
   "execution_count": null,
   "metadata": {},
   "outputs": [
    {
     "ename": "TypeError",
     "evalue": "'set' object is not subscriptable",
     "output_type": "error",
     "traceback": [
      "\u001b[31m---------------------------------------------------------------------------\u001b[39m",
      "\u001b[31mTypeError\u001b[39m                                 Traceback (most recent call last)",
      "\u001b[36mCell\u001b[39m\u001b[36m \u001b[39m\u001b[32mIn[3]\u001b[39m\u001b[32m, line 1\u001b[39m\n\u001b[32m----> \u001b[39m\u001b[32m1\u001b[39m \u001b[43mnames_set\u001b[49m\u001b[43m[\u001b[49m\u001b[32;43m0\u001b[39;49m\u001b[43m]\u001b[49m\n",
      "\u001b[31mTypeError\u001b[39m: 'set' object is not subscriptable"
     ]
    }
   ],
   "source": [
    "# set - cannot retrieve elements using indexing\n",
    "names_set[0]"
   ]
  },
  {
   "cell_type": "code",
   "execution_count": null,
   "metadata": {},
   "outputs": [
    {
     "data": {
      "text/plain": [
       "{'Mary', 'Nina', 'Nora', 'Scott'}"
      ]
     },
     "execution_count": 5,
     "metadata": {},
     "output_type": "execute_result"
    }
   ],
   "source": [
    "# qn: why is a set unordered but actually a set returns elements in ascending sort?\n",
    "# \"unordered\" for a Python set means\n",
    "#     the data structure does NOT PRESERVE INSERTION ORDER AND\n",
    "#     the data structure does NOT SUPPORT INDEXING (e.g., my_set[0])\n",
    "# Hashing: A set is built on a hash table. When an element is added, its hash value determines where it's stored in memory. This storage location is chosen for efficiency, not for maintaining a sequential order relative to other elements.\n",
    "# No Indexing: Since there is no guaranteed sequence, accessing elements via an index is impossible. The primary purpose of a set is fast membership testing (element in my_set).\n",
    "\n",
    "# Why Elements Can Appear Sorted (The Side Effect)\n",
    "# The appearance of ascending order is often due to the fact that Python's hash function for numbers (integers and floats) and sometimes strings often results in a hash value that is close to the value of the object itself.\n",
    "# small set: When you iterate over a small or simple set (e.g., print(set({5, 1, 3}))), Python simply walks through the structure of the hash table. If the data types and sizes are simple, the order in which Python retrieves them from these slots might just happen to be sorted.\n",
    "# Key Takeaway: You should never rely on a Python set to maintain a sorted order. This behavior is implementation-dependent and can change based on Python version, the size of the set, the data types, and even factors like the insertion history or memory address of the objects.\n",
    "\n",
    "# SO THE SET 'APPEARS' SORTED\n",
    "# BUT MAY ACTUALLY NOT BE SORTED\n",
    "# If you need a collection that is both unique and ordered, you should convert the set to a list and explicitly sort it: sorted(my_set).\n",
    "names_set = {\"Mary\", \"Nora\", \"Nina\", \"Scott\", \"Nora\", \"Nina\"}\n",
    "\n",
    "names_set"
   ]
  },
  {
   "cell_type": "code",
   "execution_count": 6,
   "metadata": {},
   "outputs": [
    {
     "data": {
      "text/plain": [
       "{10, 50.5, 'Alex', True}"
      ]
     },
     "execution_count": 6,
     "metadata": {},
     "output_type": "execute_result"
    }
   ],
   "source": [
    "mixed_set = {\"Alex\", 10, 50.5, True}\n",
    "\n",
    "mixed_set"
   ]
  },
  {
   "cell_type": "code",
   "execution_count": null,
   "metadata": {},
   "outputs": [
    {
     "data": {
      "text/plain": [
       "{(1, 2, 3), 10, 50.5, 'Alex', True}"
      ]
     },
     "execution_count": 7,
     "metadata": {},
     "output_type": "execute_result"
    }
   ],
   "source": [
    "# set - can have 'immutable tuple' as an element\n",
    "another_mixed_set = {\"Alex\", 10, 50.5, True, (1,2,3)}\n",
    "\n",
    "another_mixed_set"
   ]
  },
  {
   "cell_type": "code",
   "execution_count": null,
   "metadata": {},
   "outputs": [
    {
     "ename": "TypeError",
     "evalue": "unhashable type: 'list'",
     "output_type": "error",
     "traceback": [
      "\u001b[0;31m---------------------------------------------------------------------------\u001b[0m",
      "\u001b[0;31mTypeError\u001b[0m                                 Traceback (most recent call last)",
      "\u001b[0;32m<ipython-input-8-86a24bd88b74>\u001b[0m in \u001b[0;36m<module>\u001b[0;34m\u001b[0m\n\u001b[0;32m----> 1\u001b[0;31m \u001b[0manother_mixed_set\u001b[0m \u001b[0;34m=\u001b[0m \u001b[0;34m{\u001b[0m\u001b[0;34m\"Alex\"\u001b[0m\u001b[0;34m,\u001b[0m \u001b[0;36m10\u001b[0m\u001b[0;34m,\u001b[0m \u001b[0;36m50.5\u001b[0m\u001b[0;34m,\u001b[0m \u001b[0;32mTrue\u001b[0m\u001b[0;34m,\u001b[0m \u001b[0;34m[\u001b[0m\u001b[0;36m1\u001b[0m\u001b[0;34m,\u001b[0m\u001b[0;36m2\u001b[0m\u001b[0;34m,\u001b[0m\u001b[0;36m3\u001b[0m\u001b[0;34m]\u001b[0m\u001b[0;34m}\u001b[0m\u001b[0;34m\u001b[0m\u001b[0;34m\u001b[0m\u001b[0m\n\u001b[0m\u001b[1;32m      2\u001b[0m \u001b[0;34m\u001b[0m\u001b[0m\n\u001b[1;32m      3\u001b[0m \u001b[0manother_mixed_set\u001b[0m\u001b[0;34m\u001b[0m\u001b[0;34m\u001b[0m\u001b[0m\n",
      "\u001b[0;31mTypeError\u001b[0m: unhashable type: 'list'"
     ]
    }
   ],
   "source": [
    "# set - can NOT have 'mutable list' as an element\n",
    "# because\n",
    "# set depends on hashing/hash table to add/check membership of elements\n",
    "# hashing depends on immutable elements -> then calculate hash value\n",
    "#         unique hash value per set element\n",
    "#         store element in the hash table at that hash value's location\n",
    "#         => if element changes, hash value needs to change -> then set cannot find element at the orig hash location\n",
    "#         => so instead, python forbids this to happen => and requires set elements to be immutable\n",
    "another_mixed_set = {\"Alex\", 10, 50.5, True, [1,2,3]}\n",
    "\n",
    "another_mixed_set"
   ]
  },
  {
   "cell_type": "code",
   "execution_count": 1,
   "metadata": {},
   "outputs": [
    {
     "data": {
      "text/plain": [
       "{'Apple', 'Asus', 'Dell', 'HP', 'Lenovo', 'MSI', 'Toshiba'}"
      ]
     },
     "execution_count": 1,
     "metadata": {},
     "output_type": "execute_result"
    }
   ],
   "source": [
    "laptop_set = {\"HP\", \"Apple\", \"Dell\", \"Asus\", \"Lenovo\", \"MSI\", \"Toshiba\"}\n",
    "\n",
    "laptop_set"
   ]
  },
  {
   "cell_type": "code",
   "execution_count": 2,
   "metadata": {},
   "outputs": [
    {
     "data": {
      "text/plain": [
       "{'Apple', 'Asus', 'Dell', 'Genpact', 'HP', 'Lenovo', 'MSI', 'Toshiba'}"
      ]
     },
     "execution_count": 2,
     "metadata": {},
     "output_type": "execute_result"
    }
   ],
   "source": [
    "laptop_set.add(\"Genpact\")\n",
    "\n",
    "laptop_set"
   ]
  },
  {
   "cell_type": "code",
   "execution_count": null,
   "metadata": {},
   "outputs": [
    {
     "data": {
      "text/plain": [
       "{'Apple', 'Asus', 'Dell', 'Genpact', 'HP', 'Lenovo', 'MSI', 'Toshiba'}"
      ]
     },
     "execution_count": 3,
     "metadata": {},
     "output_type": "execute_result"
    }
   ],
   "source": [
    "# 'Apple' was already in the set\n",
    "# so the new 'Apple' was not added to the existing set\n",
    "laptop_set.add(\"Apple\")\n",
    "\n",
    "laptop_set"
   ]
  },
  {
   "cell_type": "code",
   "execution_count": 4,
   "metadata": {},
   "outputs": [
    {
     "data": {
      "text/plain": [
       "{'Apple', 'Asus', 'Genpact', 'HP', 'Lenovo', 'MSI', 'Toshiba'}"
      ]
     },
     "execution_count": 4,
     "metadata": {},
     "output_type": "execute_result"
    }
   ],
   "source": [
    "laptop_set.discard('Dell')\n",
    "\n",
    "laptop_set"
   ]
  },
  {
   "cell_type": "code",
   "execution_count": 5,
   "metadata": {},
   "outputs": [
    {
     "data": {
      "text/plain": [
       "{'Apple', 'Asus', 'Genpact', 'HP', 'Lenovo', 'MSI', 'Toshiba'}"
      ]
     },
     "execution_count": 5,
     "metadata": {},
     "output_type": "execute_result"
    }
   ],
   "source": [
    "# discard 'an element that does not exist' from a set - do nothing\n",
    "laptop_set.discard('Dell')\n",
    "\n",
    "laptop_set"
   ]
  },
  {
   "cell_type": "code",
   "execution_count": null,
   "metadata": {},
   "outputs": [
    {
     "data": {
      "text/plain": [
       "{'Apple', 'Asus', 'Genpact', 'HP', 'MSI', 'Toshiba'}"
      ]
     },
     "execution_count": 6,
     "metadata": {},
     "output_type": "execute_result"
    }
   ],
   "source": [
    "laptop_set.remove('Lenovo')\n",
    "\n",
    "laptop_set"
   ]
  },
  {
   "cell_type": "code",
   "execution_count": 7,
   "metadata": {},
   "outputs": [
    {
     "ename": "KeyError",
     "evalue": "'Lenovo'",
     "output_type": "error",
     "traceback": [
      "\u001b[31m---------------------------------------------------------------------------\u001b[39m",
      "\u001b[31mKeyError\u001b[39m                                  Traceback (most recent call last)",
      "\u001b[36mCell\u001b[39m\u001b[36m \u001b[39m\u001b[32mIn[7]\u001b[39m\u001b[32m, line 2\u001b[39m\n\u001b[32m      1\u001b[39m \u001b[38;5;66;03m# reove 'an element that does not exist' from a set - throw an error\u001b[39;00m\n\u001b[32m----> \u001b[39m\u001b[32m2\u001b[39m \u001b[43mlaptop_set\u001b[49m\u001b[43m.\u001b[49m\u001b[43mremove\u001b[49m\u001b[43m(\u001b[49m\u001b[33;43m'\u001b[39;49m\u001b[33;43mLenovo\u001b[39;49m\u001b[33;43m'\u001b[39;49m\u001b[43m)\u001b[49m\n\u001b[32m      4\u001b[39m laptop_set\n",
      "\u001b[31mKeyError\u001b[39m: 'Lenovo'"
     ]
    }
   ],
   "source": [
    "# reove 'an element that does not exist' from a set - throw an error\n",
    "laptop_set.remove('Lenovo')\n",
    "\n",
    "laptop_set"
   ]
  },
  {
   "cell_type": "code",
   "execution_count": 8,
   "metadata": {},
   "outputs": [],
   "source": [
    "student_set_1 = {\"Anita\", \"Emma\"}\n",
    "\n",
    "student_set_2 = {\"James\", \"Olivia\"}\n",
    "\n",
    "student_set_3 = {\"James\", \"Anita\"}"
   ]
  },
  {
   "cell_type": "code",
   "execution_count": 9,
   "metadata": {},
   "outputs": [
    {
     "data": {
      "text/plain": [
       "{'Anita', 'Emma', 'James', 'Olivia'}"
      ]
     },
     "execution_count": 9,
     "metadata": {},
     "output_type": "execute_result"
    }
   ],
   "source": [
    "student_set_1.union(student_set_2)"
   ]
  },
  {
   "cell_type": "code",
   "execution_count": null,
   "metadata": {},
   "outputs": [
    {
     "data": {
      "text/plain": [
       "{'Anita', 'Emma'}"
      ]
     },
     "execution_count": 10,
     "metadata": {},
     "output_type": "execute_result"
    }
   ],
   "source": [
    "# student_set_1 remains as it is\n",
    "student_set_1"
   ]
  },
  {
   "cell_type": "code",
   "execution_count": 11,
   "metadata": {},
   "outputs": [
    {
     "data": {
      "text/plain": [
       "{'James'}"
      ]
     },
     "execution_count": 11,
     "metadata": {},
     "output_type": "execute_result"
    }
   ],
   "source": [
    "student_set_2.intersection(student_set_3)"
   ]
  },
  {
   "cell_type": "code",
   "execution_count": null,
   "metadata": {},
   "outputs": [
    {
     "data": {
      "text/plain": [
       "{'Emma'}"
      ]
     },
     "execution_count": 21,
     "metadata": {},
     "output_type": "execute_result"
    }
   ],
   "source": [
    "# set1 minus set3\n",
    "student_set_1.difference(student_set_3)"
   ]
  },
  {
   "cell_type": "code",
   "execution_count": 13,
   "metadata": {},
   "outputs": [
    {
     "data": {
      "text/plain": [
       "True"
      ]
     },
     "execution_count": 13,
     "metadata": {},
     "output_type": "execute_result"
    }
   ],
   "source": [
    "# isdisjoint => mutually exclusive\n",
    "{1, 2, 3}.isdisjoint({4, 5, 6})"
   ]
  },
  {
   "cell_type": "code",
   "execution_count": 14,
   "metadata": {},
   "outputs": [
    {
     "data": {
      "text/plain": [
       "True"
      ]
     },
     "execution_count": 14,
     "metadata": {},
     "output_type": "execute_result"
    }
   ],
   "source": [
    "{10, 20}.issubset({10, 20, 30})"
   ]
  },
  {
   "cell_type": "code",
   "execution_count": 15,
   "metadata": {},
   "outputs": [
    {
     "data": {
      "text/plain": [
       "True"
      ]
     },
     "execution_count": 15,
     "metadata": {},
     "output_type": "execute_result"
    }
   ],
   "source": [
    "{10, 20, 30}.issuperset({10, 20})"
   ]
  },
  {
   "cell_type": "code",
   "execution_count": 12,
   "metadata": {},
   "outputs": [],
   "source": [
    "names_list = [\"Mary\", \"Nora\", \"Nina\", \"Scott\", \"Nora\", \"Nina\"]\n",
    "\n",
    "names_tuple = (\"Mary\", \"Nora\", \"Nina\", \"Scott\", \"Nora\", \"Nina\")"
   ]
  },
  {
   "cell_type": "code",
   "execution_count": null,
   "metadata": {},
   "outputs": [
    {
     "data": {
      "text/plain": [
       "{'Mary', 'Nina', 'Nora', 'Scott'}"
      ]
     },
     "execution_count": 16,
     "metadata": {},
     "output_type": "execute_result"
    }
   ],
   "source": [
    "# list to set\n",
    "names_list_to_set = set(names_list)\n",
    "\n",
    "names_list_to_set"
   ]
  },
  {
   "cell_type": "code",
   "execution_count": null,
   "metadata": {},
   "outputs": [
    {
     "data": {
      "text/plain": [
       "{'Mary', 'Nina', 'Nora', 'Scott'}"
      ]
     },
     "execution_count": 17,
     "metadata": {},
     "output_type": "execute_result"
    }
   ],
   "source": [
    "# tuple to set\n",
    "names_tuple_to_set = set(names_tuple)\n",
    "\n",
    "names_tuple_to_set"
   ]
  },
  {
   "cell_type": "markdown",
   "metadata": {},
   "source": [
    "### Coding practice\n",
    "\n",
    "- Create a set of 4 colors and add 2 new colors to the set.\n",
    "- Add an existing color and show that the set does not contain duplicates\n"
   ]
  },
  {
   "cell_type": "code",
   "execution_count": null,
   "metadata": {},
   "outputs": [],
   "source": [
    "colours = {\"red\", \"green\", \"blue\", \"yellow\"}"
   ]
  },
  {
   "cell_type": "code",
   "execution_count": 22,
   "metadata": {},
   "outputs": [
    {
     "data": {
      "text/plain": [
       "{'blue', 'cyan', 'green', 'magenta', 'red', 'yellow'}"
      ]
     },
     "execution_count": 22,
     "metadata": {},
     "output_type": "execute_result"
    }
   ],
   "source": [
    "colours.add(\"cyan\")\n",
    "colours.add(\"magenta\")\n",
    "colours"
   ]
  },
  {
   "cell_type": "code",
   "execution_count": null,
   "metadata": {},
   "outputs": [
    {
     "data": {
      "text/plain": [
       "{'blue', 'cyan', 'green', 'magenta', 'red', 'yellow'}"
      ]
     },
     "execution_count": 23,
     "metadata": {},
     "output_type": "execute_result"
    }
   ],
   "source": [
    "# add duplicate colours - do nothing\n",
    "colours.add(\"cyan\")\n",
    "colours.add(\"magenta\")\n",
    "colours"
   ]
  },
  {
   "cell_type": "markdown",
   "metadata": {},
   "source": [
    "### Coding practice\n",
    "\n",
    "- Create a set of 5 countries and remove one country by its name."
   ]
  },
  {
   "cell_type": "code",
   "execution_count": null,
   "metadata": {},
   "outputs": [],
   "source": [
    "countries = {\"sg\", \"my\", \"id\", \"th\", \"vn\"}"
   ]
  },
  {
   "cell_type": "code",
   "execution_count": 25,
   "metadata": {},
   "outputs": [],
   "source": [
    "countries.remove(\"sg\")"
   ]
  },
  {
   "cell_type": "code",
   "execution_count": 26,
   "metadata": {},
   "outputs": [
    {
     "data": {
      "text/plain": [
       "{'id', 'my', 'th', 'vn'}"
      ]
     },
     "execution_count": 26,
     "metadata": {},
     "output_type": "execute_result"
    }
   ],
   "source": [
    "countries"
   ]
  },
  {
   "cell_type": "markdown",
   "metadata": {},
   "source": [
    "### Coding practice\n",
    "\n",
    "- Create two sets of 3 car brands each \n",
    "- Find the union of these sets\n",
    "- Find the intersection\n",
    "- Find the difference"
   ]
  },
  {
   "cell_type": "code",
   "execution_count": 28,
   "metadata": {},
   "outputs": [],
   "source": [
    "cars1 = {\"bougie\", \"bm\", \"merc\", \"volvo\"}\n",
    "cars2 = {\"byd\", \"tesla\", \"volvo\"}"
   ]
  },
  {
   "cell_type": "code",
   "execution_count": 29,
   "metadata": {},
   "outputs": [
    {
     "data": {
      "text/plain": [
       "{'bm', 'bougie', 'byd', 'merc', 'tesla', 'volvo'}"
      ]
     },
     "execution_count": 29,
     "metadata": {},
     "output_type": "execute_result"
    }
   ],
   "source": [
    "cars1.union(cars2)"
   ]
  },
  {
   "cell_type": "code",
   "execution_count": 30,
   "metadata": {},
   "outputs": [
    {
     "data": {
      "text/plain": [
       "{'volvo'}"
      ]
     },
     "execution_count": 30,
     "metadata": {},
     "output_type": "execute_result"
    }
   ],
   "source": [
    "cars1.intersection(cars2)"
   ]
  },
  {
   "cell_type": "code",
   "execution_count": 32,
   "metadata": {},
   "outputs": [
    {
     "data": {
      "text/plain": [
       "{'byd', 'tesla'}"
      ]
     },
     "execution_count": 32,
     "metadata": {},
     "output_type": "execute_result"
    }
   ],
   "source": [
    "cars2.difference(cars1)"
   ]
  }
 ],
 "metadata": {
  "kernelspec": {
   "display_name": "Python 3",
   "language": "python",
   "name": "python3"
  },
  "language_info": {
   "codemirror_mode": {
    "name": "ipython",
    "version": 3
   },
   "file_extension": ".py",
   "mimetype": "text/x-python",
   "name": "python",
   "nbconvert_exporter": "python",
   "pygments_lexer": "ipython3",
   "version": "3.12.1"
  }
 },
 "nbformat": 4,
 "nbformat_minor": 2
}
